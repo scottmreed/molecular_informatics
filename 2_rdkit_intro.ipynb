{
 "cells": [
  {
   "cell_type": "markdown",
   "id": "759839d5-9db5-46bd-ab96-ec04e0d49273",
   "metadata": {},
   "source": [
    "Adapted from Chapter 15 of https://github.com/weisscharlesj/SciCompforChemists.git\n",
    "\n",
    "# Cheminformatics with RDKit\n",
    "\n",
    "This chapter introduces a popular and versatile Python cheminformatics library known as RDKit which is useful for tasks such as:\n",
    "\n",
    "- Visualizing molecules\n",
    "- Reading SMILES or InChI molecular representations\n",
    "- Quantifying structural features in molecules such as number of rings or hydrogen bond donors\n",
    "- Generating all possible stereoisomers of a molecular structure\n",
    "- Filtering molecules based on structural features\n",
    "\n",
    "This is a popular library for those in chemical computing research with examples of its use being relatively easy to find in the chemical literature. As of this writing, RDKit can be installed with either conda or pip (see [section 0.2.1](0.2.1) and link below). If you are using Google Colab, you will need to install RDKit at the top of your notebook (see [section 0.2.2](0.2.2)) as it is not installed by default in Colab.\n"
   ]
  },
  {
   "cell_type": "code",
   "execution_count": null,
   "id": "43e9a418-2648-4d55-98a1-2b1a95be29b0",
   "metadata": {
    "ExecuteTime": {
     "end_time": "2024-09-03T16:48:47.461480Z",
     "start_time": "2024-09-03T16:48:44.841470Z"
    },
    "editable": true,
    "slideshow": {
     "slide_type": ""
    },
    "tags": []
   },
   "outputs": [],
   "source": [
    "from rdkit import Chem\n",
    "from rdkit.Chem import AllChem\n",
    "import os\n",
    "import pandas as pd\n",
    "import numpy as np\n",
    "import matplotlib.pyplot as plt\n"
   ]
  },
  {
   "cell_type": "markdown",
   "id": "61505276-db8d-4a43-b057-a8e22b4e70aa",
   "metadata": {
    "editable": true,
    "slideshow": {
     "slide_type": ""
    },
    "tags": []
   },
   "source": [
    "RDKit is composed of a number of modules including, but not limited to, the following.\n",
    "\n",
    "**Table 1** Key Modules and Submodules in the RDKit Library\n",
    "| Module/Submodule      | Description                |\n",
    "|:-----------:|:---------------------------|\n",
    "|`Chem`       |General purpose tools for chemistry. The [RDKit website](https://www.rdkit.org/docs/source/rdkit.Chem.html#module-rdkit.Chem) describes it as \"A module for molecules and stuff\". |\n",
    "|`Chem.AllChem` | Submodule containing more specialized or less often used features; needs to be imported separatly from `Chem` |\n",
    "|`Chem.Descriptors` | Submodule for quantifying molecular features | \n",
    "|`Chem.Draw` | Submodule for visualizing molecules |\n",
    "|`ML`         |Machine learning tools      |\n",
    "\n",
    "The `Chem` and `ML` modules are the major modules in RDKit, but for this chapter, we will only be focusing on the `Chem` module which has already been imported above."
   ]
  },
  {
   "cell_type": "markdown",
   "id": "aac35105-5e74-4010-8f51-38aa14f1b8aa",
   "metadata": {},
   "source": [
    "## 15.1 Loading Molecular Representations into RDKit\n",
    "\n",
    "```{index} SMILES\n",
    "```\n",
    "```{index} InChI\n",
    "```\n",
    "\n",
    "There are many ways to depict molecular structures on paper such as Lewis structures, line-angle structural formulas, and condensed notation. When representing molecules for a computer, machine-readable methods such as Simplified Molecular-Input Line-Entry System (SMILES), the International Chemical Identifier (InChI), or mol files are preferred. For example, the SMILES and InChI representations for benzene are listed below.\n",
    "\n",
    "    SMILES: c1ccccc1\n",
    "\n",
    "    InChI: 1S/C6H6/c1-2-4-6-5-3-1/h1-6H\n",
    "\n",
    "These are not the most human-readable formats, but computer software such as RDKit is quite good at dealing with them. We will not get into the structure and rules for interpreting these representations here because it is not really neccesary; reading and writing them is RDKit's job. You can obtain these representations of a molecular structure from a variety of sources such as generating them from chemical drawing software (e.g., ChemDraw or ChemDoodle), searching [NIST Chemical Webbook](https://webbook.nist.gov/chemistry/) or [NIH PubChem](https://pubchem.ncbi.nlm.nih.gov/), and many other sources. In this chapter, we will mainly focus on SMILES representations, but working with the InChI and MOL file formats is analogous and may be used from time-to-time herein."
   ]
  },
  {
   "cell_type": "markdown",
   "id": "b1d70bea-a936-4df0-a6cc-97ff4c02b855",
   "metadata": {},
   "source": [
    "The functions below can read and write molecular structures from a variety of formats including SMILES, InChI, and MOL files. When reading these molecular structures, a Molecule object (RDKit-specific class of object) is generated. \n",
    "\n",
    "**Table 2** Functions for Loading Molecular Structures\n",
    "| Function      | Description                |\n",
    "|:-------------:|---------------------------|\n",
    "|`Chem.MolFromSmiles()`   | Generates a Molecule object from SMILES representation |\n",
    "|`Chem.MolToSmiles()` | Generates SMILES representation from a Molecule object |\n",
    "|`Chem.inchi.MolFromInchi()` | Generates a Molecule object from InChI representation |\n",
    "|`Chem.inchi.MolToInchi()` | Generates InChI representation from a Molecule object |\n",
    "|`MolFromMolFile()` | Generates a Molecule object from a MOL file |\n",
    "\n",
    "As an example, we will load the structure of aspirin (acetylsalicylic acid) using the `Chem.MolFromSmiles()` function from the `Chem` module."
   ]
  },
  {
   "cell_type": "code",
   "execution_count": null,
   "id": "cf62997f-6e26-408a-a0e6-da265be4a5fd",
   "metadata": {
    "ExecuteTime": {
     "end_time": "2024-09-03T16:49:06.489905Z",
     "start_time": "2024-09-03T16:49:06.327474Z"
    }
   },
   "outputs": [],
   "source": [
    "aspirin = Chem.MolFromSmiles('O=C(C)Oc1ccccc1C(=O)O')\n",
    "aspirin"
   ]
  },
  {
   "cell_type": "markdown",
   "id": "4b43f107-006a-44f6-9a11-d1af5e4a7fd0",
   "metadata": {},
   "source": [
    "If we check the object type, we find that it is a Molecule (`rdchem.Mol`) RDKit object."
   ]
  },
  {
   "cell_type": "code",
   "execution_count": null,
   "id": "d25fc2e9-9086-4e4b-a0a2-0b9f497ba49e",
   "metadata": {
    "ExecuteTime": {
     "end_time": "2024-09-03T16:49:10.824286Z",
     "start_time": "2024-09-03T16:49:10.695574Z"
    }
   },
   "outputs": [],
   "source": [
    "type(aspirin)"
   ]
  },
  {
   "cell_type": "markdown",
   "id": "12fe626f-2518-452c-9ff4-69ac0ac71a9e",
   "metadata": {},
   "source": [
    "RDKit can generate other molecular representations such as InChI from the Molecule object as demonstrated below."
   ]
  },
  {
   "cell_type": "code",
   "execution_count": null,
   "id": "b6d4ad6a-d68c-4fa8-b52a-83cf9c698f29",
   "metadata": {
    "ExecuteTime": {
     "end_time": "2024-09-03T16:49:17.834004Z",
     "start_time": "2024-09-03T16:49:17.654197Z"
    }
   },
   "outputs": [],
   "source": [
    "Chem.inchi.MolToInchi(aspirin)"
   ]
  },
  {
   "cell_type": "markdown",
   "id": "03f05948-bcc7-4d48-897a-6535b5ee6000",
   "metadata": {},
   "source": [
    "## 2 Visualizing Chemical Structures\n",
    "\n",
    "In the above examples, RDKit provided an image of the molecule simply by Jupyter running the Molecule object. By default, this generates a rather small and low resolution image. To generate a sharper image, like above, running the following code at the top of a notebook changes the settings to produce SVG (Scalable Vector Graphic) images which are a vector graphic format.\n",
    "\n",
    "~~~python\n",
    "from rdkit.Chem.Draw import IPythonConsole\n",
    "IPythonConsole.ipython_useSVG = True\n",
    "~~~\n",
    "\n",
    "### 2.1 Single Chemical Structures\n",
    "\n",
    "However, simply running the Molecule object does not provide easy control over the image. In this section, we will generate images that can be saved along with visualizing grids of molecules and other visual representations."
   ]
  },
  {
   "cell_type": "markdown",
   "id": "e4adf0f2-22ae-4f55-99a8-f1b8efd6c68a",
   "metadata": {},
   "source": [
    "To view the molecule, we can use the `Chem.Draw.MolToImage(Mol)` function which takes one required positional arguments of the Molecule object (`Mol`). Optional keyword arguments can be used to set other parameters such as the image size (`size=`) in pixels. Other defaults can be set with drawOptions."
   ]
  },
  {
   "cell_type": "code",
   "execution_count": null,
   "id": "db5d93a9-f063-4825-970b-bc82359b4b89",
   "metadata": {
    "ExecuteTime": {
     "end_time": "2024-09-03T16:49:40.612459Z",
     "start_time": "2024-09-03T16:49:40.452617Z"
    }
   },
   "outputs": [],
   "source": [
    "from rdkit.Chem.Draw import IPythonConsole\n",
    "IPythonConsole.ipython_useSVG = True\n",
    "IPythonConsole.drawOptions.addAtomIndices = False\n",
    "IPythonConsole.drawOptions.addStereoAnnotation = False\n",
    "Chem.Draw.MolToImage(aspirin, size=(400,400))"
   ]
  },
  {
   "cell_type": "markdown",
   "id": "973f1781-81ee-4914-9594-9e0f51b36548",
   "metadata": {},
   "source": [
    "If we want to save the image to a file, this is accomplished using the `Chem.Draw.MolToFile()` function which requires two pieces of information - the Molecule object and the name of the new file as a string.\n",
    "\n",
    "~~~python\n",
    "Chem.Draw.MolToFile(mol_object, 'file_name.png', size=(width, height), imageType='png')\n",
    "~~~\n",
    "\n",
    "Other optional parameters include the `size=` which is a tuple that takes the width and height, respectively, in pixels, and the `imageType=` accepts a string to designate the file format ('png' or 'svg').\n",
    "\n",
    "````{margin}\n",
    "```{note}\n",
    "The PNG file formate is a great general-purpose raster file format. Unless you know you need a different file format, this is often a good choice. The SVG file format is a vector format which makes it easily editable in software applications such as [Inkscape](https://inkscape.org/).\n",
    "```\n",
    "````"
   ]
  },
  {
   "cell_type": "markdown",
   "id": "4866c02c-3b9c-4278-8d52-42b6f57cd49c",
   "metadata": {},
   "source": [
    "````{margin}\n",
    "```{note} \n",
    "It is important that the extension (e.g., \".png\") matches the `imageType=` argument or else your computer may have difficulties opening the file.\n",
    "```\n",
    "````"
   ]
  },
  {
   "cell_type": "code",
   "execution_count": null,
   "id": "4e77206b-51b2-411e-9d65-054845bc2809",
   "metadata": {
    "ExecuteTime": {
     "end_time": "2024-09-03T16:49:49.397114Z",
     "start_time": "2024-09-03T16:49:49.343494Z"
    }
   },
   "outputs": [],
   "source": [
    "Chem.Draw.MolToFile(aspirin, 'aspirin.svg',\n",
    "                    size=(500,500),\n",
    "                    imageType='svg')"
   ]
  },
  {
   "cell_type": "markdown",
   "id": "d420bf07-3264-400a-b7d9-9fa8399b371b",
   "metadata": {},
   "source": [
    "Molecules can also be displayed in plots created by matplotlib. Below is an example of the *trans*-cinnamic acid structure being displayed on top of the IR spectrum of the compound."
   ]
  },
  {
   "cell_type": "code",
   "execution_count": null,
   "id": "3760a160-ac78-43f0-ba83-50da85b89298",
   "metadata": {
    "ExecuteTime": {
     "end_time": "2024-09-03T16:49:52.931273Z",
     "start_time": "2024-09-03T16:49:52.789777Z"
    }
   },
   "outputs": [],
   "source": [
    "cinn_acid = Chem.MolFromSmiles('O=C(O)\\C=C\\c1ccccc1')\n",
    "image = Chem.Draw.MolToImage(cinn_acid)"
   ]
  },
  {
   "cell_type": "code",
   "execution_count": null,
   "id": "5f1c169d-966a-4676-9df5-c60172c9b140",
   "metadata": {
    "ExecuteTime": {
     "end_time": "2024-09-03T16:49:56.156205Z",
     "start_time": "2024-09-03T16:49:54.999456Z"
    }
   },
   "outputs": [],
   "source": [
    "data_folder = os.path.join('data')\n",
    "file_path = os.path.join(data_folder, 'cinnamic_acid.CSV')\n",
    "IR = np.genfromtxt(file_path, delimiter=',')\n",
    "\n",
    "plt.figure(figsize=(8,4))\n",
    "plt.plot(IR[:-1,0], IR[:-1,1])\n",
    "plt.gca().invert_xaxis()\n",
    "plt.xlabel('Wavenumbers, cm$^{-1}$')\n",
    "plt.ylabel('%, Transmittance')\n",
    "\n",
    "ax = plt.axes([0.15, 0.2, 0.48, 0.35], frameon=False)\n",
    "ax.axis('off')\n",
    "ax.imshow(image)"
   ]
  },
  {
   "cell_type": "markdown",
   "id": "10f01ffe-424c-471a-b093-5afdab81b000",
   "metadata": {},
   "source": [
    "### 2.2 Grids of Chemical Structures\n",
    "\n",
    "Whenever we are dealing with collections of molecules, it may be helpful to generate an image that includes multiple molecular structures known as a grid. As an example, we will load the SMILES strings of the twenty common amino acids from a text file using pandas and then load the Molecule objects for each structure into a single list called `AminoAcids`."
   ]
  },
  {
   "cell_type": "code",
   "execution_count": null,
   "id": "ccabc040-28a6-446a-9eaf-88d501878a51",
   "metadata": {},
   "outputs": [],
   "source": [
    "file_path = os.path.join(data_folder, 'amino_acid_SMILES.txt')\n",
    "df = pd.read_csv(file_path, skiprows=2)\n",
    "df"
   ]
  },
  {
   "cell_type": "code",
   "execution_count": null,
   "id": "73c49ec1-7e27-4091-8c7c-1fcbac5b2789",
   "metadata": {},
   "outputs": [],
   "source": [
    "AminoAcids = [Chem.MolFromSmiles(SMILES) for SMILES in df['SMILES']]\n",
    "AminoAcids"
   ]
  },
  {
   "cell_type": "markdown",
   "id": "b57d99d0-cea1-41b2-9c9a-ed63792134aa",
   "metadata": {},
   "source": [
    "To generate the grid, we will use the `MolsToGridImage()` function from the `Chem.Draw` submodule. This function requires one positional argument of an array-like object (e.g., list, tuple, ndarray, etc.) containing the Molecule objects. Other optional keyword arguments include the number of molecules per row (`molsPerRow=`), the pixel dimensions of each molecule (`subImgSize=`), labels below each molecule (`legends=`), and the ability to make images SVG format (`usesSVG=`). The image dimensions only matter if using a raster image format and requires a tuple with the width and height in that order. The `legends=` argument requires an array-like object with the labels in the same order as the object containing the Molecule objects."
   ]
  },
  {
   "cell_type": "code",
   "execution_count": null,
   "id": "f33a4e33-6943-415f-b8be-c87ad7675535",
   "metadata": {},
   "outputs": [],
   "source": [
    "Chem.Draw.MolsToGridImage(AminoAcids, \n",
    "                          molsPerRow=4,\n",
    "                          subImgSize=(200,200),\n",
    "                          legends=list(df['name']),\n",
    "                          useSVG=True)    "
   ]
  },
  {
   "cell_type": "markdown",
   "id": "3feef84c-e626-4717-9db0-cf2a1b584613",
   "metadata": {},
   "source": [
    "````{margin}\n",
    "```{note}\n",
    "If you're wondering what is up with the `AllChem` submodule, it stores lesser used features separately from the more mainstay features. By storing these features separately, it speeds up importing the main features. However, the extra cost in time is not substatial, and this submodule contains some cool features such as [generating all possible stereoisomers](sec 3.2) and [filtering molecules based on structural features](sec 5).\n",
    "```\n",
    "````"
   ]
  },
  {
   "cell_type": "markdown",
   "id": "bc3026fd-a2ae-4c66-a1ef-b722a9f50530",
   "metadata": {},
   "source": [
    "\n",
    "## 3 Stereochemistry\n",
    "\n",
    "```{index} stereochemistry\n",
    "```\n",
    "```{index} isomers\n",
    "```\n",
    "\n",
    "RDKit can assign the stereochemistry of stereocenters, including chiral centers (*R* vs. *S*) and alkene stereocenters (*E* vs. *Z*), determine the number of isomers possible, and even generate all possible isomers. Whether or not any stereochemistry is designated in the SMILES representation or Molecule object is an important detail in carrying out the above tasks. Even though a molecule may contain a chiral center or an alkene carbon, the stereochemistry around that atom may be ambiguous. \n",
    "\n",
    "The SMILES representation shows stereochemistry around a tetrahedral carbon with either **@** or **@@** and around an alkene with **\\\\** and **/** symbols. If the SMILES representation does not include these symbols, the stereochemistry is not indicated.\n",
    "\n",
    "**Table 3** SMILES Stereochemical Designations\n",
    "| Designation | Alkene |  Chiral sp$^3$ Atom |\n",
    "|:---:|--------------|----------------|\n",
    "|No isomer designation | C(=CC)C | CCC(C)O |\n",
    "|First isomer |C/C=C\\C | CC\\[C@H](C)O |\n",
    "|Second isomer| C/C=C/C |CC\\[C@@H](C)O |"
   ]
  },
  {
   "cell_type": "markdown",
   "id": "c61a338e-cdbe-4cd0-aa04-b19124a063d9",
   "metadata": {},
   "source": [
    "### 3.1 Assigning Stereochemistry\n",
    "\n",
    "The first task is to assign the absolute stereochemistry of a molecule. As an example, below we have a single isomer of pent-3-en-2-ol which has a single chiral center and an alkene that could potentially be either *E* or *Z*. Let's have RDKit tell us the absolute configuration (i.e., *R* or *S*) of the tetrahedral chiral center and if the alkene is *E* or *Z*. First, we will load the SMILES representation of this compound, `O[C@@H](C)/C=C/C`, which contains both **@** and **/** symbols, so we know the stereochemistry is assigned in this representation. When we visualize it below, we can see a wedge for the methyl on the chiral center instead of a regular line, for example."
   ]
  },
  {
   "cell_type": "code",
   "execution_count": null,
   "id": "60894a1a-5b07-476e-9758-6eeefc3bcc7c",
   "metadata": {},
   "outputs": [],
   "source": [
    "pentenol = Chem.MolFromSmiles('O[C@@H](C)/C=C/C')\n",
    "pentenol"
   ]
  },
  {
   "cell_type": "markdown",
   "id": "ac8270fc-4e0f-4a9f-8308-38dccb72ecfc",
   "metadata": {},
   "source": [
    "To obtain the absolute configuration (i.e.,R or S), we can use the `Chem.FindMolChiralCenters()` function which returns the absolute configuration and an index indication which atom has that configuration."
   ]
  },
  {
   "cell_type": "code",
   "execution_count": null,
   "id": "44997d21-7734-4338-8678-db483ba44b80",
   "metadata": {},
   "outputs": [],
   "source": [
    "Chem.FindMolChiralCenters(pentenol)"
   ]
  },
  {
   "cell_type": "markdown",
   "id": "98f4d4f9-4516-49dd-9940-46762e9f6b2d",
   "metadata": {},
   "source": [
    "Our pent-3-en-2-ol isomer above has an *S* stereocenter. Being that pent-3-en-2-ol has only one chiral center, it is not difficult to determine which atom has the stereochemistry, but if there are multiple chiral centers, it can get confusing. To see the atom indices and stereochemistry labels on the molecule, this can be enabled (or disabled using `False`) by the following code.\n",
    "\n",
    "````{margin}\n",
    "```{warning}\n",
    "The index values are assigned by RDKit and are **not** the same thing as the numbers from chemical nomenclature.\n",
    "```\n",
    "````"
   ]
  },
  {
   "cell_type": "code",
   "execution_count": null,
   "id": "7d72c0b3-8552-4998-8ac9-50e6e0515323",
   "metadata": {},
   "outputs": [],
   "source": [
    "IPythonConsole.drawOptions.addAtomIndices = True\n",
    "IPythonConsole.drawOptions.addStereoAnnotation = True"
   ]
  },
  {
   "cell_type": "code",
   "execution_count": null,
   "id": "3932973b-c683-4c93-808c-e1f7f0799449",
   "metadata": {},
   "outputs": [],
   "source": [
    "pentenol"
   ]
  },
  {
   "cell_type": "markdown",
   "id": "bf04cccb-dfd3-41b6-91d9-1ac7474f21b2",
   "metadata": {},
   "source": [
    "To obtain the stereochemistry of double bonds, we can iteration through the bonds and obtain the stereochemistry using the `GetStereo()` bond method as shown below. There are three possible outputs list below.\n",
    "\n",
    "````{margin}\n",
    "```{note}\n",
    "For more information on bond methods, see [section 6](6).\n",
    "```\n",
    "````\n",
    "**Table 4** Bond Stereochemical Designations in RDKit\n",
    "| Ouput | Description |\n",
    "|:------:|   ------------|\n",
    "|STEREONONE | No stereochemistry (often not a double bond) |\n",
    "|STEREOE | *E* stereochemistry |\n",
    "|STEREOZ | *Z* stereochemistry |\n",
    "\n",
    "````{margin}\n",
    "```{note}\n",
    "`STEREONONE` indicates there is no bond stereochemistry which could be the result of a singel or triple bond or it could be the result of the alkene bond has multiple equivalent substituents on the same carbon (e.g., 2-methylpent-2-ene).\n",
    "```\n",
    "````"
   ]
  },
  {
   "cell_type": "code",
   "execution_count": null,
   "id": "9e714e95-79ca-4fe8-bf1c-554010bb22d1",
   "metadata": {},
   "outputs": [],
   "source": [
    "for bond in pentenol.GetBonds():\n",
    "    print(bond.GetStereo())"
   ]
  },
  {
   "cell_type": "markdown",
   "id": "e49384ae-95ff-4840-8e00-0c6993e75c0c",
   "metadata": {},
   "source": [
    "In the above example, there are four bonds with no stereochemistry due to being single bonds, and there is one *E* bond corresponding to the alkene. If there are multiple double bonds, it can be difficult to determine which bond has which stereochemistry. In this case, either use the image like shown above or use additional\n",
    "bond methods (see [section 6](6)) to obtain more information about the bonds.\n",
    "\n",
    "As another example, below we will look at the bonds in 9-*cis*-retinoic acid where we can see examples of all three possible bond stereochemical assignments."
   ]
  },
  {
   "cell_type": "code",
   "execution_count": null,
   "id": "3832829d-45a8-4314-af12-71ec0fdd5d1b",
   "metadata": {},
   "outputs": [],
   "source": [
    "retinoic = Chem.MolFromSmiles('O=C(O)\\C=C(\\C=C\\C=C(/C=C/C1=C(/CCCC1(C)C)C)C)C')\n",
    "\n",
    "for bond in retinoic.GetBonds():\n",
    "    print(bond.GetStereo())"
   ]
  },
  {
   "cell_type": "code",
   "execution_count": null,
   "id": "cccd1b00-bc67-4d43-bd3f-04c8d2acaed1",
   "metadata": {},
   "outputs": [],
   "source": [
    "retinoic"
   ]
  },
  {
   "cell_type": "markdown",
   "id": "e496ec8c-a82b-4d2c-9e1c-a218f0f1f848",
   "metadata": {},
   "source": [
    "### 3.2 Counting and Generating Isomers\n",
    "\n",
    "Another interesting feature of RDKit is the ability to determine the number of stereoisomers possible for a given structure and to generate the different isomers. In both these applications, RDKit treats any explicitly assigned stereocenter as fixed and will not allow it to be changed. For example, below we will again look at (2*S*, 3*E*)-pent-3-en-2-ol. Because the structure already designates this as the (2*S*, 3*E*) isomer, the stereochemistry of the chiral center and alkene cannot be changed. As a result, when using the `GetStereoisomerCount()` method from the `EnumerateStereoisomers` module, it returns a `1` indicating that there is only one stereoisomer possible with these constraints."
   ]
  },
  {
   "cell_type": "code",
   "execution_count": null,
   "id": "a2e24fb8-5925-47a2-9bef-036a97aceba4",
   "metadata": {},
   "outputs": [],
   "source": [
    "Chem.EnumerateStereoisomers.GetStereoisomerCount(pentenol)"
   ]
  },
  {
   "cell_type": "markdown",
   "id": "7f720f67-9d25-438f-9eac-d16a31e75b14",
   "metadata": {},
   "source": [
    "In contrast, if we provide the `GetStereoisomerCount()` function hexan-2-ol without any stereochemistry designated (see [above](15.3)), it returns `2` as the number of stereoisomers. This is because (*S*)-hexan-2-ol and (*R*)-hexan-2-ol are both possible isomers."
   ]
  },
  {
   "cell_type": "code",
   "execution_count": null,
   "id": "3fa20629-ca7f-485b-9cdf-bc42cece5ca1",
   "metadata": {},
   "outputs": [],
   "source": [
    "hexanol = Chem.MolFromSmiles('OC(C)CCCC')\n",
    "Chem.EnumerateStereoisomers.GetStereoisomerCount(hexanol)"
   ]
  },
  {
   "cell_type": "markdown",
   "id": "5672347b-acaa-456f-9374-9bb3a5393a9c",
   "metadata": {},
   "source": [
    "The `EnumerateStereoisomers` module can also generate the different possible isomers, and again, it will only generate isomers by changing stereochemical features that do not already have assigned configurations. If we again look at hexan-2-ol, it generates two Molecule objects which are the two isomers."
   ]
  },
  {
   "cell_type": "code",
   "execution_count": null,
   "id": "4c6d6fd2-9b08-43a5-a1a4-c64c50051bb4",
   "metadata": {},
   "outputs": [],
   "source": [
    "isomers = list(Chem.EnumerateStereoisomers.EnumerateStereoisomers(hexanol))\n",
    "isomers"
   ]
  },
  {
   "cell_type": "code",
   "execution_count": null,
   "id": "976bd9e8-9481-466f-881c-645445779aa5",
   "metadata": {},
   "outputs": [],
   "source": [
    "IPythonConsole.drawOptions.addAtomIndices = False\n",
    "IPythonConsole.drawOptions.addStereoAnnotation = True\n",
    "\n",
    "Chem.Draw.MolsToGridImage(isomers)"
   ]
  },
  {
   "cell_type": "markdown",
   "id": "98057cf7-0289-402e-aeb2-99d885e0e2e8",
   "metadata": {},
   "source": [
    "As a more challenging example, arabinos has three chiral centers allowing for up to eight possible stereoisomers. Because there is a lack of symmetry between the top and bottom (i.e., -CHO and -CH$_2$OH are different), no meso compound can exist, so it will have the full eight stereoisomers. The real challenge lies in drawing out all eight... unless we make RDKit do the work for us like below."
   ]
  },
  {
   "cell_type": "code",
   "execution_count": null,
   "id": "fcc03c1d-a96c-468c-b20b-95e0d0279e5e",
   "metadata": {},
   "outputs": [],
   "source": [
    "arabinos = Chem.MolFromSmiles('O=CC(O)C(O)C(O)CO')\n",
    "isomers = list(Chem.EnumerateStereoisomers.EnumerateStereoisomers(arabinos))\n",
    "Chem.Draw.MolsToGridImage(isomers, useSVG=True)"
   ]
  },
  {
   "cell_type": "markdown",
   "id": "548c34ba-b631-4965-8c54-53185e457c4b",
   "metadata": {},
   "source": [
    "While the examples above mainly focus on stereoisomers from tetrahedral chiral centers, this also works with *E/Z* stereoisomers. One limitation with RDKit is that it currently struggles to recognize non-alkene *cis/trans* stereoisomers when there are stereocenters that are not chiral centers involved such as rings (see [GitHub issue 5597](https://github.com/rdkit/rdkit/issues/5597)). For example, with 1,2,3-trimethylcyclopropane, it only believes there are eight stereoisomers when in fact there are two.\n",
    "\n",
    "````{margin}\n",
    "```{note}\n",
    "A chiral center is a specific example of stereogenic center that is an sp$^3$ atom with four different substituents whereas a stereogenic center is any atom where exchanging any two substituents/ligands produces a different stereoisomer. For example, 1,4-dimethylcyclohexane has two stereogenic centers (yields *cis* versus *trans*) but no chiral centers.\n",
    "```\n",
    "````"
   ]
  },
  {
   "cell_type": "code",
   "execution_count": null,
   "id": "b9022d1b-bb0b-4cbd-8451-1e8d8a5392bd",
   "metadata": {},
   "outputs": [],
   "source": [
    "TriCProp = Chem.MolFromSmiles('CC1C(C1C)C ')\n",
    "Chem.EnumerateStereoisomers.GetStereoisomerCount(TriCProp)"
   ]
  },
  {
   "cell_type": "markdown",
   "id": "eb9858c1-bc51-40d1-ae34-28bdaf4177c4",
   "metadata": {},
   "source": [
    "In contrast, it has no difficulty identifying the three isomers for 1,2-dimethylcyclopropane because both methylated carbons are chiral centers."
   ]
  },
  {
   "cell_type": "code",
   "execution_count": null,
   "id": "ab5c7744-bf1b-4ba1-a3bb-9de8f150d90b",
   "metadata": {},
   "outputs": [],
   "source": [
    "DiCProp = Chem.MolFromSmiles('CC1CC1C')\n",
    "CPropisomers = list(Chem.EnumerateStereoisomers.EnumerateStereoisomers(DiCProp))\n",
    "Chem.Draw.MolsToGridImage(CPropisomers)"
   ]
  },
  {
   "cell_type": "markdown",
   "id": "12447ba2-29d5-4848-a1d6-2881008cb5fc",
   "metadata": {},
   "source": [
    "## 4 `Chem.Descriptor` Module \n",
    "\n",
    "```{index} descriptors\n",
    "```\n",
    "```{index} features\n",
    "```\n",
    "\n",
    "RDKit can be use to determine a number of key physical properties of molecules known as *descriptors* using the `Chem.Descriptor` module. These can be useful for generating features for a large number of molecules for machine learning or understanding structural trends in a body of chemical compounds."
   ]
  },
  {
   "cell_type": "markdown",
   "id": "648a5d04-8214-451d-9bef-b37ee98c6d99",
   "metadata": {},
   "source": [
    "### 4.1 Molecular Features\n",
    "\n",
    "There are numerous descriptor functions available which are callable using `Chem.Descriptors.method()` where `method()` is the name of a descriptor function that accepts an RDKit Molecule object and returns a numerical value. Below are a few examples of descriptor functions, with a more complete list is available on the [RDKit website](https://www.rdkit.org/docs/GettingStartedInPython.html#list-of-available-descriptors).\n",
    "\n",
    "**Table 5** Examples of Molecular Descriptors\n",
    "| Function    |  Description |\n",
    "|:-------------:|---------------------------|\n",
    "|`MolWt` | Molecular weight, assumes natural isotopic distribution  |\n",
    "|`HeavyAtomCount()` | Number of non-hydrogen atoms |\n",
    "|`NOCount()` | Number of N and O atoms |\n",
    "|`NumAliphaticRings()` | Number of aliphatic rings\n",
    "|`NumAromaticRings()` | Number of aromatic rings |\n",
    "|`NumSaturatedRings()` | Number of saturated rings |\n",
    "|`NumHAcceptors()`   | Number of hydrogen bond acceptors   |\n",
    "|`NumHDonors()` | Number of hydrogen bond donors |\n",
    "|`NumRadicalElectrons()`   |Number of radical electrons |\n",
    "|`NumValenceElectrons()` | Number of valence electrons |\n",
    "|`NumRotatableBonds()` | Number of rotatable bonds |\n",
    "|`RingCount()` | Number of rings |\n",
    "\n",
    "Below we will look at a few of these descriptor functions demonstrated on the compound paclitaxel. Specifically, we will generate the molecular weight, number of rings, number of aromatic rings, number of valence electrons, and number of rotatable bonds."
   ]
  },
  {
   "cell_type": "code",
   "execution_count": null,
   "id": "1820fc16-9a64-45b0-9de4-8aaf549618cf",
   "metadata": {},
   "outputs": [],
   "source": [
    "ptx = Chem.MolFromSmiles('CC1=C2[C@@]([C@]([C@H]([C@@H]3[C@]4([C@H](OC4)C[C@@H]'\\\n",
    "                         '([C@]3(C(=O)[C@@H]2OC(=O)C)C)O)OC(=O)C)OC(=O)c5ccccc5)'\\\n",
    "                         '(C[C@@H]1OC(=O)[C@H](O)[C@@H](NC(=O)c6ccccc6)c7ccccc7)O)(C)C')\n",
    "Chem.Draw.MolToImage(ptx, size=(500,500))"
   ]
  },
  {
   "cell_type": "code",
   "execution_count": null,
   "id": "dd9432be-3b2e-4056-a3df-871f55903a75",
   "metadata": {},
   "outputs": [],
   "source": [
    "# molecular weight\n",
    "Chem.rdMolDescriptors.CalcExactMolWt(ptx)"
   ]
  },
  {
   "cell_type": "code",
   "execution_count": null,
   "id": "06dd6772-8b92-4873-8363-7ebbf7bd1668",
   "metadata": {},
   "outputs": [],
   "source": [
    "# number of rings\n",
    "Chem.rdMolDescriptors.CalcNumRings(ptx)"
   ]
  },
  {
   "cell_type": "code",
   "execution_count": null,
   "id": "57ffdf56-0f18-4ca8-98dd-e1c8fe6b983b",
   "metadata": {},
   "outputs": [],
   "source": [
    "# number of aromatic rings\n",
    "Chem.rdMolDescriptors.CalcNumAromaticRings(ptx)"
   ]
  },
  {
   "cell_type": "code",
   "execution_count": null,
   "id": "c5f4ae6c-2a52-4f87-bacc-a1db8aee6eae",
   "metadata": {},
   "outputs": [],
   "source": [
    "# number of rotable bonds\n",
    "Chem.rdMolDescriptors.CalcNumRotatableBonds(ptx)"
   ]
  },
  {
   "cell_type": "markdown",
   "id": "77dde05a-74f4-4037-bbc3-782907af6149",
   "metadata": {},
   "source": [
    "## 5 Searching Molecules for Structural Patterns\n",
    "\n",
    "Molecules can be searched for key structural features using the `HasSubstructMatch()` method which returns `True` or `False` depending if a structural pattern exists in a molecule or not. This function requires two RDKit Molecule objects - one Molecule object (`molecule`) is checked for the presence of the other Molecule object structure (`substructure`) as shown below. There are optional keyword parameters such as `useChirality=` which allows for chirality to be factored into whether there is a match or not. The default setting is `useChirality=False`.\n",
    "\n",
    "~~~python\n",
    "molecule.HasSubstructMatch(substructure, useChirality=False)\n",
    "~~~\n",
    "\n",
    "As an example, we will look for the presence of a carbonyl (i.e., C=O bond) in acetone and pent-3-en-2-ol below, so the substructure that we will search for is a `C=O`."
   ]
  },
  {
   "cell_type": "code",
   "execution_count": null,
   "id": "7425ac25-0cfc-44e6-aeaa-8b2582cee4ee",
   "metadata": {},
   "outputs": [],
   "source": [
    "acetone = Chem.MolFromSmiles('CC(=O)C')\n",
    "acetone"
   ]
  },
  {
   "cell_type": "code",
   "execution_count": null,
   "id": "906c986a-d638-4792-808e-e64be74f1282",
   "metadata": {},
   "outputs": [],
   "source": [
    "substructure = Chem.MolFromSmiles('C=O')\n",
    "acetone.HasSubstructMatch(substructure)"
   ]
  },
  {
   "cell_type": "code",
   "execution_count": null,
   "id": "a5f63a84-e819-45c6-b37f-3077e0e024b0",
   "metadata": {},
   "outputs": [],
   "source": [
    "pentenol.HasSubstructMatch(substructure)"
   ]
  },
  {
   "cell_type": "markdown",
   "id": "f8fe43e2-3183-4836-a312-9d3f3c9070e0",
   "metadata": {},
   "source": [
    "Not very surprisingly, the `HasSubstructMatch()` function returns `True` for acetone and `False` for the alcohol because the latter has a single CO bond, not a double. If we change our substructure to `CO`, we are now searching for a carbon-oxygen single bond (see Table 7), so acetone returns `False` while pent-3-en-2-ol returns `True`.\n",
    "\n",
    "**Table 7** SMILES Bond Order Notation\n",
    "| SMILES Bond | Bond Type |\n",
    "|:----------:|------------|\n",
    "| - (or nothing) | Single |\n",
    "| = | Double |\n",
    "| # | Triple |\n",
    "|: | Aromatic |"
   ]
  },
  {
   "cell_type": "code",
   "execution_count": null,
   "id": "9fd7e914-df57-4858-83ae-a02314cd81d0",
   "metadata": {},
   "outputs": [],
   "source": [
    "substructure = Chem.MolFromSmiles('CO')\n",
    "substructure"
   ]
  },
  {
   "cell_type": "code",
   "execution_count": null,
   "id": "e7c3bd01-078e-4dad-8544-905ffa4e5def",
   "metadata": {},
   "outputs": [],
   "source": [
    "acetone.HasSubstructMatch(substructure)"
   ]
  },
  {
   "cell_type": "code",
   "execution_count": null,
   "id": "d43e2a38-c061-4b51-9008-89359913eec4",
   "metadata": {},
   "outputs": [],
   "source": [
    "pentenol.HasSubstructMatch(substructure)"
   ]
  },
  {
   "cell_type": "markdown",
   "id": "353c79d8-38b7-4413-845c-133dbaccb564",
   "metadata": {},
   "source": [
    "For a more interesting set of examples, we can search our collection of 20 common amino acids (see [section 2.2](2.2)) for key substructures. We will start by using glycine, the simplest of the common amino acids, as the substructure which should return all 20 amino acids. As an extra step below, we will also orient all the amino acids in the same way with respect to the substructure. That is, the substructural element that we are searching for in each amino acid will be oriented the same way for all 20 amino acids."
   ]
  },
  {
   "cell_type": "code",
   "execution_count": null,
   "id": "cc4df869-6f4a-47ef-8675-758b02c304cd",
   "metadata": {},
   "outputs": [],
   "source": [
    "# seraches for substruture\n",
    "substructure= Chem.MolFromSmiles('C(C(=O)[O-])[NH3+]')\n",
    "matching_amino_acids = [AA for AA in AminoAcids if AA.HasSubstructMatch(substructure)]\n",
    "\n",
    "# orients common substructures the same way\n",
    "AllChem.Compute2DCoords(substructure)\n",
    "for amino_acid in matching_amino_acids:\n",
    "    _ = AllChem.GenerateDepictionMatching2DStructure(amino_acid, substructure)\n",
    "\n",
    "# generates grid of matching molecules\n",
    "Chem.Draw.MolsToGridImage(matching_amino_acids, \n",
    "                          molsPerRow=4,\n",
    "                          subImgSize=(200,200),\n",
    "                          legends=list(df['name'])) "
   ]
  },
  {
   "cell_type": "markdown",
   "id": "4df7ec04-577b-4cdb-b087-14410db04068",
   "metadata": {},
   "source": [
    "Indeed, it did return all 20 amino acids, and notice how the core structure of all amino acids are oriented the same direction. Now let us try something a little more interesting by search for all amino acids with a benzene ring in them. The substructural bonding pattern in this case is benzene itself, and the three aromatic amino acids are returned."
   ]
  },
  {
   "cell_type": "code",
   "execution_count": null,
   "id": "acd07f2c-03da-40bc-ad00-6851d4bfedac",
   "metadata": {},
   "outputs": [],
   "source": [
    "substructure = Chem.MolFromSmiles('c1ccccc1')\n",
    "AA_with_pattern = [AA for AA in AminoAcids if AA.HasSubstructMatch(substructure)]\n",
    "\n",
    "Chem.Draw.MolsToGridImage(AA_with_pattern)"
   ]
  },
  {
   "cell_type": "markdown",
   "id": "c9d5d012-3245-4024-87f1-c7783b6831f7",
   "metadata": {},
   "source": [
    "It might be nice to still have the name labels for our three matches, so the above search is repeated but instead on a zip object comprised of the names of the amino acids and the Molecule objects. "
   ]
  },
  {
   "cell_type": "code",
   "execution_count": null,
   "id": "9d51cd11-6860-4a41-b36b-22fe313fdda0",
   "metadata": {},
   "outputs": [],
   "source": [
    "AA_zipped = list(zip(df['name'], AminoAcids))\n",
    "\n",
    "substructure = Chem.MolFromSmiles('c1ccccc1')\n",
    "with_pattern = [AA for AA in AA_zipped if AA[1].HasSubstructMatch(substructure)]\n",
    "\n",
    "name = [AA[0] for AA in with_pattern]\n",
    "mol_obj =  [AA[1] for AA in with_pattern]\n",
    "\n",
    "Chem.Draw.MolsToGridImage(mol_obj, legends=name)"
   ]
  },
  {
   "cell_type": "markdown",
   "id": "149b68fb-a42d-42f2-9056-d226b3c3361c",
   "metadata": {},
   "source": [
    "## 6 Atoms and Bonds\n",
    "\n",
    "RDKit allows access to information on specific atoms and bonds through the `GetAtoms()` and `GetBonds()` methods, respectively. These functions return a sequence type of object that can be iterated through using a `for` loop to access individual atoms or bonds. Using the following methods, the user can access or even modify various pieces of information about the atoms or bonds. Below Table 9 and Table 10 contain some key functions for working with atoms and bonds.\n",
    "\n",
    "**Table 9** Select Atom Methods\n",
    "| Function | Description |\n",
    "|:----------:|---------------|\n",
    "|`GetDegree()` | Returns number of atoms bonded directly to it, includes hydrogens only if they are explicitly defined |\n",
    "|`GetAtomicNum()` | Returns atomic number |\n",
    "|`GetChiralTag()` | Determines if the atom is a chiral center and CW or CCW designation |\n",
    "|`GetFormalCharge()` | Returns formal charage of atom   |\n",
    "|`GetHybridization()` | Returns hybridization of atom     |\n",
    "|`GetIsAromatic()`   | Returns bool as to whether atom is aromatic    |\n",
    "|`GetIsotope()`   |  Returns isotope number if designated, otherwise returns `0`   |\n",
    "|`GetNeighbors()` | Returns tuple of directly bonded atoms  |\n",
    "|`GetSymbol()` |  Returns atomic symbols as a string |\n",
    "|`GetTotalNumHs()` | Returns number of hydrogens bonded to the atom |\n",
    "|`IsInRing()` |  Returns bool designating if the atom is in a ring  |\n",
    "|`SetAtomicNum()`| Sets the atomic number to user defined value |\n",
    "|`SetFormalCharge()` |  Sets formal charge to user defined value |\n",
    "|`SetIsotope()` |  Sets isotope to user defined integer value  |\n",
    "\n",
    "As an example, let's look at the atoms in aspirin. "
   ]
  },
  {
   "cell_type": "code",
   "execution_count": null,
   "id": "8497f869-5b38-430c-9416-6c687c7e3cc0",
   "metadata": {},
   "outputs": [],
   "source": [
    "aspirin"
   ]
  },
  {
   "cell_type": "markdown",
   "id": "7e517a9b-7f10-4c50-af39-c915f8ddc15b",
   "metadata": {},
   "source": [
    "If we generate a list populated with the degrees of atoms (i.e., number of other atoms bonded directly to it), you may notice that there are no 4 values even though the methyl (i.e., -CH$_3$) carbon should have four atoms attached to it. This is because the hydrogens are not explicitly designated in the structure (i.e., the are implicit), so they are not counted."
   ]
  },
  {
   "cell_type": "code",
   "execution_count": null,
   "id": "f990cd15-b2a4-4685-a173-2be0a0b9b06b",
   "metadata": {},
   "outputs": [],
   "source": [
    "[atom.GetDegree() for atom in aspirin.GetAtoms()]"
   ]
  },
  {
   "cell_type": "markdown",
   "id": "45d3168a-23a1-419d-a58b-6d6dc29d4df4",
   "metadata": {},
   "source": [
    "We can count the number of implicit hydrogens using the `GetNumImplicitHs()` method, and the third value is a `3` making it the methyl carbon."
   ]
  },
  {
   "cell_type": "code",
   "execution_count": null,
   "id": "ed30152f-57e2-48de-aaa4-41cb035e1567",
   "metadata": {},
   "outputs": [],
   "source": [
    "[atom.GetNumImplicitHs() for atom in aspirin.GetAtoms()]"
   ]
  },
  {
   "cell_type": "markdown",
   "id": "36b4f147-b468-4b23-adf3-6f8cef56cd21",
   "metadata": {},
   "source": [
    "````{margin}\n",
    "```{tip}\n",
    "If you want to make all hydrogens explicitly defined, this is accomplished using the `Chem.AddHs(mol)` function. An example is in [section 16.3.1](16.3.1).\n",
    "```\n",
    "````"
   ]
  },
  {
   "cell_type": "markdown",
   "id": "282c6e63-b87a-487e-bb33-99c7f648c12b",
   "metadata": {},
   "source": [
    "We can also use these atom methods to change values and attributes of various atoms. For example, we can set the isotopes of the carbonyl carbons (i.e., C=O) to $^{13}$C. This is accomplished with the following code that iterates through all the atoms and finds the carbonyl carbons by testing for atoms that have an atomic number of 6, are not aromatic, and have no hydrogens and then setting the isotope value to 13. The molecular weight is calculated before and after the isotopes are changed for comparison."
   ]
  },
  {
   "cell_type": "code",
   "execution_count": null,
   "id": "8862ba19-0457-408b-9237-47ae4ec16953",
   "metadata": {},
   "outputs": [],
   "source": [
    "Chem.rdMolDescriptors.CalcExactMolWt(aspirin)"
   ]
  },
  {
   "cell_type": "code",
   "execution_count": null,
   "id": "7e8e8e58-5397-4932-be86-756a945e6ddb",
   "metadata": {},
   "outputs": [],
   "source": [
    "for atom in aspirin.GetAtoms():\n",
    "    if atom.GetAtomicNum() == 6 and \\\n",
    "        not atom.GetIsAromatic() and \\\n",
    "        atom.GetTotalNumHs() == 0:\n",
    "    \n",
    "        atom.SetIsotope(13)"
   ]
  },
  {
   "cell_type": "code",
   "execution_count": null,
   "id": "0fe09452-9911-4df9-be78-8a468c9a8c1c",
   "metadata": {},
   "outputs": [],
   "source": [
    "print(Chem.rdMolDescriptors.CalcExactMolWt(aspirin))\n",
    "aspirin"
   ]
  },
  {
   "cell_type": "markdown",
   "id": "585fb93f-cc7c-4a88-a95a-83683553c503",
   "metadata": {},
   "source": [
    "The molar mass has increased due to two of the carbon atoms being isotopically labeled, and we can see in the image which of the two carbons were isotopically labeled. It is worth nothing that the molecular weight before isotopically labeling assumes a natural distribution of isotopes which for carbon is 98.9% $^{12}$C and 1.1% $^{13}$C. In the isotopically labeled structure, the two carbonyl carbons are 100% $^{13}$C.\n",
    "\n",
    "Using bond methods, we can perform analogous types of operations except that bonds have different attributes than atoms. A table of selected bond methods is provided below.\n",
    "\n",
    "**Table 10** Select Bond Methods\n",
    "| Function | Description |\n",
    "|:----------:|---------------|\n",
    "|`GetBeginAtom()` | Returns first atom in bond |\n",
    "|`GetEndAtom()` | Returns second atom in bond |\n",
    "|`GetBondType()` | Returns type of bond (e.g., SINGLE, DOUBLE, AROMATIC) |\n",
    "|`GetIsAromatic()` | Returns bool as to whether bond is aromatic |\n",
    "|`GetIsConjugated()` | Returns bool as to wether bond is conjugated |\n",
    "|`IsInRing()` | Returns bool as to wether bond is in ring  |\n",
    "|`SetBondType()` | Sets bond type |\n",
    "|`SetIsAromatic()` | Sets bool designating if a bond is aromatic |\n",
    "\n",
    "As a demonstration, we will examine the bonds in the structure of acetone and change the carbonyl double bond to a single bond. This is done by searching for a double bond, setting it to a single bond, and then changing the formal charges of the atoms attached to that bond."
   ]
  },
  {
   "cell_type": "code",
   "execution_count": null,
   "id": "aa5ce474-4cbb-47cb-88e3-9f63fbb25ab8",
   "metadata": {},
   "outputs": [],
   "source": [
    "acetone"
   ]
  },
  {
   "cell_type": "code",
   "execution_count": null,
   "id": "d8488606-7d42-4a6d-9273-6a796c1f4d68",
   "metadata": {},
   "outputs": [],
   "source": [
    "for bond in acetone.GetBonds():\n",
    "    if bond.GetBondType() == Chem.BondType.DOUBLE:\n",
    "        bond.SetBondType(Chem.BondType.SINGLE)\n",
    "        end = bond.GetEndAtom().SetFormalCharge(-1)\n",
    "        begin = bond.GetBeginAtom().SetFormalCharge(+1)\n",
    "acetone"
   ]
  },
  {
   "cell_type": "markdown",
   "id": "86af4844-a0e0-440a-a9ec-2c1269aa1cf1",
   "metadata": {},
   "source": [
    "## Further Reading\n",
    "\n",
    "1. RDKit: Open-Source Cheminformatics Software. [https://www.rdkit.org/](https://www.rdkit.org/) (free resource)\n",
    "2. The RDKit Book (collection of examples). [https://www.rdkit.org/docs/RDKit_Book.html](https://www.rdkit.org/docs/RDKit_Book.html) (free resource)"
   ]
  },
  {
   "cell_type": "markdown",
   "id": "2b4bfcca-df8e-48e8-8fa2-36318f94e86b",
   "metadata": {
    "editable": true,
    "slideshow": {
     "slide_type": ""
    },
    "tags": []
   },
   "source": [
    "## Homework\n",
    "\n",
    "Complete the following exercises using RDKit. You are encouraged to also to use data libraries such as NumPy or pandas to support your solutions. It is optional to retrieve data you need from PUGREST. Alternatively, google can find smiles codes for molecules. Any data file(s) refered to in the problems can be found in the [data](https://github.com/weisscharlesj/SciCompforChemists/tree/master/notebooks) folder in the same directory as this chapter's Jupyter notebook. Alternatively, you can download a zip file of the data for this chapter from [here](https://github.com/weisscharlesj/data_SciCompforChem) by selecting the appropriate chapter file and then clicking the **Download** button. I recommend trying each excecise before using GPT. If you have a partial solution, paste that into the GPT and ask for suggestions or improvements."
   ]
  },
  {
   "cell_type": "markdown",
   "id": "38e1805e-ad00-453a-b8cc-1ae3962b41fb",
   "metadata": {
    "editable": true,
    "slideshow": {
     "slide_type": ""
    },
    "tags": []
   },
   "source": [
    "1. Load the structure for **morphine** into RDKit using either a SMILES or InChI representation. You will need to either generate one of these representations using chemical drawing software or find one online from a free resource.\n",
    "   \n",
    "   a) Visualize the structure of morphine and save it as an SVG image file.\n",
    "   \n",
    "   b) Use RDKit to determine the number of chiral centers in the structure. Your code should output an integer value, not just a list of chiral centers.\n",
    "   \n",
    "   c) Use RDKit to determine the number of hydrogen bond acceptors in the structure.\n",
    "\n",
    "2. Load the **amino_acid_SMILES.txt** file and use RDKit for the following.\n",
    "  \n",
    "   a) Determine the absolute configuration (i.e., R vs. S) of the $\\alpha$-carbon for all the chiral amino acids. Most are the same, but one is an exception. Which is it?\n",
    "\n",
    "   b) How many amino acids have two chiral centers?\n",
    "\n",
    "3. Load the **organic_molecules.txt** dataset containing SMILES representations of a range of organic molecules.\n",
    "   \n",
    "    a) Using descriptors, generate a list containing the SMILES representations of only primary and secondary alphatic alcohols.\n",
    "\n",
    "   b) Using pattern matching, generate an image containing only primary alcohols from the file. To help you along, here is the SMARTS representation of a primary alcohol for the pattern matching. `Chem.MolFromSmarts('[CH2][OH]')`\n",
    "\n",
    "    c) Calculate the percentage of heavy-element (i.e., not with hydrogens) bonds that are C-O bonds.\n",
    "   \n",
    "    d) Calculate the percentage of carbon atoms in a ring.\n",
    "\n",
    "4. Use RDKit to generate an image showing all isomers of 1,2-dimethylcyclohexane. You will need to look up the SMILES or other representation first."
   ]
  },
  {
   "cell_type": "markdown",
   "id": "4c3e7cc5",
   "metadata": {},
   "source": []
  }
 ],
 "metadata": {
  "kernelspec": {
   "display_name": "molecular_informatics",
   "language": "python",
   "name": "python3"
  },
  "language_info": {
   "codemirror_mode": {
    "name": "ipython",
    "version": 3
   },
   "file_extension": ".py",
   "mimetype": "text/x-python",
   "name": "python",
   "nbconvert_exporter": "python",
   "pygments_lexer": "ipython3",
   "version": "3.11.9"
  }
 },
 "nbformat": 4,
 "nbformat_minor": 5
}
