{
 "cells": [
  {
   "cell_type": "markdown",
   "id": "2836e292",
   "metadata": {},
   "source": [
    "# PubChem3D\n",
    "\n",
    "The [PubChem3D Project](https://pubchem.ncbi.nlm.nih.gov/docs/pubchem3d) is an initiative to provide computed 3D structures and conformer models for millions of small molecules in the PubChem database. Using structure generation algorithms and energy minimization tools, PubChem3D generates multiple low-energy conformers for each compound to better reflect their potential shapes in biological systems. These 3D models are valuable for structure-based drug design, molecular docking, and cheminformatics research, offering users standardized, accessible 3D information directly from PubChem’s web services and programmatic (PUG REST) interfaces.\n",
    "\n",
    "Each computed 3D conformer is not necessarily at a global or local energy minimum and may not represent the lowest-energy form in vacuum, solvent, or within a binding site. Instead, the 3D conformers are computationally generated as part of a conformer model as a set of diverse, low-energy structures that reflect the molecule’s conformational flexibility. These conformers are sampled using average atom pairwise RMSD (root mean squared distance) thresholds to capture a range of energetically accessible and potentially biologically relevant shapes.\n",
    "\n",
    "For each molecule up to 500 conformers are made per molecule, however, this is too much data to be made available for PubChem services. Therefore, a maximum of 10 diverse conformations are available for download. These first 10 conformers are ordered in such that they represent the overall diversity of the model of the compound.\n",
    "\n",
    "\n",
    "<div class=\"alert alert-block alert-info\">\n",
    "<h2>Learning Objectives</h2>\n",
    "\n",
    "* Explore PubChem3D Compound Records:\n",
    "  - The web interface\n",
    "  - Obtaining SDF data through PUG REST\n",
    "* Explore ipywidgets\n",
    "  - Create dropdown menus\n",
    "  - Use Hbox to display two outputs side by side\n",
    "* Review PubChem's PUG REST Web Interface\n",
    "  - Getting data from PubChem through PUG-REST\n",
    "* Practice code from previous notebooks\n",
    "\n",
    "</div>"
   ]
  },
  {
   "cell_type": "markdown",
   "id": "f4f81139",
   "metadata": {},
   "source": [
    "## Accessing data through the compound summary page\n",
    "\n",
    "To access 3D conformer data for a compound on PubChem, navigate to the compound's summary page and scroll to Section 1.3: Structure. Within this section, you'll find options to view the 2D and 3D structures of the molecule. If 3D conformers are available, a \"3D Conformer\" viewer will be embedded, allowing interactive visualization directly in the browser. A dropdown or slider may be present to explore different conformers. Links are provided to download conformers in formats such as SDF, JSON, or XYZ.\n",
    "\n",
    "Click on the link below to view 3D conformers of Atorvastatin.\n",
    "https://pubchem.ncbi.nlm.nih.gov/compound/60823#section=3D-Conformer"
   ]
  },
  {
   "cell_type": "markdown",
   "id": "2e613b7d",
   "metadata": {},
   "source": [
    "<div class=\"alert alert-block alert-warning\">\n",
    "<Strong>Explore the web interface</Strong>\n",
    "\n",
    "In the browswer window for the 3D conformer section:\n",
    "\n",
    "- confirm there are 10 publicly available conformers\n",
    "- change the model structure for viewing\n",
    "- Display the SDF file for conformer 8 in a new web browser window\n",
    "- In the SDF file, identify the **<PUBCHEM_CONFORMER_DIVERSEORDER>** section. These are the conformer IDs for each molecule. The first 10 are the ones that are publicly available for download.\n",
    "\n",
    "Do the conformations look different?"
   ]
  },
  {
   "cell_type": "markdown",
   "id": "07585813",
   "metadata": {},
   "source": [
    "Another interactive web-based tool is the [PubChem 3D Viewer](https://pubchem.ncbi.nlm.nih.gov/vw3d/vw3d.cgi?#) Users can load conformers directly by CID (Compound ID) or conformer ID, and can choose among available conformers for a compound to compare different low-energy 3D geometries. \n",
    "\n",
    "Click on the PubChem 3D viwer link above."
   ]
  },
  {
   "cell_type": "markdown",
   "id": "1e4fc2a8",
   "metadata": {},
   "source": [
    "<div class=\"alert alert-block alert-warning\">\n",
    "<Strong>Explore the PubChem 3D Viewer</Strong>\n",
    "\n",
    "- In the browser window for the PubChem 3D Viewer:\n",
    "\n",
    "    - Add CID 60823 (Atorvastatin) to the CID list. Click View at the bottom of the page.\n",
    "    - Confirm there are 10 conformers to view\n",
    "\n",
    "- [Click here to view the conformation superposition tool](https://pubchem.ncbi.nlm.nih.gov/vw3d/vw3d.cgi?disp=algn#)\n",
    "    - In the Pairs by: box, choose Conformer ID\n",
    "    - Enter the following two conformers of atorvastatin  0000ED9700000002 0000ED9700000014\n",
    "    - Click View\n",
    "    - On the left side of the viewer confirm you have Reference of LID 2 and Fit of LID 20 (LID = Local Conformer Identifier).\n",
    "    - We won't go into detail until later this semester, but make note of the Shape and Feature similarity percentages. They will give us a way of assessing how similar the 3D shape and pharmacophoric elements align. \n",
    "    - Go back to the conformation superposition tool and enter this conformation pair 0000ED9700000002 0000ED970000000E\n",
    "    - Make note of the Shape and Feature similarity percentages for LID 2 and LID 14.\n",
    "    - Download the superposition of these two molecules as SDF.\n",
    "\n",
    "Can you conclude that the conformers are different from this assessment?\n",
    "The only 3D viewer only provides a visualization with rocking between set views. Wouldn't it be nice to view this in a 3D viewer? *(foreshadowing to homework)*"
   ]
  },
  {
   "cell_type": "markdown",
   "id": "8a7463a6",
   "metadata": {},
   "source": [
    "PubChem provides programmatic access to conformer data through its PUG REST interface, enabling users to retrieve 3D structural information in an automated and reproducible manner. The following code shows how to download the 10 publicly accessible conformers of atorvastatin and display them through py3Dmol. "
   ]
  },
  {
   "cell_type": "code",
   "execution_count": null,
   "id": "6dcf120e",
   "metadata": {
    "ExecuteTime": {
     "end_time": "2025-09-23T21:04:55.768842Z",
     "start_time": "2025-09-23T21:04:55.031964Z"
    }
   },
   "outputs": [],
   "source": [
    "# New code for getting the 10 publicly available conformers of any CID from PubChem\n",
    "# possibly need to pip install ipywidgets\n",
    "import pandas as pd\n",
    "import requests\n",
    "import py3Dmol\n",
    "import ipywidgets as widgets\n",
    "from IPython.display import display, clear_output\n",
    "pd.set_option('display.max_colwidth', None)  # Ensure full URL is displayed\n",
    "\n",
    "# Define input data \n",
    "cid = 60823 # Atorvastatin's PubChem Compound ID\n",
    "\n",
    "# Fetch conformers from PubChem \n",
    "pugrest = \"https://pubchem.ncbi.nlm.nih.gov/rest/pug\"\n",
    "pugin   = \"compound/cid/\"+str(cid)\n",
    "pugoper = \"conformers\"\n",
    "pugout  = \"TXT\"\n",
    "url     = \"/\".join( [pugrest, pugin, pugoper, pugout] )\n",
    "\n",
    "res = requests.get(url)\n",
    "if res.status_code != 200:\n",
    "    raise Exception(f\"Failed to fetch conformers: {res.status_code} {res.reason}\")  \n",
    "\n",
    "# Parse the response text to get conformer IDs\n",
    "\n",
    "conformers = res.text.splitlines()\n",
    "conformers = [line.strip() for line in conformers if line.strip()]  \n",
    "\n",
    "# Helper function to generate conformer URL fpr SDF format for each conformer ID\n",
    "def make_conformer_url(conformer_id):\n",
    "    return f\"https://pubchem.ncbi.nlm.nih.gov/rest/pug/conformers/{conformer_id}/SDF?response_type=display\"\n",
    "\n",
    "# Build DataFrame with conformer IDs and URLs\n",
    "data = {\n",
    "    \"Conformer_ID\": conformers,\n",
    "    \"Conformer_URL\": [make_conformer_url(conf_id) for conf_id in conformers]\n",
    "}\n",
    "\n",
    "df = pd.DataFrame(data)\n",
    "\n",
    "# Display dataframe\n",
    "display(df)\n",
    "\n",
    "# Interactive viewer setup with two dropdown widgets side by side to compare conformers\n",
    "\n",
    "# Dropdowns \n",
    "dropdown1 = widgets.Dropdown(\n",
    "    options=[(f\"Conformer {row.Conformer_ID}\", i) for i, row in df.iterrows()],\n",
    "    description='Left:',\n",
    "    layout=widgets.Layout(width='45%')\n",
    ")\n",
    "\n",
    "dropdown2 = widgets.Dropdown(\n",
    "    options=[(f\"Conformer {row.Conformer_ID}\", i) for i, row in df.iterrows()],\n",
    "    description='Right:',\n",
    "    layout=widgets.Layout(width='45%')\n",
    ")\n",
    "\n",
    "# Output containers \n",
    "output1 = widgets.Output()\n",
    "output2 = widgets.Output()\n",
    "\n",
    "def render_conformer(index, output):\n",
    "    conf_id = df.loc[index, \"Conformer_ID\"]\n",
    "    url = df.loc[index, \"Conformer_URL\"]\n",
    "    try:\n",
    "        sdf_data = requests.get(url).text\n",
    "        view = py3Dmol.view(width=400, height=400)\n",
    "        view.addModel(sdf_data, \"sdf\")\n",
    "        view.setStyle({'stick': {}})\n",
    "        view.zoomTo()\n",
    "        with output:\n",
    "            clear_output(wait=True)\n",
    "            print(f\"Conformer {conf_id} (Index {index})\")\n",
    "            display(view)\n",
    "    except Exception as e:\n",
    "        with output:\n",
    "            clear_output(wait=True)\n",
    "            print(f\"Failed to load conformer {conf_id}: {e}\")\n",
    "\n",
    "\n",
    "#  Event listeners for dropdowns \n",
    "dropdown1.observe(lambda change: render_conformer(change['new'], output1) if change['type'] == 'change' and change['name'] == 'value' else None)\n",
    "dropdown2.observe(lambda change: render_conformer(change['new'], output2) if change['type'] == 'change' and change['name'] == 'value' else None)\n",
    "\n",
    "# Display interface \n",
    "controls = widgets.HBox([dropdown1, dropdown2])\n",
    "outputs = widgets.HBox([output1, output2])\n",
    "display(controls, outputs)\n",
    "\n",
    "# Initial render\n",
    "render_conformer(0, output1)\n",
    "render_conformer(1, output2)\n",
    "print('done')"
   ]
  },
  {
   "cell_type": "markdown",
   "id": "bb84753d",
   "metadata": {},
   "source": [
    "<div class=\"alert alert-block alert-success\">\n",
    "<center><H1>Homework</H1></center>\n",
    "\n",
    "1) The code above generates URLs to download SDF files of each conformer and displays in a py3Dmol widget. Consider why conformer data needs to be stored as SDF and not as InChI or SMILES."
   ]
  },
  {
   "cell_type": "markdown",
   "id": "b0b8a6d1",
   "metadata": {},
   "source": [
    "<div class=\"alert alert-block alert-success\">\n",
    "2) Choose a small molecule of your choice from PubChem (e.g., an over-the-counter drug or a natural product). Identify the CID of your chosen molecule using the PubChem website. Write a short Python script or Jupyter notebook that does the following:\n",
    "\n",
    "- Use PUG REST to retrieve the list of conformer IDs for that compound.\n",
    "- Download all publicly available conformers in SDF format.\n",
    "- Visualize the conformers side by side using py3Dmol, either as individual viewers or using a slider to switch between them."
   ]
  },
  {
   "cell_type": "code",
   "execution_count": null,
   "id": "1f0f1734",
   "metadata": {},
   "outputs": [],
   "source": [
    "# write your code here\n"
   ]
  },
  {
   "cell_type": "markdown",
   "id": "de26dabd-7083-472e-82cd-5a268f4c004a",
   "metadata": {},
   "source": [
    "# Acknowledgments\n"
   ]
  }
 ],
 "metadata": {
  "kernelspec": {
   "display_name": "dataChem(py3.10)",
   "language": "python",
   "name": "datachem"
  },
  "language_info": {
   "codemirror_mode": {
    "name": "ipython",
    "version": 3
   },
   "file_extension": ".py",
   "mimetype": "text/x-python",
   "name": "python",
   "nbconvert_exporter": "python",
   "pygments_lexer": "ipython3",
   "version": "3.10.12"
  }
 },
 "nbformat": 4,
 "nbformat_minor": 5
}
