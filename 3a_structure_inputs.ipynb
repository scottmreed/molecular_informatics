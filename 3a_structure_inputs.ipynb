{
 "cells": [
  {
   "cell_type": "markdown",
   "metadata": {},
   "source": [
    "# Chemical Structure Inputs for PUG-REST"
   ]
  },
  {
   "cell_type": "markdown",
   "metadata": {},
   "source": [
    "adapted from https://chem.libretexts.org/Courses/Intercollegiate_Courses/Cheminformatics"
   ]
  },
  {
   "cell_type": "markdown",
   "metadata": {},
   "source": [
    "## Objectives\n",
    "\n",
    "- Use SMILES and InChI strings to specify the input compound for a PUG-REST request.\n",
    "- Use a structure-data (SD) file to specify the input compound for a PUG-REST request.\n",
    "- Learn to submit a PUG-REST request using the HTTP-POST method.\n",
    "<br>\n",
    "<br>"
   ]
  },
  {
   "cell_type": "markdown",
   "metadata": {},
   "source": [
    "You can use a chemical structure as an input for a PUG-REST request.  PUG-REST accepts some popular chemical structure line notations such as SMILES and InChI strings.  It is also possible to use an Structure-Data File (SDF) as a structure input.<br><br>\n",
    "To learn how to specify the structure input in a PUG-REST request, one needs to know that there are two methods by which data are transferred from clients (users) and servers (PubChem) through PUG-REST.  Discussing what these methods are in detail is beyond the scope of this material, and it is enough to know three things:<br>\n",
    "- When you make a PUG-REST request by typing the request URL in the address bar of your web browser (such as Google Chrome, MS Internet Explorer), the HTTP GET method is used<br>\n",
    "- The HTTP GET method transfers information encoded in a single-line URL.<br>\n",
    "- Some chemical structure inputs are not appropriate to encode in a single-line URL (because they may contain special characters not compatible with the URL syntax, span over multiple lines, or too long), and the HTTP POST needs to be used for such cases.\n",
    "\n",
    "For more information on HTTP GET and POST, read the following documents.\n",
    "\n",
    "- HTTP request methods (https://www.w3schools.com/tags/ref_httpmethods.asp)\n",
    "- Get vs. POST (https://www.diffen.com/difference/GET-vs-POST-HTTP-Requests)\n"
   ]
  },
  {
   "cell_type": "markdown",
   "metadata": {},
   "source": [
    "Here, import the Requests library, necessary to make web service requests to PubChem."
   ]
  },
  {
   "cell_type": "code",
   "execution_count": 3,
   "metadata": {},
   "outputs": [],
   "source": [
    "import requests"
   ]
  },
  {
   "cell_type": "markdown",
   "metadata": {},
   "source": [
    "## 1. Using the HTTP GET method."
   ]
  },
  {
   "cell_type": "markdown",
   "metadata": {},
   "source": [
    "## 1-(1) Structure encoded in the URL path."
   ]
  },
  {
   "cell_type": "markdown",
   "metadata": {},
   "source": [
    "In some cases, you can encode a chemical structure in the PUG-REST request URL path as in the following example."
   ]
  },
  {
   "cell_type": "code",
   "execution_count": 4,
   "metadata": {},
   "outputs": [],
   "source": [
    "prolog = 'https://pubchem.ncbi.nlm.nih.gov/rest/pug'"
   ]
  },
  {
   "cell_type": "code",
   "execution_count": null,
   "metadata": {},
   "outputs": [],
   "source": [
    "smiles1 = \"CC(C)CC1=CC=C(C=C1)C(C)C(=O)O\"\n",
    "url = prolog + \"/compound/smiles/\" + smiles1 + \"/cids/txt\"\n",
    "print(url)"
   ]
  },
  {
   "cell_type": "markdown",
   "metadata": {},
   "source": [
    "This request URL returns ibuprofen (CID 3672)."
   ]
  },
  {
   "cell_type": "code",
   "execution_count": null,
   "metadata": {},
   "outputs": [],
   "source": [
    "res = requests.get(url)\n",
    "print(res.text)"
   ]
  },
  {
   "cell_type": "markdown",
   "metadata": {},
   "source": [
    "Try to run the following"
   ]
  },
  {
   "cell_type": "code",
   "execution_count": null,
   "metadata": {},
   "outputs": [],
   "source": [
    "smiles2 = \"CC1=C([C@@](SC1=O)(C)/C=C(\\C)/C=C)O\"\n",
    "\n",
    "url = prolog + \"/compound/smiles/\" + smiles2 + \"/cids/txt\"\n",
    "res = requests.get(url)\n",
    "print(res.text)"
   ]
  },
  {
   "cell_type": "markdown",
   "metadata": {},
   "source": [
    "<br>Note in the above example that the SMILES string contains special characters. In this case a forward slash (\"/\"), which is also used in the URL path.  These special characters conflict with the PUG-REST request URL syntax, causing an error when used in the PUG-REST request URL."
   ]
  },
  {
   "cell_type": "markdown",
   "metadata": {},
   "source": [
    "## 1-(2) Structure encoded as a URL argument"
   ]
  },
  {
   "cell_type": "markdown",
   "metadata": {},
   "source": [
    "To circumvent the issue mentioned above, the SMILES string may be encoded as the URL argments (as an optional parameter followed by the \"?\" character)."
   ]
  },
  {
   "cell_type": "code",
   "execution_count": null,
   "metadata": {},
   "outputs": [],
   "source": [
    "url = prolog + \"/compound/smiles/cids/txt?\" + \"smiles=\" + smiles2\n",
    "print(url)\n",
    "res2 = requests.get(url)\n",
    "print(res2.text)"
   ]
  },
  {
   "cell_type": "markdown",
   "metadata": {},
   "source": [
    "## 1-(3) Structure passed in a dictionary"
   ]
  },
  {
   "cell_type": "markdown",
   "metadata": {},
   "source": [
    "It is also possible to pass the structure query as a key-value pair in a dictionary.  The following example does the same task as the previous example does."
   ]
  },
  {
   "cell_type": "code",
   "execution_count": null,
   "metadata": {},
   "outputs": [],
   "source": [
    "url = prolog + \"/compound/smiles/cids/txt\"\n",
    "struct = { 'smiles': smiles2 }\n",
    "res3 = requests.get(url, params = struct)\n",
    "print(res3.text)"
   ]
  },
  {
   "cell_type": "markdown",
   "metadata": {},
   "source": [
    "The object returned from a web service request (res, res2, and res3 in our examples) contains information on the request URL through which the data have been retrieved.  This information can be accessed using the \".url\" attribute of the object, as shown in this example:"
   ]
  },
  {
   "cell_type": "code",
   "execution_count": null,
   "metadata": {},
   "outputs": [],
   "source": [
    "print(smiles2)    # the orginal smiles string unencoded\n",
    "print(res2.url)   # from (request 2) structure encoded as a URL argument\n",
    "print()\n",
    "print(struct)     # to show the smiles string in the dictionary is unencoded for URL\n",
    "print(res3.url)   # from (request 3) structure passed in a dictionary"
   ]
  },
  {
   "cell_type": "markdown",
   "metadata": {},
   "source": [
    "From these two URLs, we can see two important things:\n",
    "- When the structure is passed using a key-value pair in a dictionary (i.e., \"res3\"), the structure is automatically encoded as a URL argument (after the \"?\" mark).\n",
    "- When the structure is passed in a dictionary, the special characters in the SMILES string are coverted according to the URL encoding rules: https://www.w3schools.com/tags/ref_urlencode.asp.  [for example, the equal sign \"=\" changes into \"%3D\", and \"(\" into \"%28\", \"/\" into \"%2F\", etc]\n",
    "<br>\n",
    "\n",
    "\n",
    "It illustrates that the last two approaches using HTTP GET are essentially the same."
   ]
  },
  {
   "cell_type": "markdown",
   "metadata": {},
   "source": [
    "__Exercise 1a__ Retrieve (in the CSV (comma-separated values) format) the Hydrogen bond donor and acceptor counts, TPSA, and XLogP of the chemical represented by the SMILES string: \"C1=CC(=C(C=C1Cl)O)OC2=C(C=C(C=C2)Cl)Cl\".  When you construct a PUG-REST url for this request, encode the structure in the URL path. "
   ]
  },
  {
   "cell_type": "code",
   "execution_count": null,
   "metadata": {},
   "outputs": [],
   "source": [
    "# Complete the code started in this cell.\n",
    "smiles3 = \"C1=CC(=C(C=C1Cl)O)OC2=C(C=C(C=C2)Cl)Cl\"\n",
    "pugrest = \"https://pubchem.ncbi.nlm.nih.gov/rest/pug\"\n",
    "pugin   = \"compound/smiles\"\n",
    "pugoper = \"property/HBondDonorCount,HBondDonorCount,XLogP,TPSA\"\n",
    "pugout  = \"csv?smiles=\"\n",
    "\n",
    "url = prolog + \"/compound/smiles/cids/txt?\" + \"smiles=\" + smiles3\n",
    "print(url)\n",
    "res2 = requests.get(url)\n",
    "print(res2.text)\n"
   ]
  },
  {
   "cell_type": "markdown",
   "metadata": {},
   "source": [
    "**Exercise 1b** Get the CID corresponding to the following InChI string, using the HTTP GET method.  Pay attention to the case sensitivity of the URL parameter part after the \"?\" mark."
   ]
  },
  {
   "cell_type": "code",
   "execution_count": 22,
   "metadata": {},
   "outputs": [],
   "source": [
    "inchi = \"InChI=1S/C17H14O4S/c1-22(19,20)14-9-7-12(8-10-14)15-11-21-17(18)16(15)13-5-3-2-4-6-13/h2-10H,11H2,1H3\""
   ]
  },
  {
   "cell_type": "code",
   "execution_count": null,
   "metadata": {},
   "outputs": [],
   "source": [
    "# Write your code in this cell\n",
    "\n",
    "pugrest = \"https://pubchem.ncbi.nlm.nih.gov/rest/pug\"\n",
    "pugin   = \"compound/inchi\"\n",
    "pugoper = \"property/HBondDonorCount\"\n",
    "pugout  = \"csv?smiles=\"\n",
    "\n",
    "url = prolog + \"/compound/inchi/cids/txt?\" + \"inchi=\" + inchi\n",
    "print(url)\n",
    "res2 = requests.get(url)\n",
    "print(res2.text)\n",
    "\n"
   ]
  },
  {
   "cell_type": "markdown",
   "metadata": {},
   "source": [
    "## 2. Using the HTTP POST method"
   ]
  },
  {
   "cell_type": "markdown",
   "metadata": {},
   "source": [
    "## 2-(1) Comparison of HTTP POST and GET"
   ]
  },
  {
   "cell_type": "markdown",
   "metadata": {},
   "source": [
    "All the three examples above use the HTTP GET method, as implied in the use of \"requests.get()\".  Alternatively, one can use the HTTP POST method.  For example, the following example returns the identical result as the last two HTTP GET examples."
   ]
  },
  {
   "cell_type": "code",
   "execution_count": null,
   "metadata": {},
   "outputs": [],
   "source": [
    "url = prolog + \"/compound/smiles/cids/txt\"\n",
    "struct = { 'smiles': smiles2 }\n",
    "res = requests.post(url, params = struct)   # the SMILES as a URL parameter\n",
    "print(res.url)\n",
    "print(res.text)"
   ]
  },
  {
   "cell_type": "code",
   "execution_count": null,
   "metadata": {},
   "outputs": [],
   "source": [
    "url = prolog + \"/compound/smiles/cids/txt\"\n",
    "struct = { 'smiles': smiles2 }\n",
    "res = requests.post(url, data = struct)    # the SMILES as data\n",
    "print(res.url)\n",
    "print(res.text)"
   ]
  },
  {
   "cell_type": "markdown",
   "metadata": {},
   "source": [
    "Note that the first one passes the input SMILES string as a parameter, while the second one passes it as data.  Because of this, the URL stored in the \"res.url\" variable in the second code does not contain structure informaion."
   ]
  },
  {
   "cell_type": "markdown",
   "metadata": {},
   "source": [
    "## 2-(2) HTTP POST for multi-line structure input"
   ]
  },
  {
   "cell_type": "markdown",
   "metadata": {},
   "source": [
    "The HTTP POST method should be used if the input molecular structure for PUG-REST request span over multiple lines (e.g., stored in a structure-data file (SDF) format).  The SDF file contains structure information of a molecule in a multi-line format, along with other data."
   ]
  },
  {
   "cell_type": "code",
   "execution_count": 16,
   "metadata": {},
   "outputs": [],
   "source": [
    "mysdf = '''1983\n",
    "  -OEChem-07241917072D\n",
    "\n",
    " 20 20  0     0  0  0  0  0  0999 V2000\n",
    "    2.8660   -2.5950    0.0000 O   0  0  0  0  0  0  0  0  0  0  0  0\n",
    "    4.5981    1.4050    0.0000 O   0  0  0  0  0  0  0  0  0  0  0  0\n",
    "    2.8660    1.4050    0.0000 N   0  0  0  0  0  0  0  0  0  0  0  0\n",
    "    2.8660    0.4050    0.0000 C   0  0  0  0  0  0  0  0  0  0  0  0\n",
    "    3.7320   -0.0950    0.0000 C   0  0  0  0  0  0  0  0  0  0  0  0\n",
    "    2.0000   -0.0950    0.0000 C   0  0  0  0  0  0  0  0  0  0  0  0\n",
    "    3.7320   -1.0950    0.0000 C   0  0  0  0  0  0  0  0  0  0  0  0\n",
    "    2.0000   -1.0950    0.0000 C   0  0  0  0  0  0  0  0  0  0  0  0\n",
    "    2.8660   -1.5950    0.0000 C   0  0  0  0  0  0  0  0  0  0  0  0\n",
    "    3.7320    1.9050    0.0000 C   0  0  0  0  0  0  0  0  0  0  0  0\n",
    "    3.7320    2.9050    0.0000 C   0  0  0  0  0  0  0  0  0  0  0  0\n",
    "    4.2690    0.2150    0.0000 H   0  0  0  0  0  0  0  0  0  0  0  0\n",
    "    1.4631    0.2150    0.0000 H   0  0  0  0  0  0  0  0  0  0  0  0\n",
    "    2.3291    1.7150    0.0000 H   0  0  0  0  0  0  0  0  0  0  0  0\n",
    "    4.2690   -1.4050    0.0000 H   0  0  0  0  0  0  0  0  0  0  0  0\n",
    "    1.4631   -1.4050    0.0000 H   0  0  0  0  0  0  0  0  0  0  0  0\n",
    "    4.3520    2.9050    0.0000 H   0  0  0  0  0  0  0  0  0  0  0  0\n",
    "    3.7320    3.5250    0.0000 H   0  0  0  0  0  0  0  0  0  0  0  0\n",
    "    3.1120    2.9050    0.0000 H   0  0  0  0  0  0  0  0  0  0  0  0\n",
    "    2.3291   -2.9050    0.0000 H   0  0  0  0  0  0  0  0  0  0  0  0\n",
    "  1  9  1  0  0  0  0\n",
    "  1 20  1  0  0  0  0\n",
    "  2 10  2  0  0  0  0\n",
    "  3  4  1  0  0  0  0\n",
    "  3 10  1  0  0  0  0\n",
    "  3 14  1  0  0  0  0\n",
    "  4  5  2  0  0  0  0\n",
    "  4  6  1  0  0  0  0\n",
    "  5  7  1  0  0  0  0\n",
    "  5 12  1  0  0  0  0\n",
    "  6  8  2  0  0  0  0\n",
    "  6 13  1  0  0  0  0\n",
    "  7  9  2  0  0  0  0\n",
    "  7 15  1  0  0  0  0\n",
    "  8  9  1  0  0  0  0\n",
    "  8 16  1  0  0  0  0\n",
    " 10 11  1  0  0  0  0\n",
    " 11 17  1  0  0  0  0\n",
    " 11 18  1  0  0  0  0\n",
    " 11 19  1  0  0  0  0\n",
    "M  END\n",
    "> <PUBCHEM_COMPOUND_CID>\n",
    "1983\n",
    "\n",
    "> <PUBCHEM_COMPOUND_CANONICALIZED>\n",
    "1\n",
    "\n",
    "> <PUBCHEM_CACTVS_COMPLEXITY>\n",
    "139\n",
    "\n",
    "> <PUBCHEM_CACTVS_HBOND_ACCEPTOR>\n",
    "2\n",
    "\n",
    "> <PUBCHEM_CACTVS_HBOND_DONOR>\n",
    "2\n",
    "\n",
    "> <PUBCHEM_CACTVS_ROTATABLE_BOND>\n",
    "1\n",
    "$$$$\n",
    "'''"
   ]
  },
  {
   "cell_type": "markdown",
   "metadata": {},
   "source": [
    "In this example, the triple quotes (''') are used to enclose a multi-line string.  This multi-line sdf data is used as an input for a PUG-REST request through the HTTP POST."
   ]
  },
  {
   "cell_type": "code",
   "execution_count": null,
   "metadata": {},
   "outputs": [],
   "source": [
    "url = prolog + \"/compound/sdf/cids/txt\"\n",
    "mydata = { 'sdf': mysdf }\n",
    "res = requests.post(url, data=mydata) # the multiline sdf as URL data\n",
    "print(res.url)\n",
    "print(res.text)"
   ]
  },
  {
   "cell_type": "markdown",
   "metadata": {},
   "source": [
    "## 2-(3) HTTP POST for SDF file input"
   ]
  },
  {
   "cell_type": "markdown",
   "metadata": {},
   "source": [
    "One may want to use the structure stored in a file as the input for a PUG-REST request.  The following code shows how to read an SDF file into a variable.  This code cell assumes that the 'Structure2D_CID_5288826.sdf' file is in the current directory.  The file can be downloaded from the **Chapter 2 Assignments** page."
   ]
  },
  {
   "cell_type": "code",
   "execution_count": null,
   "metadata": {},
   "outputs": [],
   "source": [
    "import os\n",
    "data_folder = os.path.join('data')\n",
    "file_path = os.path.join('data', 'Structure2D_CID_5288826.sdf')\n",
    "with open(file_path, 'r') as file:\n",
    "    mysdf = file.read()\n",
    "    \n",
    "print(mysdf)"
   ]
  },
  {
   "cell_type": "markdown",
   "metadata": {},
   "source": [
    "Now the structure stored in the \"mysdf\" can be used in a PUG-REST request through HTTP-POST.  For example, the code cell below shows how to retrieve various names (also called \"synonyms\") of the input structure."
   ]
  },
  {
   "cell_type": "code",
   "execution_count": null,
   "metadata": {},
   "outputs": [],
   "source": [
    "url = prolog + \"/compound/sdf/synonyms/txt\"\n",
    "mydata = {'sdf': mysdf}\n",
    "res = requests.post(url, data=mydata)\n",
    "print(res.text)"
   ]
  },
  {
   "cell_type": "markdown",
   "metadata": {},
   "source": [
    "**Exercise 2a** Retrieve (in the **CSV** format) the XlogP, molecular weight, hydrogen bond donor count, hydrogen bond aceptor count, and TPSA of the compounds contained in the five sdf files below, which can be downloaded from the **Chapter 2 Assignments** page.  \n",
    "\n",
    "- Use a for loop to retrieve the data for each compound.\n",
    "- Import the time package and add \"time.sleep(0.2)\" to sleep 0.2 seconds after retrieving the data for each compound.\n",
    "- Refer to the \"lecture 1\" notebook to see how to merge the multiple CSV outputs into a single CSV output."
   ]
  },
  {
   "cell_type": "code",
   "execution_count": 20,
   "metadata": {},
   "outputs": [],
   "source": [
    "files = ['lecture02_ex2b_compound1.sdf','lecture02_ex2b_compound2.sdf','lecture02_ex2b_compound3.sdf', \\\n",
    "         'lecture02_ex2b_compound4.sdf','lecture02_ex2b_compound5.sdf']"
   ]
  },
  {
   "cell_type": "code",
   "execution_count": 21,
   "metadata": {},
   "outputs": [],
   "source": [
    "# Write your code in this cell.\n",
    "\n",
    "\n"
   ]
  }
 ],
 "metadata": {
  "kernelspec": {
   "display_name": "Python 3",
   "language": "python",
   "name": "python3"
  },
  "language_info": {
   "codemirror_mode": {
    "name": "ipython",
    "version": 3
   },
   "file_extension": ".py",
   "mimetype": "text/x-python",
   "name": "python",
   "nbconvert_exporter": "python",
   "pygments_lexer": "ipython3",
   "version": "3.11.9"
  },
  "varInspector": {
   "cols": {
    "lenName": 16,
    "lenType": 16,
    "lenVar": 40
   },
   "kernels_config": {
    "python": {
     "delete_cmd_postfix": "",
     "delete_cmd_prefix": "del ",
     "library": "var_list.py",
     "varRefreshCmd": "print(var_dic_list())"
    },
    "r": {
     "delete_cmd_postfix": ") ",
     "delete_cmd_prefix": "rm(",
     "library": "var_list.r",
     "varRefreshCmd": "cat(var_dic_list()) "
    }
   },
   "position": {
    "height": "373px",
    "left": "1526px",
    "right": "20px",
    "top": "120px",
    "width": "312px"
   },
   "types_to_exclude": [
    "module",
    "function",
    "builtin_function_or_method",
    "instance",
    "_Feature"
   ],
   "window_display": false
  },
  "vscode": {
   "interpreter": {
    "hash": "74b0eeecb9694be932ad336503137f0c047c9eb8ec8a4a235079c04fe56ee89e"
   }
  }
 },
 "nbformat": 4,
 "nbformat_minor": 4
}
