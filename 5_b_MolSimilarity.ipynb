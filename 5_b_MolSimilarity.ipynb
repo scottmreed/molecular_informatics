{
 "cells": [
  {
   "cell_type": "markdown",
   "id": "dcb0676e-bb78-4615-8800-0d3ae7f67708",
   "metadata": {},
   "source": [
    "## What is a bit vector?\n",
    "\n",
    "Recall from the last activity that we downloaded PubChem fingerprints initially as Base64-encoded strings. We then decoded them into bit strings, which are a human readable sequence of 1s and 0s. PubChem stores fingerprints in Base64 format because it allows for safer and more efficient transmission through application programming interfaces (API) like PUG REST. Additionally, databases can handle text-based formats like Base64 more easily than raw binary data. \n",
    "\n",
    "A bit vector is a data structure designed to efficiently store and manipulate binary data. While a bit string is human readable, it isn't optimized for computation. A bit vector allows the computer to quickly determine which bits are set on or off, or compare two strings for differences. \n",
    "\n",
    "You can think of a bit string as a literal sequence of 1's and 0's. It has no structure or behavior. However, a bit vector is like a structured container where each bit is stored in separate boxes with information about what is stored in each box. These boxes of data can be acted upon computationally, which we will explore in the Molecular Similarity Part 2 notebook."
   ]
  },
  {
   "cell_type": "markdown",
   "id": "81f6a74a-4d5c-47b8-9120-935035d3b361",
   "metadata": {},
   "source": [
    "## Bit Vectors in RDKit\n",
    "Instead of using a bit string, RDKit uses bit vectors to store molecular fingerprints. Each 1 and 0 in a bit vector takes up just 1 bit of memory, whereas storing the same data as bit string requires much more memory as each character typically uses a full bit (8 bits = 1 byte). \n",
    "\n",
    "Another key advantage is that the bit vector allows for efficient indexing and manipulation of the individual bits. This makes comparing two fingerprints very fast and memory efficient. \n",
    "\n",
    "In the last activity you generated MACCS keys and Morgan Fingerprints using RDKit's built-in functions. You also downloaded PubChem Fingerprints. In this notebook, we will review the code and explore the `rdkit.DataStructs` package for working directly with bit vectors."
   ]
  },
  {
   "cell_type": "code",
   "id": "13b13164-4b47-4f5c-9c33-29c30f036342",
   "metadata": {},
   "source": [
    "# generate MACCS keys from a smiles string\n",
    "from rdkit import Chem       \n",
    "from rdkit.Chem import MACCSkeys\n",
    "SMILES =\"CC(C)C1=C(C(=C(N1CC[C@H](C[C@H](CC(=O)O)O)O)C2=CC=C(C=C2)F)C3=CC=CC=C3)C(=O)NC4=CC=CC=C4\" # atorvastatin\n",
    "mol = Chem.MolFromSmiles(SMILES) \n",
    "fp_MACCS = MACCSkeys.GenMACCSKeys(mol)  \n",
    "print(type(fp_MACCS))"
   ],
   "outputs": [],
   "execution_count": null
  },
  {
   "cell_type": "code",
   "id": "3eec8eee-da6c-4475-8111-9fcc5c02d05c",
   "metadata": {},
   "source": [
    "# generate Morgan Fingerprint of same SMILES string\n",
    "from rdkit.Chem import rdFingerprintGenerator\n",
    "morgan_gen = rdFingerprintGenerator.GetMorganGenerator(radius=2, fpSize=1024)\n",
    "fp_morgan = morgan_gen.GetFingerprint(mol)\n",
    "print(type(fp_morgan))"
   ],
   "outputs": [],
   "execution_count": null
  },
  {
   "cell_type": "markdown",
   "id": "f4cb95a5-9efd-4dee-8160-6a0bd614c78c",
   "metadata": {},
   "source": [
    "<div class=\"alert alert-block alert-warning\">\n",
    "<strong>Check your understanding</strong>\n",
    "    \n",
    "What class are the MACCS keys and Morgan fingerprints stored as?"
   ]
  },
  {
   "cell_type": "markdown",
   "id": "cb18ff9c-a0ae-4713-9a6b-b7d18fa25c57",
   "metadata": {},
   "source": [
    "Let's compare the memory usage of a bit string versus a bit vector for the Morgan fingerprint we generated:"
   ]
  },
  {
   "cell_type": "code",
   "id": "e54d8a3d-de68-4473-a4b9-b4d6d52a7a01",
   "metadata": {},
   "source": [
    "import sys\n",
    "bitstring = fp_morgan.ToBitString()\n",
    "print(\"The bit vector is of type\",type(fp_morgan))\n",
    "print(\"The bit string is of type\",type(bitstring))\n",
    "print(\"The bit string is human readable as\", bitstring)\n",
    "print(\"Bit Vector size (bytes):\", sys.getsizeof(fp_morgan))\n",
    "print(\"Bit String size (bytes):\", sys.getsizeof(bitstring))"
   ],
   "outputs": [],
   "execution_count": null
  },
  {
   "cell_type": "markdown",
   "id": "5130e9ca-2816-42b1-8f28-a453a7bf3f33",
   "metadata": {},
   "source": [
    "<div class=\"alert alert-block alert-warning\">\n",
    "<strong>Check your understanding</strong>\n",
    "    \n",
    "Does the code above show that we are using less memory by using a Bit Vector?"
   ]
  },
  {
   "cell_type": "markdown",
   "id": "51b243e3-a624-4687-937c-3ec681d8c34e",
   "metadata": {},
   "source": [
    "Let's review code for downloading and converting a PubChem fingerprint to a bit vector:"
   ]
  },
  {
   "cell_type": "code",
   "id": "e02d4475-7d64-4fb6-9fd8-7c565c515624",
   "metadata": {},
   "source": [
    "# download the PubChem fingerprint as base64 encoded text\n",
    "import requests\n",
    "prolog = \"https://pubchem.ncbi.nlm.nih.gov/rest/pug\"\n",
    "url = prolog + \"/compound/smiles/\" + SMILES + \"/property/Fingerprint2D/TXT\"\n",
    "res = requests.get(url)\n",
    "pcfp_base64 = res.text  #pcfp = PubChemFingerPrint\n",
    "print(pcfp_base64)\n",
    "print(type(pcfp_base64))"
   ],
   "outputs": [],
   "execution_count": null
  },
  {
   "cell_type": "code",
   "id": "2eadb121-1ee6-495d-901f-13ed3c731a10",
   "metadata": {},
   "source": [
    "from base64 import b64decode\n",
    "\n",
    "def PCFP_BitString(pcfp_base64) :\n",
    "\n",
    "    pcfp_bitstring = \"\".join( [\"{:08b}\".format(x) for x in b64decode( pcfp_base64 )] )[32:913]\n",
    "    return pcfp_bitstring\n",
    "\n",
    "pcfp_bitstring = PCFP_BitString(pcfp_base64)  # use the user defined function to convert the PubChem FingerPrint to a bitstring\n",
    "print(\"The number of bits in the bitstring is\", len(pcfp_bitstring))\n",
    "print(\"The bit string is human readable as\", pcfp_bitstring)\n",
    "\n",
    "\n",
    "from rdkit import DataStructs\n",
    "PCFP_bitvect = DataStructs.CreateFromBitString(PCFP_BitString(pcfp_base64)) #direct from base64\n",
    "\n",
    "print(type(PCFP_bitvect))\n",
    "print(\"Bit Vector size (bytes):\", sys.getsizeof(PCFP_bitvect))\n",
    "print(\"Bit String size (bytes):\", sys.getsizeof(pcfp_bitstring))\n"
   ],
   "outputs": [],
   "execution_count": null
  },
  {
   "cell_type": "markdown",
   "id": "0e21c15c-5f4a-4c19-896a-1102acd9d079",
   "metadata": {},
   "source": [
    "<div class=\"alert alert-block alert-warning\">\n",
    "<strong>Check your understanding</strong>\n",
    "    \n",
    "* What are bit vectors?\n",
    "* Why are they useful?\n",
    "* Which fingerprints are *automatically generated as bit vectors* in RDKit and which fingerprints need to be *converted* to bit vectors?"
   ]
  },
  {
   "cell_type": "markdown",
   "id": "fd2487be-a0f0-46b4-b502-c1b8fb639119",
   "metadata": {},
   "source": [
    "Note: The exact byte sizes shown by `sys.getsizeof()` may from operating system, python version, and RDKit build. \n",
    "While the absolute byte size may vary, the trend is always the same. Storing 1024 Morgan fingerprint bits (or 881 PubChem or 167 MACCS keys) as a bit vector will always be more memory-efficient than storing as a bit string."
   ]
  },
  {
   "cell_type": "markdown",
   "id": "fc1010c8-d172-4211-b4fc-4c1f6a623935",
   "metadata": {},
   "source": [
    "Run the next code cell."
   ]
  },
  {
   "cell_type": "code",
   "id": "28e9e53b-f527-4872-b5d1-ad7df0255508",
   "metadata": {},
   "source": [
    "print(\"Bit Vector size MACCS (bytes):\", sys.getsizeof(fp_MACCS))\n",
    "print(\"Bit Vector size Morgan(bytes):\", sys.getsizeof(fp_morgan))\n",
    "print(\"Bit Vector size PubChem(bytes):\", sys.getsizeof(PCFP_bitvect))"
   ],
   "outputs": [],
   "execution_count": null
  },
  {
   "cell_type": "markdown",
   "id": "8212f3e4-286b-41d9-a7f1-0ed50f7a0e1e",
   "metadata": {},
   "source": [
    "Even though each of the fingerprints we generated different in bit length (167, 1024 and 881, respectively), RDKit stores the bit vector using the same `ExplicitBitVect` structure. This structure includes fixed-size chunks of memory and object overhead, so the `sys.getsizeof()` function will report similar size for all three even though the actual bits stored may vary."
   ]
  },
  {
   "cell_type": "markdown",
   "id": "cc3655d8-fd91-407c-ad59-7b7db500f87e",
   "metadata": {},
   "source": [
    "# Acknowledgments"
   ]
  },
  {
   "cell_type": "markdown",
   "id": "cbfaec38-2285-4822-a62b-39aa90f67562",
   "metadata": {},
   "source": []
  }
 ],
 "metadata": {
  "kernelspec": {
   "display_name": "dataChem(py3.10)",
   "language": "python",
   "name": "datachem"
  },
  "language_info": {
   "codemirror_mode": {
    "name": "ipython",
    "version": 3
   },
   "file_extension": ".py",
   "mimetype": "text/x-python",
   "name": "python",
   "nbconvert_exporter": "python",
   "pygments_lexer": "ipython3",
   "version": "3.10.12"
  }
 },
 "nbformat": 4,
 "nbformat_minor": 5
}
