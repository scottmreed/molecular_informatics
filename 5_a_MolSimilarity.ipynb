{
 "cells": [
  {
   "cell_type": "markdown",
   "metadata": {},
   "source": [
    "<center><H1>Generating Molecular Fingerprints</H1></center>"
   ]
  },
  {
   "attachments": {},
   "cell_type": "markdown",
   "metadata": {},
   "source": [
    "<div class=\"alert alert-block alert-info\">\n",
    "<Strong>Objectives</strong>\n",
    "\n",
    "- Generate structural keys\n",
    "- Generate hashed fingerprints\n"
   ]
  },
  {
   "cell_type": "markdown",
   "metadata": {},
   "source": [
    "Many useful documents/papers describe various aspects of molecular similarity, including molecular fingerprints and similarity measures.  Please read these if you need more details."
   ]
  },
  {
   "cell_type": "markdown",
   "metadata": {},
   "source": [
    "- Getting Started with the RDKit in Python<br>\n",
    "(https://www.rdkit.org/docs/GettingStartedInPython.html#fingerprinting-and-molecular-similarity)\n",
    "\n",
    "- Fingerprint Generation, GraphSim Toolkit 2.4.2<br>\n",
    "(https://docs.eyesopen.com/toolkits/python/graphsimtk/fingerprint.html)\n",
    "\n",
    "- Chemical Fingerprints<br>\n",
    "(https://docs.chemaxon.com/display/docs/Chemical+Fingerprints)\n",
    "\n",
    "- Extended-Connectivity Fingerprints<br>\n",
    "(https://doi.org/10.1021/ci100050t)\n",
    "\n"
   ]
  },
  {
   "cell_type": "markdown",
   "metadata": {},
   "source": [
    "## Fingerprint Generation\n",
    "\n",
    "Molecular fingerprints are molecular descriptors that encode a molecule's structure as a bit string. Each bit in the string indicates the presence or absence of a structural feature. This notebook explores generation of two major types of molecular fingerprints:\n",
    "1) structural keys\n",
    "2) hashed fingerprints"
   ]
  },
  {
   "cell_type": "code",
   "metadata": {},
   "source": [
    "from rdkit import Chem"
   ],
   "outputs": [],
   "execution_count": null
  },
  {
   "cell_type": "code",
   "metadata": {},
   "source": [
    "mol = Chem.MolFromSmiles('CC(C)C1=C(C(=C(N1CC[C@H](C[C@H](CC(=O)O)O)O)C2=CC=C(C=C2)F)C3=CC=CC=C3)C(=O)NC4=CC=CC=C4')# atorvastatin\n",
    "mol\n"
   ],
   "outputs": [],
   "execution_count": null
  },
  {
   "cell_type": "markdown",
   "metadata": {},
   "source": [
    "<div class=\"alert alert-block alert-success\">\n",
    "<H3>Structural Keys</H3> "
   ]
  },
  {
   "cell_type": "markdown",
   "metadata": {},
   "source": [
    "### 1: MACCS keys\n",
    "The MACCS key is a binary fingerprint (a string of 0's and 1's) with a total length of 166 bits.  Each bit position represents the presence (=1) or absence (=0) of a pre-defined structural feature.  The feature definitions for the MACCS keys are available at:<br> https://github.com/rdkit/rdkit/blob/master/rdkit/Chem/MACCSkeys.py"
   ]
  },
  {
   "cell_type": "code",
   "metadata": {},
   "source": [
    "from rdkit.Chem import MACCSkeys  #import library for generating MACCSkeys from rdkit\n",
    "fp = MACCSkeys.GenMACCSKeys(mol)  # create an object called fp. It is an instance of the MACCSkeys fingerprint "
   ],
   "outputs": [],
   "execution_count": null
  },
  {
   "cell_type": "code",
   "metadata": {},
   "source": [
    "print('fp is of type:',(type(fp)))\n",
    "print()\n",
    "#this code prints out each value of the bits in the fingerprint ojbect\n",
    "#it loops through each bit and print\n",
    "print('printing the values of the bitstring as a loop:')\n",
    "for i in range(len(fp)):\n",
    "    print(fp[i], end='')\n",
    "print()\n",
    "# Alternative, easier way to convert it to a bitstring for output.\n",
    "print('printing the values of the bitstring as ToBitString method in rdkit')\n",
    "fp.ToBitString()    \n"
   ],
   "outputs": [],
   "execution_count": null
  },
  {
   "cell_type": "code",
   "metadata": {},
   "source": [
    "print(len(fp))          #one way to get the number of bits in the fingerprint\n",
    "print(fp.GetNumBits())  # another way to get the number of bits in the fingerprint"
   ],
   "outputs": [],
   "execution_count": null
  },
  {
   "cell_type": "markdown",
   "metadata": {},
   "source": [
    "Note that the MACCS key is **166-bit-long**, but RDKit generates a 167-bit-long fingerprint.  It is because the index of a list/vector in many programming languages (including python) begins at 0.  To use the original numbering of the MACCS keys (1-166) (rather than 0-165), the MACCS keys were implemented to be 167-bit-long, with Bit 0 being always zero. Because Bit 0 is set to OFF for all compounds, it does not affect the evaluation of molecular similarity."
   ]
  },
  {
   "cell_type": "markdown",
   "metadata": {},
   "source": [
    "These are some methods that allow you to get some additional information on the MACCS Keys."
   ]
  },
  {
   "cell_type": "code",
   "metadata": {},
   "source": [
    "print(fp.GetNumBits())      #get total number of bits\n",
    "print(fp.GetNumOffBits())   #get the total number bits with value 0\n",
    "print(fp.GetNumOnBits())    #get the total number bits with value 1\n",
    "print(fp.ToBinary())        #reports the binary representation of the fingerprint"
   ],
   "outputs": [],
   "execution_count": null
  },
  {
   "cell_type": "markdown",
   "metadata": {},
   "source": [
    "**Run the following code cells.**\n",
    "1) The first cell contains SMILES for a series of molecules and displays their structures\n",
    "2) The second cell displays the MACCS keys for each molecule in the list called smiles."
   ]
  },
  {
   "cell_type": "code",
   "metadata": {},
   "source": [
    "# display a series of smiles\n",
    "smiles = [ 'C1=CC=CC=C1', # Benzene (Kekule)\n",
    "           'c1ccccc1',    # Benzene (\"Aromatized\" carbons)\n",
    "          'C1=CC=NC=C1', # pyridine   \n",
    "           'C1CCCCC1',    # Cyclohexene\n",
    "            'C1CCNCC1']   # piperidine    \n",
    "\n",
    "from rdkit.Chem import Draw\n",
    "mols = []\n",
    "for x in smiles:\n",
    "    mols.append(Chem.MolFromSmiles(x))\n",
    "\n",
    "#mols = [ Chem.MolFromSmiles(x) for x in smiles ]\n",
    "Chem.Draw.MolsToGridImage(mols, molsPerRow=5, subImgSize=(100,100), legends=[str(x) for x in smiles] )"
   ],
   "outputs": [],
   "execution_count": null
  },
  {
   "cell_type": "code",
   "metadata": {},
   "source": [
    "# generate MACCSKeys from smiles\n",
    "for smile in smiles:\n",
    "    print(smile)\n",
    "    mol = Chem.MolFromSmiles(smile)\n",
    "    fp = MACCSkeys.GenMACCSKeys(mol)\n",
    "    fp = fp.ToBitString()\n",
    "    print(fp)\n",
    "    for index, val in enumerate(fp):\n",
    "        if val == '1':\n",
    "            print(\"index is %d and value is %s\" %(index, val))\n",
    "    print()"
   ],
   "outputs": [],
   "execution_count": null
  },
  {
   "cell_type": "markdown",
   "metadata": {},
   "source": [
    "<div class=\"alert alert-block alert-warning\">\n",
    "<strong>Check your understanding</strong>\n",
    "    \n",
    "In general what structural features do benzene and pyridine have in common? <br>\n",
    "Which MACCS keys do they have in common?"
   ]
  },
  {
   "cell_type": "markdown",
   "metadata": {},
   "source": [
    "<div class=\"alert alert-block alert-warning\">\n",
    "The feature definitions for the MACCS keys are available at: https://github.com/rdkit/rdkit/blob/master/rdkit/Chem/MACCSkeys.py <br>\n",
    "<b>Write the fragment definition of the bits ON that are in common for benzene and pyridine</b> (one is already provided for you as an example)."
   ]
  },
  {
   "cell_type": "raw",
   "metadata": {},
   "source": [
    "162: ('a', 0),  # Aromatic\n",
    "\n",
    "\n",
    "\n",
    "\n",
    "\n"
   ]
  },
  {
   "cell_type": "markdown",
   "metadata": {},
   "source": [
    "<div class=\"alert alert-block alert-warning\">\n",
    "<b>Why is index 165 'on' for all of the examples in the smiles list?</b>"
   ]
  },
  {
   "cell_type": "markdown",
   "metadata": {},
   "source": [
    "### 2: PubChem Fingerprint\n",
    "\n",
    "The PubChem Fingerprint is a 881-bit-long binary fingerprint (ftp://ftp.ncbi.nlm.nih.gov/pubchem/specifications/pubchem_fingerprints.pdf).  Similar to the MACCS keys, it uses a pre-defined fragment dictionary.  The PubChem fingerprint for each compound in PubChem can be downloaded from PubChem.  "
   ]
  },
  {
   "cell_type": "code",
   "metadata": {},
   "source": [
    "# the following code cell generates a PUG REST request to obtain the PubChem Fingerprint\n",
    "import requests\n",
    "prolog = \"https://pubchem.ncbi.nlm.nih.gov/rest/pug\"\n",
    "cid =\"2244\"  # CID for aspirin \n",
    "url = prolog + \"/compound/cid/\" + cid + \"/property/Fingerprint2D/TXT\"\n",
    "res = requests.get(url)\n",
    "pcfp_base64 = res.text  #pcfp = PubChemFingerPrint\n",
    "print(pcfp_base64)"
   ],
   "outputs": [],
   "execution_count": null
  },
  {
   "cell_type": "markdown",
   "metadata": {},
   "source": [
    "Notice that the above output is not a binary bitstring. Pubchem Fingerprints are provided as Base64 encoded strings. The PubChem fingerprint is 881 bits representing structural features. Instead of storing these bits directly, PubChem encodes them as a new Base64 string. This provides for safer and easier transmittion through application programming interfaces (API) like PUG REST and databases can handle text better than the raw binary ones and zeros. When retrieved by the PUG REST API, the fingerprint appears as a 157 character string. Because they are base64-encoded, they should be decoded into binary bitstrings or bitvectors.\n",
    "\n",
    "Details about how to decode base64-encoded PubChem fingerprints is described on the last page of the PubChem Fingerprint specification (https://ftp.ncbi.nlm.nih.gov/pubchem/specifications/pubchem_fingerprints.pdf).  Below is a user-defined function that decodes a PubChem fingerprint into a bit string."
   ]
  },
  {
   "cell_type": "code",
   "metadata": {},
   "source": [
    "from base64 import b64decode\n",
    "\n",
    "def PCFP_BitString(pcfp_base64) :\n",
    "\n",
    "    pcfp_bitstring = \"\".join( [\"{:08b}\".format(x) for x in b64decode( pcfp_base64 )] )[32:913]\n",
    "    return pcfp_bitstring\n",
    "    "
   ],
   "outputs": [],
   "execution_count": null
  },
  {
   "cell_type": "markdown",
   "metadata": {},
   "source": [
    "Using the user defined function we created above, we can convert the base output to binary."
   ]
  },
  {
   "cell_type": "code",
   "metadata": {},
   "source": [
    "pcfp_bitstring = PCFP_BitString(pcfp_base64)  # use the user defined function to convert the PubChem FingerPrint to a bitstring\n",
    "print(len(pcfp_bitstring))\n",
    "print(pcfp_bitstring)"
   ],
   "outputs": [],
   "execution_count": null
  },
  {
   "cell_type": "markdown",
   "metadata": {},
   "source": [
    "The generated bitstring can be converted to a bitvector that can be used for molecular similarity computation in RDKit (to be discussed in part 2)."
   ]
  },
  {
   "cell_type": "code",
   "metadata": {},
   "source": [
    "from rdkit import DataStructs\n",
    "bitvect = DataStructs.CreateFromBitString(PCFP_BitString(pcfp_base64))\n",
    "type(bitvect)"
   ],
   "outputs": [],
   "execution_count": null
  },
  {
   "cell_type": "markdown",
   "metadata": {},
   "source": [
    "<div class=\"alert alert-block alert-success\">\n",
    "<H3>Hashed Fingerprints</H3> "
   ]
  },
  {
   "cell_type": "markdown",
   "metadata": {},
   "source": [
    "### 1: Circular Fingerprints"
   ]
  },
  {
   "cell_type": "markdown",
   "metadata": {},
   "source": [
    "MACCS Keys and PubChem Fingerprints are examples of structural keys which use a fixed length bit vector (166 and 881, respectively). Each bit in the vector corresponds to the presence (1) or absence (0) of a predefined chemical feature (atoms, bonds) or substructure ( aromatic rings, carbonyl). In contrast, extended connectivity fingerprints are generated algorithmically by exploring the neighborhood or each atom up to a given radius. The environment is then encoded into hashed identifiers. Structural keys rely on a fixed dictionary of features. Extnded connectivity fingerprints are more flexible and capture local atomic environments without the need for predefined substructures.\n",
    "\n",
    "Circular fingerprints are hashed fingerprints.  They are generated by exhaustively enumerating \"circular\" fragments (containing all atoms within a given radius from each heavy atom of the molecule) and then hashing these fragments into a fixed-length bitstring.  (Here, the \"radius\" from an atom is measured by the number of bonds that separates two atoms).\n",
    "\n",
    "Examples of circular fingerprints are the extended-connectivity fingerprint (ECFPs) and their variant called FCFPs (Functional-Class Fingerprints), originally described in a paper by Rogers and Hahn (https://doi.org/10.1021/ci100050t).  The RDKit implementation of these fingerprints are called \"Morgan Fingerprints\" (https://www.rdkit.org/docs/GettingStartedInPython.html#morgan-fingerprints-circular-fingerprints)."
   ]
  },
  {
   "cell_type": "code",
   "metadata": {},
   "source": [
    "fluoxetine = Chem.MolFromSmiles('CNCCC(C1=CC=CC=C1)OC2=CC=C(C=C2)C(F)(F)F')\n",
    "fluoxetine"
   ],
   "outputs": [],
   "execution_count": null
  },
  {
   "cell_type": "code",
   "metadata": {},
   "source": [
    "from rdkit.Chem import rdFingerprintGenerator\n",
    "mfpgen = rdFingerprintGenerator.GetMorganGenerator(radius=2,fpSize=2048)\n",
    "fp2 = mfpgen.GetFingerprint(fluoxetine)\n",
    "bitstring= fp2.ToBitString()\n",
    "print(bitstring)\n",
    "print(\"The fingerprint length is\",len(bitstring))"
   ],
   "outputs": [],
   "execution_count": null
  },
  {
   "cell_type": "markdown",
   "metadata": {},
   "source": [
    "When comparing the RDK's Morgan fingerprints with the ECFP/FCFP fingerprints, it is important to remember that the name of ECFP/FCFP fingerprints are suffixed with the **diameter** of the atom environments considered, while the Morgan Fingerprints take a **radius** parameter (e.g., the second argument \"2\" of GetMorganFingerprintAsBitVect() in the above code cell).  The Morgan fingerprint generated above (with a radius of 2) is comparable to the ECFP4 fingerprint (with a diameter of 4)."
   ]
  },
  {
   "cell_type": "markdown",
   "metadata": {},
   "source": [
    "MACCS Keys and PubChem Fingerprints are examples of structural keys which use a fixed length bit vector (166 and 881, respectively). Each bit in the vector corresponds to the presence (1) or absence (0) of a predefined chemical feature (atoms, bonds) or substructure ( aromatic rings, carbonyl). In contrast, extended connectivity fingerprints are generated algorithmically by exploring the neighborhood or each atom up to a given radius. The environment is then encoded into hashed identifiers. Structural keys rely on a fixed dictionary of features. Extnded connectivity fingerprints are more flexible and capture local atomic environments without the need for predefined substructures.\n",
    "\n",
    "\n",
    "**To get a better idea of how these fingerprints are generated, over this next section you will explore 1-bromobutane and 1-chlorobutane**"
   ]
  },
  {
   "cell_type": "code",
   "metadata": {},
   "source": [
    "from rdkit.Chem import Draw\n",
    "from rdkit.Chem.Draw import IPythonConsole\n",
    "IPythonConsole.ipython_useSVG = True\n",
    "IPythonConsole.drawOptions.addAtomIndices = True   #this will add numbers to the image to help identify carbons later\n",
    "IPythonConsole.drawOptions.addStereoAnnotation = False"
   ],
   "outputs": [],
   "execution_count": null
  },
  {
   "cell_type": "code",
   "metadata": {},
   "source": [
    "mol = Chem.MolFromSmiles(\"BrCCCC\")  # 1-bromobutane\n",
    "mol"
   ],
   "outputs": [],
   "execution_count": null
  },
  {
   "cell_type": "markdown",
   "metadata": {},
   "source": [
    "Let's generate its rdkit Morgan Fingerprint (radius = 2). This would be comparable to the ECFP4 fingerprint."
   ]
  },
  {
   "cell_type": "code",
   "metadata": {},
   "source": [
    "from rdkit import Chem\n",
    "from rdkit.Chem import rdFingerprintGenerator\n",
    "\n",
    "# Step 1: Create the molecule from SMILES\n",
    "mol = Chem.MolFromSmiles('BrCCCC')  # 1-bromobutane\n",
    "#mol = Chem.MolFromSmiles('CNC[C@H](O)c1ccc(O)c(O)c1') #epinephrine\n",
    "\n",
    "# Step 2: Initialize the Morgan fingerprint generator. We are setting the radius to 2 and total bit size to 1024\n",
    "morgan_gen = rdFingerprintGenerator.GetMorganGenerator(radius=2, fpSize=1024)\n",
    "\n",
    "# Step 3: Prepare the AdditionalOutput object to capture bit information\n",
    "additional_output = rdFingerprintGenerator.AdditionalOutput()\n",
    "additional_output.AllocateBitInfoMap()\n",
    "\n",
    "# Step 4: Generate the fingerprint with additional output\n",
    "fp1 = morgan_gen.GetFingerprint(mol, additionalOutput=additional_output)\n",
    "print(\"The Morgan Fingerprint radius 2 fingerprint (ECPF4) for the molecule is:\")\n",
    "print(fp1.ToBitString())\n",
    "print()\n",
    "\n",
    "# Step 5: Retrieve and display the bit information\n",
    "\n",
    "bit_info = additional_output.GetBitInfoMap()\n",
    "for bit_id, atom_radius_list in bit_info.items():\n",
    "    print(f\"Bit {bit_id} is set by:\")\n",
    "    for atom_idx, radius in atom_radius_list:\n",
    "        atom_symbol = mol.GetAtomWithIdx(atom_idx).GetSymbol()\n",
    "        print(f\"  - Atom index {atom_idx} ({atom_symbol}), Radius {radius}\")\n",
    "\n"
   ],
   "outputs": [],
   "execution_count": null
  },
  {
   "cell_type": "markdown",
   "metadata": {},
   "source": [
    "**We can also display an image of the fragment that caused the bit to be equal to 1.**<br>\n",
    "\n",
    "Some notes about rendering:\n",
    "- The molecule fragment is drawn with the atoms in the same positions as in the original molecule.\n",
    "- The central atom is highlighted in blue.\n",
    "- Aromatic atoms are highlighted in yellow\n",
    "- Aliphatic ring atoms are highlighted in dark gray\n",
    "- Atoms/bonds that are drawn in light gray indicate pieces of the structure that influence the atoms' connectivity invariants but that are not directly part of the fingerprint.\n",
    "\n",
    "As an example, we can draw the fragment for bit 80 below (and change to different values based on the above bitlist."
   ]
  },
  {
   "cell_type": "code",
   "metadata": {},
   "source": [
    "IPythonConsole.drawOptions.addAtomIndices = False \n",
    "mfp2_svg = Draw.DrawMorganBit(mol, 80, bit_info, useSVG=True)\n",
    "mfp2_svg"
   ],
   "outputs": [],
   "execution_count": null
  },
  {
   "cell_type": "markdown",
   "metadata": {},
   "source": [
    "While the above code can display 1 fingerprint fragment, it is more useful to display all fragments simultaneously:"
   ]
  },
  {
   "cell_type": "code",
   "metadata": {},
   "source": [
    "# Create a list of tuples for visualization\n",
    "tpls = [(mol, bit_id, bit_info) for bit_id in fp1.GetOnBits()]\n",
    "# Generate legends for each bit\n",
    "legends = [str(bit_id) for bit_id in fp1.GetOnBits()]\n",
    "# Visualize the bits\n",
    "Draw.DrawMorganBits(tpls, molsPerRow=4, legends=legends)"
   ],
   "outputs": [],
   "execution_count": null
  },
  {
   "cell_type": "markdown",
   "metadata": {},
   "source": [
    "<div class=\"alert alert-block alert-warning\">\n",
    "<strong>Check your understanding</strong>\n",
    "\n",
    "* Which bit above represents the bromine with a radius of 0?\n",
    "* Why do three carbons in 1-bromobutane result in an \"on\" bit for fragment 80?  \n",
    "* If you changed 1-bromobutane to 1-chlorobutane, which fragments above (33, 80, 251, 294, 375, 495, 591, 640, 728, 794, 887) would you still expect to have a value of 1? (write this prediction down in the next cell for later)"
   ]
  },
  {
   "cell_type": "code",
   "metadata": {},
   "source": [
    "# Write your prediction for which values would you still expect to have a value of 1 if you changed the molecule from 1-bromobutane to 1-chlorobutane\n",
    "\n"
   ],
   "outputs": [],
   "execution_count": null
  },
  {
   "cell_type": "markdown",
   "metadata": {},
   "source": [
    "Let's compare the 1-bromobutane to 1-chlorobutane to determine if they have any fragments in common."
   ]
  },
  {
   "cell_type": "code",
   "metadata": {},
   "source": [
    "IPythonConsole.drawOptions.addAtomIndices = True \n",
    "mol = Chem.MolFromSmiles('ClCCCC')  # 1-chlorobutane\n",
    "mol"
   ],
   "outputs": [],
   "execution_count": null
  },
  {
   "cell_type": "code",
   "metadata": {},
   "source": [
    "# Step 1: Create the molecule from SMILES\n",
    "mol = Chem.MolFromSmiles('ClCCCC')  # 1-chlorobutane\n",
    "\n",
    "# Step 2: Initialize the Morgan fingerprint generator. We are setting the radius to 2 and total bit size to 1024\n",
    "morgan_gen = rdFingerprintGenerator.GetMorganGenerator(radius=2, fpSize=1024)\n",
    "\n",
    "# Step 3: Prepare the AdditionalOutput object to capture bit information\n",
    "additional_output = rdFingerprintGenerator.AdditionalOutput()\n",
    "additional_output.AllocateBitInfoMap()\n",
    "\n",
    "# Step 4: Generate the fingerprint with additional output\n",
    "fp2 = morgan_gen.GetFingerprint(mol, additionalOutput=additional_output)\n",
    "print(\"The Morgan radius =2 fingerprint (ECFP4)for the molecule is:\")\n",
    "print(fp2.ToBitString())\n",
    "print()\n",
    "\n",
    "# Step 5: Retrieve and display the bit information\n",
    "\n",
    "bit_info = additional_output.GetBitInfoMap()\n",
    "for bit_id, atom_radius_list in bit_info.items():\n",
    "    print(f\"Bit {bit_id} is set by:\")\n",
    "    for atom_idx, radius in atom_radius_list:\n",
    "        atom_symbol = mol.GetAtomWithIdx(atom_idx).GetSymbol()\n",
    "        print(f\"  - Atom index {atom_idx} ({atom_symbol}), Radius {radius}\")\n"
   ],
   "outputs": [],
   "execution_count": null
  },
  {
   "cell_type": "code",
   "metadata": {},
   "source": [
    "IPythonConsole.drawOptions.addAtomIndices = False \n",
    "# Create a list of tuples for visualization\n",
    "tpls = [(mol, bit_id, bit_info) for bit_id in fp2.GetOnBits()]\n",
    "# Generate legends for each bit\n",
    "legends = [str(bit_id) for bit_id in fp2.GetOnBits()]\n",
    "# Visualize the bits\n",
    "Draw.DrawMorganBits(tpls, molsPerRow=4, legends=legends)"
   ],
   "outputs": [],
   "execution_count": null
  },
  {
   "cell_type": "markdown",
   "metadata": {},
   "source": [
    "Now let's identify the bits it common of 1-bromobutane and 1-chlorobutane!"
   ]
  },
  {
   "cell_type": "code",
   "metadata": {},
   "source": [
    "common_bits = set(fp1.GetOnBits()) & set(fp2.GetOnBits()) \n",
    "print(f\"Common bits: {sorted(common_bits)}\")"
   ],
   "outputs": [],
   "execution_count": null
  },
  {
   "cell_type": "markdown",
   "metadata": {},
   "source": [
    "<div class=\"alert alert-block alert-warning\">\n",
    "<strong>Check your understanding</strong>\n",
    "    \n",
    "Did your prediction from the previous check your understanding hold true? If not, review the data to make sure you understand which fragments are on in both.\n",
    "\n"
   ]
  },
  {
   "cell_type": "markdown",
   "metadata": {},
   "source": [
    "### 2: Path-Based Fingerprints\n",
    "\n",
    "Path-based fingerprints are also hashed fingerprints.  They are generated by enumerating linear fragments of a given length and hashing them into a fixed-length bitstring.  An example is the RDKit's topological fingeprint.  As described in the RDK documentation (https://www.rdkit.org/docs/GettingStartedInPython.html#topological-fingerprints), while this fingerprint can be generated using FingerprintMols.FingerprintMol(), it is recommended to use rdmolops.RDKFingerprint() to generate the fingerprint using non-default parameter values.\n",
    "\n",
    "The <a href =\"https://www.rdkit.org/docs/source/rdkit.Chem.rdmolops.html#:~:text=rdkit.Chem.rdmolops.RDKFingerprint((Mol)mol\">RDKFingerprint(mol) method</a> has a number of arguments that can be added:\n",
    "* mol: the molecule to use\n",
    "* fpSize: (optional) number of bits in the fingerprint Defaults to 2048.\n",
    "* minPath: (optional) minimum number of bonds to include in the subgraphs Defaults to 1.\n",
    "* maxPath: (optional) maximum number of bonds to include in the subgraphs Defaults to 7."
   ]
  },
  {
   "cell_type": "code",
   "metadata": {},
   "source": [
    "# path based fingerprints\n",
    "from rdkit.Chem import rdmolops\n",
    "mol = Chem.MolFromSmiles(\"CCOC(=O)N1CCC(=C2C3=C(CCC4=C2N=CC=C4)C=C(C=C3)Cl)CC1\")  # loratadine\n",
    "fp = rdmolops.RDKFingerprint(mol, fpSize=2048, minPath=1, maxPath=7).ToBitString()\n",
    "print(fp)"
   ],
   "outputs": [],
   "execution_count": null
  },
  {
   "cell_type": "markdown",
   "metadata": {},
   "source": [
    " <div class=\"alert alert-block alert-success\">\n",
    "      <H1><center>Homework</center></H1>"
   ]
  },
  {
   "cell_type": "markdown",
   "metadata": {},
   "source": [
    "## Problem 1: MACCS Keys\n",
    "For the list of terpene SMILES in the next code cell:\n",
    "1) Display the structures\n",
    "2) Generate the MACCS Keys for each molecule\n",
    "3) Calculate number of \"on\" bits and \"off\" bits"
   ]
  },
  {
   "cell_type": "code",
   "metadata": {},
   "source": [
    "terpenes = ['CC(=CCCC(C)(C=C)O)C',                       #linalool\n",
    "          'CC(=CCC/C(=C/CO)/C)C',                        #geraniol\n",
    "          'CC1=CCC(CC1)C(=C)C',                          #limonene\n",
    "          'CC1=CCC(=C(C)C)CC1',                          #terpinolene\n",
    "          'CC1=CCC2CC1C2(C)C']                           #Alpha-pinene\n",
    "\n",
    "# write your code here to display the molecules in Problem 1\n"
   ],
   "outputs": [],
   "execution_count": null
  },
  {
   "cell_type": "code",
   "metadata": {},
   "source": [
    "# write your code here to generate MACCS Keys and off/on bits in Problem 1\n"
   ],
   "outputs": [],
   "execution_count": null
  },
  {
   "cell_type": "markdown",
   "metadata": {},
   "source": [
    "## Problem 2\n",
    "\n",
    "For the list of PubChem compound ID numbers in the next code cell:\n",
    "1) Use the use the PUG-REST API to obtain their SMILES and PubChem Fingerprints and store in lists\n",
    "2) convert the PubChem Fingerprints to bitstrings and display\n",
    "3) display their structures \n"
   ]
  },
  {
   "cell_type": "code",
   "metadata": {},
   "source": [
    "CIDS = [     4980,   # psilocin             \n",
    "             1615,   # methylenedioxymethamphetamine\n",
    "            10257,   # bufotenin\n",
    "           360252,   # 5-bromo-DMT  \n",
    "             4076,   # mescaline \n",
    "            98527,   # 2C-B\n",
    "            5761 ]   # LSD \n",
    "\n",
    "# write your code here to obtain SMILES and PubChem Fingerprints \n"
   ],
   "outputs": [],
   "execution_count": null
  },
  {
   "cell_type": "code",
   "metadata": {},
   "source": [
    "# write your code here to convert fingerprints from Base64 to bitstring\n"
   ],
   "outputs": [],
   "execution_count": null
  },
  {
   "cell_type": "code",
   "metadata": {},
   "source": [
    "# write your code here to display structures\n"
   ],
   "outputs": [],
   "execution_count": null
  },
  {
   "cell_type": "markdown",
   "metadata": {},
   "source": [
    "### Problem 3\n",
    "For the molecules below, generate the 512-bit-long Morgan Fingeprint comparable to the **FCFP6** fingerprint.\n",
    "\n",
    "- Use the PUG REST API to search for the compounds by name and get their SMILES strings.\n",
    "- Generate the molecular fingerprints from the SMILES strings.\n",
    "- Print the generated fingerprints.\n"
   ]
  },
  {
   "cell_type": "code",
   "metadata": {},
   "source": [
    "synonyms = [ 'diphenhydramine', 'cetirizine', 'fexofenadine', 'loratadine' ]"
   ],
   "outputs": [],
   "execution_count": null
  },
  {
   "cell_type": "code",
   "metadata": {},
   "source": [
    "# Write your code in this cell\n"
   ],
   "outputs": [],
   "execution_count": null
  },
  {
   "cell_type": "markdown",
   "metadata": {},
   "source": [
    "# Acknowledgments"
   ]
  },
  {
   "cell_type": "code",
   "metadata": {},
   "source": [],
   "outputs": [],
   "execution_count": null
  }
 ],
 "metadata": {
  "kernelspec": {
   "display_name": "dataChem(py3.10)",
   "language": "python",
   "name": "datachem"
  },
  "language_info": {
   "codemirror_mode": {
    "name": "ipython",
    "version": 3
   },
   "file_extension": ".py",
   "mimetype": "text/x-python",
   "name": "python",
   "nbconvert_exporter": "python",
   "pygments_lexer": "ipython3",
   "version": "3.10.12"
  }
 },
 "nbformat": 4,
 "nbformat_minor": 4
}
