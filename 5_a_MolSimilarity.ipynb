{
 "cells": [
  {
   "cell_type": "markdown",
   "metadata": {},
   "source": [
    "<center><H1>Generating Molecular Fingerprints</H1></center>"
   ]
  },
  {
   "attachments": {},
   "cell_type": "markdown",
   "metadata": {},
   "source": [
    "<div class=\"alert alert-block alert-info\">\n",
    "<Strong>Objectives</strong>\n",
    "\n",
    "- Generate structural keys\n",
    "- Generate hashed fingerprints\n"
   ]
  },
  {
   "cell_type": "markdown",
   "metadata": {},
   "source": [
    "Many useful documents/papers describe various aspects of molecular similarity, including molecular fingerprints and similarity measures.  Please read these if you need more details."
   ]
  },
  {
   "cell_type": "markdown",
   "metadata": {},
   "source": [
    "- Getting Started with the RDKit in Python<br>\n",
    "(https://www.rdkit.org/docs/GettingStartedInPython.html#fingerprinting-and-molecular-similarity)\n",
    "\n",
    "- Fingerprint Generation, GraphSim Toolkit 2.4.2<br>\n",
    "(https://docs.eyesopen.com/toolkits/python/graphsimtk/fingerprint.html)\n",
    "\n",
    "- Chemical Fingerprints<br>\n",
    "(https://docs.chemaxon.com/display/docs/Chemical+Fingerprints)\n",
    "\n",
    "- Extended-Connectivity Fingerprints<br>\n",
    "(https://doi.org/10.1021/ci100050t)\n",
    "\n"
   ]
  },
  {
   "cell_type": "markdown",
   "metadata": {},
   "source": [
    "## Fingerprint Generation\n",
    "\n",
    "Molecular fingerprints are molecular descriptors that encode a molecule's structure as a bit string. Each bit in the string indicates the presence or absence of a structural feature. This notebook explores generation of two major types of molecular fingerprints:\n",
    "1) structural keys\n",
    "2) hashed fingerprints"
   ]
  },
  {
   "cell_type": "code",
   "metadata": {
    "ExecuteTime": {
     "end_time": "2025-09-16T12:29:27.726009Z",
     "start_time": "2025-09-16T12:29:27.723878Z"
    }
   },
   "source": [
    "from rdkit import Chem"
   ],
   "outputs": [],
   "execution_count": 2
  },
  {
   "cell_type": "code",
   "metadata": {
    "ExecuteTime": {
     "end_time": "2025-09-16T12:29:28.933419Z",
     "start_time": "2025-09-16T12:29:28.919920Z"
    }
   },
   "source": [
    "mol = Chem.MolFromSmiles('CC(C)C1=C(C(=C(N1CC[C@H](C[C@H](CC(=O)O)O)O)C2=CC=C(C=C2)F)C3=CC=CC=C3)C(=O)NC4=CC=CC=C4')# atorvastatin\n",
    "mol\n"
   ],
   "outputs": [
    {
     "data": {
      "text/plain": [
       "<rdkit.Chem.rdchem.Mol at 0x1661f0270>"
      ],
      "image/png": "[encoded data removed]"
     },
     "execution_count": 3,
     "metadata": {},
     "output_type": "execute_result"
    }
   ],
   "execution_count": 3
  },
  {
   "cell_type": "markdown",
   "metadata": {},
   "source": [
    "<div class=\"alert alert-block alert-success\">\n",
    "<H3>Structural Keys</H3> "
   ]
  },
  {
   "cell_type": "markdown",
   "metadata": {},
   "source": [
    "### 1: MACCS keys\n",
    "The MACCS key is a binary fingerprint (a string of 0's and 1's) with a total length of 166 bits.  Each bit position represents the presence (=1) or absence (=0) of a pre-defined structural feature.  The feature definitions for the MACCS keys are available at:<br> https://github.com/rdkit/rdkit/blob/master/rdkit/Chem/MACCSkeys.py"
   ]
  },
  {
   "cell_type": "code",
   "metadata": {
    "ExecuteTime": {
     "end_time": "2025-09-16T12:29:31.858355Z",
     "start_time": "2025-09-16T12:29:31.855504Z"
    }
   },
   "source": [
    "from rdkit.Chem import MACCSkeys  #import library for generating MACCSkeys from rdkit\n",
    "fp = MACCSkeys.GenMACCSKeys(mol)  # create an object called fp. It is an instance of the MACCSkeys fingerprint "
   ],
   "outputs": [],
   "execution_count": 4
  },
  {
   "cell_type": "code",
   "metadata": {
    "ExecuteTime": {
     "end_time": "2025-09-16T12:16:47.968473Z",
     "start_time": "2025-09-16T12:16:47.964242Z"
    }
   },
   "source": [
    "print('fp is of type:',(type(fp)))\n",
    "print()\n",
    "#this code prints out each value of the bits in the fingerprint ojbect\n",
    "#it loops through each bit and print\n",
    "print('printing the values of the bitstring as a loop:')\n",
    "for i in range(len(fp)):\n",
    "    print(fp[i], end='')\n",
    "print()\n",
    "# Alternative, easier way to convert it to a bitstring for output.\n",
    "print('printing the values of the bitstring as ToBitString method in rdkit')\n",
    "fp.ToBitString()    \n"
   ],
   "outputs": [
    {
     "name": "stdout",
     "output_type": "stream",
     "text": [
      "fp is of type: <class 'rdkit.DataStructs.cDataStructs.ExplicitBitVect'>\n",
      "\n",
      "printing the values of the bitstring as a loop:\n",
      "00000000000000000000000000000000000000000010000000000100000000100100000000110000100101010111100011001000100110110000011001110100110111111101101011111111111111111111110\n",
      "printing the values of the bitstring as ToBitString method in rdkit\n"
     ]
    },
    {
     "data": {
      "text/plain": [
       "'00000000000000000000000000000000000000000010000000000100000000100100000000110000100101010111100011001000100110110000011001110100110111111101101011111111111111111111110'"
      ]
     },
     "execution_count": 4,
     "metadata": {},
     "output_type": "execute_result"
    }
   ],
   "execution_count": 4
  },
  {
   "cell_type": "code",
   "metadata": {
    "ExecuteTime": {
     "end_time": "2025-09-16T12:29:34.844259Z",
     "start_time": "2025-09-16T12:29:34.842484Z"
    }
   },
   "source": [
    "print(len(fp))          #one way to get the number of bits in the fingerprint\n",
    "print(fp.GetNumBits())  # another way to get the number of bits in the fingerprint"
   ],
   "outputs": [
    {
     "name": "stdout",
     "output_type": "stream",
     "text": [
      "167\n",
      "167\n"
     ]
    }
   ],
   "execution_count": 5
  },
  {
   "cell_type": "markdown",
   "metadata": {},
   "source": [
    "Note that the MACCS key is **166-bit-long**, but RDKit generates a 167-bit-long fingerprint.  It is because the index of a list/vector in many programming languages (including python) begins at 0.  To use the original numbering of the MACCS keys (1-166) (rather than 0-165), the MACCS keys were implemented to be 167-bit-long, with Bit 0 being always zero. Because Bit 0 is set to OFF for all compounds, it does not affect the evaluation of molecular similarity."
   ]
  },
  {
   "cell_type": "markdown",
   "metadata": {},
   "source": [
    "These are some methods that allow you to get some additional information on the MACCS Keys."
   ]
  },
  {
   "cell_type": "code",
   "metadata": {
    "ExecuteTime": {
     "end_time": "2025-09-16T12:29:38.256339Z",
     "start_time": "2025-09-16T12:29:38.254400Z"
    }
   },
   "source": [
    "print(fp.GetNumBits())      #get total number of bits\n",
    "print(fp.GetNumOffBits())   #get the total number bits with value 0\n",
    "print(fp.GetNumOnBits())    #get the total number bits with value 1\n",
    "print(fp.ToBinary())        #reports the binary representation of the fingerprint"
   ],
   "outputs": [
    {
     "name": "stdout",
     "output_type": "stream",
     "text": [
      "167\n",
      "105\n",
      "62\n",
      "b'\\xe0\\xff\\xff\\xff\\xa7\\x00\\x00\\x00>\\x00\\x00\\x00T\\x14\\x10\\x04\\x10\\x00\\x08\\x04\\x02\\x02\\x02\\x00\\x00\\x00\\x06\\x00\\x04\\x06\\x04\\x00\\x02\\x00\\n\\x00\\x04\\x00\\x00\\x02\\x04\\x00\\x02\\x00\\x00\\x00\\x00\\x00\\x00\\x02\\x00\\x02\\x02\\x00\\x00\\x00\\x00\\x00\\x00\\x00\\x00\\x00\\x00\\x00\\x00\\x00\\x00\\x00\\x00\\x00\\x00\\x00\\x00\\x00\\x02'\n"
     ]
    }
   ],
   "execution_count": 6
  },
  {
   "cell_type": "markdown",
   "metadata": {},
   "source": [
    "**Run the following code cells.**\n",
    "1) The first cell contains SMILES for a series of molecules and displays their structures\n",
    "2) The second cell displays the MACCS keys for each molecule in the list called smiles."
   ]
  },
  {
   "cell_type": "code",
   "metadata": {
    "ExecuteTime": {
     "end_time": "2025-09-16T12:29:40.882250Z",
     "start_time": "2025-09-16T12:29:40.875433Z"
    }
   },
   "source": [
    "# display a series of smiles\n",
    "smiles = [ 'C1=CC=CC=C1', # Benzene (Kekule)\n",
    "           'c1ccccc1',    # Benzene (\"Aromatized\" carbons)\n",
    "          'C1=CC=NC=C1', # pyridine   \n",
    "           'C1CCCCC1',    # Cyclohexene\n",
    "            'C1CCNCC1']   # piperidine    \n",
    "\n",
    "from rdkit.Chem import Draw\n",
    "mols = []\n",
    "for x in smiles:\n",
    "    mols.append(Chem.MolFromSmiles(x))\n",
    "\n",
    "#mols = [ Chem.MolFromSmiles(x) for x in smiles ]\n",
    "Chem.Draw.MolsToGridImage(mols, molsPerRow=5, subImgSize=(100,100), legends=[str(x) for x in smiles] )"
   ],
   "outputs": [
    {
     "data": {
      "image/png": "[encoded data removed]",
      "text/plain": [
       "<IPython.core.display.Image object>"
      ]
     },
     "execution_count": 7,
     "metadata": {},
     "output_type": "execute_result"
    }
   ],
   "execution_count": 7
  },
  {
   "cell_type": "code",
   "metadata": {
    "ExecuteTime": {
     "end_time": "2025-09-16T12:29:46.057257Z",
     "start_time": "2025-09-16T12:29:46.053608Z"
    }
   },
   "source": [
    "# generate MACCSKeys from smiles\n",
    "for smile in smiles:\n",
    "    print(smile)\n",
    "    mol = Chem.MolFromSmiles(smile)\n",
    "    fp = MACCSkeys.GenMACCSKeys(mol)\n",
    "    fp = fp.ToBitString()\n",
    "    print(fp)\n",
    "    for index, val in enumerate(fp):\n",
    "        if val == '1':\n",
    "            print(\"index is %d and value is %s\" %(index, val))\n",
    "    print()"
   ],
   "outputs": [
    {
     "name": "stdout",
     "output_type": "stream",
     "text": [
      "C1=CC=CC=C1\n",
      "00000000000000000000000000000000000000000000000000000000000000000000000000000000000000000000000000000000000000000000000000000000000000000000000000000000000000000011010\n",
      "index is 162 and value is 1\n",
      "index is 163 and value is 1\n",
      "index is 165 and value is 1\n",
      "\n",
      "c1ccccc1\n",
      "00000000000000000000000000000000000000000000000000000000000000000000000000000000000000000000000000000000000000000000000000000000000000000000000000000000000000000011010\n",
      "index is 162 and value is 1\n",
      "index is 163 and value is 1\n",
      "index is 165 and value is 1\n",
      "\n",
      "C1=CC=NC=C1\n",
      "00000000000000000000000000000000000000000000000000000000000000000100000000000000000000000000000000100000000000000000000001000000000000000100000000000000000000000111010\n",
      "index is 65 and value is 1\n",
      "index is 98 and value is 1\n",
      "index is 121 and value is 1\n",
      "index is 137 and value is 1\n",
      "index is 161 and value is 1\n",
      "index is 162 and value is 1\n",
      "index is 163 and value is 1\n",
      "index is 165 and value is 1\n",
      "\n",
      "C1CCCCC1\n",
      "00000000000000000000000000000000000000000000000000000000000000000000000000000000000000000000000000000000000000000000001000000000110000000000000000010000000000000001010\n",
      "index is 118 and value is 1\n",
      "index is 128 and value is 1\n",
      "index is 129 and value is 1\n",
      "index is 147 and value is 1\n",
      "index is 163 and value is 1\n",
      "index is 165 and value is 1\n",
      "\n",
      "C1CCNCC1\n",
      "00000000000000000000000000000000000000000000000000000000000000000000000000000000001000100011000000101000100000010000001001000000110000000110000000010001010000100101010\n",
      "index is 82 and value is 1\n",
      "index is 86 and value is 1\n",
      "index is 90 and value is 1\n",
      "index is 91 and value is 1\n",
      "index is 98 and value is 1\n",
      "index is 100 and value is 1\n",
      "index is 104 and value is 1\n",
      "index is 111 and value is 1\n",
      "index is 118 and value is 1\n",
      "index is 121 and value is 1\n",
      "index is 128 and value is 1\n",
      "index is 129 and value is 1\n",
      "index is 137 and value is 1\n",
      "index is 138 and value is 1\n",
      "index is 147 and value is 1\n",
      "index is 151 and value is 1\n",
      "index is 153 and value is 1\n",
      "index is 158 and value is 1\n",
      "index is 161 and value is 1\n",
      "index is 163 and value is 1\n",
      "index is 165 and value is 1\n",
      "\n"
     ]
    }
   ],
   "execution_count": 8
  },
  {
   "cell_type": "markdown",
   "metadata": {},
   "source": [
    "<div class=\"alert alert-block alert-warning\">\n",
    "<strong>Check your understanding</strong>\n",
    "    \n",
    "In general what structural features do benzene and pyridine have in common? <br>\n",
    "Which MACCS keys do they have in common?"
   ]
  },
  {
   "cell_type": "markdown",
   "metadata": {},
   "source": [
    "<div class=\"alert alert-block alert-warning\">\n",
    "The feature definitions for the MACCS keys are available at: https://github.com/rdkit/rdkit/blob/master/rdkit/Chem/MACCSkeys.py <br>\n",
    "<b>Write the fragment definition of the bits ON that are in common for benzene and pyridine</b> (one is already provided for you as an example)."
   ]
  },
  {
   "cell_type": "raw",
   "metadata": {},
   "source": [
    "162: ('a', 0),  # Aromatic\n",
    "\n",
    "\n",
    "\n",
    "\n",
    "\n"
   ]
  },
  {
   "cell_type": "markdown",
   "metadata": {},
   "source": [
    "<div class=\"alert alert-block alert-warning\">\n",
    "<b>Why is index 165 'on' for all of the examples in the smiles list?</b>"
   ]
  },
  {
   "cell_type": "markdown",
   "metadata": {},
   "source": [
    "### 2: PubChem Fingerprint\n",
    "\n",
    "The PubChem Fingerprint is a 881-bit-long binary fingerprint (ftp://ftp.ncbi.nlm.nih.gov/pubchem/specifications/pubchem_fingerprints.pdf).  Similar to the MACCS keys, it uses a pre-defined fragment dictionary.  The PubChem fingerprint for each compound in PubChem can be downloaded from PubChem.  "
   ]
  },
  {
   "cell_type": "code",
   "metadata": {
    "ExecuteTime": {
     "end_time": "2025-09-16T12:30:25.315330Z",
     "start_time": "2025-09-16T12:30:25.012374Z"
    }
   },
   "source": [
    "# the following code cell generates a PUG REST request to obtain the PubChem Fingerprint\n",
    "import requests\n",
    "prolog = \"https://pubchem.ncbi.nlm.nih.gov/rest/pug\"\n",
    "cid =\"2244\"  # CID for aspirin \n",
    "url = prolog + \"/compound/cid/\" + cid + \"/property/Fingerprint2D/TXT\"\n",
    "res = requests.get(url)\n",
    "pcfp_base64 = res.text  #pcfp = PubChemFingerPrint\n",
    "print(pcfp_base64)"
   ],
   "outputs": [
    {
     "name": "stdout",
     "output_type": "stream",
     "text": [
      "AAADccBwOAAAAAAAAAAAAAAAAAAAAAAAAAAwAAAAAAAAAAABAAAAGgAACAAADASAmAAyDoAABgCIAiDSCAACCAAkIAAIiAEGCMgMJzaENRqCe2Cl4BEIuYeIyCCOAAAAAAAIAAAAAAAAABAAAAAAAAAAAA==\n",
      "\n"
     ]
    }
   ],
   "execution_count": 9
  },
  {
   "cell_type": "markdown",
   "metadata": {},
   "source": [
    "Notice that the above output is not a binary bitstring. Pubchem Fingerprints are provided as Base64 encoded strings. The PubChem fingerprint is 881 bits representing structural features. Instead of storing these bits directly, PubChem encodes them as a new Base64 string. This provides for safer and easier transmittion through application programming interfaces (API) like PUG REST and databases can handle text better than the raw binary ones and zeros. When retrieved by the PUG REST API, the fingerprint appears as a 157 character string. Because they are base64-encoded, they should be decoded into binary bitstrings or bitvectors.\n",
    "\n",
    "Details about how to decode base64-encoded PubChem fingerprints is described on the last page of the PubChem Fingerprint specification (https://ftp.ncbi.nlm.nih.gov/pubchem/specifications/pubchem_fingerprints.pdf).  Below is a user-defined function that decodes a PubChem fingerprint into a bit string."
   ]
  },
  {
   "cell_type": "code",
   "metadata": {
    "ExecuteTime": {
     "end_time": "2025-09-16T12:30:36.164490Z",
     "start_time": "2025-09-16T12:30:36.162585Z"
    }
   },
   "source": [
    "from base64 import b64decode\n",
    "\n",
    "def PCFP_BitString(pcfp_base64) :\n",
    "\n",
    "    pcfp_bitstring = \"\".join( [\"{:08b}\".format(x) for x in b64decode( pcfp_base64 )] )[32:913]\n",
    "    return pcfp_bitstring\n",
    "    "
   ],
   "outputs": [],
   "execution_count": 10
  },
  {
   "cell_type": "markdown",
   "metadata": {},
   "source": [
    "Using the user defined function we created above, we can convert the base output to binary."
   ]
  },
  {
   "cell_type": "code",
   "metadata": {
    "ExecuteTime": {
     "end_time": "2025-09-16T12:30:39.983786Z",
     "start_time": "2025-09-16T12:30:39.981754Z"
    }
   },
   "source": [
    "pcfp_bitstring = PCFP_BitString(pcfp_base64)  # use the user defined function to convert the PubChem FingerPrint to a bitstring\n",
    "print(len(pcfp_bitstring))\n",
    "print(pcfp_bitstring)"
   ],
   "outputs": [
    {
     "name": "stdout",
     "output_type": "stream",
     "text": [
      "881\n",
      "11000000011100000011100000000000000000000000000000000000000000000000000000000000000000000000000000000000000000000000000000000000000000000000000000000000000000000000000000000000001100000000000000000000000000000000000000000000000000000000000000000000000000010000000000000000000000000001101000000000000000000000100000000000000000000000110000000100100000001001100000000000001100100000111010000000000000000000011000000000100010000000001000100000110100100000100000000000000000100000100000000000001001000010000000000000000010001000100000000001000001100000100011001000000011000010011100110110100001000011010100011010100000100111101101100000101001011110000000010001000010001011100110000111100010001100100000100000100011100000000000000000000000000000000000000000000010000000000000000000000000000000000000000000000000000000000000010000000000000000000000000000000000000000000000000000000000000\n"
     ]
    }
   ],
   "execution_count": 11
  },
  {
   "cell_type": "markdown",
   "metadata": {},
   "source": [
    "The generated bitstring can be converted to a bitvector that can be used for molecular similarity computation in RDKit (to be discussed in part 2)."
   ]
  },
  {
   "cell_type": "code",
   "metadata": {
    "ExecuteTime": {
     "end_time": "2025-09-16T12:30:44.838756Z",
     "start_time": "2025-09-16T12:30:44.836540Z"
    }
   },
   "source": [
    "from rdkit import DataStructs\n",
    "bitvect = DataStructs.CreateFromBitString(PCFP_BitString(pcfp_base64))\n",
    "type(bitvect)"
   ],
   "outputs": [
    {
     "data": {
      "text/plain": [
       "rdkit.DataStructs.cDataStructs.ExplicitBitVect"
      ]
     },
     "execution_count": 12,
     "metadata": {},
     "output_type": "execute_result"
    }
   ],
   "execution_count": 12
  },
  {
   "cell_type": "markdown",
   "metadata": {},
   "source": [
    "<div class=\"alert alert-block alert-success\">\n",
    "<H3>Hashed Fingerprints</H3> "
   ]
  },
  {
   "cell_type": "markdown",
   "metadata": {},
   "source": [
    "### 1: Circular Fingerprints"
   ]
  },
  {
   "cell_type": "markdown",
   "metadata": {},
   "source": [
    "MACCS Keys and PubChem Fingerprints are examples of structural keys which use a fixed length bit vector (166 and 881, respectively). Each bit in the vector corresponds to the presence (1) or absence (0) of a predefined chemical feature (atoms, bonds) or substructure ( aromatic rings, carbonyl). In contrast, extended connectivity fingerprints are generated algorithmically by exploring the neighborhood or each atom up to a given radius. The environment is then encoded into hashed identifiers. Structural keys rely on a fixed dictionary of features. Extnded connectivity fingerprints are more flexible and capture local atomic environments without the need for predefined substructures.\n",
    "\n",
    "Circular fingerprints are hashed fingerprints.  They are generated by exhaustively enumerating \"circular\" fragments (containing all atoms within a given radius from each heavy atom of the molecule) and then hashing these fragments into a fixed-length bitstring.  (Here, the \"radius\" from an atom is measured by the number of bonds that separates two atoms).\n",
    "\n",
    "Examples of circular fingerprints are the extended-connectivity fingerprint (ECFPs) and their variant called FCFPs (Functional-Class Fingerprints), originally described in a paper by Rogers and Hahn (https://doi.org/10.1021/ci100050t).  The RDKit implementation of these fingerprints are called \"Morgan Fingerprints\" (https://www.rdkit.org/docs/GettingStartedInPython.html#morgan-fingerprints-circular-fingerprints)."
   ]
  },
  {
   "cell_type": "code",
   "metadata": {
    "ExecuteTime": {
     "end_time": "2025-09-16T12:30:47.708887Z",
     "start_time": "2025-09-16T12:30:47.700781Z"
    }
   },
   "source": [
    "fluoxetine = Chem.MolFromSmiles('CNCCC(C1=CC=CC=C1)OC2=CC=C(C=C2)C(F)(F)F')\n",
    "fluoxetine"
   ],
   "outputs": [
    {
     "data": {
      "text/plain": [
       "<rdkit.Chem.rdchem.Mol at 0x16781b3e0>"
      ],
      "image/png": "[encoded data removed]"
     },
     "execution_count": 13,
     "metadata": {},
     "output_type": "execute_result"
    }
   ],
   "execution_count": 13
  },
  {
   "cell_type": "code",
   "metadata": {
    "ExecuteTime": {
     "end_time": "2025-09-16T12:31:07.779539Z",
     "start_time": "2025-09-16T12:31:07.770201Z"
    }
   },
   "source": [
    "from rdkit.Chem import rdFingerprintGenerator\n",
    "mfpgen = rdFingerprintGenerator.GetMorganGenerator(radius=2,fpSize=2048)\n",
    "fp2 = mfpgen.GetFingerprint(fluoxetine)\n",
    "bitstring= fp2.ToBitString()\n",
    "print(bitstring)\n",
    "print(\"The fingerprint length is\",len(bitstring))"
   ],
   "outputs": [
    {
     "name": "stdout",
     "output_type": "stream",
     "text": [
      "01000000000000000000000000000000000000000000000000000000000000000000000000000000100000000000000000000000000000000010000000000000000000000000000000000000000000000000000000000000000000000000000000000000000000000000000000000000000000000000000000000000000000000000000000000000000000000000000000000000000000000000000000000000001000000000000000000000000000000000000000000000000000000000000100000100000000000000000000000000000000000000000000000000000000000000000000000000000000000000000000000000000000000000000000000000000000000000000000000000001000000000000000000000000000000000000000000000000000000000000000000000000000000000000000000000000000000000000000000000000000001001000000000000000010000000000100000000000000000000001000000000000000000001000000000000000000000000000000000000000000000000000000000000000000000100000000000000000000000000000000000000000000000000000000000000000000000000000100000000000000000000000000000000000000000000000000000000000000000000000000000000100000000000000000000000000000000000000000000000000000000000000000000000000000000000000001000000000000000000000000000000100000000000000000000000000000000000000000000000000000000000000010000000000000000000000000000000000000000000000100000000000000000000000000000000000000000000000000000000000010000000000000000000000000000000000000000000000000000000000000000000000000000000000000000000000000000000010000000000000010000000000000000000000000000000000001000000000000100000000000000000000001000000000000000000000000000000000000000000000000000000000000000000000000000000000000000000000000000000000000000000000000000000010000000000000000000000000000000000000000000000000000000000000000000000000000000000010000000000000000000000000000010000000000000000000000000000000000000000000000100000001000000000010000000000000000000000000000000000000000000000000000000000000000000000000000000000000000000000000000000000000001000000000000000000000000000000000000000000000000000000100000000000000000000000000000000000000000000000000000000000000000010000000000000000000000000000000000000000001000000000\n",
      "The fingerprint length is 2048\n"
     ]
    }
   ],
   "execution_count": 14
  },
  {
   "cell_type": "markdown",
   "metadata": {},
   "source": [
    "When comparing the RDK's Morgan fingerprints with the ECFP/FCFP fingerprints, it is important to remember that the name of ECFP/FCFP fingerprints are suffixed with the **diameter** of the atom environments considered, while the Morgan Fingerprints take a **radius** parameter (e.g., the second argument \"2\" of GetMorganFingerprintAsBitVect() in the above code cell).  The Morgan fingerprint generated above (with a radius of 2) is comparable to the ECFP4 fingerprint (with a diameter of 4)."
   ]
  },
  {
   "cell_type": "markdown",
   "metadata": {},
   "source": [
    "MACCS Keys and PubChem Fingerprints are examples of structural keys which use a fixed length bit vector (166 and 881, respectively). Each bit in the vector corresponds to the presence (1) or absence (0) of a predefined chemical feature (atoms, bonds) or substructure ( aromatic rings, carbonyl). In contrast, extended connectivity fingerprints are generated algorithmically by exploring the neighborhood or each atom up to a given radius. The environment is then encoded into hashed identifiers. Structural keys rely on a fixed dictionary of features. Extnded connectivity fingerprints are more flexible and capture local atomic environments without the need for predefined substructures.\n",
    "\n",
    "\n",
    "**To get a better idea of how these fingerprints are generated, over this next section you will explore 1-bromobutane and 1-chlorobutane**"
   ]
  },
  {
   "cell_type": "code",
   "metadata": {
    "ExecuteTime": {
     "end_time": "2025-09-16T12:31:16.613579Z",
     "start_time": "2025-09-16T12:31:16.611639Z"
    }
   },
   "source": [
    "from rdkit.Chem import Draw\n",
    "from rdkit.Chem.Draw import IPythonConsole\n",
    "IPythonConsole.ipython_useSVG = True\n",
    "IPythonConsole.drawOptions.addAtomIndices = True   #this will add numbers to the image to help identify carbons later\n",
    "IPythonConsole.drawOptions.addStereoAnnotation = False"
   ],
   "outputs": [],
   "execution_count": 15
  },
  {
   "cell_type": "code",
   "metadata": {
    "ExecuteTime": {
     "end_time": "2025-09-16T12:31:20.325181Z",
     "start_time": "2025-09-16T12:31:20.316792Z"
    }
   },
   "source": [
    "mol = Chem.MolFromSmiles(\"BrCCCC\")  # 1-bromobutane\n",
    "mol"
   ],
   "outputs": [
    {
     "data": {
      "text/plain": [
       "<rdkit.Chem.rdchem.Mol at 0x16781b370>"
      ],
      "text/html": [
       "<?xml version='1.0' encoding='iso-8859-1'?>\n",
       "<svg version='1.1' baseProfile='full'\n",
       "              xmlns='http://www.w3.org/2000/svg'\n",
       "                      xmlns:rdkit='http://www.rdkit.org/xml'\n",
       "                      xmlns:xlink='http://www.w3.org/1999/xlink'\n",
       "                  xml:space='preserve'\n",
       "width='450px' height='150px' viewBox='0 0 450 150'>\n",
       "<!-- END OF HEADER -->\n",
       "<rect style='opacity:1.0;fill:#FFFFFF;stroke:none' width='450.0' height='150.0' x='0.0' y='0.0'> </rect>\n",
       "<path class='bond-0 atom-0 atom-1' d='M 388.8,87.2 L 349.8,64.7' style='fill:none;fill-rule:evenodd;stroke:#7F4C19;stroke-width:2.0px;stroke-linecap:butt;stroke-linejoin:miter;stroke-opacity:1' />\n",
       "<path class='bond-0 atom-0 atom-1' d='M 349.8,64.7 L 310.8,42.2' style='fill:none;fill-rule:evenodd;stroke:#000000;stroke-width:2.0px;stroke-linecap:butt;stroke-linejoin:miter;stroke-opacity:1' />\n",
       "<path class='bond-1 atom-1 atom-2' d='M 310.8,42.2 L 219.7,94.8' style='fill:none;fill-rule:evenodd;stroke:#000000;stroke-width:2.0px;stroke-linecap:butt;stroke-linejoin:miter;stroke-opacity:1' />\n",
       "<path class='bond-2 atom-2 atom-3' d='M 219.7,94.8 L 128.6,42.2' style='fill:none;fill-rule:evenodd;stroke:#000000;stroke-width:2.0px;stroke-linecap:butt;stroke-linejoin:miter;stroke-opacity:1' />\n",
       "<path class='bond-3 atom-3 atom-4' d='M 128.6,42.2 L 37.5,94.8' style='fill:none;fill-rule:evenodd;stroke:#000000;stroke-width:2.0px;stroke-linecap:butt;stroke-linejoin:miter;stroke-opacity:1' />\n",
       "<path d='M 312.8,43.3 L 310.8,42.2 L 306.2,44.8' style='fill:none;stroke:#000000;stroke-width:2.0px;stroke-linecap:butt;stroke-linejoin:miter;stroke-opacity:1;' />\n",
       "<path d='M 224.3,92.2 L 219.7,94.8 L 215.1,92.2' style='fill:none;stroke:#000000;stroke-width:2.0px;stroke-linecap:butt;stroke-linejoin:miter;stroke-opacity:1;' />\n",
       "<path d='M 133.2,44.8 L 128.6,42.2 L 124.0,44.8' style='fill:none;stroke:#000000;stroke-width:2.0px;stroke-linecap:butt;stroke-linejoin:miter;stroke-opacity:1;' />\n",
       "<path class='atom-0' d='M 406.0 94.1\n",
       "Q 408.8 94.8, 410.1 96.5\n",
       "Q 411.5 98.2, 411.5 100.6\n",
       "Q 411.5 104.5, 409.0 106.8\n",
       "Q 406.5 109.0, 401.8 109.0\n",
       "L 392.3 109.0\n",
       "L 392.3 80.6\n",
       "L 400.6 80.6\n",
       "Q 405.5 80.6, 407.9 82.6\n",
       "Q 410.4 84.6, 410.4 88.2\n",
       "Q 410.4 92.4, 406.0 94.1\n",
       "M 396.1 83.8\n",
       "L 396.1 92.7\n",
       "L 400.6 92.7\n",
       "Q 403.4 92.7, 404.9 91.6\n",
       "Q 406.4 90.4, 406.4 88.2\n",
       "Q 406.4 83.8, 400.6 83.8\n",
       "L 396.1 83.8\n",
       "M 401.8 105.8\n",
       "Q 404.6 105.8, 406.0 104.4\n",
       "Q 407.5 103.1, 407.5 100.6\n",
       "Q 407.5 98.3, 405.9 97.1\n",
       "Q 404.3 95.9, 401.2 95.9\n",
       "L 396.1 95.9\n",
       "L 396.1 105.8\n",
       "L 401.8 105.8\n",
       "' fill='#7F4C19'/>\n",
       "<path class='atom-0' d='M 418.0 88.4\n",
       "L 418.4 91.2\n",
       "Q 420.6 88.0, 424.1 88.0\n",
       "Q 425.2 88.0, 426.7 88.4\n",
       "L 426.1 91.8\n",
       "Q 424.4 91.4, 423.4 91.4\n",
       "Q 421.8 91.4, 420.6 92.1\n",
       "Q 419.6 92.7, 418.7 94.3\n",
       "L 418.7 109.0\n",
       "L 414.9 109.0\n",
       "L 414.9 88.4\n",
       "L 418.0 88.4\n",
       "' fill='#7F4C19'/>\n",
       "<path class='note' d='M 419.4 132.5\n",
       "Q 416.8 132.5, 415.5 130.6\n",
       "Q 414.3 128.6, 414.3 125.2\n",
       "Q 414.3 121.8, 415.5 119.9\n",
       "Q 416.8 118.0, 419.4 118.0\n",
       "Q 422.1 118.0, 423.3 119.9\n",
       "Q 424.6 121.8, 424.6 125.2\n",
       "Q 424.6 128.6, 423.3 130.6\n",
       "Q 422.0 132.5, 419.4 132.5\n",
       "M 419.4 130.9\n",
       "Q 421.0 130.9, 421.8 129.5\n",
       "Q 422.6 128.0, 422.6 125.2\n",
       "Q 422.6 122.4, 421.8 121.0\n",
       "Q 421.0 119.6, 419.4 119.6\n",
       "Q 417.9 119.6, 417.1 121.0\n",
       "Q 416.3 122.4, 416.3 125.2\n",
       "Q 416.3 128.0, 417.1 129.5\n",
       "Q 417.9 130.9, 419.4 130.9\n",
       "' fill='#000000'/>\n",
       "<path class='note' d='M 307.3 30.2\n",
       "L 310.4 30.2\n",
       "L 310.4 19.6\n",
       "L 307.0 20.7\n",
       "L 306.5 19.5\n",
       "L 310.9 17.6\n",
       "L 312.3 17.8\n",
       "L 312.3 30.2\n",
       "L 315.1 30.2\n",
       "L 315.1 31.8\n",
       "L 307.3 31.8\n",
       "L 307.3 30.2\n",
       "' fill='#000000'/>\n",
       "<path class='note' d='M 215.0 108.0\n",
       "Q 215.5 106.7, 216.7 105.9\n",
       "Q 218.0 105.2, 219.7 105.2\n",
       "Q 221.8 105.2, 223.0 106.3\n",
       "Q 224.2 107.5, 224.2 109.6\n",
       "Q 224.2 111.7, 222.7 113.6\n",
       "Q 221.1 115.6, 217.9 117.9\n",
       "L 224.5 117.9\n",
       "L 224.5 119.5\n",
       "L 214.9 119.5\n",
       "L 214.9 118.2\n",
       "Q 217.6 116.3, 219.1 114.9\n",
       "Q 220.7 113.5, 221.5 112.2\n",
       "Q 222.2 111.0, 222.2 109.7\n",
       "Q 222.2 108.3, 221.6 107.5\n",
       "Q 220.9 106.8, 219.7 106.8\n",
       "Q 218.6 106.8, 217.8 107.2\n",
       "Q 217.0 107.7, 216.5 108.7\n",
       "L 215.0 108.0\n",
       "' fill='#000000'/>\n",
       "<path class='note' d='M 130.6 24.4\n",
       "Q 132.0 24.8, 132.7 25.7\n",
       "Q 133.4 26.6, 133.4 28.0\n",
       "Q 133.4 29.2, 132.8 30.1\n",
       "Q 132.2 31.0, 131.1 31.5\n",
       "Q 130.0 32.0, 128.5 32.0\n",
       "Q 127.0 32.0, 125.9 31.5\n",
       "Q 124.7 31.0, 123.8 29.9\n",
       "L 125.0 28.7\n",
       "Q 125.9 29.7, 126.6 30.1\n",
       "Q 127.3 30.4, 128.5 30.4\n",
       "Q 129.8 30.4, 130.6 29.8\n",
       "Q 131.4 29.1, 131.4 27.9\n",
       "Q 131.4 26.5, 130.5 25.9\n",
       "Q 129.7 25.2, 128.0 25.2\n",
       "L 127.0 25.2\n",
       "L 127.0 23.8\n",
       "L 127.9 23.8\n",
       "Q 129.4 23.7, 130.2 23.1\n",
       "Q 131.1 22.4, 131.1 21.1\n",
       "Q 131.1 20.2, 130.4 19.7\n",
       "Q 129.7 19.1, 128.5 19.1\n",
       "Q 127.4 19.1, 126.6 19.5\n",
       "Q 125.9 20.0, 125.3 21.0\n",
       "L 124.0 20.3\n",
       "Q 124.5 19.1, 125.7 18.3\n",
       "Q 126.9 17.5, 128.5 17.5\n",
       "Q 130.6 17.5, 131.8 18.5\n",
       "Q 133.1 19.5, 133.1 21.1\n",
       "Q 133.1 22.3, 132.4 23.1\n",
       "Q 131.8 23.9, 130.6 24.4\n",
       "' fill='#000000'/>\n",
       "<path class='note' d='M 32.5 81.8\n",
       "L 34.2 81.8\n",
       "L 34.2 83.4\n",
       "L 32.5 83.4\n",
       "L 32.5 86.7\n",
       "L 30.6 86.7\n",
       "L 30.6 83.4\n",
       "L 23.3 83.4\n",
       "L 23.3 82.2\n",
       "L 29.5 72.5\n",
       "L 32.5 72.5\n",
       "L 32.5 81.8\n",
       "M 25.6 81.8\n",
       "L 30.6 81.8\n",
       "L 30.6 73.8\n",
       "L 25.6 81.8\n",
       "' fill='#000000'/>\n",
       "</svg>\n"
      ],
      "image/svg+xml": "<?xml version='1.0' encoding='iso-8859-1'?>\n<svg version='1.1' baseProfile='full'\n              xmlns='http://www.w3.org/2000/svg'\n                      xmlns:rdkit='http://www.rdkit.org/xml'\n                      xmlns:xlink='http://www.w3.org/1999/xlink'\n                  xml:space='preserve'\nwidth='450px' height='150px' viewBox='0 0 450 150'>\n<!-- END OF HEADER -->\n<rect style='opacity:1.0;fill:#FFFFFF;stroke:none' width='450.0' height='150.0' x='0.0' y='0.0'> </rect>\n<path class='bond-0 atom-0 atom-1' d='M 388.8,87.2 L 349.8,64.7' style='fill:none;fill-rule:evenodd;stroke:#7F4C19;stroke-width:2.0px;stroke-linecap:butt;stroke-linejoin:miter;stroke-opacity:1' />\n<path class='bond-0 atom-0 atom-1' d='M 349.8,64.7 L 310.8,42.2' style='fill:none;fill-rule:evenodd;stroke:#000000;stroke-width:2.0px;stroke-linecap:butt;stroke-linejoin:miter;stroke-opacity:1' />\n<path class='bond-1 atom-1 atom-2' d='M 310.8,42.2 L 219.7,94.8' style='fill:none;fill-rule:evenodd;stroke:#000000;stroke-width:2.0px;stroke-linecap:butt;stroke-linejoin:miter;stroke-opacity:1' />\n<path class='bond-2 atom-2 atom-3' d='M 219.7,94.8 L 128.6,42.2' style='fill:none;fill-rule:evenodd;stroke:#000000;stroke-width:2.0px;stroke-linecap:butt;stroke-linejoin:miter;stroke-opacity:1' />\n<path class='bond-3 atom-3 atom-4' d='M 128.6,42.2 L 37.5,94.8' style='fill:none;fill-rule:evenodd;stroke:#000000;stroke-width:2.0px;stroke-linecap:butt;stroke-linejoin:miter;stroke-opacity:1' />\n<path d='M 312.8,43.3 L 310.8,42.2 L 306.2,44.8' style='fill:none;stroke:#000000;stroke-width:2.0px;stroke-linecap:butt;stroke-linejoin:miter;stroke-opacity:1;' />\n<path d='M 224.3,92.2 L 219.7,94.8 L 215.1,92.2' style='fill:none;stroke:#000000;stroke-width:2.0px;stroke-linecap:butt;stroke-linejoin:miter;stroke-opacity:1;' />\n<path d='M 133.2,44.8 L 128.6,42.2 L 124.0,44.8' style='fill:none;stroke:#000000;stroke-width:2.0px;stroke-linecap:butt;stroke-linejoin:miter;stroke-opacity:1;' />\n<path class='atom-0' d='M 406.0 94.1\nQ 408.8 94.8, 410.1 96.5\nQ 411.5 98.2, 411.5 100.6\nQ 411.5 104.5, 409.0 106.8\nQ 406.5 109.0, 401.8 109.0\nL 392.3 109.0\nL 392.3 80.6\nL 400.6 80.6\nQ 405.5 80.6, 407.9 82.6\nQ 410.4 84.6, 410.4 88.2\nQ 410.4 92.4, 406.0 94.1\nM 396.1 83.8\nL 396.1 92.7\nL 400.6 92.7\nQ 403.4 92.7, 404.9 91.6\nQ 406.4 90.4, 406.4 88.2\nQ 406.4 83.8, 400.6 83.8\nL 396.1 83.8\nM 401.8 105.8\nQ 404.6 105.8, 406.0 104.4\nQ 407.5 103.1, 407.5 100.6\nQ 407.5 98.3, 405.9 97.1\nQ 404.3 95.9, 401.2 95.9\nL 396.1 95.9\nL 396.1 105.8\nL 401.8 105.8\n' fill='#7F4C19'/>\n<path class='atom-0' d='M 418.0 88.4\nL 418.4 91.2\nQ 420.6 88.0, 424.1 88.0\nQ 425.2 88.0, 426.7 88.4\nL 426.1 91.8\nQ 424.4 91.4, 423.4 91.4\nQ 421.8 91.4, 420.6 92.1\nQ 419.6 92.7, 418.7 94.3\nL 418.7 109.0\nL 414.9 109.0\nL 414.9 88.4\nL 418.0 88.4\n' fill='#7F4C19'/>\n<path class='note' d='M 419.4 132.5\nQ 416.8 132.5, 415.5 130.6\nQ 414.3 128.6, 414.3 125.2\nQ 414.3 121.8, 415.5 119.9\nQ 416.8 118.0, 419.4 118.0\nQ 422.1 118.0, 423.3 119.9\nQ 424.6 121.8, 424.6 125.2\nQ 424.6 128.6, 423.3 130.6\nQ 422.0 132.5, 419.4 132.5\nM 419.4 130.9\nQ 421.0 130.9, 421.8 129.5\nQ 422.6 128.0, 422.6 125.2\nQ 422.6 122.4, 421.8 121.0\nQ 421.0 119.6, 419.4 119.6\nQ 417.9 119.6, 417.1 121.0\nQ 416.3 122.4, 416.3 125.2\nQ 416.3 128.0, 417.1 129.5\nQ 417.9 130.9, 419.4 130.9\n' fill='#000000'/>\n<path class='note' d='M 307.3 30.2\nL 310.4 30.2\nL 310.4 19.6\nL 307.0 20.7\nL 306.5 19.5\nL 310.9 17.6\nL 312.3 17.8\nL 312.3 30.2\nL 315.1 30.2\nL 315.1 31.8\nL 307.3 31.8\nL 307.3 30.2\n' fill='#000000'/>\n<path class='note' d='M 215.0 108.0\nQ 215.5 106.7, 216.7 105.9\nQ 218.0 105.2, 219.7 105.2\nQ 221.8 105.2, 223.0 106.3\nQ 224.2 107.5, 224.2 109.6\nQ 224.2 111.7, 222.7 113.6\nQ 221.1 115.6, 217.9 117.9\nL 224.5 117.9\nL 224.5 119.5\nL 214.9 119.5\nL 214.9 118.2\nQ 217.6 116.3, 219.1 114.9\nQ 220.7 113.5, 221.5 112.2\nQ 222.2 111.0, 222.2 109.7\nQ 222.2 108.3, 221.6 107.5\nQ 220.9 106.8, 219.7 106.8\nQ 218.6 106.8, 217.8 107.2\nQ 217.0 107.7, 216.5 108.7\nL 215.0 108.0\n' fill='#000000'/>\n<path class='note' d='M 130.6 24.4\nQ 132.0 24.8, 132.7 25.7\nQ 133.4 26.6, 133.4 28.0\nQ 133.4 29.2, 132.8 30.1\nQ 132.2 31.0, 131.1 31.5\nQ 130.0 32.0, 128.5 32.0\nQ 127.0 32.0, 125.9 31.5\nQ 124.7 31.0, 123.8 29.9\nL 125.0 28.7\nQ 125.9 29.7, 126.6 30.1\nQ 127.3 30.4, 128.5 30.4\nQ 129.8 30.4, 130.6 29.8\nQ 131.4 29.1, 131.4 27.9\nQ 131.4 26.5, 130.5 25.9\nQ 129.7 25.2, 128.0 25.2\nL 127.0 25.2\nL 127.0 23.8\nL 127.9 23.8\nQ 129.4 23.7, 130.2 23.1\nQ 131.1 22.4, 131.1 21.1\nQ 131.1 20.2, 130.4 19.7\nQ 129.7 19.1, 128.5 19.1\nQ 127.4 19.1, 126.6 19.5\nQ 125.9 20.0, 125.3 21.0\nL 124.0 20.3\nQ 124.5 19.1, 125.7 18.3\nQ 126.9 17.5, 128.5 17.5\nQ 130.6 17.5, 131.8 18.5\nQ 133.1 19.5, 133.1 21.1\nQ 133.1 22.3, 132.4 23.1\nQ 131.8 23.9, 130.6 24.4\n' fill='#000000'/>\n<path class='note' d='M 32.5 81.8\nL 34.2 81.8\nL 34.2 83.4\nL 32.5 83.4\nL 32.5 86.7\nL 30.6 86.7\nL 30.6 83.4\nL 23.3 83.4\nL 23.3 82.2\nL 29.5 72.5\nL 32.5 72.5\nL 32.5 81.8\nM 25.6 81.8\nL 30.6 81.8\nL 30.6 73.8\nL 25.6 81.8\n' fill='#000000'/>\n</svg>\n",
      "image/png": "[encoded data removed]"
     },
     "execution_count": 16,
     "metadata": {},
     "output_type": "execute_result"
    }
   ],
   "execution_count": 16
  },
  {
   "cell_type": "markdown",
   "metadata": {},
   "source": [
    "Let's generate its rdkit Morgan Fingerprint (radius = 2). This would be comparable to the ECFP4 fingerprint."
   ]
  },
  {
   "cell_type": "code",
   "metadata": {
    "ExecuteTime": {
     "end_time": "2025-09-16T12:31:29.446480Z",
     "start_time": "2025-09-16T12:31:29.442060Z"
    }
   },
   "source": [
    "from rdkit import Chem\n",
    "from rdkit.Chem import rdFingerprintGenerator\n",
    "\n",
    "# Step 1: Create the molecule from SMILES\n",
    "mol = Chem.MolFromSmiles('BrCCCC')  # 1-bromobutane\n",
    "#mol = Chem.MolFromSmiles('CNC[C@H](O)c1ccc(O)c(O)c1') #epinephrine\n",
    "\n",
    "# Step 2: Initialize the Morgan fingerprint generator. We are setting the radius to 2 and total bit size to 1024\n",
    "morgan_gen = rdFingerprintGenerator.GetMorganGenerator(radius=2, fpSize=1024)\n",
    "\n",
    "# Step 3: Prepare the AdditionalOutput object to capture bit information\n",
    "additional_output = rdFingerprintGenerator.AdditionalOutput()\n",
    "additional_output.AllocateBitInfoMap()\n",
    "\n",
    "# Step 4: Generate the fingerprint with additional output\n",
    "fp1 = morgan_gen.GetFingerprint(mol, additionalOutput=additional_output)\n",
    "print(\"The Morgan Fingerprint radius 2 fingerprint (ECPF4) for the molecule is:\")\n",
    "print(fp1.ToBitString())\n",
    "print()\n",
    "\n",
    "# Step 5: Retrieve and display the bit information\n",
    "\n",
    "bit_info = additional_output.GetBitInfoMap()\n",
    "for bit_id, atom_radius_list in bit_info.items():\n",
    "    print(f\"Bit {bit_id} is set by:\")\n",
    "    for atom_idx, radius in atom_radius_list:\n",
    "        atom_symbol = mol.GetAtomWithIdx(atom_idx).GetSymbol()\n",
    "        print(f\"  - Atom index {atom_idx} ({atom_symbol}), Radius {radius}\")\n",
    "\n"
   ],
   "outputs": [
    {
     "name": "stdout",
     "output_type": "stream",
     "text": [
      "The Morgan Fingerprint radius 2 fingerprint (ECPF4) for the molecule is:\n",
      "0000000000000000000000000000000001000000000000000000000000000000000000000000000010000000000000000000000000000000000000000000000000000000000000000000000000000000000000000000000000000000000000000000000000000000000000000000000000000000000000000000000000010000000000000000000000000000000000000000001000000000000000000000000000000000000000000000000000000000000000000000000000000001000000000000000000000000000000000000000000000000000000000000000000000000000000000000000000000000000000000000000000000001000000000000000000000000000000000000000000000000000000000000000000000000000000000000000000000001000000000000000000000000000000000000000000000000100000000000000000000000000000000000000000000000000000000000000000000000000000000000000010000000000000000000000000000000000000000000000000000000000000000010000000000000000000000000000000000000000000000000000000000000000000000000000000000000000000010000000000000000000000000000000000000000000000000000000000000000000000000000000000000000000000000000000000000000000000000000000000000000\n",
      "\n",
      "Bit 33 is set by:\n",
      "  - Atom index 4 (C), Radius 0\n",
      "Bit 80 is set by:\n",
      "  - Atom index 1 (C), Radius 0\n",
      "  - Atom index 2 (C), Radius 0\n",
      "  - Atom index 3 (C), Radius 0\n",
      "Bit 251 is set by:\n",
      "  - Atom index 0 (Br), Radius 1\n",
      "Bit 294 is set by:\n",
      "  - Atom index 4 (C), Radius 1\n",
      "Bit 375 is set by:\n",
      "  - Atom index 1 (C), Radius 2\n",
      "Bit 495 is set by:\n",
      "  - Atom index 1 (C), Radius 1\n",
      "Bit 591 is set by:\n",
      "  - Atom index 3 (C), Radius 2\n",
      "Bit 640 is set by:\n",
      "  - Atom index 2 (C), Radius 2\n",
      "Bit 728 is set by:\n",
      "  - Atom index 0 (Br), Radius 0\n",
      "Bit 794 is set by:\n",
      "  - Atom index 3 (C), Radius 1\n",
      "Bit 887 is set by:\n",
      "  - Atom index 2 (C), Radius 1\n"
     ]
    }
   ],
   "execution_count": 18
  },
  {
   "cell_type": "markdown",
   "metadata": {},
   "source": [
    "**We can also display an image of the fragment that caused the bit to be equal to 1.**<br>\n",
    "\n",
    "Some notes about rendering:\n",
    "- The molecule fragment is drawn with the atoms in the same positions as in the original molecule.\n",
    "- The central atom is highlighted in blue.\n",
    "- Aromatic atoms are highlighted in yellow\n",
    "- Aliphatic ring atoms are highlighted in dark gray\n",
    "- Atoms/bonds that are drawn in light gray indicate pieces of the structure that influence the atoms' connectivity invariants but that are not directly part of the fingerprint.\n",
    "\n",
    "As an example, we can draw the fragment for bit 80 below (and change to different values based on the above bitlist."
   ]
  },
  {
   "cell_type": "code",
   "metadata": {
    "ExecuteTime": {
     "end_time": "2025-09-16T12:31:36.388721Z",
     "start_time": "2025-09-16T12:31:36.382819Z"
    }
   },
   "source": [
    "IPythonConsole.drawOptions.addAtomIndices = False \n",
    "mfp2_svg = Draw.DrawMorganBit(mol, 80, bit_info, useSVG=True)\n",
    "mfp2_svg"
   ],
   "outputs": [
    {
     "data": {
      "text/plain": [
       "<IPython.core.display.SVG object>"
      ],
      "image/svg+xml": "<svg xmlns=\"http://www.w3.org/2000/svg\" xmlns:rdkit=\"http://www.rdkit.org/xml\" xmlns:xlink=\"http://www.w3.org/1999/xlink\" version=\"1.1\" baseProfile=\"full\" xml:space=\"preserve\" width=\"150px\" height=\"150px\" viewBox=\"0 0 150 150\">\n<!-- END OF HEADER -->\n<rect style=\"opacity:1.0;fill:#FFFFFF;stroke:none\" width=\"150.0\" height=\"150.0\" x=\"0.0\" y=\"0.0\"> </rect>\n<ellipse cx=\"75.0\" cy=\"64.7\" rx=\"14.5\" ry=\"14.5\" class=\"atom-1\" style=\"fill:#9999E5;fill-rule:evenodd;stroke:#9999E5;stroke-width:1.0px;stroke-linecap:butt;stroke-linejoin:miter;stroke-opacity:1\"/>\n<path class=\"bond-0 atom-0 atom-1\" d=\"M 130.4,96.7 L 75.0,64.7\" style=\"fill:none;fill-rule:evenodd;stroke:#E5E5E5;stroke-width:3.9px;stroke-linecap:butt;stroke-linejoin:miter;stroke-opacity:1\"/>\n<path class=\"bond-1 atom-1 atom-2\" d=\"M 75.0,64.7 L 19.6,96.7\" style=\"fill:none;fill-rule:evenodd;stroke:#E5E5E5;stroke-width:3.9px;stroke-linecap:butt;stroke-linejoin:miter;stroke-opacity:1\"/>\n<path d=\"M 77.8,66.3 L 75.0,64.7 L 72.2,66.3\" style=\"fill:none;stroke:#E5E5E5;stroke-width:3.9px;stroke-linecap:butt;stroke-linejoin:miter;stroke-opacity:1;\"/>\n<path class=\"atom-0\" d=\"M 133.8 98.6 L 136.8 95.5 L 132.8 94.7 L 133.4 92.6 L 137.1 94.5 L 136.6 90.5 L 138.7 90.4 L 138.1 94.4 L 141.9 92.7 L 142.5 94.7 L 138.4 95.4 L 141.3 98.5 L 139.6 99.8 L 137.6 96.0 L 135.6 99.8 L 133.8 98.6 \" fill=\"#191919\"/>\n<path class=\"atom-2\" d=\"M 8.5 98.6 L 11.5 95.5 L 7.5 94.7 L 8.1 92.6 L 11.8 94.5 L 11.3 90.5 L 13.4 90.4 L 12.8 94.4 L 16.6 92.7 L 17.2 94.7 L 13.1 95.4 L 16.0 98.5 L 14.3 99.8 L 12.3 96.0 L 10.2 99.8 L 8.5 98.6 \" fill=\"#191919\"/>\n</svg>"
     },
     "execution_count": 19,
     "metadata": {},
     "output_type": "execute_result"
    }
   ],
   "execution_count": 19
  },
  {
   "cell_type": "markdown",
   "metadata": {},
   "source": [
    "While the above code can display 1 fingerprint fragment, it is more useful to display all fragments simultaneously:"
   ]
  },
  {
   "cell_type": "code",
   "metadata": {
    "ExecuteTime": {
     "end_time": "2025-09-16T12:31:43.683801Z",
     "start_time": "2025-09-16T12:31:43.676675Z"
    }
   },
   "source": [
    "# Create a list of tuples for visualization\n",
    "tpls = [(mol, bit_id, bit_info) for bit_id in fp1.GetOnBits()]\n",
    "# Generate legends for each bit\n",
    "legends = [str(bit_id) for bit_id in fp1.GetOnBits()]\n",
    "# Visualize the bits\n",
    "Draw.DrawMorganBits(tpls, molsPerRow=4, legends=legends)"
   ],
   "outputs": [
    {
     "data": {
      "text/plain": [
       "<IPython.core.display.SVG object>"
      ],
      "image/svg+xml": "<svg xmlns=\"http://www.w3.org/2000/svg\" xmlns:rdkit=\"http://www.rdkit.org/xml\" xmlns:xlink=\"http://www.w3.org/1999/xlink\" version=\"1.1\" baseProfile=\"full\" xml:space=\"preserve\" width=\"600px\" height=\"450px\" viewBox=\"0 0 600 450\">\n<!-- END OF HEADER -->\n<rect style=\"opacity:1.0;fill:#FFFFFF;stroke:none\" width=\"600.0\" height=\"450.0\" x=\"0.0\" y=\"0.0\"> </rect>\n<ellipse cx=\"61.9\" cy=\"76.4\" rx=\"7.1\" ry=\"7.1\" class=\"atom-1\" style=\"fill:#9999E5;fill-rule:evenodd;stroke:#9999E5;stroke-width:1.0px;stroke-linecap:butt;stroke-linejoin:miter;stroke-opacity:1\"/>\n<path class=\"bond-0 atom-0 atom-1\" d=\"M 91.7,59.2 L 61.9,76.4\" style=\"fill:none;fill-rule:evenodd;stroke:#E5E5E5;stroke-width:1.9px;stroke-linecap:butt;stroke-linejoin:miter;stroke-opacity:1\"/>\n<path class=\"atom-0\" d=\"M 90.9 57.4 L 92.4 55.9 L 90.5 55.5 L 90.8 54.5 L 92.6 55.4 L 92.3 53.4 L 93.4 53.4 L 93.1 55.4 L 94.9 54.6 L 95.2 55.5 L 93.2 55.9 L 94.7 57.4 L 93.8 58.1 L 92.8 56.2 L 91.8 58.1 L 90.9 57.4 \" fill=\"#191919\"/>\n<path class=\"legend\" d=\"M 71.5 136.4 Q 72.6 136.7, 73.1 137.4 Q 73.6 138.1, 73.6 139.2 Q 73.6 140.2, 73.2 140.9 Q 72.7 141.7, 71.8 142.1 Q 70.9 142.5, 69.8 142.5 Q 68.6 142.5, 67.6 142.1 Q 66.8 141.7, 66.0 140.8 L 66.9 139.9 Q 67.6 140.6, 68.2 140.9 Q 68.8 141.2, 69.8 141.2 Q 70.8 141.2, 71.4 140.7 Q 72.0 140.1, 72.0 139.2 Q 72.0 138.1, 71.4 137.6 Q 70.8 137.0, 69.4 137.0 L 68.5 137.0 L 68.5 135.9 L 69.3 135.9 Q 70.5 135.9, 71.2 135.3 Q 71.8 134.8, 71.8 133.8 Q 71.8 133.0, 71.3 132.6 Q 70.7 132.2, 69.8 132.2 Q 68.8 132.2, 68.3 132.5 Q 67.7 132.8, 67.2 133.7 L 66.1 133.1 Q 66.5 132.1, 67.5 131.5 Q 68.4 130.9, 69.8 130.9 Q 71.5 130.9, 72.4 131.7 Q 73.4 132.5, 73.4 133.8 Q 73.4 134.7, 72.9 135.3 Q 72.4 136.0, 71.5 136.4 \" fill=\"#000000\"/>\n<path class=\"legend\" d=\"M 80.8 136.4 Q 81.9 136.7, 82.4 137.4 Q 83.0 138.1, 83.0 139.2 Q 83.0 140.2, 82.5 140.9 Q 82.0 141.7, 81.1 142.1 Q 80.2 142.5, 79.1 142.5 Q 77.9 142.5, 77.0 142.1 Q 76.1 141.7, 75.4 140.8 L 76.3 139.9 Q 77.0 140.6, 77.6 140.9 Q 78.2 141.2, 79.1 141.2 Q 80.1 141.2, 80.7 140.7 Q 81.4 140.1, 81.4 139.2 Q 81.4 138.1, 80.7 137.6 Q 80.1 137.0, 78.7 137.0 L 77.9 137.0 L 77.9 135.9 L 78.6 135.9 Q 79.8 135.9, 80.5 135.3 Q 81.1 134.8, 81.1 133.8 Q 81.1 133.0, 80.6 132.6 Q 80.0 132.2, 79.1 132.2 Q 78.2 132.2, 77.6 132.5 Q 77.0 132.8, 76.6 133.7 L 75.4 133.1 Q 75.8 132.1, 76.8 131.5 Q 77.8 130.9, 79.1 130.9 Q 80.8 130.9, 81.8 131.7 Q 82.7 132.5, 82.7 133.8 Q 82.7 134.7, 82.2 135.3 Q 81.7 136.0, 80.8 136.4 \" fill=\"#000000\"/>\n<ellipse cx=\"225.0\" cy=\"63.4\" rx=\"7.1\" ry=\"7.1\" class=\"atom-1\" style=\"fill:#9999E5;fill-rule:evenodd;stroke:#9999E5;stroke-width:1.0px;stroke-linecap:butt;stroke-linejoin:miter;stroke-opacity:1\"/>\n<path class=\"bond-0 atom-0 atom-1\" d=\"M 252.4,79.2 L 225.0,63.4\" style=\"fill:none;fill-rule:evenodd;stroke:#E5E5E5;stroke-width:1.9px;stroke-linecap:butt;stroke-linejoin:miter;stroke-opacity:1\"/>\n<path class=\"bond-1 atom-1 atom-2\" d=\"M 225.0,63.4 L 197.6,79.2\" style=\"fill:none;fill-rule:evenodd;stroke:#E5E5E5;stroke-width:1.9px;stroke-linecap:butt;stroke-linejoin:miter;stroke-opacity:1\"/>\n<path d=\"M 226.4,64.2 L 225.0,63.4 L 223.6,64.2\" style=\"fill:none;stroke:#E5E5E5;stroke-width:1.9px;stroke-linecap:butt;stroke-linejoin:miter;stroke-opacity:1;\"/>\n<path class=\"atom-0\" d=\"M 254.0 80.1 L 255.5 78.6 L 253.5 78.2 L 253.8 77.2 L 255.7 78.1 L 255.4 76.1 L 256.5 76.1 L 256.2 78.1 L 258.0 77.2 L 258.3 78.2 L 256.3 78.6 L 257.8 80.1 L 256.9 80.7 L 255.9 78.9 L 254.9 80.7 L 254.0 80.1 \" fill=\"#191919\"/>\n<path class=\"atom-2\" d=\"M 192.2 80.1 L 193.6 78.6 L 191.7 78.2 L 192.0 77.2 L 193.8 78.1 L 193.5 76.1 L 194.6 76.1 L 194.3 78.1 L 196.1 77.2 L 196.5 78.2 L 194.5 78.6 L 195.9 80.1 L 195.0 80.7 L 194.0 78.9 L 193.0 80.7 L 192.2 80.1 \" fill=\"#191919\"/>\n<path class=\"legend\" d=\"M 221.2 136.3 Q 222.3 136.8, 222.9 137.5 Q 223.4 138.1, 223.4 139.2 Q 223.4 140.2, 222.9 140.9 Q 222.5 141.7, 221.6 142.1 Q 220.7 142.5, 219.5 142.5 Q 217.6 142.5, 216.5 141.6 Q 215.4 140.8, 215.4 139.2 Q 215.4 138.3, 215.9 137.6 Q 216.4 136.9, 217.4 136.4 Q 216.7 136.0, 216.3 135.4 Q 215.9 134.7, 215.9 133.8 Q 215.9 132.5, 216.8 131.7 Q 217.8 130.9, 219.4 130.9 Q 221.1 130.9, 222.1 131.7 Q 223.0 132.5, 223.0 133.8 Q 223.0 134.6, 222.6 135.2 Q 222.1 135.8, 221.2 136.3 M 219.4 132.1 Q 218.5 132.1, 218.0 132.5 Q 217.5 133.0, 217.5 133.8 Q 217.5 134.4, 217.8 134.8 Q 218.2 135.2, 218.7 135.4 Q 219.2 135.6, 220.1 135.9 Q 220.8 135.5, 221.1 134.9 Q 221.4 134.4, 221.4 133.8 Q 221.4 133.0, 220.9 132.5 Q 220.4 132.1, 219.4 132.1 M 219.5 141.3 Q 220.6 141.3, 221.2 140.7 Q 221.8 140.2, 221.8 139.2 Q 221.8 138.6, 221.5 138.2 Q 221.2 137.8, 220.7 137.6 Q 220.2 137.4, 219.3 137.1 L 218.5 136.9 Q 217.7 137.3, 217.4 137.9 Q 217.0 138.5, 217.0 139.2 Q 217.0 140.2, 217.7 140.7 Q 218.4 141.3, 219.5 141.3 \" fill=\"#000000\"/>\n<path class=\"legend\" d=\"M 229.4 142.5 Q 227.3 142.5, 226.3 140.9 Q 225.3 139.4, 225.3 136.7 Q 225.3 133.9, 226.3 132.4 Q 227.3 130.9, 229.4 130.9 Q 231.5 130.9, 232.5 132.4 Q 233.6 133.9, 233.6 136.7 Q 233.6 139.4, 232.5 140.9 Q 231.5 142.5, 229.4 142.5 M 229.4 141.2 Q 230.6 141.2, 231.3 140.1 Q 232.0 138.9, 232.0 136.7 Q 232.0 134.4, 231.3 133.3 Q 230.6 132.2, 229.4 132.2 Q 228.2 132.2, 227.5 133.3 Q 226.9 134.4, 226.9 136.7 Q 226.9 138.9, 227.5 140.1 Q 228.2 141.2, 229.4 141.2 \" fill=\"#000000\"/>\n<ellipse cx=\"402.7\" cy=\"73.9\" rx=\"7.1\" ry=\"7.1\" class=\"atom-0\" style=\"fill:#9999E5;fill-rule:evenodd;stroke:#9999E5;stroke-width:1.0px;stroke-linecap:butt;stroke-linejoin:miter;stroke-opacity:1\"/>\n<path class=\"bond-0 atom-0 atom-1\" d=\"M 398.1,71.2 L 371.8,56.0\" style=\"fill:none;fill-rule:evenodd;stroke:#000000;stroke-width:2.0px;stroke-linecap:butt;stroke-linejoin:miter;stroke-opacity:1\"/>\n<path class=\"bond-1 atom-1 atom-2\" d=\"M 371.8,56.0 L 344.4,71.8\" style=\"fill:none;fill-rule:evenodd;stroke:#E5E5E5;stroke-width:1.9px;stroke-linecap:butt;stroke-linejoin:miter;stroke-opacity:1\"/>\n<path d=\"M 372.4,56.4 L 371.8,56.0 L 371.1,56.4\" style=\"fill:none;stroke:#000000;stroke-width:2.0px;stroke-linecap:butt;stroke-linejoin:miter;stroke-opacity:1;\"/>\n<path class=\"atom-0\" d=\"M 404.2 73.6 Q 405.2 73.9, 405.6 74.5 Q 406.1 75.1, 406.1 75.9 Q 406.1 77.3, 405.2 78.1 Q 404.4 78.9, 402.7 78.9 L 399.3 78.9 L 399.3 68.8 L 402.3 68.8 Q 404.0 68.8, 404.9 69.5 Q 405.7 70.2, 405.7 71.5 Q 405.7 73.0, 404.2 73.6 M 400.6 69.9 L 400.6 73.1 L 402.3 73.1 Q 403.3 73.1, 403.8 72.7 Q 404.3 72.3, 404.3 71.5 Q 404.3 69.9, 402.3 69.9 L 400.6 69.9 M 402.7 77.8 Q 403.7 77.8, 404.2 77.3 Q 404.7 76.8, 404.7 75.9 Q 404.7 75.1, 404.1 74.7 Q 403.6 74.3, 402.5 74.3 L 400.6 74.3 L 400.6 77.8 L 402.7 77.8 \" fill=\"#000000\"/>\n<path class=\"atom-0\" d=\"M 408.4 71.6 L 408.6 72.6 Q 409.4 71.4, 410.6 71.4 Q 411.0 71.4, 411.6 71.6 L 411.3 72.8 Q 410.7 72.6, 410.4 72.6 Q 409.8 72.6, 409.4 72.9 Q 409.0 73.1, 408.7 73.7 L 408.7 78.9 L 407.3 78.9 L 407.3 71.6 L 408.4 71.6 \" fill=\"#000000\"/>\n<path class=\"atom-2\" d=\"M 338.9 72.7 L 340.4 71.2 L 338.4 70.8 L 338.7 69.8 L 340.6 70.7 L 340.3 68.7 L 341.4 68.7 L 341.1 70.7 L 342.9 69.8 L 343.2 70.8 L 341.2 71.2 L 342.7 72.7 L 341.8 73.3 L 340.8 71.5 L 339.8 73.3 L 338.9 72.7 \" fill=\"#191919\"/>\n<path class=\"legend\" d=\"M 361.9 133.2 Q 362.3 132.1, 363.3 131.5 Q 364.3 130.9, 365.6 130.9 Q 367.4 130.9, 368.3 131.8 Q 369.3 132.8, 369.3 134.4 Q 369.3 136.1, 368.0 137.7 Q 366.8 139.2, 364.2 141.1 L 369.5 141.1 L 369.5 142.4 L 361.8 142.4 L 361.8 141.3 Q 363.9 139.8, 365.2 138.7 Q 366.5 137.6, 367.1 136.5 Q 367.7 135.5, 367.7 134.5 Q 367.7 133.4, 367.1 132.8 Q 366.6 132.2, 365.6 132.2 Q 364.7 132.2, 364.1 132.6 Q 363.5 132.9, 363.1 133.7 L 361.9 133.2 \" fill=\"#000000\"/>\n<path class=\"legend\" d=\"M 375.3 135.3 Q 376.3 135.3, 377.1 135.7 Q 377.9 136.1, 378.4 136.9 Q 378.8 137.7, 378.8 138.8 Q 378.8 140.0, 378.3 140.8 Q 377.7 141.6, 376.8 142.1 Q 375.8 142.5, 374.8 142.5 Q 373.7 142.5, 372.8 142.1 Q 371.8 141.7, 371.2 141.0 L 372.1 140.0 Q 372.7 140.6, 373.4 140.9 Q 374.1 141.2, 374.8 141.2 Q 375.8 141.2, 376.5 140.6 Q 377.2 140.0, 377.2 138.8 Q 377.2 137.6, 376.5 137.1 Q 375.8 136.5, 374.7 136.5 Q 373.7 136.5, 372.6 136.9 L 371.8 136.5 L 372.3 131.0 L 378.1 131.0 L 378.0 132.3 L 373.6 132.3 L 373.3 135.7 Q 374.3 135.3, 375.3 135.3 \" fill=\"#000000\"/>\n<path class=\"legend\" d=\"M 381.0 141.1 L 383.4 141.1 L 383.4 132.6 L 380.7 133.5 L 380.3 132.5 L 383.8 131.0 L 384.9 131.2 L 384.9 141.1 L 387.2 141.1 L 387.2 142.4 L 381.0 142.4 L 381.0 141.1 \" fill=\"#000000\"/>\n<ellipse cx=\"496.4\" cy=\"73.9\" rx=\"7.1\" ry=\"7.1\" class=\"atom-2\" style=\"fill:#9999E5;fill-rule:evenodd;stroke:#9999E5;stroke-width:1.0px;stroke-linecap:butt;stroke-linejoin:miter;stroke-opacity:1\"/>\n<path class=\"bond-0 atom-0 atom-1\" d=\"M 554.7,71.8 L 527.4,56.0\" style=\"fill:none;fill-rule:evenodd;stroke:#E5E5E5;stroke-width:1.9px;stroke-linecap:butt;stroke-linejoin:miter;stroke-opacity:1\"/>\n<path class=\"bond-1 atom-1 atom-2\" d=\"M 527.4,56.0 L 496.4,73.9\" style=\"fill:none;fill-rule:evenodd;stroke:#000000;stroke-width:2.0px;stroke-linecap:butt;stroke-linejoin:miter;stroke-opacity:1\"/>\n<path d=\"M 528.1,56.4 L 527.4,56.0 L 526.6,56.4\" style=\"fill:none;stroke:#E5E5E5;stroke-width:1.9px;stroke-linecap:butt;stroke-linejoin:miter;stroke-opacity:1;\"/>\n<path class=\"atom-0\" d=\"M 556.4 72.7 L 557.9 71.2 L 555.9 70.8 L 556.2 69.8 L 558.0 70.7 L 557.8 68.7 L 558.8 68.7 L 558.5 70.7 L 560.4 69.8 L 560.7 70.8 L 558.7 71.2 L 560.1 72.7 L 559.3 73.3 L 558.3 71.5 L 557.3 73.3 L 556.4 72.7 \" fill=\"#191919\"/>\n<path class=\"legend\" d=\"M 510.6 133.2 Q 511.0 132.1, 512.0 131.5 Q 513.0 130.9, 514.4 130.9 Q 516.1 130.9, 517.0 131.8 Q 518.0 132.8, 518.0 134.4 Q 518.0 136.1, 516.8 137.7 Q 515.5 139.2, 513.0 141.1 L 518.2 141.1 L 518.2 142.4 L 510.6 142.4 L 510.6 141.3 Q 512.7 139.8, 513.9 138.7 Q 515.2 137.6, 515.8 136.5 Q 516.4 135.5, 516.4 134.5 Q 516.4 133.4, 515.9 132.8 Q 515.3 132.2, 514.4 132.2 Q 513.5 132.2, 512.9 132.6 Q 512.2 132.9, 511.8 133.7 L 510.6 133.2 \" fill=\"#000000\"/>\n<path class=\"legend\" d=\"M 523.8 130.9 Q 525.8 130.9, 526.8 132.3 Q 527.8 133.7, 527.8 136.4 Q 527.8 139.4, 526.6 140.9 Q 525.3 142.5, 522.9 142.5 Q 522.2 142.5, 521.6 142.3 Q 521.0 142.2, 520.4 141.8 L 521.0 140.8 Q 521.9 141.2, 522.9 141.2 Q 524.5 141.2, 525.3 140.2 Q 526.1 139.2, 526.2 137.0 Q 525.6 137.6, 524.9 137.8 Q 524.2 138.1, 523.4 138.1 Q 522.4 138.1, 521.6 137.7 Q 520.8 137.3, 520.4 136.5 Q 520.0 135.7, 520.0 134.7 Q 520.0 133.6, 520.4 132.7 Q 520.9 131.9, 521.8 131.4 Q 522.7 130.9, 523.8 130.9 M 521.6 134.7 Q 521.6 135.7, 522.1 136.3 Q 522.7 136.8, 523.7 136.8 Q 524.4 136.8, 525.0 136.6 Q 525.7 136.3, 526.2 135.8 Q 526.1 133.9, 525.5 133.1 Q 525.0 132.2, 523.8 132.2 Q 523.1 132.2, 522.6 132.5 Q 522.1 132.9, 521.9 133.4 Q 521.6 134.0, 521.6 134.7 \" fill=\"#000000\"/>\n<path class=\"legend\" d=\"M 537.1 138.5 L 538.4 138.5 L 538.4 139.8 L 537.1 139.8 L 537.1 142.4 L 535.6 142.4 L 535.6 139.8 L 529.7 139.8 L 529.7 138.8 L 534.7 131.0 L 537.1 131.0 L 537.1 138.5 M 531.6 138.5 L 535.6 138.5 L 535.6 132.1 L 531.6 138.5 \" fill=\"#000000\"/>\n<ellipse cx=\"102.7\" cy=\"210.6\" rx=\"7.1\" ry=\"7.1\" class=\"atom-1\" style=\"fill:#9999E5;fill-rule:evenodd;stroke:#9999E5;stroke-width:1.0px;stroke-linecap:butt;stroke-linejoin:miter;stroke-opacity:1\"/>\n<path class=\"bond-0 atom-0 atom-1\" d=\"M 129.0,225.8 L 115.9,218.2\" style=\"fill:none;fill-rule:evenodd;stroke:#7F4C19;stroke-width:2.0px;stroke-linecap:butt;stroke-linejoin:miter;stroke-opacity:1\"/>\n<path class=\"bond-0 atom-0 atom-1\" d=\"M 115.9,218.2 L 102.7,210.6\" style=\"fill:none;fill-rule:evenodd;stroke:#000000;stroke-width:2.0px;stroke-linecap:butt;stroke-linejoin:miter;stroke-opacity:1\"/>\n<path class=\"bond-1 atom-1 atom-2\" d=\"M 102.7,210.6 L 71.8,228.5\" style=\"fill:none;fill-rule:evenodd;stroke:#000000;stroke-width:2.0px;stroke-linecap:butt;stroke-linejoin:miter;stroke-opacity:1\"/>\n<path class=\"bond-2 atom-2 atom-3\" d=\"M 71.8,228.5 L 40.8,210.6\" style=\"fill:none;fill-rule:evenodd;stroke:#000000;stroke-width:2.0px;stroke-linecap:butt;stroke-linejoin:miter;stroke-opacity:1\"/>\n<path class=\"bond-3 atom-3 atom-4\" d=\"M 40.8,210.6 L 13.5,226.4\" style=\"fill:none;fill-rule:evenodd;stroke:#E5E5E5;stroke-width:1.9px;stroke-linecap:butt;stroke-linejoin:miter;stroke-opacity:1\"/>\n<path d=\"M 103.4,211.0 L 102.7,210.6 L 101.2,211.5\" style=\"fill:none;stroke:#000000;stroke-width:2.0px;stroke-linecap:butt;stroke-linejoin:miter;stroke-opacity:1;\"/>\n<path d=\"M 73.3,227.6 L 71.8,228.5 L 70.2,227.6\" style=\"fill:none;stroke:#000000;stroke-width:2.0px;stroke-linecap:butt;stroke-linejoin:miter;stroke-opacity:1;\"/>\n<path d=\"M 41.6,211.1 L 40.8,210.6 L 40.1,211.0\" style=\"fill:none;stroke:#000000;stroke-width:2.0px;stroke-linecap:butt;stroke-linejoin:miter;stroke-opacity:1;\"/>\n<path class=\"atom-0\" d=\"M 135.1 228.2 Q 136.1 228.5, 136.6 229.1 Q 137.1 229.7, 137.1 230.5 Q 137.1 231.9, 136.2 232.7 Q 135.3 233.5, 133.6 233.5 L 130.2 233.5 L 130.2 223.4 L 133.2 223.4 Q 134.9 223.4, 135.8 224.1 Q 136.7 224.8, 136.7 226.1 Q 136.7 227.6, 135.1 228.2 M 131.6 224.6 L 131.6 227.7 L 133.2 227.7 Q 134.2 227.7, 134.7 227.3 Q 135.2 226.9, 135.2 226.1 Q 135.2 224.6, 133.2 224.6 L 131.6 224.6 M 133.6 232.4 Q 134.6 232.4, 135.1 231.9 Q 135.6 231.4, 135.6 230.5 Q 135.6 229.7, 135.1 229.3 Q 134.5 228.9, 133.4 228.9 L 131.6 228.9 L 131.6 232.4 L 133.6 232.4 \" fill=\"#7F4C19\"/>\n<path class=\"atom-0\" d=\"M 139.4 226.2 L 139.5 227.2 Q 140.3 226.1, 141.6 226.1 Q 142.0 226.1, 142.5 226.2 L 142.3 227.4 Q 141.7 227.3, 141.3 227.3 Q 140.7 227.3, 140.3 227.5 Q 139.9 227.7, 139.6 228.3 L 139.6 233.5 L 138.3 233.5 L 138.3 226.2 L 139.4 226.2 \" fill=\"#7F4C19\"/>\n<path class=\"atom-4\" d=\"M 8.0 227.3 L 9.5 225.8 L 7.5 225.4 L 7.8 224.4 L 9.6 225.3 L 9.4 223.3 L 10.4 223.3 L 10.1 225.3 L 12.0 224.5 L 12.3 225.4 L 10.3 225.8 L 11.7 227.3 L 10.8 228.0 L 9.9 226.1 L 8.9 228.0 L 8.0 227.3 \" fill=\"#191919\"/>\n<path class=\"legend\" d=\"M 67.1 286.4 Q 68.2 286.7, 68.7 287.4 Q 69.3 288.1, 69.3 289.2 Q 69.3 290.2, 68.8 290.9 Q 68.3 291.7, 67.4 292.1 Q 66.5 292.5, 65.4 292.5 Q 64.2 292.5, 63.3 292.1 Q 62.4 291.7, 61.6 290.8 L 62.5 289.9 Q 63.3 290.6, 63.8 290.9 Q 64.4 291.2, 65.4 291.2 Q 66.4 291.2, 67.0 290.7 Q 67.7 290.1, 67.7 289.2 Q 67.7 288.1, 67.0 287.6 Q 66.4 287.0, 65.0 287.0 L 64.1 287.0 L 64.1 285.9 L 64.9 285.9 Q 66.1 285.9, 66.8 285.3 Q 67.4 284.8, 67.4 283.8 Q 67.4 283.0, 66.9 282.6 Q 66.3 282.2, 65.4 282.2 Q 64.5 282.2, 63.9 282.5 Q 63.3 282.8, 62.8 283.7 L 61.7 283.1 Q 62.1 282.1, 63.1 281.5 Q 64.1 280.9, 65.4 280.9 Q 67.1 280.9, 68.0 281.7 Q 69.0 282.5, 69.0 283.8 Q 69.0 284.7, 68.5 285.3 Q 68.0 286.0, 67.1 286.4 \" fill=\"#000000\"/>\n<path class=\"legend\" d=\"M 76.9 282.3 L 71.0 282.3 L 71.0 281.0 L 78.5 281.0 L 78.5 282.1 L 73.9 292.3 L 72.4 292.3 L 76.9 282.3 \" fill=\"#000000\"/>\n<path class=\"legend\" d=\"M 83.8 285.3 Q 84.8 285.3, 85.6 285.7 Q 86.4 286.1, 86.9 286.9 Q 87.4 287.7, 87.4 288.8 Q 87.4 289.9, 86.8 290.8 Q 86.2 291.6, 85.3 292.0 Q 84.4 292.5, 83.3 292.5 Q 82.3 292.5, 81.3 292.1 Q 80.4 291.7, 79.7 291.0 L 80.7 290.0 Q 81.2 290.5, 81.9 290.9 Q 82.6 291.2, 83.4 291.2 Q 84.4 291.2, 85.1 290.5 Q 85.8 289.9, 85.8 288.8 Q 85.8 287.6, 85.1 287.0 Q 84.4 286.5, 83.3 286.5 Q 82.3 286.5, 81.2 286.9 L 80.3 286.5 L 80.8 281.0 L 86.7 281.0 L 86.5 282.3 L 82.1 282.3 L 81.8 285.7 Q 82.8 285.3, 83.8 285.3 \" fill=\"#000000\"/>\n<ellipse cx=\"237.2\" cy=\"210.6\" rx=\"7.1\" ry=\"7.1\" class=\"atom-1\" style=\"fill:#9999E5;fill-rule:evenodd;stroke:#9999E5;stroke-width:1.0px;stroke-linecap:butt;stroke-linejoin:miter;stroke-opacity:1\"/>\n<path class=\"bond-0 atom-0 atom-1\" d=\"M 263.6,225.8 L 250.4,218.2\" style=\"fill:none;fill-rule:evenodd;stroke:#7F4C19;stroke-width:2.0px;stroke-linecap:butt;stroke-linejoin:miter;stroke-opacity:1\"/>\n<path class=\"bond-0 atom-0 atom-1\" d=\"M 250.4,218.2 L 237.2,210.6\" style=\"fill:none;fill-rule:evenodd;stroke:#000000;stroke-width:2.0px;stroke-linecap:butt;stroke-linejoin:miter;stroke-opacity:1\"/>\n<path class=\"bond-1 atom-1 atom-2\" d=\"M 237.2,210.6 L 206.3,228.5\" style=\"fill:none;fill-rule:evenodd;stroke:#000000;stroke-width:2.0px;stroke-linecap:butt;stroke-linejoin:miter;stroke-opacity:1\"/>\n<path class=\"bond-2 atom-2 atom-3\" d=\"M 206.3,228.5 L 176.5,211.3\" style=\"fill:none;fill-rule:evenodd;stroke:#E5E5E5;stroke-width:1.9px;stroke-linecap:butt;stroke-linejoin:miter;stroke-opacity:1\"/>\n<path d=\"M 237.9,211.0 L 237.2,210.6 L 235.7,211.5\" style=\"fill:none;stroke:#000000;stroke-width:2.0px;stroke-linecap:butt;stroke-linejoin:miter;stroke-opacity:1;\"/>\n<path d=\"M 207.1,228.0 L 206.3,228.5 L 205.6,228.0\" style=\"fill:none;stroke:#000000;stroke-width:2.0px;stroke-linecap:butt;stroke-linejoin:miter;stroke-opacity:1;\"/>\n<path class=\"atom-0\" d=\"M 269.6 228.2 Q 270.6 228.5, 271.1 229.1 Q 271.6 229.7, 271.6 230.5 Q 271.6 231.9, 270.7 232.7 Q 269.8 233.5, 268.1 233.5 L 264.7 233.5 L 264.7 223.4 L 267.7 223.4 Q 269.4 223.4, 270.3 224.1 Q 271.2 224.8, 271.2 226.1 Q 271.2 227.6, 269.6 228.2 M 266.1 224.6 L 266.1 227.7 L 267.7 227.7 Q 268.7 227.7, 269.2 227.3 Q 269.8 226.9, 269.8 226.1 Q 269.8 224.6, 267.7 224.6 L 266.1 224.6 M 268.1 232.4 Q 269.1 232.4, 269.6 231.9 Q 270.2 231.4, 270.2 230.5 Q 270.2 229.7, 269.6 229.3 Q 269.0 228.9, 267.9 228.9 L 266.1 228.9 L 266.1 232.4 L 268.1 232.4 \" fill=\"#7F4C19\"/>\n<path class=\"atom-0\" d=\"M 273.9 226.2 L 274.1 227.2 Q 274.8 226.1, 276.1 226.1 Q 276.5 226.1, 277.0 226.2 L 276.8 227.4 Q 276.2 227.3, 275.9 227.3 Q 275.3 227.3, 274.9 227.5 Q 274.5 227.7, 274.2 228.3 L 274.2 233.5 L 272.8 233.5 L 272.8 226.2 L 273.9 226.2 \" fill=\"#7F4C19\"/>\n<path class=\"atom-3\" d=\"M 173.5 209.5 L 174.9 208.0 L 173.0 207.6 L 173.3 206.6 L 175.1 207.5 L 174.8 205.5 L 175.9 205.5 L 175.6 207.5 L 177.4 206.6 L 177.8 207.6 L 175.8 207.9 L 177.2 209.5 L 176.3 210.1 L 175.3 208.2 L 174.3 210.1 L 173.5 209.5 \" fill=\"#191919\"/>\n<path class=\"legend\" d=\"M 218.0 288.5 L 219.4 288.5 L 219.4 289.8 L 218.0 289.8 L 218.0 292.4 L 216.5 292.4 L 216.5 289.8 L 210.6 289.8 L 210.6 288.8 L 215.6 281.0 L 218.0 281.0 L 218.0 288.5 M 212.5 288.5 L 216.5 288.5 L 216.5 282.1 L 212.5 288.5 \" fill=\"#000000\"/>\n<path class=\"legend\" d=\"M 224.8 280.9 Q 226.8 280.9, 227.8 282.3 Q 228.8 283.7, 228.8 286.4 Q 228.8 289.4, 227.5 290.9 Q 226.3 292.5, 223.9 292.5 Q 223.2 292.5, 222.6 292.3 Q 222.0 292.2, 221.4 291.8 L 222.0 290.8 Q 222.9 291.2, 223.9 291.2 Q 225.5 291.2, 226.3 290.2 Q 227.1 289.2, 227.2 287.0 Q 226.6 287.6, 225.9 287.8 Q 225.2 288.1, 224.4 288.1 Q 223.4 288.1, 222.6 287.7 Q 221.8 287.3, 221.4 286.5 Q 220.9 285.7, 220.9 284.7 Q 220.9 283.6, 221.4 282.7 Q 221.9 281.9, 222.8 281.4 Q 223.7 280.9, 224.8 280.9 M 222.5 284.7 Q 222.5 285.7, 223.1 286.3 Q 223.7 286.8, 224.7 286.8 Q 225.3 286.8, 226.0 286.6 Q 226.7 286.3, 227.2 285.8 Q 227.1 283.9, 226.5 283.1 Q 225.9 282.2, 224.7 282.2 Q 224.1 282.2, 223.6 282.5 Q 223.1 282.9, 222.8 283.4 Q 222.5 284.0, 222.5 284.7 \" fill=\"#000000\"/>\n<path class=\"legend\" d=\"M 234.8 285.3 Q 235.8 285.3, 236.6 285.7 Q 237.4 286.1, 237.9 286.9 Q 238.4 287.7, 238.4 288.8 Q 238.4 290.0, 237.8 290.8 Q 237.2 291.6, 236.3 292.1 Q 235.4 292.5, 234.3 292.5 Q 233.3 292.5, 232.3 292.1 Q 231.4 291.7, 230.7 291.0 L 231.7 290.0 Q 232.2 290.6, 232.9 290.9 Q 233.6 291.2, 234.4 291.2 Q 235.4 291.2, 236.1 290.6 Q 236.8 290.0, 236.8 288.8 Q 236.8 287.6, 236.1 287.1 Q 235.4 286.5, 234.3 286.5 Q 233.3 286.5, 232.2 286.9 L 231.3 286.5 L 231.8 281.0 L 237.7 281.0 L 237.5 282.3 L 233.1 282.3 L 232.8 285.7 Q 233.8 285.3, 234.8 285.3 \" fill=\"#000000\"/>\n<ellipse cx=\"342.9\" cy=\"213.1\" rx=\"7.1\" ry=\"7.1\" class=\"atom-3\" style=\"fill:#9999E5;fill-rule:evenodd;stroke:#9999E5;stroke-width:1.0px;stroke-linecap:butt;stroke-linejoin:miter;stroke-opacity:1\"/>\n<path class=\"bond-0 atom-0 atom-1\" d=\"M 432.1,228.9 L 404.7,213.1\" style=\"fill:none;fill-rule:evenodd;stroke:#E5E5E5;stroke-width:1.9px;stroke-linecap:butt;stroke-linejoin:miter;stroke-opacity:1\"/>\n<path class=\"bond-1 atom-1 atom-2\" d=\"M 404.7,213.1 L 373.8,231.0\" style=\"fill:none;fill-rule:evenodd;stroke:#000000;stroke-width:2.0px;stroke-linecap:butt;stroke-linejoin:miter;stroke-opacity:1\"/>\n<path class=\"bond-2 atom-2 atom-3\" d=\"M 373.8,231.0 L 342.9,213.1\" style=\"fill:none;fill-rule:evenodd;stroke:#000000;stroke-width:2.0px;stroke-linecap:butt;stroke-linejoin:miter;stroke-opacity:1\"/>\n<path class=\"bond-3 atom-3 atom-4\" d=\"M 342.9,213.1 L 311.9,231.0\" style=\"fill:none;fill-rule:evenodd;stroke:#000000;stroke-width:2.0px;stroke-linecap:butt;stroke-linejoin:miter;stroke-opacity:1\"/>\n<path d=\"M 405.4,213.5 L 404.7,213.1 L 404.0,213.6\" style=\"fill:none;stroke:#E5E5E5;stroke-width:1.9px;stroke-linecap:butt;stroke-linejoin:miter;stroke-opacity:1;\"/>\n<path d=\"M 375.4,230.1 L 373.8,231.0 L 372.3,230.1\" style=\"fill:none;stroke:#000000;stroke-width:2.0px;stroke-linecap:butt;stroke-linejoin:miter;stroke-opacity:1;\"/>\n<path d=\"M 344.4,214.0 L 342.9,213.1 L 341.3,214.0\" style=\"fill:none;stroke:#000000;stroke-width:2.0px;stroke-linecap:butt;stroke-linejoin:miter;stroke-opacity:1;\"/>\n<path class=\"atom-0\" d=\"M 433.8 229.9 L 435.3 228.4 L 433.3 228.0 L 433.6 226.9 L 435.4 227.9 L 435.1 225.9 L 436.2 225.9 L 435.9 227.8 L 437.8 227.0 L 438.1 228.0 L 436.1 228.3 L 437.5 229.9 L 436.6 230.5 L 435.6 228.6 L 434.6 230.5 L 433.8 229.9 \" fill=\"#191919\"/>\n<path class=\"legend\" d=\"M 365.8 285.3 Q 366.8 285.3, 367.6 285.7 Q 368.4 286.1, 368.9 286.9 Q 369.3 287.7, 369.3 288.8 Q 369.3 290.0, 368.7 290.8 Q 368.2 291.6, 367.3 292.1 Q 366.3 292.5, 365.3 292.5 Q 364.2 292.5, 363.3 292.1 Q 362.3 291.7, 361.7 291.0 L 362.6 290.0 Q 363.1 290.6, 363.9 290.9 Q 364.6 291.2, 365.3 291.2 Q 366.3 291.2, 367.0 290.6 Q 367.7 290.0, 367.7 288.8 Q 367.7 287.6, 367.0 287.1 Q 366.3 286.5, 365.2 286.5 Q 364.2 286.5, 363.1 286.9 L 362.2 286.5 L 362.8 281.0 L 368.6 281.0 L 368.5 282.3 L 364.1 282.3 L 363.8 285.7 Q 364.8 285.3, 365.8 285.3 \" fill=\"#000000\"/>\n<path class=\"legend\" d=\"M 374.6 280.9 Q 376.7 280.9, 377.7 282.3 Q 378.7 283.7, 378.7 286.4 Q 378.7 289.4, 377.4 290.9 Q 376.2 292.5, 373.8 292.5 Q 373.1 292.5, 372.4 292.3 Q 371.9 292.2, 371.3 291.8 L 371.9 290.8 Q 372.7 291.2, 373.7 291.2 Q 375.3 291.2, 376.2 290.2 Q 377.0 289.2, 377.1 287.0 Q 376.5 287.6, 375.8 287.8 Q 375.0 288.1, 374.3 288.1 Q 373.3 288.1, 372.5 287.7 Q 371.7 287.3, 371.3 286.5 Q 370.8 285.7, 370.8 284.7 Q 370.8 283.6, 371.3 282.7 Q 371.8 281.9, 372.7 281.4 Q 373.5 280.9, 374.6 280.9 M 372.4 284.7 Q 372.4 285.7, 373.0 286.3 Q 373.5 286.8, 374.5 286.8 Q 375.2 286.8, 375.9 286.6 Q 376.6 286.3, 377.1 285.8 Q 377.0 283.9, 376.4 283.1 Q 375.8 282.2, 374.6 282.2 Q 374.0 282.2, 373.5 282.5 Q 373.0 282.9, 372.7 283.4 Q 372.4 284.0, 372.4 284.7 \" fill=\"#000000\"/>\n<path class=\"legend\" d=\"M 381.1 291.1 L 383.6 291.1 L 383.6 282.6 L 380.9 283.5 L 380.5 282.5 L 384.0 281.0 L 385.1 281.2 L 385.1 291.1 L 387.3 291.1 L 387.3 292.4 L 381.1 292.4 L 381.1 291.1 \" fill=\"#000000\"/>\n<ellipse cx=\"520.6\" cy=\"223.9\" rx=\"7.1\" ry=\"7.1\" class=\"atom-2\" style=\"fill:#9999E5;fill-rule:evenodd;stroke:#9999E5;stroke-width:1.0px;stroke-linecap:butt;stroke-linejoin:miter;stroke-opacity:1\"/>\n<path class=\"bond-0 atom-0 atom-1\" d=\"M 577.8,221.2 L 564.7,213.6\" style=\"fill:none;fill-rule:evenodd;stroke:#7F4C19;stroke-width:2.0px;stroke-linecap:butt;stroke-linejoin:miter;stroke-opacity:1\"/>\n<path class=\"bond-0 atom-0 atom-1\" d=\"M 564.7,213.6 L 551.5,206.0\" style=\"fill:none;fill-rule:evenodd;stroke:#000000;stroke-width:2.0px;stroke-linecap:butt;stroke-linejoin:miter;stroke-opacity:1\"/>\n<path class=\"bond-1 atom-1 atom-2\" d=\"M 551.5,206.0 L 520.6,223.9\" style=\"fill:none;fill-rule:evenodd;stroke:#000000;stroke-width:2.0px;stroke-linecap:butt;stroke-linejoin:miter;stroke-opacity:1\"/>\n<path class=\"bond-2 atom-2 atom-3\" d=\"M 520.6,223.9 L 489.6,206.0\" style=\"fill:none;fill-rule:evenodd;stroke:#000000;stroke-width:2.0px;stroke-linecap:butt;stroke-linejoin:miter;stroke-opacity:1\"/>\n<path class=\"bond-3 atom-3 atom-4\" d=\"M 489.6,206.0 L 458.7,223.9\" style=\"fill:none;fill-rule:evenodd;stroke:#000000;stroke-width:2.0px;stroke-linecap:butt;stroke-linejoin:miter;stroke-opacity:1\"/>\n<path d=\"M 552.2,206.4 L 551.5,206.0 L 550.0,206.9\" style=\"fill:none;stroke:#000000;stroke-width:2.0px;stroke-linecap:butt;stroke-linejoin:miter;stroke-opacity:1;\"/>\n<path d=\"M 522.1,223.0 L 520.6,223.9 L 519.0,223.0\" style=\"fill:none;stroke:#000000;stroke-width:2.0px;stroke-linecap:butt;stroke-linejoin:miter;stroke-opacity:1;\"/>\n<path d=\"M 491.2,206.9 L 489.6,206.0 L 488.1,206.9\" style=\"fill:none;stroke:#000000;stroke-width:2.0px;stroke-linecap:butt;stroke-linejoin:miter;stroke-opacity:1;\"/>\n<path class=\"atom-0\" d=\"M 583.9 223.6 Q 584.9 223.9, 585.4 224.5 Q 585.9 225.1, 585.9 225.9 Q 585.9 227.3, 585.0 228.1 Q 584.1 228.9, 582.4 228.9 L 579.0 228.9 L 579.0 218.8 L 582.0 218.8 Q 583.7 218.8, 584.6 219.5 Q 585.5 220.2, 585.5 221.5 Q 585.5 223.0, 583.9 223.6 M 580.4 219.9 L 580.4 223.1 L 582.0 223.1 Q 583.0 223.1, 583.5 222.7 Q 584.0 222.3, 584.0 221.5 Q 584.0 219.9, 582.0 219.9 L 580.4 219.9 M 582.4 227.8 Q 583.4 227.8, 583.9 227.3 Q 584.4 226.8, 584.4 225.9 Q 584.4 225.1, 583.9 224.7 Q 583.3 224.3, 582.2 224.3 L 580.4 224.3 L 580.4 227.8 L 582.4 227.8 \" fill=\"#7F4C19\"/>\n<path class=\"atom-0\" d=\"M 588.2 221.6 L 588.3 222.6 Q 589.1 221.4, 590.4 221.4 Q 590.8 221.4, 591.3 221.6 L 591.1 222.8 Q 590.5 222.6, 590.1 222.6 Q 589.5 222.6, 589.1 222.9 Q 588.7 223.1, 588.4 223.7 L 588.4 228.9 L 587.1 228.9 L 587.1 221.6 L 588.2 221.6 \" fill=\"#7F4C19\"/>\n<path class=\"legend\" d=\"M 514.8 285.3 Q 515.8 285.3, 516.6 285.7 Q 517.4 286.2, 517.8 286.9 Q 518.3 287.7, 518.3 288.7 Q 518.3 289.8, 517.8 290.7 Q 517.3 291.5, 516.4 292.0 Q 515.6 292.5, 514.5 292.5 Q 512.4 292.5, 511.4 291.1 Q 510.4 289.8, 510.4 287.0 Q 510.4 284.0, 511.7 282.5 Q 512.9 280.9, 515.3 280.9 Q 516.0 280.9, 516.6 281.1 Q 517.2 281.2, 517.8 281.6 L 517.2 282.6 Q 516.4 282.2, 515.4 282.2 Q 513.8 282.2, 512.9 283.2 Q 512.1 284.3, 512.0 286.4 Q 512.6 285.9, 513.3 285.6 Q 514.1 285.3, 514.8 285.3 M 514.5 291.2 Q 515.1 291.2, 515.6 290.9 Q 516.1 290.5, 516.4 290.0 Q 516.7 289.4, 516.7 288.7 Q 516.7 287.7, 516.1 287.2 Q 515.5 286.6, 514.6 286.6 Q 513.9 286.6, 513.2 286.9 Q 512.5 287.1, 512.0 287.6 Q 512.1 289.5, 512.7 290.3 Q 513.3 291.2, 514.5 291.2 \" fill=\"#000000\"/>\n<path class=\"legend\" d=\"M 527.3 288.5 L 528.7 288.5 L 528.7 289.8 L 527.3 289.8 L 527.3 292.4 L 525.8 292.4 L 525.8 289.8 L 520.0 289.8 L 520.0 288.8 L 524.9 281.0 L 527.3 281.0 L 527.3 288.5 M 521.8 288.5 L 525.8 288.5 L 525.8 282.1 L 521.8 288.5 \" fill=\"#000000\"/>\n<path class=\"legend\" d=\"M 534.4 292.5 Q 532.4 292.5, 531.3 291.0 Q 530.3 289.4, 530.3 286.7 Q 530.3 284.0, 531.3 282.4 Q 532.4 280.9, 534.4 280.9 Q 536.5 280.9, 537.6 282.4 Q 538.6 284.0, 538.6 286.7 Q 538.6 289.4, 537.6 291.0 Q 536.5 292.5, 534.4 292.5 M 534.4 291.2 Q 535.7 291.2, 536.3 290.1 Q 537.0 288.9, 537.0 286.7 Q 537.0 284.5, 536.3 283.3 Q 535.7 282.2, 534.4 282.2 Q 533.2 282.2, 532.6 283.3 Q 531.9 284.5, 531.9 286.7 Q 531.9 288.9, 532.6 290.1 Q 533.2 291.2, 534.4 291.2 \" fill=\"#000000\"/>\n<ellipse cx=\"87.2\" cy=\"376.4\" rx=\"7.1\" ry=\"7.1\" class=\"atom-0\" style=\"fill:#9999E5;fill-rule:evenodd;stroke:#9999E5;stroke-width:1.0px;stroke-linecap:butt;stroke-linejoin:miter;stroke-opacity:1\"/>\n<path class=\"bond-0 atom-0 atom-1\" d=\"M 82.6,373.8 L 57.4,359.2\" style=\"fill:none;fill-rule:evenodd;stroke:#E5E5E5;stroke-width:1.9px;stroke-linecap:butt;stroke-linejoin:miter;stroke-opacity:1\"/>\n<path class=\"atom-0\" d=\"M 88.7 376.2 Q 89.7 376.4, 90.2 377.0 Q 90.7 377.6, 90.7 378.5 Q 90.7 379.9, 89.8 380.7 Q 88.9 381.5, 87.2 381.5 L 83.8 381.5 L 83.8 371.4 L 86.8 371.4 Q 88.5 371.4, 89.4 372.1 Q 90.3 372.8, 90.3 374.1 Q 90.3 375.6, 88.7 376.2 M 85.2 372.5 L 85.2 375.7 L 86.8 375.7 Q 87.8 375.7, 88.3 375.3 Q 88.8 374.9, 88.8 374.1 Q 88.8 372.5, 86.8 372.5 L 85.2 372.5 M 87.2 380.3 Q 88.2 380.3, 88.7 379.9 Q 89.2 379.4, 89.2 378.5 Q 89.2 377.7, 88.7 377.3 Q 88.1 376.8, 87.0 376.8 L 85.2 376.8 L 85.2 380.3 L 87.2 380.3 \" fill=\"#000000\"/>\n<path class=\"atom-0\" d=\"M 93.0 374.1 L 93.1 375.2 Q 93.9 374.0, 95.2 374.0 Q 95.6 374.0, 96.1 374.2 L 95.9 375.4 Q 95.3 375.2, 94.9 375.2 Q 94.3 375.2, 93.9 375.5 Q 93.5 375.7, 93.2 376.2 L 93.2 381.5 L 91.9 381.5 L 91.9 374.1 L 93.0 374.1 \" fill=\"#000000\"/>\n<path class=\"atom-1\" d=\"M 54.4 357.4 L 55.9 355.9 L 53.9 355.5 L 54.2 354.5 L 56.0 355.4 L 55.8 353.4 L 56.8 353.4 L 56.5 355.4 L 58.4 354.6 L 58.7 355.5 L 56.7 355.9 L 58.1 357.4 L 57.2 358.1 L 56.3 356.2 L 55.3 358.1 L 54.4 357.4 \" fill=\"#191919\"/>\n<path class=\"legend\" d=\"M 67.4 432.3 L 61.4 432.3 L 61.4 431.0 L 69.0 431.0 L 69.0 432.1 L 64.4 442.3 L 62.8 442.3 L 67.4 432.3 \" fill=\"#000000\"/>\n<path class=\"legend\" d=\"M 70.2 433.2 Q 70.6 432.1, 71.6 431.5 Q 72.6 430.9, 74.0 430.9 Q 75.7 430.9, 76.7 431.8 Q 77.6 432.7, 77.6 434.4 Q 77.6 436.1, 76.4 437.6 Q 75.2 439.2, 72.6 441.1 L 77.8 441.1 L 77.8 442.3 L 70.2 442.3 L 70.2 441.3 Q 72.3 439.8, 73.6 438.6 Q 74.8 437.5, 75.4 436.5 Q 76.0 435.5, 76.0 434.5 Q 76.0 433.4, 75.5 432.8 Q 74.9 432.2, 74.0 432.2 Q 73.1 432.2, 72.5 432.5 Q 71.9 432.9, 71.4 433.7 L 70.2 433.2 \" fill=\"#000000\"/>\n<path class=\"legend\" d=\"M 85.3 436.3 Q 86.4 436.8, 87.0 437.5 Q 87.6 438.1, 87.6 439.2 Q 87.6 440.2, 87.1 440.9 Q 86.6 441.7, 85.7 442.1 Q 84.8 442.5, 83.6 442.5 Q 81.7 442.5, 80.6 441.6 Q 79.6 440.8, 79.6 439.2 Q 79.6 438.3, 80.0 437.6 Q 80.5 436.9, 81.5 436.4 Q 80.8 436.0, 80.4 435.4 Q 80.0 434.7, 80.0 433.8 Q 80.0 432.5, 80.9 431.7 Q 81.9 430.9, 83.6 430.9 Q 85.2 430.9, 86.2 431.7 Q 87.1 432.5, 87.1 433.8 Q 87.1 434.6, 86.7 435.2 Q 86.2 435.8, 85.3 436.3 M 83.6 432.1 Q 82.6 432.1, 82.1 432.5 Q 81.6 433.0, 81.6 433.8 Q 81.6 434.4, 81.9 434.8 Q 82.3 435.2, 82.8 435.4 Q 83.3 435.6, 84.3 435.9 Q 85.0 435.5, 85.2 434.9 Q 85.5 434.4, 85.5 433.8 Q 85.5 433.0, 85.0 432.5 Q 84.5 432.1, 83.6 432.1 M 83.6 441.3 Q 84.7 441.3, 85.3 440.7 Q 86.0 440.2, 86.0 439.2 Q 86.0 438.6, 85.6 438.2 Q 85.3 437.8, 84.8 437.6 Q 84.3 437.4, 83.4 437.1 L 82.7 436.9 Q 81.9 437.3, 81.5 437.9 Q 81.2 438.5, 81.2 439.2 Q 81.2 440.2, 81.8 440.7 Q 82.5 441.3, 83.6 441.3 \" fill=\"#000000\"/>\n<ellipse cx=\"208.3\" cy=\"363.1\" rx=\"7.1\" ry=\"7.1\" class=\"atom-2\" style=\"fill:#9999E5;fill-rule:evenodd;stroke:#9999E5;stroke-width:1.0px;stroke-linecap:butt;stroke-linejoin:miter;stroke-opacity:1\"/>\n<path class=\"bond-0 atom-0 atom-1\" d=\"M 269.1,363.8 L 239.3,381.0\" style=\"fill:none;fill-rule:evenodd;stroke:#E5E5E5;stroke-width:1.9px;stroke-linecap:butt;stroke-linejoin:miter;stroke-opacity:1\"/>\n<path class=\"bond-1 atom-1 atom-2\" d=\"M 239.3,381.0 L 208.3,363.1\" style=\"fill:none;fill-rule:evenodd;stroke:#000000;stroke-width:2.0px;stroke-linecap:butt;stroke-linejoin:miter;stroke-opacity:1\"/>\n<path class=\"bond-2 atom-2 atom-3\" d=\"M 208.3,363.1 L 177.4,381.0\" style=\"fill:none;fill-rule:evenodd;stroke:#000000;stroke-width:2.0px;stroke-linecap:butt;stroke-linejoin:miter;stroke-opacity:1\"/>\n<path d=\"M 240.0,380.6 L 239.3,381.0 L 238.5,380.6\" style=\"fill:none;stroke:#E5E5E5;stroke-width:1.9px;stroke-linecap:butt;stroke-linejoin:miter;stroke-opacity:1;\"/>\n<path d=\"M 209.9,364.0 L 208.3,363.1 L 206.8,364.0\" style=\"fill:none;stroke:#000000;stroke-width:2.0px;stroke-linecap:butt;stroke-linejoin:miter;stroke-opacity:1;\"/>\n<path class=\"atom-0\" d=\"M 268.3 362.0 L 269.8 360.5 L 267.8 360.1 L 268.1 359.1 L 269.9 360.0 L 269.7 358.0 L 270.7 358.0 L 270.4 360.0 L 272.3 359.1 L 272.6 360.1 L 270.6 360.5 L 272.0 362.0 L 271.2 362.6 L 270.2 360.7 L 269.2 362.6 L 268.3 362.0 \" fill=\"#191919\"/>\n<path class=\"legend\" d=\"M 216.8 432.3 L 210.9 432.3 L 210.9 431.0 L 218.4 431.0 L 218.4 432.2 L 213.8 442.4 L 212.3 442.4 L 216.8 432.3 \" fill=\"#000000\"/>\n<path class=\"legend\" d=\"M 223.5 430.9 Q 225.5 430.9, 226.5 432.3 Q 227.5 433.7, 227.5 436.4 Q 227.5 439.4, 226.3 440.9 Q 225.0 442.5, 222.6 442.5 Q 221.9 442.5, 221.3 442.3 Q 220.7 442.2, 220.1 441.8 L 220.7 440.8 Q 221.6 441.2, 222.6 441.2 Q 224.2 441.2, 225.0 440.2 Q 225.8 439.2, 225.9 437.0 Q 225.3 437.6, 224.6 437.8 Q 223.9 438.1, 223.1 438.1 Q 222.1 438.1, 221.3 437.7 Q 220.5 437.3, 220.1 436.5 Q 219.7 435.7, 219.7 434.7 Q 219.7 433.6, 220.1 432.7 Q 220.6 431.9, 221.5 431.4 Q 222.4 430.9, 223.5 430.9 M 221.3 434.7 Q 221.3 435.7, 221.8 436.3 Q 222.4 436.8, 223.4 436.8 Q 224.1 436.8, 224.7 436.6 Q 225.4 436.3, 225.9 435.8 Q 225.8 433.9, 225.2 433.1 Q 224.7 432.2, 223.5 432.2 Q 222.8 432.2, 222.3 432.5 Q 221.8 432.9, 221.5 433.4 Q 221.3 434.0, 221.3 434.7 \" fill=\"#000000\"/>\n<path class=\"legend\" d=\"M 236.8 438.5 L 238.1 438.5 L 238.1 439.8 L 236.8 439.8 L 236.8 442.4 L 235.3 442.4 L 235.3 439.8 L 229.4 439.8 L 229.4 438.8 L 234.4 431.0 L 236.8 431.0 L 236.8 438.5 M 231.3 438.5 L 235.3 438.5 L 235.3 432.1 L 231.3 438.5 \" fill=\"#000000\"/>\n<ellipse cx=\"375.0\" cy=\"373.9\" rx=\"7.1\" ry=\"7.1\" class=\"atom-2\" style=\"fill:#9999E5;fill-rule:evenodd;stroke:#9999E5;stroke-width:1.0px;stroke-linecap:butt;stroke-linejoin:miter;stroke-opacity:1\"/>\n<path class=\"bond-0 atom-0 atom-1\" d=\"M 433.3,371.8 L 405.9,356.0\" style=\"fill:none;fill-rule:evenodd;stroke:#E5E5E5;stroke-width:1.9px;stroke-linecap:butt;stroke-linejoin:miter;stroke-opacity:1\"/>\n<path class=\"bond-1 atom-1 atom-2\" d=\"M 405.9,356.0 L 375.0,373.9\" style=\"fill:none;fill-rule:evenodd;stroke:#000000;stroke-width:2.0px;stroke-linecap:butt;stroke-linejoin:miter;stroke-opacity:1\"/>\n<path class=\"bond-2 atom-2 atom-3\" d=\"M 375.0,373.9 L 344.1,356.0\" style=\"fill:none;fill-rule:evenodd;stroke:#000000;stroke-width:2.0px;stroke-linecap:butt;stroke-linejoin:miter;stroke-opacity:1\"/>\n<path class=\"bond-3 atom-3 atom-4\" d=\"M 344.1,356.0 L 316.7,371.8\" style=\"fill:none;fill-rule:evenodd;stroke:#E5E5E5;stroke-width:1.9px;stroke-linecap:butt;stroke-linejoin:miter;stroke-opacity:1\"/>\n<path d=\"M 406.6,356.4 L 405.9,356.0 L 405.2,356.4\" style=\"fill:none;stroke:#E5E5E5;stroke-width:1.9px;stroke-linecap:butt;stroke-linejoin:miter;stroke-opacity:1;\"/>\n<path d=\"M 376.5,373.0 L 375.0,373.9 L 373.5,373.0\" style=\"fill:none;stroke:#000000;stroke-width:2.0px;stroke-linecap:butt;stroke-linejoin:miter;stroke-opacity:1;\"/>\n<path d=\"M 344.8,356.4 L 344.1,356.0 L 343.4,356.4\" style=\"fill:none;stroke:#000000;stroke-width:2.0px;stroke-linecap:butt;stroke-linejoin:miter;stroke-opacity:1;\"/>\n<path class=\"atom-0\" d=\"M 435.0 372.7 L 436.5 371.2 L 434.5 370.8 L 434.8 369.8 L 436.6 370.7 L 436.3 368.7 L 437.4 368.7 L 437.1 370.7 L 439.0 369.8 L 439.3 370.8 L 437.3 371.2 L 438.7 372.7 L 437.8 373.3 L 436.8 371.5 L 435.8 373.3 L 435.0 372.7 \" fill=\"#191919\"/>\n<path class=\"atom-4\" d=\"M 311.2 372.7 L 312.7 371.2 L 310.7 370.8 L 311.0 369.8 L 312.8 370.7 L 312.6 368.7 L 313.7 368.7 L 313.4 370.7 L 315.2 369.8 L 315.5 370.8 L 313.5 371.2 L 315.0 372.7 L 314.1 373.3 L 313.1 371.5 L 312.1 373.3 L 311.2 372.7 \" fill=\"#191919\"/>\n<path class=\"legend\" d=\"M 366.7 436.3 Q 367.8 436.8, 368.4 437.5 Q 368.9 438.1, 368.9 439.2 Q 368.9 440.2, 368.5 440.9 Q 368.0 441.7, 367.1 442.1 Q 366.2 442.5, 365.0 442.5 Q 363.1 442.5, 362.0 441.6 Q 360.9 440.8, 360.9 439.2 Q 360.9 438.3, 361.4 437.6 Q 361.9 436.9, 362.9 436.4 Q 362.2 436.0, 361.8 435.4 Q 361.4 434.7, 361.4 433.8 Q 361.4 432.5, 362.3 431.7 Q 363.3 430.9, 364.9 430.9 Q 366.6 430.9, 367.6 431.7 Q 368.5 432.5, 368.5 433.8 Q 368.5 434.6, 368.1 435.2 Q 367.6 435.8, 366.7 436.3 M 364.9 432.1 Q 364.0 432.1, 363.5 432.5 Q 363.0 433.0, 363.0 433.8 Q 363.0 434.4, 363.3 434.8 Q 363.7 435.2, 364.2 435.4 Q 364.7 435.6, 365.7 435.9 Q 366.3 435.5, 366.6 434.9 Q 366.9 434.4, 366.9 433.8 Q 366.9 433.0, 366.4 432.5 Q 365.9 432.1, 364.9 432.1 M 365.0 441.3 Q 366.1 441.3, 366.7 440.7 Q 367.3 440.2, 367.3 439.2 Q 367.3 438.6, 367.0 438.2 Q 366.7 437.8, 366.2 437.6 Q 365.7 437.4, 364.8 437.1 L 364.1 436.9 Q 363.3 437.3, 362.9 437.9 Q 362.5 438.5, 362.5 439.2 Q 362.5 440.2, 363.2 440.7 Q 363.9 441.3, 365.0 441.3 \" fill=\"#000000\"/>\n<path class=\"legend\" d=\"M 376.5 436.3 Q 377.6 436.8, 378.1 437.5 Q 378.7 438.1, 378.7 439.2 Q 378.7 440.2, 378.2 440.9 Q 377.7 441.7, 376.9 442.1 Q 376.0 442.5, 374.8 442.5 Q 372.9 442.5, 371.8 441.6 Q 370.7 440.8, 370.7 439.2 Q 370.7 438.3, 371.2 437.6 Q 371.7 436.9, 372.7 436.4 Q 372.0 436.0, 371.6 435.4 Q 371.2 434.7, 371.2 433.8 Q 371.2 432.5, 372.1 431.7 Q 373.1 430.9, 374.7 430.9 Q 376.4 430.9, 377.3 431.7 Q 378.3 432.5, 378.3 433.8 Q 378.3 434.6, 377.9 435.2 Q 377.4 435.8, 376.5 436.3 M 374.7 432.1 Q 373.8 432.1, 373.3 432.5 Q 372.8 433.0, 372.8 433.8 Q 372.8 434.4, 373.1 434.8 Q 373.5 435.2, 374.0 435.4 Q 374.5 435.6, 375.4 435.9 Q 376.1 435.5, 376.4 434.9 Q 376.7 434.4, 376.7 433.8 Q 376.7 433.0, 376.2 432.5 Q 375.7 432.1, 374.7 432.1 M 374.8 441.3 Q 375.9 441.3, 376.5 440.7 Q 377.1 440.2, 377.1 439.2 Q 377.1 438.6, 376.8 438.2 Q 376.5 437.8, 376.0 437.6 Q 375.5 437.4, 374.6 437.1 L 373.8 436.9 Q 373.0 437.3, 372.7 437.9 Q 372.3 438.5, 372.3 439.2 Q 372.3 440.2, 373.0 440.7 Q 373.7 441.3, 374.8 441.3 \" fill=\"#000000\"/>\n<path class=\"legend\" d=\"M 386.5 432.3 L 380.5 432.3 L 380.5 431.0 L 388.1 431.0 L 388.1 432.1 L 383.5 442.3 L 381.9 442.3 L 386.5 432.3 \" fill=\"#000000\"/>\n</svg>"
     },
     "execution_count": 20,
     "metadata": {},
     "output_type": "execute_result"
    }
   ],
   "execution_count": 20
  },
  {
   "cell_type": "markdown",
   "metadata": {},
   "source": [
    "<div class=\"alert alert-block alert-warning\">\n",
    "<strong>Check your understanding</strong>\n",
    "\n",
    "* Which bit above represents the bromine with a radius of 0?\n",
    "* Why do three carbons in 1-bromobutane result in an \"on\" bit for fragment 80?  \n",
    "* If you changed 1-bromobutane to 1-chlorobutane, which fragments above (33, 80, 251, 294, 375, 495, 591, 640, 728, 794, 887) would you still expect to have a value of 1? (write this prediction down in the next cell for later)"
   ]
  },
  {
   "cell_type": "code",
   "execution_count": null,
   "metadata": {},
   "outputs": [],
   "source": [
    "# Write your prediction for which values would you still expect to have a value of 1 if you changed the molecule from 1-bromobutane to 1-chlorobutane\n",
    "\n"
   ]
  },
  {
   "cell_type": "markdown",
   "metadata": {},
   "source": [
    "Let's compare the 1-bromobutane to 1-chlorobutane to determine if they have any fragments in common."
   ]
  },
  {
   "cell_type": "code",
   "metadata": {
    "ExecuteTime": {
     "end_time": "2025-09-16T12:31:50.656345Z",
     "start_time": "2025-09-16T12:31:50.649413Z"
    }
   },
   "source": [
    "IPythonConsole.drawOptions.addAtomIndices = True \n",
    "mol = Chem.MolFromSmiles('ClCCCC')  # 1-chlorobutane\n",
    "mol"
   ],
   "outputs": [
    {
     "data": {
      "text/plain": [
       "<rdkit.Chem.rdchem.Mol at 0x1678be490>"
      ],
      "text/html": [
       "<?xml version='1.0' encoding='iso-8859-1'?>\n",
       "<svg version='1.1' baseProfile='full'\n",
       "              xmlns='http://www.w3.org/2000/svg'\n",
       "                      xmlns:rdkit='http://www.rdkit.org/xml'\n",
       "                      xmlns:xlink='http://www.w3.org/1999/xlink'\n",
       "                  xml:space='preserve'\n",
       "width='450px' height='150px' viewBox='0 0 450 150'>\n",
       "<!-- END OF HEADER -->\n",
       "<rect style='opacity:1.0;fill:#FFFFFF;stroke:none' width='450.0' height='150.0' x='0.0' y='0.0'> </rect>\n",
       "<path class='bond-0 atom-0 atom-1' d='M 378.2,92.3 L 340.9,70.8' style='fill:none;fill-rule:evenodd;stroke:#00CC00;stroke-width:2.0px;stroke-linecap:butt;stroke-linejoin:miter;stroke-opacity:1' />\n",
       "<path class='bond-0 atom-0 atom-1' d='M 340.9,70.8 L 303.6,49.2' style='fill:none;fill-rule:evenodd;stroke:#000000;stroke-width:2.0px;stroke-linecap:butt;stroke-linejoin:miter;stroke-opacity:1' />\n",
       "<path class='bond-1 atom-1 atom-2' d='M 303.6,49.2 L 214.6,100.6' style='fill:none;fill-rule:evenodd;stroke:#000000;stroke-width:2.0px;stroke-linecap:butt;stroke-linejoin:miter;stroke-opacity:1' />\n",
       "<path class='bond-2 atom-2 atom-3' d='M 214.6,100.6 L 125.6,49.2' style='fill:none;fill-rule:evenodd;stroke:#000000;stroke-width:2.0px;stroke-linecap:butt;stroke-linejoin:miter;stroke-opacity:1' />\n",
       "<path class='bond-3 atom-3 atom-4' d='M 125.6,49.2 L 36.7,100.6' style='fill:none;fill-rule:evenodd;stroke:#000000;stroke-width:2.0px;stroke-linecap:butt;stroke-linejoin:miter;stroke-opacity:1' />\n",
       "<path d='M 305.4,50.3 L 303.6,49.2 L 299.1,51.8' style='fill:none;stroke:#000000;stroke-width:2.0px;stroke-linecap:butt;stroke-linejoin:miter;stroke-opacity:1;' />\n",
       "<path d='M 219.0,98.0 L 214.6,100.6 L 210.1,98.0' style='fill:none;stroke:#000000;stroke-width:2.0px;stroke-linecap:butt;stroke-linejoin:miter;stroke-opacity:1;' />\n",
       "<path d='M 130.1,51.8 L 125.6,49.2 L 121.2,51.8' style='fill:none;stroke:#000000;stroke-width:2.0px;stroke-linecap:butt;stroke-linejoin:miter;stroke-opacity:1;' />\n",
       "<path class='atom-0' d='M 381.6 101.6\n",
       "Q 381.6 94.5, 384.9 90.9\n",
       "Q 388.2 87.1, 394.5 87.1\n",
       "Q 400.3 87.1, 403.4 91.3\n",
       "L 400.8 93.4\n",
       "Q 398.5 90.4, 394.5 90.4\n",
       "Q 390.2 90.4, 387.9 93.3\n",
       "Q 385.7 96.1, 385.7 101.6\n",
       "Q 385.7 107.2, 388.0 110.1\n",
       "Q 390.4 112.9, 394.9 112.9\n",
       "Q 398.0 112.9, 401.7 111.1\n",
       "L 402.8 114.1\n",
       "Q 401.3 115.0, 399.1 115.6\n",
       "Q 396.8 116.1, 394.4 116.1\n",
       "Q 388.2 116.1, 384.9 112.4\n",
       "Q 381.6 108.6, 381.6 101.6\n",
       "' fill='#00CC00'/>\n",
       "<path class='atom-0' d='M 406.3 85.4\n",
       "L 410.0 85.4\n",
       "L 410.0 115.8\n",
       "L 406.3 115.8\n",
       "L 406.3 85.4\n",
       "' fill='#00CC00'/>\n",
       "<path class='note' d='M 422.2 125.0\n",
       "Q 419.6 125.0, 418.3 123.1\n",
       "Q 417.0 121.2, 417.0 117.8\n",
       "Q 417.0 114.4, 418.3 112.5\n",
       "Q 419.6 110.6, 422.2 110.6\n",
       "Q 424.8 110.6, 426.1 112.5\n",
       "Q 427.4 114.4, 427.4 117.8\n",
       "Q 427.4 121.2, 426.1 123.1\n",
       "Q 424.8 125.0, 422.2 125.0\n",
       "M 422.2 123.4\n",
       "Q 423.7 123.4, 424.5 122.0\n",
       "Q 425.4 120.6, 425.4 117.8\n",
       "Q 425.4 115.0, 424.5 113.6\n",
       "Q 423.7 112.2, 422.2 112.2\n",
       "Q 420.7 112.2, 419.8 113.6\n",
       "Q 419.0 115.0, 419.0 117.8\n",
       "Q 419.0 120.6, 419.8 122.0\n",
       "Q 420.7 123.4, 422.2 123.4\n",
       "' fill='#000000'/>\n",
       "<path class='note' d='M 300.1 37.6\n",
       "L 303.2 37.6\n",
       "L 303.2 27.1\n",
       "L 299.7 28.1\n",
       "L 299.3 26.9\n",
       "L 303.6 25.0\n",
       "L 305.0 25.2\n",
       "L 305.0 37.6\n",
       "L 307.8 37.6\n",
       "L 307.8 39.2\n",
       "L 300.1 39.2\n",
       "L 300.1 37.6\n",
       "' fill='#000000'/>\n",
       "<path class='note' d='M 209.9 113.4\n",
       "Q 210.4 112.1, 211.6 111.3\n",
       "Q 212.9 110.6, 214.6 110.6\n",
       "Q 216.7 110.6, 217.9 111.7\n",
       "Q 219.1 112.9, 219.1 114.9\n",
       "Q 219.1 117.0, 217.6 119.0\n",
       "Q 216.0 121.0, 212.8 123.3\n",
       "L 219.4 123.3\n",
       "L 219.4 124.9\n",
       "L 209.8 124.9\n",
       "L 209.8 123.5\n",
       "Q 212.5 121.7, 214.0 120.3\n",
       "Q 215.6 118.9, 216.4 117.6\n",
       "Q 217.1 116.3, 217.1 115.0\n",
       "Q 217.1 113.7, 216.4 112.9\n",
       "Q 215.8 112.2, 214.6 112.2\n",
       "Q 213.4 112.2, 212.7 112.6\n",
       "Q 211.9 113.1, 211.4 114.1\n",
       "L 209.9 113.4\n",
       "' fill='#000000'/>\n",
       "<path class='note' d='M 127.7 31.8\n",
       "Q 129.0 32.2, 129.7 33.1\n",
       "Q 130.4 34.0, 130.4 35.4\n",
       "Q 130.4 36.6, 129.8 37.5\n",
       "Q 129.2 38.5, 128.1 39.0\n",
       "Q 127.0 39.5, 125.5 39.5\n",
       "Q 124.0 39.5, 122.9 39.0\n",
       "Q 121.8 38.4, 120.9 37.3\n",
       "L 122.0 36.2\n",
       "Q 122.9 37.1, 123.6 37.5\n",
       "Q 124.4 37.9, 125.5 37.9\n",
       "Q 126.8 37.9, 127.6 37.2\n",
       "Q 128.4 36.5, 128.4 35.4\n",
       "Q 128.4 33.9, 127.6 33.3\n",
       "Q 126.8 32.6, 125.0 32.6\n",
       "L 124.0 32.6\n",
       "L 124.0 31.2\n",
       "L 124.9 31.2\n",
       "Q 126.4 31.2, 127.3 30.5\n",
       "Q 128.1 29.8, 128.1 28.6\n",
       "Q 128.1 27.7, 127.4 27.1\n",
       "Q 126.7 26.6, 125.6 26.6\n",
       "Q 124.4 26.6, 123.6 27.0\n",
       "Q 122.9 27.4, 122.4 28.5\n",
       "L 121.0 27.7\n",
       "Q 121.5 26.5, 122.7 25.8\n",
       "Q 123.9 25.0, 125.6 25.0\n",
       "Q 127.6 25.0, 128.9 25.9\n",
       "Q 130.1 26.9, 130.1 28.6\n",
       "Q 130.1 29.7, 129.5 30.5\n",
       "Q 128.8 31.4, 127.7 31.8\n",
       "' fill='#000000'/>\n",
       "<path class='note' d='M 31.8 88.0\n",
       "L 33.5 88.0\n",
       "L 33.5 89.6\n",
       "L 31.8 89.6\n",
       "L 31.8 92.9\n",
       "L 30.0 92.9\n",
       "L 30.0 89.6\n",
       "L 22.6 89.6\n",
       "L 22.6 88.3\n",
       "L 28.8 78.7\n",
       "L 31.8 78.7\n",
       "L 31.8 88.0\n",
       "M 25.0 88.0\n",
       "L 30.0 88.0\n",
       "L 30.0 80.0\n",
       "L 25.0 88.0\n",
       "' fill='#000000'/>\n",
       "</svg>\n"
      ],
      "image/svg+xml": "<?xml version='1.0' encoding='iso-8859-1'?>\n<svg version='1.1' baseProfile='full'\n              xmlns='http://www.w3.org/2000/svg'\n                      xmlns:rdkit='http://www.rdkit.org/xml'\n                      xmlns:xlink='http://www.w3.org/1999/xlink'\n                  xml:space='preserve'\nwidth='450px' height='150px' viewBox='0 0 450 150'>\n<!-- END OF HEADER -->\n<rect style='opacity:1.0;fill:#FFFFFF;stroke:none' width='450.0' height='150.0' x='0.0' y='0.0'> </rect>\n<path class='bond-0 atom-0 atom-1' d='M 378.2,92.3 L 340.9,70.8' style='fill:none;fill-rule:evenodd;stroke:#00CC00;stroke-width:2.0px;stroke-linecap:butt;stroke-linejoin:miter;stroke-opacity:1' />\n<path class='bond-0 atom-0 atom-1' d='M 340.9,70.8 L 303.6,49.2' style='fill:none;fill-rule:evenodd;stroke:#000000;stroke-width:2.0px;stroke-linecap:butt;stroke-linejoin:miter;stroke-opacity:1' />\n<path class='bond-1 atom-1 atom-2' d='M 303.6,49.2 L 214.6,100.6' style='fill:none;fill-rule:evenodd;stroke:#000000;stroke-width:2.0px;stroke-linecap:butt;stroke-linejoin:miter;stroke-opacity:1' />\n<path class='bond-2 atom-2 atom-3' d='M 214.6,100.6 L 125.6,49.2' style='fill:none;fill-rule:evenodd;stroke:#000000;stroke-width:2.0px;stroke-linecap:butt;stroke-linejoin:miter;stroke-opacity:1' />\n<path class='bond-3 atom-3 atom-4' d='M 125.6,49.2 L 36.7,100.6' style='fill:none;fill-rule:evenodd;stroke:#000000;stroke-width:2.0px;stroke-linecap:butt;stroke-linejoin:miter;stroke-opacity:1' />\n<path d='M 305.4,50.3 L 303.6,49.2 L 299.1,51.8' style='fill:none;stroke:#000000;stroke-width:2.0px;stroke-linecap:butt;stroke-linejoin:miter;stroke-opacity:1;' />\n<path d='M 219.0,98.0 L 214.6,100.6 L 210.1,98.0' style='fill:none;stroke:#000000;stroke-width:2.0px;stroke-linecap:butt;stroke-linejoin:miter;stroke-opacity:1;' />\n<path d='M 130.1,51.8 L 125.6,49.2 L 121.2,51.8' style='fill:none;stroke:#000000;stroke-width:2.0px;stroke-linecap:butt;stroke-linejoin:miter;stroke-opacity:1;' />\n<path class='atom-0' d='M 381.6 101.6\nQ 381.6 94.5, 384.9 90.9\nQ 388.2 87.1, 394.5 87.1\nQ 400.3 87.1, 403.4 91.3\nL 400.8 93.4\nQ 398.5 90.4, 394.5 90.4\nQ 390.2 90.4, 387.9 93.3\nQ 385.7 96.1, 385.7 101.6\nQ 385.7 107.2, 388.0 110.1\nQ 390.4 112.9, 394.9 112.9\nQ 398.0 112.9, 401.7 111.1\nL 402.8 114.1\nQ 401.3 115.0, 399.1 115.6\nQ 396.8 116.1, 394.4 116.1\nQ 388.2 116.1, 384.9 112.4\nQ 381.6 108.6, 381.6 101.6\n' fill='#00CC00'/>\n<path class='atom-0' d='M 406.3 85.4\nL 410.0 85.4\nL 410.0 115.8\nL 406.3 115.8\nL 406.3 85.4\n' fill='#00CC00'/>\n<path class='note' d='M 422.2 125.0\nQ 419.6 125.0, 418.3 123.1\nQ 417.0 121.2, 417.0 117.8\nQ 417.0 114.4, 418.3 112.5\nQ 419.6 110.6, 422.2 110.6\nQ 424.8 110.6, 426.1 112.5\nQ 427.4 114.4, 427.4 117.8\nQ 427.4 121.2, 426.1 123.1\nQ 424.8 125.0, 422.2 125.0\nM 422.2 123.4\nQ 423.7 123.4, 424.5 122.0\nQ 425.4 120.6, 425.4 117.8\nQ 425.4 115.0, 424.5 113.6\nQ 423.7 112.2, 422.2 112.2\nQ 420.7 112.2, 419.8 113.6\nQ 419.0 115.0, 419.0 117.8\nQ 419.0 120.6, 419.8 122.0\nQ 420.7 123.4, 422.2 123.4\n' fill='#000000'/>\n<path class='note' d='M 300.1 37.6\nL 303.2 37.6\nL 303.2 27.1\nL 299.7 28.1\nL 299.3 26.9\nL 303.6 25.0\nL 305.0 25.2\nL 305.0 37.6\nL 307.8 37.6\nL 307.8 39.2\nL 300.1 39.2\nL 300.1 37.6\n' fill='#000000'/>\n<path class='note' d='M 209.9 113.4\nQ 210.4 112.1, 211.6 111.3\nQ 212.9 110.6, 214.6 110.6\nQ 216.7 110.6, 217.9 111.7\nQ 219.1 112.9, 219.1 114.9\nQ 219.1 117.0, 217.6 119.0\nQ 216.0 121.0, 212.8 123.3\nL 219.4 123.3\nL 219.4 124.9\nL 209.8 124.9\nL 209.8 123.5\nQ 212.5 121.7, 214.0 120.3\nQ 215.6 118.9, 216.4 117.6\nQ 217.1 116.3, 217.1 115.0\nQ 217.1 113.7, 216.4 112.9\nQ 215.8 112.2, 214.6 112.2\nQ 213.4 112.2, 212.7 112.6\nQ 211.9 113.1, 211.4 114.1\nL 209.9 113.4\n' fill='#000000'/>\n<path class='note' d='M 127.7 31.8\nQ 129.0 32.2, 129.7 33.1\nQ 130.4 34.0, 130.4 35.4\nQ 130.4 36.6, 129.8 37.5\nQ 129.2 38.5, 128.1 39.0\nQ 127.0 39.5, 125.5 39.5\nQ 124.0 39.5, 122.9 39.0\nQ 121.8 38.4, 120.9 37.3\nL 122.0 36.2\nQ 122.9 37.1, 123.6 37.5\nQ 124.4 37.9, 125.5 37.9\nQ 126.8 37.9, 127.6 37.2\nQ 128.4 36.5, 128.4 35.4\nQ 128.4 33.9, 127.6 33.3\nQ 126.8 32.6, 125.0 32.6\nL 124.0 32.6\nL 124.0 31.2\nL 124.9 31.2\nQ 126.4 31.2, 127.3 30.5\nQ 128.1 29.8, 128.1 28.6\nQ 128.1 27.7, 127.4 27.1\nQ 126.7 26.6, 125.6 26.6\nQ 124.4 26.6, 123.6 27.0\nQ 122.9 27.4, 122.4 28.5\nL 121.0 27.7\nQ 121.5 26.5, 122.7 25.8\nQ 123.9 25.0, 125.6 25.0\nQ 127.6 25.0, 128.9 25.9\nQ 130.1 26.9, 130.1 28.6\nQ 130.1 29.7, 129.5 30.5\nQ 128.8 31.4, 127.7 31.8\n' fill='#000000'/>\n<path class='note' d='M 31.8 88.0\nL 33.5 88.0\nL 33.5 89.6\nL 31.8 89.6\nL 31.8 92.9\nL 30.0 92.9\nL 30.0 89.6\nL 22.6 89.6\nL 22.6 88.3\nL 28.8 78.7\nL 31.8 78.7\nL 31.8 88.0\nM 25.0 88.0\nL 30.0 88.0\nL 30.0 80.0\nL 25.0 88.0\n' fill='#000000'/>\n</svg>\n",
      "image/png": "[encoded data removed]"
     },
     "execution_count": 21,
     "metadata": {},
     "output_type": "execute_result"
    }
   ],
   "execution_count": 21
  },
  {
   "cell_type": "code",
   "metadata": {
    "ExecuteTime": {
     "end_time": "2025-09-16T12:31:56.493384Z",
     "start_time": "2025-09-16T12:31:56.490777Z"
    }
   },
   "source": [
    "# Step 1: Create the molecule from SMILES\n",
    "mol = Chem.MolFromSmiles('ClCCCC')  # 1-chlorobutane\n",
    "\n",
    "# Step 2: Initialize the Morgan fingerprint generator. We are setting the radius to 2 and total bit size to 1024\n",
    "morgan_gen = rdFingerprintGenerator.GetMorganGenerator(radius=2, fpSize=1024)\n",
    "\n",
    "# Step 3: Prepare the AdditionalOutput object to capture bit information\n",
    "additional_output = rdFingerprintGenerator.AdditionalOutput()\n",
    "additional_output.AllocateBitInfoMap()\n",
    "\n",
    "# Step 4: Generate the fingerprint with additional output\n",
    "fp2 = morgan_gen.GetFingerprint(mol, additionalOutput=additional_output)\n",
    "print(\"The Morgan radius =2 fingerprint (ECFP4)for the molecule is:\")\n",
    "print(fp2.ToBitString())\n",
    "print()\n",
    "\n",
    "# Step 5: Retrieve and display the bit information\n",
    "\n",
    "bit_info = additional_output.GetBitInfoMap()\n",
    "for bit_id, atom_radius_list in bit_info.items():\n",
    "    print(f\"Bit {bit_id} is set by:\")\n",
    "    for atom_idx, radius in atom_radius_list:\n",
    "        atom_symbol = mol.GetAtomWithIdx(atom_idx).GetSymbol()\n",
    "        print(f\"  - Atom index {atom_idx} ({atom_symbol}), Radius {radius}\")\n"
   ],
   "outputs": [
    {
     "name": "stdout",
     "output_type": "stream",
     "text": [
      "The Morgan radius =2 fingerprint (ECFP4)for the molecule is:\n",
      "0000000000000000000000000000000001000000000000000000000000000000000000000000000010000100000000000000000000000000000000000000000000000000000000000000000000000000000000000000000000000000000000000000000000000000000000000000000000000000000000000000000000000000000000000000000000000000000000000000001000000000000000000000000000000000000000000000000000000000000000000000000000000000000000000000000000000000000000000000000000000000000010001000000000000000000000000000000000000000000000000000000000000000000000000000000000000000000000000000000000000000000000000000000000000000000000000000000000000001000000000000000000000000000000000000000000000000000000000000000000010000000000000000000000000000000000000000000000000000000000000000000000000000000000000000000000000000000000000000000000000000000000000010000000000000000000000000000000000000000000000000000000000000000000000000000000000000000000010000000000000000000000000000000000000000000000000000000000000000000000000000000000000000000000000000000000000000000000010000000000000000\n",
      "\n",
      "Bit 33 is set by:\n",
      "  - Atom index 4 (C), Radius 0\n",
      "Bit 80 is set by:\n",
      "  - Atom index 1 (C), Radius 0\n",
      "  - Atom index 2 (C), Radius 0\n",
      "  - Atom index 3 (C), Radius 0\n",
      "Bit 85 is set by:\n",
      "  - Atom index 0 (Cl), Radius 1\n",
      "Bit 294 is set by:\n",
      "  - Atom index 4 (C), Radius 1\n",
      "Bit 428 is set by:\n",
      "  - Atom index 1 (C), Radius 2\n",
      "Bit 432 is set by:\n",
      "  - Atom index 1 (C), Radius 1\n",
      "Bit 591 is set by:\n",
      "  - Atom index 3 (C), Radius 2\n",
      "Bit 659 is set by:\n",
      "  - Atom index 0 (Cl), Radius 0\n",
      "Bit 794 is set by:\n",
      "  - Atom index 3 (C), Radius 1\n",
      "Bit 887 is set by:\n",
      "  - Atom index 2 (C), Radius 1\n",
      "Bit 1007 is set by:\n",
      "  - Atom index 2 (C), Radius 2\n"
     ]
    }
   ],
   "execution_count": 23
  },
  {
   "cell_type": "code",
   "metadata": {
    "ExecuteTime": {
     "end_time": "2025-09-16T12:32:00.523042Z",
     "start_time": "2025-09-16T12:32:00.514873Z"
    }
   },
   "source": [
    "IPythonConsole.drawOptions.addAtomIndices = False \n",
    "# Create a list of tuples for visualization\n",
    "tpls = [(mol, bit_id, bit_info) for bit_id in fp2.GetOnBits()]\n",
    "# Generate legends for each bit\n",
    "legends = [str(bit_id) for bit_id in fp2.GetOnBits()]\n",
    "# Visualize the bits\n",
    "Draw.DrawMorganBits(tpls, molsPerRow=4, legends=legends)"
   ],
   "outputs": [
    {
     "data": {
      "text/plain": [
       "<IPython.core.display.SVG object>"
      ],
      "image/svg+xml": "<svg xmlns=\"http://www.w3.org/2000/svg\" xmlns:rdkit=\"http://www.rdkit.org/xml\" xmlns:xlink=\"http://www.w3.org/1999/xlink\" version=\"1.1\" baseProfile=\"full\" xml:space=\"preserve\" width=\"600px\" height=\"450px\" viewBox=\"0 0 600 450\">\n<!-- END OF HEADER -->\n<rect style=\"opacity:1.0;fill:#FFFFFF;stroke:none\" width=\"600.0\" height=\"450.0\" x=\"0.0\" y=\"0.0\"> </rect>\n<ellipse cx=\"61.6\" cy=\"76.6\" rx=\"7.3\" ry=\"7.3\" class=\"atom-1\" style=\"fill:#9999E5;fill-rule:evenodd;stroke:#9999E5;stroke-width:1.0px;stroke-linecap:butt;stroke-linejoin:miter;stroke-opacity:1\"/>\n<path class=\"bond-0 atom-0 atom-1\" d=\"M 92.0,59.1 L 61.6,76.6\" style=\"fill:none;fill-rule:evenodd;stroke:#E5E5E5;stroke-width:1.9px;stroke-linecap:butt;stroke-linejoin:miter;stroke-opacity:1\"/>\n<path class=\"atom-0\" d=\"M 91.3 57.2 L 92.8 55.7 L 90.8 55.3 L 91.1 54.2 L 92.9 55.2 L 92.7 53.1 L 93.7 53.1 L 93.4 55.2 L 95.3 54.3 L 95.6 55.3 L 93.6 55.6 L 95.1 57.2 L 94.2 57.8 L 93.2 55.9 L 92.1 57.8 L 91.3 57.2 \" fill=\"#191919\"/>\n<path class=\"legend\" d=\"M 71.5 136.4 Q 72.6 136.7, 73.1 137.4 Q 73.6 138.1, 73.6 139.2 Q 73.6 140.2, 73.2 140.9 Q 72.7 141.7, 71.8 142.1 Q 70.9 142.5, 69.8 142.5 Q 68.6 142.5, 67.6 142.1 Q 66.8 141.7, 66.0 140.8 L 66.9 139.9 Q 67.6 140.6, 68.2 140.9 Q 68.8 141.2, 69.8 141.2 Q 70.8 141.2, 71.4 140.7 Q 72.0 140.1, 72.0 139.2 Q 72.0 138.1, 71.4 137.6 Q 70.8 137.0, 69.4 137.0 L 68.5 137.0 L 68.5 135.9 L 69.3 135.9 Q 70.5 135.9, 71.2 135.3 Q 71.8 134.8, 71.8 133.8 Q 71.8 133.0, 71.3 132.6 Q 70.7 132.2, 69.8 132.2 Q 68.8 132.2, 68.3 132.5 Q 67.7 132.8, 67.2 133.7 L 66.1 133.1 Q 66.5 132.1, 67.5 131.5 Q 68.4 130.9, 69.8 130.9 Q 71.5 130.9, 72.4 131.7 Q 73.4 132.5, 73.4 133.8 Q 73.4 134.7, 72.9 135.3 Q 72.4 136.0, 71.5 136.4 \" fill=\"#000000\"/>\n<path class=\"legend\" d=\"M 80.8 136.4 Q 81.9 136.7, 82.4 137.4 Q 83.0 138.1, 83.0 139.2 Q 83.0 140.2, 82.5 140.9 Q 82.0 141.7, 81.1 142.1 Q 80.2 142.5, 79.1 142.5 Q 77.9 142.5, 77.0 142.1 Q 76.1 141.7, 75.4 140.8 L 76.3 139.9 Q 77.0 140.6, 77.6 140.9 Q 78.2 141.2, 79.1 141.2 Q 80.1 141.2, 80.7 140.7 Q 81.4 140.1, 81.4 139.2 Q 81.4 138.1, 80.7 137.6 Q 80.1 137.0, 78.7 137.0 L 77.9 137.0 L 77.9 135.9 L 78.6 135.9 Q 79.8 135.9, 80.5 135.3 Q 81.1 134.8, 81.1 133.8 Q 81.1 133.0, 80.6 132.6 Q 80.0 132.2, 79.1 132.2 Q 78.2 132.2, 77.6 132.5 Q 77.0 132.8, 76.6 133.7 L 75.4 133.1 Q 75.8 132.1, 76.8 131.5 Q 77.8 130.9, 79.1 130.9 Q 80.8 130.9, 81.8 131.7 Q 82.7 132.5, 82.7 133.8 Q 82.7 134.7, 82.2 135.3 Q 81.7 136.0, 80.8 136.4 \" fill=\"#000000\"/>\n<ellipse cx=\"225.0\" cy=\"63.3\" rx=\"7.3\" ry=\"7.3\" class=\"atom-1\" style=\"fill:#9999E5;fill-rule:evenodd;stroke:#9999E5;stroke-width:1.0px;stroke-linecap:butt;stroke-linejoin:miter;stroke-opacity:1\"/>\n<path class=\"bond-0 atom-0 atom-1\" d=\"M 252.9,79.4 L 225.0,63.3\" style=\"fill:none;fill-rule:evenodd;stroke:#E5E5E5;stroke-width:1.9px;stroke-linecap:butt;stroke-linejoin:miter;stroke-opacity:1\"/>\n<path class=\"bond-1 atom-1 atom-2\" d=\"M 225.0,63.3 L 197.1,79.4\" style=\"fill:none;fill-rule:evenodd;stroke:#E5E5E5;stroke-width:1.9px;stroke-linecap:butt;stroke-linejoin:miter;stroke-opacity:1\"/>\n<path d=\"M 226.4,64.1 L 225.0,63.3 L 223.6,64.1\" style=\"fill:none;stroke:#E5E5E5;stroke-width:1.9px;stroke-linecap:butt;stroke-linejoin:miter;stroke-opacity:1;\"/>\n<path class=\"atom-0\" d=\"M 254.6 80.4 L 256.1 78.8 L 254.1 78.4 L 254.4 77.4 L 256.3 78.3 L 256.0 76.3 L 257.1 76.3 L 256.8 78.3 L 258.7 77.4 L 259.0 78.4 L 256.9 78.8 L 258.4 80.3 L 257.5 81.0 L 256.5 79.1 L 255.5 81.0 L 254.6 80.4 \" fill=\"#191919\"/>\n<path class=\"atom-2\" d=\"M 191.5 80.4 L 193.0 78.8 L 191.0 78.4 L 191.3 77.4 L 193.2 78.3 L 192.9 76.3 L 194.0 76.3 L 193.7 78.3 L 195.6 77.4 L 195.9 78.4 L 193.9 78.8 L 195.3 80.3 L 194.4 81.0 L 193.4 79.1 L 192.4 81.0 L 191.5 80.4 \" fill=\"#191919\"/>\n<path class=\"legend\" d=\"M 221.2 136.3 Q 222.3 136.8, 222.9 137.5 Q 223.4 138.1, 223.4 139.2 Q 223.4 140.2, 222.9 140.9 Q 222.5 141.7, 221.6 142.1 Q 220.7 142.5, 219.5 142.5 Q 217.6 142.5, 216.5 141.6 Q 215.4 140.8, 215.4 139.2 Q 215.4 138.3, 215.9 137.6 Q 216.4 136.9, 217.4 136.4 Q 216.7 136.0, 216.3 135.4 Q 215.9 134.7, 215.9 133.8 Q 215.9 132.5, 216.8 131.7 Q 217.8 130.9, 219.4 130.9 Q 221.1 130.9, 222.1 131.7 Q 223.0 132.5, 223.0 133.8 Q 223.0 134.6, 222.6 135.2 Q 222.1 135.8, 221.2 136.3 M 219.4 132.1 Q 218.5 132.1, 218.0 132.5 Q 217.5 133.0, 217.5 133.8 Q 217.5 134.4, 217.8 134.8 Q 218.2 135.2, 218.7 135.4 Q 219.2 135.6, 220.1 135.9 Q 220.8 135.5, 221.1 134.9 Q 221.4 134.4, 221.4 133.8 Q 221.4 133.0, 220.9 132.5 Q 220.4 132.1, 219.4 132.1 M 219.5 141.3 Q 220.6 141.3, 221.2 140.7 Q 221.8 140.2, 221.8 139.2 Q 221.8 138.6, 221.5 138.2 Q 221.2 137.8, 220.7 137.6 Q 220.2 137.4, 219.3 137.1 L 218.5 136.9 Q 217.7 137.3, 217.4 137.9 Q 217.0 138.5, 217.0 139.2 Q 217.0 140.2, 217.7 140.7 Q 218.4 141.3, 219.5 141.3 \" fill=\"#000000\"/>\n<path class=\"legend\" d=\"M 229.4 142.5 Q 227.3 142.5, 226.3 140.9 Q 225.3 139.4, 225.3 136.7 Q 225.3 133.9, 226.3 132.4 Q 227.3 130.9, 229.4 130.9 Q 231.5 130.9, 232.5 132.4 Q 233.6 133.9, 233.6 136.7 Q 233.6 139.4, 232.5 140.9 Q 231.5 142.5, 229.4 142.5 M 229.4 141.2 Q 230.6 141.2, 231.3 140.1 Q 232.0 138.9, 232.0 136.7 Q 232.0 134.4, 231.3 133.3 Q 230.6 132.2, 229.4 132.2 Q 228.2 132.2, 227.5 133.3 Q 226.9 134.4, 226.9 136.7 Q 226.9 138.9, 227.5 140.1 Q 228.2 141.2, 229.4 141.2 \" fill=\"#000000\"/>\n<ellipse cx=\"404.1\" cy=\"74.0\" rx=\"7.3\" ry=\"7.3\" class=\"atom-0\" style=\"fill:#9999E5;fill-rule:evenodd;stroke:#9999E5;stroke-width:1.0px;stroke-linecap:butt;stroke-linejoin:miter;stroke-opacity:1\"/>\n<path class=\"bond-0 atom-0 atom-1\" d=\"M 398.9,71.0 L 372.6,55.7\" style=\"fill:none;fill-rule:evenodd;stroke:#000000;stroke-width:2.0px;stroke-linecap:butt;stroke-linejoin:miter;stroke-opacity:1\"/>\n<path class=\"bond-1 atom-1 atom-2\" d=\"M 372.6,55.7 L 344.7,71.9\" style=\"fill:none;fill-rule:evenodd;stroke:#E5E5E5;stroke-width:1.9px;stroke-linecap:butt;stroke-linejoin:miter;stroke-opacity:1\"/>\n<path d=\"M 373.2,56.1 L 372.6,55.7 L 371.9,56.2\" style=\"fill:none;stroke:#000000;stroke-width:2.0px;stroke-linecap:butt;stroke-linejoin:miter;stroke-opacity:1;\"/>\n<path class=\"atom-0\" d=\"M 400.1 74.3 Q 400.1 71.8, 401.3 70.4 Q 402.6 69.1, 404.8 69.1 Q 407.0 69.1, 408.1 70.6 L 407.1 71.3 Q 406.3 70.3, 404.8 70.3 Q 403.3 70.3, 402.5 71.3 Q 401.6 72.3, 401.6 74.3 Q 401.6 76.4, 402.5 77.4 Q 403.3 78.5, 405.0 78.5 Q 406.1 78.5, 407.5 77.8 L 407.9 78.9 Q 407.3 79.2, 406.5 79.4 Q 405.7 79.6, 404.8 79.6 Q 402.6 79.6, 401.3 78.3 Q 400.1 76.9, 400.1 74.3 \" fill=\"#000000\"/>\n<path class=\"atom-0\" d=\"M 409.2 68.4 L 410.5 68.4 L 410.5 79.5 L 409.2 79.5 L 409.2 68.4 \" fill=\"#000000\"/>\n<path class=\"atom-2\" d=\"M 339.1 72.8 L 340.6 71.3 L 338.6 70.9 L 338.9 69.8 L 340.7 70.8 L 340.5 68.7 L 341.6 68.7 L 341.3 70.7 L 343.1 69.9 L 343.5 70.9 L 341.4 71.2 L 342.9 72.8 L 342.0 73.4 L 341.0 71.5 L 340.0 73.4 L 339.1 72.8 \" fill=\"#191919\"/>\n<path class=\"legend\" d=\"M 371.5 136.3 Q 372.6 136.8, 373.2 137.5 Q 373.8 138.1, 373.8 139.2 Q 373.8 140.2, 373.3 140.9 Q 372.8 141.7, 371.9 142.1 Q 371.0 142.5, 369.8 142.5 Q 367.9 142.5, 366.9 141.6 Q 365.8 140.8, 365.8 139.2 Q 365.8 138.3, 366.3 137.6 Q 366.7 136.9, 367.7 136.4 Q 367.0 136.0, 366.6 135.4 Q 366.2 134.7, 366.2 133.8 Q 366.2 132.5, 367.1 131.7 Q 368.1 130.9, 369.8 130.9 Q 371.4 130.9, 372.4 131.7 Q 373.4 132.5, 373.4 133.8 Q 373.4 134.6, 372.9 135.2 Q 372.4 135.8, 371.5 136.3 M 369.8 132.1 Q 368.8 132.1, 368.3 132.5 Q 367.8 133.0, 367.8 133.8 Q 367.8 134.4, 368.1 134.8 Q 368.5 135.2, 369.0 135.4 Q 369.5 135.6, 370.5 135.9 Q 371.2 135.5, 371.5 134.9 Q 371.8 134.4, 371.8 133.8 Q 371.8 133.0, 371.2 132.5 Q 370.7 132.1, 369.8 132.1 M 369.8 141.3 Q 370.9 141.3, 371.5 140.7 Q 372.2 140.2, 372.2 139.2 Q 372.2 138.6, 371.8 138.2 Q 371.5 137.8, 371.0 137.6 Q 370.5 137.4, 369.6 137.1 L 368.9 136.9 Q 368.1 137.3, 367.7 137.9 Q 367.4 138.5, 367.4 139.2 Q 367.4 140.2, 368.0 140.7 Q 368.7 141.3, 369.8 141.3 \" fill=\"#000000\"/>\n<path class=\"legend\" d=\"M 379.7 135.3 Q 380.7 135.3, 381.5 135.7 Q 382.3 136.1, 382.8 136.9 Q 383.2 137.7, 383.2 138.8 Q 383.2 139.9, 382.7 140.8 Q 382.1 141.6, 381.2 142.0 Q 380.2 142.5, 379.2 142.5 Q 378.1 142.5, 377.2 142.1 Q 376.2 141.7, 375.6 141.0 L 376.5 140.0 Q 377.1 140.5, 377.8 140.9 Q 378.5 141.2, 379.2 141.2 Q 380.2 141.2, 380.9 140.5 Q 381.6 139.9, 381.6 138.8 Q 381.6 137.6, 380.9 137.0 Q 380.2 136.5, 379.1 136.5 Q 378.1 136.5, 377.0 136.9 L 376.2 136.5 L 376.7 131.0 L 382.5 131.0 L 382.4 132.3 L 378.0 132.3 L 377.7 135.7 Q 378.7 135.3, 379.7 135.3 \" fill=\"#000000\"/>\n<ellipse cx=\"495.9\" cy=\"74.0\" rx=\"7.3\" ry=\"7.3\" class=\"atom-2\" style=\"fill:#9999E5;fill-rule:evenodd;stroke:#9999E5;stroke-width:1.0px;stroke-linecap:butt;stroke-linejoin:miter;stroke-opacity:1\"/>\n<path class=\"bond-0 atom-0 atom-1\" d=\"M 555.3,71.9 L 527.4,55.7\" style=\"fill:none;fill-rule:evenodd;stroke:#E5E5E5;stroke-width:1.9px;stroke-linecap:butt;stroke-linejoin:miter;stroke-opacity:1\"/>\n<path class=\"bond-1 atom-1 atom-2\" d=\"M 527.4,55.7 L 495.9,74.0\" style=\"fill:none;fill-rule:evenodd;stroke:#000000;stroke-width:2.0px;stroke-linecap:butt;stroke-linejoin:miter;stroke-opacity:1\"/>\n<path d=\"M 528.1,56.2 L 527.4,55.7 L 526.6,56.2\" style=\"fill:none;stroke:#E5E5E5;stroke-width:1.9px;stroke-linecap:butt;stroke-linejoin:miter;stroke-opacity:1;\"/>\n<path class=\"atom-0\" d=\"M 557.0 72.8 L 558.5 71.3 L 556.5 70.9 L 556.8 69.8 L 558.7 70.8 L 558.4 68.7 L 559.5 68.7 L 559.2 70.7 L 561.1 69.9 L 561.4 70.9 L 559.4 71.2 L 560.8 72.8 L 559.9 73.4 L 558.9 71.5 L 557.9 73.4 L 557.0 72.8 \" fill=\"#191919\"/>\n<path class=\"legend\" d=\"M 510.6 133.2 Q 511.0 132.1, 512.0 131.5 Q 513.0 130.9, 514.4 130.9 Q 516.1 130.9, 517.0 131.8 Q 518.0 132.8, 518.0 134.4 Q 518.0 136.1, 516.8 137.7 Q 515.5 139.2, 513.0 141.1 L 518.2 141.1 L 518.2 142.4 L 510.6 142.4 L 510.6 141.3 Q 512.7 139.8, 513.9 138.7 Q 515.2 137.6, 515.8 136.5 Q 516.4 135.5, 516.4 134.5 Q 516.4 133.4, 515.9 132.8 Q 515.3 132.2, 514.4 132.2 Q 513.5 132.2, 512.9 132.6 Q 512.2 132.9, 511.8 133.7 L 510.6 133.2 \" fill=\"#000000\"/>\n<path class=\"legend\" d=\"M 523.8 130.9 Q 525.8 130.9, 526.8 132.3 Q 527.8 133.7, 527.8 136.4 Q 527.8 139.4, 526.6 140.9 Q 525.3 142.5, 522.9 142.5 Q 522.2 142.5, 521.6 142.3 Q 521.0 142.2, 520.4 141.8 L 521.0 140.8 Q 521.9 141.2, 522.9 141.2 Q 524.5 141.2, 525.3 140.2 Q 526.1 139.2, 526.2 137.0 Q 525.6 137.6, 524.9 137.8 Q 524.2 138.1, 523.4 138.1 Q 522.4 138.1, 521.6 137.7 Q 520.8 137.3, 520.4 136.5 Q 520.0 135.7, 520.0 134.7 Q 520.0 133.6, 520.4 132.7 Q 520.9 131.9, 521.8 131.4 Q 522.7 130.9, 523.8 130.9 M 521.6 134.7 Q 521.6 135.7, 522.1 136.3 Q 522.7 136.8, 523.7 136.8 Q 524.4 136.8, 525.0 136.6 Q 525.7 136.3, 526.2 135.8 Q 526.1 133.9, 525.5 133.1 Q 525.0 132.2, 523.8 132.2 Q 523.1 132.2, 522.6 132.5 Q 522.1 132.9, 521.9 133.4 Q 521.6 134.0, 521.6 134.7 \" fill=\"#000000\"/>\n<path class=\"legend\" d=\"M 537.1 138.5 L 538.4 138.5 L 538.4 139.8 L 537.1 139.8 L 537.1 142.4 L 535.6 142.4 L 535.6 139.8 L 529.7 139.8 L 529.7 138.8 L 534.7 131.0 L 537.1 131.0 L 537.1 138.5 M 531.6 138.5 L 535.6 138.5 L 535.6 132.1 L 531.6 138.5 \" fill=\"#000000\"/>\n<ellipse cx=\"104.6\" cy=\"210.2\" rx=\"7.3\" ry=\"7.3\" class=\"atom-1\" style=\"fill:#9999E5;fill-rule:evenodd;stroke:#9999E5;stroke-width:1.0px;stroke-linecap:butt;stroke-linejoin:miter;stroke-opacity:1\"/>\n<path class=\"bond-0 atom-0 atom-1\" d=\"M 131.0,225.4 L 117.8,217.8\" style=\"fill:none;fill-rule:evenodd;stroke:#00CC00;stroke-width:2.0px;stroke-linecap:butt;stroke-linejoin:miter;stroke-opacity:1\"/>\n<path class=\"bond-0 atom-0 atom-1\" d=\"M 117.8,217.8 L 104.6,210.2\" style=\"fill:none;fill-rule:evenodd;stroke:#000000;stroke-width:2.0px;stroke-linecap:butt;stroke-linejoin:miter;stroke-opacity:1\"/>\n<path class=\"bond-1 atom-1 atom-2\" d=\"M 104.6,210.2 L 73.0,228.4\" style=\"fill:none;fill-rule:evenodd;stroke:#000000;stroke-width:2.0px;stroke-linecap:butt;stroke-linejoin:miter;stroke-opacity:1\"/>\n<path class=\"bond-2 atom-2 atom-3\" d=\"M 73.0,228.4 L 41.5,210.2\" style=\"fill:none;fill-rule:evenodd;stroke:#000000;stroke-width:2.0px;stroke-linecap:butt;stroke-linejoin:miter;stroke-opacity:1\"/>\n<path class=\"bond-3 atom-3 atom-4\" d=\"M 41.5,210.2 L 13.6,226.3\" style=\"fill:none;fill-rule:evenodd;stroke:#E5E5E5;stroke-width:1.9px;stroke-linecap:butt;stroke-linejoin:miter;stroke-opacity:1\"/>\n<path d=\"M 105.2,210.6 L 104.6,210.2 L 103.0,211.1\" style=\"fill:none;stroke:#000000;stroke-width:2.0px;stroke-linecap:butt;stroke-linejoin:miter;stroke-opacity:1;\"/>\n<path d=\"M 74.6,227.5 L 73.0,228.4 L 71.5,227.5\" style=\"fill:none;stroke:#000000;stroke-width:2.0px;stroke-linecap:butt;stroke-linejoin:miter;stroke-opacity:1;\"/>\n<path d=\"M 42.3,210.7 L 41.5,210.2 L 40.8,210.6\" style=\"fill:none;stroke:#000000;stroke-width:2.0px;stroke-linecap:butt;stroke-linejoin:miter;stroke-opacity:1;\"/>\n<path class=\"atom-0\" d=\"M 132.2 228.8 Q 132.2 226.2, 133.4 224.9 Q 134.6 223.5, 136.8 223.5 Q 139.0 223.5, 140.1 225.0 L 139.2 225.8 Q 138.3 224.7, 136.8 224.7 Q 135.3 224.7, 134.5 225.8 Q 133.6 226.8, 133.6 228.8 Q 133.6 230.8, 134.5 231.9 Q 135.3 232.9, 137.0 232.9 Q 138.1 232.9, 139.5 232.2 L 139.9 233.3 Q 139.3 233.7, 138.5 233.9 Q 137.7 234.1, 136.8 234.1 Q 134.6 234.1, 133.4 232.7 Q 132.2 231.3, 132.2 228.8 \" fill=\"#00CC00\"/>\n<path class=\"atom-0\" d=\"M 141.2 222.9 L 142.5 222.9 L 142.5 233.9 L 141.2 233.9 L 141.2 222.9 \" fill=\"#00CC00\"/>\n<path class=\"atom-4\" d=\"M 8.0 227.3 L 9.5 225.7 L 7.5 225.3 L 7.8 224.3 L 9.7 225.2 L 9.4 223.2 L 10.5 223.2 L 10.2 225.2 L 12.1 224.3 L 12.4 225.3 L 10.3 225.7 L 11.8 227.3 L 10.9 227.9 L 9.9 226.0 L 8.9 227.9 L 8.0 227.3 \" fill=\"#191919\"/>\n<path class=\"legend\" d=\"M 68.0 288.5 L 69.4 288.5 L 69.4 289.7 L 68.0 289.7 L 68.0 292.3 L 66.5 292.3 L 66.5 289.7 L 60.6 289.7 L 60.6 288.7 L 65.6 281.0 L 68.0 281.0 L 68.0 288.5 M 62.5 288.5 L 66.5 288.5 L 66.5 282.0 L 62.5 288.5 \" fill=\"#000000\"/>\n<path class=\"legend\" d=\"M 71.0 283.2 Q 71.4 282.1, 72.4 281.5 Q 73.4 280.9, 74.8 280.9 Q 76.5 280.9, 77.4 281.8 Q 78.4 282.7, 78.4 284.4 Q 78.4 286.1, 77.1 287.6 Q 75.9 289.2, 73.4 291.1 L 78.6 291.1 L 78.6 292.3 L 71.0 292.3 L 71.0 291.3 Q 73.1 289.8, 74.3 288.6 Q 75.6 287.5, 76.2 286.5 Q 76.8 285.5, 76.8 284.5 Q 76.8 283.4, 76.3 282.8 Q 75.7 282.2, 74.8 282.2 Q 73.9 282.2, 73.2 282.5 Q 72.6 282.9, 72.2 283.7 L 71.0 283.2 \" fill=\"#000000\"/>\n<path class=\"legend\" d=\"M 86.1 286.3 Q 87.2 286.8, 87.8 287.5 Q 88.4 288.1, 88.4 289.2 Q 88.4 290.2, 87.9 290.9 Q 87.4 291.7, 86.5 292.1 Q 85.6 292.5, 84.4 292.5 Q 82.5 292.5, 81.4 291.6 Q 80.4 290.8, 80.4 289.2 Q 80.4 288.3, 80.8 287.6 Q 81.3 286.9, 82.3 286.4 Q 81.6 286.0, 81.2 285.4 Q 80.8 284.7, 80.8 283.8 Q 80.8 282.5, 81.7 281.7 Q 82.7 280.9, 84.4 280.9 Q 86.0 280.9, 87.0 281.7 Q 87.9 282.5, 87.9 283.8 Q 87.9 284.6, 87.5 285.2 Q 87.0 285.8, 86.1 286.3 M 84.4 282.1 Q 83.4 282.1, 82.9 282.5 Q 82.4 283.0, 82.4 283.8 Q 82.4 284.4, 82.7 284.8 Q 83.1 285.2, 83.6 285.4 Q 84.1 285.6, 85.1 285.9 Q 85.8 285.5, 86.0 284.9 Q 86.3 284.4, 86.3 283.8 Q 86.3 283.0, 85.8 282.5 Q 85.3 282.1, 84.4 282.1 M 84.4 291.3 Q 85.5 291.3, 86.1 290.7 Q 86.8 290.2, 86.8 289.2 Q 86.8 288.6, 86.4 288.2 Q 86.1 287.8, 85.6 287.6 Q 85.1 287.4, 84.2 287.1 L 83.5 286.9 Q 82.7 287.3, 82.3 287.9 Q 82.0 288.5, 82.0 289.2 Q 82.0 290.2, 82.6 290.7 Q 83.3 291.3, 84.4 291.3 \" fill=\"#000000\"/>\n<ellipse cx=\"238.8\" cy=\"210.2\" rx=\"7.3\" ry=\"7.3\" class=\"atom-1\" style=\"fill:#9999E5;fill-rule:evenodd;stroke:#9999E5;stroke-width:1.0px;stroke-linecap:butt;stroke-linejoin:miter;stroke-opacity:1\"/>\n<path class=\"bond-0 atom-0 atom-1\" d=\"M 265.2,225.4 L 252.0,217.8\" style=\"fill:none;fill-rule:evenodd;stroke:#00CC00;stroke-width:2.0px;stroke-linecap:butt;stroke-linejoin:miter;stroke-opacity:1\"/>\n<path class=\"bond-0 atom-0 atom-1\" d=\"M 252.0,217.8 L 238.8,210.2\" style=\"fill:none;fill-rule:evenodd;stroke:#000000;stroke-width:2.0px;stroke-linecap:butt;stroke-linejoin:miter;stroke-opacity:1\"/>\n<path class=\"bond-1 atom-1 atom-2\" d=\"M 238.8,210.2 L 207.3,228.4\" style=\"fill:none;fill-rule:evenodd;stroke:#000000;stroke-width:2.0px;stroke-linecap:butt;stroke-linejoin:miter;stroke-opacity:1\"/>\n<path class=\"bond-2 atom-2 atom-3\" d=\"M 207.3,228.4 L 176.9,210.9\" style=\"fill:none;fill-rule:evenodd;stroke:#E5E5E5;stroke-width:1.9px;stroke-linecap:butt;stroke-linejoin:miter;stroke-opacity:1\"/>\n<path d=\"M 239.5,210.6 L 238.8,210.2 L 237.2,211.1\" style=\"fill:none;stroke:#000000;stroke-width:2.0px;stroke-linecap:butt;stroke-linejoin:miter;stroke-opacity:1;\"/>\n<path d=\"M 208.1,228.0 L 207.3,228.4 L 206.5,228.0\" style=\"fill:none;stroke:#000000;stroke-width:2.0px;stroke-linecap:butt;stroke-linejoin:miter;stroke-opacity:1;\"/>\n<path class=\"atom-0\" d=\"M 266.4 228.8 Q 266.4 226.2, 267.6 224.9 Q 268.8 223.5, 271.1 223.5 Q 273.2 223.5, 274.3 225.0 L 273.4 225.8 Q 272.5 224.7, 271.1 224.7 Q 269.5 224.7, 268.7 225.8 Q 267.9 226.8, 267.9 228.8 Q 267.9 230.8, 268.7 231.9 Q 269.6 232.9, 271.2 232.9 Q 272.4 232.9, 273.7 232.2 L 274.1 233.3 Q 273.6 233.7, 272.7 233.9 Q 271.9 234.1, 271.0 234.1 Q 268.8 234.1, 267.6 232.7 Q 266.4 231.3, 266.4 228.8 \" fill=\"#00CC00\"/>\n<path class=\"atom-0\" d=\"M 275.4 222.9 L 276.7 222.9 L 276.7 233.9 L 275.4 233.9 L 275.4 222.9 \" fill=\"#00CC00\"/>\n<path class=\"atom-3\" d=\"M 173.8 209.1 L 175.3 207.5 L 173.3 207.1 L 173.6 206.1 L 175.4 207.0 L 175.2 205.0 L 176.3 205.0 L 176.0 207.0 L 177.8 206.1 L 178.2 207.1 L 176.1 207.5 L 177.6 209.0 L 176.7 209.7 L 175.7 207.8 L 174.7 209.7 L 173.8 209.1 \" fill=\"#191919\"/>\n<path class=\"legend\" d=\"M 218.2 288.5 L 219.6 288.5 L 219.6 289.7 L 218.2 289.7 L 218.2 292.3 L 216.7 292.3 L 216.7 289.7 L 210.9 289.7 L 210.9 288.7 L 215.8 281.0 L 218.2 281.0 L 218.2 288.5 M 212.7 288.5 L 216.7 288.5 L 216.7 282.0 L 212.7 288.5 \" fill=\"#000000\"/>\n<path class=\"legend\" d=\"M 226.6 286.4 Q 227.7 286.7, 228.2 287.4 Q 228.8 288.1, 228.8 289.2 Q 228.8 290.2, 228.3 290.9 Q 227.8 291.7, 226.9 292.1 Q 226.1 292.5, 224.9 292.5 Q 223.7 292.5, 222.8 292.1 Q 221.9 291.7, 221.2 290.8 L 222.1 289.9 Q 222.8 290.6, 223.4 290.9 Q 224.0 291.2, 224.9 291.2 Q 225.9 291.2, 226.5 290.7 Q 227.2 290.1, 227.2 289.2 Q 227.2 288.1, 226.5 287.6 Q 225.9 287.0, 224.5 287.0 L 223.7 287.0 L 223.7 285.9 L 224.4 285.9 Q 225.6 285.9, 226.3 285.3 Q 226.9 284.8, 226.9 283.8 Q 226.9 283.0, 226.4 282.6 Q 225.8 282.2, 224.9 282.2 Q 224.0 282.2, 223.4 282.5 Q 222.8 282.8, 222.4 283.7 L 221.3 283.1 Q 221.7 282.1, 222.6 281.5 Q 223.6 280.9, 224.9 280.9 Q 226.6 280.9, 227.6 281.7 Q 228.5 282.5, 228.5 283.8 Q 228.5 284.7, 228.0 285.3 Q 227.5 286.0, 226.6 286.4 \" fill=\"#000000\"/>\n<path class=\"legend\" d=\"M 230.5 283.2 Q 231.0 282.1, 232.0 281.5 Q 232.9 280.9, 234.3 280.9 Q 236.0 280.9, 237.0 281.8 Q 238.0 282.7, 238.0 284.4 Q 238.0 286.1, 236.7 287.6 Q 235.5 289.2, 232.9 291.1 L 238.1 291.1 L 238.1 292.3 L 230.5 292.3 L 230.5 291.3 Q 232.6 289.8, 233.9 288.6 Q 235.1 287.5, 235.7 286.5 Q 236.4 285.5, 236.4 284.5 Q 236.4 283.4, 235.8 282.8 Q 235.3 282.2, 234.3 282.2 Q 233.4 282.2, 232.8 282.5 Q 232.2 282.9, 231.8 283.7 L 230.5 283.2 \" fill=\"#000000\"/>\n<ellipse cx=\"342.2\" cy=\"213.0\" rx=\"7.3\" ry=\"7.3\" class=\"atom-3\" style=\"fill:#9999E5;fill-rule:evenodd;stroke:#9999E5;stroke-width:1.0px;stroke-linecap:butt;stroke-linejoin:miter;stroke-opacity:1\"/>\n<path class=\"bond-0 atom-0 atom-1\" d=\"M 433.2,229.1 L 405.3,213.0\" style=\"fill:none;fill-rule:evenodd;stroke:#E5E5E5;stroke-width:1.9px;stroke-linecap:butt;stroke-linejoin:miter;stroke-opacity:1\"/>\n<path class=\"bond-1 atom-1 atom-2\" d=\"M 405.3,213.0 L 373.8,231.3\" style=\"fill:none;fill-rule:evenodd;stroke:#000000;stroke-width:2.0px;stroke-linecap:butt;stroke-linejoin:miter;stroke-opacity:1\"/>\n<path class=\"bond-2 atom-2 atom-3\" d=\"M 373.8,231.3 L 342.2,213.0\" style=\"fill:none;fill-rule:evenodd;stroke:#000000;stroke-width:2.0px;stroke-linecap:butt;stroke-linejoin:miter;stroke-opacity:1\"/>\n<path class=\"bond-3 atom-3 atom-4\" d=\"M 342.2,213.0 L 310.7,231.3\" style=\"fill:none;fill-rule:evenodd;stroke:#000000;stroke-width:2.0px;stroke-linecap:butt;stroke-linejoin:miter;stroke-opacity:1\"/>\n<path d=\"M 406.0,213.4 L 405.3,213.0 L 404.5,213.5\" style=\"fill:none;stroke:#E5E5E5;stroke-width:1.9px;stroke-linecap:butt;stroke-linejoin:miter;stroke-opacity:1;\"/>\n<path d=\"M 375.4,230.3 L 373.8,231.3 L 372.2,230.3\" style=\"fill:none;stroke:#000000;stroke-width:2.0px;stroke-linecap:butt;stroke-linejoin:miter;stroke-opacity:1;\"/>\n<path d=\"M 343.8,213.9 L 342.2,213.0 L 340.7,213.9\" style=\"fill:none;stroke:#000000;stroke-width:2.0px;stroke-linecap:butt;stroke-linejoin:miter;stroke-opacity:1;\"/>\n<path class=\"atom-0\" d=\"M 434.9 230.1 L 436.4 228.6 L 434.4 228.1 L 434.7 227.1 L 436.6 228.0 L 436.3 226.0 L 437.4 226.0 L 437.1 228.0 L 439.0 227.2 L 439.3 228.1 L 437.3 228.5 L 438.7 230.1 L 437.8 230.7 L 436.8 228.8 L 435.8 230.7 L 434.9 230.1 \" fill=\"#191919\"/>\n<path class=\"legend\" d=\"M 365.8 285.3 Q 366.8 285.3, 367.6 285.7 Q 368.4 286.1, 368.9 286.9 Q 369.3 287.7, 369.3 288.8 Q 369.3 290.0, 368.7 290.8 Q 368.2 291.6, 367.3 292.1 Q 366.3 292.5, 365.3 292.5 Q 364.2 292.5, 363.3 292.1 Q 362.3 291.7, 361.7 291.0 L 362.6 290.0 Q 363.1 290.6, 363.9 290.9 Q 364.6 291.2, 365.3 291.2 Q 366.3 291.2, 367.0 290.6 Q 367.7 290.0, 367.7 288.8 Q 367.7 287.6, 367.0 287.1 Q 366.3 286.5, 365.2 286.5 Q 364.2 286.5, 363.1 286.9 L 362.2 286.5 L 362.8 281.0 L 368.6 281.0 L 368.5 282.3 L 364.1 282.3 L 363.8 285.7 Q 364.8 285.3, 365.8 285.3 \" fill=\"#000000\"/>\n<path class=\"legend\" d=\"M 374.6 280.9 Q 376.7 280.9, 377.7 282.3 Q 378.7 283.7, 378.7 286.4 Q 378.7 289.4, 377.4 290.9 Q 376.2 292.5, 373.8 292.5 Q 373.1 292.5, 372.4 292.3 Q 371.9 292.2, 371.3 291.8 L 371.9 290.8 Q 372.7 291.2, 373.7 291.2 Q 375.3 291.2, 376.2 290.2 Q 377.0 289.2, 377.1 287.0 Q 376.5 287.6, 375.8 287.8 Q 375.0 288.1, 374.3 288.1 Q 373.3 288.1, 372.5 287.7 Q 371.7 287.3, 371.3 286.5 Q 370.8 285.7, 370.8 284.7 Q 370.8 283.6, 371.3 282.7 Q 371.8 281.9, 372.7 281.4 Q 373.5 280.9, 374.6 280.9 M 372.4 284.7 Q 372.4 285.7, 373.0 286.3 Q 373.5 286.8, 374.5 286.8 Q 375.2 286.8, 375.9 286.6 Q 376.6 286.3, 377.1 285.8 Q 377.0 283.9, 376.4 283.1 Q 375.8 282.2, 374.6 282.2 Q 374.0 282.2, 373.5 282.5 Q 373.0 282.9, 372.7 283.4 Q 372.4 284.0, 372.4 284.7 \" fill=\"#000000\"/>\n<path class=\"legend\" d=\"M 381.1 291.1 L 383.6 291.1 L 383.6 282.6 L 380.9 283.5 L 380.5 282.5 L 384.0 281.0 L 385.1 281.2 L 385.1 291.1 L 387.3 291.1 L 387.3 292.4 L 381.1 292.4 L 381.1 291.1 \" fill=\"#000000\"/>\n<ellipse cx=\"538.4\" cy=\"226.6\" rx=\"7.3\" ry=\"7.3\" class=\"atom-0\" style=\"fill:#9999E5;fill-rule:evenodd;stroke:#9999E5;stroke-width:1.0px;stroke-linecap:butt;stroke-linejoin:miter;stroke-opacity:1\"/>\n<path class=\"bond-0 atom-0 atom-1\" d=\"M 533.2,223.6 L 508.0,209.1\" style=\"fill:none;fill-rule:evenodd;stroke:#E5E5E5;stroke-width:1.9px;stroke-linecap:butt;stroke-linejoin:miter;stroke-opacity:1\"/>\n<path class=\"atom-0\" d=\"M 534.4 226.9 Q 534.4 224.4, 535.6 223.0 Q 536.8 221.7, 539.1 221.7 Q 541.2 221.7, 542.3 223.2 L 541.4 224.0 Q 540.5 222.9, 539.1 222.9 Q 537.5 222.9, 536.7 223.9 Q 535.9 225.0, 535.9 226.9 Q 535.9 229.0, 536.7 230.0 Q 537.6 231.1, 539.2 231.1 Q 540.4 231.1, 541.7 230.4 L 542.1 231.5 Q 541.6 231.8, 540.7 232.0 Q 539.9 232.2, 539.0 232.2 Q 536.8 232.2, 535.6 230.9 Q 534.4 229.5, 534.4 226.9 \" fill=\"#000000\"/>\n<path class=\"atom-0\" d=\"M 543.4 221.1 L 544.7 221.1 L 544.7 232.1 L 543.4 232.1 L 543.4 221.1 \" fill=\"#000000\"/>\n<path class=\"atom-1\" d=\"M 504.9 207.2 L 506.4 205.7 L 504.4 205.3 L 504.7 204.2 L 506.5 205.2 L 506.3 203.1 L 507.3 203.1 L 507.0 205.2 L 508.9 204.3 L 509.2 205.3 L 507.2 205.6 L 508.7 207.2 L 507.8 207.8 L 506.8 205.9 L 505.7 207.8 L 504.9 207.2 \" fill=\"#191919\"/>\n<path class=\"legend\" d=\"M 515.6 285.3 Q 516.6 285.3, 517.4 285.7 Q 518.2 286.2, 518.6 286.9 Q 519.1 287.7, 519.1 288.7 Q 519.1 289.8, 518.6 290.7 Q 518.1 291.5, 517.2 292.0 Q 516.4 292.5, 515.3 292.5 Q 513.2 292.5, 512.2 291.1 Q 511.2 289.8, 511.2 287.0 Q 511.2 284.0, 512.5 282.5 Q 513.7 280.9, 516.1 280.9 Q 516.8 280.9, 517.4 281.1 Q 518.0 281.2, 518.6 281.6 L 518.0 282.6 Q 517.2 282.2, 516.2 282.2 Q 514.6 282.2, 513.7 283.2 Q 512.9 284.3, 512.8 286.4 Q 513.4 285.9, 514.1 285.6 Q 514.9 285.3, 515.6 285.3 M 515.3 291.2 Q 515.9 291.2, 516.4 290.9 Q 516.9 290.5, 517.2 290.0 Q 517.5 289.4, 517.5 288.7 Q 517.5 287.7, 516.9 287.2 Q 516.3 286.6, 515.4 286.6 Q 514.7 286.6, 514.0 286.9 Q 513.3 287.1, 512.8 287.6 Q 512.9 289.5, 513.5 290.3 Q 514.1 291.2, 515.3 291.2 \" fill=\"#000000\"/>\n<path class=\"legend\" d=\"M 524.8 285.3 Q 525.8 285.3, 526.6 285.7 Q 527.5 286.1, 527.9 286.9 Q 528.4 287.7, 528.4 288.8 Q 528.4 290.0, 527.8 290.8 Q 527.3 291.6, 526.3 292.1 Q 525.4 292.5, 524.3 292.5 Q 523.3 292.5, 522.3 292.1 Q 521.4 291.7, 520.7 291.0 L 521.7 290.0 Q 522.2 290.6, 522.9 290.9 Q 523.7 291.2, 524.4 291.2 Q 525.4 291.2, 526.1 290.6 Q 526.8 290.0, 526.8 288.8 Q 526.8 287.6, 526.1 287.1 Q 525.4 286.5, 524.3 286.5 Q 523.3 286.5, 522.2 286.9 L 521.3 286.5 L 521.9 281.0 L 527.7 281.0 L 527.5 282.3 L 523.2 282.3 L 522.8 285.7 Q 523.8 285.3, 524.8 285.3 \" fill=\"#000000\"/>\n<path class=\"legend\" d=\"M 533.7 280.9 Q 535.8 280.9, 536.8 282.3 Q 537.8 283.7, 537.8 286.4 Q 537.8 289.4, 536.5 290.9 Q 535.3 292.5, 532.9 292.5 Q 532.2 292.5, 531.6 292.3 Q 531.0 292.2, 530.4 291.8 L 531.0 290.8 Q 531.8 291.2, 532.8 291.2 Q 534.4 291.2, 535.3 290.2 Q 536.1 289.2, 536.2 287.0 Q 535.6 287.6, 534.9 287.8 Q 534.1 288.1, 533.4 288.1 Q 532.4 288.1, 531.6 287.7 Q 530.8 287.3, 530.4 286.5 Q 529.9 285.7, 529.9 284.7 Q 529.9 283.6, 530.4 282.7 Q 530.9 281.9, 531.8 281.4 Q 532.6 280.9, 533.7 280.9 M 531.5 284.7 Q 531.5 285.7, 532.1 286.3 Q 532.7 286.8, 533.6 286.8 Q 534.3 286.8, 535.0 286.6 Q 535.7 286.3, 536.2 285.8 Q 536.1 283.9, 535.5 283.1 Q 534.9 282.2, 533.7 282.2 Q 533.1 282.2, 532.6 282.5 Q 532.1 282.9, 531.8 283.4 Q 531.5 284.0, 531.5 284.7 \" fill=\"#000000\"/>\n<ellipse cx=\"58.0\" cy=\"363.0\" rx=\"7.3\" ry=\"7.3\" class=\"atom-2\" style=\"fill:#9999E5;fill-rule:evenodd;stroke:#9999E5;stroke-width:1.0px;stroke-linecap:butt;stroke-linejoin:miter;stroke-opacity:1\"/>\n<path class=\"bond-0 atom-0 atom-1\" d=\"M 119.9,363.7 L 89.6,381.3\" style=\"fill:none;fill-rule:evenodd;stroke:#E5E5E5;stroke-width:1.9px;stroke-linecap:butt;stroke-linejoin:miter;stroke-opacity:1\"/>\n<path class=\"bond-1 atom-1 atom-2\" d=\"M 89.6,381.3 L 58.0,363.0\" style=\"fill:none;fill-rule:evenodd;stroke:#000000;stroke-width:2.0px;stroke-linecap:butt;stroke-linejoin:miter;stroke-opacity:1\"/>\n<path class=\"bond-2 atom-2 atom-3\" d=\"M 58.0,363.0 L 26.5,381.3\" style=\"fill:none;fill-rule:evenodd;stroke:#000000;stroke-width:2.0px;stroke-linecap:butt;stroke-linejoin:miter;stroke-opacity:1\"/>\n<path d=\"M 90.3,380.8 L 89.6,381.3 L 88.8,380.8\" style=\"fill:none;stroke:#E5E5E5;stroke-width:1.9px;stroke-linecap:butt;stroke-linejoin:miter;stroke-opacity:1;\"/>\n<path d=\"M 59.6,363.9 L 58.0,363.0 L 56.4,363.9\" style=\"fill:none;stroke:#000000;stroke-width:2.0px;stroke-linecap:butt;stroke-linejoin:miter;stroke-opacity:1;\"/>\n<path class=\"atom-0\" d=\"M 119.2 361.9 L 120.7 360.3 L 118.7 359.9 L 119.0 358.9 L 120.8 359.8 L 120.6 357.8 L 121.6 357.8 L 121.3 359.8 L 123.2 358.9 L 123.5 359.9 L 121.5 360.3 L 123.0 361.9 L 122.1 362.5 L 121.1 360.6 L 120.0 362.5 L 119.2 361.9 \" fill=\"#191919\"/>\n<path class=\"legend\" d=\"M 66.8 432.3 L 60.9 432.3 L 60.9 431.0 L 68.4 431.0 L 68.4 432.2 L 63.8 442.4 L 62.3 442.4 L 66.8 432.3 \" fill=\"#000000\"/>\n<path class=\"legend\" d=\"M 73.5 430.9 Q 75.5 430.9, 76.5 432.3 Q 77.5 433.7, 77.5 436.4 Q 77.5 439.4, 76.3 440.9 Q 75.0 442.5, 72.6 442.5 Q 71.9 442.5, 71.3 442.3 Q 70.7 442.2, 70.1 441.8 L 70.7 440.8 Q 71.6 441.2, 72.6 441.2 Q 74.2 441.2, 75.0 440.2 Q 75.8 439.2, 75.9 437.0 Q 75.3 437.6, 74.6 437.8 Q 73.9 438.1, 73.1 438.1 Q 72.1 438.1, 71.3 437.7 Q 70.5 437.3, 70.1 436.5 Q 69.7 435.7, 69.7 434.7 Q 69.7 433.6, 70.1 432.7 Q 70.6 431.9, 71.5 431.4 Q 72.4 430.9, 73.5 430.9 M 71.3 434.7 Q 71.3 435.7, 71.8 436.3 Q 72.4 436.8, 73.4 436.8 Q 74.1 436.8, 74.7 436.6 Q 75.4 436.3, 75.9 435.8 Q 75.8 433.9, 75.2 433.1 Q 74.7 432.2, 73.5 432.2 Q 72.8 432.2, 72.3 432.5 Q 71.8 432.9, 71.5 433.4 Q 71.3 434.0, 71.3 434.7 \" fill=\"#000000\"/>\n<path class=\"legend\" d=\"M 86.8 438.5 L 88.1 438.5 L 88.1 439.8 L 86.8 439.8 L 86.8 442.4 L 85.3 442.4 L 85.3 439.8 L 79.4 439.8 L 79.4 438.8 L 84.4 431.0 L 86.8 431.0 L 86.8 438.5 M 81.3 438.5 L 85.3 438.5 L 85.3 432.1 L 81.3 438.5 \" fill=\"#000000\"/>\n<ellipse cx=\"225.0\" cy=\"374.0\" rx=\"7.3\" ry=\"7.3\" class=\"atom-2\" style=\"fill:#9999E5;fill-rule:evenodd;stroke:#9999E5;stroke-width:1.0px;stroke-linecap:butt;stroke-linejoin:miter;stroke-opacity:1\"/>\n<path class=\"bond-0 atom-0 atom-1\" d=\"M 284.5,371.9 L 256.5,355.7\" style=\"fill:none;fill-rule:evenodd;stroke:#E5E5E5;stroke-width:1.9px;stroke-linecap:butt;stroke-linejoin:miter;stroke-opacity:1\"/>\n<path class=\"bond-1 atom-1 atom-2\" d=\"M 256.5,355.7 L 225.0,374.0\" style=\"fill:none;fill-rule:evenodd;stroke:#000000;stroke-width:2.0px;stroke-linecap:butt;stroke-linejoin:miter;stroke-opacity:1\"/>\n<path class=\"bond-2 atom-2 atom-3\" d=\"M 225.0,374.0 L 193.5,355.7\" style=\"fill:none;fill-rule:evenodd;stroke:#000000;stroke-width:2.0px;stroke-linecap:butt;stroke-linejoin:miter;stroke-opacity:1\"/>\n<path class=\"bond-3 atom-3 atom-4\" d=\"M 193.5,355.7 L 165.5,371.9\" style=\"fill:none;fill-rule:evenodd;stroke:#E5E5E5;stroke-width:1.9px;stroke-linecap:butt;stroke-linejoin:miter;stroke-opacity:1\"/>\n<path d=\"M 257.2,356.2 L 256.5,355.7 L 255.8,356.2\" style=\"fill:none;stroke:#E5E5E5;stroke-width:1.9px;stroke-linecap:butt;stroke-linejoin:miter;stroke-opacity:1;\"/>\n<path d=\"M 226.6,373.1 L 225.0,374.0 L 223.4,373.1\" style=\"fill:none;stroke:#000000;stroke-width:2.0px;stroke-linecap:butt;stroke-linejoin:miter;stroke-opacity:1;\"/>\n<path d=\"M 194.2,356.2 L 193.5,355.7 L 192.8,356.2\" style=\"fill:none;stroke:#000000;stroke-width:2.0px;stroke-linecap:butt;stroke-linejoin:miter;stroke-opacity:1;\"/>\n<path class=\"atom-0\" d=\"M 286.2 372.8 L 287.7 371.3 L 285.7 370.9 L 286.0 369.8 L 287.8 370.8 L 287.6 368.7 L 288.6 368.7 L 288.3 370.7 L 290.2 369.9 L 290.5 370.9 L 288.5 371.2 L 290.0 372.8 L 289.1 373.4 L 288.1 371.5 L 287.0 373.4 L 286.2 372.8 \" fill=\"#191919\"/>\n<path class=\"atom-4\" d=\"M 160.0 372.8 L 161.5 371.3 L 159.5 370.9 L 159.8 369.8 L 161.6 370.8 L 161.4 368.7 L 162.4 368.7 L 162.1 370.7 L 164.0 369.9 L 164.3 370.9 L 162.3 371.2 L 163.8 372.8 L 162.9 373.4 L 161.9 371.5 L 160.8 373.4 L 160.0 372.8 \" fill=\"#191919\"/>\n<path class=\"legend\" d=\"M 216.7 436.3 Q 217.8 436.8, 218.4 437.5 Q 218.9 438.1, 218.9 439.2 Q 218.9 440.2, 218.5 440.9 Q 218.0 441.7, 217.1 442.1 Q 216.2 442.5, 215.0 442.5 Q 213.1 442.5, 212.0 441.6 Q 210.9 440.8, 210.9 439.2 Q 210.9 438.3, 211.4 437.6 Q 211.9 436.9, 212.9 436.4 Q 212.2 436.0, 211.8 435.4 Q 211.4 434.7, 211.4 433.8 Q 211.4 432.5, 212.3 431.7 Q 213.3 430.9, 214.9 430.9 Q 216.6 430.9, 217.6 431.7 Q 218.5 432.5, 218.5 433.8 Q 218.5 434.6, 218.1 435.2 Q 217.6 435.8, 216.7 436.3 M 214.9 432.1 Q 214.0 432.1, 213.5 432.5 Q 213.0 433.0, 213.0 433.8 Q 213.0 434.4, 213.3 434.8 Q 213.7 435.2, 214.2 435.4 Q 214.7 435.6, 215.7 435.9 Q 216.3 435.5, 216.6 434.9 Q 216.9 434.4, 216.9 433.8 Q 216.9 433.0, 216.4 432.5 Q 215.9 432.1, 214.9 432.1 M 215.0 441.3 Q 216.1 441.3, 216.7 440.7 Q 217.3 440.2, 217.3 439.2 Q 217.3 438.6, 217.0 438.2 Q 216.7 437.8, 216.2 437.6 Q 215.7 437.4, 214.8 437.1 L 214.1 436.9 Q 213.3 437.3, 212.9 437.9 Q 212.5 438.5, 212.5 439.2 Q 212.5 440.2, 213.2 440.7 Q 213.9 441.3, 215.0 441.3 \" fill=\"#000000\"/>\n<path class=\"legend\" d=\"M 226.5 436.3 Q 227.6 436.8, 228.1 437.5 Q 228.7 438.1, 228.7 439.2 Q 228.7 440.2, 228.2 440.9 Q 227.7 441.7, 226.9 442.1 Q 226.0 442.5, 224.8 442.5 Q 222.9 442.5, 221.8 441.6 Q 220.7 440.8, 220.7 439.2 Q 220.7 438.3, 221.2 437.6 Q 221.7 436.9, 222.7 436.4 Q 222.0 436.0, 221.6 435.4 Q 221.2 434.7, 221.2 433.8 Q 221.2 432.5, 222.1 431.7 Q 223.1 430.9, 224.7 430.9 Q 226.4 430.9, 227.3 431.7 Q 228.3 432.5, 228.3 433.8 Q 228.3 434.6, 227.9 435.2 Q 227.4 435.8, 226.5 436.3 M 224.7 432.1 Q 223.8 432.1, 223.3 432.5 Q 222.8 433.0, 222.8 433.8 Q 222.8 434.4, 223.1 434.8 Q 223.5 435.2, 224.0 435.4 Q 224.5 435.6, 225.4 435.9 Q 226.1 435.5, 226.4 434.9 Q 226.7 434.4, 226.7 433.8 Q 226.7 433.0, 226.2 432.5 Q 225.7 432.1, 224.7 432.1 M 224.8 441.3 Q 225.9 441.3, 226.5 440.7 Q 227.1 440.2, 227.1 439.2 Q 227.1 438.6, 226.8 438.2 Q 226.5 437.8, 226.0 437.6 Q 225.5 437.4, 224.6 437.1 L 223.8 436.9 Q 223.0 437.3, 222.7 437.9 Q 222.3 438.5, 222.3 439.2 Q 222.3 440.2, 223.0 440.7 Q 223.7 441.3, 224.8 441.3 \" fill=\"#000000\"/>\n<path class=\"legend\" d=\"M 236.5 432.3 L 230.5 432.3 L 230.5 431.0 L 238.1 431.0 L 238.1 432.1 L 233.5 442.3 L 231.9 442.3 L 236.5 432.3 \" fill=\"#000000\"/>\n<ellipse cx=\"371.8\" cy=\"374.0\" rx=\"7.3\" ry=\"7.3\" class=\"atom-2\" style=\"fill:#9999E5;fill-rule:evenodd;stroke:#9999E5;stroke-width:1.0px;stroke-linecap:butt;stroke-linejoin:miter;stroke-opacity:1\"/>\n<path class=\"bond-0 atom-0 atom-1\" d=\"M 429.7,371.0 L 416.5,363.4\" style=\"fill:none;fill-rule:evenodd;stroke:#00CC00;stroke-width:2.0px;stroke-linecap:butt;stroke-linejoin:miter;stroke-opacity:1\"/>\n<path class=\"bond-0 atom-0 atom-1\" d=\"M 416.5,363.4 L 403.4,355.7\" style=\"fill:none;fill-rule:evenodd;stroke:#000000;stroke-width:2.0px;stroke-linecap:butt;stroke-linejoin:miter;stroke-opacity:1\"/>\n<path class=\"bond-1 atom-1 atom-2\" d=\"M 403.4,355.7 L 371.8,374.0\" style=\"fill:none;fill-rule:evenodd;stroke:#000000;stroke-width:2.0px;stroke-linecap:butt;stroke-linejoin:miter;stroke-opacity:1\"/>\n<path class=\"bond-2 atom-2 atom-3\" d=\"M 371.8,374.0 L 340.3,355.7\" style=\"fill:none;fill-rule:evenodd;stroke:#000000;stroke-width:2.0px;stroke-linecap:butt;stroke-linejoin:miter;stroke-opacity:1\"/>\n<path class=\"bond-3 atom-3 atom-4\" d=\"M 340.3,355.7 L 308.7,374.0\" style=\"fill:none;fill-rule:evenodd;stroke:#000000;stroke-width:2.0px;stroke-linecap:butt;stroke-linejoin:miter;stroke-opacity:1\"/>\n<path d=\"M 404.0,356.1 L 403.4,355.7 L 401.8,356.7\" style=\"fill:none;stroke:#000000;stroke-width:2.0px;stroke-linecap:butt;stroke-linejoin:miter;stroke-opacity:1;\"/>\n<path d=\"M 373.4,373.1 L 371.8,374.0 L 370.2,373.1\" style=\"fill:none;stroke:#000000;stroke-width:2.0px;stroke-linecap:butt;stroke-linejoin:miter;stroke-opacity:1;\"/>\n<path d=\"M 341.8,356.7 L 340.3,355.7 L 338.7,356.7\" style=\"fill:none;stroke:#000000;stroke-width:2.0px;stroke-linecap:butt;stroke-linejoin:miter;stroke-opacity:1;\"/>\n<path class=\"atom-0\" d=\"M 430.9 374.3 Q 430.9 371.8, 432.1 370.4 Q 433.3 369.1, 435.6 369.1 Q 437.8 369.1, 438.9 370.6 L 437.9 371.3 Q 437.1 370.3, 435.6 370.3 Q 434.1 370.3, 433.2 371.3 Q 432.4 372.3, 432.4 374.3 Q 432.4 376.4, 433.3 377.4 Q 434.1 378.5, 435.8 378.5 Q 436.9 378.5, 438.3 377.8 L 438.7 378.9 Q 438.1 379.2, 437.3 379.4 Q 436.5 379.6, 435.6 379.6 Q 433.3 379.6, 432.1 378.3 Q 430.9 376.9, 430.9 374.3 \" fill=\"#00CC00\"/>\n<path class=\"atom-0\" d=\"M 439.9 368.4 L 441.3 368.4 L 441.3 379.5 L 439.9 379.5 L 439.9 368.4 \" fill=\"#00CC00\"/>\n<path class=\"legend\" d=\"M 357.1 441.1 L 359.6 441.1 L 359.6 432.6 L 356.9 433.5 L 356.5 432.5 L 360.0 431.0 L 361.1 431.2 L 361.1 441.1 L 363.3 441.1 L 363.3 442.4 L 357.1 442.4 L 357.1 441.1 \" fill=\"#000000\"/>\n<path class=\"legend\" d=\"M 368.9 442.5 Q 366.8 442.5, 365.8 441.0 Q 364.8 439.4, 364.8 436.7 Q 364.8 434.0, 365.8 432.4 Q 366.8 430.9, 368.9 430.9 Q 371.0 430.9, 372.0 432.4 Q 373.1 434.0, 373.1 436.7 Q 373.1 439.4, 372.0 441.0 Q 371.0 442.5, 368.9 442.5 M 368.9 441.2 Q 370.2 441.2, 370.8 440.1 Q 371.5 438.9, 371.5 436.7 Q 371.5 434.5, 370.8 433.3 Q 370.2 432.2, 368.9 432.2 Q 367.7 432.2, 367.0 433.3 Q 366.4 434.5, 366.4 436.7 Q 366.4 438.9, 367.0 440.1 Q 367.7 441.2, 368.9 441.2 \" fill=\"#000000\"/>\n<path class=\"legend\" d=\"M 379.0 442.5 Q 376.9 442.5, 375.9 441.0 Q 374.9 439.4, 374.9 436.7 Q 374.9 434.0, 375.9 432.4 Q 376.9 430.9, 379.0 430.9 Q 381.1 430.9, 382.1 432.4 Q 383.2 434.0, 383.2 436.7 Q 383.2 439.4, 382.1 441.0 Q 381.1 442.5, 379.0 442.5 M 379.0 441.2 Q 380.3 441.2, 380.9 440.1 Q 381.6 438.9, 381.6 436.7 Q 381.6 434.5, 380.9 433.3 Q 380.3 432.2, 379.0 432.2 Q 377.8 432.2, 377.1 433.3 Q 376.5 434.5, 376.5 436.7 Q 376.5 438.9, 377.1 440.1 Q 377.8 441.2, 379.0 441.2 \" fill=\"#000000\"/>\n<path class=\"legend\" d=\"M 390.9 432.3 L 385.0 432.3 L 385.0 431.0 L 392.5 431.0 L 392.5 432.2 L 387.9 442.4 L 386.4 442.4 L 390.9 432.3 \" fill=\"#000000\"/>\n</svg>"
     },
     "execution_count": 24,
     "metadata": {},
     "output_type": "execute_result"
    }
   ],
   "execution_count": 24
  },
  {
   "cell_type": "markdown",
   "metadata": {},
   "source": [
    "Now let's identify the bits it common of 1-bromobutane and 1-chlorobutane!"
   ]
  },
  {
   "cell_type": "code",
   "metadata": {
    "ExecuteTime": {
     "end_time": "2025-09-16T12:32:04.106657Z",
     "start_time": "2025-09-16T12:32:04.104003Z"
    }
   },
   "source": [
    "common_bits = set(fp1.GetOnBits()) & set(fp2.GetOnBits()) \n",
    "print(f\"Common bits: {sorted(common_bits)}\")"
   ],
   "outputs": [
    {
     "name": "stdout",
     "output_type": "stream",
     "text": [
      "Common bits: [33, 80, 294, 591, 794, 887]\n"
     ]
    }
   ],
   "execution_count": 25
  },
  {
   "cell_type": "markdown",
   "metadata": {},
   "source": [
    "<div class=\"alert alert-block alert-warning\">\n",
    "<strong>Check your understanding</strong>\n",
    "    \n",
    "Did your prediction from the previous check your understanding hold true? If not, review the data to make sure you understand which fragments are on in both.\n",
    "\n"
   ]
  },
  {
   "cell_type": "markdown",
   "metadata": {},
   "source": [
    "### 2: Path-Based Fingerprints\n",
    "\n",
    "Path-based fingerprints are also hashed fingerprints.  They are generated by enumerating linear fragments of a given length and hashing them into a fixed-length bitstring.  An example is the RDKit's topological fingeprint.  As described in the RDK documentation (https://www.rdkit.org/docs/GettingStartedInPython.html#topological-fingerprints), while this fingerprint can be generated using FingerprintMols.FingerprintMol(), it is recommended to use rdmolops.RDKFingerprint() to generate the fingerprint using non-default parameter values.\n",
    "\n",
    "The <a href =\"https://www.rdkit.org/docs/source/rdkit.Chem.rdmolops.html#:~:text=rdkit.Chem.rdmolops.RDKFingerprint((Mol)mol\">RDKFingerprint(mol) method</a> has a number of arguments that can be added:\n",
    "* mol: the molecule to use\n",
    "* fpSize: (optional) number of bits in the fingerprint Defaults to 2048.\n",
    "* minPath: (optional) minimum number of bonds to include in the subgraphs Defaults to 1.\n",
    "* maxPath: (optional) maximum number of bonds to include in the subgraphs Defaults to 7."
   ]
  },
  {
   "cell_type": "code",
   "metadata": {
    "ExecuteTime": {
     "end_time": "2025-09-16T12:32:07.575201Z",
     "start_time": "2025-09-16T12:32:07.569332Z"
    }
   },
   "source": [
    "# path based fingerprints\n",
    "from rdkit.Chem import rdmolops\n",
    "mol = Chem.MolFromSmiles(\"CCOC(=O)N1CCC(=C2C3=C(CCC4=C2N=CC=C4)C=C(C=C3)Cl)CC1\")  # loratadine\n",
    "fp = rdmolops.RDKFingerprint(mol, fpSize=2048, minPath=1, maxPath=7).ToBitString()\n",
    "print(fp)"
   ],
   "outputs": [
    {
     "name": "stdout",
     "output_type": "stream",
     "text": [
      "11001110001100000010111110111001011100011101000010011010011100000100110111110100010011001111000110010101100111011110010011101111010100101010000110001101010111011110011011100011100010110000010000100101101110111010100010000001011001010111101001100010101011011011011110001000100100001011111001010111100100110100101110110100011110011111000101001100110101001101101100101110110111111100101100000111000110110001000010111000001011010000000111101011111100100111000111110011101011011111000001110100100010101110111011001100000011101000110110100110100110000100101111000111011100100000100110111001011100111100000000010100100111001100100100110000011001001011101100100010111111010010011111111001000010001001011010111010111101010010010000100100001001010110011110001110100110010110101101000011000101100110101011010111011001011011101001100001111100101001111110111110100000110111011011100001000111010101101100000010001110000110111100111000111111101110101101100101111100101101001111011101010011010110011001101001100011101011000011010110111010010011001000010110111110100010010000101101101000011001101110100001101001110001100111001011110101000001001001010000011110110010001101110010101011111001000111001001110101011011001101010011000001011001110011100111011000101001011101111110110111101100100111001010011000010011111110011011001010101101100001000001110111110011001111001101011000001000101000011010101111011111010011101100100101110101101001101100101001010000000001000111111111001101100001001110000100100101100001011011111001111001110011001001101100011100100110010001011010110110111011010111111101000111101011011101010000111001010000000000000010001001111101000110100000110110010010011010011110111010110001100000110000101011110101010100110001110000010111111001000011000111101101011000111011101111101010000010111000011010000111010011010101101100001110101010110111100100001010011001010001110101011011101001010111111111110000001111010111011011001011101111111101011000011101100000011000011100010100111001011011101010011110000010100010111010000001001110010001001100001111011001\n"
     ]
    }
   ],
   "execution_count": 26
  },
  {
   "cell_type": "markdown",
   "metadata": {},
   "source": [
    " <div class=\"alert alert-block alert-success\">\n",
    "      <H1><center>Homework</center></H1>"
   ]
  },
  {
   "cell_type": "markdown",
   "metadata": {},
   "source": [
    "## Problem 1: MACCS Keys\n",
    "For the list of terpene SMILES in the next code cell:\n",
    "1) Display the structures\n",
    "2) Generate the MACCS Keys for each molecule\n",
    "3) Calculate number of \"on\" bits and \"off\" bits"
   ]
  },
  {
   "cell_type": "code",
   "execution_count": null,
   "metadata": {},
   "outputs": [],
   "source": [
    "terpenes = ['CC(=CCCC(C)(C=C)O)C',                       #linalool\n",
    "          'CC(=CCC/C(=C/CO)/C)C',                        #geraniol\n",
    "          'CC1=CCC(CC1)C(=C)C',                          #limonene\n",
    "          'CC1=CCC(=C(C)C)CC1',                          #terpinolene\n",
    "          'CC1=CCC2CC1C2(C)C']                           #Alpha-pinene\n",
    "\n",
    "# write your code here to display the molecules in Problem 1\n"
   ]
  },
  {
   "cell_type": "code",
   "execution_count": null,
   "metadata": {},
   "outputs": [],
   "source": [
    "# write your code here to generate MACCS Keys and off/on bits in Problem 1\n"
   ]
  },
  {
   "cell_type": "markdown",
   "metadata": {},
   "source": [
    "## Problem 2\n",
    "\n",
    "For the list of PubChem compound ID numbers in the next code cell:\n",
    "1) Use the use the PUG-REST API to obtain their SMILES and PubChem Fingerprints and store in lists\n",
    "2) convert the PubChem Fingerprints to bitstrings and display\n",
    "3) display their structures \n"
   ]
  },
  {
   "cell_type": "code",
   "execution_count": null,
   "metadata": {},
   "outputs": [],
   "source": [
    "CIDS = [     4980,   # psilocin             \n",
    "             1615,   # methylenedioxymethamphetamine\n",
    "            10257,   # bufotenin\n",
    "           360252,   # 5-bromo-DMT  \n",
    "             4076,   # mescaline \n",
    "            98527,   # 2C-B\n",
    "            5761 ]   # LSD \n",
    "\n",
    "# write your code here to obtain SMILES and PubChem Fingerprints \n"
   ]
  },
  {
   "cell_type": "code",
   "execution_count": null,
   "metadata": {},
   "outputs": [],
   "source": [
    "# write your code here to convert fingerprints from Base64 to bitstring\n"
   ]
  },
  {
   "cell_type": "code",
   "execution_count": null,
   "metadata": {},
   "outputs": [],
   "source": [
    "# write your code here to display structures\n"
   ]
  },
  {
   "cell_type": "markdown",
   "metadata": {},
   "source": [
    "### Problem 3\n",
    "For the molecules below, generate the 512-bit-long Morgan Fingeprint comparable to the **FCFP6** fingerprint.\n",
    "\n",
    "- Use the PUG REST API to search for the compounds by name and get their SMILES strings.\n",
    "- Generate the molecular fingerprints from the SMILES strings.\n",
    "- Print the generated fingerprints.\n"
   ]
  },
  {
   "cell_type": "code",
   "execution_count": null,
   "metadata": {},
   "outputs": [],
   "source": [
    "synonyms = [ 'diphenhydramine', 'cetirizine', 'fexofenadine', 'loratadine' ]"
   ]
  },
  {
   "cell_type": "code",
   "execution_count": null,
   "metadata": {},
   "outputs": [],
   "source": [
    "# Write your code in this cell\n"
   ]
  },
  {
   "cell_type": "markdown",
   "metadata": {},
   "source": [
    "# Acknowledgments"
   ]
  },
  {
   "cell_type": "code",
   "execution_count": null,
   "metadata": {},
   "outputs": [],
   "source": []
  }
 ],
 "metadata": {
  "kernelspec": {
   "display_name": "dataChem(py3.10)",
   "language": "python",
   "name": "datachem"
  },
  "language_info": {
   "codemirror_mode": {
    "name": "ipython",
    "version": 3
   },
   "file_extension": ".py",
   "mimetype": "text/x-python",
   "name": "python",
   "nbconvert_exporter": "python",
   "pygments_lexer": "ipython3",
   "version": "3.10.12"
  }
 },
 "nbformat": 4,
 "nbformat_minor": 4
}
