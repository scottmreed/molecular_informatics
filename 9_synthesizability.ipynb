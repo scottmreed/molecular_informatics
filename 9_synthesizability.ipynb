{
  "cells": [
    {
      "cell_type": "markdown",
      "metadata": {},
      "source": [
        "# Synthetic Accessibility Score of Drug-Like Molecules in RDKit\n",
        "\n",
        "### Introduction\n",
        "\n",
        "The synthetic accessibility score (SAscore) provides an estimation of how easy it is to synthesize a given molecule. Developed by Peter Ertl and Ansgar Schuffenhauer, the SAscore combines fragment contributions and molecular complexity to generate a score between 1 (easy to synthesize) and 10 (difficult to synthesize). This is particularly useful in drug discovery to help prioritize molecules based on their synthetic feasibility. In this notebook, we will explore how to calculate the SAscore using RDKit, a popular cheminformatics toolkit in Python."
      ]
    },
    {
      "cell_type": "markdown",
      "id": "f3278936",
      "metadata": {},
      "source": [
        "Adapted from: Estimation of synthetic accessibility score of drug-like molecules based on molecular complexity and fragment contributions\n",
        "\n",
        "Peter Ertl & Ansgar Schuffenhauer \n",
        "Journal of Cheminformatics volume 1, Article number: 8 (2009)"
      ]
    },
    {
      "cell_type": "markdown",
      "metadata": {},
      "source": [
        "### Dependencies\n",
        "\n",
        "To run the code in this notebook, you need to install RDKit. You can install it using the following command in your terminal:\n",
        "\n",
        "```bash\n",
        "conda install -c conda-forge rdkit\n",
        "```"
      ]
    },
    {
      "cell_type": "code",
      "execution_count": null,
      "id": "b4b5719f",
      "metadata": {},
      "outputs": [],
      "source": [
        "# to run on colab\n",
        "\n",
        "\n",
        "# !pip install -q condacolab\n",
        "# import condacolab\n",
        "# condacolab.install()\n",
        "# !conda install -c conda-forge rdkit\n"
      ]
    },
    {
      "cell_type": "code",
      "execution_count": 2,
      "id": "4cfccbd5",
      "metadata": {},
      "outputs": [],
      "source": [
        "# Importing Necessary Libraries\n",
        "\n",
        "import os\n",
        "import sys\n",
        "sys.path.append(os.path.join('..','usr','local', 'share','RDKit','Contrib'))\n",
        "from SA_Score import sascorer\n",
        "from NP_Score import npscorer\n",
        "from rdkit import Chem\n",
        "from rdkit.Chem import Draw\n",
        "import matplotlib.pyplot as plt"
      ]
    },
    {
      "cell_type": "markdown",
      "id": "02ee784b",
      "metadata": {},
      "source": [
        "### Calculating Synthetic Accessibility Score\n",
        "\n",
        "The `sascorer` module provides a function `calculateScore()` to estimate the synthetic accessibility score of a molecule. Let's take an example of some commonly used molecules.\n",
        "### SAscore = fragmentScore − complexityPenalty\n",
        "605,864 different fragment types were obtained by fragmenting 934,046 PubChem structures. Most of them (51%) are singletons (present only once in\n",
        "the whole set). Only a relatively small number of fragments, namely 3759 (0.62%), are frequent (i.e. present more than 1000-times in the database).\n",
        "the contribution for each fragment has been calculated as a logarithm\n",
        "of the ratio between the actual fragment count and the number of fragments forming 80% of all fragments in the database. As a result the frequent fragments have positive\n",
        "scores and less frequent fragments have negative\n",
        "scores.\n",
        "\n",
        "The complexityScore is calculated as a combination of ringComplexityScore, stereoComplexityScore, macrocyclePenalty and the sizePenalty.\n",
        "\n",
        "### stereoComplexityScore = log(nStereoCenters + 1)\n",
        "### macrocyclePenalty = log(nMacrocycles + 1) (for rings > 8)\n",
        "### sizePenalty = natoms**1.005 − natoms"
      ]
    },
    {
      "cell_type": "code",
      "execution_count": 3,
      "id": "69abf194",
      "metadata": {},
      "outputs": [],
      "source": [
        "smiles_list = [\n",
        "    'CC(C)CC1=CC=C(C=C1)C(C)C(=O)O',       # Ibuprofen\n",
        "    'CC1=CC=CC=C1C(=O)O',                  # Salicylic acid\n",
        "    'CC(C)NCC(O)COC1=CC=CC=C1',            # Pseudoephedrine\n",
        "    'CCC1(CC(C)CO1)OC(=O)NCC2=CC=C(C=C2)O',# Naproxen\n",
        "    'CC(C)C1=CC=C(C=C1)C(=O)O',            # Fenoprofen\n",
        "    'CC(C)(C)C1=CC=CC=C1O',                # Thymol\n",
        "    'CCN(CC)CCOC1=CC=CC=C1',               # Lidocaine\n",
        "    'CC(C)CC(=O)NC1=CC=CC=C1Cl',           # Diclofenac\n",
        "    'CC1=C(C(C(C(=O)O1)C)O)C(=O)O',        # Ascorbic acid\n",
        "    'CC(=O)OC1=CC=CC=C1C(=O)O',            # Aspirin\n",
        "    'C1=CC=C(C=C1)C=O',                    # Benzaldehyde\n",
        "    'CCOC(=O)C1=CC=CC=C1',                 # Ethyl benzoate\n",
        "    'CC(C)CC(C(=O)O)NC(=O)C1=CC=CC=C1',    # Acetaminophen\n",
        "    'CN1C=NC2=C1C=NC=N2',                  # Caffeine\n",
        "    'COC1=CC=CC=C1OC',                     # Anisole\n",
        "    'CNC(=O)C1=CC=CC=C1',                  # Acetanilide\n",
        "    'CC1=CC=C(C=C1)N',                     # Aniline\n",
        "    'C1=CC(=CC=C1O)C=O',                   # Vanillin\n",
        "    'CCOC(=O)C1=CC=C(C=C1)O',              # Methyl salicylate\n",
        "    'CC(=O)NCCC1=CC=CC=C1',                # Tryptamine\n",
        "    'COC1=C(C=CC(=C1)O)C(=O)O',            # Gallic acid\n",
        "    'CCOC(=O)CC(=O)OCC',                   # Diethyl malonate\n",
        "    'CC(=O)OC1=CC(=C(C=C1)O)C(=O)O',       # Ethyl gallate\n",
        "    'COC1=CC=C(C=C1)C(=O)O',               # Methyl benzoate\n",
        "    'CCCCCCCCCCCCCCCC(=O)OCC',             # Ethyl palmitate\n",
        "    'CCCCCCCCCCCCCCCC(=O)O',               # Palmitic acid\n",
        "    'CCCCCCCCCCCCCCCC(=O)OC(C)=O',         # Ethyl stearate\n",
        "    'C1=CC=C2C(=C1)C=CC=C2O',              # Beta-naphthol\n",
        "    'C1=CC=C(C=C1)S(=O)(=O)C',             # Tosyl chloride\n",
        "    'COC1=CC=C(C=C1)OC',                   # Dimethoxybenzene\n",
        "    'CC1=C(C=C(C=C1)O)O',                  # Catechol\n",
        "    'CCCCCCCCCC(=O)OCC',                   # Ethyl laurate\n",
        "    'CCCCCCCCCCCCCCCCCC(=O)OCC',           # Ethyl behenate\n",
        "    'CCCCCCCCCC(=O)NCC',                   # Dodecanamide\n",
        "    'C1=CC=C(C=C1)C2=CC=CC=C2',            # Biphenyl\n",
        "    'C1=CC(=CC=C1C=O)O',                   # Salicylaldehyde\n",
        "    'C1=CC=C(C=C1)C2=CC(=CC=C2)O',         # Phenylphenol\n",
        "    'CC(C)(C)C1=CC=CC=C1',                 # Tert-butylbenzene\n",
        "    'CCCCCC1=CC=CC=C1',                    # Hexylbenzene\n",
        "    'CC(C)(C)C1=CC=CC=C1OC',               # tert-Butyl anisole\n",
        "]\n"
      ]
    },
    {
      "cell_type": "code",
      "execution_count": null,
      "id": "45271266",
      "metadata": {},
      "outputs": [],
      "source": [
        "# Example SMILES strings\n",
        "\n",
        "# Converting SMILES to RDKit molecule objects\n",
        "molecules = [Chem.MolFromSmiles(smiles) for smiles in smiles_list]\n",
        "\n",
        "# Calculating SAscore\n",
        "scores = [sascorer.calculateScore(mol) for mol in molecules]\n",
        "\n",
        "# Printing out the scores\n",
        "for i, smiles in enumerate(smiles_list):\n",
        "    print(f\"Molecule {i+1} (SMILES: {smiles}): SAscore = {scores[i]:.2f}\")\n",
        "# Note the deprecation warning is hard to avoid here"
      ]
    },
    {
      "cell_type": "markdown",
      "id": "c808649c",
      "metadata": {},
      "source": [
        "### Visualizing Molecules with Their Synthetic Accessibility Score\n",
        "\n",
        "To visualize the molecules with their calculated synthetic accessibility score, we can use RDKit's `Draw.MolsToGridImage`."
      ]
    },
    {
      "cell_type": "code",
      "execution_count": null,
      "id": "28b09b9a",
      "metadata": {},
      "outputs": [],
      "source": [
        "# Visualizing molecules with scores\n",
        "mol_labels = [f'SAscore: {score:.2f}' for score in scores]\n",
        "img = Draw.MolsToGridImage(molecules, legends=mol_labels, subImgSize=(300, 300))\n",
        "img"
      ]
    },
    {
      "cell_type": "markdown",
      "id": "792ada69",
      "metadata": {},
      "source": [
        "### Calculating Natural Product Likeness Score\n",
        "\n",
        "The `npscorer` module allows calculation of the natural product likeness score, which ranges from -5 to 5. Let's calculate the NP score for the example molecules."
      ]
    },
    {
      "cell_type": "code",
      "execution_count": null,
      "id": "cbcf3dfb",
      "metadata": {},
      "outputs": [],
      "source": [
        "# Calculating Natural Product Likeness Score\n",
        "fscore = npscorer.readNPModel()\n",
        "print('Reading NP model ...')\n",
        "\n",
        "np_scores = [npscorer.scoreMol(mol, fscore) for mol in molecules]\n",
        "\n",
        "# Printing out the NP scores\n",
        "for i, smiles in enumerate(smiles_list):\n",
        "    print(f\"Molecule {i+1} (SMILES: {smiles}): NPscore = {np_scores[i]:.2f}\")"
      ]
    },
    {
      "cell_type": "markdown",
      "id": "e476712b",
      "metadata": {},
      "source": [
        "### Calculating NP Score with Confidence\n",
        "\n",
        "We can also calculate the natural product score along with a confidence value using `npscorer.scoreMolWConfidence()`. This provides additional insight into how reliable the score is."
      ]
    },
    {
      "cell_type": "code",
      "execution_count": null,
      "id": "172e778d",
      "metadata": {},
      "outputs": [],
      "source": [
        "# Calculating NP Score with Confidence\n",
        "np_scores_confidence = [npscorer.scoreMolWConfidence(mol, fscore) for mol in molecules]\n",
        "\n",
        "# Printing out the NP scores with confidence\n",
        "for i, smiles in enumerate(smiles_list):\n",
        "    score, confidence = np_scores_confidence[i].nplikeness, np_scores_confidence[i].confidence\n",
        "    print(f\"Molecule {i+1} (SMILES: {smiles}): NPscore = {score:.2f}, Confidence = {confidence:.2f}\")"
      ]
    },
    {
      "cell_type": "markdown",
      "id": "a1ca636e",
      "metadata": {},
      "source": [
        "### Discussion on Synthetic Accessibility and Natural Product Likeness Scores\n",
        "\n",
        "The synthetic accessibility score calculated for the above molecules ranges from 1 (easy to synthesize) to 10 (difficult to synthesize). The natural product likeness score ranges from -5 to 5, with positive values indicating high resemblance to natural products and negative values indicating low resemblance.\n",
        "\n",
        "1. **Fragment Contributions**: Common fragments that are frequently synthesized contribute positively to the synthetic accessibility score.\n",
        "2. **Molecular Complexity**: Features like large rings, stereocenters, and unusual substitutions increase the complexity penalty, making synthesis more difficult.\n",
        "\n",
        "For example, molecules like Ibuprofen and Naproxen have moderate synthetic accessibility scores due to their non-standard ring systems and substituents, while simpler molecules such as Salicylic acid tend to have lower scores due to their more straightforward synthesis paths. The natural product likeness score can provide additional information about how 'natural' a molecule is, which can be useful in lead prioritization."
      ]
    },
    {
      "cell_type": "markdown",
      "id": "92b7249c",
      "metadata": {},
      "source": [
        "## Exercise 1: \n",
        "Retrieve the complexity score for each smiles from pugrest and graph the complexity and sa score \n"
      ]
    },
    {
      "cell_type": "code",
      "execution_count": null,
      "id": "3dc9e93f",
      "metadata": {},
      "outputs": [],
      "source": [
        "\n"
      ]
    }
  ],
  "metadata": {
    "kernelspec": {
      "display_name": "my-rdkit-env",
      "language": "python",
      "name": "python3"
    },
    "language_info": {
      "codemirror_mode": {
        "name": "ipython",
        "version": 3
      },
      "file_extension": ".py",
      "mimetype": "text/x-python",
      "name": "python",
      "nbconvert_exporter": "python",
      "pygments_lexer": "ipython3",
      "version": "3.7.9"
    },
    "title": "Synthetic Accessibility Score of Drug-Like Molecules in RDKit"
  },
  "nbformat": 4,
  "nbformat_minor": 5
}
