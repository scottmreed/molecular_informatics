{
 "cells": [
  {
   "cell_type": "markdown",
   "metadata": {},
   "source": [
    "<center><H1>Molecular Similarity</H1></center>"
   ]
  },
  {
   "cell_type": "markdown",
   "metadata": {},
   "source": [
    "## Objectives"
   ]
  },
  {
   "cell_type": "markdown",
   "metadata": {},
   "source": [
    "<div class=\"alert alert-block alert-info\">\n",
    "<Strong>Objectives</strong>\n",
    "\n",
    "- Evaluate structural similarity between molecules using different molecular fingerpints and similarity metrics.\n",
    "- Evaluate cutoff values for molecular similarity based on distribution of similarity scores for a given fingerprint"
   ]
  },
  {
   "cell_type": "markdown",
   "metadata": {},
   "source": [
    "Many useful documents/papers describe various aspects of molecular similarity, including molecular fingerprints and similarity measures.  Please read these if you need more details."
   ]
  },
  {
   "cell_type": "markdown",
   "metadata": {},
   "source": [
    "- Getting Started with the RDKit in Python<br>\n",
    "(https://www.rdkit.org/docs/GettingStartedInPython.html#fingerprinting-and-molecular-similarity)\n",
    "\n",
    "- Fingerprint Generation, GraphSim Toolkit 2.4.2<br>\n",
    "(https://docs.eyesopen.com/toolkits/python/graphsimtk/fingerprint.html)\n",
    "\n",
    "- Chemical Fingerprints<br>\n",
    "(https://docs.chemaxon.com/display/docs/Chemical+Fingerprints)\n",
    "\n",
    "- Extended-Connectivity Fingerprints<br>\n",
    "(https://doi.org/10.1021/ci100050t)\n",
    "\n",
    "- Why is Tanimoto index an appropriate choice for fingerprint-based similarity calculations?<br>\n",
    "(https://jcheminf.biomedcentral.com/articles/10.1186/s13321-015-0069-3)\n",
    "\n"
   ]
  },
  {
   "cell_type": "markdown",
   "metadata": {},
   "source": [
    "## 1. Computation of similarity scores"
   ]
  },
  {
   "cell_type": "markdown",
   "metadata": {},
   "source": [
    "The \"similar structure, similar function\" is a powerful guiding force in medicinal chemistry. Structure-activity relationship studies allow chemists to We will start out comparing morphine to codeine and amlodipine. Morphine and codeine act at &mu; opioid receptors to cause analgesia. Amlodipine is a calcium channel blocker that reduces blood pressure. If the similar structure, similar funciton principle applies to these molecules, morphine and codeine should be structurally similar and different from amlodipine."
   ]
  },
  {
   "cell_type": "code",
   "metadata": {},
   "source": [
    "import requests\n",
    "import time"
   ],
   "outputs": [],
   "execution_count": null
  },
  {
   "cell_type": "code",
   "metadata": {},
   "source": [
    "# we will get SMILES from pubchem using the pubchem compound ID number\n",
    "cids = [    5288826,  # morphine\n",
    "            5284371,  # codeine\n",
    "            2162]     # amlodipine\n",
    "names=  ['morphine','codeine','amlodipine'] #for easy display of names with structures later"
   ],
   "outputs": [],
   "execution_count": null
  },
  {
   "cell_type": "markdown",
   "metadata": {},
   "source": [
    "Let's get the SMILES strings from PubChem, generate Mol objects from them, and draw their chemical structures."
   ]
  },
  {
   "cell_type": "code",
   "metadata": {},
   "source": [
    "# this code requests all smiles in one PUG REST API request\n",
    "prolog = \"https://pubchem.ncbi.nlm.nih.gov/rest/pug\"\n",
    "\n",
    "str_cid = \",\".join([ str(x) for x in cids])\n",
    "\n",
    "url = prolog + \"/compound/cid/\" + str_cid + \"/property/isomericsmiles/txt\"\n",
    "res = requests.get(url)  # the request will return all three smiles in one line\n",
    "smiles = res.text.split() # split the data into a new list corresponding to morphine, codeine and fentanyl \n",
    "print(smiles)"
   ],
   "outputs": [],
   "execution_count": null
  },
  {
   "cell_type": "code",
   "metadata": {},
   "source": [
    "#display the structures with names in legends\n",
    "from rdkit import Chem\n",
    "from rdkit.Chem import Draw\n",
    "\n",
    "mols = [ Chem.MolFromSmiles(x) for x in smiles ]\n",
    "Chem.Draw.MolsToGridImage(mols, molsPerRow=4, subImgSize=(200,200), legends=[str(x) for x in names] )"
   ],
   "outputs": [],
   "execution_count": null
  },
  {
   "cell_type": "markdown",
   "metadata": {},
   "source": [
    "<div class=\"alert alert-block alert-warning\">\n",
    "<strong>Check your understanding</strong>\n",
    "\n",
    "* On quick inspection how are morphine and codeine structurally different?\n",
    "* On quick inspection how different are morphine and amlodipine structurally?\n",
    "* Would you expect morphine and amlodipine to bind to &mu; opioid receptors?\n",
    "* Would you expect morphine to be a calcium channel blocker?"
   ]
  },
  {
   "cell_type": "markdown",
   "metadata": {},
   "source": [
    "Now generate MACCS keys for each compound to generate structural keys for comparison."
   ]
  },
  {
   "cell_type": "code",
   "metadata": {},
   "source": [
    "from rdkit import DataStructs\n",
    "from rdkit.Chem import MACCSkeys\n",
    "\n",
    "fps = [ MACCSkeys.GenMACCSKeys(x) for x in mols ]"
   ],
   "outputs": [],
   "execution_count": null
  },
  {
   "cell_type": "markdown",
   "metadata": {},
   "source": [
    "Now let's compute the pair-wise similarity scores among them. The default calculation is Tanimoto simililarity. To make higher scores easier to find, they are indicated with the \"\\*\" character(s). The more \"\\*\" you see, the higher the similarity score."
   ]
  },
  {
   "cell_type": "code",
   "metadata": {},
   "source": [
    "for i in range(0, len(fps)) :\n",
    "    for j in range(i+1, len(fps)) :\n",
    "        \n",
    "        score = DataStructs.FingerprintSimilarity(fps[i], fps[j])\n",
    "        print(names[i], \"vs.\", names[j], \":\", round(score,3), end='')\n",
    "        \n",
    "        if ( score >= 0.85 ):\n",
    "            print(\" ****\")\n",
    "        elif ( score >= 0.75 ):\n",
    "            print(\" ***\")\n",
    "        elif ( score >= 0.65 ):\n",
    "            print(\" **\")\n",
    "        elif ( score >= 0.55 ):\n",
    "            print(\" *\")\n",
    "        else:\n",
    "            print(\" \")"
   ],
   "outputs": [],
   "execution_count": null
  },
  {
   "cell_type": "markdown",
   "metadata": {},
   "source": [
    "<div class=\"alert alert-block alert-warning\">\n",
    "<strong>Check your understanding</strong>\n",
    "\n",
    "In the code cell below, using similarity scoring determine if you would expect felodipinum (CID = 3333) to be an opioid analgesic or a calcium channel blocker.\n"
   ]
  },
  {
   "cell_type": "code",
   "metadata": {},
   "source": [
    "# write your code to compare similarity here\n",
    "\n",
    "# we will get SMILES from pubchem using the pubchem compound ID number\n",
    "cids2 = [    5288826,  # morphine\n",
    "            3333,    # Felodipinum\n",
    "            2162]     # amlodipine\n",
    "names2=  ['morphine','felodipinim','amlodipine'] #for easy display of names with structures later\n",
    "\n",
    "prolog = \"https://pubchem.ncbi.nlm.nih.gov/rest/pug\"\n",
    "\n",
    "str_cid2 = \",\".join([ str(x) for x in cids2])\n",
    "\n",
    "url = prolog + \"/compound/cid/\" + str_cid2 + \"/property/isomericsmiles/txt\"\n",
    "res = requests.get(url)  # the request will return all three smiles in one line\n",
    "smiles2 = res.text.split() # split the data into a new list corresponding to morphine, codeine and fentanyl \n",
    "\n",
    "mols2 = [ Chem.MolFromSmiles(x) for x in smiles2 ]\n",
    "fps = [ MACCSkeys.GenMACCSKeys(x) for x in mols2 ]\n",
    "\n",
    "for i in range(0, len(fps)) :\n",
    "    for j in range(i+1, len(fps)) :\n",
    "        \n",
    "        score = DataStructs.FingerprintSimilarity(fps[i], fps[j])\n",
    "        print(names2[i], \"vs.\", names2[j], \":\", round(score,3), end='')\n",
    "        \n",
    "        if ( score >= 0.85 ):\n",
    "            print(\" ****\")\n",
    "        elif ( score >= 0.75 ):\n",
    "            print(\" ***\")\n",
    "        elif ( score >= 0.65 ):\n",
    "            print(\" **\")\n",
    "        elif ( score >= 0.55 ):\n",
    "            print(\" *\")\n",
    "        else:\n",
    "            print(\" \")\n",
    "\n",
    "mols = [ Chem.MolFromSmiles(x) for x in smiles2 ]\n",
    "Chem.Draw.MolsToGridImage(mols2, molsPerRow=4, subImgSize=(200,200), legends=[str(x) for x in names2] )"
   ],
   "outputs": [],
   "execution_count": null
  },
  {
   "cell_type": "markdown",
   "metadata": {},
   "source": [
    "As seen in the above section, two molecules can have very similar structures and have the same biological effect. \n",
    "\n",
    "\n",
    "Let's explore a series of class of prescription drugs called *statins* that are used to lower cholesterol. They all work by inhibiting HMG-CoA reductase which is a critical enzyme in the production of cholesterol. Many of these drugs were developed be structurally similar to existing drugs but having fewer side effects or reduce drug-drug interactions. Mevastatin (CID 64715) was the first drug to be developed by never marketed. Pravastatin does not inhibit CYP-450 enzymes. "
   ]
  },
  {
   "cell_type": "code",
   "metadata": {},
   "source": [
    "import requests\n",
    "import time"
   ],
   "outputs": [],
   "execution_count": null
  },
  {
   "cell_type": "code",
   "metadata": {},
   "source": [
    "statin_cids = [    54454,  # Simvastatin (Zocor)\n",
    "                   54687,  # Pravastatin (Pravachol)\n",
    "                   60823,  # Atorvastatin (Lipitor)\n",
    "                  446155,  # Fluvastatin (Lescol)   \n",
    "                  446157,  # Rosuvastatin (Crestor)\n",
    "                 5282452,  # Pitavastatin (Livalo)\n",
    "                97938126 ] # Lovastatin (Altoprev)"
   ],
   "outputs": [],
   "execution_count": null
  },
  {
   "cell_type": "markdown",
   "metadata": {},
   "source": [
    "Let's get the SMILES strings from PubChem, generate Mol objects from them, and draw their chemical structures."
   ]
  },
  {
   "cell_type": "code",
   "metadata": {},
   "source": [
    "prolog = \"https://pubchem.ncbi.nlm.nih.gov/rest/pug\"\n",
    "\n",
    "str_statin_cid = \",\".join([ str(x) for x in statin_cids])\n",
    "\n",
    "url = prolog + \"/compound/cid/\" + str_statin_cid + \"/property/isomericsmiles/txt\"\n",
    "res = requests.get(url)\n",
    "smiles = res.text.split()"
   ],
   "outputs": [],
   "execution_count": null
  },
  {
   "cell_type": "code",
   "metadata": {},
   "source": [
    "from rdkit import Chem\n",
    "from rdkit.Chem import Draw\n",
    "\n",
    "statins = [ Chem.MolFromSmiles(x) for x in smiles ]\n",
    "Chem.Draw.MolsToGridImage(statins, molsPerRow=4, subImgSize=(200,200), legends=[str(x) for x in statin_cids] )"
   ],
   "outputs": [],
   "execution_count": null
  },
  {
   "cell_type": "markdown",
   "metadata": {},
   "source": [
    "Now generate MACCS keys for each compound."
   ]
  },
  {
   "cell_type": "code",
   "metadata": {},
   "source": [
    "from rdkit import DataStructs\n",
    "from rdkit.Chem import MACCSkeys\n",
    "\n",
    "fps = [ MACCSkeys.GenMACCSKeys(x) for x in statins ]\n"
   ],
   "outputs": [],
   "execution_count": null
  },
  {
   "cell_type": "markdown",
   "metadata": {},
   "source": [
    "Now let's compute the pair-wise similarity scores among them. To make higher scores easier to find, they are indicated with the \"\\*\" character(s)."
   ]
  },
  {
   "cell_type": "code",
   "metadata": {},
   "source": [
    "for i in range(0, len(fps)) :\n",
    "    for j in range(i+1, len(fps)) :\n",
    "        \n",
    "        score = DataStructs.FingerprintSimilarity(fps[i], fps[j])\n",
    "        print(statin_cids[i], \"vs.\", statin_cids[j], \":\", round(score,3), end='')\n",
    "        \n",
    "        if ( score >= 0.85 ):\n",
    "            print(\" ****\")\n",
    "        elif ( score >= 0.75 ):\n",
    "            print(\" ***\")\n",
    "        elif ( score >= 0.65 ):\n",
    "            print(\" **\")\n",
    "        elif ( score >= 0.55 ):\n",
    "            print(\" *\")\n",
    "        else:\n",
    "            print(\" \")\n"
   ],
   "outputs": [],
   "execution_count": null
  },
  {
   "cell_type": "markdown",
   "metadata": {},
   "source": [
    "<div class=\"alert alert-block alert-warning\">\n",
    "<strong>Check your understanding</strong>\n",
    "\n",
    "- Identify the two statins above that had the highest similarity score. What structural features are similar?\n",
    "- Look at the structure of 446147, what key feature sets it apart from all other statins? What molecule is it most structurally similar to?\n",
    "\n",
    "97938126 was developed first by Merck, Sharp & Dohme in 1976 and was metabolized by 2 CYP enzymes (CYP3A and CYP2C8). 54454 was developed 10 years later at the same company and is metabolized by only one CYP enzyme (CYP3A4). <a href =\"https://pmc.ncbi.nlm.nih.gov/articles/PMC7576625/\" >They are *me-too* drugs defined as \"a pharmacologically active compound that is structurally related to a first‐in‐class compound, regarded as belonging to the same therapeutic class as the original compound, and used for the same therapeutic purposes, but which may differ in some respects, such as specificity of pharmacological action, adverse reactions profile, or drug–drug interactions.\" </a>\n",
    "\n"
   ]
  },
  {
   "cell_type": "markdown",
   "metadata": {},
   "source": [
    "By default, the similarity score is generated using the **Tanimoto** equation:\n",
    "\n",
    "$\\frac{|A \\cap B|}{|A \\cup B|}$ or  $\\frac{|A \\cap B|}{|A| + |B| -|A\\cap B|}$ or $\\frac{overlap}{|Unique A + Unique B - Overlap|}$\n",
    "\n",
    "RDKit also supports other similarity metrics, including Dice, Cosine, Sokal, Russel, Kulczynski, McConnaughey, and Tversky.  The definition of these metrics is available at the LibreTexts page (https://bit.ly/2kx9NCd).\n",
    "\n",
    "You found that 446157 was quite different from the others with a highest Tanimoto similarity of 0.535. \n",
    "The following code cell shows comparison of CIDS 60823 vs. 446157 (Atorvastatin vs Rosuvstatin) using different similary indices."
   ]
  },
  {
   "cell_type": "code",
   "metadata": {},
   "source": [
    "print(\"Tanimoto    :\", round(DataStructs.TanimotoSimilarity(fps[2], fps[4]), 4))\n",
    "print(\"Dice        :\", round(DataStructs.DiceSimilarity(fps[2], fps[4]), 4))\n",
    "print(\"Cosine      :\", round(DataStructs.CosineSimilarity(fps[2], fps[4]), 4))\n",
    "print(\"Sokal       :\", round(DataStructs.SokalSimilarity(fps[2], fps[4]), 4))\n",
    "print(\"McConnaughey:\", round(DataStructs.McConnaugheySimilarity(fps[2], fps[4]), 4))"
   ],
   "outputs": [],
   "execution_count": null
  },
  {
   "cell_type": "markdown",
   "metadata": {},
   "source": [
    "By using different similarity scores, we can see that these molecules may be more or less similar depending on definition."
   ]
  },
  {
   "cell_type": "markdown",
   "metadata": {},
   "source": [
    "The Tversky score is an asymmetric similarity measure, and its computation requires the weightings (&alpha; and &beta;) of the two molecules being compared. <br> This allows for emphasizing features that are present in one set or prototype, that are not in the other. \n",
    "Setting ***&alpha; = &beta; =1*** produces the **Tanimoto Index**, while setting ***&alpha; = &beta; = 0.5*** is the same as the **Dice index**.\n",
    "\n",
    "In the code example below we are comparing similarity using the Tversky index of CIDS 54454 vs. 54687 (Simvastatin vs Pravastatin). \n",
    "\n",
    "When &alpha; > &beta; we are screening to indicate that molecules must have certain features. If second molecule has extra features, that is OK, but must have key features of the first molecule.  “You must include my core structure, but you can decorate it.”\n",
    "\n",
    "When &alpha; < &beta; we are screening to indicate that molecules must have certain features. If second molecules has extra features, that is not OK, we want the second molecule to be as close to the first molecule as possible. “Don’t stray too far from the original molecule; I want tight structural similarity.”"
   ]
  },
  {
   "cell_type": "code",
   "metadata": {},
   "source": [
    "for i in range(0,11) :\n",
    "    \n",
    "    alpha = round( i * 0.1, 1 )\n",
    "    beta = round( 1 - alpha, 1 )\n",
    "    print(\"(alpha, beta) = (\", alpha, \",\", beta, \") : \", end='')\n",
    "    print(round(DataStructs.TverskySimilarity( fps[2], fps[4], alpha, beta ), 4))\n",
    "\n",
    "print()\n",
    "print(\"When alpha and beta = 1\")\n",
    "alpha= 1\n",
    "beta = 1\n",
    "print(\"(alpha, beta) = (\", alpha, \",\", beta, \") : \", end='')\n",
    "print(round(DataStructs.TverskySimilarity( fps[2], fps[4], alpha, beta ), 4), \" which equals Tanimoto similarity above\")\n",
    "print()\n",
    "print(\"When alpha and beta = 0.5\")\n",
    "alpha= 0.5\n",
    "beta = 0.5\n",
    "print(\"(alpha, beta) = (\", alpha, \",\", beta, \") : \", end='')\n",
    "print(round(DataStructs.TverskySimilarity( fps[2], fps[4], alpha, beta ), 4), \" which equals Dice similarity above\")"
   ],
   "outputs": [],
   "execution_count": null
  },
  {
   "cell_type": "markdown",
   "metadata": {},
   "source": [
    "<div class=\"alert alert-block alert-warning\">\n",
    "<strong>Check your understanding</strong>\n",
    "\n",
    "Which values of  &alpha;  and &beta; indicate that we are penalizing features missing from the first molecule (query molecule)and extra features in the second molecule (target molecule) do not reduce similarity at all? \n",
    "\n",
    "Why is the similarity lowest for this series when &alpha; = 0 and &beta; = 1?"
   ]
  },
  {
   "cell_type": "markdown",
   "metadata": {},
   "source": [
    "## 2. Interpretation of similarity scores"
   ]
  },
  {
   "cell_type": "markdown",
   "metadata": {},
   "source": [
    "Using molecular fingeprints. we can compute the similarity scores between molecules.  However, how should these scores be interpreted?  For example, the Tanimoto score between CID 60823 and CID 446155 is computed to be 0.662, but does it mean that the two compounds are similar?  How similar is similar?  The following analysis will help answer these questions."
   ]
  },
  {
   "cell_type": "code",
   "metadata": {},
   "source": [
    "#run this code cell to refresh redraw these CIDs and have a mental picture of how similar they are\n",
    "subset = statins[2:4]\n",
    "subset_legends = [str(statin_cids[i]) for i in range(2, 4)]\n",
    "\n",
    "Draw.MolsToGridImage(subset, molsPerRow=2, subImgSize=(200, 200), legends=subset_legends)"
   ],
   "outputs": [],
   "execution_count": null
  },
  {
   "cell_type": "markdown",
   "metadata": {},
   "source": [
    "**Step 1.** Randomly select 1,000 compounds from PubChem and download their SMILES strings."
   ]
  },
  {
   "cell_type": "code",
   "metadata": {},
   "source": [
    "import random\n",
    "random.seed(0) #choosing a random seed let's us have reproducable sequences of random numbers. When the seed is set\n",
    "               #the random numbers generated will be the the same every time the code is run.\n",
    "\n",
    "cid_max = 121413818  # The maximum CID in PubChem as of May 2025\n",
    "\n",
    "cids = []\n",
    "\n",
    "for x in range(1000):\n",
    "    cids.append(random.randint(1, cid_max + 1))  #picks a random number between 1 and max number of CIDS\n",
    "\n",
    "chunk_size = 100\n",
    "\n",
    "if len(cids) % chunk_size == 0 :                    # set up chunks to request SMILES in batches of 100\n",
    "    num_chunks = int( len(cids) / chunk_size )\n",
    "else :\n",
    "    num_chunks = int( len(cids) / chunk_size ) + 1\n",
    "\n",
    "smiles = []\n",
    "    \n",
    "for i in range(num_chunks):\n",
    "\n",
    "    if (i == 0):\n",
    "        print(\"Processing chunk \", end='')\n",
    "    \n",
    "    print(i, end=' ')\n",
    "    \n",
    "    idx1 = chunk_size * i\n",
    "    idx2 = chunk_size * (i + 1)\n",
    "    str_cids = \",\".join([ str(x) for x in cids[idx1:idx2]])\n",
    "\n",
    "    url = prolog + \"/compound/cid/\" + str_cids + \"/property/isomericsmiles/txt\"\n",
    "    res = requests.get(url)\n",
    "\n",
    "    if ( res.status_code == 200) :\n",
    "        smiles.extend( res.text.split() )\n",
    "    else :\n",
    "        print(\"Chunk\", i, \"Failed to get SMILES.\")\n",
    "        \n",
    "    time.sleep(0.2)\n",
    "\n",
    "print(\"Done!\")\n",
    "print(\"# Number of SMILES : \", len(smiles))"
   ],
   "outputs": [],
   "execution_count": null
  },
  {
   "cell_type": "markdown",
   "metadata": {},
   "source": [
    "**Step 2.** Generate the MACCSKeys for each compound."
   ]
  },
  {
   "cell_type": "code",
   "metadata": {},
   "source": [
    "from rdkit import Chem\n",
    "\n",
    "mols = [ Chem.MolFromSmiles(x) for x in smiles if x != None ]\n",
    "fps  = [ MACCSkeys.GenMACCSKeys(x) for x in mols if x != None ]\n",
    "print(\"# Number of compounds:\", len(mols))\n",
    "print(\"# Number of fingerprints:\", len(fps))"
   ],
   "outputs": [],
   "execution_count": null
  },
  {
   "cell_type": "code",
   "metadata": {},
   "source": [
    "# Run this cell if the number of compounds != the number of fingerprints.\n",
    "#if ( len(cids) != len(fps) ):\n",
    "#    print(\"SMILES at index\", mols.index(None), \":\", smiles[ mols.index(None) ])"
   ],
   "outputs": [],
   "execution_count": null
  },
  {
   "cell_type": "markdown",
   "metadata": {},
   "source": [
    "**Step 3.** Compute the Tanimoto scores between compounds."
   ]
  },
  {
   "cell_type": "code",
   "metadata": {},
   "source": [
    "print(\"# The number of compound pairs:\", (len(fps) * (len(fps) - 1))/2 )"
   ],
   "outputs": [],
   "execution_count": null
  },
  {
   "cell_type": "code",
   "metadata": {},
   "source": [
    "scores = []\n",
    "\n",
    "for i in range(0, len(fps)) :\n",
    "\n",
    "    if (i == 0) :\n",
    "        print(\"Processing compound \", end='')\n",
    "    \n",
    "    if (i % 100 == 0) :\n",
    "        print(i, end=' ')\n",
    "    \n",
    "    for j in range(i+1, len(fps)) :    #avoids self- and redundant comparisons\n",
    "        scores.append(DataStructs.FingerprintSimilarity(fps[i], fps[j]))\n",
    "\n",
    "print(\"Done!\")\n",
    "print(\"# Number of scores : \", len(scores))"
   ],
   "outputs": [],
   "execution_count": null
  },
  {
   "cell_type": "markdown",
   "metadata": {},
   "source": [
    "**Step 4.** Generate a histogram that shows the distribution of the pair-wise scores."
   ]
  },
  {
   "cell_type": "code",
   "metadata": {},
   "source": [
    "import matplotlib.pyplot as plt\n",
    "%matplotlib inline"
   ],
   "outputs": [],
   "execution_count": null
  },
  {
   "cell_type": "code",
   "metadata": {},
   "source": [
    "mybins = [ x * 0.01 for x in range(101)]\n",
    "\n",
    "fig = plt.figure(figsize=(8,4), dpi=300)\n",
    "\n",
    "plt.subplot(1, 2, 1)\n",
    "plt.title(\"Distribution\")\n",
    "plt.hist(scores, bins=mybins)\n",
    "plt.xticks([x * 0.1 for x in range(11)])\n",
    "plt.grid(axis='x')\n",
    "\n",
    "plt.subplot(1, 2, 2)\n",
    "plt.title(\"Cumulative Distribution\")\n",
    "plt.hist(scores, bins=mybins, density=True, cumulative=1)\n",
    "plt.plot([0,1],[0.95,0.95], linestyle='-', color='orange');\n",
    "plt.xticks([x * 0.1 for x in range(11)])\n",
    "plt.grid(axis='x')\n",
    "plt.annotate(\"95th percentile threshold\", \n",
    "             xy=(0.56, 0.95),            # (x, y) location of the point to annotate\n",
    "             xytext=(0.0, 0.97),        # position of the label text\n",
    "             arrowprops=dict(arrowstyle=\"->\", color='red'),\n",
    "             fontsize=8)\n",
    "plt.tight_layout()\n",
    "plt.show()"
   ],
   "outputs": [],
   "execution_count": null
  },
  {
   "cell_type": "markdown",
   "metadata": {},
   "source": [
    "<div class=\"alert alert-block alert-warning\">\n",
    "<strong>Check your understanding</strong>\n",
    "\n",
    "- What shape is the distribution\n",
    "- What is the approximate median of all Tanimoto scores?\n",
    "- What is the approximate score for the top 5% of Tanimoto scores in this distribution?"
   ]
  },
  {
   "cell_type": "markdown",
   "metadata": {},
   "source": [
    "For each Tanimoto similarity threshold, we'll count how many scores are $\\geq$ the threshold and calculate the percentage of scores that meet or exceed it. "
   ]
  },
  {
   "cell_type": "code",
   "metadata": {},
   "source": [
    "for i in range(21) :\n",
    "\n",
    "    thresh = i / 20 \n",
    "    num_similar_pairs = len([x for x in scores if x >= thresh]) \n",
    "    prob = num_similar_pairs / len(scores) * 100\n",
    "    print(\"%.3f %8d (%8.4f %%)\" % (thresh, num_similar_pairs, round(prob,4)))"
   ],
   "outputs": [],
   "execution_count": null
  },
  {
   "cell_type": "code",
   "metadata": {},
   "source": [
    "import statistics\n",
    "print(\"Average (mean):%.3f\" %(statistics.mean(scores)))\n",
    "print(\"Median        :%.3f\" %(statistics.median(scores)))"
   ],
   "outputs": [],
   "execution_count": null
  },
  {
   "cell_type": "markdown",
   "metadata": {},
   "source": [
    "From the distribution of the similarity scores among 1,000 compounds, we observe the following:<br>\n",
    "- If you randomly select two compounds from PubChem, the similarity score between them (computed using the Tanimoto equation and MACCS keys) is ~0.35 on average.\n",
    "- About %5 of randomly selected compound pairs have a similarity score greater than 0.55.\n",
    "- About %1 of randomly selected compound pairs have a similarity score greater than 0.65."
   ]
  },
  {
   "cell_type": "markdown",
   "metadata": {},
   "source": [
    "If two compounds have a Tanimoto score of 0.35, it is close to the average Tanimoto score between randomly selected compounds and there is a 50% chance that you will get a score of 0.35 or greater just by selecting two compounds from PubChem.  Therefore, it is reasonable to consider the two compounds are not similar.<br>\n",
    "\n",
    "The Tanimoto index may have a value ranging from 0 (for no similarity) to 1 (for identical molecules) and the midpoint of this value range is 0.5.  Because of this, a Tanimoto score of **0.55** may not sound great enough to consider two compounds to be similar.  However, according to the score distribution curve generated here, only **~5%** of randomly selected compound pairs will have a score greater than this.<br>\n",
    "\n",
    "In the previous section, we computed the similarity scores between some cholesterol-lowering drugs, and CID 60823 and CID 446155 had a Tanimoto score of **0.662**.  Based on the score distribution curve generated in the second section, we can say that the probablilty of two randomly selected compounds from PubChem having a Tanimoto score greater than 0.662 is **less than 1%**."
   ]
  },
  {
   "cell_type": "markdown",
   "metadata": {},
   "source": [
    "The following code cell demonstrates how to find an appropriate similarity score threshold above which a given percentage of the compound pairs will be considered to be similar to each other."
   ]
  },
  {
   "cell_type": "code",
   "metadata": {},
   "source": [
    "scores.sort()    # Sort the scores in an increasing order."
   ],
   "outputs": [],
   "execution_count": null
  },
  {
   "cell_type": "code",
   "metadata": {},
   "source": [
    "# to find a threshold for top 3% compound pairs (i.e., 97% percentile)\n",
    "print(\"# total compound pairs:   \", len(scores))\n",
    "print(\"# 97% of compound pairs:  \", len(scores) * 0.97)\n",
    "print(\"# score at 97% percentile:\", scores[ round(len(scores) * 0.97) ] )\n"
   ],
   "outputs": [],
   "execution_count": null
  },
  {
   "cell_type": "markdown",
   "metadata": {},
   "source": [
    " <div class=\"alert alert-block alert-success\">\n",
    "      <H1><center>Homework</center></H1>"
   ]
  },
  {
   "cell_type": "markdown",
   "metadata": {},
   "source": [
    "# Homework Part 1: Interpreting Data\n",
    "\n",
    "Turn in Part 1 as a written assignment. \n",
    "\n",
    "1) Run the statins molecules using extended connectivity fingerprints in the code cells below. The current code sets the ECFP equivalent radius value to 1 with 1024 bits. Compare the Tanimoto similarity values to the MACCS data found previously. Explain what happens to the similarity values.\n",
    "2) Rerun this code with three different radius setting 0, 1 and 2. (You just ran radius 1 for question 1.)\n",
    "- Calculate pairwise Tanimoto similarity scores for the same set of molecules at each radius setting.\n",
    "- Compare how the similarity scores change as the radius increases.\n",
    "- Describe any trends you observe. For example:\n",
    "    - do similarity scores tend to increase or decrease as radius increases or decreases?\n",
    "    - are the molecules ranked similarly or differently across radii?\n",
    "- Explain why you think these changes happen. Consider what kinds of molecular features are being captured at each radius. Hint:Think about what a radius of 0, 1, or 2 means in terms of what the fingerprint is seeing. How much of the molecular neighborhood around each atom is being encoded?"
   ]
  },
  {
   "cell_type": "code",
   "metadata": {},
   "source": [
    "cids = [    54454,  # Simvastatin (Zocor)              \n",
    "            54687,  # Pravastatin (Pravachol)\n",
    "            60823,  # Atorvastatin (Lipitor)\n",
    "           446155,  # Fluvastatin (Lescol)   \n",
    "           446157,  # Rosuvastatin (Crestor)\n",
    "          5282452,  # Pitavastatin (Livalo)\n",
    "         97938126 ] # Lovastatin (Altoprev)"
   ],
   "outputs": [],
   "execution_count": null
  },
  {
   "cell_type": "code",
   "metadata": {},
   "source": [
    "prolog = \"https://pubchem.ncbi.nlm.nih.gov/rest/pug\"\n",
    "\n",
    "str_cid = \",\".join([ str(x) for x in cids])\n",
    "\n",
    "url = prolog + \"/compound/cid/\" + str_cid + \"/property/isomericsmiles/txt\"\n",
    "res = requests.get(url)\n",
    "smiles = res.text.split()\n",
    "\n",
    "print(smiles)"
   ],
   "outputs": [],
   "execution_count": null
  },
  {
   "cell_type": "code",
   "metadata": {},
   "source": [
    "mols = [ Chem.MolFromSmiles(x) for x in smiles ]\n",
    "Chem.Draw.MolsToGridImage(mols, molsPerRow=4, subImgSize=(200,200), legends=[str(x) for x in cids] )"
   ],
   "outputs": [],
   "execution_count": null
  },
  {
   "cell_type": "code",
   "metadata": {},
   "source": [
    "# Radius set to 1 and 1024 bit size\n",
    "from rdkit import DataStructs\n",
    "from rdkit.Chem import rdFingerprintGenerator\n",
    "mfpgen = rdFingerprintGenerator.GetMorganGenerator(radius=1,fpSize=1024)\n",
    "\n",
    "fps = [ mfpgen.GetFingerprint(x) for x in mols ]\n"
   ],
   "outputs": [],
   "execution_count": null
  },
  {
   "cell_type": "code",
   "metadata": {},
   "source": [
    "# This calculates Tanimoto similarity\n",
    "for i in range(0, len(fps)) :\n",
    "    for j in range(i+1, len(fps)) :\n",
    "        \n",
    "        score = DataStructs.TanimotoSimilarity(fps[i], fps[j])\n",
    "        print(cids[i], \"vs.\", cids[j], \":\", round(score,3), end='')\n",
    "        \n",
    "        if ( score >= 0.85 ):\n",
    "            print(\" ****\")\n",
    "        elif ( score >= 0.75 ):\n",
    "            print(\" ***\")\n",
    "        elif ( score >= 0.65 ):\n",
    "            print(\" **\")\n",
    "        elif ( score >= 0.55 ):\n",
    "            print(\" *\")\n",
    "        else:\n",
    "            print(\" \")"
   ],
   "outputs": [],
   "execution_count": null
  },
  {
   "cell_type": "code",
   "metadata": {},
   "source": [
    "# Radius set to 0 and 1024 bit size\n",
    "mfpgen = rdFingerprintGenerator.GetMorganGenerator(radius=0,fpSize=1024)\n",
    "fps0 = [ mfpgen.GetFingerprint(x) for x in mols ]\n"
   ],
   "outputs": [],
   "execution_count": null
  },
  {
   "cell_type": "code",
   "metadata": {},
   "source": [
    "# This calculates Tanimoto similarity\n",
    "for i in range(0, len(fps0)) :\n",
    "    for j in range(i+1, len(fps0)) :\n",
    "        \n",
    "        score = DataStructs.TanimotoSimilarity(fps0[i], fps0[j])\n",
    "        print(cids[i], \"vs.\", cids[j], \":\", round(score,3), end='')\n",
    "        \n",
    "        if ( score >= 0.85 ):\n",
    "            print(\" ****\")\n",
    "        elif ( score >= 0.75 ):\n",
    "            print(\" ***\")\n",
    "        elif ( score >= 0.65 ):\n",
    "            print(\" **\")\n",
    "        elif ( score >= 0.55 ):\n",
    "            print(\" *\")\n",
    "        else:\n",
    "            print(\" \")"
   ],
   "outputs": [],
   "execution_count": null
  },
  {
   "cell_type": "code",
   "metadata": {},
   "source": [
    "# Radius set to 2 and 1024 bit size\n",
    "mfpgen = rdFingerprintGenerator.GetMorganGenerator(radius=2,fpSize=1024)\n",
    "fps2 = [ mfpgen.GetFingerprint(x) for x in mols ]\n"
   ],
   "outputs": [],
   "execution_count": null
  },
  {
   "cell_type": "code",
   "metadata": {},
   "source": [
    "# This calculates Tanimoto similarity\n",
    "for i in range(0, len(fps2)) :\n",
    "    for j in range(i+1, len(fps2)) :\n",
    "        \n",
    "        score = DataStructs.TanimotoSimilarity(fps2[i], fps2[j])\n",
    "        print(cids[i], \"vs.\", cids[j], \":\", round(score,3), end='')\n",
    "        \n",
    "        if ( score >= 0.85 ):\n",
    "            print(\" ****\")\n",
    "        elif ( score >= 0.75 ):\n",
    "            print(\" ***\")\n",
    "        elif ( score >= 0.65 ):\n",
    "            print(\" **\")\n",
    "        elif ( score >= 0.55 ):\n",
    "            print(\" *\")\n",
    "        else:\n",
    "            print(\" \")"
   ],
   "outputs": [],
   "execution_count": null
  },
  {
   "cell_type": "markdown",
   "metadata": {},
   "source": [
    "# Homework Part 2: Writing Python Code\n",
    "\n",
    "Turn in Part 2 as a new jupyter notebook titled **MS2025_part2_homework**. You will also be turning in a lab report for **Part 2 Problem 2**. \n"
   ]
  },
  {
   "cell_type": "markdown",
   "metadata": {},
   "source": [
    "**Part 2 Problem 1:**  Compute the Tanimoto similarity scores between the seven statin compounds used in similarity section, using the PubChem fingerprints\n",
    "\n",
    "- Download the PubChem Fingerprint for the seven CIDs.\n",
    "- Convert the downloaded fingerprints into bit vectors.\n",
    "- Compute the pair-wise Tanimoto scores using the bit vectors.\n",
    "- Compare these results to the MACCS keys earlier.\n",
    "\n",
    "In this problem, you are calculating Tanimoto similarity scores between statin molecules using two types of fingerprints: MACCS keys (166 bits) and PubChem fingerprints (881 bits).\n",
    "\n",
    "You may have noticed that, even though the statins are structurally quite similar, MACCS keys produced slightly lower similarity scores than PubChem fingerprints.\n",
    "\n",
    "Turn the following question in along with Part 1 as a written assignment.\n",
    "\n",
    "Why might a fingerprint with fewer bits (MACCS) give lower similarity scores in a set of already similar molecules?\n"
   ]
  },
  {
   "cell_type": "code",
   "metadata": {},
   "source": [
    "# Write your code in this cell\n",
    "\n",
    "# need user defined function o decode pubchem fingerprints\n",
    "from base64 import b64decode\n",
    "def PCFP_BitString(pcfp_base64) :\n",
    "\n",
    "    pcfp_bitstring = \"\".join( [\"{:08b}\".format(x) for x in b64decode( pcfp_base64 )] )[32:913]\n",
    "    return pcfp_bitstring\n",
    "\n",
    "# Need statin CIDS\n",
    "statin_cids = [    54454,  # Simvastatin (Zocor)\n",
    "                   54687,  # Pravastatin (Pravachol)\n",
    "                   60823,  # Atorvastatin (Lipitor)\n",
    "                  446155,  # Fluvastatin (Lescol)   \n",
    "                  446157,  # Rosuvastatin (Crestor)\n",
    "                 5282452,  # Pitavastatin (Livalo)\n",
    "                97938126 ] # Lovastatin (Altoprev)\n",
    "\n",
    "# download each pubchem fingerprint, convert to bitstring and store in a list\n",
    "# Method 1 with separate requests\n",
    "statin_pcfp = []\n",
    "for item in statin_cids:\n",
    "    url = \"https://pubchem.ncbi.nlm.nih.gov/rest/pug/compound/CID/\"+ str(item)+ \"/property/Fingerprint2D/TXT\"\n",
    "    res = requests.get(url)\n",
    "    text = res.text.rstrip(\"\\n\")\n",
    "    pcfp_bitstring = PCFP_BitString(text)\n",
    "    # use DataStructs.CreateFromBitString to convert a string to an RDKit bit vect object.\n",
    "    statin_pcfp.append(DataStructs.CreateFromBitString(pcfp_bitstring))\n",
    "\n",
    "# This calculates Tanimoto similarity of pubchem fingerprints\n",
    "for i in range(0, len(statin_pcfp)) :\n",
    "    for j in range(i+1, len(statin_pcfp)) :\n",
    "        \n",
    "        score = DataStructs.TanimotoSimilarity(statin_pcfp[i], statin_pcfp[j])\n",
    "        print(statin_cids[i], \"vs.\", statin_cids[j], \":\", round(score,3), end='')\n",
    "        \n",
    "        if ( score >= 0.85 ):\n",
    "            print(\" ****\")\n",
    "        elif ( score >= 0.75 ):\n",
    "            print(\" ***\")\n",
    "        elif ( score >= 0.65 ):\n",
    "            print(\" **\")\n",
    "        elif ( score >= 0.55 ):\n",
    "            print(\" *\")\n",
    "        else:\n",
    "            print(\" \")\n",
    "\n",
    "# method 2 get Pubchem fingerprints in one request\n",
    "# join to make one request\n",
    "str_statin_cids = \",\".join([ str(x) for x in statin_cids])\n",
    "# generate the url\n",
    "url = prolog + \"/compound/cid/\" + str_statin_cids + \"/property/Fingerprint2D/TXT\"\n",
    "res = requests.get(url)\n",
    "\n",
    "statin_pcfps_base64 = res.text.split()\n",
    "statin_pcfps_bitstring = [ PCFP_BitString(x) for x in statin_pcfps_base64 ]\n",
    "\n",
    "# use DataStructs.CreateFromBitString to convert a string to an RDKit bit vect object for calculations.\n",
    "statin_pcfps_bitvect = [ DataStructs.CreateFromBitString(x) for x in statin_pcfps_bitstring ]\n",
    "\n",
    "# This calculates Tanimoto similarity of pubchem fingerprints\n",
    "#for i in range(0, len(statin_pcfps_bitvect)) :\n",
    "#    for j in range(i+1, len(statin_pcfps_bitvect)) :\n",
    "        \n",
    "#        score = DataStructs.TanimotoSimilarity(statin_pcfps_bitvect[i], statin_pcfps_bitvect[j])\n",
    "#        print(statin_cids[i], \"vs.\", statin_cids[j], \":\", round(score,3), end='')\n",
    "        \n",
    "#        if ( score >= 0.85 ):\n",
    "#            print(\" ****\")\n",
    "#        elif ( score >= 0.75 ):\n",
    "#            print(\" ***\")\n",
    "#        elif ( score >= 0.65 ):\n",
    "#            print(\" **\")\n",
    "#        elif ( score >= 0.55 ):\n",
    "#            print(\" *\")\n",
    "#        else:\n",
    "#            print(\" \")"
   ],
   "outputs": [],
   "execution_count": null
  },
  {
   "cell_type": "markdown",
   "metadata": {},
   "source": [
    "**Part 2 Problem 2:**  \n",
    "\n",
    "Previously, you computed the similarity scores between some cholesterol-lowering drugs, and CID 60823 and CID 446155 had a Tanimoto score of **0.662**.  Based on the score distribution curve generated in the second section, we can say that the probablilty of two randomly selected compounds from PubChem having a Tanimoto score greater than 0.662 is **less than 1%**. This was with MACCS Keys. \n",
    "\n",
    "In this exercise, we want to generate the distribution of the similarity scores among 1,000 compounds randomly selected from PubChem, using different molecular fingeprints and similarity metrics.\n",
    "\n",
    "For molecular fingerprints, use the following:\n",
    "\n",
    "- PubChem Fingerprint\n",
    "- MACCS keys\n",
    "- Morgan Fingerprint (ECFP4 analogue, 1024-bit-long)\n",
    "\n",
    "For similarity metrics, use the following:\n",
    "\n",
    "- Tanimoto similarity\n",
    "- Dice similarity\n",
    "- Cosine similarity\n",
    "\n",
    "As a result, a total of 9 distribution curves need to be generated.\n",
    "\n",
    "Here are additional instructions to follow:\n",
    "\n",
    "- When generating the histograms, bin the scores from 0 to 1 with an increment of 0.01.\n",
    "- For each distribution curve, determine the similarity score threshold so that 1% of the compound pairs have a similarity score greater than or equal to this threshold.\n",
    "- Use RDKit to generate the MACCS keys and Morgan fingerprint (radius 2 and 1024 bits) and download the PubChem fingerprints from PubChem.\n",
    "- For reproducibility, use random.seed(2025) before you generate random CIDs.\n",
    "\n",
    "**Lab report:**\n",
    "\n",
    "1) Title, Author and Date\n",
    "2) Introduction\n",
    "    - Brief overview of molecular similarity and its role in cheminformatics\n",
    "    - Define fingerprints (PubChem, MACCS, Morgan) and similarity metrics (Tanimoto, Dice, Cosine)\n",
    "    - State the goal of the experiment\n",
    "3) Methods: Describe how\n",
    "    - CIDS were selected\n",
    "    - SMILES were retrieved\n",
    "    - fingerprints were generated\n",
    "    - similarity scores were calculated\n",
    "4) Results\n",
    "    - Similarity Score Distributions (9 Histograms)\n",
    "    - Top 1% Similarity Thresholds\n",
    "|Fingerprint|Tanimoto|Dice|Cosine|\n",
    "|-----------|--------|---------|---------|\n",
    "|PubChem|---|---|---|\n",
    "|MACCS|---|---|---|\n",
    "|Morgan(radius = 2)|---|---|---|\n",
    "\n",
    "\n",
    "5) Discussion:\n",
    "    - Which fingerprints gave higher or lower similarity scores?\n",
    "    - How did similarity metrics affect score distributions?\n",
    "    - Did MACCS, PubChem or Morgan fingerprints behave differently? If so, why?\n",
    "    - What cut-off would you use for virtual screening to find like molecules?\n",
    "\n",
    "6) Conclusion:\n",
    "   - summarize your findings in 2-3 sentences\n",
    "\n"
   ]
  },
  {
   "cell_type": "markdown",
   "metadata": {},
   "source": [
    "**Step 1:** Generate 1,000 random CIDs, download the isomeric SMILES for them, and create the RDKit mol objects from the downloaded SMILES strings."
   ]
  },
  {
   "cell_type": "code",
   "metadata": {},
   "source": [
    "# Write your code in this cell\n"
   ],
   "outputs": [],
   "execution_count": null
  },
  {
   "cell_type": "markdown",
   "metadata": {},
   "source": [
    "**Step 2:** Generate the fingerprints, compute the similarity scores, determine similarity thresholds, and make histograms."
   ]
  },
  {
   "cell_type": "code",
   "metadata": {},
   "source": [
    "# Write your code in this cell (or as many new cells as needed) to complete Step 2.\n",
    "\n",
    "\n",
    "\n"
   ],
   "outputs": [],
   "execution_count": null
  },
  {
   "cell_type": "markdown",
   "metadata": {},
   "source": [
    "# Acknowledgments"
   ]
  }
 ],
 "metadata": {
  "kernelspec": {
   "display_name": "dataChem(py3.10)",
   "language": "python",
   "name": "datachem"
  },
  "language_info": {
   "codemirror_mode": {
    "name": "ipython",
    "version": 3
   },
   "file_extension": ".py",
   "mimetype": "text/x-python",
   "name": "python",
   "nbconvert_exporter": "python",
   "pygments_lexer": "ipython3",
   "version": "3.10.12"
  }
 },
 "nbformat": 4,
 "nbformat_minor": 4
}
