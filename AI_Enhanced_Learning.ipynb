{
 "cells": [
  {
   "cell_type": "markdown",
   "metadata": {},
   "source": [
    "# Using GPTs to Enhance Learning Python for the Molecular Sciences\n",
    "This is a tutorial on how to utilize Generative Pre-trained Transformers (GPTs) to enhance your programming learning experience. \n",
    "This notebook will guide you through various strategies and methods for effectively using GPTs as a coding mentor, \n",
    "understanding safety and ethical concerns, debugging your code, and learning about specialized chemistry Python packages.\n",
    "Keep in mind, training for GPTs are  updated over time and examples in this notebook may give different results over time. \n",
    "Also, prior questions asked within the same session can influence the outcome of a later question.\n",
    "This tutorial can be run on colab, https://chemcompute.org, or locally using Jupyter.\n",
    "\n",
    "Notebook originally designed by Prof. Scott Reed for the MolSSI AI-assisted coding workshop, held August 17-18, 2024 at University of Colorado Denver. "
   ]
  },
  {
   "cell_type": "markdown",
   "metadata": {},
   "source": [
    "## Limitations of GPTs"
   ]
  },
  {
   "cell_type": "markdown",
   "metadata": {},
   "source": [
    "GPT 4.0-mini is freely available (https://chatgpt.com/) and powerful enough to perform the functions in this tutorial. We will learn about other options but for many applications, GPT 4.0-mini will provide what we need. Other free options can be tested at https://labs.perplexity.ai. \n",
    "It is important to know the limitations of GPT 4.0-mini It returns a maximum of 16K output tokens and allows an input of 128K tokens (tokens are approximately the size of words). Its training data is from up through   2024. "
   ]
  },
  {
   "cell_type": "markdown",
   "metadata": {},
   "source": [
    "<span style=\"color:blue\"><strong>CHAT PROMPT:</strong> Has seladelpar been approved for any treatments by the FDA?</span>"
   ]
  },
  {
   "cell_type": "markdown",
   "metadata": {},
   "source": [
    "GPT 4.0-mini should be unaware of the recent approval of seladelpar. However, the token window is large enough you can paste the wikipedia entry https://en.wikipedia.org/wiki/Lecanemab into your prompt. \n",
    "Try copying that text and pasting it in after this prompt:"
   ]
  },
  {
   "cell_type": "markdown",
   "metadata": {},
   "source": [
    " <span style=\"color:blue\"><strong>CHAT PROMPT:</strong> Considering the information, is seladelpar FDA approved?  </span>"
   ]
  },
  {
   "cell_type": "markdown",
   "metadata": {},
   "source": [
    "## Few shot prompting\n",
    "Few-shot prompting can be used as a technique to enable in-context learning for your GPT. The examples above are zero-shot prompting.\n",
    "In zero-shot prompting no examples are provided to the GPT.\n",
    "\n",
    "Few-shot prompting is a technique where you provide a model with a few examples of the type of information or answers you are seeking. \n",
    "This sets the context and helps the model understand the format and depth of response required. \n",
    "Here’s how you could structure a few-shot prompt for a chemistry problem."
   ]
  },
  {
   "cell_type": "markdown",
   "metadata": {},
   "source": [
    "Few-Shot Prompting Example in Chemistry\n",
    "Problem: Predict the products of the following chemical reactions and explain the reaction type:\n",
    "\n",
    "<span style=\"color:blue\"><strong>CHAT PROMPT START:\n",
    "</span>\n",
    "Here are two examples of what I am looking to do.\n",
    "Example 1:\n",
    "Reaction: CH3CH2OH + PCC CH  3CH2\n",
    "​\t\n",
    " OH+PCC\n",
    "Conditions: In dichloromethane at room temperature.\n",
    "Products: \n",
    "CH3CHOCH3\n",
    "​\t\n",
    " CHO\n",
    "Explanation: The reaction is an oxidation. Primary alcohols like ethanol react with pyridinium chlorochromate (PCC) under these conditions to form aldehydes.\n",
    "Example 2:\n",
    "Reaction: \n",
    "CH3COOH + CH3OH\n",
    "CH3​\t\n",
    "COOH + CH3​OH\n",
    "Conditions: With sulfuric acid as a catalyst.\n",
    "Products: \n",
    "CH3COOCH3 +\n",
    "H2O\n",
    "CH3​\t\n",
    "COOCH3​\t\n",
    " +H2O\n",
    "Explanation: This is an esterification reaction. Acetic acid reacts with methanol in the presence of an acid catalyst to form methyl acetate and water.\n",
    "\n",
    "Predict the products and explain the reaction type for the following reaction\n",
    "Reaction: \n",
    "C6H5COOH\n",
    "+\n",
    "SOCl2\n",
    "C6​H5​\t\n",
    " COOH+SOCl2\n",
    "​\t\n",
    " \n",
    "<span style=\"color:blue\"><strong>CHAT PROMPT END:\n",
    "</span>\n"
   ]
  },
  {
   "cell_type": "markdown",
   "source": [
    "## Explanation of the Few-Shot Prompt\n",
    "Providing Examples: The examples act as a teaching guide. Each includes a different type of chemical reaction, explaining not just the products but also the type of reaction and conditions under which it occurs. This helps the model understand what kind of information is expected in the answer.\n",
    "\n",
    "Structured Format: The consistent format across examples helps GPT-4 understand and maintain the structure in its response, making it more likely to provide both the reaction products and a succinct explanation of the reaction type.\n",
    "By using this few-shot prompting technique, you help the model better understand the task and provide more accurate and contextually appropriate answers, especially for complex subjects like chemistry."
   ],
   "metadata": {
    "collapsed": false
   }
  },
  {
   "cell_type": "markdown",
   "metadata": {},
   "source": [
    "## Strategies and Methods for Data Analysis Using GPTs \n",
    "Download EPA water chemistry data from https://catalog.data.gov/dataset/cimek-water-chemistry. Select two columns of data and paste them into a GPT 4.0-mini prompt and ask for a python script that creates a scatterplot of those two variables. In a second prompt ask for help calculating a correlation coefficient. "
   ]
  },
  {
   "cell_type": "code",
   "execution_count": null,
   "metadata": {},
   "outputs": [],
   "source": [
    "# Paste and run your code examples here\n"
   ]
  },
  {
   "cell_type": "markdown",
   "metadata": {},
   "source": [
    "## Strategies and Methods for Using GPTs as a Coding Mentor\n",
    "In this module, you'll learn how to use GPTs for generating, testing, and troubleshooting Python code interactively. We'll also explore methods for integrating AI tools into your coding environment.\n",
    "\n",
    "The data for the water xyz file is also pasted here:\n",
    "\n",
    "| atom     | x             | y             | z         |\n",
    "|:---------|:--------------|:--------------|:----------|\n",
    "| O        | 0.000000      | -0.007156     | 0.965491  \n",
    "| H1       | -0.000000     | 0.001486      | -0.003471 \n",
    "| H2       | 0.000000      | 0.931026      | 1.207929  "
   ]
  },
  {
   "cell_type": "markdown",
   "source": [
    "In the lesson materials, there is a file in the data folder called “water.xyz”. This is a very simple, standard file format that is often used to distribute molecular coordinates. The first line of the file is the number of atoms in the molecule, the second line is a title line (or may be blank), and the coordinates begin on the third line. The format of the coordinates is\n",
    "Atom_Label  XCoor   YCoor   ZCoor\n",
    "and the default units (which are used in this example) are angstroms.\n",
    "Try writing a code to read in the information from the xyz file and determine the bond lengths between all the atoms. There is a numpy function to take the square root, numpy.sqrt(). To raise a number to a power, use **, as in 3**2 = 9. When you get stuck paste your script into GPT and ask for help."
   ],
   "metadata": {
    "collapsed": false
   }
  },
  {
   "cell_type": "code",
   "outputs": [],
   "source": [
    "# paste your final code solution here"
   ],
   "metadata": {
    "collapsed": false
   },
   "execution_count": null
  },
  {
   "cell_type": "markdown",
   "source": [
    "Anohter option is to use GPT from the beginning to create a function that performs the desired action. \n",
    "For example try asking GPT to create a program that calculates the distance between each atom of water in the following coordinates:"
   ],
   "metadata": {
    "collapsed": false
   }
  },
  {
   "cell_type": "code",
   "execution_count": null,
   "metadata": {},
   "outputs": [],
   "source": [
    "# Here is an example of a GPT 4 generated answer.\n",
    "import math\n",
    "\n",
    "def calculate_distance(coord1, coord2):\n",
    "    \"\"\"Calculate the Euclidean distance between two 3D points.\"\"\"\n",
    "    return math.sqrt((coord2[0] - coord1[0]) ** 2 + (coord2[1] - coord1[1]) ** 2 + (coord2[2] - coord1[2]) ** 2)\n",
    "\n",
    "def main():\n",
    "    # Coordinates of atoms in a water molecule: O, H1, H2\n",
    "    atoms = {\n",
    "        'O': (0.000000, -0.007156, 0.965491),\n",
    "        'H1': (-0.000000, 0.001486, -0.003471),\n",
    "        'H2': (0.000000, 0.931026, 1.207929)\n",
    "    }\n",
    "\n",
    "    # Calculate distances between each pair of atoms\n",
    "    atom_keys = list(atoms.keys())\n",
    "    for i in range(len(atom_keys)):\n",
    "        for j in range(i + 1, len(atom_keys)):\n",
    "            atom1, atom2 = atom_keys[i], atom_keys[j]\n",
    "            distance = calculate_distance(atoms[atom1], atoms[atom2])\n",
    "            print(f\"Distance between {atom1} and {atom2}: {distance:.6f}\")\n",
    "\n",
    "if __name__ == \"__main__\":\n",
    "    main()\n",
    "\n",
    "# Note: These last two lines are the common method to make a python script execute the main function"
   ]
  },
  {
   "cell_type": "markdown",
   "metadata": {},
   "source": [
    "Next, try writing a prompt to accomplish the first project extension from Day 1: \"Your initial project calculated the distance between every set of atoms. However, some of these atoms aren’t really bonded to each other. H1 and H2 are not bonded for example, and all of the distances between an atom and itself are zero. Use a distance cutoff of 1.5 angstroms to define a bond (that is, if the bond length is greater than 1.5 angstroms, consider the atoms not bonded). Modify your code to only print the atoms that are actually bonded to each other.\" This second approach can avoid problems that the first approach might cause. Too broad of a request comes with risk of unintended actions. Breaking a problem down and adding functionality incrementally can avoid such errors."
   ]
  },
  {
   "cell_type": "code",
   "execution_count": null,
   "metadata": {},
   "outputs": [],
   "source": [
    "# Paste your code examples here and run the code"
   ]
  },
  {
   "cell_type": "markdown",
   "metadata": {},
   "source": [
    "Section 6 of Python Scripting for Computational Molecular Science focuses on writing functions. That section suggests:\n",
    " \"To think about where we should write functions in this code, let’s think about parts we may want to use again or in other places. One of the first places we might think of is in the bond distance calculation. Perhaps we’d want to calculate a bond distance in some other script. We can reduce the likelihood of errors in our code by defining this in a function (so that if we wanted to change our bond calculation, we would only have to do it in one place.)\n",
    "\n",
    "Let’s change this code so that we write a function to calculate the bond distance. As explained above, to define a function, you start with the word def and then give the name of the function. In parenthesis are in inputs of the function followed by a colon. The the statements the function is going to execute are indented on the next lines. For this function, we will return a value. The last line of a function shows the return value for the function, which we can use to store a variable with the output value. Let’s write a function to calculate the distance between atoms.\"\n",
    "\n",
    "This first paragraph could be used as a prompt in combination with the script below. Alternatively, you could try to accomplish the whole thing with a single prompt and not include the example code. Providing the example increases the chance it will perform as intended. The first approach could be quicker if you have not written an example yet, but will require a more detailed prompt."
   ]
  },
  {
   "cell_type": "code",
   "execution_count": null,
   "metadata": {},
   "outputs": [],
   "source": [
    "# Starting code to functionalize using ChatGPT\n",
    "import numpy\n",
    "import os\n",
    "\n",
    "file_location = os.path.join('data', 'water.xyz')\n",
    "xyz_file = numpy.genfromtxt(fname=file_location, skip_header=2, dtype='unicode')\n",
    "symbols = xyz_file[:, 0]\n",
    "coordinates = xyz_file[:, 1:]\n",
    "coordinates = coordinates.astype(numpy.float)\n",
    "num_atoms = len(symbols)\n",
    "for num1 in range(0, num_atoms):\n",
    "    for num2 in range(0, num_atoms):\n",
    "        if num1 < num2:\n",
    "            x_distance = coordinates[num1, 0] - coordinates[num2, 0]\n",
    "            y_distance = coordinates[num1, 1] - coordinates[num2, 1]\n",
    "            z_distance = coordinates[num1, 2] - coordinates[num2, 2]\n",
    "            bond_length_12 = numpy.sqrt(x_distance ** 2 + y_distance ** 2 + z_distance ** 2)\n",
    "            if bond_length_12 > 0 and bond_length_12 <= 1.5:\n",
    "                print(F'{symbols[num1]} to {symbols[num2]} : {bond_length_12:.3f}')"
   ]
  },
  {
   "cell_type": "markdown",
   "metadata": {},
   "source": [
    "## Avoiding Hallucinations\n",
    "Try asking ChatGPT 4.0-mini <span style=\"color:blue\"><strong>CHAT PROMPT:</strong>  What is the molecular weight of ibuprofen?</span>\n",
    "Try asking ChatGPT 4.0-mini <span style=\"color:blue\"><strong>CHAT PROMPT:</strong> what is the molecular weight of CCO[C@H](COC1=CC=C(C=C1)C(F)(F)F)CSC2=CC(=C(C=C2)OCC(=O)O)C </span>\n",
    "\n",
    "The first prompt should succeed since this information is in the training data. The second prompt failed at the time of writing. Why? What did it do wrong? Do other smiles strings work?"
   ]
  },
  {
   "cell_type": "markdown",
   "metadata": {},
   "source": [
    "We will learn about tools to perform such calculations accurately later. For now assume there is no such tool and \n",
    "see if Chat GPT 4.0-mini can create one for you. \n",
    "Try the prompt: <span style=\"color:blue\"><strong>CHAT PROMPT:</strong>Create a function that takes an input molecular formula and\n",
    "calculates a molecular weight for the molecule.</span> Paste that function below and run the cell. Then test the function with \n",
    "the molecular formula for seladelpar which is:\tC21H23F3O5S.\n",
    "\n"
   ]
  },
  {
   "cell_type": "code",
   "execution_count": null,
   "metadata": {},
   "outputs": [],
   "source": [
    "# Insert your function below"
   ]
  },
  {
   "cell_type": "markdown",
   "metadata": {},
   "source": [
    "An example of a function provided by GPT 4o is provided below. It may not match the one you obtain."
   ]
  },
  {
   "cell_type": "code",
   "execution_count": null,
   "metadata": {},
   "outputs": [],
   "source": [
    "def calculate_molecular_weight(formula):\n",
    "    # Define atomic weights dictionary\n",
    "    atomic_weights = {\n",
    "        'H': 1.008, 'C': 12.01, 'N': 14.01, 'O': 16.00, 'P': 30.97, 'S': 32.07,\n",
    "        'F': 19.00, 'Cl': 35.45, 'Br': 79.90, 'I': 126.90, 'B': 10.81, 'Si': 28.09\n",
    "    }\n",
    "\n",
    "    molecular_weight = 0\n",
    "    i = 0\n",
    "    n = len(formula)\n",
    "\n",
    "    for i in range(n):\n",
    "        if formula[i].isalpha():  # Element symbol\n",
    "            element = formula[i]\n",
    "\n",
    "            if i + 1 < n and formula[i + 1].islower():\n",
    "                element += formula[i + 1]\n",
    "                i += 1\n",
    "\n",
    "            num_atoms = 1\n",
    "            num_atoms_str = ''\n",
    "            for j in range(i + 1, n):\n",
    "                if formula[j].isdigit():\n",
    "                    num_atoms_str += formula[j]\n",
    "                else:\n",
    "                    break\n",
    "\n",
    "            if num_atoms_str:\n",
    "                num_atoms = int(num_atoms_str)\n",
    "                i += len(num_atoms_str)\n",
    "\n",
    "            molecular_weight += atomic_weights[element] * num_atoms\n",
    "\n",
    "    return molecular_weight\n",
    "\n",
    "# Example usage:\n",
    "formula = \"C13H18O2\"\n",
    "mw = calculate_molecular_weight(formula)\n",
    "print(mw)"
   ]
  },
  {
   "cell_type": "code",
   "outputs": [],
   "source": [
    "# test your function"
   ],
   "metadata": {
    "collapsed": false
   },
   "execution_count": null
  },
  {
   "cell_type": "markdown",
   "metadata": {},
   "source": [
    "## Debugging Your Code with GPTs\n",
    "Use AI to debug your code, understand error messages, and refine your solutions. Option one is to paste your code and ask what errors it contains. Try this with the code below. Another option is to run your code, and copy the error message into your prompt and ask for suggested fixes. Try both of these with the error containing script below."
   ]
  },
  {
   "cell_type": "code",
   "execution_count": null,
   "metadata": {},
   "outputs": [],
   "source": [
    "for number in energy_kcal:\n",
    "    kJ = number * 4.184\n",
    "    energy_kJ.append(kJ)\n",
    "    print(energy_kJ)\n"
   ]
  },
  {
   "cell_type": "markdown",
   "metadata": {},
   "source": [
    "## Chemistry Python Package Use through GPTs\n",
    "Learn about tools like RDKit that GPTs are conversant in and how to expand a GPT's knowledge to meet your needs in molecular sciences."
   ]
  },
  {
   "cell_type": "markdown",
   "source": [
    "Learn about tools like RDKit that GPTs are conversant in and how to expand a GPT's knowledge to meet your needs in molecular sciences.\n",
    "Try asking GPT to calculate the molcular weight of CCO[C@H](COC1=CC=C(C=C1)C(F)(F)F)CSC2=CC(=C(C=C2)OCC(=O)O)C again. But this time ask it to use the rdkit module which is part of its python environment. \n"
   ],
   "metadata": {
    "collapsed": false
   }
  },
  {
   "cell_type": "code",
   "execution_count": null,
   "metadata": {},
   "outputs": [],
   "source": [
    "import pandas as pd\n",
    "\n",
    "data = pd.read_csv('distance_data_headers.csv')\n",
    "\n",
    "# Calculate the mean of just the 'THR4_ATP' column using every row\n",
    "mean_thr4_atp = data['THR4_ATP'].mean()\n",
    "\n",
    "print(\"Mean of THR4_ATP column:\", mean_thr4_atp)\n"
   ]
  },
  {
   "cell_type": "markdown",
   "metadata": {},
   "source": [
    "## Optional Material:\n",
    "## Prompt Engineering\n",
    "## Goal 1: Specificity\n",
    "Be clear and specific with your instructions: When asking for a chemical reaction mechanism, specify the type of reaction (e.g., nucleophilic substitution) and any particular conditions (e.g., solvent, temperature) that should be considered.\n",
    "Clear tasks or questions will usually get better responses: For example, instead of asking \"How does this compound react?\", ask \"What are the major products when compound X reacts with Y under acidic conditions?\"\n",
    "Longer, more detailed prompts often produce better results: Provide complete information about the reactants, possible catalysts, and the desired type of reaction outcome to help the model generate a more accurate response.\n",
    "Delimiters can help the model separate conceptual sections of your prompt: For instance, you can differentiate between the reaction setup and the question by using bullet points or separating them with line breaks.\n",
    "Context: Give ample context on what you’re trying to achieve and how: If you're looking for a synthesis pathway, describe the starting materials and the target molecule, including functional groups and stereochemistry.\n",
    "Role prompting can help you give initial context on how the model should respond to future prompts: You could set up a scenario where the model acts as a research chemist who is designing a novel synthetic route.\n",
    "Few-shot prompting means that you’re adding examples of your expected output to your prompt: Provide examples of similar chemical reactions or pathways to guide the model on the type of response you expect.\n",
    "## Goal 2: Reasoning\n",
    "Instruct the model to build complex answers incrementally instead of pushing for immediate answers: Request a step-by-step explanation of a reaction mechanism, detailing each intermediate and transition state.\n",
    "Spelling out the necessary steps for completing the task helps the model correctly do tasks that would otherwise produce incorrect results: For computational chemistry tasks, describe each computational method or software to be used, along with the desired outputs (e.g., energy minimization, charge distribution).\n",
    "Even without spelling out the steps yourself, you can often improve the results by adding a sentence that asks the model to tackle the challenge step by step: For example, \"Please describe each step involved in the electrophilic addition of HBr to 1-butene.\"\n",
    "When asking the model to assess whether a provided input is correct, ask the model to build its own solution first before deciding: If questioning the plausibility of a synthetic route, provide the route and ask the model to suggest possible improvements or identify potential issues in the proposed steps.\n",
    "These adaptations help ensure that your prompts are tailored to generate more precise and relevant answers in a chemistry context, improving the utility of responses for educational, research, or practical applications."
   ]
  },
  {
   "cell_type": "markdown",
   "source": [
    "## Strategies and Methods for Using GPTs as a Source for Code \n",
    "In this module, you will try writing a prompt that generates a stand alone script that has some utility but that you don't plan to expand upon. You will provide context from a paper from the literature that has data you want to visualize in a new or different way than presented in the paper.\n",
    "You can pick your own paper. Or try the following example. Download the supporting information for the paper: [Emerging Brominated Flame Retardants in the Sediment of the Great Lakes](https://figshare.com/articles/journal_contribution/Emerging_Brominated_Flame_Retardants_in_the_Sediment_of_the_Great_Lakes/2538658?backTo=/collections/Emerging_Brominated_Flame_Retardants_in_the_Sediment_of_the_Great_Lakes/2506861)\n",
    "Cut and past data from this document into the context window and add a prompt requesting code to create a graph of two specific columns. "
   ],
   "metadata": {}
  },
  {
   "cell_type": "code",
   "outputs": [],
   "source": [
    "# Paste your code examples here and run them\n"
   ],
   "metadata": {
    "collapsed": false
   },
   "execution_count": null
  },
  {
   "cell_type": "code",
   "outputs": [],
   "source": [
    "# This is an example generated by GPT 4 to graph locations of HCDBCO samples using data from\n",
    "# \"Emerging Brominated Flame Retardants in the Sediment of the Great Lakes\"\n",
    "# Try running it and comparing it to the script you generated\n",
    "# You can also paste the script or a part of it into your context window and ask GPT to explain it to you\n",
    "# You may need to start by installing geopandas as follows:\n",
    "# % pip install geopandas\n",
    "import matplotlib.pyplot as plt\n",
    "import pandas as pd\n",
    "import geopandas as gpd\n",
    "# from shapely.geometry import Point\n",
    "\n",
    "# Data from Table S2\n",
    "data = {\n",
    "    'Station': ['SU08', 'SU12', 'SU16', 'SU22', 'LM18', 'LM27', 'LM41', 'LM47', 'HU12', 'HU38', 'HU48', 'ER09', 'ER37', 'ON19', 'ON30', 'ON40'],\n",
    "    'Latitude': [47.6059, 47.8552, 47.6217, 46.7997, 42.7333, 43.5988, 44.7365, 45.1788, 43.8902, 44.742, 45.2787, 42.5382, 42.1097, 43.3717, 43.5323, 43.5833],\n",
    "    'Longitude': [-86.8180, -88.0465, -89.4631, -91.7484, -86.9997, -86.9143, -86.7221, -86.376, -82.0558, -82.0583, -82.4515, -79.6162, -81.5755, -79.3523, -76.9002, -78.0004],\n",
    "    'HCDBCO_conc': [0.5, 0.3, 0.1, 0.4, 1.2, 0.5, 0.7, 0.8, 0.2, 0.4, 0.1, 0.6, 0.8, 0.9, 1.0, 1.2] # Sample concentrations\n",
    "}\n",
    "\n",
    "# Create DataFrame\n",
    "df = pd.DataFrame(data)\n",
    "\n",
    "# Create a GeoDataFrame\n",
    "gdf = gpd.GeoDataFrame(df, geometry=gpd.points_from_xy(df.Longitude, df.Latitude))\n",
    "\n",
    "# Set the coordinate reference system (CRS) to WGS84 (EPSG:4326)\n",
    "gdf.set_crs(epsg=4326, inplace=True)\n",
    "\n",
    "# Plot the map\n",
    "fig, ax = plt.subplots(figsize=(10, 8))\n",
    "\n",
    "# Plot points with color based on concentration\n",
    "gdf.plot(ax=ax, column='HCDBCO_conc', cmap='coolwarm', markersize=50, legend=True, legend_kwds={'label': \"HCDBCO Concentration (ng/g dw)\", 'orientation': \"horizontal\"})\n",
    "\n",
    "# Add labels for stations\n",
    "for x, y, label in zip(gdf.geometry.x, gdf.geometry.y, gdf['Station']):\n",
    "    ax.text(x, y, label, fontsize=8, ha='right')\n",
    "\n",
    "# Set title and labels\n",
    "ax.set_title('Surface Concentrations of HCDBCO in Sediment Core Sampling Sites')\n",
    "ax.set_xlabel('Longitude')\n",
    "ax.set_ylabel('Latitude')\n",
    "\n",
    "plt.show()\n"
   ],
   "metadata": {},
   "execution_count": null
  }
 ],
 "metadata": {
  "kernelspec": {
   "display_name": "Python 3 (ipykernel)",
   "language": "python",
   "name": "python3"
  },
  "language_info": {
   "codemirror_mode": {
    "name": "ipython",
    "version": 3
   },
   "file_extension": ".py",
   "mimetype": "text/x-python",
   "name": "python",
   "nbconvert_exporter": "python",
   "pygments_lexer": "ipython3",
   "version": "3.9.7"
  }
 },
 "nbformat": 4,
 "nbformat_minor": 4
}
