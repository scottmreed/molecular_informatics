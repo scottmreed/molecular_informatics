{
 "cells": [
  {
   "cell_type": "markdown",
   "metadata": {},
   "source": [
    "# Intercoversion between PubChem records."
   ]
  },
  {
   "cell_type": "markdown",
   "metadata": {},
   "source": [
    "adapted from https://chem.libretexts.org/Courses/Intercollegiate_Courses/Cheminformatics"
   ]
  },
  {
   "cell_type": "markdown",
   "metadata": {},
   "source": [
    "PUG-REST can be used to retrieve PubChem records related to another PubChem records.  Basically, PUG-REST takes an input list of records in one of the three PubChem databases (Compound, Substance, and BioAssay) and returns a list of the related records in the same or different database.  Here, the meaning of the relationship between the input and output records may be specified using an optional parameter.  This allows one to do various tasks, including (but not limited to):<br>\n",
    "\n",
    "- Depositor-provided records (i.e., substances) that are standardized to a given compound.\n",
    "- Mixture compounds that contain a given component compound.\n",
    "- Stereoisomers/isotopomers of a given compound.\n",
    "- Compounds that are tested to be active in a given assay.\n",
    "- Compounds that have similar structures to a given compound."
   ]
  },
  {
   "cell_type": "markdown",
   "metadata": {},
   "source": [
    "## 1. Getting depositor-provided records for a given compound"
   ]
  },
  {
   "cell_type": "markdown",
   "metadata": {},
   "source": [
    "First let's import the requests package necessary to make a web service request."
   ]
  },
  {
   "cell_type": "code",
   "execution_count": 1,
   "metadata": {},
   "outputs": [],
   "source": [
    "import requests"
   ]
  },
  {
   "cell_type": "markdown",
   "metadata": {},
   "source": [
    "The code snippet below retrieves the substance record associated with a given CID (CID 129825914)."
   ]
  },
  {
   "cell_type": "code",
   "execution_count": null,
   "metadata": {},
   "outputs": [],
   "source": [
    "prolog    = \"https://pubchem.ncbi.nlm.nih.gov/rest/pug\"\n",
    "\n",
    "pr_input  = \"compound/cid/129825914\"\n",
    "pr_oper   = \"sids\"\n",
    "pr_output = \"txt\"\n",
    "url       = prolog + '/' + pr_input + '/' + pr_oper + '/' + pr_output\n",
    "\n",
    "res = requests.get(url)\n",
    "print(res.text)"
   ]
  },
  {
   "cell_type": "markdown",
   "metadata": {},
   "source": [
    "It is also possible to provide a comma seprated list of CIDs as input identifiers."
   ]
  },
  {
   "cell_type": "code",
   "execution_count": null,
   "metadata": {},
   "outputs": [],
   "source": [
    "pugin   = \"compound/cid/129825914,129742624,129783988\"\n",
    "pugoper = \"sids\"\n",
    "pugout  = \"txt\"\n",
    "url     = prolog + '/' + pugin + '/' + pugoper + '/' + pugout\n",
    "\n",
    "res = requests.get(url)\n",
    "print(res.text)"
   ]
  },
  {
   "cell_type": "markdown",
   "metadata": {},
   "source": [
    "In the example above, the input list has three CIDs, but the PUG-REST request returned five SIDs.  It means that some CID(s) must be associated with multiple SIDs, but it is hard to see which CID it is.  Therefore, we want the SIDs grouped by the corrsponding CIDs.  This can be done using the optional parameter \"__list_return=grouped__\" and changing the output format to __json__."
   ]
  },
  {
   "cell_type": "code",
   "execution_count": null,
   "metadata": {},
   "outputs": [],
   "source": [
    "pugin   = \"compound/cid/129825914,129742624,129783988\"\n",
    "pugoper = \"sids\"\n",
    "pugout  = \"json\"\n",
    "pugopt  = \"list_return=grouped\"\n",
    "url     = prolog + '/' + pugin + '/' + pugoper + '/' + pugout + \"?\" + pugopt\n",
    "\n",
    "res = requests.get(url)\n",
    "print(res.text)"
   ]
  },
  {
   "cell_type": "markdown",
   "metadata": {},
   "source": [
    "Note that the __json__ output format is used in the above request.  The \"__txt__\" output format in PUG-REST returns data into a single column but the result from the above request cannot fit well into a single column."
   ]
  },
  {
   "cell_type": "markdown",
   "metadata": {},
   "source": [
    "If you want output records to be \"flattened\", rather than being grouped by the input identifiers, use \"**list_return=flat**\"."
   ]
  },
  {
   "cell_type": "code",
   "execution_count": null,
   "metadata": {},
   "outputs": [],
   "source": [
    "pugopt  = \"list_return=flat\"\n",
    "url     = prolog + '/' + pugin + '/' + pugoper + '/' + pugout + \"?\" + pugopt\n",
    "\n",
    "res = requests.get(url)\n",
    "print(res.text)"
   ]
  },
  {
   "cell_type": "markdown",
   "metadata": {},
   "source": [
    "The default value for the \"list_return\" parameter is: \n",
    "- \"flat\" when the output format is TXT \n",
    "- \"grouped\" when the output format is JSON and XML"
   ]
  },
  {
   "cell_type": "markdown",
   "metadata": {},
   "source": [
    "It is also possible to specify the input list **implicitly**, rather than providing the input identifiers explicitly.  For example, the following example uses a chemical name to specify the input list."
   ]
  },
  {
   "cell_type": "code",
   "execution_count": null,
   "metadata": {},
   "outputs": [],
   "source": [
    "# Input CIDs are provided using a chemical name\n",
    "url = 'https://pubchem.ncbi.nlm.nih.gov/rest/pug/compound/name/lactose/cids/txt'\n",
    "res = requests.get(url)\n",
    "cids = res.text.split()\n",
    "print(\"# CIDs returned:\", len(cids))\n",
    "print(\",\".join(cids))\n",
    "\n",
    "# Input CIDs are provided using the name, then coverted to SIDs.\n",
    "url = 'https://pubchem.ncbi.nlm.nih.gov/rest/pug/compound/name/lactose/sids/txt'\n",
    "res = requests.get(url)\n",
    "sids = res.text.split()\n",
    "print(\"# SIDs returned (method 1):\", len(sids))\n",
    "#print(\",\".join(sids))\n",
    "\n",
    "# Input *SIDs* are provided using the name, and returned the input SIDs.\n",
    "url = 'https://pubchem.ncbi.nlm.nih.gov/rest/pug/substance/name/lactose/sids/txt'\n",
    "res = requests.get(url)\n",
    "sids = res.text.split()\n",
    "print(\"# SIDs returned (method 2):\", len(sids))\n",
    "#print(\",\".join(sids))"
   ]
  },
  {
   "cell_type": "markdown",
   "metadata": {},
   "source": [
    "The above example illustrates how the list conversion works.  \n",
    "- In the first request, the name \"lactose\" is searched for against the Compound database and the resulting 7 CIDs are returned.\n",
    "- If you change the operation part from \"cids\" to \"sids\" (as in the second request), the same name search is done first against the __Compound__ database, followed by the list conversion from the resulting 7 CIDs to associted 415 SIDs.\n",
    "- In the third request, the name search is performed against the __Substance__ database, and the resulting 125 SIDs are returned.\n"
   ]
  },
  {
   "cell_type": "markdown",
   "metadata": {},
   "source": [
    "**Exercise 1a** Statins are a class of drugs that lower cholesterol levels in the blood.  Retrieve in **JSON** the substance records associated with the compounds whose names contain the string \"statin\". \n",
    "\n",
    "- Make only one PUG-REST request.\n",
    "- For partial name matching, set the *name_type* parameter to \"word\" (See the PUG-REST document for an example). \n",
    "- Group the substances by the corresponding compound records.\n",
    "- Print the json output using print()"
   ]
  },
  {
   "cell_type": "code",
   "execution_count": null,
   "metadata": {},
   "outputs": [],
   "source": [
    "# Write your code in this cell.\n",
    "\n",
    "url = 'https://pubchem.ncbi.nlm.nih.gov/rest/pug/substance/name/statin/cids/json?name_type=word&list_return=grouped'\n",
    "res = requests.get(url)\n",
    "sids = res.text.split()\n",
    "print(\"# SIDs returned\", len(sids),'\\n')\n",
    "print(sids)\n",
    "\n"
   ]
  },
  {
   "cell_type": "markdown",
   "metadata": {},
   "source": [
    "## 2. Getting mixture/component molecules for a given molecule."
   ]
  },
  {
   "cell_type": "markdown",
   "metadata": {},
   "source": [
    "The list interconversion may be used to retrieve mixtures that contain a given molecule as a component.  To do this, the input molecule should be a single-component compound (that is, with only one covalently-bound unit), and the optional parameter \"**cids_type=component**\" should be provided."
   ]
  },
  {
   "cell_type": "code",
   "execution_count": null,
   "metadata": {},
   "outputs": [],
   "source": [
    "prolog    = \"https://pubchem.ncbi.nlm.nih.gov/rest/pug\"\n",
    "\n",
    "url = prolog + \"/compound/name/tylenol/cids/txt?cids_type=component\"\n",
    "res = requests.get(url)\n",
    "cids = res.text.split()\n",
    "print(len(cids))\n",
    "print( cids )"
   ]
  },
  {
   "cell_type": "markdown",
   "metadata": {},
   "source": [
    "<br>It should be noted that, if the input molecule is a multi-component compound, the option \"**cids_type=component**\" returns the components of that compound.  For example, the following example shows how to get all components of the first molecule in the \"cids\" list generated in the previous example. "
   ]
  },
  {
   "cell_type": "code",
   "execution_count": null,
   "metadata": {},
   "outputs": [],
   "source": [
    "url = prolog + \"/compound/cid/\" + cids[0] + \"/cids/txt?cids_type=component\"\n",
    "res = requests.get(url)\n",
    "component_cids = res.text.split()\n",
    "print( \"CID:\", cids[0])\n",
    "print( \"Number of Components\", len(component_cids))\n",
    "print( component_cids )"
   ]
  },
  {
   "cell_type": "markdown",
   "metadata": {},
   "source": [
    "**Exercise 2a:** Many over-the-counter drugs contain more than one active ingredients.  In this exercise, we want to find component molecules that occur with three common pain killers (aspirin, tylenol, advil) as a mixture."
   ]
  },
  {
   "cell_type": "markdown",
   "metadata": {},
   "source": [
    "__Step 1.__ Define a list that contains three drug names (aspirin, tylenol, advil)."
   ]
  },
  {
   "cell_type": "code",
   "execution_count": 10,
   "metadata": {},
   "outputs": [],
   "source": [
    "# Write your code in this cell.\n",
    "\n",
    "\n"
   ]
  },
  {
   "cell_type": "markdown",
   "metadata": {},
   "source": [
    "__Step 2.__ Using a for loop, retrieve PubChem CIDs corresponding to the three drugs and store them in a new list.  In order not to overload the PubChem servers, stop the program for 0.2 second for each iteration in the for loop (using sleep())."
   ]
  },
  {
   "cell_type": "code",
   "execution_count": 11,
   "metadata": {},
   "outputs": [],
   "source": [
    "# Write your code in this cell.\n",
    "\n",
    "\n"
   ]
  },
  {
   "cell_type": "markdown",
   "metadata": {},
   "source": [
    "__Step 3.__ Using another for loop, do the following things for each drug:\n",
    "- Get the PubChem CIDs of the mixture compounds that contain each drug and store them in a list.\n",
    "- Get the PubChem CIDs of the components that occur in any of the returned mixtures, by setting the \"list_return\" parameter to \"flat\".  This can be done with a single request.  \n",
    "- Print all the components.\n",
    "- Stop the code for 0.2 second using sleep() each time a PUG-REST request is made."
   ]
  },
  {
   "cell_type": "code",
   "execution_count": 12,
   "metadata": {},
   "outputs": [],
   "source": [
    "# Write your code in this cell.\n",
    "\n",
    "\n"
   ]
  },
  {
   "cell_type": "markdown",
   "metadata": {},
   "source": [
    "## 3. Getting compounds tested in a given assay"
   ]
  },
  {
   "cell_type": "markdown",
   "metadata": {},
   "source": [
    "PUG-REST may be used to retrieve compounds tested in a given assay.  For example, the following code cell shows how to get all compounds tested in AID 1207599."
   ]
  },
  {
   "cell_type": "code",
   "execution_count": null,
   "metadata": {},
   "outputs": [],
   "source": [
    "url = prolog + \"/assay/aid/\" + \"1207599\" + \"/cids/txt\"\n",
    "res = requests.get(url)\n",
    "cids = res.text.split()\n",
    "print(len(cids))\n",
    "print(cids)"
   ]
  },
  {
   "cell_type": "markdown",
   "metadata": {},
   "source": [
    "If you are interested in only the compounds that are tested \"active\" in a given assay, set the \"**cids_type**\" parameter to \"**active**\", as shwon in the code below."
   ]
  },
  {
   "cell_type": "code",
   "execution_count": null,
   "metadata": {},
   "outputs": [],
   "source": [
    "url = prolog + \"/assay/aid/\" + \"1207599\" + \"/cids/txt?cids_type=active\"\n",
    "res = requests.get(url)\n",
    "cids = res.text.split()\n",
    "print(len(cids))\n",
    "print(cids)"
   ]
  },
  {
   "cell_type": "markdown",
   "metadata": {},
   "source": [
    "It is also possible to specify the input assay list implicitly.  For example, the following code cell retrieves compounds tested in any assays targeting human Carbonic anhydrase 2 (CA2), whose accession number is P00918."
   ]
  },
  {
   "cell_type": "code",
   "execution_count": null,
   "metadata": {},
   "outputs": [],
   "source": [
    "url = prolog + \"/assay/target/accession/\" + \"P00918\" + \"/cids/txt\"\n",
    "res = requests.get(url)\n",
    "cids = res.text.split()\n",
    "print(len(cids))\n",
    "#print(cids)"
   ]
  },
  {
   "cell_type": "markdown",
   "metadata": {},
   "source": [
    "**Exercise 3a:** Find compounds that are tested to be active against human acetylcholinesterase (accession: P08173) and retrieve SMILES strings for those compounds.<br>  \n",
    "- Split the CID list into smaller chunks (with a chunk size of 100).\n",
    "- Print the retrieved data in a CSV format (CID and SMILES strings in the first and second columns, respectively)."
   ]
  },
  {
   "cell_type": "code",
   "execution_count": 16,
   "metadata": {},
   "outputs": [],
   "source": [
    "# Write your code in this cell.\n",
    "\n",
    "\n"
   ]
  }
 ],
 "metadata": {
  "kernelspec": {
   "display_name": "Python 3",
   "language": "python",
   "name": "python3"
  },
  "language_info": {
   "codemirror_mode": {
    "name": "ipython",
    "version": 3
   },
   "file_extension": ".py",
   "mimetype": "text/x-python",
   "name": "python",
   "nbconvert_exporter": "python",
   "pygments_lexer": "ipython3",
   "version": "3.11.9"
  },
  "varInspector": {
   "cols": {
    "lenName": 16,
    "lenType": 16,
    "lenVar": 40
   },
   "kernels_config": {
    "python": {
     "delete_cmd_postfix": "",
     "delete_cmd_prefix": "del ",
     "library": "var_list.py",
     "varRefreshCmd": "print(var_dic_list())"
    },
    "r": {
     "delete_cmd_postfix": ") ",
     "delete_cmd_prefix": "rm(",
     "library": "var_list.r",
     "varRefreshCmd": "cat(var_dic_list()) "
    }
   },
   "types_to_exclude": [
    "module",
    "function",
    "builtin_function_or_method",
    "instance",
    "_Feature"
   ],
   "window_display": false
  }
 },
 "nbformat": 4,
 "nbformat_minor": 4
}
