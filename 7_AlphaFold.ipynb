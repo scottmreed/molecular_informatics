{
 "cells": [
  {
   "cell_type": "markdown",
   "metadata": {},
   "source": [
    "## Protein Models and Visualization\n",
    "\n",
    "AlphaFold is an AI system that predicts a protein’s 3D structure from its amino acid sequence. Google DeepMind and EMBL’s European Bioinformatics Institute (EMBL-EBI) have partnered to create AlphaFold DB to make these predictions freely available to the scientific community. \n",
    "The latest database release contains over 200 million entries, providing broad coverage of UniProt (the standard repository of protein sequences and annotations).\n",
    "\n",
    "### Alphafold API can be queried with the uniprot number for a protein.\n",
    "\n",
    "Uniprot number: Upon integration into UniProtKB, each entry is assigned a unique accession number, which is called 'Primary (citable) accession number'. \n",
    "We will start by retrieving available uniprot numbers for a protein using the Uniprot API at https://rest.uniprot.org/uniprotkb/search.\n"
   ]
  },
  {
   "cell_type": "code",
   "execution_count": null,
   "metadata": {
    "ExecuteTime": {
     "end_time": "2025-09-25T15:21:50.360940Z",
     "start_time": "2025-09-25T15:21:45.371374Z"
    }
   },
   "outputs": [],
   "source": [
    "import requests\n",
    "\n",
    "def search_uniprot(protein_name):\n",
    "    base_url = \"https://rest.uniprot.org/uniprotkb/search\"\n",
    "    params = {\n",
    "        'query': protein_name,\n",
    "        'fields': 'accession',  # Request UniProt ID (accession number)\n",
    "        'format': 'json',        # Get results in JSON format\n",
    "        'size': 5                # Limit the number of returned hits\n",
    "    }\n",
    "    \n",
    "    response = requests.get(base_url, params=params)\n",
    "    \n",
    "    if response.status_code == 200:\n",
    "        data = response.json()\n",
    "        uniprot_ids = [entry['primaryAccession'] for entry in data.get('results', [])]\n",
    "        return uniprot_ids\n",
    "    else:\n",
    "        print(f\"Error: Received status code {response.status_code}\")\n",
    "        return []\n",
    "\n",
    "def check_alphafold(uniprot_ids):\n",
    "    base_url = \"https://alphafold.ebi.ac.uk/api/prediction/\"\n",
    "    pdf_urls = []\n",
    "    \n",
    "    for uniprot_id in uniprot_ids:\n",
    "        url = f\"{base_url}{uniprot_id}\"\n",
    "        response = requests.get(url)\n",
    "        \n",
    "        if response.status_code == 200:\n",
    "            data = response.json()\n",
    "            for entry in data:\n",
    "                if 'pdbUrl' in entry:\n",
    "                    pdf_urls.append(entry['pdbUrl'])\n",
    "        else:\n",
    "            print(f\"Error: Received status code {response.status_code} for UniProt ID {uniprot_id}\")\n",
    "    \n",
    "    return pdf_urls\n",
    "\n",
    "protein_name = \"P53\"\n",
    "uniprot_ids = search_uniprot(protein_name)\n",
    "print(uniprot_ids)\n",
    "\n",
    "pdf_urls = check_alphafold(uniprot_ids)\n",
    "print(pdf_urls)"
   ]
  },
  {
   "cell_type": "markdown",
   "metadata": {},
   "source": [
    "## Check for strucutre files on the AlphaFold EMBL server\n",
    "\n",
    "start with \"pip install py3Dmol\"\n",
    "\n",
    "py3Dmol is a simple [IPython/Jupyter](http://jupyter.org/) widget to embed an interactive [3Dmol.js](http://3dmol.org) viewer in a notebook.\n",
    "We will retrieve structures from the urls we captured above and view them using py3Dmol."
   ]
  },
  {
   "cell_type": "code",
   "execution_count": null,
   "metadata": {
    "ExecuteTime": {
     "end_time": "2025-09-25T16:23:25.021954Z",
     "start_time": "2025-09-25T16:23:21.705608Z"
    }
   },
   "outputs": [],
   "source": [
    "import py3Dmol\n",
    "\n",
    "\n",
    "def check_alphafold(uniprot_ids):\n",
    "    base_url = \"https://alphafold.ebi.ac.uk/api/prediction/\"\n",
    "    pdb_urls = []\n",
    "    \n",
    "    for uniprot_id in uniprot_ids:\n",
    "        url = f\"{base_url}{uniprot_id}\"\n",
    "        response = requests.get(url)\n",
    "        \n",
    "        if response.status_code == 200:\n",
    "            data = response.json()\n",
    "            for entry in data:\n",
    "                if 'pdbUrl' in entry:\n",
    "                    pdb_urls.append(entry['pdbUrl'])\n",
    "        else:\n",
    "            print(f\"Error: Received status code {response.status_code} for UniProt ID {uniprot_id}\")\n",
    "    \n",
    "    return pdb_urls\n",
    "\n",
    "def visualize_protein_with_py3dmol(pdb_url):\n",
    "    response = requests.get(pdb_url)\n",
    "    if response.status_code == 200:\n",
    "        pdb_data = response.text\n",
    "        view = py3Dmol.view(width=800, height=600)\n",
    "        view.addModel(pdb_data, \"pdb\")\n",
    "        view.setStyle({'stick': {}})\n",
    "        view.zoomTo()\n",
    "        view.show()\n",
    "    else:\n",
    "        print(f\"Error: Received status code {response.status_code} for PDB URL {pdb_url}\")\n",
    "\n",
    "\n",
    "pdb_urls = check_alphafold(uniprot_ids)\n",
    "print(pdb_urls)\n",
    "\n",
    "if pdb_urls:\n",
    "    visualize_protein_with_py3dmol(pdb_urls[0])\n"
   ]
  },
  {
   "cell_type": "markdown",
   "metadata": {},
   "source": [
    "## pLDDT\n",
    "The predicted local distance difference test (pLDDT) is a per-residue measure of local confidence. It is scaled from 0 to 100, with higher scores indicating higher confidence and usually a more accurate prediction.\n",
    "\n",
    "pLDDT measures confidence in the local structure, estimating how well the prediction would agree with an experimental structure. On this basis, a pLDDT above 90 would be taken as the highest accuracy category, in which both the backbone and side chains are typically predicted with high accuracy. In contrast, a pLDDT above 70 usually corresponds to a correct backbone prediction with misplacement of some side chains. \n",
    "\n",
    "The pLDDT score is contained within the PDB file format in the position normally used for an X-ray diffraction quality metric. It is calculated for each residue and stored on each atom line.\n",
    "\n",
    "The script below was intended to capture the pLDDT scores and compare them across three categories. But something went wrong."
   ]
  },
  {
   "cell_type": "code",
   "execution_count": null,
   "metadata": {
    "ExecuteTime": {
     "end_time": "2025-09-25T16:23:45.610925Z",
     "start_time": "2025-09-25T16:23:41.940870Z"
    }
   },
   "outputs": [],
   "source": [
    "import pandas as pd\n",
    "import re\n",
    "\n",
    "\n",
    "def save_pdb_to_disk(pdb_url, filename=\"protein.pdb\"):\n",
    "    response = requests.get(pdb_url)\n",
    "    if response.status_code == 200:\n",
    "        with open(filename, 'wb') as file:\n",
    "            file.write(response.content)\n",
    "        print(f\"PDB file saved as {filename}\")\n",
    "    else:\n",
    "        print(f\"Error: Received status code {response.status_code} for PDB URL {pdb_url}\")\n",
    "\n",
    "def extract_plddt_from_pdb(filename=\"protein.pdb\"):\n",
    "    plddt_scores = []\n",
    "    seen_residues = set()\n",
    "    with open(filename, 'r') as file:\n",
    "        for line in file:\n",
    "            if line.startswith(\"ATOM\"):\n",
    "                parts = re.split(r'\\s+', line.strip())\n",
    "                if len(parts) >= 11:\n",
    "                    try:\n",
    "                        residue = parts[3]\n",
    "                        residue_number = parts[5]\n",
    "                        plddt = float(parts[10])\n",
    "                        residue_id = (residue, residue_number)\n",
    "                        if residue_id not in seen_residues:\n",
    "                            seen_residues.add(residue_id)\n",
    "                            plddt_scores.append({'Residue': residue, 'ResidueNumber': residue_number, 'PLDDT': plddt})\n",
    "                    except ValueError:\n",
    "                        continue\n",
    "    return pd.DataFrame(plddt_scores)\n",
    "\n",
    "def calculate_average_plddt(df):\n",
    "    # Define residue categories\n",
    "    acidic_residues = {'D', 'E'}\n",
    "    basic_residues = {'K', 'R', 'H'}\n",
    "    nonpolar_residues = {'A', 'V', 'L', 'I', 'M', 'F', 'W', 'P', 'G'}\n",
    "    \n",
    "    # Calculate averages using a loop and only taking the first atom of each residue\n",
    "    acidic_scores = []\n",
    "    basic_scores = []\n",
    "    nonpolar_scores = []\n",
    "    \n",
    "    for _, row in df.iterrows():\n",
    "        if row['Residue'] in acidic_residues:\n",
    "            acidic_scores.append(row['PLDDT'])\n",
    "        elif row['Residue'] in basic_residues:\n",
    "            basic_scores.append(row['PLDDT'])\n",
    "        elif row['Residue'] in nonpolar_residues:\n",
    "            nonpolar_scores.append(row['PLDDT'])\n",
    "    \n",
    "    acidic_avg = sum(acidic_scores) / len(acidic_scores) if acidic_scores else float('nan')\n",
    "    basic_avg = sum(basic_scores) / len(basic_scores) if basic_scores else float('nan')\n",
    "    nonpolar_avg = sum(nonpolar_scores) / len(nonpolar_scores) if nonpolar_scores else float('nan')\n",
    "    \n",
    "    print(\"Average PLDDT values:\")\n",
    "    print(f\"Acidic residues: {acidic_avg:.2f}\")\n",
    "    print(f\"Basic residues: {basic_avg:.2f}\")\n",
    "    print(f\"Nonpolar residues: {nonpolar_avg:.2f}\")\n",
    "\n",
    "pdb_urls = check_alphafold(uniprot_ids)\n",
    "print(pdb_urls)\n",
    "\n",
    "if pdb_urls:\n",
    "    save_pdb_to_disk(pdb_urls[0])\n",
    "    plddt_df = extract_plddt_from_pdb()\n",
    "    calculate_average_plddt(plddt_df)"
   ]
  },
  {
   "cell_type": "markdown",
   "metadata": {},
   "source": [
    "We wanted numbers not nans! Use the debugger to find out what is going on. Add a few breakpoints\n",
    "at logical locations and check the variables at those time points. What is the source of error?\n",
    "\n",
    "\n",
    "Exercise 1: Once you have found the error, cut and paste into the code block below and try adjusting the code to fix it. Spend a few minutes outlining a plan in code or comments. Then paste your partial solution into GPT to ask for suggestions.\n"
   ]
  },
  {
   "cell_type": "code",
   "execution_count": null,
   "metadata": {},
   "outputs": [],
   "source": [
    "# insert corrected code here"
   ]
  },
  {
   "cell_type": "markdown",
   "metadata": {},
   "source": [
    "Excercise 2:\n",
    "Create a plot of the average pLDDT for each residue type individually across all proteins you retreived."
   ]
  },
  {
   "cell_type": "code",
   "execution_count": null,
   "metadata": {},
   "outputs": [],
   "source": []
  }
 ],
 "metadata": {
  "kernelspec": {
   "display_name": "molecular_informatics",
   "language": "python",
   "name": "python3"
  },
  "language_info": {
   "codemirror_mode": {
    "name": "ipython",
    "version": 3
   },
   "file_extension": ".py",
   "mimetype": "text/x-python",
   "name": "python",
   "nbconvert_exporter": "python",
   "pygments_lexer": "ipython3",
   "version": "3.12.2"
  }
 },
 "nbformat": 4,
 "nbformat_minor": 2
}
