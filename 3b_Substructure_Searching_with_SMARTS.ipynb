{
 "cells": [
  {
   "cell_type": "markdown",
   "metadata": {},
   "source": [
    "# Substructure Searching with SMARTS\n",
    "\n",
    "This notebook is inspired by, borrows from and expands upon <a href = \"https://colab.research.google.com/github/PatWalters/practical_cheminformatics_tutorials/blob/main/fundamentals/SMARTS_tutorial.ipynb\"> An introduction to the SMILES ARbitrary Target Specification (SMARTS)</a> from Pat Walter's <a href=\"https://github.com/PatWalters/practical_cheminformatics_tutorials?tab=readme-ov-file\"> Cheminformatics Tutorials Github.</a> \n",
    "<div class=\"alert alert-block alert-info\">\n",
    "<h2>Learning Objectives</h2>\n",
    "\n",
    "* Explore Substructure Searching:\n",
    "  - Review SMILES (Simplified Molecular Input Line Entry System)\n",
    "  - SMARTS (SMILES Arbitrary Target Specification)\n",
    "* Explore RDKit and SMARTS\n",
    "  - Chem.MolFromSmarts() method\n",
    "  - Chem.HasSubstructMatch() method\n",
    "  - Chem.GetSubstructMatch() method\n",
    "* Practice code from previous notebooks\n",
    "\n",
    "</div>\n"
   ]
  },
  {
   "cell_type": "markdown",
   "metadata": {},
   "source": [
    "## Introduction to SMARTS"
   ]
  },
  {
   "cell_type": "markdown",
   "metadata": {},
   "source": [
    "In the previous notebook, we explored how compounds can be stored in chemical databases using line notations such as SMILES, InChI, and InChIKeys. Each method has its benefits and challenges. We found that SMILES are non-canonical, meaning that a single molecule can be represented by multiple different SMILES strings. As a result, searching for a specific SMILES string may not yield a match if the database stores a different valid representation of the same molecule. This issue was addressed by the InChI format, which is canonical but not easily human-readable. Finally, we looked at InChIKeys, which are excellent for database searching due to their fixed-length, hash-like format. However, InChIKeys are one-way encodings, so the original structural data must be stored separately if reconstruction is needed.\n",
    "\n",
    "In cheminformatics, searching for exact molecule matches isn't the only goal when interacting with a database. Frequently, we want to search for parts of molecules or \"substructures\" that contain specific chemical patterns or functional groups. This is particularly important for drug discovery, where known structural motifs may be required for biological activity at a given target. we would like to be able to search for similar molecules that contain those motifs. Being able to identify other molecules that contain such motifs allows researchers to prioritize compounds for synthesis, testing, or elimination based on the presence or absence of key substructures.\n",
    "\n",
    "While SMILES presented challenges to searching for specific molecules, a extension of that system called SMARTS (SMILES Arbitrary Target Specification) was developed. Unlike SMILES, which encodes full molecules, SMARTS allows the specification of generalized substructures using a flexible, rule-based syntax. SMARTS share a lot of the same syntax as SMILES but there are a number of critical differences. At a simple level, any SMILES is also a valid SMARTS. This enables highly customizable pattern matching for substructure queries.\n",
    "\n",
    "In this notebook, you will learn how to define SMARTS queries, apply them to molecular datasets using RDKit, and visualize the results. Whether you're designing a drug lead or mining a large chemical database, substructure searching with SMARTS is a powerful skill in your cheminformatics toolkit."
   ]
  },
  {
   "cell_type": "code",
   "execution_count": null,
   "metadata": {},
   "outputs": [],
   "source": [
    "# setting up the environment for RDKit visualization in Jupyter notebooks\n",
    "from rdkit import Chem  \n",
    "from rdkit.Chem.Draw import IPythonConsole\n",
    "from rdkit.Chem import Draw\n",
    "IPythonConsole.ipython_useSVG=True  #< set this to False if you want PNGs instead of SVGs"
   ]
  },
  {
   "cell_type": "markdown",
   "metadata": {},
   "source": [
    "When performing a substructure search, we need two pieces of data: \n",
    "1) The *query*, which is the substructure or pattern we are searching for\n",
    "2) The *target molecule*, often referred to as the *superstructure*, which is the molecule being searched\n",
    "\n",
    "In RDKit, both the query and the target must first be converted into molecule objects. The query is typically defined using SMARTS, which allows for flexible and detailed pattern specification, while the target is usually defined using SMILES or read from a structure (MOL) file.\n",
    "\n",
    "Once both are defined, RDKit provides tools to determine whether the query pattern exists within the target molecule. This allows us to search for a wide variety of structural features (such as functional groups, ring systems, or atom types) within larger chemical structures.\n",
    "\n",
    "In the next example, we will demonstrate how to define both a query and a target, and use RDKit to check for the presence of a substructure match."
   ]
  },
  {
   "cell_type": "code",
   "execution_count": null,
   "metadata": {},
   "outputs": [],
   "source": [
    "# Example to search for presence of a chlorine atom in a molecule\n",
    "\n",
    "# Define the query SMARTS for a chlorine atom\n",
    "chlorine_query = Chem.MolFromSmarts('[Cl]')\n",
    "\n",
    "# Define the target molecule (butane in example 1)\n",
    "butane = Chem.MolFromSmiles('CCCC')\n",
    "chlorobutane = Chem.MolFromSmiles('CC(Cl)CC')\n",
    "bromobutane = Chem.MolFromSmiles('CC(Br)CC')\n",
    "\n",
    "# Check if the chlorine query matches the butane molecule\n",
    "butane_match = butane.HasSubstructMatch(chlorine_query)\n",
    "chlorobutane_match = chlorobutane.HasSubstructMatch(chlorine_query)\n",
    "bromobutane_match = bromobutane.HasSubstructMatch(chlorine_query)\n",
    "\n",
    "# Display the results\n",
    "print(f\"Does butane contain a chlorine atom? {butane_match}\")\n",
    "print(f\"Does chlorobutane contain a chlorine atom? {chlorobutane_match}\")\n",
    "print(f\"Does bromobutane contain a chlorine atom? {bromobutane_match}\")\n"
   ]
  },
  {
   "cell_type": "markdown",
   "metadata": {},
   "source": [
    "Notice how the syntax places Cl in brackets to define the SMARTS query. Brackets are essential for writing robust and flexible substructure queries in cheminformatics. In the following code cell we will use SMARTS to determine if there are any halogens present in the target molecule."
   ]
  },
  {
   "cell_type": "code",
   "execution_count": null,
   "metadata": {},
   "outputs": [],
   "source": [
    "# Example to search for presence of a halogen atom in a molecule\n",
    "\n",
    "# Define the query SMARTS for a halogen atom\n",
    "halogen_query = Chem.MolFromSmarts('[F,Cl,Br,I]') \n",
    "\n",
    "# Check if the halogen query matches the butane molecule\n",
    "butane_match = butane.HasSubstructMatch(halogen_query)\n",
    "chlorobutane_match = chlorobutane.HasSubstructMatch(halogen_query)\n",
    "bromobutane_match = bromobutane.HasSubstructMatch(halogen_query)\n",
    "\n",
    "# Display the results\n",
    "print(f\"Does butane contain a halogen atom? {butane_match}\")\n",
    "print(f\"Does chlorobutane contain a halogen atom? {chlorobutane_match}\")\n",
    "print(f\"Does bromobutane contain a halogen atom? {bromobutane_match}\")"
   ]
  },
  {
   "cell_type": "markdown",
   "metadata": {},
   "source": [
    "Now that you are getting a feel for the code, let's explore other patterns."
   ]
  },
  {
   "cell_type": "code",
   "execution_count": null,
   "metadata": {},
   "outputs": [],
   "source": [
    "# Example SMILES strings to search against\n",
    "smiles_list = [\n",
    "    \"CCOCC\",        # diethyl ether\n",
    "    \"CC(=O)O\",      # acetic acid\n",
    "    \"CCO\",          # ethanol\n",
    "    \"c1ccccc1\",     # benzene\n",
    "    \"CC(N)C(=O)O\",  # alanine\n",
    "    \"CN\",           # methylamine\n",
    "    \"C1CCCCC1\",     # cyclohexane\n",
    "    \"C1=NC=CC=C1\",  # pyridine\n",
    "    \"C1CCNCC1  \",   # piperidine\n",
    "    \"CC#N\",         # acetonitrile\n",
    "]\n",
    "# Convert SMILES strings to RDKit molecules and visualize them\n",
    "molecules = [Chem.MolFromSmiles(smi) for smi in smiles_list]\n",
    "Draw.MolsToGridImage(molecules, molsPerRow=5)"
   ]
  },
  {
   "cell_type": "markdown",
   "metadata": {},
   "source": [
    "<div class=\"alert alert-block alert-warning\">\n",
    "<strong>Check your understanding</strong><br>\n",
    "\n",
    "What do the following RDKit methods do?\n",
    "* Chem.MolFromSmiles()\n",
    "* Chem.MolFromSmarts()\n",
    "\n",
    "Before we explore SMARTS, make a note of the types of atoms present, functional groups present, rings and bond orders in molecules list that is displayed above.\n",
    "\n",
    "\n",
    "\n",
    "<details>\n",
    "<summary>Extra information about these methods</summary>\n",
    "\n",
    "| Feature                 | `Chem.MolFromSmiles()`                       | `Chem.MolFromSmarts()`                            |\n",
    "| ----------------------- | -------------------------------------------- | ------------------------------------------------- |\n",
    "| **Purpose**             | Creates a full molecule from a SMILES string | Creates a substructure query from a SMARTS string |\n",
    "| **Use case**            | Used for defining complete molecules         | Used for searching or matching substructures      |\n",
    "| **Supports wildcards**  | No wildcards or logical operators            |Supports wildcards, atom/bond logic             |\n",
    "| **Canonical structure** | Often canonicalized on input                 | Not canonicalized—intended for pattern-matching   |\n",
    "| **Atom interpretation** | Assumes implicit atoms and bonds             | Requires more explicit atom typing                |\n"
   ]
  },
  {
   "cell_type": "markdown",
   "metadata": {},
   "source": [
    "Aliphatic nitrogen compounds are organic molecules in which the nitrogen atom is bonded to carbon atoms in an open chain or a non-aromatic ring structure, rather than directly to an aromatic ring. \n",
    "\n",
    "In SMARTS, we can distinguish between aliphatic and aromatic nitrogen atoms using specific syntax:\n",
    "\n",
    "* An aliphatic nitrogen is represented as [N], \n",
    "* An aromatic nitrogen is represented as [n].\n",
    "\n",
    " This distinction allows us to search selectively for different types of nitrogen environments within a target molecule. This can be an important capability when analyzing reactivity, functional group behavior, or biological activity."
   ]
  },
  {
   "cell_type": "code",
   "execution_count": null,
   "metadata": {},
   "outputs": [],
   "source": [
    "# Query to search for aliphatic nitrogen atoms\n",
    "query_smarts = \"N\" # SMARTS for aliphatic nitrogen atoms\n",
    "query_mol = Chem.MolFromSmarts(query_smarts) # Convert SMARTS to RDKit molecule\n",
    "\n",
    "matches = [] # List to store matching molecules\n",
    "# Perform substructure search\n",
    "for mol in molecules:\n",
    "    if mol.HasSubstructMatch(query_mol):  # Check if the molecule contains the substructure\n",
    "        matches.append(mol)  # If it does, add it to the matches list   \n",
    "        \n",
    "\n",
    "\n",
    "# Visualize the matches\n",
    "Draw.MolsToGridImage(matches, molsPerRow=5, subImgSize=(200, 200), legends=[Chem.MolToSmiles(mol) for mol in matches])\n"
   ]
  },
  {
   "cell_type": "code",
   "execution_count": null,
   "metadata": {},
   "outputs": [],
   "source": [
    "# Query to search for aromatic nitrogen atoms\n",
    "query_smarts = \"n\" # SMARTS for aromatic nitrogen atoms\n",
    "query_mol = Chem.MolFromSmarts(query_smarts) # Convert SMARTS to RDKit molecule\n",
    "\n",
    "matches = [] # List to store matching molecules\n",
    "# Perform substructure search\n",
    "for mol in molecules:\n",
    "    if mol.HasSubstructMatch(query_mol):  # Check if the molecule contains the substructure\n",
    "        matches.append(mol)  # If it does, add it to the matches list   \n",
    "        \n",
    "\n",
    "\n",
    "# Visualize the matches\n",
    "Draw.MolsToGridImage(matches, molsPerRow=5, subImgSize=(200, 200), legends=[Chem.MolToSmiles(mol) for mol in matches])"
   ]
  },
  {
   "cell_type": "markdown",
   "metadata": {},
   "source": [
    "In our SMILES list we had 10 molecules, and each search limited us to finding either aliphatic or aromatic nitrogens. If we wanted to find **either** type of nitrogen, we can search by indicating the general atom by using its atomic number."
   ]
  },
  {
   "cell_type": "code",
   "execution_count": null,
   "metadata": {},
   "outputs": [],
   "source": [
    "query_smarts = \"[#7]\" # SMARTS for any nitrogen atoms\n",
    "query_mol = Chem.MolFromSmarts(query_smarts) # Convert SMARTS to RDKit molecule\n",
    "\n",
    "matches = [] # List to store matching molecules\n",
    "# Perform substructure search\n",
    "for mol in molecules:\n",
    "    if mol.HasSubstructMatch(query_mol):  # Check if the molecule contains the substructure\n",
    "        matches.append(mol)  # If it does, add it to the matches list   \n",
    "\n",
    "# Visualize the matches\n",
    "Draw.MolsToGridImage(matches, molsPerRow=5, subImgSize=(200, 200), legends=[Chem.MolToSmiles(mol) for mol in matches])"
   ]
  },
  {
   "cell_type": "code",
   "execution_count": null,
   "metadata": {},
   "outputs": [],
   "source": [
    "# Example SMARTS patterns\n",
    "smarts_patterns = {\n",
    "    'Hydroxyl': '[OX2H]',\n",
    "    'Carbonyl': '[CX3]=[OX1]',\n",
    "    '6 membered aromatic ring': 'a1aaaaa1',\n",
    "    'Primary amine': '[NX3;H2]',\n",
    "    'Carboxylic acid': '[CX3](=O)[OX2H1]',\n",
    "    'Nitrile': '[NX1]#[CX2]',\n",
    "    'ether': '[O;D2]'\n",
    "}\n",
    "\n",
    "# Randomly select a SMARTS pattern\n",
    "import random\n",
    "selected_smarts = random.choice(list(smarts_patterns.values())) \n",
    "print(f\"Selected SMARTS pattern: {selected_smarts}\")"
   ]
  },
  {
   "cell_type": "markdown",
   "metadata": {},
   "source": [
    "<div class=\"alert alert-block alert-warning\">\n",
    "<strong>Check your understanding</strong><br>\n",
    "\n",
    "The above code cell contains a list of SMARTS patterns and a randomly selected SMARTS pattern. In the code cell below write code to search the molcules list for your randomly selected SMARTS pattern.\n",
    "</div>"
   ]
  },
  {
   "cell_type": "code",
   "execution_count": null,
   "metadata": {},
   "outputs": [],
   "source": [
    "# write your code here to search the molecules list for your randomly selected SMARTS pattern\n",
    "\n",
    "\n",
    "# KEY\n",
    "query_mol = Chem.MolFromSmarts(selected_smarts)  # Convert SMARTS to RDKit molecule \n",
    "matches = []  # List to store matching molecules\n",
    "# Perform substructure search   \n",
    "for mol in molecules:\n",
    "    if mol.HasSubstructMatch(query_mol):  # Check if the molecule contains the substructure\n",
    "        matches.append(mol)  # If it does, add it to the matches list\n",
    "# Visualize the matches\n",
    "Draw.MolsToGridImage(matches, molsPerRow=5, subImgSize=(200, 200), legends=[Chem.MolToSmiles(mol) for mol in matches])"
   ]
  },
  {
   "cell_type": "markdown",
   "metadata": {},
   "source": [
    "Another method for querying a target molecule in RDKit is the `GetSubstructMatch()` function. This method allows us to identify which atoms in the target molecule match a given substructure pattern. To use it, we first create a Mol object for the target molecule from a SMILES string, and define a query pattern using `MolFromSmarts()`.\n",
    "\n",
    "When `GetSubstructMatch()` is called on the target molecule with the SMARTS query as an argument, it returns a tuple of atom indices that match the substructure. These indices can then be used to highlight the matching atoms when the molecule is displayed.\n",
    "\n",
    "This is especially useful when visualizing functional groups or patterns directly on complex molecular structures."
   ]
  },
  {
   "cell_type": "markdown",
   "metadata": {},
   "source": [
    "In the following we are looking to find the methylenedioxy substructure in methylenedioxymethamphetamine(MDMA). Let's visualize MDMA first so we are familiar with the molecule's structure. "
   ]
  },
  {
   "cell_type": "code",
   "execution_count": null,
   "metadata": {},
   "outputs": [],
   "source": [
    "mdma = Chem.MolFromSmiles('CC(CC1=CC2=C(C=C1)OCO2)NC')  # Example SMILES for MDMA\n",
    "IPythonConsole.drawOptions.addAtomIndices = False\n",
    "mdma"
   ]
  },
  {
   "cell_type": "markdown",
   "metadata": {},
   "source": [
    "Next, we need to generate the SMARTS query. A methylenedioxy group is a functional group consisting of a –O–CH₂–O– bridge connecting two adjacent positions on an aromatic ring. It looks like a 1,3-dioxole fused to a benzene ring. \n",
    "\n",
    "The pattern we are looking for is:\n",
    "* two ring oxygen atoms\n",
    "* connected by a methylene bridge\n",
    "\n",
    "SMARTS allows for detailed specification of atomic properties using atom expressions, which can include both element type and structural context. For example, `[O;R1]` represents an oxygen atom that is part of a ring. The `O` indicates the atom is oxygen, while the `R1` is a ring membership descriptor specifying that the atom belongs to exactly one ring system. \n",
    "\n",
    "To ensure we have a methylene, rather than using `[C]` we want to make sure we have an aliphatic carbon with two hydrogens attached. This is achieved with `[CH2]`. \n",
    "\n",
    " In the case of a methylenedioxy group, `[O;R1][CH2][O;R1]` is used to match the –O–CH₂–O– bridge where both oxygens are part of a ring, helping distinguish it from non-cyclic ethers."
   ]
  },
  {
   "cell_type": "code",
   "execution_count": null,
   "metadata": {},
   "outputs": [],
   "source": [
    "mdma = Chem.MolFromSmiles('CC(CC1=CC2=C(C=C1)OCO2)NC')  # Example SMILES for MDMA\n",
    "query_smarts = \"[O;R1][CH2][O;R1]\"  # SMARTS for methylenedioxy group\n",
    "new_query = Chem.MolFromSmarts(query_smarts)  # Set up SMARTS query for methylenedioxy group\n",
    "mdma_matches = mdma.GetSubstructMatch(new_query)  # Get indices of matching\n",
    "print(f\"MDMA matches for methylenedioxy group: {mdma_matches}\")\n",
    "IPythonConsole.drawOptions.addAtomIndices = True\n",
    "mdma"
   ]
  },
  {
   "cell_type": "markdown",
   "metadata": {},
   "source": [
    "<div class=\"alert alert-block alert-warning\">\n",
    "<strong>Check your understanding</strong><br>\n",
    "\n",
    "In the code cell below, show that benzene is a substructure of MDMA. \n",
    "</div>"
   ]
  },
  {
   "cell_type": "code",
   "execution_count": null,
   "metadata": {},
   "outputs": [],
   "source": [
    "# write your code here\n",
    "\n",
    "#key\n",
    "mdma = Chem.MolFromSmiles('CC(CC1=CC2=C(C=C1)OCO2)NC')  # Example SMILES for MDMA\n",
    "query_smarts = \"c1ccccc1\"  # SMARTS for benzene\n",
    "new_query = Chem.MolFromSmarts(query_smarts)  # Example SMARTS for methylenedioxy group\n",
    "mdma_matches = mdma.GetSubstructMatch(new_query)  # Get indices of matching\n",
    "print(f\"MDMA matches for benzene group: {mdma_matches}\")\n",
    "IPythonConsole.drawOptions.addAtomIndices = True\n",
    "mdma"
   ]
  },
  {
   "cell_type": "markdown",
   "metadata": {},
   "source": [
    "Let's go one step deeper. In the case of MDMA, we can see that there are two oxygens connected to an aromatic ring. Run the following code cell."
   ]
  },
  {
   "cell_type": "code",
   "execution_count": null,
   "metadata": {},
   "outputs": [],
   "source": [
    "mdma = Chem.MolFromSmiles('CC(CC1=CC2=C(C=C1)OCO2)NC')  # Example SMILES for MDMA\n",
    "query_smarts = \"c1ccccc1[#8]\"  # SMARTS for phenol\n",
    "new_query = Chem.MolFromSmarts(query_smarts)  # Example SMARTS for methylenedioxy group\n",
    "mdma_matches = mdma.GetSubstructMatch(new_query)  # Get indices of matching\n",
    "print(f\"MDMA matches for phenol group: {mdma_matches}\")\n",
    "IPythonConsole.drawOptions.addAtomIndices = True\n",
    "mdma"
   ]
  },
  {
   "cell_type": "markdown",
   "metadata": {},
   "source": [
    "Notice that the highlighted part of the molecule only shows one match even though the other oxygen could match as well. If you want to find all matching substructures you can use RDKit's `GetSubstructMatches()` method. This will return a tuple of all atom indices."
   ]
  },
  {
   "cell_type": "code",
   "execution_count": null,
   "metadata": {},
   "outputs": [],
   "source": [
    "mdma = Chem.MolFromSmiles('CC(CC1=CC2=C(C=C1)OCO2)NC')  # Example SMILES for MDMA\n",
    "query_smarts = \"c1ccccc1[#8]\"  # SMARTS for henol\n",
    "new_query = Chem.MolFromSmarts(query_smarts)  # Example SMARTS for methylenedioxy group\n",
    "mdma_matches = mdma.GetSubstructMatches(new_query)  # Get indices of matching\n",
    "print(f\"MDMA matches for phenol group: {mdma_matches}\")\n",
    "IPythonConsole.drawOptions.addAtomIndices = True\n",
    "mdma"
   ]
  },
  {
   "cell_type": "markdown",
   "metadata": {},
   "source": [
    "Alternatively, we could have indicated that we are looking for any oxygen connected to an aromatic carbon."
   ]
  },
  {
   "cell_type": "code",
   "execution_count": null,
   "metadata": {},
   "outputs": [],
   "source": [
    "mdma = Chem.MolFromSmiles('CC(CC1=CC2=C(C=C1)OCO2)NC')  # Example SMILES for MDMA\n",
    "query_smarts = \"c[O]\"  # # SMARTS for oxygen connected to an aromatic carbon\n",
    "new_query = Chem.MolFromSmarts(query_smarts)  # Example SMARTS for methylenedioxy group\n",
    "mdma_matches = mdma.GetSubstructMatches(new_query)  # Get indices of matching\n",
    "print(f\"MDMA matches for oxygen connected to an aromatic carbon: {mdma_matches}\")\n",
    "IPythonConsole.drawOptions.addAtomIndices = True\n",
    "mdma"
   ]
  },
  {
   "cell_type": "markdown",
   "metadata": {},
   "source": [
    "Curiously, the earlier visualization shows a highlight between atoms 5 and 6, which should not be highlighted based on our SMARTS pattern. This appears to be an artifact or misinterpretation. Our pattern is intended to match an aromatic carbon bonded to an oxygen, not a bond between two aromatic carbons.\n",
    "\n",
    "To resolve this, we can redraw the molecule and manually specify the atoms and bonds to highlight. This approach gives us full control over what is visualized and avoids accidental highlights due to automatic matching behavior.\n",
    "\n",
    "The variable `mdma_matches` is a list of tuples, where each tuple contains the atom indices for a substructure match. To highlight all matched atoms, we first need to flatten the tuples as a list:\n",
    "```\n",
    "[(5, 11), (6, 9)]  →  [5, 11, 6, 9]\n",
    "```\n",
    "With the flattened list of atoms, we can tell RDKit which atoms to highlight. Then, to highlight the correct bonds, we search for bonds between adjacent atoms within each match. This ensures we highlight the bond between atoms 5 and 11 (which are part of the same match), and not between atoms 5 and 6 (which are in different matches).\n",
    "\n",
    "Finally, we redraw the molecule using RDKit’s more flexible drawing tools, specifying the atoms and bonds to highlight exactly as intended."
   ]
  },
  {
   "cell_type": "code",
   "execution_count": null,
   "metadata": {},
   "outputs": [],
   "source": [
    "from rdkit.Chem.Draw import rdMolDraw2D\n",
    "from IPython.display import SVG\n",
    "\n",
    "# Create new mol object and Kekulize\n",
    "mol = Chem.Mol(mdma)\n",
    "\n",
    "\n",
    "# Flatten list of matched atoms\n",
    "highlight_atoms = list({atom_idx for match in mdma_matches for atom_idx in match})\n",
    "\n",
    "# Find bonds between all *adjacent* atoms in each match\n",
    "highlight_bonds = []\n",
    "for match in mdma_matches:\n",
    "    for i in range(len(match) - 1):\n",
    "        bond = mol.GetBondBetweenAtoms(match[i], match[i + 1])\n",
    "        if bond:  # Make sure a bond exists between the two atoms\n",
    "            highlight_bonds.append(bond.GetIdx())\n",
    "\n",
    "# Draw\n",
    "drawer = rdMolDraw2D.MolDraw2DSVG(300, 300)\n",
    "drawer.DrawMolecule(mol, highlightAtoms=highlight_atoms, highlightBonds=highlight_bonds)\n",
    "drawer.FinishDrawing()\n",
    "svg = drawer.GetDrawingText()\n",
    "SVG(svg.replace('svg:', ''))  # Display SVG"
   ]
  },
  {
   "cell_type": "markdown",
   "metadata": {},
   "source": [
    "<div class=\"alert alert-block alert-success\">\n",
    "\n",
    "<details>\n",
    "<summary>Why this matters</summary>\n",
    "Visualizing chemical substructures accurately is essential in cheminformatics and drug discovery. When RDKit highlights atoms and bonds based on a query, it’s easy to assume the output is always correct. But sometimes, unexpected highlights can occur due to default settings or overlapping matches.<br><br> By taking control of how atoms and bonds are highlighted, you’re not just fixing a display issue. You are learning how to verify results, debug molecular queries, and communicate chemical meaning more precisely. These are the same skills computational chemists use when developing structure-based filters, similarity searches, or pattern-based property prediction tools.<br><br> In short: <b>knowing what your code is highlighting, and why, helps you trust your results.</b>"
   ]
  },
  {
   "cell_type": "markdown",
   "metadata": {},
   "source": [
    "In many situations, we want to define a query that matches more than one type of atom. For example, suppose we want a pattern that can match both benzene and pyridine (both are six-membered aromatic rings) but with different atoms at one position. This can be accomplished in SMARTS by using a comma-separated list of atom types enclosed in square brackets. To match either a carbon or nitrogen at the final ring position, we can use the SMARTS pattern:\n",
    "```\n",
    "c1cccc[c,n]1\n",
    "```\n",
    "This pattern matches both benzene (where the final atom is `c`) and pyridine (where it’s `n`). Notice that we are using lowercase `c` and `n` as we are indicating this is an aromatic ring.\n",
    "\n",
    "One last thing about `GetSubstructMatches()` that you should be aware of. When displaying a single molecule in a Jupyter notebook, RDKit automatically highlights the matched atoms because `GetSubstructMatch()` sets the internal match information and Jupyter’s IPython integration checks for a stored match and highlights it using `__sssAtoms` behind the scenes.\n",
    "\n",
    "Therefore, this only works for single molecules, because when you call a `mol` object alone, IPython draws it using special hooks behind the scenes. \n",
    "\n",
    "The following code shows you how to do this for a group. "
   ]
  },
  {
   "cell_type": "code",
   "execution_count": null,
   "metadata": {},
   "outputs": [],
   "source": [
    "antihistamines = {\n",
    "    'chlorpheniramine': 'InChI=1S/C16H19ClN2/c1-19(2)12-10-15(16-5-3-4-11-18-16)13-6-8-14(17)9-7-13/h3-9,11,15H,10,12H2,1-2H3',\n",
    "    'diphenhydramine': 'InChI=1S/C17H21NO/c1-18(2)13-14-19-17(15-9-5-3-6-10-15)16-11-7-4-8-12-16/h3-12,17H,13-14H2,1-2H3',\n",
    "    'ketotifen': 'InChI=1S/C19H19NOS/c1-20-9-6-13(7-10-20)18-15-5-3-2-4-14(15)12-17(21)19-16(18)8-11-22-19/h2-5,8,11H,6-7,9-10,12H2,1H3',\n",
    "    'promethazine': 'InChI=1S/C17H20N2S/c1-13(18(2)3)12-19-14-8-4-6-10-16(14)20-17-11-7-5-9-15(17)19/h4-11,13H,12H2,1-3H3',\n",
    "    'ebastine': 'InChI=1S/C32H39NO2/c1-32(2,3)28-18-16-25(17-19-28)30(34)15-10-22-33-23-20-29(21-24-33)35-31(26-11-6-4-7-12-26)27-13-8-5-9-14-27/h4-9,11-14,16-19,29,31H,10,15,20-24H2,1-3H3',\n",
    "    'loratidine': 'InChI=1S/C22H23ClN2O2/c1-2-27-22(26)25-12-9-15(10-13-25)20-19-8-7-18(23)14-17(19)6-5-16-4-3-11-24-21(16)20/h3-4,7-8,11,14H,2,5-6,9-10,12-13H2,1H3',\n",
    "    'cyproheptadine': 'InChI=1S/C21H21N/c1-22-14-12-18(13-15-22)21-19-8-4-2-6-16(19)10-11-17-7-3-5-9-20(17)21/h2-11H,12-15H2,1H3',\n",
    "    'triprolidine': 'InChI=1S/C19H22N2/c1-16-7-9-17(10-8-16)18(19-6-2-3-12-20-19)11-15-21-13-4-5-14-21/h2-3,6-12H,4-5,13-15H2,1H3/b18-11+'\n",
    "}\n",
    "\n",
    "# convert InChI strings to RDKit molecules\n",
    "antihistamines_mols = [Chem.MolFromInchi(inchi) for inchi in antihistamines.values()]\n",
    "\n",
    "query_smarts = \"c1cccc[c,n]1\"  # SMARTS for benzene or pyridine ring\n",
    "query = Chem.MolFromSmarts(query_smarts)\n",
    "\n",
    "mols_copy = []  # Make editable copies\n",
    "highlight_atom_list = []\n",
    "highlight_bond_list = []\n",
    "\n",
    "for mol in antihistamines_mols:\n",
    "    if mol is None:\n",
    "        mols_copy.append(None)\n",
    "        highlight_atom_list.append([])\n",
    "        highlight_bond_list.append([])\n",
    "        continue\n",
    "        \n",
    "        # Create a copy so original molecule isn't altered\n",
    "    mol_copy = Chem.Mol(mol)\n",
    "    mols_copy.append(mol_copy)\n",
    "\n",
    "\n",
    "\n",
    "    matches = mol_copy.GetSubstructMatches(query)\n",
    "    atoms = {atom for match in matches for atom in match}\n",
    "    bonds = set()\n",
    "\n",
    "    for match in matches:\n",
    "        match_atoms = list(match)\n",
    "        for i in range(len(match_atoms)):\n",
    "            for j in range(i + 1, len(match_atoms)):\n",
    "                bond = mol_copy.GetBondBetweenAtoms(match_atoms[i], match_atoms[j])\n",
    "                if bond:\n",
    "                    bonds.add(bond.GetIdx())\n",
    "\n",
    "\n",
    "\n",
    "    highlight_atom_list.append(list(atoms))\n",
    "    highlight_bond_list.append(list(bonds))\n",
    "\n",
    "IPythonConsole.drawOptions.addAtomIndices = True  # Optional\n",
    "molsPerRow = 4  # Number of molecules per row in the grid\n",
    "subImgSize = (300, 300)  # Size of each sub-image in the\n",
    "legends=list(antihistamines.keys())\n",
    "             \n",
    "Draw.MolsToGridImage(\n",
    "        mols_copy,\n",
    "        molsPerRow=molsPerRow,\n",
    "        subImgSize=subImgSize,\n",
    "        highlightAtomLists=highlight_atom_list,\n",
    "        highlightBondLists=highlight_bond_list,\n",
    "        legends=legends)\n",
    "\n",
    "\n"
   ]
  },
  {
   "cell_type": "markdown",
   "metadata": {},
   "source": [
    "There is alot of code for making the highlighting, which we don't want to type over and over. We can create a user defined function that does this for us. After defining the function, we can just send the information to the function."
   ]
  },
  {
   "cell_type": "code",
   "execution_count": null,
   "metadata": {},
   "outputs": [],
   "source": [
    "def highlight_substructures_with_bonds(mols, smarts, legends=None, molsPerRow=4, subImgSize=(300, 300)):\n",
    "    query = Chem.MolFromSmarts(smarts)\n",
    "    if query is None:\n",
    "        raise ValueError(f\"Invalid SMARTS pattern: {smarts}\")\n",
    "\n",
    "    mols_copy = []\n",
    "    highlight_atom_list = []\n",
    "    highlight_bond_list = []\n",
    "    filtered_legends = []\n",
    "\n",
    "    for mol_idx, mol in enumerate(mols):\n",
    "        if mol is None:\n",
    "            continue\n",
    "\n",
    "        mol_copy = Chem.Mol(mol)\n",
    "        matches = mol_copy.GetSubstructMatches(query)\n",
    "\n",
    "        if not matches:\n",
    "            continue\n",
    "\n",
    "        atoms = {atom for match in matches for atom in match}\n",
    "        bonds = set()\n",
    "        for match in matches:\n",
    "            if len(match) > 1:\n",
    "                for j in range(len(match)):\n",
    "                    a1 = match[j]\n",
    "                    a2 = match[(j + 1) % len(match)]\n",
    "                    bond = mol_copy.GetBondBetweenAtoms(a1, a2)\n",
    "                    if bond:\n",
    "                        bonds.add(bond.GetIdx())\n",
    "\n",
    "        mols_copy.append(mol_copy)\n",
    "        highlight_atom_list.append(list(atoms))\n",
    "        highlight_bond_list.append(list(bonds))\n",
    "\n",
    "        if legends:\n",
    "            filtered_legends.append(legends[mol_idx])\n",
    "\n",
    "    IPythonConsole.drawOptions.addAtomIndices = True\n",
    "\n",
    "    return Draw.MolsToGridImage(\n",
    "        mols_copy,\n",
    "        molsPerRow=molsPerRow,\n",
    "        subImgSize=subImgSize,\n",
    "        highlightAtomLists=highlight_atom_list,\n",
    "        highlightBondLists=highlight_bond_list,\n",
    "        legends=filtered_legends\n",
    "    )\n"
   ]
  },
  {
   "cell_type": "markdown",
   "metadata": {},
   "source": [
    "The following code cell redoes our search for benzene or pyridine in the ring, but uses the new ` highlight_substructures_with_bonds()` function to get our substructure matches and display."
   ]
  },
  {
   "cell_type": "code",
   "execution_count": null,
   "metadata": {},
   "outputs": [],
   "source": [
    "antihistamines = {\n",
    "    'chlorpheniramine': 'InChI=1S/C16H19ClN2/c1-19(2)12-10-15(16-5-3-4-11-18-16)13-6-8-14(17)9-7-13/h3-9,11,15H,10,12H2,1-2H3',\n",
    "    'diphenhydramine': 'InChI=1S/C17H21NO/c1-18(2)13-14-19-17(15-9-5-3-6-10-15)16-11-7-4-8-12-16/h3-12,17H,13-14H2,1-2H3',\n",
    "    'ketotifen': 'InChI=1S/C19H19NOS/c1-20-9-6-13(7-10-20)18-15-5-3-2-4-14(15)12-17(21)19-16(18)8-11-22-19/h2-5,8,11H,6-7,9-10,12H2,1H3',\n",
    "    'promethazine': 'InChI=1S/C17H20N2S/c1-13(18(2)3)12-19-14-8-4-6-10-16(14)20-17-11-7-5-9-15(17)19/h4-11,13H,12H2,1-3H3',\n",
    "    'ebastine': 'InChI=1S/C32H39NO2/c1-32(2,3)28-18-16-25(17-19-28)30(34)15-10-22-33-23-20-29(21-24-33)35-31(26-11-6-4-7-12-26)27-13-8-5-9-14-27/h4-9,11-14,16-19,29,31H,10,15,20-24H2,1-3H3',\n",
    "    'loratidine': 'InChI=1S/C22H23ClN2O2/c1-2-27-22(26)25-12-9-15(10-13-25)20-19-8-7-18(23)14-17(19)6-5-16-4-3-11-24-21(16)20/h3-4,7-8,11,14H,2,5-6,9-10,12-13H2,1H3',\n",
    "    'cyproheptadine': 'InChI=1S/C21H21N/c1-22-14-12-18(13-15-22)21-19-8-4-2-6-16(19)10-11-17-7-3-5-9-20(17)21/h2-11H,12-15H2,1H3',\n",
    "    'triprolidine': 'InChI=1S/C19H22N2/c1-16-7-9-17(10-8-16)18(19-6-2-3-12-20-19)11-15-21-13-4-5-14-21/h2-3,6-12H,4-5,13-15H2,1H3/b18-11+'\n",
    "}\n",
    "\n",
    "# convert InChI strings to RDKit molecules\n",
    "antihistamines_mols = [Chem.MolFromInchi(inchi) for inchi in antihistamines.values()]\n",
    "\n",
    "query_smarts = \"c1cccc[c,n]1\"  # SMARTS for benzene or pyridine ring\n",
    "#query_smarts = '[$(c1ccccc1),$(c1ccccn1)]'  # another way to query SMARTS for benzene or pyridine ring\n",
    "# the above uses recursive SMARTS which allos you to query for either benzene or pyridine in the same query\n",
    "\n",
    "highlight_substructures_with_bonds(antihistamines_mols, query_smarts, legends=list(antihistamines.keys()), molsPerRow = 4, subImgSize=(400, 400))\n"
   ]
  },
  {
   "cell_type": "markdown",
   "metadata": {},
   "source": [
    "Recursive SMARTS is a feature of the language that allows you to build complex atom-level queries by embedding entire substructure patterns inside a single atom definition.\n",
    "\n",
    "The syntax is `[$(<SMARTS>)]`\n",
    "\n",
    "Where:\n",
    "* The `$` indicates a recursive SMARTS query.\n",
    "* The inner(...) is a full SMARTS pattern.\n",
    "\n",
    " The following code will search for any molecule that includes a piperidine or a pyrrolidine ring. Note that the way our function works, it will highlight the nitrogen atom of interest and not all the bonds."
   ]
  },
  {
   "cell_type": "code",
   "execution_count": null,
   "metadata": {},
   "outputs": [],
   "source": [
    "# embedded substructure search for piperidine or pyrrolidine rings in antihistamines\n",
    "query_smarts = '[$(N1CCCCC1),$(N1CCCC1)]' \n",
    "\n",
    "highlight_substructures_with_bonds(antihistamines_mols, query_smarts, legends=list(antihistamines.keys()), molsPerRow = 4, subImgSize=(300, 300))\n",
    "\n"
   ]
  },
  {
   "cell_type": "markdown",
   "metadata": {},
   "source": [
    "The following query seeks to identify any aromatic carbon in a ring that is separated from an aromatic nitrogen, or any nitrogen in a pyrrolidine ring. "
   ]
  },
  {
   "cell_type": "code",
   "execution_count": null,
   "metadata": {},
   "outputs": [],
   "source": [
    "query_smarts = '[$(c1cnccc1),$(N1CCCC1)]'  # another way\n",
    "\n",
    "highlight_substructures_with_bonds(antihistamines_mols, query_smarts, legends=list(antihistamines.keys()), molsPerRow = 4, subImgSize=(300, 300))\n"
   ]
  },
  {
   "cell_type": "markdown",
   "metadata": {},
   "source": [
    "<div class=\"alert alert-block alert-warning\">\n",
    "<strong>Check your understanding</strong><br>\n",
    "\n",
    "Look up the SMARTS for an ester. Display all antihistamines that contain an ester. \n",
    "\n",
    "<details>\n",
    "<summary>Answer</summary>\n",
    "Your code should display only the molecules that contain esters: loratidine\n",
    "</div>"
   ]
  },
  {
   "cell_type": "code",
   "execution_count": null,
   "metadata": {},
   "outputs": [],
   "source": [
    "# write your code here\n",
    "\n",
    "#key\n",
    "\n",
    "antihistamines_mols = [Chem.MolFromInchi(inchi) for inchi in antihistamines.values()]\n",
    "ester_smarts = '[C](=O)[O][C]'   # SMARTS for ester functional group\n",
    "# ester_smarts = 'C(=O)OC'        # this is a SMILES string for ester functional group, not SMARTS. It will still work but not as intended.\n",
    "highlight_substructures_with_bonds(antihistamines_mols, ester_smarts, legends=list(antihistamines.keys()), molsPerRow = 4, subImgSize=(200, 200))\n"
   ]
  },
  {
   "cell_type": "markdown",
   "metadata": {},
   "source": [
    "The following widget allows us to interact with a list of molecules and practice using SMARTS to find molecules that incorporate substructures of our choosing. If you click on the magnifying glass icon 🔎 below, you can search by SMARTS.\n",
    "\n",
    "Try the following SMARTS:\n",
    "\n",
    "* [Nr6]  Non-armoatic nitrogen in a 6 membered non-aromatic ring\n",
    "* [sr5]  Aromatic sulfur in a 5 membered ring\n",
    "* [CX4]  Carbon with bonds to any four other atoms\n",
    "* [CD4]  Quaternary carbon\n",
    "* [#7,#8] Hydrogen bond acceptors\n",
    "* [#7,#8;!H0] Hydrogen bond donors (oxygen or nitrogen must have hydrogen bonded to it)\n",
    "* [#6^2] sp<sup>2</sup> hybridized carbon\n",
    "* [#6z] carbpn with a heteroatom neighbor"
   ]
  },
  {
   "cell_type": "code",
   "execution_count": null,
   "metadata": {},
   "outputs": [],
   "source": [
    "import mols2grid\n",
    "#mols2grid.display(molecules)\n",
    "mols2grid.display(antihistamines_mols)"
   ]
  },
  {
   "cell_type": "markdown",
   "metadata": {},
   "source": [
    "<div class=\"alert alert-block alert-success\">\n",
    "<center><H1>Homework</H1></center>\n",
    "\n",
    "Some resources for SMARTS include:\n",
    "\n",
    "The canonical reference for SMARTS is the [Daylight Theory Manual](https://www.daylight.com/dayhtml/doc/theory/). \n",
    "The [RDKit Book](https://www.rdkit.org/docs/RDKit_Book.html) which explain how it is implemented in RDKit\n",
    "\n",
    "\n",
    "Use it as a guide and any other internet resources to help you define SMARTS queries for this homework assignment.\n"
   ]
  },
  {
   "cell_type": "markdown",
   "metadata": {},
   "source": [
    "<div class=\"alert alert-block alert-success\">\n",
    "\n",
    "1) The following code cell has three molecules that contain carbon oxygen bonds. Only one of them is an alcohol. A student proposed the following code to display all alcohols in the list (based on the SMILES string for an alcohol). Change the SMARTS, and rerun the cell to only return a true value for the alcohol."
   ]
  },
  {
   "cell_type": "code",
   "execution_count": null,
   "metadata": {},
   "outputs": [],
   "source": [
    "InChiList = [\"InChI=1S/C12H18BrOSe/c1-3-4-9-15(13)12-8-6-5-7-11(12)10-14(15)2/h5-8H,3-4,9-10H2,1-2H3/q+1\",\"InChI=1S/C7H13NO2/c1-3-8-4-2-7(1)9-5-6-10-7/h8H,1-6H2\",\"InChI=1S/C4H9NO/c6-4-1-2-5-3-4/h4-6H,1-3H2\"]\n",
    "myMols = [Chem.MolFromInchi(inchi) for inchi in InChiList]\n",
    "alchohol_SMARTS = \"CO\"  # incorrect SMARTS for alcohol functional group\n",
    "alcoholquery = Chem.MolFromSmarts(alchohol_SMARTS) \n",
    "matches = [] \n",
    "for mol in myMols:\n",
    "    if mol.HasSubstructMatch(alcoholquery):  \n",
    "        matches.append(mol)  \n",
    "Draw.MolsToGridImage(matches, molsPerRow=5, subImgSize=(200, 200))\n"
   ]
  },
  {
   "cell_type": "markdown",
   "metadata": {},
   "source": [
    "<div class=\"alert alert-block alert-success\">\n",
    "\n",
    "2) Using the following code block, write a SMARTS query to identify any molecules in `myMols` that have a positive charge."
   ]
  },
  {
   "cell_type": "code",
   "execution_count": null,
   "metadata": {},
   "outputs": [],
   "source": [
    "positive_SMARTS = \"Add your SMARTS here\" \n",
    "positivequery = Chem.MolFromSmarts(positive_SMARTS) \n",
    "matches = [] \n",
    "for mol in myMols:\n",
    "    if mol.HasSubstructMatch(positivequery):  \n",
    "        matches.append(mol)  \n",
    "Draw.MolsToGridImage(matches, molsPerRow=5, subImgSize=(200, 200))"
   ]
  },
  {
   "cell_type": "markdown",
   "metadata": {},
   "source": [
    "<div class=\"alert alert-block alert-success\">\n",
    "\n",
    "3) Change the following code cell so that it highlights any ether or dialkyl amino substructures in `myMols`. "
   ]
  },
  {
   "cell_type": "code",
   "execution_count": null,
   "metadata": {},
   "outputs": [],
   "source": [
    "mySMARTS = \"Add your SMARTS here\" \n",
    "\n",
    "highlight_substructures_with_bonds(myMols, mySMARTS)\n"
   ]
  },
  {
   "cell_type": "markdown",
   "metadata": {},
   "source": [
    "<div class=\"alert alert-block alert-success\">\n",
    "4) The following cell contains a list of CIDs from PubChem. Find matches for the following criteria in the list, and return all CIDs that match that criteria.\n",
    "\n",
    "* all molecules that contain a carboxylate\n",
    "* all molecules that contain a triple bond\n",
    "* all molecules that contain heterocycles"
   ]
  },
  {
   "cell_type": "code",
   "execution_count": null,
   "metadata": {},
   "outputs": [],
   "source": [
    "CIDs = [119389,5991,135519560,50994057,3016,68617,2764,1983,5288826,5460164,242,5462328,3386,2912,26757,89594,145352036]\n",
    "# write your code here"
   ]
  },
  {
   "cell_type": "markdown",
   "metadata": {},
   "source": [
    "# Acknowledgments\n"
   ]
  }
 ],
 "metadata": {
  "kernelspec": {
   "display_name": "molecular_informatics",
   "language": "python",
   "name": "python3"
  },
  "language_info": {
   "codemirror_mode": {
    "name": "ipython",
    "version": 3
   },
   "file_extension": ".py",
   "mimetype": "text/x-python",
   "name": "python",
   "nbconvert_exporter": "python",
   "pygments_lexer": "ipython3",
   "version": "3.12.2"
  },
  "varInspector": {
   "cols": {
    "lenName": 16,
    "lenType": 16,
    "lenVar": 40
   },
   "kernels_config": {
    "python": {
     "delete_cmd_postfix": "",
     "delete_cmd_prefix": "del ",
     "library": "var_list.py",
     "varRefreshCmd": "print(var_dic_list())"
    },
    "r": {
     "delete_cmd_postfix": ") ",
     "delete_cmd_prefix": "rm(",
     "library": "var_list.r",
     "varRefreshCmd": "cat(var_dic_list()) "
    }
   },
   "types_to_exclude": [
    "module",
    "function",
    "builtin_function_or_method",
    "instance",
    "_Feature"
   ],
   "window_display": false
  }
 },
 "nbformat": 4,
 "nbformat_minor": 4
}
