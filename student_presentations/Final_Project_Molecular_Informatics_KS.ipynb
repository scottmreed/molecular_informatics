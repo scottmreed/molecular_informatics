{
 "cells": [
  {
   "cell_type": "markdown",
   "metadata": {},
   "source": [
    "## Predicting Protein Carbonylation Capabilities with RDKit\n",
    "Katie Schultz 12/6/2024 Molecular Informatics    **Used Python GPT for troubleshooting**\n",
    "<br>\n",
    "<br>"
   ]
  },
  {
   "cell_type": "markdown",
   "metadata": {},
   "source": [
    "Oxidative stress results in the buildup of reactive oxygen species (ROS) that react with plasma and organelle membrane lipids, producing reactive (lipid) aldehydes. These aldehydes can then react with proteins and nucleic acids. **Protein Carbonylation** is an irreversible process involving the addition of carbonyl groups to Lys, Cys or His residues to form Michael adducts, though Schiff bases can also be formed from these interactions, and crosslinking, in which one aldehyde species carbonylates two separate amino acid residues has been observed.\n",
    "\n",
    "Based on known crosslinking aldehydes, I've written some functions to help predict the carbonylation and crosslinking capabilities of various molecules from their SMILES codes. Data will be input as a list of SMILES strings, then output as a CSV file.\n",
    "\n",
    "**Feedback for improved cutoff values, more appropriate properties to assess, and ways to simulate this (I've tried and failed multiple times with OpenMM) are greatly appreciated**"
   ]
  },
  {
   "cell_type": "code",
   "metadata": {
    "ExecuteTime": {
     "end_time": "2024-12-06T17:04:24.206755Z",
     "start_time": "2024-12-06T17:04:24.204017Z"
    }
   },
   "source": [
    "from rdkit import Chem\n",
    "from rdkit.Chem import Descriptors, Draw\n",
    "import pandas as pd\n",
    "from IPython.display import display"
   ],
   "outputs": [],
   "execution_count": 14
  },
  {
   "cell_type": "markdown",
   "metadata": {},
   "source": [
    "**Step 1:** Input SMILES codes (pulled from PubChem)"
   ]
  },
  {
   "cell_type": "code",
   "metadata": {
    "ExecuteTime": {
     "end_time": "2024-12-06T17:00:29.903521Z",
     "start_time": "2024-12-06T17:00:29.900864Z"
    }
   },
   "source": [
    "smiles_list = [\n",
    "    \"CCCCCC(/C=C/C=O)O\",            # 4-hydroxy-2-nonenal (4HNE)\n",
    "    \"C(C=O)C=O\",                    # Malondialdehyde (MDA)\n",
    "    \"O\",                            # Water (inorganic)\n",
    "    \"C=CC=O\",                       # Acrolein\n",
    "    \"CC=O\",                         # Acetaldehyde\n",
    "    \"CCC(C)=O\"                      # Butanone\n",
    "]"
   ],
   "outputs": [],
   "execution_count": 4
  },
  {
   "cell_type": "markdown",
   "metadata": {},
   "source": [
    "**Step 2:** Create function determining if the molecule is organic"
   ]
  },
  {
   "cell_type": "code",
   "metadata": {
    "ExecuteTime": {
     "end_time": "2024-12-06T17:00:35.038626Z",
     "start_time": "2024-12-06T17:00:35.036346Z"
    }
   },
   "source": [
    "def is_organic(smiles):\n",
    "    return 'C' in smiles # this is a bit arbitrary; I could require a C-C bond\n",
    "                         # I could include H as well, however SMILES codes usually written w/o H atoms"
   ],
   "outputs": [],
   "execution_count": 5
  },
  {
   "cell_type": "markdown",
   "metadata": {},
   "source": [
    "**Step 3:** Create function determining if the molecule has an aldehyde group"
   ]
  },
  {
   "cell_type": "code",
   "metadata": {
    "ExecuteTime": {
     "end_time": "2024-12-06T17:00:43.708557Z",
     "start_time": "2024-12-06T17:00:43.706163Z"
    }
   },
   "source": [
    "def contains_aldehyde(smiles):\n",
    "    aldehyde_smarts = '[CX3H1](=O)[#6]' # used SMARTS instead of SMILES code to prevent ambiguity\n",
    "    mol = Chem.MolFromSmiles(smiles)    # converting SMILES code to molecule object\n",
    "    if mol:\n",
    "        return mol.HasSubstructMatch(Chem.MolFromSmarts(aldehyde_smarts)) # converting aldehyde SMARTS to molecule object to\n",
    "    return False                                                          # check for substructure match"
   ],
   "outputs": [],
   "execution_count": 6
  },
  {
   "cell_type": "markdown",
   "metadata": {},
   "source": [
    "**Step 4:** Create function determining number of double bonds (C=O, C=C, etc.)"
   ]
  },
  {
   "cell_type": "code",
   "metadata": {
    "ExecuteTime": {
     "end_time": "2024-12-06T17:00:47.424762Z",
     "start_time": "2024-12-06T17:00:47.422219Z"
    }
   },
   "source": [
    "def count_double_bonds(smiles):\n",
    "    mol = Chem.MolFromSmiles(smiles)\n",
    "    if mol:\n",
    "        return sum([1 for bond in mol.GetBonds() if bond.GetBondType() == Chem.rdchem.BondType.DOUBLE])\n",
    "    return 0"
   ],
   "outputs": [],
   "execution_count": 7
  },
  {
   "cell_type": "markdown",
   "metadata": {},
   "source": [
    "**Step 5:** Create function determining hydrophobicity (LogP)"
   ]
  },
  {
   "cell_type": "code",
   "metadata": {
    "ExecuteTime": {
     "end_time": "2024-12-06T17:00:50.240384Z",
     "start_time": "2024-12-06T17:00:50.237987Z"
    }
   },
   "source": [
    "def calculate_logp(smiles):\n",
    "    mol = Chem.MolFromSmiles(smiles)\n",
    "    if mol:\n",
    "        return Descriptors.MolLogP(mol) # generally, LogP > 0 => lipophilic; LogP < 0 => hydrophilic, but we know it's not that simple\n",
    "    return None"
   ],
   "outputs": [],
   "execution_count": 8
  },
  {
   "cell_type": "markdown",
   "metadata": {},
   "source": [
    "**Step 6:** Combine above functions into one function that will be output as a CSV file"
   ]
  },
  {
   "cell_type": "code",
   "metadata": {
    "ExecuteTime": {
     "end_time": "2024-12-06T17:00:59.597770Z",
     "start_time": "2024-12-06T17:00:59.594738Z"
    }
   },
   "source": [
    "def process_smiles(smiles_list, output_file=\"molecule_properties.csv\"):\n",
    "    \"\"\"\n",
    "    Processes a list of SMILES codes and calculates various properties.\n",
    "    Exports the result as a CSV file and displays the table.\n",
    "    \"\"\"\n",
    "    results = []\n",
    "    for smiles in smiles_list:                      # processing list of SMILES\n",
    "        organic_status = is_organic(smiles)\n",
    "        aldehyde = contains_aldehyde(smiles)\n",
    "        double_bonds = count_double_bonds(smiles)\n",
    "        logp = calculate_logp(smiles)\n",
    "        results.append({                            # adding successive results together\n",
    "            'SMILES': smiles,\n",
    "            'Is Organic': organic_status,\n",
    "            'Contains Aldehyde': aldehyde,\n",
    "            'Number of Double Bonds': double_bonds,\n",
    "            'LogP': logp\n",
    "        })\n",
    "    \n",
    "    df = pd.DataFrame(results)\n",
    "    df.to_csv(output_file, index=False)             # converting results to a data frame and then exporting as CSV\n",
    "    print(f\"Results saved to {output_file}\")\n",
    "    \n",
    "    print(\"\\nGenerated CSV Table:\")                 # printing the CSV\n",
    "    print(df)\n"
   ],
   "outputs": [],
   "execution_count": 9
  },
  {
   "cell_type": "markdown",
   "metadata": {},
   "source": [
    "**Step 7:** Run the function"
   ]
  },
  {
   "cell_type": "code",
   "metadata": {
    "ExecuteTime": {
     "end_time": "2024-12-06T17:01:03.200262Z",
     "start_time": "2024-12-06T17:01:03.190618Z"
    }
   },
   "source": [
    "process_smiles(smiles_list)                        "
   ],
   "outputs": [
    {
     "name": "stdout",
     "output_type": "stream",
     "text": [
      "Results saved to molecule_properties.csv\n",
      "\n",
      "Generated CSV Table:\n",
      "              SMILES  Is Organic  Contains Aldehyde  Number of Double Bonds  \\\n",
      "0  CCCCCC(/C=C/C=O)O        True               True                       2   \n",
      "1          C(C=O)C=O        True               True                       2   \n",
      "2                  O       False              False                       0   \n",
      "3             C=CC=O        True               True                       2   \n",
      "4               CC=O        True               True                       1   \n",
      "5           CCC(C)=O        True              False                       1   \n",
      "\n",
      "     LogP  \n",
      "0  1.6827  \n",
      "1 -0.2257  \n",
      "2 -0.8247  \n",
      "3  0.3713  \n",
      "4  0.2052  \n",
      "5  0.9854  \n"
     ]
    }
   ],
   "execution_count": 10
  },
  {
   "cell_type": "markdown",
   "metadata": {},
   "source": [
    " Now we have all of the data in one spot. We can make (arbitrary) definitions for \"carbonylating,\" \"crosslinking,\" and \"neither.\"\n",
    "\n",
    "**Step 8:** Create a function classifying each molecule based on values in the outputted CSV file"
   ]
  },
  {
   "cell_type": "code",
   "metadata": {
    "ExecuteTime": {
     "end_time": "2024-12-06T17:03:50.792038Z",
     "start_time": "2024-12-06T17:03:50.788525Z"
    }
   },
   "source": [
    "def classify_molecules(input_file=\"molecule_properties.csv\", output_file=\"classified_molecules.csv\"):\n",
    "    \n",
    "    df = pd.read_csv(input_file)\n",
    "    \n",
    "    df['Carbonylating'] = (                     # all of these need to be true, hence the \"&\"\n",
    "        (df['Is Organic'] == True) &\n",
    "        (df['Contains Aldehyde'] == True) &\n",
    "        (df['Number of Double Bonds'] > 0) &    # at least 1 double bond. This is the point of Michael Addition reactions\n",
    "        (df['LogP'] < 1.8)                      # based on LogP of 4HNE, which could be a crosslinking aldehyde\n",
    "    )\n",
    "    \n",
    "    df['Crosslinking'] = (\n",
    "        (df['Is Organic'] == True) &\n",
    "        (df['Contains Aldehyde'] == True) &\n",
    "        (df['Number of Double Bonds'] > 1) &    # MDA and acrolein both contain 2 double bonds and have been observed to crosslink\n",
    "        (df['LogP'] < 1.8)\n",
    "    )\n",
    "    \n",
    "    df['Neither'] = (                           # just one of these has to be true to have it eliminated from carbonylating/crosslinking\n",
    "        (df['Is Organic'] == False) |\n",
    "        (df['Contains Aldehyde'] == False) |\n",
    "        (df['Number of Double Bonds'] == 0) |\n",
    "        (df['LogP'] > 1.8)            \n",
    "    )\n",
    "    \n",
    "    df.to_csv(output_file, index=False)          # making new CSV file with additional columns\n",
    "    print(f\"Updated CSV with classifications saved to {output_file}\")\n",
    "    \n",
    "    print(\"\\nUpdated DataFrame with Classifications:\")\n",
    "    print(df)\n"
   ],
   "outputs": [],
   "execution_count": 11
  },
  {
   "cell_type": "markdown",
   "metadata": {},
   "source": [
    "**Step 9:** Run the function"
   ]
  },
  {
   "cell_type": "code",
   "metadata": {
    "ExecuteTime": {
     "end_time": "2024-12-06T17:03:54.028101Z",
     "start_time": "2024-12-06T17:03:54.020434Z"
    }
   },
   "source": [
    "classify_molecules()"
   ],
   "outputs": [
    {
     "name": "stdout",
     "output_type": "stream",
     "text": [
      "Updated CSV with classifications saved to classified_molecules.csv\n",
      "\n",
      "Updated DataFrame with Classifications:\n",
      "              SMILES  Is Organic  Contains Aldehyde  Number of Double Bonds  \\\n",
      "0  CCCCCC(/C=C/C=O)O        True               True                       2   \n",
      "1          C(C=O)C=O        True               True                       2   \n",
      "2                  O       False              False                       0   \n",
      "3             C=CC=O        True               True                       2   \n",
      "4               CC=O        True               True                       1   \n",
      "5           CCC(C)=O        True              False                       1   \n",
      "\n",
      "     LogP  Carbonylating  Crosslinking  Neither  \n",
      "0  1.6827           True          True    False  \n",
      "1 -0.2257           True          True    False  \n",
      "2 -0.8247          False         False     True  \n",
      "3  0.3713           True          True    False  \n",
      "4  0.2052           True         False    False  \n",
      "5  0.9854          False         False     True  \n"
     ]
    }
   ],
   "execution_count": 12
  },
  {
   "cell_type": "markdown",
   "metadata": {},
   "source": [
    "**Step 10:** Visualize the molecules to compare structural similarities"
   ]
  },
  {
   "cell_type": "code",
   "metadata": {
    "ExecuteTime": {
     "end_time": "2024-12-06T17:04:32.143152Z",
     "start_time": "2024-12-06T17:04:32.116322Z"
    }
   },
   "source": [
    "def visualize_molecules_with_smiles(input_file=\"classified_molecules.csv\"):\n",
    "\n",
    "    df = pd.read_csv(input_file)\n",
    "    \n",
    "    molecules = []\n",
    "    labels = []\n",
    "    for _, row in df.iterrows():\n",
    "        smiles = row['SMILES']\n",
    "        mol = Chem.MolFromSmiles(smiles)    # converting SMILES to Molecule Object to visualize\n",
    "        if mol:\n",
    "            molecules.append(mol)\n",
    "            label = f\"SMILES: {smiles}\\nCarbonylating: {row['Carbonylating']}\\nCrosslinking: {row['Crosslinking']}\"\n",
    "            labels.append(label)            # labelling w/ SMILES string & carbonylating/crosslinking status\n",
    "    \n",
    "\n",
    "    img = Draw.MolsToGridImage(\n",
    "        molecules, \n",
    "        legends=labels, \n",
    "        molsPerRow=3, \n",
    "        subImgSize=(300, 300),\n",
    "        useSVG=False\n",
    "    )\n",
    "    return img\n",
    "\n",
    "img = visualize_molecules_with_smiles()\n",
    "display(img)\n"
   ],
   "outputs": [
    {
     "data": {
      "image/png": "[encoded data removed]",
      "text/plain": [
       "<IPython.core.display.Image object>"
      ]
     },
     "metadata": {},
     "output_type": "display_data"
    }
   ],
   "execution_count": 15
  },
  {
   "metadata": {},
   "cell_type": "code",
   "outputs": [],
   "execution_count": null,
   "source": ""
  }
 ],
 "metadata": {
  "kernelspec": {
   "display_name": "base",
   "language": "python",
   "name": "python3"
  },
  "language_info": {
   "codemirror_mode": {
    "name": "ipython",
    "version": 3
   },
   "file_extension": ".py",
   "mimetype": "text/x-python",
   "name": "python",
   "nbconvert_exporter": "python",
   "pygments_lexer": "ipython3",
   "version": "3.12.3"
  }
 },
 "nbformat": 4,
 "nbformat_minor": 2
}
