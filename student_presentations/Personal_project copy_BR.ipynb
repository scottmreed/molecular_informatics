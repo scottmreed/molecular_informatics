{
 "cells": [
  {
   "cell_type": "markdown",
   "metadata": {},
   "source": [
    "8-oxoG arises in both DNA and RNA during normal cellular processes and our research in the Resendiz lab focuses on one of the enzymes (Polynucleotide Phosphorylase) responsible for degrading oxidatively damaged or \"oxidized\" RNA, and how this degradation has been shown to stall when the PNPase enzyme encounters 8-oxoG. My project has focused on the relationship between the enzyme's stalled degradation and the specific sequence of the RNA being degraded. With this project, I hope to probe the human genome and specifically identify post transcriptional protein coding RNA that could be identified and checked for the specific sequence related to increased 8-oxoG stalling"
   ]
  },
  {
   "cell_type": "markdown",
   "metadata": {},
   "source": [
    "The code will be broken into 2 main portions, the first portion to pull protein RNA sequences from an API, and the second portion to search RNA sequences for a motif "
   ]
  },
  {
   "cell_type": "markdown",
   "metadata": {},
   "source": [
    "The first component of the program was attempted here below, probing the NIH database for protein ID's related to any protein in question, in this example, \"Neprilysin\" is used"
   ]
  },
  {
   "cell_type": "code",
   "execution_count": 1,
   "metadata": {
    "ExecuteTime": {
     "end_time": "2024-11-15T17:20:01.146468Z",
     "start_time": "2024-11-15T17:20:00.594282Z"
    }
   },
   "outputs": [
    {
     "name": "stdout",
     "output_type": "stream",
     "text": [
      "<?xml version=\"1.0\" encoding=\"UTF-8\" ?>\n",
      "<!DOCTYPE eSearchResult PUBLIC \"-//NLM//DTD esearch 20060628//EN\" \"https://eutils.ncbi.nlm.nih.gov/eutils/dtd/20060628/esearch.dtd\">\n",
      "<eSearchResult><Count>12693</Count><RetMax>20</RetMax><RetStart>0</RetStart><IdList>\n",
      "<Id>1838334000</Id>\n",
      "<Id>1838333998</Id>\n",
      "<Id>1756579431</Id>\n",
      "<Id>2843056808</Id>\n",
      "<Id>2842194519</Id>\n",
      "<Id>2842194517</Id>\n",
      "<Id>2842194515</Id>\n",
      "<Id>2841360317</Id>\n",
      "<Id>2841360315</Id>\n",
      "<Id>2841360313</Id>\n",
      "<Id>2841360311</Id>\n",
      "<Id>2841360309</Id>\n",
      "<Id>2841360307</Id>\n",
      "<Id>2841360305</Id>\n",
      "<Id>2841360303</Id>\n",
      "<Id>2841360301</Id>\n",
      "<Id>2841360299</Id>\n",
      "<Id>2841360297</Id>\n",
      "<Id>2841360295</Id>\n",
      "<Id>2841360293</Id>\n",
      "</IdList><TranslationSet/><TranslationStack>   <TermSet>    <Term>Neprilysin[All Fields]</Term>    <Field>All Fields</Field>    <Count>12693</Count>    <Explode>N</Explode>   </TermSet>   <OP>GROUP</OP>  </TranslationStack><QueryTranslation>Neprilysin[All Fields]</QueryTranslation></eSearchResult>\n"
     ]
    }
   ],
   "source": [
    "import requests\n",
    "protein_ids = []\n",
    "def search_ncbi_rna(query):\n",
    "    base_url = \"https://eutils.ncbi.nlm.nih.gov/entrez/eutils/esearch.fcgi\"\n",
    "    params = {\n",
    "        'db': 'nucleotide',\n",
    "        'term': query,\n",
    "        'retmode': 'xml'\n",
    "    }\n",
    "    response = requests.get(base_url, params=params)\n",
    "    return response.text\n",
    "\n",
    "# Example search for \"Neprilysin\"\n",
    "protein_ids = search_ncbi_rna(\"Neprilysin\")\n",
    "print(protein_ids)\n"
   ]
  },
  {
   "cell_type": "markdown",
   "metadata": {},
   "source": [
    "The code block above works to aquire a list of ID's however the ID's aren't really in a workable state, so a converter needs to be built in order to get the ID's in a list that can be plugged back into other functions "
   ]
  },
  {
   "cell_type": "markdown",
   "metadata": {},
   "source": [
    "The Block below combines the ideas above, creating the protein id extractor function that will be used to print the list of ID's"
   ]
  },
  {
   "cell_type": "code",
   "execution_count": 2,
   "metadata": {
    "ExecuteTime": {
     "end_time": "2024-11-15T17:20:07.990187Z",
     "start_time": "2024-11-15T17:20:07.814616Z"
    }
   },
   "outputs": [
    {
     "name": "stdout",
     "output_type": "stream",
     "text": [
      "<?xml version=\"1.0\" encoding=\"UTF-8\" ?>\n",
      "<!DOCTYPE eSearchResult PUBLIC \"-//NLM//DTD esearch 20060628//EN\" \"https://eutils.ncbi.nlm.nih.gov/eutils/dtd/20060628/esearch.dtd\">\n",
      "<eSearchResult><Count>12693</Count><RetMax>20</RetMax><RetStart>0</RetStart><IdList>\n",
      "<Id>1838334000</Id>\n",
      "<Id>1838333998</Id>\n",
      "<Id>1756579431</Id>\n",
      "<Id>2843056808</Id>\n",
      "<Id>2842194519</Id>\n",
      "<Id>2842194517</Id>\n",
      "<Id>2842194515</Id>\n",
      "<Id>2841360317</Id>\n",
      "<Id>2841360315</Id>\n",
      "<Id>2841360313</Id>\n",
      "<Id>2841360311</Id>\n",
      "<Id>2841360309</Id>\n",
      "<Id>2841360307</Id>\n",
      "<Id>2841360305</Id>\n",
      "<Id>2841360303</Id>\n",
      "<Id>2841360301</Id>\n",
      "<Id>2841360299</Id>\n",
      "<Id>2841360297</Id>\n",
      "<Id>2841360295</Id>\n",
      "<Id>2841360293</Id>\n",
      "</IdList><TranslationSet/><TranslationStack>   <TermSet>    <Term>Neprilysin[All Fields]</Term>    <Field>All Fields</Field>    <Count>12693</Count>    <Explode>N</Explode>   </TermSet>   <OP>GROUP</OP>  </TranslationStack><QueryTranslation>Neprilysin[All Fields]</QueryTranslation></eSearchResult>\n",
      "\n",
      "['1838334000', '1838333998', '1756579431', '2843056808', '2842194519', '2842194517', '2842194515', '2841360317', '2841360315', '2841360313', '2841360311', '2841360309', '2841360307', '2841360305', '2841360303', '2841360301', '2841360299', '2841360297', '2841360295', '2841360293']\n"
     ]
    }
   ],
   "source": [
    "import requests\n",
    "import xml.etree.ElementTree as ET\n",
    "\n",
    "def search_ncbi_rna(query):\n",
    "    base_url = \"https://eutils.ncbi.nlm.nih.gov/entrez/eutils/esearch.fcgi\"  #base url to probe the nlm api\n",
    "    params = {\n",
    "        'db': 'nucleotide',\n",
    "        'term': query,\n",
    "        'retmode': 'xml'\n",
    "    }\n",
    "    response = requests.get(base_url, params=params)\n",
    "    return response.text\n",
    "\n",
    "def extract_protein_ids(xml_response):\n",
    "    protein_ids = []\n",
    "    root = ET.fromstring(xml_response)\n",
    "    \n",
    "    # Iterate over the XML structure to find IDs\n",
    "    for id_elem in root.findall('.//Id'): #the root variable is a way of opening and examining the xml file, and the .findall command helps identify every 'id' \n",
    "        protein_ids.append(id_elem.text)  #the id_elem is a new variable basically appending the protein id to the variable from the xml file\n",
    "    \n",
    "    return protein_ids\n",
    "\n",
    "# Example search for \"Neprilysin\"\n",
    "xml_results = search_ncbi_rna(\"Neprilysin\")\n",
    "print(xml_results)\n",
    "protein_ids = extract_protein_ids(xml_results)\n",
    "\n",
    "# Print the list of protein IDs\n",
    "print(protein_ids)\n"
   ]
  },
  {
   "cell_type": "markdown",
   "metadata": {},
   "source": [
    "Now that we have a workable list of protein ID's they can be used in yet another function to find the genome sequences for each of the ID's in the list, which is created and added on in the block below."
   ]
  },
  {
   "cell_type": "code",
   "outputs": [],
   "source": [
    "import requests\n",
    "import xml.etree.ElementTree as ET\n",
    "import time"
   ],
   "metadata": {
    "collapsed": false,
    "ExecuteTime": {
     "end_time": "2024-11-15T17:20:59.104583Z",
     "start_time": "2024-11-15T17:20:59.088060Z"
    }
   },
   "execution_count": 8
  },
  {
   "cell_type": "code",
   "execution_count": null,
   "metadata": {},
   "outputs": [],
   "source": [
    "import requests\n",
    "import xml.etree.ElementTree as ET\n",
    "import time\n",
    "\n",
    "def search_ncbi_rna(query):\n",
    "    base_url = \"https://eutils.ncbi.nlm.nih.gov/entrez/eutils/esearch.fcgi\"\n",
    "    params = {\n",
    "        'db': 'nucleotide',\n",
    "        'term': query,\n",
    "        'retmode': 'xml'\n",
    "    }\n",
    "    response = requests.get(base_url, params=params)\n",
    "    return response.text\n",
    "\n",
    "def extract_protein_ids(xml_response):\n",
    "    protein_ids = []\n",
    "    root = ET.fromstring(xml_response)\n",
    "    \n",
    "    for id_elem in root.findall('.//Id'):\n",
    "        protein_ids.append(id_elem.text)\n",
    "        time.sleep(1)\n",
    "    \n",
    "    return protein_ids\n",
    "\n",
    "def fetch_rna_sequence(protein_id):\n",
    "    base_url = \"https://eutils.ncbi.nlm.nih.gov/entrez/eutils/efetch.fcgi\"\n",
    "    params = {\n",
    "        'db': 'nucleotide',\n",
    "        'id': protein_id,\n",
    "        'rettype': 'fasta',\n",
    "        'retmode': 'text'\n",
    "    }\n",
    "    response = requests.get(base_url, params=params)\n",
    "    \n",
    "    if response.status_code == 200:\n",
    "        return response.text\n",
    "    else:\n",
    "        print(f\"Error fetching RNA for ID {protein_id}: {response.status_code}\")\n",
    "        return None\n",
    "\n",
    "def main():\n",
    "    # Search for RNA associated with the protein\n",
    "    query = \"Neprilysin\"\n",
    "    xml_results = search_ncbi_rna(query)\n",
    "    protein_ids = extract_protein_ids(xml_results)\n",
    "    \n",
    "    # Fetch RNA sequences for the protein IDs\n",
    "    rna_sequences = ['GGGCA']\n",
    "    for protein_id in protein_ids:\n",
    "        rna_sequence = fetch_rna_sequence(protein_id)\n",
    "        if rna_sequence:\n",
    "            rna_sequences.append(rna_sequence)\n",
    "        \n",
    "        # Delay to avoid hitting the API rate limit\n",
    "        time.sleep(1)  # Sleep for 1 second between requests\n",
    "    \n",
    "    # Print all RNA sequences\n",
    "    for seq in rna_sequences:\n",
    "        print(seq)\n",
    "\n",
    "if __name__ == \"__main__\":\n",
    "    main()\n"
   ]
  },
  {
   "cell_type": "markdown",
   "metadata": {},
   "source": [
    "The output above is closer to what was originally dsired, where the genome/full sequence data for proteins could be opened and interacted with in the python environment, now the only piece that is missing is a function to scan through the full sequences and search for iterations of a specific sequence in question."
   ]
  },
  {
   "cell_type": "markdown",
   "metadata": {},
   "source": [
    "# The portion below are cleaned and more succinct versions of the larger code blocks above, creating the final combinations of functions to complete the desired task"
   ]
  },
  {
   "cell_type": "markdown",
   "metadata": {},
   "source": [
    "The first portion of the code and the first function is the API query to get the xml file of ID's"
   ]
  },
  {
   "cell_type": "code",
   "execution_count": 3,
   "metadata": {
    "ExecuteTime": {
     "end_time": "2024-11-15T17:20:22.777187Z",
     "start_time": "2024-11-15T17:20:22.770235Z"
    }
   },
   "outputs": [],
   "source": [
    "def search_ncbi_rna(query):\n",
    "    base_url = \"https://eutils.ncbi.nlm.nih.gov/entrez/eutils/esearch.fcgi\"\n",
    "    params = {\n",
    "        'db': 'nucleotide',\n",
    "        'term': query,\n",
    "        'retmode': 'xml'\n",
    "    }\n",
    "    response = requests.get(base_url, params=params)\n",
    "    return response.text"
   ]
  },
  {
   "cell_type": "markdown",
   "metadata": {},
   "source": [
    "The following portion of code is responsible for pulling out the ID's from the xml sheet and transform them into a usable format, ie. a list of individual id's to be plugged back into a second API in order to pull the genome for each ID"
   ]
  },
  {
   "cell_type": "code",
   "execution_count": 4,
   "metadata": {
    "ExecuteTime": {
     "end_time": "2024-11-15T17:20:24.278176Z",
     "start_time": "2024-11-15T17:20:24.271771Z"
    }
   },
   "outputs": [],
   "source": [
    "def extract_protein_ids(xml_response):\n",
    "    protein_ids = []\n",
    "    root = ET.fromstring(xml_response)\n",
    "    \n",
    "    for id_elem in root.findall('.//Id'):\n",
    "        protein_ids.append(id_elem.text)\n",
    "        time.sleep(1)\n",
    "    \n",
    "    return protein_ids\n"
   ]
  },
  {
   "cell_type": "markdown",
   "metadata": {},
   "source": [
    "The code below here is responsible for grabbing the full genome of each of the protein ID's this will be used in a for loop in the main portion "
   ]
  },
  {
   "cell_type": "code",
   "execution_count": 5,
   "metadata": {
    "ExecuteTime": {
     "end_time": "2024-11-15T17:20:26.159075Z",
     "start_time": "2024-11-15T17:20:26.153859Z"
    }
   },
   "outputs": [],
   "source": [
    "def fetch_rna_sequence(protein_id):\n",
    "    base_url = \"https://eutils.ncbi.nlm.nih.gov/entrez/eutils/efetch.fcgi\"\n",
    "    params = {\n",
    "        'db': 'nucleotide',\n",
    "        'id': protein_id,\n",
    "        'rettype': 'fasta',\n",
    "        'retmode': 'text'\n",
    "    }\n",
    "    response = requests.get(base_url, params=params)\n",
    "    \n",
    "    if response.status_code == 200:\n",
    "        return response.text\n",
    "    else:\n",
    "        print(f\"Error fetching RNA for ID {protein_id}: {response.status_code}\")\n",
    "    return None\n"
   ]
  },
  {
   "cell_type": "markdown",
   "metadata": {},
   "source": [
    "The short portion below this is responsible for searching through the full sequences and count the number of times the small fragment sequence we are looking for shows up. This will be useful when probing proteins becuase if the specific sequence is much more present in certain proteins than others, this might increase the probablility of a potential site of oxidation and mutation"
   ]
  },
  {
   "cell_type": "code",
   "execution_count": 6,
   "metadata": {
    "ExecuteTime": {
     "end_time": "2024-11-15T17:20:28.239913Z",
     "start_time": "2024-11-15T17:20:28.236108Z"
    }
   },
   "outputs": [],
   "source": [
    "def count_sequence_occurrences(sequence, rna_sequence):\n",
    "    return sequence.count(rna_sequence)"
   ]
  },
  {
   "cell_type": "markdown",
   "metadata": {},
   "source": [
    "Below is the main function, making use of all the previous functions above and combining them in a for loop in order to pull the nucleotide sequence data for each of the protein and RNA fragments identified by the first API interogation, and then counting the number of times the specific RNA sequence arises. This can then be used to identify notable RNA fragments or proteins for further investigation"
   ]
  },
  {
   "cell_type": "code",
   "execution_count": 9,
   "metadata": {
    "ExecuteTime": {
     "end_time": "2024-11-15T17:21:24.779877Z",
     "start_time": "2024-11-15T17:21:03.049002Z"
    }
   },
   "outputs": [
    {
     "ename": "KeyboardInterrupt",
     "evalue": "",
     "output_type": "error",
     "traceback": [
      "\u001B[0;31m---------------------------------------------------------------------------\u001B[0m",
      "\u001B[0;31mKeyboardInterrupt\u001B[0m                         Traceback (most recent call last)",
      "Cell \u001B[0;32mIn[9], line 26\u001B[0m\n\u001B[1;32m     23\u001B[0m         \u001B[38;5;28mprint\u001B[39m(\u001B[38;5;124mf\u001B[39m\u001B[38;5;124m\"\u001B[39m\u001B[38;5;124mProtein ID: \u001B[39m\u001B[38;5;132;01m{\u001B[39;00mprotein_id\u001B[38;5;132;01m}\u001B[39;00m\u001B[38;5;124m, Occurrences of \u001B[39m\u001B[38;5;124m'\u001B[39m\u001B[38;5;132;01m{\u001B[39;00mspecific_rna_sequence\u001B[38;5;132;01m}\u001B[39;00m\u001B[38;5;124m'\u001B[39m\u001B[38;5;124m: \u001B[39m\u001B[38;5;132;01m{\u001B[39;00mcount\u001B[38;5;132;01m}\u001B[39;00m\u001B[38;5;124m\"\u001B[39m)\n\u001B[1;32m     25\u001B[0m \u001B[38;5;28;01mif\u001B[39;00m \u001B[38;5;18m__name__\u001B[39m \u001B[38;5;241m==\u001B[39m \u001B[38;5;124m\"\u001B[39m\u001B[38;5;124m__main__\u001B[39m\u001B[38;5;124m\"\u001B[39m:\n\u001B[0;32m---> 26\u001B[0m     \u001B[43mmain\u001B[49m\u001B[43m(\u001B[49m\u001B[43m)\u001B[49m\n",
      "Cell \u001B[0;32mIn[9], line 19\u001B[0m, in \u001B[0;36mmain\u001B[0;34m()\u001B[0m\n\u001B[1;32m     16\u001B[0m         occurrences[protein_id] \u001B[38;5;241m=\u001B[39m count\n\u001B[1;32m     18\u001B[0m     \u001B[38;5;66;03m# Delay to avoid hitting the API rate limit\u001B[39;00m\n\u001B[0;32m---> 19\u001B[0m     \u001B[43mtime\u001B[49m\u001B[38;5;241;43m.\u001B[39;49m\u001B[43msleep\u001B[49m\u001B[43m(\u001B[49m\u001B[38;5;241;43m1\u001B[39;49m\u001B[43m)\u001B[49m  \u001B[38;5;66;03m# Sleep for 1 second between requests\u001B[39;00m\n\u001B[1;32m     21\u001B[0m \u001B[38;5;66;03m# Print the results\u001B[39;00m\n\u001B[1;32m     22\u001B[0m \u001B[38;5;28;01mfor\u001B[39;00m protein_id, count \u001B[38;5;129;01min\u001B[39;00m occurrences\u001B[38;5;241m.\u001B[39mitems():\n",
      "\u001B[0;31mKeyboardInterrupt\u001B[0m: "
     ]
    }
   ],
   "source": [
    "def main():\n",
    "    # Search for RNA associated with the protein\n",
    "    query = \"Neprilysin\"\n",
    "    xml_results = search_ncbi_rna(query)\n",
    "    protein_ids = extract_protein_ids(xml_results)\n",
    "    \n",
    "    # Define the RNA sequence you want to count\n",
    "    specific_rna_sequence = \"GGTTA\"  # Example RNA sequence\n",
    "\n",
    "    # Fetch RNA sequences for the protein IDs\n",
    "    occurrences = {}\n",
    "    for protein_id in protein_ids:\n",
    "        rna_sequence = fetch_rna_sequence(protein_id)\n",
    "        if rna_sequence:\n",
    "            count = count_sequence_occurrences(rna_sequence, specific_rna_sequence)\n",
    "            occurrences[protein_id] = count\n",
    "        \n",
    "        # Delay to avoid hitting the API rate limit\n",
    "        time.sleep(1)  # Sleep for 1 second between requests\n",
    "    \n",
    "    # Print the results\n",
    "    for protein_id, count in occurrences.items():\n",
    "        print(f\"Protein ID: {protein_id}, Occurrences of '{specific_rna_sequence}': {count}\")\n",
    "\n",
    "if __name__ == \"__main__\":\n",
    "    main()"
   ]
  },
  {
   "cell_type": "code",
   "outputs": [],
   "source": [],
   "metadata": {
    "collapsed": false
   }
  }
 ],
 "metadata": {
  "kernelspec": {
   "display_name": "molecular_iformatics",
   "language": "python",
   "name": "python3"
  },
  "language_info": {
   "codemirror_mode": {
    "name": "ipython",
    "version": 3
   },
   "file_extension": ".py",
   "mimetype": "text/x-python",
   "name": "python",
   "nbconvert_exporter": "python",
   "pygments_lexer": "ipython3",
   "version": "3.11.9"
  }
 },
 "nbformat": 4,
 "nbformat_minor": 2
}
