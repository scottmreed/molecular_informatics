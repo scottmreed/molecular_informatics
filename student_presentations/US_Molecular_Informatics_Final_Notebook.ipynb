{
 "cells": [
  {
   "cell_type": "markdown",
   "metadata": {},
   "source": [
    "\n",
    "# Molecular Informatics: Chemical Property and Structure Retrieval\n",
    "\n",
    "## 1. Introduction and Objectives\n",
    "In this notebook, we explore the properties and structures of chemical compounds using data from the PubChem database. By entering the names of chemical compounds, users can retrieve:\n",
    "- Molecular formula and weight\n",
    "- Experimental data such as melting point, boiling point, density, and solubility\n",
    "- Molecular structure visualizations\n",
    "\n",
    "### Learning Objectives\n",
    "1. Understand how to use APIs (pug_rest and pug_view) to retrieve chemical data.\n",
    "2. Learn to parse and display chemical data in Python.\n",
    "3. Understand data parsing and cleaning for concise chemical property reports\n",
    "4. Visualize chemical structures using RDKit.\n",
    "\n",
    "Let's start by loading the required libraries and defining functions to retrieve data from PubChem.\n"
   ]
  },
  {
   "cell_type": "markdown",
   "metadata": {},
   "source": [
    "## 2. Required Libraries\n",
    "\n",
    "Import the necessary libraries for API calls, data processing, and visualization."
   ]
  },
  {
   "cell_type": "code",
   "execution_count": null,
   "metadata": {},
   "outputs": [],
   "source": [
    "# Import necessary libraries\n",
    "import requests  # For PubChem API requests\n",
    "import pandas as pd  # For tabular data handling\n",
    "from rdkit import Chem  # RDKit for molecular representation\n",
    "from rdkit.Chem import Draw  # RDKit for molecular visualization\n",
    "from IPython.display import display  # To display images in the notebook\n",
    "import re  # For data cleaning\n",
    "\n",
    "# Install ipywidgets if not already installed\n",
    "# Run the following in the terminal or notebook if you encounter an issue:\n",
    "# pip install ipywidgets\n",
    "import ipywidgets as widgets  # For interactive widgets\n"
   ]
  },
  {
   "cell_type": "markdown",
   "metadata": {},
   "source": [
    "## 3. Function Definitions\n",
    "\n",
    "3.1 CID Retrieval\n",
    "The first step is to retrieve the PubChem Compound Identifier (CID) for a given chemical name."
   ]
  },
  {
   "cell_type": "code",
   "execution_count": null,
   "metadata": {},
   "outputs": [],
   "source": [
    "def get_cid(chemical_name):\n",
    "    \"\"\"\n",
    "    Fetch the CID (Compound Identifier) for a chemical name using the PubChem API.\n",
    "    \"\"\"\n",
    "    url = f\"https://pubchem.ncbi.nlm.nih.gov/rest/pug/compound/name/{chemical_name}/cids/JSON\"\n",
    "    try:\n",
    "        response = requests.get(url)\n",
    "        response.raise_for_status()\n",
    "        return response.json()[\"IdentifierList\"][\"CID\"][0]\n",
    "    except Exception as e:\n",
    "        print(f\"Error fetching CID for {chemical_name}: {e}\")\n",
    "        return None\n"
   ]
  },
  {
   "cell_type": "markdown",
   "metadata": {},
   "source": [
    "## 3.2 Explanation of fetch_chemical_data Function\n",
    "Explanation of fetch_chemical_data Function\n",
    "\n",
    "### Explanation of fetch_chemical_data Function\n",
    "\n",
    "The fetch_chemical_data function in this notebook is designed to retrieve two types of data from the PubChem database for a given compound: \n",
    "1. **Basic Molecular Properties** (e.g., Molecular Formula, Molecular Weight, SMILES string)\n",
    "2. **Experimental Properties** (e.g., Melting Point, Boiling Point, Density, Solubility)\n",
    "\n",
    "These two categories require different API endpoints due to the nature of PubChem's data organization:\n",
    "\n",
    "#### 1. Retrieving Basic Molecular Properties Using pug_rest\n",
    "\n",
    "The pug_rest endpoint is a standard REST API used for retrieving basic chemical data quickly and efficiently. This endpoint provides properties such as the **Molecular Formula, Molecular Weight, and SMILES** string, which are straightforward values associated with each compound in PubChem’s database. We can fetch these basic properties with the following API structure:\n",
    "```python\n",
    "   prop_url = f\"https://pubchem.ncbi.nlm.nih.gov/rest/pug/compound/cid/{cid}/property/MolecularWeight,MolecularFormula,IsomericSMILES/JSON\""
   ]
  },
  {
   "cell_type": "code",
   "execution_count": null,
   "metadata": {},
   "outputs": [],
   "source": [
    "def fetch_basic_properties(cid):\n",
    "    url = f\"https://pubchem.ncbi.nlm.nih.gov/rest/pug/compound/cid/{cid}/property/MolecularWeight,MolecularFormula,CanonicalSMILES/JSON\"\n",
    "    try:\n",
    "        response = requests.get(url)\n",
    "        response.raise_for_status()\n",
    "        properties = response.json()[\"PropertyTable\"][\"Properties\"][0]\n",
    "        return {\n",
    "            \"Molecular Formula\": properties.get(\"MolecularFormula\", \"N/A\"),\n",
    "            \"Molecular Weight\": f\"{properties.get('MolecularWeight', 'N/A')} g/mol\",\n",
    "            \"SMILES\": properties.get(\"CanonicalSMILES\", None)\n",
    "        }\n",
    "    except Exception as e:\n",
    "        print(f\"Error fetching basic properties for CID {cid}: {e}\")\n",
    "        return {}"
   ]
  },
  {
   "cell_type": "markdown",
   "metadata": {},
   "source": [
    "## 3.4 Implementation of fetch_chemical_data"
   ]
  },
  {
   "cell_type": "code",
   "execution_count": null,
   "metadata": {},
   "outputs": [],
   "source": [
    "def fetch_chemical_data(cid):\n",
    "    \"\"\"\n",
    "    Retrieve molecular and experimental data for a given CID.\n",
    "    \"\"\"\n",
    "    # Initialize data structures\n",
    "    properties = {\"Molecular Formula\": \"N/A\", \"Molecular Weight\": \"N/A\", \"SMILES\": \"\"}\n",
    "    experimental_data = {\"Melting Point\": \"N/A\", \"Boiling Point\": \"N/A\", \"Solubility\": \"N/A\"}\n",
    "    hazards = \"N/A\"\n",
    "\n",
    "    # Fetch basic properties\n",
    "    prop_url = f\"https://pubchem.ncbi.nlm.nih.gov/rest/pug/compound/cid/{cid}/property/MolecularWeight,MolecularFormula,CanonicalSMILES/JSON\"\n",
    "    try:\n",
    "        response = requests.get(prop_url)\n",
    "        response.raise_for_status()\n",
    "        prop_data = response.json()[\"PropertyTable\"][\"Properties\"][0]\n",
    "        properties.update({\n",
    "            \"Molecular Formula\": prop_data.get(\"MolecularFormula\", \"N/A\"),\n",
    "            \"Molecular Weight\": f\"{prop_data.get('MolecularWeight', 'N/A')} g/mol\",\n",
    "            \"SMILES\": prop_data.get(\"CanonicalSMILES\", \"\")\n",
    "        })\n",
    "    except Exception as e:\n",
    "        print(f\"Error fetching properties for CID {cid}: {e}\")\n",
    "\n",
    "    # Fetch experimental data\n",
    "    exp_url = f\"https://pubchem.ncbi.nlm.nih.gov/rest/pug_view/data/compound/{cid}/JSON\"\n",
    "    try:\n",
    "        response = requests.get(exp_url)\n",
    "        response.raise_for_status()\n",
    "        sections = response.json().get(\"Record\", {}).get(\"Section\", [])\n",
    "        for section in sections:\n",
    "            if section.get(\"TOCHeading\") == \"Chemical and Physical Properties\":\n",
    "                for sub_section in section.get(\"Section\", []):\n",
    "                    if sub_section.get(\"TOCHeading\") == \"Experimental Properties\":\n",
    "                        for prop in sub_section.get(\"Section\", []):\n",
    "                            heading = prop.get(\"TOCHeading\")\n",
    "                            if heading in experimental_data:\n",
    "                                values = [\n",
    "                                    info.get(\"Value\", {}).get(\"StringWithMarkup\", [{}])[0].get(\"String\", \"\")\n",
    "                                    for info in prop.get(\"Information\", [])\n",
    "                                ]\n",
    "                                if heading in [\"Melting Point\", \"Boiling Point\"]:\n",
    "                                    experimental_data[heading] = \", \".join(v for v in values if \"°C\" in v) or \"N/A\"\n",
    "                                elif heading == \"Solubility\":\n",
    "                                    experimental_data[heading] = clean_solubility(values)\n",
    "    except Exception as e:\n",
    "        print(f\"Error fetching experimental data for CID {cid}: {e}\")\n",
    "\n",
    "    # Fetch hazard statements\n",
    "    hazards = fetch_hazard_statements(cid)\n",
    "\n",
    "    return properties, experimental_data, hazards\n"
   ]
  },
  {
   "cell_type": "markdown",
   "metadata": {},
   "source": [
    "\n",
    "\n",
    "### 2. Why `pug_view` is Required for Experimental Properties\n",
    "\n",
    "Experimental data (such as melting point, boiling point, density, and solubility) often involve detailed records with multiple data points, including conditions (e.g., temperature and pressure), source citations, and formatting for easy readability. Such data is stored in a more hierarchical and structured format, which `pug_rest` does not support.\n",
    "\n",
    "To handle this, PubChem provides the `pug_view` endpoint, which allows access to the more complex records, including:\n",
    "\n",
    "- **Hierarchical sections** (organized under \"Chemical and Physical Properties\" and \"Experimental Properties\").\n",
    "- **Details on experimental conditions** and **source references** for each measurement.\n",
    "\n",
    "Using the `pug_view` endpoint, we fetch experimental data as follows:\n",
    "\n",
    "```python\n",
    "exp_url = f\"https://pubchem.ncbi.nlm.nih.gov/rest/pug_view/data/compound/{cid}/JSON\""
   ]
  },
  {
   "cell_type": "code",
   "execution_count": null,
   "metadata": {},
   "outputs": [],
   "source": [
    "def clean_solubility(values):\n",
    "    \"\"\"\n",
    "    Remove metadata like 'NTP, 1992' from solubility values.\n",
    "    \"\"\"\n",
    "    cleaned_values = []\n",
    "    for value in values:\n",
    "        cleaned_value = re.sub(r'\\s*\\(.*?\\)|\\s*\\[.*?\\]', '', value).strip()\n",
    "        if cleaned_value:\n",
    "            cleaned_values.append(cleaned_value)\n",
    "    return \", \".join(cleaned_values) if cleaned_values else \"N/A\"\n",
    "\n",
    "def fetch_experimental_data(cid):\n",
    "    \"\"\"\n",
    "    Retrieve experimental data (melting point, boiling point, solubility) using the PubChem API.\n",
    "    \"\"\"\n",
    "    url = f\"https://pubchem.ncbi.nlm.nih.gov/rest/pug_view/data/compound/{cid}/JSON\"\n",
    "    experimental_data = {\"Melting Point\": \"N/A\", \"Boiling Point\": \"N/A\", \"Solubility\": \"N/A\"}\n",
    "    try:\n",
    "        response = requests.get(url)\n",
    "        response.raise_for_status()\n",
    "        sections = response.json().get(\"Record\", {}).get(\"Section\", [])\n",
    "        for section in sections:\n",
    "            if section.get(\"TOCHeading\") == \"Chemical and Physical Properties\":\n",
    "                for sub_section in section.get(\"Section\", []):\n",
    "                    if sub_section.get(\"TOCHeading\") == \"Experimental Properties\":\n",
    "                        for prop in sub_section.get(\"Section\", []):\n",
    "                            heading = prop.get(\"TOCHeading\")\n",
    "                            if heading in experimental_data:\n",
    "                                values = [info.get(\"Value\", {}).get(\"StringWithMarkup\", [{}])[0].get(\"String\", \"\")\n",
    "                                          for info in prop.get(\"Information\", [])]\n",
    "                                if heading in [\"Melting Point\", \"Boiling Point\"]:\n",
    "                                    experimental_data[heading] = \", \".join(v for v in values if \"°C\" in v) or \"N/A\"\n",
    "                                elif heading == \"Solubility\":\n",
    "                                    experimental_data[heading] = clean_solubility(values)\n",
    "        return experimental_data\n",
    "    except Exception as e:\n",
    "        print(f\"Error fetching experimental data for CID {cid}: {e}\")\n",
    "        return experimental_data\n"
   ]
  },
  {
   "cell_type": "markdown",
   "metadata": {},
   "source": [
    "### 3.3 Why Hazard Information Retrieval Differs\n",
    "\n",
    "Hazard information retrieval differs significantly from basic molecular properties or experimental data because of the following reasons:\n",
    "\n",
    "- **Complexity of Data**: Hazard classifications include detailed regulatory information, such as GHS (Globally Harmonized System) codes, hazard statements, and warning labels.\n",
    "- **Separate API Sections**: Hazard information is stored in the \"Safety and Hazards\" section of the `pug_view` hierarchy, requiring specific parsing logic to navigate the nested structure.\n",
    "\n",
    "To ensure the hazard data is readable and concise, the following steps are taken during data cleaning:\n",
    "\n",
    "- **Removal of Regulatory Codes**: Strings like \"H225\" or \"H319\" are omitted as they are not user-friendly.\n",
    "- **Exclusion of Metadata**: Annotations like \"[EU Classification]\" are stripped from the hazard statements.\n",
    "- **Elimination of Redundant Phrases**: Repeated or unnecessary text is removed to improve clarity."
   ]
  },
  {
   "cell_type": "code",
   "execution_count": null,
   "metadata": {},
   "outputs": [],
   "source": [
    "def fetch_hazard_statements(cid):\n",
    "    \"\"\"\n",
    "    Fetch and parse hazard information for a given CID from the \"Safety and Hazards\" section.\n",
    "    \"\"\"\n",
    "    url = f\"https://pubchem.ncbi.nlm.nih.gov/rest/pug_view/data/compound/{cid}/JSON\"\n",
    "    hazard_statements = []\n",
    "    try:\n",
    "        response = requests.get(url)\n",
    "        response.raise_for_status()\n",
    "        sections = response.json().get(\"Record\", {}).get(\"Section\", [])\n",
    "        for section in sections:\n",
    "            if section.get(\"TOCHeading\") == \"Safety and Hazards\":\n",
    "                for sub_section in section.get(\"Section\", []):\n",
    "                    if sub_section.get(\"TOCHeading\") == \"Hazards Identification\":\n",
    "                        for ghs_section in sub_section.get(\"Section\", []):\n",
    "                            if ghs_section.get(\"TOCHeading\") == \"GHS Classification\":\n",
    "                                for info in ghs_section.get(\"Information\", []):\n",
    "                                    if info[\"Name\"] == \"GHS Hazard Statements\":\n",
    "                                        hazard_statements += [\n",
    "                                            statement['String'] for statement in info[\"Value\"][\"StringWithMarkup\"]\n",
    "                                        ]\n",
    "        return clean_hazard_descriptions(hazard_statements)\n",
    "    except Exception as e:\n",
    "        print(f\"Error fetching hazard statements for CID {cid}: {e}\")\n",
    "        return \"N/A\"\n"
   ]
  },
  {
   "cell_type": "markdown",
   "metadata": {},
   "source": [
    "## 4. Parse and Clean Hazard Information\n",
    "\n",
    "Hazard classifications include regulatory details, such as GHS codes and warnings. This function parses and cleans hazard data to remove redundant and unnecessary information.\n"
   ]
  },
  {
   "cell_type": "code",
   "execution_count": null,
   "metadata": {},
   "outputs": [],
   "source": [
    "def clean_hazard_descriptions(statements):\n",
    "    \"\"\"\n",
    "    Clean hazard descriptions by removing duplicates, regulatory codes, and unnecessary metadata.\n",
    "    \"\"\"\n",
    "    cleaned_statements = []\n",
    "    seen_descriptions = set()\n",
    "\n",
    "    for statement in statements:\n",
    "        hazards = [s.strip() for s in statement.split(\";\")]\n",
    "        for hazard in hazards:\n",
    "            hazard = re.sub(r'\\bH\\d{3}\\b', '', hazard)\n",
    "            hazard = re.sub(r'\\s*\\[.*?\\]|\\(.*?\\)\\s*', '', hazard)\n",
    "            hazard_lower = hazard.lower()\n",
    "            if hazard and hazard_lower not in seen_descriptions:\n",
    "                cleaned_statements.append(hazard)\n",
    "                seen_descriptions.add(hazard_lower)\n",
    "\n",
    "    return \", \".join(cleaned_statements) if cleaned_statements else \"N/A\"\n"
   ]
  },
  {
   "cell_type": "markdown",
   "metadata": {},
   "source": [
    "## 5. Fetch Molecular Structures\n",
    "\n",
    "Retrieve the molecular structure from SMILES and generate an RDKit object for visualization.\n"
   ]
  },
  {
   "cell_type": "code",
   "execution_count": null,
   "metadata": {},
   "outputs": [],
   "source": [
    "def fetch_structure(smiles):\n",
    "    \"\"\"\n",
    "    Generate a molecular structure image from a SMILES string using RDKit.\n",
    "    \"\"\"\n",
    "    try:\n",
    "        mol = Chem.MolFromSmiles(smiles)\n",
    "        return mol if mol else None\n",
    "    except Exception as e:\n",
    "        print(f\"Error generating structure for SMILES {smiles}: {e}\")\n",
    "        return None\n"
   ]
  },
  {
   "cell_type": "markdown",
   "metadata": {},
   "source": [
    "## 7. Fetch and Display Data for Multiple Compounds\n",
    "\n",
    "This main function retrieves chemical data, including structures, and organizes the results into a table.\n"
   ]
  },
  {
   "cell_type": "code",
   "execution_count": null,
   "metadata": {},
   "outputs": [],
   "source": [
    "def fetch_chemical_data(chemical_names):\n",
    "    data_rows = []\n",
    "    structures = []\n",
    "    for chemical_name in chemical_names:\n",
    "        cid = get_cid(chemical_name)\n",
    "        if cid:\n",
    "            basic_properties = fetch_basic_properties(cid)\n",
    "            experimental_data = fetch_experimental_data(cid)\n",
    "            hazards = fetch_hazard_statements(cid)\n",
    "            smiles = basic_properties.get(\"SMILES\", \"\")\n",
    "            mol = fetch_structure(smiles) if smiles else None\n",
    "            if mol:\n",
    "                structures.append((chemical_name, mol))\n",
    "            data_rows.append({\n",
    "                \"Chemical Name\": chemical_name,\n",
    "                \"Molecular Formula\": basic_properties.get(\"Molecular Formula\", \"N/A\"),\n",
    "                \"Molecular Weight\": basic_properties.get(\"Molecular Weight\", \"N/A\"),\n",
    "                \"Melting Point (°C)\": experimental_data.get(\"Melting Point\", \"N/A\"),\n",
    "                \"Boiling Point (°C)\": experimental_data.get(\"Boiling Point\", \"N/A\"),\n",
    "                \"Solubility\": experimental_data.get(\"Solubility\", \"N/A\"),\n",
    "                \"Hazards\": hazards\n",
    "            })\n",
    "        else:\n",
    "            data_rows.append({\n",
    "                \"Chemical Name\": chemical_name,\n",
    "                \"Molecular Formula\": \"Error\",\n",
    "                \"Molecular Weight\": \"Error\",\n",
    "                \"Melting Point (°C)\": \"Error\",\n",
    "                \"Boiling Point (°C)\": \"Error\",\n",
    "                \"Solubility\": \"Error\",\n",
    "                \"Hazards\": \"Error\"\n",
    "            })\n",
    "    return pd.DataFrame(data_rows), structures\n"
   ]
  },
  {
   "cell_type": "markdown",
   "metadata": {},
   "source": [
    "## 8. Interactive Input and Results Display\n",
    "Enter chemical names to fetch data, display in a scrollable table, and visualize molecular structures.\n"
   ]
  },
  {
   "cell_type": "code",
   "execution_count": null,
   "metadata": {},
   "outputs": [],
   "source": [
    "def display_scrollable_table(df):\n",
    "    styled_df = df.style.set_table_attributes(\"style='display:inline'\")\n",
    "    styled_df = styled_df.set_properties(**{'white-space': 'pre-wrap'})  # Enable text wrapping\n",
    "    output = widgets.Output()\n",
    "    with output:\n",
    "        display(styled_df)\n",
    "    scrollable_widget = widgets.VBox([\n",
    "        widgets.Label(\"Chemical Data Table\"),\n",
    "        widgets.HBox([\n",
    "            widgets.Output(layout=widgets.Layout(height='400px', overflow_y='scroll')),\n",
    "            output\n",
    "        ])\n",
    "    ])\n",
    "    display(scrollable_widget)\n",
    "\n",
    "def display_structures(structures):\n",
    "    for name, mol in structures:\n",
    "        print(f\"Structure of {name}:\")\n",
    "        display(Draw.MolToImage(mol, size=(150, 150)))"
   ]
  },
  {
   "cell_type": "markdown",
   "metadata": {},
   "source": [
    "# 9. User input and execution"
   ]
  },
  {
   "cell_type": "code",
   "execution_count": null,
   "metadata": {},
   "outputs": [],
   "source": [
    "\n",
    "chemical_names_input = input(\"Enter chemical names separated by commas: \")\n",
    "chemical_names = [name.strip() for name in chemical_names_input.split(\",\") if name.strip()]\n",
    "\n",
    "chemical_data_df, structures = fetch_chemical_data(chemical_names)\n",
    "display_scrollable_table(chemical_data_df)\n",
    "display_structures(structures)"
   ]
  },
  {
   "cell_type": "markdown",
   "metadata": {},
   "source": [
    "## 10. Conclusion\n",
    "\n",
    "This notebook demonstrates the use of PubChem APIs for retrieving molecular and experimental properties, hazard information, and molecular structures. By combining pug_rest and pug_view, we efficiently handle different types of chemical data."
   ]
  }
 ],
 "metadata": {
  "kernelspec": {
   "display_name": "molecular_informatics-c",
   "language": "python",
   "name": "python3"
  },
  "language_info": {
   "codemirror_mode": {
    "name": "ipython",
    "version": 3
   },
   "file_extension": ".py",
   "mimetype": "text/x-python",
   "name": "python",
   "nbconvert_exporter": "python",
   "pygments_lexer": "ipython3",
   "version": "3.12.2"
  }
 },
 "nbformat": 4,
 "nbformat_minor": 2
}
