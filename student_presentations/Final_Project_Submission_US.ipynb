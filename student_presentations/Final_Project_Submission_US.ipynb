{
 "cells": [
  {
   "cell_type": "markdown",
   "metadata": {},
   "source": [
    "# Molecular Informatics: Chemical Property and Structure Retrieval\n",
    "\n",
    "## 1. Introduction and Objectives\n",
    "In this notebook, we explore the properties and structures of chemical compounds using data from the PubChem database. By entering the names of chemical compounds, users can retrieve:\n",
    "- Molecular formula and weight\n",
    "- Experimental data such as melting point, boiling point, density, and solubility\n",
    "- Molecular structure visualizations\n",
    "\n",
    "### Learning Objectives\n",
    "1. Understand how to use APIs to retrieve chemical data.\n",
    "2. Learn to parse and display chemical data in Python.\n",
    "3. Visualize chemical structures using RDKit.\n",
    "\n",
    "Let's start by loading the required libraries and defining functions to retrieve data from PubChem.\n"
   ]
  },
  {
   "cell_type": "code",
   "execution_count": 1,
   "metadata": {
    "ExecuteTime": {
     "end_time": "2024-11-15T17:25:16.212610Z",
     "start_time": "2024-11-15T17:25:14.801065Z"
    }
   },
   "outputs": [],
   "source": [
    "# Import Libraries\n",
    "# Import necessary libraries for data retrieval and visualization\n",
    "import requests  # To fetch data from PubChem API\n",
    "from rdkit import Chem  # RDKit for handling chemical data\n",
    "from rdkit.Chem import Draw  # RDKit for drawing chemical structures\n",
    "from IPython.display import display  # To display images in the notebook\n",
    "import pandas as pd  # To organize data in a table\n"
   ]
  },
  {
   "cell_type": "code",
   "execution_count": 2,
   "metadata": {
    "ExecuteTime": {
     "end_time": "2024-11-15T17:25:16.381032Z",
     "start_time": "2024-11-15T17:25:16.372228Z"
    }
   },
   "outputs": [],
   "source": [
    "# Function to retrieve the CID (PubChem Compound Identifier) for a given chemical name\n",
    "def get_cid(chemical_name):\n",
    "    \"\"\"\n",
    "    Fetches the CID (Compound Identifier) for a chemical name using the PubChem API.\n",
    "    \n",
    "    Parameters:\n",
    "    - chemical_name (str): The name of the chemical compound.\n",
    "    \n",
    "    Returns:\n",
    "    - int: CID of the compound if found, or None if not.\n",
    "    \"\"\"\n",
    "    url = f\"https://pubchem.ncbi.nlm.nih.gov/rest/pug/compound/name/{chemical_name}/cids/JSON\"\n",
    "    try:\n",
    "        response = requests.get(url)\n",
    "        response.raise_for_status()\n",
    "        return response.json()[\"IdentifierList\"][\"CID\"][0]\n",
    "    except Exception as e:\n",
    "        print(f\"Error fetching CID for {chemical_name}: {e}\")\n",
    "        return None\n"
   ]
  },
  {
   "cell_type": "markdown",
   "metadata": {},
   "source": [
    "Explanation of fetch_chemical_data Function\n",
    "\n",
    "### Explanation of fetch_chemical_data Function\n",
    "\n",
    "The fetch_chemical_data function in this notebook is designed to retrieve two types of data from the PubChem database for a given compound: \n",
    "1. **Basic Molecular Properties** (e.g., Molecular Formula, Molecular Weight, SMILES string)\n",
    "2. **Experimental Properties** (e.g., Melting Point, Boiling Point, Density, Solubility)\n",
    "\n",
    "These two categories require different API endpoints due to the nature of PubChem's data organization:\n",
    "\n",
    "#### 1. Retrieving Basic Molecular Properties Using pug_rest\n",
    "\n",
    "The pug_rest endpoint is a standard REST API used for retrieving basic chemical data quickly and efficiently. This endpoint provides properties such as the **Molecular Formula, Molecular Weight, and SMILES** string, which are straightforward values associated with each compound in PubChem’s database. We can fetch these basic properties with the following API structure:\n",
    "```python\n",
    "   prop_url = f\"https://pubchem.ncbi.nlm.nih.gov/rest/pug/compound/cid/{cid}/property/MolecularWeight,MolecularFormula,IsomericSMILES/JSON\"\n"
   ]
  },
  {
   "cell_type": "markdown",
   "metadata": {},
   "source": [
    "\n",
    "\n",
    "### 2. Why `pug_view` is Required for Experimental Properties\n",
    "\n",
    "Experimental data (such as melting point, boiling point, density, and solubility) often involve detailed records with multiple data points, including conditions (e.g., temperature and pressure), source citations, and formatting for easy readability. Such data is stored in a more hierarchical and structured format, which `pug_rest` does not support.\n",
    "\n",
    "To handle this, PubChem provides the `pug_view` endpoint, which allows access to the more complex records, including:\n",
    "\n",
    "- **Hierarchical sections** (organized under \"Chemical and Physical Properties\" and \"Experimental Properties\").\n",
    "- **Details on experimental conditions** and **source references** for each measurement.\n",
    "\n",
    "Using the `pug_view` endpoint, we fetch experimental data as follows:\n",
    "\n",
    "```python\n",
    "exp_url = f\"https://pubchem.ncbi.nlm.nih.gov/rest/pug_view/data/compound/{cid}/JSON\"\n"
   ]
  },
  {
   "cell_type": "code",
   "execution_count": 3,
   "metadata": {
    "ExecuteTime": {
     "end_time": "2024-11-15T17:25:35.249391Z",
     "start_time": "2024-11-15T17:25:35.240342Z"
    }
   },
   "outputs": [],
   "source": [
    "\n",
    "# Function to fetch molecular properties and experimental data using CID\n",
    "def fetch_chemical_data(cid):\n",
    "    \"\"\"\n",
    "    Fetches molecular properties (formula, weight, SMILES) and experimental data\n",
    "    (melting point, boiling point, density, solubility) for a given CID.\n",
    "    \n",
    "    Parameters:\n",
    "    - cid (int): The PubChem Compound Identifier for the compound.\n",
    "    \n",
    "    Returns:\n",
    "    - dict: Basic molecular properties such as Molecular Formula and Molecular Weight.\n",
    "    - dict: Experimental properties such as Melting Point, Boiling Point, etc.\n",
    "    \"\"\"\n",
    "    # Initialize data structures for properties and experimental data\n",
    "    properties = {\"MolecularWeight\": \"N/A\", \"MolecularFormula\": \"N/A\", \"IsomericSMILES\": \"N/A\"}\n",
    "    exp_data = {\"Melting Point\": [], \"Boiling Point\": [], \"Density\": [], \"Solubility\": []}\n",
    "\n",
    "    # Fetch basic properties\n",
    "    prop_url = f\"https://pubchem.ncbi.nlm.nih.gov/rest/pug/compound/cid/{cid}/property/MolecularWeight,MolecularFormula,IsomericSMILES/JSON\"\n",
    "    try:\n",
    "        response = requests.get(prop_url)\n",
    "        response.raise_for_status()\n",
    "        properties.update(response.json()[\"PropertyTable\"][\"Properties\"][0])\n",
    "    except Exception as e:\n",
    "        print(f\"Error fetching properties for CID {cid}: {e}\")\n",
    "\n",
    "    # Fetch experimental data (e.g., melting point, boiling point, density)\n",
    "    exp_url = f\"https://pubchem.ncbi.nlm.nih.gov/rest/pug_view/data/compound/{cid}/JSON\"\n",
    "    try:\n",
    "        response = requests.get(exp_url)\n",
    "        response.raise_for_status()\n",
    "        sections = response.json().get(\"Record\", {}).get(\"Section\", [])\n",
    "        for section in sections:\n",
    "            if section.get(\"TOCHeading\") == \"Chemical and Physical Properties\":\n",
    "                for sub_sec in section.get(\"Section\", []):\n",
    "                    if sub_sec.get(\"TOCHeading\") == \"Experimental Properties\":\n",
    "                        for prop in sub_sec.get(\"Section\", []):\n",
    "                            heading = prop.get(\"TOCHeading\")\n",
    "                            if heading in exp_data:\n",
    "                                for info in prop.get(\"Information\", []):\n",
    "                                    for value in info.get(\"Value\", {}).get(\"StringWithMarkup\", []):\n",
    "                                        exp_data[heading].append(value[\"String\"])\n",
    "    except Exception as e:\n",
    "        print(f\"Error fetching experimental data for CID {cid}: {e}\")\n",
    "\n",
    "    # Format experimental data as strings for easy display\n",
    "    formatted_data = {key: \", \".join(values) or \"N/A\" for key, values in exp_data.items()}\n",
    "    return properties, formatted_data\n"
   ]
  },
  {
   "cell_type": "code",
   "execution_count": 4,
   "metadata": {
    "ExecuteTime": {
     "end_time": "2024-11-15T17:25:37.067033Z",
     "start_time": "2024-11-15T17:25:37.061541Z"
    }
   },
   "outputs": [],
   "source": [
    "# Function to create an RDKit molecule object from a SMILES string for visualization\n",
    "def fetch_structure(smiles):\n",
    "    \"\"\"\n",
    "    Returns an RDKit molecule object for a given SMILES string, which\n",
    "    can be used to generate a molecular structure image.\n",
    "    \n",
    "    Parameters:\n",
    "    - smiles (str): SMILES representation of the chemical structure.\n",
    "    \n",
    "    Returns:\n",
    "    - Mol: RDKit Mol object for the structure, or None if SMILES is invalid.\n",
    "    \"\"\"\n",
    "    try:\n",
    "        mol = Chem.MolFromSmiles(smiles)\n",
    "        return mol if mol else None\n",
    "    except Exception as e:\n",
    "        print(f\"Error generating structure for SMILES {smiles}: {e}\")\n",
    "        return None\n"
   ]
  },
  {
   "cell_type": "markdown",
   "metadata": {},
   "source": [
    "## 3. Interactive Input Section\n",
    "Enter the names of the compounds you'd like to analyze, separated by commas.\n"
   ]
  },
  {
   "cell_type": "code",
   "execution_count": 5,
   "metadata": {
    "ExecuteTime": {
     "end_time": "2024-11-15T17:25:44.493687Z",
     "start_time": "2024-11-15T17:25:39.080493Z"
    }
   },
   "outputs": [],
   "source": [
    "# Input for chemical names\n",
    "chemical_names = input(\"Enter chemical names separated by commas: \").split(\",\")\n",
    "chemical_names = [name.strip() for name in chemical_names if name.strip()]\n"
   ]
  },
  {
   "cell_type": "code",
   "execution_count": 6,
   "metadata": {
    "ExecuteTime": {
     "end_time": "2024-11-15T17:25:55.010408Z",
     "start_time": "2024-11-15T17:25:54.162711Z"
    }
   },
   "outputs": [
    {
     "data": {
      "text/plain": "  Chemical Name Molecular Formula Molecular Weight  \\\n0       aspirin            C9H8O4     180.16 g/mol   \n\n                                       Melting Point  \\\n0  275 °F (NTP, 1992), 138-140, 135 °C (rapid hea...   \n\n                                       Boiling Point  \\\n0  284 °F at 760 mmHg (decomposes) (NTP, 1992), 2...   \n\n                                             Density  \\\n0  1.4 (NTP, 1992) - Denser than water; will sink...   \n\n                                          Solubility  \n0  less than 1 mg/mL at 73 °F (NTP, 1992), 1 g so...  ",
      "text/html": "<div>\n<style scoped>\n    .dataframe tbody tr th:only-of-type {\n        vertical-align: middle;\n    }\n\n    .dataframe tbody tr th {\n        vertical-align: top;\n    }\n\n    .dataframe thead th {\n        text-align: right;\n    }\n</style>\n<table border=\"1\" class=\"dataframe\">\n  <thead>\n    <tr style=\"text-align: right;\">\n      <th></th>\n      <th>Chemical Name</th>\n      <th>Molecular Formula</th>\n      <th>Molecular Weight</th>\n      <th>Melting Point</th>\n      <th>Boiling Point</th>\n      <th>Density</th>\n      <th>Solubility</th>\n    </tr>\n  </thead>\n  <tbody>\n    <tr>\n      <th>0</th>\n      <td>aspirin</td>\n      <td>C9H8O4</td>\n      <td>180.16 g/mol</td>\n      <td>275 °F (NTP, 1992), 138-140, 135 °C (rapid hea...</td>\n      <td>284 °F at 760 mmHg (decomposes) (NTP, 1992), 2...</td>\n      <td>1.4 (NTP, 1992) - Denser than water; will sink...</td>\n      <td>less than 1 mg/mL at 73 °F (NTP, 1992), 1 g so...</td>\n    </tr>\n  </tbody>\n</table>\n</div>"
     },
     "metadata": {},
     "output_type": "display_data"
    }
   ],
   "source": [
    "# Data Retrieval and Display\n",
    "data_rows = []\n",
    "\n",
    "for chemical_name in chemical_names:\n",
    "    cid = get_cid(chemical_name)\n",
    "    if cid:\n",
    "        properties, experimental_data = fetch_chemical_data(cid)\n",
    "        \n",
    "        # Add data to list for DataFrame\n",
    "        data_rows.append({\n",
    "            \"Chemical Name\": chemical_name,\n",
    "            \"Molecular Formula\": properties.get(\"MolecularFormula\", \"N/A\"),\n",
    "            \"Molecular Weight\": f\"{properties.get('MolecularWeight', 'N/A')} g/mol\",\n",
    "            \"Melting Point\": experimental_data[\"Melting Point\"],\n",
    "            \"Boiling Point\": experimental_data[\"Boiling Point\"],\n",
    "            \"Density\": experimental_data[\"Density\"],\n",
    "            \"Solubility\": experimental_data[\"Solubility\"]\n",
    "        })\n",
    "    else:\n",
    "        print(f\"Error: CID not found for {chemical_name}\")\n",
    "        data_rows.append({\n",
    "            \"Chemical Name\": chemical_name,\n",
    "            \"Molecular Formula\": \"Error\",\n",
    "            \"Molecular Weight\": \"Error\",\n",
    "            \"Melting Point\": \"Error\",\n",
    "            \"Boiling Point\": \"Error\",\n",
    "            \"Density\": \"Error\",\n",
    "            \"Solubility\": \"Error\"\n",
    "        })\n",
    "\n",
    "# Display results in DataFrame\n",
    "df = pd.DataFrame(data_rows)\n",
    "display(df)\n"
   ]
  },
  {
   "cell_type": "markdown",
   "metadata": {},
   "source": [
    "\n",
    "## Changing Data Formatting To Display All Data\n",
    "\n"
   ]
  },
  {
   "cell_type": "code",
   "execution_count": 7,
   "metadata": {
    "ExecuteTime": {
     "end_time": "2024-11-15T17:26:05.967790Z",
     "start_time": "2024-11-15T17:26:05.953880Z"
    }
   },
   "outputs": [
    {
     "data": {
      "text/plain": "  Chemical Name Molecular Formula Molecular Weight                                                                        Melting Point                                                                          Boiling Point                                                                      Density                                                                                                                                                                                                                                                                       Solubility\n0       aspirin            C9H8O4     180.16 g/mol  275 °F (NTP, 1992), 138-140, 135 °C (rapid heating), 135 °C, 135 °C, 275 °F, 275 °F  284 °F at 760 mmHg (decomposes) (NTP, 1992), 284 °F (decomposes), 284 °F (Decomposes)  1.4 (NTP, 1992) - Denser than water; will sink, 1.40, 1.4 g/cm³, 1.35, 1.35  less than 1 mg/mL at 73 °F (NTP, 1992), 1 g sol in: 300 mL water at 25 °C, 100 mL water at 37 °C, 5 mL alcohol, 17 mL chloroform, 10-15 mL ether; less sol in anhydrous ether, In water, 4,600 mg/L at 25 °C, Solubility in water, g/100ml at 15 °C: 0.25 (poor), (77 °F): 0.3%",
      "text/html": "<div>\n<style scoped>\n    .dataframe tbody tr th:only-of-type {\n        vertical-align: middle;\n    }\n\n    .dataframe tbody tr th {\n        vertical-align: top;\n    }\n\n    .dataframe thead th {\n        text-align: right;\n    }\n</style>\n<table border=\"1\" class=\"dataframe\">\n  <thead>\n    <tr style=\"text-align: right;\">\n      <th></th>\n      <th>Chemical Name</th>\n      <th>Molecular Formula</th>\n      <th>Molecular Weight</th>\n      <th>Melting Point</th>\n      <th>Boiling Point</th>\n      <th>Density</th>\n      <th>Solubility</th>\n    </tr>\n  </thead>\n  <tbody>\n    <tr>\n      <th>0</th>\n      <td>aspirin</td>\n      <td>C9H8O4</td>\n      <td>180.16 g/mol</td>\n      <td>275 °F (NTP, 1992), 138-140, 135 °C (rapid heating), 135 °C, 135 °C, 275 °F, 275 °F</td>\n      <td>284 °F at 760 mmHg (decomposes) (NTP, 1992), 284 °F (decomposes), 284 °F (Decomposes)</td>\n      <td>1.4 (NTP, 1992) - Denser than water; will sink, 1.40, 1.4 g/cm³, 1.35, 1.35</td>\n      <td>less than 1 mg/mL at 73 °F (NTP, 1992), 1 g sol in: 300 mL water at 25 °C, 100 mL water at 37 °C, 5 mL alcohol, 17 mL chloroform, 10-15 mL ether; less sol in anhydrous ether, In water, 4,600 mg/L at 25 °C, Solubility in water, g/100ml at 15 °C: 0.25 (poor), (77 °F): 0.3%</td>\n    </tr>\n  </tbody>\n</table>\n</div>"
     },
     "metadata": {},
     "output_type": "display_data"
    }
   ],
   "source": [
    "df = pd.DataFrame(data_rows)\n",
    "# Set display options to show all rows and columns\n",
    "pd.set_option(\"display.max_columns\", None)\n",
    "pd.set_option(\"display.max_colwidth\", None)  # Allow long text to wrap\n",
    "pd.set_option(\"display.width\", 1000)  # Prevent wrapping of wide tables\n",
    "pd.set_option(\"display.max_rows\", None)  # Display all rows without truncation\n",
    "\n",
    "# Display DataFrame using IPython display\n",
    "display(df)"
   ]
  },
  {
   "cell_type": "markdown",
   "metadata": {},
   "source": [
    "## 5. Visualization of Molecular Structures\n",
    "Below, the molecular structures for each compound are displayed based on their SMILES representation.\n"
   ]
  },
  {
   "cell_type": "code",
   "execution_count": 8,
   "metadata": {
    "ExecuteTime": {
     "end_time": "2024-11-15T17:26:09.398531Z",
     "start_time": "2024-11-15T17:26:08.586374Z"
    }
   },
   "outputs": [
    {
     "name": "stdout",
     "output_type": "stream",
     "text": [
      "Structure of aspirin:\n"
     ]
    },
    {
     "data": {
      "text/plain": "<PIL.PngImagePlugin.PngImageFile image mode=RGB size=150x150>",
      "image/png": "[encoded data removed]",
      "image/jpeg": "[encoded data removed]"
     },
     "metadata": {},
     "output_type": "display_data"
    }
   ],
   "source": [
    "# Cell 12: Visualization of Molecular Structures\n",
    "for chemical_name in chemical_names:\n",
    "    cid = get_cid(chemical_name)\n",
    "    if cid:\n",
    "        properties, _ = fetch_chemical_data(cid)\n",
    "        smiles = properties.get(\"IsomericSMILES\", \"\")\n",
    "        mol = fetch_structure(smiles)\n",
    "        \n",
    "        # Display the molecule image if available\n",
    "        if mol:\n",
    "            print(f\"Structure of {chemical_name}:\")\n",
    "            display(Draw.MolToImage(mol, size=(150, 150)))\n",
    "        else:\n",
    "            print(f\"No structure available for {chemical_name}\")\n"
   ]
  },
  {
   "cell_type": "markdown",
   "metadata": {},
   "source": [
    "## 6. Conclusion\n",
    "This notebook demonstrated how to retrieve chemical information from PubChem, including molecular properties, experimental data, and molecular structure visualizations. This approach could be used for various applications in chemistry, bioinformatics, and drug discovery.\n"
   ]
  },
  {
   "cell_type": "markdown",
   "metadata": {},
   "source": [
    "## 7. Future Goals\n",
    "1. **Adding Hazards** : Need to find an API\n",
    "2. **Adding Physical Properties** : Issue finding key words and parsing just gives paragraph"
   ]
  },
  {
   "cell_type": "markdown",
   "metadata": {},
   "source": [
    "## TROUBLESHOOTING"
   ]
  },
  {
   "cell_type": "markdown",
   "metadata": {},
   "source": [
    "#### with list seprarting at '.' and removing filler words such as 'and', 'in', 'of', etc."
   ]
  },
  {
   "cell_type": "code",
   "execution_count": 9,
   "metadata": {
    "ExecuteTime": {
     "end_time": "2024-11-15T17:29:02.353043Z",
     "start_time": "2024-11-15T17:29:01.714938Z"
    }
   },
   "outputs": [
    {
     "name": "stdout",
     "output_type": "stream",
     "text": [
      "Key Descriptive Terms: ['ed', 'administered', 'children', 'active', 'Brassica', 'across', 'jaundice', 'Hoffmann', 'an', 'drug', 'ending', 'or', 'serine', 'plants', 'anti', 'German', 'something', 'assistant', 'antipyretic', 'genus', 'nature', 'problems', 'decrease', 'inflammation', 'kept', 'mechanism', 'it', 'when', '1897', 'reduced', 'ulmaria', 'stomach', 'replaced', 'Salicylic', 'synthetic', 'from', 'according', 'EC', 'cancers', 'arterial', 'hydroxyl', 'acetic', 'biosynthesis', 'drugs', 'derivatized', 'very', 'form', 'forms', 'female', 'hour', 'View', 'platelet', 'desire', 'Acetylsalicylic', 'pir', 'cyclooxygenase', 'fever', 'synthesis', 'reproductive', 'cause', 'prevention', 'Aloxiprin', 'only', 'Charles', 'independent', 'Decreased', 'plant', 'breast', 'byproduct', 'worked', 'resulting', 'committee', 'many', 'reflux', 'toxicity', 'class', 'lower', 'injury', 'toddlers', 'salicylate', 'Friedrich', 'naturally', 'several', 'Raffaele', 'others', '2', 'suppositories', 'should', 'able', 'crystals', 'at', 'most', 'taste', 'white', 'ester', 'syndrome', 'acetyl', 'acetoxy', 'Platelet', 'inhibitor', 'meadowsweet', 'time', 'health', 'narcotic', 'cyclooxygenases', 'approved', 'low', 'See', 'neutralized', 'dl', 'out', 'anhydride', 'chloride', 'was', 'causes', 'trial', 'serum', 'Reye', 'extract', 'bath', 'available', 'organic', 'extended', 'agent', 'physiologic', 'maximum', 'acetylsalicylic', 'benzoic', 'abandoned', 'yielding', 'lung', 'F', 'occasionally', 'Interestingly', 'medication', 'analgesic', 'Drug', 'but', 'treatment', 'stroke', 'between', 'water', 'anticoagulant', 'release', 'young', 'who', '1839', 'reported', 'formulations', 'reasons', 'getting', 'action', 'signs', 'creating', 'dysfunction', 'non', 'including', 'tablets', 'attached', 'have', '100', 'Extra', 'acid', 'lead', 'molecule', 'substance', 'formerly', 'boiling', 'Glycyrrhiza', 'hydroxy', 'susceptible', '19', 'This', 'doses', 'extraction', 'caused', 'irritated', 'inhibition', 'acetylates', 'discovery', 'Arthur', 'Co', 'having', 'Pharmacopoeia', 'pains', 'years', 'clinical', 'high', 'elevations', 'that', 'thrombosis', '1853', 'minutes', 'prevent', 'coccinea', 'glabra', 'not', 'reference', 'isolate', 'acidify', 'has', 'Martindale', 'prostaglandin', 'MI', 'reach', 'febrile', 'Felix', 'marked', 'Filipendula', 'acetylsalicylate', 'myocardial', 'digestive', 'first', 'investigational', 'allergen', 'perhaps', 'synthase', 'pain', '188', 'which', 'related', 'common', 'prototypical', 'developmental', 'From', 'produce', 'illness', 'Spiraea', 'greatly', '1950', 'acts', 'activator', 'lysine', 'inhibits', 'Production', 'orally', 'may', 'commonly', 'acetylated', 'effective', 'colorectal', 'had', 'risk', 'aspirin', 'inflammatory', 'Germany', 'experts', 'acids', 'small', 'above', 'acetosalicylic', 'negative', 'geroprotector', 'moiety', 'attacks', 'term', 'researchers', 'aqueous', 'member', 'phenyl', 'accidental', 'trick', 'referring', 'odorless', 'cancer', 'salicylic', 'While', 'his', 'such', 'steroidal', 'scientific', 'prostate', 'poisoning', 'chewable', 'p5', 'over', 'Frederic', 'its', 'Prostaglandin', 'often', 'heart', 'exhibits', 'market', 'can', 'yields', 'originated', 'work', 'studies', 'copy', 'name', 'teratogenic', 'also', 'infants', 'phosphoric', 'data', 'consumed', 'spir', 'buffering', 'phase', 'aches', 'effect', 'forming', 'use', 'individuals', 'generally', 'found', 'existed', 'Inhibitor', 'decreased', 'be', 'death', 'one', 'reagents', 'clots', 'acetates', 'Piria', 'state', 'appears', 'selective', 'Finally', 'tends', 'Nonsteroidal', 'It', 'Cyclooxygenase', 'using', 'named', 'demonstrated', 'even', 'venous', 'known', 'antiinflammatory', 'phenolic', 'functional', 'researcher', 'research', 'pharmaceuticals', 'French', 'all', 'powder', 'means', 'salicylates', 'minor', 'groups', 'Also', 'skin', 'sodium', 'he', '40', '143', '1992', 'long', 'functionally', 'COX', 'their', 'napus', 'esophageal', 'moderate', 'bitter', 'acetosal', 'infarction', 'conjugate', 'group', 'residues', 'Aspirin', 'worldwide', 'prostaglandins', 'antagonist', 'used', 'stated', '30th', 'been', 'difficulty', 'NTP', 'Eichengrun', 'somewhat', 'Anti', 'slightly', 'various', 'ASPIRIN', 'aggregation', 'scientists', 'composed', 'another', 'no', 'hydrogen', 'family', 'classified', 'blood', 'occurring', 'Bayer', 'activity', 'Ixora', 's', 'indications', 'heat', 'AcetylSalicylic', 'diarrhoea', 'start', 'both', 'liver', 'role', 'this', 'experiment', 'product', 'effects', 'due', 'chemist', 'ASA', 'IV', 'Aggregation', 'labs', 'Gerhardt', 'under', 'chemistry', 'results', '1', 'performed', 'crystalline', 'against', 'properties', 'aminotransferase', 'relative', 'industry', 'mild', 'Aluminum', 'isolated', 'binds', 'reaction', 'More', 'same']\n"
     ]
    }
   ],
   "source": [
    "import json\n",
    "import requests\n",
    "import re\n",
    "\n",
    "def get_cid_from_name(compound_name):\n",
    "    \"\"\"Retrieve the CID of a compound from its name.\"\"\"\n",
    "    search_url = f\"https://pubchem.ncbi.nlm.nih.gov/rest/pug/compound/name/{compound_name}/cids/JSON\"\n",
    "    response = requests.get(search_url)\n",
    "    \n",
    "    # Check if request was successful\n",
    "    if response.status_code != 200:\n",
    "        raise Exception(\"Failed to retrieve CID for the compound name.\")\n",
    "    \n",
    "    data = response.json()\n",
    "    try:\n",
    "        return data[\"IdentifierList\"][\"CID\"][0]  # Get the first CID found\n",
    "    except (KeyError, IndexError):\n",
    "        raise Exception(\"CID not found for the specified compound name.\")\n",
    "\n",
    "def get_descriptive_physical_properties(compound_name):\n",
    "    \"\"\"Retrieve descriptive physical properties of a compound given its name.\"\"\"\n",
    "    try:\n",
    "        # Get CID for the compound name\n",
    "        cid = get_cid_from_name(compound_name)\n",
    "    except Exception as e:\n",
    "        return str(e)\n",
    "    \n",
    "    # Construct the URL using the CID\n",
    "    url = f\"https://pubchem.ncbi.nlm.nih.gov/rest/pug_view/data/compound/{cid}/JSON\"\n",
    "    \n",
    "    # Request the compound's descriptive properties\n",
    "    response = requests.get(url)\n",
    "    if response.status_code != 200:\n",
    "        raise Exception(\"Failed to retrieve data.\")\n",
    "    \n",
    "    data = response.json()\n",
    "    descriptions = []\n",
    "    \n",
    "    try:\n",
    "        # Accessing the primary sections\n",
    "        sections = data[\"Record\"][\"Section\"]\n",
    "        for section in sections:\n",
    "            if section[\"TOCHeading\"] == \"Names and Identifiers\":\n",
    "                for sub_section in section.get(\"Section\", []):\n",
    "                    if sub_section[\"TOCHeading\"] == \"Record Description\":\n",
    "                        for info in sub_section.get(\"Information\", []):\n",
    "                            descriptions.append(info[\"Value\"][\"StringWithMarkup\"][0][\"String\"])\n",
    "            elif section[\"TOCHeading\"] == \"Chemical and Physical Properties\":\n",
    "                for sub_section in section.get(\"Section\", []):\n",
    "                    if sub_section[\"TOCHeading\"] == \"Physical Description\":\n",
    "                        for info in sub_section.get(\"Information\", []):\n",
    "                            descriptions.append(info[\"Value\"][\"StringWithMarkup\"][0][\"String\"])\n",
    "\n",
    "        if not descriptions:\n",
    "            return [\"No descriptive properties found.\"]\n",
    "        \n",
    "        # Extract key descriptive words\n",
    "        keywords = set()\n",
    "        for description in descriptions:\n",
    "            sentences = description.split('.')\n",
    "            for sentence in sentences:\n",
    "                words = re.findall(r'\\b\\w+\\b', sentence)\n",
    "                keywords.update(words)\n",
    "        \n",
    "        common_words = {\"and\", \"the\", \"is\", \"of\", \"a\", \"with\", \"in\", \"to\", \"for\", \"as\", \"by\"}\n",
    "        key_terms = [word for word in keywords if word.lower() not in common_words]\n",
    "        \n",
    "        return key_terms if key_terms else [\"No key descriptive terms found.\"]\n",
    "    \n",
    "    except KeyError as e:\n",
    "        raise Exception(f\"Key error while parsing JSON: {e}\")\n",
    "\n",
    "compound_name = \"aspirin\"\n",
    "descriptive_properties = get_descriptive_physical_properties(compound_name)\n",
    "print(\"Key Descriptive Terms:\", descriptive_properties)\n"
   ]
  },
  {
   "cell_type": "markdown",
   "metadata": {},
   "source": [
    "#### with addition of key words"
   ]
  },
  {
   "cell_type": "code",
   "execution_count": 10,
   "metadata": {
    "ExecuteTime": {
     "end_time": "2024-11-15T17:29:08.142365Z",
     "start_time": "2024-11-15T17:29:06.778529Z"
    }
   },
   "outputs": [
    {
     "name": "stdout",
     "output_type": "stream",
     "text": [
      "Key Descriptive Physical Properties: ['No descriptive physical properties found.']\n"
     ]
    }
   ],
   "source": [
    "import json\n",
    "import requests\n",
    "import re\n",
    "\n",
    "def get_cid_from_name(compound_name):\n",
    "    \"\"\"Retrieve the CID of a compound from its name.\"\"\"\n",
    "    search_url = f\"https://pubchem.ncbi.nlm.nih.gov/rest/pug/compound/name/{compound_name}/cids/JSON\"\n",
    "    response = requests.get(search_url)\n",
    "    \n",
    "    # Check if request was successful\n",
    "    if response.status_code != 200:\n",
    "        raise Exception(\"Failed to retrieve CID for the compound name.\")\n",
    "    \n",
    "    data = response.json()\n",
    "    try:\n",
    "        return data[\"IdentifierList\"][\"CID\"][0]  # Get the first CID found\n",
    "    except (KeyError, IndexError):\n",
    "        raise Exception(\"CID not found for the specified compound name.\")\n",
    "\n",
    "def get_descriptive_physical_properties(compound_name):\n",
    "    \"\"\"Retrieve physical properties (color, odor, state) of a compound given its name.\"\"\"\n",
    "    try:\n",
    "        # Get CID for the compound name\n",
    "        cid = get_cid_from_name(compound_name)\n",
    "    except Exception as e:\n",
    "        return str(e)\n",
    "    \n",
    "    # Construct the URL using the CID\n",
    "    url = f\"https://pubchem.ncbi.nlm.nih.gov/rest/pug_view/data/compound/{cid}/JSON\"\n",
    "    \n",
    "    # Request the compound's descriptive properties\n",
    "    response = requests.get(url)\n",
    "    if response.status_code != 200:\n",
    "        raise Exception(\"Failed to retrieve data.\")\n",
    "    \n",
    "    data = response.json()\n",
    "    descriptions = []\n",
    "    \n",
    "    try:\n",
    "        # Accessing the primary sections\n",
    "        sections = data[\"Record\"][\"Section\"]\n",
    "        for section in sections:\n",
    "            # Focus only on \"Chemical and Physical Properties\"\n",
    "            if section[\"TOCHeading\"] == \"Chemical and Physical Properties\":\n",
    "                for sub_section in section.get(\"Section\", []):\n",
    "                    # Look for \"Physical Description\" sub-section\n",
    "                    if sub_section[\"TOCHeading\"] == \"Physical Description\":\n",
    "                        for info in sub_section.get(\"Information\", []):\n",
    "                            descriptions.append(info[\"Value\"][\"StringWithMarkup\"][0][\"String\"])\n",
    "\n",
    "        if not descriptions:\n",
    "            return [\"No descriptive physical properties found.\"]\n",
    "        \n",
    "        # Identify sentences containing physical property keywords\n",
    "        physical_keywords = {\"color\",\"Color\" \"appearance\",\"Appearance\", \"odor\", \"Odor\", \"state\",  \"State\", \"solid\", \"Solid\", \"liquid\",\"Liquid\", \"gas\", \"Gas\",\"crystalline\", \"Crystalline\", \"powder\",\"Powder\" }\n",
    "        filtered_descriptions = []\n",
    "\n",
    "        for description in descriptions:\n",
    "            # Split by sentence and keep sentences with physical keywords\n",
    "            sentences = description.split('.')\n",
    "            for sentence in sentences:\n",
    "                if any(keyword in sentence.lower() for keyword in physical_keywords):\n",
    "                    filtered_descriptions.append(sentence.strip())\n",
    "\n",
    "        # Remove duplicates and return the final list\n",
    "        return list(set(filtered_descriptions)) if filtered_descriptions else [\"No physical property descriptions found.\"]\n",
    "    \n",
    "    except KeyError as e:\n",
    "        raise Exception(f\"Key error while parsing JSON: {e}\")\n",
    "\n",
    "compound_name = \"aspirin\"\n",
    "descriptive_properties = get_descriptive_physical_properties(compound_name)\n",
    "print(\"Key Descriptive Physical Properties:\", descriptive_properties)\n"
   ]
  },
  {
   "cell_type": "code",
   "outputs": [],
   "source": [],
   "metadata": {
    "collapsed": false
   }
  }
 ],
 "metadata": {
  "kernelspec": {
   "display_name": "molecular_informatics",
   "language": "python",
   "name": "python3"
  },
  "language_info": {
   "codemirror_mode": {
    "name": "ipython",
    "version": 3
   },
   "file_extension": ".py",
   "mimetype": "text/x-python",
   "name": "python",
   "nbconvert_exporter": "python",
   "pygments_lexer": "ipython3",
   "version": "3.11.9"
  }
 },
 "nbformat": 4,
 "nbformat_minor": 2
}
