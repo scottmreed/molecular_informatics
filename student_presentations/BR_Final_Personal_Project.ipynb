{
 "cells": [
  {
   "cell_type": "markdown",
   "metadata": {},
   "source": [
    "8-oxoG arises in both DNA and RNA during normal cellular processes and our research in the Resendiz lab focuses on one of the enzymes (Polynucleotide Phosphorylase) responsible for degrading oxidatively damaged or \"oxidized\" RNA, and how this degradation has been shown to stall when the PNPase enzyme encounters 8-oxoG. My project has focused on the relationship between the enzyme's stalled degradation and the specific sequence of the RNA being degraded. With this project, I hope to probe the human genome and specifically identify post transcriptional protein coding RNA that could be identified and checked for the specific sequence related to increased 8-oxoG stalling"
   ]
  },
  {
   "cell_type": "markdown",
   "metadata": {},
   "source": [
    "The code will be broken into 2 main portions, the first portion to pull protein RNA sequences from an API, and the second portion to search RNA sequences for a motif "
   ]
  },
  {
   "cell_type": "markdown",
   "metadata": {},
   "source": [
    "First comes the imports in order to establish all the working functions"
   ]
  },
  {
   "cell_type": "code",
   "execution_count": null,
   "metadata": {},
   "outputs": [],
   "source": [
    "import requests\n",
    "import xml.etree.ElementTree as ET\n",
    "import time\n",
    "import pickle\n",
    "import os\n",
    "import matplotlib.pyplot as plt"
   ]
  },
  {
   "cell_type": "markdown",
   "metadata": {},
   "source": [
    "Caching in this program is implemented to avoid repeated requests to the NCBI API for the same RNA sequence data, improving performance and reducing redundant calls to the external service."
   ]
  },
  {
   "cell_type": "markdown",
   "metadata": {},
   "source": [
    "The cached RNA sequences are stored in a file, called rna_sequences_cache.pkl, using Python's pickle module. The cache file contains a dictionary that maps each protein_id to its corresponding RNA sequence. The data is stored in binary format using pickle, which allows efficient reading and writing of the data."
   ]
  },
  {
   "cell_type": "code",
   "execution_count": null,
   "metadata": {},
   "outputs": [],
   "source": [
    "CACHE_FILE = \"rna_sequences_cache.pkl\""
   ]
  },
  {
   "cell_type": "markdown",
   "metadata": {},
   "source": [
    "Each of the individual functions are defined below this cache creator"
   ]
  },
  {
   "cell_type": "markdown",
   "metadata": {},
   "source": [
    "The code block above works to aquire a list of ID's however the ID's aren't really in a workable state, so a converter needs to be built in order to get the ID's in a list that can be plugged back into other functions "
   ]
  },
  {
   "cell_type": "code",
   "execution_count": null,
   "metadata": {},
   "outputs": [],
   "source": [
    "def search_ncbi_rna(query):\n",
    "    base_url = \"https://eutils.ncbi.nlm.nih.gov/entrez/eutils/esearch.fcgi\"\n",
    "    params = {\n",
    "        'db': 'nucleotide',\n",
    "        'term': query,\n",
    "        'retmode': 'xml'\n",
    "    }\n",
    "    response = requests.get(base_url, params=params)\n",
    "    return response.text\n"
   ]
  },
  {
   "cell_type": "markdown",
   "metadata": {},
   "source": [
    "The extract_protein_ids function is responsible for parsing the XML response received from the NCBI API (specifically from the esearch.fcgi endpoint) and extracting the protein IDs from it"
   ]
  },
  {
   "cell_type": "code",
   "execution_count": null,
   "metadata": {},
   "outputs": [],
   "source": [
    "def extract_protein_ids(xml_response):\n",
    "    protein_ids = []\n",
    "    root = ET.fromstring(xml_response)\n",
    "    \n",
    "    for id_elem in root.findall('.//Id'):\n",
    "        protein_ids.append(id_elem.text)\n",
    "    \n",
    "    return protein_ids"
   ]
  },
  {
   "cell_type": "markdown",
   "metadata": {},
   "source": [
    "The fetch_rna_sequence function below here is responsible for retrieving the RNA sequence associated with a specific protein ID. It first checks if the RNA sequence for that protein ID is already cached (to avoid redundant API calls), and if not, it fetches the sequence from the NCBI database, caches it for future use, and then returns the sequence"
   ]
  },
  {
   "cell_type": "code",
   "execution_count": null,
   "metadata": {},
   "outputs": [],
   "source": [
    "def fetch_rna_sequence(protein_id):\n",
    "    # Check if RNA sequence is already cached\n",
    "    cached_sequence = check_cache(protein_id)\n",
    "    if cached_sequence:\n",
    "        print(f\"Using cached RNA sequence for {protein_id}\")\n",
    "        return cached_sequence\n",
    "\n",
    "    base_url = \"https://eutils.ncbi.nlm.nih.gov/entrez/eutils/efetch.fcgi\"\n",
    "    params = {\n",
    "        'db': 'nucleotide',\n",
    "        'id': protein_id,\n",
    "        'rettype': 'fasta',\n",
    "        'retmode': 'text'\n",
    "    }\n",
    "    response = requests.get(base_url, params=params)\n",
    "    \n",
    "    if response.status_code == 200:\n",
    "        rna_sequence = response.text\n",
    "        # Cache the fetched RNA sequence\n",
    "        cache_rna_sequence(protein_id, rna_sequence)\n",
    "        return rna_sequence\n",
    "    else:\n",
    "        print(f\"Error fetching RNA for ID {protein_id}: {response.status_code}\")\n",
    "        return None"
   ]
  },
  {
   "cell_type": "markdown",
   "metadata": {},
   "source": [
    "The check_cache function below designed to check if an RNA sequence for a given protein_id exists in the cache. If it does, the function retrieves and returns the cached sequence. If not, it returns None, indicating that the sequence is not available in the cache."
   ]
  },
  {
   "cell_type": "code",
   "execution_count": null,
   "metadata": {},
   "outputs": [],
   "source": [
    "def check_cache(protein_id):\n",
    "    # Check if the cache file exists\n",
    "    if os.path.exists(CACHE_FILE):\n",
    "        with open(CACHE_FILE, \"rb\") as f:\n",
    "            cached_data = pickle.load(f)\n",
    "            return cached_data.get(protein_id)  # Return cached sequence if exists\n",
    "    return None"
   ]
  },
  {
   "cell_type": "markdown",
   "metadata": {},
   "source": [
    "The cache_rna_sequence function is responsible for storing the RNA sequence associated with a given protein_id into a cache file. If the cache already exists, it loads the existing cache, adds the new RNA sequence to it, and then saves the updated cache back to the file. If the cache doesn't exist, it creates a new cache and saves the RNA sequence"
   ]
  },
  {
   "cell_type": "code",
   "execution_count": null,
   "metadata": {},
   "outputs": [],
   "source": [
    "def cache_rna_sequence(protein_id, rna_sequence):\n",
    "    # Load existing cache if it exists, otherwise create a new one\n",
    "    cached_data = {}\n",
    "    if os.path.exists(CACHE_FILE):\n",
    "        with open(CACHE_FILE, \"rb\") as f:\n",
    "            cached_data = pickle.load(f)\n",
    "    \n",
    "    # Add the new RNA sequence to the cache\n",
    "    cached_data[protein_id] = rna_sequence\n",
    "    \n",
    "    # Save the updated cache back to the file\n",
    "    with open(CACHE_FILE, \"wb\") as f:\n",
    "        pickle.dump(cached_data, f)"
   ]
  },
  {
   "cell_type": "markdown",
   "metadata": {},
   "source": [
    "The count_sequence_occurrences function is responsible for counting the number of times a specific RNA sequence (sequence) appears within a larger RNA sequence (rna_sequence)."
   ]
  },
  {
   "cell_type": "code",
   "execution_count": null,
   "metadata": {},
   "outputs": [],
   "source": [
    "def count_sequence_occurrences(sequence, rna_sequence):\n",
    "    return rna_sequence.count(sequence)"
   ]
  },
  {
   "cell_type": "markdown",
   "metadata": {},
   "source": [
    "The plot_occurrences function is responsible for visualizing the data of RNA sequence occurrences across different protein IDs using a bar chart. It takes a dictionary occurrences as input, where the keys are protein IDs and the values are the number of times a specific RNA sequence appears in the corresponding protein's RNA sequence"
   ]
  },
  {
   "cell_type": "code",
   "execution_count": null,
   "metadata": {},
   "outputs": [],
   "source": [
    "def plot_occurrences(occurrences):\n",
    "    # Extract protein IDs and their corresponding occurrence counts\n",
    "    protein_ids = list(occurrences.keys())\n",
    "    counts = list(occurrences.values())\n",
    "\n",
    "    # Create a bar chart\n",
    "    plt.figure(figsize=(10, 6))\n",
    "    plt.bar(protein_ids, counts, color='blue')\n",
    "\n",
    "    # Add labels and title\n",
    "    plt.xlabel('Protein ID')\n",
    "    plt.ylabel('Occurrences of Specific RNA Sequence')\n",
    "    plt.title('Occurrences of Specific RNA Sequence in Protein Sequences')\n",
    "    \n",
    "    # Rotate the x-axis labels for better readability\n",
    "    plt.xticks(rotation=90)\n",
    "    \n",
    "    # Show the plot\n",
    "    plt.tight_layout()\n",
    "    plt.show()\n"
   ]
  },
  {
   "cell_type": "markdown",
   "metadata": {},
   "source": [
    "The main function in this program orchestrates the entire process of querying an API, fetching RNA sequences, counting occurrences of a specific RNA sequence, and then visualizing the results with a bar chart"
   ]
  },
  {
   "cell_type": "code",
   "execution_count": null,
   "metadata": {},
   "outputs": [],
   "source": [
    "def main():\n",
    "    # Search for RNA associated with the protein\n",
    "    query = \"PolynucleotidePhosphorylase\"\n",
    "    xml_results = search_ncbi_rna(query)\n",
    "    protein_ids = extract_protein_ids(xml_results)\n",
    "    \n",
    "    # Define the RNA sequence you want to count\n",
    "    specific_rna_sequence = \"GGA\"  # Example RNA sequence\n",
    "\n",
    "    # Fetch RNA sequences for the protein IDs\n",
    "    occurrences = {}\n",
    "    for protein_id in protein_ids:\n",
    "        rna_sequence = fetch_rna_sequence(protein_id)\n",
    "        if rna_sequence:\n",
    "            count = count_sequence_occurrences(specific_rna_sequence, rna_sequence)\n",
    "            occurrences[protein_id] = count\n",
    "        \n",
    "        # Delay to avoid hitting the API rate limit\n",
    "        time.sleep(1)  # Sleep for 1 second between requests\n",
    "    \n",
    "    # Print the results\n",
    "    for protein_id, count in occurrences.items():\n",
    "        print(f\"Protein ID: {protein_id}, Occurrences of '{specific_rna_sequence}': {count}\")\n",
    "\n",
    "    # Visualize the results\n",
    "    plot_occurrences(occurrences)\n",
    "\n",
    "if __name__ == \"__main__\":\n",
    "    main()"
   ]
  }
 ],
 "metadata": {
  "kernelspec": {
   "display_name": "molecular_iformatics",
   "language": "python",
   "name": "python3"
  },
  "language_info": {
   "codemirror_mode": {
    "name": "ipython",
    "version": 3
   },
   "file_extension": ".py",
   "mimetype": "text/x-python",
   "name": "python",
   "nbconvert_exporter": "python",
   "pygments_lexer": "ipython3",
   "version": "3.11.9"
  }
 },
 "nbformat": 4,
 "nbformat_minor": 2
}
