{
 "cells": [
  {
   "cell_type": "markdown",
   "metadata": {},
   "source": [
    "# Molecular Similarity"
   ]
  },
  {
   "cell_type": "markdown",
   "metadata": {},
   "source": [
    "## Objectives"
   ]
  },
  {
   "cell_type": "markdown",
   "metadata": {},
   "source": [
    "- Generete molecular fingerprints for a given molecule.\n",
    "- Evaluate structural similarity between molecules using different molecular fingerpints and similarity metrics."
   ]
  },
  {
   "cell_type": "markdown",
   "metadata": {},
   "source": [
    "Many useful documents/papers describe various aspects of molecular similarity, including molecular fingerprints and similarity measures.  Please read these if you need more details."
   ]
  },
  {
   "cell_type": "markdown",
   "metadata": {},
   "source": [
    "- Getting Started with the RDKit in Python<br>\n",
    "(https://www.rdkit.org/docs/GettingStartedInPython.html#fingerprinting-and-molecular-similarity)\n",
    "\n",
    "- Fingerprint Generation, GraphSim Toolkit 2.4.2<br>\n",
    "(https://docs.eyesopen.com/toolkits/python/graphsimtk/fingerprint.html)\n",
    "\n",
    "- Chemical Fingerprints<br>\n",
    "(https://docs.chemaxon.com/display/docs/Chemical+Fingerprints)\n",
    "\n",
    "- Extended-Connectivity Fingerprints<br>\n",
    "(https://doi.org/10.1021/ci100050t)\n",
    "\n"
   ]
  },
  {
   "cell_type": "markdown",
   "metadata": {},
   "source": [
    "## 1. Fingerprint Generation"
   ]
  },
  {
   "cell_type": "code",
   "execution_count": 1,
   "metadata": {},
   "outputs": [],
   "source": [
    "from rdkit import Chem"
   ]
  },
  {
   "cell_type": "code",
   "execution_count": 2,
   "metadata": {},
   "outputs": [],
   "source": [
    "mol = Chem.MolFromSmiles('CC(C)C1=C(C(=C(N1CC[C@H](C[C@H](CC(=O)O)O)O)C2=CC=C(C=C2)F)C3=CC=CC=C3)C(=O)NC4=CC=CC=C4')"
   ]
  },
  {
   "cell_type": "markdown",
   "metadata": {},
   "source": [
    "### 1-(1) MACCS keys"
   ]
  },
  {
   "cell_type": "markdown",
   "metadata": {},
   "source": [
    "The MACCS key is a binary fingerprint (a string of 0's and 1's).  Each bit position represents the presence (=1) or absence (=0) of a pre-defined structural feature.  The feature definitions for the MACCS keys are available at:<br> https://github.com/rdkit/rdkit/blob/master/rdkit/Chem/MACCSkeys.py"
   ]
  },
  {
   "cell_type": "code",
   "execution_count": 3,
   "metadata": {},
   "outputs": [],
   "source": [
    "from rdkit.Chem import MACCSkeys\n",
    "fingerprint = MACCSkeys.GenMACCSKeys(mol)"
   ]
  },
  {
   "cell_type": "code",
   "execution_count": 4,
   "metadata": {},
   "outputs": [],
   "source": [
    "print(type(fingerprint))\n",
    "\n",
    "for i in range(len(fingerprint)):\n",
    "    print(fingerprint[i], end='')\n",
    "\n",
    "fingerprint.ToBitString()    # Alternative, easier way to convert it to a bitstring.\n",
    "\n"
   ]
  },
  {
   "cell_type": "code",
   "execution_count": 5,
   "metadata": {},
   "outputs": [],
   "source": [
    "len(fingerprint)"
   ]
  },
  {
   "cell_type": "markdown",
   "metadata": {},
   "source": [
    "Note that the MACCS key is **166-bit-long**, but RDKit generates a 167-bit-long fingerprint.  It is because the index of a list/vector in many programming languages (including python) begins at 0.  To use the original numbering of the MACCS keys (1-166) (rather than 0-165), the MACCS keys were implemented to be 167-bit-long, with Bit 0 being always zero. Because Bit 0 is set to OFF for all compounds, it does not affect the evaluation of molecular similarity."
   ]
  },
  {
   "cell_type": "markdown",
   "metadata": {},
   "source": [
    "These are some methods that allow you to get some additional information on the MACCS Keys."
   ]
  },
  {
   "cell_type": "code",
   "execution_count": 6,
   "metadata": {},
   "outputs": [],
   "source": [
    "print(fingerprint.GetNumBits())\n",
    "print(fingerprint.GetNumOffBits())\n",
    "print(fingerprint.GetNumOnBits())\n",
    "print(fingerprint.ToBinary())"
   ]
  },
  {
   "cell_type": "markdown",
   "metadata": {},
   "source": [
    "**Exercise 1a:** Generate the MACCS keys for the molecules represented by the following SMILES, and get the positions of the bits set to ON in each of the three fingerprints.  What fragments do these bit positions correspond to?  (the bit definitions are available at"
   ]
  },
  {
   "cell_type": "code",
   "execution_count": 7,
   "metadata": {},
   "outputs": [],
   "source": [
    "smiles = [ 'C1=CC=CC=C1', # Benzene (Kekule)\n",
    "           'c1ccccc1',    # Benzene (\"Aromatized\" carbons)\n",
    "           'C1CCCCC1']     # Cyclohexene"
   ]
  },
  {
   "cell_type": "code",
   "execution_count": 8,
   "metadata": {},
   "outputs": [],
   "source": [
    "# Write your code in this cell.\n",
    "\n",
    "\n"
   ]
  },
  {
   "cell_type": "markdown",
   "metadata": {},
   "source": [
    "<br>**Write the fragment definition of the bits ON** (one is already provided for you as an example)."
   ]
  },
  {
   "cell_type": "raw",
   "metadata": {},
   "source": [
    "- 118: ACH2CH2A > 1\n",
    "\n",
    "\n",
    "\n",
    "\n",
    "\n"
   ]
  },
  {
   "cell_type": "markdown",
   "metadata": {},
   "source": [
    "### 1-(2) Circular Fingerprints"
   ]
  },
  {
   "cell_type": "markdown",
   "metadata": {},
   "source": [
    "Circular fingerprints are hashed fingerprints.  They are generated by exhaustively enumerating \"circular\" fragments (containing all atoms within a given radius from each heavy atom of the molecule) and then hashing these fragments into a fixed-length bitstring.  (Here, the \"radius\" from an atom is measured by the number of bonds that separates two atoms).\n",
    "\n",
    "Examples of circular fingerprints are the extended-connectivity fingerprint (ECFPs) and their variant called FCFPs (Functional-Class Fingerprints), originally described in a paper by Rogers and Hahn (https://doi.org/10.1021/ci100050t).  The RDKit implementation of these fingerprints are called \"Morgan Fingerprints\" (https://www.rdkit.org/docs/GettingStartedInPython.html#morgan-fingerprints-circular-fingerprints)."
   ]
  },
  {
   "cell_type": "code",
   "execution_count": 9,
   "metadata": {},
   "outputs": [],
   "source": [
    "from rdkit.Chem import AllChem\n",
    "from rdkit.Chem import rdFingerprintGenerator\n",
    "\n",
    "fingerprint_generator = rdFingerprintGenerator.GetMorganGenerator(radius=2, fpSize=1024)\n",
    "fingerprint = fingerprint_generator.GetFingerprint(mol)\n",
    "\n",
    "fingerprint.ToBitString()  "
   ]
  },
  {
   "cell_type": "markdown",
   "metadata": {},
   "source": [
    "We can also display an image of the fragment that caused the bit to be equal to 1.\n",
    "\n",
    "The default highlight colors for the Morgan bits indicate:\n",
    "\n",
    "blue: the central atom in the environment\n",
    "yellow: aromatic atoms\n",
    "gray: aliphatic\n",
    "ring atoms"
   ]
  },
  {
   "cell_type": "code",
   "execution_count": 16,
   "metadata": {},
   "outputs": [],
   "source": [
    "# First let's draw the molecule\n",
    "from rdkit.Chem import Draw\n",
    "from rdkit.Chem.Draw import IPythonConsole\n",
    "IPythonConsole.ipython_useSVG = True\n",
    "IPythonConsole.drawOptions.addAtomIndices = False\n",
    "IPythonConsole.drawOptions.addStereoAnnotation = False\n",
    "mol = Chem.MolFromSmiles('c1ccccc1CC1CC1')\n",
    "mol\n"
   ]
  },
  {
   "cell_type": "code",
   "execution_count": 21,
   "metadata": {},
   "outputs": [],
   "source": [
    "# Now draw the fragment responsible for bit 872 being equal to 1\n",
    "\n",
    "mol = Chem.MolFromSmiles('c1ccccc1CC1CC1')\n",
    "fingerprint_generator = AllChem.GetMorganGenerator(radius=2)\n",
    "additional_output = AllChem.AdditionalOutput()\n",
    "additional_output.CollectBitInfoMap()\n",
    "fingerprint = fingerprint_generator.GetFingerprint(mol, additionalOutput=additional_output)\n",
    "bit_info = additional_output.GetBitInfoMap()\n",
    "\n",
    "mfp2_svg = Draw.DrawMorganBit(mol, 872, bit_info, useSVG=True)\n",
    "mfp2_svg\n"
   ]
  },
  {
   "cell_type": "markdown",
   "metadata": {},
   "source": [
    "When comparing the rdkit's Morgan fingerprints with the ECFP/FCFP fingerprints, it is important to remember that the name of ECFP/FCFP fingerprints are suffixed with the **diameter** of the atom environments considered, while the Morgan Fingerprints take a **radius** parameter (e.g., the second argument \"2\" of GetMorganFingerprintAsBitVect() in the above code cell).  The Morgan fingerprint generated above (with a radius of 2) is comparable to the ECFP4 fingerprint (with a diameter of 4)."
   ]
  },
  {
   "cell_type": "markdown",
   "metadata": {},
   "source": [
    "**Exercise 1b:** For the molecules below, generate the 512-bit-long Morgan Fingeprint comparable to the **FCFP6** fingerprint.\n",
    "\n",
    "- Search for the compounds by name and get their SMILES strings.\n",
    "- Generate the molecular fingerprints from the SMILES strings.\n",
    "- Print the generated fingerprints.\n",
    "- To generate FCFP (not ECFP), read the following document: https://www.rdkit.org/docs/GettingStartedInPython.html#morgan-fingerprints-circular-fingerprints"
   ]
  },
  {
   "cell_type": "code",
   "execution_count": 23,
   "metadata": {},
   "outputs": [],
   "source": [
    "synonyms = [ 'diphenhydramine', 'cetirizine', 'fexofenadine', 'loratadine' ]\n"
   ]
  },
  {
   "cell_type": "code",
   "execution_count": 30,
   "metadata": {},
   "outputs": [],
   "source": [
    "# Write your code in this cell\n"
   ]
  },
  {
   "cell_type": "markdown",
   "metadata": {},
   "source": [
    "### 1-(3) Path-Based Fingeprints"
   ]
  },
  {
   "cell_type": "markdown",
   "metadata": {},
   "source": [
    "Path-based fingerprints are also hashed fingerprints.  They are generated by enumerating linear fragments of a given length and hashing them into a fixed-length bitstring.  An example is the RDKit's topological fingeprint.  As described in the RDK documentation (https://www.rdkit.org/docs/GettingStartedInPython.html#topological-fingerprints), while this fingerprint can be generated using FingerprintMols.FingerprintMol(), it is recommended to use rdmolops.RDKFingerprint() to generate the fingerprint using non-default parameter values. "
   ]
  },
  {
   "cell_type": "code",
   "execution_count": 32,
   "metadata": {},
   "outputs": [],
   "source": [
    "from rdkit.Chem import rdmolops\n",
    "\n",
    "mol = Chem.MolFromSmiles('C1=CC=CC=C1')\n",
    "fingerprint = rdmolops.RDKFingerprint(mol, fpSize=2048, minPath=1, maxPath=7).ToBitString()\n",
    "print(fingerprint)\n",
    "\n",
    "\n",
    "mol = Chem.MolFromSmiles('CC(C)C1=C(C(=C(N1CC[C@H](C[C@H](CC(=O)O)O)O)C2=CC=C(C=C2)F)C3=CC=CC=C3)C(=O)NC4=CC=CC=C4')\n",
    "fingerprint = rdmolops.RDKFingerprint(mol, fpSize=2048, minPath=1, maxPath=7).ToBitString()\n",
    "print(fingerprint)\n",
    "fingerprint = rdmolops.RDKFingerprint(mol, fpSize=2048, minPath=1, maxPath=6).ToBitString()\n",
    "print(fingerprint)"
   ]
  },
  {
   "cell_type": "markdown",
   "metadata": {},
   "source": [
    "### 1-(4) PubChem Fingerprint"
   ]
  },
  {
   "cell_type": "markdown",
   "metadata": {},
   "source": [
    "The PubChem Fingerprint is a 881-bit-long binary fingerprint (ftp://ftp.ncbi.nlm.nih.gov/pubchem/specifications/pubchem_fingerprints.pdf).  Similar to the MACCS keys, it uses a pre-defined fragment dictionary.  The PubChem fingerprint for each compound in PubChem can be downloaded from PubChem.  However, because they are base64-encoded, they should be decoded into binary bitstrings or bitvectors."
   ]
  },
  {
   "cell_type": "markdown",
   "metadata": {},
   "source": [
    "Details about how to decode base64-encoded PubChem fingerprints is described on the last page of the PubChem Fingerprint specification (ftp://ftp.ncbi.nlm.nih.gov/pubchem/specifications/pubchem_fingerprints.pdf).  Below is a user-defined function that decodes a PubChem fingerprint into a bit string."
   ]
  },
  {
   "cell_type": "code",
   "execution_count": 33,
   "metadata": {},
   "outputs": [],
   "source": [
    "from base64 import b64decode\n",
    "\n",
    "def PCFP_BitString(pcfp_base64) :\n",
    "\n",
    "    pcfp_bitstring = \"\".join( [\"{:08b}\".format(x) for x in b64decode( pcfp_base64 )] )[32:913]\n",
    "    return pcfp_bitstring\n"
   ]
  },
  {
   "cell_type": "code",
   "execution_count": 35,
   "metadata": {},
   "outputs": [],
   "source": [
    "pcfps = 'AAADcYBgAAAAAAAAAAAAAAAAAAAAAAAAAAAwAAAAAAAAAAABAAAAGAAAAAAACACAEAAwAIAAAACAACBCAAACAAAgAAAIiAAAAIgIICKAERCAIAAggAAIiAcAAAAAAAAAAAAAAAAAAAAAAAAAAAAAAAAAAA=='"
   ]
  },
  {
   "cell_type": "code",
   "execution_count": 36,
   "metadata": {},
   "outputs": [],
   "source": [
    "print( len(PCFP_BitString(pcfps)) )\n",
    "print(PCFP_BitString(pcfps))"
   ]
  },
  {
   "cell_type": "markdown",
   "metadata": {},
   "source": [
    "The generated bitstring can be converted to a bitvector that can be used for molecular similarity computation in RDKit (to be discussed in the next section)."
   ]
  },
  {
   "cell_type": "code",
   "execution_count": 37,
   "metadata": {},
   "outputs": [],
   "source": [
    "from rdkit import DataStructs\n",
    "bitvect = DataStructs.CreateFromBitString(PCFP_BitString(pcfps))\n",
    "type(bitvect)"
   ]
  },
  {
   "cell_type": "code",
   "execution_count": 39,
   "metadata": {},
   "outputs": [],
   "source": [
    "prolog = \"https://pubchem.ncbi.nlm.nih.gov/rest/pug\"\n",
    "\n",
    "for name in synonyms:\n",
    "    url = prolog + \"/compound/name/\" + name + \"/property/Fingerprint2D/txt\"\n",
    "    res = requests.get(url)\n",
    "    fingerprint = res.text.split()\n",
    "    print(fingerprint)\n",
    "  "
   ]
  },
  {
   "cell_type": "markdown",
   "metadata": {},
   "source": [
    "## 2. Computation of similarity scores"
   ]
  },
  {
   "cell_type": "code",
   "execution_count": 40,
   "metadata": {},
   "outputs": [],
   "source": [
    "import requests\n",
    "import time"
   ]
  },
  {
   "cell_type": "code",
   "execution_count": 41,
   "metadata": {},
   "outputs": [],
   "source": [
    "cids = [    54454,  # Simvastatin (Zocor)\n",
    "            54687,  # Pravastatin (Pravachol)\n",
    "            60823,  # Atorvastatin (Lipitor)\n",
    "           446155,  # Fluvastatin (Lescol)   \n",
    "           446157,  # Rosuvastatin (Crestor)\n",
    "          5282452,  # Pitavastatin (Livalo)\n",
    "         97938126 ] # Lovastatin (Altoprev)"
   ]
  },
  {
   "cell_type": "markdown",
   "metadata": {},
   "source": [
    "Let's get the SMILES strings from PubChem, generate Mol objects from them, and draw their chemical structures."
   ]
  },
  {
   "cell_type": "code",
   "execution_count": 42,
   "metadata": {},
   "outputs": [],
   "source": [
    "prolog = \"https://pubchem.ncbi.nlm.nih.gov/rest/pug\"\n",
    "\n",
    "str_cid = \",\".join([ str(x) for x in cids])\n",
    "\n",
    "url = prolog + \"/compound/cid/\" + str_cid + \"/property/isomericsmiles/txt\"\n",
    "print(url)\n",
    "res = requests.get(url)\n",
    "smiles = res.text.split()\n",
    "print(smiles)"
   ]
  },
  {
   "cell_type": "code",
   "execution_count": 43,
   "metadata": {},
   "outputs": [],
   "source": [
    "from rdkit import Chem\n",
    "from rdkit.Chem import Draw\n",
    "\n",
    "mols = [ Chem.MolFromSmiles(x) for x in smiles ]\n",
    "Chem.Draw.MolsToGridImage(mols, molsPerRow=4, subImgSize=(200,200), legends=[str(x) for x in cids] )"
   ]
  },
  {
   "cell_type": "markdown",
   "metadata": {},
   "source": [
    "Now generate MACCS keys for each compound."
   ]
  },
  {
   "cell_type": "code",
   "execution_count": 48,
   "metadata": {},
   "outputs": [],
   "source": [
    "from rdkit import DataStructs\n",
    "from rdkit.Chem import MACCSkeys\n",
    "\n",
    "fingerprints = [ MACCSkeys.GenMACCSKeys(x) for x in mols ]\n",
    "print(fingerprints)"
   ]
  },
  {
   "cell_type": "markdown",
   "metadata": {},
   "source": [
    "Now let's compute the pair-wise similarity scores among them.  To make higher scores easier to find, they are indicated with the \"\\*\" character(s)."
   ]
  },
  {
   "cell_type": "code",
   "execution_count": 52,
   "metadata": {},
   "outputs": [],
   "source": [
    "for i in range(0, len(fingerprints)) :\n",
    "    for j in range(i+1, len(fingerprints)) :\n",
    "        score = DataStructs.FingerprintSimilarity(fingerprints[i], fingerprints[j])\n",
    "        print(cids[i], \"vs.\", cids[j], \":\", round(score, 3), end='')\n",
    "        \n",
    "        if ( score >= 0.85 ):\n",
    "            print(\" ****\")\n",
    "        elif ( score >= 0.75 ):\n",
    "            print(\" ***\")\n",
    "        elif ( score >= 0.65 ):\n",
    "            print(\" **\")\n",
    "        elif ( score >= 0.55 ):\n",
    "            print(\" *\")\n",
    "        else:\n",
    "            print(\" \")\n"
   ]
  },
  {
   "cell_type": "markdown",
   "metadata": {},
   "source": [
    "By default, the similarity score is generated using the **Tanimoto** equation.  RDKit also supports other similarity metrics, including Dice, Cosine, Sokal, Russel, Kulczynski, McConnaughey, and Tversky.  The definition of these metrics is available at the LibreTexts page (https://bit.ly/2kx9NCd)."
   ]
  },
  {
   "cell_type": "code",
   "execution_count": 56,
   "metadata": {},
   "outputs": [],
   "source": [
    "print(\"Tanimoto    :\", round(DataStructs.TanimotoSimilarity(fingerprints[0], fingerprints[1]), 4))\n",
    "print(\"Dice        :\", round(DataStructs.DiceSimilarity(fingerprints[0], fingerprints[1]), 4))\n",
    "print(\"Cosine      :\", round(DataStructs.CosineSimilarity(fingerprints[0], fingerprints[1]), 4))\n",
    "print(\"Sokal       :\", round(DataStructs.SokalSimilarity(fingerprints[0], fingerprints[1]), 4))\n",
    "print(\"McConnaughey:\", round(DataStructs.McConnaugheySimilarity(fingerprints[0], fingerprints[1]), 4))"
   ]
  },
  {
   "cell_type": "markdown",
   "metadata": {},
   "source": [
    "**Exercise 2a:**  Compute the Tanimoto similarity scores between the seven compounds used in this section, using the PubChem fingerprints\n",
    "\n",
    "- Download the PubChem Fingerprint for the seven CIDs.\n",
    "- Convert the downloaded fingerprints into bit vectors.\n",
    "- Compute the pair-wise Tanimoto scores using the bit vectors."
   ]
  },
  {
   "cell_type": "code",
   "execution_count": 26,
   "metadata": {},
   "outputs": [],
   "source": [
    "# Write your code in this cell\n",
    "\n",
    "\n",
    "\n"
   ]
  },
  {
   "cell_type": "markdown",
   "metadata": {},
   "source": [
    "## 3. Interpretation of similarity scores"
   ]
  },
  {
   "cell_type": "markdown",
   "metadata": {},
   "source": [
    "Using molecular fingeprints. we can compute the similarity scores between molecules.  However, how should these scores be interpreted?  For example, the Tanimoto score between CID 60823 and CID 446155 is computed to be 0.662, but does it mean that the two compounds are similar?  How similar is similar?  The following analysis would help answer these questions."
   ]
  },
  {
   "cell_type": "markdown",
   "metadata": {},
   "source": [
    "**Step 1.** Randomly select 1,000 compounds from PubChem and download their SMILES strings."
   ]
  },
  {
   "cell_type": "code",
   "execution_count": 57,
   "metadata": {},
   "outputs": [],
   "source": [
    "import random\n",
    "# random.seed(0)\n",
    "\n",
    "cid_max = 138962044    # The maximum CID in PubChem as of September 2019\n",
    "\n",
    "cids = []\n",
    "\n",
    "for x in range(1000):\n",
    "    cids.append(random.randint(1, cid_max + 1))\n",
    "\n",
    "chunk_size = 100\n",
    "\n",
    "if len(cids) % chunk_size == 0 :\n",
    "    num_chunks = int( len(cids) / chunk_size )\n",
    "else :\n",
    "    num_chunks = int( len(cids) / chunk_size ) + 1\n",
    "\n",
    "smiles = []\n",
    "    \n",
    "for i in range(num_chunks):\n",
    "\n",
    "    if (i == 0):\n",
    "        print(\"Processing chunk \", end='')\n",
    "    \n",
    "    print(i, end=' ')\n",
    "    \n",
    "    idx1 = chunk_size * i\n",
    "    idx2 = chunk_size * (i + 1)\n",
    "    str_cids = \",\".join([ str(x) for x in cids[idx1:idx2]])\n",
    "\n",
    "    url = prolog + \"/compound/cid/\" + str_cids + \"/property/isomericsmiles/txt\"\n",
    "    res = requests.get(url)\n",
    "\n",
    "    if ( res.status_code == 200) :\n",
    "        smiles.extend( res.text.split() )\n",
    "    else :\n",
    "        print(\"Chunk\", i, \"Failed to get SMILES.\")\n",
    "        \n",
    "    time.sleep(0.2)\n",
    "\n",
    "print(\"Done!\")\n",
    "print(\"# Number of SMILES : \", len(smiles))\n"
   ]
  },
  {
   "cell_type": "code",
   "execution_count": 58,
   "metadata": {},
   "outputs": [],
   "source": [
    "print(smiles[0])"
   ]
  },
  {
   "cell_type": "markdown",
   "metadata": {},
   "source": [
    "**Step 2.** Generate the MACCSKeys for each compound."
   ]
  },
  {
   "cell_type": "code",
   "execution_count": 61,
   "metadata": {},
   "outputs": [],
   "source": [
    "mols = [ Chem.MolFromSmiles(x) for x in smiles if x != None ]\n",
    "fingerprints  = [ MACCSkeys.GenMACCSKeys(x) for x in mols if x != None ]\n",
    "print(\"# Number of compounds:\", len(mols))\n",
    "print(\"# Number of fingerprints:\", len(fps))"
   ]
  },
  {
   "cell_type": "markdown",
   "metadata": {},
   "source": [
    "**Step 3.** Compute the Tanimoto scores between compounds."
   ]
  },
  {
   "cell_type": "code",
   "execution_count": 62,
   "metadata": {},
   "outputs": [],
   "source": [
    "print(\"# The number of compound pairs:\", (len(fingerprints) * (len(fingerprints) - 1))/2 )"
   ]
  },
  {
   "cell_type": "code",
   "execution_count": 63,
   "metadata": {},
   "outputs": [],
   "source": [
    "scores = []\n",
    "\n",
    "for i in range(0, len(fingerprints)) :\n",
    "\n",
    "    if (i == 0) :\n",
    "        print(\"Processing compound \", end='')\n",
    "    \n",
    "    if (i % 100 == 0) :\n",
    "        print(i, end=' ')\n",
    "    \n",
    "    for j in range(i+1, len(fingerprints)) :\n",
    "        scores.append(DataStructs.FingerprintSimilarity(fingerprints[i], fingerprints[j]))\n",
    "\n",
    "print(\"Done!\")\n",
    "print(\"# Number of scores : \", len(scores))"
   ]
  },
  {
   "cell_type": "markdown",
   "metadata": {},
   "source": [
    "**Step 4.** Generate a histogram that shows the distribution of the pair-wise scores."
   ]
  },
  {
   "cell_type": "code",
   "execution_count": 64,
   "metadata": {},
   "outputs": [],
   "source": [
    "import matplotlib.pyplot as plt\n",
    "%matplotlib inline"
   ]
  },
  {
   "cell_type": "code",
   "execution_count": 66,
   "metadata": {},
   "outputs": [],
   "source": [
    "mybins = [ x * 0.01 for x in range(101)]\n",
    "\n",
    "fig = plt.figure(figsize=(8,4), dpi=300)\n",
    "\n",
    "plt.subplot(1, 2, 1)\n",
    "plt.title(\"Distribution\")\n",
    "plt.hist(scores, bins=mybins)\n",
    "\n",
    "plt.subplot(1, 2, 2)\n",
    "plt.title(\"Cumulative Distribution\")\n",
    "plt.hist(scores, bins=mybins, density=True, cumulative=1)\n",
    "plt.plot([0,1],[0.95,0.95])\n"
   ]
  },
  {
   "cell_type": "code",
   "execution_count": 67,
   "metadata": {},
   "outputs": [],
   "source": [
    "for i in range(21) :\n",
    "    thresh = i / 20\n",
    "    num_similar_pairs = len([x for x in scores if x >= thresh]) \n",
    "    prob = num_similar_pairs / len(scores) * 100\n",
    "    print(\"%.3f %8d (%8.4f %%)\" % (thresh, num_similar_pairs, round(prob,4)))\n",
    "    "
   ]
  },
  {
   "cell_type": "code",
   "execution_count": 68,
   "metadata": {},
   "outputs": [],
   "source": [
    "print(\"Average:\", sum(scores)/len(scores))"
   ]
  },
  {
   "cell_type": "markdown",
   "metadata": {},
   "source": [
    "From the distribution of the similarity scores among 1,000 compounds, we observe the following:<br>\n",
    "- If you randomly select two compounds from PubChem, the similarity score between them (computed using the Tanimoto equation and MACCS keys) is ~0.35 on average.\n",
    "- About %5 of randomly selected compound pairs have a similarity score greater than 0.55.\n",
    "- About %1 of randomly selected compound pairs have a similarity score greater than 0.65."
   ]
  },
  {
   "cell_type": "markdown",
   "metadata": {},
   "source": [
    "If two compounds have a Tanimoto score of 0.35, it is close to the avaerage Tanimoto score between randomly selected compounds and there is a 50% chance that you will get a score of 0.35 or greater just by selecting two compounds from PubChem.  Therefore, it is reasonable to consider the two compounds are not similar.<br>\n",
    "\n",
    "The Tanimoto index may have a value ranging from 0 (for no similarity) to 1 (for identical molecules) and the midpoint of this value range is 0.5.  Because of this, a Tanimoto score of **0.55** may not sound great enough to consider two compounds to be similar.  However, according to the score distribution curve generated here, only **~5%** of randomly selected compound pairs will have a score greater than this.<br>\n",
    "\n",
    "In the previous section, we computed the similarity scores between some cholesterol-lowering drugs, and CID 60823 and CID 446155 had a Tanimoto score of **0.662**.  Based on the score distribution curve generated in the second section, we can say that the probablilty of two randomly selected compounds from PubChem having a Tanimoto score greater than 0.662 is **less than 1%**."
   ]
  },
  {
   "cell_type": "markdown",
   "metadata": {},
   "source": [
    "The following code cell demonstrates how to find an appropriate similarity score threshold above which a given percentage of the compound pairs will be considered to be similar to each other."
   ]
  },
  {
   "cell_type": "code",
   "execution_count": 69,
   "metadata": {},
   "outputs": [],
   "source": [
    "scores.sort()    # Sort the scores in an increasing order."
   ]
  },
  {
   "cell_type": "code",
   "execution_count": null,
   "metadata": {},
   "outputs": [],
   "source": [
    "# to find a threshold for top 3% compound pairs (i.e., 97% percentile)\n",
    "print(\"# total compound pairs:   \", len(scores))\n",
    "print(\"# 95% of compound pairs:  \", len(scores) * 0.97)\n",
    "print(\"# score at 95% percentile:\", scores[ round(len(scores) * 0.97) ] )\n"
   ]
  },
  {
   "cell_type": "markdown",
   "metadata": {},
   "source": [
    "**Exercise 3a:** In this exercise, we want to generate the distribution of the similarity scores among 1,000 compounds randomly selected from PubChem, using different molecular fingeprints and similarity metrics.<br>\n",
    "For molecular fingerprints, use the following:\n",
    "- PubChem Fingerprint\n",
    "- MACCS keys\n",
    "- Morgan Fingerprint (ECFP4 analogue, 1024-bit-long)\n",
    "\n",
    "For similarity metrics, use the following:\n",
    "- Tanimoto similarity\n",
    "\n",
    "Here are additional instructions to follow:\n",
    "- When generating the histograms, bin the scores from 0 to 1 with an increment of 0.01.\n",
    "- For each distribution curve, determine the similarity score threshold so that **1%** of the compound pairs have a similarity score greater than or equal to this threshold.\n",
    "- Use RDKit to generate the MACCS keys and Morgan fingerprint and download the PubChem fingerprints from PubChem.\n",
    "- For reproducibility, use **random.seed(2019)** before you generate random CIDs."
   ]
  },
  {
   "cell_type": "markdown",
   "metadata": {},
   "source": [
    "**Step 1:** Generate 1,000 random CIDs, download the isomeric SMILES for them, and create the RDKit mol objects from the downloaded SMILES strings."
   ]
  },
  {
   "cell_type": "code",
   "execution_count": 38,
   "metadata": {},
   "outputs": [],
   "source": [
    "# Write your code in this cell\n",
    "\n",
    "\n",
    "\n"
   ]
  },
  {
   "cell_type": "markdown",
   "metadata": {},
   "source": [
    "**Step 2:**  Generate the fingerprints, compute the similarity scores, determine similarity thresholds, and make histograms."
   ]
  },
  {
   "cell_type": "code",
   "execution_count": 39,
   "metadata": {},
   "outputs": [],
   "source": [
    "# Write your code in this cell\n",
    "\n",
    "\n",
    "\n"
   ]
  },
  {
   "cell_type": "code",
   "execution_count": null,
   "metadata": {},
   "outputs": [],
   "source": []
  }
 ],
 "metadata": {
  "kernelspec": {
   "display_name": "Python 3.7.9 ('my-rdkit-env')",
   "language": "python",
   "name": "python3"
  },
  "language_info": {
   "codemirror_mode": {
    "name": "ipython",
    "version": 3
   },
   "file_extension": ".py",
   "mimetype": "text/x-python",
   "name": "python",
   "nbconvert_exporter": "python",
   "pygments_lexer": "ipython3",
   "version": "3.11.9"
  },
  "vscode": {
   "interpreter": {
    "hash": "74b0eeecb9694be932ad336503137f0c047c9eb8ec8a4a235079c04fe56ee89e"
   }
  }
 },
 "nbformat": 4,
 "nbformat_minor": 4
}
