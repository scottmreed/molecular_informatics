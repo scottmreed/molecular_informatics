{
 "cells": [
  {
   "cell_type": "markdown",
   "metadata": {},
   "source": [
    "# Molecular Informatics Exam\n",
    "This exam focuses on molecular informatics, including PubChem API usage and molecular analysis with RDKit.\n",
    "\n",
    "**Instructions**:\n",
    "1. Use the cells provided for each question to write your solutions.\n",
    "2. Run the code after completing each question to verify your results.\n",
    "3. Include comments where necessary to explain your approach."
   ]
  },
  {
   "cell_type": "markdown",
   "metadata": {},
   "source": [
    "## Question 1: PubChem API - Compound Properties\n",
    "Use the PubChem API to search for the compound `Caffeine`. Retrieve its CID (Compound ID), Molecular Formula, Molecular Weight, and IUPAC name. Print these properties.\n",
    "\n",
    "**Hints**:\n",
    "- Use the `requests` library to access the PubChem API.\n",
    "- Endpoint: `https://pubchem.ncbi.nlm.nih.gov/rest/pug/compound/name/caffeine/property/MolecularFormula,MolecularWeight,IUPACName/JSON`"
   ]
  },
  {
   "cell_type": "code",
   "execution_count": null,
   "metadata": {},
   "outputs": [],
   "source": [
    "# Your code here\n",
    "import requests\n",
    "compound_name = 'caffeine'\n"
   ]
  },
  {
   "cell_type": "markdown",
   "metadata": {},
   "source": [
    "## Question 2: RDKit Molecule Creation\n",
    "Create an RDKit molecule object for the following SMILES string: `CCO`. Display its 2D structure and calculate the molecular weight.\n",
    "\n",
    "**Hints**:\n",
    "- Use the `rdkit.Chem` module for molecule creation.\n",
    "- Calculate the molecular weight using `rdkit.Chem.Descriptors`."
   ]
  },
  {
   "cell_type": "code",
   "execution_count": null,
   "metadata": {},
   "outputs": [],
   "source": [
    "# Your code here\n",
    "from rdkit import Chem\n",
    "from rdkit.Chem import Draw, Descriptors\n",
    "smiles = 'CCO'\n"
   ]
  },
  {
   "cell_type": "markdown",
   "metadata": {},
   "source": [
    "## Question 3: Substructure Matching\n",
    "Write a function that checks if a molecule contains a carboxylic acid group (`C(=O)O`) as a substructure. Test it using the molecule `CC(=O)O`.\n",
    "\n",
    "**Example**:\n",
    "- Input: `CC(=O)O` (acetic acid)\n",
    "- Output: `True`"
   ]
  },
  {
   "cell_type": "code",
   "execution_count": null,
   "metadata": {},
   "outputs": [],
   "source": [
    "# Your code here\n"
   ]
  },
  {
   "cell_type": "markdown",
   "metadata": {},
   "source": [
    "## Question 4: RDKit - Chemical Descriptors\n",
    "For the molecule with SMILES string `CCCC`, compute and print the following properties using RDKit:\n",
    "- LogP (lipophilicity)\n",
    "- Number of hydrogen bond donors\n",
    "- Number of hydrogen bond acceptors\n",
    "\n",
    "**Hints**:\n",
    "- Use the `rdkit.Chem.Descriptors` and `rdkit.Chem.rdMolDescriptors` modules."
   ]
  },
  {
   "cell_type": "code",
   "execution_count": null,
   "metadata": {},
   "outputs": [],
   "source": [
    "# Your code here\n",
    "smiles = 'CCCC'\n"
   ]
  },
  {
   "cell_type": "markdown",
   "metadata": {},
   "source": [
    "## Question 5: Molecular Fingerprints\n",
    "Generate the Morgan fingerprint for the molecule `CCO` with a radius of 2. Print the fingerprint vector as a list of integers.\n",
    "\n",
    "**Hints**:\n",
    "- Use `rdkit.Chem.AllChem` for generating fingerprints."
   ]
  },
  {
   "cell_type": "code",
   "execution_count": null,
   "metadata": {},
   "outputs": [],
   "source": [
    "# Your code here\n",
    "from rdkit.Chem import AllChem\n",
    "smiles = 'CCO'\n"
   ]
  },
  {
   "cell_type": "markdown",
   "metadata": {},
   "source": [
    "## Question 6: Molecular Similarity\n",
    "Calculate the Tanimoto similarity between the following molecules using RDKit fingerprints:\n",
    "- Molecule 1: `CCO`\n",
    "- Molecule 2: `CCN`\n",
    "\n",
    "**Hints**:\n",
    "- Use `rdkit.DataStructs` to compute the similarity."
   ]
  },
  {
   "cell_type": "code",
   "execution_count": null,
   "metadata": {},
   "outputs": [],
   "source": [
    "# Your code here\n"
   ]
  },
  {
   "cell_type": "markdown",
   "metadata": {},
   "source": [
    "## Question 7: PubChem API - Chemical Safety\n",
    "Using the PubChem API, retrieve the safety information for the compound `Methanol`. Extract the GHS hazard statements and display them.\n",
    "\n",
    "**Hints**:\n",
    "- Look into the `GHSClassification` property of the compound."
   ]
  },
  {
   "cell_type": "code",
   "execution_count": null,
   "metadata": {},
   "outputs": [],
   "source": [
    "# Your code here\n"
   ]
  },
  {
   "cell_type": "markdown",
   "metadata": {},
   "source": [
    "## Question 8: SMILES to InChI Conversion\n",
    "Write a function that takes a SMILES string and converts it to its corresponding InChI string using RDKit. Test it with the SMILES `CCO`.\n",
    "\n",
    "**Example**:\n",
    "- Input: `CCO`\n",
    "- Output: `InChI=1S/C2H6O/c1-2-3/h3H,2H2,1H3`"
   ]
  },
  {
   "cell_type": "code",
   "execution_count": null,
   "metadata": {},
   "outputs": [],
   "source": [
    "# Your code here\n"
   ]
  },
  {
   "cell_type": "markdown",
   "metadata": {},
   "source": [
    "## Question 9: PubChem API - Compound Synonyms\n",
    "Retrieve and print a list of synonyms for the compound `Aspirin` using the PubChem API.\n",
    "\n",
    "**Hints**:\n",
    "- Endpoint: `https://pubchem.ncbi.nlm.nih.gov/rest/pug/compound/name/aspirin/synonyms/JSON`"
   ]
  },
  {
   "cell_type": "code",
   "execution_count": null,
   "metadata": {},
   "outputs": [],
   "source": [
    "# Your code here\n"
   ]
  },
  {
   "cell_type": "markdown",
   "metadata": {},
   "source": [
    "## Question 10: Identifying Functional Groups\n",
    "Write a function that takes a molecule as input and identifies whether it contains the following functional groups:\n",
    "- Alcohol (`CO`)\n",
    "- Amine (`CN`)\n",
    "\n",
    "Test your function with the SMILES string `CCN(CC)CCO`.\n",
    "\n",
    "**Example**:\n",
    "- Input: `CCN(CC)CCO`\n",
    "- Output: `{ 'Alcohol': True, 'Amine': True }`"
   ]
  },
  {
   "cell_type": "code",
   "execution_count": null,
   "metadata": {},
   "outputs": [],
   "source": [
    "# Your code here\n"
   ]
  },
  {
   "cell_type": "markdown",
   "metadata": {},
   "source": [
    "## Question 11: Molecule Visualization\n",
    "Create a grid visualization for the following set of molecules using RDKit's `Draw.MolsToGridImage`:\n",
    "- `CCO`, `CCN`, `CC(=O)O`, `CCCC`\n",
    "\n",
    "Display the molecule names along with the structures."
   ]
  },
  {
   "cell_type": "code",
   "execution_count": null,
   "metadata": {},
   "outputs": [],
   "source": [
    "# Your code here\n",
    "from rdkit.Chem import Draw\n"
   ]
  },
  {
   "cell_type": "markdown",
   "metadata": {},
   "source": [
    "## Question 12: Converting Between Formats\n",
    "Write a function that takes a SMILES string and returns the molecule's molecular formula, InChI, and canonical SMILES. Test it with the SMILES `CCO`.\n",
    "\n",
    "**Example**:\n",
    "- Input: `CCO`\n",
    "- Output: `{ 'Molecular Formula': 'C2H6O', 'InChI': 'InChI=1S/C2H6O/c1-2-3/h3H,2H2,1H3', 'Canonical SMILES': 'CCO' }`"
   ]
  },
  {
   "cell_type": "code",
   "execution_count": null,
   "metadata": {},
   "outputs": [],
   "source": [
    "# Your code here\n"
   ]
  }
 ],
 "metadata": {
  "kernelspec": {
   "display_name": "Python 3",
   "language": "python",
   "name": "python3"
  },
  "language_info": {
   "codemirror_mode": {
    "name": "ipython",
    "version": 3
   },
   "file_extension": ".py",
   "mimetype": "text/x-python",
   "name": "python",
   "nbconvert_exporter": "python",
   "pygments_lexer": "ipython3",
   "version": "3.8.8"
  }
 },
 "nbformat": 4,
 "nbformat_minor": 4
}
