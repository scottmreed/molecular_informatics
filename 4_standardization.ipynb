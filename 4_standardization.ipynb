{
 "cells": [
  {
   "cell_type": "markdown",
   "metadata": {},
   "source": [
    "# Compound vs Substance"
   ]
  },
  {
   "cell_type": "markdown",
   "metadata": {},
   "source": [
    "adapted from https://chem.libretexts.org/Courses/Intercollegiate_Courses/Cheminformatics"
   ]
  },
  {
   "cell_type": "markdown",
   "metadata": {},
   "source": [
    "## Objectives\n",
    "\n",
    "- Understand the difference between compounds and substances in PubChem's terminology.\n",
    "- Learn how chemical structures are represented in a real world.\n",
    "- Understand the disambiguity of name-structure associations.\n",
    "- Learn how to draw chemical structures programmatically."
   ]
  },
  {
   "cell_type": "markdown",
   "metadata": {},
   "source": [
    "Many users can simply run the following code to install RDKit."
   ]
  },
  {
   "cell_type": "raw",
   "metadata": {},
   "source": [
    "# conda install -c rdkit rdkit"
   ]
  },
  {
   "cell_type": "markdown",
   "metadata": {},
   "source": [
    "Access to the full installation instructions can be found at the following link.\n",
    "https://www.rdkit.org/docs/Install.html"
   ]
  },
  {
   "cell_type": "markdown",
   "metadata": {},
   "source": [
    "## 1. Structure Standardization"
   ]
  },
  {
   "cell_type": "markdown",
   "metadata": {},
   "source": [
    "PubChem contains more than 200 millions chemical records submitted by hundreds of data contributors.  These depositor-provided records are archived in a database called \"**Substance**\" and each record in this database is called a **substance**.  The records in the Substance database are highly redundant, because different data contributors may submit information on the same chemical, independently of each other.  Therefore, PubChem extracts unique chemical structures from the Substance database through a process called standardization (https://doi.org/10.1186/s13321-018-0293-8).  These unique structures are stored in the **Compound** database and individaual records in this database is called \"**compounds**\".  To learn more about the PubChem compounds and substances, please read this PubChem Blog post (https://go.usa.gov/xVXct)."
   ]
  },
  {
   "cell_type": "markdown",
   "metadata": {},
   "source": [
    "The code cells below demonstrates the effects of chemical structure standardization."
   ]
  },
  {
   "cell_type": "markdown",
   "metadata": {},
   "source": [
    "**Step 1.** Download a list of the SIDs associated with a given CID"
   ]
  },
  {
   "cell_type": "markdown",
   "metadata": {},
   "source": [
    "First, let's get a list of SIDs that are associated CID 1174 (uracil)."
   ]
  },
  {
   "cell_type": "code",
   "execution_count": 1,
   "metadata": {},
   "outputs": [
    {
     "name": "stdout",
     "output_type": "stream",
     "text": [
      "441\n"
     ]
    }
   ],
   "source": [
    "import requests\n",
    "\n",
    "cid = 1174\n",
    "\n",
    "url = \"https://pubchem.ncbi.nlm.nih.gov/rest/pug/compound/cid/\" + str(cid) + \"/sids/txt\"\n",
    "res = requests.get(url)\n",
    "sids = res.text.split()\n",
    "# print(res.text)\n",
    "print(len(sids))"
   ]
  },
  {
   "cell_type": "markdown",
   "metadata": {},
   "source": [
    "The above request returns 360+ substances, all of which are standardized to the same structure (CID 1174)."
   ]
  },
  {
   "cell_type": "markdown",
   "metadata": {},
   "source": [
    "**Step 2.** Download the structure data for the SIDs"
   ]
  },
  {
   "cell_type": "markdown",
   "metadata": {},
   "source": [
    "Now retrieve the depositor-provided structures for the returned substances.  "
   ]
  },
  {
   "cell_type": "code",
   "execution_count": 6,
   "metadata": {},
   "outputs": [
    {
     "name": "stdout",
     "output_type": "stream",
     "text": [
      "Processing chunk 0\n",
      "https://pubchem.ncbi.nlm.nih.gov/rest/pug/substance/sid/3272,3406,70371,89283,589180,604354,821039,830284,833238,833317,834627,836299,841435,854875,4918950,6912247,7847095,7891019,8020444,8136902,8144098,8151009,10532080,11408110,11447426,14747492,16250541,16957391,22425032,24439523,24900618,24900623,26703210,26709475,26711785,26714117,31636839,32620440,37390689,38544504,46393311,46488312,46504697,48414616,48414919,49703430,49829773,49857721,50125765,50608295/record/sdf\n",
      "Processing chunk 1\n",
      "https://pubchem.ncbi.nlm.nih.gov/rest/pug/substance/sid/51074322,51088798,56260966,57320793,57581115,57581116,57939517,76715622,81040378,81063370,85090286,85090287,85165007,87577744,88010254,88684034,89649977,92298109,92708757,99350629,103162392,103178944,103852164,104296978,104668412,106851196,115001651,117356495,117594046,117664333,121362137,123059562,124349713,124385241,124633721,124800797,124954031,124983012,125001571,126539348,126590070,126648186,126677911,127273868,127273869,127273870,127273871,127273872,127273873,127273874/record/sdf\n",
      "Processing chunk 2\n",
      "https://pubchem.ncbi.nlm.nih.gov/rest/pug/substance/sid/127273875,127273876,127273877,127273878,127273879,127273880,127273881,127273882,127273883,127273884,127273885,127273886,127273887,127273888,127273889,127273890,127273891,127273892,127273893,127273894,127273895,127273896,127342673,127342674,127484650,127594944,128212147,128593395,129774055,131322919,134373060,134972784,135702001,135804407,136058839,136889689,139534938,142339554,143432967,143489811,144020897,144076127,144080941,144206233,144208221,144220420,152242437,152255476,152255623,160661123/record/sdf\n",
      "Processing chunk 3\n",
      "https://pubchem.ncbi.nlm.nih.gov/rest/pug/substance/sid/160798874,160802666,160966542,162089004,162170347,162266731,162276424,162540905,162545502,162557819,162572210,162630153,163370718,163373558,163577362,163805964,163819811,163821544,164027118,164195666,164794925,164846943,164848775,164848776,169994469,170465915,170475156,172088451,172383986,174550120,175267171,175442307,175610928,176254664,178101281,178127022,179292940,179323945,184622995,186012931,186023019,187566379,202549787,204416150,222532689,223400160,223469033,223489801,223533309,223678073/record/sdf\n",
      "Processing chunk 4\n",
      "https://pubchem.ncbi.nlm.nih.gov/rest/pug/substance/sid/223755612,226399480,241035781,241091250,241117197,242058844,242080538,242659425,247673320,248973379,249982759,250208310,251881026,251964800,251964806,252106418,252106541,252106547,252106550,252300493,252304054,252358320,252400617,252447787,253652962,253664087,254761593,255400203,255916948,273012538,274087259,274953250,275880869,276761829,277296020,292510731,310281579,312225710,312642672,312695399,313057925,313082517,313518586,313518589,313539905,315342204,315446541,315494217,315672314,316393335/record/sdf\n",
      "Processing chunk 5\n",
      "https://pubchem.ncbi.nlm.nih.gov/rest/pug/substance/sid/316920165,316921513,316967958,316968908,318154174,318692939,321906132,322093699,328377460,329735657,329751458,329770314,329823489,329828315,329829845,329831136,330000149,335034291,336295572,339984716,340079402,340079403,340089121,340098272,340128601,340462347,340471713,341139789,341163322,341226164,341226599,341255477,341255508,342510061,342529338,342582245,342585571,346402065,346674423,347854767,347914045,348274386,348352295,349095698,349095703,349225028,349225076,349225270,349995286,350081466/record/sdf\n",
      "Processing chunk 6\n",
      "https://pubchem.ncbi.nlm.nih.gov/rest/pug/substance/sid/350089904,354294612,354703128,354915568,355050834,355243834,355432850,355432851,363599807,363894939,363901027,368505686,370870681,374060467,374129234,374210236,375134542,375197824,375338067,375431026,375582750,375668656,375787952,375946029,375972167,375984672,375986783,376145465,376286612,376286785,376286840,376347658,376347659,376654312,376660893,377311256,377498590,377954591,378020070,381002398,381013941,381118597,381342326,381360788,382163676,383308254,384150118,384257697,384403901,384403906/record/sdf\n",
      "Processing chunk 7\n",
      "https://pubchem.ncbi.nlm.nih.gov/rest/pug/substance/sid/384404587,384652095,384994855,384994857,384994860,385643954,386203515,386393272,386452235,386480264,387060632,387105825,387195528,387201489,387208210,402318513,402318514,402318515,402372975,402412469,403382681,404736372,404754450,404779869,405226880,406506998,406715270,419485131,419695740,433774942,433775967,433776899,433778145,434131514,434313298,434430895,438472610,438492689,438512618,438531068,438531184,439958300,440069063,440069400,440818131,441085908,441274615,441299637,441555913,441560087/record/sdf\n",
      "Processing chunk 8\n",
      "https://pubchem.ncbi.nlm.nih.gov/rest/pug/substance/sid/441566058,441624701,442070168,442146617,443549136,443639424,444085131,445428685,445432286,445794440,446085933,446144604,446814216,446859753,446860148,447413655,459144671,459165413,459193812,459197952,459197953,459209127,459220879,459239567,459239568,459342417,461596681,461680149,462373979,462729237,463768161,464244593,464482395,464937011,468630846,468838340,468857836,469422307,469458549,470635957,470681883/record/sdf\n"
     ]
    }
   ],
   "source": [
    "import time\n",
    "\n",
    "chunk_size = 50\n",
    "\n",
    "if len(sids) % chunk_size == 0 :\n",
    "    num_chunks = int( len(sids) / chunk_size )\n",
    "else :\n",
    "    num_chunks = int( len(sids) / chunk_size ) + 1\n",
    "\n",
    "f = open(\"cid2sids-uracil.sdf\", \"w\")\n",
    "\n",
    "for i in range(num_chunks):\n",
    "    \n",
    "    print(\"Processing chunk\", i)\n",
    "    \n",
    "    idx1 = chunk_size * i\n",
    "    idx2 = chunk_size * (i + 1)\n",
    "    str_sids = \",\".join(sids[idx1:idx2])\n",
    "    \n",
    "    url = \"https://pubchem.ncbi.nlm.nih.gov/rest/pug/substance/sid/\" + str_sids + \"/record/sdf\"\n",
    "    print(url)\n",
    "    res = requests.get(url)\n",
    "\n",
    "    f.write(res.text)\n",
    "    time.sleep(0.2)\n",
    "\n",
    "f.close()"
   ]
  },
  {
   "cell_type": "markdown",
   "metadata": {},
   "source": [
    "**Step 3.** Convert the structures in the SDF file into the SMILES strings and identify unique SMILES and their frequencies."
   ]
  },
  {
   "cell_type": "code",
   "execution_count": 7,
   "metadata": {},
   "outputs": [
    {
     "name": "stdout",
     "output_type": "stream",
     "text": [
      "300 O=c1cc[nH]c(=O)[nH]1\n",
      "94 Oc1ccnc(O)n1\n",
      "26 \n",
      "7 O=c1ccnc(O)[nH]1\n",
      "5 O=c1nccc(O)[nH]1\n",
      "5 O=c1nc(O)cc[nH]1\n",
      "4 O=c1cc[nH]c(O)n1\n"
     ]
    }
   ],
   "source": [
    "from rdkit import Chem\n",
    "\n",
    "unique_smiles_freq = dict()\n",
    "\n",
    "suppl = Chem.SDMolSupplier('cid2sids-uracil.sdf')\n",
    "\n",
    "for mol in suppl:\n",
    "\n",
    "    smiles = Chem.MolToSmiles(mol,isomericSmiles=True)\n",
    "\n",
    "    unique_smiles_freq[ smiles ] = unique_smiles_freq.get(smiles,0) + 1\n",
    "\n",
    "sorted_by_freq = [ (v, k) for k, v in unique_smiles_freq.items() ]\n",
    "sorted_by_freq.sort(reverse=True)\n",
    "for v, k in sorted_by_freq :\n",
    "    print(v, k)"
   ]
  },
  {
   "cell_type": "markdown",
   "metadata": {},
   "source": [
    "The above output shows that the 360+ SIDs associated with CID 1174 are represented with six different SMILES strings.  In addition, 12 substance records that resulted in an \"empty\" SMILES strings, implying that the depositors of these substance records did not provide structral information.  You may want to what these 12 substances are, but the above code cell does not tell you what they are.  This can be done using the following code cell."
   ]
  },
  {
   "cell_type": "code",
   "execution_count": 8,
   "metadata": {},
   "outputs": [
    {
     "name": "stdout",
     "output_type": "stream",
     "text": [
      "50608295 : Deposited Substance chemical structure was generated via Synonym \"CID1174\" to be CID 1174\n",
      "76715622 : Deposited Substance chemical structure was generated via Synonym(s) \"uracil\" and MeSH to be CID 1174\n",
      "313082517 : Deposited Substance chemical structure was generated via Synonym(s) \"uracil\" and MeSH to be CID 1174\n",
      "329735657 : Deposited Substance chemical structure was generated via Synonym(s) \"66-22-8\" and Synonym Consistency to be CID 1174\n",
      "330000149 : Deposited Substance chemical structure was generated via Synonym(s) \"uracil\" and MeSH to be CID 1174\n",
      "381002398 : Deposited Substance chemical structure was generated via Synonym(s) \"66-22-8\" and Synonym Consistency to be CID 1174\n",
      "381013941 : Deposited Substance chemical structure was generated via Synonym(s) \"66-22-8\" and Synonym Consistency to be CID 1174\n",
      "381360788 : Deposited Substance chemical structure was generated via Synonym(s) \"uracil\" and MeSH to be CID 1174\n",
      "384257697 : Deposited Substance chemical structure was generated via Synonym(s) \"uracil\" and MeSH to be CID 1174\n",
      "402318513 : Deposited Substance chemical structure was generated via Synonym(s) \"66-22-8\" and Synonym Consistency to be CID 1174\n",
      "402318514 : Deposited Substance chemical structure was generated via Synonym(s) \"66-22-8\" and Synonym Consistency to be CID 1174\n",
      "402318515 : Deposited Substance chemical structure was generated via Synonym(s) \"66-22-8\" and Synonym Consistency to be CID 1174\n",
      "434131514 : Deposited Substance chemical structure was generated via Synonym(s) \"uracil\" and MeSH to be CID 1174\n",
      "438512618 : Deposited Substance chemical structure was generated via Synonym(s) \"uracil\" and MeSH to be CID 1174\n",
      "441085908 : Deposited Substance chemical structure was generated via Synonym(s) \"uracil\" and MeSH to be CID 1174\n",
      "441555913 : Deposited Substance chemical structure was generated via Synonym(s) \"uracil\" and MeSH to be CID 1174\n",
      "441560087 : Deposited Substance chemical structure was generated via Synonym(s) \"uracil\" and MeSH to be CID 1174\n",
      "459144671 : Deposited Substance chemical structure was generated via Synonym(s) \"66-22-8\" and Synonym Consistency to be CID 1174\n",
      "459342417 : Deposited Substance chemical structure was generated via Synonym(s) \"uracil\" and MeSH to be CID 1174\n",
      "468630846 : Deposited Substance chemical structure was generated via Synonym(s) \"2,4(1H,3H)-Pyrimidinedione\" and Synonym Consistency to be CID 1174\n",
      "468838340 : Deposited Substance chemical structure was generated via Synonym(s) \"2,4-dioxopyrimidine\" and Synonym Consistency to be CID 1174\n",
      "468857836 : Deposited Substance chemical structure was generated via Synonym(s) \"51953-14-1\", \"2,4-Pyrimidinediol\" and Synonym Consistency to be CID 1174\n",
      "469422307 : Deposited Substance chemical structure was generated via Synonym(s) \"66255-05-8\", \"4(3H)-Pyrimidinone, 2-hydroxy- (9CI)\" and Synonym Consistency to be CID 1174\n",
      "469458549 : Deposited Substance chemical structure was generated via Synonym(s) \"uracil\" and MeSH to be CID 1174\n",
      "470635957 : Deposited Substance chemical structure was generated via Synonym(s) \"51953-14-1\" and Synonym Consistency to be CID 1174\n",
      "470681883 : Deposited Substance chemical structure was generated via Synonym(s) \"66-22-8\" and Synonym Consistency to be CID 1174\n"
     ]
    }
   ],
   "source": [
    "for mol in suppl:\n",
    "\n",
    "    smiles = Chem.MolToSmiles(mol,isomericSmiles=True)\n",
    "    \n",
    "    if ( smiles == \"\" ) :\n",
    "        print(mol.GetProp('PUBCHEM_SUBSTANCE_ID'), \":\", mol.GetProp('PUBCHEM_SUBS_AUTO_STRUCTURE'))\n"
   ]
  },
  {
   "cell_type": "markdown",
   "metadata": {},
   "source": [
    "Sometimes a data depositor does not provide the structure of a chemical but its chemical synonym(s).  In that case, PubChem uses the chemical synonyms to assign a structure to this structure-less record.  For example, SID 50608295 (one of the 12 structures without SMILES strings in the above output) did not have a depositor-provided structure, but its depositor-provided synonyms include \"CID1174\".  Therefore, PubChem assigns SID 50608295 to CID 1174, although the depositor did not provide the structure of SID 50608295.  (Please check the structure and synonyms for SID 50608295 stored in the SDF file (\"cid2sids-uracil.sdf\") generated in step 2)."
   ]
  },
  {
   "cell_type": "markdown",
   "metadata": {},
   "source": [
    "**Step 4.** Generate the structure images from the SMILES"
   ]
  },
  {
   "cell_type": "markdown",
   "metadata": {},
   "source": [
    "Now we want to see what these SMILES strings look like, by drawing molecular structures from them."
   ]
  },
  {
   "cell_type": "code",
   "execution_count": 13,
   "metadata": {},
   "outputs": [
    {
     "name": "stdout",
     "output_type": "stream",
     "text": [
      "O=c1cc[nH]c(=O)[nH]1\n"
     ]
    },
    {
     "data": {
      "image/png": "[encoded data removed]",
      "text/plain": [
       "<PIL.PngImagePlugin.PngImageFile image mode=RGB size=150x150 at 0x7F93145D3250>"
      ]
     },
     "metadata": {},
     "output_type": "display_data"
    },
    {
     "name": "stdout",
     "output_type": "stream",
     "text": [
      "Oc1ccnc(O)n1\n"
     ]
    },
    {
     "data": {
      "image/png": "[encoded data removed]",
      "text/plain": [
       "<PIL.PngImagePlugin.PngImageFile image mode=RGB size=150x150 at 0x7F93120DFC50>"
      ]
     },
     "metadata": {},
     "output_type": "display_data"
    },
    {
     "name": "stdout",
     "output_type": "stream",
     "text": [
      "O=c1nc(O)cc[nH]1\n"
     ]
    },
    {
     "data": {
      "image/png": "[encoded data removed]",
      "text/plain": [
       "<PIL.PngImagePlugin.PngImageFile image mode=RGB size=150x150 at 0x7F931246F9D0>"
      ]
     },
     "metadata": {},
     "output_type": "display_data"
    },
    {
     "name": "stdout",
     "output_type": "stream",
     "text": [
      "O=c1nccc(O)[nH]1\n"
     ]
    },
    {
     "data": {
      "image/png": "[encoded data removed]",
      "text/plain": [
       "<PIL.PngImagePlugin.PngImageFile image mode=RGB size=150x150 at 0x7F93120F8650>"
      ]
     },
     "metadata": {},
     "output_type": "display_data"
    },
    {
     "name": "stdout",
     "output_type": "stream",
     "text": [
      "O=c1ccnc(O)[nH]1\n"
     ]
    },
    {
     "data": {
      "image/png": "[encoded data removed]",
      "text/plain": [
       "<PIL.PngImagePlugin.PngImageFile image mode=RGB size=150x150 at 0x7F931246FCD0>"
      ]
     },
     "metadata": {},
     "output_type": "display_data"
    },
    {
     "name": "stdout",
     "output_type": "stream",
     "text": [
      "O=c1cc[nH]c(O)n1\n"
     ]
    },
    {
     "data": {
      "image/png": "[encoded data removed]",
      "text/plain": [
       "<PIL.PngImagePlugin.PngImageFile image mode=RGB size=150x150 at 0x7F93138D47D0>"
      ]
     },
     "metadata": {},
     "output_type": "display_data"
    }
   ],
   "source": [
    "from rdkit.Chem import Draw\n",
    "\n",
    "\n",
    "for mysmiles in unique_smiles_freq.keys() :\n",
    "\n",
    "    if mysmiles != \"\" :\n",
    "        \n",
    "        print(mysmiles)\n",
    "        img = Draw.MolToImage( Chem.MolFromSmiles(mysmiles), size=(150, 150) )\n",
    "        display(img)\n"
   ]
  },
  {
   "cell_type": "markdown",
   "metadata": {},
   "source": [
    "You may want to write these molecule images in files, rather than displaying them on this Jupyter notebook."
   ]
  },
  {
   "cell_type": "code",
   "execution_count": 14,
   "metadata": {},
   "outputs": [],
   "source": [
    "from rdkit.Chem import Draw\n",
    "\n",
    "index = 1\n",
    "\n",
    "for mysmiles in unique_smiles_freq.keys() :\n",
    "\n",
    "    if mysmiles != \"\" :\n",
    "        \n",
    "        filename = 'image' + str(index) +'.png'\n",
    "        Draw.MolToFile( Chem.MolFromSmiles(mysmiles), filename )\n",
    "        index += 1"
   ]
  },
  {
   "cell_type": "markdown",
   "metadata": {},
   "source": [
    "You may also want to display all the images in a single figure."
   ]
  },
  {
   "cell_type": "code",
   "execution_count": 15,
   "metadata": {},
   "outputs": [],
   "source": [
    "from PIL import Image"
   ]
  },
  {
   "cell_type": "code",
   "execution_count": 18,
   "metadata": {},
   "outputs": [
    {
     "data": {
      "image/png": "[encoded data removed]",
      "text/plain": [
       "<PIL.Image.Image image mode=RGB size=900x150 at 0x7F93145C7DD0>"
      ]
     },
     "metadata": {},
     "output_type": "display_data"
    }
   ],
   "source": [
    "images = []\n",
    "\n",
    "for mysmiles in unique_smiles_freq.keys() :\n",
    "\n",
    "    if mysmiles != \"\" :\n",
    "        \n",
    "        img = Draw.MolToImage( Chem.MolFromSmiles(mysmiles), size=(150, 150) )\n",
    "        images.append(img)\n",
    "\n",
    "big_img = Image.new('RGB', (900,150))  # enought to arrange six 150x150 images\n",
    "\n",
    "for i in range(0,len(images)):\n",
    "\n",
    "    #paste the image at location i,j:\n",
    "    big_img.paste(images[i], (i*150, 0 ) )\n",
    "\n",
    "big_img.text=({'1':'a'})\n",
    "\n",
    "display(big_img)"
   ]
  },
  {
   "cell_type": "code",
   "execution_count": 19,
   "metadata": {},
   "outputs": [],
   "source": [
    "big_img.save('image_grid.png')"
   ]
  },
  {
   "cell_type": "markdown",
   "metadata": {},
   "source": [
    "As shown these chemical images, the 360+ substances associated with CID 1174 (uracil) correspond to six tautomeric form of uracil, which differ from each other in the position of \"movable\" hydrogen atoms.  Compare these structures with their standardized structure (CID 1174)."
   ]
  },
  {
   "cell_type": "code",
   "execution_count": 21,
   "metadata": {},
   "outputs": [
    {
     "name": "stdout",
     "output_type": "stream",
     "text": [
      "C1=CNC(=O)NC1=O\n",
      "\n"
     ]
    },
    {
     "data": {
      "image/png": "[encoded data removed]",
      "text/plain": [
       "<PIL.PngImagePlugin.PngImageFile image mode=RGB size=150x150 at 0x7F93145F2510>"
      ]
     },
     "execution_count": 21,
     "metadata": {},
     "output_type": "execute_result"
    }
   ],
   "source": [
    "res = requests.get('https://pubchem.ncbi.nlm.nih.gov/rest/pug/compound/cid/1174/property/isomericsmiles/txt')\n",
    "print(res.text)\n",
    "img = Draw.MolToImage( Chem.MolFromSmiles( res.text.rstrip() ), size=(150, 150) )\n",
    "img"
   ]
  },
  {
   "cell_type": "markdown",
   "metadata": {},
   "source": [
    "Alternatively, you can get the structure image of CID 1174 from PubChem."
   ]
  },
  {
   "cell_type": "code",
   "execution_count": 23,
   "metadata": {},
   "outputs": [
    {
     "data": {
      "text/html": [
       "<img src=\"https://pubchem.ncbi.nlm.nih.gov/rest/pug/compound/cid/1174/record/PNG?image_size=300x300\"/>"
      ],
      "text/plain": [
       "<IPython.core.display.Image object>"
      ]
     },
     "execution_count": 23,
     "metadata": {},
     "output_type": "execute_result"
    }
   ],
   "source": [
    "from IPython.display import Image\n",
    "Image(url='https://pubchem.ncbi.nlm.nih.gov/rest/pug/compound/cid/1174/record/PNG?image_size=300x300')"
   ]
  },
  {
   "cell_type": "markdown",
   "metadata": {},
   "source": [
    "**Exercise 1a:** The **MolToSmiles()** function used in **Step 3** generates the canonical SMILES string by default.  Read the RDKit manual about the arguments available for this function (https://www.rdkit.org/docs/source/rdkit.Chem.rdmolfiles.html) and write a code that generates non-canonical SMILES strings for the 360+ substance records associated with uracil (CID 1174).\n",
    "\n",
    "- Ignore/skip structure-less records using a conditional statement (i.e., an if statement).\n",
    "- Print the number of unique non-canonical SMILES.\n",
    "- Print unique non-canonical SMILES, sorted by frequency.\n",
    "- For a given molecule, there may be multiple ways to write SMILES strings: one of them is selected as the \"canonical\" SMILES and all the others are considered as \"non-canonical\".  However, for the purpose of this exercise, we want to generate only one non-canonical SMILES for each record (because the function will return only one SMILES string (the canonical SMILES or one of possible non-canonical SMILES))."
   ]
  },
  {
   "cell_type": "code",
   "execution_count": 13,
   "metadata": {},
   "outputs": [],
   "source": [
    "# Write your code in this cell.\n",
    "\n",
    "\n"
   ]
  },
  {
   "cell_type": "markdown",
   "metadata": {},
   "source": [
    "**Exercise 1b:**  The RDKit function \"**MolsToGridImage()**\" allows you to draw a \"grid image\" that shows multiple structures.  Read the RDKit manual about \"**MolsToGridImage()**\" (https://www.rdkit.org/docs/source/rdkit.Chem.Draw.html) and display the structures represented by the unique non-canonical SMILES generated from **Exercise 1a**.  "
   ]
  },
  {
   "cell_type": "code",
   "execution_count": 14,
   "metadata": {},
   "outputs": [],
   "source": [
    "# Write your code in this cell.\n",
    "\n",
    "\n",
    "\n"
   ]
  },
  {
   "cell_type": "markdown",
   "metadata": {},
   "source": [
    "**Exercise 1c:** Retrieve the substance records associated with guanine (CID 135398634) and display unique structures generated from them, by following these steps:\n",
    "\n",
    "- Retrieve the SIDs associated CID 135398634\n",
    "- Download the structure data for the retrieved SIDs (in SDF)\n",
    "- Generate canonical SMILES strings from the structure data in the SDF file and identify unique canonical SMILES strings\n",
    "- Draw the structures represented by the unqiue canonical SMILES strings in a single figure."
   ]
  },
  {
   "cell_type": "code",
   "execution_count": 15,
   "metadata": {},
   "outputs": [],
   "source": [
    "# Write your code in this cell.\n",
    "\n",
    "\n"
   ]
  },
  {
   "cell_type": "markdown",
   "metadata": {},
   "source": [
    "**Exercise 1d:** Retrieve the substance records whose synonym is \"glucose\" and display unique structures generated from them, by following these steps:\n",
    "\n",
    "- Retrieve the SIDs whose synonym is \"glucose\".\n",
    "- Download the structure data for the retrieved SIDs (in SDF)\n",
    "- Generate canonical SMILES strings from the structure data in the SDF file and identify unique canonical SMILES strings\n",
    "- Draw the structures represented by the unqiue canonical SMILES strings in a single figure.\n"
   ]
  },
  {
   "cell_type": "code",
   "execution_count": 16,
   "metadata": {},
   "outputs": [],
   "source": [
    "# Write your code in this cell.\n",
    "\n",
    "\n"
   ]
  },
  {
   "cell_type": "markdown",
   "metadata": {},
   "source": [
    "**Exercise 1e:** Retrieve the compound records associated with the SIDs retrieved in **Exercise 1d** and display unique structures generated from them, by following these steps:\n",
    "\n",
    "- Retrieve the CIDs associated with the SIDs whose name is \"glucose\", using a single PUG-REST request (i.e., using the list conversion covered in the previous notebook, \"lecture03-list-conversion.ipynb\").\n",
    "- Identify unique CIDs from the returned CIDs, using the **set()** function in python.\n",
    "- Retrieve the isomeric SMILES for the unique CIDs through PUG-REST.\n",
    "- Draw the structures represented by the returned SMILES strings in a single figure."
   ]
  },
  {
   "cell_type": "code",
   "execution_count": 17,
   "metadata": {},
   "outputs": [],
   "source": [
    "# Write your code in this cell.\n",
    "\n",
    "\n"
   ]
  }
 ],
 "metadata": {
  "kernelspec": {
   "display_name": "molecular_informatics",
   "language": "python",
   "name": "python3"
  },
  "language_info": {
   "codemirror_mode": {
    "name": "ipython",
    "version": 3
   },
   "file_extension": ".py",
   "mimetype": "text/x-python",
   "name": "python",
   "nbconvert_exporter": "python",
   "pygments_lexer": "ipython3",
   "version": "3.11.9"
  },
  "varInspector": {
   "cols": {
    "lenName": 16,
    "lenType": 16,
    "lenVar": 40
   },
   "kernels_config": {
    "python": {
     "delete_cmd_postfix": "",
     "delete_cmd_prefix": "del ",
     "library": "var_list.py",
     "varRefreshCmd": "print(var_dic_list())"
    },
    "r": {
     "delete_cmd_postfix": ") ",
     "delete_cmd_prefix": "rm(",
     "library": "var_list.r",
     "varRefreshCmd": "cat(var_dic_list()) "
    }
   },
   "types_to_exclude": [
    "module",
    "function",
    "builtin_function_or_method",
    "instance",
    "_Feature"
   ],
   "window_display": false
  }
 },
 "nbformat": 4,
 "nbformat_minor": 4
}
