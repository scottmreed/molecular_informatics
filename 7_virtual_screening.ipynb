{
 "cells": [
  {
   "cell_type": "markdown",
   "metadata": {},
   "source": [
    "# Virtual Screening"
   ]
  },
  {
   "cell_type": "markdown",
   "metadata": {},
   "source": [
    "## Objectives"
   ]
  },
  {
   "cell_type": "markdown",
   "metadata": {},
   "source": [
    "- Perform virtual screening against PubChem using ligand-based approach\n",
    "- Apply filters to prioritize virtual screening hit list.\n",
    "- Learn how to use pandas' data frame."
   ]
  },
  {
   "cell_type": "markdown",
   "metadata": {},
   "source": [
    "In this notebook, we perform virtual screening against PubChem using a set of known ligands for muscle glycogen phosphorylase.  Compound filters will be applied to identify drug-like compounds and unique structures in terms of canonical SMILES will be selected to remove redundant structures.  For some top-ranked compounds in the list, their binding mode will be predicted using molecular docking (which will be covered in a separate assignment)."
   ]
  },
  {
   "cell_type": "markdown",
   "metadata": {},
   "source": [
    "## 1. Read known ligands from a file."
   ]
  },
  {
   "cell_type": "markdown",
   "metadata": {},
   "source": [
    "As a starting point, let's download a set of known ligands against muscle glycogen phosphorylase.  From Canvas download the pygm_1c8k_actives.ism file. These data are obtained from the DUD-E (Directory of Useful Decoys, Enhanced) data sets (http://dude.docking.org/), which contain known actives and inactives for 102 protein targets.  The DUD-E sets are widely used in benchmarking studies that compare the performance of different virtual screening approaches (https://doi.org/10.1021/jm300687e)."
   ]
  },
  {
   "cell_type": "markdown",
   "metadata": {},
   "source": [
    "This is how the pygm_1c8k_actives.ism file was generated: Go to the DUD-E target page (http://dude.docking.org/targets) and find muscle glycogen phosphorylase (Target Name: PYGM, PDB ID: 1c8k) from the target list.  Clicking the target name \"PYGM\" directs you to the page that lists various files (http://dude.docking.org/targets/pygm).  Download file \"**actives_final.ism**\", which contains the SMILES strings of known actives.  Rename the file name as \"**pygm_1c8k_actives.ism**\".  \\[Open the file in WordPad or other text viewer/editor to check the format of this file\\]."
   ]
  },
  {
   "cell_type": "markdown",
   "metadata": {},
   "source": [
    "Now read the data from the file using the pandas library (https://pandas.pydata.org/).  Please go through some tutorials available at https://pandas.pydata.org/pandas-docs/version/0.15/tutorials.html"
   ]
  },
  {
   "cell_type": "code",
   "execution_count": 2,
   "metadata": {},
   "outputs": [],
   "source": [
    "import pandas as pd"
   ]
  },
  {
   "cell_type": "code",
   "execution_count": 4,
   "metadata": {},
   "outputs": [
    {
     "data": {
      "text/html": [
       "<div>\n",
       "<style scoped>\n",
       "    .dataframe tbody tr th:only-of-type {\n",
       "        vertical-align: middle;\n",
       "    }\n",
       "\n",
       "    .dataframe tbody tr th {\n",
       "        vertical-align: top;\n",
       "    }\n",
       "\n",
       "    .dataframe thead th {\n",
       "        text-align: right;\n",
       "    }\n",
       "</style>\n",
       "<table border=\"1\" class=\"dataframe\">\n",
       "  <thead>\n",
       "    <tr style=\"text-align: right;\">\n",
       "      <th></th>\n",
       "      <th>smiles</th>\n",
       "      <th>dat</th>\n",
       "      <th>id</th>\n",
       "    </tr>\n",
       "  </thead>\n",
       "  <tbody>\n",
       "    <tr>\n",
       "      <th>0</th>\n",
       "      <td>c1ccc2cc(c(cc2c1)NC(=O)c3cc(ccn3)N(=O)=O)Oc4cc...</td>\n",
       "      <td>220668</td>\n",
       "      <td>CHEMBL134802</td>\n",
       "    </tr>\n",
       "    <tr>\n",
       "      <th>1</th>\n",
       "      <td>CC1=C(C(C(=C(N1Cc2ccc(cc2)Cl)C(=O)O)C(=O)O)c3c...</td>\n",
       "      <td>189331</td>\n",
       "      <td>CHEMBL115651</td>\n",
       "    </tr>\n",
       "    <tr>\n",
       "      <th>2</th>\n",
       "      <td>CCN1C(=C(C(C(=C1C(=O)O)C(=O)O)c2ccccc2Cl)C(=O)...</td>\n",
       "      <td>188996</td>\n",
       "      <td>CHEMBL113736</td>\n",
       "    </tr>\n",
       "    <tr>\n",
       "      <th>3</th>\n",
       "      <td>c1cc(c(c(c1)F)NC(=O)c2cc(ccn2)N(=O)=O)Oc3ccc(c...</td>\n",
       "      <td>219845</td>\n",
       "      <td>CHEMBL133911</td>\n",
       "    </tr>\n",
       "    <tr>\n",
       "      <th>4</th>\n",
       "      <td>CC1=C(C(C(=C(N1Cc2cccc(c2)N(=O)=O)C(=O)O)C(=O)...</td>\n",
       "      <td>189034</td>\n",
       "      <td>CHEMBL423509</td>\n",
       "    </tr>\n",
       "  </tbody>\n",
       "</table>\n",
       "</div>"
      ],
      "text/plain": [
       "                                              smiles     dat            id\n",
       "0  c1ccc2cc(c(cc2c1)NC(=O)c3cc(ccn3)N(=O)=O)Oc4cc...  220668  CHEMBL134802\n",
       "1  CC1=C(C(C(=C(N1Cc2ccc(cc2)Cl)C(=O)O)C(=O)O)c3c...  189331  CHEMBL115651\n",
       "2  CCN1C(=C(C(C(=C1C(=O)O)C(=O)O)c2ccccc2Cl)C(=O)...  188996  CHEMBL113736\n",
       "3  c1cc(c(c(c1)F)NC(=O)c2cc(ccn2)N(=O)=O)Oc3ccc(c...  219845  CHEMBL133911\n",
       "4  CC1=C(C(C(=C(N1Cc2cccc(c2)N(=O)=O)C(=O)O)C(=O)...  189034  CHEMBL423509"
      ]
     },
     "execution_count": 4,
     "metadata": {},
     "output_type": "execute_result"
    }
   ],
   "source": [
    "colnames = ['smiles','dat', 'id']\n",
    "df_act = pd.read_csv(\"pygm_1c8k_actives.ism\", sep=\" \", names=colnames)\n",
    "df_act.head()"
   ]
  },
  {
   "cell_type": "code",
   "execution_count": 5,
   "metadata": {},
   "outputs": [
    {
     "name": "stdout",
     "output_type": "stream",
     "text": [
      "77\n"
     ]
    }
   ],
   "source": [
    "print(len(df_act))    # Show how many structures are in the \"data frame\""
   ]
  },
  {
   "cell_type": "markdown",
   "metadata": {},
   "source": [
    "Let's speed things up by taking only the top 20 from this list"
   ]
  },
  {
   "cell_type": "code",
   "execution_count": 6,
   "metadata": {},
   "outputs": [],
   "source": [
    "df_short = df_act[0:39]"
   ]
  },
  {
   "cell_type": "markdown",
   "metadata": {},
   "source": [
    "Let's look at a few of these \"actives\""
   ]
  },
  {
   "cell_type": "code",
   "execution_count": 8,
   "metadata": {},
   "outputs": [
    {
     "name": "stdout",
     "output_type": "stream",
     "text": [
      "['c1ccc2cc(c(cc2c1)NC(=O)c3cc(ccn3)N(=O)=O)Oc4ccc(c(c4)C(=O)O)C(=O)O', 'CC1=C(C(C(=C(N1Cc2ccc(cc2)Cl)C(=O)O)C(=O)O)c3ccccc3Cl)C(=O)OC(C)C', 'CCN1C(=C(C(C(=C1C(=O)O)C(=O)O)c2ccccc2Cl)C(=O)NCC(C)C)C', 'c1cc(c(c(c1)F)NC(=O)c2cc(ccn2)N(=O)=O)Oc3ccc(c(c3)C(=O)O)C(=O)O', 'CC1=C(C(C(=C(N1Cc2cccc(c2)N(=O)=O)C(=O)O)C(=O)O)c3ccccc3Cl)C(=O)OC(C)C']\n"
     ]
    },
    {
     "data": {
      "image/png": "[encoded data removed]",
      "text/plain": [
       "<IPython.core.display.Image object>"
      ]
     },
     "metadata": {},
     "output_type": "display_data"
    }
   ],
   "source": [
    "from rdkit import Chem\n",
    "from rdkit.Chem import Draw\n",
    "\n",
    "mols = []\n",
    "smiles_top = df_short.head(5).smiles.to_list()\n",
    "print(smiles_top)\n",
    "for mysmiles in smiles_top :\n",
    "\n",
    "    mol = Chem.MolFromSmiles(mysmiles)\n",
    "    mols.append(mol)\n",
    "\n",
    "# mylegends = [ \"CID \" + str(x) for x in cids_top ]\n",
    "img = Draw.MolsToGridImage(mols, molsPerRow=2, subImgSize=(400,400))\n",
    "display(img)"
   ]
  },
  {
   "cell_type": "markdown",
   "metadata": {},
   "source": [
    "## 2. Similarity Search against PubChem"
   ]
  },
  {
   "cell_type": "markdown",
   "metadata": {},
   "source": [
    "Now, let's perform similarity search against PubChem using each known active compound as a query.  There are a few things to mention in this step:\n",
    "\n",
    "- The isomeric SMILES string is available for each query compound. This string will be used to specify the input structure, so HTTP POST should be used.  (Please review lecture02-structure-inputs.ipynb)\n",
    "\n",
    "- During PubChem's similarity search, molecular similarity is evaluated using the **PubChem fingerprints** and **Tanimoto** coefficient.  By default, similarity search will return compounds with Tanimoter scores of **0.9 or higher**.  While we will use the default threshold in this practice, it is noteworthy that it is adjustable.  If you use a higher threshold (e.g., 0.99), you will get a fewer hits, which are too similar to the query compounds.  If you use a lower threshold (e.g., 0.88), you will get more hits, but they will include more false positives.\n",
    "\n",
    "- PubChem's similarity search does **not** return the similarity scores between the query and hit compounds.  Only the hit compound list is returned, which makes it difficult to rank the hit compounds for compound selection.  To address this issue, for each hit compound, we compute **the number of query compounds that returned that compound as a hit.**  \\[Because we are using multiple query compounds for similarity search, it is possible for different query compounds to return the same compound as a hit.  That is, the hit compound may be similar to multiple query compounds.  The underlying assumption is that hit compounds returned multiple times from different queries are more likely to be active than those returned only once from a single query.\\]\n",
    "\n",
    "- Add \"time.sleep()\" to avoid overloading PubChem servers and getting blocked."
   ]
  },
  {
   "cell_type": "code",
   "execution_count": 9,
   "metadata": {},
   "outputs": [],
   "source": [
    "smiles_act = df_short.smiles.to_list()"
   ]
  },
  {
   "cell_type": "code",
   "execution_count": 10,
   "metadata": {},
   "outputs": [],
   "source": [
    "import time\n",
    "import requests\n",
    "\n",
    "prolog = \"https://pubchem.ncbi.nlm.nih.gov/rest/pug\"\n",
    "\n",
    "cids_hit = dict()\n",
    "\n",
    "for idx, mysmiles in enumerate(smiles_act) :\n",
    "    \n",
    "    mydata = { 'smiles' : mysmiles }\n",
    "    \n",
    "    url = prolog + \"/compound/fastsimilarity_2d/smiles/cids/txt\"\n",
    "    res = requests.post(url, data=mydata)\n",
    "\n",
    "    if ( res.status_code == 200 ) :\n",
    "        cids = res.text.split()\n",
    "        cids = [ int(x) for x in cids ]    # Convert CIDs from string to integer.\n",
    "    else :\n",
    "        print(\"Error at\", idx, \":\", df_short.loc[idx,'id'], mysmiles )\n",
    "        print(res.status_code)\n",
    "        print(res.content)\n",
    "    \n",
    "    for mycid in cids:\n",
    "        cids_hit[mycid] = cids_hit.get(mycid, 0) + 1\n",
    "    \n",
    "    time.sleep(0.2)"
   ]
  },
  {
   "cell_type": "code",
   "execution_count": 11,
   "metadata": {},
   "outputs": [
    {
     "data": {
      "text/plain": [
       "23542"
      ]
     },
     "execution_count": 11,
     "metadata": {},
     "output_type": "execute_result"
    }
   ],
   "source": [
    "len(cids_hit)    # Show the number of compounds returned from any query."
   ]
  },
  {
   "cell_type": "markdown",
   "metadata": {},
   "source": [
    "In the above code cells, the returned hits are stored in a dictionary, along with the number of times they are returned.  Let's print the top 10 compounds that are returned the most number of times from the search."
   ]
  },
  {
   "cell_type": "code",
   "execution_count": 12,
   "metadata": {},
   "outputs": [
    {
     "name": "stdout",
     "output_type": "stream",
     "text": [
      "0 (10, 44357938)\n",
      "1 (10, 44357937)\n",
      "2 (10, 44357907)\n",
      "3 (10, 44354348)\n",
      "4 (10, 21974595)\n",
      "5 (10, 11779854)\n",
      "6 (9, 93077065)\n",
      "7 (9, 93077064)\n",
      "8 (9, 69517802)\n",
      "9 (9, 69196722)\n"
     ]
    }
   ],
   "source": [
    "sorted_by_freq = [ (v, k) for k, v in cids_hit.items() ]\n",
    "sorted_by_freq.sort(reverse=True)\n",
    "\n",
    "for v, k in enumerate(sorted_by_freq) :\n",
    "\n",
    "    if v == 10 : \n",
    "        break\n",
    "    \n",
    "    print(v, k) # Print (frequency, CID)\n",
    "    "
   ]
  },
  {
   "cell_type": "markdown",
   "metadata": {},
   "source": [
    "## 3. Exclude the query compounds from the hits"
   ]
  },
  {
   "cell_type": "markdown",
   "metadata": {},
   "source": [
    "In the previous step, we repeated similarity searches using multiple query molecules.  This may result in a query molecule being returned as a hit from similarity search using another query molecule.  Therefore, we want to check if the hit compound list has any query compounds and if any, we want to remove them.  Below, we search PubChem for compounds identical to the query molecules and remove them from the hit compound list.<p>\n",
    "Note that the identity_type parameter in the PUG-REST request is set to \"**same_connectivity**\", which will return compounds with the same connectivity with the query molecule (ignoring stereochemistry and isotope information).  The default for this parameter is \"same_stereo_isotope\", which returns compounds with the same stereochemistry AND isotope information."
   ]
  },
  {
   "cell_type": "code",
   "execution_count": 13,
   "metadata": {},
   "outputs": [],
   "source": [
    "cids_query = dict()\n",
    "\n",
    "for idx, mysmiles in enumerate(smiles_act) :\n",
    "    \n",
    "    mydata = { 'smiles' : mysmiles }\n",
    "    url = prolog + \"/compound/fastidentity/smiles/cids/txt?identity_type=same_connectivity\"\n",
    "    res = requests.post(url, data=mydata)\n",
    "\n",
    "    if ( res.status_code == 200 ) :\n",
    "        cids = res.text.split()\n",
    "        cids = [ int(x) for x in cids]\n",
    "    else :\n",
    "        print(\"Error at\", idx, \":\", df_short.loc[idx,'id'], mysmiles )\n",
    "        print(res.status_code)\n",
    "        print(res.content)\n",
    "       \n",
    "    for mycid in cids:\n",
    "        cids_query[mycid] = cids_query.get(mycid, 0) + 1\n",
    "    \n",
    "    time.sleep(0.2)"
   ]
  },
  {
   "cell_type": "code",
   "execution_count": 14,
   "metadata": {},
   "outputs": [
    {
     "data": {
      "text/plain": [
       "46"
      ]
     },
     "execution_count": 14,
     "metadata": {},
     "output_type": "execute_result"
    }
   ],
   "source": [
    "len(cids_query.keys())    # Show the number of CIDs that represent the query compounds."
   ]
  },
  {
   "cell_type": "markdown",
   "metadata": {},
   "source": [
    "Now remove the query compounds from the hit list (if they are found in the list)"
   ]
  },
  {
   "cell_type": "code",
   "execution_count": 17,
   "metadata": {},
   "outputs": [],
   "source": [
    "for mycid in cids_query.keys() :\n",
    "    \n",
    "    cids_hit.pop(mycid, None)"
   ]
  },
  {
   "cell_type": "code",
   "execution_count": 18,
   "metadata": {},
   "outputs": [
    {
     "data": {
      "text/plain": [
       "23496"
      ]
     },
     "execution_count": 18,
     "metadata": {},
     "output_type": "execute_result"
    }
   ],
   "source": [
    "len(cids_hit)"
   ]
  },
  {
   "cell_type": "markdown",
   "metadata": {},
   "source": [
    "Print the top 10 compounds in the current hit list and compare them with the old ones."
   ]
  },
  {
   "cell_type": "code",
   "execution_count": 19,
   "metadata": {},
   "outputs": [
    {
     "name": "stdout",
     "output_type": "stream",
     "text": [
      "0 (10, 44354348)\n",
      "1 (10, 11779854)\n",
      "2 (9, 93077065)\n",
      "3 (9, 93077064)\n",
      "4 (9, 69517802)\n",
      "5 (9, 69196722)\n",
      "6 (9, 69195697)\n",
      "7 (9, 69195207)\n",
      "8 (9, 56399477)\n",
      "9 (9, 56361540)\n"
     ]
    }
   ],
   "source": [
    "sorted_by_freq = [ (v, k) for k, v in cids_hit.items() ]\n",
    "sorted_by_freq.sort(reverse=True)\n",
    "\n",
    "for v, k in enumerate(sorted_by_freq) :\n",
    "    \n",
    "    if v == 10 : \n",
    "        break\n",
    "    \n",
    "    print(v, k)    # Print (frequency, CID)\n"
   ]
  },
  {
   "cell_type": "markdown",
   "metadata": {},
   "source": [
    "## 4. Filtering out non-drug-like compounds"
   ]
  },
  {
   "cell_type": "markdown",
   "metadata": {},
   "source": [
    "In this step, non-drug-like compounds are filtered out from the list.  To do that, four molecular properties are downloaded from PubChem and stored in CSV."
   ]
  },
  {
   "cell_type": "code",
   "execution_count": 20,
   "metadata": {},
   "outputs": [
    {
     "name": "stdout",
     "output_type": "stream",
     "text": [
      "# Number of chunks: 235\n",
      "0 1 2 3 4 5 6 7 8 9 10 11 12 13 14 15 16 17 18 19 20 21 22 23 24 25 26 27 28 29 30 31 32 33 34 35 36 37 38 39 40 41 42 43 44 45 46 47 48 49 50 51 52 53 54 55 56 57 58 59 60 61 62 63 64 65 66 67 68 69 70 71 72 73 74 75 76 77 78 79 80 81 82 83 84 85 86 87 88 89 90 91 92 93 94 95 96 97 98 99 100 101 102 103 104 105 106 107 108 109 110 111 112 113 114 115 116 117 118 119 120 121 122 123 124 125 126 127 128 129 130 131 132 133 134 135 136 137 138 139 140 141 142 143 144 145 146 147 148 149 150 151 152 153 154 155 156 157 158 159 160 161 162 163 164 165 166 167 168 169 170 171 172 173 174 175 176 177 178 179 180 181 182 183 184 185 186 187 188 189 190 191 192 193 194 195 196 197 198 199 200 201 202 203 204 205 206 207 208 209 210 211 212 213 214 215 216 217 218 219 220 221 222 223 224 225 226 227 228 229 230 231 232 233 234 "
     ]
    }
   ],
   "source": [
    "chunk_size = 100\n",
    "\n",
    "if ( len(cids_hit) % chunk_size == 0 ) :\n",
    "    num_chunks = len(cids_hit) // chunk_size \n",
    "else :\n",
    "    num_chunks = len(cids_hit) // chunk_size + 1\n",
    "\n",
    "cids_list = list(cids_hit.keys())\n",
    "    \n",
    "print(\"# Number of chunks:\", num_chunks )\n",
    "\n",
    "csv = \"\"   #sets a variable called csv to save the comma separated output\n",
    "\n",
    "for i in range(num_chunks) :\n",
    "    \n",
    "    print(i, end=\" \")\n",
    "    \n",
    "    idx1 = chunk_size * i\n",
    "    idx2 = chunk_size * (i + 1)\n",
    "\n",
    "    cids_str = \",\".join([ str(x) for x in cids_list[idx1:idx2] ]) # build pug input for chunks of data\n",
    "    url = prolog + \"/compound/cid/\" + cids_str + \"/property/HBondDonorCount,HBondAcceptorCount,MolecularWeight,XLogP,CanonicalSMILES,IsomericSMILES/csv\"\n",
    "    \n",
    "    res = requests.get(url)\n",
    "    \n",
    "    if ( i == 0 ) : # if this is the first request, store result in empty csv variable\n",
    "        csv = res.text \n",
    "    else :          # if this is a subsequent request, add the request to the csv variable adding a new line between chunks\n",
    "        csv = csv + \"\\n\".join(res.text.split()[1:]) + \"\\n\" \n",
    "      \n",
    "    time.sleep(0.2)\n",
    "\n",
    "#print(csv)"
   ]
  },
  {
   "cell_type": "markdown",
   "metadata": {},
   "source": [
    "Downloaded data (in CSV) are loaded into a pandas data frame."
   ]
  },
  {
   "cell_type": "code",
   "execution_count": 21,
   "metadata": {},
   "outputs": [
    {
     "data": {
      "text/plain": [
       "(23496, 7)"
      ]
     },
     "execution_count": 21,
     "metadata": {},
     "output_type": "execute_result"
    }
   ],
   "source": [
    "from io import StringIO\n",
    "\n",
    "csv_file = StringIO(csv)\n",
    "\n",
    "df_raw = pd.read_csv(csv_file, sep=\",\")\n",
    "\n",
    "df_raw.shape    # Show the shape (dimesnion) of the data frame"
   ]
  },
  {
   "cell_type": "code",
   "execution_count": 22,
   "metadata": {},
   "outputs": [
    {
     "data": {
      "text/html": [
       "<div>\n",
       "<style scoped>\n",
       "    .dataframe tbody tr th:only-of-type {\n",
       "        vertical-align: middle;\n",
       "    }\n",
       "\n",
       "    .dataframe tbody tr th {\n",
       "        vertical-align: top;\n",
       "    }\n",
       "\n",
       "    .dataframe thead th {\n",
       "        text-align: right;\n",
       "    }\n",
       "</style>\n",
       "<table border=\"1\" class=\"dataframe\">\n",
       "  <thead>\n",
       "    <tr style=\"text-align: right;\">\n",
       "      <th></th>\n",
       "      <th>CID</th>\n",
       "      <th>HBondDonorCount</th>\n",
       "      <th>HBondAcceptorCount</th>\n",
       "      <th>MolecularWeight</th>\n",
       "      <th>XLogP</th>\n",
       "      <th>CanonicalSMILES</th>\n",
       "      <th>IsomericSMILES</th>\n",
       "    </tr>\n",
       "  </thead>\n",
       "  <tbody>\n",
       "    <tr>\n",
       "      <th>0</th>\n",
       "      <td>44354362</td>\n",
       "      <td>3</td>\n",
       "      <td>7</td>\n",
       "      <td>428.4</td>\n",
       "      <td>3.9</td>\n",
       "      <td>C1=CC=C2C=C(C(=CC2=C1)NC(=O)C3=CC=CC=N3)OC4=CC...</td>\n",
       "      <td>C1=CC=C2C=C(C(=CC2=C1)NC(=O)C3=CC=CC=N3)OC4=CC...</td>\n",
       "    </tr>\n",
       "    <tr>\n",
       "      <th>1</th>\n",
       "      <td>444768</td>\n",
       "      <td>2</td>\n",
       "      <td>7</td>\n",
       "      <td>407.8</td>\n",
       "      <td>3.5</td>\n",
       "      <td>CCN1C(=C(C(C(=C1C(=O)O)C(=O)O)C2=CC=CC=C2Cl)C(...</td>\n",
       "      <td>CCN1C(=C([C@H](C(=C1C(=O)O)C(=O)O)C2=CC=CC=C2C...</td>\n",
       "    </tr>\n",
       "    <tr>\n",
       "      <th>2</th>\n",
       "      <td>10477826</td>\n",
       "      <td>2</td>\n",
       "      <td>7</td>\n",
       "      <td>407.8</td>\n",
       "      <td>3.5</td>\n",
       "      <td>CCN1C(=C(C(C(=C1C(=O)O)C(=O)O)C2=CC=CC=C2Cl)C(...</td>\n",
       "      <td>CCN1C(=C(C(C(=C1C(=O)O)C(=O)O)C2=CC=CC=C2Cl)C(...</td>\n",
       "    </tr>\n",
       "    <tr>\n",
       "      <th>3</th>\n",
       "      <td>44342585</td>\n",
       "      <td>2</td>\n",
       "      <td>7</td>\n",
       "      <td>538.8</td>\n",
       "      <td>5.9</td>\n",
       "      <td>CC1=C(C(C(=C(N1CC2=C(C(=CC=C2)Cl)Cl)C(=O)O)C(=...</td>\n",
       "      <td>CC1=C(C(C(=C(N1CC2=C(C(=CC=C2)Cl)Cl)C(=O)O)C(=...</td>\n",
       "    </tr>\n",
       "    <tr>\n",
       "      <th>4</th>\n",
       "      <td>44342540</td>\n",
       "      <td>2</td>\n",
       "      <td>7</td>\n",
       "      <td>538.8</td>\n",
       "      <td>5.9</td>\n",
       "      <td>CC1=C(C(C(=C(N1CC2=C(C=C(C=C2)Cl)Cl)C(=O)O)C(=...</td>\n",
       "      <td>CC1=C(C(C(=C(N1CC2=C(C=C(C=C2)Cl)Cl)C(=O)O)C(=...</td>\n",
       "    </tr>\n",
       "  </tbody>\n",
       "</table>\n",
       "</div>"
      ],
      "text/plain": [
       "        CID  HBondDonorCount  HBondAcceptorCount  MolecularWeight  XLogP  \\\n",
       "0  44354362                3                   7            428.4    3.9   \n",
       "1    444768                2                   7            407.8    3.5   \n",
       "2  10477826                2                   7            407.8    3.5   \n",
       "3  44342585                2                   7            538.8    5.9   \n",
       "4  44342540                2                   7            538.8    5.9   \n",
       "\n",
       "                                     CanonicalSMILES  \\\n",
       "0  C1=CC=C2C=C(C(=CC2=C1)NC(=O)C3=CC=CC=N3)OC4=CC...   \n",
       "1  CCN1C(=C(C(C(=C1C(=O)O)C(=O)O)C2=CC=CC=C2Cl)C(...   \n",
       "2  CCN1C(=C(C(C(=C1C(=O)O)C(=O)O)C2=CC=CC=C2Cl)C(...   \n",
       "3  CC1=C(C(C(=C(N1CC2=C(C(=CC=C2)Cl)Cl)C(=O)O)C(=...   \n",
       "4  CC1=C(C(C(=C(N1CC2=C(C=C(C=C2)Cl)Cl)C(=O)O)C(=...   \n",
       "\n",
       "                                      IsomericSMILES  \n",
       "0  C1=CC=C2C=C(C(=CC2=C1)NC(=O)C3=CC=CC=N3)OC4=CC...  \n",
       "1  CCN1C(=C([C@H](C(=C1C(=O)O)C(=O)O)C2=CC=CC=C2C...  \n",
       "2  CCN1C(=C(C(C(=C1C(=O)O)C(=O)O)C2=CC=CC=C2Cl)C(...  \n",
       "3  CC1=C(C(C(=C(N1CC2=C(C(=CC=C2)Cl)Cl)C(=O)O)C(=...  \n",
       "4  CC1=C(C(C(=C(N1CC2=C(C=C(C=C2)Cl)Cl)C(=O)O)C(=...  "
      ]
     },
     "execution_count": 22,
     "metadata": {},
     "output_type": "execute_result"
    }
   ],
   "source": [
    "df_raw.head(5)    # Show the first 5 rows of the data frame"
   ]
  },
  {
   "cell_type": "markdown",
   "metadata": {},
   "source": [
    "Note that some compounds do not have computed XLogP values (because XLogP algorithm cannot handle inorganic compounds, salts, and mixtures) and we want to remove them."
   ]
  },
  {
   "cell_type": "code",
   "execution_count": 24,
   "metadata": {},
   "outputs": [
    {
     "data": {
      "text/plain": [
       "CID                     0\n",
       "HBondDonorCount         0\n",
       "HBondAcceptorCount      0\n",
       "MolecularWeight         0\n",
       "XLogP                 738\n",
       "CanonicalSMILES         0\n",
       "IsomericSMILES          0\n",
       "dtype: int64"
      ]
     },
     "execution_count": 24,
     "metadata": {},
     "output_type": "execute_result"
    }
   ],
   "source": [
    "df_raw.isna().sum()    # Check if there are any NULL values."
   ]
  },
  {
   "cell_type": "code",
   "execution_count": 25,
   "metadata": {},
   "outputs": [
    {
     "data": {
      "text/plain": [
       "23496"
      ]
     },
     "execution_count": 25,
     "metadata": {},
     "output_type": "execute_result"
    }
   ],
   "source": [
    "len(df_raw)    # Check the number of rows (which is equals to the number of CIDs)"
   ]
  },
  {
   "cell_type": "markdown",
   "metadata": {},
   "source": [
    "For convenience, add the information contained in the **cids_hit** dictionary to this data frame"
   ]
  },
  {
   "cell_type": "code",
   "execution_count": 26,
   "metadata": {},
   "outputs": [
    {
     "data": {
      "text/html": [
       "<div>\n",
       "<style scoped>\n",
       "    .dataframe tbody tr th:only-of-type {\n",
       "        vertical-align: middle;\n",
       "    }\n",
       "\n",
       "    .dataframe tbody tr th {\n",
       "        vertical-align: top;\n",
       "    }\n",
       "\n",
       "    .dataframe thead th {\n",
       "        text-align: right;\n",
       "    }\n",
       "</style>\n",
       "<table border=\"1\" class=\"dataframe\">\n",
       "  <thead>\n",
       "    <tr style=\"text-align: right;\">\n",
       "      <th></th>\n",
       "      <th>CID</th>\n",
       "      <th>HitFreq</th>\n",
       "    </tr>\n",
       "  </thead>\n",
       "  <tbody>\n",
       "    <tr>\n",
       "      <th>0</th>\n",
       "      <td>44354362</td>\n",
       "      <td>7</td>\n",
       "    </tr>\n",
       "    <tr>\n",
       "      <th>1</th>\n",
       "      <td>444768</td>\n",
       "      <td>5</td>\n",
       "    </tr>\n",
       "    <tr>\n",
       "      <th>2</th>\n",
       "      <td>10477826</td>\n",
       "      <td>5</td>\n",
       "    </tr>\n",
       "    <tr>\n",
       "      <th>3</th>\n",
       "      <td>44342585</td>\n",
       "      <td>6</td>\n",
       "    </tr>\n",
       "    <tr>\n",
       "      <th>4</th>\n",
       "      <td>44342540</td>\n",
       "      <td>6</td>\n",
       "    </tr>\n",
       "  </tbody>\n",
       "</table>\n",
       "</div>"
      ],
      "text/plain": [
       "        CID  HitFreq\n",
       "0  44354362        7\n",
       "1    444768        5\n",
       "2  10477826        5\n",
       "3  44342585        6\n",
       "4  44342540        6"
      ]
     },
     "execution_count": 26,
     "metadata": {},
     "output_type": "execute_result"
    }
   ],
   "source": [
    "# First load the cids_hit dictionary into a data frame.\n",
    "df_freq = pd.DataFrame( cids_hit.items(), columns=['CID','HitFreq'])\n",
    "df_freq.head(5)"
   ]
  },
  {
   "cell_type": "code",
   "execution_count": 28,
   "metadata": {},
   "outputs": [
    {
     "data": {
      "text/html": [
       "<div>\n",
       "<style scoped>\n",
       "    .dataframe tbody tr th:only-of-type {\n",
       "        vertical-align: middle;\n",
       "    }\n",
       "\n",
       "    .dataframe tbody tr th {\n",
       "        vertical-align: top;\n",
       "    }\n",
       "\n",
       "    .dataframe thead th {\n",
       "        text-align: right;\n",
       "    }\n",
       "</style>\n",
       "<table border=\"1\" class=\"dataframe\">\n",
       "  <thead>\n",
       "    <tr style=\"text-align: right;\">\n",
       "      <th></th>\n",
       "      <th>CID</th>\n",
       "      <th>HitFreq</th>\n",
       "    </tr>\n",
       "  </thead>\n",
       "  <tbody>\n",
       "    <tr>\n",
       "      <th>37</th>\n",
       "      <td>44354348</td>\n",
       "      <td>10</td>\n",
       "    </tr>\n",
       "    <tr>\n",
       "      <th>1773</th>\n",
       "      <td>11779854</td>\n",
       "      <td>10</td>\n",
       "    </tr>\n",
       "    <tr>\n",
       "      <th>3067</th>\n",
       "      <td>93077065</td>\n",
       "      <td>9</td>\n",
       "    </tr>\n",
       "    <tr>\n",
       "      <th>3066</th>\n",
       "      <td>93077064</td>\n",
       "      <td>9</td>\n",
       "    </tr>\n",
       "    <tr>\n",
       "      <th>1163</th>\n",
       "      <td>69517802</td>\n",
       "      <td>9</td>\n",
       "    </tr>\n",
       "    <tr>\n",
       "      <th>1174</th>\n",
       "      <td>69196722</td>\n",
       "      <td>9</td>\n",
       "    </tr>\n",
       "    <tr>\n",
       "      <th>1176</th>\n",
       "      <td>69195697</td>\n",
       "      <td>9</td>\n",
       "    </tr>\n",
       "    <tr>\n",
       "      <th>1177</th>\n",
       "      <td>69195207</td>\n",
       "      <td>9</td>\n",
       "    </tr>\n",
       "    <tr>\n",
       "      <th>2719</th>\n",
       "      <td>56399477</td>\n",
       "      <td>9</td>\n",
       "    </tr>\n",
       "    <tr>\n",
       "      <th>2709</th>\n",
       "      <td>56361540</td>\n",
       "      <td>9</td>\n",
       "    </tr>\n",
       "  </tbody>\n",
       "</table>\n",
       "</div>"
      ],
      "text/plain": [
       "           CID  HitFreq\n",
       "37    44354348       10\n",
       "1773  11779854       10\n",
       "3067  93077065        9\n",
       "3066  93077064        9\n",
       "1163  69517802        9\n",
       "1174  69196722        9\n",
       "1176  69195697        9\n",
       "1177  69195207        9\n",
       "2719  56399477        9\n",
       "2709  56361540        9"
      ]
     },
     "execution_count": 28,
     "metadata": {},
     "output_type": "execute_result"
    }
   ],
   "source": [
    "# Double-check if the data are loaded correctly\n",
    "# Compare the data with those from Cell [13]\n",
    "df_freq.sort_values(by=['HitFreq', 'CID'], ascending=False).head(10)"
   ]
  },
  {
   "cell_type": "code",
   "execution_count": 29,
   "metadata": {},
   "outputs": [
    {
     "data": {
      "text/plain": [
       "(23496, 8)"
      ]
     },
     "execution_count": 29,
     "metadata": {},
     "output_type": "execute_result"
    }
   ],
   "source": [
    "# Create a new data frame called \"df\" by joining the df and df_freq data frames\n",
    "df = df_raw.join(df_freq.set_index('CID'), on='CID')\n",
    "df.shape"
   ]
  },
  {
   "cell_type": "code",
   "execution_count": 30,
   "metadata": {},
   "outputs": [
    {
     "data": {
      "text/html": [
       "<div>\n",
       "<style scoped>\n",
       "    .dataframe tbody tr th:only-of-type {\n",
       "        vertical-align: middle;\n",
       "    }\n",
       "\n",
       "    .dataframe tbody tr th {\n",
       "        vertical-align: top;\n",
       "    }\n",
       "\n",
       "    .dataframe thead th {\n",
       "        text-align: right;\n",
       "    }\n",
       "</style>\n",
       "<table border=\"1\" class=\"dataframe\">\n",
       "  <thead>\n",
       "    <tr style=\"text-align: right;\">\n",
       "      <th></th>\n",
       "      <th>CID</th>\n",
       "      <th>HBondDonorCount</th>\n",
       "      <th>HBondAcceptorCount</th>\n",
       "      <th>MolecularWeight</th>\n",
       "      <th>XLogP</th>\n",
       "      <th>CanonicalSMILES</th>\n",
       "      <th>IsomericSMILES</th>\n",
       "      <th>HitFreq</th>\n",
       "    </tr>\n",
       "  </thead>\n",
       "  <tbody>\n",
       "    <tr>\n",
       "      <th>37</th>\n",
       "      <td>44354348</td>\n",
       "      <td>3</td>\n",
       "      <td>7</td>\n",
       "      <td>504.2</td>\n",
       "      <td>3.3</td>\n",
       "      <td>C1=CC=C(C(=C1)NC(=O)C2=NC=CC(=C2)I)OC3=CC(=C(C...</td>\n",
       "      <td>C1=CC=C(C(=C1)NC(=O)C2=NC=CC(=C2)I)OC3=CC(=C(C...</td>\n",
       "      <td>10</td>\n",
       "    </tr>\n",
       "    <tr>\n",
       "      <th>1773</th>\n",
       "      <td>11779854</td>\n",
       "      <td>3</td>\n",
       "      <td>2</td>\n",
       "      <td>305.3</td>\n",
       "      <td>2.6</td>\n",
       "      <td>C1C(C(=O)NC2=CC=CC=C21)NC(=O)C3=CC4=CC=CC=C4N3</td>\n",
       "      <td>C1C(C(=O)NC2=CC=CC=C21)NC(=O)C3=CC4=CC=CC=C4N3</td>\n",
       "      <td>10</td>\n",
       "    </tr>\n",
       "    <tr>\n",
       "      <th>3067</th>\n",
       "      <td>93077065</td>\n",
       "      <td>2</td>\n",
       "      <td>2</td>\n",
       "      <td>409.5</td>\n",
       "      <td>4.8</td>\n",
       "      <td>C1CC2=CC=CC=C2N(C1)C(=O)C(C3=CC=CC=C3)NC(=O)C4...</td>\n",
       "      <td>C1CC2=CC=CC=C2N(C1)C(=O)[C@@H](C3=CC=CC=C3)NC(...</td>\n",
       "      <td>9</td>\n",
       "    </tr>\n",
       "    <tr>\n",
       "      <th>3066</th>\n",
       "      <td>93077064</td>\n",
       "      <td>2</td>\n",
       "      <td>2</td>\n",
       "      <td>409.5</td>\n",
       "      <td>4.8</td>\n",
       "      <td>C1CC2=CC=CC=C2N(C1)C(=O)C(C3=CC=CC=C3)NC(=O)C4...</td>\n",
       "      <td>C1CC2=CC=CC=C2N(C1)C(=O)[C@H](C3=CC=CC=C3)NC(=...</td>\n",
       "      <td>9</td>\n",
       "    </tr>\n",
       "    <tr>\n",
       "      <th>1163</th>\n",
       "      <td>69517802</td>\n",
       "      <td>3</td>\n",
       "      <td>3</td>\n",
       "      <td>382.8</td>\n",
       "      <td>2.5</td>\n",
       "      <td>C1C(C(=O)N(C2=CC=CC=C21)CCN)NC(=O)C3=CC4=C(N3)...</td>\n",
       "      <td>C1C(C(=O)N(C2=CC=CC=C21)CCN)NC(=O)C3=CC4=C(N3)...</td>\n",
       "      <td>9</td>\n",
       "    </tr>\n",
       "    <tr>\n",
       "      <th>1174</th>\n",
       "      <td>69196722</td>\n",
       "      <td>3</td>\n",
       "      <td>3</td>\n",
       "      <td>396.8</td>\n",
       "      <td>2.4</td>\n",
       "      <td>C1C(C(=O)N(C2=CC=CC=C21)CC(=O)N)NC(=O)C3=CC4=C...</td>\n",
       "      <td>C1[C@H](C(=O)N(C2=CC=CC=C21)CC(=O)N)NC(=O)C3=C...</td>\n",
       "      <td>9</td>\n",
       "    </tr>\n",
       "    <tr>\n",
       "      <th>1176</th>\n",
       "      <td>69195697</td>\n",
       "      <td>3</td>\n",
       "      <td>3</td>\n",
       "      <td>396.8</td>\n",
       "      <td>2.4</td>\n",
       "      <td>C1C(C(=O)N(C2=CC=CC=C21)CC(=O)N)NC(=O)C3=CC4=C...</td>\n",
       "      <td>C1[C@@H](C(=O)N(C2=CC=CC=C21)CC(=O)N)NC(=O)C3=...</td>\n",
       "      <td>9</td>\n",
       "    </tr>\n",
       "    <tr>\n",
       "      <th>1177</th>\n",
       "      <td>69195207</td>\n",
       "      <td>2</td>\n",
       "      <td>2</td>\n",
       "      <td>379.8</td>\n",
       "      <td>4.1</td>\n",
       "      <td>C=CCN1C2=CC=CC=C2CC(C1=O)NC(=O)C3=CC4=C(N3)C=C...</td>\n",
       "      <td>C=CCN1C2=CC=CC=C2C[C@@H](C1=O)NC(=O)C3=CC4=C(N...</td>\n",
       "      <td>9</td>\n",
       "    </tr>\n",
       "    <tr>\n",
       "      <th>2719</th>\n",
       "      <td>56399477</td>\n",
       "      <td>1</td>\n",
       "      <td>2</td>\n",
       "      <td>423.9</td>\n",
       "      <td>5.1</td>\n",
       "      <td>CCCN(C1CCN(CC1)C(=O)C2=CC=CC=C2)C(=O)C3=C(C4=C...</td>\n",
       "      <td>CCCN(C1CCN(CC1)C(=O)C2=CC=CC=C2)C(=O)C3=C(C4=C...</td>\n",
       "      <td>9</td>\n",
       "    </tr>\n",
       "    <tr>\n",
       "      <th>2709</th>\n",
       "      <td>56361540</td>\n",
       "      <td>2</td>\n",
       "      <td>3</td>\n",
       "      <td>424.9</td>\n",
       "      <td>3.5</td>\n",
       "      <td>CC(C1=CC=CC=C1Cl)NC(=O)CN2CCN(CC2)C(=O)C3=CC4=...</td>\n",
       "      <td>CC(C1=CC=CC=C1Cl)NC(=O)CN2CCN(CC2)C(=O)C3=CC4=...</td>\n",
       "      <td>9</td>\n",
       "    </tr>\n",
       "  </tbody>\n",
       "</table>\n",
       "</div>"
      ],
      "text/plain": [
       "           CID  HBondDonorCount  HBondAcceptorCount  MolecularWeight  XLogP  \\\n",
       "37    44354348                3                   7            504.2    3.3   \n",
       "1773  11779854                3                   2            305.3    2.6   \n",
       "3067  93077065                2                   2            409.5    4.8   \n",
       "3066  93077064                2                   2            409.5    4.8   \n",
       "1163  69517802                3                   3            382.8    2.5   \n",
       "1174  69196722                3                   3            396.8    2.4   \n",
       "1176  69195697                3                   3            396.8    2.4   \n",
       "1177  69195207                2                   2            379.8    4.1   \n",
       "2719  56399477                1                   2            423.9    5.1   \n",
       "2709  56361540                2                   3            424.9    3.5   \n",
       "\n",
       "                                        CanonicalSMILES  \\\n",
       "37    C1=CC=C(C(=C1)NC(=O)C2=NC=CC(=C2)I)OC3=CC(=C(C...   \n",
       "1773     C1C(C(=O)NC2=CC=CC=C21)NC(=O)C3=CC4=CC=CC=C4N3   \n",
       "3067  C1CC2=CC=CC=C2N(C1)C(=O)C(C3=CC=CC=C3)NC(=O)C4...   \n",
       "3066  C1CC2=CC=CC=C2N(C1)C(=O)C(C3=CC=CC=C3)NC(=O)C4...   \n",
       "1163  C1C(C(=O)N(C2=CC=CC=C21)CCN)NC(=O)C3=CC4=C(N3)...   \n",
       "1174  C1C(C(=O)N(C2=CC=CC=C21)CC(=O)N)NC(=O)C3=CC4=C...   \n",
       "1176  C1C(C(=O)N(C2=CC=CC=C21)CC(=O)N)NC(=O)C3=CC4=C...   \n",
       "1177  C=CCN1C2=CC=CC=C2CC(C1=O)NC(=O)C3=CC4=C(N3)C=C...   \n",
       "2719  CCCN(C1CCN(CC1)C(=O)C2=CC=CC=C2)C(=O)C3=C(C4=C...   \n",
       "2709  CC(C1=CC=CC=C1Cl)NC(=O)CN2CCN(CC2)C(=O)C3=CC4=...   \n",
       "\n",
       "                                         IsomericSMILES  HitFreq  \n",
       "37    C1=CC=C(C(=C1)NC(=O)C2=NC=CC(=C2)I)OC3=CC(=C(C...       10  \n",
       "1773     C1C(C(=O)NC2=CC=CC=C21)NC(=O)C3=CC4=CC=CC=C4N3       10  \n",
       "3067  C1CC2=CC=CC=C2N(C1)C(=O)[C@@H](C3=CC=CC=C3)NC(...        9  \n",
       "3066  C1CC2=CC=CC=C2N(C1)C(=O)[C@H](C3=CC=CC=C3)NC(=...        9  \n",
       "1163  C1C(C(=O)N(C2=CC=CC=C21)CCN)NC(=O)C3=CC4=C(N3)...        9  \n",
       "1174  C1[C@H](C(=O)N(C2=CC=CC=C21)CC(=O)N)NC(=O)C3=C...        9  \n",
       "1176  C1[C@@H](C(=O)N(C2=CC=CC=C21)CC(=O)N)NC(=O)C3=...        9  \n",
       "1177  C=CCN1C2=CC=CC=C2C[C@@H](C1=O)NC(=O)C3=CC4=C(N...        9  \n",
       "2719  CCCN(C1CCN(CC1)C(=O)C2=CC=CC=C2)C(=O)C3=C(C4=C...        9  \n",
       "2709  CC(C1=CC=CC=C1Cl)NC(=O)CN2CCN(CC2)C(=O)C3=CC4=...        9  "
      ]
     },
     "execution_count": 30,
     "metadata": {},
     "output_type": "execute_result"
    }
   ],
   "source": [
    "df.sort_values(by=['HitFreq', 'CID'], ascending=False).head(10)"
   ]
  },
  {
   "cell_type": "markdown",
   "metadata": {},
   "source": [
    "*Excercise:* Find the mean values for HBondDonorCount, HBondAcceptorCount, MolecularWeight, and XLogP"
   ]
  },
  {
   "cell_type": "code",
   "execution_count": 31,
   "metadata": {},
   "outputs": [
    {
     "data": {
      "text/html": [
       "<div>\n",
       "<style scoped>\n",
       "    .dataframe tbody tr th:only-of-type {\n",
       "        vertical-align: middle;\n",
       "    }\n",
       "\n",
       "    .dataframe tbody tr th {\n",
       "        vertical-align: top;\n",
       "    }\n",
       "\n",
       "    .dataframe thead th {\n",
       "        text-align: right;\n",
       "    }\n",
       "</style>\n",
       "<table border=\"1\" class=\"dataframe\">\n",
       "  <thead>\n",
       "    <tr style=\"text-align: right;\">\n",
       "      <th></th>\n",
       "      <th>CID</th>\n",
       "      <th>HBondDonorCount</th>\n",
       "      <th>HBondAcceptorCount</th>\n",
       "      <th>MolecularWeight</th>\n",
       "      <th>XLogP</th>\n",
       "      <th>HitFreq</th>\n",
       "    </tr>\n",
       "  </thead>\n",
       "  <tbody>\n",
       "    <tr>\n",
       "      <th>count</th>\n",
       "      <td>2.349600e+04</td>\n",
       "      <td>23496.000000</td>\n",
       "      <td>23496.000000</td>\n",
       "      <td>23496.000000</td>\n",
       "      <td>22758.000000</td>\n",
       "      <td>23496.000000</td>\n",
       "    </tr>\n",
       "    <tr>\n",
       "      <th>mean</th>\n",
       "      <td>7.300640e+07</td>\n",
       "      <td>1.872744</td>\n",
       "      <td>2.635853</td>\n",
       "      <td>366.018008</td>\n",
       "      <td>3.580556</td>\n",
       "      <td>2.174157</td>\n",
       "    </tr>\n",
       "    <tr>\n",
       "      <th>std</th>\n",
       "      <td>4.503431e+07</td>\n",
       "      <td>0.889070</td>\n",
       "      <td>1.087927</td>\n",
       "      <td>68.629097</td>\n",
       "      <td>1.176714</td>\n",
       "      <td>1.569004</td>\n",
       "    </tr>\n",
       "    <tr>\n",
       "      <th>min</th>\n",
       "      <td>2.873000e+03</td>\n",
       "      <td>0.000000</td>\n",
       "      <td>1.000000</td>\n",
       "      <td>174.200000</td>\n",
       "      <td>-1.600000</td>\n",
       "      <td>1.000000</td>\n",
       "    </tr>\n",
       "    <tr>\n",
       "      <th>25%</th>\n",
       "      <td>4.084672e+07</td>\n",
       "      <td>1.000000</td>\n",
       "      <td>2.000000</td>\n",
       "      <td>316.330000</td>\n",
       "      <td>2.800000</td>\n",
       "      <td>1.000000</td>\n",
       "    </tr>\n",
       "    <tr>\n",
       "      <th>50%</th>\n",
       "      <td>6.330038e+07</td>\n",
       "      <td>2.000000</td>\n",
       "      <td>2.000000</td>\n",
       "      <td>363.500000</td>\n",
       "      <td>3.600000</td>\n",
       "      <td>2.000000</td>\n",
       "    </tr>\n",
       "    <tr>\n",
       "      <th>75%</th>\n",
       "      <td>1.108503e+08</td>\n",
       "      <td>2.000000</td>\n",
       "      <td>3.000000</td>\n",
       "      <td>411.900000</td>\n",
       "      <td>4.400000</td>\n",
       "      <td>3.000000</td>\n",
       "    </tr>\n",
       "    <tr>\n",
       "      <th>max</th>\n",
       "      <td>1.653554e+08</td>\n",
       "      <td>10.000000</td>\n",
       "      <td>11.000000</td>\n",
       "      <td>798.900000</td>\n",
       "      <td>11.300000</td>\n",
       "      <td>10.000000</td>\n",
       "    </tr>\n",
       "  </tbody>\n",
       "</table>\n",
       "</div>"
      ],
      "text/plain": [
       "                CID  HBondDonorCount  HBondAcceptorCount  MolecularWeight  \\\n",
       "count  2.349600e+04     23496.000000        23496.000000     23496.000000   \n",
       "mean   7.300640e+07         1.872744            2.635853       366.018008   \n",
       "std    4.503431e+07         0.889070            1.087927        68.629097   \n",
       "min    2.873000e+03         0.000000            1.000000       174.200000   \n",
       "25%    4.084672e+07         1.000000            2.000000       316.330000   \n",
       "50%    6.330038e+07         2.000000            2.000000       363.500000   \n",
       "75%    1.108503e+08         2.000000            3.000000       411.900000   \n",
       "max    1.653554e+08        10.000000           11.000000       798.900000   \n",
       "\n",
       "              XLogP       HitFreq  \n",
       "count  22758.000000  23496.000000  \n",
       "mean       3.580556      2.174157  \n",
       "std        1.176714      1.569004  \n",
       "min       -1.600000      1.000000  \n",
       "25%        2.800000      1.000000  \n",
       "50%        3.600000      2.000000  \n",
       "75%        4.400000      3.000000  \n",
       "max       11.300000     10.000000  "
      ]
     },
     "execution_count": 31,
     "metadata": {},
     "output_type": "execute_result"
    }
   ],
   "source": [
    "# remember dataframes have builtin tools for summarizing their data\n",
    "df.describe()"
   ]
  },
  {
   "cell_type": "markdown",
   "metadata": {},
   "source": [
    "Now identify and remove those compounds that satisfy all criteria of Lipinski's rule of five."
   ]
  },
  {
   "cell_type": "code",
   "execution_count": 38,
   "metadata": {},
   "outputs": [
    {
     "data": {
      "text/plain": [
       "19922"
      ]
     },
     "execution_count": 38,
     "metadata": {},
     "output_type": "execute_result"
    }
   ],
   "source": [
    "len(df[ df['HBondDonorCount'] <= 5 ])"
   ]
  },
  {
   "cell_type": "code",
   "execution_count": 39,
   "metadata": {},
   "outputs": [
    {
     "data": {
      "text/plain": [
       "19922"
      ]
     },
     "execution_count": 39,
     "metadata": {},
     "output_type": "execute_result"
    }
   ],
   "source": [
    "len(df[ df['HBondAcceptorCount'] <= 10 ])"
   ]
  },
  {
   "cell_type": "code",
   "execution_count": 40,
   "metadata": {},
   "outputs": [
    {
     "data": {
      "text/plain": [
       "19922"
      ]
     },
     "execution_count": 40,
     "metadata": {},
     "output_type": "execute_result"
    }
   ],
   "source": [
    "len(df[ df['MolecularWeight'] <= 500 ])"
   ]
  },
  {
   "cell_type": "code",
   "execution_count": 41,
   "metadata": {},
   "outputs": [
    {
     "data": {
      "text/plain": [
       "19922"
      ]
     },
     "execution_count": 41,
     "metadata": {},
     "output_type": "execute_result"
    }
   ],
   "source": [
    "len(df[ df['XLogP'] < 5 ])"
   ]
  },
  {
   "cell_type": "code",
   "execution_count": 36,
   "metadata": {},
   "outputs": [],
   "source": [
    "df = df[ ( df['HBondDonorCount'] <= 5) &\n",
    "         ( df['HBondAcceptorCount'] <= 10 ) &\n",
    "         ( df['MolecularWeight'] <= 500 ) &\n",
    "         ( df['XLogP'] < 5 ) ]"
   ]
  },
  {
   "cell_type": "code",
   "execution_count": 37,
   "metadata": {},
   "outputs": [
    {
     "data": {
      "text/plain": [
       "19922"
      ]
     },
     "execution_count": 37,
     "metadata": {},
     "output_type": "execute_result"
    }
   ],
   "source": [
    "len(df)"
   ]
  },
  {
   "cell_type": "markdown",
   "metadata": {},
   "source": [
    "## 5. Draw the structures of the top 5 compounds"
   ]
  },
  {
   "cell_type": "markdown",
   "metadata": {},
   "source": [
    "Let's check the structure of the top 10 compounds in the hit list."
   ]
  },
  {
   "cell_type": "code",
   "execution_count": 42,
   "metadata": {},
   "outputs": [],
   "source": [
    "cids_top = df.sort_values(by=['HitFreq', 'CID'], ascending=False).head(5).CID.to_list()\n"
   ]
  },
  {
   "cell_type": "code",
   "execution_count": 43,
   "metadata": {},
   "outputs": [
    {
     "data": {
      "image/png": "[encoded data removed]",
      "text/plain": [
       "<IPython.core.display.Image object>"
      ]
     },
     "metadata": {},
     "output_type": "display_data"
    }
   ],
   "source": [
    "from rdkit import Chem\n",
    "from rdkit.Chem import Draw\n",
    "\n",
    "mols = []\n",
    "\n",
    "for mycid in cids_top :\n",
    "    \n",
    "    mysmiles = df[ df.CID==mycid ].IsomericSMILES.item()\n",
    "    \n",
    "    mol = Chem.MolFromSmiles( mysmiles )\n",
    "    Chem.FindPotentialStereoBonds(mol)    # Identify potential stereo bonds!\n",
    "    mols.append(mol)\n",
    "\n",
    "mylegends = [ \"CID \" + str(x) for x in cids_top ]\n",
    "img = Draw.MolsToGridImage(mols, molsPerRow=2, subImgSize=(400,400), legends=mylegends)\n",
    "display(img)"
   ]
  },
  {
   "cell_type": "markdown",
   "metadata": {},
   "source": [
    "An important observation from these images is that the hit list contains multiple compounds with the same connectivity.  For example, CIDs 93077065 and 93077064 are stereoisomers of each other and CID 53013349 has the same connectivity as the two CIDs, but with its stereocenter being unspecified. When performing a screening with limited resources in the early stage of drug discovery, you may want to test as diverse molecules as possible, avoiding testing too similar structures."
   ]
  },
  {
   "cell_type": "markdown",
   "metadata": {},
   "source": [
    "To do so, let's look into PubChem's canonical SMILES strings, which do not encode the stereochemisry and isotope information.  Chemicals with the same connectivity but with different stereochemistry/isotopes should have the same canonical SMILES.  In the next section, we select unique compounds in terms of canonical SMILES to reduce the number of compounds to screen."
   ]
  },
  {
   "cell_type": "markdown",
   "metadata": {},
   "source": [
    "## Exersises"
   ]
  },
  {
   "cell_type": "markdown",
   "metadata": {},
   "source": [
    "Instead of the Lipinski rule of 5 apply the Congreve’s rule of 3 to this data. This rule is used for identifying lead compounds."
   ]
  },
  {
   "cell_type": "code",
   "execution_count": null,
   "metadata": {},
   "outputs": [],
   "source": []
  }
 ],
 "metadata": {
  "kernelspec": {
   "display_name": "Python 3.7.9 ('my-rdkit-env')",
   "language": "python",
   "name": "python3"
  },
  "language_info": {
   "codemirror_mode": {
    "name": "ipython",
    "version": 3
   },
   "file_extension": ".py",
   "mimetype": "text/x-python",
   "name": "python",
   "nbconvert_exporter": "python",
   "pygments_lexer": "ipython3",
   "version": "3.7.9"
  },
  "vscode": {
   "interpreter": {
    "hash": "74b0eeecb9694be932ad336503137f0c047c9eb8ec8a4a235079c04fe56ee89e"
   }
  }
 },
 "nbformat": 4,
 "nbformat_minor": 4
}
