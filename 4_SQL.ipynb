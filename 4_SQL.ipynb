{
 "cells": [
  {
   "cell_type": "markdown",
   "metadata": {},
   "source": [
    "## Quantitative Structure-Property Relationships\n",
    "\n"
   ]
  },
  {
   "cell_type": "markdown",
   "metadata": {},
   "source": [
    "Quantitative Structure-Property Relationships (QSPR) and Quantitative\n",
    "Structure-Activity Relationships (QSAR) use statistical models to relate a set\n",
    "of predictor values to a response variable. Molecules are described using a set\n",
    "of *descriptors*, and then mathematical relationships can be developed to explain\n",
    "observed properties. In QSPR and QSAR, physico-chemical properties of theoretical\n",
    "descriptors of chemicals are used to predict either a physical property or a\n",
    "biological outcome. We will use python to import data in preparation for \n",
    "QSPR and QSAR.\n",
    "\n"
   ]
  },
  {
   "cell_type": "markdown",
   "metadata": {},
   "source": [
    "## Molecular Descriptors\n",
    "\n"
   ]
  },
  {
   "cell_type": "markdown",
   "metadata": {},
   "source": [
    "A molecular descriptor is &ldquo;final result of a logical and mathematical procedure,\n",
    "which transforms chemical information encoded within a symbolic repre-sentation\n",
    "of a molecule into a useful number or the result of some standardized\n",
    "experiment&rdquo; (Todeschini, R.; Consonni, V. *Molecular descriptors for\n",
    "chemoinformatics* **2009** Wiley‑VCH, Weinheim). You are already familiar with\n",
    "descriptors such as molecular weight or number of heavy atoms and we have\n",
    "queried PubChem for data such as XLogP. We&rsquo;ll examine just a few simple\n",
    "descriptors, but thousands have been developed for applications in QSPR.\n",
    "\n"
   ]
  },
  {
   "cell_type": "markdown",
   "metadata": {},
   "source": [
    "## Using rdkit and mordred to calculate descriptors\n",
    "\n"
   ]
  },
  {
   "cell_type": "markdown",
   "metadata": {},
   "source": [
    "Clearly we have been using algorithms for calculating these indices. This is\n",
    "time consuming for an individual, but programs can be used to complete this much\n",
    "easier. We will use the rdkit and mordred python libraries to help us out.\n",
    "\n"
   ]
  },
  {
   "cell_type": "code",
   "metadata": {
    "ExecuteTime": {
     "end_time": "2025-09-09T02:37:23.602543Z",
     "start_time": "2025-09-09T02:37:23.026372Z"
    }
   },
   "source": [
    "import json\n",
    "from rdkit import Chem                            # imports the Chem module from rdkit\n",
    "from mordred import Calculator, descriptors       # imports mordred descriptor library\n",
    "calc = Calculator(descriptors, ignore_3D=True)    # sets up a function reading descriptors\n",
    "len(calc.descriptors) # tells us how many different types of descriptors are available in the library"
   ],
   "outputs": [
    {
     "ename": "ImportError",
     "evalue": "cannot import name 'product' from 'numpy' (/Users/scottreed/.conda/envs/molecular_informatics/lib/python3.12/site-packages/numpy/__init__.py)",
     "output_type": "error",
     "traceback": [
      "\u001B[0;31m---------------------------------------------------------------------------\u001B[0m",
      "\u001B[0;31mImportError\u001B[0m                               Traceback (most recent call last)",
      "Cell \u001B[0;32mIn[1], line 3\u001B[0m\n\u001B[1;32m      1\u001B[0m \u001B[38;5;28;01mimport\u001B[39;00m \u001B[38;5;21;01mjson\u001B[39;00m\n\u001B[1;32m      2\u001B[0m \u001B[38;5;28;01mfrom\u001B[39;00m \u001B[38;5;21;01mrdkit\u001B[39;00m \u001B[38;5;28;01mimport\u001B[39;00m Chem                            \u001B[38;5;66;03m# imports the Chem module from rdkit\u001B[39;00m\n\u001B[0;32m----> 3\u001B[0m \u001B[38;5;28;01mfrom\u001B[39;00m \u001B[38;5;21;01mmordred\u001B[39;00m \u001B[38;5;28;01mimport\u001B[39;00m Calculator, descriptors       \u001B[38;5;66;03m# imports mordred descriptor library\u001B[39;00m\n\u001B[1;32m      4\u001B[0m calc \u001B[38;5;241m=\u001B[39m Calculator(descriptors, ignore_3D\u001B[38;5;241m=\u001B[39m\u001B[38;5;28;01mTrue\u001B[39;00m)    \u001B[38;5;66;03m# sets up a function reading descriptors\u001B[39;00m\n\u001B[1;32m      5\u001B[0m \u001B[38;5;28mlen\u001B[39m(calc\u001B[38;5;241m.\u001B[39mdescriptors)\n",
      "File \u001B[0;32m~/.conda/envs/molecular_informatics/lib/python3.12/site-packages/mordred/descriptors/__init__.py:42\u001B[0m\n\u001B[1;32m     38\u001B[0m         \u001B[38;5;28mglobals\u001B[39m()[\u001B[38;5;124m\"\u001B[39m\u001B[38;5;124m__all__\u001B[39m\u001B[38;5;124m\"\u001B[39m] \u001B[38;5;241m=\u001B[39m \u001B[38;5;28mtuple\u001B[39m(names)\n\u001B[1;32m     39\u001B[0m         \u001B[38;5;28mglobals\u001B[39m()[\u001B[38;5;124m\"\u001B[39m\u001B[38;5;124mall\u001B[39m\u001B[38;5;124m\"\u001B[39m] \u001B[38;5;241m=\u001B[39m \u001B[38;5;28mtuple\u001B[39m(values)\n\u001B[0;32m---> 42\u001B[0m _import_all_descriptors()\n",
      "File \u001B[0;32m~/.conda/envs/molecular_informatics/lib/python3.12/site-packages/mordred/descriptors/__init__.py:31\u001B[0m, in \u001B[0;36m_import_all_descriptors\u001B[0;34m()\u001B[0m\n\u001B[1;32m     28\u001B[0m \u001B[38;5;28;01mif\u001B[39;00m name[:\u001B[38;5;241m1\u001B[39m] \u001B[38;5;241m==\u001B[39m \u001B[38;5;124m\"\u001B[39m\u001B[38;5;124m_\u001B[39m\u001B[38;5;124m\"\u001B[39m \u001B[38;5;129;01mor\u001B[39;00m ext \u001B[38;5;241m!=\u001B[39m \u001B[38;5;124m\"\u001B[39m\u001B[38;5;124m.py\u001B[39m\u001B[38;5;124m\"\u001B[39m:\n\u001B[1;32m     29\u001B[0m     \u001B[38;5;28;01mcontinue\u001B[39;00m\n\u001B[0;32m---> 31\u001B[0m mdl \u001B[38;5;241m=\u001B[39m import_module(\u001B[38;5;124m\"\u001B[39m\u001B[38;5;124m..\u001B[39m\u001B[38;5;124m\"\u001B[39m \u001B[38;5;241m+\u001B[39m name, __package__)\n\u001B[1;32m     33\u001B[0m \u001B[38;5;28;01mif\u001B[39;00m \u001B[38;5;28many\u001B[39m(v \u001B[38;5;28;01mfor\u001B[39;00m v \u001B[38;5;129;01min\u001B[39;00m mdl\u001B[38;5;241m.\u001B[39m\u001B[38;5;18m__dict__\u001B[39m\u001B[38;5;241m.\u001B[39mvalues() \u001B[38;5;28;01mif\u001B[39;00m is_descriptor_class(v)):\n\u001B[1;32m     34\u001B[0m     names\u001B[38;5;241m.\u001B[39mappend(name)\n",
      "File \u001B[0;32m~/.conda/envs/molecular_informatics/lib/python3.12/importlib/__init__.py:90\u001B[0m, in \u001B[0;36mimport_module\u001B[0;34m(name, package)\u001B[0m\n\u001B[1;32m     88\u001B[0m             \u001B[38;5;28;01mbreak\u001B[39;00m\n\u001B[1;32m     89\u001B[0m         level \u001B[38;5;241m+\u001B[39m\u001B[38;5;241m=\u001B[39m \u001B[38;5;241m1\u001B[39m\n\u001B[0;32m---> 90\u001B[0m \u001B[38;5;28;01mreturn\u001B[39;00m _bootstrap\u001B[38;5;241m.\u001B[39m_gcd_import(name[level:], package, level)\n",
      "File \u001B[0;32m~/.conda/envs/molecular_informatics/lib/python3.12/site-packages/mordred/MolecularDistanceEdge.py:2\u001B[0m\n\u001B[1;32m      1\u001B[0m \u001B[38;5;28;01mfrom\u001B[39;00m \u001B[38;5;21;01msix\u001B[39;00m \u001B[38;5;28;01mimport\u001B[39;00m string_types, integer_types\n\u001B[0;32m----> 2\u001B[0m \u001B[38;5;28;01mfrom\u001B[39;00m \u001B[38;5;21;01mnumpy\u001B[39;00m \u001B[38;5;28;01mimport\u001B[39;00m product\n\u001B[1;32m      4\u001B[0m \u001B[38;5;28;01mfrom\u001B[39;00m \u001B[38;5;21;01m.\u001B[39;00m\u001B[38;5;21;01m_base\u001B[39;00m \u001B[38;5;28;01mimport\u001B[39;00m Descriptor\n\u001B[1;32m      5\u001B[0m \u001B[38;5;28;01mfrom\u001B[39;00m \u001B[38;5;21;01m.\u001B[39;00m\u001B[38;5;21;01m_graph_matrix\u001B[39;00m \u001B[38;5;28;01mimport\u001B[39;00m Valence, DistanceMatrix\n",
      "\u001B[0;31mImportError\u001B[0m: cannot import name 'product' from 'numpy' (/Users/scottreed/.conda/envs/molecular_informatics/lib/python3.12/site-packages/numpy/__init__.py)"
     ]
    }
   ],
   "execution_count": 1
  },
  {
   "cell_type": "markdown",
   "metadata": {},
   "source": [
    "Each of these mordred calc descriptors and the resulting code syntax can be found here\n",
    "[http://mordred-descriptor.github.io/documentation/master/api/modules.html](http://mordred-descriptor.github.io/documentation/master/api/modules.html)\n",
    "\n"
   ]
  },
  {
   "cell_type": "markdown",
   "metadata": {},
   "source": [
    "### Molecule characteristics\n",
    "\n"
   ]
  },
  {
   "cell_type": "markdown",
   "metadata": {},
   "source": [
    "We will use a simple case of having mordred count rings of different types.\n",
    "\n"
   ]
  },
  {
   "cell_type": "markdown",
   "metadata": {},
   "source": [
    "### Looping through a list of molecules\n",
    "\n"
   ]
  },
  {
   "cell_type": "code",
   "execution_count": null,
   "metadata": {},
   "outputs": [],
   "source": [
    "smiles = [\"CN(c1ncc(F)cn1)[C@H]1CCCNC1\", \"C=CC(=O)N1CCC(CNc2ncnc(N)c2-c2ccc(Oc3ccccc3)cc2)CC1\", \"C1CCCC1\"] \n",
    "\n",
    "for smile in smiles:\n",
    "    mol = Chem.MolFromSmiles(smile)\n",
    "    # Initialize a Mordred calculator\n",
    "    calc = Calculator()\n",
    "    # add a function to claculator\n",
    "    calc.register(descriptors.RingCount.RingCount())\n",
    "    # execute calculator and print output\n",
    "    results = calc(mol)\n",
    "    print(results)\n"
   ]
  },
  {
   "cell_type": "code",
   "metadata": {
    "ExecuteTime": {
     "end_time": "2024-11-26T22:52:17.047375Z",
     "start_time": "2024-11-26T22:52:16.849041Z"
    }
   },
   "source": [
    "from rdkit.Chem.Draw import IPythonConsole\n",
    "\n",
    "IPythonConsole.ipython_useSVG = True\n",
    "params = Chem.SmilesParserParams()\n",
    "params.removeHs=False\n",
    "\n",
    "IPythonConsole.molSize = (600, 600)   # Change image size\n",
    "IPythonConsole.ipython_useSVG = True  # Change output to SVG\n",
    "\n",
    "query = Chem.MolFromSmiles(\n",
    "    smiles[1],\n",
    "    params)\n",
    "query"
   ],
   "outputs": [
    {
     "ename": "NameError",
     "evalue": "name 'Chem' is not defined",
     "output_type": "error",
     "traceback": [
      "\u001B[0;31m---------------------------------------------------------------------------\u001B[0m",
      "\u001B[0;31mNameError\u001B[0m                                 Traceback (most recent call last)",
      "Cell \u001B[0;32mIn[1], line 4\u001B[0m\n\u001B[1;32m      1\u001B[0m \u001B[38;5;28;01mfrom\u001B[39;00m \u001B[38;5;21;01mrdkit\u001B[39;00m\u001B[38;5;21;01m.\u001B[39;00m\u001B[38;5;21;01mChem\u001B[39;00m\u001B[38;5;21;01m.\u001B[39;00m\u001B[38;5;21;01mDraw\u001B[39;00m \u001B[38;5;28;01mimport\u001B[39;00m IPythonConsole\n\u001B[1;32m      3\u001B[0m IPythonConsole\u001B[38;5;241m.\u001B[39mipython_useSVG \u001B[38;5;241m=\u001B[39m \u001B[38;5;28;01mTrue\u001B[39;00m\n\u001B[0;32m----> 4\u001B[0m params \u001B[38;5;241m=\u001B[39m Chem\u001B[38;5;241m.\u001B[39mSmilesParserParams()\n\u001B[1;32m      5\u001B[0m params\u001B[38;5;241m.\u001B[39mremoveHs\u001B[38;5;241m=\u001B[39m\u001B[38;5;28;01mFalse\u001B[39;00m\n\u001B[1;32m      7\u001B[0m IPythonConsole\u001B[38;5;241m.\u001B[39mmolSize \u001B[38;5;241m=\u001B[39m (\u001B[38;5;241m600\u001B[39m, \u001B[38;5;241m600\u001B[39m)   \u001B[38;5;66;03m# Change image size\u001B[39;00m\n",
      "\u001B[0;31mNameError\u001B[0m: name 'Chem' is not defined"
     ]
    }
   ],
   "execution_count": 1
  },
  {
   "cell_type": "markdown",
   "metadata": {},
   "source": [
    "Now that we have an understanding on how mordred works to get our\n",
    "descriptors, let&rsquo;s add more info within the loop and create a function.\n",
    "\n",
    "Consider using http://www.scbdd.com/chemdes/ instead of mordred\n"
   ]
  },
  {
   "cell_type": "code",
   "execution_count": null,
   "metadata": {},
   "outputs": [],
   "source": [
    "from rdkit import Chem\n",
    "from mordred import Calculator, descriptors\n",
    "\n",
    "def get_ring_info(smiles):\n",
    "    # Convert the SMILES code to an RDKit molecule object\n",
    "    mol = Chem.MolFromSmiles(smiles)\n",
    "    if mol is None:\n",
    "        return \"Invalid SMILES code.\"\n",
    "\n",
    "    # Initialize a Mordred calculator\n",
    "    calc = Calculator()\n",
    "\n",
    "    # Define ring count descriptors\n",
    "    ring_descriptors = {\n",
    "        'total_rings': descriptors.RingCount.RingCount(),\n",
    "        'aromatic_rings': descriptors.RingCount.RingCount(aromatic=True),\n",
    "        'non_aromatic_rings': descriptors.RingCount.RingCount(aromatic=False),\n",
    "        'hetero_rings': descriptors.RingCount.RingCount(hetero=True),\n",
    "        'carbon_rings': descriptors.RingCount.RingCount(hetero=False)\n",
    "    }\n",
    "\n",
    "    # Register the descriptors in the calculator\n",
    "    for descriptor in ring_descriptors.values():\n",
    "        calc.register(descriptor)\n",
    "\n",
    "    # Calculate descriptors for the given molecule\n",
    "    results = calc(mol)\n",
    "\n",
    "    # Initialize an empty dictionary to store ring information\n",
    "    ring_info = {}\n",
    "    \n",
    "    # Populate the ring_info dictionary with the calculated results\n",
    "    for name, descriptor in ring_descriptors.items():\n",
    "        ring_info[name] = results[descriptor]\n",
    "\n",
    "    return ring_info\n",
    "\n",
    "# Example usage\n",
    "smiles_code = \"C1=CC2=C(C=C1)C=CC=C2\"  # Example: Naphthalene\n",
    "ring_info = get_ring_info(smiles_code)\n",
    "print(ring_info)\n"
   ]
  },
  {
   "cell_type": "markdown",
   "metadata": {},
   "source": [
    "## Load data to analyze\n",
    "This set of smiles codes, solubility and binding data comes from a pharma company"
   ]
  },
  {
   "cell_type": "code",
   "execution_count": null,
   "metadata": {},
   "outputs": [],
   "source": [
    "# import and view drug data from : https://github.com/molecularinformatics/Computational-ADME/tree/main\n",
    "# described here: https://pubs.acs.org/doi/10.1021/acs.jcim.3c00160\n",
    "import os\n",
    "data_dir = os.path.join('data')\n",
    "file_path = os.path.join(data_dir, 'ADME_public_set_3521.csv')\n",
    "df = pd.read_csv(file_path)\n",
    "df.head(4) # Shows the top X entries in the dataframe\n"
   ]
  },
  {
   "cell_type": "markdown",
   "metadata": {},
   "source": [
    "Some data is missing. Python uses Nan (not a number) to indicate a missing value.\n",
    "Before analyzing and plotting this data, let's trim out rows that have Nan for solubility. Let's \n",
    "also trim the list length to the first 500 items. We'll talk about random and scaffold based splits \n",
    "in a future class."
   ]
  },
  {
   "cell_type": "code",
   "execution_count": null,
   "metadata": {},
   "outputs": [],
   "source": [
    "# Select rows with 'LOG SOLUBILITY PH 6.8 (ug/mL)' not NaN\n",
    "non_nan_df = df.dropna(subset=['LOG SOLUBILITY PH 6.8 (ug/mL)'])\n",
    "\n",
    "# Calculate ring properties and add to new dataframe\n",
    "ring_properties_list = []\n",
    "for smiles in non_nan_df['SMILES'][0:499]:\n",
    "    ring_properties = get_ring_info(smiles)\n",
    "    ring_properties_list.append(ring_properties)\n",
    "\n",
    "# Create a new dataframe with ring properties\n",
    "ring_properties_df = pd.DataFrame(ring_properties_list)\n",
    "# ring_properties_df.head(6)\n",
    "# Combine the ring properties dataframe with the original non-NaN dataframe\n",
    "final_df = pd.concat([non_nan_df.reset_index(drop=True), ring_properties_df], axis=1)\n",
    "\n",
    "final_df_trimmed = final_df[['SMILES', 'LOG SOLUBILITY PH 6.8 (ug/mL)', 'LOG MDR1-MDCK ER (B-A/A-B)',\n",
    "                                     'total_rings', 'aromatic_rings', 'non_aromatic_rings', 'hetero_rings', 'carbon_rings']]\n",
    "final_df_trimmed.head()# defaults to 5"
   ]
  },
  {
   "cell_type": "markdown",
   "metadata": {},
   "source": [
    "## Using descriptors to predict molecular properties\n",
    "\n"
   ]
  },
  {
   "cell_type": "markdown",
   "metadata": {},
   "source": [
    "\n",
    "For this exercise we will be using the [pandas](https://pandas.pydata.org/) (Python Data Analysis) library to\n",
    "help us read, write and manage data. We will also use matplotlib to generate\n",
    "graphs.\n"
   ]
  },
  {
   "cell_type": "markdown",
   "metadata": {},
   "source": [
    "### Graphing the data\n",
    "\n"
   ]
  },
  {
   "cell_type": "markdown",
   "metadata": {},
   "source": [
    "Now we can graph the data using matplotlib.\n",
    "\n"
   ]
  },
  {
   "cell_type": "code",
   "execution_count": null,
   "metadata": {},
   "outputs": [],
   "source": [
    "import matplotlib.pyplot as plt\n",
    "plt.figure(figsize=(8, 6))\n",
    "plt.scatter(final_df_trimmed['LOG SOLUBILITY PH 6.8 (ug/mL)'],final_df_trimmed['aromatic_rings'], alpha=0.7)\n",
    "plt.title('Solubility vs Aromatic Ring Count')\n",
    "plt.xlabel('Aromatic Ring Count')\n",
    "plt.ylabel('Log Solubility (ug/mL)')\n",
    "plt.grid(True)\n"
   ]
  },
  {
   "cell_type": "code",
   "execution_count": null,
   "metadata": {},
   "outputs": [],
   "source": [
    "plt.figure(figsize=(6, 4))\n",
    "plt.scatter(final_df_trimmed['total_rings'], final_df_trimmed['LOG MDR1-MDCK ER (B-A/A-B)'])\n",
    "plt.title('LOG MDR1-MDCK ER (B-A/A-B) vs Total Ring Count')\n",
    "plt.xlabel('Total Ring Count')\n",
    "plt.ylabel('Log MDR1-MDCK ER')\n",
    "plt.grid(False)\n"
   ]
  },
  {
   "cell_type": "markdown",
   "metadata": {},
   "source": [
    "exercise 1: try writing a block that plots another column vs a specific type of ring count\n",
    "try creating a  scatter plot from these two columns in final_df_trimmed"
   ]
  },
  {
   "cell_type": "code",
   "execution_count": 9,
   "metadata": {},
   "outputs": [],
   "source": [
    "# exercise 1:\n"
   ]
  },
  {
   "cell_type": "markdown",
   "metadata": {},
   "source": [
    "### Adding descriptors to the dataset\n",
    "Let's switch to a simpler and smaller dataset to try out creation of a SQL database\n",
    "\n"
   ]
  },
  {
   "cell_type": "code",
   "execution_count": null,
   "metadata": {},
   "outputs": [],
   "source": [
    "#load this in \n",
    "df_bp = pd.read_csv(\"data/BP.csv\") # read in the file into a pandas dataframe\n",
    "#and look through the data\n",
    "df_bp.head(5)"
   ]
  },
  {
   "cell_type": "markdown",
   "metadata": {},
   "source": [
    "To explore creating a database, and creating an API start with:\n",
    "\n",
    "pip install Flask\n",
    "\n",
    "pip install Flask-Cors\n",
    "\n",
    "pip install sqlalchemy\n",
    "\n",
    "And if you don't have sqlite installed (it comes with recent python installs):\n",
    "\n",
    "pip install db-sqlite3\n",
    "\n",
    "more info: \n",
    "https://flask.palletsprojects.com/en/2.2.x/quickstart/ \n",
    "https://docs.sqlalchemy.org/en/14/intro.html\n"
   ]
  },
  {
   "cell_type": "markdown",
   "metadata": {},
   "source": [
    "First we will use an engine from sqlalchemy to convert our dataframe to a SQL (structured query language) database using sqlite, the SQL language built into python. The name of the database will be 'chemical'."
   ]
  },
  {
   "cell_type": "code",
   "execution_count": null,
   "metadata": {},
   "outputs": [],
   "source": [
    "from sqlalchemy import create_engine, text\n",
    "\n",
    "# Create an in-memory SQLite database\n",
    "engine = create_engine('sqlite://', echo=False)\n",
    "\n",
    "# Assuming df_bp is a pandas DataFrame, write it to the database\n",
    "df_bp.to_sql('chemical', con=engine, if_exists='replace', index=False)\n",
    "\n",
    "# Use a connection object to execute queries\n",
    "with engine.connect() as connection:\n",
    "    # Use the sqlalchemy text() function to allow raw SQL execution\n",
    "    query = text(\"SELECT * FROM chemical WHERE SMILES = 'CC'\")\n",
    "    result = connection.execute(query)\n",
    "\n",
    "    # Fetch and print all rows\n",
    "    rows = result.fetchall()\n",
    "    for row in rows:\n",
    "        print(row)\n"
   ]
  },
  {
   "cell_type": "markdown",
   "metadata": {},
   "source": [
    "Once the 'chemical' database is created it can be interrogated with CRUD (create, read, update, and delete) operations using the SQLite language sent through the engine. Here we use the engine to execute a SELECT statement. In SQL the * means \"all\" so we are selecting all rows of the database where the column \"name\" has the value \"Methane\". Appending fetchall() to the end returns the result to us."
   ]
  },
  {
   "cell_type": "code",
   "execution_count": null,
   "metadata": {},
   "outputs": [],
   "source": [
    "with engine.connect() as connection:\n",
    "    query = text(\"SELECT 'chemical'.'name' FROM 'chemical' WHERE 'chemical'.'BP_C' is -0.1\")\n",
    "    result = connection.execute(query)\n",
    "\n",
    "    # Fetch and print all rows\n",
    "    rows = result.fetchall()\n",
    "    for row in rows:\n",
    "        print(row)\n",
    "# print(row[1])\n"
   ]
  },
  {
   "cell_type": "markdown",
   "metadata": {},
   "source": [
    "exercise 2: try writing a script that returns propane by MW from your SQL database "
   ]
  },
  {
   "cell_type": "code",
   "execution_count": 48,
   "metadata": {},
   "outputs": [],
   "source": [
    "# exercise 2\n"
   ]
  },
  {
   "cell_type": "markdown",
   "metadata": {},
   "source": [
    "We can embed this engine in a function that returns the result as a dictionary in JSON (JavaScript Object Notation) format commonly used in http requests."
   ]
  },
  {
   "cell_type": "code",
   "execution_count": 43,
   "metadata": {},
   "outputs": [],
   "source": [
    "def get_chemicals(bp_value):\n",
    "    chemicals = {}\n",
    "    df = pd.read_csv(\"data/BP.csv\")\n",
    "    \n",
    "    # Create SQLite engine\n",
    "    engine = create_engine('sqlite://', echo=False)\n",
    "    \n",
    "    # Save DataFrame to SQL database\n",
    "    df.to_sql('chemical', con=engine, if_exists='replace', index=False)\n",
    "    \n",
    "    # Define column names (in case you need to map them later)\n",
    "    col_names = ['index', 'compound_number', 'name', 'BP_C', 'BP_K', 'SMILES', 'MW']\n",
    "    \n",
    "    try:\n",
    "        # Establish a connection using context manager\n",
    "        with engine.connect() as connection:\n",
    "            \n",
    "            # Use text() to run the SQL query\n",
    "            query = text(\"SELECT * FROM chemical WHERE BP_C = :bp_value\")\n",
    "            result = connection.execute(query, {'bp_value': bp_value})\n",
    "            \n",
    "            # Fetch all rows matching the boiling point condition as mappings (dictionary-like rows)\n",
    "            rows = result.mappings().all()  # Use .mappings() to access rows by column names\n",
    "            \n",
    "            if not rows:\n",
    "                print(\"No results found\")\n",
    "                return json.dumps({})\n",
    "            \n",
    "            # Prepare the dictionary of chemicals\n",
    "            for row in rows:\n",
    "                # `row` is now a dictionary-like object, so you can access values by column name\n",
    "                chemical = {col: row[col] for col in col_names if col in row}\n",
    "                chemicals[row['name']] = chemical  # Use 'name' as the key for each chemical\n",
    "\n",
    "    except Exception as e:\n",
    "        print(f\"An error occurred: {e}\")\n",
    "        return json.dumps({})\n",
    "\n",
    "    # Convert dictionary to JSON for output\n",
    "    chemicals_out = json.dumps(chemicals, separators=(',', ':'))\n",
    "    \n",
    "    return chemicals_out\n"
   ]
  },
  {
   "cell_type": "markdown",
   "metadata": {},
   "source": [
    "Now check this function out by submitting a bp_value. It must be sent as a string because of how the database was setup. More nuanced methods of creating your SQL schema where you can use integers or floating point numbers are described here: https://levelup.gitconnected.com/full-stack-web-app-with-python-react-and-bootstrap-backend-8592baa6e4eb"
   ]
  },
  {
   "cell_type": "code",
   "execution_count": null,
   "metadata": {},
   "outputs": [],
   "source": [
    "bp_value = -0.1\n",
    "get_chemicals(bp_value)"
   ]
  },
  {
   "cell_type": "markdown",
   "metadata": {},
   "source": [
    "Now we will put it all together into an app using flask and create an API. Follow the directions below carefully. Running this code inside Jupyter casues problems becasue there is no easy way to shutdown your app. This block repeats material from earlier so that it is available to this standalone app."
   ]
  },
  {
   "cell_type": "code",
   "execution_count": null,
   "metadata": {},
   "outputs": [],
   "source": [
    "# don't run the \"app.run()\" line in Jupyter. \n",
    "# Instead, copy the text of  this block and save as \"first_app.py\" after uncommenting the last 2 lines and \n",
    "# run it from a terminal or prompt with this command: \"python3 first_app.py\"\n",
    "# The BP.csv file must be in the same folder\n",
    "\n",
    "import pandas as pd\n",
    "from sqlalchemy import create_engine, text\n",
    "from flask import Flask, request, jsonify #added to top of file\n",
    "from flask_cors import CORS #added to top of file\n",
    "import json\n",
    "\n",
    "def get_chemicals(bp_value):\n",
    "    chemicals = {}\n",
    "    df = pd.read_csv(\"../data/BP.csv\")\n",
    "    \n",
    "    # Create SQLite engine\n",
    "    engine = create_engine('sqlite://', echo=False)\n",
    "    \n",
    "    # Save DataFrame to SQL database\n",
    "    df.to_sql('chemical', con=engine, if_exists='replace', index=False)\n",
    "    \n",
    "    # Define column names (in case you need to map them later)\n",
    "    col_names = ['index', 'compound_number', 'name', 'BP_C', 'BP_K', 'SMILES', 'MW']\n",
    "    \n",
    "    try:\n",
    "        # Establish a connection using context manager\n",
    "        with engine.connect() as connection:\n",
    "            \n",
    "            # Use text() to run the SQL query\n",
    "            query = text(\"SELECT * FROM chemical WHERE BP_C = :bp_value\")\n",
    "            result = connection.execute(query, {'bp_value': bp_value})\n",
    "            \n",
    "            # Fetch all rows matching the boiling point condition as mappings (dictionary-like rows)\n",
    "            rows = result.mappings().all()  # Use .mappings() to access rows by column names\n",
    "            \n",
    "            if not rows:\n",
    "                print(\"No results found\")\n",
    "                return json.dumps({})\n",
    "            \n",
    "            # Prepare the dictionary of chemicals\n",
    "            for row in rows:\n",
    "                # `row` is now a dictionary-like object, so you can access values by column name\n",
    "                chemical = {col: row[col] for col in col_names if col in row}\n",
    "                chemicals[row['name']] = chemical  # Use 'name' as the key for each chemical\n",
    "\n",
    "    except Exception as e:\n",
    "        print(f\"An error occurred: {e}\")\n",
    "        return json.dumps({})\n",
    "\n",
    "    # Convert dictionary to JSON for output\n",
    "    chemicals_out = json.dumps(chemicals, separators=(',', ':'))\n",
    "    \n",
    "    return chemicals_out\n",
    "\n",
    "app = Flask(__name__)\n",
    "CORS(app, resources={r\"/*\": {\"origins\": \"*\"}})\n",
    "\n",
    "@app.route('/api/chemical/<name>', methods=['GET','POST'])\n",
    "\n",
    "def api_get_users(name):\n",
    "    return jsonify(get_chemicals(name))\n",
    "\n",
    "if __name__ == ('__main__'):\n",
    "    app.run()"
   ]
  },
  {
   "cell_type": "code",
   "execution_count": null,
   "metadata": {},
   "outputs": [],
   "source": [
    "import requests\n",
    "mydata = '-0.1'\n",
    "url = 'http://127.0.0.1:5000/api/chemical/-0.1'\n",
    "req = requests.post(url, data = mydata)\n",
    "print(req.text)"
   ]
  },
  {
   "cell_type": "markdown",
   "metadata": {},
   "source": [
    "Assignment, option 1:\n",
    "\n",
    "create a second SQL database from the solubility data we started with. Create a query that returns a \n",
    "smiles(or many) based on an input solubility value\n",
    "\n",
    "\n",
    "Assignment, option 2:\n",
    "\n",
    "Add a range input option.\n",
    "\n"
   ]
  },
  {
   "cell_type": "markdown",
   "metadata": {},
   "source": [
    "Hints:\n",
    "\n",
    "You can do the API assignment using a GET instead of a POST. The main issue to solve is that you need to pass a variable following the variable rules discussed here: https://flask.palletsprojects.com/en/2.2.x/quickstart/#routingLinks to an external site.\n",
    "\n",
    "And after getting the variable from the API it needs to get passed again to get_chemicals.\n",
    "\n",
    "It is easier to troubleshoot in Jupyter compared to running scripts from terminal/command prompt. I’d recommend doing as much work as you can in Jupyter before saving the script and moving to terminal.\n",
    "\n",
    "Save your file ending in .py\n",
    "\n",
    "When you run your script in terminal or prompt, make sure that you are in an environment that has flask, flask_cors, sqlalchemy, json, and pandas installed.\n",
    "\n",
    "You can check what packages are available in a given environment by typing “pip list in your terminal. If you are unable to navigate to the environment you want, you can always create a new one with conda from the terminal and install the packages you need.\n",
    "\n"
   ]
  },
  {
   "cell_type": "markdown",
   "metadata": {},
   "source": []
  }
 ],
 "metadata": {
  "kernelspec": {
   "display_name": "Python 3",
   "language": "python",
   "name": "python3"
  },
  "language_info": {
   "codemirror_mode": {
    "name": "ipython",
    "version": 3
   },
   "file_extension": ".py",
   "mimetype": "text/x-python",
   "name": "python",
   "nbconvert_exporter": "python",
   "pygments_lexer": "ipython3",
   "version": "3.11.9"
  },
  "org": null,
  "varInspector": {
   "cols": {
    "lenName": 16,
    "lenType": 16,
    "lenVar": 40
   },
   "kernels_config": {
    "python": {
     "delete_cmd_postfix": "",
     "delete_cmd_prefix": "del ",
     "library": "var_list.py",
     "varRefreshCmd": "print(var_dic_list())"
    },
    "r": {
     "delete_cmd_postfix": ") ",
     "delete_cmd_prefix": "rm(",
     "library": "var_list.r",
     "varRefreshCmd": "cat(var_dic_list()) "
    }
   },
   "types_to_exclude": [
    "module",
    "function",
    "builtin_function_or_method",
    "instance",
    "_Feature"
   ],
   "window_display": false
  },
  "vscode": {
   "interpreter": {
    "hash": "74b0eeecb9694be932ad336503137f0c047c9eb8ec8a4a235079c04fe56ee89e"
   }
  }
 },
 "nbformat": 4,
 "nbformat_minor": 4
}
