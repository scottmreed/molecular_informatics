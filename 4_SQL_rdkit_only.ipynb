{
 "cells": [
  {
   "cell_type": "markdown",
   "id": "cell_0001",
   "metadata": {},
   "source": [
    "## Creating a SQL Database\n",
    "\n"
   ]
  },
  {
   "cell_type": "markdown",
   "id": "cell_0002",
   "metadata": {},
   "source": [
    "Quantitative Structure-Property Relationships (QSPR) and Quantitative\n",
    "Structure-Activity Relationships (QSAR) use statistical models to relate a set\n",
    "of predictor values to a response variable. Molecules are described using a set\n",
    "observed properties. In QSPR and QSAR, physico-chemical properties of theoretical\n",
    "biological outcome. We will use python to import data in preparation for \n",
    "QSPR and QSAR.\n",
    "\n"
   ]
  },
  {
   "cell_type": "markdown",
   "id": "cell_0004",
   "metadata": {},
   "source": [
    "A molecular descriptor is &ldquo;final result of a logical and mathematical procedure,\n",
    "which transforms chemical information encoded within a symbolic repre-sentation\n",
    "of a molecule into a useful number or the result of some standardized\n",
    "chemoinformatics* **2009** Wiley‑VCH, Weinheim). You are already familiar with\n",
    "queried PubChem for data such as XLogP. We&rsquo;ll examine just a few simple\n",
    "\n"
   ]
  },
  {
   "cell_type": "markdown",
   "id": "cell_0006",
   "metadata": {},
   "source": [
    "Clearly we have been using algorithms for calculating these indices. This is\n",
    "time consuming for an individual, but programs can be used to complete this much\n",
    "\n"
   ]
  },
  {
   "cell_type": "code",
   "execution_count": 2,
   "id": "cell_0007",
   "metadata": {
    "ExecuteTime": {
     "end_time": "2025-09-09T19:03:33.785870Z",
     "start_time": "2025-09-09T19:03:33.653596Z"
    }
   },
   "outputs": [
    {
     "data": {
      "text/plain": [
       "2"
      ]
     },
     "execution_count": 2,
     "metadata": {},
     "output_type": "execute_result"
    }
   ],
   "source": [
    "from rdkit import Chem\n",
    "CARBONYL = Chem.MolFromSmarts(\"C=O\")\n",
    "def count_carbonyls(smiles: str) -> int:\n",
    "    m = Chem.MolFromSmiles(smiles)\n",
    "    if m is None:\n",
    "        raise ValueError(\"Invalid SMILES\")\n",
    "    return len(m.GetSubstructMatches(CARBONYL, uniquify=True))\n",
    "\n",
    "# example\n",
    "count_carbonyls(\"CC(=O)OC(=O)C\")\n"
   ]
  },
  {
   "cell_type": "markdown",
   "id": "cell_0009",
   "metadata": {},
   "source": [
    "### Molecule characteristics\n",
    "\n"
   ]
  },
  {
   "cell_type": "markdown",
   "id": "cell_0011",
   "metadata": {},
   "source": [
    "### Looping through a list of molecules\n",
    "\n"
   ]
  },
  {
   "cell_type": "code",
   "execution_count": 3,
   "id": "cell_0013",
   "metadata": {
    "ExecuteTime": {
     "end_time": "2025-09-09T19:04:30.797482Z",
     "start_time": "2025-09-09T19:04:30.785905Z"
    }
   },
   "outputs": [
    {
     "name": "stdout",
     "output_type": "stream",
     "text": [
      "2\n",
      "2\n",
      "1\n",
      "2\n",
      "2\n"
     ]
    },
    {
     "data": {
      "image/png": "[encoded data removed]",
      "image/svg+xml": [
       "<?xml version='1.0' encoding='iso-8859-1'?>\n",
       "<svg version='1.1' baseProfile='full'\n",
       "              xmlns='http://www.w3.org/2000/svg'\n",
       "                      xmlns:rdkit='http://www.rdkit.org/xml'\n",
       "                      xmlns:xlink='http://www.w3.org/1999/xlink'\n",
       "                  xml:space='preserve'\n",
       "width='300px' height='300px' viewBox='0 0 300 300'>\n",
       "<!-- END OF HEADER -->\n",
       "<rect style='opacity:1.0;fill:#FFFFFF;stroke:none' width='300.0' height='300.0' x='0.0' y='0.0'> </rect>\n",
       "<path class='bond-0 atom-0 atom-1' d='M 285.0,107.3 L 235.9,149.9' style='fill:none;fill-rule:evenodd;stroke:#000000;stroke-width:2.0px;stroke-linecap:butt;stroke-linejoin:miter;stroke-opacity:1' />\n",
       "<path class='bond-1 atom-1 atom-2' d='M 230.6,148.0 L 235.9,175.6' style='fill:none;fill-rule:evenodd;stroke:#000000;stroke-width:2.0px;stroke-linecap:butt;stroke-linejoin:miter;stroke-opacity:1' />\n",
       "<path class='bond-1 atom-1 atom-2' d='M 235.9,175.6 L 241.2,203.1' style='fill:none;fill-rule:evenodd;stroke:#FF0000;stroke-width:2.0px;stroke-linecap:butt;stroke-linejoin:miter;stroke-opacity:1' />\n",
       "<path class='bond-1 atom-1 atom-2' d='M 240.2,146.2 L 245.5,173.7' style='fill:none;fill-rule:evenodd;stroke:#000000;stroke-width:2.0px;stroke-linecap:butt;stroke-linejoin:miter;stroke-opacity:1' />\n",
       "<path class='bond-1 atom-1 atom-2' d='M 245.5,173.7 L 250.8,201.3' style='fill:none;fill-rule:evenodd;stroke:#FF0000;stroke-width:2.0px;stroke-linecap:butt;stroke-linejoin:miter;stroke-opacity:1' />\n",
       "<path class='bond-2 atom-1 atom-3' d='M 235.9,149.9 L 174.5,128.6' style='fill:none;fill-rule:evenodd;stroke:#000000;stroke-width:2.0px;stroke-linecap:butt;stroke-linejoin:miter;stroke-opacity:1' />\n",
       "<path class='bond-3 atom-3 atom-4' d='M 174.5,128.6 L 125.5,171.1' style='fill:none;fill-rule:evenodd;stroke:#000000;stroke-width:2.0px;stroke-linecap:butt;stroke-linejoin:miter;stroke-opacity:1' />\n",
       "<path class='bond-4 atom-4 atom-5' d='M 125.5,171.1 L 64.1,149.9' style='fill:none;fill-rule:evenodd;stroke:#000000;stroke-width:2.0px;stroke-linecap:butt;stroke-linejoin:miter;stroke-opacity:1' />\n",
       "<path class='bond-5 atom-5 atom-6' d='M 69.4,151.7 L 64.1,124.3' style='fill:none;fill-rule:evenodd;stroke:#000000;stroke-width:2.0px;stroke-linecap:butt;stroke-linejoin:miter;stroke-opacity:1' />\n",
       "<path class='bond-5 atom-5 atom-6' d='M 64.1,124.3 L 58.9,96.9' style='fill:none;fill-rule:evenodd;stroke:#FF0000;stroke-width:2.0px;stroke-linecap:butt;stroke-linejoin:miter;stroke-opacity:1' />\n",
       "<path class='bond-5 atom-5 atom-6' d='M 59.8,153.5 L 54.6,126.1' style='fill:none;fill-rule:evenodd;stroke:#000000;stroke-width:2.0px;stroke-linecap:butt;stroke-linejoin:miter;stroke-opacity:1' />\n",
       "<path class='bond-5 atom-5 atom-6' d='M 54.6,126.1 L 49.3,98.7' style='fill:none;fill-rule:evenodd;stroke:#FF0000;stroke-width:2.0px;stroke-linecap:butt;stroke-linejoin:miter;stroke-opacity:1' />\n",
       "<path class='bond-6 atom-5 atom-7' d='M 64.1,149.9 L 15.0,192.4' style='fill:none;fill-rule:evenodd;stroke:#000000;stroke-width:2.0px;stroke-linecap:butt;stroke-linejoin:miter;stroke-opacity:1' />\n",
       "<path d='M 238.4,147.7 L 235.9,149.9 L 232.8,148.8' style='fill:none;stroke:#000000;stroke-width:2.0px;stroke-linecap:butt;stroke-linejoin:miter;stroke-opacity:1;' />\n",
       "<path d='M 177.6,129.7 L 174.5,128.6 L 172.1,130.7' style='fill:none;stroke:#000000;stroke-width:2.0px;stroke-linecap:butt;stroke-linejoin:miter;stroke-opacity:1;' />\n",
       "<path d='M 127.9,169.0 L 125.5,171.1 L 122.4,170.1' style='fill:none;stroke:#000000;stroke-width:2.0px;stroke-linecap:butt;stroke-linejoin:miter;stroke-opacity:1;' />\n",
       "<path d='M 67.2,150.9 L 64.1,149.9 L 61.6,152.0' style='fill:none;stroke:#000000;stroke-width:2.0px;stroke-linecap:butt;stroke-linejoin:miter;stroke-opacity:1;' />\n",
       "<path class='atom-2' d='M 239.7 213.7\n",
       "Q 239.7 209.3, 241.9 206.8\n",
       "Q 244.1 204.3, 248.2 204.3\n",
       "Q 252.3 204.3, 254.4 206.8\n",
       "Q 256.6 209.3, 256.6 213.7\n",
       "Q 256.6 218.1, 254.4 220.7\n",
       "Q 252.2 223.2, 248.2 223.2\n",
       "Q 244.1 223.2, 241.9 220.7\n",
       "Q 239.7 218.2, 239.7 213.7\n",
       "M 248.2 221.1\n",
       "Q 251.0 221.1, 252.5 219.3\n",
       "Q 254.0 217.4, 254.0 213.7\n",
       "Q 254.0 210.1, 252.5 208.3\n",
       "Q 251.0 206.4, 248.2 206.4\n",
       "Q 245.4 206.4, 243.8 208.2\n",
       "Q 242.3 210.0, 242.3 213.7\n",
       "Q 242.3 217.4, 243.8 219.3\n",
       "Q 245.4 221.1, 248.2 221.1\n",
       "' fill='#FF0000'/>\n",
       "<path class='atom-6' d='M 43.4 86.1\n",
       "Q 43.4 81.7, 45.6 79.3\n",
       "Q 47.7 76.8, 51.8 76.8\n",
       "Q 55.9 76.8, 58.1 79.3\n",
       "Q 60.3 81.7, 60.3 86.1\n",
       "Q 60.3 90.6, 58.1 93.2\n",
       "Q 55.8 95.7, 51.8 95.7\n",
       "Q 47.8 95.7, 45.6 93.2\n",
       "Q 43.4 90.6, 43.4 86.1\n",
       "M 51.8 93.6\n",
       "Q 54.6 93.6, 56.1 91.7\n",
       "Q 57.7 89.8, 57.7 86.1\n",
       "Q 57.7 82.5, 56.1 80.7\n",
       "Q 54.6 78.9, 51.8 78.9\n",
       "Q 49.0 78.9, 47.5 80.7\n",
       "Q 46.0 82.5, 46.0 86.1\n",
       "Q 46.0 89.9, 47.5 91.7\n",
       "Q 49.0 93.6, 51.8 93.6\n",
       "' fill='#FF0000'/>\n",
       "</svg>\n"
      ],
      "text/html": [
       "<?xml version='1.0' encoding='iso-8859-1'?>\n",
       "<svg version='1.1' baseProfile='full'\n",
       "              xmlns='http://www.w3.org/2000/svg'\n",
       "                      xmlns:rdkit='http://www.rdkit.org/xml'\n",
       "                      xmlns:xlink='http://www.w3.org/1999/xlink'\n",
       "                  xml:space='preserve'\n",
       "width='300px' height='300px' viewBox='0 0 300 300'>\n",
       "<!-- END OF HEADER -->\n",
       "<rect style='opacity:1.0;fill:#FFFFFF;stroke:none' width='300.0' height='300.0' x='0.0' y='0.0'> </rect>\n",
       "<path class='bond-0 atom-0 atom-1' d='M 285.0,107.3 L 235.9,149.9' style='fill:none;fill-rule:evenodd;stroke:#000000;stroke-width:2.0px;stroke-linecap:butt;stroke-linejoin:miter;stroke-opacity:1' />\n",
       "<path class='bond-1 atom-1 atom-2' d='M 230.6,148.0 L 235.9,175.6' style='fill:none;fill-rule:evenodd;stroke:#000000;stroke-width:2.0px;stroke-linecap:butt;stroke-linejoin:miter;stroke-opacity:1' />\n",
       "<path class='bond-1 atom-1 atom-2' d='M 235.9,175.6 L 241.2,203.1' style='fill:none;fill-rule:evenodd;stroke:#FF0000;stroke-width:2.0px;stroke-linecap:butt;stroke-linejoin:miter;stroke-opacity:1' />\n",
       "<path class='bond-1 atom-1 atom-2' d='M 240.2,146.2 L 245.5,173.7' style='fill:none;fill-rule:evenodd;stroke:#000000;stroke-width:2.0px;stroke-linecap:butt;stroke-linejoin:miter;stroke-opacity:1' />\n",
       "<path class='bond-1 atom-1 atom-2' d='M 245.5,173.7 L 250.8,201.3' style='fill:none;fill-rule:evenodd;stroke:#FF0000;stroke-width:2.0px;stroke-linecap:butt;stroke-linejoin:miter;stroke-opacity:1' />\n",
       "<path class='bond-2 atom-1 atom-3' d='M 235.9,149.9 L 174.5,128.6' style='fill:none;fill-rule:evenodd;stroke:#000000;stroke-width:2.0px;stroke-linecap:butt;stroke-linejoin:miter;stroke-opacity:1' />\n",
       "<path class='bond-3 atom-3 atom-4' d='M 174.5,128.6 L 125.5,171.1' style='fill:none;fill-rule:evenodd;stroke:#000000;stroke-width:2.0px;stroke-linecap:butt;stroke-linejoin:miter;stroke-opacity:1' />\n",
       "<path class='bond-4 atom-4 atom-5' d='M 125.5,171.1 L 64.1,149.9' style='fill:none;fill-rule:evenodd;stroke:#000000;stroke-width:2.0px;stroke-linecap:butt;stroke-linejoin:miter;stroke-opacity:1' />\n",
       "<path class='bond-5 atom-5 atom-6' d='M 69.4,151.7 L 64.1,124.3' style='fill:none;fill-rule:evenodd;stroke:#000000;stroke-width:2.0px;stroke-linecap:butt;stroke-linejoin:miter;stroke-opacity:1' />\n",
       "<path class='bond-5 atom-5 atom-6' d='M 64.1,124.3 L 58.9,96.9' style='fill:none;fill-rule:evenodd;stroke:#FF0000;stroke-width:2.0px;stroke-linecap:butt;stroke-linejoin:miter;stroke-opacity:1' />\n",
       "<path class='bond-5 atom-5 atom-6' d='M 59.8,153.5 L 54.6,126.1' style='fill:none;fill-rule:evenodd;stroke:#000000;stroke-width:2.0px;stroke-linecap:butt;stroke-linejoin:miter;stroke-opacity:1' />\n",
       "<path class='bond-5 atom-5 atom-6' d='M 54.6,126.1 L 49.3,98.7' style='fill:none;fill-rule:evenodd;stroke:#FF0000;stroke-width:2.0px;stroke-linecap:butt;stroke-linejoin:miter;stroke-opacity:1' />\n",
       "<path class='bond-6 atom-5 atom-7' d='M 64.1,149.9 L 15.0,192.4' style='fill:none;fill-rule:evenodd;stroke:#000000;stroke-width:2.0px;stroke-linecap:butt;stroke-linejoin:miter;stroke-opacity:1' />\n",
       "<path d='M 238.4,147.7 L 235.9,149.9 L 232.8,148.8' style='fill:none;stroke:#000000;stroke-width:2.0px;stroke-linecap:butt;stroke-linejoin:miter;stroke-opacity:1;' />\n",
       "<path d='M 177.6,129.7 L 174.5,128.6 L 172.1,130.7' style='fill:none;stroke:#000000;stroke-width:2.0px;stroke-linecap:butt;stroke-linejoin:miter;stroke-opacity:1;' />\n",
       "<path d='M 127.9,169.0 L 125.5,171.1 L 122.4,170.1' style='fill:none;stroke:#000000;stroke-width:2.0px;stroke-linecap:butt;stroke-linejoin:miter;stroke-opacity:1;' />\n",
       "<path d='M 67.2,150.9 L 64.1,149.9 L 61.6,152.0' style='fill:none;stroke:#000000;stroke-width:2.0px;stroke-linecap:butt;stroke-linejoin:miter;stroke-opacity:1;' />\n",
       "<path class='atom-2' d='M 239.7 213.7\n",
       "Q 239.7 209.3, 241.9 206.8\n",
       "Q 244.1 204.3, 248.2 204.3\n",
       "Q 252.3 204.3, 254.4 206.8\n",
       "Q 256.6 209.3, 256.6 213.7\n",
       "Q 256.6 218.1, 254.4 220.7\n",
       "Q 252.2 223.2, 248.2 223.2\n",
       "Q 244.1 223.2, 241.9 220.7\n",
       "Q 239.7 218.2, 239.7 213.7\n",
       "M 248.2 221.1\n",
       "Q 251.0 221.1, 252.5 219.3\n",
       "Q 254.0 217.4, 254.0 213.7\n",
       "Q 254.0 210.1, 252.5 208.3\n",
       "Q 251.0 206.4, 248.2 206.4\n",
       "Q 245.4 206.4, 243.8 208.2\n",
       "Q 242.3 210.0, 242.3 213.7\n",
       "Q 242.3 217.4, 243.8 219.3\n",
       "Q 245.4 221.1, 248.2 221.1\n",
       "' fill='#FF0000'/>\n",
       "<path class='atom-6' d='M 43.4 86.1\n",
       "Q 43.4 81.7, 45.6 79.3\n",
       "Q 47.7 76.8, 51.8 76.8\n",
       "Q 55.9 76.8, 58.1 79.3\n",
       "Q 60.3 81.7, 60.3 86.1\n",
       "Q 60.3 90.6, 58.1 93.2\n",
       "Q 55.8 95.7, 51.8 95.7\n",
       "Q 47.8 95.7, 45.6 93.2\n",
       "Q 43.4 90.6, 43.4 86.1\n",
       "M 51.8 93.6\n",
       "Q 54.6 93.6, 56.1 91.7\n",
       "Q 57.7 89.8, 57.7 86.1\n",
       "Q 57.7 82.5, 56.1 80.7\n",
       "Q 54.6 78.9, 51.8 78.9\n",
       "Q 49.0 78.9, 47.5 80.7\n",
       "Q 46.0 82.5, 46.0 86.1\n",
       "Q 46.0 89.9, 47.5 91.7\n",
       "Q 49.0 93.6, 51.8 93.6\n",
       "' fill='#FF0000'/>\n",
       "</svg>\n"
      ],
      "text/plain": [
       "<rdkit.Chem.rdchem.Mol at 0x122887a00>"
      ]
     },
     "execution_count": 3,
     "metadata": {},
     "output_type": "execute_result"
    }
   ],
   "source": [
    "from rdkit.Chem.Draw import IPythonConsole\n",
    "\n",
    "IPythonConsole.ipython_useSVG = True\n",
    "params = Chem.SmilesParserParams()\n",
    "params.removeHs=False\n",
    "\n",
    "IPythonConsole.molSize = (300, 300)   # Change image size\n",
    "IPythonConsole.ipython_useSVG = True  # Change output to SVG\n",
    "smiles = [\"O=C=O\", \"CC(=O)OC(=O)C\", \"CC(=O)C\", \"CC(=O)CC(=O)C\", \"CC(=O)CCC(=O)C\"]\n",
    "for smile in smiles:\n",
    "    query = Chem.MolFromSmiles(\n",
    "    smile,\n",
    "    params)\n",
    "    print(count_carbonyls(smile))\n",
    "query\n"
   ]
  },
  {
   "cell_type": "markdown",
   "id": "cell_0016",
   "metadata": {},
   "source": [
    "## Load data to analyze\n",
    "This set of smiles codes, solubility and binding data comes from a pharma company\n"
   ]
  },
  {
   "cell_type": "markdown",
   "id": "cell_0021",
   "metadata": {},
   "source": [
    "\n",
    "For this exercise we will be using the [pandas](https://pandas.pydata.org/) (Python Data Analysis) library to\n",
    "help us read, write and manage data. We will also use matplotlib to generate\n",
    "graphs.\n"
   ]
  },
  {
   "cell_type": "code",
   "execution_count": 6,
   "id": "cell_0017",
   "metadata": {
    "ExecuteTime": {
     "end_time": "2025-09-09T19:05:08.776779Z",
     "start_time": "2025-09-09T19:05:08.108968Z"
    }
   },
   "outputs": [
    {
     "data": {
      "application/vnd.microsoft.datawrangler.viewer.v0+json": {
       "columns": [
        {
         "name": "index",
         "rawType": "int64",
         "type": "integer"
        },
        {
         "name": "Internal ID",
         "rawType": "object",
         "type": "string"
        },
        {
         "name": "Vendor ID",
         "rawType": "object",
         "type": "string"
        },
        {
         "name": "SMILES",
         "rawType": "object",
         "type": "string"
        },
        {
         "name": "CollectionName",
         "rawType": "object",
         "type": "string"
        },
        {
         "name": "LOG HLM_CLint (mL/min/kg)",
         "rawType": "float64",
         "type": "float"
        },
        {
         "name": "LOG MDR1-MDCK ER (B-A/A-B)",
         "rawType": "float64",
         "type": "float"
        },
        {
         "name": "LOG SOLUBILITY PH 6.8 (ug/mL)",
         "rawType": "float64",
         "type": "float"
        },
        {
         "name": "LOG PLASMA PROTEIN BINDING (HUMAN) (% unbound)",
         "rawType": "float64",
         "type": "float"
        },
        {
         "name": "LOG PLASMA PROTEIN BINDING (RAT) (% unbound)",
         "rawType": "float64",
         "type": "float"
        },
        {
         "name": "LOG RLM_CLint (mL/min/kg)",
         "rawType": "float64",
         "type": "float"
        }
       ],
       "ref": "867d04ba-a541-4af3-921e-789962859a59",
       "rows": [
        [
         "0",
         "Mol1",
         "317714313",
         "CNc1cc(Nc2cccn(-c3ccccn3)c2=O)nn2c(C(=O)N[C@@H]3C[C@@H]3F)cnc12",
         "emolecules",
         "0.675686709",
         "1.493167369",
         "0.089905111",
         "0.991226076",
         "0.51851394",
         "1.392169149"
        ],
        [
         "1",
         "Mol2",
         "324056965",
         "CCOc1cc2nn(CCC(C)(C)O)cc2cc1NC(=O)c1cccc(C(F)F)n1",
         "emolecules",
         "0.675686709",
         "1.040780099",
         "0.550228353",
         "0.099680641",
         "0.268343914",
         "1.027920136"
        ],
        [
         "2",
         "Mol3",
         "304005766",
         "CN(c1ncc(F)cn1)[C@H]1CCCNC1",
         "emolecules",
         "0.675686709",
         "-0.358805917",
         null,
         "2.0",
         "2.0",
         "1.027920136"
        ],
        [
         "3",
         "Mol4",
         "194963090",
         "CC(C)(Oc1ccc(-c2cnc(N)c(-c3ccc(Cl)cc3)c2)cc1)C(=O)O",
         "emolecules",
         "0.675686709",
         "1.02666239",
         "1.657055853",
         "-1.158015195",
         "-1.403402904",
         "1.027920136"
        ],
        [
         "4",
         "Mol5",
         "324059015",
         "CC(C)(O)CCn1cc2cc(NC(=O)c3cccc(C(F)(F)F)n3)c(C(C)(C)O)cc2n1",
         "emolecules",
         "0.996380313",
         "1.010596548",
         null,
         "1.015611205",
         "1.092264361",
         "1.629093448"
        ],
        [
         "5",
         "Mol6",
         "316230505",
         "CC#CC(=O)N[C@H]1CCCN(c2c(F)cc(C(N)=O)c3[nH]c(C)c(C)c23)C1",
         "emolecules",
         "1.397348966",
         "0.860625544",
         "1.033423755",
         "0.163856803",
         "-0.639532816",
         "2.376374361"
        ],
        [
         "6",
         "Mol7",
         "299985775",
         "CC(C)NCC(O)COc1cccc2ccccc12",
         "emolecules",
         "1.327231598",
         "-0.162401489",
         null,
         null,
         "1.347759218",
         "3.318275952"
        ],
        [
         "7",
         "Mol8",
         "538570",
         "COc1ccc(Cl)cc1C(=O)NCCc1ccc(S(=O)(=O)NC(=O)NC2CCCCC2)cc1",
         "emolecules",
         "1.458063445",
         "2.091561417",
         null,
         "-0.91721463",
         "-0.943095149",
         "2.72806226"
        ],
        [
         "8",
         "Mol9",
         "EN300-97039",
         "C=CC(=O)N1CCC[C@@H](n2nc(-c3ccc(Oc4ccccc4)cc3)c3c(N)ncnc32)C1",
         "enamineBB_pmc",
         "2.7565",
         "0.72516",
         "0.93399",
         "0.62603",
         "-0.35853",
         "3.2433"
        ],
        [
         "9",
         "Mol10",
         "44811418",
         "CC(C)NC(=O)COc1cccc(-c2nc(Nc3ccc4[nH]ncc4c3)c3ccccc3n2)c1",
         "emolecules",
         "1.630824356",
         "1.301828955",
         null,
         "-1.384078213",
         "-0.504455662",
         "3.192741081"
        ]
       ],
       "shape": {
        "columns": 10,
        "rows": 10
       }
      },
      "text/html": [
       "<div>\n",
       "<style scoped>\n",
       "    .dataframe tbody tr th:only-of-type {\n",
       "        vertical-align: middle;\n",
       "    }\n",
       "\n",
       "    .dataframe tbody tr th {\n",
       "        vertical-align: top;\n",
       "    }\n",
       "\n",
       "    .dataframe thead th {\n",
       "        text-align: right;\n",
       "    }\n",
       "</style>\n",
       "<table border=\"1\" class=\"dataframe\">\n",
       "  <thead>\n",
       "    <tr style=\"text-align: right;\">\n",
       "      <th></th>\n",
       "      <th>Internal ID</th>\n",
       "      <th>Vendor ID</th>\n",
       "      <th>SMILES</th>\n",
       "      <th>CollectionName</th>\n",
       "      <th>LOG HLM_CLint (mL/min/kg)</th>\n",
       "      <th>LOG MDR1-MDCK ER (B-A/A-B)</th>\n",
       "      <th>LOG SOLUBILITY PH 6.8 (ug/mL)</th>\n",
       "      <th>LOG PLASMA PROTEIN BINDING (HUMAN) (% unbound)</th>\n",
       "      <th>LOG PLASMA PROTEIN BINDING (RAT) (% unbound)</th>\n",
       "      <th>LOG RLM_CLint (mL/min/kg)</th>\n",
       "    </tr>\n",
       "  </thead>\n",
       "  <tbody>\n",
       "    <tr>\n",
       "      <th>0</th>\n",
       "      <td>Mol1</td>\n",
       "      <td>317714313</td>\n",
       "      <td>CNc1cc(Nc2cccn(-c3ccccn3)c2=O)nn2c(C(=O)N[C@@H...</td>\n",
       "      <td>emolecules</td>\n",
       "      <td>0.675687</td>\n",
       "      <td>1.493167</td>\n",
       "      <td>0.089905</td>\n",
       "      <td>0.991226</td>\n",
       "      <td>0.518514</td>\n",
       "      <td>1.392169</td>\n",
       "    </tr>\n",
       "    <tr>\n",
       "      <th>1</th>\n",
       "      <td>Mol2</td>\n",
       "      <td>324056965</td>\n",
       "      <td>CCOc1cc2nn(CCC(C)(C)O)cc2cc1NC(=O)c1cccc(C(F)F)n1</td>\n",
       "      <td>emolecules</td>\n",
       "      <td>0.675687</td>\n",
       "      <td>1.040780</td>\n",
       "      <td>0.550228</td>\n",
       "      <td>0.099681</td>\n",
       "      <td>0.268344</td>\n",
       "      <td>1.027920</td>\n",
       "    </tr>\n",
       "    <tr>\n",
       "      <th>2</th>\n",
       "      <td>Mol3</td>\n",
       "      <td>304005766</td>\n",
       "      <td>CN(c1ncc(F)cn1)[C@H]1CCCNC1</td>\n",
       "      <td>emolecules</td>\n",
       "      <td>0.675687</td>\n",
       "      <td>-0.358806</td>\n",
       "      <td>NaN</td>\n",
       "      <td>2.000000</td>\n",
       "      <td>2.000000</td>\n",
       "      <td>1.027920</td>\n",
       "    </tr>\n",
       "    <tr>\n",
       "      <th>3</th>\n",
       "      <td>Mol4</td>\n",
       "      <td>194963090</td>\n",
       "      <td>CC(C)(Oc1ccc(-c2cnc(N)c(-c3ccc(Cl)cc3)c2)cc1)C...</td>\n",
       "      <td>emolecules</td>\n",
       "      <td>0.675687</td>\n",
       "      <td>1.026662</td>\n",
       "      <td>1.657056</td>\n",
       "      <td>-1.158015</td>\n",
       "      <td>-1.403403</td>\n",
       "      <td>1.027920</td>\n",
       "    </tr>\n",
       "    <tr>\n",
       "      <th>4</th>\n",
       "      <td>Mol5</td>\n",
       "      <td>324059015</td>\n",
       "      <td>CC(C)(O)CCn1cc2cc(NC(=O)c3cccc(C(F)(F)F)n3)c(C...</td>\n",
       "      <td>emolecules</td>\n",
       "      <td>0.996380</td>\n",
       "      <td>1.010597</td>\n",
       "      <td>NaN</td>\n",
       "      <td>1.015611</td>\n",
       "      <td>1.092264</td>\n",
       "      <td>1.629093</td>\n",
       "    </tr>\n",
       "    <tr>\n",
       "      <th>5</th>\n",
       "      <td>Mol6</td>\n",
       "      <td>316230505</td>\n",
       "      <td>CC#CC(=O)N[C@H]1CCCN(c2c(F)cc(C(N)=O)c3[nH]c(C...</td>\n",
       "      <td>emolecules</td>\n",
       "      <td>1.397349</td>\n",
       "      <td>0.860626</td>\n",
       "      <td>1.033424</td>\n",
       "      <td>0.163857</td>\n",
       "      <td>-0.639533</td>\n",
       "      <td>2.376374</td>\n",
       "    </tr>\n",
       "    <tr>\n",
       "      <th>6</th>\n",
       "      <td>Mol7</td>\n",
       "      <td>299985775</td>\n",
       "      <td>CC(C)NCC(O)COc1cccc2ccccc12</td>\n",
       "      <td>emolecules</td>\n",
       "      <td>1.327232</td>\n",
       "      <td>-0.162401</td>\n",
       "      <td>NaN</td>\n",
       "      <td>NaN</td>\n",
       "      <td>1.347759</td>\n",
       "      <td>3.318276</td>\n",
       "    </tr>\n",
       "    <tr>\n",
       "      <th>7</th>\n",
       "      <td>Mol8</td>\n",
       "      <td>538570</td>\n",
       "      <td>COc1ccc(Cl)cc1C(=O)NCCc1ccc(S(=O)(=O)NC(=O)NC2...</td>\n",
       "      <td>emolecules</td>\n",
       "      <td>1.458063</td>\n",
       "      <td>2.091561</td>\n",
       "      <td>NaN</td>\n",
       "      <td>-0.917215</td>\n",
       "      <td>-0.943095</td>\n",
       "      <td>2.728062</td>\n",
       "    </tr>\n",
       "    <tr>\n",
       "      <th>8</th>\n",
       "      <td>Mol9</td>\n",
       "      <td>EN300-97039</td>\n",
       "      <td>C=CC(=O)N1CCC[C@@H](n2nc(-c3ccc(Oc4ccccc4)cc3)...</td>\n",
       "      <td>enamineBB_pmc</td>\n",
       "      <td>2.756500</td>\n",
       "      <td>0.725160</td>\n",
       "      <td>0.933990</td>\n",
       "      <td>0.626030</td>\n",
       "      <td>-0.358530</td>\n",
       "      <td>3.243300</td>\n",
       "    </tr>\n",
       "    <tr>\n",
       "      <th>9</th>\n",
       "      <td>Mol10</td>\n",
       "      <td>44811418</td>\n",
       "      <td>CC(C)NC(=O)COc1cccc(-c2nc(Nc3ccc4[nH]ncc4c3)c3...</td>\n",
       "      <td>emolecules</td>\n",
       "      <td>1.630824</td>\n",
       "      <td>1.301829</td>\n",
       "      <td>NaN</td>\n",
       "      <td>-1.384078</td>\n",
       "      <td>-0.504456</td>\n",
       "      <td>3.192741</td>\n",
       "    </tr>\n",
       "  </tbody>\n",
       "</table>\n",
       "</div>"
      ],
      "text/plain": [
       "  Internal ID    Vendor ID                                             SMILES  \\\n",
       "0        Mol1    317714313  CNc1cc(Nc2cccn(-c3ccccn3)c2=O)nn2c(C(=O)N[C@@H...   \n",
       "1        Mol2    324056965  CCOc1cc2nn(CCC(C)(C)O)cc2cc1NC(=O)c1cccc(C(F)F)n1   \n",
       "2        Mol3    304005766                        CN(c1ncc(F)cn1)[C@H]1CCCNC1   \n",
       "3        Mol4    194963090  CC(C)(Oc1ccc(-c2cnc(N)c(-c3ccc(Cl)cc3)c2)cc1)C...   \n",
       "4        Mol5    324059015  CC(C)(O)CCn1cc2cc(NC(=O)c3cccc(C(F)(F)F)n3)c(C...   \n",
       "5        Mol6    316230505  CC#CC(=O)N[C@H]1CCCN(c2c(F)cc(C(N)=O)c3[nH]c(C...   \n",
       "6        Mol7    299985775                        CC(C)NCC(O)COc1cccc2ccccc12   \n",
       "7        Mol8       538570  COc1ccc(Cl)cc1C(=O)NCCc1ccc(S(=O)(=O)NC(=O)NC2...   \n",
       "8        Mol9  EN300-97039  C=CC(=O)N1CCC[C@@H](n2nc(-c3ccc(Oc4ccccc4)cc3)...   \n",
       "9       Mol10     44811418  CC(C)NC(=O)COc1cccc(-c2nc(Nc3ccc4[nH]ncc4c3)c3...   \n",
       "\n",
       "  CollectionName  LOG HLM_CLint (mL/min/kg)  LOG MDR1-MDCK ER (B-A/A-B)  \\\n",
       "0     emolecules                   0.675687                    1.493167   \n",
       "1     emolecules                   0.675687                    1.040780   \n",
       "2     emolecules                   0.675687                   -0.358806   \n",
       "3     emolecules                   0.675687                    1.026662   \n",
       "4     emolecules                   0.996380                    1.010597   \n",
       "5     emolecules                   1.397349                    0.860626   \n",
       "6     emolecules                   1.327232                   -0.162401   \n",
       "7     emolecules                   1.458063                    2.091561   \n",
       "8  enamineBB_pmc                   2.756500                    0.725160   \n",
       "9     emolecules                   1.630824                    1.301829   \n",
       "\n",
       "   LOG SOLUBILITY PH 6.8 (ug/mL)  \\\n",
       "0                       0.089905   \n",
       "1                       0.550228   \n",
       "2                            NaN   \n",
       "3                       1.657056   \n",
       "4                            NaN   \n",
       "5                       1.033424   \n",
       "6                            NaN   \n",
       "7                            NaN   \n",
       "8                       0.933990   \n",
       "9                            NaN   \n",
       "\n",
       "   LOG PLASMA PROTEIN BINDING (HUMAN) (% unbound)  \\\n",
       "0                                        0.991226   \n",
       "1                                        0.099681   \n",
       "2                                        2.000000   \n",
       "3                                       -1.158015   \n",
       "4                                        1.015611   \n",
       "5                                        0.163857   \n",
       "6                                             NaN   \n",
       "7                                       -0.917215   \n",
       "8                                        0.626030   \n",
       "9                                       -1.384078   \n",
       "\n",
       "   LOG PLASMA PROTEIN BINDING (RAT) (% unbound)  LOG RLM_CLint (mL/min/kg)  \n",
       "0                                      0.518514                   1.392169  \n",
       "1                                      0.268344                   1.027920  \n",
       "2                                      2.000000                   1.027920  \n",
       "3                                     -1.403403                   1.027920  \n",
       "4                                      1.092264                   1.629093  \n",
       "5                                     -0.639533                   2.376374  \n",
       "6                                      1.347759                   3.318276  \n",
       "7                                     -0.943095                   2.728062  \n",
       "8                                     -0.358530                   3.243300  \n",
       "9                                     -0.504456                   3.192741  "
      ]
     },
     "execution_count": 6,
     "metadata": {},
     "output_type": "execute_result"
    }
   ],
   "source": [
    "# import and view drug data from : https://github.com/molecularinformatics/Computational-ADME/tree/main\n",
    "# described here: https://pubs.acs.org/doi/10.1021/acs.jcim.3c00160\n",
    "import os\n",
    "import pandas as pd\n",
    "data_dir = os.path.join('data')\n",
    "file_path = os.path.join(data_dir, 'ADME_public_set_3521.csv')\n",
    "df = pd.read_csv(file_path)\n",
    "df.head(10) # Shows the top X entries in the dataframe\n"
   ]
  },
  {
   "cell_type": "markdown",
   "id": "cell_0018",
   "metadata": {},
   "source": [
    "Some data is missing. Python uses Nan (not a number) to indicate a missing value.\n",
    "Before analyzing and plotting this data, let's trim out rows that have Nan for solubility. Let's \n",
    "also trim the list length to the first 500 items. We'll talk about random and scaffold based splits \n",
    "in a future class.\n"
   ]
  },
  {
   "cell_type": "code",
   "execution_count": 7,
   "id": "cell_0019",
   "metadata": {
    "ExecuteTime": {
     "end_time": "2025-09-09T19:05:15.389149Z",
     "start_time": "2025-09-09T19:05:15.379658Z"
    }
   },
   "outputs": [
    {
     "name": "stdout",
     "output_type": "stream",
     "text": [
      "499\n"
     ]
    },
    {
     "data": {
      "application/vnd.microsoft.datawrangler.viewer.v0+json": {
       "columns": [
        {
         "name": "index",
         "rawType": "int64",
         "type": "integer"
        },
        {
         "name": "0",
         "rawType": "int64",
         "type": "integer"
        }
       ],
       "ref": "ad23da47-1992-495c-a1b3-48e5f0e1cb60",
       "rows": [
        [
         "0",
         "1"
        ],
        [
         "1",
         "1"
        ],
        [
         "2",
         "1"
        ],
        [
         "3",
         "2"
        ],
        [
         "4",
         "1"
        ],
        [
         "5",
         "0"
        ],
        [
         "6",
         "1"
        ],
        [
         "7",
         "0"
        ],
        [
         "8",
         "0"
        ],
        [
         "9",
         "1"
        ]
       ],
       "shape": {
        "columns": 1,
        "rows": 10
       }
      },
      "text/html": [
       "<div>\n",
       "<style scoped>\n",
       "    .dataframe tbody tr th:only-of-type {\n",
       "        vertical-align: middle;\n",
       "    }\n",
       "\n",
       "    .dataframe tbody tr th {\n",
       "        vertical-align: top;\n",
       "    }\n",
       "\n",
       "    .dataframe thead th {\n",
       "        text-align: right;\n",
       "    }\n",
       "</style>\n",
       "<table border=\"1\" class=\"dataframe\">\n",
       "  <thead>\n",
       "    <tr style=\"text-align: right;\">\n",
       "      <th></th>\n",
       "      <th>0</th>\n",
       "    </tr>\n",
       "  </thead>\n",
       "  <tbody>\n",
       "    <tr>\n",
       "      <th>0</th>\n",
       "      <td>1</td>\n",
       "    </tr>\n",
       "    <tr>\n",
       "      <th>1</th>\n",
       "      <td>1</td>\n",
       "    </tr>\n",
       "    <tr>\n",
       "      <th>2</th>\n",
       "      <td>1</td>\n",
       "    </tr>\n",
       "    <tr>\n",
       "      <th>3</th>\n",
       "      <td>2</td>\n",
       "    </tr>\n",
       "    <tr>\n",
       "      <th>4</th>\n",
       "      <td>1</td>\n",
       "    </tr>\n",
       "    <tr>\n",
       "      <th>5</th>\n",
       "      <td>0</td>\n",
       "    </tr>\n",
       "    <tr>\n",
       "      <th>6</th>\n",
       "      <td>1</td>\n",
       "    </tr>\n",
       "    <tr>\n",
       "      <th>7</th>\n",
       "      <td>0</td>\n",
       "    </tr>\n",
       "    <tr>\n",
       "      <th>8</th>\n",
       "      <td>0</td>\n",
       "    </tr>\n",
       "    <tr>\n",
       "      <th>9</th>\n",
       "      <td>1</td>\n",
       "    </tr>\n",
       "  </tbody>\n",
       "</table>\n",
       "</div>"
      ],
      "text/plain": [
       "   0\n",
       "0  1\n",
       "1  1\n",
       "2  1\n",
       "3  2\n",
       "4  1\n",
       "5  0\n",
       "6  1\n",
       "7  0\n",
       "8  0\n",
       "9  1"
      ]
     },
     "execution_count": 7,
     "metadata": {},
     "output_type": "execute_result"
    }
   ],
   "source": [
    "# Select rows with 'LOG SOLUBILITY PH 6.8 (ug/mL)' not NaN\n",
    "non_nan_df = df.dropna(subset=['LOG SOLUBILITY PH 6.8 (ug/mL)'])\n",
    "\n",
    "carbonyl_count_list = []\n",
    "for smiles in non_nan_df['SMILES'][0:499]:\n",
    "    carbonyl_count = count_carbonyls(smiles)\n",
    "    carbonyl_count_list.append(carbonyl_count)\n",
    "\n",
    "carbonyl_count_df = pd.DataFrame(carbonyl_count_list)\n",
    "print(len(carbonyl_count_list))\n",
    "# non_nan_df.describe()\n",
    "# non_nan_df.head(10)\n",
    "carbonyl_count_df.head(10)# defaults to 5\n"
   ]
  },
  {
   "cell_type": "markdown",
   "id": "cell_0028",
   "metadata": {},
   "source": [
    "Let's switch to a simpler and smaller dataset to try out creation of a SQL database\n",
    "\n"
   ]
  },
  {
   "cell_type": "code",
   "execution_count": 17,
   "id": "cell_0029",
   "metadata": {},
   "outputs": [
    {
     "data": {
      "application/vnd.microsoft.datawrangler.viewer.v0+json": {
       "columns": [
        {
         "name": "index",
         "rawType": "int64",
         "type": "integer"
        },
        {
         "name": "compound",
         "rawType": "int64",
         "type": "integer"
        },
        {
         "name": "name",
         "rawType": "object",
         "type": "string"
        },
        {
         "name": "BP_C",
         "rawType": "float64",
         "type": "float"
        },
        {
         "name": "BP_K",
         "rawType": "float64",
         "type": "float"
        },
        {
         "name": "SMILES",
         "rawType": "object",
         "type": "string"
        },
        {
         "name": "MW",
         "rawType": "float64",
         "type": "float"
        }
       ],
       "ref": "d4ba07cf-a12f-4ae7-9e43-e2581c2deee5",
       "rows": [
        [
         "0",
         "1",
         "Methane",
         "-162.2",
         "110.95",
         "C",
         "16.043"
        ],
        [
         "1",
         "2",
         "Ethane",
         "-88.6",
         "184.55",
         "CC",
         "30.07"
        ],
        [
         "2",
         "3",
         "propane",
         "-42.2",
         "230.95",
         "CCC",
         "44.1"
        ],
        [
         "3",
         "4",
         "butane",
         "-0.1",
         "273.05",
         "CCCC",
         "58.12"
        ],
        [
         "4",
         "5",
         "2-methylpropane",
         "-11.2",
         "261.95",
         "CC(C)C",
         "58.12"
        ]
       ],
       "shape": {
        "columns": 6,
        "rows": 5
       }
      },
      "text/html": [
       "<div>\n",
       "<style scoped>\n",
       "    .dataframe tbody tr th:only-of-type {\n",
       "        vertical-align: middle;\n",
       "    }\n",
       "\n",
       "    .dataframe tbody tr th {\n",
       "        vertical-align: top;\n",
       "    }\n",
       "\n",
       "    .dataframe thead th {\n",
       "        text-align: right;\n",
       "    }\n",
       "</style>\n",
       "<table border=\"1\" class=\"dataframe\">\n",
       "  <thead>\n",
       "    <tr style=\"text-align: right;\">\n",
       "      <th></th>\n",
       "      <th>compound</th>\n",
       "      <th>name</th>\n",
       "      <th>BP_C</th>\n",
       "      <th>BP_K</th>\n",
       "      <th>SMILES</th>\n",
       "      <th>MW</th>\n",
       "    </tr>\n",
       "  </thead>\n",
       "  <tbody>\n",
       "    <tr>\n",
       "      <th>0</th>\n",
       "      <td>1</td>\n",
       "      <td>Methane</td>\n",
       "      <td>-162.2</td>\n",
       "      <td>110.95</td>\n",
       "      <td>C</td>\n",
       "      <td>16.043</td>\n",
       "    </tr>\n",
       "    <tr>\n",
       "      <th>1</th>\n",
       "      <td>2</td>\n",
       "      <td>Ethane</td>\n",
       "      <td>-88.6</td>\n",
       "      <td>184.55</td>\n",
       "      <td>CC</td>\n",
       "      <td>30.070</td>\n",
       "    </tr>\n",
       "    <tr>\n",
       "      <th>2</th>\n",
       "      <td>3</td>\n",
       "      <td>propane</td>\n",
       "      <td>-42.2</td>\n",
       "      <td>230.95</td>\n",
       "      <td>CCC</td>\n",
       "      <td>44.100</td>\n",
       "    </tr>\n",
       "    <tr>\n",
       "      <th>3</th>\n",
       "      <td>4</td>\n",
       "      <td>butane</td>\n",
       "      <td>-0.1</td>\n",
       "      <td>273.05</td>\n",
       "      <td>CCCC</td>\n",
       "      <td>58.120</td>\n",
       "    </tr>\n",
       "    <tr>\n",
       "      <th>4</th>\n",
       "      <td>5</td>\n",
       "      <td>2-methylpropane</td>\n",
       "      <td>-11.2</td>\n",
       "      <td>261.95</td>\n",
       "      <td>CC(C)C</td>\n",
       "      <td>58.120</td>\n",
       "    </tr>\n",
       "  </tbody>\n",
       "</table>\n",
       "</div>"
      ],
      "text/plain": [
       "   compound             name   BP_C    BP_K  SMILES      MW\n",
       "0         1          Methane -162.2  110.95       C  16.043\n",
       "1         2           Ethane  -88.6  184.55      CC  30.070\n",
       "2         3          propane  -42.2  230.95     CCC  44.100\n",
       "3         4           butane   -0.1  273.05    CCCC  58.120\n",
       "4         5  2-methylpropane  -11.2  261.95  CC(C)C  58.120"
      ]
     },
     "execution_count": 17,
     "metadata": {},
     "output_type": "execute_result"
    }
   ],
   "source": [
    "#load this in \n",
    "df_bp = pd.read_csv(\"data/BP.csv\") # read in the file into a pandas dataframe\n",
    "#and look through the data\n",
    "df_bp.head(5)\n",
    "\n"
   ]
  },
  {
   "cell_type": "markdown",
   "id": "cell_0030",
   "metadata": {},
   "source": [
    "To explore creating a database, and creating an API start with:\n",
    "\n",
    "pip install Flask\n",
    "\n",
    "pip install Flask-Cors\n",
    "\n",
    "pip install sqlalchemy\n",
    "\n",
    "And if you don't have sqlite installed (it comes with recent python installs):\n",
    "\n",
    "pip install db-sqlite3\n",
    "\n",
    "more info: \n",
    "https://flask.palletsprojects.com/en/2.2.x/quickstart/ \n",
    "https://docs.sqlalchemy.org/en/14/intro.html\n"
   ]
  },
  {
   "cell_type": "markdown",
   "id": "cell_0031",
   "metadata": {},
   "source": [
    "First we will use an engine from sqlalchemy to convert our dataframe to a SQL (structured query language) database using sqlite, the SQL language built into python. The name of the database will be 'chemical'.\n"
   ]
  },
  {
   "cell_type": "code",
   "execution_count": 18,
   "id": "cell_0032",
   "metadata": {
    "ExecuteTime": {
     "end_time": "2025-09-11T12:14:55.041340Z",
     "start_time": "2025-09-11T12:14:54.797162Z"
    }
   },
   "outputs": [
    {
     "name": "stdout",
     "output_type": "stream",
     "text": [
      "(2, 'Ethane', -88.6, 184.55, 'CC', 30.07)\n"
     ]
    }
   ],
   "source": [
    "from sqlalchemy import create_engine, text\n",
    "\n",
    "# Create an in-memory SQLite database\n",
    "engine = create_engine('sqlite://', echo=False)\n",
    "\n",
    "# Assuming df_bp is a pandas DataFrame, write it to the database\n",
    "df_bp.to_sql('chemical', con=engine, if_exists='replace', index=False)\n",
    "\n",
    "# Use a connection object to execute queries\n",
    "with engine.connect() as connection:\n",
    "    # Use the sqlalchemy text() function to allow raw SQL execution\n",
    "    query = text(\"SELECT * FROM chemical WHERE SMILES = 'CC'\")\n",
    "    result = connection.execute(query)\n",
    "\n",
    "    # Fetch and print all rows\n",
    "    rows = result.fetchall()\n",
    "    for row in rows:\n",
    "        print(row)\n"
   ]
  },
  {
   "cell_type": "markdown",
   "id": "cell_0033",
   "metadata": {},
   "source": [
    "Once the 'chemical' database is created it can be interrogated with CRUD (create, read, update, and delete) operations using the SQLite language sent through the engine. Here we use the engine to execute a SELECT statement. In SQL the * means \"all\" so we are selecting all rows of the database where the column \"name\" has the value \"Methane\". Appending fetchall() to the end returns the result to us.\n"
   ]
  },
  {
   "cell_type": "code",
   "execution_count": 10,
   "id": "cell_0034",
   "metadata": {},
   "outputs": [
    {
     "name": "stdout",
     "output_type": "stream",
     "text": [
      "('butane',)\n"
     ]
    }
   ],
   "source": [
    "with engine.connect() as connection:\n",
    "    query = text(\"SELECT 'chemical'.'name' FROM 'chemical' WHERE 'chemical'.'BP_C' is -0.1\")\n",
    "    result = connection.execute(query)\n",
    "\n",
    "    # Fetch and print all rows\n",
    "    rows = result.fetchall()\n",
    "    for row in rows:\n",
    "        print(row)\n"
   ]
  },
  {
   "cell_type": "markdown",
   "id": "cell_0037",
   "metadata": {},
   "source": [
    "We can embed this engine in a function that returns the result as a dictionary in JSON (JavaScript Object Notation) format commonly used in http requests.\n"
   ]
  },
  {
   "cell_type": "code",
   "execution_count": null,
   "id": "cell_0038",
   "metadata": {},
   "outputs": [],
   "source": [
    "import json\n",
    "def get_chemicals(bp_value):\n",
    "    chemicals = {}\n",
    "    df = pd.read_csv(\"data/BP.csv\")\n",
    "    \n",
    "    # Create SQLite engine\n",
    "    engine = create_engine('sqlite://', echo=False)\n",
    "    \n",
    "    # Save DataFrame to SQL database\n",
    "    df.to_sql('chemical', con=engine, if_exists='replace', index=False)\n",
    "    \n",
    "    # Define column names (in case you need to map them later)\n",
    "    col_names = ['index', 'compound_number', 'name', 'BP_C', 'BP_K', 'SMILES', 'MW']\n",
    "    \n",
    "    try:\n",
    "        # Establish a connection using context manager\n",
    "        with engine.connect() as connection:\n",
    "            \n",
    "            # Use text() to run the SQL query\n",
    "            query = text(\"SELECT * FROM chemical WHERE BP_C = :bp_value\")\n",
    "            result = connection.execute(query, {'bp_value': bp_value})\n",
    "            \n",
    "            # Fetch all rows matching the boiling point condition as mappings (dictionary-like rows)\n",
    "            rows = result.mappings().all()  # Use .mappings() to access rows by column names\n",
    "            \n",
    "            if not rows:\n",
    "                print(\"No results found\")\n",
    "                return json.dumps({})\n",
    "            \n",
    "            # Prepare the dictionary of chemicals\n",
    "            for row in rows:\n",
    "                # `row` is now a dictionary-like object, so you can access values by column name\n",
    "                chemical = {col: row[col] for col in col_names if col in row}\n",
    "                chemicals[row['name']] = chemical  # Use 'name' as the key for each chemical\n",
    "\n",
    "    except Exception as e:\n",
    "        print(f\"An error occurred: {e}\")\n",
    "        return json.dumps({})\n",
    "\n",
    "    # Convert dictionary to JSON for output\n",
    "    chemicals_out = json.dumps(chemicals, separators=(',', ':'))\n",
    "    \n",
    "    return chemicals_out\n"
   ]
  },
  {
   "cell_type": "markdown",
   "id": "cell_0039",
   "metadata": {},
   "source": [
    "Now check this function out by submitting a bp_value. It must be sent as a string because of how the database was setup. More nuanced methods of creating your SQL schema where you can use integers or floating point numbers are described here: https://levelup.gitconnected.com/full-stack-web-app-with-python-react-and-bootstrap-backend-8592baa6e4eb\n"
   ]
  },
  {
   "cell_type": "code",
   "execution_count": null,
   "id": "cell_0040",
   "metadata": {},
   "outputs": [
    {
     "data": {
      "text/plain": [
       "'{\"butane\":{\"name\":\"butane\",\"BP_C\":-0.1,\"BP_K\":273.05,\"SMILES\":\"CCCC\",\"MW\":58.12}}'"
      ]
     },
     "execution_count": 12,
     "metadata": {},
     "output_type": "execute_result"
    }
   ],
   "source": [
    "bp_value = -0.1\n",
    "get_chemicals(bp_value)\n"
   ]
  },
  {
   "cell_type": "markdown",
   "id": "cell_0041",
   "metadata": {},
   "source": [
    "Now we will put it all together into an app using flask and create an API. Follow the directions below carefully. Running this code inside Jupyter casues problems becasue there is no easy way to shutdown your app. This block repeats material from earlier so that it is available to this standalone app.\n"
   ]
  },
  {
   "cell_type": "code",
   "execution_count": null,
   "id": "cell_0042",
   "metadata": {},
   "outputs": [],
   "source": [
    "# don't run the \"app.run()\" line in Jupyter. \n",
    "# Instead, copy the text of  this block and save as \"first_app.py\" after uncommenting the last 2 lines and \n",
    "# run it from a terminal or prompt with this command: \"python3 first_app.py\"\n",
    "# The BP.csv file must be in the same folder\n",
    "\n",
    "import pandas as pd\n",
    "from sqlalchemy import create_engine, text\n",
    "from flask import Flask, request, jsonify #added to top of file\n",
    "from flask_cors import CORS #added to top of file\n",
    "import json\n",
    "\n",
    "def get_chemicals(bp_value):\n",
    "    chemicals = {}\n",
    "    df = pd.read_csv(\"../data/BP.csv\")\n",
    "    \n",
    "    # Create SQLite engine\n",
    "    engine = create_engine('sqlite://', echo=False)\n",
    "    \n",
    "    # Save DataFrame to SQL database\n",
    "    df.to_sql('chemical', con=engine, if_exists='replace', index=False)\n",
    "    \n",
    "    # Define column names (in case you need to map them later)\n",
    "    col_names = ['index', 'compound_number', 'name', 'BP_C', 'BP_K', 'SMILES', 'MW']\n",
    "    \n",
    "    try:\n",
    "        # Establish a connection using context manager\n",
    "        with engine.connect() as connection:\n",
    "            \n",
    "            # Use text() to run the SQL query\n",
    "            query = text(\"SELECT * FROM chemical WHERE BP_C = :bp_value\")\n",
    "            result = connection.execute(query, {'bp_value': bp_value})\n",
    "            \n",
    "            # Fetch all rows matching the boiling point condition as mappings (dictionary-like rows)\n",
    "            rows = result.mappings().all()  # Use .mappings() to access rows by column names\n",
    "            \n",
    "            if not rows:\n",
    "                print(\"No results found\")\n",
    "                return json.dumps({})\n",
    "            \n",
    "            # Prepare the dictionary of chemicals\n",
    "            for row in rows:\n",
    "                # `row` is now a dictionary-like object, so you can access values by column name\n",
    "                chemical = {col: row[col] for col in col_names if col in row}\n",
    "                chemicals[row['name']] = chemical  # Use 'name' as the key for each chemical\n",
    "\n",
    "    except Exception as e:\n",
    "        print(f\"An error occurred: {e}\")\n",
    "        return json.dumps({})\n",
    "\n",
    "    # Convert dictionary to JSON for output\n",
    "    chemicals_out = json.dumps(chemicals, separators=(',', ':'))\n",
    "    \n",
    "    return chemicals_out\n",
    "\n",
    "app = Flask(__name__)\n",
    "CORS(app, resources={r\"/*\": {\"origins\": \"*\"}})\n",
    "\n",
    "@app.route('/api/chemical/<name>', methods=['GET','POST'])\n",
    "\n",
    "def api_get_users(name):\n",
    "    return jsonify(get_chemicals(name))\n",
    "\n",
    "if __name__ == ('__main__'):\n",
    "    app.run()\n"
   ]
  },
  {
   "cell_type": "code",
   "execution_count": null,
   "id": "cell_0043",
   "metadata": {},
   "outputs": [],
   "source": [
    "import requests\n",
    "mydata = '-0.1'\n",
    "url = 'http://127.0.0.1:5000/api/chemical/-0.1'\n",
    "req = requests.post(url, data = mydata)\n",
    "print(req.text)\n"
   ]
  },
  {
   "cell_type": "markdown",
   "id": "cell_0044",
   "metadata": {},
   "source": [
    "Assignment, option 1:\n",
    "\n",
    "create a second SQL database from the solubility data we started with. Create a query that returns a \n",
    "smiles(or many) based on an input solubility value\n",
    "\n",
    "\n",
    "Assignment, option 2:\n",
    "\n",
    "Create a carbonyl counting app\n",
    "\n"
   ]
  },
  {
   "cell_type": "markdown",
   "id": "cell_0045",
   "metadata": {},
   "source": [
    "Hints:\n",
    "\n",
    "You can do the API assignment using a GET instead of a POST. The main issue to solve is that you need to pass a variable following the variable rules discussed here: https://flask.palletsprojects.com/en/2.2.x/quickstart/#routingLinks to an external site.\n",
    "\n",
    "And after getting the variable from the API it needs to get passed again to get_chemicals.\n",
    "\n",
    "It is easier to troubleshoot in Jupyter compared to running scripts from terminal/command prompt. I’d recommend doing as much work as you can in Jupyter before saving the script and moving to terminal.\n",
    "\n",
    "Save your file ending in .py\n",
    "\n",
    "When you run your script in terminal or prompt, make sure that you are in an environment that has flask, flask_cors, sqlalchemy, json, and pandas installed.\n",
    "\n",
    "You can check what packages are available in a given environment by typing “pip list in your terminal. If you are unable to navigate to the environment you want, you can always create a new one with conda from the terminal and install the packages you need.\n",
    "\n"
   ]
  },
  {
   "cell_type": "markdown",
   "id": "cell_0035",
   "metadata": {},
   "source": [
    "Assignment option 2: try writing a script that returns propane by MW from your SQL database \n"
   ]
  }
 ],
 "metadata": {
  "kernelspec": {
   "display_name": "molecular_informatics",
   "language": "python",
   "name": "python3"
  },
  "language_info": {
   "codemirror_mode": {
    "name": "ipython",
    "version": 3
   },
   "file_extension": ".py",
   "mimetype": "text/x-python",
   "name": "python",
   "nbconvert_exporter": "python",
   "pygments_lexer": "ipython3",
   "version": "3.12.2"
  },
  "org": null,
  "varInspector": {
   "cols": {
    "lenName": 16,
    "lenType": 16,
    "lenVar": 40
   },
   "kernels_config": {
    "python": {
     "delete_cmd_postfix": "",
     "delete_cmd_prefix": "del ",
     "library": "var_list.py",
     "varRefreshCmd": "print(var_dic_list())"
    },
    "r": {
     "delete_cmd_postfix": ") ",
     "delete_cmd_prefix": "rm(",
     "library": "var_list.r",
     "varRefreshCmd": "cat(var_dic_list()) "
    }
   },
   "types_to_exclude": [
    "module",
    "function",
    "builtin_function_or_method",
    "instance",
    "_Feature"
   ],
   "window_display": false
  }
 },
 "nbformat": 4,
 "nbformat_minor": 5
}
