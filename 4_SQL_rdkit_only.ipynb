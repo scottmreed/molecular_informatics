{
 "cells": [
  {
   "cell_type": "markdown",
   "metadata": {},
   "source": [
    "## Quantitative Structure-Property Relationships\n",
    "\n"
   ],
   "id": "cell_0001"
  },
  {
   "cell_type": "markdown",
   "metadata": {},
   "source": [
    "Quantitative Structure-Property Relationships (QSPR) and Quantitative\n",
    "Structure-Activity Relationships (QSAR) use statistical models to relate a set\n",
    "of predictor values to a response variable. Molecules are described using a set\n",
    "observed properties. In QSPR and QSAR, physico-chemical properties of theoretical\n",
    "biological outcome. We will use python to import data in preparation for \n",
    "QSPR and QSAR.\n",
    "\n"
   ],
   "id": "cell_0002"
  },
  {
   "cell_type": "markdown",
   "metadata": {},
   "source": [
    "\n"
   ],
   "id": "cell_0003"
  },
  {
   "cell_type": "markdown",
   "metadata": {},
   "source": [
    "A molecular descriptor is &ldquo;final result of a logical and mathematical procedure,\n",
    "which transforms chemical information encoded within a symbolic repre-sentation\n",
    "of a molecule into a useful number or the result of some standardized\n",
    "chemoinformatics* **2009** Wiley‑VCH, Weinheim). You are already familiar with\n",
    "queried PubChem for data such as XLogP. We&rsquo;ll examine just a few simple\n",
    "\n"
   ],
   "id": "cell_0004"
  },
  {
   "cell_type": "markdown",
   "metadata": {},
   "source": [
    "\n"
   ],
   "id": "cell_0005"
  },
  {
   "cell_type": "markdown",
   "metadata": {},
   "source": [
    "Clearly we have been using algorithms for calculating these indices. This is\n",
    "time consuming for an individual, but programs can be used to complete this much\n",
    "\n"
   ],
   "id": "cell_0006"
  },
  {
   "id": "cell_0007",
   "cell_type": "code",
   "metadata": {
    "ExecuteTime": {
     "end_time": "2025-09-09T19:03:33.785870Z",
     "start_time": "2025-09-09T19:03:33.653596Z"
    }
   },
   "source": [
    "from rdkit import Chem\n",
    "CARBONYL = Chem.MolFromSmarts(\"C=O\")\n",
    "def count_carbonyls(smiles: str) -> int:\n",
    "    m = Chem.MolFromSmiles(smiles)\n",
    "    if m is None:\n",
    "        raise ValueError(\"Invalid SMILES\")\n",
    "    return len(m.GetSubstructMatches(CARBONYL, uniquify=True))\n",
    "\n",
    "# example\n",
    "count_carbonyls(\"CC(=O)OC(=O)C\")\n"
   ],
   "outputs": [
    {
     "data": {
      "text/plain": [
       "2"
      ]
     },
     "execution_count": 1,
     "metadata": {},
     "output_type": "execute_result"
    }
   ],
   "execution_count": 1
  },
  {
   "cell_type": "markdown",
   "metadata": {},
   "source": [
    "\n"
   ],
   "id": "cell_0008"
  },
  {
   "cell_type": "markdown",
   "metadata": {},
   "source": [
    "### Molecule characteristics\n",
    "\n"
   ],
   "id": "cell_0009"
  },
  {
   "cell_type": "markdown",
   "metadata": {},
   "source": [
    "\n"
   ],
   "id": "cell_0010"
  },
  {
   "cell_type": "markdown",
   "metadata": {},
   "source": [
    "### Looping through a list of molecules\n",
    "\n"
   ],
   "id": "cell_0011"
  },
  {
   "id": "cell_0012",
   "cell_type": "code",
   "metadata": {
    "ExecuteTime": {
     "end_time": "2025-09-09T19:03:41.795085Z",
     "start_time": "2025-09-09T19:03:41.791995Z"
    }
   },
   "source": [
    "count_carbonyls(\"O=C=O\")\n"
   ],
   "outputs": [
    {
     "data": {
      "text/plain": [
       "2"
      ]
     },
     "execution_count": 2,
     "metadata": {},
     "output_type": "execute_result"
    }
   ],
   "execution_count": 2
  },
  {
   "cell_type": "code",
   "metadata": {
    "ExecuteTime": {
     "end_time": "2025-09-09T19:04:30.797482Z",
     "start_time": "2025-09-09T19:04:30.785905Z"
    }
   },
   "source": [
    "from rdkit.Chem.Draw import IPythonConsole\n",
    "\n",
    "IPythonConsole.ipython_useSVG = True\n",
    "params = Chem.SmilesParserParams()\n",
    "params.removeHs=False\n",
    "\n",
    "IPythonConsole.molSize = (600, 600)   # Change image size\n",
    "IPythonConsole.ipython_useSVG = True  # Change output to SVG\n",
    "smiles = [\"O=C=O\",\"O=CC\"]\n",
    "query = Chem.MolFromSmiles(\n",
    "    smiles[1],\n",
    "    params)\n",
    "query\n"
   ],
   "id": "cell_0013",
   "outputs": [
    {
     "data": {
      "text/plain": [
       "<rdkit.Chem.rdchem.Mol at 0x1325c5a10>"
      ],
      "text/html": [
       "<?xml version='1.0' encoding='iso-8859-1'?>\n",
       "<svg version='1.1' baseProfile='full'\n",
       "              xmlns='http://www.w3.org/2000/svg'\n",
       "                      xmlns:rdkit='http://www.rdkit.org/xml'\n",
       "                      xmlns:xlink='http://www.w3.org/1999/xlink'\n",
       "                  xml:space='preserve'\n",
       "width='600px' height='600px' viewBox='0 0 600 600'>\n",
       "<!-- END OF HEADER -->\n",
       "<rect style='opacity:1.0;fill:#FFFFFF;stroke:none' width='600.0' height='600.0' x='0.0' y='0.0'> </rect>\n",
       "<path class='bond-0 atom-0 atom-1' d='M 532.6,343.9 L 415.8,276.4' style='fill:none;fill-rule:evenodd;stroke:#FF0000;stroke-width:2.0px;stroke-linecap:butt;stroke-linejoin:miter;stroke-opacity:1' />\n",
       "<path class='bond-0 atom-0 atom-1' d='M 415.8,276.4 L 299.0,209.0' style='fill:none;fill-rule:evenodd;stroke:#000000;stroke-width:2.0px;stroke-linecap:butt;stroke-linejoin:miter;stroke-opacity:1' />\n",
       "<path class='bond-0 atom-0 atom-1' d='M 510.4,382.3 L 393.6,314.9' style='fill:none;fill-rule:evenodd;stroke:#FF0000;stroke-width:2.0px;stroke-linecap:butt;stroke-linejoin:miter;stroke-opacity:1' />\n",
       "<path class='bond-0 atom-0 atom-1' d='M 393.6,314.9 L 299.0,260.3' style='fill:none;fill-rule:evenodd;stroke:#000000;stroke-width:2.0px;stroke-linecap:butt;stroke-linejoin:miter;stroke-opacity:1' />\n",
       "<path class='bond-1 atom-1 atom-2' d='M 299.0,209.0 L 42.7,357.0' style='fill:none;fill-rule:evenodd;stroke:#000000;stroke-width:2.0px;stroke-linecap:butt;stroke-linejoin:miter;stroke-opacity:1' />\n",
       "<path d='M 304.9,212.4 L 299.0,209.0 L 286.2,216.4' style='fill:none;stroke:#000000;stroke-width:2.0px;stroke-linecap:butt;stroke-linejoin:miter;stroke-opacity:1;' />\n",
       "<path class='atom-0' d='M 531.3 376.3\n",
       "Q 531.3 369.5, 534.6 365.7\n",
       "Q 538.0 361.9, 544.3 361.9\n",
       "Q 550.5 361.9, 553.9 365.7\n",
       "Q 557.3 369.5, 557.3 376.3\n",
       "Q 557.3 383.2, 553.9 387.1\n",
       "Q 550.5 391.0, 544.3 391.0\n",
       "Q 538.0 391.0, 534.6 387.1\n",
       "Q 531.3 383.2, 531.3 376.3\n",
       "M 544.3 387.8\n",
       "Q 548.6 387.8, 550.9 384.9\n",
       "Q 553.3 382.0, 553.3 376.3\n",
       "Q 553.3 370.7, 550.9 367.9\n",
       "Q 548.6 365.1, 544.3 365.1\n",
       "Q 539.9 365.1, 537.6 367.9\n",
       "Q 535.3 370.7, 535.3 376.3\n",
       "Q 535.3 382.0, 537.6 384.9\n",
       "Q 539.9 387.8, 544.3 387.8\n",
       "' fill='#FF0000'/>\n",
       "</svg>\n"
      ],
      "image/svg+xml": "<?xml version='1.0' encoding='iso-8859-1'?>\n<svg version='1.1' baseProfile='full'\n              xmlns='http://www.w3.org/2000/svg'\n                      xmlns:rdkit='http://www.rdkit.org/xml'\n                      xmlns:xlink='http://www.w3.org/1999/xlink'\n                  xml:space='preserve'\nwidth='600px' height='600px' viewBox='0 0 600 600'>\n<!-- END OF HEADER -->\n<rect style='opacity:1.0;fill:#FFFFFF;stroke:none' width='600.0' height='600.0' x='0.0' y='0.0'> </rect>\n<path class='bond-0 atom-0 atom-1' d='M 532.6,343.9 L 415.8,276.4' style='fill:none;fill-rule:evenodd;stroke:#FF0000;stroke-width:2.0px;stroke-linecap:butt;stroke-linejoin:miter;stroke-opacity:1' />\n<path class='bond-0 atom-0 atom-1' d='M 415.8,276.4 L 299.0,209.0' style='fill:none;fill-rule:evenodd;stroke:#000000;stroke-width:2.0px;stroke-linecap:butt;stroke-linejoin:miter;stroke-opacity:1' />\n<path class='bond-0 atom-0 atom-1' d='M 510.4,382.3 L 393.6,314.9' style='fill:none;fill-rule:evenodd;stroke:#FF0000;stroke-width:2.0px;stroke-linecap:butt;stroke-linejoin:miter;stroke-opacity:1' />\n<path class='bond-0 atom-0 atom-1' d='M 393.6,314.9 L 299.0,260.3' style='fill:none;fill-rule:evenodd;stroke:#000000;stroke-width:2.0px;stroke-linecap:butt;stroke-linejoin:miter;stroke-opacity:1' />\n<path class='bond-1 atom-1 atom-2' d='M 299.0,209.0 L 42.7,357.0' style='fill:none;fill-rule:evenodd;stroke:#000000;stroke-width:2.0px;stroke-linecap:butt;stroke-linejoin:miter;stroke-opacity:1' />\n<path d='M 304.9,212.4 L 299.0,209.0 L 286.2,216.4' style='fill:none;stroke:#000000;stroke-width:2.0px;stroke-linecap:butt;stroke-linejoin:miter;stroke-opacity:1;' />\n<path class='atom-0' d='M 531.3 376.3\nQ 531.3 369.5, 534.6 365.7\nQ 538.0 361.9, 544.3 361.9\nQ 550.5 361.9, 553.9 365.7\nQ 557.3 369.5, 557.3 376.3\nQ 557.3 383.2, 553.9 387.1\nQ 550.5 391.0, 544.3 391.0\nQ 538.0 391.0, 534.6 387.1\nQ 531.3 383.2, 531.3 376.3\nM 544.3 387.8\nQ 548.6 387.8, 550.9 384.9\nQ 553.3 382.0, 553.3 376.3\nQ 553.3 370.7, 550.9 367.9\nQ 548.6 365.1, 544.3 365.1\nQ 539.9 365.1, 537.6 367.9\nQ 535.3 370.7, 535.3 376.3\nQ 535.3 382.0, 537.6 384.9\nQ 539.9 387.8, 544.3 387.8\n' fill='#FF0000'/>\n</svg>\n",
      "image/png": "[encoded data removed]"
     },
     "execution_count": 5,
     "metadata": {},
     "output_type": "execute_result"
    }
   ],
   "execution_count": 5
  },
  {
   "cell_type": "markdown",
   "metadata": {},
   "source": [
    "\n"
   ],
   "id": "cell_0014"
  },
  {
   "id": "cell_0015",
   "cell_type": "code",
   "metadata": {},
   "source": [
    "count_carbonyls(\"O=C=O\")\n"
   ],
   "outputs": [],
   "execution_count": null
  },
  {
   "cell_type": "markdown",
   "metadata": {},
   "source": [
    "## Load data to analyze\n",
    "This set of smiles codes, solubility and binding data comes from a pharma company\n"
   ],
   "id": "cell_0016"
  },
  {
   "cell_type": "code",
   "metadata": {
    "ExecuteTime": {
     "end_time": "2025-09-09T19:05:08.776779Z",
     "start_time": "2025-09-09T19:05:08.108968Z"
    }
   },
   "source": [
    "# import and view drug data from : https://github.com/molecularinformatics/Computational-ADME/tree/main\n",
    "# described here: https://pubs.acs.org/doi/10.1021/acs.jcim.3c00160\n",
    "import os\n",
    "import pandas as pd\n",
    "data_dir = os.path.join('data')\n",
    "file_path = os.path.join(data_dir, 'ADME_public_set_3521.csv')\n",
    "df = pd.read_csv(file_path)\n",
    "df.head(4) # Shows the top X entries in the dataframe\n"
   ],
   "id": "cell_0017",
   "outputs": [
    {
     "data": {
      "text/plain": [
       "  Internal ID  Vendor ID                                             SMILES  \\\n",
       "0        Mol1  317714313  CNc1cc(Nc2cccn(-c3ccccn3)c2=O)nn2c(C(=O)N[C@@H...   \n",
       "1        Mol2  324056965  CCOc1cc2nn(CCC(C)(C)O)cc2cc1NC(=O)c1cccc(C(F)F)n1   \n",
       "2        Mol3  304005766                        CN(c1ncc(F)cn1)[C@H]1CCCNC1   \n",
       "3        Mol4  194963090  CC(C)(Oc1ccc(-c2cnc(N)c(-c3ccc(Cl)cc3)c2)cc1)C...   \n",
       "\n",
       "  CollectionName  LOG HLM_CLint (mL/min/kg)  LOG MDR1-MDCK ER (B-A/A-B)  \\\n",
       "0     emolecules                   0.675687                    1.493167   \n",
       "1     emolecules                   0.675687                    1.040780   \n",
       "2     emolecules                   0.675687                   -0.358806   \n",
       "3     emolecules                   0.675687                    1.026662   \n",
       "\n",
       "   LOG SOLUBILITY PH 6.8 (ug/mL)  \\\n",
       "0                       0.089905   \n",
       "1                       0.550228   \n",
       "2                            NaN   \n",
       "3                       1.657056   \n",
       "\n",
       "   LOG PLASMA PROTEIN BINDING (HUMAN) (% unbound)  \\\n",
       "0                                        0.991226   \n",
       "1                                        0.099681   \n",
       "2                                        2.000000   \n",
       "3                                       -1.158015   \n",
       "\n",
       "   LOG PLASMA PROTEIN BINDING (RAT) (% unbound)  LOG RLM_CLint (mL/min/kg)  \n",
       "0                                      0.518514                   1.392169  \n",
       "1                                      0.268344                   1.027920  \n",
       "2                                      2.000000                   1.027920  \n",
       "3                                     -1.403403                   1.027920  "
      ],
      "text/html": [
       "<div>\n",
       "<style scoped>\n",
       "    .dataframe tbody tr th:only-of-type {\n",
       "        vertical-align: middle;\n",
       "    }\n",
       "\n",
       "    .dataframe tbody tr th {\n",
       "        vertical-align: top;\n",
       "    }\n",
       "\n",
       "    .dataframe thead th {\n",
       "        text-align: right;\n",
       "    }\n",
       "</style>\n",
       "<table border=\"1\" class=\"dataframe\">\n",
       "  <thead>\n",
       "    <tr style=\"text-align: right;\">\n",
       "      <th></th>\n",
       "      <th>Internal ID</th>\n",
       "      <th>Vendor ID</th>\n",
       "      <th>SMILES</th>\n",
       "      <th>CollectionName</th>\n",
       "      <th>LOG HLM_CLint (mL/min/kg)</th>\n",
       "      <th>LOG MDR1-MDCK ER (B-A/A-B)</th>\n",
       "      <th>LOG SOLUBILITY PH 6.8 (ug/mL)</th>\n",
       "      <th>LOG PLASMA PROTEIN BINDING (HUMAN) (% unbound)</th>\n",
       "      <th>LOG PLASMA PROTEIN BINDING (RAT) (% unbound)</th>\n",
       "      <th>LOG RLM_CLint (mL/min/kg)</th>\n",
       "    </tr>\n",
       "  </thead>\n",
       "  <tbody>\n",
       "    <tr>\n",
       "      <th>0</th>\n",
       "      <td>Mol1</td>\n",
       "      <td>317714313</td>\n",
       "      <td>CNc1cc(Nc2cccn(-c3ccccn3)c2=O)nn2c(C(=O)N[C@@H...</td>\n",
       "      <td>emolecules</td>\n",
       "      <td>0.675687</td>\n",
       "      <td>1.493167</td>\n",
       "      <td>0.089905</td>\n",
       "      <td>0.991226</td>\n",
       "      <td>0.518514</td>\n",
       "      <td>1.392169</td>\n",
       "    </tr>\n",
       "    <tr>\n",
       "      <th>1</th>\n",
       "      <td>Mol2</td>\n",
       "      <td>324056965</td>\n",
       "      <td>CCOc1cc2nn(CCC(C)(C)O)cc2cc1NC(=O)c1cccc(C(F)F)n1</td>\n",
       "      <td>emolecules</td>\n",
       "      <td>0.675687</td>\n",
       "      <td>1.040780</td>\n",
       "      <td>0.550228</td>\n",
       "      <td>0.099681</td>\n",
       "      <td>0.268344</td>\n",
       "      <td>1.027920</td>\n",
       "    </tr>\n",
       "    <tr>\n",
       "      <th>2</th>\n",
       "      <td>Mol3</td>\n",
       "      <td>304005766</td>\n",
       "      <td>CN(c1ncc(F)cn1)[C@H]1CCCNC1</td>\n",
       "      <td>emolecules</td>\n",
       "      <td>0.675687</td>\n",
       "      <td>-0.358806</td>\n",
       "      <td>NaN</td>\n",
       "      <td>2.000000</td>\n",
       "      <td>2.000000</td>\n",
       "      <td>1.027920</td>\n",
       "    </tr>\n",
       "    <tr>\n",
       "      <th>3</th>\n",
       "      <td>Mol4</td>\n",
       "      <td>194963090</td>\n",
       "      <td>CC(C)(Oc1ccc(-c2cnc(N)c(-c3ccc(Cl)cc3)c2)cc1)C...</td>\n",
       "      <td>emolecules</td>\n",
       "      <td>0.675687</td>\n",
       "      <td>1.026662</td>\n",
       "      <td>1.657056</td>\n",
       "      <td>-1.158015</td>\n",
       "      <td>-1.403403</td>\n",
       "      <td>1.027920</td>\n",
       "    </tr>\n",
       "  </tbody>\n",
       "</table>\n",
       "</div>"
      ]
     },
     "execution_count": 6,
     "metadata": {},
     "output_type": "execute_result"
    }
   ],
   "execution_count": 6
  },
  {
   "cell_type": "markdown",
   "metadata": {},
   "source": [
    "Some data is missing. Python uses Nan (not a number) to indicate a missing value.\n",
    "Before analyzing and plotting this data, let's trim out rows that have Nan for solubility. Let's \n",
    "also trim the list length to the first 500 items. We'll talk about random and scaffold based splits \n",
    "in a future class.\n"
   ],
   "id": "cell_0018"
  },
  {
   "cell_type": "code",
   "metadata": {
    "ExecuteTime": {
     "end_time": "2025-09-09T19:05:15.389149Z",
     "start_time": "2025-09-09T19:05:15.379658Z"
    }
   },
   "source": [
    "# Select rows with 'LOG SOLUBILITY PH 6.8 (ug/mL)' not NaN\n",
    "non_nan_df = df.dropna(subset=['LOG SOLUBILITY PH 6.8 (ug/mL)'])\n",
    "\n",
    "# Calculate RDKit-based carbonyl counts and add to new dataframe\n",
    "carbonyl_props_list = []\n",
    "for smiles in non_nan_df['SMILES'][0:499]:\n",
    "    try:\n",
    "        n_carb = count_carbonyls(smiles)\n",
    "    except Exception:\n",
    "        n_carb = None\n",
    "    carbonyl_props_list.append({'num_carbonyls': n_carb})\n",
    "\n",
    "# Create a new dataframe with carbonyl properties\n",
    "carbonyl_df = pd.DataFrame(carbonyl_props_list)\n",
    "# Combine the carbonyl dataframe with the original non-NaN dataframe\n",
    "final_df = pd.concat([non_nan_df.reset_index(drop=True), carbonyl_df], axis=1)\n",
    "\n",
    "final_df_trimmed = final_df[['SMILES', 'LOG SOLUBILITY PH 6.8 (ug/mL)', 'LOG MDR1-MDCK ER (B-A/A-B)', 'num_carbonyls']]\n",
    "final_df_trimmed.head()  # defaults to 5\n"
   ],
   "id": "cell_0019",
   "outputs": [
    {
     "ename": "NameError",
     "evalue": "name 'get_ring_info' is not defined",
     "output_type": "error",
     "traceback": [
      "\u001B[0;31m---------------------------------------------------------------------------\u001B[0m",
      "\u001B[0;31mNameError\u001B[0m                                 Traceback (most recent call last)",
      "Cell \u001B[0;32mIn[8], line 7\u001B[0m\n\u001B[1;32m      5\u001B[0m ring_properties_list \u001B[38;5;241m=\u001B[39m []\n\u001B[1;32m      6\u001B[0m \u001B[38;5;28;01mfor\u001B[39;00m smiles \u001B[38;5;129;01min\u001B[39;00m non_nan_df[\u001B[38;5;124m'\u001B[39m\u001B[38;5;124mSMILES\u001B[39m\u001B[38;5;124m'\u001B[39m][\u001B[38;5;241m0\u001B[39m:\u001B[38;5;241m499\u001B[39m]:\n\u001B[0;32m----> 7\u001B[0m     ring_properties \u001B[38;5;241m=\u001B[39m get_ring_info(smiles)\n\u001B[1;32m      8\u001B[0m     ring_properties_list\u001B[38;5;241m.\u001B[39mappend(ring_properties)\n\u001B[1;32m     10\u001B[0m \u001B[38;5;66;03m# Create a new dataframe with ring properties\u001B[39;00m\n",
      "\u001B[0;31mNameError\u001B[0m: name 'get_ring_info' is not defined"
     ]
    }
   ],
   "execution_count": 8
  },
  {
   "cell_type": "markdown",
   "metadata": {},
   "source": [
    "\n"
   ],
   "id": "cell_0020"
  },
  {
   "cell_type": "markdown",
   "metadata": {},
   "source": [
    "\n",
    "For this exercise we will be using the [pandas](https://pandas.pydata.org/) (Python Data Analysis) library to\n",
    "help us read, write and manage data. We will also use matplotlib to generate\n",
    "graphs.\n"
   ],
   "id": "cell_0021"
  },
  {
   "cell_type": "markdown",
   "metadata": {},
   "source": [
    "### Graphing the data\n",
    "\n"
   ],
   "id": "cell_0022"
  },
  {
   "cell_type": "markdown",
   "metadata": {},
   "source": [
    "Now we can graph the data using matplotlib.\n",
    "\n"
   ],
   "id": "cell_0023"
  },
  {
   "cell_type": "code",
   "execution_count": null,
   "metadata": {},
   "outputs": [],
   "source": [
    "import matplotlib.pyplot as plt\n",
    "plt.figure(figsize=(8, 6))\n",
    "plt.scatter(final_df_trimmed['LOG SOLUBILITY PH 6.8 (ug/mL)'], final_df_trimmed['num_carbonyls'], alpha=0.7)\n",
    "plt.title('Solubility vs Carbonyl Count')\n",
    "plt.xlabel('Log Solubility (ug/mL)')\n",
    "plt.ylabel('Carbonyl Count')\n",
    "plt.grid(True)\n"
   ],
   "id": "cell_0024"
  },
  {
   "cell_type": "code",
   "execution_count": null,
   "metadata": {},
   "outputs": [],
   "source": [
    "plt.figure(figsize=(6, 4))\n",
    "plt.scatter(final_df_trimmed['num_carbonyls'], final_df_trimmed['LOG MDR1-MDCK ER (B-A/A-B)'])\n",
    "plt.title('MDR1-MDCK ER vs Carbonyl Count')\n",
    "plt.xlabel('Carbonyl Count')\n",
    "plt.ylabel('LOG MDR1-MDCK ER (B-A/A-B)')\n",
    "plt.grid(False)\n"
   ],
   "id": "cell_0025"
  },
  {
   "cell_type": "markdown",
   "metadata": {},
   "source": [
    "exercise 1: try writing a block that plots another column vs a specific type of ring count\n",
    "try creating a  scatter plot from these two columns in final_df_trimmed\n"
   ],
   "id": "cell_0026"
  },
  {
   "cell_type": "code",
   "execution_count": 9,
   "metadata": {},
   "outputs": [],
   "source": [
    "# exercise 1:\n"
   ],
   "id": "cell_0027"
  },
  {
   "cell_type": "markdown",
   "metadata": {},
   "source": [
    "Let's switch to a simpler and smaller dataset to try out creation of a SQL database\n",
    "\n"
   ],
   "id": "cell_0028"
  },
  {
   "cell_type": "code",
   "execution_count": null,
   "metadata": {},
   "outputs": [],
   "source": [
    "#load this in \n",
    "df_bp = pd.read_csv(\"data/BP.csv\") # read in the file into a pandas dataframe\n",
    "#and look through the data\n",
    "df_bp.head(5)\n"
   ],
   "id": "cell_0029"
  },
  {
   "cell_type": "markdown",
   "metadata": {},
   "source": [
    "To explore creating a database, and creating an API start with:\n",
    "\n",
    "pip install Flask\n",
    "\n",
    "pip install Flask-Cors\n",
    "\n",
    "pip install sqlalchemy\n",
    "\n",
    "And if you don't have sqlite installed (it comes with recent python installs):\n",
    "\n",
    "pip install db-sqlite3\n",
    "\n",
    "more info: \n",
    "https://flask.palletsprojects.com/en/2.2.x/quickstart/ \n",
    "https://docs.sqlalchemy.org/en/14/intro.html\n"
   ],
   "id": "cell_0030"
  },
  {
   "cell_type": "markdown",
   "metadata": {},
   "source": [
    "First we will use an engine from sqlalchemy to convert our dataframe to a SQL (structured query language) database using sqlite, the SQL language built into python. The name of the database will be 'chemical'.\n"
   ],
   "id": "cell_0031"
  },
  {
   "cell_type": "code",
   "execution_count": null,
   "metadata": {},
   "outputs": [],
   "source": [
    "from sqlalchemy import create_engine, text\n",
    "\n",
    "# Create an in-memory SQLite database\n",
    "engine = create_engine('sqlite://', echo=False)\n",
    "\n",
    "# Assuming df_bp is a pandas DataFrame, write it to the database\n",
    "df_bp.to_sql('chemical', con=engine, if_exists='replace', index=False)\n",
    "\n",
    "# Use a connection object to execute queries\n",
    "with engine.connect() as connection:\n",
    "    # Use the sqlalchemy text() function to allow raw SQL execution\n",
    "    query = text(\"SELECT * FROM chemical WHERE SMILES = 'CC'\")\n",
    "    result = connection.execute(query)\n",
    "\n",
    "    # Fetch and print all rows\n",
    "    rows = result.fetchall()\n",
    "    for row in rows:\n",
    "        print(row)\n"
   ],
   "id": "cell_0032"
  },
  {
   "cell_type": "markdown",
   "metadata": {},
   "source": [
    "Once the 'chemical' database is created it can be interrogated with CRUD (create, read, update, and delete) operations using the SQLite language sent through the engine. Here we use the engine to execute a SELECT statement. In SQL the * means \"all\" so we are selecting all rows of the database where the column \"name\" has the value \"Methane\". Appending fetchall() to the end returns the result to us.\n"
   ],
   "id": "cell_0033"
  },
  {
   "cell_type": "code",
   "execution_count": null,
   "metadata": {},
   "outputs": [],
   "source": [
    "with engine.connect() as connection:\n",
    "    query = text(\"SELECT 'chemical'.'name' FROM 'chemical' WHERE 'chemical'.'BP_C' is -0.1\")\n",
    "    result = connection.execute(query)\n",
    "\n",
    "    # Fetch and print all rows\n",
    "    rows = result.fetchall()\n",
    "    for row in rows:\n",
    "        print(row)\n",
    "# print(row[1])\n"
   ],
   "id": "cell_0034"
  },
  {
   "cell_type": "markdown",
   "metadata": {},
   "source": [
    "exercise 2: try writing a script that returns propane by MW from your SQL database \n"
   ],
   "id": "cell_0035"
  },
  {
   "cell_type": "code",
   "execution_count": 48,
   "metadata": {},
   "outputs": [],
   "source": [
    "# exercise 2\n"
   ],
   "id": "cell_0036"
  },
  {
   "cell_type": "markdown",
   "metadata": {},
   "source": [
    "We can embed this engine in a function that returns the result as a dictionary in JSON (JavaScript Object Notation) format commonly used in http requests.\n"
   ],
   "id": "cell_0037"
  },
  {
   "cell_type": "code",
   "execution_count": 43,
   "metadata": {},
   "outputs": [],
   "source": [
    "def get_chemicals(bp_value):\n",
    "    chemicals = {}\n",
    "    df = pd.read_csv(\"data/BP.csv\")\n",
    "    \n",
    "    # Create SQLite engine\n",
    "    engine = create_engine('sqlite://', echo=False)\n",
    "    \n",
    "    # Save DataFrame to SQL database\n",
    "    df.to_sql('chemical', con=engine, if_exists='replace', index=False)\n",
    "    \n",
    "    # Define column names (in case you need to map them later)\n",
    "    col_names = ['index', 'compound_number', 'name', 'BP_C', 'BP_K', 'SMILES', 'MW']\n",
    "    \n",
    "    try:\n",
    "        # Establish a connection using context manager\n",
    "        with engine.connect() as connection:\n",
    "            \n",
    "            # Use text() to run the SQL query\n",
    "            query = text(\"SELECT * FROM chemical WHERE BP_C = :bp_value\")\n",
    "            result = connection.execute(query, {'bp_value': bp_value})\n",
    "            \n",
    "            # Fetch all rows matching the boiling point condition as mappings (dictionary-like rows)\n",
    "            rows = result.mappings().all()  # Use .mappings() to access rows by column names\n",
    "            \n",
    "            if not rows:\n",
    "                print(\"No results found\")\n",
    "                return json.dumps({})\n",
    "            \n",
    "            # Prepare the dictionary of chemicals\n",
    "            for row in rows:\n",
    "                # `row` is now a dictionary-like object, so you can access values by column name\n",
    "                chemical = {col: row[col] for col in col_names if col in row}\n",
    "                chemicals[row['name']] = chemical  # Use 'name' as the key for each chemical\n",
    "\n",
    "    except Exception as e:\n",
    "        print(f\"An error occurred: {e}\")\n",
    "        return json.dumps({})\n",
    "\n",
    "    # Convert dictionary to JSON for output\n",
    "    chemicals_out = json.dumps(chemicals, separators=(',', ':'))\n",
    "    \n",
    "    return chemicals_out\n"
   ],
   "id": "cell_0038"
  },
  {
   "cell_type": "markdown",
   "metadata": {},
   "source": [
    "Now check this function out by submitting a bp_value. It must be sent as a string because of how the database was setup. More nuanced methods of creating your SQL schema where you can use integers or floating point numbers are described here: https://levelup.gitconnected.com/full-stack-web-app-with-python-react-and-bootstrap-backend-8592baa6e4eb\n"
   ],
   "id": "cell_0039"
  },
  {
   "cell_type": "code",
   "execution_count": null,
   "metadata": {},
   "outputs": [],
   "source": [
    "bp_value = -0.1\n",
    "get_chemicals(bp_value)\n"
   ],
   "id": "cell_0040"
  },
  {
   "cell_type": "markdown",
   "metadata": {},
   "source": [
    "Now we will put it all together into an app using flask and create an API. Follow the directions below carefully. Running this code inside Jupyter casues problems becasue there is no easy way to shutdown your app. This block repeats material from earlier so that it is available to this standalone app.\n"
   ],
   "id": "cell_0041"
  },
  {
   "cell_type": "code",
   "execution_count": null,
   "metadata": {},
   "outputs": [],
   "source": [
    "# don't run the \"app.run()\" line in Jupyter. \n",
    "# Instead, copy the text of  this block and save as \"first_app.py\" after uncommenting the last 2 lines and \n",
    "# run it from a terminal or prompt with this command: \"python3 first_app.py\"\n",
    "# The BP.csv file must be in the same folder\n",
    "\n",
    "import pandas as pd\n",
    "from sqlalchemy import create_engine, text\n",
    "from flask import Flask, request, jsonify #added to top of file\n",
    "from flask_cors import CORS #added to top of file\n",
    "import json\n",
    "\n",
    "def get_chemicals(bp_value):\n",
    "    chemicals = {}\n",
    "    df = pd.read_csv(\"../data/BP.csv\")\n",
    "    \n",
    "    # Create SQLite engine\n",
    "    engine = create_engine('sqlite://', echo=False)\n",
    "    \n",
    "    # Save DataFrame to SQL database\n",
    "    df.to_sql('chemical', con=engine, if_exists='replace', index=False)\n",
    "    \n",
    "    # Define column names (in case you need to map them later)\n",
    "    col_names = ['index', 'compound_number', 'name', 'BP_C', 'BP_K', 'SMILES', 'MW']\n",
    "    \n",
    "    try:\n",
    "        # Establish a connection using context manager\n",
    "        with engine.connect() as connection:\n",
    "            \n",
    "            # Use text() to run the SQL query\n",
    "            query = text(\"SELECT * FROM chemical WHERE BP_C = :bp_value\")\n",
    "            result = connection.execute(query, {'bp_value': bp_value})\n",
    "            \n",
    "            # Fetch all rows matching the boiling point condition as mappings (dictionary-like rows)\n",
    "            rows = result.mappings().all()  # Use .mappings() to access rows by column names\n",
    "            \n",
    "            if not rows:\n",
    "                print(\"No results found\")\n",
    "                return json.dumps({})\n",
    "            \n",
    "            # Prepare the dictionary of chemicals\n",
    "            for row in rows:\n",
    "                # `row` is now a dictionary-like object, so you can access values by column name\n",
    "                chemical = {col: row[col] for col in col_names if col in row}\n",
    "                chemicals[row['name']] = chemical  # Use 'name' as the key for each chemical\n",
    "\n",
    "    except Exception as e:\n",
    "        print(f\"An error occurred: {e}\")\n",
    "        return json.dumps({})\n",
    "\n",
    "    # Convert dictionary to JSON for output\n",
    "    chemicals_out = json.dumps(chemicals, separators=(',', ':'))\n",
    "    \n",
    "    return chemicals_out\n",
    "\n",
    "app = Flask(__name__)\n",
    "CORS(app, resources={r\"/*\": {\"origins\": \"*\"}})\n",
    "\n",
    "@app.route('/api/chemical/<name>', methods=['GET','POST'])\n",
    "\n",
    "def api_get_users(name):\n",
    "    return jsonify(get_chemicals(name))\n",
    "\n",
    "if __name__ == ('__main__'):\n",
    "    app.run()\n"
   ],
   "id": "cell_0042"
  },
  {
   "cell_type": "code",
   "execution_count": null,
   "metadata": {},
   "outputs": [],
   "source": [
    "import requests\n",
    "mydata = '-0.1'\n",
    "url = 'http://127.0.0.1:5000/api/chemical/-0.1'\n",
    "req = requests.post(url, data = mydata)\n",
    "print(req.text)\n"
   ],
   "id": "cell_0043"
  },
  {
   "cell_type": "markdown",
   "metadata": {},
   "source": [
    "Assignment, option 1:\n",
    "\n",
    "create a second SQL database from the solubility data we started with. Create a query that returns a \n",
    "smiles(or many) based on an input solubility value\n",
    "\n",
    "\n",
    "Assignment, option 2:\n",
    "\n",
    "Add a range input option.\n",
    "\n"
   ],
   "id": "cell_0044"
  },
  {
   "cell_type": "markdown",
   "metadata": {},
   "source": [
    "Hints:\n",
    "\n",
    "You can do the API assignment using a GET instead of a POST. The main issue to solve is that you need to pass a variable following the variable rules discussed here: https://flask.palletsprojects.com/en/2.2.x/quickstart/#routingLinks to an external site.\n",
    "\n",
    "And after getting the variable from the API it needs to get passed again to get_chemicals.\n",
    "\n",
    "It is easier to troubleshoot in Jupyter compared to running scripts from terminal/command prompt. I’d recommend doing as much work as you can in Jupyter before saving the script and moving to terminal.\n",
    "\n",
    "Save your file ending in .py\n",
    "\n",
    "When you run your script in terminal or prompt, make sure that you are in an environment that has flask, flask_cors, sqlalchemy, json, and pandas installed.\n",
    "\n",
    "You can check what packages are available in a given environment by typing “pip list in your terminal. If you are unable to navigate to the environment you want, you can always create a new one with conda from the terminal and install the packages you need.\n",
    "\n"
   ],
   "id": "cell_0045"
  },
  {
   "cell_type": "markdown",
   "metadata": {},
   "source": [],
   "id": "cell_0046"
  }
 ],
 "metadata": {
  "kernelspec": {
   "display_name": "Python 3",
   "language": "python",
   "name": "python3"
  },
  "language_info": {
   "codemirror_mode": {
    "name": "ipython",
    "version": 3
   },
   "file_extension": ".py",
   "mimetype": "text/x-python",
   "name": "python",
   "nbconvert_exporter": "python",
   "pygments_lexer": "ipython3",
   "version": "3.11.9"
  },
  "org": null,
  "varInspector": {
   "cols": {
    "lenName": 16,
    "lenType": 16,
    "lenVar": 40
   },
   "kernels_config": {
    "python": {
     "delete_cmd_postfix": "",
     "delete_cmd_prefix": "del ",
     "library": "var_list.py",
     "varRefreshCmd": "print(var_dic_list())"
    },
    "r": {
     "delete_cmd_postfix": ") ",
     "delete_cmd_prefix": "rm(",
     "library": "var_list.r",
     "varRefreshCmd": "cat(var_dic_list()) "
    }
   },
   "types_to_exclude": [
    "module",
    "function",
    "builtin_function_or_method",
    "instance",
    "_Feature"
   ],
   "window_display": false
  },
  "vscode": {
   "interpreter": {
    "hash": "74b0eeecb9694be932ad336503137f0c047c9eb8ec8a4a235079c04fe56ee89e"
   }
  }
 },
 "nbformat": 4,
 "nbformat_minor": 5
}
