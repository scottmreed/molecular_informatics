{
 "cells": [
  {
   "cell_type": "markdown",
   "metadata": {},
   "source": [
    "# Getting Molecular Properties through PUG-REST"
   ]
  },
  {
   "cell_type": "markdown",
   "metadata": {},
   "source": [
    "adapted from https://chem.libretexts.org/Courses/Intercollegiate_Courses/Cheminformatics"
   ]
  },
  {
   "cell_type": "markdown",
   "metadata": {},
   "source": [
    "## Objectives\n",
    "\n",
    "- Learn the basic approach to getting data from PubChem through PUG-REST\n",
    "- Retrieve a single property of a single compound.\n",
    "- Retrieve a single property of multiple compounds\n",
    "- Retrieve multiple properties of multiple compounds.\n",
    "- Write a `for` loop to make the same kind of requests. \n",
    "- Process a large amount of data by splitting them into smaller chunks"
   ]
  },
  {
   "cell_type": "markdown",
   "metadata": {},
   "source": [
    "## 1. The Shortest Code to Get PubChem Data"
   ]
  },
  {
   "cell_type": "markdown",
   "metadata": {},
   "source": [
    "Let's suppose that we want to get the molecular formula of water from PubChem through PUG-REST.  You can get this data from your web browsers (Chrome, Safari, Internet Explorer, etc) via the following URL:<br>\n",
    "https://pubchem.ncbi.nlm.nih.gov/rest/pug/compound/name/water/property/MolecularFormula/txt<br>\n",
    "Getting the same data using a computer program is not very difficult.  This task can be with a three-line code."
   ]
  },
  {
   "cell_type": "markdown",
   "metadata": {},
   "source": [
    "**Line 1:** First, the \"requests\" python library is imported.  The \"requests\" library contains a set of pre-written functions that allows you to access information on the web."
   ]
  },
  {
   "cell_type": "code",
   "metadata": {
    "ExecuteTime": {
     "end_time": "2024-11-26T22:45:29.406609Z",
     "start_time": "2024-11-26T22:45:29.404725Z"
    }
   },
   "source": [
    "import requests"
   ],
   "outputs": [],
   "execution_count": 24
  },
  {
   "cell_type": "markdown",
   "metadata": {},
   "source": [
    "**Line 2:** Get the desired information using the function `get()` in the requests library.  The PUG-REST request URL (enclosed within a pair of quotes('') is provided within the parenteses.  The result will be stored in a variable called `res`."
   ]
  },
  {
   "cell_type": "code",
   "metadata": {
    "ExecuteTime": {
     "end_time": "2024-11-26T22:45:29.712157Z",
     "start_time": "2024-11-26T22:45:29.415374Z"
    }
   },
   "source": [
    "res = requests.get('https://pubchem.ncbi.nlm.nih.gov/rest/pug/compound/name/water/property/MolecularFormula/txt')"
   ],
   "outputs": [],
   "execution_count": 25
  },
  {
   "cell_type": "markdown",
   "metadata": {},
   "source": [
    "**Line 3:** The `res` variable (which means \"result\" or \"response\") contains not only the requested data but also some information about the request.  To view the returned data, you need to get the data from `res` and print it out."
   ]
  },
  {
   "cell_type": "code",
   "metadata": {
    "ExecuteTime": {
     "end_time": "2024-11-26T22:45:29.719082Z",
     "start_time": "2024-11-26T22:45:29.717470Z"
    }
   },
   "source": [
    "print(res.text)"
   ],
   "outputs": [
    {
     "name": "stdout",
     "output_type": "stream",
     "text": [
      "H2O\n",
      "\n"
     ]
    }
   ],
   "execution_count": 26
  },
  {
   "cell_type": "markdown",
   "metadata": {},
   "source": [
    "As another example, the following code retrieves the number of heavy (non-hydrogen) atoms of butadiene."
   ]
  },
  {
   "cell_type": "code",
   "metadata": {
    "ExecuteTime": {
     "end_time": "2024-11-26T22:45:30.107487Z",
     "start_time": "2024-11-26T22:45:29.784710Z"
    }
   },
   "source": [
    "res = requests.get('https://pubchem.ncbi.nlm.nih.gov/rest/pug/compound/name/butadiene/property/HeavyAtomCount/txt')\n",
    "print(res.text)"
   ],
   "outputs": [
    {
     "name": "stdout",
     "output_type": "stream",
     "text": [
      "4\n",
      "\n"
     ]
    }
   ],
   "execution_count": 27
  },
  {
   "cell_type": "markdown",
   "metadata": {},
   "source": [
    "Note that in this example, we did not import the `requests` library because it has already been imported (in the very fist example for getting the molecular formula of water)."
   ]
  },
  {
   "cell_type": "markdown",
   "metadata": {},
   "source": [
    "**Exercise 1a:**  Retrieve the molecular weight of ethanol in a \"text\" format."
   ]
  },
  {
   "cell_type": "code",
   "metadata": {
    "ExecuteTime": {
     "end_time": "2024-11-26T22:45:30.437682Z",
     "start_time": "2024-11-26T22:45:30.123576Z"
    }
   },
   "source": [
    "# Write your code in this cell:\n",
    "res = requests.get('https://pubchem.ncbi.nlm.nih.gov/rest/pug/compound/name/ethanol/property/HBondAcceptorCount/txt')\n",
    "\n",
    "print(res.text)\n"
   ],
   "outputs": [
    {
     "name": "stdout",
     "output_type": "stream",
     "text": [
      "1\n",
      "\n"
     ]
    }
   ],
   "execution_count": 28
  },
  {
   "cell_type": "markdown",
   "metadata": {},
   "source": [
    "**Exercise 1b:** Retrieve the number of hydrogen-bond acceptors of aspirin in a \"text\" format."
   ]
  },
  {
   "cell_type": "code",
   "metadata": {
    "ExecuteTime": {
     "end_time": "2024-11-26T22:45:30.452564Z",
     "start_time": "2024-11-26T22:45:30.450951Z"
    }
   },
   "source": [
    "# Write your code in this cell:\n",
    "\n",
    "\n"
   ],
   "outputs": [],
   "execution_count": 29
  },
  {
   "cell_type": "markdown",
   "metadata": {},
   "source": [
    "## 2. Formulating PUG-REST request URLs using variables"
   ]
  },
  {
   "cell_type": "markdown",
   "metadata": {},
   "source": [
    "In the previous examples, the PUG-REST request URLs were directly provided to the `requests.get()`, by explicitly typing the URL within the parentheses.  However, it is also possible to provide the URL using a variable.  The following example shows how to formulate the PUG-REST request URL using variables and pass it to `requests.get()`."
   ]
  },
  {
   "cell_type": "code",
   "metadata": {
    "ExecuteTime": {
     "end_time": "2024-11-26T22:45:30.459445Z",
     "start_time": "2024-11-26T22:45:30.457341Z"
    }
   },
   "source": [
    "pugrest = \"https://pubchem.ncbi.nlm.nih.gov/rest/pug\"\n",
    "pugin   = \"compound/name/water\"\n",
    "pugoper = \"property/MolecularFormula\"\n",
    "pugout  = \"txt\"\n",
    "\n",
    "url     = pugrest + '/' + pugin + '/' + pugoper + '/' + pugout\n",
    "print(url)"
   ],
   "outputs": [
    {
     "name": "stdout",
     "output_type": "stream",
     "text": [
      "https://pubchem.ncbi.nlm.nih.gov/rest/pug/compound/name/water/property/MolecularFormula/txt\n"
     ]
    }
   ],
   "execution_count": 30
  },
  {
   "cell_type": "markdown",
   "metadata": {},
   "source": "A PUG-REST request URL encodes three pieces of information (input, operation, output), preceded by the prologue common to all requests.  In the above code cell, these pieces of information are stored in four different variables (`pugrest`, `pugin`, `pugoper`, `pugout`) and combined into a new variable `url`."
  },
  {
   "cell_type": "markdown",
   "metadata": {},
   "source": [
    "One can also generate the same URL using the `join()` function, available for a string."
   ]
  },
  {
   "cell_type": "code",
   "metadata": {
    "ExecuteTime": {
     "end_time": "2024-11-26T22:45:30.472434Z",
     "start_time": "2024-11-26T22:45:30.470878Z"
    }
   },
   "source": [
    "url = \"/\".join( [pugrest, pugin, pugoper, pugout] )\n",
    "print(url)"
   ],
   "outputs": [
    {
     "name": "stdout",
     "output_type": "stream",
     "text": [
      "https://pubchem.ncbi.nlm.nih.gov/rest/pug/compound/name/water/property/MolecularFormula/txt\n"
     ]
    }
   ],
   "execution_count": 31
  },
  {
   "cell_type": "markdown",
   "metadata": {},
   "source": [
    "Here, the strings stored in the four variables are joined by the \"/\" character as a separator.  Note that the four variables are enclosed within the square bracket ([]), meaning that a list containing them as elements is provided to `join()`."
   ]
  },
  {
   "cell_type": "markdown",
   "metadata": {},
   "source": [
    "Then, the url can be passed to `request.get()`."
   ]
  },
  {
   "cell_type": "code",
   "metadata": {
    "ExecuteTime": {
     "end_time": "2024-11-26T22:45:30.785898Z",
     "start_time": "2024-11-26T22:45:30.486312Z"
    }
   },
   "source": [
    "res = requests.get(url)\n",
    "print(res.text)"
   ],
   "outputs": [
    {
     "name": "stdout",
     "output_type": "stream",
     "text": [
      "H2O\n",
      "\n"
     ]
    }
   ],
   "execution_count": 32
  },
  {
   "cell_type": "markdown",
   "metadata": {},
   "source": [
    "## 3. Making multiple requests using a for loop"
   ]
  },
  {
   "cell_type": "markdown",
   "metadata": {},
   "source": [
    "The approach in the previous section (that use variables to construct a request URL) looks very inconvenient, compared to the three-line code shown at the beginning, where the request URL is directly provided to `requests.get()`.  If you are making only one request, it would be simpler to provide the URL directly to `requests.get()`, rather than assiging the piecse to variables, constructing the URL from them, and passing it to the function.<br>\n",
    "However, if you are making a large number of requests, it would be very time consuming to type the respective request URLs for all requests.  In that case, you want to store common parts as variables and use them in a loop.  For example, suppose that you want to retrieve the SMILES strings of 5 chemicals."
   ]
  },
  {
   "cell_type": "code",
   "metadata": {
    "ExecuteTime": {
     "end_time": "2024-11-26T22:45:30.798428Z",
     "start_time": "2024-11-26T22:45:30.796311Z"
    }
   },
   "source": [
    "names = ['cytosine', 'benzene', 'motrin', 'aspirin', 'zolpidem']"
   ],
   "outputs": [],
   "execution_count": 33
  },
  {
   "cell_type": "markdown",
   "metadata": {},
   "source": [
    "Now the chemical names are stored in a list called `names`.  Using a `for` loop, you can loop over each chemical name, formulating the request URL and retrieving the desired data, as shown below."
   ]
  },
  {
   "cell_type": "code",
   "metadata": {
    "ExecuteTime": {
     "end_time": "2024-11-26T22:45:32.318595Z",
     "start_time": "2024-11-26T22:45:30.810094Z"
    }
   },
   "source": [
    "pugrest = \"https://pubchem.ncbi.nlm.nih.gov/rest/pug\"\n",
    "pugoper = \"property/CanonicalSMILES\"\n",
    "pugout  = \"txt\"\n",
    "\n",
    "for myname in names:    # loop over each element in the \"names\" list\n",
    "    \n",
    "    pugin = \"compound/name/\" + myname\n",
    "    \n",
    "    url = \"/\".join( [pugrest, pugin, pugoper, pugout] )\n",
    "    res = requests.get(url)\n",
    "    print(myname, \":\", res.text)\n"
   ],
   "outputs": [
    {
     "name": "stdout",
     "output_type": "stream",
     "text": [
      "cytosine : C1=C(NC(=O)N=C1)N\n",
      "\n",
      "benzene : C1=CC=CC=C1\n",
      "\n",
      "motrin : CC(C)CC1=CC=C(C=C1)C(C)C(=O)O\n",
      "\n",
      "aspirin : CC(=O)OC1=CC=CC=C1C(=O)O\n",
      "\n",
      "zolpidem : CC1=CC=C(C=C1)C2=C(N3C=C(C=CC3=N2)C)CC(=O)N(C)C\n",
      "\n"
     ]
    }
   ],
   "execution_count": 34
  },
  {
   "cell_type": "markdown",
   "metadata": {},
   "source": [
    "**Warning:** When you make a lot of programmatic access requests using a loop, you should limit your request rate to or below **five requests per second**.  Please read the following document to learn more about PubChem's usage policies:\n",
    "https://pubchemdocs.ncbi.nlm.nih.gov/programmatic-access$_RequestVolumeLimitations<br>\n",
    "**Violation of usage policies** may result in the user being **temporarily blocked** from accessing PubChem (or NCBI) resources**"
   ]
  },
  {
   "cell_type": "markdown",
   "metadata": {},
   "source": "In the for-loop example above, we have only five input chemical names to process, so it is not likely to violate the five-requests-per-second limit.  However, if you have thousands of names to process, the above code will exceed the limit (considering that this kind of requests usually finish very quickly).  Therefore, the request rate should be adjusted by using the **`sleep()`** function in the **`time`** module.  For simplicity, let's suppose that you have 12 chemical names to process (in reality, you could have much more to process)."
  },
  {
   "cell_type": "code",
   "metadata": {
    "ExecuteTime": {
     "end_time": "2024-11-26T22:45:32.323058Z",
     "start_time": "2024-11-26T22:45:32.321563Z"
    }
   },
   "source": [
    "names = [ 'water', 'benzene', 'methanol', 'ethene', 'ethanol', \\\n",
    "          'propene','1-propanol', '2-propanol', 'butadiene', '1-butanol', \\\n",
    "          '2-butanol', 'tert-butanol']"
   ],
   "outputs": [],
   "execution_count": 35
  },
  {
   "cell_type": "code",
   "metadata": {
    "ExecuteTime": {
     "end_time": "2024-11-26T22:45:38.022083Z",
     "start_time": "2024-11-26T22:45:32.333056Z"
    }
   },
   "source": [
    "import time\n",
    "\n",
    "# pugrest = \"https://pubchem.ncbi.nlm.nih.gov/rest/pug\"\n",
    "# pugoper = \"property/CanonicalSMILES\"\n",
    "# pugout  = \"txt\"\n",
    "\n",
    "for i in range(len(names)):    # loop over each index (position) in the \"names\" list\n",
    "    \n",
    "    pugin = \"compound/name/\" + names[i]    # names[i] = the ith element in the names list.\n",
    "    \n",
    "    url = \"/\".join( [pugrest, pugin, pugoper, pugout] )\n",
    "    res = requests.get(url)\n",
    "    print(names[i], \":\", res.text)\n",
    "    # print(i % 5)\n",
    "    if  i % 5 == 4:  # the % is the modulo operator and returns the remainder of a calculation (if i = 4, 9, ...)\n",
    "        print('hello')\n",
    "        time.sleep(1)"
   ],
   "outputs": [
    {
     "name": "stdout",
     "output_type": "stream",
     "text": [
      "water : O\n",
      "\n",
      "benzene : C1=CC=CC=C1\n",
      "\n",
      "methanol : CO\n",
      "\n",
      "ethene : C=C\n",
      "\n",
      "ethanol : CCO\n",
      "\n",
      "hello\n",
      "propene : CC=C\n",
      "\n",
      "1-propanol : CCCO\n",
      "\n",
      "2-propanol : CC(C)O\n",
      "\n",
      "butadiene : C=CC=C\n",
      "\n",
      "1-butanol : CCCCO\n",
      "\n",
      "hello\n",
      "2-butanol : CCC(C)O\n",
      "\n",
      "tert-butanol : CC(C)(C)O\n",
      "\n"
     ]
    }
   ],
   "execution_count": 36
  },
  {
   "cell_type": "markdown",
   "metadata": {},
   "source": [
    "There are three things noteworthy in the above example (compared to the previous examples with the five chemical name queries).\n",
    "- First, the for loop interates from 0 to [`len(names)` − 1], that is, [0, 1, 2, 3, ...,11].\n",
    "- The variable `i` is used (in `names[i]`) to generate the input part (`pugin`) of the PUG-REST request URL.\n",
    "- The variable `i` is used (in the `if` sentence) to stop the program for one second for every five requests."
   ]
  },
  {
   "cell_type": "markdown",
   "metadata": {},
   "source": "It should be noted that the request volume limit can be lowered through the dynamic traffic control at times of excessive load (https://pubchemdocs.ncbi.nlm.nih.gov/dynamic-request-throttling).  Throttling information is provided in the HTTP header response, indicating the system-load state and the per-user limits.  Based on this throttling information, the user should moderate the speed at which requests are sent to PubChem.  We will cover this topic later in this course."
  },
  {
   "cell_type": "markdown",
   "metadata": {},
   "source": [
    "**Exercise 3a:**  Retrieve the XlogP values of linear alkanes with 1 ~ 12 carbons.<br>\n",
    "- Use the chemical names as inputs\n",
    "- Use a for loop to retrieve the XlogP value for each alkane.\n",
    "- Use the sleep() function to stop the program for one second for every **five** requests."
   ]
  },
  {
   "cell_type": "code",
   "metadata": {
    "ExecuteTime": {
     "end_time": "2024-11-26T22:45:38.029401Z",
     "start_time": "2024-11-26T22:45:38.027221Z"
    }
   },
   "source": [
    "# Write your code in this cell: (The solution code below will be removed later)\n",
    "\n",
    "\n"
   ],
   "outputs": [],
   "execution_count": 37
  },
  {
   "cell_type": "markdown",
   "metadata": {},
   "source": [
    "**Exercise 3b** Retrieve the **isomeric** SMILES of the 20 common amino acids.\n",
    "- Use the chemical names as inputs. Because the 20 common amino acids in living organisms predominantly exist as one chrial form (the L-form), the names should be prefixed with **\"L-\"** (e.g., \"L-alanine\", rather than \"alanine\"), except for \"glycine\" (which does not have a chiral center).\n",
    "- Use a for loop to retrieve the isomeric SMILES for each alkane.\n",
    "- Use the sleep() function to stop the program for one second for every **five** requests."
   ]
  },
  {
   "cell_type": "code",
   "metadata": {
    "ExecuteTime": {
     "end_time": "2024-11-26T22:45:38.036649Z",
     "start_time": "2024-11-26T22:45:38.034972Z"
    }
   },
   "source": [
    "# Write your code in this cell (The solution code below will be removed later)\n",
    "\n",
    " \n"
   ],
   "outputs": [],
   "execution_count": 38
  },
  {
   "cell_type": "markdown",
   "metadata": {},
   "source": [
    "## 4. Getting multiple molecular properties"
   ]
  },
  {
   "cell_type": "markdown",
   "metadata": {},
   "source": [
    "All the examples we have seen in this notebook retrieved a single molecular property for a single compound (although we were able to get a desired property for a group of compounds using a for loop).  However, it is possible to get multiple properties for multiple compounds with a single request."
   ]
  },
  {
   "cell_type": "markdown",
   "metadata": {},
   "source": [
    "The following example retrieves the hydrogen-bond donor count, hydrogen-bond acceptor count, XLogP, TPSA for 5 compounds (represented by PubChem Compound IDs (CIDs) in a comma-separated values (CSV) format."
   ]
  },
  {
   "cell_type": "code",
   "metadata": {
    "ExecuteTime": {
     "end_time": "2024-11-26T22:45:40.688536Z",
     "start_time": "2024-11-26T22:45:38.041058Z"
    }
   },
   "source": [
    "pugrest = \"https://pubchem.ncbi.nlm.nih.gov/rest/pug\"\n",
    "pugin   = \"compound/cid/4485,4499,5026,5734,8082\"\n",
    "pugoper = \"property/HBondDonorCount,HBondDonorCount,XLogP,TPSA\"\n",
    "pugout  = \"csv\"\n",
    "\n",
    "url = \"/\".join([pugrest, pugin, pugoper, pugout])   # Construct the URL\n",
    "print(url)\n",
    "print(\"-\" * 30)   # Print \"-\" 30 times (to print a line for readability)\n",
    "\n",
    "res = requests.get(url)\n",
    "print(res.text)"
   ],
   "outputs": [
    {
     "name": "stdout",
     "output_type": "stream",
     "text": [
      "https://pubchem.ncbi.nlm.nih.gov/rest/pug/compound/cid/4485,4499,5026,5734,8082/property/HBondDonorCount,HBondDonorCount,XLogP,TPSA/csv\n",
      "------------------------------\n",
      "\"CID\",\"HBondDonorCount\",\"HBondDonorCount\",\"XLogP\",\"TPSA\"\n",
      "4485,1,1,2.200,110.0\n",
      "4499,1,1,3.300,110.0\n",
      "5026,1,1,4.300,123.0\n",
      "5734,1,1,0.2,94.6\n",
      "8082,1,1,0.800,12.0\n",
      "\n"
     ]
    }
   ],
   "execution_count": 39
  },
  {
   "cell_type": "code",
   "metadata": {
    "ExecuteTime": {
     "end_time": "2024-11-26T22:45:40.701063Z",
     "start_time": "2024-11-26T22:45:40.698236Z"
    }
   },
   "source": [
    "res.text.rstrip()"
   ],
   "outputs": [
    {
     "data": {
      "text/plain": [
       "'\"CID\",\"HBondDonorCount\",\"HBondDonorCount\",\"XLogP\",\"TPSA\"\\n4485,1,1,2.200,110.0\\n4499,1,1,3.300,110.0\\n5026,1,1,4.300,123.0\\n5734,1,1,0.2,94.6\\n8082,1,1,0.800,12.0'"
      ]
     },
     "execution_count": 40,
     "metadata": {},
     "output_type": "execute_result"
    }
   ],
   "execution_count": 40
  },
  {
   "cell_type": "markdown",
   "metadata": {},
   "source": [
    "PubChem has a standard time limit of **30 seconds per request**.  When you try to retrieve too many properties for too many compounds with a single request, it can take longer than the 30-second limit and a time-out error will be returned.  Therefore, you may need to split the compound list into smaller chunks and process one chunk at a time."
   ]
  },
  {
   "cell_type": "code",
   "metadata": {
    "ExecuteTime": {
     "end_time": "2024-11-26T22:45:40.707907Z",
     "start_time": "2024-11-26T22:45:40.705723Z"
    }
   },
   "source": [
    "cids = [ 443422,  72301,   8082,    4485,    5353740, 5282230, 5282138, 1547484, 941361, 5734,  \\\n",
    "         5494,    5422,    5417,    5290,    5245,    5026,    4746,    4507,    4499,   4497,  \\\n",
    "         4494,    4474,    4418,    4386,    4009,    4008,    3949,    3926,    3878,   3784,  \\\n",
    "         3698,    3547,    3546,    3336,    3333,    3236,    3076,    2585,    2520,   2351,  \\\n",
    "         2312,    2162,    1236,    1234,    292331,  275182,  235244,  108144,  104972, 77157, \\\n",
    "         5942250, 5311217, 4564402, 4715169, 5311501]"
   ],
   "outputs": [],
   "execution_count": 41
  },
  {
   "cell_type": "code",
   "metadata": {
    "ExecuteTime": {
     "end_time": "2024-11-26T22:45:40.714384Z",
     "start_time": "2024-11-26T22:45:40.712299Z"
    }
   },
   "source": [
    "chunk_size = 10\n",
    "\n",
    "if ( len(cids) % chunk_size == 0 ) : # check if total number of cids is divisible by 10 with no remainder\n",
    "    num_chunks = len(cids) // chunk_size # sets number of chunks\n",
    "else : # if divide by 10 results in remainder\n",
    "    num_chunks = len(cids) // chunk_size + 1 # add one more chunk\n",
    "\n",
    "print(\"# Number of CIDs:\", len(cids) )\n",
    "print(\"# Number of chunks:\", num_chunks )"
   ],
   "outputs": [
    {
     "name": "stdout",
     "output_type": "stream",
     "text": [
      "# Number of CIDs: 55\n",
      "# Number of chunks: 6\n"
     ]
    }
   ],
   "execution_count": 42
  },
  {
   "cell_type": "code",
   "metadata": {
    "jupyter": {
     "is_executing": true
    },
    "ExecuteTime": {
     "start_time": "2024-11-26T22:45:40.718344Z"
    }
   },
   "source": [
    "pugrest = \"https://pubchem.ncbi.nlm.nih.gov/rest/pug\"\n",
    "pugoper = \"property/HBondDonorCount,HBondAcceptorCount,XLogP,TPSA\"\n",
    "pugout  = \"csv\"\n",
    "\n",
    "csv = \"\"   #sets a variable called csv to save the comma separated output\n",
    "\n",
    "for i in range(num_chunks) : # sets number of requests to number of data chunks as determined above\n",
    "    \n",
    "    idx1 = chunk_size * i        # sets a variable for a moving window of cids to start in a data chunk\n",
    "    idx2 = chunk_size * (i + 1)  # sets a variable for a moving window of cids to end ina data chunk\n",
    "\n",
    "    pugin = \"compound/cid/\" + \",\".join([ str(x) for x in cids[idx1:idx2] ]) # build pug input for chunks of data\n",
    "    url = \"/\".join( [pugrest, pugin, pugoper, pugout] )   # Construct the URL\n",
    "    \n",
    "    res = requests.get(url)\n",
    "\n",
    "    if i == 0: # if this is the first request, store result in empty csv variable\n",
    "        csv = res.text \n",
    "    else :          # if this is a subsequent request, add the request to the csv variable adding a new line between chunks\n",
    "        csv = csv + \"\\n\".join(res.text.split()[1:]) + \"\\n\" \n",
    "    \n",
    "    if i % 5 == 4:  \n",
    "        time.sleep(1)\n",
    "\n",
    "print(csv)"
   ],
   "outputs": [],
   "execution_count": null
  },
  {
   "cell_type": "code",
   "metadata": {
    "ExecuteTime": {
     "end_time": "2024-11-26T22:45:10.191275Z",
     "start_time": "2024-11-26T22:45:10.189292Z"
    }
   },
   "source": [
    "print(type(csv))"
   ],
   "outputs": [
    {
     "name": "stdout",
     "output_type": "stream",
     "text": [
      "<class 'str'>\n"
     ]
    }
   ],
   "execution_count": 21
  },
  {
   "cell_type": "markdown",
   "metadata": {},
   "source": [
    "**Exercise 4a:** Below is the list of CIDs of known antiinflmatory agents (obtained from PubChem via the URL: https://www.ncbi.nlm.nih.gov/pccompound?LinkName=mesh_pccompound&from_uid=68000893).  Use GPT to write a script that downloads the following properties of those compounds in a comma-separated format: Heavy atom count, rotatable bond count, molecular weight, XLogP, hydrogen bond donor count, hydrogen bond acceptor count, TPSA, and isomeric SMILES.\n",
    "\n",
    "- Split the input CID list into small chunks (with a chunk size of 100 CIDs).\n",
    "- Process one chunk at a time using a for loop.\n",
    "- Do not forget to add sleep() to comply the usage policy.\n",
    "\n",
    "What problems do you encounter in using GPT and how can you solve these?"
   ]
  },
  {
   "cell_type": "code",
   "metadata": {
    "ExecuteTime": {
     "end_time": "2024-11-26T22:45:10.196064Z",
     "start_time": "2024-11-26T22:45:10.194538Z"
    }
   },
   "source": [
    "# Write your code in this cell.\n",
    "\n",
    "\n"
   ],
   "outputs": [],
   "execution_count": 22
  }
 ],
 "metadata": {
  "kernelspec": {
   "display_name": "Python 3.7.9 ('my-rdkit-env')",
   "language": "python",
   "name": "python3"
  },
  "language_info": {
   "codemirror_mode": {
    "name": "ipython",
    "version": 3
   },
   "file_extension": ".py",
   "mimetype": "text/x-python",
   "name": "python",
   "nbconvert_exporter": "python",
   "pygments_lexer": "ipython3",
   "version": "3.11.9"
  },
  "vscode": {
   "interpreter": {
    "hash": "74b0eeecb9694be932ad336503137f0c047c9eb8ec8a4a235079c04fe56ee89e"
   }
  }
 },
 "nbformat": 4,
 "nbformat_minor": 4
}
