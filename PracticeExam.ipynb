{
 "cells": [
  {
   "cell_type": "code",
   "execution_count": 53,
   "metadata": {},
   "outputs": [],
   "source": [
    "# Start by running this block and then answer each question in the block below the question.\n",
    "import requests\n",
    "import pandas as pd\n",
    "import matplotlib.pyplot as plt \n",
    " \n",
    "drug_list = ['Tramadol', 'Prednisone', 'Jardiance', 'Pantoprazole', 'Bunavail']"
   ]
  },
  {
   "cell_type": "markdown",
   "metadata": {},
   "source": [
    "Q1: Find the molecular weight and exact mass for the drugs Tramadol, Prednisone, Jardiance, Pantoprazole, and Bunavail using pug rest"
   ]
  },
  {
   "cell_type": "code",
   "execution_count": null,
   "metadata": {},
   "outputs": [],
   "source": []
  },
  {
   "cell_type": "markdown",
   "metadata": {},
   "source": [
    "Q2: Next import this data into a dataframe. There are many ways to do this but one simple method is to use the  pandas command read_table which can take a url as input just like requests.get does."
   ]
  },
  {
   "cell_type": "code",
   "execution_count": 52,
   "metadata": {},
   "outputs": [],
   "source": [
    "    "
   ]
  },
  {
   "cell_type": "markdown",
   "metadata": {},
   "source": [
    "Q3: Next make a scatterplot of Exact Mass vs Molecular Weight using pyplot"
   ]
  },
  {
   "cell_type": "code",
   "execution_count": null,
   "metadata": {},
   "outputs": [],
   "source": []
  },
  {
   "cell_type": "markdown",
   "metadata": {},
   "source": [
    "Q4: For each of these drugs use the \"fastformula\" property to find how many molecules in pubchem have the same molecular formula."
   ]
  },
  {
   "cell_type": "code",
   "execution_count": null,
   "metadata": {},
   "outputs": [],
   "source": []
  },
  {
   "cell_type": "markdown",
   "metadata": {},
   "source": [
    "Q5: Use the fastsubstructure property to obtain the number of compounds in pubchem that contain a substructure for each of the drugs in the list."
   ]
  },
  {
   "cell_type": "code",
   "execution_count": null,
   "metadata": {},
   "outputs": [],
   "source": []
  },
  {
   "cell_type": "markdown",
   "metadata": {},
   "source": [
    "Q6: Plot the number of CIDs containing a substructure vs. the number of compounds with the same molecular formula"
   ]
  },
  {
   "cell_type": "code",
   "execution_count": null,
   "metadata": {},
   "outputs": [],
   "source": []
  }
 ],
 "metadata": {
  "kernelspec": {
   "display_name": "Python 3.7.9 ('my-rdkit-env')",
   "language": "python",
   "name": "python3"
  },
  "language_info": {
   "codemirror_mode": {
    "name": "ipython",
    "version": 3
   },
   "file_extension": ".py",
   "mimetype": "text/x-python",
   "name": "python",
   "nbconvert_exporter": "python",
   "pygments_lexer": "ipython3",
   "version": "3.7.9"
  },
  "orig_nbformat": 4,
  "vscode": {
   "interpreter": {
    "hash": "74b0eeecb9694be932ad336503137f0c047c9eb8ec8a4a235079c04fe56ee89e"
   }
  }
 },
 "nbformat": 4,
 "nbformat_minor": 2
}
