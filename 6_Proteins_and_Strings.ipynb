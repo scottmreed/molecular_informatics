{
 "cells": [
  {
   "cell_type": "markdown",
   "metadata": {},
   "source": [
    "# Module 6 - Strings and proteins\n",
    "\n",
    "We have reached a stage where you have started doing things with python that would take too long to do by hand or by using excel. Today we will learn the final few functions to enable you to write code that can process large datasets. At the end of this module, you will be able to read a data file and plot the results, all within jupyter.\n",
    "\n",
    "Today's topics:\n",
    " - Strings\n",
    " - Protein Handling\n",
    "\n",
    "Adapted from: https://github.com/srinivasramachandran/Anschutz_python/tree/master"
   ]
  },
  {
   "cell_type": "markdown",
   "metadata": {},
   "source": [
    "### Strings\n",
    "\n",
    "In typical code where you read information from a file, you are going to read each line of a file as a string. So knowing python's powerful options for string manipulation will help you write code that reads files like human eyes.\n",
    "\n",
    "Refreshing our memories, string is just a set of characters enclosed by quotation marks. We can manipulate strings in many ways with python that is powerful and very useful in a variety of contexts. \n",
    "\n",
    "\n",
    "### Let us do some string manipulation!\n",
    "\n",
    "Let's some biological problems to illustrate string manipulation in python:\n",
    "\n",
    " - How do I calculate the percentage of positively charged residues in a protein sequence?\n",
    " - How do I get the reverse complement of a DNA sequence?\n",
    " - How do I calculate the GC% in my **raw** sequencing reads?\n",
    " \n",
    "#### In the course of these examples, we will learn how to: <br>\n",
    " - Count the occurance of a substring\n",
    " - Length of a string\n",
    " - Split a string\n",
    " - Replace characters in a string\n",
    " - Find characters in a string\n",
    " - Remove specific characters from a stirng\n",
    " - Ask if the string has alphabets or numbers\n"
   ]
  },
  {
   "cell_type": "markdown",
   "metadata": {},
   "source": [
    "### How do I calculate the percentage of positively charged residues in a protein sequence?\n",
    "\n",
    "Below is the protein sequence for histone H3 in Fasta format. Let's write code to find percentage of positively charged residues. Protein/DNA sequence files usually are in Fasta format:<br>\n",
    "\"A sequence in FASTA format begins with a single-line description, followed by lines of sequence data. The description line (defline) is distinguished from the sequence data by a greater-than (\">\") symbol at the beginning.\" ([From NCBI](https://blast.ncbi.nlm.nih.gov/Blast.cgi?CMD=Web&PAGE_TYPE=BlastDocs&DOC_TYPE=BlastHelp))<br><br>\n",
    "In reality, you would write code to load a fasta file but for now, we will just initialize a string as a shortcut:"
   ]
  },
  {
   "cell_type": "code",
   "metadata": {
    "ExecuteTime": {
     "end_time": "2024-11-26T22:52:46.479153Z",
     "start_time": "2024-11-26T22:52:46.476668Z"
    }
   },
   "source": [
    "fasta_file=\">histone_H3\\nMARTKQTARKSTGGKAPRKQLATKAARKSAPATGGVKKPHRYRPGTVALREIRRYQKSTE\\\n",
    "LLIRKLPFQRLVREIAQDFKTDLRFQSSAVMALQEACEAYLVGLFEDTNLCAIHAKRVTIMPKDIQLARRIRGERA\"\n",
    "print(fasta_file)"
   ],
   "outputs": [
    {
     "name": "stdout",
     "output_type": "stream",
     "text": [
      ">histone_H3\n",
      "MARTKQTARKSTGGKAPRKQLATKAARKSAPATGGVKKPHRYRPGTVALREIRRYQKSTELLIRKLPFQRLVREIAQDFKTDLRFQSSAVMALQEACEAYLVGLFEDTNLCAIHAKRVTIMPKDIQLARRIRGERA\n"
     ]
    }
   ],
   "execution_count": 1
  },
  {
   "cell_type": "markdown",
   "metadata": {},
   "source": [
    "### String parsing\n",
    "\n",
    "String parsing can be a powerful way to process **large** or **many** files in batch mode to extract information relevant to us, avoiding manual curation. \n",
    "\n",
    "In the example of `fasta_file`, there are two lines:\n",
    "\n",
    "- First line is the sequence name, which starts with \">\"\n",
    "- Second line is the sequence itself\n",
    "\n",
    "How do we extract information from this fasta entry? We will use `string.split(separator)`. Here, `fasta_file` is the string, and `\\n` is the separator (split by lines).\n"
   ]
  },
  {
   "cell_type": "code",
   "metadata": {
    "ExecuteTime": {
     "end_time": "2024-11-26T22:52:46.541710Z",
     "start_time": "2024-11-26T22:52:46.539890Z"
    }
   },
   "source": [
    "#Two lines in the fasta file, let us separate the lines\n",
    "fasta_lines = fasta_file.split('\\n')"
   ],
   "outputs": [],
   "execution_count": 2
  },
  {
   "cell_type": "markdown",
   "metadata": {},
   "source": [
    "Quick refresher: What kind of data type is `fasta_lines`?"
   ]
  },
  {
   "cell_type": "code",
   "metadata": {
    "ExecuteTime": {
     "end_time": "2024-11-26T22:52:46.570921Z",
     "start_time": "2024-11-26T22:52:46.568393Z"
    }
   },
   "source": [
    "type(fasta_lines)"
   ],
   "outputs": [
    {
     "data": {
      "text/plain": [
       "list"
      ]
     },
     "execution_count": 3,
     "metadata": {},
     "output_type": "execute_result"
    }
   ],
   "execution_count": 3
  },
  {
   "cell_type": "code",
   "metadata": {
    "ExecuteTime": {
     "end_time": "2024-11-26T22:52:46.575845Z",
     "start_time": "2024-11-26T22:52:46.574525Z"
    }
   },
   "source": [
    "print(fasta_lines)"
   ],
   "outputs": [
    {
     "name": "stdout",
     "output_type": "stream",
     "text": [
      "['>histone_H3', 'MARTKQTARKSTGGKAPRKQLATKAARKSAPATGGVKKPHRYRPGTVALREIRRYQKSTELLIRKLPFQRLVREIAQDFKTDLRFQSSAVMALQEACEAYLVGLFEDTNLCAIHAKRVTIMPKDIQLARRIRGERA']\n"
     ]
    }
   ],
   "execution_count": 4
  },
  {
   "cell_type": "markdown",
   "metadata": {},
   "source": [
    "There were two lines, each of which are an element in the list `fasta_lines`. <br>Now, which of the elements is the header and which of them is the sequence? \n",
    "<br><br><br>\n",
    "How do I separate the header and the sequence?<br><br>\n",
    "It is always useful to write out or think out the pseudocode, so you can solve the problem in your head first, before writing any code.<br><br>\n",
    "Pseudocode:\n",
    "- The header in a fasta starts with `>`. We can check for that with `startswith()`. \n",
    "- We will go through each element of the list `fasta_lines` and check for the `>` sign. \n",
    "- If the `>` sign is absent, that element is the sequence."
   ]
  },
  {
   "cell_type": "code",
   "metadata": {
    "ExecuteTime": {
     "end_time": "2024-11-26T22:52:46.587269Z",
     "start_time": "2024-11-26T22:52:46.585846Z"
    }
   },
   "source": [
    "for i in fasta_lines: #for each line\n",
    "    if i.startswith('>'): #Does the line start with the \">\" symbol?\n",
    "        seq_name = i\n",
    "    else:\n",
    "        seq = i\n",
    "print(\"Seq name:\\t\"+seq_name+\"\\nSeq:\\t\\t\"+seq)"
   ],
   "outputs": [
    {
     "name": "stdout",
     "output_type": "stream",
     "text": [
      "Seq name:\t>histone_H3\n",
      "Seq:\t\tMARTKQTARKSTGGKAPRKQLATKAARKSAPATGGVKKPHRYRPGTVALREIRRYQKSTELLIRKLPFQRLVREIAQDFKTDLRFQSSAVMALQEACEAYLVGLFEDTNLCAIHAKRVTIMPKDIQLARRIRGERA\n"
     ]
    }
   ],
   "execution_count": 5
  },
  {
   "cell_type": "markdown",
   "metadata": {},
   "source": [
    "Ok, we have taught python to recognize the sequence now! Next find the percentage of positive residues in the sequence.\n",
    "\n",
    "Lysine (K), Arginine (R), and Histidine (H) are the positive residues. We use `string.count(pattern)` to count occurences of these residues. Here, `seq` is the `string` and `H`, `K`, and `R` form the `pattern`."
   ]
  },
  {
   "cell_type": "code",
   "metadata": {
    "ExecuteTime": {
     "end_time": "2024-11-26T22:52:46.599322Z",
     "start_time": "2024-11-26T22:52:46.597422Z"
    }
   },
   "source": [
    "for i in fasta_lines: #for each line\n",
    "    if i.startswith('>'): #Does the line start with the \">\" symbol?\n",
    "        seq_name = i\n",
    "    else:\n",
    "        seq = i\n",
    "        #Count the positive residues when we get to a sequence line\n",
    "        count = seq.count('K') + seq.count('R') + seq.count('H')\n",
    "        #print the results inside the loop\n",
    "        print(\"Seq name:\\t\"+seq_name+\"\\nSeq:\\t\\t\"+seq+\"\\nCount of Positive Residues:\"+str(count))"
   ],
   "outputs": [
    {
     "name": "stdout",
     "output_type": "stream",
     "text": [
      "Seq name:\t>histone_H3\n",
      "Seq:\t\tMARTKQTARKSTGGKAPRKQLATKAARKSAPATGGVKKPHRYRPGTVALREIRRYQKSTELLIRKLPFQRLVREIAQDFKTDLRFQSSAVMALQEACEAYLVGLFEDTNLCAIHAKRVTIMPKDIQLARRIRGERA\n",
      "Count of Positive Residues:33\n"
     ]
    }
   ],
   "execution_count": 6
  },
  {
   "cell_type": "markdown",
   "metadata": {},
   "source": [
    "Wait, this \"count\" doesn't take into account the protein length. We can't compare any two proteins on this metric. This brings us to the important concept of **normalization** which we will do a lot with any data we deal with to enable comparisons. How will you **normalize** the *positivity* of a protein??\n",
    "<br><br><br>\n",
    "We can **normalize** to total protein length. We use `len(string)` to find length of strings."
   ]
  },
  {
   "cell_type": "code",
   "metadata": {
    "ExecuteTime": {
     "end_time": "2024-11-26T22:52:46.610698Z",
     "start_time": "2024-11-26T22:52:46.608865Z"
    }
   },
   "source": [
    "for i in fasta_lines: #for each line\n",
    "    if i.startswith('>'): #Does the line start with the \">\" symbol?\n",
    "        seq_name = i\n",
    "    else:\n",
    "        seq = i\n",
    "        #Count the positive residues when we get to a sequence line\n",
    "        count = seq.count('K') + seq.count('R') + seq.count('H')\n",
    "        percent_positive = count*100/len(seq)\n",
    "        #print the results inside the loop\n",
    "        #Use round to limit number of decimals\n",
    "        print(\"Seq name:\\t\"+seq_name+\"\\nSeq:\\t\\t\"+seq+\"\\n% of Positive Residues:\"+str(round(percent_positive,4)))\n",
    "        "
   ],
   "outputs": [
    {
     "name": "stdout",
     "output_type": "stream",
     "text": [
      "Seq name:\t>histone_H3\n",
      "Seq:\t\tMARTKQTARKSTGGKAPRKQLATKAARKSAPATGGVKKPHRYRPGTVALREIRRYQKSTELLIRKLPFQRLVREIAQDFKTDLRFQSSAVMALQEACEAYLVGLFEDTNLCAIHAKRVTIMPKDIQLARRIRGERA\n",
      "% of Positive Residues:24.2647\n"
     ]
    }
   ],
   "execution_count": 7
  },
  {
   "cell_type": "markdown",
   "metadata": {},
   "source": [
    "Ok, so is 24 high or low or par for the course? We need to study more proteins! Let us add two \"housekeeping\" proteins: GAPDH and Actin, and an RNA binding protein, HuR. Again, we are using a shortcut for now and assigning the sequences to a `string`"
   ]
  },
  {
   "cell_type": "code",
   "metadata": {
    "ExecuteTime": {
     "end_time": "2024-11-26T22:52:46.622738Z",
     "start_time": "2024-11-26T22:52:46.621082Z"
    }
   },
   "source": [
    "#histone_H3, Actin, Gadph, HuR sequences\n",
    "fasta_file=\">histone_H3\\nMARTKQTARKSTGGKAPRKQLATKAARKSAPATGGVKKPHRYRPGTVALREIRRYQKSTELLIRKLPFQRLVREIAQDFKTDLR\\\n",
    "FQSSAVMALQEACEAYLVGLFEDTNLCAIHAKRVTIMPKDIQLARRIRGERA\\n>Actin\\nMDDDIAALVVDNGSGMCKAGFAGDDAPRAVFPSIVGRPRHQGVMVGMG\\\n",
    "QKDSYVGDEAQSKRGILTLKYPIEHGIVTNWDDMEKIWHHTFYNELRVAPEEHPVLLTEAPLNPKANREKMTQIMFETFNTPAMYVAIQAVLSLYASGRTTGIVMDSGDG\\\n",
    "VTHTVPIYEGYALPHAILRLDLAGRDLTDYLMKILTERGYSFTTTAEREIVRDIKEKLCYVALDFEQEMATAASSSSLEKSYELPDGQVITIGNERFRCPEALFQPSFLG\\\n",
    "MESCGIHETTFNSIMKCDVDIRKDLYANTVLSGGTTMYPGIADRMQKEITALAPSTMKIKIIAPPERKYSVWIGGSILASLSTFQQMWISKQEYDESGPSIVHRKCF\\n>\\\n",
    "Gapdh\\nMGKVKVGVNGFGRIGRLVTRAAFNSGKVDIVAINDPFIDLNYMVYMFQYDSTHGKFHGTVKAENGKLVINGNPITIFQERDPSKIKWGDAGAEYVVESTGVFT\\\n",
    "TMEKAGAHLQGGAKRVIISAPSADAPMFVMGVNHEKYDNSLKIISNASCTTNCLAPLAKVIHDNFGIVEGLMTTVHAITATQKTVDGPSGKLWRDGRGALQNIIPASTGA\\\n",
    "AKAVGKVIPELNGKLTGMAFRVPTANVSVVDLTCRLEKPAKYDDIKKVVKQASEGPLKGILGYTEHQVVSSDFNSDTHSSTFDAGAGIALNDHFVKLISWYDNEFGYSNRV\\\n",
    "VDLMAHMASKE\\n>HuR\\nMSNGYEDHMAEDCRGDIGRTNLIVNYLPQNMTQDELRSLFSSIGEVESAKLIRDKVAGHSLGYGFVNYVTAKDAERAINTLNGLRLQSKTIK\\\n",
    "VSYARPSSEVIKDANLYISGLPRTMTQKDVEDMFSRFGRIINSRVLVDQTTGLSRGVAFIRFDKRSEAEEAITSFNGHKPPGSSEPITVKFAANPNQNKNVALLSQLYHSP\\\n",
    "ARRFGGPVHHQAQRFRFSPMGVDHMSGLSGVNVPGNASSGWCIFIYNLGQDADEGILWQMFGPFGAVTNVKVIRDFNTNKCKGFGFVTMTNYEEAAMAIASLNGYRLGDKI\\\n",
    "LQVSFKTNKSHK\"\n",
    "print(fasta_file)"
   ],
   "outputs": [
    {
     "name": "stdout",
     "output_type": "stream",
     "text": [
      ">histone_H3\n",
      "MARTKQTARKSTGGKAPRKQLATKAARKSAPATGGVKKPHRYRPGTVALREIRRYQKSTELLIRKLPFQRLVREIAQDFKTDLRFQSSAVMALQEACEAYLVGLFEDTNLCAIHAKRVTIMPKDIQLARRIRGERA\n",
      ">Actin\n",
      "MDDDIAALVVDNGSGMCKAGFAGDDAPRAVFPSIVGRPRHQGVMVGMGQKDSYVGDEAQSKRGILTLKYPIEHGIVTNWDDMEKIWHHTFYNELRVAPEEHPVLLTEAPLNPKANREKMTQIMFETFNTPAMYVAIQAVLSLYASGRTTGIVMDSGDGVTHTVPIYEGYALPHAILRLDLAGRDLTDYLMKILTERGYSFTTTAEREIVRDIKEKLCYVALDFEQEMATAASSSSLEKSYELPDGQVITIGNERFRCPEALFQPSFLGMESCGIHETTFNSIMKCDVDIRKDLYANTVLSGGTTMYPGIADRMQKEITALAPSTMKIKIIAPPERKYSVWIGGSILASLSTFQQMWISKQEYDESGPSIVHRKCF\n",
      ">Gapdh\n",
      "MGKVKVGVNGFGRIGRLVTRAAFNSGKVDIVAINDPFIDLNYMVYMFQYDSTHGKFHGTVKAENGKLVINGNPITIFQERDPSKIKWGDAGAEYVVESTGVFTTMEKAGAHLQGGAKRVIISAPSADAPMFVMGVNHEKYDNSLKIISNASCTTNCLAPLAKVIHDNFGIVEGLMTTVHAITATQKTVDGPSGKLWRDGRGALQNIIPASTGAAKAVGKVIPELNGKLTGMAFRVPTANVSVVDLTCRLEKPAKYDDIKKVVKQASEGPLKGILGYTEHQVVSSDFNSDTHSSTFDAGAGIALNDHFVKLISWYDNEFGYSNRVVDLMAHMASKE\n",
      ">HuR\n",
      "MSNGYEDHMAEDCRGDIGRTNLIVNYLPQNMTQDELRSLFSSIGEVESAKLIRDKVAGHSLGYGFVNYVTAKDAERAINTLNGLRLQSKTIKVSYARPSSEVIKDANLYISGLPRTMTQKDVEDMFSRFGRIINSRVLVDQTTGLSRGVAFIRFDKRSEAEEAITSFNGHKPPGSSEPITVKFAANPNQNKNVALLSQLYHSPARRFGGPVHHQAQRFRFSPMGVDHMSGLSGVNVPGNASSGWCIFIYNLGQDADEGILWQMFGPFGAVTNVKVIRDFNTNKCKGFGFVTMTNYEEAAMAIASLNGYRLGDKILQVSFKTNKSHK\n"
     ]
    }
   ],
   "execution_count": 8
  },
  {
   "cell_type": "markdown",
   "metadata": {},
   "source": [
    "Here is the great thing about our code: If we were counting by hand, **we** have to do three times the work. But , we can use the exact same code that we wrote before - no extra effort!"
   ]
  },
  {
   "cell_type": "code",
   "metadata": {
    "ExecuteTime": {
     "end_time": "2024-11-26T22:52:46.635738Z",
     "start_time": "2024-11-26T22:52:46.633844Z"
    }
   },
   "source": [
    "#First create a list of lines\n",
    "fasta_lines = fasta_file.split('\\n')\n",
    "#Now run the exact same loop!\n",
    "for i in fasta_lines: #for each line\n",
    "    if i.startswith('>'): #Does the line start with the \">\" symbol?\n",
    "        seq_name = i\n",
    "    else:\n",
    "        seq = i\n",
    "        #Count the positive residues when we get to a sequence line\n",
    "        count = seq.count('K') + seq.count('R') + seq.count('H')\n",
    "        percent_positive = count*100/len(seq)\n",
    "        #print the results inside the loop\n",
    "        print(\"Seq name:\\t\"+seq_name+\"\\nSeq:\\t\\t\"+seq+\"\\n% of Positive Residues:\"+str(round(percent_positive,1)))"
   ],
   "outputs": [
    {
     "name": "stdout",
     "output_type": "stream",
     "text": [
      "Seq name:\t>histone_H3\n",
      "Seq:\t\tMARTKQTARKSTGGKAPRKQLATKAARKSAPATGGVKKPHRYRPGTVALREIRRYQKSTELLIRKLPFQRLVREIAQDFKTDLRFQSSAVMALQEACEAYLVGLFEDTNLCAIHAKRVTIMPKDIQLARRIRGERA\n",
      "% of Positive Residues:24.3\n",
      "Seq name:\t>Actin\n",
      "Seq:\t\tMDDDIAALVVDNGSGMCKAGFAGDDAPRAVFPSIVGRPRHQGVMVGMGQKDSYVGDEAQSKRGILTLKYPIEHGIVTNWDDMEKIWHHTFYNELRVAPEEHPVLLTEAPLNPKANREKMTQIMFETFNTPAMYVAIQAVLSLYASGRTTGIVMDSGDGVTHTVPIYEGYALPHAILRLDLAGRDLTDYLMKILTERGYSFTTTAEREIVRDIKEKLCYVALDFEQEMATAASSSSLEKSYELPDGQVITIGNERFRCPEALFQPSFLGMESCGIHETTFNSIMKCDVDIRKDLYANTVLSGGTTMYPGIADRMQKEITALAPSTMKIKIIAPPERKYSVWIGGSILASLSTFQQMWISKQEYDESGPSIVHRKCF\n",
      "% of Positive Residues:12.3\n",
      "Seq name:\t>Gapdh\n",
      "Seq:\t\tMGKVKVGVNGFGRIGRLVTRAAFNSGKVDIVAINDPFIDLNYMVYMFQYDSTHGKFHGTVKAENGKLVINGNPITIFQERDPSKIKWGDAGAEYVVESTGVFTTMEKAGAHLQGGAKRVIISAPSADAPMFVMGVNHEKYDNSLKIISNASCTTNCLAPLAKVIHDNFGIVEGLMTTVHAITATQKTVDGPSGKLWRDGRGALQNIIPASTGAAKAVGKVIPELNGKLTGMAFRVPTANVSVVDLTCRLEKPAKYDDIKKVVKQASEGPLKGILGYTEHQVVSSDFNSDTHSSTFDAGAGIALNDHFVKLISWYDNEFGYSNRVVDLMAHMASKE\n",
      "% of Positive Residues:13.7\n",
      "Seq name:\t>HuR\n",
      "Seq:\t\tMSNGYEDHMAEDCRGDIGRTNLIVNYLPQNMTQDELRSLFSSIGEVESAKLIRDKVAGHSLGYGFVNYVTAKDAERAINTLNGLRLQSKTIKVSYARPSSEVIKDANLYISGLPRTMTQKDVEDMFSRFGRIINSRVLVDQTTGLSRGVAFIRFDKRSEAEEAITSFNGHKPPGSSEPITVKFAANPNQNKNVALLSQLYHSPARRFGGPVHHQAQRFRFSPMGVDHMSGLSGVNVPGNASSGWCIFIYNLGQDADEGILWQMFGPFGAVTNVKVIRDFNTNKCKGFGFVTMTNYEEAAMAIASLNGYRLGDKILQVSFKTNKSHK\n",
      "% of Positive Residues:14.1\n"
     ]
    }
   ],
   "execution_count": 9
  },
  {
   "cell_type": "markdown",
   "metadata": {},
   "source": [
    "### Replace\n",
    "We don't want the `>` sign as part of the sequence name. How do we get rid of it? <br>\n",
    "\n",
    "- `replace()` is like search & replace in text editing programs\n",
    "- str.replace(character to be replaced, replacement, count)\n",
    "- if count not specified, all instances replaced"
   ]
  },
  {
   "cell_type": "code",
   "metadata": {
    "ExecuteTime": {
     "end_time": "2024-11-26T22:52:46.647313Z",
     "start_time": "2024-11-26T22:52:46.645855Z"
    }
   },
   "source": [
    "seq_name2 = seq_name.replace(\">\", '')\n",
    "print(seq_name2)"
   ],
   "outputs": [
    {
     "name": "stdout",
     "output_type": "stream",
     "text": [
      "HuR\n"
     ]
    }
   ],
   "execution_count": 10
  },
  {
   "cell_type": "markdown",
   "metadata": {},
   "source": [
    "## Exercise 1\n",
    "Write a script that mutates all the Cysteine (C) residues to Serine (S) for those 4 proteins and prints the new sequence"
   ]
  },
  {
   "cell_type": "code",
   "metadata": {
    "ExecuteTime": {
     "end_time": "2024-11-26T22:52:46.655581Z",
     "start_time": "2024-11-26T22:52:46.653627Z"
    }
   },
   "source": [
    "# add code here\n",
    "fasta_lines = fasta_file.split('\\n')\n",
    "seq_CtoS = []\n",
    "\n",
    "\n",
    "for i in fasta_lines: #for each line\n",
    "    if i.startswith('>'): #Does the line start with the \">\" symbol?\n",
    "        seq_name = i\n",
    "    else:\n",
    "        seq = i\n",
    "        for i in seq:\n",
    "            seq_CtoS = seq.replace(\"C\", 'S')\n",
    "        print(\"Seq name:\\t\"+seq_name+\"\\nSeq:\\t\\t\"+seq_CtoS)"
   ],
   "outputs": [
    {
     "name": "stdout",
     "output_type": "stream",
     "text": [
      "Seq name:\t>histone_H3\n",
      "Seq:\t\tMARTKQTARKSTGGKAPRKQLATKAARKSAPATGGVKKPHRYRPGTVALREIRRYQKSTELLIRKLPFQRLVREIAQDFKTDLRFQSSAVMALQEASEAYLVGLFEDTNLSAIHAKRVTIMPKDIQLARRIRGERA\n",
      "Seq name:\t>Actin\n",
      "Seq:\t\tMDDDIAALVVDNGSGMSKAGFAGDDAPRAVFPSIVGRPRHQGVMVGMGQKDSYVGDEAQSKRGILTLKYPIEHGIVTNWDDMEKIWHHTFYNELRVAPEEHPVLLTEAPLNPKANREKMTQIMFETFNTPAMYVAIQAVLSLYASGRTTGIVMDSGDGVTHTVPIYEGYALPHAILRLDLAGRDLTDYLMKILTERGYSFTTTAEREIVRDIKEKLSYVALDFEQEMATAASSSSLEKSYELPDGQVITIGNERFRSPEALFQPSFLGMESSGIHETTFNSIMKSDVDIRKDLYANTVLSGGTTMYPGIADRMQKEITALAPSTMKIKIIAPPERKYSVWIGGSILASLSTFQQMWISKQEYDESGPSIVHRKSF\n",
      "Seq name:\t>Gapdh\n",
      "Seq:\t\tMGKVKVGVNGFGRIGRLVTRAAFNSGKVDIVAINDPFIDLNYMVYMFQYDSTHGKFHGTVKAENGKLVINGNPITIFQERDPSKIKWGDAGAEYVVESTGVFTTMEKAGAHLQGGAKRVIISAPSADAPMFVMGVNHEKYDNSLKIISNASSTTNSLAPLAKVIHDNFGIVEGLMTTVHAITATQKTVDGPSGKLWRDGRGALQNIIPASTGAAKAVGKVIPELNGKLTGMAFRVPTANVSVVDLTSRLEKPAKYDDIKKVVKQASEGPLKGILGYTEHQVVSSDFNSDTHSSTFDAGAGIALNDHFVKLISWYDNEFGYSNRVVDLMAHMASKE\n",
      "Seq name:\t>HuR\n",
      "Seq:\t\tMSNGYEDHMAEDSRGDIGRTNLIVNYLPQNMTQDELRSLFSSIGEVESAKLIRDKVAGHSLGYGFVNYVTAKDAERAINTLNGLRLQSKTIKVSYARPSSEVIKDANLYISGLPRTMTQKDVEDMFSRFGRIINSRVLVDQTTGLSRGVAFIRFDKRSEAEEAITSFNGHKPPGSSEPITVKFAANPNQNKNVALLSQLYHSPARRFGGPVHHQAQRFRFSPMGVDHMSGLSGVNVPGNASSGWSIFIYNLGQDADEGILWQMFGPFGAVTNVKVIRDFNTNKSKGFGFVTMTNYEEAAMAIASLNGYRLGDKILQVSFKTNKSHK\n"
     ]
    }
   ],
   "execution_count": 11
  },
  {
   "cell_type": "markdown",
   "metadata": {},
   "source": [
    "### PDB as a protein source\n",
    "The Potein Data Bank (PDB) is a common source for protein information and structures.\n",
    "They have an API and below is a GPT built interface with that API. Try retreiving the Fasta\n",
    "sequence for the four proteins given above using this tool.\n"
   ]
  },
  {
   "cell_type": "code",
   "metadata": {
    "ExecuteTime": {
     "end_time": "2024-11-26T22:52:47.000570Z",
     "start_time": "2024-11-26T22:52:46.663811Z"
    }
   },
   "source": [
    "import requests\n",
    "\n",
    "def search_rcsb_by_protein_name(protein_name):\n",
    "    \"\"\"\n",
    "    Search the RCSB PDB database for a protein by its name using the RCSB Search API.\n",
    "    \n",
    "    Parameters:\n",
    "    protein_name (str): The name of the protein to search for (e.g., \"hemoglobin\").\n",
    "    \n",
    "    Returns:\n",
    "    list: A list of PDB IDs that match the protein name.\n",
    "    \"\"\"\n",
    "    # Base URL for the RCSB Search API\n",
    "    search_url = \"https://search.rcsb.org/rcsbsearch/v2/query\"\n",
    "    \n",
    "    # Construct the search query using the `struct.title` attribute\n",
    "    query_payload = {\n",
    "        \"query\": {\n",
    "            \"type\": \"terminal\",\n",
    "            \"service\": \"text\",\n",
    "            \"parameters\": {\n",
    "                \"attribute\": \"struct.title\",\n",
    "                \"operator\": \"contains_phrase\",\n",
    "                \"value\": protein_name\n",
    "            }\n",
    "        },\n",
    "        \"return_type\": \"entry\"\n",
    "    }\n",
    "\n",
    "    # Send the POST request to the Search API\n",
    "    response = requests.post(search_url, json=query_payload)\n",
    "    if response.status_code == 200:\n",
    "        result = response.json()\n",
    "        pdb_ids = [entry['identifier'] for entry in result.get(\"result_set\", [])]\n",
    "        return pdb_ids\n",
    "    else:\n",
    "        raise Exception(f\"Search request failed with status code {response.status_code} and message: {response.text}\")\n",
    "\n",
    "def get_fasta_by_pdb_id(pdb_id):\n",
    "    \"\"\"\n",
    "    Retrieve the FASTA sequence for a given PDB ID from the RCSB PDB database.\n",
    "    \n",
    "    Parameters:\n",
    "    pdb_id (str): The PDB ID of the protein (e.g., \"1A4U\").\n",
    "    \n",
    "    Returns:\n",
    "    str: The FASTA sequence in text format.\n",
    "    \"\"\"\n",
    "    # URL to retrieve FASTA sequence\n",
    "    fasta_url = f\"https://www.rcsb.org/fasta/entry/{pdb_id}\"\n",
    "    \n",
    "    # Get the FASTA sequence\n",
    "    fasta_response = requests.get(fasta_url)\n",
    "    if fasta_response.status_code == 200:\n",
    "        return fasta_response.text\n",
    "    else:\n",
    "        raise Exception(f\"Failed to retrieve FASTA for PDB ID: {pdb_id} with status code {fasta_response.status_code}\")\n",
    "\n",
    "def get_fasta_by_protein_name(protein_name):\n",
    "    \"\"\"\n",
    "    Search for a protein by name in the RCSB PDB database and return its FASTA sequence.\n",
    "    \n",
    "    Parameters:\n",
    "    protein_name (str): Name of the protein to search for (e.g., \"hemoglobin\").\n",
    "    \n",
    "    Returns:\n",
    "    str: The FASTA sequence of the first match if found, else a message.\n",
    "    \"\"\"\n",
    "    try:\n",
    "        # Step 1: Search for the protein by name to get the PDB ID\n",
    "        pdb_ids = search_rcsb_by_protein_name(protein_name)\n",
    "        \n",
    "        if not pdb_ids:\n",
    "            return f\"No entries found for protein name: {protein_name}\"\n",
    "        \n",
    "        # Step 2: Retrieve the FASTA sequence for the first PDB ID found\n",
    "        fasta_sequence = get_fasta_by_pdb_id(pdb_ids[0])\n",
    "        return fasta_sequence\n",
    "    except Exception as e:\n",
    "        return str(e)\n",
    "\n",
    "# Example usage\n",
    "protein_name = \"Histone H3\"  # Change this to your desired protein name\n",
    "fasta_sequence = get_fasta_by_protein_name(protein_name)\n",
    "print(fasta_sequence)\n"
   ],
   "outputs": [
    {
     "name": "stdout",
     "output_type": "stream",
     "text": [
      ">5VNB_1|Chains A, B, C, D|YEATS domain-containing protein 4|Homo sapiens (9606)\n",
      "MFKRMAEFGPDSGGRVKGVTIVKPIVYGNVARYFGKKREEDGHTHQWTVYVKPYRNEDMSAYVKKIQFKLHESYGNPLRVVTKPPYEITETGWGEFEIIIKIFFIDPNERPVTLYHLLKLFQSDTNAMLGKKTVVSEFYDEMIFQDPT\n",
      ">5VNB_2|Chain E[auth K]|H3K23acK27ac peptide|Homo sapiens (9606)\n",
      "ATKAARKSAP\n",
      "\n"
     ]
    }
   ],
   "execution_count": 12
  },
  {
   "cell_type": "markdown",
   "metadata": {},
   "source": [
    "### Find motifs\n",
    "\n",
    "So, HuR binds the motif `AUUUUUA`. How do we ask if an RNA sequence has this motif?\n",
    "\n",
    "- `find()` method finds the first occurence of the specified value.\n",
    "- `str.find(prefix,  start, end)`"
   ]
  },
  {
   "cell_type": "code",
   "metadata": {
    "ExecuteTime": {
     "end_time": "2024-11-26T22:52:47.009322Z",
     "start_time": "2024-11-26T22:52:47.006746Z"
    }
   },
   "source": [
    "seq = 'AUGCAUGCAGCUAGCUAAACCCGGGUUAUAUAGAAUUUUUAAAGUAGUAGGGCCGAGUAGAUUUUUAAGAGAGAUAUUUUUAGAGAGAUAGAUGAGAGG'\n",
    "seq.find('AUUUUUA')"
   ],
   "outputs": [
    {
     "data": {
      "text/plain": [
       "34"
      ]
     },
     "execution_count": 13,
     "metadata": {},
     "output_type": "execute_result"
    }
   ],
   "execution_count": 13
  },
  {
   "cell_type": "markdown",
   "metadata": {},
   "source": [
    "### An everyday example of string manipulation\n",
    "\n",
    "How to find the reverse complement of a *DNA* sequence?"
   ]
  },
  {
   "cell_type": "code",
   "metadata": {
    "ExecuteTime": {
     "end_time": "2024-11-26T22:52:47.026341Z",
     "start_time": "2024-11-26T22:52:47.024491Z"
    }
   },
   "source": [
    "seq = \"AUGCCAUGUUGTC\""
   ],
   "outputs": [],
   "execution_count": 14
  },
  {
   "cell_type": "markdown",
   "metadata": {},
   "source": [
    "If you have an *RNA* sequence, and want a DNA sequence:"
   ]
  },
  {
   "cell_type": "code",
   "metadata": {
    "ExecuteTime": {
     "end_time": "2024-11-26T22:52:47.036108Z",
     "start_time": "2024-11-26T22:52:47.034678Z"
    }
   },
   "source": [
    "if \"U\" in seq: \n",
    "    better_seq = seq.replace('U','T')"
   ],
   "outputs": [],
   "execution_count": 15
  },
  {
   "cell_type": "markdown",
   "metadata": {},
   "source": [
    "Now let us find the complement. We will take advantage of the fact that a string is iterable."
   ]
  },
  {
   "cell_type": "code",
   "metadata": {
    "ExecuteTime": {
     "end_time": "2024-11-26T22:52:47.039992Z",
     "start_time": "2024-11-26T22:52:47.037814Z"
    }
   },
   "source": [
    "print(better_seq)\n",
    "\n",
    "#First, let us define a list that will contain the complementary sequence\n",
    "complement_seq=[]\n",
    "\n",
    "#Iterate through the sequence (better_seq): this will go base by base\n",
    "#and then add the complementary base to complement_seq\n",
    "\n",
    "for i in range(0,len(better_seq)):\n",
    "    if(better_seq[i] == 'A'):\n",
    "        complement_seq.append('T')\n",
    "    elif(better_seq[i] == 'T'):\n",
    "        complement_seq.append('A')\n",
    "    elif(better_seq[i] == 'G'):\n",
    "        complement_seq.append('C')\n",
    "    elif(better_seq[i] == 'C'):\n",
    "        complement_seq.append('G')\n",
    "    print(\"In the process\\t\",complement_seq)\n",
    "\n",
    "print(\"\\n\\nHere is a sequence and its complement:\\n\")\n",
    "print(\"5'\\t\",better_seq,\"\\t3'\")\n",
    "complement_better_seq = ''.join(complement_seq)\n",
    "print(\"3'\\t\",complement_better_seq,\"\\t5'\")"
   ],
   "outputs": [
    {
     "name": "stdout",
     "output_type": "stream",
     "text": [
      "ATGCCATGTTGTC\n",
      "In the process\t ['T']\n",
      "In the process\t ['T', 'A']\n",
      "In the process\t ['T', 'A', 'C']\n",
      "In the process\t ['T', 'A', 'C', 'G']\n",
      "In the process\t ['T', 'A', 'C', 'G', 'G']\n",
      "In the process\t ['T', 'A', 'C', 'G', 'G', 'T']\n",
      "In the process\t ['T', 'A', 'C', 'G', 'G', 'T', 'A']\n",
      "In the process\t ['T', 'A', 'C', 'G', 'G', 'T', 'A', 'C']\n",
      "In the process\t ['T', 'A', 'C', 'G', 'G', 'T', 'A', 'C', 'A']\n",
      "In the process\t ['T', 'A', 'C', 'G', 'G', 'T', 'A', 'C', 'A', 'A']\n",
      "In the process\t ['T', 'A', 'C', 'G', 'G', 'T', 'A', 'C', 'A', 'A', 'C']\n",
      "In the process\t ['T', 'A', 'C', 'G', 'G', 'T', 'A', 'C', 'A', 'A', 'C', 'A']\n",
      "In the process\t ['T', 'A', 'C', 'G', 'G', 'T', 'A', 'C', 'A', 'A', 'C', 'A', 'G']\n",
      "\n",
      "\n",
      "Here is a sequence and its complement:\n",
      "\n",
      "5'\t ATGCCATGTTGTC \t3'\n",
      "3'\t TACGGTACAACAG \t5'\n"
     ]
    }
   ],
   "execution_count": 16
  },
  {
   "cell_type": "code",
   "metadata": {
    "ExecuteTime": {
     "end_time": "2024-11-26T22:52:47.047215Z",
     "start_time": "2024-11-26T22:52:47.045464Z"
    }
   },
   "source": [
    "print(\"Original Sequence\\t\\t\\t5'\\t\",seq,\"\\t3'\")\n",
    "print(\"DNA Sequence\\t\\t\\t5'\\t\",better_seq,\"\\t3'\")\n",
    "print(\"Complement\\t\\t5'\\t\",complement_better_seq,\"\\t3'\\n\\n\")\n",
    "\n",
    "#Now reverse complement:\n",
    "rev_better_seq = complement_better_seq[::-1]\n",
    "#rev_better_seq = \"\".join(list(reversed(complement_better_seq)))\n",
    "print(\"DNA Sequence\\t\\t\\t5'\\t\",better_seq,\"\\t3'\")\n",
    "print(\"Reverse Complement\\t5'\\t\",rev_better_seq,\"\\t3'\")\n"
   ],
   "outputs": [
    {
     "name": "stdout",
     "output_type": "stream",
     "text": [
      "Original Sequence\t\t\t5'\t AUGCCAUGUUGTC \t3'\n",
      "DNA Sequence\t\t\t5'\t ATGCCATGTTGTC \t3'\n",
      "Complement\t\t5'\t TACGGTACAACAG \t3'\n",
      "\n",
      "\n",
      "DNA Sequence\t\t\t5'\t ATGCCATGTTGTC \t3'\n",
      "Reverse Complement\t5'\t GACAACATGGCAT \t3'\n"
     ]
    }
   ],
   "execution_count": 17
  },
  {
   "cell_type": "markdown",
   "metadata": {},
   "source": [
    "### What kind of characters does my string have?\n",
    " - isalpha() - are all the characters alphabets?\n",
    " - isnumeric() - are all characters numeric?"
   ]
  },
  {
   "cell_type": "code",
   "metadata": {
    "ExecuteTime": {
     "end_time": "2024-11-26T22:52:47.057935Z",
     "start_time": "2024-11-26T22:52:47.055943Z"
    }
   },
   "source": [
    "seq = \"ATGCATCGA\"\n",
    "seq.isalpha()"
   ],
   "outputs": [
    {
     "data": {
      "text/plain": [
       "True"
      ]
     },
     "execution_count": 18,
     "metadata": {},
     "output_type": "execute_result"
    }
   ],
   "execution_count": 18
  },
  {
   "cell_type": "code",
   "metadata": {
    "ExecuteTime": {
     "end_time": "2024-11-26T22:52:47.067848Z",
     "start_time": "2024-11-26T22:52:47.066045Z"
    }
   },
   "source": [
    "seq.isnumeric()"
   ],
   "outputs": [
    {
     "data": {
      "text/plain": [
       "False"
      ]
     },
     "execution_count": 19,
     "metadata": {},
     "output_type": "execute_result"
    }
   ],
   "execution_count": 19
  },
  {
   "cell_type": "markdown",
   "metadata": {},
   "source": [
    "## Biopython\n",
    "Some of the tasks we have been performing are so commonplace that packages are available to simplyfy\n",
    "these processes. The Biopython package is one such tool. It does not including visualization but is\n",
    "very helpful in manipulating proteins and genes. Start with installing the package in your environment."
   ]
  },
  {
   "cell_type": "code",
   "metadata": {
    "ExecuteTime": {
     "end_time": "2024-11-26T22:52:47.074752Z",
     "start_time": "2024-11-26T22:52:47.073510Z"
    }
   },
   "source": [
    "# pip install biopython"
   ],
   "outputs": [],
   "execution_count": 20
  },
  {
   "cell_type": "code",
   "metadata": {
    "ExecuteTime": {
     "end_time": "2024-11-26T22:52:47.221628Z",
     "start_time": "2024-11-26T22:52:47.081991Z"
    }
   },
   "source": [
    "import os\n",
    "from Bio.PDB import PDBList, PDBParser\n",
    "\n",
    "# Function to fetch and parse PDB files\n",
    "def fetch_and_parse_pdb(pdb_id, save_dir='data'):\n",
    "    # Create directory if it doesn't exist\n",
    "    if not os.path.exists(save_dir):\n",
    "        os.makedirs(save_dir)\n",
    "\n",
    "    pdb_list = PDBList()\n",
    "    # Download the PDB file to the specified directory\n",
    "    pdb_file_path = pdb_list.retrieve_pdb_file(pdb_id, pdir=save_dir, file_format='pdb')\n",
    "    \n",
    "    # Parse the PDB file\n",
    "    parser = PDBParser(QUIET=True)\n",
    "    structure = parser.get_structure(pdb_id, pdb_file_path)\n",
    "    \n",
    "    # Extract sequence from the structure\n",
    "    sequence = []\n",
    "    for model in structure:\n",
    "        for chain in model:\n",
    "            # Iterate over residues and construct the sequence as a list of 3-letter codes\n",
    "            sequence.extend([res.get_resname() for res in chain if res.get_id()[0] == ' '])  # Standard residues\n",
    "    return sequence\n",
    "\n",
    "# Function to compare sequences by residue\n",
    "def compare_sequences(seq1, seq2):\n",
    "    differences = []\n",
    "    min_length = min(len(seq1), len(seq2))\n",
    "    \n",
    "    for i in range(min_length):\n",
    "        if seq1[i] != seq2[i]:\n",
    "            differences.append((i + 1, seq1[i], seq2[i]))  # +1 for human-readable index\n",
    "\n",
    "    if len(seq1) != len(seq2):\n",
    "        differences.append((\"Length difference\", len(seq1), len(seq2)))\n",
    "    \n",
    "    return differences\n",
    "\n",
    "# Fetch sequences for 6BB5 and 1A3N\n",
    "seq_6BB5 = fetch_and_parse_pdb(\"6BB5\")\n",
    "seq_1A3N = fetch_and_parse_pdb(\"1A3N\")\n",
    "\n",
    "# Convert sequences to comma-separated strings\n",
    "seq_6BB5_str = \",\".join(seq_6BB5)\n",
    "seq_1A3N_str = \",\".join(seq_1A3N)\n",
    "\n",
    "# Get differences\n",
    "diffs = compare_sequences(seq_6BB5, seq_1A3N)\n",
    "\n",
    "# Print results\n",
    "print(\"6BB5 Sequence:\", seq_6BB5_str)\n",
    "print(\"1A3N Sequence:\", seq_1A3N_str)\n",
    "\n",
    "if not diffs:\n",
    "    print(\"The sequences are identical.\")\n",
    "else:\n",
    "    print(\"Differences found:\")\n",
    "    for diff in diffs:\n",
    "        print(diff)\n"
   ],
   "outputs": [
    {
     "ename": "ModuleNotFoundError",
     "evalue": "No module named 'Bio'",
     "output_type": "error",
     "traceback": [
      "\u001B[0;31m---------------------------------------------------------------------------\u001B[0m",
      "\u001B[0;31mModuleNotFoundError\u001B[0m                       Traceback (most recent call last)",
      "Cell \u001B[0;32mIn[21], line 2\u001B[0m\n\u001B[1;32m      1\u001B[0m \u001B[38;5;28;01mimport\u001B[39;00m \u001B[38;5;21;01mos\u001B[39;00m\n\u001B[0;32m----> 2\u001B[0m \u001B[38;5;28;01mfrom\u001B[39;00m \u001B[38;5;21;01mBio\u001B[39;00m\u001B[38;5;21;01m.\u001B[39;00m\u001B[38;5;21;01mPDB\u001B[39;00m \u001B[38;5;28;01mimport\u001B[39;00m PDBList, PDBParser\n\u001B[1;32m      4\u001B[0m \u001B[38;5;66;03m# Function to fetch and parse PDB files\u001B[39;00m\n\u001B[1;32m      5\u001B[0m \u001B[38;5;28;01mdef\u001B[39;00m \u001B[38;5;21mfetch_and_parse_pdb\u001B[39m(pdb_id, save_dir\u001B[38;5;241m=\u001B[39m\u001B[38;5;124m'\u001B[39m\u001B[38;5;124mdata\u001B[39m\u001B[38;5;124m'\u001B[39m):\n\u001B[1;32m      6\u001B[0m     \u001B[38;5;66;03m# Create directory if it doesn't exist\u001B[39;00m\n",
      "\u001B[0;31mModuleNotFoundError\u001B[0m: No module named 'Bio'"
     ]
    }
   ],
   "execution_count": 21
  },
  {
   "cell_type": "markdown",
   "metadata": {},
   "source": [
    "Biopython also has gene handling tools that can do the same complement creation we did manually before"
   ]
  },
  {
   "cell_type": "code",
   "metadata": {
    "ExecuteTime": {
     "end_time": "2024-11-26T22:56:01.252185Z",
     "start_time": "2024-11-26T22:56:01.225963Z"
    }
   },
   "source": [
    "from Bio.Seq import Seq\n",
    "my_seq = Seq(seq)\n",
    "\n",
    "print('seq is', seq)\n",
    "print('my_seq is ', my_seq)\n",
    "\n",
    "print('the type of seq is', type(seq))\n",
    "print('the type of my_seq is', type(my_seq))\n",
    "\n",
    "complement = my_seq.complement()\n",
    "print(f'the complement to {my_seq} is ', complement)\n"
   ],
   "outputs": [
    {
     "name": "stdout",
     "output_type": "stream",
     "text": [
      "seq is ATGCATCGA\n",
      "my_seq is  ATGCATCGA\n",
      "the type of seq is <class 'str'>\n",
      "the type of my_seq is <class 'Bio.Seq.Seq'>\n",
      "the complement to ATGCATCGA is  TACGTAGCT\n"
     ]
    }
   ],
   "execution_count": 22
  },
  {
   "cell_type": "markdown",
   "metadata": {},
   "source": [
    "## Exercise 2\n",
    "Bio.Seq.Seq also has a tool to report the reverse complement of a strand called reverse_complement. Find the reverse complement of GACAACATGG"
   ]
  },
  {
   "cell_type": "code",
   "metadata": {
    "ExecuteTime": {
     "end_time": "2024-11-26T22:56:05.616945Z",
     "start_time": "2024-11-26T22:56:05.614729Z"
    }
   },
   "source": [
    "# code for exercise here\n",
    "from Bio.Seq import Seq\n",
    "\n",
    "\n",
    "dna_sequence = Seq(\"GACAACATGG\")\n",
    "\n",
    "\n",
    "reverse_complement = dna_sequence.reverse_complement()\n",
    "\n",
    "\n",
    "print(\"Original sequence: \", dna_sequence)\n",
    "print(\"Reverse complement: \", reverse_complement)"
   ],
   "outputs": [
    {
     "name": "stdout",
     "output_type": "stream",
     "text": [
      "Original sequence:  GACAACATGG\n",
      "Reverse complement:  CCATGTTGTC\n"
     ]
    }
   ],
   "execution_count": 23
  },
  {
   "cell_type": "markdown",
   "metadata": {},
   "source": [
    "## A real life problem\n",
    "\n",
    "Sequencing reads from Illumina platform are stored as fastq files. Each sequencing \"read\" gets four lines. Here is an example:\n",
    "\n",
    "`@SRR036139.1 11_26_8:5:1:749:1421 length=36\n",
    "GCTGGCTGCGTCTGTGGTGGGTTTCATGTTAAGGTC\n",
    "+SRR036139.1 11_26_8:5:1:749:1421 length=36\n",
    "IIIIIIIIIIIIIIIIIIIIIIIIIIIIIIIIIIII`\n",
    "\n",
    "Description from FASTQ wiki page:\n",
    " - Line 1 begins with a '@' character and is followed by a sequence identifier and an optional description (like a FASTA title line).\n",
    " - Line 2 is the raw sequence letters.\n",
    " - Line 3 begins with a '+' character and is optionally followed by the same sequence identifier (and any description) again.\n",
    " - Line 4 encodes the quality values for the sequence in Line 2, and must contain the same number of symbols as letters in the sequence.\n",
    " \n",
    "### We want to determine the GC content of the reads in any FASTQ file. \n",
    "GC content could tell you about any bias in the library or if you are sequencing a new species for example, it tells you the properties of the species' genome. So, if you have a fastq file, how would you determine the GC content of the reads?\n",
    "\n",
    "- Somehow get the sequences from the file into a data structure you learned\n",
    "- Examine the sequence to get GC content\n",
    "- Present the data"
   ]
  },
  {
   "cell_type": "markdown",
   "metadata": {},
   "source": [
    "#### To get GC content of the sequences in a fastq file:\n",
    " - Find the line with sequence : Count every 4th line starting from 2\n",
    " - Get the GC content : (number of G + number of C)/(total number of nucleotides) \n",
    "\n",
    "#### Before we begin, a couple of important points:\n",
    "\n",
    "#### Toy Models are Important\n",
    "When you write new code, don't apply it to actual data in the beginning - the data may be complicated enough for you to not be able to judge if your code is running properly. Instead, start with a toy model - something that will give you a trivial result. For example, here is a toy fastq file that has only two sequences with GC content of 100% and 50%:<br>\n",
    "`@TEST1\n",
    "GCGCGCGCGCGC\n",
    "+TEST1\n",
    "IIIIIIIIII\n",
    "@TEST2\n",
    "ATGCATGCATGC\n",
    "+TEST2\n",
    "IIIIIIIIIIII`\n",
    "\n",
    "#### Also important to spell out the architecture of the data structures you will create\n",
    "\n",
    "Some of the data structures we will use:\n",
    "\n",
    "- `seqs` - a dictionary, where the key will be the sequence number, value will be the sequence\n",
    "- `gc_content` - a dictionary, where the key will be the sequence number, value will be the GC content\n",
    "- `fastq_file` - a file wrapper for reading the fastq file "
   ]
  },
  {
   "cell_type": "code",
   "execution_count": 30,
   "metadata": {},
   "outputs": [
    {
     "name": "stdout",
     "output_type": "stream",
     "text": [
      "1 3\n",
      "2 0\n",
      "3 1\n",
      "4 2\n",
      "5 3\n",
      "6 0\n",
      "7 1\n",
      "8 2\n",
      "9 3\n",
      "10 0\n",
      "11 1\n",
      "12 2\n",
      "13 3\n",
      "14 0\n",
      "15 1\n",
      "16 2\n",
      "17 3\n",
      "18 0\n",
      "19 1\n"
     ]
    }
   ],
   "source": [
    "#How do we get check for 2, 6, 10, 14th lines??\n",
    "#If we subtract 2 from them: 0, 4, 8, 12, ... should be divisible by 4. Let us check:\n",
    "for i in range(1,20,1):\n",
    "    print(i,(i-2)%4)"
   ]
  },
  {
   "cell_type": "code",
   "execution_count": 31,
   "metadata": {},
   "outputs": [
    {
     "name": "stdout",
     "output_type": "stream",
     "text": [
      "2 is the sequence line\n",
      "6 is the sequence line\n",
      "10 is the sequence line\n",
      "14 is the sequence line\n",
      "18 is the sequence line\n"
     ]
    }
   ],
   "source": [
    "#Can we now pick the line numbers with the sequence?\n",
    "for i in range(1,20,1):\n",
    "    if ((i-2)%4 == 0):\n",
    "        print(i,\"is the sequence line\")"
   ]
  },
  {
   "cell_type": "code",
   "execution_count": 32,
   "metadata": {},
   "outputs": [
    {
     "name": "stdout",
     "output_type": "stream",
     "text": [
      "line 2 contains the sequence for read # 1\n",
      "line 6 contains the sequence for read # 2\n",
      "line 10 contains the sequence for read # 3\n",
      "line 14 contains the sequence for read # 4\n",
      "line 18 contains the sequence for read # 5\n"
     ]
    }
   ],
   "source": [
    "#Ok, line 2 is the sequence line for the 1st sequence, 6 for second sequence, and so forth.\n",
    "#Can we assign this explicitly?\n",
    "for i in range(2,20,4):\n",
    "    read_num = int((i-2)/4)+1 # Convert the line_no to a sequence ID\n",
    "    print(\"line\",i,\"contains the sequence for read #\", read_num)"
   ]
  },
  {
   "cell_type": "markdown",
   "metadata": {},
   "source": [
    "Okay, let us put all of this together"
   ]
  },
  {
   "cell_type": "code",
   "execution_count": 37,
   "metadata": {},
   "outputs": [
    {
     "name": "stdout",
     "output_type": "stream",
     "text": [
      "2 GCGCGCGCGCGC 100.0\n",
      "3 ATGCATGCATGC 50.0\n"
     ]
    }
   ],
   "source": [
    "import os\n",
    "seqs={} # A dictionary to store sequences if needed later\n",
    "\n",
    "gc_content={} # A dictionary to store GC content if needed later\n",
    "\n",
    "line_no = 0 # Variable to count lines\n",
    "\n",
    "fastq_file = open(os.path.join('data','toy.fastq'), 'r' ) #Open the fastq file\n",
    "\n",
    "for line in fastq_file: # Iterate through the fastq file\n",
    "    line_no += 1 #counting line numbers\n",
    "    # print(line_no)\n",
    "    if (line_no-2)%4 == 0: # Does the line number belong to the series 2, 6, 10, 14, etc. ?\n",
    "        read_num = int((line_no-2)/4)+1 # Convert the line_no to a sequence ID\n",
    "        line=line.rstrip()\n",
    "        seqs[read_num] = line #Populate seqs dictionary\n",
    "        # print(seqs)\n",
    "        gc = line.count('G') + line.count('C')\n",
    "        gc = round(gc*100/len(line),2) #make it percentage, make it look pretty with round()\n",
    "        gc_content[read_num] = gc\n",
    "        print(read_num+1, line, gc) #print the results"
   ]
  },
  {
   "cell_type": "markdown",
   "metadata": {},
   "source": [
    "Let us try the real data now. (First 250 sequences from the SRA file: SRR036139"
   ]
  },
  {
   "cell_type": "code",
   "execution_count": 40,
   "metadata": {},
   "outputs": [],
   "source": [
    "seqs = {} # A dictionary to store sequences if needed later\n",
    "\n",
    "gc_content = {} # A dictionary to store GC content if needed later\n",
    "\n",
    "line_no = 0 # Variable to count lines\n",
    "\n",
    "fastq_file = open(os.path.join('data', 'example.fastq'), 'r' ) #Open the fastq file\n",
    "\n",
    "#Let us write sequence details in a file called \"seq_details.txt\"\n",
    "fh = open(os.path.join('data','seq_details.txt'), \"w+\")\n",
    "\n",
    "for line in fastq_file: # Iterate through the fastq file\n",
    "    line_no+=1 #counting line numbers\n",
    "    # print(line_no)\n",
    "    if (line_no-2)%4 == 0: # Does the line number belong to the series 2, 6, 10, 14, etc. ?\n",
    "        read_num = int((line_no-2)/4)+1 # Convert the line_no to a sequence ID\n",
    "        line=line.rstrip()\n",
    "        seqs[read_num] = line #Populate seqs dictionary\n",
    "        gc = line.count('G') + line.count('C')\n",
    "        gc_p=round(gc*100/len(line),2) #make it percentage, make it look pretty with round()\n",
    "        gc_content[read_num] = gc_p\n",
    "        #print the results to a string\n",
    "        write_str = \"Seq #\"+ str(read_num) + \" Seq: \" + line + \" Number of GC: \" + str(gc) +\" Sequence Length: \"+ str(len(line)) \\\n",
    "        + \" GC Content: \" + str(gc_p) + \"\\n\"\n",
    "        #print the string to a file\n",
    "        fh.write(write_str)\n",
    "        # print(write_str)\n",
    "\n",
    "fastq_file.close()\n"
   ]
  },
  {
   "cell_type": "markdown",
   "metadata": {},
   "source": [
    "Check the \"seq_details.txt\" file - we just calculated the GC content of 250 sequences.\n",
    "\n",
    "However, this is not really useful yet because there are 250 numbers and we don't have a sense of what the data is telling us. A histogram may be more useful. There is a direct histogram function we will discuss later, but here will do it from scratch. This is an example of how powerful coding can be - writing code to (insert your favorite analysis) from scratch!\n",
    "\n",
    "### How to make a histogram? \n",
    "\n",
    "Wikipedia says: \"To construct a histogram, the first step is to \"bin\" (or \"bucket\") the range of values—that is, divide the entire range of values into a series of intervals—and then count how many values fall into each interval. The bins are usually specified as consecutive, non-overlapping intervals of a variable. The bins (intervals) must be adjacent, and are often (but not required to be) of equal size.\"\n",
    "\n",
    "#### How to bin data?  \n",
    "\n",
    "The idea is to put an interval of numbers into the midpoint like this:\n",
    "\n",
    "1 2 3 4 5 6 7 8 9 10,11,12...\n",
    "\n",
    "If we group these numbers by 4:\n",
    "\n",
    "(1,2,3,4) (5,6,7,8) (9,10,11,12)\n",
    "\n",
    "The midpoints are:\n",
    "\n",
    "2.5, 6.5, 10.5\n",
    "\n",
    "If we group the same numbers by 5:\n",
    "\n",
    "(1,2,3,4,5) (6,7,8,9,10) (11,12,13,14,15)\n",
    "\n",
    "The midpoints are:\n",
    "3, 8, 13\n",
    "\n",
    "#### How do we generalize this in our code? \n",
    "By combining `int()` and `round()`. I came up with the formula below by trial and error. I am sure you can come up with your own and even do better."
   ]
  },
  {
   "cell_type": "code",
   "execution_count": 41,
   "metadata": {},
   "outputs": [
    {
     "name": "stdout",
     "output_type": "stream",
     "text": [
      "i bin\n",
      "1 3.0\n",
      "2 3.0\n",
      "3 3.0\n",
      "4 3.0\n",
      "5 3.0\n",
      "6 8.0\n",
      "7 8.0\n",
      "8 8.0\n",
      "9 8.0\n",
      "10 8.0\n",
      "11 13.0\n",
      "12 13.0\n",
      "13 13.0\n",
      "14 13.0\n",
      "15 13.0\n",
      "16 18.0\n",
      "17 18.0\n",
      "18 18.0\n",
      "19 18.0\n",
      "20 18.0\n"
     ]
    }
   ],
   "source": [
    "bin_size = 5\n",
    "fact = (bin_size/2)-0.5\n",
    "print(\"i bin\")\n",
    "for i in range(1, 21, 1):\n",
    "    bin1 = int(round(((i-0.5)/bin_size + 0.5), 0))*bin_size - fact\n",
    "    print(i, bin1)\n"
   ]
  },
  {
   "cell_type": "markdown",
   "metadata": {},
   "source": [
    "Ok, we can assign a \"bin\" to any number. Now we need to count the numbers in each bin. We will put these counts in a dictionary called `hist`, where the keys are the bins and values are the counts."
   ]
  },
  {
   "cell_type": "code",
   "execution_count": 42,
   "metadata": {},
   "outputs": [
    {
     "name": "stdout",
     "output_type": "stream",
     "text": [
      "3.0 5\n",
      "8.0 5\n",
      "13.0 5\n",
      "18.0 5\n"
     ]
    }
   ],
   "source": [
    "hist = {}\n",
    "\n",
    "bin_size = 5\n",
    "fact = (bin_size/2)-0.5\n",
    "\n",
    "for i in range(1, 21, 1):\n",
    "    bin1 = int(round(((i-0.5)/bin_size + 0.5),0))*bin_size - fact\n",
    "    #if the bin exists, add to it\n",
    "    if bin1 in hist:\n",
    "        hist[bin1] += 1\n",
    "    #if bin doesn't exist, add to it\n",
    "    else:\n",
    "        hist[bin1] = 1\n",
    "\n",
    "#let us now print the histogram\n",
    "for i in sorted(hist):\n",
    "    print(i, hist[i])"
   ]
  },
  {
   "cell_type": "markdown",
   "metadata": {},
   "source": [
    "Ok, let us do the same with our `gc_content` dictionary. The keys of `gc_content` are sequence numbers and the values are the corresponding GC content in percentage"
   ]
  },
  {
   "cell_type": "code",
   "execution_count": 43,
   "metadata": {},
   "outputs": [],
   "source": [
    "#let us assume bin size of 5 percent\n",
    "bin_size = 2\n",
    "fact = (bin_size/2)-0.5\n",
    "\n",
    "#let us write the histogram into a file called \"GC_hist.txt\"\n",
    "fh = open(os.path.join('data', 'GC_hist.txt'), \"w\")\n",
    "\n",
    "hist = {} #declare the histogram\n",
    "\n",
    "for i in gc_content:\n",
    "    bin1 = int(round(((gc_content[i]-0.5)/bin_size + 0.5),0))*bin_size - fact\n",
    "    if bin1 in hist:\n",
    "        hist[bin1] += 1\n",
    "    else:\n",
    "        hist[bin1] = 1\n",
    "\n",
    "for i in sorted(hist):\n",
    "    hist[i]=hist[i]*100/len(gc_content)\n",
    "    write_str =str(i) + \" \" + str(hist[i]) + \"\\n\"\n",
    "    fh.write(write_str)\n",
    "\n",
    "fh.close()\n"
   ]
  },
  {
   "cell_type": "markdown",
   "metadata": {},
   "source": [
    "Would be nice if we could see a plot. "
   ]
  },
  {
   "cell_type": "code",
   "execution_count": 44,
   "metadata": {},
   "outputs": [
    {
     "data": {
      "image/png": "[encoded data removed]",
      "text/plain": [
       "<Figure size 640x480 with 1 Axes>"
      ]
     },
     "metadata": {},
     "output_type": "display_data"
    }
   ],
   "source": [
    "import matplotlib\n",
    "import matplotlib.pyplot as plt\n",
    "import numpy as np\n",
    "\n",
    "yt = []\n",
    "\n",
    "x = np.asarray(sorted(hist))\n",
    "for i in sorted(hist):\n",
    "    yt.append(hist[i])\n",
    "y = np.asarray(yt)\n",
    "\n",
    "fig, ax = plt.subplots()\n",
    "ax.plot(x, y)\n",
    "\n",
    "ax.set(xlabel='GC%', ylabel='% of sequences')\n",
    "\n",
    "plt.show()\n",
    "\n",
    "fig.savefig(os.path.join('data', 'histogram.png'))"
   ]
  },
  {
   "cell_type": "markdown",
   "metadata": {},
   "source": [
    "##  Exercise 3: \n",
    "Ask GPT to make a function that turns a protein sequence (specifically, HuR from earlier) into a gene\n",
    "sequence using thebiopython tools: CodonTable and Seq. Then manually integrate that output with your\n",
    "gc_content script to determine the gc content of HuR.\n",
    "One approach would be to give GPT your gc content code and ask it to functionalize it. That should make \n",
    "integrating the two easier."
   ]
  },
  {
   "cell_type": "markdown",
   "metadata": {},
   "source": [
    "GPT attempt 1:"
   ]
  },
  {
   "cell_type": "code",
   "execution_count": 47,
   "metadata": {},
   "outputs": [
    {
     "ename": "TypeError",
     "evalue": "'dict' object is not callable",
     "output_type": "error",
     "traceback": [
      "\u001B[0;31m---------------------------------------------------------------------------\u001B[0m",
      "\u001B[0;31mTypeError\u001B[0m                                 Traceback (most recent call last)",
      "Cell \u001B[0;32mIn[47], line 30\u001B[0m\n\u001B[1;32m     28\u001B[0m \u001B[38;5;66;03m# Example usage:\u001B[39;00m\n\u001B[1;32m     29\u001B[0m protein_sequence \u001B[38;5;241m=\u001B[39m \u001B[38;5;124m\"\u001B[39m\u001B[38;5;124mMTEYKLVVVGAGGVGKSALTIQLIQNHFVDEYD\u001B[39m\u001B[38;5;124m\"\u001B[39m\n\u001B[0;32m---> 30\u001B[0m gene_sequence \u001B[38;5;241m=\u001B[39m \u001B[43mprotein_to_gene\u001B[49m\u001B[43m(\u001B[49m\u001B[43mprotein_sequence\u001B[49m\u001B[43m)\u001B[49m\n\u001B[1;32m     31\u001B[0m \u001B[38;5;28mprint\u001B[39m(\u001B[38;5;124m\"\u001B[39m\u001B[38;5;124mGene Sequence (DNA):\u001B[39m\u001B[38;5;124m\"\u001B[39m, gene_sequence)\n",
      "Cell \u001B[0;32mIn[47], line 15\u001B[0m, in \u001B[0;36mprotein_to_gene\u001B[0;34m(protein_sequence)\u001B[0m\n\u001B[1;32m     12\u001B[0m \u001B[38;5;66;03m# Iterate over each amino acid in the protein sequence\u001B[39;00m\n\u001B[1;32m     13\u001B[0m \u001B[38;5;28;01mfor\u001B[39;00m amino_acid \u001B[38;5;129;01min\u001B[39;00m protein_sequence:\n\u001B[1;32m     14\u001B[0m     \u001B[38;5;66;03m# Get a list of possible codons for the amino acid\u001B[39;00m\n\u001B[0;32m---> 15\u001B[0m     possible_codons \u001B[38;5;241m=\u001B[39m \u001B[43mcodon_table\u001B[49m\u001B[38;5;241;43m.\u001B[39;49m\u001B[43mback_table\u001B[49m\u001B[43m(\u001B[49m\u001B[43mamino_acid\u001B[49m\u001B[43m)\u001B[49m\n\u001B[1;32m     17\u001B[0m     \u001B[38;5;66;03m# Randomly choose one codon from the list (or you could choose the first one)\u001B[39;00m\n\u001B[1;32m     18\u001B[0m     selected_codon \u001B[38;5;241m=\u001B[39m random\u001B[38;5;241m.\u001B[39mchoice(possible_codons)\n",
      "\u001B[0;31mTypeError\u001B[0m: 'dict' object is not callable"
     ]
    }
   ],
   "source": [
    "from Bio.Seq import Seq\n",
    "from Bio.Data import CodonTable\n",
    "import random\n",
    "\n",
    "def protein_to_gene(protein_sequence):\n",
    "    # Get the standard codon table\n",
    "    codon_table = CodonTable.unambiguous_dna_by_id[1]\n",
    "    \n",
    "    # Initialize an empty list for the codon sequence\n",
    "    codon_sequence = []\n",
    "    \n",
    "    # Iterate over each amino acid in the protein sequence\n",
    "    for amino_acid in protein_sequence:\n",
    "        # Get a list of possible codons for the amino acid\n",
    "        possible_codons = codon_table.back_table(amino_acid)\n",
    "        \n",
    "        # Randomly choose one codon from the list (or you could choose the first one)\n",
    "        selected_codon = random.choice(possible_codons)\n",
    "        \n",
    "        # Append the selected codon to the codon sequence\n",
    "        codon_sequence.append(selected_codon)\n",
    "    \n",
    "    # Join the codons to form a gene sequence (DNA sequence)\n",
    "    gene_sequence = ''.join(codon_sequence)\n",
    "    \n",
    "    return gene_sequence\n",
    "\n",
    "# Example usage:\n",
    "protein_sequence = \"MTEYKLVVVGAGGVGKSALTIQLIQNHFVDEYD\"\n",
    "gene_sequence = protein_to_gene(protein_sequence)\n",
    "print(\"Gene Sequence (DNA):\", gene_sequence)\n"
   ]
  },
  {
   "cell_type": "markdown",
   "metadata": {},
   "source": [
    "GPT attempt 2:"
   ]
  },
  {
   "cell_type": "code",
   "execution_count": 51,
   "metadata": {},
   "outputs": [
    {
     "name": "stdout",
     "output_type": "stream",
     "text": [
      "amino_acid M\n",
      "None\n"
     ]
    },
    {
     "ename": "ValueError",
     "evalue": "No codon found for amino acid: M",
     "output_type": "error",
     "traceback": [
      "\u001B[0;31m---------------------------------------------------------------------------\u001B[0m",
      "\u001B[0;31mValueError\u001B[0m                                Traceback (most recent call last)",
      "Cell \u001B[0;32mIn[51], line 34\u001B[0m\n\u001B[1;32m     32\u001B[0m \u001B[38;5;66;03m# Example usage:\u001B[39;00m\n\u001B[1;32m     33\u001B[0m protein_sequence \u001B[38;5;241m=\u001B[39m \u001B[38;5;124m\"\u001B[39m\u001B[38;5;124mMTEYKLVVVGAGGVGKSALTIQLIQNHFVDEYD\u001B[39m\u001B[38;5;124m\"\u001B[39m\n\u001B[0;32m---> 34\u001B[0m gene_sequence \u001B[38;5;241m=\u001B[39m \u001B[43mprotein_to_gene\u001B[49m\u001B[43m(\u001B[49m\u001B[43mprotein_sequence\u001B[49m\u001B[43m)\u001B[49m\n\u001B[1;32m     35\u001B[0m \u001B[38;5;28mprint\u001B[39m(\u001B[38;5;124m\"\u001B[39m\u001B[38;5;124mGene Sequence (DNA):\u001B[39m\u001B[38;5;124m\"\u001B[39m, gene_sequence)\n",
      "Cell \u001B[0;32mIn[51], line 25\u001B[0m, in \u001B[0;36mprotein_to_gene\u001B[0;34m(protein_sequence)\u001B[0m\n\u001B[1;32m     23\u001B[0m         codon_sequence\u001B[38;5;241m.\u001B[39mappend(selected_codon)\n\u001B[1;32m     24\u001B[0m     \u001B[38;5;28;01melse\u001B[39;00m:\n\u001B[0;32m---> 25\u001B[0m         \u001B[38;5;28;01mraise\u001B[39;00m \u001B[38;5;167;01mValueError\u001B[39;00m(\u001B[38;5;124mf\u001B[39m\u001B[38;5;124m\"\u001B[39m\u001B[38;5;124mNo codon found for amino acid: \u001B[39m\u001B[38;5;132;01m{\u001B[39;00mamino_acid\u001B[38;5;132;01m}\u001B[39;00m\u001B[38;5;124m\"\u001B[39m)\n\u001B[1;32m     27\u001B[0m \u001B[38;5;66;03m# Join the codons to form a gene sequence (DNA sequence)\u001B[39;00m\n\u001B[1;32m     28\u001B[0m gene_sequence \u001B[38;5;241m=\u001B[39m \u001B[38;5;124m'\u001B[39m\u001B[38;5;124m'\u001B[39m\u001B[38;5;241m.\u001B[39mjoin(codon_sequence)\n",
      "\u001B[0;31mValueError\u001B[0m: No codon found for amino acid: M"
     ]
    }
   ],
   "source": [
    "from Bio.Seq import Seq\n",
    "from Bio.Data import CodonTable\n",
    "import random\n",
    "\n",
    "def protein_to_gene(protein_sequence):\n",
    "    # Get the standard codon table\n",
    "    codon_table = CodonTable.unambiguous_dna_by_id[1]\n",
    "\n",
    "    # Initialize an empty list for the codon sequence\n",
    "    codon_sequence = []\n",
    "    \n",
    "    # Iterate over each amino acid in the protein sequence\n",
    "    for amino_acid in protein_sequence:\n",
    "        print('amino_acid', amino_acid)\n",
    "        # Get a list of possible codons for the amino acid\n",
    "        possible_codons = codon_table.forward_table.get(amino_acid)\n",
    "        print(possible_codons)\n",
    "        # If there are possible codons, choose one (if not, handle accordingly)\n",
    "        if possible_codons:\n",
    "            # Randomly choose one codon from the list (or you could choose the first one)\n",
    "            selected_codon = random.choice(list(codon_table.back_table[amino_acid]))\n",
    "            # Append the selected codon to the codon sequence\n",
    "            codon_sequence.append(selected_codon)\n",
    "        else:\n",
    "            raise ValueError(f\"No codon found for amino acid: {amino_acid}\")\n",
    "    \n",
    "    # Join the codons to form a gene sequence (DNA sequence)\n",
    "    gene_sequence = ''.join(codon_sequence)\n",
    "    \n",
    "    return gene_sequence\n",
    "\n",
    "# Example usage:\n",
    "protein_sequence = \"MTEYKLVVVGAGGVGKSALTIQLIQNHFVDEYD\"\n",
    "gene_sequence = protein_to_gene(protein_sequence)\n",
    "print(\"Gene Sequence (DNA):\", gene_sequence)\n"
   ]
  },
  {
   "cell_type": "markdown",
   "metadata": {},
   "source": [
    "GPT attempt 3:"
   ]
  },
  {
   "cell_type": "code",
   "execution_count": 52,
   "metadata": {},
   "outputs": [
    {
     "name": "stdout",
     "output_type": "stream",
     "text": [
      "Gene Sequence (DNA): ATGACAGAATACAAACTTGTTGTCGTAGGAGCAGGTGGCGTTGGTAAGAGCGCATTGACTATCCAACTTATTCAAAATCACTTCGTTGATGAGTACGAT\n"
     ]
    }
   ],
   "source": [
    "from Bio.Data import CodonTable\n",
    "import random\n",
    "\n",
    "def protein_to_gene(protein_sequence):\n",
    "    # Get the standard codon table\n",
    "    codon_table = CodonTable.unambiguous_dna_by_id[1]\n",
    "    \n",
    "    # Create a dictionary to map amino acids to their possible codons\n",
    "    amino_acid_to_codons = {}\n",
    "    for codon, amino_acid in codon_table.forward_table.items():\n",
    "        if amino_acid not in amino_acid_to_codons:\n",
    "            amino_acid_to_codons[amino_acid] = []\n",
    "        amino_acid_to_codons[amino_acid].append(codon)\n",
    "\n",
    "    # Initialize an empty list for the codon sequence\n",
    "    codon_sequence = []\n",
    "    \n",
    "    # Iterate over each amino acid in the protein sequence\n",
    "    for amino_acid in protein_sequence:\n",
    "        # Get a list of possible codons for the amino acid\n",
    "        possible_codons = amino_acid_to_codons.get(amino_acid)\n",
    "        \n",
    "        # If there are possible codons, choose one\n",
    "        if possible_codons:\n",
    "            selected_codon = random.choice(possible_codons)\n",
    "            # Append the selected codon to the codon sequence\n",
    "            codon_sequence.append(selected_codon)\n",
    "        else:\n",
    "            raise ValueError(f\"No codon found for amino acid: {amino_acid}\")\n",
    "    \n",
    "    # Join the codons to form a gene sequence (DNA sequence)\n",
    "    gene_sequence = ''.join(codon_sequence)\n",
    "    \n",
    "    return gene_sequence\n",
    "\n",
    "# Example usage:\n",
    "protein_sequence = \"MTEYKLVVVGAGGVGKSALTIQLIQNHFVDEYD\"\n",
    "gene_sequence = protein_to_gene(protein_sequence)\n",
    "print(\"Gene Sequence (DNA):\", gene_sequence)\n"
   ]
  },
  {
   "cell_type": "markdown",
   "metadata": {},
   "source": [
    "##  Exercise 4 (optional)\n",
    "Use GPT to create an API interace with the EMBL EBI Proteins API to download their sequence for Actin and find the longest overlapping sequence with the one provided above. The accession number for actin is A0A015J624 and the base url is:\n",
    "https://www.ebi.ac.uk/proteins/api/proteins\n"
   ]
  },
  {
   "cell_type": "markdown",
   "metadata": {},
   "source": [
    "GPT attempt 1:"
   ]
  },
  {
   "cell_type": "code",
   "execution_count": 53,
   "metadata": {},
   "outputs": [
    {
     "name": "stderr",
     "output_type": "stream",
     "text": [
      "/opt/anaconda3/envs/molecular_informatics/lib/python3.11/site-packages/Bio/pairwise2.py:278: BiopythonDeprecationWarning: Bio.pairwise2 has been deprecated, and we intend to remove it in a future release of Biopython. As an alternative, please consider using Bio.Align.PairwiseAligner as a replacement, and contact the Biopython developers if you still need the Bio.pairwise2 module.\n",
      "  warnings.warn(\n"
     ]
    },
    {
     "name": "stdout",
     "output_type": "stream",
     "text": [
      "Actin Sequence (First 50 amino acids): MDDDIAALVVDNGSGMCKAGFAGDDAPRAVFPSIVGRPRHQGVMVGMGQK...\n",
      "Target Sequence (First 50 amino acids): MDDDIAALVVDNGSGMCKAGFAGDDAPRAVFPSIVGRPRHQGVMVGMGQK...\n",
      "Longest Overlapping Sequence: MDDDIAALVVDNGSGMCKAGFAGDDAPRAVFPSIVGRPRHQGVMVGMGQKDSYVGDEAQSKRGILTLKYPIEHGIVTNWDDMEKIWHHTFYNELRVAPEEHPVLLTEAPLNPKANREKMTQIMFETFNTPAMYVAIQAVLSLYASGRTTGIVMDSGDGVTHTVPIYEGYALPHAILRLDLAGRDLTDYLMKILTERGYSFTTTAEREIVRDIKEKLCYVALDFEQEMATAASSSSLEKSYELPDGQVITIGNERFRCPEALFQPSFLGMESCGIHETTFNSIMKCDVDIRKDLYANTVLSGGTTMYPGIADRMQKEITALAPSTMKIKIIAPPERKYSVWIGGSILASLSTFQQMWISKQEYDESGPSIVHRKCF\n"
     ]
    }
   ],
   "source": [
    "import requests\n",
    "from Bio.Seq import Seq\n",
    "from Bio import pairwise2\n",
    "from Bio.pairwise2 import format_alignment\n",
    "\n",
    "# EMBL-EBI Proteins API base URL\n",
    "BASE_URL = \"https://www.ebi.ac.uk/proteins/api/proteins/\"\n",
    "\n",
    "# Function to fetch protein sequence using UniProt ID\n",
    "def fetch_protein_sequence(uniprot_id):\n",
    "    url = f\"{BASE_URL}{uniprot_id}\"\n",
    "    response = requests.get(url, headers={\"Accept\": \"application/json\"})\n",
    "    if response.status_code == 200:\n",
    "        data = response.json()\n",
    "        sequence = data['sequence']['sequence']\n",
    "        return sequence\n",
    "    else:\n",
    "        raise Exception(f\"Failed to fetch sequence for UniProt ID {uniprot_id}: {response.status_code}\")\n",
    "\n",
    "# Provided Actin target sequence\n",
    "target_sequence = (\n",
    "    \"MDDDIAALVVDNGSGMCKAGFAGDDAPRAVFPSIVGRPRHQGVMVGMGQKDSYVGDEAQSKRGILTLKYPIEHGIVTNWDDMEKIWHHTFYNELRVAPEEHPVLLTEAPLNPKANREKMTQIMFETFNTPAMYVAIQAVLSLYASGRTTGIVMDSGDGVTHTVPIYEGYALPHAILRLDLAGRDLTDYLMKILTERGYSFTTTAEREIVRDIKEKLCYVALDFEQEMATAASSSSLEKSYELPDGQVITIGNERFRCPEALFQPSFLGMESCGIHETTFNSIMKCDVDIRKDLYANTVLSGGTTMYPGIADRMQKEITALAPSTMKIKIIAPPERKYSVWIGGSILASLSTFQQMWISKQEYDESGPSIVHRKCF\"\n",
    ")\n",
    "\n",
    "# Fetch Actin sequence from the EMBL-EBI Proteins API using the UniProt ID for human Actin\n",
    "# UniProt ID for human Actin is 'P60709'\n",
    "uniprot_id = 'P60709'\n",
    "actin_sequence = fetch_protein_sequence(uniprot_id)\n",
    "\n",
    "# Function to find the longest overlapping sequence between two sequences\n",
    "def find_longest_overlap(seq1, seq2):\n",
    "    alignments = pairwise2.align.globalxx(seq1, seq2)\n",
    "    longest_alignment = max(alignments, key=lambda x: x[2])  # Choose alignment with the highest score\n",
    "    aligned_seq1, aligned_seq2, score, start, end = longest_alignment\n",
    "    return aligned_seq1[start:end]\n",
    "\n",
    "# Finding the longest overlapping sequence between the fetched Actin sequence and the provided sequence\n",
    "longest_overlap = find_longest_overlap(actin_sequence, target_sequence)\n",
    "\n",
    "# Display the results\n",
    "print(f\"Actin Sequence (First 50 amino acids): {actin_sequence[:50]}...\")\n",
    "print(f\"Target Sequence (First 50 amino acids): {target_sequence[:50]}...\")\n",
    "print(f\"Longest Overlapping Sequence: {longest_overlap}\")\n"
   ]
  },
  {
   "cell_type": "code",
   "execution_count": 55,
   "metadata": {},
   "outputs": [
    {
     "name": "stdout",
     "output_type": "stream",
     "text": [
      "GC content of HuR gene: 65.24%\n"
     ]
    }
   ],
   "source": []
  }
 ],
 "metadata": {
  "anaconda-cloud": {},
  "kernelspec": {
   "display_name": "Python 3.7.9 ('my-rdkit-env')",
   "language": "python",
   "name": "python3"
  },
  "language_info": {
   "codemirror_mode": {
    "name": "ipython",
    "version": 3
   },
   "file_extension": ".py",
   "mimetype": "text/x-python",
   "name": "python",
   "nbconvert_exporter": "python",
   "pygments_lexer": "ipython3",
   "version": "3.11.9"
  },
  "vscode": {
   "interpreter": {
    "hash": "74b0eeecb9694be932ad336503137f0c047c9eb8ec8a4a235079c04fe56ee89e"
   }
  }
 },
 "nbformat": 4,
 "nbformat_minor": 1
}
