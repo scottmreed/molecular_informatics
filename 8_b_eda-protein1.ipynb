{
 "cells": [
  {
   "cell_type": "markdown",
   "id": "ab6c69ea-863d-4c96-882d-07c12d3df0f5",
   "metadata": {},
   "source": [
    "# Exploratory Data Analysis 1: <br><br> Concordance of Thyroid Hormone Receptor Activity in Rats and Humans"
   ]
  },
  {
   "cell_type": "markdown",
   "id": "4a3c88db-b320-4a70-9fe8-0ebb9fd422e4",
   "metadata": {
    "scrolled": true
   },
   "source": [
    "In the preclinical stage of drug development, drug candidates are tested against in non-human species.  One of the commonly used animals in the preclinical stage is rodents (e.g., mice and rats).  \n",
    "The underlying assumption here is that the bioactivity (e.g., toxicity and efficacy) of a drug candidate in animals is similar to its activity in humans.  \n",
    "\n",
    "In this notebook, we will look into the validity of this assumption by comparing the bioactivity data available in PubChem for human and rat thyroid hormone receptor."
   ]
  },
  {
   "cell_type": "markdown",
   "id": "4f5d2c3f-a774-4e12-9609-36033cfd928e",
   "metadata": {},
   "source": [
    "Let's import necessary libraries."
   ]
  },
  {
   "cell_type": "code",
   "id": "1a9ad7c3-feab-4d2b-858d-5e6727dafcbd",
   "metadata": {
    "ExecuteTime": {
     "end_time": "2025-10-07T20:19:25.167532Z",
     "start_time": "2025-10-07T20:19:25.105738Z"
    }
   },
   "source": [
    "#% pip install seaborn, scipy\n",
    "import pandas as pd\n",
    "import numpy as np\n",
    "import matplotlib.pyplot as plt\n",
    "import seaborn as sns\n",
    "import requests\n",
    "import os\n",
    "from scipy.stats import linregress\n",
    "#import time\n",
    "#import json"
   ],
   "outputs": [],
   "execution_count": 2
  },
  {
   "cell_type": "markdown",
   "id": "01037f42-da5c-49a5-b325-47368f76d116",
   "metadata": {},
   "source": [
    "## Checking the amount of available data"
   ]
  },
  {
   "cell_type": "markdown",
   "id": "0c8a3ff6-3dbc-4355-b83c-77a1951dccd9",
   "metadata": {},
   "source": [
    "This section focuses on assessing the availability of the bioactivity data for the thyroid hormone receptor in both human and rat models.  The data sets were downloaded (in August 2025) from the PubChem Protein summary pages for protein assesions  `NP_001257783` (rats) and `P10828` (humans).\n",
    "\n",
    "- `NP_001257783` (rats)  \n",
    "    https://pubchem.ncbi.nlm.nih.gov/protein/NP_001257783#section=Chemicals-and-Bioactivities  \n",
    "- `P10828` (humans)  \n",
    "    https://pubchem.ncbi.nlm.nih.gov/protein/P10828#section=Chemicals-and-Bioactivities  \n",
    "\n",
    "Similar data can be downloaded through the PUG REST endpoint in the next block"
   ]
  },
  {
   "metadata": {
    "ExecuteTime": {
     "end_time": "2025-10-07T20:19:53.553945Z",
     "start_time": "2025-10-07T20:19:35.521373Z"
    }
   },
   "cell_type": "code",
   "source": [
    "import io, time, requests, pandas as pd\n",
    "\n",
    "BASE = \"https://pubchem.ncbi.nlm.nih.gov/rest/pug\"\n",
    "HEADERS = {\"User-Agent\": \"pubchem-bioactivity/1.2 (+notebook)\"}\n",
    "\n",
    "GENE_SYMBOL = \"THRB\"       # thyroid hormone receptor beta\n",
    "ACCESSION   = \"P10828\"     # UniProt (human)\n",
    "ONLY_HUMAN  = True\n",
    "CHUNK       = 120          # AID chunk size for fallback path\n",
    "\n",
    "def _get(url, timeout=90):\n",
    "    r = requests.get(url, headers=HEADERS, timeout=timeout)\n",
    "    r.raise_for_status()\n",
    "    return r\n",
    "\n",
    "def _read_csv_text(txt):\n",
    "    return pd.read_csv(io.StringIO(txt), comment=\"#\", low_memory=False)\n",
    "\n",
    "def fetch_concise_by_gene_symbol(symbol: str) -> pd.DataFrame:\n",
    "    url = f\"{BASE}/assay/target/genesymbol/{symbol}/concise/CSV\"\n",
    "    return _read_csv_text(_get(url).text)\n",
    "\n",
    "def get_aids_for_accession(acc: str):\n",
    "    url = f\"{BASE}/assay/target/accession/{acc}/aids/JSON\"\n",
    "    j = _get(url).json()\n",
    "    aids = []\n",
    "    stack = [j]\n",
    "    while stack:\n",
    "        x = stack.pop()\n",
    "        if isinstance(x, dict):\n",
    "            for k,v in x.items():\n",
    "                if k.lower() in (\"aid\",\"aids\",\"aidlist\"):\n",
    "                    if isinstance(v, list):\n",
    "                        aids.extend(int(t) for t in v if str(t).isdigit())\n",
    "                    elif isinstance(v, (int,str)) and str(v).isdigit():\n",
    "                        aids.append(int(v))\n",
    "                else:\n",
    "                    stack.append(v)\n",
    "        elif isinstance(x, list):\n",
    "            stack.extend(x)\n",
    "    return sorted(set(aids))\n",
    "\n",
    "def fetch_concise_for_aids(aids, chunk=100):\n",
    "    out = []\n",
    "    for i in range(0, len(aids), chunk):\n",
    "        sl = aids[i:i+chunk]\n",
    "        url = f\"{BASE}/assay/aid/{','.join(map(str, sl))}/concise/CSV\"\n",
    "        time.sleep(0.2)\n",
    "        out.append(_read_csv_text(_get(url, timeout=120).text))\n",
    "    return pd.concat(out, ignore_index=True) if out else pd.DataFrame()\n",
    "\n",
    "def normalize(df: pd.DataFrame) -> pd.DataFrame:\n",
    "    # rename a few common columns for easier filtering\n",
    "    rename = {\n",
    "        \"Target TaxID\": \"target_taxid\",\n",
    "        \"Target Organism\": \"target_organism\",\n",
    "        \"Target Protein Accession\": \"target_protein_accession\",\n",
    "        \"Target GeneID\": \"target_geneid\",\n",
    "        \"Outcome\": \"activity_outcome\",\n",
    "        \"Activity\": \"activity_type\",\n",
    "        \"Activity_Value\": \"activity_value\",\n",
    "        \"Activity_Unit\": \"activity_unit\",\n",
    "        \"Assay Type\": \"assay_type\",\n",
    "        \"AID Name\": \"aid_name\",\n",
    "    }\n",
    "    for k,v in rename.items():\n",
    "        if k in df.columns: df = df.rename(columns={k:v})\n",
    "    # helpful boolean\n",
    "    if \"activity_outcome\" in df.columns:\n",
    "        df[\"is_active\"] = df[\"activity_outcome\"].astype(str).str.lower().eq(\"active\")\n",
    "    return df\n",
    "\n",
    "def filter_human_and_accession(df: pd.DataFrame, accession: str, only_human=True) -> pd.DataFrame:\n",
    "    out = df.copy()\n",
    "    if only_human:\n",
    "        if \"target_taxid\" in out.columns:\n",
    "            out = out[pd.to_numeric(out[\"target_taxid\"], errors=\"coerce\").eq(9606)]\n",
    "        elif \"target_organism\" in out.columns:\n",
    "            out = out[out[\"target_organism\"].astype(str).str.contains(\"Homo sapiens\", case=False, na=False)]\n",
    "    # narrow to the accession when present (ignore version suffixes)\n",
    "    if \"target_protein_accession\" in out.columns:\n",
    "        pat = rf\"^{accession}(?:\\.\\d+)?$\"\n",
    "        mask = out[\"target_protein_accession\"].astype(str).str.upper().str.match(pat, case=False, na=False)\n",
    "        if mask.any():\n",
    "            out = out[mask]\n",
    "    return out.reset_index(drop=True)\n",
    "\n",
    "try:\n",
    "    df = fetch_concise_by_gene_symbol(GENE_SYMBOL)\n",
    "    df = normalize(df)\n",
    "    df = filter_human_and_accession(df, ACCESSION, only_human=ONLY_HUMAN)\n",
    "    gene_ok = not df.empty\n",
    "except Exception:\n",
    "    gene_ok = False\n",
    "    df = pd.DataFrame()\n",
    "\n",
    "# --- fallback: accession → AIDs → concise (slower, but exact) ---\n",
    "if not gene_ok:\n",
    "    aids = get_aids_for_accession(ACCESSION)\n",
    "    if not aids:\n",
    "        raise SystemExit(f\"No AIDs found for accession {ACCESSION}.\")\n",
    "    df = fetch_concise_for_aids(aids, chunk=CHUNK)\n",
    "    df = normalize(df)\n",
    "    df = filter_human_and_accession(df, ACCESSION, only_human=ONLY_HUMAN)\n",
    "\n",
    "df = df.drop_duplicates().reset_index(drop=True)\n",
    "df.to_csv((os.path.join('data','pubchem_bioactivity_P10828_THRB.csv')), index=False)\n",
    "print(f\"Wrote {len(df):,} rows → pubchem_bioactivity_P10828_THRB.csv\")\n",
    "display(df.head(12))\n"
   ],
   "id": "b165035a59336b7b",
   "outputs": [
    {
     "name": "stdout",
     "output_type": "stream",
     "text": [
      "Wrote 1,195,151 rows → pubchem_bioactivity_P10828_THRB.csv\n"
     ]
    },
    {
     "data": {
      "text/plain": [
       "     AID     SID        CID Activity Outcome Target Accession  target_geneid  \\\n",
       "0   1469  842123  6602616.0         Inactive     NP_001121649         7068.0   \n",
       "1   1469  842124   644371.0         Inactive     NP_001121649         7068.0   \n",
       "2   1469  842131  6602565.0     Inconclusive     NP_001121649         7068.0   \n",
       "3   1469  842133   644388.0         Inactive     NP_001121649         7068.0   \n",
       "4   1469  842134   644390.0         Inactive     NP_001121649         7068.0   \n",
       "5   1469  842139   644395.0         Inactive     NP_001121649         7068.0   \n",
       "6   1469  842147   644403.0         Inactive     NP_001121649         7068.0   \n",
       "7   1469  842150   644406.0         Inactive     NP_001121649         7068.0   \n",
       "8   1469  842155   644411.0         Inactive     NP_001121649         7068.0   \n",
       "9   1469  842163   644419.0         Inactive     NP_001121649         7068.0   \n",
       "10  1469  842166   644422.0         Inactive     NP_001121649         7068.0   \n",
       "11  1469  842171   644427.0         Inactive     NP_001121649         7068.0   \n",
       "\n",
       "    Activity Value [uM] Activity Name  \\\n",
       "0                   NaN       Potency   \n",
       "1                   NaN       Potency   \n",
       "2                 100.0       Potency   \n",
       "3                   NaN       Potency   \n",
       "4                   NaN       Potency   \n",
       "5                   NaN       Potency   \n",
       "6                   NaN       Potency   \n",
       "7                   NaN       Potency   \n",
       "8                   NaN       Potency   \n",
       "9                   NaN       Potency   \n",
       "10                  NaN       Potency   \n",
       "11                  NaN       Potency   \n",
       "\n",
       "                                           Assay Name    assay_type  \\\n",
       "0   qHTS for Inhibitors of the Interaction of Thyr...  Confirmatory   \n",
       "1   qHTS for Inhibitors of the Interaction of Thyr...  Confirmatory   \n",
       "2   qHTS for Inhibitors of the Interaction of Thyr...  Confirmatory   \n",
       "3   qHTS for Inhibitors of the Interaction of Thyr...  Confirmatory   \n",
       "4   qHTS for Inhibitors of the Interaction of Thyr...  Confirmatory   \n",
       "5   qHTS for Inhibitors of the Interaction of Thyr...  Confirmatory   \n",
       "6   qHTS for Inhibitors of the Interaction of Thyr...  Confirmatory   \n",
       "7   qHTS for Inhibitors of the Interaction of Thyr...  Confirmatory   \n",
       "8   qHTS for Inhibitors of the Interaction of Thyr...  Confirmatory   \n",
       "9   qHTS for Inhibitors of the Interaction of Thyr...  Confirmatory   \n",
       "10  qHTS for Inhibitors of the Interaction of Thyr...  Confirmatory   \n",
       "11  qHTS for Inhibitors of the Interaction of Thyr...  Confirmatory   \n",
       "\n",
       "    PubMed ID  RNAi  \n",
       "0         NaN   NaN  \n",
       "1         NaN   NaN  \n",
       "2         NaN   NaN  \n",
       "3         NaN   NaN  \n",
       "4         NaN   NaN  \n",
       "5         NaN   NaN  \n",
       "6         NaN   NaN  \n",
       "7         NaN   NaN  \n",
       "8         NaN   NaN  \n",
       "9         NaN   NaN  \n",
       "10        NaN   NaN  \n",
       "11        NaN   NaN  "
      ],
      "text/html": [
       "<div>\n",
       "<style scoped>\n",
       "    .dataframe tbody tr th:only-of-type {\n",
       "        vertical-align: middle;\n",
       "    }\n",
       "\n",
       "    .dataframe tbody tr th {\n",
       "        vertical-align: top;\n",
       "    }\n",
       "\n",
       "    .dataframe thead th {\n",
       "        text-align: right;\n",
       "    }\n",
       "</style>\n",
       "<table border=\"1\" class=\"dataframe\">\n",
       "  <thead>\n",
       "    <tr style=\"text-align: right;\">\n",
       "      <th></th>\n",
       "      <th>AID</th>\n",
       "      <th>SID</th>\n",
       "      <th>CID</th>\n",
       "      <th>Activity Outcome</th>\n",
       "      <th>Target Accession</th>\n",
       "      <th>target_geneid</th>\n",
       "      <th>Activity Value [uM]</th>\n",
       "      <th>Activity Name</th>\n",
       "      <th>Assay Name</th>\n",
       "      <th>assay_type</th>\n",
       "      <th>PubMed ID</th>\n",
       "      <th>RNAi</th>\n",
       "    </tr>\n",
       "  </thead>\n",
       "  <tbody>\n",
       "    <tr>\n",
       "      <th>0</th>\n",
       "      <td>1469</td>\n",
       "      <td>842123</td>\n",
       "      <td>6602616.0</td>\n",
       "      <td>Inactive</td>\n",
       "      <td>NP_001121649</td>\n",
       "      <td>7068.0</td>\n",
       "      <td>NaN</td>\n",
       "      <td>Potency</td>\n",
       "      <td>qHTS for Inhibitors of the Interaction of Thyr...</td>\n",
       "      <td>Confirmatory</td>\n",
       "      <td>NaN</td>\n",
       "      <td>NaN</td>\n",
       "    </tr>\n",
       "    <tr>\n",
       "      <th>1</th>\n",
       "      <td>1469</td>\n",
       "      <td>842124</td>\n",
       "      <td>644371.0</td>\n",
       "      <td>Inactive</td>\n",
       "      <td>NP_001121649</td>\n",
       "      <td>7068.0</td>\n",
       "      <td>NaN</td>\n",
       "      <td>Potency</td>\n",
       "      <td>qHTS for Inhibitors of the Interaction of Thyr...</td>\n",
       "      <td>Confirmatory</td>\n",
       "      <td>NaN</td>\n",
       "      <td>NaN</td>\n",
       "    </tr>\n",
       "    <tr>\n",
       "      <th>2</th>\n",
       "      <td>1469</td>\n",
       "      <td>842131</td>\n",
       "      <td>6602565.0</td>\n",
       "      <td>Inconclusive</td>\n",
       "      <td>NP_001121649</td>\n",
       "      <td>7068.0</td>\n",
       "      <td>100.0</td>\n",
       "      <td>Potency</td>\n",
       "      <td>qHTS for Inhibitors of the Interaction of Thyr...</td>\n",
       "      <td>Confirmatory</td>\n",
       "      <td>NaN</td>\n",
       "      <td>NaN</td>\n",
       "    </tr>\n",
       "    <tr>\n",
       "      <th>3</th>\n",
       "      <td>1469</td>\n",
       "      <td>842133</td>\n",
       "      <td>644388.0</td>\n",
       "      <td>Inactive</td>\n",
       "      <td>NP_001121649</td>\n",
       "      <td>7068.0</td>\n",
       "      <td>NaN</td>\n",
       "      <td>Potency</td>\n",
       "      <td>qHTS for Inhibitors of the Interaction of Thyr...</td>\n",
       "      <td>Confirmatory</td>\n",
       "      <td>NaN</td>\n",
       "      <td>NaN</td>\n",
       "    </tr>\n",
       "    <tr>\n",
       "      <th>4</th>\n",
       "      <td>1469</td>\n",
       "      <td>842134</td>\n",
       "      <td>644390.0</td>\n",
       "      <td>Inactive</td>\n",
       "      <td>NP_001121649</td>\n",
       "      <td>7068.0</td>\n",
       "      <td>NaN</td>\n",
       "      <td>Potency</td>\n",
       "      <td>qHTS for Inhibitors of the Interaction of Thyr...</td>\n",
       "      <td>Confirmatory</td>\n",
       "      <td>NaN</td>\n",
       "      <td>NaN</td>\n",
       "    </tr>\n",
       "    <tr>\n",
       "      <th>5</th>\n",
       "      <td>1469</td>\n",
       "      <td>842139</td>\n",
       "      <td>644395.0</td>\n",
       "      <td>Inactive</td>\n",
       "      <td>NP_001121649</td>\n",
       "      <td>7068.0</td>\n",
       "      <td>NaN</td>\n",
       "      <td>Potency</td>\n",
       "      <td>qHTS for Inhibitors of the Interaction of Thyr...</td>\n",
       "      <td>Confirmatory</td>\n",
       "      <td>NaN</td>\n",
       "      <td>NaN</td>\n",
       "    </tr>\n",
       "    <tr>\n",
       "      <th>6</th>\n",
       "      <td>1469</td>\n",
       "      <td>842147</td>\n",
       "      <td>644403.0</td>\n",
       "      <td>Inactive</td>\n",
       "      <td>NP_001121649</td>\n",
       "      <td>7068.0</td>\n",
       "      <td>NaN</td>\n",
       "      <td>Potency</td>\n",
       "      <td>qHTS for Inhibitors of the Interaction of Thyr...</td>\n",
       "      <td>Confirmatory</td>\n",
       "      <td>NaN</td>\n",
       "      <td>NaN</td>\n",
       "    </tr>\n",
       "    <tr>\n",
       "      <th>7</th>\n",
       "      <td>1469</td>\n",
       "      <td>842150</td>\n",
       "      <td>644406.0</td>\n",
       "      <td>Inactive</td>\n",
       "      <td>NP_001121649</td>\n",
       "      <td>7068.0</td>\n",
       "      <td>NaN</td>\n",
       "      <td>Potency</td>\n",
       "      <td>qHTS for Inhibitors of the Interaction of Thyr...</td>\n",
       "      <td>Confirmatory</td>\n",
       "      <td>NaN</td>\n",
       "      <td>NaN</td>\n",
       "    </tr>\n",
       "    <tr>\n",
       "      <th>8</th>\n",
       "      <td>1469</td>\n",
       "      <td>842155</td>\n",
       "      <td>644411.0</td>\n",
       "      <td>Inactive</td>\n",
       "      <td>NP_001121649</td>\n",
       "      <td>7068.0</td>\n",
       "      <td>NaN</td>\n",
       "      <td>Potency</td>\n",
       "      <td>qHTS for Inhibitors of the Interaction of Thyr...</td>\n",
       "      <td>Confirmatory</td>\n",
       "      <td>NaN</td>\n",
       "      <td>NaN</td>\n",
       "    </tr>\n",
       "    <tr>\n",
       "      <th>9</th>\n",
       "      <td>1469</td>\n",
       "      <td>842163</td>\n",
       "      <td>644419.0</td>\n",
       "      <td>Inactive</td>\n",
       "      <td>NP_001121649</td>\n",
       "      <td>7068.0</td>\n",
       "      <td>NaN</td>\n",
       "      <td>Potency</td>\n",
       "      <td>qHTS for Inhibitors of the Interaction of Thyr...</td>\n",
       "      <td>Confirmatory</td>\n",
       "      <td>NaN</td>\n",
       "      <td>NaN</td>\n",
       "    </tr>\n",
       "    <tr>\n",
       "      <th>10</th>\n",
       "      <td>1469</td>\n",
       "      <td>842166</td>\n",
       "      <td>644422.0</td>\n",
       "      <td>Inactive</td>\n",
       "      <td>NP_001121649</td>\n",
       "      <td>7068.0</td>\n",
       "      <td>NaN</td>\n",
       "      <td>Potency</td>\n",
       "      <td>qHTS for Inhibitors of the Interaction of Thyr...</td>\n",
       "      <td>Confirmatory</td>\n",
       "      <td>NaN</td>\n",
       "      <td>NaN</td>\n",
       "    </tr>\n",
       "    <tr>\n",
       "      <th>11</th>\n",
       "      <td>1469</td>\n",
       "      <td>842171</td>\n",
       "      <td>644427.0</td>\n",
       "      <td>Inactive</td>\n",
       "      <td>NP_001121649</td>\n",
       "      <td>7068.0</td>\n",
       "      <td>NaN</td>\n",
       "      <td>Potency</td>\n",
       "      <td>qHTS for Inhibitors of the Interaction of Thyr...</td>\n",
       "      <td>Confirmatory</td>\n",
       "      <td>NaN</td>\n",
       "      <td>NaN</td>\n",
       "    </tr>\n",
       "  </tbody>\n",
       "</table>\n",
       "</div>"
      ]
     },
     "metadata": {},
     "output_type": "display_data"
    }
   ],
   "execution_count": 3
  },
  {
   "cell_type": "markdown",
   "id": "245857c1-9b63-4179-936a-847635f52eae",
   "metadata": {},
   "source": [
    "### Loading data for rat thyroid hormone receptor"
   ]
  },
  {
   "cell_type": "markdown",
   "id": "1bcb61e8-45ac-40c7-a594-4dd9eeb1876c",
   "metadata": {},
   "source": [
    "The following cells load and provide an initial exploration of the bioactivity data for the **rat thyroid hormone receptor**."
   ]
  },
  {
   "cell_type": "markdown",
   "id": "1647472a-96fa-4c78-bb81-978b8cb9c896",
   "metadata": {},
   "source": [
    "This cell defines the data type for the \"COMPOUND_CID\" column to ensure accurate data loading and to prevent memory-related issues."
   ]
  },
  {
   "cell_type": "code",
   "id": "a26a5a07-4e90-4daf-9ebb-fb80e47de468",
   "metadata": {
    "ExecuteTime": {
     "end_time": "2025-10-07T20:31:25.502909Z",
     "start_time": "2025-10-07T20:31:25.498192Z"
    }
   },
   "source": [
    "mydtype = {\"Compound_CID\" : \"Int64\"}\n",
    "#mydtype = {\"Compound_CID\" : \"Int64\", \"pmid\":\"Int64\", \"taxid\":\"object\", \"targettaxid\":\"object\"}"
   ],
   "outputs": [],
   "execution_count": 7
  },
  {
   "cell_type": "markdown",
   "id": "068f06bf-1914-47ae-932a-ec152f220d84",
   "metadata": {},
   "source": [
    "Now read a CSV file containing bioactivity data for the rat thyroid hormone receptorinto a pandas DataFrame and then displays the dimensions of the DataFrame."
   ]
  },
  {
   "cell_type": "code",
   "id": "50b907d0-5670-498b-8dee-b68d1d5cd07a",
   "metadata": {
    "ExecuteTime": {
     "end_time": "2025-10-07T20:34:01.625903Z",
     "start_time": "2025-10-07T20:34:01.528738Z"
    }
   },
   "source": [
    "df_rat = pd.read_csv(os.path.join('data','pubchem_protacxn_NP_001257783_bioactivity_protein.zip'), compression='zip', dtype=mydtype,low_memory=False)\n",
    "df_rat.shape"
   ],
   "outputs": [
    {
     "data": {
      "text/plain": [
       "(31458, 32)"
      ]
     },
     "execution_count": 11,
     "metadata": {},
     "output_type": "execute_result"
    }
   ],
   "execution_count": 11
  },
  {
   "cell_type": "markdown",
   "id": "5d9fdbef-ecd5-491c-ba77-34b5589c06da",
   "metadata": {
    "scrolled": true
   },
   "source": [
    "Display a first few rows of the rat bioactivity DataFrame to get a quick overview of the data's structure and content."
   ]
  },
  {
   "cell_type": "code",
   "id": "927c8f29-efae-409e-a8e1-95e622b0be37",
   "metadata": {
    "ExecuteTime": {
     "end_time": "2025-10-07T20:34:03.042035Z",
     "start_time": "2025-10-07T20:34:03.034867Z"
    }
   },
   "source": [
    "df_rat.head()"
   ],
   "outputs": [
    {
     "data": {
      "text/plain": [
       "   Bioactivity_ID Activity  BioAssay_AID  Substance_SID  Compound_CID  refsid  \\\n",
       "0       394010671   Active        743066      144203580          5920     NaN   \n",
       "1       394011094   Active        743066      144204055      92044441     NaN   \n",
       "2       394011748   Active        743066      144203868          5803     NaN   \n",
       "3       394012257   Active        743066      144204363        444795     NaN   \n",
       "4       394012468   Active        743066      144204799      57333099     NaN   \n",
       "\n",
       "   Gene_ID  PMID      Aid_Type  Last_Modified_Date  ...  \\\n",
       "0    24831   NaN  Confirmatory            20140820  ...   \n",
       "1    24831   NaN  Confirmatory            20140820  ...   \n",
       "2    24831   NaN  Confirmatory            20140820  ...   \n",
       "3    24831   NaN  Confirmatory            20140820  ...   \n",
       "4    24831   NaN  Confirmatory            20140820  ...   \n",
       "\n",
       "   Representative_Protein_Accession  Taxonomy_ID Cell_ID Target_Taxonomy_ID  \\\n",
       "0                      NP_001257783        10116     NaN                NaN   \n",
       "1                      NP_001257783        10116     NaN                NaN   \n",
       "2                      NP_001257783        10116     NaN                NaN   \n",
       "3                      NP_001257783        10116     NaN                NaN   \n",
       "4                      NP_001257783        10116     NaN                NaN   \n",
       "\n",
       "   Anatomy_ID  Anatomy dois pmcids pclids citations  \n",
       "0         NaN      NaN  NaN    NaN    NaN       NaN  \n",
       "1         NaN      NaN  NaN    NaN    NaN       NaN  \n",
       "2         NaN      NaN  NaN    NaN    NaN       NaN  \n",
       "3         NaN      NaN  NaN    NaN    NaN       NaN  \n",
       "4         NaN      NaN  NaN    NaN    NaN       NaN  \n",
       "\n",
       "[5 rows x 32 columns]"
      ],
      "text/html": [
       "<div>\n",
       "<style scoped>\n",
       "    .dataframe tbody tr th:only-of-type {\n",
       "        vertical-align: middle;\n",
       "    }\n",
       "\n",
       "    .dataframe tbody tr th {\n",
       "        vertical-align: top;\n",
       "    }\n",
       "\n",
       "    .dataframe thead th {\n",
       "        text-align: right;\n",
       "    }\n",
       "</style>\n",
       "<table border=\"1\" class=\"dataframe\">\n",
       "  <thead>\n",
       "    <tr style=\"text-align: right;\">\n",
       "      <th></th>\n",
       "      <th>Bioactivity_ID</th>\n",
       "      <th>Activity</th>\n",
       "      <th>BioAssay_AID</th>\n",
       "      <th>Substance_SID</th>\n",
       "      <th>Compound_CID</th>\n",
       "      <th>refsid</th>\n",
       "      <th>Gene_ID</th>\n",
       "      <th>PMID</th>\n",
       "      <th>Aid_Type</th>\n",
       "      <th>Last_Modified_Date</th>\n",
       "      <th>...</th>\n",
       "      <th>Representative_Protein_Accession</th>\n",
       "      <th>Taxonomy_ID</th>\n",
       "      <th>Cell_ID</th>\n",
       "      <th>Target_Taxonomy_ID</th>\n",
       "      <th>Anatomy_ID</th>\n",
       "      <th>Anatomy</th>\n",
       "      <th>dois</th>\n",
       "      <th>pmcids</th>\n",
       "      <th>pclids</th>\n",
       "      <th>citations</th>\n",
       "    </tr>\n",
       "  </thead>\n",
       "  <tbody>\n",
       "    <tr>\n",
       "      <th>0</th>\n",
       "      <td>394010671</td>\n",
       "      <td>Active</td>\n",
       "      <td>743066</td>\n",
       "      <td>144203580</td>\n",
       "      <td>5920</td>\n",
       "      <td>NaN</td>\n",
       "      <td>24831</td>\n",
       "      <td>NaN</td>\n",
       "      <td>Confirmatory</td>\n",
       "      <td>20140820</td>\n",
       "      <td>...</td>\n",
       "      <td>NP_001257783</td>\n",
       "      <td>10116</td>\n",
       "      <td>NaN</td>\n",
       "      <td>NaN</td>\n",
       "      <td>NaN</td>\n",
       "      <td>NaN</td>\n",
       "      <td>NaN</td>\n",
       "      <td>NaN</td>\n",
       "      <td>NaN</td>\n",
       "      <td>NaN</td>\n",
       "    </tr>\n",
       "    <tr>\n",
       "      <th>1</th>\n",
       "      <td>394011094</td>\n",
       "      <td>Active</td>\n",
       "      <td>743066</td>\n",
       "      <td>144204055</td>\n",
       "      <td>92044441</td>\n",
       "      <td>NaN</td>\n",
       "      <td>24831</td>\n",
       "      <td>NaN</td>\n",
       "      <td>Confirmatory</td>\n",
       "      <td>20140820</td>\n",
       "      <td>...</td>\n",
       "      <td>NP_001257783</td>\n",
       "      <td>10116</td>\n",
       "      <td>NaN</td>\n",
       "      <td>NaN</td>\n",
       "      <td>NaN</td>\n",
       "      <td>NaN</td>\n",
       "      <td>NaN</td>\n",
       "      <td>NaN</td>\n",
       "      <td>NaN</td>\n",
       "      <td>NaN</td>\n",
       "    </tr>\n",
       "    <tr>\n",
       "      <th>2</th>\n",
       "      <td>394011748</td>\n",
       "      <td>Active</td>\n",
       "      <td>743066</td>\n",
       "      <td>144203868</td>\n",
       "      <td>5803</td>\n",
       "      <td>NaN</td>\n",
       "      <td>24831</td>\n",
       "      <td>NaN</td>\n",
       "      <td>Confirmatory</td>\n",
       "      <td>20140820</td>\n",
       "      <td>...</td>\n",
       "      <td>NP_001257783</td>\n",
       "      <td>10116</td>\n",
       "      <td>NaN</td>\n",
       "      <td>NaN</td>\n",
       "      <td>NaN</td>\n",
       "      <td>NaN</td>\n",
       "      <td>NaN</td>\n",
       "      <td>NaN</td>\n",
       "      <td>NaN</td>\n",
       "      <td>NaN</td>\n",
       "    </tr>\n",
       "    <tr>\n",
       "      <th>3</th>\n",
       "      <td>394012257</td>\n",
       "      <td>Active</td>\n",
       "      <td>743066</td>\n",
       "      <td>144204363</td>\n",
       "      <td>444795</td>\n",
       "      <td>NaN</td>\n",
       "      <td>24831</td>\n",
       "      <td>NaN</td>\n",
       "      <td>Confirmatory</td>\n",
       "      <td>20140820</td>\n",
       "      <td>...</td>\n",
       "      <td>NP_001257783</td>\n",
       "      <td>10116</td>\n",
       "      <td>NaN</td>\n",
       "      <td>NaN</td>\n",
       "      <td>NaN</td>\n",
       "      <td>NaN</td>\n",
       "      <td>NaN</td>\n",
       "      <td>NaN</td>\n",
       "      <td>NaN</td>\n",
       "      <td>NaN</td>\n",
       "    </tr>\n",
       "    <tr>\n",
       "      <th>4</th>\n",
       "      <td>394012468</td>\n",
       "      <td>Active</td>\n",
       "      <td>743066</td>\n",
       "      <td>144204799</td>\n",
       "      <td>57333099</td>\n",
       "      <td>NaN</td>\n",
       "      <td>24831</td>\n",
       "      <td>NaN</td>\n",
       "      <td>Confirmatory</td>\n",
       "      <td>20140820</td>\n",
       "      <td>...</td>\n",
       "      <td>NP_001257783</td>\n",
       "      <td>10116</td>\n",
       "      <td>NaN</td>\n",
       "      <td>NaN</td>\n",
       "      <td>NaN</td>\n",
       "      <td>NaN</td>\n",
       "      <td>NaN</td>\n",
       "      <td>NaN</td>\n",
       "      <td>NaN</td>\n",
       "      <td>NaN</td>\n",
       "    </tr>\n",
       "  </tbody>\n",
       "</table>\n",
       "<p>5 rows × 32 columns</p>\n",
       "</div>"
      ]
     },
     "execution_count": 12,
     "metadata": {},
     "output_type": "execute_result"
    }
   ],
   "execution_count": 12
  },
  {
   "cell_type": "code",
   "id": "44590e18-fbe2-4b20-95ad-820193ba2683",
   "metadata": {},
   "source": "# df_rat.columns    # Uncomment to check the column names.",
   "outputs": [],
   "execution_count": null
  },
  {
   "cell_type": "markdown",
   "id": "4ec15956-706f-4baf-a9c1-0834038a0650",
   "metadata": {},
   "source": [
    "### Loading data for human thyroid hormone receptor"
   ]
  },
  {
   "cell_type": "markdown",
   "id": "f7d12d17-a950-4f0f-a862-e812ef713add",
   "metadata": {},
   "source": [
    "Now read a CSV file containing bioactivity data for the **human** thyroid hormone receptor into a pandas DataFrame, called `df_human`, and then displays the dimensions of the DataFrame."
   ]
  },
  {
   "cell_type": "code",
   "id": "7877242a-bef7-49fc-a1f7-6a2ec16f9f9d",
   "metadata": {
    "ExecuteTime": {
     "end_time": "2025-10-07T20:37:40.620278Z",
     "start_time": "2025-10-07T20:37:38.977672Z"
    }
   },
   "source": [
    "# Write your code here\n",
    "df_human = pd.read_csv(os.path.join('data','pubchem_protacxn_P10828_bioactivity_protein.zip'), compression='zip', dtype=mydtype,low_memory=False)\n",
    "df_human.shape"
   ],
   "outputs": [
    {
     "data": {
      "text/plain": [
       "(573448, 32)"
      ]
     },
     "execution_count": 16,
     "metadata": {},
     "output_type": "execute_result"
    }
   ],
   "execution_count": 16
  },
  {
   "cell_type": "markdown",
   "id": "e89fe8fc-632f-4530-b35a-19e8f2a6d1eb",
   "metadata": {},
   "source": [
    "Displays a first few rows of the new data frame."
   ]
  },
  {
   "cell_type": "code",
   "id": "8e4e0046-47b6-4470-a7ac-59a836cc43fc",
   "metadata": {
    "ExecuteTime": {
     "end_time": "2025-10-07T20:38:04.522987Z",
     "start_time": "2025-10-07T20:38:04.516973Z"
    }
   },
   "source": [
    "# Write your code here\n",
    "df_human.head()"
   ],
   "outputs": [
    {
     "data": {
      "text/plain": [
       "   Bioactivity_ID Activity  BioAssay_AID  Substance_SID  Compound_CID  refsid  \\\n",
       "0        88338908    Probe          2512       87550851       5184800     NaN   \n",
       "1        44621591   Active          1469       26756872        312145     NaN   \n",
       "2        44622194   Active          1469       26757448         13297     NaN   \n",
       "3        44622400   Active          1469       29215483       3856851     NaN   \n",
       "4        44622529   Active          1469       29215388          4139     NaN   \n",
       "\n",
       "   Gene_ID  PMID      Aid_Type  Last_Modified_Date  ...  \\\n",
       "0   7068.0   NaN       Summary            20110303  ...   \n",
       "1   7068.0   NaN  Confirmatory            20081231  ...   \n",
       "2   7068.0   NaN  Confirmatory            20081231  ...   \n",
       "3   7068.0   NaN  Confirmatory            20081231  ...   \n",
       "4   7068.0   NaN  Confirmatory            20081231  ...   \n",
       "\n",
       "   Representative_Protein_Accession  Taxonomy_ID Cell_ID Target_Taxonomy_ID  \\\n",
       "0                            P10828         9606     NaN                NaN   \n",
       "1                            P10828         9606     NaN                NaN   \n",
       "2                            P10828         9606     NaN                NaN   \n",
       "3                            P10828         9606     NaN                NaN   \n",
       "4                            P10828         9606     NaN                NaN   \n",
       "\n",
       "  Anatomy_ID  Anatomy dois pmcids pclids citations  \n",
       "0        NaN      NaN  NaN    NaN    NaN       NaN  \n",
       "1        NaN      NaN  NaN    NaN    NaN       NaN  \n",
       "2        NaN      NaN  NaN    NaN    NaN       NaN  \n",
       "3        NaN      NaN  NaN    NaN    NaN       NaN  \n",
       "4        NaN      NaN  NaN    NaN    NaN       NaN  \n",
       "\n",
       "[5 rows x 32 columns]"
      ],
      "text/html": [
       "<div>\n",
       "<style scoped>\n",
       "    .dataframe tbody tr th:only-of-type {\n",
       "        vertical-align: middle;\n",
       "    }\n",
       "\n",
       "    .dataframe tbody tr th {\n",
       "        vertical-align: top;\n",
       "    }\n",
       "\n",
       "    .dataframe thead th {\n",
       "        text-align: right;\n",
       "    }\n",
       "</style>\n",
       "<table border=\"1\" class=\"dataframe\">\n",
       "  <thead>\n",
       "    <tr style=\"text-align: right;\">\n",
       "      <th></th>\n",
       "      <th>Bioactivity_ID</th>\n",
       "      <th>Activity</th>\n",
       "      <th>BioAssay_AID</th>\n",
       "      <th>Substance_SID</th>\n",
       "      <th>Compound_CID</th>\n",
       "      <th>refsid</th>\n",
       "      <th>Gene_ID</th>\n",
       "      <th>PMID</th>\n",
       "      <th>Aid_Type</th>\n",
       "      <th>Last_Modified_Date</th>\n",
       "      <th>...</th>\n",
       "      <th>Representative_Protein_Accession</th>\n",
       "      <th>Taxonomy_ID</th>\n",
       "      <th>Cell_ID</th>\n",
       "      <th>Target_Taxonomy_ID</th>\n",
       "      <th>Anatomy_ID</th>\n",
       "      <th>Anatomy</th>\n",
       "      <th>dois</th>\n",
       "      <th>pmcids</th>\n",
       "      <th>pclids</th>\n",
       "      <th>citations</th>\n",
       "    </tr>\n",
       "  </thead>\n",
       "  <tbody>\n",
       "    <tr>\n",
       "      <th>0</th>\n",
       "      <td>88338908</td>\n",
       "      <td>Probe</td>\n",
       "      <td>2512</td>\n",
       "      <td>87550851</td>\n",
       "      <td>5184800</td>\n",
       "      <td>NaN</td>\n",
       "      <td>7068.0</td>\n",
       "      <td>NaN</td>\n",
       "      <td>Summary</td>\n",
       "      <td>20110303</td>\n",
       "      <td>...</td>\n",
       "      <td>P10828</td>\n",
       "      <td>9606</td>\n",
       "      <td>NaN</td>\n",
       "      <td>NaN</td>\n",
       "      <td>NaN</td>\n",
       "      <td>NaN</td>\n",
       "      <td>NaN</td>\n",
       "      <td>NaN</td>\n",
       "      <td>NaN</td>\n",
       "      <td>NaN</td>\n",
       "    </tr>\n",
       "    <tr>\n",
       "      <th>1</th>\n",
       "      <td>44621591</td>\n",
       "      <td>Active</td>\n",
       "      <td>1469</td>\n",
       "      <td>26756872</td>\n",
       "      <td>312145</td>\n",
       "      <td>NaN</td>\n",
       "      <td>7068.0</td>\n",
       "      <td>NaN</td>\n",
       "      <td>Confirmatory</td>\n",
       "      <td>20081231</td>\n",
       "      <td>...</td>\n",
       "      <td>P10828</td>\n",
       "      <td>9606</td>\n",
       "      <td>NaN</td>\n",
       "      <td>NaN</td>\n",
       "      <td>NaN</td>\n",
       "      <td>NaN</td>\n",
       "      <td>NaN</td>\n",
       "      <td>NaN</td>\n",
       "      <td>NaN</td>\n",
       "      <td>NaN</td>\n",
       "    </tr>\n",
       "    <tr>\n",
       "      <th>2</th>\n",
       "      <td>44622194</td>\n",
       "      <td>Active</td>\n",
       "      <td>1469</td>\n",
       "      <td>26757448</td>\n",
       "      <td>13297</td>\n",
       "      <td>NaN</td>\n",
       "      <td>7068.0</td>\n",
       "      <td>NaN</td>\n",
       "      <td>Confirmatory</td>\n",
       "      <td>20081231</td>\n",
       "      <td>...</td>\n",
       "      <td>P10828</td>\n",
       "      <td>9606</td>\n",
       "      <td>NaN</td>\n",
       "      <td>NaN</td>\n",
       "      <td>NaN</td>\n",
       "      <td>NaN</td>\n",
       "      <td>NaN</td>\n",
       "      <td>NaN</td>\n",
       "      <td>NaN</td>\n",
       "      <td>NaN</td>\n",
       "    </tr>\n",
       "    <tr>\n",
       "      <th>3</th>\n",
       "      <td>44622400</td>\n",
       "      <td>Active</td>\n",
       "      <td>1469</td>\n",
       "      <td>29215483</td>\n",
       "      <td>3856851</td>\n",
       "      <td>NaN</td>\n",
       "      <td>7068.0</td>\n",
       "      <td>NaN</td>\n",
       "      <td>Confirmatory</td>\n",
       "      <td>20081231</td>\n",
       "      <td>...</td>\n",
       "      <td>P10828</td>\n",
       "      <td>9606</td>\n",
       "      <td>NaN</td>\n",
       "      <td>NaN</td>\n",
       "      <td>NaN</td>\n",
       "      <td>NaN</td>\n",
       "      <td>NaN</td>\n",
       "      <td>NaN</td>\n",
       "      <td>NaN</td>\n",
       "      <td>NaN</td>\n",
       "    </tr>\n",
       "    <tr>\n",
       "      <th>4</th>\n",
       "      <td>44622529</td>\n",
       "      <td>Active</td>\n",
       "      <td>1469</td>\n",
       "      <td>29215388</td>\n",
       "      <td>4139</td>\n",
       "      <td>NaN</td>\n",
       "      <td>7068.0</td>\n",
       "      <td>NaN</td>\n",
       "      <td>Confirmatory</td>\n",
       "      <td>20081231</td>\n",
       "      <td>...</td>\n",
       "      <td>P10828</td>\n",
       "      <td>9606</td>\n",
       "      <td>NaN</td>\n",
       "      <td>NaN</td>\n",
       "      <td>NaN</td>\n",
       "      <td>NaN</td>\n",
       "      <td>NaN</td>\n",
       "      <td>NaN</td>\n",
       "      <td>NaN</td>\n",
       "      <td>NaN</td>\n",
       "    </tr>\n",
       "  </tbody>\n",
       "</table>\n",
       "<p>5 rows × 32 columns</p>\n",
       "</div>"
      ]
     },
     "execution_count": 17,
     "metadata": {},
     "output_type": "execute_result"
    }
   ],
   "execution_count": 17
  },
  {
   "cell_type": "code",
   "id": "fdb30bf5-9525-4bcd-83df-599c56025f6c",
   "metadata": {},
   "source": [
    "#df_human.columns    # Uncomment to check the column names."
   ],
   "outputs": [],
   "execution_count": null
  },
  {
   "cell_type": "markdown",
   "id": "47d8ae94-28f6-4f15-b9c5-b83c2e0823bf",
   "metadata": {},
   "source": [
    "### Checking the amount of available data"
   ]
  },
  {
   "cell_type": "markdown",
   "id": "bc6885ee-4934-4058-bab5-0d681f98cf50",
   "metadata": {},
   "source": [
    "Here, we compare the types of bioactivity data available for both rat and human thyroid hormone receptors."
   ]
  },
  {
   "cell_type": "markdown",
   "id": "a7e266bd-358a-440e-971d-8f011792d548",
   "metadata": {},
   "source": [
    "This cell counts the occurrences of each unique value in the 'Activity_Type' column of the rat bioactivity DataFrame."
   ]
  },
  {
   "cell_type": "code",
   "id": "0695c411-9a2e-4dd2-ba36-2689a34be597",
   "metadata": {
    "ExecuteTime": {
     "end_time": "2025-10-07T20:40:04.039784Z",
     "start_time": "2025-10-07T20:40:04.034137Z"
    }
   },
   "source": [
    "df_rat['Activity_Type'].value_counts(dropna=False)"
   ],
   "outputs": [
    {
     "data": {
      "text/plain": [
       "Activity_Type\n",
       "Potency    31458\n",
       "Name: count, dtype: int64"
      ]
     },
     "execution_count": 18,
     "metadata": {},
     "output_type": "execute_result"
    }
   ],
   "execution_count": 18
  },
  {
   "cell_type": "markdown",
   "id": "647b77ce-4f9b-4891-bbf0-d13428482931",
   "metadata": {},
   "source": [
    "Now get the occurrences of each unique value in the 'Activity_Type' column of the human bioactivity DataFrame."
   ]
  },
  {
   "cell_type": "code",
   "id": "91a12fab-8275-4a84-989f-7072626e34de",
   "metadata": {
    "ExecuteTime": {
     "end_time": "2025-10-07T20:41:13.812288Z",
     "start_time": "2025-10-07T20:41:13.804976Z"
    }
   },
   "source": [
    "# Write your own code here\n",
    "df_human['Activity_Type'].value_counts(dropna=False)"
   ],
   "outputs": [
    {
     "data": {
      "text/plain": [
       "Activity_Type\n",
       "Potency          571735\n",
       "IC50                812\n",
       "NaN                 399\n",
       "EC50                316\n",
       "Ki                  140\n",
       "Kd                   37\n",
       "Activity              7\n",
       "Concentration         1\n",
       "XC50                  1\n",
       "Name: count, dtype: int64"
      ]
     },
     "execution_count": 19,
     "metadata": {},
     "output_type": "execute_result"
    }
   ],
   "execution_count": 19
  },
  {
   "cell_type": "markdown",
   "id": "399f224e-94be-44ce-8c73-355aea1b2c5b",
   "metadata": {},
   "source": [
    "To compare the small-molecule bioactivity between rats and humans, we need to use the same activity measures.  The rat data set has only the potency values, while the human data has other types of activities (e.g., EC50, IC50, Ki, Kd, ...).  Because the potency is the only activity type available for **both** species, we will use the potency data for comparison."
   ]
  },
  {
   "cell_type": "markdown",
   "id": "546a3bba-baf5-4edf-8d88-3f08e48f8570",
   "metadata": {},
   "source": [
    "### Checking the available bioassays"
   ]
  },
  {
   "cell_type": "markdown",
   "id": "ccbf214a-24b0-4050-af7d-f489822bc2ce",
   "metadata": {},
   "source": [
    "This section identifies the unique bioassays in which the rat and human thyroid hormone receptor were targeted."
   ]
  },
  {
   "cell_type": "markdown",
   "id": "03481151-1377-454c-b4aa-0f5af6a489e3",
   "metadata": {},
   "source": [
    "First, let's get the number of unique AIDs for rat thyroid hormone receptor."
   ]
  },
  {
   "cell_type": "code",
   "id": "e1116b77-992b-444a-8f3a-311079d8b567",
   "metadata": {
    "ExecuteTime": {
     "end_time": "2025-10-07T20:41:37.544055Z",
     "start_time": "2025-10-07T20:41:37.539165Z"
    }
   },
   "source": [
    "df_rat['BioAssay_AID'].nunique()"
   ],
   "outputs": [
    {
     "data": {
      "text/plain": [
       "3"
      ]
     },
     "execution_count": 20,
     "metadata": {},
     "output_type": "execute_result"
    }
   ],
   "execution_count": 20
  },
  {
   "cell_type": "markdown",
   "id": "7ba1b772-159b-423d-bcb9-4546984f6e1a",
   "metadata": {},
   "source": [
    "Let's get the number of data points for rat thyroid hormone receptor."
   ]
  },
  {
   "cell_type": "code",
   "id": "4031ca1f-2bec-4b3f-b10a-059b59f80c81",
   "metadata": {
    "ExecuteTime": {
     "end_time": "2025-10-07T20:42:26.473047Z",
     "start_time": "2025-10-07T20:42:26.470117Z"
    }
   },
   "source": [
    "df_rat['BioAssay_AID'].value_counts()"
   ],
   "outputs": [
    {
     "data": {
      "text/plain": [
       "BioAssay_AID\n",
       "743066    10486\n",
       "743065    10486\n",
       "743067    10486\n",
       "Name: count, dtype: int64"
      ]
     },
     "execution_count": 21,
     "metadata": {},
     "output_type": "execute_result"
    }
   ],
   "execution_count": 21
  },
  {
   "cell_type": "markdown",
   "id": "9e39f542-490a-4780-b526-5e7bc3095b5c",
   "metadata": {},
   "source": [
    "Now check the number of unique assays and the number of data points for each unique assay for human thyroid hormone receptor."
   ]
  },
  {
   "cell_type": "code",
   "id": "ddf4304a-74d7-4df0-b414-89bfa4b223d3",
   "metadata": {
    "ExecuteTime": {
     "end_time": "2025-10-07T20:43:03.157275Z",
     "start_time": "2025-10-07T20:43:03.154049Z"
    }
   },
   "source": [
    "# Write your own code\n",
    "df_human['BioAssay_AID'].nunique()\n"
   ],
   "outputs": [
    {
     "data": {
      "text/plain": [
       "176"
      ]
     },
     "execution_count": 22,
     "metadata": {},
     "output_type": "execute_result"
    }
   ],
   "execution_count": 22
  },
  {
   "cell_type": "code",
   "id": "a8d9aabd-b51d-46f8-8e98-1549eeaf5f71",
   "metadata": {
    "ExecuteTime": {
     "end_time": "2025-10-07T20:43:14.551574Z",
     "start_time": "2025-10-07T20:43:14.546975Z"
    }
   },
   "source": [
    "# Write your own code\n",
    "df_human['BioAssay_AID'].value_counts()\n"
   ],
   "outputs": [
    {
     "data": {
      "text/plain": [
       "BioAssay_AID\n",
       "1479       282587\n",
       "1469       282587\n",
       "588547       2858\n",
       "588545       2858\n",
       "425882        147\n",
       "            ...  \n",
       "260888          1\n",
       "1192350         1\n",
       "1192365         1\n",
       "504934          1\n",
       "1192366         1\n",
       "Name: count, Length: 176, dtype: int64"
      ]
     },
     "execution_count": 23,
     "metadata": {},
     "output_type": "execute_result"
    }
   ],
   "execution_count": 23
  },
  {
   "cell_type": "markdown",
   "id": "5a2e35ed-953e-426b-a3cf-920e1eacd6c6",
   "metadata": {},
   "source": [
    "There are more than one hundred assays for human thyroid hormone receptor. However, we are interested in the assays with the **potency** values, because only the potency data is available for both rats and humans.  Therefore, let's focus on them."
   ]
  },
  {
   "cell_type": "code",
   "id": "f64b86a3-7448-41d8-9ce8-c4e676b83002",
   "metadata": {
    "ExecuteTime": {
     "end_time": "2025-10-07T20:43:30.659751Z",
     "start_time": "2025-10-07T20:43:30.646480Z"
    }
   },
   "source": [
    "df_rat[ df_rat['Activity_Type'] == 'Potency'][['BioAssay_AID', 'BioAssay_Name']].value_counts()"
   ],
   "outputs": [
    {
     "data": {
      "text/plain": [
       "BioAssay_AID  BioAssay_Name                                                                                            \n",
       "743065        qHTS assay to identify small molecule antagonists of the thyroid receptor (TR) signaling pathway             10486\n",
       "743066        qHTS assay to identify small molecule agonists of the thyroid receptor (TR) signaling pathway                10486\n",
       "743067        qHTS assay to identify small molecule antagonists of the thyroid receptor (TR) signaling pathway: Summary    10486\n",
       "Name: count, dtype: int64"
      ]
     },
     "execution_count": 24,
     "metadata": {},
     "output_type": "execute_result"
    }
   ],
   "execution_count": 24
  },
  {
   "cell_type": "code",
   "id": "e833b998-3bed-413d-bf08-8989b2469b91",
   "metadata": {
    "ExecuteTime": {
     "end_time": "2025-10-07T20:46:06.552343Z",
     "start_time": "2025-10-07T20:46:06.372742Z"
    }
   },
   "source": [
    "df_human[ df_human['Activity_Type'] == 'Potency'][['BioAssay_AID', 'BioAssay_Name']].value_counts()"
   ],
   "outputs": [
    {
     "data": {
      "text/plain": [
       "BioAssay_AID  BioAssay_Name                                                                                                                                                          \n",
       "1469          qHTS for Inhibitors of the Interaction of Thyroid Hormone Receptor and Steroid Receptor Coregulator 2                                                                      282587\n",
       "1479          Total Fluorescence Counterscreen for Inhibitors of the Interaction of Thyroid Hormone Receptor and Steroid Receptor Coregulator 2                                          282587\n",
       "588545        qHTS assay for small molecule agonists of thyroid hormone receptor beta signaling                                                                                            2858\n",
       "588547        qHTS assay for small molecule antagonists of thyroid hormone receptor beta signaling                                                                                         2858\n",
       "1570          Concentration Response Confirmation Assay for Inhibitors of the Interaction of Thyroid Hormone Receptor and Steroid Receptor Coregulator 2, Fluorescein Fluoroprobe           112\n",
       "1571          Total Fluorescence Confirmation Counterscreen for Inhibitors of the Interaction of Thyroid Hormone Receptor and Steroid Receptor Coregulator 2, Fluorescein Fluoroprobe       112\n",
       "1572          Total Fluorescence Confirmation Counterscreen for Inhibitors of the Interaction of Thyroid Hormone Receptor and Steroid Receptor Coregulator 2                                112\n",
       "1573          Concentration Response Confirmation Assay for Inhibitors of the Interaction of Thyroid Hormone Receptor and Steroid Receptor Coregulator 2                                    112\n",
       "1567          Cell-based Gene Reporter Secondary Assay to Characterize qHTS Inhibitors of the Interaction of Thyroid Hormone Receptor and Steroid Receptor Coregulator 2                    103\n",
       "1568          Cell Viability Secondary Assay to Characterize qHTS Inhibitors of the Interaction of Thyroid Hormone Receptor and Steroid Receptor Coregulator 2                              103\n",
       "2490          Secondary Confirmation Assay for Inhibitors of the Interaction of Thyroid Hormone Receptor and Steroid Receptor Coregulator 2, Texas Red Fluoroprobe                           68\n",
       "2479          Gene Reporter Secondary Assay for Inhibitors of the Interaction of Thyroid Hormone Receptor and Steroid Receptor Coregulator 2 in a Thyroid Receptor Assay                     64\n",
       "2444          Protein Interaction Secondary Assay for Inhibitors of the Interaction of Thyroid Hormone Receptor and Steroid Receptor Coregulator 2, Alpha Screen                             30\n",
       "2487          Secondary Confirmation Assay for Inhibitors of the Interaction of Thyroid Hormone Receptor and Steroid Receptor Coregulator 2, Fluorescein Fluoroprobe                         22\n",
       "2512          qHTS Assay for Inhibitors of the Interaction of Thyroid Hormone Receptor and Steroid Receptor Coregulator 2: Probe Summary                                                      6\n",
       "1485          Quantitative High-Throughput Screen for Inhibitors of the Interaction of Thyroid Hormone Receptor and Steroid Receptor Coregulator 2: Summary                                   1\n",
       "Name: count, dtype: int64"
      ]
     },
     "execution_count": 25,
     "metadata": {},
     "output_type": "execute_result"
    }
   ],
   "execution_count": 25
  },
  {
   "cell_type": "markdown",
   "id": "d70cec8e-2635-4198-be7d-c7bbae3dc500",
   "metadata": {},
   "source": [
    "Considering the title and the data point counts for the returned assays, the three assays for rat thyroid hormone receptor are high-throughput screening (HTS) assays.  Therefore, we also need HTS assays for human thyroid hormone receptor.  \n",
    "\n",
    "In the remaining part of this notebook, we will use the qHTS assays for antagonists of rat and human thyroid hormone receptors.  \n",
    "\n",
    "- [**AID 743065**](https://pubchem.ncbi.nlm.nih.gov/bioassay/743065): Confirmatory Assay (Antagonists)  \n",
    "- [**AID 588547**](https://pubchem.ncbi.nlm.nih.gov/bioassay/588547): Confirmatory (antagonists)  \n",
    "\n",
    "They were chosen based on the following considerations.  \n",
    "- The four assays for human thyroid hormone receptors with more than 1000 data points (i.e., 1469, 1479, 588547, 588545) are HTS screening.    \n",
    "- Strictly speaking, AIDs 1469 and 1479 are not targeting the human thyroid hormone receptor, but its interaction with steroid receptor coregulator.    \n",
    "- At the [summary page of **AID 743067**](https://pubchem.ncbi.nlm.nih.gov/bioassay/743067#section=Comment), it is explained that the assay summarizes from an confirmatory antagonist assay ([**AID 743065**](https://pubchem.ncbi.nlm.nih.gov/bioassay/743065)) and a cell viability counter screening ([**AID 743064**](https://pubchem.ncbi.nlm.nih.gov/bioassay/743064)).    \n",
    "- More active compounds were identified in the antagonist HTS assays for both species ([**AIDs 743065**](https::/pubchem.ncbi.nlm.nih.gov/bioassay/743065) and [**588547**](https::/pubchem.ncbi.nlm.nih.gov/bioassay/588547)), compared to the agonist assays ([**AIDs 743066**](https::/pubchem.ncbi.nlm.nih.gov/bioassay/743066) and [**588545**](https::/pubchem.ncbi.nlm.nih.gov/bioassay/588545)).    "
   ]
  },
  {
   "cell_type": "markdown",
   "id": "4f89482e-e863-4c86-8877-13f59c46a540",
   "metadata": {},
   "source": [
    "## Comparing HTS screening data for Rat and human"
   ]
  },
  {
   "cell_type": "markdown",
   "id": "1c2fe161-6746-4534-872c-6c6d668b8db2",
   "metadata": {},
   "source": [
    "The following section uses the quantitative HTS (qHTS) data for thyroid hormone receptor antagonsts.  The data files were downlonaded from their BioAssay record pages:\n",
    "\n",
    "- [**AID 743065**](https://pubchem.ncbi.nlm.nih.gov/bioassay/743065): Confirmatory Assay (Antagonists)  \n",
    "- [**AID 588547**](https://pubchem.ncbi.nlm.nih.gov/bioassay/588547): Confirmatory (antagonists)\n",
    "\n",
    "The names of the downloaded files are:"
   ]
  },
  {
   "cell_type": "markdown",
   "id": "da507944-52bd-4128-b253-a7f6080b4cbe",
   "metadata": {},
   "source": [
    "### Loading the HTS screening data for Rats"
   ]
  },
  {
   "cell_type": "markdown",
   "id": "5128d96d-5c44-452d-a15f-8baa6f8b16dc",
   "metadata": {},
   "source": [
    "Now let's load the HTS data for the rat thyroid hormone receptor.  \n",
    "- The data type for the `PUBCHEM_CID` column is explicitly specified to ensure it is read as an integer, which is important for accurate data handling.\n",
    "- The first 5 rows are skipped because they do not contain data, but meta data (e.g., the description of each column)."
   ]
  },
  {
   "cell_type": "code",
   "id": "7a7f91af-32eb-4468-9973-50ce0fdc9f46",
   "metadata": {
    "ExecuteTime": {
     "end_time": "2025-10-07T20:48:00.135954Z",
     "start_time": "2025-10-07T20:47:59.378071Z"
    }
   },
   "source": [
    "mydtype = {'PUBCHEM_CID':'Int64' }\n",
    "df_aid_rat = pd.read_csv(os.path.join('data','AID_743065_datatable_all.zip'), compression='zip', skiprows=[1,2,3,4,5], dtype=mydtype, low_memory=False)"
   ],
   "outputs": [],
   "execution_count": 27
  },
  {
   "cell_type": "code",
   "id": "a759c27f-46f1-47a9-9501-1b1b7b04ccd6",
   "metadata": {
    "ExecuteTime": {
     "end_time": "2025-10-07T20:48:06.685822Z",
     "start_time": "2025-10-07T20:48:06.676591Z"
    }
   },
   "source": [
    "df_aid_rat.head()"
   ],
   "outputs": [
    {
     "data": {
      "text/plain": [
       "   PUBCHEM_RESULT_TAG  PUBCHEM_SID  PUBCHEM_CID  \\\n",
       "0                   1    144203552     12850184   \n",
       "1                   2    144203553        89753   \n",
       "2                   3    144203554         9403   \n",
       "3                   4    144203555     13218779   \n",
       "4                   5    144203556       142766   \n",
       "\n",
       "                       PUBCHEM_EXT_DATASOURCE_SMILES PUBCHEM_ACTIVITY_OUTCOME  \\\n",
       "0  C(C(=O)[C@H]([C@@H]([C@H](C(=O)[O-])O)O)O)O.C(...                 Inactive   \n",
       "1  C([C@H]([C@H]([C@@H]([C@H](C(=O)[O-])O)O)O)O)O...                 Inactive   \n",
       "2  C[C@]12CC[C@H]3[C@H]([C@@H]1CC[C@@H]2OC(=O)CCC...             Inconclusive   \n",
       "3         C[C@@]12CC[C@@H](C1(C)C)C[C@H]2OC(=O)CSC#N                 Inactive   \n",
       "4    C1=CC=C(C(=C1)C(=O)O)O.C1=CC2=C(C(=C1)O)N=CC=C2                   Active   \n",
       "\n",
       "   PUBCHEM_ACTIVITY_SCORE                               PUBCHEM_ACTIVITY_URL  \\\n",
       "0                       0  http://assay.nih.gov/htsws/rest/display/tox21-...   \n",
       "1                       0  http://assay.nih.gov/htsws/rest/display/tox21-...   \n",
       "2                      10  http://assay.nih.gov/htsws/rest/display/tox21-...   \n",
       "3                       0  http://assay.nih.gov/htsws/rest/display/tox21-...   \n",
       "4                      83  http://assay.nih.gov/htsws/rest/display/tox21-...   \n",
       "\n",
       "   PUBCHEM_ASSAYDATA_COMMENT Phenotype-Replicate_1  Potency-Replicate_1  ...  \\\n",
       "0                        NaN              Inactive                  NaN  ...   \n",
       "1                        NaN              Inactive                  NaN  ...   \n",
       "2                        NaN             Inhibitor              33.4915  ...   \n",
       "3                        NaN              Inactive                  NaN  ...   \n",
       "4                        NaN             Inhibitor               8.4127  ...   \n",
       "\n",
       "   Activity at 0.762 uM-Replicate_46  Activity at 1.702 uM-Replicate_46  \\\n",
       "0                                NaN                                NaN   \n",
       "1                                NaN                                NaN   \n",
       "2                                NaN                                NaN   \n",
       "3                                NaN                                NaN   \n",
       "4                                NaN                                NaN   \n",
       "\n",
       "   Activity at 3.793 uM-Replicate_46 Activity at 8.439 uM-Replicate_46  \\\n",
       "0                                NaN                               NaN   \n",
       "1                                NaN                               NaN   \n",
       "2                                NaN                               NaN   \n",
       "3                                NaN                               NaN   \n",
       "4                                NaN                               NaN   \n",
       "\n",
       "   Activity at 18.15 uM-Replicate_46  Activity at 32.49 uM-Replicate_46  \\\n",
       "0                                NaN                                NaN   \n",
       "1                                NaN                                NaN   \n",
       "2                                NaN                                NaN   \n",
       "3                                NaN                                NaN   \n",
       "4                                NaN                                NaN   \n",
       "\n",
       "   Activity at 70.35 uM-Replicate_46  Activity at 94.96 uM-Replicate_46  \\\n",
       "0                                NaN                                NaN   \n",
       "1                                NaN                                NaN   \n",
       "2                                NaN                                NaN   \n",
       "3                                NaN                                NaN   \n",
       "4                                NaN                                NaN   \n",
       "\n",
       "   Activity at 260.0 uM-Replicate_46  Activity at 920.3 uM-Replicate_46  \n",
       "0                                NaN                                NaN  \n",
       "1                                NaN                                NaN  \n",
       "2                                NaN                                NaN  \n",
       "3                                NaN                                NaN  \n",
       "4                                NaN                                NaN  \n",
       "\n",
       "[5 rows x 1803 columns]"
      ],
      "text/html": [
       "<div>\n",
       "<style scoped>\n",
       "    .dataframe tbody tr th:only-of-type {\n",
       "        vertical-align: middle;\n",
       "    }\n",
       "\n",
       "    .dataframe tbody tr th {\n",
       "        vertical-align: top;\n",
       "    }\n",
       "\n",
       "    .dataframe thead th {\n",
       "        text-align: right;\n",
       "    }\n",
       "</style>\n",
       "<table border=\"1\" class=\"dataframe\">\n",
       "  <thead>\n",
       "    <tr style=\"text-align: right;\">\n",
       "      <th></th>\n",
       "      <th>PUBCHEM_RESULT_TAG</th>\n",
       "      <th>PUBCHEM_SID</th>\n",
       "      <th>PUBCHEM_CID</th>\n",
       "      <th>PUBCHEM_EXT_DATASOURCE_SMILES</th>\n",
       "      <th>PUBCHEM_ACTIVITY_OUTCOME</th>\n",
       "      <th>PUBCHEM_ACTIVITY_SCORE</th>\n",
       "      <th>PUBCHEM_ACTIVITY_URL</th>\n",
       "      <th>PUBCHEM_ASSAYDATA_COMMENT</th>\n",
       "      <th>Phenotype-Replicate_1</th>\n",
       "      <th>Potency-Replicate_1</th>\n",
       "      <th>...</th>\n",
       "      <th>Activity at 0.762 uM-Replicate_46</th>\n",
       "      <th>Activity at 1.702 uM-Replicate_46</th>\n",
       "      <th>Activity at 3.793 uM-Replicate_46</th>\n",
       "      <th>Activity at 8.439 uM-Replicate_46</th>\n",
       "      <th>Activity at 18.15 uM-Replicate_46</th>\n",
       "      <th>Activity at 32.49 uM-Replicate_46</th>\n",
       "      <th>Activity at 70.35 uM-Replicate_46</th>\n",
       "      <th>Activity at 94.96 uM-Replicate_46</th>\n",
       "      <th>Activity at 260.0 uM-Replicate_46</th>\n",
       "      <th>Activity at 920.3 uM-Replicate_46</th>\n",
       "    </tr>\n",
       "  </thead>\n",
       "  <tbody>\n",
       "    <tr>\n",
       "      <th>0</th>\n",
       "      <td>1</td>\n",
       "      <td>144203552</td>\n",
       "      <td>12850184</td>\n",
       "      <td>C(C(=O)[C@H]([C@@H]([C@H](C(=O)[O-])O)O)O)O.C(...</td>\n",
       "      <td>Inactive</td>\n",
       "      <td>0</td>\n",
       "      <td>http://assay.nih.gov/htsws/rest/display/tox21-...</td>\n",
       "      <td>NaN</td>\n",
       "      <td>Inactive</td>\n",
       "      <td>NaN</td>\n",
       "      <td>...</td>\n",
       "      <td>NaN</td>\n",
       "      <td>NaN</td>\n",
       "      <td>NaN</td>\n",
       "      <td>NaN</td>\n",
       "      <td>NaN</td>\n",
       "      <td>NaN</td>\n",
       "      <td>NaN</td>\n",
       "      <td>NaN</td>\n",
       "      <td>NaN</td>\n",
       "      <td>NaN</td>\n",
       "    </tr>\n",
       "    <tr>\n",
       "      <th>1</th>\n",
       "      <td>2</td>\n",
       "      <td>144203553</td>\n",
       "      <td>89753</td>\n",
       "      <td>C([C@H]([C@H]([C@@H]([C@H](C(=O)[O-])O)O)O)O)O...</td>\n",
       "      <td>Inactive</td>\n",
       "      <td>0</td>\n",
       "      <td>http://assay.nih.gov/htsws/rest/display/tox21-...</td>\n",
       "      <td>NaN</td>\n",
       "      <td>Inactive</td>\n",
       "      <td>NaN</td>\n",
       "      <td>...</td>\n",
       "      <td>NaN</td>\n",
       "      <td>NaN</td>\n",
       "      <td>NaN</td>\n",
       "      <td>NaN</td>\n",
       "      <td>NaN</td>\n",
       "      <td>NaN</td>\n",
       "      <td>NaN</td>\n",
       "      <td>NaN</td>\n",
       "      <td>NaN</td>\n",
       "      <td>NaN</td>\n",
       "    </tr>\n",
       "    <tr>\n",
       "      <th>2</th>\n",
       "      <td>3</td>\n",
       "      <td>144203554</td>\n",
       "      <td>9403</td>\n",
       "      <td>C[C@]12CC[C@H]3[C@H]([C@@H]1CC[C@@H]2OC(=O)CCC...</td>\n",
       "      <td>Inconclusive</td>\n",
       "      <td>10</td>\n",
       "      <td>http://assay.nih.gov/htsws/rest/display/tox21-...</td>\n",
       "      <td>NaN</td>\n",
       "      <td>Inhibitor</td>\n",
       "      <td>33.4915</td>\n",
       "      <td>...</td>\n",
       "      <td>NaN</td>\n",
       "      <td>NaN</td>\n",
       "      <td>NaN</td>\n",
       "      <td>NaN</td>\n",
       "      <td>NaN</td>\n",
       "      <td>NaN</td>\n",
       "      <td>NaN</td>\n",
       "      <td>NaN</td>\n",
       "      <td>NaN</td>\n",
       "      <td>NaN</td>\n",
       "    </tr>\n",
       "    <tr>\n",
       "      <th>3</th>\n",
       "      <td>4</td>\n",
       "      <td>144203555</td>\n",
       "      <td>13218779</td>\n",
       "      <td>C[C@@]12CC[C@@H](C1(C)C)C[C@H]2OC(=O)CSC#N</td>\n",
       "      <td>Inactive</td>\n",
       "      <td>0</td>\n",
       "      <td>http://assay.nih.gov/htsws/rest/display/tox21-...</td>\n",
       "      <td>NaN</td>\n",
       "      <td>Inactive</td>\n",
       "      <td>NaN</td>\n",
       "      <td>...</td>\n",
       "      <td>NaN</td>\n",
       "      <td>NaN</td>\n",
       "      <td>NaN</td>\n",
       "      <td>NaN</td>\n",
       "      <td>NaN</td>\n",
       "      <td>NaN</td>\n",
       "      <td>NaN</td>\n",
       "      <td>NaN</td>\n",
       "      <td>NaN</td>\n",
       "      <td>NaN</td>\n",
       "    </tr>\n",
       "    <tr>\n",
       "      <th>4</th>\n",
       "      <td>5</td>\n",
       "      <td>144203556</td>\n",
       "      <td>142766</td>\n",
       "      <td>C1=CC=C(C(=C1)C(=O)O)O.C1=CC2=C(C(=C1)O)N=CC=C2</td>\n",
       "      <td>Active</td>\n",
       "      <td>83</td>\n",
       "      <td>http://assay.nih.gov/htsws/rest/display/tox21-...</td>\n",
       "      <td>NaN</td>\n",
       "      <td>Inhibitor</td>\n",
       "      <td>8.4127</td>\n",
       "      <td>...</td>\n",
       "      <td>NaN</td>\n",
       "      <td>NaN</td>\n",
       "      <td>NaN</td>\n",
       "      <td>NaN</td>\n",
       "      <td>NaN</td>\n",
       "      <td>NaN</td>\n",
       "      <td>NaN</td>\n",
       "      <td>NaN</td>\n",
       "      <td>NaN</td>\n",
       "      <td>NaN</td>\n",
       "    </tr>\n",
       "  </tbody>\n",
       "</table>\n",
       "<p>5 rows × 1803 columns</p>\n",
       "</div>"
      ]
     },
     "execution_count": 28,
     "metadata": {},
     "output_type": "execute_result"
    }
   ],
   "execution_count": 28
  },
  {
   "cell_type": "code",
   "id": "a1580b81-42ae-4c17-8bda-e34ed32838b1",
   "metadata": {
    "ExecuteTime": {
     "end_time": "2025-10-07T20:49:18.962380Z",
     "start_time": "2025-10-07T20:49:18.960013Z"
    }
   },
   "source": [
    "df_aid_rat.shape"
   ],
   "outputs": [
    {
     "data": {
      "text/plain": [
       "(10486, 1803)"
      ]
     },
     "execution_count": 29,
     "metadata": {},
     "output_type": "execute_result"
    }
   ],
   "execution_count": 29
  },
  {
   "cell_type": "markdown",
   "id": "33db072c-6b41-403a-b727-43dc741fc46f",
   "metadata": {},
   "source": [
    "This data frame has many columns that don't have any values. The following cell removes those columns and displays the updated dimensions."
   ]
  },
  {
   "cell_type": "code",
   "id": "acfce54e-7ea9-48bc-8960-4267c6370452",
   "metadata": {
    "ExecuteTime": {
     "end_time": "2025-10-07T20:49:57.943815Z",
     "start_time": "2025-10-07T20:49:57.901706Z"
    }
   },
   "source": [
    "df_aid_rat = df_aid_rat.dropna(how='all', axis=1)\n",
    "df_aid_rat.shape"
   ],
   "outputs": [
    {
     "data": {
      "text/plain": [
       "(10486, 1414)"
      ]
     },
     "execution_count": 31,
     "metadata": {},
     "output_type": "execute_result"
    }
   ],
   "execution_count": 31
  },
  {
   "cell_type": "markdown",
   "id": "1d89007d-7603-4fdd-b25c-d1047cf1df6d",
   "metadata": {},
   "source": [
    "### Loading the HTS data for humans"
   ]
  },
  {
   "cell_type": "markdown",
   "id": "d6f2f2f7-a005-4c25-84f6-b6b6eefb5fd6",
   "metadata": {},
   "source": [
    "Now read the CSV file for the human HTS data into a dataframe called `df_aid_human`. Make sure to skip the initial descriptive rows and set the data type for 'PUBCHEM_CID' to 'Int64'."
   ]
  },
  {
   "cell_type": "code",
   "id": "a40ca909-432c-4e2c-84c1-f46610197e3f",
   "metadata": {
    "ExecuteTime": {
     "end_time": "2025-10-07T20:51:30.725689Z",
     "start_time": "2025-10-07T20:51:30.690641Z"
    }
   },
   "source": [
    "# Write your own code here.\n",
    "mydtype = {'PUBCHEM_CID':'Int64' }\n",
    "df_aid_human = pd.read_csv(os.path.join('data','AID_588547_datatable_all.zip'), compression='zip', skiprows=[1,2,3,4,5], dtype=mydtype, low_memory=False)"
   ],
   "outputs": [],
   "execution_count": 32
  },
  {
   "cell_type": "markdown",
   "id": "2055926a-1210-45fe-afbe-9a44fc35d617",
   "metadata": {},
   "source": [
    "Check a first few lines of the new data frame."
   ]
  },
  {
   "cell_type": "code",
   "id": "3683a94c-cbf7-4a9e-9954-5b44da1e4604",
   "metadata": {
    "ExecuteTime": {
     "end_time": "2025-10-07T20:51:41.201138Z",
     "start_time": "2025-10-07T20:51:41.194090Z"
    }
   },
   "source": [
    "# Write your own code here.\n",
    "df_aid_human.head()"
   ],
   "outputs": [
    {
     "data": {
      "text/plain": [
       "   PUBCHEM_RESULT_TAG  PUBCHEM_SID  PUBCHEM_CID  \\\n",
       "0                   1     26755270       457193   \n",
       "1                   2     26753707        15910   \n",
       "2                   3     50126368       443939   \n",
       "3                   4     17389073        62770   \n",
       "4                   5     17389199       443939   \n",
       "\n",
       "                       PUBCHEM_EXT_DATASOURCE_SMILES PUBCHEM_ACTIVITY_OUTCOME  \\\n",
       "0  C[C@@H]1[C@@H](C(=O)N[C@@H](C(=O)N2CCC[C@H]2C(...                   Active   \n",
       "1                C(#N)C1=C(C(=C(C(=C1Cl)Cl)Cl)C#N)Cl                   Active   \n",
       "2  C[C@H]1[C@H]([C@H](C[C@@H](O1)O[C@H]2C[C@@](CC...                   Active   \n",
       "3  C[C@H]1[C@H]([C@H](C[C@@H](O1)O[C@H]2C[C@@](CC...                   Active   \n",
       "4  C[C@H]1[C@H]([C@H](C[C@@H](O1)O[C@H]2C[C@@](CC...                   Active   \n",
       "\n",
       "   PUBCHEM_ACTIVITY_SCORE                               PUBCHEM_ACTIVITY_URL  \\\n",
       "0                      95  http://assay.nih.gov/htsws/rest/display/nucrec...   \n",
       "1                      85  http://assay.nih.gov/htsws/rest/display/nucrec...   \n",
       "2                      85  http://assay.nih.gov/htsws/rest/display/nucrec...   \n",
       "3                      84  http://assay.nih.gov/htsws/rest/display/nucrec...   \n",
       "4                      84  http://assay.nih.gov/htsws/rest/display/nucrec...   \n",
       "\n",
       "   PUBCHEM_ASSAYDATA_COMMENT  Phenotype  Potency  ...  \\\n",
       "0                        NaN  Inhibitor   0.0501  ...   \n",
       "1                        NaN  Inhibitor   2.5119  ...   \n",
       "2                        NaN  Inhibitor   4.4668  ...   \n",
       "3                        NaN  Inhibitor   5.0119  ...   \n",
       "4                        NaN  Inhibitor   5.6234  ...   \n",
       "\n",
       "   W530-Activity at 76.68 uM  W530-Activity at 182.0 uM  \\\n",
       "0                     3.9172                        NaN   \n",
       "1                    -6.4858                        NaN   \n",
       "2                    -0.0121                        NaN   \n",
       "3                    26.6503                        NaN   \n",
       "4                     4.8010                        NaN   \n",
       "\n",
       "  W530-Activity at 406.9 uM  W530-Activity at 909.9 uM  \\\n",
       "0                       NaN                        NaN   \n",
       "1                       NaN                        NaN   \n",
       "2                       NaN                        NaN   \n",
       "3                       NaN                        NaN   \n",
       "4                       NaN                        NaN   \n",
       "\n",
       "   W530-Activity at 2034.6 uM  W530-Activity at 4832.0 uM  \\\n",
       "0                         NaN                         NaN   \n",
       "1                         NaN                         NaN   \n",
       "2                         NaN                         NaN   \n",
       "3                         NaN                         NaN   \n",
       "4                         NaN                         NaN   \n",
       "\n",
       "   W530-Activity at 10804.6 uM  W530-Activity at 24159.8 uM  \\\n",
       "0                          NaN                          NaN   \n",
       "1                          NaN                          NaN   \n",
       "2                          NaN                          NaN   \n",
       "3                          NaN                          NaN   \n",
       "4                          NaN                          NaN   \n",
       "\n",
       "   W530-Activity at 54023.0 uM           Compound QC  \n",
       "0                          NaN  QC'd by SigmaAldrich  \n",
       "1                          NaN           QC'd by EPA  \n",
       "2                          NaN  QC'd by SigmaAldrich  \n",
       "3                          NaN     QC'd by NIEHS/NTP  \n",
       "4                          NaN     QC'd by NIEHS/NTP  \n",
       "\n",
       "[5 rows x 115 columns]"
      ],
      "text/html": [
       "<div>\n",
       "<style scoped>\n",
       "    .dataframe tbody tr th:only-of-type {\n",
       "        vertical-align: middle;\n",
       "    }\n",
       "\n",
       "    .dataframe tbody tr th {\n",
       "        vertical-align: top;\n",
       "    }\n",
       "\n",
       "    .dataframe thead th {\n",
       "        text-align: right;\n",
       "    }\n",
       "</style>\n",
       "<table border=\"1\" class=\"dataframe\">\n",
       "  <thead>\n",
       "    <tr style=\"text-align: right;\">\n",
       "      <th></th>\n",
       "      <th>PUBCHEM_RESULT_TAG</th>\n",
       "      <th>PUBCHEM_SID</th>\n",
       "      <th>PUBCHEM_CID</th>\n",
       "      <th>PUBCHEM_EXT_DATASOURCE_SMILES</th>\n",
       "      <th>PUBCHEM_ACTIVITY_OUTCOME</th>\n",
       "      <th>PUBCHEM_ACTIVITY_SCORE</th>\n",
       "      <th>PUBCHEM_ACTIVITY_URL</th>\n",
       "      <th>PUBCHEM_ASSAYDATA_COMMENT</th>\n",
       "      <th>Phenotype</th>\n",
       "      <th>Potency</th>\n",
       "      <th>...</th>\n",
       "      <th>W530-Activity at 76.68 uM</th>\n",
       "      <th>W530-Activity at 182.0 uM</th>\n",
       "      <th>W530-Activity at 406.9 uM</th>\n",
       "      <th>W530-Activity at 909.9 uM</th>\n",
       "      <th>W530-Activity at 2034.6 uM</th>\n",
       "      <th>W530-Activity at 4832.0 uM</th>\n",
       "      <th>W530-Activity at 10804.6 uM</th>\n",
       "      <th>W530-Activity at 24159.8 uM</th>\n",
       "      <th>W530-Activity at 54023.0 uM</th>\n",
       "      <th>Compound QC</th>\n",
       "    </tr>\n",
       "  </thead>\n",
       "  <tbody>\n",
       "    <tr>\n",
       "      <th>0</th>\n",
       "      <td>1</td>\n",
       "      <td>26755270</td>\n",
       "      <td>457193</td>\n",
       "      <td>C[C@@H]1[C@@H](C(=O)N[C@@H](C(=O)N2CCC[C@H]2C(...</td>\n",
       "      <td>Active</td>\n",
       "      <td>95</td>\n",
       "      <td>http://assay.nih.gov/htsws/rest/display/nucrec...</td>\n",
       "      <td>NaN</td>\n",
       "      <td>Inhibitor</td>\n",
       "      <td>0.0501</td>\n",
       "      <td>...</td>\n",
       "      <td>3.9172</td>\n",
       "      <td>NaN</td>\n",
       "      <td>NaN</td>\n",
       "      <td>NaN</td>\n",
       "      <td>NaN</td>\n",
       "      <td>NaN</td>\n",
       "      <td>NaN</td>\n",
       "      <td>NaN</td>\n",
       "      <td>NaN</td>\n",
       "      <td>QC'd by SigmaAldrich</td>\n",
       "    </tr>\n",
       "    <tr>\n",
       "      <th>1</th>\n",
       "      <td>2</td>\n",
       "      <td>26753707</td>\n",
       "      <td>15910</td>\n",
       "      <td>C(#N)C1=C(C(=C(C(=C1Cl)Cl)Cl)C#N)Cl</td>\n",
       "      <td>Active</td>\n",
       "      <td>85</td>\n",
       "      <td>http://assay.nih.gov/htsws/rest/display/nucrec...</td>\n",
       "      <td>NaN</td>\n",
       "      <td>Inhibitor</td>\n",
       "      <td>2.5119</td>\n",
       "      <td>...</td>\n",
       "      <td>-6.4858</td>\n",
       "      <td>NaN</td>\n",
       "      <td>NaN</td>\n",
       "      <td>NaN</td>\n",
       "      <td>NaN</td>\n",
       "      <td>NaN</td>\n",
       "      <td>NaN</td>\n",
       "      <td>NaN</td>\n",
       "      <td>NaN</td>\n",
       "      <td>QC'd by EPA</td>\n",
       "    </tr>\n",
       "    <tr>\n",
       "      <th>2</th>\n",
       "      <td>3</td>\n",
       "      <td>50126368</td>\n",
       "      <td>443939</td>\n",
       "      <td>C[C@H]1[C@H]([C@H](C[C@@H](O1)O[C@H]2C[C@@](CC...</td>\n",
       "      <td>Active</td>\n",
       "      <td>85</td>\n",
       "      <td>http://assay.nih.gov/htsws/rest/display/nucrec...</td>\n",
       "      <td>NaN</td>\n",
       "      <td>Inhibitor</td>\n",
       "      <td>4.4668</td>\n",
       "      <td>...</td>\n",
       "      <td>-0.0121</td>\n",
       "      <td>NaN</td>\n",
       "      <td>NaN</td>\n",
       "      <td>NaN</td>\n",
       "      <td>NaN</td>\n",
       "      <td>NaN</td>\n",
       "      <td>NaN</td>\n",
       "      <td>NaN</td>\n",
       "      <td>NaN</td>\n",
       "      <td>QC'd by SigmaAldrich</td>\n",
       "    </tr>\n",
       "    <tr>\n",
       "      <th>3</th>\n",
       "      <td>4</td>\n",
       "      <td>17389073</td>\n",
       "      <td>62770</td>\n",
       "      <td>C[C@H]1[C@H]([C@H](C[C@@H](O1)O[C@H]2C[C@@](CC...</td>\n",
       "      <td>Active</td>\n",
       "      <td>84</td>\n",
       "      <td>http://assay.nih.gov/htsws/rest/display/nucrec...</td>\n",
       "      <td>NaN</td>\n",
       "      <td>Inhibitor</td>\n",
       "      <td>5.0119</td>\n",
       "      <td>...</td>\n",
       "      <td>26.6503</td>\n",
       "      <td>NaN</td>\n",
       "      <td>NaN</td>\n",
       "      <td>NaN</td>\n",
       "      <td>NaN</td>\n",
       "      <td>NaN</td>\n",
       "      <td>NaN</td>\n",
       "      <td>NaN</td>\n",
       "      <td>NaN</td>\n",
       "      <td>QC'd by NIEHS/NTP</td>\n",
       "    </tr>\n",
       "    <tr>\n",
       "      <th>4</th>\n",
       "      <td>5</td>\n",
       "      <td>17389199</td>\n",
       "      <td>443939</td>\n",
       "      <td>C[C@H]1[C@H]([C@H](C[C@@H](O1)O[C@H]2C[C@@](CC...</td>\n",
       "      <td>Active</td>\n",
       "      <td>84</td>\n",
       "      <td>http://assay.nih.gov/htsws/rest/display/nucrec...</td>\n",
       "      <td>NaN</td>\n",
       "      <td>Inhibitor</td>\n",
       "      <td>5.6234</td>\n",
       "      <td>...</td>\n",
       "      <td>4.8010</td>\n",
       "      <td>NaN</td>\n",
       "      <td>NaN</td>\n",
       "      <td>NaN</td>\n",
       "      <td>NaN</td>\n",
       "      <td>NaN</td>\n",
       "      <td>NaN</td>\n",
       "      <td>NaN</td>\n",
       "      <td>NaN</td>\n",
       "      <td>QC'd by NIEHS/NTP</td>\n",
       "    </tr>\n",
       "  </tbody>\n",
       "</table>\n",
       "<p>5 rows × 115 columns</p>\n",
       "</div>"
      ]
     },
     "execution_count": 33,
     "metadata": {},
     "output_type": "execute_result"
    }
   ],
   "execution_count": 33
  },
  {
   "cell_type": "markdown",
   "id": "a58b1c33-7094-4b50-87fb-09c3f1723672",
   "metadata": {},
   "source": [
    "Displays the dimensions of the human HTS DataFrame."
   ]
  },
  {
   "cell_type": "code",
   "id": "d44263fc-ae71-4685-b701-4597b1d04b60",
   "metadata": {
    "ExecuteTime": {
     "end_time": "2025-10-07T20:52:51.128368Z",
     "start_time": "2025-10-07T20:52:51.119647Z"
    }
   },
   "source": [
    "# Write your own code here.\n",
    "df_aid_human.shape()"
   ],
   "outputs": [
    {
     "ename": "TypeError",
     "evalue": "'tuple' object is not callable",
     "output_type": "error",
     "traceback": [
      "\u001B[0;31m---------------------------------------------------------------------------\u001B[0m",
      "\u001B[0;31mTypeError\u001B[0m                                 Traceback (most recent call last)",
      "Cell \u001B[0;32mIn[35], line 2\u001B[0m\n\u001B[1;32m      1\u001B[0m \u001B[38;5;66;03m# Write your own code here.\u001B[39;00m\n\u001B[0;32m----> 2\u001B[0m df_aid_human\u001B[38;5;241m.\u001B[39mshape()\n",
      "\u001B[0;31mTypeError\u001B[0m: 'tuple' object is not callable"
     ]
    }
   ],
   "execution_count": 35
  },
  {
   "cell_type": "markdown",
   "id": "95552425-ab0c-48ba-bc64-62d0efd90d25",
   "metadata": {},
   "source": [
    "The following cell Remove the columns containing no values and displays the updated dimensions."
   ]
  },
  {
   "cell_type": "code",
   "id": "71632a18-5383-495e-b425-4a5affe63033",
   "metadata": {
    "ExecuteTime": {
     "end_time": "2025-10-07T20:53:48.740690Z",
     "start_time": "2025-10-07T20:53:48.736506Z"
    }
   },
   "source": [
    "# Write your own code here.\n",
    "df_aid_human = df_aid_human.dropna(how='all', axis=1)\n",
    "df_aid_human.shape"
   ],
   "outputs": [
    {
     "data": {
      "text/plain": [
       "(2858, 113)"
      ]
     },
     "execution_count": 36,
     "metadata": {},
     "output_type": "execute_result"
    }
   ],
   "execution_count": 36
  },
  {
   "cell_type": "markdown",
   "id": "fea90f1a-2b49-4a98-aebd-b2d5463eabfe",
   "metadata": {},
   "source": [
    "### Substance-level analysis"
   ]
  },
  {
   "cell_type": "markdown",
   "id": "511a2134-8aba-4a5d-b7af-a86c5318298b",
   "metadata": {},
   "source": [
    "This section compares the HTS data for rats and humans at the substance level"
   ]
  },
  {
   "cell_type": "code",
   "id": "ebd51326-22c8-4373-b7c0-300879630352",
   "metadata": {},
   "source": [
    "#df_aid_rat.columns    # Uncomment this line if you want to see what columns the data frame has."
   ],
   "outputs": [],
   "execution_count": null
  },
  {
   "cell_type": "code",
   "id": "3b7c733d-a7ef-42d9-9b03-be00cd644dcf",
   "metadata": {},
   "source": [
    "#df_aid_human.columns"
   ],
   "outputs": [],
   "execution_count": null
  },
  {
   "cell_type": "markdown",
   "id": "58ef71c2-c012-4666-8ecc-cdf6ece8159a",
   "metadata": {},
   "source": [
    "#### Activity outcomes and phenotypes"
   ]
  },
  {
   "cell_type": "markdown",
   "id": "af1e6e1d-1f18-40a6-aa56-be72cf3c55a5",
   "metadata": {},
   "source": [
    "This part of the analysis focuses on comparing the activity outcomes and observed phenotypes from the HTS data for both species."
   ]
  },
  {
   "cell_type": "markdown",
   "id": "c0007934-c2ea-4261-8c1b-a9909c1d4b47",
   "metadata": {},
   "source": [
    "First, let's generate two bar charts to visually compare the distribution of `PUBCHEM_ACTIVITY_OUTCOME` in the rat and human HTS datasets."
   ]
  },
  {
   "cell_type": "code",
   "id": "1071405f-038d-45c0-88c2-c6afc5ebf23b",
   "metadata": {
    "ExecuteTime": {
     "end_time": "2025-10-07T20:54:08.185292Z",
     "start_time": "2025-10-07T20:54:08.044251Z"
    }
   },
   "source": [
    "fig, axes = plt.subplots(1, 2, figsize=(10,4), sharey=True)\n",
    "sns.countplot(data=df_aid_rat, y='PUBCHEM_ACTIVITY_OUTCOME', ax=axes[0])\n",
    "sns.countplot(data=df_aid_human, y='PUBCHEM_ACTIVITY_OUTCOME', ax=axes[1])\n",
    "\n",
    "axes[0].set_xlabel(\"Number of Data Points (rat)\")\n",
    "axes[1].set_xlabel(\"Number of Data Points (human)\")\n",
    "\n",
    "for ax in axes :    # loop over each chart.\n",
    "\n",
    "    for container in ax.containers:\n",
    "        ax.bar_label(container)\n",
    "\n",
    "fig.tight_layout()"
   ],
   "outputs": [
    {
     "data": {
      "text/plain": [
       "<Figure size 1000x400 with 2 Axes>"
      ],
      "image/png": "[encoded data removed]"
     },
     "metadata": {},
     "output_type": "display_data"
    }
   ],
   "execution_count": 37
  },
  {
   "cell_type": "markdown",
   "id": "956c1a52-bede-4f2a-a3a5-148abb10c2ad",
   "metadata": {},
   "source": [
    "- The majority of the data points in the two data sets are declared in `Inactive`.\n",
    "- There are 1880 `Active` data points in the rat data set and 12 `Active` data points in the human data set."
   ]
  },
  {
   "cell_type": "markdown",
   "id": "3a20f563-71a4-40b0-9a5b-96102e02276b",
   "metadata": {},
   "source": [
    "Both data sets have a column containing information on the observed characteristics of the chemicals tested in the assays.  These columns are:  \n",
    "\n",
    "- `Phenotype-Replicate_1` for rats  \n",
    "- `Phenotype` for humans  \n",
    "\n",
    "It is worth mentioning that the column for rats is suffixed with `-Replicate_1`.  The rat data set contains data from repeated assay experiments, which are indicated as Replicate_1, Replicate_2, Replicate_3, and so on. For simplicity, we will use the data for `-Replicate_1`, but if we were to perform a stricter analysis, we should consider data from all replicates."
   ]
  },
  {
   "cell_type": "markdown",
   "id": "98e44484-f5c5-47ff-8154-ae699faaf53c",
   "metadata": {},
   "source": [
    "Now let's create two bar charts to compare the distribution of phenotypes ('Phenotype-Replicate_1' for rat and 'Phenotype' for human) across the two HTS datasets."
   ]
  },
  {
   "cell_type": "code",
   "id": "50fae342-54eb-4417-88d3-03ab3a03d2f0",
   "metadata": {},
   "source": [
    "# Write your own code\n"
   ],
   "outputs": [],
   "execution_count": null
  },
  {
   "cell_type": "markdown",
   "id": "30e4e10d-7a7b-4f0c-9d8b-e9125583fc57",
   "metadata": {
    "scrolled": true
   },
   "source": [
    "To find the relationship between the activity outcomes and phenotypes, let's count the occurrences of each unique combination of 'PUBCHEM_ACTIVITY_OUTCOME' and 'Phenotype-Replicate_1' in the **rat HTS data**."
   ]
  },
  {
   "cell_type": "code",
   "id": "5216a6dc-0c55-4735-b656-d567b78f1651",
   "metadata": {
    "ExecuteTime": {
     "end_time": "2025-10-07T20:54:46.878153Z",
     "start_time": "2025-10-07T20:54:46.872660Z"
    }
   },
   "source": [
    "df_aid_rat[['PUBCHEM_ACTIVITY_OUTCOME', 'Phenotype-Replicate_1' ]].value_counts()"
   ],
   "outputs": [
    {
     "data": {
      "text/plain": [
       "PUBCHEM_ACTIVITY_OUTCOME  Phenotype-Replicate_1\n",
       "Inactive                  Inactive                 7041\n",
       "Active                    Inhibitor                1880\n",
       "Inconclusive              Inhibitor                1038\n",
       "Inactive                  Activator                 527\n",
       "Name: count, dtype: int64"
      ]
     },
     "execution_count": 38,
     "metadata": {},
     "output_type": "execute_result"
    }
   ],
   "execution_count": 38
  },
  {
   "cell_type": "markdown",
   "id": "b4fa1195-bc43-44b7-b80f-34e2e2a1ec4a",
   "metadata": {},
   "source": [
    "Now counts the occurrences of each unique combination of 'PUBCHEM_ACTIVITY_OUTCOME' and 'Phenotype' in the **human HTS data**."
   ]
  },
  {
   "cell_type": "code",
   "id": "ff7512fc-3c4e-4124-a92a-4be9e94bf86e",
   "metadata": {
    "ExecuteTime": {
     "end_time": "2025-10-07T20:55:34.317497Z",
     "start_time": "2025-10-07T20:55:34.312577Z"
    }
   },
   "source": [
    "df_aid_human[['PUBCHEM_ACTIVITY_OUTCOME', 'Phenotype' ]].value_counts()"
   ],
   "outputs": [
    {
     "data": {
      "text/plain": [
       "PUBCHEM_ACTIVITY_OUTCOME  Phenotype   \n",
       "Inactive                  Inactive        2171\n",
       "Inconclusive              Inconclusive     451\n",
       "                          Cytotoxic        132\n",
       "                          Fluorescent       45\n",
       "                          Inhibitor         31\n",
       "                          Activator         16\n",
       "Active                    Inhibitor         12\n",
       "Name: count, dtype: int64"
      ]
     },
     "execution_count": 39,
     "metadata": {},
     "output_type": "execute_result"
    }
   ],
   "execution_count": 39
  },
  {
   "cell_type": "markdown",
   "id": "5f8ece1e-3a0c-4038-a122-1fc572136065",
   "metadata": {},
   "source": [
    "Get the same information using `.groupby()` and `.size()`"
   ]
  },
  {
   "cell_type": "code",
   "id": "0923e99d-4bfa-485b-9d54-cd9c4f541797",
   "metadata": {
    "ExecuteTime": {
     "end_time": "2025-10-07T20:55:49.995310Z",
     "start_time": "2025-10-07T20:55:49.991291Z"
    }
   },
   "source": [
    "df_aid_human.groupby(by=['PUBCHEM_ACTIVITY_OUTCOME', 'Phenotype']).size()"
   ],
   "outputs": [
    {
     "data": {
      "text/plain": [
       "PUBCHEM_ACTIVITY_OUTCOME  Phenotype   \n",
       "Active                    Inhibitor         12\n",
       "Inactive                  Inactive        2171\n",
       "Inconclusive              Activator         16\n",
       "                          Cytotoxic        132\n",
       "                          Fluorescent       45\n",
       "                          Inconclusive     451\n",
       "                          Inhibitor         31\n",
       "dtype: int64"
      ]
     },
     "execution_count": 40,
     "metadata": {},
     "output_type": "execute_result"
    }
   ],
   "execution_count": 40
  },
  {
   "cell_type": "markdown",
   "id": "89e90da3-cc4e-4dcb-a42a-c657a6c59518",
   "metadata": {},
   "source": [
    "There are several noteworthy things.\n",
    "\n",
    "- The objective of the two assays considered here (i.e., [AID 743065](https://pubchem.ncbi.nlm.nih.gov/bioassay/743065) and [AID 588547](https://pubchem.ncbi.nlm.nih.gov/bioassay/588547)) was to identify antagonists (i.e., inhibitors) of thyroid hormone receptor.  With that said, the chemicals with the `Activitor` phenotype (i.e., agonist) are not declared as `Active` because the activator identification was not the objective of the assays.  They are declared as `Inactive` in the rat data set and as `Inconclusive` in the human data set. Note that the two assays are different experiments and whether to view activators as inactive or inconclusive is up to those who performed the experiment.\n",
    "<br>  \n",
    "- In the human data set, the compounds with the \"inconclusive\" outcomes have additional phenotypes, including Cytotoxic, Flurescent, Inconclusive, Inhibitor and Activator.\n",
    "    - **cytotoxic**: some chemicals are so toxic that they kill cells.\n",
    "    - **fluorescent**: some assays measure the activity of a chemical against the target protein by measuring the change in the fluorescence intensity caused by the protein-ligand interaction. However, some chemicals can absorb light energy and emit light through flourescence even without interaction with the target proteins.\n",
    "    - inconclusive or inhibitor: some chemicals did not show a clear dose-response curve to compute the quantitative inhibitory activities (e.g., efficacy and potency), or did not show enough inhibitory activity."
   ]
  },
  {
   "cell_type": "markdown",
   "id": "017fe2cb-5c25-4d1e-9220-e7b3e1eb82b1",
   "metadata": {},
   "source": [
    "#### Efficacy"
   ]
  },
  {
   "cell_type": "markdown",
   "id": "d43b2e20-e91b-495f-9f24-2307d4de3f71",
   "metadata": {},
   "source": [
    "In this section, we compare the **efficacy** data from the HTS assays for both rat and human thyroid hormone receptors."
   ]
  },
  {
   "cell_type": "markdown",
   "id": "1716abb7-eacc-41b6-b5f1-00ad217b052b",
   "metadata": {},
   "source": [
    "First, let's generate two histograms to visualize and compare the distribution of efficacy values ('Efficacy-Replicate_1' for rat and 'Efficacy' for human) for different activity outcomes."
   ]
  },
  {
   "cell_type": "code",
   "id": "51a02eb0-eed1-4b37-9bf2-507dd587b2c0",
   "metadata": {
    "ExecuteTime": {
     "end_time": "2025-10-07T20:57:04.836602Z",
     "start_time": "2025-10-07T20:57:04.656314Z"
    }
   },
   "source": [
    "fig, axes = plt.subplots(1, 2, figsize=(10,4), sharey=True)\n",
    "\n",
    "sns.histplot(data=df_aid_rat, x='Efficacy-Replicate_1', hue='PUBCHEM_ACTIVITY_OUTCOME',ax=axes[0])\n",
    "sns.histplot(data=df_aid_human, x='Efficacy', hue='PUBCHEM_ACTIVITY_OUTCOME', ax=axes[1])\n",
    "\n",
    "axes[0].set_xlabel(\"Efficacy (%, rat)\")\n",
    "axes[1].set_xlabel(\"Efficacy (%, human)\")\n",
    "\n",
    "fig.tight_layout()"
   ],
   "outputs": [
    {
     "data": {
      "text/plain": [
       "<Figure size 1000x400 with 2 Axes>"
      ],
      "image/png": "[encoded data removed]"
     },
     "metadata": {},
     "output_type": "display_data"
    }
   ],
   "execution_count": 41
  },
  {
   "cell_type": "markdown",
   "id": "9f5b4f71-ba7e-4ecc-90e9-f57065011a77",
   "metadata": {},
   "source": [
    "This time, visualize the same data using strip plot."
   ]
  },
  {
   "cell_type": "code",
   "id": "75a8eb0d-329f-454f-8679-55ea4a674392",
   "metadata": {
    "ExecuteTime": {
     "end_time": "2025-10-07T20:58:29.120966Z",
     "start_time": "2025-10-07T20:58:28.997269Z"
    }
   },
   "source": [
    "fig, axes = plt.subplots(1, 2, figsize=(10,4), sharey=True)\n",
    "\n",
    "hue_order = ['Active',  'Inconclusive', 'Inactive']\n",
    "\n",
    "sns.stripplot(data=df_aid_rat, x='Efficacy-Replicate_1', y='PUBCHEM_ACTIVITY_OUTCOME', hue='PUBCHEM_ACTIVITY_OUTCOME', hue_order=hue_order, ax=axes[0])\n",
    "sns.stripplot(data=df_aid_human, x='Efficacy', y='PUBCHEM_ACTIVITY_OUTCOME', hue='PUBCHEM_ACTIVITY_OUTCOME', hue_order=hue_order, ax=axes[1])\n",
    "\n",
    "axes[0].set_xlabel(\"Efficacy (micro-M, rat)\")\n",
    "axes[1].set_xlabel(\"Efficacy (micro-M, human)\")"
   ],
   "outputs": [
    {
     "data": {
      "text/plain": [
       "Text(0.5, 0, 'Efficacy (micro-M, human)')"
      ]
     },
     "execution_count": 42,
     "metadata": {},
     "output_type": "execute_result"
    },
    {
     "data": {
      "text/plain": [
       "<Figure size 1000x400 with 2 Axes>"
      ],
      "image/png": "[encoded data removed]"
     },
     "metadata": {},
     "output_type": "display_data"
    }
   ],
   "execution_count": 42
  },
  {
   "cell_type": "markdown",
   "id": "a080aeee-5956-4d44-9553-a494a897d4f7",
   "metadata": {},
   "source": [
    "You can use box plots to visualize the minimum, maximum, median, and outliers of the efficacy values."
   ]
  },
  {
   "cell_type": "code",
   "id": "e9cb8122-a7e3-44e8-8f0c-a1204e506f8d",
   "metadata": {
    "ExecuteTime": {
     "end_time": "2025-10-07T20:59:28.652532Z",
     "start_time": "2025-10-07T20:59:28.510767Z"
    }
   },
   "source": [
    "fig, axes = plt.subplots(1, 2, figsize=(10,4), sharey=True)\n",
    "\n",
    "hue_order = ['Active',  'Inconclusive', 'Inactive']\n",
    "\n",
    "sns.boxplot(data=df_aid_rat, x='Efficacy-Replicate_1', y='PUBCHEM_ACTIVITY_OUTCOME', hue='PUBCHEM_ACTIVITY_OUTCOME', hue_order=hue_order, ax=axes[0])\n",
    "sns.boxplot(data=df_aid_human, x='Efficacy', y='PUBCHEM_ACTIVITY_OUTCOME', hue='PUBCHEM_ACTIVITY_OUTCOME', hue_order=hue_order, ax=axes[1])\n",
    "\n",
    "axes[0].set_xlabel(\"Efficacy (micro-M, rat)\")\n",
    "axes[1].set_xlabel(\"Efficacy (micro-M, human)\")"
   ],
   "outputs": [
    {
     "data": {
      "text/plain": [
       "Text(0.5, 0, 'Efficacy (micro-M, human)')"
      ]
     },
     "execution_count": 43,
     "metadata": {},
     "output_type": "execute_result"
    },
    {
     "data": {
      "text/plain": [
       "<Figure size 1000x400 with 2 Axes>"
      ],
      "image/png": "[encoded data removed]"
     },
     "metadata": {},
     "output_type": "display_data"
    }
   ],
   "execution_count": 43
  },
  {
   "cell_type": "markdown",
   "id": "86a49485-5ff0-494a-a4c3-24528c112e0a",
   "metadata": {},
   "source": [
    "The above histograms, strip plots, and box plots indicate that the assay against the **human** thyroid hormone receptor did not determine efficacy values for inactive compounds."
   ]
  },
  {
   "cell_type": "markdown",
   "id": "75d6372a-189d-4a5f-b4b9-41c027816262",
   "metadata": {},
   "source": [
    "#### Potency"
   ]
  },
  {
   "cell_type": "markdown",
   "id": "8ff37424-1a82-489c-8e6b-6ebf9973e9be",
   "metadata": {},
   "source": [
    "Now visualize the potency of the tested chemicals on the rat and human thyroid hormone receptors."
   ]
  },
  {
   "cell_type": "markdown",
   "id": "a8d46f41-643b-4537-859c-753873ac2d1d",
   "metadata": {},
   "source": [
    "Generate two histograms to visualize and compare the distribution of potency values for different activity outcomes in the rat and human HTS datasets."
   ]
  },
  {
   "cell_type": "code",
   "id": "dabf33d3-48e4-4312-8a9d-6fdce61f20f6",
   "metadata": {},
   "source": [
    "# Write your own code\n"
   ],
   "outputs": [],
   "execution_count": null
  },
  {
   "cell_type": "markdown",
   "id": "5ba02b35-70fb-4e9a-b68e-16444b203522",
   "metadata": {},
   "source": [
    "Generate two strip plots to visualize the potency values for different activity outcomes in the rat and human HTS datasets."
   ]
  },
  {
   "cell_type": "code",
   "id": "bd3bafe4-bf5c-4e27-926b-5265cfccb40d",
   "metadata": {},
   "source": [
    "# Write your own code\n"
   ],
   "outputs": [],
   "execution_count": null
  },
  {
   "cell_type": "markdown",
   "id": "499ca3ae-32bb-4126-9030-855db1bc48ad",
   "metadata": {},
   "source": [
    "Generate two box plots to visualize the potency data for different activity outcomes in the rat and human HTS datasets."
   ]
  },
  {
   "cell_type": "code",
   "id": "4947e906-dacc-4213-9c8a-5fbd7b686e39",
   "metadata": {},
   "source": [
    "# Write your own code\n"
   ],
   "outputs": [],
   "execution_count": null
  },
  {
   "cell_type": "markdown",
   "id": "b16d5114-d797-433b-9d18-24133bc7a33d",
   "metadata": {},
   "source": [
    "Compute the mean, median, minimum, maximum of the efficacy and potency values for the different outcomes of the **rat** data set."
   ]
  },
  {
   "cell_type": "code",
   "id": "09aaaa9b-f9da-4cf5-93fc-daf4994afe70",
   "metadata": {
    "ExecuteTime": {
     "end_time": "2025-10-07T21:02:15.647758Z",
     "start_time": "2025-10-07T21:02:15.639420Z"
    }
   },
   "source": [
    "df_aid_rat.groupby('PUBCHEM_ACTIVITY_OUTCOME')[['Efficacy-Replicate_1', 'Potency-Replicate_1']].mean()"
   ],
   "outputs": [
    {
     "data": {
      "text/plain": [
       "                          Efficacy-Replicate_1  Potency-Replicate_1\n",
       "PUBCHEM_ACTIVITY_OUTCOME                                           \n",
       "Active                              110.130054            22.882127\n",
       "Inactive                             50.140904            27.487615\n",
       "Inconclusive                         58.654658            43.571585"
      ],
      "text/html": [
       "<div>\n",
       "<style scoped>\n",
       "    .dataframe tbody tr th:only-of-type {\n",
       "        vertical-align: middle;\n",
       "    }\n",
       "\n",
       "    .dataframe tbody tr th {\n",
       "        vertical-align: top;\n",
       "    }\n",
       "\n",
       "    .dataframe thead th {\n",
       "        text-align: right;\n",
       "    }\n",
       "</style>\n",
       "<table border=\"1\" class=\"dataframe\">\n",
       "  <thead>\n",
       "    <tr style=\"text-align: right;\">\n",
       "      <th></th>\n",
       "      <th>Efficacy-Replicate_1</th>\n",
       "      <th>Potency-Replicate_1</th>\n",
       "    </tr>\n",
       "    <tr>\n",
       "      <th>PUBCHEM_ACTIVITY_OUTCOME</th>\n",
       "      <th></th>\n",
       "      <th></th>\n",
       "    </tr>\n",
       "  </thead>\n",
       "  <tbody>\n",
       "    <tr>\n",
       "      <th>Active</th>\n",
       "      <td>110.130054</td>\n",
       "      <td>22.882127</td>\n",
       "    </tr>\n",
       "    <tr>\n",
       "      <th>Inactive</th>\n",
       "      <td>50.140904</td>\n",
       "      <td>27.487615</td>\n",
       "    </tr>\n",
       "    <tr>\n",
       "      <th>Inconclusive</th>\n",
       "      <td>58.654658</td>\n",
       "      <td>43.571585</td>\n",
       "    </tr>\n",
       "  </tbody>\n",
       "</table>\n",
       "</div>"
      ]
     },
     "execution_count": 44,
     "metadata": {},
     "output_type": "execute_result"
    }
   ],
   "execution_count": 44
  },
  {
   "cell_type": "code",
   "id": "2ffdbc1f-1c7d-4142-a6c5-08d141100b4d",
   "metadata": {
    "ExecuteTime": {
     "end_time": "2025-10-07T21:02:41.746314Z",
     "start_time": "2025-10-07T21:02:41.741503Z"
    }
   },
   "source": [
    "df_aid_rat.groupby('PUBCHEM_ACTIVITY_OUTCOME')[['Efficacy-Replicate_1', 'Potency-Replicate_1']].median()"
   ],
   "outputs": [
    {
     "data": {
      "text/plain": [
       "                          Efficacy-Replicate_1  Potency-Replicate_1\n",
       "PUBCHEM_ACTIVITY_OUTCOME                                           \n",
       "Active                               113.98150             18.83360\n",
       "Inactive                              39.19415             24.44795\n",
       "Inconclusive                          49.11970             33.49150"
      ],
      "text/html": [
       "<div>\n",
       "<style scoped>\n",
       "    .dataframe tbody tr th:only-of-type {\n",
       "        vertical-align: middle;\n",
       "    }\n",
       "\n",
       "    .dataframe tbody tr th {\n",
       "        vertical-align: top;\n",
       "    }\n",
       "\n",
       "    .dataframe thead th {\n",
       "        text-align: right;\n",
       "    }\n",
       "</style>\n",
       "<table border=\"1\" class=\"dataframe\">\n",
       "  <thead>\n",
       "    <tr style=\"text-align: right;\">\n",
       "      <th></th>\n",
       "      <th>Efficacy-Replicate_1</th>\n",
       "      <th>Potency-Replicate_1</th>\n",
       "    </tr>\n",
       "    <tr>\n",
       "      <th>PUBCHEM_ACTIVITY_OUTCOME</th>\n",
       "      <th></th>\n",
       "      <th></th>\n",
       "    </tr>\n",
       "  </thead>\n",
       "  <tbody>\n",
       "    <tr>\n",
       "      <th>Active</th>\n",
       "      <td>113.98150</td>\n",
       "      <td>18.83360</td>\n",
       "    </tr>\n",
       "    <tr>\n",
       "      <th>Inactive</th>\n",
       "      <td>39.19415</td>\n",
       "      <td>24.44795</td>\n",
       "    </tr>\n",
       "    <tr>\n",
       "      <th>Inconclusive</th>\n",
       "      <td>49.11970</td>\n",
       "      <td>33.49150</td>\n",
       "    </tr>\n",
       "  </tbody>\n",
       "</table>\n",
       "</div>"
      ]
     },
     "execution_count": 45,
     "metadata": {},
     "output_type": "execute_result"
    }
   ],
   "execution_count": 45
  },
  {
   "cell_type": "code",
   "id": "2a078f5a-adc1-44cb-952e-02d8f7258dd5",
   "metadata": {
    "ExecuteTime": {
     "end_time": "2025-10-07T21:02:44.752558Z",
     "start_time": "2025-10-07T21:02:44.746327Z"
    }
   },
   "source": [
    "df_aid_rat.groupby('PUBCHEM_ACTIVITY_OUTCOME')[['Efficacy-Replicate_1', 'Potency-Replicate_1']].min()"
   ],
   "outputs": [
    {
     "data": {
      "text/plain": [
       "                          Efficacy-Replicate_1  Potency-Replicate_1\n",
       "PUBCHEM_ACTIVITY_OUTCOME                                           \n",
       "Active                                 49.0617               0.0007\n",
       "Inactive                               13.5294               0.0019\n",
       "Inconclusive                           19.5822               0.0033"
      ],
      "text/html": [
       "<div>\n",
       "<style scoped>\n",
       "    .dataframe tbody tr th:only-of-type {\n",
       "        vertical-align: middle;\n",
       "    }\n",
       "\n",
       "    .dataframe tbody tr th {\n",
       "        vertical-align: top;\n",
       "    }\n",
       "\n",
       "    .dataframe thead th {\n",
       "        text-align: right;\n",
       "    }\n",
       "</style>\n",
       "<table border=\"1\" class=\"dataframe\">\n",
       "  <thead>\n",
       "    <tr style=\"text-align: right;\">\n",
       "      <th></th>\n",
       "      <th>Efficacy-Replicate_1</th>\n",
       "      <th>Potency-Replicate_1</th>\n",
       "    </tr>\n",
       "    <tr>\n",
       "      <th>PUBCHEM_ACTIVITY_OUTCOME</th>\n",
       "      <th></th>\n",
       "      <th></th>\n",
       "    </tr>\n",
       "  </thead>\n",
       "  <tbody>\n",
       "    <tr>\n",
       "      <th>Active</th>\n",
       "      <td>49.0617</td>\n",
       "      <td>0.0007</td>\n",
       "    </tr>\n",
       "    <tr>\n",
       "      <th>Inactive</th>\n",
       "      <td>13.5294</td>\n",
       "      <td>0.0019</td>\n",
       "    </tr>\n",
       "    <tr>\n",
       "      <th>Inconclusive</th>\n",
       "      <td>19.5822</td>\n",
       "      <td>0.0033</td>\n",
       "    </tr>\n",
       "  </tbody>\n",
       "</table>\n",
       "</div>"
      ]
     },
     "execution_count": 46,
     "metadata": {},
     "output_type": "execute_result"
    }
   ],
   "execution_count": 46
  },
  {
   "cell_type": "code",
   "id": "5a44cc37-abca-4ce9-9128-e84ba01be264",
   "metadata": {
    "ExecuteTime": {
     "end_time": "2025-10-07T21:02:48.230326Z",
     "start_time": "2025-10-07T21:02:48.225391Z"
    }
   },
   "source": [
    "df_aid_rat.groupby('PUBCHEM_ACTIVITY_OUTCOME')[['Efficacy-Replicate_1', 'Potency-Replicate_1']].max()"
   ],
   "outputs": [
    {
     "data": {
      "text/plain": [
       "                          Efficacy-Replicate_1  Potency-Replicate_1\n",
       "PUBCHEM_ACTIVITY_OUTCOME                                           \n",
       "Active                                 246.592              159.683\n",
       "Inactive                               246.847              107.353\n",
       "Inconclusive                           199.769              343.762"
      ],
      "text/html": [
       "<div>\n",
       "<style scoped>\n",
       "    .dataframe tbody tr th:only-of-type {\n",
       "        vertical-align: middle;\n",
       "    }\n",
       "\n",
       "    .dataframe tbody tr th {\n",
       "        vertical-align: top;\n",
       "    }\n",
       "\n",
       "    .dataframe thead th {\n",
       "        text-align: right;\n",
       "    }\n",
       "</style>\n",
       "<table border=\"1\" class=\"dataframe\">\n",
       "  <thead>\n",
       "    <tr style=\"text-align: right;\">\n",
       "      <th></th>\n",
       "      <th>Efficacy-Replicate_1</th>\n",
       "      <th>Potency-Replicate_1</th>\n",
       "    </tr>\n",
       "    <tr>\n",
       "      <th>PUBCHEM_ACTIVITY_OUTCOME</th>\n",
       "      <th></th>\n",
       "      <th></th>\n",
       "    </tr>\n",
       "  </thead>\n",
       "  <tbody>\n",
       "    <tr>\n",
       "      <th>Active</th>\n",
       "      <td>246.592</td>\n",
       "      <td>159.683</td>\n",
       "    </tr>\n",
       "    <tr>\n",
       "      <th>Inactive</th>\n",
       "      <td>246.847</td>\n",
       "      <td>107.353</td>\n",
       "    </tr>\n",
       "    <tr>\n",
       "      <th>Inconclusive</th>\n",
       "      <td>199.769</td>\n",
       "      <td>343.762</td>\n",
       "    </tr>\n",
       "  </tbody>\n",
       "</table>\n",
       "</div>"
      ]
     },
     "execution_count": 47,
     "metadata": {},
     "output_type": "execute_result"
    }
   ],
   "execution_count": 47
  },
  {
   "cell_type": "markdown",
   "id": "fbec0221-48f0-4d95-9ae3-9681726fb1da",
   "metadata": {},
   "source": [
    "Compute the mean, median, minimum, maximum of the efficacy and potency values for the different outcomes of the **human** data set."
   ]
  },
  {
   "cell_type": "code",
   "id": "4071332e-046d-4ec0-9f3d-aeb56fd34be8",
   "metadata": {},
   "source": [
    "# Write your own code for mean\n"
   ],
   "outputs": [],
   "execution_count": null
  },
  {
   "cell_type": "code",
   "id": "7ef3c72e-e0da-427e-ac8e-59e180251267",
   "metadata": {},
   "source": [
    "# Write your own code for median\n"
   ],
   "outputs": [],
   "execution_count": null
  },
  {
   "cell_type": "code",
   "id": "4c09bd73-7653-45b8-adb3-cc7eb23ad4f0",
   "metadata": {},
   "source": [
    "# Write your own code for minimum\n"
   ],
   "outputs": [],
   "execution_count": null
  },
  {
   "cell_type": "code",
   "id": "561b1774-092f-4381-9e3f-1e7249318d99",
   "metadata": {},
   "source": [
    "# Write your own code for maximum\n"
   ],
   "outputs": [],
   "execution_count": null
  },
  {
   "cell_type": "markdown",
   "id": "3c8e4740-51a2-4146-8665-50003074a7bb",
   "metadata": {},
   "source": [
    "#### Efficacy vs Potency"
   ]
  },
  {
   "cell_type": "markdown",
   "id": "93674ed4-7052-4d03-8a9d-1c975bb0fdca",
   "metadata": {},
   "source": [
    "This section explores the relationship between the efficacy and potency of the tested compounds for both the rat and human thyroid hormone receptors.\n"
   ]
  },
  {
   "cell_type": "markdown",
   "id": "e8e556b1-8d4f-40b3-b7bd-d173fe64a7f8",
   "metadata": {},
   "source": [
    "The following code creates two scatter plots, one for the rat data and one for the human data, to visualize the relationship between potency and efficacy, with points colored by their activity outcome."
   ]
  },
  {
   "cell_type": "code",
   "id": "c074bcba-3b2d-4605-baa7-459eaed23394",
   "metadata": {
    "ExecuteTime": {
     "end_time": "2025-10-07T21:05:20.388275Z",
     "start_time": "2025-10-07T21:05:20.199404Z"
    }
   },
   "source": [
    "fig, axes = plt.subplots(1, 2, figsize=(10,4), sharey=False)\n",
    "\n",
    "hue_order = ['Active',  'Inconclusive', 'Inactive']\n",
    "\n",
    "sns.scatterplot(data=df_aid_rat, x='Potency-Replicate_1', y='Efficacy-Replicate_1', hue='PUBCHEM_ACTIVITY_OUTCOME', hue_order=hue_order, ax=axes[0])\n",
    "sns.scatterplot(data=df_aid_human, x='Potency', y='Efficacy', hue='PUBCHEM_ACTIVITY_OUTCOME', hue_order=hue_order, ax=axes[1])\n",
    "\n",
    "axes[0].set_xlabel(\"Potency (micro-M, rat)\")\n",
    "axes[1].set_xlabel(\"Potency (micro-M, human)\")\n",
    "\n",
    "axes[0].set_ylabel(\"Efficacy (%, rat)\")\n",
    "axes[1].set_ylabel(\"Efficacy (%, human)\")\n",
    "\n",
    "# Uncomment next three lines to limit the x-axis to 200.\n",
    "for ax in axes :    # loop over each panel\n",
    "   ax.set_xlim(0, 200)\n",
    "   ax.set_ylim(0, 200)"
   ],
   "outputs": [
    {
     "data": {
      "text/plain": [
       "<Figure size 1000x400 with 2 Axes>"
      ],
      "image/png": "[encoded data removed]"
     },
     "metadata": {},
     "output_type": "display_data"
    }
   ],
   "execution_count": 49
  },
  {
   "cell_type": "markdown",
   "id": "c185d581-dd87-4f2c-a1b3-885d2df0a685",
   "metadata": {},
   "source": [
    "### Compound-level Analysis"
   ]
  },
  {
   "cell_type": "markdown",
   "id": "94a86dfe-7b12-4778-b8c2-c39a173b933e",
   "metadata": {},
   "source": [
    "In PubChem, substances are chemical records provided by individual data contributors and compounds are unique chemical structures extracted from substance records.  \n",
    "In many assays, substances can be viewed as \"samples\" of chemicals.  A chemical can be tested in multiple samples containing that chemical in a single assay. The samples are not necessary the same as each other. For example, they may be different in terms of its concentration, temperature, solvent used, etc.  \n",
    "Therefore, if you want to determine the activity of a chemical, you may need to collapse the data from multiple samples (i.e., substances) into a single data point for the chemical.  "
   ]
  },
  {
   "cell_type": "markdown",
   "id": "c0165bc0-2338-40a9-9b84-eda97cda67b0",
   "metadata": {},
   "source": [
    "The code cells below checks how many unique compounds in the data set and how many of them are associated with multiple substances."
   ]
  },
  {
   "cell_type": "code",
   "id": "5e8bbda9-5e93-4458-b796-14b6f73d74df",
   "metadata": {
    "ExecuteTime": {
     "end_time": "2025-10-07T21:06:55.186925Z",
     "start_time": "2025-10-07T21:06:55.182825Z"
    }
   },
   "source": [
    "df_rat_cidcount = pd.DataFrame(df_aid_rat['PUBCHEM_CID'].value_counts()).reset_index()\n",
    "df_human_cidcount = pd.DataFrame(df_aid_human['PUBCHEM_CID'].value_counts()).reset_index()"
   ],
   "outputs": [],
   "execution_count": 50
  },
  {
   "cell_type": "code",
   "id": "cfd1c465-f7b4-4104-a8a7-640e896f87bd",
   "metadata": {
    "ExecuteTime": {
     "end_time": "2025-10-07T21:07:38.000761Z",
     "start_time": "2025-10-07T21:07:37.997390Z"
    }
   },
   "source": [
    "print(\"#-- Rat data set\")\n",
    "print(\"# CIDs in total                      :\", len(df_rat_cidcount) )\n",
    "print(\"# CIDs associated with multiple SIDs :\", len(df_rat_cidcount[df_rat_cidcount['count'] > 1]) )\n",
    "print(\"------------------------------------------------\")\n",
    "print(\"#-- Human data set\")\n",
    "print(\"# CIDs in total                      :\", len(df_human_cidcount) )\n",
    "print(\"# CIDs associated with multiple SIDs :\", len(df_human_cidcount[df_human_cidcount['count'] > 1]) )"
   ],
   "outputs": [
    {
     "name": "stdout",
     "output_type": "stream",
     "text": [
      "#-- Rat data set\n",
      "# CIDs in total                      : 8099\n",
      "# CIDs associated with multiple SIDs : 1871\n",
      "------------------------------------------------\n",
      "#-- Human data set\n",
      "# CIDs in total                      : 2325\n",
      "# CIDs associated with multiple SIDs : 464\n"
     ]
    }
   ],
   "execution_count": 51
  },
  {
   "cell_type": "markdown",
   "id": "fa64fbd9-aa01-4920-98e8-84dbfd7510ae",
   "metadata": {},
   "source": [
    "#### Aggregating substance data rats"
   ]
  },
  {
   "cell_type": "markdown",
   "id": "7b8bbd86-4610-40a6-add6-472183028e46",
   "metadata": {},
   "source": [
    "Now we aggregate the substance data for each unique compound (identified by its CID).\n",
    "\n",
    "This code groups the rat HTS data by 'PUBCHEM_CID' and store them in a data frame with three columns (`PUBCHEM_CID`, `Potency-Replicate_1`, and `Efficacy-Replicate_1`).  Note that some CIDs are associated with multiple SIDs, and hence, multiple activity values.  For those cases, we are going to take the average of the multiple activity values."
   ]
  },
  {
   "cell_type": "code",
   "id": "f56a51ca-a409-4ad3-8cce-36e05a91138d",
   "metadata": {
    "ExecuteTime": {
     "end_time": "2025-10-07T21:08:29.967467Z",
     "start_time": "2025-10-07T21:08:29.880481Z"
    }
   },
   "source": [
    "df_aid_rat_cid = df_aid_rat.groupby('PUBCHEM_CID').mean(numeric_only=True).reset_index()\n",
    "df_aid_rat_cid = df_aid_rat_cid[['PUBCHEM_CID', 'Potency-Replicate_1', 'Efficacy-Replicate_1']]"
   ],
   "outputs": [],
   "execution_count": 52
  },
  {
   "cell_type": "code",
   "id": "566b4f28-311a-451c-b1a6-1e3e49045987",
   "metadata": {
    "ExecuteTime": {
     "end_time": "2025-10-07T21:08:39.691408Z",
     "start_time": "2025-10-07T21:08:39.687081Z"
    }
   },
   "source": [
    "df_aid_rat_cid.head()"
   ],
   "outputs": [
    {
     "data": {
      "text/plain": [
       "   PUBCHEM_CID  Potency-Replicate_1  Efficacy-Replicate_1\n",
       "0            4                  NaN                   NaN\n",
       "1            6               4.6248              118.2025\n",
       "2           11                  NaN                   NaN\n",
       "3           13                  NaN                   NaN\n",
       "4           33                  NaN                   NaN"
      ],
      "text/html": [
       "<div>\n",
       "<style scoped>\n",
       "    .dataframe tbody tr th:only-of-type {\n",
       "        vertical-align: middle;\n",
       "    }\n",
       "\n",
       "    .dataframe tbody tr th {\n",
       "        vertical-align: top;\n",
       "    }\n",
       "\n",
       "    .dataframe thead th {\n",
       "        text-align: right;\n",
       "    }\n",
       "</style>\n",
       "<table border=\"1\" class=\"dataframe\">\n",
       "  <thead>\n",
       "    <tr style=\"text-align: right;\">\n",
       "      <th></th>\n",
       "      <th>PUBCHEM_CID</th>\n",
       "      <th>Potency-Replicate_1</th>\n",
       "      <th>Efficacy-Replicate_1</th>\n",
       "    </tr>\n",
       "  </thead>\n",
       "  <tbody>\n",
       "    <tr>\n",
       "      <th>0</th>\n",
       "      <td>4</td>\n",
       "      <td>NaN</td>\n",
       "      <td>NaN</td>\n",
       "    </tr>\n",
       "    <tr>\n",
       "      <th>1</th>\n",
       "      <td>6</td>\n",
       "      <td>4.6248</td>\n",
       "      <td>118.2025</td>\n",
       "    </tr>\n",
       "    <tr>\n",
       "      <th>2</th>\n",
       "      <td>11</td>\n",
       "      <td>NaN</td>\n",
       "      <td>NaN</td>\n",
       "    </tr>\n",
       "    <tr>\n",
       "      <th>3</th>\n",
       "      <td>13</td>\n",
       "      <td>NaN</td>\n",
       "      <td>NaN</td>\n",
       "    </tr>\n",
       "    <tr>\n",
       "      <th>4</th>\n",
       "      <td>33</td>\n",
       "      <td>NaN</td>\n",
       "      <td>NaN</td>\n",
       "    </tr>\n",
       "  </tbody>\n",
       "</table>\n",
       "</div>"
      ]
     },
     "execution_count": 53,
     "metadata": {},
     "output_type": "execute_result"
    }
   ],
   "execution_count": 53
  },
  {
   "cell_type": "markdown",
   "id": "cd95189c-9378-4d61-b229-a9e4926903b2",
   "metadata": {},
   "source": [
    "This code defines a function, `get_cid_outcome`, that determines a single activity outcome for each unique compound ID (CID) in a given DataFrame. If a compound has multiple, conflicting outcomes recorded, it is labeled as \"Conflicting\"."
   ]
  },
  {
   "cell_type": "code",
   "id": "62cb6a04-20f7-418a-8d98-4d36889f263f",
   "metadata": {
    "ExecuteTime": {
     "end_time": "2025-10-07T21:10:36.606744Z",
     "start_time": "2025-10-07T21:10:36.604280Z"
    }
   },
   "source": [
    "def get_cid_outcome(df) :\n",
    "\n",
    "    outcomes = {}\n",
    "\n",
    "    for cid in df['PUBCHEM_CID'].dropna().unique() :   # loop over unique CIDs (without Null)\n",
    "\n",
    "        outcome =\"\"\n",
    "    \n",
    "        unique_outcomes = df[ df['PUBCHEM_CID'] == cid ]['PUBCHEM_ACTIVITY_OUTCOME'].unique()\n",
    "    \n",
    "        if ( len(unique_outcomes) == 1 ) :\n",
    "            outcome = unique_outcomes[0]\n",
    "        elif ( len(unique_outcomes) > 1 ) :\n",
    "            outcome = \"Conflicting\"\n",
    "        else :\n",
    "            print(\"Warning: Something is wrong\", cid, unique_outcomes)\n",
    "\n",
    "        outcomes[ cid ] = outcome\n",
    "\n",
    "    df_outcomes = pd.DataFrame.from_dict(outcomes, orient='index', columns=['PUBCHEM_ACTIVITY_OUTCOME']).reset_index(names='PUBCHEM_CID')\n",
    "\n",
    "    return(df_outcomes)"
   ],
   "outputs": [],
   "execution_count": 54
  },
  {
   "cell_type": "markdown",
   "id": "798ddf0a-c96a-4fd7-b73d-44179414d35f",
   "metadata": {},
   "source": [
    "This line of code applies the get_cid_outcome function to the rat HTS data to generate a DataFrame that summarizes the activity outcome for each unique compound."
   ]
  },
  {
   "cell_type": "code",
   "id": "42f5e6a3-3da9-4eb9-ba54-6df587051bb5",
   "metadata": {
    "ExecuteTime": {
     "end_time": "2025-10-07T21:10:43.289499Z",
     "start_time": "2025-10-07T21:10:42.482596Z"
    }
   },
   "source": [
    "df_cid_outcome_rat = get_cid_outcome(df_aid_rat)"
   ],
   "outputs": [],
   "execution_count": 55
  },
  {
   "cell_type": "code",
   "id": "c1e5b9fb-9c91-458b-8777-2c2ff2ed6613",
   "metadata": {
    "ExecuteTime": {
     "end_time": "2025-10-07T21:10:44.288211Z",
     "start_time": "2025-10-07T21:10:44.284544Z"
    }
   },
   "source": [
    "df_cid_outcome_rat.head()"
   ],
   "outputs": [
    {
     "data": {
      "text/plain": [
       "   PUBCHEM_CID PUBCHEM_ACTIVITY_OUTCOME\n",
       "0     12850184                 Inactive\n",
       "1        89753                 Inactive\n",
       "2         9403             Inconclusive\n",
       "3     13218779                 Inactive\n",
       "4       142766                   Active"
      ],
      "text/html": [
       "<div>\n",
       "<style scoped>\n",
       "    .dataframe tbody tr th:only-of-type {\n",
       "        vertical-align: middle;\n",
       "    }\n",
       "\n",
       "    .dataframe tbody tr th {\n",
       "        vertical-align: top;\n",
       "    }\n",
       "\n",
       "    .dataframe thead th {\n",
       "        text-align: right;\n",
       "    }\n",
       "</style>\n",
       "<table border=\"1\" class=\"dataframe\">\n",
       "  <thead>\n",
       "    <tr style=\"text-align: right;\">\n",
       "      <th></th>\n",
       "      <th>PUBCHEM_CID</th>\n",
       "      <th>PUBCHEM_ACTIVITY_OUTCOME</th>\n",
       "    </tr>\n",
       "  </thead>\n",
       "  <tbody>\n",
       "    <tr>\n",
       "      <th>0</th>\n",
       "      <td>12850184</td>\n",
       "      <td>Inactive</td>\n",
       "    </tr>\n",
       "    <tr>\n",
       "      <th>1</th>\n",
       "      <td>89753</td>\n",
       "      <td>Inactive</td>\n",
       "    </tr>\n",
       "    <tr>\n",
       "      <th>2</th>\n",
       "      <td>9403</td>\n",
       "      <td>Inconclusive</td>\n",
       "    </tr>\n",
       "    <tr>\n",
       "      <th>3</th>\n",
       "      <td>13218779</td>\n",
       "      <td>Inactive</td>\n",
       "    </tr>\n",
       "    <tr>\n",
       "      <th>4</th>\n",
       "      <td>142766</td>\n",
       "      <td>Active</td>\n",
       "    </tr>\n",
       "  </tbody>\n",
       "</table>\n",
       "</div>"
      ]
     },
     "execution_count": 56,
     "metadata": {},
     "output_type": "execute_result"
    }
   ],
   "execution_count": 56
  },
  {
   "cell_type": "markdown",
   "id": "74de47d0-26d7-4334-b810-265ca4870c3d",
   "metadata": {},
   "source": [
    "Now let's merge the aggregated rat compound data (containing mean potency and efficacy) with the summarized compound outcomes."
   ]
  },
  {
   "cell_type": "code",
   "id": "07c81e83-5840-4798-8600-2f5a68311883",
   "metadata": {
    "ExecuteTime": {
     "end_time": "2025-10-07T21:10:49.585943Z",
     "start_time": "2025-10-07T21:10:49.579660Z"
    }
   },
   "source": [
    "df_aid_rat_cid = df_aid_rat_cid.merge(df_cid_outcome_rat, on='PUBCHEM_CID', how='left')"
   ],
   "outputs": [],
   "execution_count": 57
  },
  {
   "cell_type": "code",
   "id": "b109d5ab-d8cc-46f7-bd4d-4dc892c066e2",
   "metadata": {
    "ExecuteTime": {
     "end_time": "2025-10-07T21:10:51.174942Z",
     "start_time": "2025-10-07T21:10:51.170862Z"
    }
   },
   "source": [
    "df_aid_rat_cid.head()"
   ],
   "outputs": [
    {
     "data": {
      "text/plain": [
       "   PUBCHEM_CID  Potency-Replicate_1  Efficacy-Replicate_1  \\\n",
       "0            4                  NaN                   NaN   \n",
       "1            6               4.6248              118.2025   \n",
       "2           11                  NaN                   NaN   \n",
       "3           13                  NaN                   NaN   \n",
       "4           33                  NaN                   NaN   \n",
       "\n",
       "  PUBCHEM_ACTIVITY_OUTCOME  \n",
       "0                 Inactive  \n",
       "1                   Active  \n",
       "2                 Inactive  \n",
       "3                 Inactive  \n",
       "4                 Inactive  "
      ],
      "text/html": [
       "<div>\n",
       "<style scoped>\n",
       "    .dataframe tbody tr th:only-of-type {\n",
       "        vertical-align: middle;\n",
       "    }\n",
       "\n",
       "    .dataframe tbody tr th {\n",
       "        vertical-align: top;\n",
       "    }\n",
       "\n",
       "    .dataframe thead th {\n",
       "        text-align: right;\n",
       "    }\n",
       "</style>\n",
       "<table border=\"1\" class=\"dataframe\">\n",
       "  <thead>\n",
       "    <tr style=\"text-align: right;\">\n",
       "      <th></th>\n",
       "      <th>PUBCHEM_CID</th>\n",
       "      <th>Potency-Replicate_1</th>\n",
       "      <th>Efficacy-Replicate_1</th>\n",
       "      <th>PUBCHEM_ACTIVITY_OUTCOME</th>\n",
       "    </tr>\n",
       "  </thead>\n",
       "  <tbody>\n",
       "    <tr>\n",
       "      <th>0</th>\n",
       "      <td>4</td>\n",
       "      <td>NaN</td>\n",
       "      <td>NaN</td>\n",
       "      <td>Inactive</td>\n",
       "    </tr>\n",
       "    <tr>\n",
       "      <th>1</th>\n",
       "      <td>6</td>\n",
       "      <td>4.6248</td>\n",
       "      <td>118.2025</td>\n",
       "      <td>Active</td>\n",
       "    </tr>\n",
       "    <tr>\n",
       "      <th>2</th>\n",
       "      <td>11</td>\n",
       "      <td>NaN</td>\n",
       "      <td>NaN</td>\n",
       "      <td>Inactive</td>\n",
       "    </tr>\n",
       "    <tr>\n",
       "      <th>3</th>\n",
       "      <td>13</td>\n",
       "      <td>NaN</td>\n",
       "      <td>NaN</td>\n",
       "      <td>Inactive</td>\n",
       "    </tr>\n",
       "    <tr>\n",
       "      <th>4</th>\n",
       "      <td>33</td>\n",
       "      <td>NaN</td>\n",
       "      <td>NaN</td>\n",
       "      <td>Inactive</td>\n",
       "    </tr>\n",
       "  </tbody>\n",
       "</table>\n",
       "</div>"
      ]
     },
     "execution_count": 58,
     "metadata": {},
     "output_type": "execute_result"
    }
   ],
   "execution_count": 58
  },
  {
   "cell_type": "markdown",
   "id": "a13fc866-003b-411b-82e2-7f9f65758aab",
   "metadata": {},
   "source": [
    "This cell counts the occurrences of each unique 'PUBCHEM_ACTIVITY_OUTCOME' in the aggregated rat compound data."
   ]
  },
  {
   "cell_type": "code",
   "id": "6e7dbae3-4c7e-45f6-ab69-a4e1fb353d55",
   "metadata": {
    "ExecuteTime": {
     "end_time": "2025-10-07T21:10:56.316266Z",
     "start_time": "2025-10-07T21:10:56.312568Z"
    }
   },
   "source": [
    "df_aid_rat_cid['PUBCHEM_ACTIVITY_OUTCOME'].value_counts()"
   ],
   "outputs": [
    {
     "data": {
      "text/plain": [
       "PUBCHEM_ACTIVITY_OUTCOME\n",
       "Inactive        5745\n",
       "Active          1383\n",
       "Inconclusive     690\n",
       "Conflicting      281\n",
       "Name: count, dtype: int64"
      ]
     },
     "execution_count": 59,
     "metadata": {},
     "output_type": "execute_result"
    }
   ],
   "execution_count": 59
  },
  {
   "cell_type": "markdown",
   "id": "57375acb-2aa9-43cf-b127-a41724f5beca",
   "metadata": {},
   "source": "#### Aggregating substance data for humans"
  },
  {
   "cell_type": "markdown",
   "id": "fdd85bcd-40c4-466d-8f6e-9bd4933b8662",
   "metadata": {},
   "source": [
    "Now let's repeat the data aggregation process, this time for the human thyroid hormone receptor HTS data."
   ]
  },
  {
   "cell_type": "markdown",
   "id": "ff0e1342-71af-46ff-9562-463a41b2356a",
   "metadata": {},
   "source": [
    "Group the human HTS data by 'PUBCHEM_CID' and store the mean efficacy and potency values in a data frame called 'df_aid_human_cid'."
   ]
  },
  {
   "cell_type": "code",
   "id": "dfa3849e-54b6-420d-8269-9a9d3fb8e8e4",
   "metadata": {
    "ExecuteTime": {
     "end_time": "2025-10-07T21:11:08.729488Z",
     "start_time": "2025-10-07T21:11:08.721756Z"
    }
   },
   "source": [
    "df_aid_human_cid = df_aid_human.groupby('PUBCHEM_CID').mean(numeric_only=True).reset_index()\n",
    "df_aid_human_cid = df_aid_human_cid[['PUBCHEM_CID', 'Potency', 'Efficacy']]"
   ],
   "outputs": [],
   "execution_count": 62
  },
  {
   "cell_type": "markdown",
   "id": "d3f223da-ca40-4636-a393-059697aa0765",
   "metadata": {},
   "source": [
    "Show a first few line of the `df_aid_human_cid` data frame."
   ]
  },
  {
   "cell_type": "code",
   "id": "bf1f393e-48c6-4e18-be39-bb35a8b8e601",
   "metadata": {
    "ExecuteTime": {
     "end_time": "2025-10-07T21:11:11.486922Z",
     "start_time": "2025-10-07T21:11:11.482996Z"
    }
   },
   "source": "df_aid_human_cid.head()",
   "outputs": [
    {
     "data": {
      "text/plain": [
       "   PUBCHEM_CID  Potency  Efficacy\n",
       "0            6  70.7946   51.0835\n",
       "1           11      NaN       NaN\n",
       "2           13      NaN       NaN\n",
       "3           51      NaN       NaN\n",
       "4           66  17.7828   47.3640"
      ],
      "text/html": [
       "<div>\n",
       "<style scoped>\n",
       "    .dataframe tbody tr th:only-of-type {\n",
       "        vertical-align: middle;\n",
       "    }\n",
       "\n",
       "    .dataframe tbody tr th {\n",
       "        vertical-align: top;\n",
       "    }\n",
       "\n",
       "    .dataframe thead th {\n",
       "        text-align: right;\n",
       "    }\n",
       "</style>\n",
       "<table border=\"1\" class=\"dataframe\">\n",
       "  <thead>\n",
       "    <tr style=\"text-align: right;\">\n",
       "      <th></th>\n",
       "      <th>PUBCHEM_CID</th>\n",
       "      <th>Potency</th>\n",
       "      <th>Efficacy</th>\n",
       "    </tr>\n",
       "  </thead>\n",
       "  <tbody>\n",
       "    <tr>\n",
       "      <th>0</th>\n",
       "      <td>6</td>\n",
       "      <td>70.7946</td>\n",
       "      <td>51.0835</td>\n",
       "    </tr>\n",
       "    <tr>\n",
       "      <th>1</th>\n",
       "      <td>11</td>\n",
       "      <td>NaN</td>\n",
       "      <td>NaN</td>\n",
       "    </tr>\n",
       "    <tr>\n",
       "      <th>2</th>\n",
       "      <td>13</td>\n",
       "      <td>NaN</td>\n",
       "      <td>NaN</td>\n",
       "    </tr>\n",
       "    <tr>\n",
       "      <th>3</th>\n",
       "      <td>51</td>\n",
       "      <td>NaN</td>\n",
       "      <td>NaN</td>\n",
       "    </tr>\n",
       "    <tr>\n",
       "      <th>4</th>\n",
       "      <td>66</td>\n",
       "      <td>17.7828</td>\n",
       "      <td>47.3640</td>\n",
       "    </tr>\n",
       "  </tbody>\n",
       "</table>\n",
       "</div>"
      ]
     },
     "execution_count": 63,
     "metadata": {},
     "output_type": "execute_result"
    }
   ],
   "execution_count": 63
  },
  {
   "cell_type": "markdown",
   "id": "cc9ad491-3205-404a-a0cb-837fe105b0a5",
   "metadata": {},
   "source": [
    "Use the `get_cid_outcome` function to the human HTS data to generate a DataFrame that summarizes the activity outcome for each unique compound."
   ]
  },
  {
   "cell_type": "code",
   "id": "9177db89-4799-41e1-b519-446f56233ad6",
   "metadata": {
    "ExecuteTime": {
     "end_time": "2025-10-07T21:11:15.546262Z",
     "start_time": "2025-10-07T21:11:15.320923Z"
    }
   },
   "source": "df_cid_outcome_human = get_cid_outcome(df_aid_human)",
   "outputs": [],
   "execution_count": 64
  },
  {
   "cell_type": "markdown",
   "id": "dca4f85a-3e6c-445b-80fa-3a814429c186",
   "metadata": {},
   "source": [
    "This command displays the first few rows of the DataFrame containing the summarized compound outcomes for the human data."
   ]
  },
  {
   "cell_type": "code",
   "id": "cc745e12-92c6-4e15-923b-2e63d55c26bd",
   "metadata": {
    "ExecuteTime": {
     "end_time": "2025-10-07T21:11:16.945701Z",
     "start_time": "2025-10-07T21:11:16.941949Z"
    }
   },
   "source": "df_cid_outcome_human.head()",
   "outputs": [
    {
     "data": {
      "text/plain": [
       "   PUBCHEM_CID PUBCHEM_ACTIVITY_OUTCOME\n",
       "0       457193              Conflicting\n",
       "1        15910                   Active\n",
       "2       443939                   Active\n",
       "3        62770                   Active\n",
       "4         8722              Conflicting"
      ],
      "text/html": [
       "<div>\n",
       "<style scoped>\n",
       "    .dataframe tbody tr th:only-of-type {\n",
       "        vertical-align: middle;\n",
       "    }\n",
       "\n",
       "    .dataframe tbody tr th {\n",
       "        vertical-align: top;\n",
       "    }\n",
       "\n",
       "    .dataframe thead th {\n",
       "        text-align: right;\n",
       "    }\n",
       "</style>\n",
       "<table border=\"1\" class=\"dataframe\">\n",
       "  <thead>\n",
       "    <tr style=\"text-align: right;\">\n",
       "      <th></th>\n",
       "      <th>PUBCHEM_CID</th>\n",
       "      <th>PUBCHEM_ACTIVITY_OUTCOME</th>\n",
       "    </tr>\n",
       "  </thead>\n",
       "  <tbody>\n",
       "    <tr>\n",
       "      <th>0</th>\n",
       "      <td>457193</td>\n",
       "      <td>Conflicting</td>\n",
       "    </tr>\n",
       "    <tr>\n",
       "      <th>1</th>\n",
       "      <td>15910</td>\n",
       "      <td>Active</td>\n",
       "    </tr>\n",
       "    <tr>\n",
       "      <th>2</th>\n",
       "      <td>443939</td>\n",
       "      <td>Active</td>\n",
       "    </tr>\n",
       "    <tr>\n",
       "      <th>3</th>\n",
       "      <td>62770</td>\n",
       "      <td>Active</td>\n",
       "    </tr>\n",
       "    <tr>\n",
       "      <th>4</th>\n",
       "      <td>8722</td>\n",
       "      <td>Conflicting</td>\n",
       "    </tr>\n",
       "  </tbody>\n",
       "</table>\n",
       "</div>"
      ]
     },
     "execution_count": 65,
     "metadata": {},
     "output_type": "execute_result"
    }
   ],
   "execution_count": 65
  },
  {
   "cell_type": "markdown",
   "id": "4bbfacf1-5a85-46f0-abac-ba16c5832ceb",
   "metadata": {},
   "source": [
    "This code merges the aggregated human compound data with the summarized compound outcomes."
   ]
  },
  {
   "cell_type": "code",
   "id": "f8ea9d4b-31b9-4629-8a13-4a6fedec1b40",
   "metadata": {
    "ExecuteTime": {
     "end_time": "2025-10-07T21:11:19.404868Z",
     "start_time": "2025-10-07T21:11:19.401490Z"
    }
   },
   "source": "df_aid_human_cid = df_aid_human_cid.merge(df_cid_outcome_human, on=\"PUBCHEM_CID\", how=\"left\")",
   "outputs": [],
   "execution_count": 66
  },
  {
   "cell_type": "markdown",
   "id": "347fbe8b-856f-4f75-a245-3688981715cb",
   "metadata": {},
   "source": [
    "This command displays the first few rows of the merged human compound DataFrame."
   ]
  },
  {
   "cell_type": "code",
   "id": "66ae6d43-7466-4917-b091-64b6380ed4aa",
   "metadata": {
    "ExecuteTime": {
     "end_time": "2025-10-07T21:11:21.472470Z",
     "start_time": "2025-10-07T21:11:21.467972Z"
    }
   },
   "source": "df_aid_human_cid.head()",
   "outputs": [
    {
     "data": {
      "text/plain": [
       "   PUBCHEM_CID  Potency  Efficacy PUBCHEM_ACTIVITY_OUTCOME\n",
       "0            6  70.7946   51.0835             Inconclusive\n",
       "1           11      NaN       NaN                 Inactive\n",
       "2           13      NaN       NaN                 Inactive\n",
       "3           51      NaN       NaN                 Inactive\n",
       "4           66  17.7828   47.3640              Conflicting"
      ],
      "text/html": [
       "<div>\n",
       "<style scoped>\n",
       "    .dataframe tbody tr th:only-of-type {\n",
       "        vertical-align: middle;\n",
       "    }\n",
       "\n",
       "    .dataframe tbody tr th {\n",
       "        vertical-align: top;\n",
       "    }\n",
       "\n",
       "    .dataframe thead th {\n",
       "        text-align: right;\n",
       "    }\n",
       "</style>\n",
       "<table border=\"1\" class=\"dataframe\">\n",
       "  <thead>\n",
       "    <tr style=\"text-align: right;\">\n",
       "      <th></th>\n",
       "      <th>PUBCHEM_CID</th>\n",
       "      <th>Potency</th>\n",
       "      <th>Efficacy</th>\n",
       "      <th>PUBCHEM_ACTIVITY_OUTCOME</th>\n",
       "    </tr>\n",
       "  </thead>\n",
       "  <tbody>\n",
       "    <tr>\n",
       "      <th>0</th>\n",
       "      <td>6</td>\n",
       "      <td>70.7946</td>\n",
       "      <td>51.0835</td>\n",
       "      <td>Inconclusive</td>\n",
       "    </tr>\n",
       "    <tr>\n",
       "      <th>1</th>\n",
       "      <td>11</td>\n",
       "      <td>NaN</td>\n",
       "      <td>NaN</td>\n",
       "      <td>Inactive</td>\n",
       "    </tr>\n",
       "    <tr>\n",
       "      <th>2</th>\n",
       "      <td>13</td>\n",
       "      <td>NaN</td>\n",
       "      <td>NaN</td>\n",
       "      <td>Inactive</td>\n",
       "    </tr>\n",
       "    <tr>\n",
       "      <th>3</th>\n",
       "      <td>51</td>\n",
       "      <td>NaN</td>\n",
       "      <td>NaN</td>\n",
       "      <td>Inactive</td>\n",
       "    </tr>\n",
       "    <tr>\n",
       "      <th>4</th>\n",
       "      <td>66</td>\n",
       "      <td>17.7828</td>\n",
       "      <td>47.3640</td>\n",
       "      <td>Conflicting</td>\n",
       "    </tr>\n",
       "  </tbody>\n",
       "</table>\n",
       "</div>"
      ]
     },
     "execution_count": 67,
     "metadata": {},
     "output_type": "execute_result"
    }
   ],
   "execution_count": 67
  },
  {
   "cell_type": "markdown",
   "id": "1e771afb-eed8-470a-aeb9-449765392a8c",
   "metadata": {},
   "source": [
    "Use `.value_counts()` the occurrences of each unique 'PUBCHEM_ACTIVITY_OUTCOME' in the aggregated human compound data."
   ]
  },
  {
   "cell_type": "code",
   "id": "8e69ad82-9b18-498c-b0d5-0670e24a724f",
   "metadata": {
    "ExecuteTime": {
     "end_time": "2025-10-07T21:11:25.802506Z",
     "start_time": "2025-10-07T21:11:25.799321Z"
    }
   },
   "source": "df_aid_human_cid['PUBCHEM_ACTIVITY_OUTCOME'].value_counts()",
   "outputs": [
    {
     "data": {
      "text/plain": [
       "PUBCHEM_ACTIVITY_OUTCOME\n",
       "Inactive        1696\n",
       "Inconclusive     477\n",
       "Conflicting      144\n",
       "Active             8\n",
       "Name: count, dtype: int64"
      ]
     },
     "execution_count": 68,
     "metadata": {},
     "output_type": "execute_result"
    }
   ],
   "execution_count": 68
  },
  {
   "cell_type": "markdown",
   "id": "99819cc5-cae2-455c-9d7c-6816ad14a843",
   "metadata": {},
   "source": [
    "#### Merging rat data and human data"
   ]
  },
  {
   "cell_type": "markdown",
   "id": "26145932-84ea-4c77-bf85-d9b6826eb8ae",
   "metadata": {},
   "source": [
    "This subsection focuses on combining the aggregated compound-level data from both the rat and human HTS assays to facilitate a direct comparison."
   ]
  },
  {
   "cell_type": "markdown",
   "id": "a1d9b6ca-e839-46a5-b0da-32050a93df96",
   "metadata": {},
   "source": [
    "This command displays the column names of the aggregated rat compound DataFrame."
   ]
  },
  {
   "cell_type": "code",
   "id": "91bdc2c4-d41a-45c6-a74e-997db6c5e798",
   "metadata": {
    "ExecuteTime": {
     "end_time": "2025-10-07T21:11:58.479664Z",
     "start_time": "2025-10-07T21:11:58.476940Z"
    }
   },
   "source": [
    "df_aid_rat_cid.columns"
   ],
   "outputs": [
    {
     "data": {
      "text/plain": [
       "Index(['PUBCHEM_CID', 'Potency-Replicate_1', 'Efficacy-Replicate_1',\n",
       "       'PUBCHEM_ACTIVITY_OUTCOME'],\n",
       "      dtype='object')"
      ]
     },
     "execution_count": 70,
     "metadata": {},
     "output_type": "execute_result"
    }
   ],
   "execution_count": 70
  },
  {
   "cell_type": "markdown",
   "id": "794a6ef3-1ed6-4687-a6c0-c2bd3931ca55",
   "metadata": {},
   "source": [
    "Let's rename the columns in the rat compound DataFrame to have consistent naming with the human compound DataFrame before merging."
   ]
  },
  {
   "cell_type": "code",
   "id": "08308cad-aac1-4c2c-bfd1-de9ffa1eb7a8",
   "metadata": {
    "ExecuteTime": {
     "end_time": "2025-10-07T21:12:00.775202Z",
     "start_time": "2025-10-07T21:12:00.772574Z"
    }
   },
   "source": [
    "df_aid_rat_cid = df_aid_rat_cid.rename(columns={'Potency-Replicate_1':'Potency' , 'Efficacy-Replicate_1':'Efficacy', })"
   ],
   "outputs": [],
   "execution_count": 71
  },
  {
   "cell_type": "markdown",
   "id": "10bcea30-2468-4325-91ea-e70f777a74bc",
   "metadata": {},
   "source": [
    "This command displays the first three rows of the renamed rat compound DataFrame to verify the column name changes."
   ]
  },
  {
   "cell_type": "code",
   "id": "63a946f9-345f-4bfa-8a36-f8c91f36cd68",
   "metadata": {
    "ExecuteTime": {
     "end_time": "2025-10-07T21:12:03.509285Z",
     "start_time": "2025-10-07T21:12:03.505072Z"
    }
   },
   "source": [
    "df_aid_rat_cid.head(3)"
   ],
   "outputs": [
    {
     "data": {
      "text/plain": [
       "   PUBCHEM_CID  Potency  Efficacy PUBCHEM_ACTIVITY_OUTCOME\n",
       "0            4      NaN       NaN                 Inactive\n",
       "1            6   4.6248  118.2025                   Active\n",
       "2           11      NaN       NaN                 Inactive"
      ],
      "text/html": [
       "<div>\n",
       "<style scoped>\n",
       "    .dataframe tbody tr th:only-of-type {\n",
       "        vertical-align: middle;\n",
       "    }\n",
       "\n",
       "    .dataframe tbody tr th {\n",
       "        vertical-align: top;\n",
       "    }\n",
       "\n",
       "    .dataframe thead th {\n",
       "        text-align: right;\n",
       "    }\n",
       "</style>\n",
       "<table border=\"1\" class=\"dataframe\">\n",
       "  <thead>\n",
       "    <tr style=\"text-align: right;\">\n",
       "      <th></th>\n",
       "      <th>PUBCHEM_CID</th>\n",
       "      <th>Potency</th>\n",
       "      <th>Efficacy</th>\n",
       "      <th>PUBCHEM_ACTIVITY_OUTCOME</th>\n",
       "    </tr>\n",
       "  </thead>\n",
       "  <tbody>\n",
       "    <tr>\n",
       "      <th>0</th>\n",
       "      <td>4</td>\n",
       "      <td>NaN</td>\n",
       "      <td>NaN</td>\n",
       "      <td>Inactive</td>\n",
       "    </tr>\n",
       "    <tr>\n",
       "      <th>1</th>\n",
       "      <td>6</td>\n",
       "      <td>4.6248</td>\n",
       "      <td>118.2025</td>\n",
       "      <td>Active</td>\n",
       "    </tr>\n",
       "    <tr>\n",
       "      <th>2</th>\n",
       "      <td>11</td>\n",
       "      <td>NaN</td>\n",
       "      <td>NaN</td>\n",
       "      <td>Inactive</td>\n",
       "    </tr>\n",
       "  </tbody>\n",
       "</table>\n",
       "</div>"
      ]
     },
     "execution_count": 72,
     "metadata": {},
     "output_type": "execute_result"
    }
   ],
   "execution_count": 72
  },
  {
   "cell_type": "markdown",
   "id": "13491f44-08ba-4c8a-933f-124cf9afebed",
   "metadata": {},
   "source": [
    "Now merge the aggregated rat and human compound DataFrames based on 'PUBCHEM_CID', keeping only the compounds that are present in both datasets."
   ]
  },
  {
   "cell_type": "code",
   "id": "8a288e23-aace-47c3-aa47-b2cba955b738",
   "metadata": {
    "ExecuteTime": {
     "end_time": "2025-10-07T21:12:08.742477Z",
     "start_time": "2025-10-07T21:12:08.736200Z"
    }
   },
   "source": [
    "df_aid_merged_cid = df_aid_rat_cid.merge(df_aid_human_cid, on='PUBCHEM_CID', how='inner', suffixes=('_rat','_human'))"
   ],
   "outputs": [],
   "execution_count": 73
  },
  {
   "cell_type": "markdown",
   "id": "2b973e71-b1ba-48b9-8802-cdae0f7a3fea",
   "metadata": {},
   "source": [
    "Let's check if the merged data frame contains desired information."
   ]
  },
  {
   "cell_type": "code",
   "id": "3dcda20f-fc9e-4e81-a6f1-720a658caad6",
   "metadata": {
    "ExecuteTime": {
     "end_time": "2025-10-07T21:12:10.706969Z",
     "start_time": "2025-10-07T21:12:10.704689Z"
    }
   },
   "source": [
    "df_aid_merged_cid.shape"
   ],
   "outputs": [
    {
     "data": {
      "text/plain": [
       "(2089, 7)"
      ]
     },
     "execution_count": 74,
     "metadata": {},
     "output_type": "execute_result"
    }
   ],
   "execution_count": 74
  },
  {
   "cell_type": "code",
   "id": "b9a7cd02-c2e6-4303-9f15-6bc2f009b094",
   "metadata": {
    "ExecuteTime": {
     "end_time": "2025-10-07T21:12:12.429899Z",
     "start_time": "2025-10-07T21:12:12.424293Z"
    }
   },
   "source": [
    "df_aid_merged_cid"
   ],
   "outputs": [
    {
     "data": {
      "text/plain": [
       "      PUBCHEM_CID  Potency_rat  Efficacy_rat PUBCHEM_ACTIVITY_OUTCOME_rat  \\\n",
       "0               6       4.6248      118.2025                       Active   \n",
       "1              11          NaN           NaN                     Inactive   \n",
       "2              13          NaN           NaN                     Inactive   \n",
       "3              51          NaN           NaN                     Inactive   \n",
       "4              66       0.4856       18.1479                     Inactive   \n",
       "...           ...          ...           ...                          ...   \n",
       "2084    135436526      60.7578       80.9324                       Active   \n",
       "2085    135465076          NaN           NaN                     Inactive   \n",
       "2086    135491830          NaN           NaN                     Inactive   \n",
       "2087    135492483      34.3762       42.1839                 Inconclusive   \n",
       "2088    135585373          NaN           NaN                     Inactive   \n",
       "\n",
       "      Potency_human  Efficacy_human PUBCHEM_ACTIVITY_OUTCOME_human  \n",
       "0           70.7946         51.0835                   Inconclusive  \n",
       "1               NaN             NaN                       Inactive  \n",
       "2               NaN             NaN                       Inactive  \n",
       "3               NaN             NaN                       Inactive  \n",
       "4           17.7828         47.3640                    Conflicting  \n",
       "...             ...             ...                            ...  \n",
       "2084        50.1187         57.0589                   Inconclusive  \n",
       "2085         0.1413         24.1825                   Inconclusive  \n",
       "2086         0.0025         54.4433                   Inconclusive  \n",
       "2087            NaN             NaN                       Inactive  \n",
       "2088            NaN             NaN                       Inactive  \n",
       "\n",
       "[2089 rows x 7 columns]"
      ],
      "text/html": [
       "<div>\n",
       "<style scoped>\n",
       "    .dataframe tbody tr th:only-of-type {\n",
       "        vertical-align: middle;\n",
       "    }\n",
       "\n",
       "    .dataframe tbody tr th {\n",
       "        vertical-align: top;\n",
       "    }\n",
       "\n",
       "    .dataframe thead th {\n",
       "        text-align: right;\n",
       "    }\n",
       "</style>\n",
       "<table border=\"1\" class=\"dataframe\">\n",
       "  <thead>\n",
       "    <tr style=\"text-align: right;\">\n",
       "      <th></th>\n",
       "      <th>PUBCHEM_CID</th>\n",
       "      <th>Potency_rat</th>\n",
       "      <th>Efficacy_rat</th>\n",
       "      <th>PUBCHEM_ACTIVITY_OUTCOME_rat</th>\n",
       "      <th>Potency_human</th>\n",
       "      <th>Efficacy_human</th>\n",
       "      <th>PUBCHEM_ACTIVITY_OUTCOME_human</th>\n",
       "    </tr>\n",
       "  </thead>\n",
       "  <tbody>\n",
       "    <tr>\n",
       "      <th>0</th>\n",
       "      <td>6</td>\n",
       "      <td>4.6248</td>\n",
       "      <td>118.2025</td>\n",
       "      <td>Active</td>\n",
       "      <td>70.7946</td>\n",
       "      <td>51.0835</td>\n",
       "      <td>Inconclusive</td>\n",
       "    </tr>\n",
       "    <tr>\n",
       "      <th>1</th>\n",
       "      <td>11</td>\n",
       "      <td>NaN</td>\n",
       "      <td>NaN</td>\n",
       "      <td>Inactive</td>\n",
       "      <td>NaN</td>\n",
       "      <td>NaN</td>\n",
       "      <td>Inactive</td>\n",
       "    </tr>\n",
       "    <tr>\n",
       "      <th>2</th>\n",
       "      <td>13</td>\n",
       "      <td>NaN</td>\n",
       "      <td>NaN</td>\n",
       "      <td>Inactive</td>\n",
       "      <td>NaN</td>\n",
       "      <td>NaN</td>\n",
       "      <td>Inactive</td>\n",
       "    </tr>\n",
       "    <tr>\n",
       "      <th>3</th>\n",
       "      <td>51</td>\n",
       "      <td>NaN</td>\n",
       "      <td>NaN</td>\n",
       "      <td>Inactive</td>\n",
       "      <td>NaN</td>\n",
       "      <td>NaN</td>\n",
       "      <td>Inactive</td>\n",
       "    </tr>\n",
       "    <tr>\n",
       "      <th>4</th>\n",
       "      <td>66</td>\n",
       "      <td>0.4856</td>\n",
       "      <td>18.1479</td>\n",
       "      <td>Inactive</td>\n",
       "      <td>17.7828</td>\n",
       "      <td>47.3640</td>\n",
       "      <td>Conflicting</td>\n",
       "    </tr>\n",
       "    <tr>\n",
       "      <th>...</th>\n",
       "      <td>...</td>\n",
       "      <td>...</td>\n",
       "      <td>...</td>\n",
       "      <td>...</td>\n",
       "      <td>...</td>\n",
       "      <td>...</td>\n",
       "      <td>...</td>\n",
       "    </tr>\n",
       "    <tr>\n",
       "      <th>2084</th>\n",
       "      <td>135436526</td>\n",
       "      <td>60.7578</td>\n",
       "      <td>80.9324</td>\n",
       "      <td>Active</td>\n",
       "      <td>50.1187</td>\n",
       "      <td>57.0589</td>\n",
       "      <td>Inconclusive</td>\n",
       "    </tr>\n",
       "    <tr>\n",
       "      <th>2085</th>\n",
       "      <td>135465076</td>\n",
       "      <td>NaN</td>\n",
       "      <td>NaN</td>\n",
       "      <td>Inactive</td>\n",
       "      <td>0.1413</td>\n",
       "      <td>24.1825</td>\n",
       "      <td>Inconclusive</td>\n",
       "    </tr>\n",
       "    <tr>\n",
       "      <th>2086</th>\n",
       "      <td>135491830</td>\n",
       "      <td>NaN</td>\n",
       "      <td>NaN</td>\n",
       "      <td>Inactive</td>\n",
       "      <td>0.0025</td>\n",
       "      <td>54.4433</td>\n",
       "      <td>Inconclusive</td>\n",
       "    </tr>\n",
       "    <tr>\n",
       "      <th>2087</th>\n",
       "      <td>135492483</td>\n",
       "      <td>34.3762</td>\n",
       "      <td>42.1839</td>\n",
       "      <td>Inconclusive</td>\n",
       "      <td>NaN</td>\n",
       "      <td>NaN</td>\n",
       "      <td>Inactive</td>\n",
       "    </tr>\n",
       "    <tr>\n",
       "      <th>2088</th>\n",
       "      <td>135585373</td>\n",
       "      <td>NaN</td>\n",
       "      <td>NaN</td>\n",
       "      <td>Inactive</td>\n",
       "      <td>NaN</td>\n",
       "      <td>NaN</td>\n",
       "      <td>Inactive</td>\n",
       "    </tr>\n",
       "  </tbody>\n",
       "</table>\n",
       "<p>2089 rows × 7 columns</p>\n",
       "</div>"
      ]
     },
     "execution_count": 75,
     "metadata": {},
     "output_type": "execute_result"
    }
   ],
   "execution_count": 75
  },
  {
   "cell_type": "markdown",
   "id": "16de5acc-cd92-4130-8603-eee41e17237b",
   "metadata": {},
   "source": [
    "This cell counts the occurrences of each unique 'PUBCHEM_ACTIVITY_OUTCOME' for the rat data within the merged DataFrame."
   ]
  },
  {
   "cell_type": "code",
   "id": "6b528e06-bb42-4871-a1de-4e64afaff3a1",
   "metadata": {
    "ExecuteTime": {
     "end_time": "2025-10-07T21:12:16.328531Z",
     "start_time": "2025-10-07T21:12:16.325307Z"
    }
   },
   "source": [
    "df_aid_merged_cid['PUBCHEM_ACTIVITY_OUTCOME_rat'].value_counts()"
   ],
   "outputs": [
    {
     "data": {
      "text/plain": [
       "PUBCHEM_ACTIVITY_OUTCOME_rat\n",
       "Inactive        1473\n",
       "Active           325\n",
       "Conflicting      162\n",
       "Inconclusive     129\n",
       "Name: count, dtype: int64"
      ]
     },
     "execution_count": 76,
     "metadata": {},
     "output_type": "execute_result"
    }
   ],
   "execution_count": 76
  },
  {
   "cell_type": "markdown",
   "id": "30ef9028-e0b5-489e-962c-4b1a22164509",
   "metadata": {},
   "source": [
    "This cell counts the occurrences of each unique 'PUBCHEM_ACTIVITY_OUTCOME' for the human data within the merged DataFrame."
   ]
  },
  {
   "cell_type": "code",
   "id": "7c264c3c-20e5-43d6-9065-ed234ec4a50e",
   "metadata": {
    "ExecuteTime": {
     "end_time": "2025-10-07T21:12:18.365321Z",
     "start_time": "2025-10-07T21:12:18.361904Z"
    }
   },
   "source": [
    "df_aid_merged_cid['PUBCHEM_ACTIVITY_OUTCOME_human'].value_counts()"
   ],
   "outputs": [
    {
     "data": {
      "text/plain": [
       "PUBCHEM_ACTIVITY_OUTCOME_human\n",
       "Inactive        1540\n",
       "Inconclusive     405\n",
       "Conflicting      137\n",
       "Active             7\n",
       "Name: count, dtype: int64"
      ]
     },
     "execution_count": 77,
     "metadata": {},
     "output_type": "execute_result"
    }
   ],
   "execution_count": 77
  },
  {
   "cell_type": "markdown",
   "id": "f3aaa8ba-52eb-4349-90e5-523f61377112",
   "metadata": {},
   "source": [
    "#### Compound-level comparison"
   ]
  },
  {
   "cell_type": "markdown",
   "id": "198c65b8-09de-4328-b05f-7322306d6ff6",
   "metadata": {},
   "source": [
    "Let's compare the bioactivity of the same compounds between the rat and human thyroid hormone receptors."
   ]
  },
  {
   "cell_type": "markdown",
   "id": "546bf257-ce44-4a6f-b634-0d80b353d128",
   "metadata": {},
   "source": [
    "The following code cell generates two box plots to compare the distribution of efficacy for different activity outcomes between the rat and human data in the merged dataset."
   ]
  },
  {
   "cell_type": "code",
   "id": "de27d9da-8246-4acf-b69f-6001f6a43dc9",
   "metadata": {
    "ExecuteTime": {
     "end_time": "2025-10-07T21:12:23.441072Z",
     "start_time": "2025-10-07T21:12:23.319148Z"
    }
   },
   "source": [
    "fig, axes = plt.subplots(1, 2, figsize=(10,4), sharey=True)\n",
    "\n",
    "hue_order = ['Active',  'Inactive', 'Conflicting', 'Inconclusive']\n",
    "\n",
    "sns.boxplot(data=df_aid_merged_cid, x='Efficacy_rat', y='PUBCHEM_ACTIVITY_OUTCOME_rat', hue='PUBCHEM_ACTIVITY_OUTCOME_rat', hue_order=hue_order, ax=axes[0])\n",
    "sns.boxplot(data=df_aid_merged_cid, x='Efficacy_human', y='PUBCHEM_ACTIVITY_OUTCOME_human', hue='PUBCHEM_ACTIVITY_OUTCOME_human', hue_order=hue_order, ax=axes[1])\n",
    "\n",
    "axes[0].set_xlabel(\"Efficacy (micro-M, rat)\")\n",
    "axes[1].set_xlabel(\"Efficacy (micro-M, human)\")\n",
    "\n",
    "axes[0].set_ylabel(\"PUBCHEM_ACTIVITY_OUTCOME\")\n",
    "\n",
    "fig.tight_layout()"
   ],
   "outputs": [
    {
     "data": {
      "text/plain": [
       "<Figure size 1000x400 with 2 Axes>"
      ],
      "image/png": "[encoded data removed]"
     },
     "metadata": {},
     "output_type": "display_data"
    }
   ],
   "execution_count": 78
  },
  {
   "cell_type": "markdown",
   "id": "0490cd11-7d11-42d1-b302-1c7ad4d971f3",
   "metadata": {},
   "source": [
    "Generate two box plots to compare the distribution of potency for different activity outcomes between the rat and human data in the merged dataset."
   ]
  },
  {
   "cell_type": "code",
   "id": "b008cc8c-0270-4c19-9553-915c63d024e1",
   "metadata": {},
   "source": [
    "# Write your own code\n"
   ],
   "outputs": [],
   "execution_count": null
  },
  {
   "cell_type": "markdown",
   "id": "bb479881-9028-44a0-8ea4-34f84d63cd3c",
   "metadata": {},
   "source": [
    "This code creates two scatter plots to visualize the relationship between potency and efficacy for the rat and human data in the merged dataset."
   ]
  },
  {
   "cell_type": "code",
   "id": "1e025e93-4f02-4600-b72f-99e338756a72",
   "metadata": {
    "ExecuteTime": {
     "end_time": "2025-10-07T21:12:57.258134Z",
     "start_time": "2025-10-07T21:12:57.103115Z"
    }
   },
   "source": [
    "fig, axes = plt.subplots(1, 2, figsize=(10,4), sharey=False)\n",
    "\n",
    "#hue_order = ['Active',  'Inconclusive', 'Inactive']\n",
    "\n",
    "sns.scatterplot(data=df_aid_merged_cid, x='Potency_rat', y='Efficacy_rat', hue='PUBCHEM_ACTIVITY_OUTCOME_rat', ax=axes[0])\n",
    "sns.scatterplot(data=df_aid_merged_cid, x='Potency_human', y='Efficacy_human', hue='PUBCHEM_ACTIVITY_OUTCOME_human', ax=axes[1])\n",
    "\n",
    "axes[0].set_xlabel(\"Potency (micro-M, rat)\")\n",
    "axes[1].set_xlabel(\"Potency (micro-M, human)\")\n",
    "\n",
    "axes[0].set_ylabel(\"Efficacy (%, rat)\")\n",
    "axes[1].set_ylabel(\"Efficacy (%, human)\")\n",
    "\n",
    "# Uncomment the next three lines to limit the x and y axes to 200.\n",
    "for ax in axes :    # loop over each panel\n",
    "   ax.set_xlim(0, 200)\n",
    "   ax.set_ylim(0, 200)"
   ],
   "outputs": [
    {
     "data": {
      "text/plain": [
       "<Figure size 1000x400 with 2 Axes>"
      ],
      "image/png": "[encoded data removed]"
     },
     "metadata": {},
     "output_type": "display_data"
    }
   ],
   "execution_count": 81
  },
  {
   "cell_type": "markdown",
   "id": "6854c52e-7b6d-40ef-991d-464a70fbe5ed",
   "metadata": {},
   "source": [
    "This code creates two scatter plots to directly compare the efficacy and potency of compounds between the rat and human assays."
   ]
  },
  {
   "cell_type": "code",
   "id": "061afeec-e669-4dbc-b7a5-d7a71c5ee672",
   "metadata": {
    "ExecuteTime": {
     "end_time": "2025-10-07T21:13:30.748006Z",
     "start_time": "2025-10-07T21:13:30.568608Z"
    }
   },
   "source": [
    "fig, axes = plt.subplots(1, 2, figsize=(10,4), sharey=False)\n",
    "\n",
    "hue_order = ['Active',  'Inactive', 'Inconclusive', 'Conflicting']\n",
    "\n",
    "sns.scatterplot(data=df_aid_merged_cid, x='Efficacy_rat', y='Efficacy_human', hue='PUBCHEM_ACTIVITY_OUTCOME_rat', hue_order=hue_order, ax=axes[0], legend=None)\n",
    "sns.scatterplot(data=df_aid_merged_cid, x='Potency_rat', y='Potency_human', hue='PUBCHEM_ACTIVITY_OUTCOME_rat', hue_order=hue_order, ax=axes[1])\n",
    "\n",
    "axes[0].set_xlabel(\"Efficacy (%, rat)\")\n",
    "axes[0].set_ylabel(\"Efficacy (%, human)\")\n",
    "axes[0].set_title(\"Efficacy\")\n",
    "\n",
    "axes[1].set_xlabel(\"Potency (micro-M, rat)\")\n",
    "axes[1].set_ylabel(\"Potency (micro-M, human)\")\n",
    "axes[1].set_title(\"Potency\")\n",
    "\n",
    "axes[1].legend(bbox_to_anchor=(1.05, 1), loc='upper left', borderaxespad=0)\n",
    "\n",
    "# Uncomment to limit the axes to 200.\n",
    "for ax in axes :    # loop over each panel\n",
    "  ax.set_xlim(0, 200)\n",
    "  ax.set_ylim(0, 200)"
   ],
   "outputs": [
    {
     "data": {
      "text/plain": [
       "<Figure size 1000x400 with 2 Axes>"
      ],
      "image/png": "[encoded data removed]"
     },
     "metadata": {},
     "output_type": "display_data"
    }
   ],
   "execution_count": 85
  },
  {
   "cell_type": "markdown",
   "id": "9170e218-25e9-4e38-b0ac-99aca1e0eafd",
   "metadata": {},
   "source": [
    "In the above graphs, it is not easy to see if there is any correlation between rat and human activities (in terms of the efficacy and potency)."
   ]
  },
  {
   "cell_type": "markdown",
   "id": "aaacda0c-a008-4039-95df-9c691ac2a563",
   "metadata": {},
   "source": [
    "Let's focus only on the active compounds in both the rat and human assays."
   ]
  },
  {
   "cell_type": "code",
   "id": "6084b678-d77c-4b8d-a48b-a831122994ea",
   "metadata": {},
   "source": [
    "df_aid_merged_cid_active = df_aid_merged_cid[(df_aid_merged_cid['PUBCHEM_ACTIVITY_OUTCOME_rat'] == 'Active') & (df_aid_merged_cid['PUBCHEM_ACTIVITY_OUTCOME_human'] == 'Active')]"
   ],
   "outputs": [],
   "execution_count": null
  },
  {
   "cell_type": "markdown",
   "id": "f238e0bb-0ec7-4de9-be95-1b7b1ad3beac",
   "metadata": {},
   "source": [
    "This code generates two scatter plots to compare the efficacy and potency of the compounds that were active in both rat and human assays."
   ]
  },
  {
   "cell_type": "code",
   "id": "33489476-6a6e-445a-850c-c88f329c750f",
   "metadata": {},
   "source": [
    "fig, axes = plt.subplots(1, 2, figsize=(10,4), sharey=False)\n",
    "\n",
    "sns.scatterplot(data=df_aid_merged_cid_active, x='Efficacy_rat', y='Efficacy_human', ax=axes[0])\n",
    "sns.scatterplot(data=df_aid_merged_cid_active, x='Potency_rat', y='Potency_human', ax=axes[1])\n",
    "\n",
    "axes[0].set_title(\"Efficacy\")\n",
    "axes[0].set_xlabel(\"Efficacy (%, rat)\")\n",
    "axes[0].set_ylabel(\"Efficacy (%, human)\")\n",
    "\n",
    "axes[1].set_title(\"Potency\")\n",
    "axes[1].set_xlabel(\"Potency (micro-M, rat)\")\n",
    "axes[1].set_ylabel(\"Potency (micro-M, human)\")\n"
   ],
   "outputs": [],
   "execution_count": null
  },
  {
   "cell_type": "code",
   "id": "f025952c-7781-4250-99da-7cec7060c42f",
   "metadata": {},
   "source": [
    "res_efficacy = linregress(df_aid_merged_cid_active['Efficacy_rat'], df_aid_merged_cid_active['Efficacy_human'])\n",
    "res_potency = linregress(df_aid_merged_cid_active['Potency_rat'], df_aid_merged_cid_active['Potency_human'])"
   ],
   "outputs": [],
   "execution_count": null
  },
  {
   "cell_type": "code",
   "id": "62e02d24-a3dc-4afa-96f4-a14b90bbf34a",
   "metadata": {},
   "source": [
    "print(f\"                      Efficacy\\tPotency\")\n",
    "print(f\"Slope               : {res_efficacy.slope:4.4f}\\t{res_potency.slope:<4.4f}\")\n",
    "print(f\"intercept           : {res_efficacy.intercept:4.4f}\\t{res_potency.intercept:4.4f}\")\n",
    "print(f\"r-value             : {res_efficacy.rvalue:4.4f}\\t{res_potency.rvalue:4.4f}\")\n",
    "print(f\"p-value             : {res_efficacy.pvalue:4.4f}\\t{res_potency.pvalue:4.4f}\")\n",
    "print(f\"std-err (slope)     : {res_efficacy.stderr:4.4f}\\t{res_potency.stderr:4.4f}\")\n",
    "print(f\"std-err (intercept) : {res_efficacy.intercept_stderr:4.4f}\\t{res_potency.intercept_stderr:4.4f}\")"
   ],
   "outputs": [],
   "execution_count": null
  },
  {
   "cell_type": "markdown",
   "id": "acb8565e-7890-46a5-9c6b-7dc847909c97",
   "metadata": {},
   "source": [
    "When we consider the compounds that are active in both species, there appears to be a positive correlation between the rat and human data.  However,  there are only six compounds active in both species, we cannot confidently say there is a definitive relationship."
   ]
  },
  {
   "cell_type": "markdown",
   "id": "4867a142-85c7-464b-acf0-b1e0d2706ead",
   "metadata": {},
   "source": "## Discussion / Homework"
  },
  {
   "cell_type": "markdown",
   "id": "1873d47b-d45e-4fc8-857e-8b46b2153158",
   "metadata": {},
   "source": [
    "1) Finalize the Pubchem script to pull data from PubChem for BOTH human and rats to avoid using the zipped files\n",
    "2) Caclulate fingerprints for each of the CIDs examined in the final scatterplots. Write a script that looks for trends in similarity score and efficiacy or potency."
   ]
  },
  {
   "cell_type": "markdown",
   "id": "627a338d-2a6a-44ca-aa6f-640a986302be",
   "metadata": {},
   "source": [
    "Further Reading:\n",
    "\n",
    "**Limitations of Animal Studies for Predicting Toxicity in Clinical Trials: Is it Time to Rethink Our Current Approach?**  \n",
    "Van Norman GA.  \n",
    "JACC Basic Transl Sci. 2019 Nov 25;4(7):845-854.  \n",
    "doi: [10.1016/j.jacbts.2019.10.008](https://doi.org/10.1016/j.jacbts.2019.10.008). PMID: 31998852; PMCID: PMC6978558.  \n"
   ]
  },
  {
   "cell_type": "code",
   "id": "81971abd-f469-47eb-afc9-f0a9f46e5043",
   "metadata": {},
   "source": [],
   "outputs": [],
   "execution_count": null
  }
 ],
 "metadata": {
  "kernelspec": {
   "display_name": "dataChem(py3.10)",
   "language": "python",
   "name": "datachem"
  },
  "language_info": {
   "codemirror_mode": {
    "name": "ipython",
    "version": 3
   },
   "file_extension": ".py",
   "mimetype": "text/x-python",
   "name": "python",
   "nbconvert_exporter": "python",
   "pygments_lexer": "ipython3",
   "version": "3.10.12"
  }
 },
 "nbformat": 4,
 "nbformat_minor": 5
}
