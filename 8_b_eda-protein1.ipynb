{
 "cells": [
  {
   "cell_type": "markdown",
   "id": "ab6c69ea-863d-4c96-882d-07c12d3df0f5",
   "metadata": {},
   "source": [
    "# Exploratory Data Analysis 1: <br><br> Concordance of Thyroid Hormone Receptor Activity in Rats and Humans"
   ]
  },
  {
   "cell_type": "markdown",
   "id": "4a3c88db-b320-4a70-9fe8-0ebb9fd422e4",
   "metadata": {
    "scrolled": true
   },
   "source": [
    "In the preclinical stage of drug development, drug candidates are tested against in non-human species.  One of the commonly used animals in the preclinical stage is rodents (e.g., mice and rats).  \n",
    "The underlying assumption here is that the bioactivity (e.g., toxicity and efficacy) of a drug candidate in animals is similar to its activity in humans.  \n",
    "\n",
    "In this notebook, we will look into the validity of this assumption by comparing the bioactivity data available in PubChem for human and rat thyroid hormone receptor."
   ]
  },
  {
   "cell_type": "markdown",
   "id": "4f5d2c3f-a774-4e12-9609-36033cfd928e",
   "metadata": {},
   "source": [
    "Let's import necessary libraries."
   ]
  },
  {
   "cell_type": "code",
   "execution_count": null,
   "id": "1a9ad7c3-feab-4d2b-858d-5e6727dafcbd",
   "metadata": {},
   "outputs": [],
   "source": [
    "import pandas as pd\n",
    "import numpy as np\n",
    "import matplotlib.pyplot as plt\n",
    "import seaborn as sns\n",
    "import requests\n",
    "from scipy.stats import linregress\n",
    "#import time\n",
    "#import json"
   ]
  },
  {
   "cell_type": "markdown",
   "id": "01037f42-da5c-49a5-b325-47368f76d116",
   "metadata": {},
   "source": [
    "## Checking the amount of available data"
   ]
  },
  {
   "cell_type": "markdown",
   "id": "0c8a3ff6-3dbc-4355-b83c-77a1951dccd9",
   "metadata": {},
   "source": [
    "This section focuses on assessing the availability of the bioactivity data for the thyroid hormone receptor in both human and rat models.  The data sets were downloaded (in August 2025) from the PubChem Protein summary pages for protein assesions  `NP_001257783` (rats) and `P10828` (humans).\n",
    "\n",
    "- `NP_001257783` (rats)  \n",
    "    https://pubchem.ncbi.nlm.nih.gov/protein/NP_001257783#section=Chemicals-and-Bioactivities  \n",
    "- `P10828` (humans)  \n",
    "    https://pubchem.ncbi.nlm.nih.gov/protein/P10828#section=Chemicals-and-Bioactivities  \n",
    "\n",
    "The names of the downloaded files are:"
   ]
  },
  {
   "cell_type": "markdown",
   "id": "245857c1-9b63-4179-936a-847635f52eae",
   "metadata": {},
   "source": [
    "### Loading data for rat thyroid hormone receptor"
   ]
  },
  {
   "cell_type": "markdown",
   "id": "1bcb61e8-45ac-40c7-a594-4dd9eeb1876c",
   "metadata": {},
   "source": [
    "The following cells load and provide an initial exploration of the bioactivity data for the **rat thyroid hormone receptor**."
   ]
  },
  {
   "cell_type": "markdown",
   "id": "1647472a-96fa-4c78-bb81-978b8cb9c896",
   "metadata": {},
   "source": [
    "This cell defines the data type for the \"COMPOUND_CID\" column to ensure accurate data loading and to prevent memory-related issues."
   ]
  },
  {
   "cell_type": "code",
   "execution_count": null,
   "id": "a26a5a07-4e90-4daf-9ebb-fb80e47de468",
   "metadata": {},
   "outputs": [],
   "source": [
    "mydtype = {\"Compound_CID\" : \"Int64\"}\n",
    "#mydtype = {\"Compound_CID\" : \"Int64\", \"pmid\":\"Int64\", \"taxid\":\"object\", \"targettaxid\":\"object\"}"
   ]
  },
  {
   "cell_type": "markdown",
   "id": "068f06bf-1914-47ae-932a-ec152f220d84",
   "metadata": {},
   "source": [
    "Now read a CSV file containing bioactivity data for the rat thyroid hormone receptorinto a pandas DataFrame and then displays the dimensions of the DataFrame."
   ]
  },
  {
   "cell_type": "code",
   "execution_count": null,
   "id": "50b907d0-5670-498b-8dee-b68d1d5cd07a",
   "metadata": {},
   "outputs": [],
   "source": [
    "df_rat = pd.read_csv('pubchem_protacxn_NP_001257783_bioactivity_protein.zip', compression='zip', dtype=mydtype,low_memory=False)\n",
    "df_rat.shape"
   ]
  },
  {
   "cell_type": "markdown",
   "id": "5d9fdbef-ecd5-491c-ba77-34b5589c06da",
   "metadata": {
    "scrolled": true
   },
   "source": [
    "Display a first few rows of the rat bioactivity DataFrame to get a quick overview of the data's structure and content."
   ]
  },
  {
   "cell_type": "code",
   "execution_count": null,
   "id": "927c8f29-efae-409e-a8e1-95e622b0be37",
   "metadata": {},
   "outputs": [],
   "source": [
    "df_rat.head()"
   ]
  },
  {
   "cell_type": "code",
   "execution_count": null,
   "id": "44590e18-fbe2-4b20-95ad-820193ba2683",
   "metadata": {},
   "outputs": [],
   "source": [
    "#df_rat.columns    # Uncomment to check the column names."
   ]
  },
  {
   "cell_type": "markdown",
   "id": "4ec15956-706f-4baf-a9c1-0834038a0650",
   "metadata": {},
   "source": [
    "### Loading data for human thyroid hormone receptor"
   ]
  },
  {
   "cell_type": "markdown",
   "id": "f7d12d17-a950-4f0f-a862-e812ef713add",
   "metadata": {},
   "source": [
    "Now read a CSV file containing bioactivity data for the **human** thyroid hormone receptor into a pandas DataFrame, called `df_human`, and then displays the dimensions of the DataFrame."
   ]
  },
  {
   "cell_type": "code",
   "execution_count": null,
   "id": "7877242a-bef7-49fc-a1f7-6a2ec16f9f9d",
   "metadata": {},
   "outputs": [],
   "source": [
    "# Write your code here\n"
   ]
  },
  {
   "cell_type": "markdown",
   "id": "e89fe8fc-632f-4530-b35a-19e8f2a6d1eb",
   "metadata": {},
   "source": [
    "Displays a first few rows of the new data frame."
   ]
  },
  {
   "cell_type": "code",
   "execution_count": null,
   "id": "8e4e0046-47b6-4470-a7ac-59a836cc43fc",
   "metadata": {},
   "outputs": [],
   "source": [
    "# Write your code here\n"
   ]
  },
  {
   "cell_type": "code",
   "execution_count": null,
   "id": "fdb30bf5-9525-4bcd-83df-599c56025f6c",
   "metadata": {},
   "outputs": [],
   "source": [
    "#df_human.columns    # Uncomment to check the column names."
   ]
  },
  {
   "cell_type": "markdown",
   "id": "47d8ae94-28f6-4f15-b9c5-b83c2e0823bf",
   "metadata": {},
   "source": [
    "### Checking the amount of available data"
   ]
  },
  {
   "cell_type": "markdown",
   "id": "bc6885ee-4934-4058-bab5-0d681f98cf50",
   "metadata": {},
   "source": [
    "Here, we compare the types of bioactivity data available for both rat and human thyroid hormone receptors."
   ]
  },
  {
   "cell_type": "markdown",
   "id": "a7e266bd-358a-440e-971d-8f011792d548",
   "metadata": {},
   "source": [
    "This cell counts the occurrences of each unique value in the 'Activity_Type' column of the rat bioactivity DataFrame."
   ]
  },
  {
   "cell_type": "code",
   "execution_count": null,
   "id": "0695c411-9a2e-4dd2-ba36-2689a34be597",
   "metadata": {},
   "outputs": [],
   "source": [
    "df_rat['Activity_Type'].value_counts(dropna=False)"
   ]
  },
  {
   "cell_type": "markdown",
   "id": "647b77ce-4f9b-4891-bbf0-d13428482931",
   "metadata": {},
   "source": [
    "Now get the occurrences of each unique value in the 'Activity_Type' column of the human bioactivity DataFrame."
   ]
  },
  {
   "cell_type": "code",
   "execution_count": null,
   "id": "91a12fab-8275-4a84-989f-7072626e34de",
   "metadata": {},
   "outputs": [],
   "source": [
    "# Write your own code here\n"
   ]
  },
  {
   "cell_type": "markdown",
   "id": "033c5481-bc82-4252-9053-5f0478ec8f86",
   "metadata": {},
   "source": [
    "Let's generate a pair of bar charts to visually compare the distribution of different activity types in the rat and human bioactivity datasets."
   ]
  },
  {
   "cell_type": "code",
   "execution_count": null,
   "id": "44a319f8-2e99-4387-9bfd-93bfa21c43ca",
   "metadata": {},
   "outputs": [],
   "source": [
    "fig, axes = plt.subplots(1, 2, figsize=(10,4), sharey=True)\n",
    "sns.countplot(data=df_rat, y='Activity_Type', ax=axes[0])\n",
    "sns.countplot(data=df_human, y='Activity_Type', ax=axes[1])\n",
    "\n",
    "axes[0].set_xlabel(\"Number of Data Points (rat)\")\n",
    "axes[1].set_xlabel(\"Number of Data Points (human)\")\n",
    "\n",
    "for ax in axes :    # loop over each chart.\n",
    "\n",
    "    ax.set_xscale('log')\n",
    "    \n",
    "    for container in ax.containers:\n",
    "        ax.bar_label(container)\n",
    "\n",
    "fig.tight_layout()"
   ]
  },
  {
   "cell_type": "markdown",
   "id": "399f224e-94be-44ce-8c73-355aea1b2c5b",
   "metadata": {},
   "source": [
    "To compare the small-molecule bioactivity between rats and humans, we need to use the same activity measures.  The rat data set has only the potency values, while the human data has other types of activities (e.g., EC50, IC50, Ki, Kd, ...).  Because the potency is the only activity type available for **both** species, we will use the potency data for comparison."
   ]
  },
  {
   "cell_type": "markdown",
   "id": "546a3bba-baf5-4edf-8d88-3f08e48f8570",
   "metadata": {},
   "source": [
    "### Checking the available bioassays"
   ]
  },
  {
   "cell_type": "markdown",
   "id": "ccbf214a-24b0-4050-af7d-f489822bc2ce",
   "metadata": {},
   "source": [
    "This section identifies the unique bioassays in which the rat and human thyroid hormone receptor were targeted."
   ]
  },
  {
   "cell_type": "markdown",
   "id": "03481151-1377-454c-b4aa-0f5af6a489e3",
   "metadata": {},
   "source": [
    "First, let's get the number of unique AIDs for rat thyroid hormone receptor."
   ]
  },
  {
   "cell_type": "code",
   "execution_count": null,
   "id": "e1116b77-992b-444a-8f3a-311079d8b567",
   "metadata": {},
   "outputs": [],
   "source": [
    "df_rat['BioAssay_AID'].nunique()"
   ]
  },
  {
   "cell_type": "markdown",
   "id": "7ba1b772-159b-423d-bcb9-4546984f6e1a",
   "metadata": {},
   "source": [
    "Let's get the number of data points for rat thyroid hormone receptor."
   ]
  },
  {
   "cell_type": "code",
   "execution_count": null,
   "id": "4031ca1f-2bec-4b3f-b10a-059b59f80c81",
   "metadata": {},
   "outputs": [],
   "source": [
    "df_rat['BioAssay_AID'].value_counts()"
   ]
  },
  {
   "cell_type": "markdown",
   "id": "9e39f542-490a-4780-b526-5e7bc3095b5c",
   "metadata": {},
   "source": [
    "Now check the number of unique assays and the number of data points for each unique assay for human thyroid hormone receptor."
   ]
  },
  {
   "cell_type": "code",
   "execution_count": null,
   "id": "ddf4304a-74d7-4df0-b414-89bfa4b223d3",
   "metadata": {},
   "outputs": [],
   "source": [
    "# Write your own code\n"
   ]
  },
  {
   "cell_type": "code",
   "execution_count": null,
   "id": "a8d9aabd-b51d-46f8-8e98-1549eeaf5f71",
   "metadata": {},
   "outputs": [],
   "source": [
    "# Write your own code\n"
   ]
  },
  {
   "cell_type": "markdown",
   "id": "5a2e35ed-953e-426b-a3cf-920e1eacd6c6",
   "metadata": {},
   "source": [
    "There are more than one hundred assays for human thyroid hormone receptor. However, we are interested in the assays with the **potency** values, because only the potency data is available for both rats and humans.  Therefore, let's focus on them."
   ]
  },
  {
   "cell_type": "code",
   "execution_count": null,
   "id": "f64b86a3-7448-41d8-9ce8-c4e676b83002",
   "metadata": {},
   "outputs": [],
   "source": [
    "df_rat[ df_rat['Activity_Type'] == 'Potency'][['BioAssay_AID', 'BioAssay_Name']].value_counts()"
   ]
  },
  {
   "cell_type": "code",
   "execution_count": null,
   "id": "e833b998-3bed-413d-bf08-8989b2469b91",
   "metadata": {},
   "outputs": [],
   "source": [
    "df_human[ df_human['Activity_Type'] == 'Potency'][['BioAssay_AID', 'BioAssay_Name']].value_counts()"
   ]
  },
  {
   "cell_type": "markdown",
   "id": "d70cec8e-2635-4198-be7d-c7bbae3dc500",
   "metadata": {},
   "source": [
    "Considering the title and the data point counts for the returned assays, the three assays for rat thyroid hormone receptor are high-throughput screening (HTS) assays.  Therefore, we also need HTS assays for human thyroid hormone receptor.  \n",
    "\n",
    "In the remaining part of this notebook, we will use the qHTS assays for antagonists of rat and human thyroid hormone receptors.  \n",
    "\n",
    "- [**AID 743065**](https://pubchem.ncbi.nlm.nih.gov/bioassay/743065): Confirmatory Assay (Antagonists)  \n",
    "- [**AID 588547**](https://pubchem.ncbi.nlm.nih.gov/bioassay/588547): Confirmatory (antagonists)  \n",
    "\n",
    "They were chosen based on the following considerations.  \n",
    "- The four assays for human thyroid hormone receptors with more than 1000 data points (i.e., 1469, 1479, 588547, 588545) are HTS screening.    \n",
    "- Strictly speaking, AIDs 1469 and 1479 are not targeting the human thyroid hormone receptor, but its interaction with steroid receptor coregulator.    \n",
    "- At the [summary page of **AID 743067**](https://pubchem.ncbi.nlm.nih.gov/bioassay/743067#section=Comment), it is explained that the assay summarizes from an confirmatory antagonist assay ([**AID 743065**](https://pubchem.ncbi.nlm.nih.gov/bioassay/743065)) and a cell viability counter screening ([**AID 743064**](https://pubchem.ncbi.nlm.nih.gov/bioassay/743064)).    \n",
    "- More active compounds were identified in the antagonist HTS assays for both species ([**AIDs 743065**](https::/pubchem.ncbi.nlm.nih.gov/bioassay/743065) and [**588547**](https::/pubchem.ncbi.nlm.nih.gov/bioassay/588547)), compared to the agonist assays ([**AIDs 743066**](https::/pubchem.ncbi.nlm.nih.gov/bioassay/743066) and [**588545**](https::/pubchem.ncbi.nlm.nih.gov/bioassay/588545)).    "
   ]
  },
  {
   "cell_type": "markdown",
   "id": "4f89482e-e863-4c86-8877-13f59c46a540",
   "metadata": {},
   "source": [
    "## Comparing HTS screening data for Rat and human"
   ]
  },
  {
   "cell_type": "markdown",
   "id": "1c2fe161-6746-4534-872c-6c6d668b8db2",
   "metadata": {},
   "source": [
    "The following section uses the quantitative HTS (qHTS) data for thyroid hormone receptor antagonsts.  The data files were downlonaded from their BioAssay record pages:\n",
    "\n",
    "- [**AID 743065**](https://pubchem.ncbi.nlm.nih.gov/bioassay/743065): Confirmatory Assay (Antagonists)  \n",
    "- [**AID 588547**](https://pubchem.ncbi.nlm.nih.gov/bioassay/588547): Confirmatory (antagonists)\n",
    "\n",
    "The names of the downloaded files are:"
   ]
  },
  {
   "cell_type": "markdown",
   "id": "da507944-52bd-4128-b253-a7f6080b4cbe",
   "metadata": {},
   "source": [
    "### Loading the HTS screening data for Rats"
   ]
  },
  {
   "cell_type": "markdown",
   "id": "5128d96d-5c44-452d-a15f-8baa6f8b16dc",
   "metadata": {},
   "source": [
    "Now let's load the HTS data for the rat thyroid hormone receptor.  \n",
    "- The data type for the `PUBCHEM_CID` column is explicitly specified to ensure it is read as an integer, which is important for accurate data handling.\n",
    "- The first 5 rows are skipped because they do not contain data, but meta data (e.g., the description of each column)."
   ]
  },
  {
   "cell_type": "code",
   "execution_count": null,
   "id": "7a7f91af-32eb-4468-9973-50ce0fdc9f46",
   "metadata": {},
   "outputs": [],
   "source": [
    "mydtype = {'PUBCHEM_CID':'Int64' }\n",
    "df_aid_rat = pd.read_csv('AID_743065_datatable_all.zip', compression='zip', skiprows=[1,2,3,4,5], dtype=mydtype, low_memory=False)"
   ]
  },
  {
   "cell_type": "code",
   "execution_count": null,
   "id": "a759c27f-46f1-47a9-9501-1b1b7b04ccd6",
   "metadata": {},
   "outputs": [],
   "source": [
    "df_aid_rat.head()"
   ]
  },
  {
   "cell_type": "code",
   "execution_count": null,
   "id": "a1580b81-42ae-4c17-8bda-e34ed32838b1",
   "metadata": {},
   "outputs": [],
   "source": [
    "df_aid_rat.shape"
   ]
  },
  {
   "cell_type": "markdown",
   "id": "33db072c-6b41-403a-b727-43dc741fc46f",
   "metadata": {},
   "source": [
    "This data frame has many columns that don't have any values. The following cell removes those columns and displays the updated dimensions."
   ]
  },
  {
   "cell_type": "code",
   "execution_count": null,
   "id": "acfce54e-7ea9-48bc-8960-4267c6370452",
   "metadata": {},
   "outputs": [],
   "source": [
    "df_aid_rat = df_aid_rat.dropna(how='all', axis=1)\n",
    "df_aid_rat.shape"
   ]
  },
  {
   "cell_type": "markdown",
   "id": "1d89007d-7603-4fdd-b25c-d1047cf1df6d",
   "metadata": {},
   "source": [
    "### Loading the HTS data for humans"
   ]
  },
  {
   "cell_type": "markdown",
   "id": "d6f2f2f7-a005-4c25-84f6-b6b6eefb5fd6",
   "metadata": {},
   "source": [
    "Now read the CSV file for the human HTS data into a dataframe called `df_aid_human`. Make sure to skip the initial descriptive rows and set the data type for 'PUBCHEM_CID' to 'Int64'."
   ]
  },
  {
   "cell_type": "code",
   "execution_count": null,
   "id": "a40ca909-432c-4e2c-84c1-f46610197e3f",
   "metadata": {},
   "outputs": [],
   "source": [
    "# Write your own code here.\n"
   ]
  },
  {
   "cell_type": "markdown",
   "id": "2055926a-1210-45fe-afbe-9a44fc35d617",
   "metadata": {},
   "source": [
    "Check a first few lines of the new data frame."
   ]
  },
  {
   "cell_type": "code",
   "execution_count": null,
   "id": "3683a94c-cbf7-4a9e-9954-5b44da1e4604",
   "metadata": {},
   "outputs": [],
   "source": [
    "# Write your own code here.\n"
   ]
  },
  {
   "cell_type": "markdown",
   "id": "a58b1c33-7094-4b50-87fb-09c3f1723672",
   "metadata": {},
   "source": [
    "Displays the dimensions of the human HTS DataFrame."
   ]
  },
  {
   "cell_type": "code",
   "execution_count": null,
   "id": "d44263fc-ae71-4685-b701-4597b1d04b60",
   "metadata": {},
   "outputs": [],
   "source": [
    "# Write your own code here.\n"
   ]
  },
  {
   "cell_type": "markdown",
   "id": "95552425-ab0c-48ba-bc64-62d0efd90d25",
   "metadata": {},
   "source": [
    "The following cell Remove the columns containing no values and displays the updated dimensions."
   ]
  },
  {
   "cell_type": "code",
   "execution_count": null,
   "id": "71632a18-5383-495e-b425-4a5affe63033",
   "metadata": {},
   "outputs": [],
   "source": [
    "# Write your own code here.\n"
   ]
  },
  {
   "cell_type": "markdown",
   "id": "fea90f1a-2b49-4a98-aebd-b2d5463eabfe",
   "metadata": {},
   "source": [
    "### Substance-level analysis"
   ]
  },
  {
   "cell_type": "markdown",
   "id": "511a2134-8aba-4a5d-b7af-a86c5318298b",
   "metadata": {},
   "source": [
    "This section compares the HTS data for rats and humans at the substance level"
   ]
  },
  {
   "cell_type": "code",
   "execution_count": null,
   "id": "ebd51326-22c8-4373-b7c0-300879630352",
   "metadata": {},
   "outputs": [],
   "source": [
    "#df_aid_rat.columns    # Uncomment this line if you want to see what columns the data frame has."
   ]
  },
  {
   "cell_type": "code",
   "execution_count": null,
   "id": "3b7c733d-a7ef-42d9-9b03-be00cd644dcf",
   "metadata": {},
   "outputs": [],
   "source": [
    "#df_aid_human.columns"
   ]
  },
  {
   "cell_type": "markdown",
   "id": "58ef71c2-c012-4666-8ecc-cdf6ece8159a",
   "metadata": {},
   "source": [
    "#### Activity outcomes and phenotypes"
   ]
  },
  {
   "cell_type": "markdown",
   "id": "af1e6e1d-1f18-40a6-aa56-be72cf3c55a5",
   "metadata": {},
   "source": [
    "This part of the analysis focuses on comparing the activity outcomes and observed phenotypes from the HTS data for both species."
   ]
  },
  {
   "cell_type": "markdown",
   "id": "c0007934-c2ea-4261-8c1b-a9909c1d4b47",
   "metadata": {},
   "source": [
    "First, let's generate two bar charts to visually compare the distribution of `PUBCHEM_ACTIVITY_OUTCOME` in the rat and human HTS datasets."
   ]
  },
  {
   "cell_type": "code",
   "execution_count": null,
   "id": "1071405f-038d-45c0-88c2-c6afc5ebf23b",
   "metadata": {},
   "outputs": [],
   "source": [
    "fig, axes = plt.subplots(1, 2, figsize=(10,4), sharey=True)\n",
    "sns.countplot(data=df_aid_rat, y='PUBCHEM_ACTIVITY_OUTCOME', ax=axes[0])\n",
    "sns.countplot(data=df_aid_human, y='PUBCHEM_ACTIVITY_OUTCOME', ax=axes[1])\n",
    "\n",
    "axes[0].set_xlabel(\"Number of Data Points (rat)\")\n",
    "axes[1].set_xlabel(\"Number of Data Points (human)\")\n",
    "\n",
    "for ax in axes :    # loop over each chart.\n",
    "\n",
    "    for container in ax.containers:\n",
    "        ax.bar_label(container)\n",
    "\n",
    "fig.tight_layout()"
   ]
  },
  {
   "cell_type": "markdown",
   "id": "956c1a52-bede-4f2a-a3a5-148abb10c2ad",
   "metadata": {},
   "source": [
    "- The majority of the data points in the two data sets are declared in `Inactive`.\n",
    "- There are 1880 `Active` data points in the rat data set and 12 `Active` data points in the human data set."
   ]
  },
  {
   "cell_type": "markdown",
   "id": "3a20f563-71a4-40b0-9a5b-96102e02276b",
   "metadata": {},
   "source": [
    "Both data sets have a column containing information on the observed characteristics of the chemicals tested in the assays.  These columns are:  \n",
    "\n",
    "- `Phenotype-Replicate_1` for rats  \n",
    "- `Phenotype` for humans  \n",
    "\n",
    "It is worth mentioning that the column for rats is suffixed with `-Replicate_1`.  The rat data set contains data from repeated assay experiments, which are indicated as Replicate_1, Replicate_2, Replicate_3, and so on. For simplicity, we will use the data for `-Replicate_1`, but if we were to perform a stricter analysis, we should consider data from all replicates."
   ]
  },
  {
   "cell_type": "markdown",
   "id": "98e44484-f5c5-47ff-8154-ae699faaf53c",
   "metadata": {},
   "source": [
    "Now let's create two bar charts to compare the distribution of phenotypes ('Phenotype-Replicate_1' for rat and 'Phenotype' for human) across the two HTS datasets."
   ]
  },
  {
   "cell_type": "code",
   "execution_count": null,
   "id": "50fae342-54eb-4417-88d3-03ab3a03d2f0",
   "metadata": {},
   "outputs": [],
   "source": [
    "# Write your own code\n"
   ]
  },
  {
   "cell_type": "markdown",
   "id": "30e4e10d-7a7b-4f0c-9d8b-e9125583fc57",
   "metadata": {
    "scrolled": true
   },
   "source": [
    "To find the relationship between the activity outcomes and phenotypes, let's count the occurrences of each unique combination of 'PUBCHEM_ACTIVITY_OUTCOME' and 'Phenotype-Replicate_1' in the **rat HTS data**."
   ]
  },
  {
   "cell_type": "code",
   "execution_count": null,
   "id": "5216a6dc-0c55-4735-b656-d567b78f1651",
   "metadata": {},
   "outputs": [],
   "source": [
    "df_aid_rat[['PUBCHEM_ACTIVITY_OUTCOME', 'Phenotype-Replicate_1' ]].value_counts()"
   ]
  },
  {
   "cell_type": "markdown",
   "id": "a74de428-945e-4730-889c-5cf6b850f97c",
   "metadata": {},
   "source": [
    "`.groupby()` and `.size()` can be used to get the same information (but sorted differently)."
   ]
  },
  {
   "cell_type": "code",
   "execution_count": null,
   "id": "048092d4-4d6f-425f-aa09-d0ff9a5f0794",
   "metadata": {},
   "outputs": [],
   "source": [
    "df_aid_rat.groupby(by=['PUBCHEM_ACTIVITY_OUTCOME', 'Phenotype-Replicate_1']).size()"
   ]
  },
  {
   "cell_type": "markdown",
   "id": "b4fa1195-bc43-44b7-b80f-34e2e2a1ec4a",
   "metadata": {},
   "source": [
    "Now counts the occurrences of each unique combination of 'PUBCHEM_ACTIVITY_OUTCOME' and 'Phenotype' in the **human HTS data**."
   ]
  },
  {
   "cell_type": "code",
   "execution_count": null,
   "id": "ff7512fc-3c4e-4124-a92a-4be9e94bf86e",
   "metadata": {},
   "outputs": [],
   "source": [
    "df_aid_human[['PUBCHEM_ACTIVITY_OUTCOME', 'Phenotype' ]].value_counts()"
   ]
  },
  {
   "cell_type": "markdown",
   "id": "5f8ece1e-3a0c-4038-a122-1fc572136065",
   "metadata": {},
   "source": [
    "Get the same information using `.groupby()` and `.size()`"
   ]
  },
  {
   "cell_type": "code",
   "execution_count": null,
   "id": "0923e99d-4bfa-485b-9d54-cd9c4f541797",
   "metadata": {},
   "outputs": [],
   "source": [
    "df_aid_human.groupby(by=['PUBCHEM_ACTIVITY_OUTCOME', 'Phenotype']).size()"
   ]
  },
  {
   "cell_type": "markdown",
   "id": "89e90da3-cc4e-4dcb-a42a-c657a6c59518",
   "metadata": {},
   "source": [
    "There are several noteworthy things.\n",
    "\n",
    "- The objective of the two assays considered here (i.e., [AID 743065](https://pubchem.ncbi.nlm.nih.gov/bioassay/743065) and [AID 588547](https://pubchem.ncbi.nlm.nih.gov/bioassay/588547)) was to identify antagonists (i.e., inhibitors) of thyroid hormone receptor.  With that said, the chemicals with the `Activitor` phenotype (i.e., agonist) are not declared as `Active` because the activator identification was not the objective of the assays.  They are declared as `Inactive` in the rat data set and as `Inconclusive` in the human data set. Note that the two assays are different experiments and whether to view activators as inactive or inconclusive is up to those who performed the experiment.\n",
    "<br>  \n",
    "- In the human data set, the compounds with the \"inconclusive\" outcomes have additional phenotypes, including Cytotoxic, Flurescent, Inconclusive, Inhibitor and Activator.\n",
    "    - **cytotoxic**: some chemicals are so toxic that they kill cells.\n",
    "    - **fluorescent**: some assays measure the activity of a chemical against the target protein by measuring the change in the fluorescence intensity caused by the protein-ligand interaction. However, some chemicals can absorb light energy and emit light through flourescence even without interaction with the target proteins.\n",
    "    - inconclusive or inhibitor: some chemicals did not show a clear dose-response curve to compute the quantitative inhibitory activities (e.g., efficacy and potency), or did not show enough inhibitory activity."
   ]
  },
  {
   "cell_type": "markdown",
   "id": "017fe2cb-5c25-4d1e-9220-e7b3e1eb82b1",
   "metadata": {},
   "source": [
    "#### Efficacy"
   ]
  },
  {
   "cell_type": "markdown",
   "id": "d43b2e20-e91b-495f-9f24-2307d4de3f71",
   "metadata": {},
   "source": [
    "In this section, we compare the **efficacy** data from the HTS assays for both rat and human thyroid hormone receptors."
   ]
  },
  {
   "cell_type": "markdown",
   "id": "1716abb7-eacc-41b6-b5f1-00ad217b052b",
   "metadata": {},
   "source": [
    "First, let's generate two histograms to visualize and compare the distribution of efficacy values ('Efficacy-Replicate_1' for rat and 'Efficacy' for human) for different activity outcomes."
   ]
  },
  {
   "cell_type": "code",
   "execution_count": null,
   "id": "51a02eb0-eed1-4b37-9bf2-507dd587b2c0",
   "metadata": {},
   "outputs": [],
   "source": [
    "fig, axes = plt.subplots(1, 2, figsize=(10,4), sharey=True)\n",
    "\n",
    "sns.histplot(data=df_aid_rat, x='Efficacy-Replicate_1', hue='PUBCHEM_ACTIVITY_OUTCOME',ax=axes[0])\n",
    "sns.histplot(data=df_aid_human, x='Efficacy', hue='PUBCHEM_ACTIVITY_OUTCOME', ax=axes[1])\n",
    "\n",
    "axes[0].set_xlabel(\"Efficacy (%, rat)\")\n",
    "axes[1].set_xlabel(\"Efficacy (%, human)\")\n",
    "\n",
    "fig.tight_layout()"
   ]
  },
  {
   "cell_type": "markdown",
   "id": "9f5b4f71-ba7e-4ecc-90e9-f57065011a77",
   "metadata": {},
   "source": [
    "This time, visualize the same data using strip plot."
   ]
  },
  {
   "cell_type": "code",
   "execution_count": null,
   "id": "75a8eb0d-329f-454f-8679-55ea4a674392",
   "metadata": {},
   "outputs": [],
   "source": [
    "fig, axes = plt.subplots(1, 2, figsize=(10,4), sharey=True)\n",
    "\n",
    "hue_order = ['Active',  'Inconclusive', 'Inactive']\n",
    "\n",
    "sns.stripplot(data=df_aid_rat, x='Efficacy-Replicate_1', y='PUBCHEM_ACTIVITY_OUTCOME', hue='PUBCHEM_ACTIVITY_OUTCOME', hue_order=hue_order, ax=axes[0])\n",
    "sns.stripplot(data=df_aid_human, x='Efficacy', y='PUBCHEM_ACTIVITY_OUTCOME', hue='PUBCHEM_ACTIVITY_OUTCOME', hue_order=hue_order, ax=axes[1])\n",
    "\n",
    "axes[0].set_xlabel(\"Efficacy (micro-M, rat)\")\n",
    "axes[1].set_xlabel(\"Efficacy (micro-M, human)\")"
   ]
  },
  {
   "cell_type": "markdown",
   "id": "a080aeee-5956-4d44-9553-a494a897d4f7",
   "metadata": {},
   "source": [
    "You can use box plots to visualize the minimum, maximum, median, and outliers of the efficacy values."
   ]
  },
  {
   "cell_type": "code",
   "execution_count": null,
   "id": "e9cb8122-a7e3-44e8-8f0c-a1204e506f8d",
   "metadata": {},
   "outputs": [],
   "source": [
    "fig, axes = plt.subplots(1, 2, figsize=(10,4), sharey=True)\n",
    "\n",
    "hue_order = ['Active',  'Inconclusive', 'Inactive']\n",
    "\n",
    "sns.boxplot(data=df_aid_rat, x='Efficacy-Replicate_1', y='PUBCHEM_ACTIVITY_OUTCOME', hue='PUBCHEM_ACTIVITY_OUTCOME', hue_order=hue_order, ax=axes[0])\n",
    "sns.boxplot(data=df_aid_human, x='Efficacy', y='PUBCHEM_ACTIVITY_OUTCOME', hue='PUBCHEM_ACTIVITY_OUTCOME', hue_order=hue_order, ax=axes[1])\n",
    "\n",
    "axes[0].set_xlabel(\"Efficacy (micro-M, rat)\")\n",
    "axes[1].set_xlabel(\"Efficacy (micro-M, human)\")"
   ]
  },
  {
   "cell_type": "markdown",
   "id": "86a49485-5ff0-494a-a4c3-24528c112e0a",
   "metadata": {},
   "source": [
    "The above histograms, strip plots, and box plots indicate that the assay against the **human** thyroid hormone receptor did not determine efficacy values for inactive compounds."
   ]
  },
  {
   "cell_type": "markdown",
   "id": "75d6372a-189d-4a5f-b4b9-41c027816262",
   "metadata": {},
   "source": [
    "#### Potency"
   ]
  },
  {
   "cell_type": "markdown",
   "id": "8ff37424-1a82-489c-8e6b-6ebf9973e9be",
   "metadata": {},
   "source": [
    "Now visualize the potency of the tested chemicals on the rat and human thyroid hormone receptors."
   ]
  },
  {
   "cell_type": "markdown",
   "id": "a8d46f41-643b-4537-859c-753873ac2d1d",
   "metadata": {},
   "source": [
    "Generate two histograms to visualize and compare the distribution of potency values for different activity outcomes in the rat and human HTS datasets."
   ]
  },
  {
   "cell_type": "code",
   "execution_count": null,
   "id": "dabf33d3-48e4-4312-8a9d-6fdce61f20f6",
   "metadata": {},
   "outputs": [],
   "source": [
    "# Write your own code\n"
   ]
  },
  {
   "cell_type": "markdown",
   "id": "5ba02b35-70fb-4e9a-b68e-16444b203522",
   "metadata": {},
   "source": [
    "Generate two strip plots to visualize the potency values for different activity outcomes in the rat and human HTS datasets."
   ]
  },
  {
   "cell_type": "code",
   "execution_count": null,
   "id": "bd3bafe4-bf5c-4e27-926b-5265cfccb40d",
   "metadata": {},
   "outputs": [],
   "source": [
    "# Write your own code\n"
   ]
  },
  {
   "cell_type": "markdown",
   "id": "499ca3ae-32bb-4126-9030-855db1bc48ad",
   "metadata": {},
   "source": [
    "Generate two box plots to visualize the potency data for different activity outcomes in the rat and human HTS datasets."
   ]
  },
  {
   "cell_type": "code",
   "execution_count": null,
   "id": "4947e906-dacc-4213-9c8a-5fbd7b686e39",
   "metadata": {},
   "outputs": [],
   "source": [
    "# Write your own code\n"
   ]
  },
  {
   "cell_type": "markdown",
   "id": "b16d5114-d797-433b-9d18-24133bc7a33d",
   "metadata": {},
   "source": [
    "Compute the mean, median, minimum, maximum of the efficacy and potency values for the different outcomes of the **rat** data set."
   ]
  },
  {
   "cell_type": "code",
   "execution_count": null,
   "id": "09aaaa9b-f9da-4cf5-93fc-daf4994afe70",
   "metadata": {},
   "outputs": [],
   "source": [
    "df_aid_rat.groupby('PUBCHEM_ACTIVITY_OUTCOME')[['Efficacy-Replicate_1', 'Potency-Replicate_1']].mean()"
   ]
  },
  {
   "cell_type": "code",
   "execution_count": null,
   "id": "2ffdbc1f-1c7d-4142-a6c5-08d141100b4d",
   "metadata": {},
   "outputs": [],
   "source": [
    "df_aid_rat.groupby('PUBCHEM_ACTIVITY_OUTCOME')[['Efficacy-Replicate_1', 'Potency-Replicate_1']].median()"
   ]
  },
  {
   "cell_type": "code",
   "execution_count": null,
   "id": "2a078f5a-adc1-44cb-952e-02d8f7258dd5",
   "metadata": {},
   "outputs": [],
   "source": [
    "df_aid_rat.groupby('PUBCHEM_ACTIVITY_OUTCOME')[['Efficacy-Replicate_1', 'Potency-Replicate_1']].min()"
   ]
  },
  {
   "cell_type": "code",
   "execution_count": null,
   "id": "5a44cc37-abca-4ce9-9128-e84ba01be264",
   "metadata": {},
   "outputs": [],
   "source": [
    "df_aid_rat.groupby('PUBCHEM_ACTIVITY_OUTCOME')[['Efficacy-Replicate_1', 'Potency-Replicate_1']].max()"
   ]
  },
  {
   "cell_type": "markdown",
   "id": "fbec0221-48f0-4d95-9ae3-9681726fb1da",
   "metadata": {},
   "source": [
    "Compute the mean, median, minimum, maximum of the efficacy and potency values for the different outcomes of the **human** data set."
   ]
  },
  {
   "cell_type": "code",
   "execution_count": null,
   "id": "4071332e-046d-4ec0-9f3d-aeb56fd34be8",
   "metadata": {},
   "outputs": [],
   "source": [
    "# Write your own code for mean\n"
   ]
  },
  {
   "cell_type": "code",
   "execution_count": null,
   "id": "7ef3c72e-e0da-427e-ac8e-59e180251267",
   "metadata": {},
   "outputs": [],
   "source": [
    "# Write your own code for median\n"
   ]
  },
  {
   "cell_type": "code",
   "execution_count": null,
   "id": "4c09bd73-7653-45b8-adb3-cc7eb23ad4f0",
   "metadata": {},
   "outputs": [],
   "source": [
    "# Write your own code for minimum\n"
   ]
  },
  {
   "cell_type": "code",
   "execution_count": null,
   "id": "561b1774-092f-4381-9e3f-1e7249318d99",
   "metadata": {},
   "outputs": [],
   "source": [
    "# Write your own code for maximum\n"
   ]
  },
  {
   "cell_type": "markdown",
   "id": "3c8e4740-51a2-4146-8665-50003074a7bb",
   "metadata": {},
   "source": [
    "#### Efficacy vs Potency"
   ]
  },
  {
   "cell_type": "markdown",
   "id": "93674ed4-7052-4d03-8a9d-1c975bb0fdca",
   "metadata": {},
   "source": [
    "This section explores the relationship between the efficacy and potency of the tested compounds for both the rat and human thyroid hormone receptors.\n"
   ]
  },
  {
   "cell_type": "markdown",
   "id": "e8e556b1-8d4f-40b3-b7bd-d173fe64a7f8",
   "metadata": {},
   "source": [
    "The following code creates two scatter plots, one for the rat data and one for the human data, to visualize the relationship between potency and efficacy, with points colored by their activity outcome."
   ]
  },
  {
   "cell_type": "code",
   "execution_count": null,
   "id": "c074bcba-3b2d-4605-baa7-459eaed23394",
   "metadata": {},
   "outputs": [],
   "source": [
    "fig, axes = plt.subplots(1, 2, figsize=(10,4), sharey=False)\n",
    "\n",
    "hue_order = ['Active',  'Inconclusive', 'Inactive']\n",
    "\n",
    "sns.scatterplot(data=df_aid_rat, x='Potency-Replicate_1', y='Efficacy-Replicate_1', hue='PUBCHEM_ACTIVITY_OUTCOME', hue_order=hue_order, ax=axes[0])\n",
    "sns.scatterplot(data=df_aid_human, x='Potency', y='Efficacy', hue='PUBCHEM_ACTIVITY_OUTCOME', hue_order=hue_order, ax=axes[1])\n",
    "\n",
    "axes[0].set_xlabel(\"Potency (micro-M, rat)\")\n",
    "axes[1].set_xlabel(\"Potency (micro-M, human)\")\n",
    "\n",
    "axes[0].set_ylabel(\"Efficacy (%, rat)\")\n",
    "axes[1].set_ylabel(\"Efficacy (%, human)\")\n",
    "\n",
    "# Uncomment next three lines to limit the x-axis to 200.\n",
    "#for ax in axes :    # loop over each panel\n",
    "#    ax.set_xlim(0, 200)\n",
    "#    ax.set_ylim(0, 200)"
   ]
  },
  {
   "cell_type": "markdown",
   "id": "c185d581-dd87-4f2c-a1b3-885d2df0a685",
   "metadata": {},
   "source": [
    "### Compound-level Analysis"
   ]
  },
  {
   "cell_type": "markdown",
   "id": "94a86dfe-7b12-4778-b8c2-c39a173b933e",
   "metadata": {},
   "source": [
    "In PubChem, substances are chemical records provided by individual data contributors and compounds are unique chemical structures extracted from substance records.  \n",
    "In many assays, substances can be viewed as \"samples\" of chemicals.  A chemical can be tested in multiple samples containing that chemical in a single assay. The samples are not necessary the same as each other. For example, they may be different in terms of its concentration, temperature, solvent used, etc.  \n",
    "Therefore, if you want to determine the activity of a chemical, you may need to collapse the data from multiple samples (i.e., substances) into a single data point for the chemical.  "
   ]
  },
  {
   "cell_type": "markdown",
   "id": "c0165bc0-2338-40a9-9b84-eda97cda67b0",
   "metadata": {},
   "source": [
    "The code cells below checks how many unique compounds in the data set and how many of them are associated with multiple substances."
   ]
  },
  {
   "cell_type": "code",
   "execution_count": null,
   "id": "5e8bbda9-5e93-4458-b796-14b6f73d74df",
   "metadata": {},
   "outputs": [],
   "source": [
    "df_rat_cidcount = pd.DataFrame(df_aid_rat['PUBCHEM_CID'].value_counts()).reset_index()\n",
    "df_human_cidcount = pd.DataFrame(df_aid_human['PUBCHEM_CID'].value_counts()).reset_index()"
   ]
  },
  {
   "cell_type": "code",
   "execution_count": null,
   "id": "cfd1c465-f7b4-4104-a8a7-640e896f87bd",
   "metadata": {},
   "outputs": [],
   "source": [
    "print(\"#-- Rat data set\")\n",
    "print(\"# CIDs in total                      :\", len(df_rat_cidcount) )\n",
    "print(\"# CIDs associated with multiple SIDs :\", len(df_rat_cidcount[df_rat_cidcount['count'] > 1]) )\n",
    "print(\"------------------------------------------------\")\n",
    "print(\"#-- Human data set\")\n",
    "print(\"# CIDs in total                      :\", len(df_human_cidcount) )\n",
    "print(\"# CIDs associated with multiple SIDs :\", len(df_human_cidcount[df_human_cidcount['count'] > 1]) )"
   ]
  },
  {
   "cell_type": "code",
   "execution_count": null,
   "id": "2a9b352f-3126-479a-8f72-4b869b3d2d16",
   "metadata": {},
   "outputs": [],
   "source": [
    "fig, axes = plt.subplots(1, 2, figsize=(10,4), sharey=False)\n",
    "\n",
    "sns.countplot(data=df_rat_cidcount, x='count',  ax=axes[0])\n",
    "sns.countplot(data=df_human_cidcount, x='count',  ax=axes[1])\n",
    "\n",
    "axes[0].set_xlabel(\"Number of SIDs per CID\")\n",
    "axes[1].set_xlabel(\"Number of SIDs per CID\")\n",
    "\n",
    "axes[0].set_ylabel(\"Number of CIDs\")\n",
    "axes[1].set_ylabel(\"Number of CIDs\")\n",
    "\n",
    "axes[0].set_title(\"Rat\")\n",
    "axes[1].set_title(\"Human\")"
   ]
  },
  {
   "cell_type": "markdown",
   "id": "c6e085d6-de50-4099-931f-deea6097cb06",
   "metadata": {},
   "source": []
  },
  {
   "cell_type": "markdown",
   "id": "fa64fbd9-aa01-4920-98e8-84dbfd7510ae",
   "metadata": {},
   "source": [
    "#### Aggregating substance data rats"
   ]
  },
  {
   "cell_type": "markdown",
   "id": "7b8bbd86-4610-40a6-add6-472183028e46",
   "metadata": {},
   "source": [
    "Now we aggregate the substance data for each unique compound (identified by its CID).\n",
    "\n",
    "This code groups the rat HTS data by 'PUBCHEM_CID' and store them in a data frame with three columns (`PUBCHEM_CID`, `Potency-Replicate_1`, and `Efficacy-Replicate_1`).  Note that some CIDs are associated with multiple SIDs, and hence, multiple activity values.  For those cases, we are going to take the average of the multiple activity values."
   ]
  },
  {
   "cell_type": "code",
   "execution_count": null,
   "id": "f56a51ca-a409-4ad3-8cce-36e05a91138d",
   "metadata": {},
   "outputs": [],
   "source": [
    "df_aid_rat_cid = df_aid_rat.groupby('PUBCHEM_CID').mean(numeric_only=True).reset_index()\n",
    "df_aid_rat_cid = df_aid_rat_cid[['PUBCHEM_CID', 'Potency-Replicate_1', 'Efficacy-Replicate_1']]"
   ]
  },
  {
   "cell_type": "code",
   "execution_count": null,
   "id": "566b4f28-311a-451c-b1a6-1e3e49045987",
   "metadata": {},
   "outputs": [],
   "source": [
    "df_aid_rat_cid.head()"
   ]
  },
  {
   "cell_type": "markdown",
   "id": "cd95189c-9378-4d61-b229-a9e4926903b2",
   "metadata": {},
   "source": [
    "This code defines a function, `get_cid_outcome`, that determines a single activity outcome for each unique compound ID (CID) in a given DataFrame. If a compound has multiple, conflicting outcomes recorded, it is labeled as \"Conflicting\"."
   ]
  },
  {
   "cell_type": "code",
   "execution_count": null,
   "id": "62cb6a04-20f7-418a-8d98-4d36889f263f",
   "metadata": {},
   "outputs": [],
   "source": [
    "def get_cid_outcome(df) :\n",
    "\n",
    "    outcomes = {}\n",
    "\n",
    "    for cid in df['PUBCHEM_CID'].dropna().unique() :   # loop over unique CIDs (without Null)\n",
    "\n",
    "        outcome =\"\"\n",
    "    \n",
    "        unique_outcomes = df[ df['PUBCHEM_CID'] == cid ]['PUBCHEM_ACTIVITY_OUTCOME'].unique()\n",
    "    \n",
    "        if ( len(unique_outcomes) == 1 ) :\n",
    "            outcome = unique_outcomes[0]\n",
    "        elif ( len(unique_outcomes) > 1 ) :\n",
    "            outcome = \"Conflicting\"\n",
    "        else :\n",
    "            print(\"Warning: Something is wrong\", cid, unique_outcomes)\n",
    "\n",
    "        outcomes[ cid ] = outcome\n",
    "\n",
    "    df_outcomes = pd.DataFrame.from_dict(outcomes, orient='index', columns=['PUBCHEM_ACTIVITY_OUTCOME']).reset_index(names='PUBCHEM_CID')\n",
    "\n",
    "    return(df_outcomes)"
   ]
  },
  {
   "cell_type": "markdown",
   "id": "798ddf0a-c96a-4fd7-b73d-44179414d35f",
   "metadata": {},
   "source": [
    "This line of code applies the get_cid_outcome function to the rat HTS data to generate a DataFrame that summarizes the activity outcome for each unique compound."
   ]
  },
  {
   "cell_type": "code",
   "execution_count": null,
   "id": "42f5e6a3-3da9-4eb9-ba54-6df587051bb5",
   "metadata": {},
   "outputs": [],
   "source": [
    "df_cid_outcome_rat = get_cid_outcome(df_aid_rat)"
   ]
  },
  {
   "cell_type": "code",
   "execution_count": null,
   "id": "c1e5b9fb-9c91-458b-8777-2c2ff2ed6613",
   "metadata": {},
   "outputs": [],
   "source": [
    "df_cid_outcome_rat.head()"
   ]
  },
  {
   "cell_type": "markdown",
   "id": "74de47d0-26d7-4334-b810-265ca4870c3d",
   "metadata": {},
   "source": [
    "Now let's merge the aggregated rat compound data (containing mean potency and efficacy) with the summarized compound outcomes."
   ]
  },
  {
   "cell_type": "code",
   "execution_count": null,
   "id": "07c81e83-5840-4798-8600-2f5a68311883",
   "metadata": {},
   "outputs": [],
   "source": [
    "df_aid_rat_cid = df_aid_rat_cid.merge(df_cid_outcome_rat, on='PUBCHEM_CID', how='left')"
   ]
  },
  {
   "cell_type": "code",
   "execution_count": null,
   "id": "b109d5ab-d8cc-46f7-bd4d-4dc892c066e2",
   "metadata": {},
   "outputs": [],
   "source": [
    "df_aid_rat_cid.head()"
   ]
  },
  {
   "cell_type": "markdown",
   "id": "a13fc866-003b-411b-82e2-7f9f65758aab",
   "metadata": {},
   "source": [
    "This cell counts the occurrences of each unique 'PUBCHEM_ACTIVITY_OUTCOME' in the aggregated rat compound data."
   ]
  },
  {
   "cell_type": "code",
   "execution_count": null,
   "id": "6e7dbae3-4c7e-45f6-ab69-a4e1fb353d55",
   "metadata": {},
   "outputs": [],
   "source": [
    "df_aid_rat_cid['PUBCHEM_ACTIVITY_OUTCOME'].value_counts()"
   ]
  },
  {
   "cell_type": "code",
   "execution_count": null,
   "id": "9d6cfa99-fa49-4ffe-9cce-729be4312776",
   "metadata": {},
   "outputs": [],
   "source": []
  },
  {
   "cell_type": "markdown",
   "id": "57375acb-2aa9-43cf-b127-a41724f5beca",
   "metadata": {},
   "source": [
    "#### Aggregating substance data for humans"
   ]
  },
  {
   "cell_type": "markdown",
   "id": "fdd85bcd-40c4-466d-8f6e-9bd4933b8662",
   "metadata": {},
   "source": [
    "Now let's repeat the data aggregation process, this time for the human thyroid hormone receptor HTS data."
   ]
  },
  {
   "cell_type": "markdown",
   "id": "ff0e1342-71af-46ff-9562-463a41b2356a",
   "metadata": {},
   "source": [
    "Group the human HTS data by 'PUBCHEM_CID' and store the mean efficacy and potency values in a data frame called 'df_aid_human_cid'."
   ]
  },
  {
   "cell_type": "code",
   "execution_count": null,
   "id": "dfa3849e-54b6-420d-8269-9a9d3fb8e8e4",
   "metadata": {},
   "outputs": [],
   "source": [
    "# Write your own code\n"
   ]
  },
  {
   "cell_type": "markdown",
   "id": "d3f223da-ca40-4636-a393-059697aa0765",
   "metadata": {},
   "source": [
    "Show a first few line of the `df_aid_human_cid` data frame."
   ]
  },
  {
   "cell_type": "code",
   "execution_count": null,
   "id": "bf1f393e-48c6-4e18-be39-bb35a8b8e601",
   "metadata": {},
   "outputs": [],
   "source": [
    "# Write your own code\n"
   ]
  },
  {
   "cell_type": "markdown",
   "id": "cc9ad491-3205-404a-a0cb-837fe105b0a5",
   "metadata": {},
   "source": [
    "Use the `get_cid_outcome` function to the human HTS data to generate a DataFrame that summarizes the activity outcome for each unique compound."
   ]
  },
  {
   "cell_type": "code",
   "execution_count": null,
   "id": "9177db89-4799-41e1-b519-446f56233ad6",
   "metadata": {},
   "outputs": [],
   "source": [
    "# Write your own code\n"
   ]
  },
  {
   "cell_type": "markdown",
   "id": "dca4f85a-3e6c-445b-80fa-3a814429c186",
   "metadata": {},
   "source": [
    "This command displays the first few rows of the DataFrame containing the summarized compound outcomes for the human data."
   ]
  },
  {
   "cell_type": "code",
   "execution_count": null,
   "id": "cc745e12-92c6-4e15-923b-2e63d55c26bd",
   "metadata": {},
   "outputs": [],
   "source": [
    "# Write your own code\n"
   ]
  },
  {
   "cell_type": "markdown",
   "id": "4bbfacf1-5a85-46f0-abac-ba16c5832ceb",
   "metadata": {},
   "source": [
    "This code merges the aggregated human compound data with the summarized compound outcomes."
   ]
  },
  {
   "cell_type": "code",
   "execution_count": null,
   "id": "f8ea9d4b-31b9-4629-8a13-4a6fedec1b40",
   "metadata": {},
   "outputs": [],
   "source": [
    "# Write your own code\n"
   ]
  },
  {
   "cell_type": "markdown",
   "id": "347fbe8b-856f-4f75-a245-3688981715cb",
   "metadata": {},
   "source": [
    "This command displays the first few rows of the merged human compound DataFrame."
   ]
  },
  {
   "cell_type": "code",
   "execution_count": null,
   "id": "66ae6d43-7466-4917-b091-64b6380ed4aa",
   "metadata": {},
   "outputs": [],
   "source": [
    "# Write your own code\n"
   ]
  },
  {
   "cell_type": "markdown",
   "id": "1e771afb-eed8-470a-aeb9-449765392a8c",
   "metadata": {},
   "source": [
    "Use `.value_counts()` the occurrences of each unique 'PUBCHEM_ACTIVITY_OUTCOME' in the aggregated human compound data."
   ]
  },
  {
   "cell_type": "code",
   "execution_count": null,
   "id": "8e69ad82-9b18-498c-b0d5-0670e24a724f",
   "metadata": {},
   "outputs": [],
   "source": [
    "# Write your own code\n"
   ]
  },
  {
   "cell_type": "markdown",
   "id": "99819cc5-cae2-455c-9d7c-6816ad14a843",
   "metadata": {},
   "source": [
    "#### Merging rat data and human data"
   ]
  },
  {
   "cell_type": "markdown",
   "id": "26145932-84ea-4c77-bf85-d9b6826eb8ae",
   "metadata": {},
   "source": [
    "This subsection focuses on combining the aggregated compound-level data from both the rat and human HTS assays to facilitate a direct comparison."
   ]
  },
  {
   "cell_type": "markdown",
   "id": "a1d9b6ca-e839-46a5-b0da-32050a93df96",
   "metadata": {},
   "source": [
    "This command displays the column names of the aggregated rat compound DataFrame."
   ]
  },
  {
   "cell_type": "code",
   "execution_count": null,
   "id": "91bdc2c4-d41a-45c6-a74e-997db6c5e798",
   "metadata": {},
   "outputs": [],
   "source": [
    "df_aid_rat_cid.columns"
   ]
  },
  {
   "cell_type": "markdown",
   "id": "794a6ef3-1ed6-4687-a6c0-c2bd3931ca55",
   "metadata": {},
   "source": [
    "Let's rename the columns in the rat compound DataFrame to have consistent naming with the human compound DataFrame before merging."
   ]
  },
  {
   "cell_type": "code",
   "execution_count": null,
   "id": "08308cad-aac1-4c2c-bfd1-de9ffa1eb7a8",
   "metadata": {},
   "outputs": [],
   "source": [
    "df_aid_rat_cid = df_aid_rat_cid.rename(columns={'Potency-Replicate_1':'Potency' , 'Efficacy-Replicate_1':'Efficacy', })"
   ]
  },
  {
   "cell_type": "markdown",
   "id": "10bcea30-2468-4325-91ea-e70f777a74bc",
   "metadata": {},
   "source": [
    "This command displays the first three rows of the renamed rat compound DataFrame to verify the column name changes."
   ]
  },
  {
   "cell_type": "code",
   "execution_count": null,
   "id": "63a946f9-345f-4bfa-8a36-f8c91f36cd68",
   "metadata": {},
   "outputs": [],
   "source": [
    "df_aid_rat_cid.head(3)"
   ]
  },
  {
   "cell_type": "markdown",
   "id": "13491f44-08ba-4c8a-933f-124cf9afebed",
   "metadata": {},
   "source": [
    "Now merge the aggregated rat and human compound DataFrames based on 'PUBCHEM_CID', keeping only the compounds that are present in both datasets."
   ]
  },
  {
   "cell_type": "code",
   "execution_count": null,
   "id": "8a288e23-aace-47c3-aa47-b2cba955b738",
   "metadata": {},
   "outputs": [],
   "source": [
    "df_aid_merged_cid = df_aid_rat_cid.merge(df_aid_human_cid, on='PUBCHEM_CID', how='inner', suffixes=('_rat','_human'))"
   ]
  },
  {
   "cell_type": "markdown",
   "id": "2b973e71-b1ba-48b9-8802-cdae0f7a3fea",
   "metadata": {},
   "source": [
    "Let's check if the merged data frame contains desired information."
   ]
  },
  {
   "cell_type": "code",
   "execution_count": null,
   "id": "3dcda20f-fc9e-4e81-a6f1-720a658caad6",
   "metadata": {},
   "outputs": [],
   "source": [
    "df_aid_merged_cid.shape"
   ]
  },
  {
   "cell_type": "code",
   "execution_count": null,
   "id": "b9a7cd02-c2e6-4303-9f15-6bc2f009b094",
   "metadata": {},
   "outputs": [],
   "source": [
    "df_aid_merged_cid"
   ]
  },
  {
   "cell_type": "markdown",
   "id": "16de5acc-cd92-4130-8603-eee41e17237b",
   "metadata": {},
   "source": [
    "This cell counts the occurrences of each unique 'PUBCHEM_ACTIVITY_OUTCOME' for the rat data within the merged DataFrame."
   ]
  },
  {
   "cell_type": "code",
   "execution_count": null,
   "id": "6b528e06-bb42-4871-a1de-4e64afaff3a1",
   "metadata": {},
   "outputs": [],
   "source": [
    "df_aid_merged_cid['PUBCHEM_ACTIVITY_OUTCOME_rat'].value_counts()"
   ]
  },
  {
   "cell_type": "markdown",
   "id": "30ef9028-e0b5-489e-962c-4b1a22164509",
   "metadata": {},
   "source": [
    "This cell counts the occurrences of each unique 'PUBCHEM_ACTIVITY_OUTCOME' for the human data within the merged DataFrame."
   ]
  },
  {
   "cell_type": "code",
   "execution_count": null,
   "id": "7c264c3c-20e5-43d6-9065-ed234ec4a50e",
   "metadata": {},
   "outputs": [],
   "source": [
    "df_aid_merged_cid['PUBCHEM_ACTIVITY_OUTCOME_human'].value_counts()"
   ]
  },
  {
   "cell_type": "code",
   "execution_count": null,
   "id": "d97f16d5-ddd4-4470-8b78-9235f9bd56b2",
   "metadata": {},
   "outputs": [],
   "source": []
  },
  {
   "cell_type": "markdown",
   "id": "f3aaa8ba-52eb-4349-90e5-523f61377112",
   "metadata": {},
   "source": [
    "#### Compound-level comparison"
   ]
  },
  {
   "cell_type": "markdown",
   "id": "198c65b8-09de-4328-b05f-7322306d6ff6",
   "metadata": {},
   "source": [
    "Let's compare the bioactivity of the same compounds between the rat and human thyroid hormone receptors."
   ]
  },
  {
   "cell_type": "markdown",
   "id": "546bf257-ce44-4a6f-b634-0d80b353d128",
   "metadata": {},
   "source": [
    "The following code cell generates two box plots to compare the distribution of efficacy for different activity outcomes between the rat and human data in the merged dataset."
   ]
  },
  {
   "cell_type": "code",
   "execution_count": null,
   "id": "de27d9da-8246-4acf-b69f-6001f6a43dc9",
   "metadata": {},
   "outputs": [],
   "source": [
    "fig, axes = plt.subplots(1, 2, figsize=(10,4), sharey=True)\n",
    "\n",
    "hue_order = ['Active',  'Inactive', 'Conflicting', 'Inconclusive']\n",
    "\n",
    "sns.boxplot(data=df_aid_merged_cid, x='Efficacy_rat', y='PUBCHEM_ACTIVITY_OUTCOME_rat', hue='PUBCHEM_ACTIVITY_OUTCOME_rat', hue_order=hue_order, ax=axes[0])\n",
    "sns.boxplot(data=df_aid_merged_cid, x='Efficacy_human', y='PUBCHEM_ACTIVITY_OUTCOME_human', hue='PUBCHEM_ACTIVITY_OUTCOME_human', hue_order=hue_order, ax=axes[1])\n",
    "\n",
    "axes[0].set_xlabel(\"Efficacy (micro-M, rat)\")\n",
    "axes[1].set_xlabel(\"Efficacy (micro-M, human)\")\n",
    "\n",
    "axes[0].set_ylabel(\"PUBCHEM_ACTIVITY_OUTCOME\")\n",
    "\n",
    "fig.tight_layout()"
   ]
  },
  {
   "cell_type": "markdown",
   "id": "0490cd11-7d11-42d1-b302-1c7ad4d971f3",
   "metadata": {},
   "source": [
    "Generate two box plots to compare the distribution of potency for different activity outcomes between the rat and human data in the merged dataset."
   ]
  },
  {
   "cell_type": "code",
   "execution_count": null,
   "id": "b008cc8c-0270-4c19-9553-915c63d024e1",
   "metadata": {},
   "outputs": [],
   "source": [
    "# Write your own code\n"
   ]
  },
  {
   "cell_type": "markdown",
   "id": "bb479881-9028-44a0-8ea4-34f84d63cd3c",
   "metadata": {},
   "source": [
    "This code creates two scatter plots to visualize the relationship between potency and efficacy for the rat and human data in the merged dataset."
   ]
  },
  {
   "cell_type": "code",
   "execution_count": null,
   "id": "1e025e93-4f02-4600-b72f-99e338756a72",
   "metadata": {},
   "outputs": [],
   "source": [
    "fig, axes = plt.subplots(1, 2, figsize=(10,4), sharey=False)\n",
    "\n",
    "#hue_order = ['Active',  'Inconclusive', 'Inactive']\n",
    "\n",
    "sns.scatterplot(data=df_aid_merged_cid, x='Potency_rat', y='Efficacy_rat', hue='PUBCHEM_ACTIVITY_OUTCOME_rat', ax=axes[0])\n",
    "sns.scatterplot(data=df_aid_merged_cid, x='Potency_human', y='Efficacy_human', hue='PUBCHEM_ACTIVITY_OUTCOME_human', ax=axes[1])\n",
    "\n",
    "axes[0].set_xlabel(\"Potency (micro-M, rat)\")\n",
    "axes[1].set_xlabel(\"Potency (micro-M, human)\")\n",
    "\n",
    "axes[0].set_ylabel(\"Efficacy (%, rat)\")\n",
    "axes[1].set_ylabel(\"Efficacy (%, human)\")\n",
    "\n",
    "# Uncomment the next three lines to limit the x and y axes to 200.\n",
    "#for ax in axes :    # loop over each panel\n",
    "#    ax.set_xlim(0, 200)\n",
    "#    ax.set_ylim(0, 200)"
   ]
  },
  {
   "cell_type": "markdown",
   "id": "0c918954-45f7-45a1-885b-171901ceef27",
   "metadata": {},
   "source": [
    "Now we want to generate a heatmap that shows the counts of rat and human activity outcome pairs. (For example, how many chemicals are active in both species, and how many chemicals are active in one species and inactive in the other?).   \n",
    "To do that we want to get the outcome pair count information from the `df_aid_merged_cid` data frame."
   ]
  },
  {
   "cell_type": "code",
   "execution_count": null,
   "id": "dfb97840-6faf-449a-96e4-4dffb4b7ce27",
   "metadata": {},
   "outputs": [],
   "source": [
    "outcome_counts = pd.DataFrame(df_aid_merged_cid.groupby(['PUBCHEM_ACTIVITY_OUTCOME_human', 'PUBCHEM_ACTIVITY_OUTCOME_rat']).size(), columns=['Count']).reset_index()\n",
    "outcome_counts"
   ]
  },
  {
   "cell_type": "markdown",
   "id": "e2ab5633-104a-4afe-bd8e-c3fec6b975c1",
   "metadata": {},
   "source": [
    "Then, use `.pivot()` to change the 'outcome_counts' DataFrame into a square matrix form, where the rows are human activity outcomes, the columns are rat activity outcomes, and the values are the counts of compounds."
   ]
  },
  {
   "cell_type": "code",
   "execution_count": null,
   "id": "3f5c1d94-1a3e-4ad3-847d-514f5c949380",
   "metadata": {},
   "outputs": [],
   "source": [
    "heatmap_data = outcome_counts.pivot(index='PUBCHEM_ACTIVITY_OUTCOME_human', columns='PUBCHEM_ACTIVITY_OUTCOME_rat', values='Count')\n",
    "heatmap_data"
   ]
  },
  {
   "cell_type": "markdown",
   "id": "d6546b89-44c3-4617-a2ff-afd49b3ba9a6",
   "metadata": {},
   "source": [
    "Generate a heatmap to visualize the activity outcome pair counts."
   ]
  },
  {
   "cell_type": "code",
   "execution_count": null,
   "id": "c0e2299e-fdf3-4e96-9c98-68774405392d",
   "metadata": {},
   "outputs": [],
   "source": [
    "sns.heatmap(heatmap_data, cmap=\"flare\", annot=True, fmt='4.0f')"
   ]
  },
  {
   "cell_type": "markdown",
   "id": "6854c52e-7b6d-40ef-991d-464a70fbe5ed",
   "metadata": {},
   "source": [
    "This code creates two scatter plots to directly compare the efficacy and potency of compounds between the rat and human assays."
   ]
  },
  {
   "cell_type": "code",
   "execution_count": null,
   "id": "061afeec-e669-4dbc-b7a5-d7a71c5ee672",
   "metadata": {},
   "outputs": [],
   "source": [
    "fig, axes = plt.subplots(1, 2, figsize=(10,4), sharey=False)\n",
    "\n",
    "hue_order = ['Active',  'Inactive', 'Inconclusive', 'Conflicting']\n",
    "\n",
    "sns.scatterplot(data=df_aid_merged_cid, x='Efficacy_rat', y='Efficacy_human', hue='PUBCHEM_ACTIVITY_OUTCOME_rat', hue_order=hue_order, ax=axes[0], legend=None)\n",
    "sns.scatterplot(data=df_aid_merged_cid, x='Potency_rat', y='Potency_human', hue='PUBCHEM_ACTIVITY_OUTCOME_rat', hue_order=hue_order, ax=axes[1])\n",
    "\n",
    "axes[0].set_xlabel(\"Efficacy (%, rat)\")\n",
    "axes[0].set_ylabel(\"Efficacy (%, human)\")\n",
    "axes[0].set_title(\"Efficacy\")\n",
    "\n",
    "axes[1].set_xlabel(\"Potency (micro-M, rat)\")\n",
    "axes[1].set_ylabel(\"Potency (micro-M, human)\")\n",
    "axes[1].set_title(\"Potency\")\n",
    "\n",
    "axes[1].legend(bbox_to_anchor=(1.05, 1), loc='upper left', borderaxespad=0)\n",
    "\n",
    "# Uncomment to limit the axes to 200.\n",
    "#for ax in axes :    # loop over each panel\n",
    "#   ax.set_xlim(0, 200)\n",
    "#    ax.set_ylim(0, 200)"
   ]
  },
  {
   "cell_type": "markdown",
   "id": "9170e218-25e9-4e38-b0ac-99aca1e0eafd",
   "metadata": {},
   "source": [
    "In the above graphs, it is not easy to see if there is any correlation between rat and human activities (in terms of the efficacy and potency)."
   ]
  },
  {
   "cell_type": "markdown",
   "id": "aaacda0c-a008-4039-95df-9c691ac2a563",
   "metadata": {},
   "source": [
    "Let's focus only on the active compounds in both the rat and human assays."
   ]
  },
  {
   "cell_type": "code",
   "execution_count": null,
   "id": "6084b678-d77c-4b8d-a48b-a831122994ea",
   "metadata": {},
   "outputs": [],
   "source": [
    "df_aid_merged_cid_active = df_aid_merged_cid[(df_aid_merged_cid['PUBCHEM_ACTIVITY_OUTCOME_rat'] == 'Active') & (df_aid_merged_cid['PUBCHEM_ACTIVITY_OUTCOME_human'] == 'Active')]"
   ]
  },
  {
   "cell_type": "markdown",
   "id": "f238e0bb-0ec7-4de9-be95-1b7b1ad3beac",
   "metadata": {},
   "source": [
    "This code generates two scatter plots to compare the efficacy and potency of the compounds that were active in both rat and human assays."
   ]
  },
  {
   "cell_type": "code",
   "execution_count": null,
   "id": "33489476-6a6e-445a-850c-c88f329c750f",
   "metadata": {},
   "outputs": [],
   "source": [
    "fig, axes = plt.subplots(1, 2, figsize=(10,4), sharey=False)\n",
    "\n",
    "sns.scatterplot(data=df_aid_merged_cid_active, x='Efficacy_rat', y='Efficacy_human', ax=axes[0])\n",
    "sns.scatterplot(data=df_aid_merged_cid_active, x='Potency_rat', y='Potency_human', ax=axes[1])\n",
    "\n",
    "axes[0].set_title(\"Efficacy\")\n",
    "axes[0].set_xlabel(\"Efficacy (%, rat)\")\n",
    "axes[0].set_ylabel(\"Efficacy (%, human)\")\n",
    "\n",
    "axes[1].set_title(\"Potency\")\n",
    "axes[1].set_xlabel(\"Potency (micro-M, rat)\")\n",
    "axes[1].set_ylabel(\"Potency (micro-M, human)\")\n"
   ]
  },
  {
   "cell_type": "code",
   "execution_count": null,
   "id": "f025952c-7781-4250-99da-7cec7060c42f",
   "metadata": {},
   "outputs": [],
   "source": [
    "res_efficacy = linregress(df_aid_merged_cid_active['Efficacy_rat'], df_aid_merged_cid_active['Efficacy_human'])\n",
    "res_potency = linregress(df_aid_merged_cid_active['Potency_rat'], df_aid_merged_cid_active['Potency_human'])"
   ]
  },
  {
   "cell_type": "code",
   "execution_count": null,
   "id": "62e02d24-a3dc-4afa-96f4-a14b90bbf34a",
   "metadata": {},
   "outputs": [],
   "source": [
    "print(f\"                      Efficacy\\tPotency\")\n",
    "print(f\"Slope               : {res_efficacy.slope:4.4f}\\t{res_potency.slope:<4.4f}\")\n",
    "print(f\"intercept           : {res_efficacy.intercept:4.4f}\\t{res_potency.intercept:4.4f}\")\n",
    "print(f\"r-value             : {res_efficacy.rvalue:4.4f}\\t{res_potency.rvalue:4.4f}\")\n",
    "print(f\"p-value             : {res_efficacy.pvalue:4.4f}\\t{res_potency.pvalue:4.4f}\")\n",
    "print(f\"std-err (slope)     : {res_efficacy.stderr:4.4f}\\t{res_potency.stderr:4.4f}\")\n",
    "print(f\"std-err (intercept) : {res_efficacy.intercept_stderr:4.4f}\\t{res_potency.intercept_stderr:4.4f}\")"
   ]
  },
  {
   "cell_type": "markdown",
   "id": "acb8565e-7890-46a5-9c6b-7dc847909c97",
   "metadata": {},
   "source": [
    "When we consider the compounds that are active in both species, there appears to be a positive correlation between the rat and human data.  However,  there are only six compounds active in both species, we cannot confidently say there is a definitive relationship."
   ]
  },
  {
   "cell_type": "markdown",
   "id": "4867a142-85c7-464b-acf0-b1e0d2706ead",
   "metadata": {},
   "source": [
    "## Discussion"
   ]
  },
  {
   "cell_type": "markdown",
   "id": "1873d47b-d45e-4fc8-857e-8b46b2153158",
   "metadata": {},
   "source": [
    "Answer the following questions, based on the analysis of the compounds tested in both rat and human thyroid hormone receptors (i.e., the compounds in the `df_aid_merged_cid` data frame)."
   ]
  },
  {
   "cell_type": "markdown",
   "id": "39c21557-fb44-47e4-a868-72ea3fbc1b7b",
   "metadata": {},
   "source": [
    "(1) How many compounds were tested against both rat thyroid hormone receptor?"
   ]
  },
  {
   "cell_type": "code",
   "execution_count": null,
   "id": "445c25b9-c6b2-468d-9f37-5af8bc8b5c05",
   "metadata": {},
   "outputs": [],
   "source": [
    "# Provide your answer here -> "
   ]
  },
  {
   "cell_type": "markdown",
   "id": "34519c67-019c-4339-a9fd-05ce4935cb80",
   "metadata": {},
   "source": [
    "(2) Among the compounds tested in both species, how many were active against **rat** thyroid hormone receptor?"
   ]
  },
  {
   "cell_type": "code",
   "execution_count": null,
   "id": "5e0e938b-d292-4bb6-93b0-a8671e5faa76",
   "metadata": {},
   "outputs": [],
   "source": [
    "# Provide your answer here -> "
   ]
  },
  {
   "cell_type": "markdown",
   "id": "d586aa9d-cec4-439b-b182-dd549e58bfa6",
   "metadata": {},
   "source": [
    "(3) Among the compounds active in rats (i.e., those in (2)), how many were active against **human** thyroid hormone receptor?"
   ]
  },
  {
   "cell_type": "code",
   "execution_count": null,
   "id": "92edb16d-4536-4f33-9c3e-635c58403c74",
   "metadata": {},
   "outputs": [],
   "source": [
    "# Provide your answer here -> "
   ]
  },
  {
   "cell_type": "markdown",
   "id": "627a338d-2a6a-44ca-aa6f-640a986302be",
   "metadata": {},
   "source": [
    "(4) Read the following paper on the concordance of the toxicity of drugs between animals and humans and summarize its main conclusion (in 50-60 words).  \n",
    "\n",
    "**Limitations of Animal Studies for Predicting Toxicity in Clinical Trials: Is it Time to Rethink Our Current Approach?**  \n",
    "Van Norman GA.  \n",
    "JACC Basic Transl Sci. 2019 Nov 25;4(7):845-854.  \n",
    "doi: [10.1016/j.jacbts.2019.10.008](https://doi.org/10.1016/j.jacbts.2019.10.008). PMID: 31998852; PMCID: PMC6978558.  \n"
   ]
  },
  {
   "cell_type": "markdown",
   "id": "eccfae15-0b6b-43ed-98a2-882ae8c24c20",
   "metadata": {},
   "source": [
    "\\# Write your summary in this markdown cell:\n",
    "\n",
    "\n"
   ]
  },
  {
   "cell_type": "code",
   "execution_count": null,
   "id": "81971abd-f469-47eb-afc9-f0a9f46e5043",
   "metadata": {},
   "outputs": [],
   "source": []
  }
 ],
 "metadata": {
  "kernelspec": {
   "display_name": "dataChem(py3.10)",
   "language": "python",
   "name": "datachem"
  },
  "language_info": {
   "codemirror_mode": {
    "name": "ipython",
    "version": 3
   },
   "file_extension": ".py",
   "mimetype": "text/x-python",
   "name": "python",
   "nbconvert_exporter": "python",
   "pygments_lexer": "ipython3",
   "version": "3.10.12"
  }
 },
 "nbformat": 4,
 "nbformat_minor": 5
}
