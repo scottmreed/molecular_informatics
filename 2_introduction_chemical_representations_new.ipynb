{
 "cells": [
  {
   "cell_type": "markdown",
   "metadata": {},
   "source": [
    "# Chemical Representations and Introduction to RDKit\n",
    "\n",
    "This notebook is inspired by and borrows from <a href = \"https://weisscharlesj.github.io/SciCompforChemists/notebooks/chapter_015/chap_15_notebook.html\"> Chapter 15: Cheminformatics with RDKit </a> from Charlie Weiss's book <a href =\"https://weisscharlesj.github.io/SciCompforChemists/notebooks/introduction/intro.html\">   Scientific Computing for Chemists with Python</a>, \n",
    "and  <a href = \"https://colab.research.google.com/github/PatWalters/practical_cheminformatics_tutorials/blob/main/fundamentals/SMILES_tutorial.ipynb\"> An Introduction to the Simplified Molecular Input Line Entry System (SMILES)</a> from Pat Walter's <a href=\"https://github.com/PatWalters/practical_cheminformatics_tutorials?tab=readme-ov-file\"> Cheminformatics Tutorials Github.</a> \n",
    "\n",
    "<div class=\"alert alert-block alert-info\">\n",
    "<h2>Learning Objectives</h2>\n",
    "\n",
    "* Explore Chemical Representations:\n",
    "  - Line Notation (SMILES, InChI, InChIKey)\n",
    "  - Connection Tables\n",
    "  - Structural Data Files\n",
    "* Explore RDKit\n",
    "  - Visualizing molecules\n",
    "  - Geometry Optimization\n",
    "* Review PubChem's PUG REST Web Interface\n",
    "  - Getting data from PubChem through PUG-REST\n",
    "* Practice code from previous notebooks\n",
    "\n",
    "</div>\n"
   ]
  },
  {
   "cell_type": "markdown",
   "metadata": {},
   "source": [
    "## Introduction to SMILES and RDKit "
   ]
  },
  {
   "cell_type": "markdown",
   "metadata": {},
   "source": [
    "SMILES (Simplified Molecular Input Line Entry System) is a compact, text-based way to represent chemical structures using ASCII characters. Developed in the 1980s to encode molecular graphs for computers, SMILES captures atoms, bonds, branching, and ring structures in a linear string. While modern software can generate SMILES automatically, understanding how they work provides insight into how chemical information is stored, searched, and shared in databases and cheminformatics tools.\n",
    "\n",
    "The [Daylight Theory Manual](https://www.daylight.com/dayhtml/doc/theory/) is the foundational reference for understanding how SMILES work. Created by the developers of the original SMILES system at Daylight Chemical Information Systems, this manual outlines the principles behind molecular graph representation, atom and bond encoding, and the syntax rules that govern how structures are translated into strings. \n",
    "\n",
    "The [Daylight SMILES Tutorial](https://www.daylight.com/dayhtml_tutorials/languages/smiles/index.html) is another valuable resource, offering a practical introduction to writing and interpreting SMILES. For those curious about the origin story and cultural quirks behind SMILES, this [Chemistry World](https://www.chemistryworld.com/opinion/weiningers-smiles/4014639.article) article provides an engaging look at its history and the chemist who created it.\n",
    "\n",
    "\n",
    "[RDKit](https://rdkit.org/) is an open-source cheminformatics toolkit that makes it easy to work with chemical structures in Python. It allows you to read, manipulate, visualize, and analyze molecules using formats like SMILES, SDF, and more. With RDKit, you can generate 2D or 3D structures, calculate molecular properties, perform substructure searches, and integrate chemistry into data science workflows. It’s a powerful tool for anyone working at the intersection of chemistry and programming."
   ]
  },
  {
   "cell_type": "code",
   "execution_count": null,
   "metadata": {},
   "outputs": [],
   "source": [
    "# this loads rdkit and allows us to draw molecules in the window\n",
    "from rdkit import Chem  \n",
    "from rdkit.Chem.Draw import IPythonConsole\n",
    "from rdkit.Chem import Draw\n",
    "IPythonConsole.ipython_useSVG=True  #< set this to False if you want PNGs instead of SVGs\n"
   ]
  },
  {
   "cell_type": "markdown",
   "metadata": {},
   "source": [
    "\n",
    "Let's start by obtaining the SMILES string for butane from PubChem"
   ]
  },
  {
   "cell_type": "code",
   "execution_count": null,
   "metadata": {},
   "outputs": [],
   "source": [
    "import requests\n",
    "pugrest = \"https://pubchem.ncbi.nlm.nih.gov/rest/pug\"\n",
    "pugin   = \"compound/name/butane\"\n",
    "pugoper = \"property/SMILES\"\n",
    "pugout  = \"txt\"\n",
    "url     = \"/\".join( [pugrest, pugin, pugoper, pugout] )\n",
    "res = requests.get(url)\n",
    "print(\"The SMILES string for butane is:\", res.text)\n",
    "mol = Chem.MolFromSmiles(res.text.strip()) # create a molecule object from the SMILES string\n",
    "IPythonConsole.molSize = 250, 100 # set the size of the image\n",
    "mol"
   ]
  },
  {
   "cell_type": "code",
   "execution_count": null,
   "metadata": {},
   "outputs": [],
   "source": [
    "# Let's load a simple structure of 2-methylbutane\n",
    "pugin   = \"compound/name/2-methylbutane\"\n",
    "url     = \"/\".join( [pugrest, pugin, pugoper, pugout] )\n",
    "res = requests.get(url)\n",
    "print(\"The SMILES string for 2-methylbutane is:\", res.text)\n",
    "mol = Chem.MolFromSmiles(res.text) # create a molecule object from the SMILES string\n",
    "IPythonConsole.molSize = 250, 100 # set the size of the image\n",
    "\n",
    "mol"
   ]
  },
  {
   "cell_type": "code",
   "execution_count": null,
   "metadata": {},
   "outputs": [],
   "source": [
    "# Let's load another SMILES string for 2-methylbutane\n",
    "smiles = \"CC(C)CC\"\n",
    "mol = Chem.MolFromSmiles(smiles)\n",
    "mol"
   ]
  },
  {
   "cell_type": "markdown",
   "metadata": {},
   "source": [
    "<div class=\"alert alert-block alert-warning\">\n",
    "<strong>Check your understanding</strong><br>\n",
    "\n",
    "Using your knowledge of SMILES, generate the SMILES string for 2,3-dimethylpentane and display the molecule in the code cell below.\n",
    "\n",
    "Compare your SMILES string to what is in the PubChem Database.\n",
    "\n",
    "\n",
    "\n",
    "\n",
    "<details>\n",
    "<summary>Solution</summary>\n",
    "CC(C)C(C)CC and CCC(C)C(C)C would be valid SMILES for 2,3-dimethylpentane\n",
    "\n",
    "</div>"
   ]
  },
  {
   "cell_type": "code",
   "execution_count": null,
   "metadata": {},
   "outputs": [],
   "source": [
    "# write your code here to display the molecule\n",
    "smiles1 = \"CC(C)C(C)CC\"\n",
    "smiles2 = \"CCC(C)C(C)C\"\n",
    "mols = [Chem.MolFromSmiles(smiles1), Chem.MolFromSmiles(smiles2)] \n",
    "myLegends = [\"2,3-dimethylpentane CC(C)C(C)CC \", \"2,3-dimethylpentane CCC(C)C(C)C\"]\n",
    "\n",
    "img = Draw.MolsToGridImage(mols, molsPerRow=2, subImgSize=(200,200), legends=myLegends)\n",
    "display(img)"
   ]
  },
  {
   "cell_type": "markdown",
   "metadata": {},
   "source": [
    "In this next section, we will display three stuctures of toluene."
   ]
  },
  {
   "cell_type": "code",
   "execution_count": null,
   "metadata": {},
   "outputs": [],
   "source": [
    "# Let's load a simple structure of Toluene\n",
    "smiles1 = \"Cc1ccccc1\"\n",
    "mol = Chem.MolFromSmiles(smiles1)\n",
    "IPythonConsole.drawOptions.addAtomIndices = True\n",
    "mol"
   ]
  },
  {
   "cell_type": "code",
   "execution_count": null,
   "metadata": {},
   "outputs": [],
   "source": [
    "# Let's load a simple structure of Toluene\n",
    "smiles2 = \"c1ccccc1C\"\n",
    "mol = Chem.MolFromSmiles(smiles2)\n",
    "mol"
   ]
  },
  {
   "cell_type": "code",
   "execution_count": null,
   "metadata": {},
   "outputs": [],
   "source": [
    "# Let's load a simple structure of Toluene\n",
    "smiles3 = \"c1cc(C)ccc1\"\n",
    "mol = Chem.MolFromSmiles(smiles3)\n",
    "mol"
   ]
  },
  {
   "cell_type": "code",
   "execution_count": null,
   "metadata": {},
   "outputs": [],
   "source": [
    "print(\"Checking to see if SMILES are identical\")\n",
    "if smiles1 != smiles2:\n",
    "    print(f\"The SMILES strings are different:\\n  SMILES 1: {smiles1}\\n  SMILES 2: {smiles2}\")\n",
    "else:\n",
    "    print(f\"The SMILES strings are the same: {smiles1}\")\n",
    "if smiles1 != smiles3:\n",
    "    print(f\"The SMILES strings are different:\\n  SMILES 1: {smiles1}\\n  SMILES 2: {smiles3}\")\n",
    "else:\n",
    "    print(f\"The SMILES strings are the same: {smiles2}\")\n",
    "if smiles2 != smiles3:\n",
    "    print(f\"The SMILES strings are different:\\n  SMILES 1: {smiles2}\\n  SMILES 3: {smiles3}\")\n",
    "else:\n",
    "    print(f\"The SMILES strings are the same: {smiles3}\")\n",
    "\n",
    "    "
   ]
  },
  {
   "cell_type": "markdown",
   "metadata": {},
   "source": [
    "Let's explore how the SMILES for Toluene is stored in PubChem:"
   ]
  },
  {
   "cell_type": "code",
   "execution_count": null,
   "metadata": {},
   "outputs": [],
   "source": [
    "pugin   = \"compound/name/toluene\"\n",
    "url     = \"/\".join( [pugrest, pugin, pugoper, pugout] )\n",
    "res = requests.get(url)\n",
    "print(\"The PubChem SMILES string for toluene is:\", res.text)\n",
    "PubChemSMILES = res.text.strip()  # remove any trailing newline characters\n",
    "mol = Chem.MolFromSmiles(PubChemSMILES) # create a molecule object from the SMILES string\n",
    "IPythonConsole.molSize = 250, 100 # set the size of the image\n",
    "IPythonConsole.drawOptions.addAtomIndices = True\n",
    "mol"
   ]
  },
  {
   "cell_type": "code",
   "execution_count": null,
   "metadata": {},
   "outputs": [],
   "source": [
    "pugin   = \"compound/name/methylcyclohexane\"\n",
    "url     = \"/\".join( [pugrest, pugin, pugoper, pugout] )\n",
    "res = requests.get(url)\n",
    "print(\"The PubChem SMILES string for methylcyclohexane is:\", res.text)\n",
    "PubChemSMILES = res.text.strip()  # remove any trailing newline characters\n",
    "mol = Chem.MolFromSmiles(PubChemSMILES) # create a molecule object from the SMILES string\n",
    "IPythonConsole.molSize = 250, 100 # set the size of the image\n",
    "IPythonConsole.drawOptions.addAtomIndices = False\n",
    "mol"
   ]
  },
  {
   "cell_type": "markdown",
   "metadata": {},
   "source": [
    "<div class=\"alert alert-block alert-warning\">\n",
    "<strong>Check your understanding</strong><br>\n",
    "- In the toluene SMILES examples, are the SMILES different?<br>\n",
    "- How are aromatic carbons shown in SMILES notation? Is there more than one way?<br>\n",
    "- How is the SMILES for methylcyclohexane different from toluene?<br>\n",
    "- In the toluene SMILES examples, does RDKit generate different structures?<br>\n",
    "- What do you notice about the atom index numbers in the toluene structure output?<br>\n",
    "- What can you anticipate being an issue for storing SMILES strings in a database?\n",
    "\n",
    "</div>\n",
    "\n"
   ]
  },
  {
   "cell_type": "markdown",
   "metadata": {},
   "source": [
    "While SMILES is widely used, it’s important to know that the original Daylight SMILES format is proprietary and maintained by Daylight Chemical Information Systems. Over time, other organizations and toolkits, such as OpenEye, OpenSMILES and RDKit, have implemented their own versions of SMILES, each with slight differences in syntax rules, aromaticity perception, or handling of tautomers. This means that the same molecule may be represented by different SMILES strings depending on the software generating it. So while SMILES is a powerful and convenient representation, it’s not always perfectly standardized across platforms. This is important to keep in mind when working with multiple tools or databases."
   ]
  },
  {
   "cell_type": "markdown",
   "metadata": {},
   "source": [
    "### Exploring Bonds, Atoms and Stereochemistry\n",
    "\n",
    "In SMILES notation, molecules are built from atoms and the bonds that connect them, using a set of straightforward rules and symbols. \n"
   ]
  },
  {
   "cell_type": "code",
   "execution_count": null,
   "metadata": {},
   "outputs": [],
   "source": [
    "pugrest = \"https://pubchem.ncbi.nlm.nih.gov/rest/pug\"\n",
    "pugin   = \"compound/cid/84682,444683,5247073,7045591,517045,5326161,5326160,12732\"\n",
    "pugoper = \"property/IUPACName,ConnectivitySMILES,SMILES\"\n",
    "pugout  = \"csv\"\n",
    "\n",
    "url = \"/\".join( [pugrest, pugin, pugoper, pugout] )   # Construct the URL\n",
    "res = requests.get(url)\n",
    "print(res.text)\n"
   ]
  },
  {
   "cell_type": "code",
   "execution_count": null,
   "metadata": {},
   "outputs": [],
   "source": [
    "import csv\n",
    "from io import StringIO\n",
    "\n",
    "\n",
    "# Step 2: Parse CSV data\n",
    "csv_text = res.text\n",
    "csv_reader = csv.DictReader(StringIO(csv_text)) # Create a CSV reader object with dictionary output\n",
    "\n",
    "# Step 3: Extract molecule objects and legends\n",
    "mols = []\n",
    "legends = []\n",
    "\n",
    "for row in csv_reader:\n",
    "    smiles = row[\"SMILES\"]\n",
    "    conn_smiles = row[\"ConnectivitySMILES\"]\n",
    "    name = row[\"IUPACName\"]\n",
    "\n",
    "    mol = Chem.MolFromSmiles(smiles)\n",
    "    if mol is not None:\n",
    "        mols.append(mol)\n",
    "        legend = f\"IUPAC name: {name}\\nConnectivity SMILES: {conn_smiles}\\nSMILES: {smiles}\"\n",
    "        legends.append(legend)\n",
    "\n",
    "# Step 4: Draw molecules in a 2x2 grid\n",
    "IPythonConsole.drawOptions.addAtomIndices = False\n",
    "img = Draw.MolsToGridImage(mols, molsPerRow=4, subImgSize=(300, 300), legends=legends)\n",
    "img\n"
   ]
  },
  {
   "cell_type": "markdown",
   "metadata": {},
   "source": [
    "<div class=\"alert alert-block alert-warning\">\n",
    "<strong>Check your understanding</strong><br>\n",
    "- What ASCII characters are used to indicate double and triple bonds in SMILES strings?<br>\n",
    "- What ASCII characters are used to indicate stereogenic centers and geometric isomers?<br>\n",
    "- How are charged species accounted for in SMILES strings?<br>\n",
    "- How are salts accounted for in SMILES strings?<br>\n",
    "- Why is it important for chemical databases to store isomeric SMILES in addition to connectivity SMILES? What types of structural information are captured in isomeric SMILES that are lost in connectivity-only representations?\n",
    "</div>\n"
   ]
  },
  {
   "cell_type": "markdown",
   "metadata": {},
   "source": [
    "RDKit also allows for the assigning of absolute stereochemistry of a molecule. Looking at @ or @@ for chiral centers or / or \\ for double bonds isn't very helpful. \n",
    "\n",
    "RDKit `Chem.FindMolChiralCenters` method identifies all chiral centers and indicates the atom number where found. Keep in mind this is RDKit numbering and not IUPAC numbering.\n",
    "\n",
    "To obtain the stereochemistry of double bonds, we can iterate through the bonds and obtain the stereochemistry using the GetStereo() bond method as shown in the following code cell. There are three possible outputs list below.\n",
    "\n",
    "|Output|Description|\n",
    "|------|-----------|\n",
    "|STEREONONE|\tNo stereochemistry (often not a double bond)|\n",
    "|STEREOE|\t*E* stereochemistry|\n",
    "|STEREOZ|\t*Z* stereochemistry|"
   ]
  },
  {
   "cell_type": "code",
   "execution_count": null,
   "metadata": {},
   "outputs": [],
   "source": [
    "pentenol = Chem.MolFromSmiles('O[C@@H](C)/C=C/C')\n",
    "print(Chem.FindMolChiralCenters(pentenol))\n",
    "\n",
    "for bond in pentenol.GetBonds():\n",
    "    print(bond.GetStereo())\n",
    "\n",
    "IPythonConsole.drawOptions.addAtomIndices = True\n",
    "IPythonConsole.drawOptions.addStereoAnnotation = True\n",
    "pentenol"
   ]
  },
  {
   "cell_type": "markdown",
   "metadata": {},
   "source": [
    "The printed output above is messy as it is telling us the streochemistry at each bond. The following code is cleaner as it only tells us the stereochemistry at any double bonds and where they are:"
   ]
  },
  {
   "cell_type": "code",
   "execution_count": null,
   "metadata": {},
   "outputs": [],
   "source": [
    "for bond in pentenol.GetBonds():\n",
    "    if bond.GetBondType() == Chem.rdchem.BondType.DOUBLE:\n",
    "        stereo = bond.GetStereo()\n",
    "        print(f\"Bond between atoms {bond.GetBeginAtomIdx()} and {bond.GetEndAtomIdx()}\")\n",
    "        print(f\"Stereo type: {stereo}\")\n"
   ]
  },
  {
   "cell_type": "markdown",
   "metadata": {},
   "source": [
    "<div class=\"alert alert-block alert-warning\">\n",
    "<strong>Check your understanding</strong><br>\n",
    "The code cell below sends a PUG REST request to retrieve a compound from PubChem using its CID.\n",
    "\n",
    "Your task: Write code that prints out absolute configuration of all stereogenic centers and double bond stereochemistry (*E/Z*) in text format, and also displays this information visually on the molecule image.\n",
    "\n",
    "Pay special attention to the double bonds between **atoms 1 and 2** and **atoms 21 and 22**. Your output should clearly indicate whether each of these bonds is assigned *E* (*trans*), *Z* (*cis*), or if no stereochemistry is defined. Be prepared to explain why RDKit provides the output you received.\n",
    "</div>"
   ]
  },
  {
   "cell_type": "code",
   "execution_count": null,
   "metadata": {},
   "outputs": [],
   "source": [
    "pugrest = \"https://pubchem.ncbi.nlm.nih.gov/rest/pug\"\n",
    "pugin   = \"compound/cid/6438744\"\n",
    "pugoper = \"property/SMILES\"\n",
    "pugout  = \"txt\"\n",
    "url     = \"/\".join( [pugrest, pugin, pugoper, pugout] )\n",
    "res = requests.get(url)\n",
    "mol = Chem.MolFromSmiles(res.text.strip()) # create a molecule object from the SMILES string\n",
    "\n",
    "#Write your code here to display the molecule and the stereochemistry\n",
    "\n",
    "print(Chem.FindMolChiralCenters(mol))\n",
    "\n",
    "for bond in mol.GetBonds():\n",
    "    if bond.GetBondType() == Chem.rdchem.BondType.DOUBLE:\n",
    "        stereo = bond.GetStereo()\n",
    "        print(f\"Bond between atoms {bond.GetBeginAtomIdx()} and {bond.GetEndAtomIdx()}\")\n",
    "        print(f\"Stereo type: {stereo}\")\n",
    "IPythonConsole.drawOptions.addAtomIndices = True\n",
    "IPythonConsole.drawOptions.addStereoAnnotation = True\n",
    "IPythonConsole.molSize = 300, 300 # set the size of the image\n",
    "mol"
   ]
  },
  {
   "cell_type": "markdown",
   "metadata": {},
   "source": [
    "### Exploring Connection Tables\n",
    "\n",
    "A connection table is a tabular representation that lists atoms and the bonds between them. This structure forms the backbone of many molecular file formats and is critical for understanding how software interprets molecular topology."
   ]
  },
  {
   "cell_type": "code",
   "execution_count": null,
   "metadata": {},
   "outputs": [],
   "source": [
    "# Convert SMILES to RDKit molecule object\n",
    "acetylcholine = \"[N+](C)(C)(C)CCOC(=O)C\" #acetylcholine (a neurotransmitter)\n",
    "mol = Chem.MolFromSmiles(acetylcholine)\n",
    "\n",
    "# Check if the molecule was successfully created\n",
    "if mol:\n",
    "    # Convert the molecule object to a MOL block\n",
    "    mol_block = Chem.MolToMolBlock(mol)\n",
    "\n",
    "    # Print the MOL block\n",
    "    print(mol_block)\n",
    "\n",
    "    # Optionally, write the MOL block to a file\n",
    "    with open(\"acetylcholine.mol\", \"w\") as f:\n",
    "        f.write(mol_block)\n",
    "else:\n",
    "    print(\"Error: Could not create molecule from SMILES string.\")\n",
    "IPythonConsole.drawOptions.addAtomIndices = False\n",
    "IPythonConsole.molSize = 250, 100 # set the size of the image\n",
    "mol"
   ]
  },
  {
   "cell_type": "markdown",
   "metadata": {},
   "source": [
    "<div class=\"alert alert-block alert-warning\">\n",
    "<strong>Check your understanding</strong>\n",
    "\n",
    "* Based on the output, is the MOL file a 2D or 3D structure? (There are two different ways you can tell.)\n",
    "* How many atoms are in molecule? What two ways can you determine this?\n",
    "* How many bonds are in the molecule? What two ways can you determine this?\n",
    "* Which atoms are explicit? Which atoms are implied?\n",
    "* Identify the Atom Block in the MOL file.\n",
    "* Identify the Bond Block in the MOL file.\n",
    "* How is bond order indicated in the Bond Block?\n",
    "* How is charge indicated in the MOL file?\n",
    "* Check your local directory, is there a file named molecule.mol? Open it with a text editor to view.\n",
    "\n",
    "Change the code above to display atom indices for the displayed molecule. How do the atom indices in the mol file compare to the diplayed molecule?\n",
    "</div>"
   ]
  },
  {
   "cell_type": "markdown",
   "metadata": {},
   "source": [
    "Why do my numbers in the mol file differ from the image?\n",
    "\n",
    "`MolFromSmiles()` and RDKit's internal API (e.g., `atom.GetIdx()`) use zero-based indexing (starts at 0), like Python.\n",
    "\n",
    "`MolToMolBlock()` produces a `MolBlock` in CTfile format, which follows the Molfile V2000/V3000 standard, and uses one-based indexing (starts at 1).\n",
    "\n",
    "If we wanted to create a workaround so that the numbers matched, we would adjust the numbers by creating new atom numbers:\n",
    "\n",
    "```python\n",
    "# Create labels with 1-based indexing\n",
    "atom_labels = {atom.GetIdx(): str(atom.GetIdx() + 1) for atom in mol.GetAtoms()}\n",
    "```"
   ]
  },
  {
   "cell_type": "markdown",
   "metadata": {},
   "source": [
    "### 3D Mol Files\n",
    "SMILES strings are great for capturing the basics of a molecule (such as atom types, bonding patterns, formal charges, and stereochemistry) but they only represent 2D connectivity. Even when you convert a SMILES to a Mol object and generate a mol file, you'll notice that the coordinate section often includes only X and Y values, with all Z-coordinates set to 0. That’s because SMILES doesn’t encode 3D geometry.\n",
    "\n",
    "To generate 3D coordinates, RDKit can apply molecular mechanics methods such as the Universal Force Field (UFF) or Merck Molecular Force Field (MMFF). These algorithms estimate a three-dimensional structure by minimizing molecular strain. Keep in mind, though, that while these methods provide reasonable 3D conformations, they don’t always yield the lowest-energy conformation. For many applications, they’re good enough. For more rigorous modeling further optimization or conformer sampling may be necessary."
   ]
  },
  {
   "cell_type": "code",
   "execution_count": null,
   "metadata": {},
   "outputs": [],
   "source": [
    "from rdkit.Chem import AllChem\n",
    "acetylcholine = \"[N+](C)(C)(C)CCOC(=O)C\"  # same as before, but now we will generate 3D coordinates\n",
    "# Generate molecule from SMILES \n",
    "mol = Chem.MolFromSmiles(acetylcholine)\n",
    "\n",
    "# Add explicit hydrogens for a proper 3D structure \n",
    "mol_h = Chem.AddHs(mol)\n",
    "\n",
    "# Generate initial 3D coordinates (embedded in molecule object) \n",
    "AllChem.EmbedMolecule(mol_h, AllChem.ETKDG())\n",
    "\n",
    "# Optimize geometry using UFF force field (can also use MMFF94 if available) \n",
    "AllChem.UFFOptimizeMolecule(mol_h)\n",
    "\n",
    "# Get optimized coordinates as MolBlock (optional, for visualization or output) \n",
    "optimized_molblock = Chem.MolToMolBlock(mol_h)\n",
    "print(optimized_molblock)"
   ]
  },
  {
   "cell_type": "code",
   "execution_count": null,
   "metadata": {},
   "outputs": [],
   "source": [
    "IPythonConsole.drawOptions.addAtomIndices = True\n",
    "mol_h"
   ]
  },
  {
   "cell_type": "markdown",
   "metadata": {},
   "source": [
    "#### Visualization with py3dmol\n",
    "\n",
    "While a mol file and its static image can confirm the presence of 3D coordinates, chemists often want to visually explore the 3D structure itself. There are several tools available for rendering molecules in three dimensions. In this example we’ll use py3Dmol, which is a Python package that integrates seamlessly with Jupyter notebooks to provide interactive 3D molecular visualizations. It’s a convenient way to inspect geometry, stereochemistry, and conformational features directly within your workflow."
   ]
  },
  {
   "cell_type": "code",
   "execution_count": null,
   "metadata": {},
   "outputs": [],
   "source": [
    "import py3Dmol\n",
    "from rdkit.Chem import Draw\n",
    "from rdkit.Chem.Draw import IPythonConsole\n",
    "IPythonConsole.molSize = (500, 500)\n",
    "IPythonConsole.drawMol3D(mol_h)"
   ]
  },
  {
   "cell_type": "markdown",
   "metadata": {},
   "source": [
    "<div class=\"alert alert-block alert-warning\">\n",
    "<strong>Check your understanding</strong>\n",
    "\n",
    "* Based on the output, is the MOL file a 2D or 3D structure? (There are two different ways you can tell.)\n",
    "* Why are hydrogen atoms and bonds added to the molecule object?\n",
    "* Does the 3D visualization indicate that bond lengths and angles have been properly calculated?\n",
    "</div>"
   ]
  },
  {
   "cell_type": "markdown",
   "metadata": {},
   "source": [
    "### Geometry Optimization\n",
    "\n",
    "The `AllChem.EmbedMultipleConfs()` function in RDKit allows you to generate multiple 3D conformations of a molecule using distance geometry methods. By specifying the number of conformers and embedding parameters, RDKit creates several possible geometries that follow chemical rules.\n",
    "\n",
    "The parameters are established using `ETKDGv3` which stands for *Experimental Torsion-angle preferences with Knowledge-based Distance Geometry, version 3*. It combines experimental data from crystal structures with knowledge-based rules to produce more realistic 3D conformers, particularly for molecules with flexible ring systems and rotatable bonds. These conformers are stored in the same molecule object and can be accessed, visualized, or optimized further for applications like docking or energy calculations."
   ]
  },
  {
   "cell_type": "code",
   "execution_count": null,
   "metadata": {},
   "outputs": [],
   "source": [
    "# Step 1: Molecule preparation\n",
    "acetylcholine = \"[N+](C)(C)(C)CCOC(=O)C\" \n",
    "mol = Chem.MolFromSmiles(acetylcholine)\n",
    "mol = Chem.AddHs(mol)"
   ]
  },
  {
   "cell_type": "code",
   "execution_count": null,
   "metadata": {},
   "outputs": [],
   "source": [
    "# Step 2: Embed multiple conformations \n",
    "num_confs = 20 # Number of conformers to generate \n",
    "params = AllChem.ETKDGv3()\n",
    "conformers = AllChem.EmbedMultipleConfs(mol, numConfs=num_confs, params=params)"
   ]
  },
  {
   "cell_type": "code",
   "execution_count": null,
   "metadata": {},
   "outputs": [],
   "source": [
    "# Step 3: Optimize each conformer and calculate energies \n",
    "energies = [] \n",
    "for conf_id in conformers: \n",
    "    # Geometry optimization using UFF (you could use MMFF as an alternative) \n",
    "    ff = AllChem.UFFGetMoleculeForceField(mol, confId=conf_id)\n",
    "    #ff = AllChem.MMFFGetMoleculeForceField(mol, AllChem.MMFFGetMoleculeProperties(mol), confId=conf_id)\n",
    "    ff.Minimize() \n",
    "    energy = ff.CalcEnergy() \n",
    "    energies.append((conf_id, energy))"
   ]
  },
  {
   "cell_type": "code",
   "execution_count": null,
   "metadata": {},
   "outputs": [],
   "source": [
    "# Step 4: Sort conformers by energy \n",
    "sorted_energies = sorted(energies, key=lambda x: x[1])"
   ]
  },
  {
   "cell_type": "code",
   "execution_count": null,
   "metadata": {},
   "outputs": [],
   "source": [
    "# Display energies \n",
    "print(\"Conformer ID : Energy (kcal/mol)\") \n",
    "for conf_id, energy in sorted_energies: \n",
    "    print(f\"{conf_id} : {energy:.4f}\")"
   ]
  },
  {
   "cell_type": "code",
   "execution_count": null,
   "metadata": {},
   "outputs": [],
   "source": [
    "# Get lowest-energy conformer ID \n",
    "global_min_id = sorted_energies[0][0] \n",
    "# Display global minimum structure as 3D depiction \n",
    "mol_global_min = Chem.Mol(mol, False, global_min_id) \n",
    "IPythonConsole.drawMol3D(mol, confId=global_min_id)"
   ]
  },
  {
   "cell_type": "code",
   "execution_count": null,
   "metadata": {},
   "outputs": [],
   "source": [
    "print(global_min_id)"
   ]
  },
  {
   "cell_type": "code",
   "execution_count": null,
   "metadata": {},
   "outputs": [],
   "source": [
    "# Get highest-energy conformer ID \n",
    "sorted_energies = sorted(energies, key=lambda x: x[1], reverse=True) \n",
    "global_max_id = sorted_energies[0][0] # highest energy\n",
    "# Display global minimum structure as 3D depiction \n",
    "mol_global_min = Chem.Mol(mol, False, global_max_id) \n",
    "IPythonConsole.drawMol3D(mol, confId=global_max_id)"
   ]
  },
  {
   "cell_type": "code",
   "execution_count": null,
   "metadata": {},
   "outputs": [],
   "source": [
    "print(global_max_id)"
   ]
  },
  {
   "cell_type": "code",
   "execution_count": null,
   "metadata": {},
   "outputs": [],
   "source": [
    "# Get optimized coordinates as MolBlock (optional, for visualization or output) \n",
    "optimized_molblock = Chem.MolToMolBlock(mol_global_min)\n",
    "    # Optionally, write the MOL block to a file\n",
    "with open(\"optimized_acetylcholine.mol\", \"w\") as f:\n",
    "    f.write(optimized_molblock)\n",
    "\n",
    "print(optimized_molblock)"
   ]
  },
  {
   "cell_type": "markdown",
   "metadata": {},
   "source": [
    "<div class=\"alert alert-block alert-warning\">\n",
    "<strong>Check your understanding</strong>\n",
    "\n",
    "* Compare the lowest energy conformation to the highest energy conformation. Are they different?\n",
    "* Rerun the above section with 100 conformers and the MMFF minimization method. \n",
    "* Are the results different? Do either the low or high energy conformation have a *gauche* or *anti* orientation sighting down the C-C bond?\n",
    "\n",
    "</div>"
   ]
  },
  {
   "cell_type": "markdown",
   "metadata": {},
   "source": [
    "In the previous code section, you wrote out the connection table as a mol file. In this section, let's read the file back in as a new variable and generate a SMILES string from it to compare to our previous SMILES string."
   ]
  },
  {
   "cell_type": "code",
   "execution_count": null,
   "metadata": {},
   "outputs": [],
   "source": [
    "# loading the mol file we just saved\n",
    "\n",
    "optimizedSavedMol = Chem.MolFromMolFile(\"optimized_acetylcholine.mol\", removeHs=False) \n",
    "molblockText = Chem.MolToMolBlock(optimizedSavedMol) # convert the mol object back to a mol block\n",
    "print(molblockText)\n",
    "\n"
   ]
  },
  {
   "cell_type": "code",
   "execution_count": null,
   "metadata": {},
   "outputs": [],
   "source": [
    "# generate a SMILES string from the optimized molecule\n",
    "smiles_optimized = Chem.MolToSmiles(optimizedSavedMol)\n",
    "print(\"SMILES string of the optimized molecule:\", smiles_optimized) "
   ]
  },
  {
   "cell_type": "markdown",
   "metadata": {},
   "source": [
    "In the above section, since we loaded the saved mol with explicit hydrogens by setting the parameter `removeHs=False` we get a SMILES string with all the hydrogens explicitly stated. The recommended approach is to remove explicit hydrogens from teh molecule before converting to SMILES as shown in the code cell below:"
   ]
  },
  {
   "cell_type": "code",
   "execution_count": null,
   "metadata": {},
   "outputs": [],
   "source": [
    "mol_optimized_noH = Chem.RemoveHs(optimizedSavedMol)  # remove explicit hydrogens\n",
    "smiles_optimized_noH = Chem.MolToSmiles(mol_optimized_noH)  # generate SMILES without explicit hydrogens\n",
    "print(\"SMILES string of the optimized molecule without explicit hydrogens:\", smiles_optimized_noH)"
   ]
  },
  {
   "cell_type": "markdown",
   "metadata": {},
   "source": [
    "Previously, we used a provided SMILES string for acetylcholine. After generating and optimizing its 3D structure, we saved and reloaded the molecule, then generated a new SMILES string from the optimized structure. Let's check if the original and new SMILES strings look different. This is a good reminder that SMILES are not necessarily canonical by default. Let's confirm that both SMILES represent the same molecule by comparing their molecular graphs directly in RDKit."
   ]
  },
  {
   "cell_type": "code",
   "execution_count": null,
   "metadata": {},
   "outputs": [],
   "source": [
    "myLegends = [acetylcholine,smiles_optimized_noH]\n",
    "mols = [Chem.MolFromSmiles(acetylcholine), Chem.MolFromSmiles(smiles_optimized_noH)] \n",
    "img = Draw.MolsToGridImage(mols, molsPerRow=2, subImgSize=(200,200), legends=myLegends)\n",
    "display(img)\n",
    "\n"
   ]
  },
  {
   "cell_type": "markdown",
   "metadata": {},
   "source": [
    "### Resolving issues with SMILES by using InChI and InChiKey\n",
    "\n",
    "The [InChI (International Chemical Identifier)](https://www.inchi-trust.org/) is a standardized, non-proprietary textual representation of a chemical substance developed by [IUPAC (International Union of Pure and Applied Chemistry)](https://iupac.org/). Unlike SMILES, which can vary depending on software or formatting choices, InChI is designed to be a unique and consistent way to encode a molecule’s structure. It includes layers of information (connectivity, hydrogen atoms, charge, stereochemistry, and isotopes) organized in a systematic, machine-readable format. While not particularly human-friendly, InChI is widely used for database indexing, structure matching, and ensuring reproducibility in chemical informatics.\n",
    "\n",
    "RDKit can convert a molecule (`Mol` object) to an InChI string using the `MolToInchi()` function from the rdkit.Chem.inchi module. This allows you to generate a standardized, unique identifier directly from molecular structure data within your Python workflow."
   ]
  },
  {
   "cell_type": "code",
   "execution_count": null,
   "metadata": {},
   "outputs": [],
   "source": [
    "# loading the optimized saved mol file of acetylcholine\n",
    "optimizedSavedMol = Chem.MolFromMolFile(\"optimized_acetylcholine.mol\", removeHs=False) \n",
    "\n",
    "# loading the original acetylcholine saved mol file\n",
    "originalSavedMol = Chem.MolFromMolFile(\"acetylcholine.mol\", removeHs=False)\n",
    "\n",
    "# Generate InChi string for each molecule and display \n",
    "inchi_optimized = Chem.MolToInchi(optimizedSavedMol)\n",
    "inchi_original = Chem.MolToInchi(originalSavedMol)\n",
    "print(\"InChI of the optimized molecule:\", inchi_optimized)\n",
    "print(\"InChI of the original molecule: \", inchi_original)    "
   ]
  },
  {
   "cell_type": "markdown",
   "metadata": {},
   "source": [
    "We can also generate InChI from the two SMILES strings that we had for acetylcholine previously, however, we need to create an RDKit molecule object first."
   ]
  },
  {
   "cell_type": "code",
   "execution_count": null,
   "metadata": {},
   "outputs": [],
   "source": [
    "mol_from_original_smiles = Chem.MolFromSmiles(acetylcholine)  # create a molecule object from the original SMILES string\n",
    "mol_from_optimized_smiles = Chem.MolFromSmiles(smiles_optimized_noH)  # create a molecule object from the optimized SMILES string\n",
    "\n",
    "inchi_from_original_smiles = Chem.MolToInchi(mol_from_original_smiles)\n",
    "inchi_from_optimized_smiles = Chem.MolToInchi(mol_from_optimized_smiles)\n",
    "print(\"InChI from original SMILES: \", inchi_from_original_smiles)\n",
    "print(\"InChI from optimized SMILES:\", inchi_from_optimized_smiles)  "
   ]
  },
  {
   "cell_type": "code",
   "execution_count": null,
   "metadata": {},
   "outputs": [],
   "source": [
    "# output of all InChI strings to easily compare\n",
    "print(inchi_optimized)\n",
    "print(inchi_original)\n",
    "print(inchi_from_original_smiles)\n",
    "print(inchi_from_optimized_smiles)\n",
    "    "
   ]
  },
  {
   "cell_type": "markdown",
   "metadata": {},
   "source": [
    "<div class=\"alert alert-block alert-warning\">\n",
    "<strong>Check your understanding</strong>\n",
    "\n",
    "* If you start with different SMILES strings or MOL files that represent the same molecule, will the resulting InChI always be identical? Why or why not?\n",
    "* How does storing molecular structures as InChI in a database help prevent errors or inconsistencies in chemical data management?\n",
    "</div>"
   ]
  },
  {
   "cell_type": "markdown",
   "metadata": {},
   "source": [
    "RDKit also allows for convenient interconversion of SMILES to InChI. Let's demonstrate this with ethanol."
   ]
  },
  {
   "cell_type": "code",
   "execution_count": null,
   "metadata": {},
   "outputs": [],
   "source": [
    "# SMILES --> InChI\n",
    "smiles = 'CCO' # ethanol  could also use C(O)C or OCC as alternatives SMILES for ethanol\n",
    "mol = Chem.MolFromSmiles(smiles) # need to create a molecule object from the SMILES string\n",
    "# Convert SMILES to InChI\n",
    "inchi = Chem.MolToInchi(mol) \n",
    "print(inchi)\n",
    "\n",
    "\n",
    "#InChI --> SMILES\n",
    "inchi = 'InChI=1S/C2H6O/c1-2-3/h3H,2H2,1H3' # ethanol \n",
    "mol = Chem.MolFromInchi(inchi) # need to create a molecule object from the InChI string\n",
    "# Convert InChI to SMILES \n",
    "smiles = Chem.MolToSmiles(mol) \n",
    "print(smiles)"
   ]
  },
  {
   "cell_type": "markdown",
   "metadata": {},
   "source": [
    "InChIKey is a hashed, fixed-length version of the full InChI string, designed for easier searching, indexing, and data sharing. While InChI strings can be long and complex, the InChIKey condenses this information into a 27-character code that’s easier to use in databases, spreadsheets, and web searches. It’s not human-readable, but it allows for fast structure-based lookups and is commonly used as a stable chemical identifier across platforms.\n",
    "\n",
    " It consists of three blocks separated by hyphens. The first block (14 characters) encodes the main molecular skeleton, including atom types and connectivity. The second block (8 characters) captures stereochemistry and isotope information. The third block (1 character) indicates the protonation state or InChI version. \n",
    "\n",
    "Searching with full InChI strings or SMILES can be problematic, especially in web forms or databases that don’t handle special characters like slashes (/), backslashes (\\), or plus signs (+) well. These characters can be misinterpreted by search engines or software, leading to errors or failed queries. The InChIKey solves this issue by providing a simplified, fixed-format identifier that avoids special characters, making it much more robust for searching, indexing, and sharing chemical information across platforms."
   ]
  },
  {
   "cell_type": "code",
   "execution_count": null,
   "metadata": {},
   "outputs": [],
   "source": [
    "#InChI --> InChIKey\n",
    "inchi = 'InChI=1S/C7H16NO2/c1-7(9)10-6-5-8(2,3)4/h5-6H2,1-4H3/q+1' # acetylcholine \n",
    "# create a molecule object from the InChI string\n",
    "mol = Chem.MolFromInchi(inchi) \n",
    "# Convert InChI to InChIKey \n",
    "inchikey = Chem.InchiToInchiKey(inchi) \n",
    "print(inchikey)"
   ]
  },
  {
   "cell_type": "markdown",
   "metadata": {},
   "source": [
    "It’s important to note that the InChIKey is a one-way encrypted representation of the full InChI. It’s designed for compact identification, not reconstruction. This means you can’t convert an InChIKey back into the original chemical structure or InChI string directly. Instead, it serves as a reliable, searchable fingerprint for matching or referencing molecules across databases. If you need the full structural details, you must store or retrieve the original InChI or another structure-based format alongside the InChIKey.\n",
    "\n",
    "Let's look at our original saved MOL file of acetylcholine wtih 2D coordinates and our optimized saved MOL file with 3D coordinates."
   ]
  },
  {
   "cell_type": "code",
   "execution_count": null,
   "metadata": {},
   "outputs": [],
   "source": [
    "# loading the optimized saved mol file of acetylcholine\n",
    "optimizedSavedMol = Chem.MolFromMolFile(\"optimized_acetylcholine.mol\", removeHs=False) \n",
    "\n",
    "# loading the original acetylcholine saved mol file\n",
    "originalSavedMol = Chem.MolFromMolFile(\"acetylcholine.mol\", removeHs=False)\n",
    "\n",
    "# Generate InChi string for each molecule and display\n",
    "inchikey_optimized = Chem.MolToInchiKey(optimizedSavedMol)\n",
    "inchikey_original = Chem.MolToInchiKey(originalSavedMol)\n",
    "print(\"InChIKey of the optimized molecule:\", inchikey_optimized)\n",
    "print(\"InChIKey of the original molecule: \", inchikey_original)\n"
   ]
  },
  {
   "cell_type": "markdown",
   "metadata": {},
   "source": [
    "Notice that the two MOL files provide the same InChIKey as there is no coordinate data provided in the InChIKey, only atom types connectivity in the main section as shown with `OIPILFWXSMYKGL` and no stereochemistry data in the second block as shown with `UHFFFAOYSA`. \n",
    "\n",
    "Let's look at molecules with stereochemical data included (or not). The following shows tartaric acid which has two stereogenic centers."
   ]
  },
  {
   "cell_type": "code",
   "execution_count": null,
   "metadata": {},
   "outputs": [],
   "source": [
    "Ltartaric_acid = \"[C@@H]([C@H](C(=O)O)O)(C(=O)O)O\"\n",
    "Dtartaric_acid = \"[C@H]([C@@H](C(=O)O)O)(C(=O)O)O\"\n",
    "racemic_tartaric_acid = \"C(C(C(=O)O)O)(C(=O)O)O\"\n",
    "\n",
    "mol_L = Chem.MolFromSmiles(Ltartaric_acid)\n",
    "mol_D = Chem.MolFromSmiles(Dtartaric_acid)\n",
    "mol_racemic = Chem.MolFromSmiles(racemic_tartaric_acid) \n",
    "\n",
    "inchikey_L = Chem.MolToInchiKey(mol_L)\n",
    "inchikey_D = Chem.MolToInchiKey(mol_D)\n",
    "inchikey_racemic = Chem.MolToInchiKey(mol_racemic)\n",
    "\n",
    "print(\"InChIKey of L-tartaric acid:      \", inchikey_L)\n",
    "print(\"InChIKey of D-tartaric acid:      \", inchikey_D)\n",
    "print(\"InChIKey of racemic tartaric acid:\", inchikey_racemic)\n",
    "\n",
    "\n",
    "myLegends = [inchikey_L, inchikey_D, inchikey_racemic]\n",
    "mols = [Chem.MolFromSmiles(Ltartaric_acid), Chem.MolFromSmiles(Dtartaric_acid), Chem.MolFromSmiles(racemic_tartaric_acid)] \n",
    "img = Draw.MolsToGridImage(mols, molsPerRow=3, subImgSize=(200,200), legends=myLegends)\n",
    "display(img)"
   ]
  },
  {
   "cell_type": "code",
   "execution_count": null,
   "metadata": {},
   "outputs": [],
   "source": [
    "Ltartrate = Chem.MolFromSmiles(\"[C@@H]([C@H](C(=O)[O-])O)(C(=O)[O-])O\")\n",
    "inchikey_Ltartrate = Chem.MolToInchiKey(Ltartrate)\n",
    "\n",
    "print(\"InChIKey of L-tartrate:     \", inchikey_Ltartrate)\n",
    "print(\"InChIKey of L-tartaric acid:\", inchikey_L)\n",
    "\n",
    "myLegends = [inchikey_Ltartrate, inchikey_L]\n",
    "mols = [Ltartrate,mol_L] \n",
    "img = Draw.MolsToGridImage(mols, molsPerRow=2, subImgSize=(200,200), legends=myLegends)\n",
    "display(img)"
   ]
  },
  {
   "cell_type": "markdown",
   "metadata": {},
   "source": [
    "<div class=\"alert alert-block alert-warning\">\n",
    "<strong>Check your understanding</strong>\n",
    "\n",
    "1) The first block of the InChIKey encodes the molecular skeleton (connectivity). Which of the tartaric acid forms share this same first block, and what does that tell you about their atomic connectivity?\n",
    "\n",
    "2) The second block encodes stereochemistry and isotopes. How does this block differ between L-, D-, and racemic tartaric acid? What does this suggest about the presence or absence of defined stereochemistry?\n",
    "\n",
    "3) Compare the InChIKeys of L-tartaric acid and L-tartrate. Which part(s) of the InChIKey change, and how does this reflect differences in protonation or formal charge?\n",
    "\n",
    "4) If two molecules have identical first blocks but different second or third blocks, what kinds of chemical differences does that imply?\n",
    "\n",
    "5) Why might using the InChIKey be more helpful than using SMILES when comparing stereoisomers in a chemical database?\n"
   ]
  },
  {
   "cell_type": "markdown",
   "metadata": {},
   "source": [
    "In this notebook we loaded InChIs and SMILES into RDKit `mol` objects. This was required to interconvert them. Let's try one last bit of code that will result in an error. We are going to attempt to read an InChiKey in into a `mol` object. This should result in an error."
   ]
  },
  {
   "cell_type": "code",
   "execution_count": null,
   "metadata": {},
   "outputs": [],
   "source": [
    "# Try to create a molecule from InChIKey\n",
    "mol_from_key = Chem.MolFromInchi(inchikey_Ltartrate)\n",
    "print(mol_from_key)"
   ]
  },
  {
   "cell_type": "markdown",
   "metadata": {},
   "source": [
    "<div class=\"alert alert-block alert-success\">\n",
    "<center><H1>Homework</H1></center>\n",
    "\n",
    "Using the [PubChem Draw Structure Utility](https://pubchem.ncbi.nlm.nih.gov/#draw=true) draw a molecule that has:\n",
    "\n",
    "* an aromatic heterocycle,\n",
    "* 5 rotatable bonds,\n",
    "* at least one *E* or *Z* double bond,\n",
    "* at least one chiral center,\n",
    "* a deprotonated carboxylic acid or a protonated amine.\n",
    "\n",
    "In the drawing window, PubChem will generate the InChI for you. Copy and paste this into a variable called `myInChI`.\n",
    "\n",
    "You will be writing code to:\n",
    "1) Generate a mol object from your `mySMILES` variable\n",
    "2) Generate a skeletal drawing from your mol object with atom indices\n",
    "3) List stereochemistry for any chiral centers and double bonds\n",
    "4) Generate a 2D connection table for your molecule and save it as `myMolecule.mol`\n",
    "5) Utilizing UFF, optimize the geometry of your molecule and generate a mol block (SDF output/mol file)\n",
    "6) Generate 100 conformers of your molecule\n",
    "7) Display the lowest energy conformation as a rotatable 3D visualization\n",
    "8) Save the lowest energy conformation MOL file as `myLowestConformation.mol`\n",
    "9) Load the lowest energy conformation MOL file as a new variable called `savedMOL`\n",
    "10) Generate and print SMILES (no hydrogens), InChI and InChiKey line notations for your molecule stored in `savedMOL` "
   ]
  },
  {
   "cell_type": "code",
   "execution_count": null,
   "metadata": {},
   "outputs": [],
   "source": [
    "# 1) Generate a mol object from your `mySMILES` variable\n",
    "myInChI = \"\"\n",
    "\n",
    "\n"
   ]
  },
  {
   "cell_type": "code",
   "execution_count": null,
   "metadata": {},
   "outputs": [],
   "source": [
    "# 2) Generate a skeletal drawing from your mol object with atom indices\n"
   ]
  },
  {
   "cell_type": "code",
   "execution_count": null,
   "metadata": {},
   "outputs": [],
   "source": [
    "# 3) List stereochemistry for any chiral centers and double bonds\n",
    "\n",
    "\n"
   ]
  },
  {
   "cell_type": "code",
   "execution_count": null,
   "metadata": {},
   "outputs": [],
   "source": [
    "# 4) Generate a 2D connection table for your molecule and save it as `myMolecule.mol`\n"
   ]
  },
  {
   "cell_type": "code",
   "execution_count": null,
   "metadata": {},
   "outputs": [],
   "source": [
    "# 5) Using UFF, optimize the geometry of your molecule and generate a mol block (SDF output/mol file)\n",
    "\n"
   ]
  },
  {
   "cell_type": "code",
   "execution_count": null,
   "metadata": {},
   "outputs": [],
   "source": [
    "# 6) Generate 100 conformers of your molecule\n",
    "    \n"
   ]
  },
  {
   "cell_type": "code",
   "execution_count": null,
   "metadata": {},
   "outputs": [],
   "source": [
    "# 7) Display the lowest energy conformation as a rotatable 3D visualization\n",
    "\n"
   ]
  },
  {
   "cell_type": "code",
   "execution_count": null,
   "metadata": {},
   "outputs": [],
   "source": [
    "# 8) Save the lowest energy conformation MOL file as `myLowestConformation.mol`\n",
    "\n",
    "    "
   ]
  },
  {
   "cell_type": "code",
   "execution_count": null,
   "metadata": {},
   "outputs": [],
   "source": [
    "# 9) Load the lowest energy conformation MOL file as a new variable called `savedMOL`\n",
    "\n"
   ]
  },
  {
   "cell_type": "code",
   "execution_count": null,
   "metadata": {},
   "outputs": [],
   "source": [
    "#10) Generate and print SMILES (no hydrogens), InChI and InChiKey line notations for your molecule stored in `savedMOL`\n"
   ]
  },
  {
   "cell_type": "markdown",
   "metadata": {},
   "source": [
    "# Acknowledgments\n",
    "\n"
   ]
  }
 ],
 "metadata": {
  "kernelspec": {
   "display_name": "dataChem(py3.10)",
   "language": "python",
   "name": "datachem"
  },
  "language_info": {
   "codemirror_mode": {
    "name": "ipython",
    "version": 3
   },
   "file_extension": ".py",
   "mimetype": "text/x-python",
   "name": "python",
   "nbconvert_exporter": "python",
   "pygments_lexer": "ipython3",
   "version": "3.10.12"
  },
  "varInspector": {
   "cols": {
    "lenName": 16,
    "lenType": 16,
    "lenVar": 40
   },
   "kernels_config": {
    "python": {
     "delete_cmd_postfix": "",
     "delete_cmd_prefix": "del ",
     "library": "var_list.py",
     "varRefreshCmd": "print(var_dic_list())"
    },
    "r": {
     "delete_cmd_postfix": ") ",
     "delete_cmd_prefix": "rm(",
     "library": "var_list.r",
     "varRefreshCmd": "cat(var_dic_list()) "
    }
   },
   "types_to_exclude": [
    "module",
    "function",
    "builtin_function_or_method",
    "instance",
    "_Feature"
   ],
   "window_display": false
  }
 },
 "nbformat": 4,
 "nbformat_minor": 4
}
