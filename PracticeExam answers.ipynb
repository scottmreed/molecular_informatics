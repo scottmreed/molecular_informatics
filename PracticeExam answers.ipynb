{
 "cells": [
  {
   "cell_type": "code",
   "execution_count": 3,
   "metadata": {},
   "outputs": [],
   "source": [
    "# Start by running this block and then answer each question in the block below the question.\n",
    "import requests\n",
    "import pandas as pd\n",
    "import matplotlib.pyplot as plt \n",
    "drug_list = ['Tramadol', 'Prednisone', 'Jardiance', 'Pantoprazole', 'Bunavail']"
   ]
  },
  {
   "cell_type": "markdown",
   "metadata": {},
   "source": [
    "Q1: Find the molecular weight and exact mass for the drugs Tramadol, Prednisone, Jardiance, Pantoprazole, and Bunavail using pug rest"
   ]
  },
  {
   "cell_type": "code",
   "execution_count": 2,
   "metadata": {},
   "outputs": [
    {
     "name": "stdout",
     "output_type": "stream",
     "text": [
      "Exact Masses:  ['263.188529040', '358.17802393', '450.1445309', '383.07513347', '794.45061694']\n",
      "Molecular Weights:  ['263.37', '358.4', '450.9', '383.4', '795.0']\n"
     ]
    }
   ],
   "source": [
    "prolog = 'https://pubchem.ncbi.nlm.nih.gov/rest/pug'\n",
    "\n",
    "molecular_weights = []\n",
    "exact_masses = []\n",
    "\n",
    "for x in drug_list:\n",
    "    url = prolog + \"/compound/name/\" + x + \"/property/molecularweight/txt\"\n",
    "    res = requests.get(url)\n",
    "    molecular_weights.append(str(res.text[:-1]))\n",
    "    url2 = prolog + \"/compound/name/\" + x + \"/property/exactmass/txt\"\n",
    "    res2 = requests.get(url2)\n",
    "    exact_masses.append(str(res2.text[:-1]))\n",
    "\n",
    "print('Exact Masses: ', exact_masses)\n",
    "print('Molecular Weights: ', molecular_weights)\n"
   ]
  },
  {
   "cell_type": "markdown",
   "metadata": {},
   "source": [
    "Q2: Next import this data into a dataframe. There are many ways to do this but one simple method is to use the  pandas command read_table which can take a url as input just like requests.get does."
   ]
  },
  {
   "cell_type": "code",
   "execution_count": 3,
   "metadata": {},
   "outputs": [
    {
     "data": {
      "text/html": [
       "<div>\n",
       "<style scoped>\n",
       "    .dataframe tbody tr th:only-of-type {\n",
       "        vertical-align: middle;\n",
       "    }\n",
       "\n",
       "    .dataframe tbody tr th {\n",
       "        vertical-align: top;\n",
       "    }\n",
       "\n",
       "    .dataframe thead th {\n",
       "        text-align: right;\n",
       "    }\n",
       "</style>\n",
       "<table border=\"1\" class=\"dataframe\">\n",
       "  <thead>\n",
       "    <tr style=\"text-align: right;\">\n",
       "      <th></th>\n",
       "      <th>CID</th>\n",
       "      <th>MolecularWeight</th>\n",
       "      <th>ExactMass</th>\n",
       "    </tr>\n",
       "  </thead>\n",
       "  <tbody>\n",
       "    <tr>\n",
       "      <th>0</th>\n",
       "      <td>33741</td>\n",
       "      <td>263.37</td>\n",
       "      <td>263.188529</td>\n",
       "    </tr>\n",
       "    <tr>\n",
       "      <th>0</th>\n",
       "      <td>5865</td>\n",
       "      <td>358.40</td>\n",
       "      <td>358.178024</td>\n",
       "    </tr>\n",
       "    <tr>\n",
       "      <th>0</th>\n",
       "      <td>11949646</td>\n",
       "      <td>450.90</td>\n",
       "      <td>450.144531</td>\n",
       "    </tr>\n",
       "    <tr>\n",
       "      <th>0</th>\n",
       "      <td>4679</td>\n",
       "      <td>383.40</td>\n",
       "      <td>383.075133</td>\n",
       "    </tr>\n",
       "    <tr>\n",
       "      <th>0</th>\n",
       "      <td>11274356</td>\n",
       "      <td>795.00</td>\n",
       "      <td>794.450617</td>\n",
       "    </tr>\n",
       "  </tbody>\n",
       "</table>\n",
       "</div>"
      ],
      "text/plain": [
       "        CID  MolecularWeight   ExactMass\n",
       "0     33741           263.37  263.188529\n",
       "0      5865           358.40  358.178024\n",
       "0  11949646           450.90  450.144531\n",
       "0      4679           383.40  383.075133\n",
       "0  11274356           795.00  794.450617"
      ]
     },
     "execution_count": 3,
     "metadata": {},
     "output_type": "execute_result"
    }
   ],
   "source": [
    "properties = []\n",
    "\n",
    "for x in drug_list:\n",
    "    \n",
    "    response = requests.get(url)\n",
    "    properties.append(response.text)\n",
    "\n",
    "for x, y in enumerate(drug_list):\n",
    "    url = prolog + \"/compound/name/\" + y + \"/property/molecularweight,exactmass/csv\"\n",
    "\n",
    "    if x == 0:\n",
    "        df = pd.read_table(url, ',')    \n",
    "\n",
    "    else:\n",
    "        df2 = pd.read_table(url, ',')\n",
    "        df = pd.concat([df, df2])\n",
    "\n",
    "df"
   ]
  },
  {
   "cell_type": "code",
   "execution_count": 6,
   "metadata": {},
   "outputs": [
    {
     "data": {
      "text/html": [
       "<div>\n",
       "<style scoped>\n",
       "    .dataframe tbody tr th:only-of-type {\n",
       "        vertical-align: middle;\n",
       "    }\n",
       "\n",
       "    .dataframe tbody tr th {\n",
       "        vertical-align: top;\n",
       "    }\n",
       "\n",
       "    .dataframe thead th {\n",
       "        text-align: right;\n",
       "    }\n",
       "</style>\n",
       "<table border=\"1\" class=\"dataframe\">\n",
       "  <thead>\n",
       "    <tr style=\"text-align: right;\">\n",
       "      <th></th>\n",
       "      <th>CID</th>\n",
       "      <th>MolecularWeight</th>\n",
       "      <th>ExactMass</th>\n",
       "    </tr>\n",
       "  </thead>\n",
       "  <tbody>\n",
       "    <tr>\n",
       "      <th>0</th>\n",
       "      <td>33741</td>\n",
       "      <td>263.37</td>\n",
       "      <td>263.188529</td>\n",
       "    </tr>\n",
       "    <tr>\n",
       "      <th>1</th>\n",
       "      <td>5865</td>\n",
       "      <td>358.40</td>\n",
       "      <td>358.178024</td>\n",
       "    </tr>\n",
       "    <tr>\n",
       "      <th>2</th>\n",
       "      <td>11949646</td>\n",
       "      <td>450.90</td>\n",
       "      <td>450.144531</td>\n",
       "    </tr>\n",
       "    <tr>\n",
       "      <th>3</th>\n",
       "      <td>4679</td>\n",
       "      <td>383.40</td>\n",
       "      <td>383.075133</td>\n",
       "    </tr>\n",
       "    <tr>\n",
       "      <th>4</th>\n",
       "      <td>11274356</td>\n",
       "      <td>795.00</td>\n",
       "      <td>794.450617</td>\n",
       "    </tr>\n",
       "  </tbody>\n",
       "</table>\n",
       "</div>"
      ],
      "text/plain": [
       "        CID  MolecularWeight   ExactMass\n",
       "0     33741           263.37  263.188529\n",
       "1      5865           358.40  358.178024\n",
       "2  11949646           450.90  450.144531\n",
       "3      4679           383.40  383.075133\n",
       "4  11274356           795.00  794.450617"
      ]
     },
     "execution_count": 6,
     "metadata": {},
     "output_type": "execute_result"
    }
   ],
   "source": [
    "# alternate with read_csv(url)\n",
    "cids=[]\n",
    "\n",
    "for name in drug_list:\n",
    "    cidd = ('https://pubchem.ncbi.nlm.nih.gov/rest/pug/compound/name/'+name+'/cids/txt')\n",
    "    cid = requests.get(cidd)\n",
    "    cid=(cid.text)\n",
    "    cid=(str(cid))\n",
    "    cids.append(int(cid))\n",
    "\n",
    "\n",
    "pugrest = \"https://pubchem.ncbi.nlm.nih.gov/rest/pug\"\n",
    "pugoper = \"property/molecularweight,ExactMass/\"\n",
    "pugout  = \"csv\"\n",
    "pugin = \"compound/cid/\" + \",\".join([ str(x) for x in cids])\n",
    "url = \"/\".join( [pugrest, pugin, pugoper, pugout] ) \n",
    "  \n",
    "df = pd.read_csv(url)\n",
    "df "
   ]
  },
  {
   "cell_type": "markdown",
   "metadata": {},
   "source": [
    "Q3: Next make a scatterplot of Exact Mass vs Molecular Weight"
   ]
  },
  {
   "cell_type": "code",
   "execution_count": 4,
   "metadata": {},
   "outputs": [
    {
     "data": {
      "image/png": "[encoded data removed]",
      "text/plain": [
       "<Figure size 432x288 with 1 Axes>"
      ]
     },
     "metadata": {
      "needs_background": "light"
     },
     "output_type": "display_data"
    }
   ],
   "source": [
    "import matplotlib.pyplot as plt\n",
    "\n",
    "plt.scatter(df.MolecularWeight, df.ExactMass)     # plot of boiling point (in K) vs molecular weight\n",
    "plt.xlabel('Molecular Weight')\n",
    "plt.ylabel('Exact Mass')\n",
    "plt.show()"
   ]
  },
  {
   "cell_type": "markdown",
   "metadata": {},
   "source": [
    "Q4: Using the \"fastformula\" property find how many molecules in pubchem have the same molecular formula as each of these drugs."
   ]
  },
  {
   "cell_type": "code",
   "execution_count": 5,
   "metadata": {},
   "outputs": [
    {
     "name": "stdout",
     "output_type": "stream",
     "text": [
      "Compound: C16H25NO2 # Number of CIDs: 27293\n",
      "Compound: C21H26O5 # Number of CIDs: 2348\n",
      "Compound: C23H27ClO7 # Number of CIDs: 236\n",
      "Compound: C16H15F2N3O4S # Number of CIDs: 272\n",
      "Compound: C48H62N2O8 # Number of CIDs: 51\n"
     ]
    }
   ],
   "source": [
    "pugrest = \"https://pubchem.ncbi.nlm.nih.gov/rest/pug\"\n",
    "pugoper = \"property/MolecularFormula\"\n",
    "pugout  = \"txt\"\n",
    "\n",
    "drug_formulas = []\n",
    "\n",
    "for i in range(len(drug_list)):   \n",
    "    \n",
    "    pugin = \"compound/name/\" + drug_list[i]   \n",
    "    url = \"/\".join( [pugrest, pugin, pugoper, pugout] )\n",
    "    res = requests.get(url)\n",
    "    drug_formulas.append(res.text.strip('\\n'))\n",
    "\n",
    "fastformula_list = []\n",
    "\n",
    "for i in drug_formulas:\n",
    "\n",
    "    url = pugrest + \"/compound/fastformula/\"+ i + \"/cids/txt\"\n",
    "    res = requests.get(url)\n",
    "    cids = res.text.split()\n",
    "    fastformula_list.append(len(cids))\n",
    "    print(\"Compound:\", i, \"# Number of CIDs:\", len(cids))"
   ]
  },
  {
   "cell_type": "markdown",
   "metadata": {},
   "source": [
    "Q5: Obtain the number of CIDs that contain a substructure for each of the drugs in the list."
   ]
  },
  {
   "cell_type": "code",
   "execution_count": 6,
   "metadata": {},
   "outputs": [
    {
     "name": "stdout",
     "output_type": "stream",
     "text": [
      "[3983, 2061, 925, 2498, 93]\n"
     ]
    }
   ],
   "source": [
    "cid_list = [33741, 5865, 11949646, 4679, 11274356]\n",
    "substructure_list = []\n",
    "\n",
    "for cid in cid_list:\n",
    "    c_url = f\"https://pubchem.ncbi.nlm.nih.gov/rest/pug/compound/fastsubstructure/cid/{cid}/cids/txt\"\n",
    "    c_res = requests.post(c_url)\n",
    "    res2 = c_res.text\n",
    "    substructure_list.append(len(res2))\n",
    "\n",
    "print(substructure_list)"
   ]
  },
  {
   "cell_type": "markdown",
   "metadata": {},
   "source": [
    "Q6: Plot the number of CIDs containing a substructure vs. the number of compounds with the same molecular formula"
   ]
  },
  {
   "cell_type": "code",
   "execution_count": 7,
   "metadata": {},
   "outputs": [
    {
     "data": {
      "image/png": "[encoded data removed]",
      "text/plain": [
       "<Figure size 432x288 with 1 Axes>"
      ]
     },
     "metadata": {
      "needs_background": "light"
     },
     "output_type": "display_data"
    }
   ],
   "source": [
    "plt.scatter(fastformula_list, substructure_list) \n",
    "plt.xlabel('fastformula_list')\n",
    "plt.ylabel('substructure_list')\n",
    "plt.show()"
   ]
  },
  {
   "cell_type": "code",
   "execution_count": null,
   "metadata": {},
   "outputs": [],
   "source": []
  }
 ],
 "metadata": {
  "kernelspec": {
   "display_name": "Python 3.7.9 ('my-rdkit-env')",
   "language": "python",
   "name": "python3"
  },
  "language_info": {
   "codemirror_mode": {
    "name": "ipython",
    "version": 3
   },
   "file_extension": ".py",
   "mimetype": "text/x-python",
   "name": "python",
   "nbconvert_exporter": "python",
   "pygments_lexer": "ipython3",
   "version": "3.7.9"
  },
  "orig_nbformat": 4,
  "vscode": {
   "interpreter": {
    "hash": "74b0eeecb9694be932ad336503137f0c047c9eb8ec8a4a235079c04fe56ee89e"
   }
  }
 },
 "nbformat": 4,
 "nbformat_minor": 2
}
