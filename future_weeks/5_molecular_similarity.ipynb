{
 "cells": [
  {
   "cell_type": "markdown",
   "metadata": {},
   "source": [
    "# Molecular Similarity"
   ]
  },
  {
   "cell_type": "markdown",
   "metadata": {},
   "source": [
    "## Objectives"
   ]
  },
  {
   "cell_type": "markdown",
   "metadata": {},
   "source": [
    "- Generete molecular fingerprints for a given molecule.\n",
    "- Evaluate structural similarity between molecules using different molecular fingerpints and similarity metrics."
   ]
  },
  {
   "cell_type": "markdown",
   "metadata": {},
   "source": [
    "Many useful documents/papers describe various aspects of molecular similarity, including molecular fingerprints and similarity measures.  Please read these if you need more details."
   ]
  },
  {
   "cell_type": "markdown",
   "metadata": {},
   "source": [
    "- Getting Started with the RDKit in Python<br>\n",
    "(https://www.rdkit.org/docs/GettingStartedInPython.html#fingerprinting-and-molecular-similarity)\n",
    "\n",
    "- Fingerprint Generation, GraphSim Toolkit 2.4.2<br>\n",
    "(https://docs.eyesopen.com/toolkits/python/graphsimtk/fingerprint.html)\n",
    "\n",
    "- Chemical Fingerprints<br>\n",
    "(https://docs.chemaxon.com/display/docs/Chemical+Fingerprints)\n",
    "\n",
    "- Extended-Connectivity Fingerprints<br>\n",
    "(https://doi.org/10.1021/ci100050t)\n",
    "\n"
   ]
  },
  {
   "cell_type": "markdown",
   "metadata": {},
   "source": [
    "## 1. Fingerprint Generation"
   ]
  },
  {
   "cell_type": "code",
   "metadata": {
    "ExecuteTime": {
     "end_time": "2024-11-26T22:51:33.831044Z",
     "start_time": "2024-11-26T22:51:33.828989Z"
    }
   },
   "source": [
    "from rdkit import Chem"
   ],
   "outputs": [],
   "execution_count": 21
  },
  {
   "cell_type": "code",
   "metadata": {
    "ExecuteTime": {
     "end_time": "2024-11-26T22:51:33.842632Z",
     "start_time": "2024-11-26T22:51:33.840688Z"
    }
   },
   "source": [
    "mol = Chem.MolFromSmiles('CC(C)C1=C(C(=C(N1CC[C@H](C[C@H](CC(=O)O)O)O)C2=CC=C(C=C2)F)C3=CC=CC=C3)C(=O)NC4=CC=CC=C4')"
   ],
   "outputs": [],
   "execution_count": 22
  },
  {
   "cell_type": "markdown",
   "metadata": {},
   "source": [
    "### 1-(1) MACCS keys"
   ]
  },
  {
   "cell_type": "markdown",
   "metadata": {},
   "source": [
    "The MACCS key is a binary fingerprint (a string of 0's and 1's).  Each bit position represents the presence (=1) or absence (=0) of a pre-defined structural feature.  The feature definitions for the MACCS keys are available at:<br> https://github.com/rdkit/rdkit/blob/master/rdkit/Chem/MACCSkeys.py"
   ]
  },
  {
   "cell_type": "code",
   "metadata": {
    "ExecuteTime": {
     "end_time": "2024-11-26T22:51:33.848079Z",
     "start_time": "2024-11-26T22:51:33.845589Z"
    }
   },
   "source": [
    "from rdkit.Chem import MACCSkeys\n",
    "fingerprint = MACCSkeys.GenMACCSKeys(mol)"
   ],
   "outputs": [],
   "execution_count": 23
  },
  {
   "cell_type": "code",
   "metadata": {
    "ExecuteTime": {
     "end_time": "2024-11-26T22:51:33.858327Z",
     "start_time": "2024-11-26T22:51:33.855459Z"
    }
   },
   "source": [
    "print(type(fingerprint))\n",
    "\n",
    "for i in range(len(fingerprint)):\n",
    "    print(fingerprint[i], end='')\n",
    "\n",
    "fingerprint.ToBitString()    # Alternative, easier way to convert it to a bitstring.\n",
    "\n"
   ],
   "outputs": [
    {
     "name": "stdout",
     "output_type": "stream",
     "text": [
      "<class 'rdkit.DataStructs.cDataStructs.ExplicitBitVect'>\n",
      "00000000000000000000000000000000000000000010000000000100000000100100000000110000100101010111100011001000100110110000011001110100110111111101101011111111111111111111110"
     ]
    },
    {
     "data": {
      "text/plain": [
       "'00000000000000000000000000000000000000000010000000000100000000100100000000110000100101010111100011001000100110110000011001110100110111111101101011111111111111111111110'"
      ]
     },
     "execution_count": 24,
     "metadata": {},
     "output_type": "execute_result"
    }
   ],
   "execution_count": 24
  },
  {
   "cell_type": "code",
   "metadata": {
    "ExecuteTime": {
     "end_time": "2024-11-26T22:51:33.865656Z",
     "start_time": "2024-11-26T22:51:33.863873Z"
    }
   },
   "source": [
    "len(fingerprint)"
   ],
   "outputs": [
    {
     "data": {
      "text/plain": [
       "167"
      ]
     },
     "execution_count": 25,
     "metadata": {},
     "output_type": "execute_result"
    }
   ],
   "execution_count": 25
  },
  {
   "cell_type": "markdown",
   "metadata": {},
   "source": [
    "Note that the MACCS key is **166-bit-long**, but RDKit generates a 167-bit-long fingerprint.  It is because the index of a list/vector in many programming languages (including python) begins at 0.  To use the original numbering of the MACCS keys (1-166) (rather than 0-165), the MACCS keys were implemented to be 167-bit-long, with Bit 0 being always zero. Because Bit 0 is set to OFF for all compounds, it does not affect the evaluation of molecular similarity."
   ]
  },
  {
   "cell_type": "markdown",
   "metadata": {},
   "source": [
    "These are some methods that allow you to get some additional information on the MACCS Keys."
   ]
  },
  {
   "cell_type": "code",
   "metadata": {
    "ExecuteTime": {
     "end_time": "2024-11-26T22:51:33.877034Z",
     "start_time": "2024-11-26T22:51:33.875389Z"
    }
   },
   "source": [
    "print(fingerprint.GetNumBits())\n",
    "print(fingerprint.GetNumOffBits())\n",
    "print(fingerprint.GetNumOnBits())\n",
    "print(fingerprint.ToBinary())"
   ],
   "outputs": [
    {
     "name": "stdout",
     "output_type": "stream",
     "text": [
      "167\n",
      "105\n",
      "62\n",
      "b'\\xe0\\xff\\xff\\xff\\xa7\\x00\\x00\\x00>\\x00\\x00\\x00T\\x14\\x10\\x04\\x10\\x00\\x08\\x04\\x02\\x02\\x02\\x00\\x00\\x00\\x06\\x00\\x04\\x06\\x04\\x00\\x02\\x00\\n\\x00\\x04\\x00\\x00\\x02\\x04\\x00\\x02\\x00\\x00\\x00\\x00\\x00\\x00\\x02\\x00\\x02\\x02\\x00\\x00\\x00\\x00\\x00\\x00\\x00\\x00\\x00\\x00\\x00\\x00\\x00\\x00\\x00\\x00\\x00\\x00\\x00\\x00\\x00\\x02'\n"
     ]
    }
   ],
   "execution_count": 26
  },
  {
   "cell_type": "markdown",
   "metadata": {},
   "source": [
    "**Exercise 1a:** Generate the MACCS keys for the molecules represented by the following SMILES, and get the positions of the bits set to ON in each of the three fingerprints.  What fragments do these bit positions correspond to?  (the bit definitions are available at"
   ]
  },
  {
   "cell_type": "code",
   "metadata": {
    "ExecuteTime": {
     "end_time": "2024-11-26T22:51:33.887964Z",
     "start_time": "2024-11-26T22:51:33.886575Z"
    }
   },
   "source": [
    "smiles = [ 'C1=CC=CC=C1', # Benzene (Kekule)\n",
    "           'c1ccccc1',    # Benzene (\"Aromatized\" carbons)\n",
    "           'C1CCCCC1']     # Cyclohexene"
   ],
   "outputs": [],
   "execution_count": 27
  },
  {
   "cell_type": "code",
   "metadata": {
    "ExecuteTime": {
     "end_time": "2024-11-26T22:51:33.894688Z",
     "start_time": "2024-11-26T22:51:33.891622Z"
    }
   },
   "source": [
    "# Write your code in this cell.\n",
    "\n",
    "for smile in smiles:\n",
    "    mol = Chem.MolFromSmiles(smile)\n",
    "    fingerprint = MACCSkeys.GenMACCSKeys(mol)\n",
    "\n",
    "    for index, bit in enumerate(fingerprint):\n",
    "        if bit == 1:\n",
    "            print(smile, index, bit)\n",
    "\n"
   ],
   "outputs": [
    {
     "name": "stdout",
     "output_type": "stream",
     "text": [
      "C1=CC=CC=C1 162 1\n",
      "C1=CC=CC=C1 163 1\n",
      "C1=CC=CC=C1 165 1\n",
      "c1ccccc1 162 1\n",
      "c1ccccc1 163 1\n",
      "c1ccccc1 165 1\n",
      "C1CCCCC1 118 1\n",
      "C1CCCCC1 128 1\n",
      "C1CCCCC1 129 1\n",
      "C1CCCCC1 147 1\n",
      "C1CCCCC1 163 1\n",
      "C1CCCCC1 165 1\n"
     ]
    }
   ],
   "execution_count": 28
  },
  {
   "cell_type": "markdown",
   "metadata": {},
   "source": [
    "<br>**Write the fragment definition of the bits ON** (one is already provided for you as an example)."
   ]
  },
  {
   "cell_type": "raw",
   "metadata": {},
   "source": [
    "- 118: ACH2CH2A > 1\n",
    "\n",
    "\n",
    "\n",
    "\n",
    "\n"
   ]
  },
  {
   "cell_type": "markdown",
   "metadata": {},
   "source": [
    "### 1-(2) Circular Fingerprints"
   ]
  },
  {
   "cell_type": "markdown",
   "metadata": {},
   "source": [
    "Circular fingerprints are hashed fingerprints.  They are generated by exhaustively enumerating \"circular\" fragments (containing all atoms within a given radius from each heavy atom of the molecule) and then hashing these fragments into a fixed-length bitstring.  (Here, the \"radius\" from an atom is measured by the number of bonds that separates two atoms).\n",
    "\n",
    "Examples of circular fingerprints are the extended-connectivity fingerprint (ECFPs) and their variant called FCFPs (Functional-Class Fingerprints), originally described in a paper by Rogers and Hahn (https://doi.org/10.1021/ci100050t).  The RDKit implementation of these fingerprints are called \"Morgan Fingerprints\" (https://www.rdkit.org/docs/GettingStartedInPython.html#morgan-fingerprints-circular-fingerprints)."
   ]
  },
  {
   "cell_type": "code",
   "metadata": {
    "ExecuteTime": {
     "end_time": "2024-11-26T22:51:33.961396Z",
     "start_time": "2024-11-26T22:51:33.958919Z"
    }
   },
   "source": [
    "from rdkit.Chem import AllChem\n",
    "from rdkit.Chem import rdFingerprintGenerator\n",
    "\n",
    "fingerprint_generator = rdFingerprintGenerator.GetMorganGenerator(radius=2, fpSize=1024)\n",
    "fingerprint = fingerprint_generator.GetFingerprint(mol)\n",
    "\n",
    "fingerprint.ToBitString()  "
   ],
   "outputs": [
    {
     "data": {
      "text/plain": [
       "'0010100000000000000000000000000000000000000000000000000000000000000000000000000000000000000000000000000000000000000000000000000000000000000000000000000000000000000000000000000000000000000000000000000000000000000000000000000000000000000000000000000000000000000000000000000000000000000000000000000000000000000000000000000000000000000000000000000000000000000000000000000000000000000000000000000000000000000000000000000000000000000000000000000000000000000000000000000000000000000000000000000000000000000000000000000000000000000000000000000000000000000000000000000000000000000000000000000000000000000000000000000000000000000000000000000000000000000000000000000000000000000000000000000000000000000000000000000000000000000000000000000000000000000000000000000000000000000000000000000000000000000000000000000000000000000000000000000000000000000000000000000000000000000000000000000000000000000000000000000000000000000000000000000000000010000000000000000000000000000000000000000000000000000000000000000000000000000000000000000000000000'"
      ]
     },
     "execution_count": 29,
     "metadata": {},
     "output_type": "execute_result"
    }
   ],
   "execution_count": 29
  },
  {
   "cell_type": "markdown",
   "metadata": {},
   "source": [
    "We can also display an image of the fragment that caused the bit to be equal to 1.\n",
    "\n",
    "The default highlight colors for the Morgan bits indicate:\n",
    "\n",
    "blue: the central atom in the environment\n",
    "yellow: aromatic atoms\n",
    "gray: aliphatic\n",
    "ring atoms"
   ]
  },
  {
   "cell_type": "code",
   "metadata": {
    "ExecuteTime": {
     "end_time": "2024-11-26T22:51:33.980129Z",
     "start_time": "2024-11-26T22:51:33.975187Z"
    }
   },
   "source": [
    "# First let's draw the molecule\n",
    "from rdkit.Chem import Draw\n",
    "from rdkit.Chem.Draw import IPythonConsole\n",
    "IPythonConsole.ipython_useSVG = True\n",
    "IPythonConsole.drawOptions.addAtomIndices = False\n",
    "IPythonConsole.drawOptions.addStereoAnnotation = False\n",
    "mol = Chem.MolFromSmiles('c1ccccc1CC1CC1')\n",
    "mol\n"
   ],
   "outputs": [
    {
     "data": {
      "text/plain": [
       "<rdkit.Chem.rdchem.Mol at 0x163aeaab0>"
      ],
      "text/html": [
       "<?xml version='1.0' encoding='iso-8859-1'?>\n",
       "<svg version='1.1' baseProfile='full'\n",
       "              xmlns='http://www.w3.org/2000/svg'\n",
       "                      xmlns:rdkit='http://www.rdkit.org/xml'\n",
       "                      xmlns:xlink='http://www.w3.org/1999/xlink'\n",
       "                  xml:space='preserve'\n",
       "width='450px' height='150px' viewBox='0 0 450 150'>\n",
       "<!-- END OF HEADER -->\n",
       "<rect style='opacity:1.0;fill:#FFFFFF;stroke:none' width='450.0' height='150.0' x='0.0' y='0.0'> </rect>\n",
       "<path class='bond-0 atom-0 atom-1' d='M 187.9,114.6 L 126.0,142.5' style='fill:none;fill-rule:evenodd;stroke:#000000;stroke-width:2.0px;stroke-linecap:butt;stroke-linejoin:miter;stroke-opacity:1' />\n",
       "<path class='bond-0 atom-0 atom-1' d='M 178.3,107.7 L 127.2,130.8' style='fill:none;fill-rule:evenodd;stroke:#000000;stroke-width:2.0px;stroke-linecap:butt;stroke-linejoin:miter;stroke-opacity:1' />\n",
       "<path class='bond-1 atom-1 atom-2' d='M 126.0,142.5 L 71.0,102.9' style='fill:none;fill-rule:evenodd;stroke:#000000;stroke-width:2.0px;stroke-linecap:butt;stroke-linejoin:miter;stroke-opacity:1' />\n",
       "<path class='bond-2 atom-2 atom-3' d='M 71.0,102.9 L 77.7,35.4' style='fill:none;fill-rule:evenodd;stroke:#000000;stroke-width:2.0px;stroke-linecap:butt;stroke-linejoin:miter;stroke-opacity:1' />\n",
       "<path class='bond-2 atom-2 atom-3' d='M 81.7,98.1 L 87.2,42.3' style='fill:none;fill-rule:evenodd;stroke:#000000;stroke-width:2.0px;stroke-linecap:butt;stroke-linejoin:miter;stroke-opacity:1' />\n",
       "<path class='bond-3 atom-3 atom-4' d='M 77.7,35.4 L 139.5,7.5' style='fill:none;fill-rule:evenodd;stroke:#000000;stroke-width:2.0px;stroke-linecap:butt;stroke-linejoin:miter;stroke-opacity:1' />\n",
       "<path class='bond-4 atom-4 atom-5' d='M 139.5,7.5 L 194.6,47.1' style='fill:none;fill-rule:evenodd;stroke:#000000;stroke-width:2.0px;stroke-linecap:butt;stroke-linejoin:miter;stroke-opacity:1' />\n",
       "<path class='bond-4 atom-4 atom-5' d='M 138.4,19.2 L 183.9,51.9' style='fill:none;fill-rule:evenodd;stroke:#000000;stroke-width:2.0px;stroke-linecap:butt;stroke-linejoin:miter;stroke-opacity:1' />\n",
       "<path class='bond-5 atom-5 atom-6' d='M 194.6,47.1 L 256.5,19.2' style='fill:none;fill-rule:evenodd;stroke:#000000;stroke-width:2.0px;stroke-linecap:butt;stroke-linejoin:miter;stroke-opacity:1' />\n",
       "<path class='bond-6 atom-6 atom-7' d='M 256.5,19.2 L 311.5,58.8' style='fill:none;fill-rule:evenodd;stroke:#000000;stroke-width:2.0px;stroke-linecap:butt;stroke-linejoin:miter;stroke-opacity:1' />\n",
       "<path class='bond-7 atom-7 atom-8' d='M 311.5,58.8 L 379.0,65.5' style='fill:none;fill-rule:evenodd;stroke:#000000;stroke-width:2.0px;stroke-linecap:butt;stroke-linejoin:miter;stroke-opacity:1' />\n",
       "<path class='bond-8 atom-8 atom-9' d='M 379.0,65.5 L 339.4,120.6' style='fill:none;fill-rule:evenodd;stroke:#000000;stroke-width:2.0px;stroke-linecap:butt;stroke-linejoin:miter;stroke-opacity:1' />\n",
       "<path class='bond-9 atom-5 atom-0' d='M 194.6,47.1 L 187.9,114.6' style='fill:none;fill-rule:evenodd;stroke:#000000;stroke-width:2.0px;stroke-linecap:butt;stroke-linejoin:miter;stroke-opacity:1' />\n",
       "<path class='bond-10 atom-9 atom-7' d='M 339.4,120.6 L 311.5,58.8' style='fill:none;fill-rule:evenodd;stroke:#000000;stroke-width:2.0px;stroke-linecap:butt;stroke-linejoin:miter;stroke-opacity:1' />\n",
       "<path d='M 184.8,116.0 L 187.9,114.6 L 188.2,111.2' style='fill:none;stroke:#000000;stroke-width:2.0px;stroke-linecap:butt;stroke-linejoin:miter;stroke-opacity:1;' />\n",
       "<path d='M 129.1,141.1 L 126.0,142.5 L 123.3,140.5' style='fill:none;stroke:#000000;stroke-width:2.0px;stroke-linecap:butt;stroke-linejoin:miter;stroke-opacity:1;' />\n",
       "<path d='M 73.7,104.9 L 71.0,102.9 L 71.3,99.5' style='fill:none;stroke:#000000;stroke-width:2.0px;stroke-linecap:butt;stroke-linejoin:miter;stroke-opacity:1;' />\n",
       "<path d='M 77.4,38.8 L 77.7,35.4 L 80.8,34.0' style='fill:none;stroke:#000000;stroke-width:2.0px;stroke-linecap:butt;stroke-linejoin:miter;stroke-opacity:1;' />\n",
       "<path d='M 136.4,8.9 L 139.5,7.5 L 142.3,9.5' style='fill:none;stroke:#000000;stroke-width:2.0px;stroke-linecap:butt;stroke-linejoin:miter;stroke-opacity:1;' />\n",
       "<path d='M 253.4,20.6 L 256.5,19.2 L 259.2,21.2' style='fill:none;stroke:#000000;stroke-width:2.0px;stroke-linecap:butt;stroke-linejoin:miter;stroke-opacity:1;' />\n",
       "<path d='M 375.7,65.2 L 379.0,65.5 L 377.1,68.3' style='fill:none;stroke:#000000;stroke-width:2.0px;stroke-linecap:butt;stroke-linejoin:miter;stroke-opacity:1;' />\n",
       "<path d='M 341.4,117.8 L 339.4,120.6 L 338.0,117.5' style='fill:none;stroke:#000000;stroke-width:2.0px;stroke-linecap:butt;stroke-linejoin:miter;stroke-opacity:1;' />\n",
       "</svg>\n"
      ],
      "image/svg+xml": "<?xml version='1.0' encoding='iso-8859-1'?>\n<svg version='1.1' baseProfile='full'\n              xmlns='http://www.w3.org/2000/svg'\n                      xmlns:rdkit='http://www.rdkit.org/xml'\n                      xmlns:xlink='http://www.w3.org/1999/xlink'\n                  xml:space='preserve'\nwidth='450px' height='150px' viewBox='0 0 450 150'>\n<!-- END OF HEADER -->\n<rect style='opacity:1.0;fill:#FFFFFF;stroke:none' width='450.0' height='150.0' x='0.0' y='0.0'> </rect>\n<path class='bond-0 atom-0 atom-1' d='M 187.9,114.6 L 126.0,142.5' style='fill:none;fill-rule:evenodd;stroke:#000000;stroke-width:2.0px;stroke-linecap:butt;stroke-linejoin:miter;stroke-opacity:1' />\n<path class='bond-0 atom-0 atom-1' d='M 178.3,107.7 L 127.2,130.8' style='fill:none;fill-rule:evenodd;stroke:#000000;stroke-width:2.0px;stroke-linecap:butt;stroke-linejoin:miter;stroke-opacity:1' />\n<path class='bond-1 atom-1 atom-2' d='M 126.0,142.5 L 71.0,102.9' style='fill:none;fill-rule:evenodd;stroke:#000000;stroke-width:2.0px;stroke-linecap:butt;stroke-linejoin:miter;stroke-opacity:1' />\n<path class='bond-2 atom-2 atom-3' d='M 71.0,102.9 L 77.7,35.4' style='fill:none;fill-rule:evenodd;stroke:#000000;stroke-width:2.0px;stroke-linecap:butt;stroke-linejoin:miter;stroke-opacity:1' />\n<path class='bond-2 atom-2 atom-3' d='M 81.7,98.1 L 87.2,42.3' style='fill:none;fill-rule:evenodd;stroke:#000000;stroke-width:2.0px;stroke-linecap:butt;stroke-linejoin:miter;stroke-opacity:1' />\n<path class='bond-3 atom-3 atom-4' d='M 77.7,35.4 L 139.5,7.5' style='fill:none;fill-rule:evenodd;stroke:#000000;stroke-width:2.0px;stroke-linecap:butt;stroke-linejoin:miter;stroke-opacity:1' />\n<path class='bond-4 atom-4 atom-5' d='M 139.5,7.5 L 194.6,47.1' style='fill:none;fill-rule:evenodd;stroke:#000000;stroke-width:2.0px;stroke-linecap:butt;stroke-linejoin:miter;stroke-opacity:1' />\n<path class='bond-4 atom-4 atom-5' d='M 138.4,19.2 L 183.9,51.9' style='fill:none;fill-rule:evenodd;stroke:#000000;stroke-width:2.0px;stroke-linecap:butt;stroke-linejoin:miter;stroke-opacity:1' />\n<path class='bond-5 atom-5 atom-6' d='M 194.6,47.1 L 256.5,19.2' style='fill:none;fill-rule:evenodd;stroke:#000000;stroke-width:2.0px;stroke-linecap:butt;stroke-linejoin:miter;stroke-opacity:1' />\n<path class='bond-6 atom-6 atom-7' d='M 256.5,19.2 L 311.5,58.8' style='fill:none;fill-rule:evenodd;stroke:#000000;stroke-width:2.0px;stroke-linecap:butt;stroke-linejoin:miter;stroke-opacity:1' />\n<path class='bond-7 atom-7 atom-8' d='M 311.5,58.8 L 379.0,65.5' style='fill:none;fill-rule:evenodd;stroke:#000000;stroke-width:2.0px;stroke-linecap:butt;stroke-linejoin:miter;stroke-opacity:1' />\n<path class='bond-8 atom-8 atom-9' d='M 379.0,65.5 L 339.4,120.6' style='fill:none;fill-rule:evenodd;stroke:#000000;stroke-width:2.0px;stroke-linecap:butt;stroke-linejoin:miter;stroke-opacity:1' />\n<path class='bond-9 atom-5 atom-0' d='M 194.6,47.1 L 187.9,114.6' style='fill:none;fill-rule:evenodd;stroke:#000000;stroke-width:2.0px;stroke-linecap:butt;stroke-linejoin:miter;stroke-opacity:1' />\n<path class='bond-10 atom-9 atom-7' d='M 339.4,120.6 L 311.5,58.8' style='fill:none;fill-rule:evenodd;stroke:#000000;stroke-width:2.0px;stroke-linecap:butt;stroke-linejoin:miter;stroke-opacity:1' />\n<path d='M 184.8,116.0 L 187.9,114.6 L 188.2,111.2' style='fill:none;stroke:#000000;stroke-width:2.0px;stroke-linecap:butt;stroke-linejoin:miter;stroke-opacity:1;' />\n<path d='M 129.1,141.1 L 126.0,142.5 L 123.3,140.5' style='fill:none;stroke:#000000;stroke-width:2.0px;stroke-linecap:butt;stroke-linejoin:miter;stroke-opacity:1;' />\n<path d='M 73.7,104.9 L 71.0,102.9 L 71.3,99.5' style='fill:none;stroke:#000000;stroke-width:2.0px;stroke-linecap:butt;stroke-linejoin:miter;stroke-opacity:1;' />\n<path d='M 77.4,38.8 L 77.7,35.4 L 80.8,34.0' style='fill:none;stroke:#000000;stroke-width:2.0px;stroke-linecap:butt;stroke-linejoin:miter;stroke-opacity:1;' />\n<path d='M 136.4,8.9 L 139.5,7.5 L 142.3,9.5' style='fill:none;stroke:#000000;stroke-width:2.0px;stroke-linecap:butt;stroke-linejoin:miter;stroke-opacity:1;' />\n<path d='M 253.4,20.6 L 256.5,19.2 L 259.2,21.2' style='fill:none;stroke:#000000;stroke-width:2.0px;stroke-linecap:butt;stroke-linejoin:miter;stroke-opacity:1;' />\n<path d='M 375.7,65.2 L 379.0,65.5 L 377.1,68.3' style='fill:none;stroke:#000000;stroke-width:2.0px;stroke-linecap:butt;stroke-linejoin:miter;stroke-opacity:1;' />\n<path d='M 341.4,117.8 L 339.4,120.6 L 338.0,117.5' style='fill:none;stroke:#000000;stroke-width:2.0px;stroke-linecap:butt;stroke-linejoin:miter;stroke-opacity:1;' />\n</svg>\n",
      "image/png": "[encoded data removed]"
     },
     "execution_count": 30,
     "metadata": {},
     "output_type": "execute_result"
    }
   ],
   "execution_count": 30
  },
  {
   "cell_type": "code",
   "metadata": {
    "ExecuteTime": {
     "end_time": "2024-11-26T22:51:33.989051Z",
     "start_time": "2024-11-26T22:51:33.985709Z"
    }
   },
   "source": [
    "# Now draw the fragment responsible for bit 872 being equal to 1\n",
    "\n",
    "mol = Chem.MolFromSmiles('c1ccccc1CC1CC1')\n",
    "fingerprint_generator = AllChem.GetMorganGenerator(radius=2)\n",
    "additional_output = AllChem.AdditionalOutput()\n",
    "additional_output.CollectBitInfoMap()\n",
    "fingerprint = fingerprint_generator.GetFingerprint(mol, additionalOutput=additional_output)\n",
    "bit_info = additional_output.GetBitInfoMap()\n",
    "\n",
    "mfp2_svg = Draw.DrawMorganBit(mol, 872, bit_info, useSVG=True)\n",
    "mfp2_svg\n"
   ],
   "outputs": [
    {
     "data": {
      "text/plain": [
       "<IPython.core.display.SVG object>"
      ],
      "image/svg+xml": "<svg xmlns=\"http://www.w3.org/2000/svg\" xmlns:rdkit=\"http://www.rdkit.org/xml\" xmlns:xlink=\"http://www.w3.org/1999/xlink\" version=\"1.1\" baseProfile=\"full\" xml:space=\"preserve\" width=\"150px\" height=\"150px\" viewBox=\"0 0 150 150\">\n<!-- END OF HEADER -->\n<rect style=\"opacity:1.0;fill:#FFFFFF;stroke:none\" width=\"150.0\" height=\"150.0\" x=\"0.0\" y=\"0.0\"> </rect>\n<ellipse cx=\"55.4\" cy=\"95.4\" rx=\"5.8\" ry=\"5.8\" class=\"atom-0\" style=\"fill:#E5E533;fill-rule:evenodd;stroke:#E5E533;stroke-width:1.0px;stroke-linecap:butt;stroke-linejoin:miter;stroke-opacity:1\"/>\n<ellipse cx=\"34.8\" cy=\"49.8\" rx=\"5.8\" ry=\"5.8\" class=\"atom-3\" style=\"fill:#E5E533;fill-rule:evenodd;stroke:#E5E533;stroke-width:1.0px;stroke-linecap:butt;stroke-linejoin:miter;stroke-opacity:1\"/>\n<ellipse cx=\"58.3\" cy=\"66.7\" rx=\"5.8\" ry=\"5.8\" class=\"atom-4\" style=\"fill:#E5E533;fill-rule:evenodd;stroke:#E5E533;stroke-width:1.0px;stroke-linecap:butt;stroke-linejoin:miter;stroke-opacity:1\"/>\n<ellipse cx=\"84.6\" cy=\"54.8\" rx=\"5.8\" ry=\"5.8\" class=\"atom-5\" style=\"fill:#9999E5;fill-rule:evenodd;stroke:#9999E5;stroke-width:1.0px;stroke-linecap:butt;stroke-linejoin:miter;stroke-opacity:1\"/>\n<ellipse cx=\"108.0\" cy=\"71.6\" rx=\"5.8\" ry=\"5.8\" class=\"atom-6\" style=\"fill:#CCCCCC;fill-rule:evenodd;stroke:#CCCCCC;stroke-width:1.0px;stroke-linecap:butt;stroke-linejoin:miter;stroke-opacity:1\"/>\n<ellipse cx=\"136.7\" cy=\"74.5\" rx=\"5.8\" ry=\"5.8\" class=\"atom-7\" style=\"fill:#CCCCCC;fill-rule:evenodd;stroke:#CCCCCC;stroke-width:1.0px;stroke-linecap:butt;stroke-linejoin:miter;stroke-opacity:1\"/>\n<ellipse cx=\"119.9\" cy=\"97.9\" rx=\"5.8\" ry=\"5.8\" class=\"atom-8\" style=\"fill:#CCCCCC;fill-rule:evenodd;stroke:#CCCCCC;stroke-width:1.0px;stroke-linecap:butt;stroke-linejoin:miter;stroke-opacity:1\"/>\n<path class=\"bond-0 atom-0 atom-1\" d=\"M 55.4,95.4 L 32.0,105.9\" style=\"fill:none;fill-rule:evenodd;stroke:#E5E5E5;stroke-width:1.5px;stroke-linecap:butt;stroke-linejoin:miter;stroke-opacity:1\"/>\n<path class=\"bond-0 atom-0 atom-1\" d=\"M 51.4,92.5 L 30.2,102.0\" style=\"fill:none;fill-rule:evenodd;stroke:#E5E5E5;stroke-width:1.5px;stroke-linecap:butt;stroke-linejoin:miter;stroke-opacity:1;stroke-dasharray:6,4\"/>\n<path class=\"bond-1 atom-2 atom-3\" d=\"M 11.4,60.4 L 34.8,49.8\" style=\"fill:none;fill-rule:evenodd;stroke:#E5E5E5;stroke-width:1.5px;stroke-linecap:butt;stroke-linejoin:miter;stroke-opacity:1\"/>\n<path class=\"bond-1 atom-2 atom-3\" d=\"M 13.2,64.3 L 34.3,54.8\" style=\"fill:none;fill-rule:evenodd;stroke:#E5E5E5;stroke-width:1.5px;stroke-linecap:butt;stroke-linejoin:miter;stroke-opacity:1;stroke-dasharray:6,4\"/>\n<path class=\"bond-2 atom-3 atom-4\" d=\"M 34.8,49.8 L 58.3,66.7\" style=\"fill:none;fill-rule:evenodd;stroke:#000000;stroke-width:2.0px;stroke-linecap:butt;stroke-linejoin:miter;stroke-opacity:1\"/>\n<path class=\"bond-2 atom-3 atom-4\" d=\"M 34.3,54.8 L 53.7,68.7\" style=\"fill:none;fill-rule:evenodd;stroke:#000000;stroke-width:2.0px;stroke-linecap:butt;stroke-linejoin:miter;stroke-opacity:1;stroke-dasharray:6,4\"/>\n<path class=\"bond-3 atom-4 atom-5\" d=\"M 58.3,66.7 L 84.6,54.8\" style=\"fill:none;fill-rule:evenodd;stroke:#000000;stroke-width:2.0px;stroke-linecap:butt;stroke-linejoin:miter;stroke-opacity:1\"/>\n<path class=\"bond-4 atom-5 atom-6\" d=\"M 84.6,54.8 L 108.0,71.6\" style=\"fill:none;fill-rule:evenodd;stroke:#000000;stroke-width:2.0px;stroke-linecap:butt;stroke-linejoin:miter;stroke-opacity:1\"/>\n<path class=\"bond-5 atom-6 atom-7\" d=\"M 108.0,71.6 L 136.7,74.5\" style=\"fill:none;fill-rule:evenodd;stroke:#000000;stroke-width:2.0px;stroke-linecap:butt;stroke-linejoin:miter;stroke-opacity:1\"/>\n<path class=\"bond-6 atom-7 atom-8\" d=\"M 136.7,74.5 L 119.9,97.9\" style=\"fill:none;fill-rule:evenodd;stroke:#E5E5E5;stroke-width:1.5px;stroke-linecap:butt;stroke-linejoin:miter;stroke-opacity:1\"/>\n<path class=\"bond-7 atom-4 atom-0\" d=\"M 58.3,66.7 L 55.4,95.4\" style=\"fill:none;fill-rule:evenodd;stroke:#000000;stroke-width:2.0px;stroke-linecap:butt;stroke-linejoin:miter;stroke-opacity:1\"/>\n<path class=\"bond-7 atom-4 atom-0\" d=\"M 53.7,68.7 L 51.4,92.5\" style=\"fill:none;fill-rule:evenodd;stroke:#000000;stroke-width:2.0px;stroke-linecap:butt;stroke-linejoin:miter;stroke-opacity:1;stroke-dasharray:6,4\"/>\n<path class=\"bond-8 atom-8 atom-6\" d=\"M 119.9,97.9 L 108.0,71.6\" style=\"fill:none;fill-rule:evenodd;stroke:#000000;stroke-width:2.0px;stroke-linecap:butt;stroke-linejoin:miter;stroke-opacity:1\"/>\n<path d=\"M 54.8,95.6 L 55.4,95.4 L 55.5,94.7\" style=\"fill:none;stroke:#E5E5E5;stroke-width:1.5px;stroke-linecap:butt;stroke-linejoin:miter;stroke-opacity:1;\"/>\n<path d=\"M 34.3,50.1 L 34.8,49.8 L 35.4,50.2\" style=\"fill:none;stroke:#E5E5E5;stroke-width:1.5px;stroke-linecap:butt;stroke-linejoin:miter;stroke-opacity:1;\"/>\n<path d=\"M 83.3,55.4 L 84.6,54.8 L 85.8,55.6\" style=\"fill:none;stroke:#000000;stroke-width:2.0px;stroke-linecap:butt;stroke-linejoin:miter;stroke-opacity:1;\"/>\n<path d=\"M 136.0,74.4 L 136.7,74.5 L 136.3,75.1\" style=\"fill:none;stroke:#000000;stroke-width:2.0px;stroke-linecap:butt;stroke-linejoin:miter;stroke-opacity:1;\"/>\n<path d=\"M 120.3,97.4 L 119.9,97.9 L 119.6,97.3\" style=\"fill:none;stroke:#E5E5E5;stroke-width:1.5px;stroke-linecap:butt;stroke-linejoin:miter;stroke-opacity:1;\"/>\n<path class=\"atom-1\" d=\"M 26.7 104.4 L 27.9 103.1 L 26.3 102.8 L 26.5 102.0 L 28.0 102.7 L 27.8 101.1 L 28.6 101.1 L 28.4 102.7 L 29.9 102.0 L 30.1 102.8 L 28.5 103.1 L 29.7 104.4 L 29.0 104.9 L 28.2 103.3 L 27.4 104.9 L 26.7 104.4 \" fill=\"#191919\"/>\n<path class=\"atom-2\" d=\"M 7.9 62.8 L 9.1 61.5 L 7.5 61.2 L 7.7 60.4 L 9.2 61.1 L 9.0 59.5 L 9.9 59.5 L 9.6 61.1 L 11.1 60.4 L 11.4 61.2 L 9.8 61.5 L 10.9 62.7 L 10.2 63.3 L 9.4 61.7 L 8.6 63.3 L 7.9 62.8 \" fill=\"#191919\"/>\n</svg>"
     },
     "execution_count": 31,
     "metadata": {},
     "output_type": "execute_result"
    }
   ],
   "execution_count": 31
  },
  {
   "cell_type": "markdown",
   "metadata": {},
   "source": [
    "When comparing the rdkit's Morgan fingerprints with the ECFP/FCFP fingerprints, it is important to remember that the name of ECFP/FCFP fingerprints are suffixed with the **diameter** of the atom environments considered, while the Morgan Fingerprints take a **radius** parameter (e.g., the second argument \"2\" of GetMorganFingerprintAsBitVect() in the above code cell).  The Morgan fingerprint generated above (with a radius of 2) is comparable to the ECFP4 fingerprint (with a diameter of 4)."
   ]
  },
  {
   "cell_type": "markdown",
   "metadata": {},
   "source": [
    "**Exercise 1b:** For the molecules below, generate the 512-bit-long Morgan Fingeprint comparable to the **FCFP6** fingerprint.\n",
    "\n",
    "- Search for the compounds by name and get their SMILES strings.\n",
    "- Generate the molecular fingerprints from the SMILES strings.\n",
    "- Print the generated fingerprints.\n",
    "- To generate FCFP (not ECFP), read the following document: https://www.rdkit.org/docs/GettingStartedInPython.html#morgan-fingerprints-circular-fingerprints"
   ]
  },
  {
   "cell_type": "code",
   "metadata": {
    "ExecuteTime": {
     "end_time": "2024-11-26T22:51:33.997284Z",
     "start_time": "2024-11-26T22:51:33.995951Z"
    }
   },
   "source": [
    "synonyms = [ 'diphenhydramine', 'cetirizine', 'fexofenadine', 'loratadine' ]\n",
    "# ['CN(C)CCOC(C1=CC=CC=C1)C2=CC=CC=C2']\n",
    "# ['C1CN(CCN1CCOCC(=O)O)C(C2=CC=CC=C2)C3=CC=C(C=C3)Cl']\n",
    "# ['CC(C)(C1=CC=C(C=C1)C(CCCN2CCC(CC2)C(C3=CC=CC=C3)(C4=CC=CC=C4)O)O)C(=O)O']\n",
    "# ['CCOC(=O)N1CCC(=C2C3=C(CCC4=C2N=CC=C4)C=C(C=C3)Cl)CC1']"
   ],
   "outputs": [],
   "execution_count": 32
  },
  {
   "cell_type": "code",
   "metadata": {
    "ExecuteTime": {
     "end_time": "2024-11-26T22:51:35.281021Z",
     "start_time": "2024-11-26T22:51:34.000720Z"
    }
   },
   "source": [
    "# Write your code in this cell\n",
    "import requests\n",
    "prolog = \"https://pubchem.ncbi.nlm.nih.gov/rest/pug\"\n",
    "invgen = AllChem.GetMorganFeatureAtomInvGen()\n",
    "fingerprint_generator = rdFingerprintGenerator.GetMorganGenerator(radius=3, atomInvariantsGenerator=invgen)\n",
    "\n",
    "for name in synonyms:\n",
    "    url = prolog + \"/compound/name/\" + name + \"/property/isomericsmiles/txt\"\n",
    "    res = requests.get(url)\n",
    "    smiles = res.text.split()\n",
    "    print(smiles)\n",
    "    \n",
    "    mol = Chem.MolFromSmiles(smiles[0])\n",
    "    fingerprint = fingerprint_generator.GetFingerprint(mol)\n",
    "    for i in range(len(fingerprint)):\n",
    "        print(fingerprint[i], end='')\n",
    "    print('')\n",
    "    "
   ],
   "outputs": [
    {
     "name": "stdout",
     "output_type": "stream",
     "text": [
      "['CN(C)CCOC(C1=CC=CC=C1)C2=CC=CC=C2']\n",
      "10101000000000000010000000000000000000000000000000010000000000000000000000000000110000000000000000000000000000001000000000000000000000000000000000000000000000000000000000000000000000000000000000000000000000000000000000000000000000000000000000000000000000000000000000000000000000000000000000000000000000000000000000000000000000000000000000000000000000100000000000000000000000000000000000000000000000000000000000000000100000000000100000000000000000000000000000000000000000000000000000000000000000000000000000000000000000000000000000000000000000000010000000000000000000000000000000000000000000000000001000000000000000000000000000000000000000000000000000000000000000000000000000000000000100000000000000000000000000000000000000000000000000000000000000000000000000000000000100000000000000000000000000000000000000100000000000000010000000000000010000000000000000000000000000000000000000000000000000000000000000000000000000000000000000000000000000000000000000000000000000000000000000000000000000000000000000000000000000000000000000000000000000000000000000000000000000000000000100000000000001000000000000000000000000000000000000000000000000000000000000000000000000000000000000000000000000000000000000000000000000000000000000000000000000000000000100000000000000000000000000000000000000000000000000000000000000000000000000000000000000000000010000000000000000000000000000000000000000000000000000000000000000000000000000000000000000000000000000000000000000000000000000000000000000000000000000000000000000000000000000000000000000000000000000000000000000000000000000000000100000000000000000000000000001000000000000000000000000000000000000000000000000000000000000000000000000000000000000000000000000000000000000000010000000000000000000000000000000000000000000000000000000000000000000000000000000000000000000000000000000000000000000000000000000000000000000000000000000100000000000000000000000000000100000000000000000000000000000000000000000000000000000000000000000000000000000000000000000000000000000000000000000000000000000000000000001000000000000000000000000000000\n",
      "['C1CN(CCN1CCOCC(=O)O)C(C2=CC=CC=C2)C3=CC=C(C=C3)Cl']\n",
      "11101000100000000010000000000000100000000000000000110000000000000100000000000001000000000000000000000000010000000000000000000000000001000000000000000000000000000001000000000000000000000000000000000000000000000000000000000001000000000000000000000000000000000000000000000000000000000000000000000000000000000000000000000000000000000000000000000000000001000000000000000000000000000000000000000000000000000000000000000000000000000000100000000000010000000000000000000000000000000000100000000000000000000000000000000000000000000000000000000000000000000010000000000000000000000000000000000000000000000000001000000000010000000000000000000000000000000000000000000000000000000000000100000000000100000000000000000000000000000000000100000000000000000000000000000000000000000000000100000000000000000000000000000000000000100000000000000010000000000000010000000000000000000000000000000000000000000000000000000000000000000000000000000000100000000000000000000000000000000000000000000000000000000000000000000000000000000000000000000000000000000000000000000000000000001000000000000000000000000000000000000000000000000000000000000000000000000000000000000000000000000000000000000000000100000000000000000000000000000000000000000000000000000000000000000000000000000000000000000000000000000000000000000000000000000000000000000000000000000000000100000000000000000000000000000000000000000000000100000100000000010000000000000000000000000000000000000000000000000000000000000000000000000000000000000000100000000000000000000000000000000000010000000000000000000000000000000000000000000000100001000000000000000000000000000000000000000000000000000000000000000000000000000000000000000000001000000000000000000000000000000000000100000000000000000000000000000001000000000000000000000000000000000000000000000000000000000000000000000000000000000000000000000000000000000000100000000000000001100000000000000000000000000000000000000000000000000000000000000001000000000000000000000000000000000010000000000000000000000000000000000000000000000000000000000000000001000000000000000000000000000000\n",
      "['CC(C)(C1=CC=C(C=C1)C(CCCN2CCC(CC2)C(C3=CC=CC=C3)(C4=CC=CC=C4)O)O)C(=O)O']\n",
      "11111000000000000010000000000000100000000000000000110000000000000000000000000000000000001000000000000000000000000000000000000000000000000000000000000000000000000000000000000000000100000000000000000000000000000000000000000000000000000000000100000000000000000000000000000000000010000000000000000000000000000000000000000000000000000000000000000000000001000000000000000000000000000000000000000000000000000000000000000000000000000000100000000000000000000000000000000000000000000000000000000000000000000000000000000000000000000000000000000000000000000010000000000000000000100000000000000000000000000000001000000000000000000000000100000000010000000000000000000000000000000000000100000000000000000100000000000000000000000000000000000000010000000000000000000000000000000100000000000000000000000000000010000000000000000000000000000010000000000000110000000000000000000000000000000100000000000010000000000000000000000000000000000000000000000000000000000000010000000000000000000000000000000000000000000000010000000000000000000010000000000000000000000000000000001000000000000000000000000000000000000100000000000000000000000000000000000000000000000000000000000000000000000000000000000000000000000000000000000000000000000000000000010000000000000000000000000000000000000000000000100000000000000000000000000000000000000000000000000000000000000100000000000010000000000000000000000000000000000000000000000000010000000000000000000000000000000000000000100000000001000000000000000000000000000000000000000000000000000000000000000000000000000000000000000000000000000000000000000000100000000000000000000000000000000000010000000000000000000000100000000000000000000000000000000000000000000100010010000000000000000000000000000000000000000000000000000000000000000000000000000000000000000000000000000000000000000000000000000000000000000000000000000000000000000000000000000000000000000000000000000000000000000000000000000000000000000000000000000000000000000000000010000000000000000010000000000000000000001000000000000000000000000000000000000000000001000000000100000000000001000000\n",
      "['CCOC(=O)N1CCC(=C2C3=C(CCC4=C2N=CC=C4)C=C(C=C3)Cl)CC1']\n",
      "10101010100000000000000000000000000000000000000000000000000000000000000000000000000000000000000000000000000000000000000000000000000000000000000000000000100000000000000000000000000000000000000000000000000000000000000000000000000000000000000000000000000000000010000000000000000000100000000000000000000000000000000000000000000000000000000000000000000000000000000000000000000000000000000000001000000000100010000000000000000000000000100000010000001000000000000000000000000000000000000000000000100000000000000000000000000000000000000000000000000000000010100000000000000000001000000000000000000000100000000000000000010000000000000000100000000000000000000000000000000000000010000000000000000000000000000000000000000000000000000010100000000000000000000000000000000000000000000000000000000000000000000010000000000010100000000000000000100000000000000000000000000010000000000000000000000100000000000000000000000000000000000000000000100000001000000000000000001000000000000000100000000000000000000000000000000000000000000000000000000000000000000000000000000000000000000000000000000000000000000000000100000000000000000000000000000000000000000000000000000000000000000000010000000001000000010000000000000000000000000000000000000000000000000000000000000000000000000000000000000000000000000000000000000001000000000000000000000000000000000000000100000000000000000000000000000000000000000000000100000000001000000000000000000100000000000000000000000000000000000000000000000000000000000000000000000000000000000000000000000000000000000000000000000000000000000000000000000000000000100000000000000000000000000000000000001000000000001000000100000000000000000000000000000000000000000001000000000010000000000000001000000000000000000000000000000000000001000000010000000000000000000000000000000000000000000000000000000000000000000000000000000000000000000000000000000010000000000001100000000000000000000000000000000000000000000000000000000000000001000000000000000000000000000000000000000000000000000000000000000000000000000000000000000000000000000001001000000100000000000110000000\n"
     ]
    }
   ],
   "execution_count": 33
  },
  {
   "cell_type": "markdown",
   "metadata": {},
   "source": [
    "### 1-(3) Path-Based Fingeprints"
   ]
  },
  {
   "cell_type": "markdown",
   "metadata": {},
   "source": [
    "Path-based fingerprints are also hashed fingerprints.  They are generated by enumerating linear fragments of a given length and hashing them into a fixed-length bitstring.  An example is the RDKit's topological fingeprint.  As described in the RDK documentation (https://www.rdkit.org/docs/GettingStartedInPython.html#topological-fingerprints), while this fingerprint can be generated using FingerprintMols.FingerprintMol(), it is recommended to use rdmolops.RDKFingerprint() to generate the fingerprint using non-default parameter values. "
   ]
  },
  {
   "cell_type": "code",
   "metadata": {
    "ExecuteTime": {
     "end_time": "2024-11-26T22:51:35.293975Z",
     "start_time": "2024-11-26T22:51:35.287336Z"
    }
   },
   "source": [
    "from rdkit.Chem import rdmolops\n",
    "\n",
    "mol = Chem.MolFromSmiles('C1=CC=CC=C1')\n",
    "fingerprint = rdmolops.RDKFingerprint(mol, fpSize=2048, minPath=1, maxPath=7).ToBitString()\n",
    "print(fingerprint)\n",
    "\n",
    "\n",
    "mol = Chem.MolFromSmiles('CC(C)C1=C(C(=C(N1CC[C@H](C[C@H](CC(=O)O)O)O)C2=CC=C(C=C2)F)C3=CC=CC=C3)C(=O)NC4=CC=CC=C4')\n",
    "fingerprint = rdmolops.RDKFingerprint(mol, fpSize=2048, minPath=1, maxPath=7).ToBitString()\n",
    "print(fingerprint)\n",
    "fingerprint = rdmolops.RDKFingerprint(mol, fpSize=2048, minPath=1, maxPath=6).ToBitString()\n",
    "print(fingerprint)"
   ],
   "outputs": [
    {
     "name": "stdout",
     "output_type": "stream",
     "text": [
      "00000000000000000000000000000000000000000000000000000000000000000000000000000000000000000000000000000001000000000000000000000000000000000000000000000000000000000100000000000000000000000000000000100000000000000000000000000000000000000000000000000000000000000000000000000000000000000000000000000010000000000000000000000000000000000010000000000000000000000000000000000000000000000000000000000000000000000000000000000000000000000000000000000000000000000000000000000000000000000000000000000000000000000000000000000000000000000000000000000000000000000000000000000000000000000000000000000000000000000000000000000000000000000000000000000000000000000000000000000000000000000000000000000000000000000000000000000000000000000000000000000000000000000000000000000000000000000000000000000000000000000000000010000000000000000000000000000000000000000000000000100000000000000000000000000000000000000000000000000000000000000000000000000000000000000000000000000000000000000000000000000000000000000000000000000000000000000000000000000000000000000010000000000000000000000000000000000000000000000000000000000000000000000000000000000000000000000000000000000000000000000000000000000000000000000000000000000000000000000000000000000000000000000000000000000000000000000000000000000000000000000000000000000000000000010000000000000000000000000000000000000000000000000000000000000000000000000000000000000000000000000000000000000000000000000000000000000000000000000000000000000000000000000000000000000000000000000000000000000000000000000000000000000000000000000000000000000000000000000000000000000000000000000000000000000000000000000000000000000000000000000000000000000000000000000000000000000000000000000000000000000000000000000000000000000000000000000000000000000000000000000000000000000000000000000000000000000000100000000000000000000000000000000000000000000000000000000000000000000000000000000000000000000000000000000100000000000000000100000000000000000000000000000000000000000000000000000000000000000000000000000000000000000000000000000000000000000000000000000000000000000000\n",
      "11011101111101010111110010111110101111011110100111111111110111001111111101101111011111111111101111111011111101111101010010110111011111011111111111011011011111101110001101111111000110010101111111110110111011010111110101111101111001111111011111101111110011101110111010010110001110001111011001111110001111111001111011111110000100001111101111110111111111000111111111111110111001010111011111111101111011111010000110110101111111110111111011100111011110110111010111111011111111101111110111011011101111111111011111111111111011110100100011111111110110101110110001101111101110111101011110101111111101010010011110010111101110110011000011110111011111111110111111110111101111001000011101001111111110011101101011111001011101001111011011011111011111111111111111011101110000111011111011110111110101001111001110111111111111111101101111110110101111111001111001101101100111111100111101101010111111000101111101101111111110110111111111011111011011111111011111101011101010010011101101101110111110011111000011101011110011111011100100111011011010111111111010010101111111100111101110111010111110001101011111110101110111111101111111111111010110100011101101110011011010011110100111111111101111101110101111010011110001110101101101011101110001111111111011101001110110001101111110111011100011010101111110111111111011110110111111101110001011011110000111111001111100011111011011111101110010001001010011111110110011011011111000011101111101110111111111101111111100111110100010111011000110111101100110111111111100111101111101111101111111100011111101111111011100101110110110010011110111110110111011101110101001110110111101011111011011100101111111110100110100111100110111010011001111010110010111011111111010101100111111110111001000111110111011111101110001110101111111111010001101101111111101110111111101011011111011110111111011101110101011011011101101111101110101111101011011110101111111111111010011110011111111111101011110111111110001011111111111111111000111101111110110111111101111111111111001011011110111111111111011111110101111101110101111011010010101010110010011111011011110111011\n",
      "11001101011101010101110010111000101001000000100101101111110001001100101000101111010001111011100101111011101001101100000000110010010111010001101101001010011101101100001000100111000010000101111111100110101010000100110001010101111001111111011001101001100011101010001010010100001110001001011000011010001011110001011011101100000000000011001111110011000111000111111011111100000001010111011110011101010010011010000110110101011111010011101000100101011110100101010101111011011101101011110010011011000111111101010110011100111011100100100000111110010010101110110001101111101010101000011110101011111001010010010010010111100010100010000000010001011011111100111101110111000010001000011101001101111010011001000000000001000101001101011010000101011011111001001111011100000000001011111000000011110001000110001110110110111100111001100011010110101111110000111001101001100010111100111101101010111111000001110001100100010110000111111101010111000010011111001101101001000010000010000000000000001100011101000011100011110000010001100100011010011010111011110010010100101110000110001110111010110100001001011111110101100111110000101101111011010010100010101101010011001000011000100011010111100001001110001010000011100001110101000101011101100001111111111010101000110110000101111110011011100011010101111010010111110010010110110000101010001010001110000111101000011000011001011011111101010010000001010001100010110000001011010000010101101100110001001001000110110100010110100000101000000100101101100100100101000000101000111100001001110111000011110001010011001100100000000110000001010010010110101001001000100001010110111101000100010001100001111011110100100000010100010111010011001110010110000011010111101010101100101001110111000000101110111001110001110000100100101111001010000001001111001101110101001001001000101011110011111001000010101010010011101101001100100000010001010010010101011101111010010011110001111111011000001010111100110000011101101101111111000101001111000110001010001011111011101000011001000010101100110011011010000111001110101010011000000100010100010011101000011100000011\n"
     ]
    }
   ],
   "execution_count": 34
  },
  {
   "cell_type": "markdown",
   "metadata": {},
   "source": [
    "### 1-(4) PubChem Fingerprint"
   ]
  },
  {
   "cell_type": "markdown",
   "metadata": {},
   "source": [
    "The PubChem Fingerprint is a 881-bit-long binary fingerprint (ftp://ftp.ncbi.nlm.nih.gov/pubchem/specifications/pubchem_fingerprints.pdf).  Similar to the MACCS keys, it uses a pre-defined fragment dictionary.  The PubChem fingerprint for each compound in PubChem can be downloaded from PubChem.  However, because they are base64-encoded, they should be decoded into binary bitstrings or bitvectors."
   ]
  },
  {
   "cell_type": "markdown",
   "metadata": {},
   "source": [
    "Details about how to decode base64-encoded PubChem fingerprints is described on the last page of the PubChem Fingerprint specification (ftp://ftp.ncbi.nlm.nih.gov/pubchem/specifications/pubchem_fingerprints.pdf).  Below is a user-defined function that decodes a PubChem fingerprint into a bit string."
   ]
  },
  {
   "cell_type": "code",
   "metadata": {
    "ExecuteTime": {
     "end_time": "2024-11-26T22:51:35.300871Z",
     "start_time": "2024-11-26T22:51:35.298908Z"
    }
   },
   "source": [
    "from base64 import b64decode\n",
    "\n",
    "def PCFP_BitString(pcfp_base64) :\n",
    "\n",
    "    pcfp_bitstring = \"\".join( [\"{:08b}\".format(x) for x in b64decode( pcfp_base64 )] )[32:913]\n",
    "    return pcfp_bitstring\n"
   ],
   "outputs": [],
   "execution_count": 35
  },
  {
   "cell_type": "code",
   "metadata": {
    "ExecuteTime": {
     "end_time": "2024-11-26T22:51:35.310326Z",
     "start_time": "2024-11-26T22:51:35.309019Z"
    }
   },
   "source": [
    "pcfps = 'AAADcYBgAAAAAAAAAAAAAAAAAAAAAAAAAAAwAAAAAAAAAAABAAAAGAAAAAAACACAEAAwAIAAAACAACBCAAACAAAgAAAIiAAAAIgIICKAERCAIAAggAAIiAcAAAAAAAAAAAAAAAAAAAAAAAAAAAAAAAAAAA=='"
   ],
   "outputs": [],
   "execution_count": 36
  },
  {
   "cell_type": "code",
   "metadata": {
    "ExecuteTime": {
     "end_time": "2024-11-26T22:51:35.314425Z",
     "start_time": "2024-11-26T22:51:35.312799Z"
    }
   },
   "source": [
    "print(len(PCFP_BitString(pcfps)))\n",
    "print(PCFP_BitString(pcfps))"
   ],
   "outputs": [
    {
     "name": "stdout",
     "output_type": "stream",
     "text": [
      "881\n",
      "10000000011000000000000000000000000000000000000000000000000000000000000000000000000000000000000000000000000000000000000000000000000000000000000000000000000000000000000000000000001100000000000000000000000000000000000000000000000000000000000000000000000000010000000000000000000000000001100000000000000000000000000000000000000000000000100000000000100000000001000000000000001100000000000010000000000000000000000000000000100000000000000000100000010000100000000000000000000000100000000000000000001000000000000000000000000010001000100000000000000000000000000010001000000010000010000000100010100000000001000100010000100000000010000000000000001000001000000000000000000010001000100000000111000000000000000000000000000000000000000000000000000000000000000000000000000000000000000000000000000000000000000000000000000000000000000000000000000000000000000000000000000000000000000000000000000000000\n"
     ]
    }
   ],
   "execution_count": 37
  },
  {
   "cell_type": "markdown",
   "metadata": {},
   "source": [
    "The generated bitstring can be converted to a bitvector that can be used for molecular similarity computation in RDKit (to be discussed in the next section)."
   ]
  },
  {
   "cell_type": "code",
   "metadata": {
    "ExecuteTime": {
     "end_time": "2024-11-26T22:51:35.325312Z",
     "start_time": "2024-11-26T22:51:35.323492Z"
    }
   },
   "source": [
    "from rdkit import DataStructs\n",
    "bitvect = DataStructs.CreateFromBitString(PCFP_BitString(pcfps))\n",
    "type(bitvect)"
   ],
   "outputs": [
    {
     "data": {
      "text/plain": [
       "rdkit.DataStructs.cDataStructs.ExplicitBitVect"
      ]
     },
     "execution_count": 38,
     "metadata": {},
     "output_type": "execute_result"
    }
   ],
   "execution_count": 38
  },
  {
   "cell_type": "code",
   "metadata": {
    "ExecuteTime": {
     "end_time": "2024-11-26T22:51:36.568008Z",
     "start_time": "2024-11-26T22:51:35.334058Z"
    }
   },
   "source": [
    "prolog = \"https://pubchem.ncbi.nlm.nih.gov/rest/pug\"\n",
    "\n",
    "for name in synonyms:\n",
    "    url = prolog + \"/compound/name/\" + name + \"/property/Fingerprint2D/txt\"\n",
    "    res = requests.get(url)\n",
    "    fingerprint = res.text.split()\n",
    "    print(fingerprint)\n",
    "  "
   ],
   "outputs": [
    {
     "name": "stdout",
     "output_type": "stream",
     "text": [
      "['AAADceB6IAAAAAAAAAAAAAAAAAAAAAAAAAAwYAAAAAAAAAABQAAAHgAAAAAADBThmAYyAIMABACAAiBCAAACAAAgAAAIiAAICIgKJiKAMRiDMAAkwAEYqAeAwOAOAAAAAAAAAAAAAAAAAAAAAAAAAAAAAA==']\n",
      "['AAADceB7MAAEAAAAAAAAAAAAAAAAAAAAAAA8YIAAAAAAAAABQAAAHgIACAAADCrhmCYwCIMABgCIAiDSCAKCAAAgBQAIiABIBogLYCKBkxWXIAhggACbiAcQgMAOBAAAAAAAAAAIAAAAAAAAAAAAAAAAAA==']\n",
      "['AAADcfB+OAAAAAAAAAAAAAAAAAAAAAAAAAA8YMEAAAAAAAABUAAAHgAACAAAD1ThmAYyCIMAAgCIAiDSCAACAAAgAAAIiAEICIgINjKAlRCEcAAkwAGImAe4yPCPwAAAAAAAAACAAAAAAAAAAAAAAAAAAA==']\n",
      "['AAADceB7MAAEAAAAAAAAAAAAAAAAAAAAAAA8WIAABgAAAAABwAAAHgIAAAAADArhniY+iJMIFACoAzRnXACCgCAxByAI2CA4ZpgIIOLBk5GMIAhghgDIyAcQgMAOhAAAIAAQAAAIAABAACAAAAAAAAAAAA==']\n"
     ]
    }
   ],
   "execution_count": 39
  },
  {
   "cell_type": "markdown",
   "metadata": {},
   "source": [
    "## 2. Computation of similarity scores"
   ]
  },
  {
   "cell_type": "code",
   "metadata": {
    "ExecuteTime": {
     "end_time": "2024-11-26T22:51:36.578428Z",
     "start_time": "2024-11-26T22:51:36.576826Z"
    }
   },
   "source": [],
   "outputs": [],
   "execution_count": null
  },
  {
   "cell_type": "code",
   "metadata": {
    "ExecuteTime": {
     "end_time": "2024-11-26T22:51:36.585762Z",
     "start_time": "2024-11-26T22:51:36.584370Z"
    }
   },
   "source": [
    "\n"
   ],
   "outputs": [],
   "execution_count": 39
  },
  {
   "cell_type": "markdown",
   "metadata": {},
   "source": [
    "Let's get the SMILES strings from PubChem, generate Mol objects from them, and draw their chemical structures."
   ]
  },
  {
   "cell_type": "code",
   "metadata": {
    "ExecuteTime": {
     "end_time": "2024-11-26T22:51:36.605104Z",
     "start_time": "2024-11-26T22:51:36.596163Z"
    }
   },
   "source": [
    "prolog = \"https://pubchem.ncbi.nlm.nih.gov/rest/pug\"\n",
    "\n",
    "str_cid = \",\".join([ str(x) for x in cids])\n",
    "\n",
    "url = prolog + \"/compound/cid/\" + str_cid + \"/property/isomericsmiles/txt\"\n",
    "print(url)\n",
    "res = requests.get(url)\n",
    "smiles = res.text.split()\n",
    "print(smiles)"
   ],
   "outputs": [
    {
     "ename": "NameError",
     "evalue": "name 'cids' is not defined",
     "output_type": "error",
     "traceback": [
      "\u001B[0;31m---------------------------------------------------------------------------\u001B[0m",
      "\u001B[0;31mNameError\u001B[0m                                 Traceback (most recent call last)",
      "Cell \u001B[0;32mIn[40], line 3\u001B[0m\n\u001B[1;32m      1\u001B[0m prolog \u001B[38;5;241m=\u001B[39m \u001B[38;5;124m\"\u001B[39m\u001B[38;5;124mhttps://pubchem.ncbi.nlm.nih.gov/rest/pug\u001B[39m\u001B[38;5;124m\"\u001B[39m\n\u001B[0;32m----> 3\u001B[0m str_cid \u001B[38;5;241m=\u001B[39m \u001B[38;5;124m\"\u001B[39m\u001B[38;5;124m,\u001B[39m\u001B[38;5;124m\"\u001B[39m\u001B[38;5;241m.\u001B[39mjoin([ \u001B[38;5;28mstr\u001B[39m(x) \u001B[38;5;28;01mfor\u001B[39;00m x \u001B[38;5;129;01min\u001B[39;00m cids])\n\u001B[1;32m      5\u001B[0m url \u001B[38;5;241m=\u001B[39m prolog \u001B[38;5;241m+\u001B[39m \u001B[38;5;124m\"\u001B[39m\u001B[38;5;124m/compound/cid/\u001B[39m\u001B[38;5;124m\"\u001B[39m \u001B[38;5;241m+\u001B[39m str_cid \u001B[38;5;241m+\u001B[39m \u001B[38;5;124m\"\u001B[39m\u001B[38;5;124m/property/isomericsmiles/txt\u001B[39m\u001B[38;5;124m\"\u001B[39m\n\u001B[1;32m      6\u001B[0m \u001B[38;5;28mprint\u001B[39m(url)\n",
      "\u001B[0;31mNameError\u001B[0m: name 'cids' is not defined"
     ]
    }
   ],
   "execution_count": 40
  },
  {
   "cell_type": "code",
   "execution_count": 25,
   "metadata": {},
   "outputs": [
    {
     "data": {
      "image/svg+xml": [
       "<svg xmlns=\"http://www.w3.org/2000/svg\" xmlns:rdkit=\"http://www.rdkit.org/xml\" xmlns:xlink=\"http://www.w3.org/1999/xlink\" version=\"1.1\" baseProfile=\"full\" xml:space=\"preserve\" width=\"800px\" height=\"400px\" viewBox=\"0 0 800 400\">\n",
       "<!-- END OF HEADER -->\n",
       "<rect style=\"opacity:1.0;fill:#FFFFFF;stroke:none\" width=\"800.0\" height=\"400.0\" x=\"0.0\" y=\"0.0\"> </rect>\n",
       "<path class=\"bond-0 atom-0 atom-1\" d=\"M 128.4,118.2 L 116.7,126.8\" style=\"fill:none;fill-rule:evenodd;stroke:#000000;stroke-width:2.0px;stroke-linecap:butt;stroke-linejoin:miter;stroke-opacity:1\"/>\n",
       "<path class=\"bond-1 atom-1 atom-2\" d=\"M 116.7,126.8 L 103.3,120.9\" style=\"fill:none;fill-rule:evenodd;stroke:#000000;stroke-width:2.0px;stroke-linecap:butt;stroke-linejoin:miter;stroke-opacity:1\"/>\n",
       "<path class=\"bond-2 atom-2 atom-3\" d=\"M 103.3,120.9 L 97.5,134.2\" style=\"fill:none;fill-rule:evenodd;stroke:#000000;stroke-width:2.0px;stroke-linecap:butt;stroke-linejoin:miter;stroke-opacity:1\"/>\n",
       "<path class=\"bond-3 atom-2 atom-4\" d=\"M 103.3,120.9 L 109.2,107.6\" style=\"fill:none;fill-rule:evenodd;stroke:#000000;stroke-width:2.0px;stroke-linecap:butt;stroke-linejoin:miter;stroke-opacity:1\"/>\n",
       "<path class=\"bond-4 atom-2 atom-5\" d=\"M 103.3,120.9 L 90.0,115.1\" style=\"fill:none;fill-rule:evenodd;stroke:#000000;stroke-width:2.0px;stroke-linecap:butt;stroke-linejoin:miter;stroke-opacity:1\"/>\n",
       "<path class=\"bond-5 atom-5 atom-6\" d=\"M 89.9,113.8 L 85.0,117.4\" style=\"fill:none;fill-rule:evenodd;stroke:#000000;stroke-width:2.0px;stroke-linecap:butt;stroke-linejoin:miter;stroke-opacity:1\"/>\n",
       "<path class=\"bond-5 atom-5 atom-6\" d=\"M 85.0,117.4 L 80.1,121.0\" style=\"fill:none;fill-rule:evenodd;stroke:#FF0000;stroke-width:2.0px;stroke-linecap:butt;stroke-linejoin:miter;stroke-opacity:1\"/>\n",
       "<path class=\"bond-5 atom-5 atom-6\" d=\"M 91.2,115.6 L 86.3,119.2\" style=\"fill:none;fill-rule:evenodd;stroke:#000000;stroke-width:2.0px;stroke-linecap:butt;stroke-linejoin:miter;stroke-opacity:1\"/>\n",
       "<path class=\"bond-5 atom-5 atom-6\" d=\"M 86.3,119.2 L 81.4,122.8\" style=\"fill:none;fill-rule:evenodd;stroke:#FF0000;stroke-width:2.0px;stroke-linecap:butt;stroke-linejoin:miter;stroke-opacity:1\"/>\n",
       "<path class=\"bond-6 atom-5 atom-7\" d=\"M 90.0,115.1 L 89.4,109.2\" style=\"fill:none;fill-rule:evenodd;stroke:#000000;stroke-width:2.0px;stroke-linecap:butt;stroke-linejoin:miter;stroke-opacity:1\"/>\n",
       "<path class=\"bond-6 atom-5 atom-7\" d=\"M 89.4,109.2 L 88.7,103.3\" style=\"fill:none;fill-rule:evenodd;stroke:#FF0000;stroke-width:2.0px;stroke-linecap:butt;stroke-linejoin:miter;stroke-opacity:1\"/>\n",
       "<path class=\"bond-7 atom-8 atom-7\" d=\"M 75.1,94.8 L 80.5,96.6 L 80.1,97.6 Z\" style=\"fill:#000000;fill-rule:evenodd;fill-opacity:1;stroke:#000000;stroke-width:0.5px;stroke-linecap:butt;stroke-linejoin:miter;stroke-opacity:1;\"/>\n",
       "<path class=\"bond-7 atom-8 atom-7\" d=\"M 80.5,96.6 L 85.1,100.3 L 85.9,98.3 Z\" style=\"fill:#FF0000;fill-rule:evenodd;fill-opacity:1;stroke:#FF0000;stroke-width:0.5px;stroke-linecap:butt;stroke-linejoin:miter;stroke-opacity:1;\"/>\n",
       "<path class=\"bond-7 atom-8 atom-7\" d=\"M 80.5,96.6 L 80.1,97.6 L 85.1,100.3 Z\" style=\"fill:#FF0000;fill-rule:evenodd;fill-opacity:1;stroke:#FF0000;stroke-width:0.5px;stroke-linecap:butt;stroke-linejoin:miter;stroke-opacity:1;\"/>\n",
       "<path class=\"bond-8 atom-8 atom-9\" d=\"M 75.1,94.8 L 63.4,103.4\" style=\"fill:none;fill-rule:evenodd;stroke:#000000;stroke-width:2.0px;stroke-linecap:butt;stroke-linejoin:miter;stroke-opacity:1\"/>\n",
       "<path class=\"bond-9 atom-9 atom-10\" d=\"M 63.4,103.4 L 50.1,97.5\" style=\"fill:none;fill-rule:evenodd;stroke:#000000;stroke-width:2.0px;stroke-linecap:butt;stroke-linejoin:miter;stroke-opacity:1\"/>\n",
       "<path class=\"bond-10 atom-10 atom-11\" d=\"M 50.1,97.5 L 48.5,83.1\" style=\"fill:none;fill-rule:evenodd;stroke:#000000;stroke-width:2.0px;stroke-linecap:butt;stroke-linejoin:miter;stroke-opacity:1\"/>\n",
       "<path class=\"bond-11 atom-11 atom-12\" d=\"M 48.5,83.1 L 60.2,74.5\" style=\"fill:none;fill-rule:evenodd;stroke:#000000;stroke-width:2.0px;stroke-linecap:butt;stroke-linejoin:miter;stroke-opacity:1\"/>\n",
       "<path class=\"bond-11 atom-11 atom-12\" d=\"M 50.8,84.1 L 60.5,77.0\" style=\"fill:none;fill-rule:evenodd;stroke:#000000;stroke-width:2.0px;stroke-linecap:butt;stroke-linejoin:miter;stroke-opacity:1\"/>\n",
       "<path class=\"bond-12 atom-12 atom-13\" d=\"M 60.2,74.5 L 73.5,80.3\" style=\"fill:none;fill-rule:evenodd;stroke:#000000;stroke-width:2.0px;stroke-linecap:butt;stroke-linejoin:miter;stroke-opacity:1\"/>\n",
       "<path class=\"bond-13 atom-13 atom-14\" d=\"M 73.5,80.3 L 85.2,71.7\" style=\"fill:none;fill-rule:evenodd;stroke:#000000;stroke-width:2.0px;stroke-linecap:butt;stroke-linejoin:miter;stroke-opacity:1\"/>\n",
       "<path class=\"bond-14 atom-14 atom-15\" d=\"M 85.2,71.7 L 83.6,57.2\" style=\"fill:none;fill-rule:evenodd;stroke:#000000;stroke-width:2.0px;stroke-linecap:butt;stroke-linejoin:miter;stroke-opacity:1\"/>\n",
       "<path class=\"bond-15 atom-15 atom-16\" d=\"M 83.6,57.2 L 70.3,51.4\" style=\"fill:none;fill-rule:evenodd;stroke:#000000;stroke-width:2.0px;stroke-linecap:butt;stroke-linejoin:miter;stroke-opacity:1\"/>\n",
       "<path class=\"bond-16 atom-16 atom-17\" d=\"M 70.3,51.4 L 58.6,60.0\" style=\"fill:none;fill-rule:evenodd;stroke:#000000;stroke-width:2.0px;stroke-linecap:butt;stroke-linejoin:miter;stroke-opacity:1\"/>\n",
       "<path class=\"bond-16 atom-16 atom-17\" d=\"M 70.6,53.9 L 60.9,61.0\" style=\"fill:none;fill-rule:evenodd;stroke:#000000;stroke-width:2.0px;stroke-linecap:butt;stroke-linejoin:miter;stroke-opacity:1\"/>\n",
       "<path class=\"bond-17 atom-15 atom-18\" d=\"M 86.4,54.9 L 86.7,55.3\" style=\"fill:none;fill-rule:evenodd;stroke:#000000;stroke-width:1.0px;stroke-linecap:butt;stroke-linejoin:miter;stroke-opacity:1\"/>\n",
       "<path class=\"bond-17 atom-15 atom-18\" d=\"M 89.2,52.5 L 89.8,53.4\" style=\"fill:none;fill-rule:evenodd;stroke:#000000;stroke-width:1.0px;stroke-linecap:butt;stroke-linejoin:miter;stroke-opacity:1\"/>\n",
       "<path class=\"bond-17 atom-15 atom-18\" d=\"M 91.9,50.1 L 92.9,51.4\" style=\"fill:none;fill-rule:evenodd;stroke:#000000;stroke-width:1.0px;stroke-linecap:butt;stroke-linejoin:miter;stroke-opacity:1\"/>\n",
       "<path class=\"bond-17 atom-15 atom-18\" d=\"M 94.7,47.8 L 96.0,49.5\" style=\"fill:none;fill-rule:evenodd;stroke:#000000;stroke-width:1.0px;stroke-linecap:butt;stroke-linejoin:miter;stroke-opacity:1\"/>\n",
       "<path class=\"bond-18 atom-14 atom-19\" d=\"M 88.4,73.5 L 88.7,72.8\" style=\"fill:none;fill-rule:evenodd;stroke:#000000;stroke-width:1.0px;stroke-linecap:butt;stroke-linejoin:miter;stroke-opacity:1\"/>\n",
       "<path class=\"bond-18 atom-14 atom-19\" d=\"M 91.6,75.3 L 92.2,74.0\" style=\"fill:none;fill-rule:evenodd;stroke:#000000;stroke-width:1.0px;stroke-linecap:butt;stroke-linejoin:miter;stroke-opacity:1\"/>\n",
       "<path class=\"bond-18 atom-14 atom-19\" d=\"M 94.8,77.1 L 95.6,75.1\" style=\"fill:none;fill-rule:evenodd;stroke:#000000;stroke-width:1.0px;stroke-linecap:butt;stroke-linejoin:miter;stroke-opacity:1\"/>\n",
       "<path class=\"bond-19 atom-19 atom-20\" d=\"M 98.5,77.5 L 111.2,68.2\" style=\"fill:none;fill-rule:evenodd;stroke:#000000;stroke-width:2.0px;stroke-linecap:butt;stroke-linejoin:miter;stroke-opacity:1\"/>\n",
       "<path class=\"bond-20 atom-21 atom-20\" d=\"M 123.6,74.8 L 109.2,69.7 L 111.2,68.2 Z\" style=\"fill:#000000;fill-rule:evenodd;fill-opacity:1;stroke:#000000;stroke-width:0.5px;stroke-linecap:butt;stroke-linejoin:miter;stroke-opacity:1;\"/>\n",
       "<path class=\"bond-21 atom-21 atom-22\" d=\"M 123.6,74.8 L 125.2,89.2\" style=\"fill:none;fill-rule:evenodd;stroke:#000000;stroke-width:2.0px;stroke-linecap:butt;stroke-linejoin:miter;stroke-opacity:1\"/>\n",
       "<path class=\"bond-22 atom-22 atom-23\" d=\"M 125.2,89.2 L 138.5,95.1\" style=\"fill:none;fill-rule:evenodd;stroke:#000000;stroke-width:2.0px;stroke-linecap:butt;stroke-linejoin:miter;stroke-opacity:1\"/>\n",
       "<path class=\"bond-23 atom-23 atom-24\" d=\"M 138.5,95.1 L 150.2,86.5\" style=\"fill:none;fill-rule:evenodd;stroke:#000000;stroke-width:2.0px;stroke-linecap:butt;stroke-linejoin:miter;stroke-opacity:1\"/>\n",
       "<path class=\"bond-24 atom-24 atom-25\" d=\"M 150.2,86.5 L 148.6,72.0\" style=\"fill:none;fill-rule:evenodd;stroke:#000000;stroke-width:2.0px;stroke-linecap:butt;stroke-linejoin:miter;stroke-opacity:1\"/>\n",
       "<path class=\"bond-25 atom-25 atom-26\" d=\"M 148.8,73.3 L 153.7,69.7\" style=\"fill:none;fill-rule:evenodd;stroke:#000000;stroke-width:2.0px;stroke-linecap:butt;stroke-linejoin:miter;stroke-opacity:1\"/>\n",
       "<path class=\"bond-25 atom-25 atom-26\" d=\"M 153.7,69.7 L 158.6,66.1\" style=\"fill:none;fill-rule:evenodd;stroke:#FF0000;stroke-width:2.0px;stroke-linecap:butt;stroke-linejoin:miter;stroke-opacity:1\"/>\n",
       "<path class=\"bond-25 atom-25 atom-26\" d=\"M 147.5,71.5 L 152.4,67.9\" style=\"fill:none;fill-rule:evenodd;stroke:#000000;stroke-width:2.0px;stroke-linecap:butt;stroke-linejoin:miter;stroke-opacity:1\"/>\n",
       "<path class=\"bond-25 atom-25 atom-26\" d=\"M 152.4,67.9 L 157.3,64.3\" style=\"fill:none;fill-rule:evenodd;stroke:#FF0000;stroke-width:2.0px;stroke-linecap:butt;stroke-linejoin:miter;stroke-opacity:1\"/>\n",
       "<path class=\"bond-26 atom-25 atom-27\" d=\"M 148.6,72.0 L 143.2,69.6\" style=\"fill:none;fill-rule:evenodd;stroke:#000000;stroke-width:2.0px;stroke-linecap:butt;stroke-linejoin:miter;stroke-opacity:1\"/>\n",
       "<path class=\"bond-26 atom-25 atom-27\" d=\"M 143.2,69.6 L 137.7,67.2\" style=\"fill:none;fill-rule:evenodd;stroke:#FF0000;stroke-width:2.0px;stroke-linecap:butt;stroke-linejoin:miter;stroke-opacity:1\"/>\n",
       "<path class=\"bond-27 atom-23 atom-28\" d=\"M 139.3,98.8 L 138.6,98.9\" style=\"fill:none;fill-rule:evenodd;stroke:#000000;stroke-width:1.0px;stroke-linecap:butt;stroke-linejoin:miter;stroke-opacity:1\"/>\n",
       "<path class=\"bond-27 atom-23 atom-28\" d=\"M 140.1,102.6 L 138.6,102.7\" style=\"fill:none;fill-rule:evenodd;stroke:#FF0000;stroke-width:1.0px;stroke-linecap:butt;stroke-linejoin:miter;stroke-opacity:1\"/>\n",
       "<path class=\"bond-27 atom-23 atom-28\" d=\"M 140.8,106.3 L 138.7,106.6\" style=\"fill:none;fill-rule:evenodd;stroke:#FF0000;stroke-width:1.0px;stroke-linecap:butt;stroke-linejoin:miter;stroke-opacity:1\"/>\n",
       "<path class=\"bond-28 atom-10 atom-29\" d=\"M 50.1,97.5 L 39.0,107.0 L 37.7,105.3 Z\" style=\"fill:#000000;fill-rule:evenodd;fill-opacity:1;stroke:#000000;stroke-width:0.5px;stroke-linecap:butt;stroke-linejoin:miter;stroke-opacity:1;\"/>\n",
       "<path class=\"bond-29 atom-13 atom-8\" d=\"M 73.5,80.3 L 75.1,94.8\" style=\"fill:none;fill-rule:evenodd;stroke:#000000;stroke-width:2.0px;stroke-linecap:butt;stroke-linejoin:miter;stroke-opacity:1\"/>\n",
       "<path class=\"bond-30 atom-17 atom-12\" d=\"M 58.6,60.0 L 60.2,74.5\" style=\"fill:none;fill-rule:evenodd;stroke:#000000;stroke-width:2.0px;stroke-linecap:butt;stroke-linejoin:miter;stroke-opacity:1\"/>\n",
       "<path class=\"bond-31 atom-27 atom-21\" d=\"M 132.9,68.0 L 128.2,71.4\" style=\"fill:none;fill-rule:evenodd;stroke:#FF0000;stroke-width:2.0px;stroke-linecap:butt;stroke-linejoin:miter;stroke-opacity:1\"/>\n",
       "<path class=\"bond-31 atom-27 atom-21\" d=\"M 128.2,71.4 L 123.6,74.8\" style=\"fill:none;fill-rule:evenodd;stroke:#000000;stroke-width:2.0px;stroke-linecap:butt;stroke-linejoin:miter;stroke-opacity:1\"/>\n",
       "<path class=\"bond-32 atom-13 atom-30\" d=\"M 77.2,81.5 L 76.9,82.2\" style=\"fill:none;fill-rule:evenodd;stroke:#000000;stroke-width:1.0px;stroke-linecap:butt;stroke-linejoin:miter;stroke-opacity:1\"/>\n",
       "<path class=\"bond-32 atom-13 atom-30\" d=\"M 80.9,82.8 L 80.3,84.1\" style=\"fill:none;fill-rule:evenodd;stroke:#000000;stroke-width:1.0px;stroke-linecap:butt;stroke-linejoin:miter;stroke-opacity:1\"/>\n",
       "<path class=\"bond-32 atom-13 atom-30\" d=\"M 84.6,84.0 L 83.8,86.0\" style=\"fill:none;fill-rule:evenodd;stroke:#000000;stroke-width:1.0px;stroke-linecap:butt;stroke-linejoin:miter;stroke-opacity:1\"/>\n",
       "<path d=\"M 117.2,126.3 L 116.7,126.8 L 116.0,126.5\" style=\"fill:none;stroke:#000000;stroke-width:2.0px;stroke-linecap:butt;stroke-linejoin:miter;stroke-opacity:1;\"/>\n",
       "<path d=\"M 90.7,115.4 L 90.0,115.1 L 90.0,114.8\" style=\"fill:none;stroke:#000000;stroke-width:2.0px;stroke-linecap:butt;stroke-linejoin:miter;stroke-opacity:1;\"/>\n",
       "<path d=\"M 74.5,95.2 L 75.1,94.8 L 75.0,94.1\" style=\"fill:none;stroke:#000000;stroke-width:2.0px;stroke-linecap:butt;stroke-linejoin:miter;stroke-opacity:1;\"/>\n",
       "<path d=\"M 64.0,103.0 L 63.4,103.4 L 62.7,103.1\" style=\"fill:none;stroke:#000000;stroke-width:2.0px;stroke-linecap:butt;stroke-linejoin:miter;stroke-opacity:1;\"/>\n",
       "<path d=\"M 50.7,97.8 L 50.1,97.5 L 50.0,96.8\" style=\"fill:none;stroke:#000000;stroke-width:2.0px;stroke-linecap:butt;stroke-linejoin:miter;stroke-opacity:1;\"/>\n",
       "<path d=\"M 48.5,83.8 L 48.5,83.1 L 49.0,82.6\" style=\"fill:none;stroke:#000000;stroke-width:2.0px;stroke-linecap:butt;stroke-linejoin:miter;stroke-opacity:1;\"/>\n",
       "<path d=\"M 84.6,72.1 L 85.2,71.7 L 85.1,71.0\" style=\"fill:none;stroke:#000000;stroke-width:2.0px;stroke-linecap:butt;stroke-linejoin:miter;stroke-opacity:1;\"/>\n",
       "<path d=\"M 83.7,58.0 L 83.6,57.2 L 83.0,56.9\" style=\"fill:none;stroke:#000000;stroke-width:2.0px;stroke-linecap:butt;stroke-linejoin:miter;stroke-opacity:1;\"/>\n",
       "<path d=\"M 71.0,51.7 L 70.3,51.4 L 69.7,51.8\" style=\"fill:none;stroke:#000000;stroke-width:2.0px;stroke-linecap:butt;stroke-linejoin:miter;stroke-opacity:1;\"/>\n",
       "<path d=\"M 59.2,59.6 L 58.6,60.0 L 58.7,60.7\" style=\"fill:none;stroke:#000000;stroke-width:2.0px;stroke-linecap:butt;stroke-linejoin:miter;stroke-opacity:1;\"/>\n",
       "<path d=\"M 123.7,75.5 L 123.6,74.8 L 123.8,74.6\" style=\"fill:none;stroke:#000000;stroke-width:2.0px;stroke-linecap:butt;stroke-linejoin:miter;stroke-opacity:1;\"/>\n",
       "<path d=\"M 125.1,88.5 L 125.2,89.2 L 125.9,89.5\" style=\"fill:none;stroke:#000000;stroke-width:2.0px;stroke-linecap:butt;stroke-linejoin:miter;stroke-opacity:1;\"/>\n",
       "<path d=\"M 137.8,94.8 L 138.5,95.1 L 139.1,94.7\" style=\"fill:none;stroke:#000000;stroke-width:2.0px;stroke-linecap:butt;stroke-linejoin:miter;stroke-opacity:1;\"/>\n",
       "<path d=\"M 149.6,86.9 L 150.2,86.5 L 150.2,85.8\" style=\"fill:none;stroke:#000000;stroke-width:2.0px;stroke-linecap:butt;stroke-linejoin:miter;stroke-opacity:1;\"/>\n",
       "<path d=\"M 148.7,72.7 L 148.6,72.0 L 148.4,71.9\" style=\"fill:none;stroke:#000000;stroke-width:2.0px;stroke-linecap:butt;stroke-linejoin:miter;stroke-opacity:1;\"/>\n",
       "<path class=\"atom-6\" d=\"M 76.3 123.7 Q 76.3 122.7, 76.8 122.1 Q 77.4 121.5, 78.3 121.5 Q 79.2 121.5, 79.7 122.1 Q 80.2 122.7, 80.2 123.7 Q 80.2 124.7, 79.7 125.3 Q 79.2 125.9, 78.3 125.9 Q 77.4 125.9, 76.8 125.3 Q 76.3 124.7, 76.3 123.7 M 78.3 125.4 Q 78.9 125.4, 79.3 125.0 Q 79.6 124.6, 79.6 123.7 Q 79.6 122.9, 79.3 122.5 Q 78.9 122.0, 78.3 122.0 Q 77.6 122.0, 77.3 122.4 Q 76.9 122.9, 76.9 123.7 Q 76.9 124.6, 77.3 125.0 Q 77.6 125.4, 78.3 125.4 \" fill=\"#FF0000\"/>\n",
       "<path class=\"atom-7\" d=\"M 86.5 100.6 Q 86.5 99.6, 87.0 99.0 Q 87.5 98.5, 88.4 98.5 Q 89.4 98.5, 89.9 99.0 Q 90.4 99.6, 90.4 100.6 Q 90.4 101.7, 89.9 102.3 Q 89.4 102.8, 88.4 102.8 Q 87.5 102.8, 87.0 102.3 Q 86.5 101.7, 86.5 100.6 M 88.4 102.4 Q 89.1 102.4, 89.4 101.9 Q 89.8 101.5, 89.8 100.6 Q 89.8 99.8, 89.4 99.4 Q 89.1 99.0, 88.4 99.0 Q 87.8 99.0, 87.4 99.4 Q 87.1 99.8, 87.1 100.6 Q 87.1 101.5, 87.4 101.9 Q 87.8 102.4, 88.4 102.4 \" fill=\"#FF0000\"/>\n",
       "<path class=\"atom-26\" d=\"M 158.4 63.4 Q 158.4 62.4, 158.9 61.8 Q 159.4 61.3, 160.4 61.3 Q 161.3 61.3, 161.8 61.8 Q 162.3 62.4, 162.3 63.4 Q 162.3 64.5, 161.8 65.0 Q 161.3 65.6, 160.4 65.6 Q 159.4 65.6, 158.9 65.0 Q 158.4 64.5, 158.4 63.4 M 160.4 65.1 Q 161.0 65.1, 161.4 64.7 Q 161.7 64.3, 161.7 63.4 Q 161.7 62.6, 161.4 62.2 Q 161.0 61.7, 160.4 61.7 Q 159.7 61.7, 159.4 62.2 Q 159.0 62.6, 159.0 63.4 Q 159.0 64.3, 159.4 64.7 Q 159.7 65.1, 160.4 65.1 \" fill=\"#FF0000\"/>\n",
       "<path class=\"atom-27\" d=\"M 133.4 66.2 Q 133.4 65.2, 133.9 64.6 Q 134.4 64.0, 135.3 64.0 Q 136.3 64.0, 136.8 64.6 Q 137.3 65.2, 137.3 66.2 Q 137.3 67.2, 136.8 67.8 Q 136.2 68.4, 135.3 68.4 Q 134.4 68.4, 133.9 67.8 Q 133.4 67.2, 133.4 66.2 M 135.3 67.9 Q 136.0 67.9, 136.3 67.5 Q 136.7 67.0, 136.7 66.2 Q 136.7 65.4, 136.3 64.9 Q 136.0 64.5, 135.3 64.5 Q 134.7 64.5, 134.3 64.9 Q 134.0 65.3, 134.0 66.2 Q 134.0 67.0, 134.3 67.5 Q 134.7 67.9, 135.3 67.9 \" fill=\"#FF0000\"/>\n",
       "<path class=\"atom-28\" d=\"M 138.2 109.6 Q 138.2 108.5, 138.7 108.0 Q 139.2 107.4, 140.1 107.4 Q 141.0 107.4, 141.6 108.0 Q 142.1 108.5, 142.1 109.6 Q 142.1 110.6, 141.5 111.2 Q 141.0 111.8, 140.1 111.8 Q 139.2 111.8, 138.7 111.2 Q 138.2 110.6, 138.2 109.6 M 140.1 111.3 Q 140.8 111.3, 141.1 110.9 Q 141.5 110.4, 141.5 109.6 Q 141.5 108.7, 141.1 108.3 Q 140.8 107.9, 140.1 107.9 Q 139.5 107.9, 139.1 108.3 Q 138.8 108.7, 138.8 109.6 Q 138.8 110.4, 139.1 110.9 Q 139.5 111.3, 140.1 111.3 \" fill=\"#FF0000\"/>\n",
       "<path class=\"atom-28\" d=\"M 142.7 107.5 L 143.3 107.5 L 143.3 109.3 L 145.5 109.3 L 145.5 107.5 L 146.0 107.5 L 146.0 111.7 L 145.5 111.7 L 145.5 109.7 L 143.3 109.7 L 143.3 111.7 L 142.7 111.7 L 142.7 107.5 \" fill=\"#FF0000\"/>\n",
       "<path class=\"atom-30\" d=\"M 85.2 84.0 L 85.7 84.0 L 85.7 85.8 L 87.9 85.8 L 87.9 84.0 L 88.5 84.0 L 88.5 88.3 L 87.9 88.3 L 87.9 86.3 L 85.7 86.3 L 85.7 88.3 L 85.2 88.3 L 85.2 84.0 \" fill=\"#000000\"/>\n",
       "<path class=\"legend\" d=\"M 80.2 182.8 Q 81.1 182.8, 82.0 183.2 Q 82.8 183.6, 83.2 184.4 Q 83.7 185.2, 83.7 186.3 Q 83.7 187.5, 83.1 188.3 Q 82.6 189.1, 81.6 189.6 Q 80.7 190.0, 79.7 190.0 Q 78.6 190.0, 77.7 189.6 Q 76.7 189.2, 76.0 188.5 L 77.0 187.5 Q 77.5 188.1, 78.3 188.4 Q 79.0 188.7, 79.7 188.7 Q 80.7 188.7, 81.4 188.1 Q 82.1 187.5, 82.1 186.3 Q 82.1 185.1, 81.4 184.6 Q 80.7 184.0, 79.6 184.0 Q 78.6 184.0, 77.5 184.4 L 76.6 184.0 L 77.2 178.5 L 83.0 178.5 L 82.8 179.8 L 78.5 179.8 L 78.2 183.2 Q 79.2 182.8, 80.2 182.8 \" fill=\"#000000\"/>\n",
       "<path class=\"legend\" d=\"M 92.7 186.0 L 94.0 186.0 L 94.0 187.3 L 92.7 187.3 L 92.7 189.9 L 91.2 189.9 L 91.2 187.3 L 85.3 187.3 L 85.3 186.3 L 90.3 178.5 L 92.7 178.5 L 92.7 186.0 M 87.2 186.0 L 91.2 186.0 L 91.2 179.6 L 87.2 186.0 \" fill=\"#000000\"/>\n",
       "<path class=\"legend\" d=\"M 103.0 186.0 L 104.4 186.0 L 104.4 187.3 L 103.0 187.3 L 103.0 189.9 L 101.5 189.9 L 101.5 187.3 L 95.6 187.3 L 95.6 186.3 L 100.6 178.5 L 103.0 178.5 L 103.0 186.0 M 97.5 186.0 L 101.5 186.0 L 101.5 179.6 L 97.5 186.0 \" fill=\"#000000\"/>\n",
       "<path class=\"legend\" d=\"M 110.1 182.8 Q 111.1 182.8, 111.9 183.2 Q 112.7 183.6, 113.2 184.4 Q 113.6 185.2, 113.6 186.3 Q 113.6 187.5, 113.1 188.3 Q 112.5 189.1, 111.6 189.6 Q 110.6 190.0, 109.6 190.0 Q 108.5 190.0, 107.6 189.6 Q 106.6 189.2, 106.0 188.5 L 106.9 187.5 Q 107.5 188.1, 108.2 188.4 Q 108.9 188.7, 109.6 188.7 Q 110.6 188.7, 111.3 188.1 Q 112.0 187.5, 112.0 186.3 Q 112.0 185.1, 111.3 184.6 Q 110.6 184.0, 109.5 184.0 Q 108.5 184.0, 107.4 184.4 L 106.6 184.0 L 107.1 178.5 L 112.9 178.5 L 112.8 179.8 L 108.4 179.8 L 108.1 183.2 Q 109.1 182.8, 110.1 182.8 \" fill=\"#000000\"/>\n",
       "<path class=\"legend\" d=\"M 122.6 186.0 L 124.0 186.0 L 124.0 187.3 L 122.6 187.3 L 122.6 189.9 L 121.1 189.9 L 121.1 187.3 L 115.2 187.3 L 115.2 186.3 L 120.2 178.5 L 122.6 178.5 L 122.6 186.0 M 117.1 186.0 L 121.1 186.0 L 121.1 179.6 L 117.1 186.0 \" fill=\"#000000\"/>\n",
       "<path class=\"bond-0 atom-0 atom-1\" d=\"M 313.0,121.8 L 300.7,114.0\" style=\"fill:none;fill-rule:evenodd;stroke:#000000;stroke-width:2.0px;stroke-linecap:butt;stroke-linejoin:miter;stroke-opacity:1\"/>\n",
       "<path class=\"bond-1 atom-1 atom-2\" d=\"M 300.7,114.0 L 287.8,120.6\" style=\"fill:none;fill-rule:evenodd;stroke:#000000;stroke-width:2.0px;stroke-linecap:butt;stroke-linejoin:miter;stroke-opacity:1\"/>\n",
       "<path class=\"bond-2 atom-2 atom-3\" d=\"M 287.9,124.3 L 287.3,124.3\" style=\"fill:none;fill-rule:evenodd;stroke:#000000;stroke-width:1.0px;stroke-linecap:butt;stroke-linejoin:miter;stroke-opacity:1\"/>\n",
       "<path class=\"bond-2 atom-2 atom-3\" d=\"M 288.0,127.9 L 286.9,127.9\" style=\"fill:none;fill-rule:evenodd;stroke:#000000;stroke-width:1.0px;stroke-linecap:butt;stroke-linejoin:miter;stroke-opacity:1\"/>\n",
       "<path class=\"bond-2 atom-2 atom-3\" d=\"M 288.1,131.6 L 286.4,131.5\" style=\"fill:none;fill-rule:evenodd;stroke:#000000;stroke-width:1.0px;stroke-linecap:butt;stroke-linejoin:miter;stroke-opacity:1\"/>\n",
       "<path class=\"bond-2 atom-2 atom-3\" d=\"M 288.2,135.2 L 286.0,135.1\" style=\"fill:none;fill-rule:evenodd;stroke:#000000;stroke-width:1.0px;stroke-linecap:butt;stroke-linejoin:miter;stroke-opacity:1\"/>\n",
       "<path class=\"bond-3 atom-2 atom-4\" d=\"M 287.8,120.6 L 275.5,112.8\" style=\"fill:none;fill-rule:evenodd;stroke:#000000;stroke-width:2.0px;stroke-linecap:butt;stroke-linejoin:miter;stroke-opacity:1\"/>\n",
       "<path class=\"bond-4 atom-4 atom-5\" d=\"M 275.6,111.5 L 270.1,114.4\" style=\"fill:none;fill-rule:evenodd;stroke:#000000;stroke-width:2.0px;stroke-linecap:butt;stroke-linejoin:miter;stroke-opacity:1\"/>\n",
       "<path class=\"bond-4 atom-4 atom-5\" d=\"M 270.1,114.4 L 264.5,117.2\" style=\"fill:none;fill-rule:evenodd;stroke:#FF0000;stroke-width:2.0px;stroke-linecap:butt;stroke-linejoin:miter;stroke-opacity:1\"/>\n",
       "<path class=\"bond-4 atom-4 atom-5\" d=\"M 276.6,113.5 L 271.1,116.3\" style=\"fill:none;fill-rule:evenodd;stroke:#000000;stroke-width:2.0px;stroke-linecap:butt;stroke-linejoin:miter;stroke-opacity:1\"/>\n",
       "<path class=\"bond-4 atom-4 atom-5\" d=\"M 271.1,116.3 L 265.5,119.2\" style=\"fill:none;fill-rule:evenodd;stroke:#FF0000;stroke-width:2.0px;stroke-linecap:butt;stroke-linejoin:miter;stroke-opacity:1\"/>\n",
       "<path class=\"bond-5 atom-4 atom-6\" d=\"M 275.5,112.8 L 275.8,106.9\" style=\"fill:none;fill-rule:evenodd;stroke:#000000;stroke-width:2.0px;stroke-linecap:butt;stroke-linejoin:miter;stroke-opacity:1\"/>\n",
       "<path class=\"bond-5 atom-4 atom-6\" d=\"M 275.8,106.9 L 276.1,100.9\" style=\"fill:none;fill-rule:evenodd;stroke:#FF0000;stroke-width:2.0px;stroke-linecap:butt;stroke-linejoin:miter;stroke-opacity:1\"/>\n",
       "<path class=\"bond-6 atom-7 atom-6\" d=\"M 264.0,90.4 L 269.0,92.9 L 268.4,93.8 Z\" style=\"fill:#000000;fill-rule:evenodd;fill-opacity:1;stroke:#000000;stroke-width:0.5px;stroke-linecap:butt;stroke-linejoin:miter;stroke-opacity:1;\"/>\n",
       "<path class=\"bond-6 atom-7 atom-6\" d=\"M 269.0,92.9 L 272.7,97.3 L 273.9,95.5 Z\" style=\"fill:#FF0000;fill-rule:evenodd;fill-opacity:1;stroke:#FF0000;stroke-width:0.5px;stroke-linecap:butt;stroke-linejoin:miter;stroke-opacity:1;\"/>\n",
       "<path class=\"bond-6 atom-7 atom-6\" d=\"M 269.0,92.9 L 268.4,93.8 L 272.7,97.3 Z\" style=\"fill:#FF0000;fill-rule:evenodd;fill-opacity:1;stroke:#FF0000;stroke-width:0.5px;stroke-linecap:butt;stroke-linejoin:miter;stroke-opacity:1;\"/>\n",
       "<path class=\"bond-7 atom-7 atom-8\" d=\"M 264.0,90.4 L 251.1,97.0\" style=\"fill:none;fill-rule:evenodd;stroke:#000000;stroke-width:2.0px;stroke-linecap:butt;stroke-linejoin:miter;stroke-opacity:1\"/>\n",
       "<path class=\"bond-8 atom-8 atom-9\" d=\"M 251.1,97.0 L 238.8,89.2\" style=\"fill:none;fill-rule:evenodd;stroke:#000000;stroke-width:2.0px;stroke-linecap:butt;stroke-linejoin:miter;stroke-opacity:1\"/>\n",
       "<path class=\"bond-9 atom-9 atom-10\" d=\"M 238.8,89.2 L 239.5,74.6\" style=\"fill:none;fill-rule:evenodd;stroke:#000000;stroke-width:2.0px;stroke-linecap:butt;stroke-linejoin:miter;stroke-opacity:1\"/>\n",
       "<path class=\"bond-10 atom-10 atom-11\" d=\"M 239.5,74.6 L 252.5,68.0\" style=\"fill:none;fill-rule:evenodd;stroke:#000000;stroke-width:2.0px;stroke-linecap:butt;stroke-linejoin:miter;stroke-opacity:1\"/>\n",
       "<path class=\"bond-10 atom-10 atom-11\" d=\"M 241.6,76.0 L 252.3,70.5\" style=\"fill:none;fill-rule:evenodd;stroke:#000000;stroke-width:2.0px;stroke-linecap:butt;stroke-linejoin:miter;stroke-opacity:1\"/>\n",
       "<path class=\"bond-11 atom-11 atom-12\" d=\"M 252.5,68.0 L 264.7,75.8\" style=\"fill:none;fill-rule:evenodd;stroke:#000000;stroke-width:2.0px;stroke-linecap:butt;stroke-linejoin:miter;stroke-opacity:1\"/>\n",
       "<path class=\"bond-12 atom-12 atom-13\" d=\"M 264.7,75.8 L 277.6,69.2\" style=\"fill:none;fill-rule:evenodd;stroke:#000000;stroke-width:2.0px;stroke-linecap:butt;stroke-linejoin:miter;stroke-opacity:1\"/>\n",
       "<path class=\"bond-13 atom-13 atom-14\" d=\"M 277.6,69.2 L 278.3,54.6\" style=\"fill:none;fill-rule:evenodd;stroke:#000000;stroke-width:2.0px;stroke-linecap:butt;stroke-linejoin:miter;stroke-opacity:1\"/>\n",
       "<path class=\"bond-14 atom-14 atom-15\" d=\"M 278.3,54.6 L 266.1,46.8\" style=\"fill:none;fill-rule:evenodd;stroke:#000000;stroke-width:2.0px;stroke-linecap:butt;stroke-linejoin:miter;stroke-opacity:1\"/>\n",
       "<path class=\"bond-15 atom-15 atom-16\" d=\"M 266.1,46.8 L 253.1,53.4\" style=\"fill:none;fill-rule:evenodd;stroke:#000000;stroke-width:2.0px;stroke-linecap:butt;stroke-linejoin:miter;stroke-opacity:1\"/>\n",
       "<path class=\"bond-15 atom-15 atom-16\" d=\"M 266.0,49.3 L 255.3,54.8\" style=\"fill:none;fill-rule:evenodd;stroke:#000000;stroke-width:2.0px;stroke-linecap:butt;stroke-linejoin:miter;stroke-opacity:1\"/>\n",
       "<path class=\"bond-16 atom-14 atom-17\" d=\"M 281.4,52.7 L 281.7,53.2\" style=\"fill:none;fill-rule:evenodd;stroke:#000000;stroke-width:1.0px;stroke-linecap:butt;stroke-linejoin:miter;stroke-opacity:1\"/>\n",
       "<path class=\"bond-16 atom-14 atom-17\" d=\"M 284.5,50.8 L 285.0,51.8\" style=\"fill:none;fill-rule:evenodd;stroke:#000000;stroke-width:1.0px;stroke-linecap:butt;stroke-linejoin:miter;stroke-opacity:1\"/>\n",
       "<path class=\"bond-16 atom-14 atom-17\" d=\"M 287.6,48.9 L 288.4,50.4\" style=\"fill:none;fill-rule:evenodd;stroke:#000000;stroke-width:1.0px;stroke-linecap:butt;stroke-linejoin:miter;stroke-opacity:1\"/>\n",
       "<path class=\"bond-16 atom-14 atom-17\" d=\"M 290.7,47.0 L 291.7,49.0\" style=\"fill:none;fill-rule:evenodd;stroke:#000000;stroke-width:1.0px;stroke-linecap:butt;stroke-linejoin:miter;stroke-opacity:1\"/>\n",
       "<path class=\"bond-17 atom-13 atom-18\" d=\"M 280.5,71.4 L 280.9,70.8\" style=\"fill:none;fill-rule:evenodd;stroke:#000000;stroke-width:1.0px;stroke-linecap:butt;stroke-linejoin:miter;stroke-opacity:1\"/>\n",
       "<path class=\"bond-17 atom-13 atom-18\" d=\"M 283.3,73.7 L 284.1,72.5\" style=\"fill:none;fill-rule:evenodd;stroke:#000000;stroke-width:1.0px;stroke-linecap:butt;stroke-linejoin:miter;stroke-opacity:1\"/>\n",
       "<path class=\"bond-17 atom-13 atom-18\" d=\"M 286.2,76.0 L 287.4,74.1\" style=\"fill:none;fill-rule:evenodd;stroke:#000000;stroke-width:1.0px;stroke-linecap:butt;stroke-linejoin:miter;stroke-opacity:1\"/>\n",
       "<path class=\"bond-18 atom-18 atom-19\" d=\"M 289.9,77.0 L 302.8,70.4\" style=\"fill:none;fill-rule:evenodd;stroke:#000000;stroke-width:2.0px;stroke-linecap:butt;stroke-linejoin:miter;stroke-opacity:1\"/>\n",
       "<path class=\"bond-19 atom-19 atom-20\" d=\"M 302.8,70.4 L 315.0,78.2\" style=\"fill:none;fill-rule:evenodd;stroke:#000000;stroke-width:2.0px;stroke-linecap:butt;stroke-linejoin:miter;stroke-opacity:1\"/>\n",
       "<path class=\"bond-20 atom-20 atom-21\" d=\"M 315.0,78.2 L 328.0,71.6\" style=\"fill:none;fill-rule:evenodd;stroke:#000000;stroke-width:2.0px;stroke-linecap:butt;stroke-linejoin:miter;stroke-opacity:1\"/>\n",
       "<path class=\"bond-21 atom-21 atom-22\" d=\"M 328.0,71.6 L 340.2,79.4\" style=\"fill:none;fill-rule:evenodd;stroke:#000000;stroke-width:2.0px;stroke-linecap:butt;stroke-linejoin:miter;stroke-opacity:1\"/>\n",
       "<path class=\"bond-22 atom-22 atom-23\" d=\"M 340.2,79.4 L 353.1,72.8\" style=\"fill:none;fill-rule:evenodd;stroke:#000000;stroke-width:2.0px;stroke-linecap:butt;stroke-linejoin:miter;stroke-opacity:1\"/>\n",
       "<path class=\"bond-23 atom-23 atom-24\" d=\"M 353.1,72.8 L 365.4,80.6\" style=\"fill:none;fill-rule:evenodd;stroke:#000000;stroke-width:2.0px;stroke-linecap:butt;stroke-linejoin:miter;stroke-opacity:1\"/>\n",
       "<path class=\"bond-24 atom-24 atom-25\" d=\"M 365.3,81.9 L 370.8,79.0\" style=\"fill:none;fill-rule:evenodd;stroke:#000000;stroke-width:2.0px;stroke-linecap:butt;stroke-linejoin:miter;stroke-opacity:1\"/>\n",
       "<path class=\"bond-24 atom-24 atom-25\" d=\"M 370.8,79.0 L 376.4,76.2\" style=\"fill:none;fill-rule:evenodd;stroke:#FF0000;stroke-width:2.0px;stroke-linecap:butt;stroke-linejoin:miter;stroke-opacity:1\"/>\n",
       "<path class=\"bond-24 atom-24 atom-25\" d=\"M 364.3,80.0 L 369.8,77.1\" style=\"fill:none;fill-rule:evenodd;stroke:#000000;stroke-width:2.0px;stroke-linecap:butt;stroke-linejoin:miter;stroke-opacity:1\"/>\n",
       "<path class=\"bond-24 atom-24 atom-25\" d=\"M 369.8,77.1 L 375.4,74.3\" style=\"fill:none;fill-rule:evenodd;stroke:#FF0000;stroke-width:2.0px;stroke-linecap:butt;stroke-linejoin:miter;stroke-opacity:1\"/>\n",
       "<path class=\"bond-25 atom-24 atom-26\" d=\"M 365.4,80.6 L 365.1,86.6\" style=\"fill:none;fill-rule:evenodd;stroke:#000000;stroke-width:2.0px;stroke-linecap:butt;stroke-linejoin:miter;stroke-opacity:1\"/>\n",
       "<path class=\"bond-25 atom-24 atom-26\" d=\"M 365.1,86.6 L 364.8,92.5\" style=\"fill:none;fill-rule:evenodd;stroke:#FF0000;stroke-width:2.0px;stroke-linecap:butt;stroke-linejoin:miter;stroke-opacity:1\"/>\n",
       "<path class=\"bond-26 atom-22 atom-27\" d=\"M 340.4,83.3 L 339.7,83.2\" style=\"fill:none;fill-rule:evenodd;stroke:#000000;stroke-width:1.0px;stroke-linecap:butt;stroke-linejoin:miter;stroke-opacity:1\"/>\n",
       "<path class=\"bond-26 atom-22 atom-27\" d=\"M 340.6,87.1 L 339.1,87.0\" style=\"fill:none;fill-rule:evenodd;stroke:#FF0000;stroke-width:1.0px;stroke-linecap:butt;stroke-linejoin:miter;stroke-opacity:1\"/>\n",
       "<path class=\"bond-26 atom-22 atom-27\" d=\"M 340.7,90.9 L 338.6,90.8\" style=\"fill:none;fill-rule:evenodd;stroke:#FF0000;stroke-width:1.0px;stroke-linecap:butt;stroke-linejoin:miter;stroke-opacity:1\"/>\n",
       "<path class=\"bond-27 atom-20 atom-28\" d=\"M 315.2,82.1 L 314.5,82.0\" style=\"fill:none;fill-rule:evenodd;stroke:#000000;stroke-width:1.0px;stroke-linecap:butt;stroke-linejoin:miter;stroke-opacity:1\"/>\n",
       "<path class=\"bond-27 atom-20 atom-28\" d=\"M 315.4,85.9 L 313.9,85.8\" style=\"fill:none;fill-rule:evenodd;stroke:#FF0000;stroke-width:1.0px;stroke-linecap:butt;stroke-linejoin:miter;stroke-opacity:1\"/>\n",
       "<path class=\"bond-27 atom-20 atom-28\" d=\"M 315.6,89.7 L 313.4,89.6\" style=\"fill:none;fill-rule:evenodd;stroke:#FF0000;stroke-width:1.0px;stroke-linecap:butt;stroke-linejoin:miter;stroke-opacity:1\"/>\n",
       "<path class=\"bond-28 atom-9 atom-29\" d=\"M 235.7,91.2 L 235.3,90.6\" style=\"fill:none;fill-rule:evenodd;stroke:#000000;stroke-width:1.0px;stroke-linecap:butt;stroke-linejoin:miter;stroke-opacity:1\"/>\n",
       "<path class=\"bond-28 atom-9 atom-29\" d=\"M 232.5,93.3 L 231.8,92.0\" style=\"fill:none;fill-rule:evenodd;stroke:#FF0000;stroke-width:1.0px;stroke-linecap:butt;stroke-linejoin:miter;stroke-opacity:1\"/>\n",
       "<path class=\"bond-28 atom-9 atom-29\" d=\"M 229.3,95.3 L 228.3,93.4\" style=\"fill:none;fill-rule:evenodd;stroke:#FF0000;stroke-width:1.0px;stroke-linecap:butt;stroke-linejoin:miter;stroke-opacity:1\"/>\n",
       "<path class=\"bond-29 atom-12 atom-7\" d=\"M 264.7,75.8 L 264.0,90.4\" style=\"fill:none;fill-rule:evenodd;stroke:#000000;stroke-width:2.0px;stroke-linecap:butt;stroke-linejoin:miter;stroke-opacity:1\"/>\n",
       "<path class=\"bond-30 atom-16 atom-11\" d=\"M 253.1,53.4 L 252.5,68.0\" style=\"fill:none;fill-rule:evenodd;stroke:#000000;stroke-width:2.0px;stroke-linecap:butt;stroke-linejoin:miter;stroke-opacity:1\"/>\n",
       "<path class=\"bond-31 atom-12 atom-30\" d=\"M 268.1,77.6 L 267.7,78.2\" style=\"fill:none;fill-rule:evenodd;stroke:#000000;stroke-width:1.0px;stroke-linecap:butt;stroke-linejoin:miter;stroke-opacity:1\"/>\n",
       "<path class=\"bond-31 atom-12 atom-30\" d=\"M 271.5,79.4 L 270.7,80.6\" style=\"fill:none;fill-rule:evenodd;stroke:#000000;stroke-width:1.0px;stroke-linecap:butt;stroke-linejoin:miter;stroke-opacity:1\"/>\n",
       "<path class=\"bond-31 atom-12 atom-30\" d=\"M 274.9,81.1 L 273.7,82.9\" style=\"fill:none;fill-rule:evenodd;stroke:#000000;stroke-width:1.0px;stroke-linecap:butt;stroke-linejoin:miter;stroke-opacity:1\"/>\n",
       "<path d=\"M 301.3,114.4 L 300.7,114.0 L 300.1,114.3\" style=\"fill:none;stroke:#000000;stroke-width:2.0px;stroke-linecap:butt;stroke-linejoin:miter;stroke-opacity:1;\"/>\n",
       "<path d=\"M 288.4,120.3 L 287.8,120.6 L 287.2,120.2\" style=\"fill:none;stroke:#000000;stroke-width:2.0px;stroke-linecap:butt;stroke-linejoin:miter;stroke-opacity:1;\"/>\n",
       "<path d=\"M 276.2,113.2 L 275.5,112.8 L 275.6,112.5\" style=\"fill:none;stroke:#000000;stroke-width:2.0px;stroke-linecap:butt;stroke-linejoin:miter;stroke-opacity:1;\"/>\n",
       "<path d=\"M 263.4,90.7 L 264.0,90.4 L 264.0,89.6\" style=\"fill:none;stroke:#000000;stroke-width:2.0px;stroke-linecap:butt;stroke-linejoin:miter;stroke-opacity:1;\"/>\n",
       "<path d=\"M 251.7,96.7 L 251.1,97.0 L 250.5,96.6\" style=\"fill:none;stroke:#000000;stroke-width:2.0px;stroke-linecap:butt;stroke-linejoin:miter;stroke-opacity:1;\"/>\n",
       "<path d=\"M 239.4,89.6 L 238.8,89.2 L 238.9,88.5\" style=\"fill:none;stroke:#000000;stroke-width:2.0px;stroke-linecap:butt;stroke-linejoin:miter;stroke-opacity:1;\"/>\n",
       "<path d=\"M 239.5,75.4 L 239.5,74.6 L 240.2,74.3\" style=\"fill:none;stroke:#000000;stroke-width:2.0px;stroke-linecap:butt;stroke-linejoin:miter;stroke-opacity:1;\"/>\n",
       "<path d=\"M 277.0,69.5 L 277.6,69.2 L 277.7,68.5\" style=\"fill:none;stroke:#000000;stroke-width:2.0px;stroke-linecap:butt;stroke-linejoin:miter;stroke-opacity:1;\"/>\n",
       "<path d=\"M 278.3,55.4 L 278.3,54.6 L 277.7,54.3\" style=\"fill:none;stroke:#000000;stroke-width:2.0px;stroke-linecap:butt;stroke-linejoin:miter;stroke-opacity:1;\"/>\n",
       "<path d=\"M 266.7,47.2 L 266.1,46.8 L 265.4,47.1\" style=\"fill:none;stroke:#000000;stroke-width:2.0px;stroke-linecap:butt;stroke-linejoin:miter;stroke-opacity:1;\"/>\n",
       "<path d=\"M 253.8,53.1 L 253.1,53.4 L 253.1,54.2\" style=\"fill:none;stroke:#000000;stroke-width:2.0px;stroke-linecap:butt;stroke-linejoin:miter;stroke-opacity:1;\"/>\n",
       "<path d=\"M 302.1,70.7 L 302.8,70.4 L 303.4,70.8\" style=\"fill:none;stroke:#000000;stroke-width:2.0px;stroke-linecap:butt;stroke-linejoin:miter;stroke-opacity:1;\"/>\n",
       "<path d=\"M 314.4,77.8 L 315.0,78.2 L 315.7,77.9\" style=\"fill:none;stroke:#000000;stroke-width:2.0px;stroke-linecap:butt;stroke-linejoin:miter;stroke-opacity:1;\"/>\n",
       "<path d=\"M 327.3,71.9 L 328.0,71.6 L 328.6,72.0\" style=\"fill:none;stroke:#000000;stroke-width:2.0px;stroke-linecap:butt;stroke-linejoin:miter;stroke-opacity:1;\"/>\n",
       "<path d=\"M 339.6,79.0 L 340.2,79.4 L 340.8,79.1\" style=\"fill:none;stroke:#000000;stroke-width:2.0px;stroke-linecap:butt;stroke-linejoin:miter;stroke-opacity:1;\"/>\n",
       "<path d=\"M 352.5,73.1 L 353.1,72.8 L 353.7,73.2\" style=\"fill:none;stroke:#000000;stroke-width:2.0px;stroke-linecap:butt;stroke-linejoin:miter;stroke-opacity:1;\"/>\n",
       "<path d=\"M 364.8,80.2 L 365.4,80.6 L 365.4,80.9\" style=\"fill:none;stroke:#000000;stroke-width:2.0px;stroke-linecap:butt;stroke-linejoin:miter;stroke-opacity:1;\"/>\n",
       "<path class=\"atom-5\" d=\"M 260.7 119.4 Q 260.7 118.4, 261.2 117.9 Q 261.7 117.3, 262.6 117.3 Q 263.6 117.3, 264.1 117.9 Q 264.6 118.4, 264.6 119.4 Q 264.6 120.5, 264.1 121.1 Q 263.5 121.7, 262.6 121.7 Q 261.7 121.7, 261.2 121.1 Q 260.7 120.5, 260.7 119.4 M 262.6 121.2 Q 263.3 121.2, 263.6 120.7 Q 264.0 120.3, 264.0 119.4 Q 264.0 118.6, 263.6 118.2 Q 263.3 117.8, 262.6 117.8 Q 262.0 117.8, 261.6 118.2 Q 261.3 118.6, 261.3 119.4 Q 261.3 120.3, 261.6 120.7 Q 262.0 121.2, 262.6 121.2 \" fill=\"#FF0000\"/>\n",
       "<path class=\"atom-6\" d=\"M 274.3 98.3 Q 274.3 97.2, 274.8 96.7 Q 275.3 96.1, 276.2 96.1 Q 277.2 96.1, 277.7 96.7 Q 278.2 97.2, 278.2 98.3 Q 278.2 99.3, 277.7 99.9 Q 277.2 100.5, 276.2 100.5 Q 275.3 100.5, 274.8 99.9 Q 274.3 99.3, 274.3 98.3 M 276.2 100.0 Q 276.9 100.0, 277.2 99.5 Q 277.6 99.1, 277.6 98.3 Q 277.6 97.4, 277.2 97.0 Q 276.9 96.6, 276.2 96.6 Q 275.6 96.6, 275.2 97.0 Q 274.9 97.4, 274.9 98.3 Q 274.9 99.1, 275.2 99.5 Q 275.6 100.0, 276.2 100.0 \" fill=\"#FF0000\"/>\n",
       "<path class=\"atom-25\" d=\"M 376.3 74.0 Q 376.3 73.0, 376.8 72.4 Q 377.4 71.8, 378.3 71.8 Q 379.2 71.8, 379.7 72.4 Q 380.2 73.0, 380.2 74.0 Q 380.2 75.0, 379.7 75.6 Q 379.2 76.2, 378.3 76.2 Q 377.4 76.2, 376.8 75.6 Q 376.3 75.0, 376.3 74.0 M 378.3 75.7 Q 378.9 75.7, 379.3 75.3 Q 379.6 74.8, 379.6 74.0 Q 379.6 73.1, 379.3 72.7 Q 378.9 72.3, 378.3 72.3 Q 377.6 72.3, 377.3 72.7 Q 376.9 73.1, 376.9 74.0 Q 376.9 74.8, 377.3 75.3 Q 377.6 75.7, 378.3 75.7 \" fill=\"#FF0000\"/>\n",
       "<path class=\"atom-26\" d=\"M 362.7 95.2 Q 362.7 94.2, 363.2 93.6 Q 363.7 93.0, 364.7 93.0 Q 365.6 93.0, 366.1 93.6 Q 366.6 94.2, 366.6 95.2 Q 366.6 96.2, 366.1 96.8 Q 365.6 97.4, 364.7 97.4 Q 363.7 97.4, 363.2 96.8 Q 362.7 96.2, 362.7 95.2 M 364.7 96.9 Q 365.3 96.9, 365.7 96.5 Q 366.0 96.0, 366.0 95.2 Q 366.0 94.3, 365.7 93.9 Q 365.3 93.5, 364.7 93.5 Q 364.0 93.5, 363.7 93.9 Q 363.3 94.3, 363.3 95.2 Q 363.3 96.0, 363.7 96.5 Q 364.0 96.9, 364.7 96.9 \" fill=\"#FF0000\"/>\n",
       "<path class=\"atom-26\" d=\"M 367.3 93.1 L 367.9 93.1 L 367.9 94.9 L 370.0 94.9 L 370.0 93.1 L 370.6 93.1 L 370.6 97.3 L 370.0 97.3 L 370.0 95.4 L 367.9 95.4 L 367.9 97.3 L 367.3 97.3 L 367.3 93.1 \" fill=\"#FF0000\"/>\n",
       "<path class=\"atom-27\" d=\"M 337.6 94.0 Q 337.6 93.0, 338.1 92.4 Q 338.6 91.8, 339.5 91.8 Q 340.4 91.8, 341.0 92.4 Q 341.5 93.0, 341.5 94.0 Q 341.5 95.0, 340.9 95.6 Q 340.4 96.2, 339.5 96.2 Q 338.6 96.2, 338.1 95.6 Q 337.6 95.0, 337.6 94.0 M 339.5 95.7 Q 340.2 95.7, 340.5 95.3 Q 340.9 94.8, 340.9 94.0 Q 340.9 93.1, 340.5 92.7 Q 340.2 92.3, 339.5 92.3 Q 338.9 92.3, 338.5 92.7 Q 338.2 93.1, 338.2 94.0 Q 338.2 94.8, 338.5 95.3 Q 338.9 95.7, 339.5 95.7 \" fill=\"#FF0000\"/>\n",
       "<path class=\"atom-27\" d=\"M 342.1 91.9 L 342.7 91.9 L 342.7 93.7 L 344.9 93.7 L 344.9 91.9 L 345.4 91.9 L 345.4 96.1 L 344.9 96.1 L 344.9 94.2 L 342.7 94.2 L 342.7 96.1 L 342.1 96.1 L 342.1 91.9 \" fill=\"#FF0000\"/>\n",
       "<path class=\"atom-28\" d=\"M 312.4 92.8 Q 312.4 91.8, 312.9 91.2 Q 313.4 90.6, 314.3 90.6 Q 315.3 90.6, 315.8 91.2 Q 316.3 91.8, 316.3 92.8 Q 316.3 93.8, 315.8 94.4 Q 315.3 95.0, 314.3 95.0 Q 313.4 95.0, 312.9 94.4 Q 312.4 93.8, 312.4 92.8 M 314.3 94.5 Q 315.0 94.5, 315.3 94.1 Q 315.7 93.6, 315.7 92.8 Q 315.7 91.9, 315.3 91.5 Q 315.0 91.1, 314.3 91.1 Q 313.7 91.1, 313.3 91.5 Q 313.0 91.9, 313.0 92.8 Q 313.0 93.6, 313.3 94.1 Q 313.7 94.5, 314.3 94.5 \" fill=\"#FF0000\"/>\n",
       "<path class=\"atom-28\" d=\"M 316.9 90.7 L 317.5 90.7 L 317.5 92.5 L 319.7 92.5 L 319.7 90.7 L 320.3 90.7 L 320.3 94.9 L 319.7 94.9 L 319.7 93.0 L 317.5 93.0 L 317.5 94.9 L 316.9 94.9 L 316.9 90.7 \" fill=\"#FF0000\"/>\n",
       "<path class=\"atom-29\" d=\"M 219.8 93.7 L 220.3 93.7 L 220.3 95.5 L 222.5 95.5 L 222.5 93.7 L 223.1 93.7 L 223.1 98.0 L 222.5 98.0 L 222.5 96.0 L 220.3 96.0 L 220.3 98.0 L 219.8 98.0 L 219.8 93.7 \" fill=\"#FF0000\"/>\n",
       "<path class=\"atom-29\" d=\"M 224.0 95.9 Q 224.0 94.8, 224.5 94.3 Q 225.0 93.7, 225.9 93.7 Q 226.8 93.7, 227.3 94.3 Q 227.9 94.8, 227.9 95.9 Q 227.9 96.9, 227.3 97.5 Q 226.8 98.1, 225.9 98.1 Q 225.0 98.1, 224.5 97.5 Q 224.0 96.9, 224.0 95.9 M 225.9 97.6 Q 226.5 97.6, 226.9 97.1 Q 227.3 96.7, 227.3 95.9 Q 227.3 95.0, 226.9 94.6 Q 226.5 94.2, 225.9 94.2 Q 225.3 94.2, 224.9 94.6 Q 224.6 95.0, 224.6 95.9 Q 224.6 96.7, 224.9 97.1 Q 225.3 97.6, 225.9 97.6 \" fill=\"#FF0000\"/>\n",
       "<path class=\"atom-30\" d=\"M 275.3 81.6 L 275.8 81.6 L 275.8 83.4 L 278.0 83.4 L 278.0 81.6 L 278.6 81.6 L 278.6 85.8 L 278.0 85.8 L 278.0 83.9 L 275.8 83.9 L 275.8 85.8 L 275.3 85.8 L 275.3 81.6 \" fill=\"#000000\"/>\n",
       "<path class=\"legend\" d=\"M 280.9 182.8 Q 281.9 182.8, 282.7 183.2 Q 283.5 183.6, 284.0 184.4 Q 284.5 185.2, 284.5 186.3 Q 284.5 187.4, 283.9 188.3 Q 283.3 189.1, 282.4 189.5 Q 281.5 190.0, 280.4 190.0 Q 279.4 190.0, 278.4 189.6 Q 277.5 189.2, 276.8 188.5 L 277.8 187.5 Q 278.3 188.0, 279.0 188.4 Q 279.7 188.7, 280.5 188.7 Q 281.5 188.7, 282.2 188.0 Q 282.9 187.4, 282.9 186.3 Q 282.9 185.1, 282.2 184.5 Q 281.5 184.0, 280.4 184.0 Q 279.4 184.0, 278.3 184.4 L 277.4 184.0 L 277.9 178.5 L 283.8 178.5 L 283.6 179.8 L 279.3 179.8 L 278.9 183.2 Q 279.9 182.8, 280.9 182.8 \" fill=\"#000000\"/>\n",
       "<path class=\"legend\" d=\"M 293.4 186.0 L 294.8 186.0 L 294.8 187.2 L 293.4 187.2 L 293.4 189.8 L 291.9 189.8 L 291.9 187.2 L 286.0 187.2 L 286.0 186.2 L 291.0 178.5 L 293.4 178.5 L 293.4 186.0 M 287.9 186.0 L 291.9 186.0 L 291.9 179.5 L 287.9 186.0 \" fill=\"#000000\"/>\n",
       "<path class=\"legend\" d=\"M 300.8 182.8 Q 301.8 182.8, 302.5 183.2 Q 303.3 183.6, 303.8 184.4 Q 304.2 185.2, 304.2 186.2 Q 304.2 187.3, 303.7 188.2 Q 303.2 189.0, 302.4 189.5 Q 301.5 190.0, 300.4 190.0 Q 298.4 190.0, 297.3 188.6 Q 296.3 187.2, 296.3 184.5 Q 296.3 181.5, 297.6 180.0 Q 298.8 178.4, 301.3 178.4 Q 302.0 178.4, 302.6 178.5 Q 303.2 178.7, 303.7 179.0 L 303.1 180.1 Q 302.3 179.7, 301.3 179.7 Q 299.7 179.7, 298.9 180.7 Q 298.0 181.7, 298.0 183.9 Q 298.5 183.3, 299.2 183.1 Q 300.0 182.8, 300.8 182.8 M 300.4 188.7 Q 301.0 188.7, 301.5 188.3 Q 302.0 188.0, 302.3 187.5 Q 302.6 186.9, 302.6 186.2 Q 302.6 185.2, 302.0 184.6 Q 301.5 184.0, 300.5 184.0 Q 299.8 184.0, 299.1 184.3 Q 298.4 184.6, 298.0 185.1 Q 298.0 187.0, 298.6 187.8 Q 299.2 188.7, 300.4 188.7 \" fill=\"#000000\"/>\n",
       "<path class=\"legend\" d=\"M 311.6 183.8 Q 312.7 184.3, 313.3 185.0 Q 313.9 185.6, 313.9 186.7 Q 313.9 187.7, 313.4 188.4 Q 312.9 189.2, 312.0 189.6 Q 311.1 190.0, 309.9 190.0 Q 308.0 190.0, 307.0 189.1 Q 305.9 188.3, 305.9 186.7 Q 305.9 185.8, 306.3 185.1 Q 306.8 184.4, 307.8 183.9 Q 307.1 183.5, 306.7 182.9 Q 306.3 182.2, 306.3 181.3 Q 306.3 180.0, 307.2 179.2 Q 308.2 178.4, 309.9 178.4 Q 311.5 178.4, 312.5 179.2 Q 313.5 180.0, 313.5 181.3 Q 313.5 182.1, 313.0 182.7 Q 312.5 183.3, 311.6 183.8 M 309.9 179.6 Q 308.9 179.6, 308.4 180.0 Q 307.9 180.5, 307.9 181.3 Q 307.9 181.9, 308.2 182.3 Q 308.6 182.7, 309.1 182.9 Q 309.6 183.1, 310.6 183.4 Q 311.3 183.0, 311.5 182.4 Q 311.9 181.9, 311.9 181.3 Q 311.9 180.5, 311.3 180.0 Q 310.8 179.6, 309.9 179.6 M 309.9 188.8 Q 311.0 188.8, 311.6 188.2 Q 312.3 187.7, 312.3 186.7 Q 312.3 186.1, 311.9 185.7 Q 311.6 185.3, 311.1 185.1 Q 310.6 184.9, 309.7 184.6 L 309.0 184.4 Q 308.2 184.8, 307.8 185.4 Q 307.5 186.0, 307.5 186.7 Q 307.5 187.7, 308.1 188.2 Q 308.8 188.8, 309.9 188.8 \" fill=\"#000000\"/>\n",
       "<path class=\"legend\" d=\"M 321.6 179.8 L 315.7 179.8 L 315.7 178.5 L 323.2 178.5 L 323.2 179.6 L 318.6 189.8 L 317.1 189.8 L 321.6 179.8 \" fill=\"#000000\"/>\n",
       "<path class=\"bond-0 atom-0 atom-1\" d=\"M 495.7,126.4 L 510.2,125.7\" style=\"fill:none;fill-rule:evenodd;stroke:#000000;stroke-width:2.0px;stroke-linecap:butt;stroke-linejoin:miter;stroke-opacity:1\"/>\n",
       "<path class=\"bond-1 atom-1 atom-2\" d=\"M 510.2,125.7 L 518.1,138.0\" style=\"fill:none;fill-rule:evenodd;stroke:#000000;stroke-width:2.0px;stroke-linecap:butt;stroke-linejoin:miter;stroke-opacity:1\"/>\n",
       "<path class=\"bond-2 atom-1 atom-3\" d=\"M 510.2,125.7 L 516.9,112.8\" style=\"fill:none;fill-rule:evenodd;stroke:#000000;stroke-width:2.0px;stroke-linecap:butt;stroke-linejoin:miter;stroke-opacity:1\"/>\n",
       "<path class=\"bond-3 atom-3 atom-4\" d=\"M 516.9,112.8 L 531.3,110.6\" style=\"fill:none;fill-rule:evenodd;stroke:#000000;stroke-width:2.0px;stroke-linecap:butt;stroke-linejoin:miter;stroke-opacity:1\"/>\n",
       "<path class=\"bond-3 atom-3 atom-4\" d=\"M 518.2,110.4 L 529.4,108.7\" style=\"fill:none;fill-rule:evenodd;stroke:#000000;stroke-width:2.0px;stroke-linecap:butt;stroke-linejoin:miter;stroke-opacity:1\"/>\n",
       "<path class=\"bond-4 atom-4 atom-5\" d=\"M 531.3,110.6 L 533.7,96.3\" style=\"fill:none;fill-rule:evenodd;stroke:#000000;stroke-width:2.0px;stroke-linecap:butt;stroke-linejoin:miter;stroke-opacity:1\"/>\n",
       "<path class=\"bond-5 atom-5 atom-6\" d=\"M 533.7,96.3 L 520.8,89.6\" style=\"fill:none;fill-rule:evenodd;stroke:#000000;stroke-width:2.0px;stroke-linecap:butt;stroke-linejoin:miter;stroke-opacity:1\"/>\n",
       "<path class=\"bond-5 atom-5 atom-6\" d=\"M 531.3,97.5 L 521.2,92.2\" style=\"fill:none;fill-rule:evenodd;stroke:#000000;stroke-width:2.0px;stroke-linecap:butt;stroke-linejoin:miter;stroke-opacity:1\"/>\n",
       "<path class=\"bond-6 atom-6 atom-7\" d=\"M 520.8,89.6 L 516.6,93.6\" style=\"fill:none;fill-rule:evenodd;stroke:#000000;stroke-width:2.0px;stroke-linecap:butt;stroke-linejoin:miter;stroke-opacity:1\"/>\n",
       "<path class=\"bond-6 atom-6 atom-7\" d=\"M 516.6,93.6 L 512.5,97.7\" style=\"fill:none;fill-rule:evenodd;stroke:#0000FF;stroke-width:2.0px;stroke-linecap:butt;stroke-linejoin:miter;stroke-opacity:1\"/>\n",
       "<path class=\"bond-7 atom-7 atom-8\" d=\"M 508.3,99.4 L 502.2,98.4\" style=\"fill:none;fill-rule:evenodd;stroke:#0000FF;stroke-width:2.0px;stroke-linecap:butt;stroke-linejoin:miter;stroke-opacity:1\"/>\n",
       "<path class=\"bond-7 atom-7 atom-8\" d=\"M 502.2,98.4 L 496.1,97.4\" style=\"fill:none;fill-rule:evenodd;stroke:#000000;stroke-width:2.0px;stroke-linecap:butt;stroke-linejoin:miter;stroke-opacity:1\"/>\n",
       "<path class=\"bond-8 atom-8 atom-9\" d=\"M 496.1,97.4 L 486.8,108.6\" style=\"fill:none;fill-rule:evenodd;stroke:#000000;stroke-width:2.0px;stroke-linecap:butt;stroke-linejoin:miter;stroke-opacity:1\"/>\n",
       "<path class=\"bond-9 atom-9 atom-10\" d=\"M 486.8,108.6 L 472.5,106.2\" style=\"fill:none;fill-rule:evenodd;stroke:#000000;stroke-width:2.0px;stroke-linecap:butt;stroke-linejoin:miter;stroke-opacity:1\"/>\n",
       "<path class=\"bond-10 atom-10 atom-11\" d=\"M 472.5,106.2 L 463.2,117.5\" style=\"fill:none;fill-rule:evenodd;stroke:#000000;stroke-width:2.0px;stroke-linecap:butt;stroke-linejoin:miter;stroke-opacity:1\"/>\n",
       "<path class=\"bond-11 atom-11 atom-12\" d=\"M 463.2,117.5 L 448.9,115.1\" style=\"fill:none;fill-rule:evenodd;stroke:#000000;stroke-width:2.0px;stroke-linecap:butt;stroke-linejoin:miter;stroke-opacity:1\"/>\n",
       "<path class=\"bond-12 atom-12 atom-13\" d=\"M 448.9,115.1 L 439.6,126.3\" style=\"fill:none;fill-rule:evenodd;stroke:#000000;stroke-width:2.0px;stroke-linecap:butt;stroke-linejoin:miter;stroke-opacity:1\"/>\n",
       "<path class=\"bond-13 atom-13 atom-14\" d=\"M 439.6,126.3 L 425.3,123.9\" style=\"fill:none;fill-rule:evenodd;stroke:#000000;stroke-width:2.0px;stroke-linecap:butt;stroke-linejoin:miter;stroke-opacity:1\"/>\n",
       "<path class=\"bond-14 atom-14 atom-15\" d=\"M 426.5,124.1 L 424.4,118.4\" style=\"fill:none;fill-rule:evenodd;stroke:#000000;stroke-width:2.0px;stroke-linecap:butt;stroke-linejoin:miter;stroke-opacity:1\"/>\n",
       "<path class=\"bond-14 atom-14 atom-15\" d=\"M 424.4,118.4 L 422.2,112.6\" style=\"fill:none;fill-rule:evenodd;stroke:#FF0000;stroke-width:2.0px;stroke-linecap:butt;stroke-linejoin:miter;stroke-opacity:1\"/>\n",
       "<path class=\"bond-14 atom-14 atom-15\" d=\"M 424.5,124.9 L 422.3,119.2\" style=\"fill:none;fill-rule:evenodd;stroke:#000000;stroke-width:2.0px;stroke-linecap:butt;stroke-linejoin:miter;stroke-opacity:1\"/>\n",
       "<path class=\"bond-14 atom-14 atom-15\" d=\"M 422.3,119.2 L 420.2,113.4\" style=\"fill:none;fill-rule:evenodd;stroke:#FF0000;stroke-width:2.0px;stroke-linecap:butt;stroke-linejoin:miter;stroke-opacity:1\"/>\n",
       "<path class=\"bond-15 atom-14 atom-16\" d=\"M 425.3,123.9 L 421.8,128.2\" style=\"fill:none;fill-rule:evenodd;stroke:#000000;stroke-width:2.0px;stroke-linecap:butt;stroke-linejoin:miter;stroke-opacity:1\"/>\n",
       "<path class=\"bond-15 atom-14 atom-16\" d=\"M 421.8,128.2 L 418.2,132.5\" style=\"fill:none;fill-rule:evenodd;stroke:#FF0000;stroke-width:2.0px;stroke-linecap:butt;stroke-linejoin:miter;stroke-opacity:1\"/>\n",
       "<path class=\"bond-16 atom-12 atom-17\" d=\"M 447.2,111.7 L 447.9,111.5\" style=\"fill:none;fill-rule:evenodd;stroke:#000000;stroke-width:1.0px;stroke-linecap:butt;stroke-linejoin:miter;stroke-opacity:1\"/>\n",
       "<path class=\"bond-16 atom-12 atom-17\" d=\"M 445.6,108.4 L 447.0,107.9\" style=\"fill:none;fill-rule:evenodd;stroke:#FF0000;stroke-width:1.0px;stroke-linecap:butt;stroke-linejoin:miter;stroke-opacity:1\"/>\n",
       "<path class=\"bond-16 atom-12 atom-17\" d=\"M 443.9,105.0 L 446.0,104.3\" style=\"fill:none;fill-rule:evenodd;stroke:#FF0000;stroke-width:1.0px;stroke-linecap:butt;stroke-linejoin:miter;stroke-opacity:1\"/>\n",
       "<path class=\"bond-17 atom-10 atom-18\" d=\"M 470.8,102.9 L 471.5,102.6\" style=\"fill:none;fill-rule:evenodd;stroke:#000000;stroke-width:1.0px;stroke-linecap:butt;stroke-linejoin:miter;stroke-opacity:1\"/>\n",
       "<path class=\"bond-17 atom-10 atom-18\" d=\"M 469.2,99.5 L 470.5,99.0\" style=\"fill:none;fill-rule:evenodd;stroke:#FF0000;stroke-width:1.0px;stroke-linecap:butt;stroke-linejoin:miter;stroke-opacity:1\"/>\n",
       "<path class=\"bond-17 atom-10 atom-18\" d=\"M 467.5,96.2 L 469.6,95.4\" style=\"fill:none;fill-rule:evenodd;stroke:#FF0000;stroke-width:1.0px;stroke-linecap:butt;stroke-linejoin:miter;stroke-opacity:1\"/>\n",
       "<path class=\"bond-18 atom-6 atom-19\" d=\"M 520.8,89.6 L 518.6,75.2\" style=\"fill:none;fill-rule:evenodd;stroke:#000000;stroke-width:2.0px;stroke-linecap:butt;stroke-linejoin:miter;stroke-opacity:1\"/>\n",
       "<path class=\"bond-19 atom-19 atom-20\" d=\"M 518.6,75.2 L 530.0,66.1\" style=\"fill:none;fill-rule:evenodd;stroke:#000000;stroke-width:2.0px;stroke-linecap:butt;stroke-linejoin:miter;stroke-opacity:1\"/>\n",
       "<path class=\"bond-19 atom-19 atom-20\" d=\"M 518.2,72.7 L 527.7,65.2\" style=\"fill:none;fill-rule:evenodd;stroke:#000000;stroke-width:2.0px;stroke-linecap:butt;stroke-linejoin:miter;stroke-opacity:1\"/>\n",
       "<path class=\"bond-20 atom-20 atom-21\" d=\"M 530.0,66.1 L 527.8,51.7\" style=\"fill:none;fill-rule:evenodd;stroke:#000000;stroke-width:2.0px;stroke-linecap:butt;stroke-linejoin:miter;stroke-opacity:1\"/>\n",
       "<path class=\"bond-21 atom-21 atom-22\" d=\"M 527.8,51.7 L 514.3,46.4\" style=\"fill:none;fill-rule:evenodd;stroke:#000000;stroke-width:2.0px;stroke-linecap:butt;stroke-linejoin:miter;stroke-opacity:1\"/>\n",
       "<path class=\"bond-21 atom-21 atom-22\" d=\"M 525.9,53.3 L 514.7,48.9\" style=\"fill:none;fill-rule:evenodd;stroke:#000000;stroke-width:2.0px;stroke-linecap:butt;stroke-linejoin:miter;stroke-opacity:1\"/>\n",
       "<path class=\"bond-22 atom-22 atom-23\" d=\"M 514.3,46.4 L 502.9,55.5\" style=\"fill:none;fill-rule:evenodd;stroke:#000000;stroke-width:2.0px;stroke-linecap:butt;stroke-linejoin:miter;stroke-opacity:1\"/>\n",
       "<path class=\"bond-23 atom-23 atom-24\" d=\"M 502.9,55.5 L 505.1,69.9\" style=\"fill:none;fill-rule:evenodd;stroke:#000000;stroke-width:2.0px;stroke-linecap:butt;stroke-linejoin:miter;stroke-opacity:1\"/>\n",
       "<path class=\"bond-23 atom-23 atom-24\" d=\"M 505.3,56.4 L 507.0,68.3\" style=\"fill:none;fill-rule:evenodd;stroke:#000000;stroke-width:2.0px;stroke-linecap:butt;stroke-linejoin:miter;stroke-opacity:1\"/>\n",
       "<path class=\"bond-24 atom-22 atom-25\" d=\"M 514.3,46.4 L 513.4,40.5\" style=\"fill:none;fill-rule:evenodd;stroke:#000000;stroke-width:2.0px;stroke-linecap:butt;stroke-linejoin:miter;stroke-opacity:1\"/>\n",
       "<path class=\"bond-24 atom-22 atom-25\" d=\"M 513.4,40.5 L 512.5,34.6\" style=\"fill:none;fill-rule:evenodd;stroke:#33CCCC;stroke-width:2.0px;stroke-linecap:butt;stroke-linejoin:miter;stroke-opacity:1\"/>\n",
       "<path class=\"bond-25 atom-5 atom-26\" d=\"M 533.7,96.3 L 546.7,89.8\" style=\"fill:none;fill-rule:evenodd;stroke:#000000;stroke-width:2.0px;stroke-linecap:butt;stroke-linejoin:miter;stroke-opacity:1\"/>\n",
       "<path class=\"bond-26 atom-26 atom-27\" d=\"M 546.7,89.8 L 558.8,97.8\" style=\"fill:none;fill-rule:evenodd;stroke:#000000;stroke-width:2.0px;stroke-linecap:butt;stroke-linejoin:miter;stroke-opacity:1\"/>\n",
       "<path class=\"bond-26 atom-26 atom-27\" d=\"M 549.0,88.6 L 559.0,95.3\" style=\"fill:none;fill-rule:evenodd;stroke:#000000;stroke-width:2.0px;stroke-linecap:butt;stroke-linejoin:miter;stroke-opacity:1\"/>\n",
       "<path class=\"bond-27 atom-27 atom-28\" d=\"M 558.8,97.8 L 571.9,91.3\" style=\"fill:none;fill-rule:evenodd;stroke:#000000;stroke-width:2.0px;stroke-linecap:butt;stroke-linejoin:miter;stroke-opacity:1\"/>\n",
       "<path class=\"bond-28 atom-28 atom-29\" d=\"M 571.9,91.3 L 572.7,76.8\" style=\"fill:none;fill-rule:evenodd;stroke:#000000;stroke-width:2.0px;stroke-linecap:butt;stroke-linejoin:miter;stroke-opacity:1\"/>\n",
       "<path class=\"bond-28 atom-28 atom-29\" d=\"M 569.8,89.9 L 570.5,77.9\" style=\"fill:none;fill-rule:evenodd;stroke:#000000;stroke-width:2.0px;stroke-linecap:butt;stroke-linejoin:miter;stroke-opacity:1\"/>\n",
       "<path class=\"bond-29 atom-29 atom-30\" d=\"M 572.7,76.8 L 560.6,68.7\" style=\"fill:none;fill-rule:evenodd;stroke:#000000;stroke-width:2.0px;stroke-linecap:butt;stroke-linejoin:miter;stroke-opacity:1\"/>\n",
       "<path class=\"bond-30 atom-30 atom-31\" d=\"M 560.6,68.7 L 547.6,75.3\" style=\"fill:none;fill-rule:evenodd;stroke:#000000;stroke-width:2.0px;stroke-linecap:butt;stroke-linejoin:miter;stroke-opacity:1\"/>\n",
       "<path class=\"bond-30 atom-30 atom-31\" d=\"M 560.4,71.3 L 549.7,76.6\" style=\"fill:none;fill-rule:evenodd;stroke:#000000;stroke-width:2.0px;stroke-linecap:butt;stroke-linejoin:miter;stroke-opacity:1\"/>\n",
       "<path class=\"bond-31 atom-4 atom-32\" d=\"M 531.3,110.6 L 541.5,121.0\" style=\"fill:none;fill-rule:evenodd;stroke:#000000;stroke-width:2.0px;stroke-linecap:butt;stroke-linejoin:miter;stroke-opacity:1\"/>\n",
       "<path class=\"bond-32 atom-32 atom-33\" d=\"M 540.6,120.1 L 539.0,126.1\" style=\"fill:none;fill-rule:evenodd;stroke:#000000;stroke-width:2.0px;stroke-linecap:butt;stroke-linejoin:miter;stroke-opacity:1\"/>\n",
       "<path class=\"bond-32 atom-32 atom-33\" d=\"M 539.0,126.1 L 537.3,132.1\" style=\"fill:none;fill-rule:evenodd;stroke:#FF0000;stroke-width:2.0px;stroke-linecap:butt;stroke-linejoin:miter;stroke-opacity:1\"/>\n",
       "<path class=\"bond-32 atom-32 atom-33\" d=\"M 542.7,120.7 L 541.1,126.7\" style=\"fill:none;fill-rule:evenodd;stroke:#000000;stroke-width:2.0px;stroke-linecap:butt;stroke-linejoin:miter;stroke-opacity:1\"/>\n",
       "<path class=\"bond-32 atom-32 atom-33\" d=\"M 541.1,126.7 L 539.4,132.7\" style=\"fill:none;fill-rule:evenodd;stroke:#FF0000;stroke-width:2.0px;stroke-linecap:butt;stroke-linejoin:miter;stroke-opacity:1\"/>\n",
       "<path class=\"bond-33 atom-32 atom-34\" d=\"M 541.5,121.0 L 547.5,119.4\" style=\"fill:none;fill-rule:evenodd;stroke:#000000;stroke-width:2.0px;stroke-linecap:butt;stroke-linejoin:miter;stroke-opacity:1\"/>\n",
       "<path class=\"bond-33 atom-32 atom-34\" d=\"M 547.5,119.4 L 553.5,117.9\" style=\"fill:none;fill-rule:evenodd;stroke:#0000FF;stroke-width:2.0px;stroke-linecap:butt;stroke-linejoin:miter;stroke-opacity:1\"/>\n",
       "<path class=\"bond-34 atom-34 atom-35\" d=\"M 557.7,119.5 L 561.7,123.6\" style=\"fill:none;fill-rule:evenodd;stroke:#0000FF;stroke-width:2.0px;stroke-linecap:butt;stroke-linejoin:miter;stroke-opacity:1\"/>\n",
       "<path class=\"bond-34 atom-34 atom-35\" d=\"M 561.7,123.6 L 565.8,127.7\" style=\"fill:none;fill-rule:evenodd;stroke:#000000;stroke-width:2.0px;stroke-linecap:butt;stroke-linejoin:miter;stroke-opacity:1\"/>\n",
       "<path class=\"bond-35 atom-35 atom-36\" d=\"M 565.8,127.7 L 561.9,141.7\" style=\"fill:none;fill-rule:evenodd;stroke:#000000;stroke-width:2.0px;stroke-linecap:butt;stroke-linejoin:miter;stroke-opacity:1\"/>\n",
       "<path class=\"bond-35 atom-35 atom-36\" d=\"M 567.6,129.5 L 564.4,141.1\" style=\"fill:none;fill-rule:evenodd;stroke:#000000;stroke-width:2.0px;stroke-linecap:butt;stroke-linejoin:miter;stroke-opacity:1\"/>\n",
       "<path class=\"bond-36 atom-36 atom-37\" d=\"M 561.9,141.7 L 572.1,152.1\" style=\"fill:none;fill-rule:evenodd;stroke:#000000;stroke-width:2.0px;stroke-linecap:butt;stroke-linejoin:miter;stroke-opacity:1\"/>\n",
       "<path class=\"bond-37 atom-37 atom-38\" d=\"M 572.1,152.1 L 586.2,148.4\" style=\"fill:none;fill-rule:evenodd;stroke:#000000;stroke-width:2.0px;stroke-linecap:butt;stroke-linejoin:miter;stroke-opacity:1\"/>\n",
       "<path class=\"bond-37 atom-37 atom-38\" d=\"M 572.8,149.7 L 584.5,146.6\" style=\"fill:none;fill-rule:evenodd;stroke:#000000;stroke-width:2.0px;stroke-linecap:butt;stroke-linejoin:miter;stroke-opacity:1\"/>\n",
       "<path class=\"bond-38 atom-38 atom-39\" d=\"M 586.2,148.4 L 590.1,134.4\" style=\"fill:none;fill-rule:evenodd;stroke:#000000;stroke-width:2.0px;stroke-linecap:butt;stroke-linejoin:miter;stroke-opacity:1\"/>\n",
       "<path class=\"bond-39 atom-39 atom-40\" d=\"M 590.1,134.4 L 579.9,124.0\" style=\"fill:none;fill-rule:evenodd;stroke:#000000;stroke-width:2.0px;stroke-linecap:butt;stroke-linejoin:miter;stroke-opacity:1\"/>\n",
       "<path class=\"bond-39 atom-39 atom-40\" d=\"M 587.7,135.0 L 579.2,126.5\" style=\"fill:none;fill-rule:evenodd;stroke:#000000;stroke-width:2.0px;stroke-linecap:butt;stroke-linejoin:miter;stroke-opacity:1\"/>\n",
       "<path class=\"bond-40 atom-7 atom-3\" d=\"M 511.7,102.4 L 514.3,107.6\" style=\"fill:none;fill-rule:evenodd;stroke:#0000FF;stroke-width:2.0px;stroke-linecap:butt;stroke-linejoin:miter;stroke-opacity:1\"/>\n",
       "<path class=\"bond-40 atom-7 atom-3\" d=\"M 514.3,107.6 L 516.9,112.8\" style=\"fill:none;fill-rule:evenodd;stroke:#000000;stroke-width:2.0px;stroke-linecap:butt;stroke-linejoin:miter;stroke-opacity:1\"/>\n",
       "<path class=\"bond-41 atom-24 atom-19\" d=\"M 505.1,69.9 L 518.6,75.2\" style=\"fill:none;fill-rule:evenodd;stroke:#000000;stroke-width:2.0px;stroke-linecap:butt;stroke-linejoin:miter;stroke-opacity:1\"/>\n",
       "<path class=\"bond-42 atom-31 atom-26\" d=\"M 547.6,75.3 L 546.7,89.8\" style=\"fill:none;fill-rule:evenodd;stroke:#000000;stroke-width:2.0px;stroke-linecap:butt;stroke-linejoin:miter;stroke-opacity:1\"/>\n",
       "<path class=\"bond-43 atom-40 atom-35\" d=\"M 579.9,124.0 L 565.8,127.7\" style=\"fill:none;fill-rule:evenodd;stroke:#000000;stroke-width:2.0px;stroke-linecap:butt;stroke-linejoin:miter;stroke-opacity:1\"/>\n",
       "<path d=\"M 496.4,97.4 L 496.1,97.4 L 495.6,98.0\" style=\"fill:none;stroke:#000000;stroke-width:2.0px;stroke-linecap:butt;stroke-linejoin:miter;stroke-opacity:1;\"/>\n",
       "<path d=\"M 487.3,108.1 L 486.8,108.6 L 486.1,108.5\" style=\"fill:none;stroke:#000000;stroke-width:2.0px;stroke-linecap:butt;stroke-linejoin:miter;stroke-opacity:1;\"/>\n",
       "<path d=\"M 473.2,106.4 L 472.5,106.2 L 472.0,106.8\" style=\"fill:none;stroke:#000000;stroke-width:2.0px;stroke-linecap:butt;stroke-linejoin:miter;stroke-opacity:1;\"/>\n",
       "<path d=\"M 463.7,116.9 L 463.2,117.5 L 462.5,117.4\" style=\"fill:none;stroke:#000000;stroke-width:2.0px;stroke-linecap:butt;stroke-linejoin:miter;stroke-opacity:1;\"/>\n",
       "<path d=\"M 449.6,115.2 L 448.9,115.1 L 448.4,115.7\" style=\"fill:none;stroke:#000000;stroke-width:2.0px;stroke-linecap:butt;stroke-linejoin:miter;stroke-opacity:1;\"/>\n",
       "<path d=\"M 440.1,125.8 L 439.6,126.3 L 438.9,126.2\" style=\"fill:none;stroke:#000000;stroke-width:2.0px;stroke-linecap:butt;stroke-linejoin:miter;stroke-opacity:1;\"/>\n",
       "<path d=\"M 426.0,124.1 L 425.3,123.9 L 425.1,124.2\" style=\"fill:none;stroke:#000000;stroke-width:2.0px;stroke-linecap:butt;stroke-linejoin:miter;stroke-opacity:1;\"/>\n",
       "<path d=\"M 529.4,66.6 L 530.0,66.1 L 529.9,65.4\" style=\"fill:none;stroke:#000000;stroke-width:2.0px;stroke-linecap:butt;stroke-linejoin:miter;stroke-opacity:1;\"/>\n",
       "<path d=\"M 527.9,52.5 L 527.8,51.7 L 527.2,51.5\" style=\"fill:none;stroke:#000000;stroke-width:2.0px;stroke-linecap:butt;stroke-linejoin:miter;stroke-opacity:1;\"/>\n",
       "<path d=\"M 503.5,55.0 L 502.9,55.5 L 503.0,56.2\" style=\"fill:none;stroke:#000000;stroke-width:2.0px;stroke-linecap:butt;stroke-linejoin:miter;stroke-opacity:1;\"/>\n",
       "<path d=\"M 505.0,69.2 L 505.1,69.9 L 505.8,70.1\" style=\"fill:none;stroke:#000000;stroke-width:2.0px;stroke-linecap:butt;stroke-linejoin:miter;stroke-opacity:1;\"/>\n",
       "<path d=\"M 558.2,97.4 L 558.8,97.8 L 559.5,97.5\" style=\"fill:none;stroke:#000000;stroke-width:2.0px;stroke-linecap:butt;stroke-linejoin:miter;stroke-opacity:1;\"/>\n",
       "<path d=\"M 571.2,91.6 L 571.9,91.3 L 571.9,90.6\" style=\"fill:none;stroke:#000000;stroke-width:2.0px;stroke-linecap:butt;stroke-linejoin:miter;stroke-opacity:1;\"/>\n",
       "<path d=\"M 572.7,77.5 L 572.7,76.8 L 572.1,76.4\" style=\"fill:none;stroke:#000000;stroke-width:2.0px;stroke-linecap:butt;stroke-linejoin:miter;stroke-opacity:1;\"/>\n",
       "<path d=\"M 561.2,69.1 L 560.6,68.7 L 559.9,69.1\" style=\"fill:none;stroke:#000000;stroke-width:2.0px;stroke-linecap:butt;stroke-linejoin:miter;stroke-opacity:1;\"/>\n",
       "<path d=\"M 548.2,74.9 L 547.6,75.3 L 547.5,76.0\" style=\"fill:none;stroke:#000000;stroke-width:2.0px;stroke-linecap:butt;stroke-linejoin:miter;stroke-opacity:1;\"/>\n",
       "<path d=\"M 541.0,120.5 L 541.5,121.0 L 541.8,120.9\" style=\"fill:none;stroke:#000000;stroke-width:2.0px;stroke-linecap:butt;stroke-linejoin:miter;stroke-opacity:1;\"/>\n",
       "<path d=\"M 562.1,141.0 L 561.9,141.7 L 562.4,142.2\" style=\"fill:none;stroke:#000000;stroke-width:2.0px;stroke-linecap:butt;stroke-linejoin:miter;stroke-opacity:1;\"/>\n",
       "<path d=\"M 571.6,151.6 L 572.1,152.1 L 572.8,151.9\" style=\"fill:none;stroke:#000000;stroke-width:2.0px;stroke-linecap:butt;stroke-linejoin:miter;stroke-opacity:1;\"/>\n",
       "<path d=\"M 585.5,148.6 L 586.2,148.4 L 586.4,147.7\" style=\"fill:none;stroke:#000000;stroke-width:2.0px;stroke-linecap:butt;stroke-linejoin:miter;stroke-opacity:1;\"/>\n",
       "<path d=\"M 589.9,135.1 L 590.1,134.4 L 589.6,133.9\" style=\"fill:none;stroke:#000000;stroke-width:2.0px;stroke-linecap:butt;stroke-linejoin:miter;stroke-opacity:1;\"/>\n",
       "<path d=\"M 580.4,124.6 L 579.9,124.0 L 579.2,124.2\" style=\"fill:none;stroke:#000000;stroke-width:2.0px;stroke-linecap:butt;stroke-linejoin:miter;stroke-opacity:1;\"/>\n",
       "<path class=\"atom-7\" d=\"M 509.5 97.7 L 510.9 99.9 Q 511.0 100.1, 511.2 100.5 Q 511.5 100.9, 511.5 101.0 L 511.5 97.7 L 512.0 97.7 L 512.0 101.9 L 511.4 101.9 L 510.0 99.4 Q 509.8 99.2, 509.6 98.8 Q 509.4 98.5, 509.4 98.4 L 509.4 101.9 L 508.8 101.9 L 508.8 97.7 L 509.5 97.7 \" fill=\"#0000FF\"/>\n",
       "<path class=\"atom-15\" d=\"M 418.2 110.3 Q 418.2 109.3, 418.7 108.7 Q 419.2 108.2, 420.2 108.2 Q 421.1 108.2, 421.6 108.7 Q 422.1 109.3, 422.1 110.3 Q 422.1 111.4, 421.6 112.0 Q 421.1 112.5, 420.2 112.5 Q 419.2 112.5, 418.7 112.0 Q 418.2 111.4, 418.2 110.3 M 420.2 112.1 Q 420.8 112.1, 421.2 111.6 Q 421.5 111.2, 421.5 110.3 Q 421.5 109.5, 421.2 109.1 Q 420.8 108.7, 420.2 108.7 Q 419.5 108.7, 419.2 109.1 Q 418.8 109.5, 418.8 110.3 Q 418.8 111.2, 419.2 111.6 Q 419.5 112.1, 420.2 112.1 \" fill=\"#FF0000\"/>\n",
       "<path class=\"atom-16\" d=\"M 409.9 133.1 L 410.5 133.1 L 410.5 134.9 L 412.7 134.9 L 412.7 133.1 L 413.2 133.1 L 413.2 137.3 L 412.7 137.3 L 412.7 135.4 L 410.5 135.4 L 410.5 137.3 L 409.9 137.3 L 409.9 133.1 \" fill=\"#FF0000\"/>\n",
       "<path class=\"atom-16\" d=\"M 414.1 135.2 Q 414.1 134.2, 414.6 133.6 Q 415.1 133.0, 416.1 133.0 Q 417.0 133.0, 417.5 133.6 Q 418.0 134.2, 418.0 135.2 Q 418.0 136.2, 417.5 136.8 Q 417.0 137.4, 416.1 137.4 Q 415.1 137.4, 414.6 136.8 Q 414.1 136.2, 414.1 135.2 M 416.1 136.9 Q 416.7 136.9, 417.0 136.5 Q 417.4 136.0, 417.4 135.2 Q 417.4 134.4, 417.0 133.9 Q 416.7 133.5, 416.1 133.5 Q 415.4 133.5, 415.1 133.9 Q 414.7 134.3, 414.7 135.2 Q 414.7 136.0, 415.1 136.5 Q 415.4 136.9, 416.1 136.9 \" fill=\"#FF0000\"/>\n",
       "<path class=\"atom-17\" d=\"M 437.6 99.4 L 438.2 99.4 L 438.2 101.2 L 440.4 101.2 L 440.4 99.4 L 441.0 99.4 L 441.0 103.6 L 440.4 103.6 L 440.4 101.7 L 438.2 101.7 L 438.2 103.6 L 437.6 103.6 L 437.6 99.4 \" fill=\"#FF0000\"/>\n",
       "<path class=\"atom-17\" d=\"M 441.8 101.5 Q 441.8 100.5, 442.3 99.9 Q 442.8 99.3, 443.8 99.3 Q 444.7 99.3, 445.2 99.9 Q 445.7 100.5, 445.7 101.5 Q 445.7 102.5, 445.2 103.1 Q 444.7 103.7, 443.8 103.7 Q 442.8 103.7, 442.3 103.1 Q 441.8 102.5, 441.8 101.5 M 443.8 103.2 Q 444.4 103.2, 444.8 102.8 Q 445.1 102.3, 445.1 101.5 Q 445.1 100.7, 444.8 100.2 Q 444.4 99.8, 443.8 99.8 Q 443.1 99.8, 442.8 100.2 Q 442.4 100.6, 442.4 101.5 Q 442.4 102.3, 442.8 102.8 Q 443.1 103.2, 443.8 103.2 \" fill=\"#FF0000\"/>\n",
       "<path class=\"atom-18\" d=\"M 461.2 90.5 L 461.8 90.5 L 461.8 92.3 L 464.0 92.3 L 464.0 90.5 L 464.5 90.5 L 464.5 94.8 L 464.0 94.8 L 464.0 92.8 L 461.8 92.8 L 461.8 94.8 L 461.2 94.8 L 461.2 90.5 \" fill=\"#FF0000\"/>\n",
       "<path class=\"atom-18\" d=\"M 465.4 92.6 Q 465.4 91.6, 465.9 91.0 Q 466.4 90.5, 467.4 90.5 Q 468.3 90.5, 468.8 91.0 Q 469.3 91.6, 469.3 92.6 Q 469.3 93.7, 468.8 94.3 Q 468.3 94.8, 467.4 94.8 Q 466.4 94.8, 465.9 94.3 Q 465.4 93.7, 465.4 92.6 M 467.4 94.4 Q 468.0 94.4, 468.4 93.9 Q 468.7 93.5, 468.7 92.6 Q 468.7 91.8, 468.4 91.4 Q 468.0 91.0, 467.4 91.0 Q 466.7 91.0, 466.4 91.4 Q 466.0 91.8, 466.0 92.6 Q 466.0 93.5, 466.4 93.9 Q 466.7 94.4, 467.4 94.4 \" fill=\"#FF0000\"/>\n",
       "<path class=\"atom-25\" d=\"M 510.9 29.9 L 513.4 29.9 L 513.4 30.4 L 511.4 30.4 L 511.4 31.7 L 513.2 31.7 L 513.2 32.2 L 511.4 32.2 L 511.4 34.2 L 510.9 34.2 L 510.9 29.9 \" fill=\"#33CCCC\"/>\n",
       "<path class=\"atom-33\" d=\"M 535.7 135.0 Q 535.7 134.0, 536.2 133.4 Q 536.7 132.9, 537.6 132.9 Q 538.6 132.9, 539.1 133.4 Q 539.6 134.0, 539.6 135.0 Q 539.6 136.1, 539.1 136.6 Q 538.6 137.2, 537.6 137.2 Q 536.7 137.2, 536.2 136.6 Q 535.7 136.1, 535.7 135.0 M 537.6 136.8 Q 538.3 136.8, 538.6 136.3 Q 539.0 135.9, 539.0 135.0 Q 539.0 134.2, 538.6 133.8 Q 538.3 133.3, 537.6 133.3 Q 537.0 133.3, 536.6 133.8 Q 536.3 134.2, 536.3 135.0 Q 536.3 135.9, 536.6 136.3 Q 537.0 136.8, 537.6 136.8 \" fill=\"#FF0000\"/>\n",
       "<path class=\"atom-34\" d=\"M 554.7 115.2 L 556.1 117.5 Q 556.2 117.7, 556.4 118.1 Q 556.6 118.5, 556.6 118.5 L 556.6 115.2 L 557.2 115.2 L 557.2 119.5 L 556.6 119.5 L 555.1 117.0 Q 555.0 116.7, 554.8 116.4 Q 554.6 116.1, 554.5 116.0 L 554.5 119.5 L 554.0 119.5 L 554.0 115.2 L 554.7 115.2 \" fill=\"#0000FF\"/>\n",
       "<path class=\"atom-34\" d=\"M 553.9 110.5 L 554.5 110.5 L 554.5 112.3 L 556.7 112.3 L 556.7 110.5 L 557.3 110.5 L 557.3 114.8 L 556.7 114.8 L 556.7 112.8 L 554.5 112.8 L 554.5 114.8 L 553.9 114.8 L 553.9 110.5 \" fill=\"#0000FF\"/>\n",
       "<path class=\"legend\" d=\"M 481.2 182.8 Q 482.2 182.8, 483.0 183.2 Q 483.8 183.6, 484.2 184.4 Q 484.6 185.2, 484.6 186.2 Q 484.6 187.3, 484.1 188.2 Q 483.7 189.0, 482.8 189.5 Q 481.9 190.0, 480.8 190.0 Q 478.8 190.0, 477.8 188.6 Q 476.8 187.2, 476.8 184.5 Q 476.8 181.5, 478.0 180.0 Q 479.3 178.4, 481.7 178.4 Q 482.4 178.4, 483.0 178.5 Q 483.6 178.7, 484.2 179.0 L 483.6 180.1 Q 482.7 179.7, 481.7 179.7 Q 480.1 179.7, 479.3 180.7 Q 478.5 181.7, 478.4 183.9 Q 479.0 183.3, 479.7 183.1 Q 480.4 182.8, 481.2 182.8 M 480.8 188.7 Q 481.5 188.7, 482.0 188.3 Q 482.5 188.0, 482.8 187.5 Q 483.0 186.9, 483.0 186.2 Q 483.0 185.2, 482.5 184.6 Q 481.9 184.0, 480.9 184.0 Q 480.2 184.0, 479.6 184.3 Q 478.9 184.6, 478.4 185.1 Q 478.5 187.0, 479.1 187.8 Q 479.6 188.7, 480.8 188.7 \" fill=\"#000000\"/>\n",
       "<path class=\"legend\" d=\"M 490.5 190.0 Q 488.4 190.0, 487.3 188.4 Q 486.3 186.9, 486.3 184.2 Q 486.3 181.4, 487.3 179.9 Q 488.4 178.4, 490.5 178.4 Q 492.5 178.4, 493.6 179.9 Q 494.6 181.4, 494.6 184.2 Q 494.6 186.9, 493.6 188.4 Q 492.5 190.0, 490.5 190.0 M 490.5 188.7 Q 491.7 188.7, 492.3 187.6 Q 493.0 186.4, 493.0 184.2 Q 493.0 181.9, 492.3 180.8 Q 491.7 179.7, 490.5 179.7 Q 489.2 179.7, 488.6 180.8 Q 487.9 181.9, 487.9 184.2 Q 487.9 186.4, 488.6 187.6 Q 489.2 188.7, 490.5 188.7 \" fill=\"#000000\"/>\n",
       "<path class=\"legend\" d=\"M 502.2 183.8 Q 503.2 184.3, 503.8 185.0 Q 504.4 185.6, 504.4 186.7 Q 504.4 187.7, 503.9 188.4 Q 503.4 189.2, 502.5 189.6 Q 501.7 190.0, 500.5 190.0 Q 498.6 190.0, 497.5 189.1 Q 496.4 188.3, 496.4 186.7 Q 496.4 185.8, 496.9 185.1 Q 497.4 184.4, 498.4 183.9 Q 497.6 183.5, 497.2 182.9 Q 496.8 182.2, 496.8 181.3 Q 496.8 180.0, 497.8 179.2 Q 498.8 178.4, 500.4 178.4 Q 502.1 178.4, 503.0 179.2 Q 504.0 180.0, 504.0 181.3 Q 504.0 182.1, 503.5 182.7 Q 503.1 183.3, 502.2 183.8 M 500.4 179.6 Q 499.5 179.6, 499.0 180.0 Q 498.4 180.5, 498.4 181.3 Q 498.4 181.9, 498.8 182.3 Q 499.1 182.7, 499.6 182.9 Q 500.2 183.1, 501.1 183.4 Q 501.8 183.0, 502.1 182.4 Q 502.4 181.9, 502.4 181.3 Q 502.4 180.5, 501.9 180.0 Q 501.4 179.6, 500.4 179.6 M 500.5 188.8 Q 501.5 188.8, 502.2 188.2 Q 502.8 187.7, 502.8 186.7 Q 502.8 186.1, 502.5 185.7 Q 502.2 185.3, 501.6 185.1 Q 501.1 184.9, 500.2 184.6 L 499.5 184.4 Q 498.7 184.8, 498.4 185.4 Q 498.0 186.0, 498.0 186.7 Q 498.0 187.7, 498.7 188.2 Q 499.4 188.8, 500.5 188.8 \" fill=\"#000000\"/>\n",
       "<path class=\"legend\" d=\"M 506.3 180.7 Q 506.7 179.6, 507.7 179.0 Q 508.7 178.4, 510.0 178.4 Q 511.7 178.4, 512.7 179.3 Q 513.7 180.2, 513.7 181.9 Q 513.7 183.6, 512.4 185.1 Q 511.2 186.7, 508.6 188.6 L 513.9 188.6 L 513.9 189.8 L 506.2 189.8 L 506.2 188.8 Q 508.3 187.3, 509.6 186.1 Q 510.8 185.0, 511.5 184.0 Q 512.1 183.0, 512.1 182.0 Q 512.1 180.9, 511.5 180.3 Q 511.0 179.7, 510.0 179.7 Q 509.1 179.7, 508.5 180.0 Q 507.9 180.4, 507.5 181.2 L 506.3 180.7 \" fill=\"#000000\"/>\n",
       "<path class=\"legend\" d=\"M 521.0 183.9 Q 522.1 184.2, 522.7 184.9 Q 523.2 185.6, 523.2 186.7 Q 523.2 187.7, 522.7 188.4 Q 522.3 189.2, 521.4 189.6 Q 520.5 190.0, 519.3 190.0 Q 518.1 190.0, 517.2 189.6 Q 516.3 189.2, 515.6 188.3 L 516.5 187.4 Q 517.2 188.1, 517.8 188.4 Q 518.4 188.7, 519.3 188.7 Q 520.4 188.7, 521.0 188.2 Q 521.6 187.6, 521.6 186.7 Q 521.6 185.6, 521.0 185.1 Q 520.3 184.5, 518.9 184.5 L 518.1 184.5 L 518.1 183.4 L 518.8 183.4 Q 520.1 183.4, 520.7 182.8 Q 521.4 182.3, 521.4 181.3 Q 521.4 180.5, 520.8 180.1 Q 520.3 179.7, 519.4 179.7 Q 518.4 179.7, 517.8 180.0 Q 517.2 180.3, 516.8 181.2 L 515.7 180.6 Q 516.1 179.6, 517.1 179.0 Q 518.0 178.4, 519.4 178.4 Q 521.0 178.4, 522.0 179.2 Q 523.0 180.0, 523.0 181.3 Q 523.0 182.2, 522.5 182.8 Q 522.0 183.5, 521.0 183.9 \" fill=\"#000000\"/>\n",
       "<path class=\"bond-0 atom-0 atom-1\" d=\"M 725.0,142.8 L 721.9,128.6\" style=\"fill:none;fill-rule:evenodd;stroke:#000000;stroke-width:2.0px;stroke-linecap:butt;stroke-linejoin:miter;stroke-opacity:1\"/>\n",
       "<path class=\"bond-1 atom-1 atom-2\" d=\"M 721.9,128.6 L 708.0,124.2\" style=\"fill:none;fill-rule:evenodd;stroke:#000000;stroke-width:2.0px;stroke-linecap:butt;stroke-linejoin:miter;stroke-opacity:1\"/>\n",
       "<path class=\"bond-2 atom-1 atom-3\" d=\"M 721.9,128.6 L 726.2,124.7\" style=\"fill:none;fill-rule:evenodd;stroke:#000000;stroke-width:2.0px;stroke-linecap:butt;stroke-linejoin:miter;stroke-opacity:1\"/>\n",
       "<path class=\"bond-2 atom-1 atom-3\" d=\"M 726.2,124.7 L 730.5,120.7\" style=\"fill:none;fill-rule:evenodd;stroke:#0000FF;stroke-width:2.0px;stroke-linecap:butt;stroke-linejoin:miter;stroke-opacity:1\"/>\n",
       "<path class=\"bond-3 atom-3 atom-4\" d=\"M 734.7,119.2 L 740.8,120.5\" style=\"fill:none;fill-rule:evenodd;stroke:#0000FF;stroke-width:2.0px;stroke-linecap:butt;stroke-linejoin:miter;stroke-opacity:1\"/>\n",
       "<path class=\"bond-3 atom-3 atom-4\" d=\"M 740.8,120.5 L 746.9,121.7\" style=\"fill:none;fill-rule:evenodd;stroke:#000000;stroke-width:2.0px;stroke-linecap:butt;stroke-linejoin:miter;stroke-opacity:1\"/>\n",
       "<path class=\"bond-4 atom-4 atom-5\" d=\"M 746.9,121.7 L 754.2,134.2\" style=\"fill:none;fill-rule:evenodd;stroke:#000000;stroke-width:2.0px;stroke-linecap:butt;stroke-linejoin:miter;stroke-opacity:1\"/>\n",
       "<path class=\"bond-4 atom-4 atom-5\" d=\"M 749.4,121.7 L 755.5,132.0\" style=\"fill:none;fill-rule:evenodd;stroke:#000000;stroke-width:2.0px;stroke-linecap:butt;stroke-linejoin:miter;stroke-opacity:1\"/>\n",
       "<path class=\"bond-5 atom-5 atom-6\" d=\"M 754.2,134.2 L 768.8,134.1\" style=\"fill:none;fill-rule:evenodd;stroke:#000000;stroke-width:2.0px;stroke-linecap:butt;stroke-linejoin:miter;stroke-opacity:1\"/>\n",
       "<path class=\"bond-6 atom-6 atom-7\" d=\"M 768.8,134.1 L 776.0,121.5\" style=\"fill:none;fill-rule:evenodd;stroke:#000000;stroke-width:2.0px;stroke-linecap:butt;stroke-linejoin:miter;stroke-opacity:1\"/>\n",
       "<path class=\"bond-6 atom-6 atom-7\" d=\"M 767.5,131.9 L 773.4,121.5\" style=\"fill:none;fill-rule:evenodd;stroke:#000000;stroke-width:2.0px;stroke-linecap:butt;stroke-linejoin:miter;stroke-opacity:1\"/>\n",
       "<path class=\"bond-7 atom-7 atom-8\" d=\"M 776.0,121.5 L 768.6,108.9\" style=\"fill:none;fill-rule:evenodd;stroke:#000000;stroke-width:2.0px;stroke-linecap:butt;stroke-linejoin:miter;stroke-opacity:1\"/>\n",
       "<path class=\"bond-8 atom-8 atom-9\" d=\"M 768.6,108.9 L 754.0,109.0\" style=\"fill:none;fill-rule:evenodd;stroke:#000000;stroke-width:2.0px;stroke-linecap:butt;stroke-linejoin:miter;stroke-opacity:1\"/>\n",
       "<path class=\"bond-8 atom-8 atom-9\" d=\"M 767.3,111.1 L 755.3,111.2\" style=\"fill:none;fill-rule:evenodd;stroke:#000000;stroke-width:2.0px;stroke-linecap:butt;stroke-linejoin:miter;stroke-opacity:1\"/>\n",
       "<path class=\"bond-9 atom-9 atom-10\" d=\"M 754.0,109.0 L 744.2,98.3\" style=\"fill:none;fill-rule:evenodd;stroke:#000000;stroke-width:2.0px;stroke-linecap:butt;stroke-linejoin:miter;stroke-opacity:1\"/>\n",
       "<path class=\"bond-10 atom-10 atom-11\" d=\"M 744.2,98.3 L 731.0,104.3\" style=\"fill:none;fill-rule:evenodd;stroke:#000000;stroke-width:2.0px;stroke-linecap:butt;stroke-linejoin:miter;stroke-opacity:1\"/>\n",
       "<path class=\"bond-10 atom-10 atom-11\" d=\"M 743.7,101.0 L 733.3,105.7\" style=\"fill:none;fill-rule:evenodd;stroke:#000000;stroke-width:2.0px;stroke-linecap:butt;stroke-linejoin:miter;stroke-opacity:1\"/>\n",
       "<path class=\"bond-11 atom-11 atom-12\" d=\"M 731.0,104.3 L 718.3,97.2\" style=\"fill:none;fill-rule:evenodd;stroke:#000000;stroke-width:2.0px;stroke-linecap:butt;stroke-linejoin:miter;stroke-opacity:1\"/>\n",
       "<path class=\"bond-12 atom-12 atom-13\" d=\"M 718.3,97.2 L 705.8,104.6\" style=\"fill:none;fill-rule:evenodd;stroke:#000000;stroke-width:2.0px;stroke-linecap:butt;stroke-linejoin:miter;stroke-opacity:1\"/>\n",
       "<path class=\"bond-12 atom-12 atom-13\" d=\"M 718.3,99.7 L 706.9,106.4\" style=\"fill:none;fill-rule:evenodd;stroke:#000000;stroke-width:2.0px;stroke-linecap:butt;stroke-linejoin:miter;stroke-opacity:1\"/>\n",
       "<path class=\"bond-13 atom-13 atom-14\" d=\"M 705.8,104.6 L 693.1,97.4\" style=\"fill:none;fill-rule:evenodd;stroke:#000000;stroke-width:2.0px;stroke-linecap:butt;stroke-linejoin:miter;stroke-opacity:1\"/>\n",
       "<path class=\"bond-14 atom-14 atom-15\" d=\"M 693.1,97.4 L 680.6,104.8\" style=\"fill:none;fill-rule:evenodd;stroke:#000000;stroke-width:2.0px;stroke-linecap:butt;stroke-linejoin:miter;stroke-opacity:1\"/>\n",
       "<path class=\"bond-15 atom-15 atom-16\" d=\"M 680.6,104.8 L 667.9,97.6\" style=\"fill:none;fill-rule:evenodd;stroke:#000000;stroke-width:2.0px;stroke-linecap:butt;stroke-linejoin:miter;stroke-opacity:1\"/>\n",
       "<path class=\"bond-16 atom-16 atom-17\" d=\"M 667.9,97.6 L 655.4,105.0\" style=\"fill:none;fill-rule:evenodd;stroke:#000000;stroke-width:2.0px;stroke-linecap:butt;stroke-linejoin:miter;stroke-opacity:1\"/>\n",
       "<path class=\"bond-17 atom-17 atom-18\" d=\"M 655.4,105.0 L 642.7,97.8\" style=\"fill:none;fill-rule:evenodd;stroke:#000000;stroke-width:2.0px;stroke-linecap:butt;stroke-linejoin:miter;stroke-opacity:1\"/>\n",
       "<path class=\"bond-18 atom-18 atom-19\" d=\"M 643.8,98.4 L 643.8,92.2\" style=\"fill:none;fill-rule:evenodd;stroke:#000000;stroke-width:2.0px;stroke-linecap:butt;stroke-linejoin:miter;stroke-opacity:1\"/>\n",
       "<path class=\"bond-18 atom-18 atom-19\" d=\"M 643.8,92.2 L 643.7,85.9\" style=\"fill:none;fill-rule:evenodd;stroke:#FF0000;stroke-width:2.0px;stroke-linecap:butt;stroke-linejoin:miter;stroke-opacity:1\"/>\n",
       "<path class=\"bond-18 atom-18 atom-19\" d=\"M 641.6,98.4 L 641.6,92.2\" style=\"fill:none;fill-rule:evenodd;stroke:#000000;stroke-width:2.0px;stroke-linecap:butt;stroke-linejoin:miter;stroke-opacity:1\"/>\n",
       "<path class=\"bond-18 atom-18 atom-19\" d=\"M 641.6,92.2 L 641.5,86.0\" style=\"fill:none;fill-rule:evenodd;stroke:#FF0000;stroke-width:2.0px;stroke-linecap:butt;stroke-linejoin:miter;stroke-opacity:1\"/>\n",
       "<path class=\"bond-19 atom-18 atom-20\" d=\"M 642.7,97.8 L 637.7,100.8\" style=\"fill:none;fill-rule:evenodd;stroke:#000000;stroke-width:2.0px;stroke-linecap:butt;stroke-linejoin:miter;stroke-opacity:1\"/>\n",
       "<path class=\"bond-19 atom-18 atom-20\" d=\"M 637.7,100.8 L 632.6,103.8\" style=\"fill:none;fill-rule:evenodd;stroke:#FF0000;stroke-width:2.0px;stroke-linecap:butt;stroke-linejoin:miter;stroke-opacity:1\"/>\n",
       "<path class=\"bond-20 atom-16 atom-21\" d=\"M 667.5,93.8 L 668.3,93.8\" style=\"fill:none;fill-rule:evenodd;stroke:#000000;stroke-width:1.0px;stroke-linecap:butt;stroke-linejoin:miter;stroke-opacity:1\"/>\n",
       "<path class=\"bond-20 atom-16 atom-21\" d=\"M 667.1,90.0 L 668.6,90.0\" style=\"fill:none;fill-rule:evenodd;stroke:#FF0000;stroke-width:1.0px;stroke-linecap:butt;stroke-linejoin:miter;stroke-opacity:1\"/>\n",
       "<path class=\"bond-20 atom-16 atom-21\" d=\"M 666.7,86.2 L 668.9,86.2\" style=\"fill:none;fill-rule:evenodd;stroke:#FF0000;stroke-width:1.0px;stroke-linecap:butt;stroke-linejoin:miter;stroke-opacity:1\"/>\n",
       "<path class=\"bond-21 atom-14 atom-22\" d=\"M 692.7,93.6 L 693.4,93.6\" style=\"fill:none;fill-rule:evenodd;stroke:#000000;stroke-width:1.0px;stroke-linecap:butt;stroke-linejoin:miter;stroke-opacity:1\"/>\n",
       "<path class=\"bond-21 atom-14 atom-22\" d=\"M 692.3,89.8 L 693.8,89.8\" style=\"fill:none;fill-rule:evenodd;stroke:#FF0000;stroke-width:1.0px;stroke-linecap:butt;stroke-linejoin:miter;stroke-opacity:1\"/>\n",
       "<path class=\"bond-21 atom-14 atom-22\" d=\"M 691.9,86.0 L 694.1,86.0\" style=\"fill:none;fill-rule:evenodd;stroke:#FF0000;stroke-width:1.0px;stroke-linecap:butt;stroke-linejoin:miter;stroke-opacity:1\"/>\n",
       "<path class=\"bond-22 atom-10 atom-23\" d=\"M 744.2,98.3 L 747.1,84.1\" style=\"fill:none;fill-rule:evenodd;stroke:#000000;stroke-width:2.0px;stroke-linecap:butt;stroke-linejoin:miter;stroke-opacity:1\"/>\n",
       "<path class=\"bond-23 atom-23 atom-24\" d=\"M 747.1,84.1 L 760.9,79.5\" style=\"fill:none;fill-rule:evenodd;stroke:#000000;stroke-width:2.0px;stroke-linecap:butt;stroke-linejoin:miter;stroke-opacity:1\"/>\n",
       "<path class=\"bond-23 atom-23 atom-24\" d=\"M 747.6,81.6 L 759.0,77.8\" style=\"fill:none;fill-rule:evenodd;stroke:#000000;stroke-width:2.0px;stroke-linecap:butt;stroke-linejoin:miter;stroke-opacity:1\"/>\n",
       "<path class=\"bond-24 atom-24 atom-25\" d=\"M 760.9,79.5 L 763.8,65.2\" style=\"fill:none;fill-rule:evenodd;stroke:#000000;stroke-width:2.0px;stroke-linecap:butt;stroke-linejoin:miter;stroke-opacity:1\"/>\n",
       "<path class=\"bond-25 atom-25 atom-26\" d=\"M 763.8,65.2 L 752.9,55.6\" style=\"fill:none;fill-rule:evenodd;stroke:#000000;stroke-width:2.0px;stroke-linecap:butt;stroke-linejoin:miter;stroke-opacity:1\"/>\n",
       "<path class=\"bond-25 atom-25 atom-26\" d=\"M 761.4,66.0 L 752.4,58.0\" style=\"fill:none;fill-rule:evenodd;stroke:#000000;stroke-width:2.0px;stroke-linecap:butt;stroke-linejoin:miter;stroke-opacity:1\"/>\n",
       "<path class=\"bond-26 atom-26 atom-27\" d=\"M 752.9,55.6 L 739.1,60.2\" style=\"fill:none;fill-rule:evenodd;stroke:#000000;stroke-width:2.0px;stroke-linecap:butt;stroke-linejoin:miter;stroke-opacity:1\"/>\n",
       "<path class=\"bond-27 atom-27 atom-28\" d=\"M 739.1,60.2 L 736.2,74.4\" style=\"fill:none;fill-rule:evenodd;stroke:#000000;stroke-width:2.0px;stroke-linecap:butt;stroke-linejoin:miter;stroke-opacity:1\"/>\n",
       "<path class=\"bond-27 atom-27 atom-28\" d=\"M 741.0,61.8 L 738.6,73.6\" style=\"fill:none;fill-rule:evenodd;stroke:#000000;stroke-width:2.0px;stroke-linecap:butt;stroke-linejoin:miter;stroke-opacity:1\"/>\n",
       "<path class=\"bond-28 atom-26 atom-29\" d=\"M 752.9,55.6 L 754.1,49.7\" style=\"fill:none;fill-rule:evenodd;stroke:#000000;stroke-width:2.0px;stroke-linecap:butt;stroke-linejoin:miter;stroke-opacity:1\"/>\n",
       "<path class=\"bond-28 atom-26 atom-29\" d=\"M 754.1,49.7 L 755.3,43.9\" style=\"fill:none;fill-rule:evenodd;stroke:#33CCCC;stroke-width:2.0px;stroke-linecap:butt;stroke-linejoin:miter;stroke-opacity:1\"/>\n",
       "<path class=\"bond-29 atom-11 atom-3\" d=\"M 731.0,104.3 L 731.6,110.3\" style=\"fill:none;fill-rule:evenodd;stroke:#000000;stroke-width:2.0px;stroke-linecap:butt;stroke-linejoin:miter;stroke-opacity:1\"/>\n",
       "<path class=\"bond-29 atom-11 atom-3\" d=\"M 731.6,110.3 L 732.3,116.2\" style=\"fill:none;fill-rule:evenodd;stroke:#0000FF;stroke-width:2.0px;stroke-linecap:butt;stroke-linejoin:miter;stroke-opacity:1\"/>\n",
       "<path class=\"bond-30 atom-9 atom-4\" d=\"M 754.0,109.0 L 746.9,121.7\" style=\"fill:none;fill-rule:evenodd;stroke:#000000;stroke-width:2.0px;stroke-linecap:butt;stroke-linejoin:miter;stroke-opacity:1\"/>\n",
       "<path class=\"bond-31 atom-28 atom-23\" d=\"M 736.2,74.4 L 747.1,84.1\" style=\"fill:none;fill-rule:evenodd;stroke:#000000;stroke-width:2.0px;stroke-linecap:butt;stroke-linejoin:miter;stroke-opacity:1\"/>\n",
       "<path d=\"M 753.9,133.6 L 754.2,134.2 L 755.0,134.2\" style=\"fill:none;stroke:#000000;stroke-width:2.0px;stroke-linecap:butt;stroke-linejoin:miter;stroke-opacity:1;\"/>\n",
       "<path d=\"M 768.1,134.1 L 768.8,134.1 L 769.1,133.5\" style=\"fill:none;stroke:#000000;stroke-width:2.0px;stroke-linecap:butt;stroke-linejoin:miter;stroke-opacity:1;\"/>\n",
       "<path d=\"M 775.6,122.1 L 776.0,121.5 L 775.6,120.8\" style=\"fill:none;stroke:#000000;stroke-width:2.0px;stroke-linecap:butt;stroke-linejoin:miter;stroke-opacity:1;\"/>\n",
       "<path d=\"M 768.9,109.6 L 768.6,108.9 L 767.9,108.9\" style=\"fill:none;stroke:#000000;stroke-width:2.0px;stroke-linecap:butt;stroke-linejoin:miter;stroke-opacity:1;\"/>\n",
       "<path d=\"M 718.9,97.5 L 718.3,97.2 L 717.7,97.5\" style=\"fill:none;stroke:#000000;stroke-width:2.0px;stroke-linecap:butt;stroke-linejoin:miter;stroke-opacity:1;\"/>\n",
       "<path d=\"M 706.4,104.2 L 705.8,104.6 L 705.1,104.2\" style=\"fill:none;stroke:#000000;stroke-width:2.0px;stroke-linecap:butt;stroke-linejoin:miter;stroke-opacity:1;\"/>\n",
       "<path d=\"M 693.7,97.7 L 693.1,97.4 L 692.5,97.8\" style=\"fill:none;stroke:#000000;stroke-width:2.0px;stroke-linecap:butt;stroke-linejoin:miter;stroke-opacity:1;\"/>\n",
       "<path d=\"M 681.2,104.4 L 680.6,104.8 L 679.9,104.4\" style=\"fill:none;stroke:#000000;stroke-width:2.0px;stroke-linecap:butt;stroke-linejoin:miter;stroke-opacity:1;\"/>\n",
       "<path d=\"M 668.6,98.0 L 667.9,97.6 L 667.3,98.0\" style=\"fill:none;stroke:#000000;stroke-width:2.0px;stroke-linecap:butt;stroke-linejoin:miter;stroke-opacity:1;\"/>\n",
       "<path d=\"M 656.0,104.6 L 655.4,105.0 L 654.7,104.6\" style=\"fill:none;stroke:#000000;stroke-width:2.0px;stroke-linecap:butt;stroke-linejoin:miter;stroke-opacity:1;\"/>\n",
       "<path d=\"M 643.4,98.2 L 642.7,97.8 L 642.5,98.0\" style=\"fill:none;stroke:#000000;stroke-width:2.0px;stroke-linecap:butt;stroke-linejoin:miter;stroke-opacity:1;\"/>\n",
       "<path d=\"M 760.2,79.7 L 760.9,79.5 L 761.1,78.7\" style=\"fill:none;stroke:#000000;stroke-width:2.0px;stroke-linecap:butt;stroke-linejoin:miter;stroke-opacity:1;\"/>\n",
       "<path d=\"M 763.7,65.9 L 763.8,65.2 L 763.3,64.7\" style=\"fill:none;stroke:#000000;stroke-width:2.0px;stroke-linecap:butt;stroke-linejoin:miter;stroke-opacity:1;\"/>\n",
       "<path d=\"M 739.8,59.9 L 739.1,60.2 L 739.0,60.9\" style=\"fill:none;stroke:#000000;stroke-width:2.0px;stroke-linecap:butt;stroke-linejoin:miter;stroke-opacity:1;\"/>\n",
       "<path d=\"M 736.4,73.7 L 736.2,74.4 L 736.8,74.9\" style=\"fill:none;stroke:#000000;stroke-width:2.0px;stroke-linecap:butt;stroke-linejoin:miter;stroke-opacity:1;\"/>\n",
       "<path class=\"atom-3\" d=\"M 731.7 116.7 L 733.1 118.9 Q 733.2 119.1, 733.4 119.5 Q 733.6 119.9, 733.7 120.0 L 733.7 116.7 L 734.2 116.7 L 734.2 120.9 L 733.6 120.9 L 732.1 118.5 Q 732.0 118.2, 731.8 117.8 Q 731.6 117.5, 731.6 117.4 L 731.6 120.9 L 731.0 120.9 L 731.0 116.7 L 731.7 116.7 \" fill=\"#0000FF\"/>\n",
       "<path class=\"atom-19\" d=\"M 640.7 83.3 Q 640.7 82.2, 641.2 81.7 Q 641.7 81.1, 642.6 81.1 Q 643.5 81.1, 644.0 81.7 Q 644.6 82.2, 644.6 83.3 Q 644.6 84.3, 644.0 84.9 Q 643.5 85.5, 642.6 85.5 Q 641.7 85.5, 641.2 84.9 Q 640.7 84.3, 640.7 83.3 M 642.6 85.0 Q 643.3 85.0, 643.6 84.6 Q 644.0 84.1, 644.0 83.3 Q 644.0 82.4, 643.6 82.0 Q 643.3 81.6, 642.6 81.6 Q 642.0 81.6, 641.6 82.0 Q 641.3 82.4, 641.3 83.3 Q 641.3 84.1, 641.6 84.6 Q 642.0 85.0, 642.6 85.0 \" fill=\"#FF0000\"/>\n",
       "<path class=\"atom-20\" d=\"M 624.0 103.1 L 624.6 103.1 L 624.6 104.9 L 626.8 104.9 L 626.8 103.1 L 627.4 103.1 L 627.4 107.3 L 626.8 107.3 L 626.8 105.4 L 624.6 105.4 L 624.6 107.3 L 624.0 107.3 L 624.0 103.1 \" fill=\"#FF0000\"/>\n",
       "<path class=\"atom-20\" d=\"M 628.2 105.2 Q 628.2 104.2, 628.7 103.6 Q 629.2 103.0, 630.2 103.0 Q 631.1 103.0, 631.6 103.6 Q 632.1 104.2, 632.1 105.2 Q 632.1 106.2, 631.6 106.8 Q 631.1 107.4, 630.2 107.4 Q 629.3 107.4, 628.7 106.8 Q 628.2 106.2, 628.2 105.2 M 630.2 106.9 Q 630.8 106.9, 631.2 106.5 Q 631.5 106.0, 631.5 105.2 Q 631.5 104.4, 631.2 103.9 Q 630.8 103.5, 630.2 103.5 Q 629.5 103.5, 629.2 103.9 Q 628.8 104.4, 628.8 105.2 Q 628.8 106.1, 629.2 106.5 Q 629.5 106.9, 630.2 106.9 \" fill=\"#FF0000\"/>\n",
       "<path class=\"atom-21\" d=\"M 665.8 83.1 Q 665.8 82.0, 666.4 81.5 Q 666.9 80.9, 667.8 80.9 Q 668.7 80.9, 669.2 81.5 Q 669.7 82.0, 669.7 83.1 Q 669.7 84.1, 669.2 84.7 Q 668.7 85.3, 667.8 85.3 Q 666.9 85.3, 666.4 84.7 Q 665.8 84.1, 665.8 83.1 M 667.8 84.8 Q 668.4 84.8, 668.8 84.3 Q 669.1 83.9, 669.1 83.1 Q 669.1 82.2, 668.8 81.8 Q 668.4 81.4, 667.8 81.4 Q 667.2 81.4, 666.8 81.8 Q 666.4 82.2, 666.4 83.1 Q 666.4 83.9, 666.8 84.3 Q 667.2 84.8, 667.8 84.8 \" fill=\"#FF0000\"/>\n",
       "<path class=\"atom-21\" d=\"M 670.4 80.9 L 671.0 80.9 L 671.0 82.8 L 673.2 82.8 L 673.2 80.9 L 673.7 80.9 L 673.7 85.2 L 673.2 85.2 L 673.2 83.2 L 671.0 83.2 L 671.0 85.2 L 670.4 85.2 L 670.4 80.9 \" fill=\"#FF0000\"/>\n",
       "<path class=\"atom-22\" d=\"M 691.0 82.8 Q 691.0 81.8, 691.5 81.3 Q 692.1 80.7, 693.0 80.7 Q 693.9 80.7, 694.4 81.3 Q 694.9 81.8, 694.9 82.8 Q 694.9 83.9, 694.4 84.5 Q 693.9 85.1, 693.0 85.1 Q 692.1 85.1, 691.5 84.5 Q 691.0 83.9, 691.0 82.8 M 693.0 84.6 Q 693.6 84.6, 694.0 84.1 Q 694.3 83.7, 694.3 82.8 Q 694.3 82.0, 694.0 81.6 Q 693.6 81.2, 693.0 81.2 Q 692.3 81.2, 692.0 81.6 Q 691.6 82.0, 691.6 82.8 Q 691.6 83.7, 692.0 84.1 Q 692.3 84.6, 693.0 84.6 \" fill=\"#FF0000\"/>\n",
       "<path class=\"atom-22\" d=\"M 695.6 80.7 L 696.2 80.7 L 696.2 82.5 L 698.4 82.5 L 698.4 80.7 L 698.9 80.7 L 698.9 85.0 L 698.4 85.0 L 698.4 83.0 L 696.2 83.0 L 696.2 85.0 L 695.6 85.0 L 695.6 80.7 \" fill=\"#FF0000\"/>\n",
       "<path class=\"atom-29\" d=\"M 754.6 39.2 L 757.1 39.2 L 757.1 39.7 L 755.1 39.7 L 755.1 41.0 L 756.9 41.0 L 756.9 41.4 L 755.1 41.4 L 755.1 43.4 L 754.6 43.4 L 754.6 39.2 \" fill=\"#33CCCC\"/>\n",
       "<path class=\"legend\" d=\"M 679.7 186.0 L 681.1 186.0 L 681.1 187.3 L 679.7 187.3 L 679.7 189.9 L 678.2 189.9 L 678.2 187.3 L 672.4 187.3 L 672.4 186.3 L 677.3 178.5 L 679.7 178.5 L 679.7 186.0 M 674.2 186.0 L 678.2 186.0 L 678.2 179.6 L 674.2 186.0 \" fill=\"#000000\"/>\n",
       "<path class=\"legend\" d=\"M 690.0 186.0 L 691.4 186.0 L 691.4 187.3 L 690.0 187.3 L 690.0 189.9 L 688.5 189.9 L 688.5 187.3 L 682.6 187.3 L 682.6 186.3 L 687.6 178.5 L 690.0 178.5 L 690.0 186.0 M 684.5 186.0 L 688.5 186.0 L 688.5 179.6 L 684.5 186.0 \" fill=\"#000000\"/>\n",
       "<path class=\"legend\" d=\"M 697.4 182.8 Q 698.4 182.8, 699.1 183.2 Q 699.9 183.7, 700.4 184.4 Q 700.8 185.2, 700.8 186.2 Q 700.8 187.3, 700.3 188.2 Q 699.8 189.0, 699.0 189.5 Q 698.1 190.0, 697.0 190.0 Q 695.0 190.0, 693.9 188.6 Q 692.9 187.3, 692.9 184.5 Q 692.9 181.5, 694.2 180.0 Q 695.5 178.4, 697.9 178.4 Q 698.6 178.4, 699.2 178.6 Q 699.8 178.7, 700.3 179.1 L 699.7 180.1 Q 698.9 179.7, 697.9 179.7 Q 696.3 179.7, 695.5 180.7 Q 694.7 181.8, 694.6 183.9 Q 695.1 183.4, 695.9 183.1 Q 696.6 182.8, 697.4 182.8 M 697.0 188.7 Q 697.6 188.7, 698.1 188.4 Q 698.6 188.0, 698.9 187.5 Q 699.2 186.9, 699.2 186.2 Q 699.2 185.2, 698.6 184.7 Q 698.1 184.1, 697.1 184.1 Q 696.4 184.1, 695.7 184.4 Q 695.0 184.6, 694.6 185.1 Q 694.6 187.0, 695.2 187.8 Q 695.8 188.7, 697.0 188.7 \" fill=\"#000000\"/>\n",
       "<path class=\"legend\" d=\"M 703.1 188.6 L 705.6 188.6 L 705.6 180.1 L 702.8 181.0 L 702.5 180.0 L 705.9 178.5 L 707.1 178.7 L 707.1 188.6 L 709.3 188.6 L 709.3 189.9 L 703.1 189.9 L 703.1 188.6 \" fill=\"#000000\"/>\n",
       "<path class=\"legend\" d=\"M 714.9 182.8 Q 715.9 182.8, 716.7 183.2 Q 717.5 183.6, 718.0 184.4 Q 718.4 185.2, 718.4 186.3 Q 718.4 187.5, 717.9 188.3 Q 717.3 189.1, 716.4 189.6 Q 715.4 190.0, 714.4 190.0 Q 713.3 190.0, 712.4 189.6 Q 711.4 189.2, 710.8 188.5 L 711.7 187.5 Q 712.3 188.1, 713.0 188.4 Q 713.7 188.7, 714.4 188.7 Q 715.4 188.7, 716.1 188.1 Q 716.8 187.5, 716.8 186.3 Q 716.8 185.1, 716.1 184.6 Q 715.4 184.0, 714.3 184.0 Q 713.3 184.0, 712.2 184.4 L 711.4 184.0 L 711.9 178.5 L 717.7 178.5 L 717.6 179.8 L 713.2 179.8 L 712.9 183.2 Q 713.9 182.8, 714.9 182.8 \" fill=\"#000000\"/>\n",
       "<path class=\"legend\" d=\"M 724.1 182.8 Q 725.1 182.8, 725.9 183.2 Q 726.7 183.6, 727.2 184.4 Q 727.6 185.2, 727.6 186.3 Q 727.6 187.5, 727.1 188.3 Q 726.5 189.1, 725.6 189.6 Q 724.7 190.0, 723.6 190.0 Q 722.6 190.0, 721.6 189.6 Q 720.6 189.2, 720.0 188.5 L 720.9 187.5 Q 721.5 188.1, 722.2 188.4 Q 722.9 188.7, 723.6 188.7 Q 724.7 188.7, 725.3 188.1 Q 726.0 187.5, 726.0 186.3 Q 726.0 185.1, 725.3 184.6 Q 724.7 184.0, 723.6 184.0 Q 722.6 184.0, 721.5 184.4 L 720.6 184.0 L 721.1 178.5 L 726.9 178.5 L 726.8 179.8 L 722.4 179.8 L 722.1 183.2 Q 723.1 182.8, 724.1 182.8 \" fill=\"#000000\"/>\n",
       "<path class=\"bond-0 atom-0 atom-1\" d=\"M 82.4,343.4 L 85.9,329.3\" style=\"fill:none;fill-rule:evenodd;stroke:#000000;stroke-width:2.0px;stroke-linecap:butt;stroke-linejoin:miter;stroke-opacity:1\"/>\n",
       "<path class=\"bond-1 atom-1 atom-2\" d=\"M 85.9,329.3 L 99.8,325.2\" style=\"fill:none;fill-rule:evenodd;stroke:#000000;stroke-width:2.0px;stroke-linecap:butt;stroke-linejoin:miter;stroke-opacity:1\"/>\n",
       "<path class=\"bond-2 atom-1 atom-3\" d=\"M 85.9,329.3 L 75.3,319.2\" style=\"fill:none;fill-rule:evenodd;stroke:#000000;stroke-width:2.0px;stroke-linecap:butt;stroke-linejoin:miter;stroke-opacity:1\"/>\n",
       "<path class=\"bond-3 atom-3 atom-4\" d=\"M 75.3,319.2 L 69.4,321.0\" style=\"fill:none;fill-rule:evenodd;stroke:#000000;stroke-width:2.0px;stroke-linecap:butt;stroke-linejoin:miter;stroke-opacity:1\"/>\n",
       "<path class=\"bond-3 atom-3 atom-4\" d=\"M 69.4,321.0 L 63.5,322.7\" style=\"fill:none;fill-rule:evenodd;stroke:#0000FF;stroke-width:2.0px;stroke-linecap:butt;stroke-linejoin:miter;stroke-opacity:1\"/>\n",
       "<path class=\"bond-3 atom-3 atom-4\" d=\"M 73.5,317.5 L 68.2,319.0\" style=\"fill:none;fill-rule:evenodd;stroke:#000000;stroke-width:2.0px;stroke-linecap:butt;stroke-linejoin:miter;stroke-opacity:1\"/>\n",
       "<path class=\"bond-3 atom-3 atom-4\" d=\"M 68.2,319.0 L 62.8,320.6\" style=\"fill:none;fill-rule:evenodd;stroke:#0000FF;stroke-width:2.0px;stroke-linecap:butt;stroke-linejoin:miter;stroke-opacity:1\"/>\n",
       "<path class=\"bond-4 atom-4 atom-5\" d=\"M 59.3,321.3 L 55.1,317.3\" style=\"fill:none;fill-rule:evenodd;stroke:#0000FF;stroke-width:2.0px;stroke-linecap:butt;stroke-linejoin:miter;stroke-opacity:1\"/>\n",
       "<path class=\"bond-4 atom-4 atom-5\" d=\"M 55.1,317.3 L 50.9,313.3\" style=\"fill:none;fill-rule:evenodd;stroke:#000000;stroke-width:2.0px;stroke-linecap:butt;stroke-linejoin:miter;stroke-opacity:1\"/>\n",
       "<path class=\"bond-5 atom-5 atom-6\" d=\"M 50.9,313.3 L 52.3,307.5\" style=\"fill:none;fill-rule:evenodd;stroke:#000000;stroke-width:2.0px;stroke-linecap:butt;stroke-linejoin:miter;stroke-opacity:1\"/>\n",
       "<path class=\"bond-5 atom-5 atom-6\" d=\"M 52.3,307.5 L 53.7,301.7\" style=\"fill:none;fill-rule:evenodd;stroke:#0000FF;stroke-width:2.0px;stroke-linecap:butt;stroke-linejoin:miter;stroke-opacity:1\"/>\n",
       "<path class=\"bond-5 atom-5 atom-6\" d=\"M 53.3,312.6 L 54.5,307.4\" style=\"fill:none;fill-rule:evenodd;stroke:#000000;stroke-width:2.0px;stroke-linecap:butt;stroke-linejoin:miter;stroke-opacity:1\"/>\n",
       "<path class=\"bond-5 atom-5 atom-6\" d=\"M 54.5,307.4 L 55.8,302.2\" style=\"fill:none;fill-rule:evenodd;stroke:#0000FF;stroke-width:2.0px;stroke-linecap:butt;stroke-linejoin:miter;stroke-opacity:1\"/>\n",
       "<path class=\"bond-6 atom-6 atom-7\" d=\"M 56.4,298.5 L 62.3,296.8\" style=\"fill:none;fill-rule:evenodd;stroke:#0000FF;stroke-width:2.0px;stroke-linecap:butt;stroke-linejoin:miter;stroke-opacity:1\"/>\n",
       "<path class=\"bond-6 atom-6 atom-7\" d=\"M 62.3,296.8 L 68.3,295.0\" style=\"fill:none;fill-rule:evenodd;stroke:#000000;stroke-width:2.0px;stroke-linecap:butt;stroke-linejoin:miter;stroke-opacity:1\"/>\n",
       "<path class=\"bond-7 atom-7 atom-8\" d=\"M 68.3,295.0 L 78.8,305.1\" style=\"fill:none;fill-rule:evenodd;stroke:#000000;stroke-width:2.0px;stroke-linecap:butt;stroke-linejoin:miter;stroke-opacity:1\"/>\n",
       "<path class=\"bond-7 atom-7 atom-8\" d=\"M 67.7,297.5 L 76.4,305.8\" style=\"fill:none;fill-rule:evenodd;stroke:#000000;stroke-width:2.0px;stroke-linecap:butt;stroke-linejoin:miter;stroke-opacity:1\"/>\n",
       "<path class=\"bond-8 atom-8 atom-9\" d=\"M 78.8,305.1 L 92.7,301.0\" style=\"fill:none;fill-rule:evenodd;stroke:#000000;stroke-width:2.0px;stroke-linecap:butt;stroke-linejoin:miter;stroke-opacity:1\"/>\n",
       "<path class=\"bond-9 atom-9 atom-10\" d=\"M 92.7,301.0 L 103.3,311.1\" style=\"fill:none;fill-rule:evenodd;stroke:#000000;stroke-width:2.0px;stroke-linecap:butt;stroke-linejoin:miter;stroke-opacity:1\"/>\n",
       "<path class=\"bond-9 atom-9 atom-10\" d=\"M 92.1,303.5 L 101.7,312.6\" style=\"fill:none;fill-rule:evenodd;stroke:#000000;stroke-width:2.0px;stroke-linecap:butt;stroke-linejoin:miter;stroke-opacity:1\"/>\n",
       "<path class=\"bond-10 atom-10 atom-11\" d=\"M 103.3,311.1 L 117.2,307.0\" style=\"fill:none;fill-rule:evenodd;stroke:#000000;stroke-width:2.0px;stroke-linecap:butt;stroke-linejoin:miter;stroke-opacity:1\"/>\n",
       "<path class=\"bond-11 atom-11 atom-12\" d=\"M 117.2,307.0 L 127.7,317.0\" style=\"fill:none;fill-rule:evenodd;stroke:#000000;stroke-width:2.0px;stroke-linecap:butt;stroke-linejoin:miter;stroke-opacity:1\"/>\n",
       "<path class=\"bond-12 atom-12 atom-13\" d=\"M 127.7,317.0 L 141.7,312.9\" style=\"fill:none;fill-rule:evenodd;stroke:#000000;stroke-width:2.0px;stroke-linecap:butt;stroke-linejoin:miter;stroke-opacity:1\"/>\n",
       "<path class=\"bond-13 atom-13 atom-14\" d=\"M 141.7,312.9 L 152.2,323.0\" style=\"fill:none;fill-rule:evenodd;stroke:#000000;stroke-width:2.0px;stroke-linecap:butt;stroke-linejoin:miter;stroke-opacity:1\"/>\n",
       "<path class=\"bond-14 atom-14 atom-15\" d=\"M 152.2,323.0 L 166.2,318.9\" style=\"fill:none;fill-rule:evenodd;stroke:#000000;stroke-width:2.0px;stroke-linecap:butt;stroke-linejoin:miter;stroke-opacity:1\"/>\n",
       "<path class=\"bond-15 atom-15 atom-16\" d=\"M 167.1,319.8 L 168.6,313.7\" style=\"fill:none;fill-rule:evenodd;stroke:#000000;stroke-width:2.0px;stroke-linecap:butt;stroke-linejoin:miter;stroke-opacity:1\"/>\n",
       "<path class=\"bond-15 atom-15 atom-16\" d=\"M 168.6,313.7 L 170.0,307.7\" style=\"fill:none;fill-rule:evenodd;stroke:#FF0000;stroke-width:2.0px;stroke-linecap:butt;stroke-linejoin:miter;stroke-opacity:1\"/>\n",
       "<path class=\"bond-15 atom-15 atom-16\" d=\"M 165.0,319.2 L 166.4,313.2\" style=\"fill:none;fill-rule:evenodd;stroke:#000000;stroke-width:2.0px;stroke-linecap:butt;stroke-linejoin:miter;stroke-opacity:1\"/>\n",
       "<path class=\"bond-15 atom-15 atom-16\" d=\"M 166.4,313.2 L 167.9,307.2\" style=\"fill:none;fill-rule:evenodd;stroke:#FF0000;stroke-width:2.0px;stroke-linecap:butt;stroke-linejoin:miter;stroke-opacity:1\"/>\n",
       "<path class=\"bond-16 atom-15 atom-17\" d=\"M 166.2,318.9 L 170.2,322.8\" style=\"fill:none;fill-rule:evenodd;stroke:#000000;stroke-width:2.0px;stroke-linecap:butt;stroke-linejoin:miter;stroke-opacity:1\"/>\n",
       "<path class=\"bond-16 atom-15 atom-17\" d=\"M 170.2,322.8 L 174.3,326.6\" style=\"fill:none;fill-rule:evenodd;stroke:#FF0000;stroke-width:2.0px;stroke-linecap:butt;stroke-linejoin:miter;stroke-opacity:1\"/>\n",
       "<path class=\"bond-17 atom-13 atom-18\" d=\"M 141.7,312.9 L 142.5,307.3 L 143.6,307.6 Z\" style=\"fill:#000000;fill-rule:evenodd;fill-opacity:1;stroke:#000000;stroke-width:0.5px;stroke-linecap:butt;stroke-linejoin:miter;stroke-opacity:1;\"/>\n",
       "<path class=\"bond-17 atom-13 atom-18\" d=\"M 142.5,307.3 L 145.4,302.2 L 143.3,301.7 Z\" style=\"fill:#FF0000;fill-rule:evenodd;fill-opacity:1;stroke:#FF0000;stroke-width:0.5px;stroke-linecap:butt;stroke-linejoin:miter;stroke-opacity:1;\"/>\n",
       "<path class=\"bond-17 atom-13 atom-18\" d=\"M 142.5,307.3 L 143.6,307.6 L 145.4,302.2 Z\" style=\"fill:#FF0000;fill-rule:evenodd;fill-opacity:1;stroke:#FF0000;stroke-width:0.5px;stroke-linecap:butt;stroke-linejoin:miter;stroke-opacity:1;\"/>\n",
       "<path class=\"bond-18 atom-11 atom-19\" d=\"M 117.2,307.0 L 118.0,301.4 L 119.1,301.6 Z\" style=\"fill:#000000;fill-rule:evenodd;fill-opacity:1;stroke:#000000;stroke-width:0.5px;stroke-linecap:butt;stroke-linejoin:miter;stroke-opacity:1;\"/>\n",
       "<path class=\"bond-18 atom-11 atom-19\" d=\"M 118.0,301.4 L 120.9,296.3 L 118.8,295.7 Z\" style=\"fill:#FF0000;fill-rule:evenodd;fill-opacity:1;stroke:#FF0000;stroke-width:0.5px;stroke-linecap:butt;stroke-linejoin:miter;stroke-opacity:1;\"/>\n",
       "<path class=\"bond-18 atom-11 atom-19\" d=\"M 118.0,301.4 L 119.1,301.6 L 120.9,296.3 Z\" style=\"fill:#FF0000;fill-rule:evenodd;fill-opacity:1;stroke:#FF0000;stroke-width:0.5px;stroke-linecap:butt;stroke-linejoin:miter;stroke-opacity:1;\"/>\n",
       "<path class=\"bond-19 atom-7 atom-20\" d=\"M 68.3,295.0 L 71.7,280.9\" style=\"fill:none;fill-rule:evenodd;stroke:#000000;stroke-width:2.0px;stroke-linecap:butt;stroke-linejoin:miter;stroke-opacity:1\"/>\n",
       "<path class=\"bond-20 atom-20 atom-21\" d=\"M 71.7,280.9 L 85.7,276.8\" style=\"fill:none;fill-rule:evenodd;stroke:#000000;stroke-width:2.0px;stroke-linecap:butt;stroke-linejoin:miter;stroke-opacity:1\"/>\n",
       "<path class=\"bond-20 atom-20 atom-21\" d=\"M 72.3,278.5 L 83.8,275.1\" style=\"fill:none;fill-rule:evenodd;stroke:#000000;stroke-width:2.0px;stroke-linecap:butt;stroke-linejoin:miter;stroke-opacity:1\"/>\n",
       "<path class=\"bond-21 atom-21 atom-22\" d=\"M 85.7,276.8 L 89.1,262.7\" style=\"fill:none;fill-rule:evenodd;stroke:#000000;stroke-width:2.0px;stroke-linecap:butt;stroke-linejoin:miter;stroke-opacity:1\"/>\n",
       "<path class=\"bond-22 atom-22 atom-23\" d=\"M 89.1,262.7 L 78.6,252.6\" style=\"fill:none;fill-rule:evenodd;stroke:#000000;stroke-width:2.0px;stroke-linecap:butt;stroke-linejoin:miter;stroke-opacity:1\"/>\n",
       "<path class=\"bond-22 atom-22 atom-23\" d=\"M 86.7,263.4 L 78.0,255.1\" style=\"fill:none;fill-rule:evenodd;stroke:#000000;stroke-width:2.0px;stroke-linecap:butt;stroke-linejoin:miter;stroke-opacity:1\"/>\n",
       "<path class=\"bond-23 atom-23 atom-24\" d=\"M 78.6,252.6 L 64.6,256.7\" style=\"fill:none;fill-rule:evenodd;stroke:#000000;stroke-width:2.0px;stroke-linecap:butt;stroke-linejoin:miter;stroke-opacity:1\"/>\n",
       "<path class=\"bond-24 atom-24 atom-25\" d=\"M 64.6,256.7 L 61.2,270.9\" style=\"fill:none;fill-rule:evenodd;stroke:#000000;stroke-width:2.0px;stroke-linecap:butt;stroke-linejoin:miter;stroke-opacity:1\"/>\n",
       "<path class=\"bond-24 atom-24 atom-25\" d=\"M 66.4,258.5 L 63.6,270.2\" style=\"fill:none;fill-rule:evenodd;stroke:#000000;stroke-width:2.0px;stroke-linecap:butt;stroke-linejoin:miter;stroke-opacity:1\"/>\n",
       "<path class=\"bond-25 atom-23 atom-26\" d=\"M 78.6,252.6 L 80.0,246.9\" style=\"fill:none;fill-rule:evenodd;stroke:#000000;stroke-width:2.0px;stroke-linecap:butt;stroke-linejoin:miter;stroke-opacity:1\"/>\n",
       "<path class=\"bond-25 atom-23 atom-26\" d=\"M 80.0,246.9 L 81.4,241.1\" style=\"fill:none;fill-rule:evenodd;stroke:#33CCCC;stroke-width:2.0px;stroke-linecap:butt;stroke-linejoin:miter;stroke-opacity:1\"/>\n",
       "<path class=\"bond-26 atom-5 atom-27\" d=\"M 50.9,313.3 L 44.9,315.0\" style=\"fill:none;fill-rule:evenodd;stroke:#000000;stroke-width:2.0px;stroke-linecap:butt;stroke-linejoin:miter;stroke-opacity:1\"/>\n",
       "<path class=\"bond-26 atom-5 atom-27\" d=\"M 44.9,315.0 L 39.0,316.7\" style=\"fill:none;fill-rule:evenodd;stroke:#0000FF;stroke-width:2.0px;stroke-linecap:butt;stroke-linejoin:miter;stroke-opacity:1\"/>\n",
       "<path class=\"bond-27 atom-27 atom-28\" d=\"M 34.8,315.4 L 30.6,311.3\" style=\"fill:none;fill-rule:evenodd;stroke:#0000FF;stroke-width:2.0px;stroke-linecap:butt;stroke-linejoin:miter;stroke-opacity:1\"/>\n",
       "<path class=\"bond-27 atom-27 atom-28\" d=\"M 30.6,311.3 L 26.4,307.3\" style=\"fill:none;fill-rule:evenodd;stroke:#000000;stroke-width:2.0px;stroke-linecap:butt;stroke-linejoin:miter;stroke-opacity:1\"/>\n",
       "<path class=\"bond-28 atom-27 atom-29\" d=\"M 36.3,320.0 L 35.2,324.4\" style=\"fill:none;fill-rule:evenodd;stroke:#0000FF;stroke-width:2.0px;stroke-linecap:butt;stroke-linejoin:miter;stroke-opacity:1\"/>\n",
       "<path class=\"bond-28 atom-27 atom-29\" d=\"M 35.2,324.4 L 34.1,328.9\" style=\"fill:none;fill-rule:evenodd;stroke:#CCCC00;stroke-width:2.0px;stroke-linecap:butt;stroke-linejoin:miter;stroke-opacity:1\"/>\n",
       "<path class=\"bond-29 atom-29 atom-30\" d=\"M 35.0,333.0 L 40.0,334.2\" style=\"fill:none;fill-rule:evenodd;stroke:#CCCC00;stroke-width:2.0px;stroke-linecap:butt;stroke-linejoin:miter;stroke-opacity:1\"/>\n",
       "<path class=\"bond-29 atom-29 atom-30\" d=\"M 40.0,334.2 L 44.9,335.4\" style=\"fill:none;fill-rule:evenodd;stroke:#FF0000;stroke-width:2.0px;stroke-linecap:butt;stroke-linejoin:miter;stroke-opacity:1\"/>\n",
       "<path class=\"bond-29 atom-29 atom-30\" d=\"M 35.5,330.9 L 40.5,332.1\" style=\"fill:none;fill-rule:evenodd;stroke:#CCCC00;stroke-width:2.0px;stroke-linecap:butt;stroke-linejoin:miter;stroke-opacity:1\"/>\n",
       "<path class=\"bond-29 atom-29 atom-30\" d=\"M 40.5,332.1 L 45.4,333.3\" style=\"fill:none;fill-rule:evenodd;stroke:#FF0000;stroke-width:2.0px;stroke-linecap:butt;stroke-linejoin:miter;stroke-opacity:1\"/>\n",
       "<path class=\"bond-30 atom-29 atom-31\" d=\"M 31.9,330.0 L 26.9,328.8\" style=\"fill:none;fill-rule:evenodd;stroke:#CCCC00;stroke-width:2.0px;stroke-linecap:butt;stroke-linejoin:miter;stroke-opacity:1\"/>\n",
       "<path class=\"bond-30 atom-29 atom-31\" d=\"M 26.9,328.8 L 22.0,327.6\" style=\"fill:none;fill-rule:evenodd;stroke:#FF0000;stroke-width:2.0px;stroke-linecap:butt;stroke-linejoin:miter;stroke-opacity:1\"/>\n",
       "<path class=\"bond-30 atom-29 atom-31\" d=\"M 31.3,332.1 L 26.4,330.9\" style=\"fill:none;fill-rule:evenodd;stroke:#CCCC00;stroke-width:2.0px;stroke-linecap:butt;stroke-linejoin:miter;stroke-opacity:1\"/>\n",
       "<path class=\"bond-30 atom-29 atom-31\" d=\"M 26.4,330.9 L 21.5,329.7\" style=\"fill:none;fill-rule:evenodd;stroke:#FF0000;stroke-width:2.0px;stroke-linecap:butt;stroke-linejoin:miter;stroke-opacity:1\"/>\n",
       "<path class=\"bond-31 atom-29 atom-32\" d=\"M 32.8,334.2 L 31.4,339.9\" style=\"fill:none;fill-rule:evenodd;stroke:#CCCC00;stroke-width:2.0px;stroke-linecap:butt;stroke-linejoin:miter;stroke-opacity:1\"/>\n",
       "<path class=\"bond-31 atom-29 atom-32\" d=\"M 31.4,339.9 L 30.0,345.6\" style=\"fill:none;fill-rule:evenodd;stroke:#000000;stroke-width:2.0px;stroke-linecap:butt;stroke-linejoin:miter;stroke-opacity:1\"/>\n",
       "<path class=\"bond-32 atom-8 atom-3\" d=\"M 78.8,305.1 L 75.3,319.2\" style=\"fill:none;fill-rule:evenodd;stroke:#000000;stroke-width:2.0px;stroke-linecap:butt;stroke-linejoin:miter;stroke-opacity:1\"/>\n",
       "<path class=\"bond-33 atom-25 atom-20\" d=\"M 61.2,270.9 L 71.7,280.9\" style=\"fill:none;fill-rule:evenodd;stroke:#000000;stroke-width:2.0px;stroke-linecap:butt;stroke-linejoin:miter;stroke-opacity:1\"/>\n",
       "<path d=\"M 92.0,301.2 L 92.7,301.0 L 93.3,301.5\" style=\"fill:none;stroke:#000000;stroke-width:2.0px;stroke-linecap:butt;stroke-linejoin:miter;stroke-opacity:1;\"/>\n",
       "<path d=\"M 102.7,310.6 L 103.3,311.1 L 104.0,310.8\" style=\"fill:none;stroke:#000000;stroke-width:2.0px;stroke-linecap:butt;stroke-linejoin:miter;stroke-opacity:1;\"/>\n",
       "<path d=\"M 116.5,307.2 L 117.2,307.0 L 117.7,307.5\" style=\"fill:none;stroke:#000000;stroke-width:2.0px;stroke-linecap:butt;stroke-linejoin:miter;stroke-opacity:1;\"/>\n",
       "<path d=\"M 127.2,316.5 L 127.7,317.0 L 128.4,316.8\" style=\"fill:none;stroke:#000000;stroke-width:2.0px;stroke-linecap:butt;stroke-linejoin:miter;stroke-opacity:1;\"/>\n",
       "<path d=\"M 141.0,313.1 L 141.7,312.9 L 142.2,313.4\" style=\"fill:none;stroke:#000000;stroke-width:2.0px;stroke-linecap:butt;stroke-linejoin:miter;stroke-opacity:1;\"/>\n",
       "<path d=\"M 151.7,322.5 L 152.2,323.0 L 152.9,322.8\" style=\"fill:none;stroke:#000000;stroke-width:2.0px;stroke-linecap:butt;stroke-linejoin:miter;stroke-opacity:1;\"/>\n",
       "<path d=\"M 165.5,319.1 L 166.2,318.9 L 166.4,319.1\" style=\"fill:none;stroke:#000000;stroke-width:2.0px;stroke-linecap:butt;stroke-linejoin:miter;stroke-opacity:1;\"/>\n",
       "<path d=\"M 85.0,277.0 L 85.7,276.8 L 85.8,276.1\" style=\"fill:none;stroke:#000000;stroke-width:2.0px;stroke-linecap:butt;stroke-linejoin:miter;stroke-opacity:1;\"/>\n",
       "<path d=\"M 88.9,263.4 L 89.1,262.7 L 88.6,262.2\" style=\"fill:none;stroke:#000000;stroke-width:2.0px;stroke-linecap:butt;stroke-linejoin:miter;stroke-opacity:1;\"/>\n",
       "<path d=\"M 65.3,256.5 L 64.6,256.7 L 64.4,257.4\" style=\"fill:none;stroke:#000000;stroke-width:2.0px;stroke-linecap:butt;stroke-linejoin:miter;stroke-opacity:1;\"/>\n",
       "<path d=\"M 61.4,270.2 L 61.2,270.9 L 61.7,271.4\" style=\"fill:none;stroke:#000000;stroke-width:2.0px;stroke-linecap:butt;stroke-linejoin:miter;stroke-opacity:1;\"/>\n",
       "<path class=\"atom-4\" d=\"M 60.4 321.2 L 61.8 323.4 Q 62.0 323.7, 62.2 324.1 Q 62.4 324.5, 62.4 324.5 L 62.4 321.2 L 63.0 321.2 L 63.0 325.4 L 62.4 325.4 L 60.9 323.0 Q 60.7 322.7, 60.5 322.4 Q 60.4 322.0, 60.3 321.9 L 60.3 325.4 L 59.8 325.4 L 59.8 321.2 L 60.4 321.2 \" fill=\"#0000FF\"/>\n",
       "<path class=\"atom-6\" d=\"M 53.4 297.0 L 54.7 299.3 Q 54.9 299.5, 55.1 299.9 Q 55.3 300.3, 55.3 300.3 L 55.3 297.0 L 55.9 297.0 L 55.9 301.3 L 55.3 301.3 L 53.8 298.8 Q 53.7 298.5, 53.5 298.2 Q 53.3 297.8, 53.2 297.7 L 53.2 301.3 L 52.7 301.3 L 52.7 297.0 L 53.4 297.0 \" fill=\"#0000FF\"/>\n",
       "<path class=\"atom-16\" d=\"M 167.7 304.8 Q 167.7 303.7, 168.2 303.2 Q 168.7 302.6, 169.6 302.6 Q 170.6 302.6, 171.1 303.2 Q 171.6 303.7, 171.6 304.8 Q 171.6 305.8, 171.1 306.4 Q 170.6 307.0, 169.6 307.0 Q 168.7 307.0, 168.2 306.4 Q 167.7 305.8, 167.7 304.8 M 169.6 306.5 Q 170.3 306.5, 170.6 306.1 Q 171.0 305.6, 171.0 304.8 Q 171.0 303.9, 170.6 303.5 Q 170.3 303.1, 169.6 303.1 Q 169.0 303.1, 168.6 303.5 Q 168.3 303.9, 168.3 304.8 Q 168.3 305.6, 168.6 306.1 Q 169.0 306.5, 169.6 306.5 \" fill=\"#FF0000\"/>\n",
       "<path class=\"atom-17\" d=\"M 174.8 329.0 Q 174.8 327.9, 175.3 327.4 Q 175.8 326.8, 176.7 326.8 Q 177.6 326.8, 178.1 327.4 Q 178.7 327.9, 178.7 329.0 Q 178.7 330.0, 178.1 330.6 Q 177.6 331.2, 176.7 331.2 Q 175.8 331.2, 175.3 330.6 Q 174.8 330.0, 174.8 329.0 M 176.7 330.7 Q 177.3 330.7, 177.7 330.2 Q 178.1 329.8, 178.1 329.0 Q 178.1 328.1, 177.7 327.7 Q 177.3 327.3, 176.7 327.3 Q 176.1 327.3, 175.7 327.7 Q 175.4 328.1, 175.4 329.0 Q 175.4 329.8, 175.7 330.2 Q 176.1 330.7, 176.7 330.7 \" fill=\"#FF0000\"/>\n",
       "<path class=\"atom-17\" d=\"M 179.3 326.8 L 179.9 326.8 L 179.9 328.6 L 182.1 328.6 L 182.1 326.8 L 182.6 326.8 L 182.6 331.1 L 182.1 331.1 L 182.1 329.1 L 179.9 329.1 L 179.9 331.1 L 179.3 331.1 L 179.3 326.8 \" fill=\"#FF0000\"/>\n",
       "<path class=\"atom-18\" d=\"M 143.2 298.8 Q 143.2 297.8, 143.7 297.2 Q 144.2 296.6, 145.1 296.6 Q 146.1 296.6, 146.6 297.2 Q 147.1 297.8, 147.1 298.8 Q 147.1 299.8, 146.6 300.4 Q 146.1 301.0, 145.1 301.0 Q 144.2 301.0, 143.7 300.4 Q 143.2 299.8, 143.2 298.8 M 145.1 300.5 Q 145.8 300.5, 146.1 300.1 Q 146.5 299.7, 146.5 298.8 Q 146.5 298.0, 146.1 297.6 Q 145.8 297.1, 145.1 297.1 Q 144.5 297.1, 144.1 297.5 Q 143.8 298.0, 143.8 298.8 Q 143.8 299.7, 144.1 300.1 Q 144.5 300.5, 145.1 300.5 \" fill=\"#FF0000\"/>\n",
       "<path class=\"atom-18\" d=\"M 147.8 296.7 L 148.3 296.7 L 148.3 298.5 L 150.5 298.5 L 150.5 296.7 L 151.1 296.7 L 151.1 300.9 L 150.5 300.9 L 150.5 299.0 L 148.3 299.0 L 148.3 300.9 L 147.8 300.9 L 147.8 296.7 \" fill=\"#FF0000\"/>\n",
       "<path class=\"atom-19\" d=\"M 118.7 292.8 Q 118.7 291.8, 119.2 291.3 Q 119.7 290.7, 120.7 290.7 Q 121.6 290.7, 122.1 291.3 Q 122.6 291.8, 122.6 292.8 Q 122.6 293.9, 122.1 294.5 Q 121.6 295.0, 120.7 295.0 Q 119.7 295.0, 119.2 294.5 Q 118.7 293.9, 118.7 292.8 M 120.7 294.6 Q 121.3 294.6, 121.7 294.1 Q 122.0 293.7, 122.0 292.8 Q 122.0 292.0, 121.7 291.6 Q 121.3 291.2, 120.7 291.2 Q 120.0 291.2, 119.7 291.6 Q 119.3 292.0, 119.3 292.8 Q 119.3 293.7, 119.7 294.1 Q 120.0 294.6, 120.7 294.6 \" fill=\"#FF0000\"/>\n",
       "<path class=\"atom-19\" d=\"M 123.3 290.7 L 123.8 290.7 L 123.8 292.5 L 126.0 292.5 L 126.0 290.7 L 126.6 290.7 L 126.6 295.0 L 126.0 295.0 L 126.0 293.0 L 123.8 293.0 L 123.8 295.0 L 123.3 295.0 L 123.3 290.7 \" fill=\"#FF0000\"/>\n",
       "<path class=\"atom-26\" d=\"M 80.8 236.4 L 83.3 236.4 L 83.3 236.9 L 81.3 236.9 L 81.3 238.2 L 83.1 238.2 L 83.1 238.6 L 81.3 238.6 L 81.3 240.6 L 80.8 240.6 L 80.8 236.4 \" fill=\"#33CCCC\"/>\n",
       "<path class=\"atom-27\" d=\"M 36.0 315.2 L 37.3 317.5 Q 37.5 317.7, 37.7 318.1 Q 37.9 318.5, 37.9 318.5 L 37.9 315.2 L 38.5 315.2 L 38.5 319.5 L 37.9 319.5 L 36.4 317.0 Q 36.3 316.7, 36.1 316.4 Q 35.9 316.1, 35.8 316.0 L 35.8 319.5 L 35.3 319.5 L 35.3 315.2 L 36.0 315.2 \" fill=\"#0000FF\"/>\n",
       "<path class=\"atom-29\" d=\"M 32.2 332.9 Q 32.3 333.0, 32.5 333.0 Q 32.7 333.1, 32.9 333.2 Q 33.1 333.2, 33.3 333.2 Q 33.7 333.2, 34.0 333.0 Q 34.2 332.8, 34.2 332.5 Q 34.2 332.3, 34.1 332.1 Q 34.0 332.0, 33.8 331.9 Q 33.6 331.8, 33.3 331.7 Q 32.9 331.6, 32.7 331.5 Q 32.5 331.4, 32.3 331.2 Q 32.2 330.9, 32.2 330.6 Q 32.2 330.0, 32.5 329.7 Q 32.9 329.4, 33.6 329.4 Q 34.1 329.4, 34.7 329.6 L 34.5 330.1 Q 34.0 329.9, 33.6 329.9 Q 33.2 329.9, 33.0 330.0 Q 32.8 330.2, 32.8 330.5 Q 32.8 330.7, 32.9 330.9 Q 33.0 331.0, 33.2 331.1 Q 33.4 331.1, 33.6 331.2 Q 34.0 331.4, 34.3 331.5 Q 34.5 331.6, 34.6 331.8 Q 34.8 332.1, 34.8 332.5 Q 34.8 333.1, 34.4 333.4 Q 34.0 333.7, 33.4 333.7 Q 33.0 333.7, 32.7 333.6 Q 32.4 333.6, 32.1 333.4 L 32.2 332.9 \" fill=\"#CCCC00\"/>\n",
       "<path class=\"atom-30\" d=\"M 45.6 334.9 Q 45.6 333.9, 46.1 333.3 Q 46.6 332.8, 47.6 332.8 Q 48.5 332.8, 49.0 333.3 Q 49.5 333.9, 49.5 334.9 Q 49.5 336.0, 49.0 336.6 Q 48.5 337.1, 47.6 337.1 Q 46.6 337.1, 46.1 336.6 Q 45.6 336.0, 45.6 334.9 M 47.6 336.7 Q 48.2 336.7, 48.6 336.2 Q 48.9 335.8, 48.9 334.9 Q 48.9 334.1, 48.6 333.7 Q 48.2 333.3, 47.6 333.3 Q 46.9 333.3, 46.6 333.7 Q 46.2 334.1, 46.2 334.9 Q 46.2 335.8, 46.6 336.2 Q 46.9 336.7, 47.6 336.7 \" fill=\"#FF0000\"/>\n",
       "<path class=\"atom-31\" d=\"M 17.4 328.1 Q 17.4 327.0, 17.9 326.5 Q 18.4 325.9, 19.3 325.9 Q 20.3 325.9, 20.8 326.5 Q 21.3 327.0, 21.3 328.1 Q 21.3 329.1, 20.8 329.7 Q 20.2 330.3, 19.3 330.3 Q 18.4 330.3, 17.9 329.7 Q 17.4 329.1, 17.4 328.1 M 19.3 329.8 Q 20.0 329.8, 20.3 329.3 Q 20.7 328.9, 20.7 328.1 Q 20.7 327.2, 20.3 326.8 Q 20.0 326.4, 19.3 326.4 Q 18.7 326.4, 18.3 326.8 Q 18.0 327.2, 18.0 328.1 Q 18.0 328.9, 18.3 329.3 Q 18.7 329.8, 19.3 329.8 \" fill=\"#FF0000\"/>\n",
       "<path class=\"legend\" d=\"M 79.8 386.0 L 81.1 386.0 L 81.1 387.3 L 79.8 387.3 L 79.8 389.9 L 78.3 389.9 L 78.3 387.3 L 72.4 387.3 L 72.4 386.3 L 77.4 378.5 L 79.8 378.5 L 79.8 386.0 M 74.3 386.0 L 78.3 386.0 L 78.3 379.6 L 74.3 386.0 \" fill=\"#000000\"/>\n",
       "<path class=\"legend\" d=\"M 90.1 386.0 L 91.4 386.0 L 91.4 387.3 L 90.1 387.3 L 90.1 389.9 L 88.6 389.9 L 88.6 387.3 L 82.7 387.3 L 82.7 386.3 L 87.7 378.5 L 90.1 378.5 L 90.1 386.0 M 84.6 386.0 L 88.6 386.0 L 88.6 379.6 L 84.6 386.0 \" fill=\"#000000\"/>\n",
       "<path class=\"legend\" d=\"M 97.4 382.8 Q 98.4 382.8, 99.2 383.2 Q 100.0 383.7, 100.4 384.4 Q 100.9 385.2, 100.9 386.2 Q 100.9 387.3, 100.4 388.2 Q 99.9 389.0, 99.0 389.5 Q 98.2 390.0, 97.1 390.0 Q 95.0 390.0, 94.0 388.6 Q 93.0 387.3, 93.0 384.5 Q 93.0 381.5, 94.3 380.0 Q 95.5 378.4, 97.9 378.4 Q 98.6 378.4, 99.2 378.6 Q 99.8 378.7, 100.4 379.1 L 99.8 380.1 Q 99.0 379.7, 98.0 379.7 Q 96.4 379.7, 95.5 380.7 Q 94.7 381.8, 94.6 383.9 Q 95.2 383.4, 95.9 383.1 Q 96.7 382.8, 97.4 382.8 M 97.1 388.7 Q 97.7 388.7, 98.2 388.4 Q 98.7 388.0, 99.0 387.5 Q 99.3 386.9, 99.3 386.2 Q 99.3 385.2, 98.7 384.7 Q 98.1 384.1, 97.2 384.1 Q 96.5 384.1, 95.8 384.4 Q 95.1 384.6, 94.6 385.1 Q 94.7 387.0, 95.3 387.8 Q 95.9 388.7, 97.1 388.7 \" fill=\"#000000\"/>\n",
       "<path class=\"legend\" d=\"M 103.2 388.6 L 105.6 388.6 L 105.6 380.1 L 102.9 381.0 L 102.5 380.0 L 106.0 378.5 L 107.1 378.7 L 107.1 388.6 L 109.4 388.6 L 109.4 389.9 L 103.2 389.9 L 103.2 388.6 \" fill=\"#000000\"/>\n",
       "<path class=\"legend\" d=\"M 114.9 382.8 Q 115.9 382.8, 116.8 383.2 Q 117.6 383.6, 118.0 384.4 Q 118.5 385.2, 118.5 386.3 Q 118.5 387.5, 117.9 388.3 Q 117.4 389.1, 116.4 389.6 Q 115.5 390.0, 114.4 390.0 Q 113.4 390.0, 112.4 389.6 Q 111.5 389.2, 110.8 388.5 L 111.8 387.5 Q 112.3 388.1, 113.0 388.4 Q 113.8 388.7, 114.5 388.7 Q 115.5 388.7, 116.2 388.1 Q 116.9 387.5, 116.9 386.3 Q 116.9 385.1, 116.2 384.6 Q 115.5 384.0, 114.4 384.0 Q 113.4 384.0, 112.3 384.4 L 111.4 384.0 L 112.0 378.5 L 117.8 378.5 L 117.6 379.8 L 113.3 379.8 L 112.9 383.2 Q 114.0 382.8, 114.9 382.8 \" fill=\"#000000\"/>\n",
       "<path class=\"legend\" d=\"M 126.0 379.8 L 120.1 379.8 L 120.1 378.5 L 127.6 378.5 L 127.6 379.7 L 123.0 389.9 L 121.5 389.9 L 126.0 379.8 \" fill=\"#000000\"/>\n",
       "<path class=\"bond-0 atom-0 atom-1\" d=\"M 300.9,329.2 L 308.1,341.8\" style=\"fill:none;fill-rule:evenodd;stroke:#000000;stroke-width:2.0px;stroke-linecap:butt;stroke-linejoin:miter;stroke-opacity:1\"/>\n",
       "<path class=\"bond-1 atom-1 atom-2\" d=\"M 308.1,341.8 L 315.5,329.3\" style=\"fill:none;fill-rule:evenodd;stroke:#000000;stroke-width:2.0px;stroke-linecap:butt;stroke-linejoin:miter;stroke-opacity:1\"/>\n",
       "<path class=\"bond-2 atom-2 atom-3\" d=\"M 315.5,329.3 L 328.1,322.2\" style=\"fill:none;fill-rule:evenodd;stroke:#000000;stroke-width:2.0px;stroke-linecap:butt;stroke-linejoin:miter;stroke-opacity:1\"/>\n",
       "<path class=\"bond-3 atom-3 atom-4\" d=\"M 328.1,322.2 L 333.3,325.2\" style=\"fill:none;fill-rule:evenodd;stroke:#000000;stroke-width:2.0px;stroke-linecap:butt;stroke-linejoin:miter;stroke-opacity:1\"/>\n",
       "<path class=\"bond-3 atom-3 atom-4\" d=\"M 333.3,325.2 L 338.6,328.3\" style=\"fill:none;fill-rule:evenodd;stroke:#0000FF;stroke-width:2.0px;stroke-linecap:butt;stroke-linejoin:miter;stroke-opacity:1\"/>\n",
       "<path class=\"bond-3 atom-3 atom-4\" d=\"M 330.3,320.9 L 335.0,323.7\" style=\"fill:none;fill-rule:evenodd;stroke:#000000;stroke-width:2.0px;stroke-linecap:butt;stroke-linejoin:miter;stroke-opacity:1\"/>\n",
       "<path class=\"bond-3 atom-3 atom-4\" d=\"M 335.0,323.7 L 339.7,326.4\" style=\"fill:none;fill-rule:evenodd;stroke:#0000FF;stroke-width:2.0px;stroke-linecap:butt;stroke-linejoin:miter;stroke-opacity:1\"/>\n",
       "<path class=\"bond-4 atom-4 atom-5\" d=\"M 342.7,328.4 L 348.0,325.4\" style=\"fill:none;fill-rule:evenodd;stroke:#0000FF;stroke-width:2.0px;stroke-linecap:butt;stroke-linejoin:miter;stroke-opacity:1\"/>\n",
       "<path class=\"bond-4 atom-4 atom-5\" d=\"M 348.0,325.4 L 353.3,322.4\" style=\"fill:none;fill-rule:evenodd;stroke:#000000;stroke-width:2.0px;stroke-linecap:butt;stroke-linejoin:miter;stroke-opacity:1\"/>\n",
       "<path class=\"bond-5 atom-5 atom-6\" d=\"M 353.3,322.4 L 365.9,329.8\" style=\"fill:none;fill-rule:evenodd;stroke:#000000;stroke-width:2.0px;stroke-linecap:butt;stroke-linejoin:miter;stroke-opacity:1\"/>\n",
       "<path class=\"bond-5 atom-5 atom-6\" d=\"M 355.5,321.2 L 365.9,327.3\" style=\"fill:none;fill-rule:evenodd;stroke:#000000;stroke-width:2.0px;stroke-linecap:butt;stroke-linejoin:miter;stroke-opacity:1\"/>\n",
       "<path class=\"bond-6 atom-6 atom-7\" d=\"M 365.9,329.8 L 378.5,322.6\" style=\"fill:none;fill-rule:evenodd;stroke:#000000;stroke-width:2.0px;stroke-linecap:butt;stroke-linejoin:miter;stroke-opacity:1\"/>\n",
       "<path class=\"bond-7 atom-7 atom-8\" d=\"M 378.5,322.6 L 378.7,308.1\" style=\"fill:none;fill-rule:evenodd;stroke:#000000;stroke-width:2.0px;stroke-linecap:butt;stroke-linejoin:miter;stroke-opacity:1\"/>\n",
       "<path class=\"bond-7 atom-7 atom-8\" d=\"M 376.3,321.4 L 376.5,309.3\" style=\"fill:none;fill-rule:evenodd;stroke:#000000;stroke-width:2.0px;stroke-linecap:butt;stroke-linejoin:miter;stroke-opacity:1\"/>\n",
       "<path class=\"bond-8 atom-8 atom-9\" d=\"M 378.7,308.1 L 366.1,300.7\" style=\"fill:none;fill-rule:evenodd;stroke:#000000;stroke-width:2.0px;stroke-linecap:butt;stroke-linejoin:miter;stroke-opacity:1\"/>\n",
       "<path class=\"bond-9 atom-9 atom-10\" d=\"M 366.1,300.7 L 353.5,307.9\" style=\"fill:none;fill-rule:evenodd;stroke:#000000;stroke-width:2.0px;stroke-linecap:butt;stroke-linejoin:miter;stroke-opacity:1\"/>\n",
       "<path class=\"bond-9 atom-9 atom-10\" d=\"M 366.1,303.2 L 355.6,309.1\" style=\"fill:none;fill-rule:evenodd;stroke:#000000;stroke-width:2.0px;stroke-linecap:butt;stroke-linejoin:miter;stroke-opacity:1\"/>\n",
       "<path class=\"bond-10 atom-10 atom-11\" d=\"M 353.5,307.9 L 340.9,300.5\" style=\"fill:none;fill-rule:evenodd;stroke:#000000;stroke-width:2.0px;stroke-linecap:butt;stroke-linejoin:miter;stroke-opacity:1\"/>\n",
       "<path class=\"bond-11 atom-11 atom-12\" d=\"M 340.9,300.5 L 328.3,307.6\" style=\"fill:none;fill-rule:evenodd;stroke:#000000;stroke-width:2.0px;stroke-linecap:butt;stroke-linejoin:miter;stroke-opacity:1\"/>\n",
       "<path class=\"bond-11 atom-11 atom-12\" d=\"M 340.9,303.0 L 330.4,308.9\" style=\"fill:none;fill-rule:evenodd;stroke:#000000;stroke-width:2.0px;stroke-linecap:butt;stroke-linejoin:miter;stroke-opacity:1\"/>\n",
       "<path class=\"bond-12 atom-12 atom-13\" d=\"M 328.3,307.6 L 315.7,300.2\" style=\"fill:none;fill-rule:evenodd;stroke:#000000;stroke-width:2.0px;stroke-linecap:butt;stroke-linejoin:miter;stroke-opacity:1\"/>\n",
       "<path class=\"bond-13 atom-13 atom-14\" d=\"M 315.7,300.2 L 303.1,307.4\" style=\"fill:none;fill-rule:evenodd;stroke:#000000;stroke-width:2.0px;stroke-linecap:butt;stroke-linejoin:miter;stroke-opacity:1\"/>\n",
       "<path class=\"bond-13 atom-13 atom-14\" d=\"M 315.7,302.7 L 304.1,309.3\" style=\"fill:none;fill-rule:evenodd;stroke:#000000;stroke-width:2.0px;stroke-linecap:butt;stroke-linejoin:miter;stroke-opacity:1\"/>\n",
       "<path class=\"bond-14 atom-14 atom-15\" d=\"M 303.1,307.4 L 290.5,300.0\" style=\"fill:none;fill-rule:evenodd;stroke:#000000;stroke-width:2.0px;stroke-linecap:butt;stroke-linejoin:miter;stroke-opacity:1\"/>\n",
       "<path class=\"bond-15 atom-15 atom-16\" d=\"M 290.5,300.0 L 277.9,307.1\" style=\"fill:none;fill-rule:evenodd;stroke:#000000;stroke-width:2.0px;stroke-linecap:butt;stroke-linejoin:miter;stroke-opacity:1\"/>\n",
       "<path class=\"bond-16 atom-16 atom-17\" d=\"M 277.9,307.1 L 265.3,299.7\" style=\"fill:none;fill-rule:evenodd;stroke:#000000;stroke-width:2.0px;stroke-linecap:butt;stroke-linejoin:miter;stroke-opacity:1\"/>\n",
       "<path class=\"bond-17 atom-17 atom-18\" d=\"M 265.3,299.7 L 252.7,306.9\" style=\"fill:none;fill-rule:evenodd;stroke:#000000;stroke-width:2.0px;stroke-linecap:butt;stroke-linejoin:miter;stroke-opacity:1\"/>\n",
       "<path class=\"bond-18 atom-18 atom-19\" d=\"M 252.7,306.9 L 240.2,299.5\" style=\"fill:none;fill-rule:evenodd;stroke:#000000;stroke-width:2.0px;stroke-linecap:butt;stroke-linejoin:miter;stroke-opacity:1\"/>\n",
       "<path class=\"bond-19 atom-19 atom-20\" d=\"M 241.2,300.1 L 241.3,293.9\" style=\"fill:none;fill-rule:evenodd;stroke:#000000;stroke-width:2.0px;stroke-linecap:butt;stroke-linejoin:miter;stroke-opacity:1\"/>\n",
       "<path class=\"bond-19 atom-19 atom-20\" d=\"M 241.3,293.9 L 241.4,287.7\" style=\"fill:none;fill-rule:evenodd;stroke:#FF0000;stroke-width:2.0px;stroke-linecap:butt;stroke-linejoin:miter;stroke-opacity:1\"/>\n",
       "<path class=\"bond-19 atom-19 atom-20\" d=\"M 239.1,300.1 L 239.1,293.9\" style=\"fill:none;fill-rule:evenodd;stroke:#000000;stroke-width:2.0px;stroke-linecap:butt;stroke-linejoin:miter;stroke-opacity:1\"/>\n",
       "<path class=\"bond-19 atom-19 atom-20\" d=\"M 239.1,293.9 L 239.2,287.6\" style=\"fill:none;fill-rule:evenodd;stroke:#FF0000;stroke-width:2.0px;stroke-linecap:butt;stroke-linejoin:miter;stroke-opacity:1\"/>\n",
       "<path class=\"bond-20 atom-19 atom-21\" d=\"M 240.2,299.5 L 235.0,302.4\" style=\"fill:none;fill-rule:evenodd;stroke:#000000;stroke-width:2.0px;stroke-linecap:butt;stroke-linejoin:miter;stroke-opacity:1\"/>\n",
       "<path class=\"bond-20 atom-19 atom-21\" d=\"M 235.0,302.4 L 229.9,305.3\" style=\"fill:none;fill-rule:evenodd;stroke:#FF0000;stroke-width:2.0px;stroke-linecap:butt;stroke-linejoin:miter;stroke-opacity:1\"/>\n",
       "<path class=\"bond-21 atom-17 atom-22\" d=\"M 265.0,295.9 L 265.7,296.0\" style=\"fill:none;fill-rule:evenodd;stroke:#000000;stroke-width:1.0px;stroke-linecap:butt;stroke-linejoin:miter;stroke-opacity:1\"/>\n",
       "<path class=\"bond-21 atom-17 atom-22\" d=\"M 264.7,292.2 L 266.1,292.2\" style=\"fill:none;fill-rule:evenodd;stroke:#FF0000;stroke-width:1.0px;stroke-linecap:butt;stroke-linejoin:miter;stroke-opacity:1\"/>\n",
       "<path class=\"bond-21 atom-17 atom-22\" d=\"M 264.4,288.4 L 266.5,288.4\" style=\"fill:none;fill-rule:evenodd;stroke:#FF0000;stroke-width:1.0px;stroke-linecap:butt;stroke-linejoin:miter;stroke-opacity:1\"/>\n",
       "<path class=\"bond-22 atom-15 atom-23\" d=\"M 290.2,296.2 L 290.9,296.2\" style=\"fill:none;fill-rule:evenodd;stroke:#000000;stroke-width:1.0px;stroke-linecap:butt;stroke-linejoin:miter;stroke-opacity:1\"/>\n",
       "<path class=\"bond-22 atom-15 atom-23\" d=\"M 289.9,292.4 L 291.3,292.4\" style=\"fill:none;fill-rule:evenodd;stroke:#FF0000;stroke-width:1.0px;stroke-linecap:butt;stroke-linejoin:miter;stroke-opacity:1\"/>\n",
       "<path class=\"bond-22 atom-15 atom-23\" d=\"M 289.6,288.6 L 291.7,288.6\" style=\"fill:none;fill-rule:evenodd;stroke:#FF0000;stroke-width:1.0px;stroke-linecap:butt;stroke-linejoin:miter;stroke-opacity:1\"/>\n",
       "<path class=\"bond-23 atom-11 atom-24\" d=\"M 340.9,300.5 L 341.1,285.9\" style=\"fill:none;fill-rule:evenodd;stroke:#000000;stroke-width:2.0px;stroke-linecap:butt;stroke-linejoin:miter;stroke-opacity:1\"/>\n",
       "<path class=\"bond-24 atom-24 atom-25\" d=\"M 341.1,285.9 L 353.7,278.8\" style=\"fill:none;fill-rule:evenodd;stroke:#000000;stroke-width:2.0px;stroke-linecap:butt;stroke-linejoin:miter;stroke-opacity:1\"/>\n",
       "<path class=\"bond-24 atom-24 atom-25\" d=\"M 341.1,283.4 L 351.6,277.5\" style=\"fill:none;fill-rule:evenodd;stroke:#000000;stroke-width:2.0px;stroke-linecap:butt;stroke-linejoin:miter;stroke-opacity:1\"/>\n",
       "<path class=\"bond-25 atom-25 atom-26\" d=\"M 353.7,278.8 L 353.9,264.2\" style=\"fill:none;fill-rule:evenodd;stroke:#000000;stroke-width:2.0px;stroke-linecap:butt;stroke-linejoin:miter;stroke-opacity:1\"/>\n",
       "<path class=\"bond-26 atom-26 atom-27\" d=\"M 353.9,264.2 L 341.4,256.8\" style=\"fill:none;fill-rule:evenodd;stroke:#000000;stroke-width:2.0px;stroke-linecap:butt;stroke-linejoin:miter;stroke-opacity:1\"/>\n",
       "<path class=\"bond-26 atom-26 atom-27\" d=\"M 351.7,265.5 L 341.3,259.3\" style=\"fill:none;fill-rule:evenodd;stroke:#000000;stroke-width:2.0px;stroke-linecap:butt;stroke-linejoin:miter;stroke-opacity:1\"/>\n",
       "<path class=\"bond-27 atom-27 atom-28\" d=\"M 341.4,256.8 L 328.7,264.0\" style=\"fill:none;fill-rule:evenodd;stroke:#000000;stroke-width:2.0px;stroke-linecap:butt;stroke-linejoin:miter;stroke-opacity:1\"/>\n",
       "<path class=\"bond-28 atom-28 atom-29\" d=\"M 328.7,264.0 L 328.5,278.5\" style=\"fill:none;fill-rule:evenodd;stroke:#000000;stroke-width:2.0px;stroke-linecap:butt;stroke-linejoin:miter;stroke-opacity:1\"/>\n",
       "<path class=\"bond-28 atom-28 atom-29\" d=\"M 330.9,265.3 L 330.7,277.3\" style=\"fill:none;fill-rule:evenodd;stroke:#000000;stroke-width:2.0px;stroke-linecap:butt;stroke-linejoin:miter;stroke-opacity:1\"/>\n",
       "<path class=\"bond-29 atom-27 atom-30\" d=\"M 341.4,256.8 L 341.4,250.9\" style=\"fill:none;fill-rule:evenodd;stroke:#000000;stroke-width:2.0px;stroke-linecap:butt;stroke-linejoin:miter;stroke-opacity:1\"/>\n",
       "<path class=\"bond-29 atom-27 atom-30\" d=\"M 341.4,250.9 L 341.5,244.9\" style=\"fill:none;fill-rule:evenodd;stroke:#33CCCC;stroke-width:2.0px;stroke-linecap:butt;stroke-linejoin:miter;stroke-opacity:1\"/>\n",
       "<path class=\"bond-30 atom-2 atom-0\" d=\"M 315.5,329.3 L 300.9,329.2\" style=\"fill:none;fill-rule:evenodd;stroke:#000000;stroke-width:2.0px;stroke-linecap:butt;stroke-linejoin:miter;stroke-opacity:1\"/>\n",
       "<path class=\"bond-31 atom-12 atom-3\" d=\"M 328.3,307.6 L 328.1,322.2\" style=\"fill:none;fill-rule:evenodd;stroke:#000000;stroke-width:2.0px;stroke-linecap:butt;stroke-linejoin:miter;stroke-opacity:1\"/>\n",
       "<path class=\"bond-32 atom-10 atom-5\" d=\"M 353.5,307.9 L 353.3,322.4\" style=\"fill:none;fill-rule:evenodd;stroke:#000000;stroke-width:2.0px;stroke-linecap:butt;stroke-linejoin:miter;stroke-opacity:1\"/>\n",
       "<path class=\"bond-33 atom-29 atom-24\" d=\"M 328.5,278.5 L 341.1,285.9\" style=\"fill:none;fill-rule:evenodd;stroke:#000000;stroke-width:2.0px;stroke-linecap:butt;stroke-linejoin:miter;stroke-opacity:1\"/>\n",
       "<path d=\"M 301.3,329.8 L 300.9,329.2 L 301.6,329.2\" style=\"fill:none;stroke:#000000;stroke-width:2.0px;stroke-linecap:butt;stroke-linejoin:miter;stroke-opacity:1;\"/>\n",
       "<path d=\"M 307.7,341.2 L 308.1,341.8 L 308.4,341.2\" style=\"fill:none;stroke:#000000;stroke-width:2.0px;stroke-linecap:butt;stroke-linejoin:miter;stroke-opacity:1;\"/>\n",
       "<path d=\"M 365.2,329.4 L 365.9,329.8 L 366.5,329.4\" style=\"fill:none;stroke:#000000;stroke-width:2.0px;stroke-linecap:butt;stroke-linejoin:miter;stroke-opacity:1;\"/>\n",
       "<path d=\"M 377.9,323.0 L 378.5,322.6 L 378.5,321.9\" style=\"fill:none;stroke:#000000;stroke-width:2.0px;stroke-linecap:butt;stroke-linejoin:miter;stroke-opacity:1;\"/>\n",
       "<path d=\"M 378.7,308.8 L 378.7,308.1 L 378.0,307.7\" style=\"fill:none;stroke:#000000;stroke-width:2.0px;stroke-linecap:butt;stroke-linejoin:miter;stroke-opacity:1;\"/>\n",
       "<path d=\"M 366.8,301.1 L 366.1,300.7 L 365.5,301.1\" style=\"fill:none;stroke:#000000;stroke-width:2.0px;stroke-linecap:butt;stroke-linejoin:miter;stroke-opacity:1;\"/>\n",
       "<path d=\"M 316.4,300.6 L 315.7,300.2 L 315.1,300.6\" style=\"fill:none;stroke:#000000;stroke-width:2.0px;stroke-linecap:butt;stroke-linejoin:miter;stroke-opacity:1;\"/>\n",
       "<path d=\"M 303.7,307.0 L 303.1,307.4 L 302.4,307.0\" style=\"fill:none;stroke:#000000;stroke-width:2.0px;stroke-linecap:butt;stroke-linejoin:miter;stroke-opacity:1;\"/>\n",
       "<path d=\"M 291.2,300.4 L 290.5,300.0 L 289.9,300.3\" style=\"fill:none;stroke:#000000;stroke-width:2.0px;stroke-linecap:butt;stroke-linejoin:miter;stroke-opacity:1;\"/>\n",
       "<path d=\"M 278.5,306.8 L 277.9,307.1 L 277.3,306.8\" style=\"fill:none;stroke:#000000;stroke-width:2.0px;stroke-linecap:butt;stroke-linejoin:miter;stroke-opacity:1;\"/>\n",
       "<path d=\"M 266.0,300.1 L 265.3,299.7 L 264.7,300.1\" style=\"fill:none;stroke:#000000;stroke-width:2.0px;stroke-linecap:butt;stroke-linejoin:miter;stroke-opacity:1;\"/>\n",
       "<path d=\"M 253.3,306.5 L 252.7,306.9 L 252.1,306.5\" style=\"fill:none;stroke:#000000;stroke-width:2.0px;stroke-linecap:butt;stroke-linejoin:miter;stroke-opacity:1;\"/>\n",
       "<path d=\"M 240.8,299.9 L 240.2,299.5 L 239.9,299.6\" style=\"fill:none;stroke:#000000;stroke-width:2.0px;stroke-linecap:butt;stroke-linejoin:miter;stroke-opacity:1;\"/>\n",
       "<path d=\"M 353.1,279.1 L 353.7,278.8 L 353.8,278.0\" style=\"fill:none;stroke:#000000;stroke-width:2.0px;stroke-linecap:butt;stroke-linejoin:miter;stroke-opacity:1;\"/>\n",
       "<path d=\"M 353.9,264.9 L 353.9,264.2 L 353.3,263.9\" style=\"fill:none;stroke:#000000;stroke-width:2.0px;stroke-linecap:butt;stroke-linejoin:miter;stroke-opacity:1;\"/>\n",
       "<path d=\"M 329.3,263.6 L 328.7,264.0 L 328.7,264.7\" style=\"fill:none;stroke:#000000;stroke-width:2.0px;stroke-linecap:butt;stroke-linejoin:miter;stroke-opacity:1;\"/>\n",
       "<path d=\"M 328.6,277.8 L 328.5,278.5 L 329.2,278.9\" style=\"fill:none;stroke:#000000;stroke-width:2.0px;stroke-linecap:butt;stroke-linejoin:miter;stroke-opacity:1;\"/>\n",
       "<path class=\"atom-4\" d=\"M 339.7 327.4 L 341.1 329.7 Q 341.2 329.9, 341.5 330.3 Q 341.7 330.7, 341.7 330.7 L 341.7 327.4 L 342.3 327.4 L 342.3 331.7 L 341.7 331.7 L 340.2 329.2 Q 340.0 328.9, 339.8 328.6 Q 339.7 328.3, 339.6 328.2 L 339.6 331.7 L 339.0 331.7 L 339.0 327.4 L 339.7 327.4 \" fill=\"#0000FF\"/>\n",
       "<path class=\"atom-20\" d=\"M 238.3 285.0 Q 238.3 283.9, 238.8 283.4 Q 239.4 282.8, 240.3 282.8 Q 241.2 282.8, 241.7 283.4 Q 242.2 283.9, 242.2 285.0 Q 242.2 286.0, 241.7 286.6 Q 241.2 287.2, 240.3 287.2 Q 239.4 287.2, 238.8 286.6 Q 238.3 286.0, 238.3 285.0 M 240.3 286.7 Q 240.9 286.7, 241.3 286.3 Q 241.6 285.8, 241.6 285.0 Q 241.6 284.1, 241.3 283.7 Q 240.9 283.3, 240.3 283.3 Q 239.6 283.3, 239.3 283.7 Q 238.9 284.1, 238.9 285.0 Q 238.9 285.8, 239.3 286.3 Q 239.6 286.7, 240.3 286.7 \" fill=\"#FF0000\"/>\n",
       "<path class=\"atom-21\" d=\"M 221.3 304.5 L 221.9 304.5 L 221.9 306.4 L 224.1 306.4 L 224.1 304.5 L 224.7 304.5 L 224.7 308.8 L 224.1 308.8 L 224.1 306.8 L 221.9 306.8 L 221.9 308.8 L 221.3 308.8 L 221.3 304.5 \" fill=\"#FF0000\"/>\n",
       "<path class=\"atom-21\" d=\"M 225.5 306.7 Q 225.5 305.6, 226.0 305.1 Q 226.5 304.5, 227.5 304.5 Q 228.4 304.5, 228.9 305.1 Q 229.4 305.6, 229.4 306.7 Q 229.4 307.7, 228.9 308.3 Q 228.4 308.9, 227.5 308.9 Q 226.5 308.9, 226.0 308.3 Q 225.5 307.7, 225.5 306.7 M 227.5 308.4 Q 228.1 308.4, 228.5 308.0 Q 228.8 307.5, 228.8 306.7 Q 228.8 305.8, 228.5 305.4 Q 228.1 305.0, 227.5 305.0 Q 226.8 305.0, 226.5 305.4 Q 226.1 305.8, 226.1 306.7 Q 226.1 307.5, 226.5 308.0 Q 226.8 308.4, 227.5 308.4 \" fill=\"#FF0000\"/>\n",
       "<path class=\"atom-22\" d=\"M 263.5 285.2 Q 263.5 284.2, 264.0 283.6 Q 264.5 283.0, 265.5 283.0 Q 266.4 283.0, 266.9 283.6 Q 267.4 284.2, 267.4 285.2 Q 267.4 286.2, 266.9 286.8 Q 266.4 287.4, 265.5 287.4 Q 264.6 287.4, 264.0 286.8 Q 263.5 286.2, 263.5 285.2 M 265.5 286.9 Q 266.1 286.9, 266.5 286.5 Q 266.8 286.1, 266.8 285.2 Q 266.8 284.4, 266.5 284.0 Q 266.1 283.5, 265.5 283.5 Q 264.8 283.5, 264.5 283.9 Q 264.1 284.4, 264.1 285.2 Q 264.1 286.1, 264.5 286.5 Q 264.8 286.9, 265.5 286.9 \" fill=\"#FF0000\"/>\n",
       "<path class=\"atom-22\" d=\"M 268.1 283.1 L 268.7 283.1 L 268.7 284.9 L 270.8 284.9 L 270.8 283.1 L 271.4 283.1 L 271.4 287.3 L 270.8 287.3 L 270.8 285.4 L 268.7 285.4 L 268.7 287.3 L 268.1 287.3 L 268.1 283.1 \" fill=\"#FF0000\"/>\n",
       "<path class=\"atom-23\" d=\"M 288.7 285.4 Q 288.7 284.4, 289.2 283.9 Q 289.7 283.3, 290.7 283.3 Q 291.6 283.3, 292.1 283.9 Q 292.6 284.4, 292.6 285.4 Q 292.6 286.5, 292.1 287.1 Q 291.6 287.6, 290.7 287.6 Q 289.7 287.6, 289.2 287.1 Q 288.7 286.5, 288.7 285.4 M 290.7 287.2 Q 291.3 287.2, 291.7 286.7 Q 292.0 286.3, 292.0 285.4 Q 292.0 284.6, 291.7 284.2 Q 291.3 283.8, 290.7 283.8 Q 290.0 283.8, 289.7 284.2 Q 289.3 284.6, 289.3 285.4 Q 289.3 286.3, 289.7 286.7 Q 290.0 287.2, 290.7 287.2 \" fill=\"#FF0000\"/>\n",
       "<path class=\"atom-23\" d=\"M 293.3 283.3 L 293.9 283.3 L 293.9 285.1 L 296.0 285.1 L 296.0 283.3 L 296.6 283.3 L 296.6 287.6 L 296.0 287.6 L 296.0 285.6 L 293.9 285.6 L 293.9 287.6 L 293.3 287.6 L 293.3 283.3 \" fill=\"#FF0000\"/>\n",
       "<path class=\"atom-30\" d=\"M 340.2 240.2 L 342.8 240.2 L 342.8 240.6 L 340.8 240.6 L 340.8 241.9 L 342.5 241.9 L 342.5 242.4 L 340.8 242.4 L 340.8 244.4 L 340.2 244.4 L 340.2 240.2 \" fill=\"#33CCCC\"/>\n",
       "<path class=\"legend\" d=\"M 271.7 382.8 Q 272.7 382.8, 273.5 383.2 Q 274.3 383.6, 274.7 384.4 Q 275.2 385.2, 275.2 386.3 Q 275.2 387.4, 274.6 388.3 Q 274.1 389.1, 273.1 389.5 Q 272.2 390.0, 271.2 390.0 Q 270.1 390.0, 269.2 389.6 Q 268.2 389.2, 267.5 388.5 L 268.5 387.5 Q 269.0 388.0, 269.8 388.4 Q 270.5 388.7, 271.2 388.7 Q 272.2 388.7, 272.9 388.0 Q 273.6 387.4, 273.6 386.3 Q 273.6 385.1, 272.9 384.5 Q 272.2 384.0, 271.1 384.0 Q 270.1 384.0, 269.0 384.4 L 268.1 384.0 L 268.7 378.5 L 274.5 378.5 L 274.3 379.8 L 270.0 379.8 L 269.7 383.2 Q 270.7 382.8, 271.7 382.8 \" fill=\"#000000\"/>\n",
       "<path class=\"legend\" d=\"M 276.8 380.7 Q 277.2 379.6, 278.2 379.0 Q 279.2 378.4, 280.6 378.4 Q 282.3 378.4, 283.2 379.3 Q 284.2 380.2, 284.2 381.9 Q 284.2 383.6, 283.0 385.1 Q 281.7 386.7, 279.2 388.6 L 284.4 388.6 L 284.4 389.8 L 276.8 389.8 L 276.8 388.8 Q 278.9 387.3, 280.1 386.1 Q 281.4 385.0, 282.0 384.0 Q 282.6 383.0, 282.6 382.0 Q 282.6 380.9, 282.1 380.3 Q 281.5 379.7, 280.6 379.7 Q 279.7 379.7, 279.1 380.0 Q 278.4 380.4, 278.0 381.2 L 276.8 380.7 \" fill=\"#000000\"/>\n",
       "<path class=\"legend\" d=\"M 291.9 383.8 Q 293.0 384.3, 293.6 385.0 Q 294.1 385.6, 294.1 386.7 Q 294.1 387.7, 293.6 388.4 Q 293.2 389.2, 292.3 389.6 Q 291.4 390.0, 290.2 390.0 Q 288.3 390.0, 287.2 389.1 Q 286.1 388.3, 286.1 386.7 Q 286.1 385.8, 286.6 385.1 Q 287.1 384.4, 288.1 383.9 Q 287.4 383.5, 287.0 382.9 Q 286.6 382.2, 286.6 381.3 Q 286.6 380.0, 287.5 379.2 Q 288.5 378.4, 290.1 378.4 Q 291.8 378.4, 292.8 379.2 Q 293.7 380.0, 293.7 381.3 Q 293.7 382.1, 293.3 382.7 Q 292.8 383.3, 291.9 383.8 M 290.1 379.6 Q 289.2 379.6, 288.7 380.0 Q 288.2 380.5, 288.2 381.3 Q 288.2 381.9, 288.5 382.3 Q 288.9 382.7, 289.4 382.9 Q 289.9 383.1, 290.8 383.4 Q 291.5 383.0, 291.8 382.4 Q 292.1 381.9, 292.1 381.3 Q 292.1 380.5, 291.6 380.0 Q 291.1 379.6, 290.1 379.6 M 290.2 388.8 Q 291.3 388.8, 291.9 388.2 Q 292.5 387.7, 292.5 386.7 Q 292.5 386.1, 292.2 385.7 Q 291.9 385.3, 291.4 385.1 Q 290.9 384.9, 290.0 384.6 L 289.2 384.4 Q 288.4 384.8, 288.1 385.4 Q 287.7 386.0, 287.7 386.7 Q 287.7 387.7, 288.4 388.2 Q 289.1 388.8, 290.2 388.8 \" fill=\"#000000\"/>\n",
       "<path class=\"legend\" d=\"M 296.0 380.7 Q 296.4 379.6, 297.4 379.0 Q 298.4 378.4, 299.7 378.4 Q 301.5 378.4, 302.4 379.3 Q 303.4 380.2, 303.4 381.9 Q 303.4 383.6, 302.1 385.1 Q 300.9 386.7, 298.3 388.6 L 303.6 388.6 L 303.6 389.8 L 295.9 389.8 L 295.9 388.8 Q 298.0 387.3, 299.3 386.1 Q 300.6 385.0, 301.2 384.0 Q 301.8 383.0, 301.8 382.0 Q 301.8 380.9, 301.2 380.3 Q 300.7 379.7, 299.7 379.7 Q 298.8 379.7, 298.2 380.0 Q 297.6 380.4, 297.2 381.2 L 296.0 380.7 \" fill=\"#000000\"/>\n",
       "<path class=\"legend\" d=\"M 312.7 386.0 L 314.0 386.0 L 314.0 387.2 L 312.7 387.2 L 312.7 389.8 L 311.2 389.8 L 311.2 387.2 L 305.3 387.2 L 305.3 386.2 L 310.3 378.5 L 312.7 378.5 L 312.7 386.0 M 307.2 386.0 L 311.2 386.0 L 311.2 379.5 L 307.2 386.0 \" fill=\"#000000\"/>\n",
       "<path class=\"legend\" d=\"M 319.7 382.8 Q 320.7 382.8, 321.5 383.2 Q 322.3 383.6, 322.8 384.4 Q 323.3 385.2, 323.3 386.3 Q 323.3 387.4, 322.7 388.3 Q 322.1 389.1, 321.2 389.5 Q 320.3 390.0, 319.2 390.0 Q 318.2 390.0, 317.2 389.6 Q 316.3 389.2, 315.6 388.5 L 316.6 387.5 Q 317.1 388.0, 317.8 388.4 Q 318.5 388.7, 319.3 388.7 Q 320.3 388.7, 321.0 388.0 Q 321.7 387.4, 321.7 386.3 Q 321.7 385.1, 321.0 384.5 Q 320.3 384.0, 319.2 384.0 Q 318.2 384.0, 317.1 384.4 L 316.2 384.0 L 316.7 378.5 L 322.6 378.5 L 322.4 379.8 L 318.0 379.8 L 317.7 383.2 Q 318.7 382.8, 319.7 382.8 \" fill=\"#000000\"/>\n",
       "<path class=\"legend\" d=\"M 324.9 380.7 Q 325.3 379.6, 326.3 379.0 Q 327.3 378.4, 328.6 378.4 Q 330.3 378.4, 331.3 379.3 Q 332.3 380.2, 332.3 381.9 Q 332.3 383.6, 331.0 385.1 Q 329.8 386.7, 327.2 388.6 L 332.5 388.6 L 332.5 389.8 L 324.8 389.8 L 324.8 388.8 Q 326.9 387.3, 328.2 386.1 Q 329.4 385.0, 330.1 384.0 Q 330.7 383.0, 330.7 382.0 Q 330.7 380.9, 330.1 380.3 Q 329.6 379.7, 328.6 379.7 Q 327.7 379.7, 327.1 380.0 Q 326.5 380.4, 326.1 381.2 L 324.9 380.7 \" fill=\"#000000\"/>\n",
       "<path class=\"bond-0 atom-0 atom-1\" d=\"M 529.7,316.3 L 516.2,311.0\" style=\"fill:none;fill-rule:evenodd;stroke:#000000;stroke-width:2.0px;stroke-linecap:butt;stroke-linejoin:miter;stroke-opacity:1\"/>\n",
       "<path class=\"bond-1 atom-1 atom-2\" d=\"M 516.2,311.0 L 504.8,320.1\" style=\"fill:none;fill-rule:evenodd;stroke:#000000;stroke-width:2.0px;stroke-linecap:butt;stroke-linejoin:miter;stroke-opacity:1\"/>\n",
       "<path class=\"bond-2 atom-2 atom-3\" d=\"M 505.6,323.7 L 505.1,323.7\" style=\"fill:none;fill-rule:evenodd;stroke:#000000;stroke-width:1.0px;stroke-linecap:butt;stroke-linejoin:miter;stroke-opacity:1\"/>\n",
       "<path class=\"bond-2 atom-2 atom-3\" d=\"M 506.5,327.2 L 505.4,327.4\" style=\"fill:none;fill-rule:evenodd;stroke:#000000;stroke-width:1.0px;stroke-linecap:butt;stroke-linejoin:miter;stroke-opacity:1\"/>\n",
       "<path class=\"bond-2 atom-2 atom-3\" d=\"M 507.3,330.8 L 505.7,331.0\" style=\"fill:none;fill-rule:evenodd;stroke:#000000;stroke-width:1.0px;stroke-linecap:butt;stroke-linejoin:miter;stroke-opacity:1\"/>\n",
       "<path class=\"bond-2 atom-2 atom-3\" d=\"M 508.1,334.3 L 505.9,334.7\" style=\"fill:none;fill-rule:evenodd;stroke:#000000;stroke-width:1.0px;stroke-linecap:butt;stroke-linejoin:miter;stroke-opacity:1\"/>\n",
       "<path class=\"bond-3 atom-2 atom-4\" d=\"M 504.8,320.1 L 491.3,314.8\" style=\"fill:none;fill-rule:evenodd;stroke:#000000;stroke-width:2.0px;stroke-linecap:butt;stroke-linejoin:miter;stroke-opacity:1\"/>\n",
       "<path class=\"bond-4 atom-4 atom-5\" d=\"M 491.1,313.6 L 486.4,317.3\" style=\"fill:none;fill-rule:evenodd;stroke:#000000;stroke-width:2.0px;stroke-linecap:butt;stroke-linejoin:miter;stroke-opacity:1\"/>\n",
       "<path class=\"bond-4 atom-4 atom-5\" d=\"M 486.4,317.3 L 481.7,321.1\" style=\"fill:none;fill-rule:evenodd;stroke:#FF0000;stroke-width:2.0px;stroke-linecap:butt;stroke-linejoin:miter;stroke-opacity:1\"/>\n",
       "<path class=\"bond-4 atom-4 atom-5\" d=\"M 492.5,315.3 L 487.7,319.0\" style=\"fill:none;fill-rule:evenodd;stroke:#000000;stroke-width:2.0px;stroke-linecap:butt;stroke-linejoin:miter;stroke-opacity:1\"/>\n",
       "<path class=\"bond-4 atom-4 atom-5\" d=\"M 487.7,319.0 L 483.0,322.8\" style=\"fill:none;fill-rule:evenodd;stroke:#FF0000;stroke-width:2.0px;stroke-linecap:butt;stroke-linejoin:miter;stroke-opacity:1\"/>\n",
       "<path class=\"bond-5 atom-4 atom-6\" d=\"M 491.3,314.8 L 490.4,309.0\" style=\"fill:none;fill-rule:evenodd;stroke:#000000;stroke-width:2.0px;stroke-linecap:butt;stroke-linejoin:miter;stroke-opacity:1\"/>\n",
       "<path class=\"bond-5 atom-4 atom-6\" d=\"M 490.4,309.0 L 489.5,303.1\" style=\"fill:none;fill-rule:evenodd;stroke:#FF0000;stroke-width:2.0px;stroke-linecap:butt;stroke-linejoin:miter;stroke-opacity:1\"/>\n",
       "<path class=\"bond-6 atom-7 atom-6\" d=\"M 478.1,296.5 L 478.3,295.8\" style=\"fill:none;fill-rule:evenodd;stroke:#000000;stroke-width:1.0px;stroke-linecap:butt;stroke-linejoin:miter;stroke-opacity:1\"/>\n",
       "<path class=\"bond-6 atom-7 atom-6\" d=\"M 480.6,297.9 L 481.1,296.5\" style=\"fill:none;fill-rule:evenodd;stroke:#000000;stroke-width:1.0px;stroke-linecap:butt;stroke-linejoin:miter;stroke-opacity:1\"/>\n",
       "<path class=\"bond-6 atom-7 atom-6\" d=\"M 483.1,299.2 L 483.9,297.2\" style=\"fill:none;fill-rule:evenodd;stroke:#FF0000;stroke-width:1.0px;stroke-linecap:butt;stroke-linejoin:miter;stroke-opacity:1\"/>\n",
       "<path class=\"bond-7 atom-7 atom-8\" d=\"M 475.5,295.1 L 464.2,304.2\" style=\"fill:none;fill-rule:evenodd;stroke:#000000;stroke-width:2.0px;stroke-linecap:butt;stroke-linejoin:miter;stroke-opacity:1\"/>\n",
       "<path class=\"bond-8 atom-8 atom-9\" d=\"M 464.2,304.2 L 450.6,298.9\" style=\"fill:none;fill-rule:evenodd;stroke:#000000;stroke-width:2.0px;stroke-linecap:butt;stroke-linejoin:miter;stroke-opacity:1\"/>\n",
       "<path class=\"bond-9 atom-9 atom-10\" d=\"M 450.6,298.9 L 448.5,284.5\" style=\"fill:none;fill-rule:evenodd;stroke:#000000;stroke-width:2.0px;stroke-linecap:butt;stroke-linejoin:miter;stroke-opacity:1\"/>\n",
       "<path class=\"bond-10 atom-10 atom-11\" d=\"M 448.5,284.5 L 459.8,275.4\" style=\"fill:none;fill-rule:evenodd;stroke:#000000;stroke-width:2.0px;stroke-linecap:butt;stroke-linejoin:miter;stroke-opacity:1\"/>\n",
       "<path class=\"bond-11 atom-11 atom-12\" d=\"M 459.8,275.4 L 473.4,280.7\" style=\"fill:none;fill-rule:evenodd;stroke:#000000;stroke-width:2.0px;stroke-linecap:butt;stroke-linejoin:miter;stroke-opacity:1\"/>\n",
       "<path class=\"bond-12 atom-12 atom-13\" d=\"M 473.4,280.7 L 484.7,271.7\" style=\"fill:none;fill-rule:evenodd;stroke:#000000;stroke-width:2.0px;stroke-linecap:butt;stroke-linejoin:miter;stroke-opacity:1\"/>\n",
       "<path class=\"bond-13 atom-13 atom-14\" d=\"M 484.7,271.7 L 482.5,257.3\" style=\"fill:none;fill-rule:evenodd;stroke:#000000;stroke-width:2.0px;stroke-linecap:butt;stroke-linejoin:miter;stroke-opacity:1\"/>\n",
       "<path class=\"bond-14 atom-14 atom-15\" d=\"M 482.5,257.3 L 469.0,252.0\" style=\"fill:none;fill-rule:evenodd;stroke:#000000;stroke-width:2.0px;stroke-linecap:butt;stroke-linejoin:miter;stroke-opacity:1\"/>\n",
       "<path class=\"bond-15 atom-15 atom-16\" d=\"M 469.0,252.0 L 457.6,261.1\" style=\"fill:none;fill-rule:evenodd;stroke:#000000;stroke-width:2.0px;stroke-linecap:butt;stroke-linejoin:miter;stroke-opacity:1\"/>\n",
       "<path class=\"bond-15 atom-15 atom-16\" d=\"M 469.4,254.5 L 460.0,262.0\" style=\"fill:none;fill-rule:evenodd;stroke:#000000;stroke-width:2.0px;stroke-linecap:butt;stroke-linejoin:miter;stroke-opacity:1\"/>\n",
       "<path class=\"bond-16 atom-14 atom-17\" d=\"M 485.2,254.8 L 485.6,255.2\" style=\"fill:none;fill-rule:evenodd;stroke:#000000;stroke-width:1.0px;stroke-linecap:butt;stroke-linejoin:miter;stroke-opacity:1\"/>\n",
       "<path class=\"bond-16 atom-14 atom-17\" d=\"M 487.9,252.3 L 488.6,253.2\" style=\"fill:none;fill-rule:evenodd;stroke:#000000;stroke-width:1.0px;stroke-linecap:butt;stroke-linejoin:miter;stroke-opacity:1\"/>\n",
       "<path class=\"bond-16 atom-14 atom-17\" d=\"M 490.6,249.8 L 491.6,251.1\" style=\"fill:none;fill-rule:evenodd;stroke:#000000;stroke-width:1.0px;stroke-linecap:butt;stroke-linejoin:miter;stroke-opacity:1\"/>\n",
       "<path class=\"bond-16 atom-14 atom-17\" d=\"M 493.2,247.3 L 494.6,249.0\" style=\"fill:none;fill-rule:evenodd;stroke:#000000;stroke-width:1.0px;stroke-linecap:butt;stroke-linejoin:miter;stroke-opacity:1\"/>\n",
       "<path class=\"bond-17 atom-13 atom-18\" d=\"M 488.0,273.3 L 488.2,272.6\" style=\"fill:none;fill-rule:evenodd;stroke:#000000;stroke-width:1.0px;stroke-linecap:butt;stroke-linejoin:miter;stroke-opacity:1\"/>\n",
       "<path class=\"bond-17 atom-13 atom-18\" d=\"M 491.2,275.0 L 491.7,273.6\" style=\"fill:none;fill-rule:evenodd;stroke:#000000;stroke-width:1.0px;stroke-linecap:butt;stroke-linejoin:miter;stroke-opacity:1\"/>\n",
       "<path class=\"bond-17 atom-13 atom-18\" d=\"M 494.5,276.6 L 495.3,274.6\" style=\"fill:none;fill-rule:evenodd;stroke:#000000;stroke-width:1.0px;stroke-linecap:butt;stroke-linejoin:miter;stroke-opacity:1\"/>\n",
       "<path class=\"bond-18 atom-18 atom-19\" d=\"M 498.3,277.0 L 510.6,267.1\" style=\"fill:none;fill-rule:evenodd;stroke:#000000;stroke-width:2.0px;stroke-linecap:butt;stroke-linejoin:miter;stroke-opacity:1\"/>\n",
       "<path class=\"bond-19 atom-20 atom-19\" d=\"M 523.2,273.2 L 508.6,268.7 L 510.6,267.1 Z\" style=\"fill:#000000;fill-rule:evenodd;fill-opacity:1;stroke:#000000;stroke-width:0.5px;stroke-linecap:butt;stroke-linejoin:miter;stroke-opacity:1;\"/>\n",
       "<path class=\"bond-20 atom-20 atom-21\" d=\"M 523.2,273.2 L 525.4,287.6\" style=\"fill:none;fill-rule:evenodd;stroke:#000000;stroke-width:2.0px;stroke-linecap:butt;stroke-linejoin:miter;stroke-opacity:1\"/>\n",
       "<path class=\"bond-21 atom-21 atom-22\" d=\"M 525.4,287.6 L 538.9,292.9\" style=\"fill:none;fill-rule:evenodd;stroke:#000000;stroke-width:2.0px;stroke-linecap:butt;stroke-linejoin:miter;stroke-opacity:1\"/>\n",
       "<path class=\"bond-22 atom-22 atom-23\" d=\"M 538.9,292.9 L 550.3,283.8\" style=\"fill:none;fill-rule:evenodd;stroke:#000000;stroke-width:2.0px;stroke-linecap:butt;stroke-linejoin:miter;stroke-opacity:1\"/>\n",
       "<path class=\"bond-23 atom-23 atom-24\" d=\"M 550.3,283.8 L 548.1,269.4\" style=\"fill:none;fill-rule:evenodd;stroke:#000000;stroke-width:2.0px;stroke-linecap:butt;stroke-linejoin:miter;stroke-opacity:1\"/>\n",
       "<path class=\"bond-24 atom-24 atom-25\" d=\"M 548.3,270.6 L 553.0,266.9\" style=\"fill:none;fill-rule:evenodd;stroke:#000000;stroke-width:2.0px;stroke-linecap:butt;stroke-linejoin:miter;stroke-opacity:1\"/>\n",
       "<path class=\"bond-24 atom-24 atom-25\" d=\"M 553.0,266.9 L 557.7,263.1\" style=\"fill:none;fill-rule:evenodd;stroke:#FF0000;stroke-width:2.0px;stroke-linecap:butt;stroke-linejoin:miter;stroke-opacity:1\"/>\n",
       "<path class=\"bond-24 atom-24 atom-25\" d=\"M 546.9,268.9 L 551.6,265.2\" style=\"fill:none;fill-rule:evenodd;stroke:#000000;stroke-width:2.0px;stroke-linecap:butt;stroke-linejoin:miter;stroke-opacity:1\"/>\n",
       "<path class=\"bond-24 atom-24 atom-25\" d=\"M 551.6,265.2 L 556.3,261.4\" style=\"fill:none;fill-rule:evenodd;stroke:#FF0000;stroke-width:2.0px;stroke-linecap:butt;stroke-linejoin:miter;stroke-opacity:1\"/>\n",
       "<path class=\"bond-25 atom-24 atom-26\" d=\"M 548.1,269.4 L 542.5,267.2\" style=\"fill:none;fill-rule:evenodd;stroke:#000000;stroke-width:2.0px;stroke-linecap:butt;stroke-linejoin:miter;stroke-opacity:1\"/>\n",
       "<path class=\"bond-25 atom-24 atom-26\" d=\"M 542.5,267.2 L 537.0,265.0\" style=\"fill:none;fill-rule:evenodd;stroke:#FF0000;stroke-width:2.0px;stroke-linecap:butt;stroke-linejoin:miter;stroke-opacity:1\"/>\n",
       "<path class=\"bond-26 atom-22 atom-27\" d=\"M 539.8,296.6 L 539.1,296.7\" style=\"fill:none;fill-rule:evenodd;stroke:#000000;stroke-width:1.0px;stroke-linecap:butt;stroke-linejoin:miter;stroke-opacity:1\"/>\n",
       "<path class=\"bond-26 atom-22 atom-27\" d=\"M 540.8,300.3 L 539.3,300.5\" style=\"fill:none;fill-rule:evenodd;stroke:#FF0000;stroke-width:1.0px;stroke-linecap:butt;stroke-linejoin:miter;stroke-opacity:1\"/>\n",
       "<path class=\"bond-26 atom-22 atom-27\" d=\"M 541.7,304.0 L 539.5,304.3\" style=\"fill:none;fill-rule:evenodd;stroke:#FF0000;stroke-width:1.0px;stroke-linecap:butt;stroke-linejoin:miter;stroke-opacity:1\"/>\n",
       "<path class=\"bond-27 atom-9 atom-28\" d=\"M 448.0,301.4 L 447.6,301.0\" style=\"fill:none;fill-rule:evenodd;stroke:#000000;stroke-width:1.0px;stroke-linecap:butt;stroke-linejoin:miter;stroke-opacity:1\"/>\n",
       "<path class=\"bond-27 atom-9 atom-28\" d=\"M 445.3,303.9 L 444.6,303.0\" style=\"fill:none;fill-rule:evenodd;stroke:#000000;stroke-width:1.0px;stroke-linecap:butt;stroke-linejoin:miter;stroke-opacity:1\"/>\n",
       "<path class=\"bond-27 atom-9 atom-28\" d=\"M 442.6,306.4 L 441.6,305.1\" style=\"fill:none;fill-rule:evenodd;stroke:#000000;stroke-width:1.0px;stroke-linecap:butt;stroke-linejoin:miter;stroke-opacity:1\"/>\n",
       "<path class=\"bond-27 atom-9 atom-28\" d=\"M 440.0,308.8 L 438.6,307.1\" style=\"fill:none;fill-rule:evenodd;stroke:#000000;stroke-width:1.0px;stroke-linecap:butt;stroke-linejoin:miter;stroke-opacity:1\"/>\n",
       "<path class=\"bond-28 atom-12 atom-7\" d=\"M 473.4,280.7 L 475.5,295.1\" style=\"fill:none;fill-rule:evenodd;stroke:#000000;stroke-width:2.0px;stroke-linecap:butt;stroke-linejoin:miter;stroke-opacity:1\"/>\n",
       "<path class=\"bond-29 atom-16 atom-11\" d=\"M 457.6,261.1 L 459.8,275.4\" style=\"fill:none;fill-rule:evenodd;stroke:#000000;stroke-width:2.0px;stroke-linecap:butt;stroke-linejoin:miter;stroke-opacity:1\"/>\n",
       "<path class=\"bond-30 atom-26 atom-20\" d=\"M 532.1,266.0 L 527.7,269.6\" style=\"fill:none;fill-rule:evenodd;stroke:#FF0000;stroke-width:2.0px;stroke-linecap:butt;stroke-linejoin:miter;stroke-opacity:1\"/>\n",
       "<path class=\"bond-30 atom-26 atom-20\" d=\"M 527.7,269.6 L 523.2,273.2\" style=\"fill:none;fill-rule:evenodd;stroke:#000000;stroke-width:2.0px;stroke-linecap:butt;stroke-linejoin:miter;stroke-opacity:1\"/>\n",
       "<path class=\"bond-31 atom-11 atom-29\" d=\"M 456.0,274.4 L 456.3,273.7\" style=\"fill:none;fill-rule:evenodd;stroke:#000000;stroke-width:1.0px;stroke-linecap:butt;stroke-linejoin:miter;stroke-opacity:1\"/>\n",
       "<path class=\"bond-31 atom-11 atom-29\" d=\"M 452.3,273.3 L 452.8,271.9\" style=\"fill:none;fill-rule:evenodd;stroke:#000000;stroke-width:1.0px;stroke-linecap:butt;stroke-linejoin:miter;stroke-opacity:1\"/>\n",
       "<path class=\"bond-31 atom-11 atom-29\" d=\"M 448.5,272.2 L 449.3,270.2\" style=\"fill:none;fill-rule:evenodd;stroke:#000000;stroke-width:1.0px;stroke-linecap:butt;stroke-linejoin:miter;stroke-opacity:1\"/>\n",
       "<path class=\"bond-32 atom-12 atom-30\" d=\"M 477.1,281.8 L 476.9,282.5\" style=\"fill:none;fill-rule:evenodd;stroke:#000000;stroke-width:1.0px;stroke-linecap:butt;stroke-linejoin:miter;stroke-opacity:1\"/>\n",
       "<path class=\"bond-32 atom-12 atom-30\" d=\"M 480.9,282.9 L 480.4,284.3\" style=\"fill:none;fill-rule:evenodd;stroke:#000000;stroke-width:1.0px;stroke-linecap:butt;stroke-linejoin:miter;stroke-opacity:1\"/>\n",
       "<path class=\"bond-32 atom-12 atom-30\" d=\"M 484.7,284.0 L 483.9,286.0\" style=\"fill:none;fill-rule:evenodd;stroke:#000000;stroke-width:1.0px;stroke-linecap:butt;stroke-linejoin:miter;stroke-opacity:1\"/>\n",
       "<path d=\"M 516.9,311.3 L 516.2,311.0 L 515.6,311.5\" style=\"fill:none;stroke:#000000;stroke-width:2.0px;stroke-linecap:butt;stroke-linejoin:miter;stroke-opacity:1;\"/>\n",
       "<path d=\"M 505.4,319.7 L 504.8,320.1 L 504.1,319.8\" style=\"fill:none;stroke:#000000;stroke-width:2.0px;stroke-linecap:butt;stroke-linejoin:miter;stroke-opacity:1;\"/>\n",
       "<path d=\"M 492.0,315.1 L 491.3,314.8 L 491.2,314.5\" style=\"fill:none;stroke:#000000;stroke-width:2.0px;stroke-linecap:butt;stroke-linejoin:miter;stroke-opacity:1;\"/>\n",
       "<path d=\"M 475.0,295.6 L 475.5,295.1 L 475.4,294.4\" style=\"fill:none;stroke:#000000;stroke-width:2.0px;stroke-linecap:butt;stroke-linejoin:miter;stroke-opacity:1;\"/>\n",
       "<path d=\"M 464.8,303.8 L 464.2,304.2 L 463.5,303.9\" style=\"fill:none;stroke:#000000;stroke-width:2.0px;stroke-linecap:butt;stroke-linejoin:miter;stroke-opacity:1;\"/>\n",
       "<path d=\"M 451.3,299.2 L 450.6,298.9 L 450.5,298.2\" style=\"fill:none;stroke:#000000;stroke-width:2.0px;stroke-linecap:butt;stroke-linejoin:miter;stroke-opacity:1;\"/>\n",
       "<path d=\"M 448.6,285.2 L 448.5,284.5 L 449.0,284.1\" style=\"fill:none;stroke:#000000;stroke-width:2.0px;stroke-linecap:butt;stroke-linejoin:miter;stroke-opacity:1;\"/>\n",
       "<path d=\"M 484.2,272.1 L 484.7,271.7 L 484.6,270.9\" style=\"fill:none;stroke:#000000;stroke-width:2.0px;stroke-linecap:butt;stroke-linejoin:miter;stroke-opacity:1;\"/>\n",
       "<path d=\"M 482.7,258.0 L 482.5,257.3 L 481.9,257.0\" style=\"fill:none;stroke:#000000;stroke-width:2.0px;stroke-linecap:butt;stroke-linejoin:miter;stroke-opacity:1;\"/>\n",
       "<path d=\"M 469.7,252.2 L 469.0,252.0 L 468.4,252.4\" style=\"fill:none;stroke:#000000;stroke-width:2.0px;stroke-linecap:butt;stroke-linejoin:miter;stroke-opacity:1;\"/>\n",
       "<path d=\"M 458.2,260.6 L 457.6,261.1 L 457.7,261.8\" style=\"fill:none;stroke:#000000;stroke-width:2.0px;stroke-linecap:butt;stroke-linejoin:miter;stroke-opacity:1;\"/>\n",
       "<path d=\"M 523.3,273.9 L 523.2,273.2 L 523.4,273.0\" style=\"fill:none;stroke:#000000;stroke-width:2.0px;stroke-linecap:butt;stroke-linejoin:miter;stroke-opacity:1;\"/>\n",
       "<path d=\"M 525.3,286.8 L 525.4,287.6 L 526.0,287.8\" style=\"fill:none;stroke:#000000;stroke-width:2.0px;stroke-linecap:butt;stroke-linejoin:miter;stroke-opacity:1;\"/>\n",
       "<path d=\"M 538.2,292.6 L 538.9,292.9 L 539.5,292.4\" style=\"fill:none;stroke:#000000;stroke-width:2.0px;stroke-linecap:butt;stroke-linejoin:miter;stroke-opacity:1;\"/>\n",
       "<path d=\"M 549.7,284.2 L 550.3,283.8 L 550.2,283.1\" style=\"fill:none;stroke:#000000;stroke-width:2.0px;stroke-linecap:butt;stroke-linejoin:miter;stroke-opacity:1;\"/>\n",
       "<path d=\"M 548.2,270.1 L 548.1,269.4 L 547.8,269.3\" style=\"fill:none;stroke:#000000;stroke-width:2.0px;stroke-linecap:butt;stroke-linejoin:miter;stroke-opacity:1;\"/>\n",
       "<path class=\"atom-5\" d=\"M 478.0 323.9 Q 478.0 322.9, 478.5 322.3 Q 479.0 321.7, 479.9 321.7 Q 480.9 321.7, 481.4 322.3 Q 481.9 322.9, 481.9 323.9 Q 481.9 324.9, 481.4 325.5 Q 480.8 326.1, 479.9 326.1 Q 479.0 326.1, 478.5 325.5 Q 478.0 324.9, 478.0 323.9 M 479.9 325.6 Q 480.6 325.6, 480.9 325.2 Q 481.3 324.8, 481.3 323.9 Q 481.3 323.1, 480.9 322.6 Q 480.6 322.2, 479.9 322.2 Q 479.3 322.2, 478.9 322.6 Q 478.6 323.1, 478.6 323.9 Q 478.6 324.8, 478.9 325.2 Q 479.3 325.6, 479.9 325.6 \" fill=\"#FF0000\"/>\n",
       "<path class=\"atom-6\" d=\"M 487.1 300.4 Q 487.1 299.4, 487.6 298.8 Q 488.2 298.3, 489.1 298.3 Q 490.0 298.3, 490.5 298.8 Q 491.0 299.4, 491.0 300.4 Q 491.0 301.5, 490.5 302.1 Q 490.0 302.6, 489.1 302.6 Q 488.2 302.6, 487.6 302.1 Q 487.1 301.5, 487.1 300.4 M 489.1 302.2 Q 489.7 302.2, 490.1 301.7 Q 490.4 301.3, 490.4 300.4 Q 490.4 299.6, 490.1 299.2 Q 489.7 298.8, 489.1 298.8 Q 488.4 298.8, 488.1 299.2 Q 487.7 299.6, 487.7 300.4 Q 487.7 301.3, 488.1 301.7 Q 488.4 302.2, 489.1 302.2 \" fill=\"#FF0000\"/>\n",
       "<path class=\"atom-25\" d=\"M 557.5 260.3 Q 557.5 259.3, 558.0 258.7 Q 558.5 258.2, 559.5 258.2 Q 560.4 258.2, 560.9 258.7 Q 561.4 259.3, 561.4 260.3 Q 561.4 261.4, 560.9 261.9 Q 560.4 262.5, 559.5 262.5 Q 558.5 262.5, 558.0 261.9 Q 557.5 261.4, 557.5 260.3 M 559.5 262.0 Q 560.1 262.0, 560.5 261.6 Q 560.8 261.2, 560.8 260.3 Q 560.8 259.5, 560.5 259.1 Q 560.1 258.6, 559.5 258.6 Q 558.8 258.6, 558.5 259.1 Q 558.1 259.5, 558.1 260.3 Q 558.1 261.2, 558.5 261.6 Q 558.8 262.0, 559.5 262.0 \" fill=\"#FF0000\"/>\n",
       "<path class=\"atom-26\" d=\"M 532.6 264.1 Q 532.6 263.1, 533.1 262.5 Q 533.6 261.9, 534.5 261.9 Q 535.5 261.9, 536.0 262.5 Q 536.5 263.1, 536.5 264.1 Q 536.5 265.1, 536.0 265.7 Q 535.5 266.3, 534.5 266.3 Q 533.6 266.3, 533.1 265.7 Q 532.6 265.1, 532.6 264.1 M 534.5 265.8 Q 535.2 265.8, 535.5 265.4 Q 535.9 265.0, 535.9 264.1 Q 535.9 263.3, 535.5 262.9 Q 535.2 262.4, 534.5 262.4 Q 533.9 262.4, 533.5 262.8 Q 533.2 263.3, 533.2 264.1 Q 533.2 265.0, 533.5 265.4 Q 533.9 265.8, 534.5 265.8 \" fill=\"#FF0000\"/>\n",
       "<path class=\"atom-27\" d=\"M 539.2 307.3 Q 539.2 306.2, 539.7 305.7 Q 540.2 305.1, 541.1 305.1 Q 542.0 305.1, 542.5 305.7 Q 543.1 306.2, 543.1 307.3 Q 543.1 308.3, 542.5 308.9 Q 542.0 309.5, 541.1 309.5 Q 540.2 309.5, 539.7 308.9 Q 539.2 308.3, 539.2 307.3 M 541.1 309.0 Q 541.7 309.0, 542.1 308.5 Q 542.5 308.1, 542.5 307.3 Q 542.5 306.4, 542.1 306.0 Q 541.7 305.6, 541.1 305.6 Q 540.5 305.6, 540.1 306.0 Q 539.8 306.4, 539.8 307.3 Q 539.8 308.1, 540.1 308.5 Q 540.5 309.0, 541.1 309.0 \" fill=\"#FF0000\"/>\n",
       "<path class=\"atom-27\" d=\"M 543.7 305.1 L 544.3 305.1 L 544.3 307.0 L 546.5 307.0 L 546.5 305.1 L 547.0 305.1 L 547.0 309.4 L 546.5 309.4 L 546.5 307.4 L 544.3 307.4 L 544.3 309.4 L 543.7 309.4 L 543.7 305.1 \" fill=\"#FF0000\"/>\n",
       "<path class=\"atom-29\" d=\"M 444.6 268.0 L 445.2 268.0 L 445.2 269.8 L 447.4 269.8 L 447.4 268.0 L 447.9 268.0 L 447.9 272.3 L 447.4 272.3 L 447.4 270.3 L 445.2 270.3 L 445.2 272.3 L 444.6 272.3 L 444.6 268.0 \" fill=\"#000000\"/>\n",
       "<path class=\"atom-30\" d=\"M 485.2 283.9 L 485.8 283.9 L 485.8 285.7 L 488.0 285.7 L 488.0 283.9 L 488.6 283.9 L 488.6 288.2 L 488.0 288.2 L 488.0 286.2 L 485.8 286.2 L 485.8 288.2 L 485.2 288.2 L 485.2 283.9 \" fill=\"#000000\"/>\n",
       "<path class=\"legend\" d=\"M 467.4 378.4 Q 469.5 378.4, 470.5 379.8 Q 471.5 381.1, 471.5 383.8 Q 471.5 386.8, 470.2 388.4 Q 469.0 390.0, 466.6 390.0 Q 465.9 390.0, 465.2 389.8 Q 464.7 389.6, 464.1 389.3 L 464.7 388.2 Q 465.5 388.7, 466.5 388.7 Q 468.1 388.7, 469.0 387.7 Q 469.8 386.6, 469.9 384.5 Q 469.3 385.0, 468.6 385.3 Q 467.8 385.6, 467.1 385.6 Q 466.1 385.6, 465.3 385.2 Q 464.5 384.7, 464.1 383.9 Q 463.6 383.2, 463.6 382.2 Q 463.6 381.1, 464.1 380.2 Q 464.6 379.3, 465.5 378.9 Q 466.3 378.4, 467.4 378.4 M 465.2 382.1 Q 465.2 383.2, 465.8 383.7 Q 466.3 384.3, 467.3 384.3 Q 468.0 384.3, 468.7 384.0 Q 469.4 383.7, 469.9 383.3 Q 469.8 381.4, 469.2 380.5 Q 468.6 379.7, 467.4 379.7 Q 466.8 379.7, 466.3 380.0 Q 465.8 380.3, 465.5 380.9 Q 465.2 381.5, 465.2 382.1 \" fill=\"#000000\"/>\n",
       "<path class=\"legend\" d=\"M 479.3 379.8 L 473.3 379.8 L 473.3 378.5 L 480.9 378.5 L 480.9 379.6 L 476.3 389.8 L 474.7 389.8 L 479.3 379.8 \" fill=\"#000000\"/>\n",
       "<path class=\"legend\" d=\"M 485.9 378.4 Q 487.9 378.4, 488.9 379.8 Q 489.9 381.1, 489.9 383.8 Q 489.9 386.8, 488.7 388.4 Q 487.4 390.0, 485.0 390.0 Q 484.3 390.0, 483.7 389.8 Q 483.1 389.6, 482.5 389.3 L 483.2 388.2 Q 484.0 388.7, 485.0 388.7 Q 486.6 388.7, 487.4 387.7 Q 488.2 386.6, 488.3 384.5 Q 487.7 385.0, 487.0 385.3 Q 486.3 385.6, 485.5 385.6 Q 484.5 385.6, 483.7 385.2 Q 482.9 384.7, 482.5 383.9 Q 482.1 383.2, 482.1 382.2 Q 482.1 381.1, 482.6 380.2 Q 483.1 379.3, 483.9 378.9 Q 484.8 378.4, 485.9 378.4 M 483.7 382.1 Q 483.7 383.2, 484.2 383.7 Q 484.8 384.3, 485.8 384.3 Q 486.5 384.3, 487.2 384.0 Q 487.8 383.7, 488.3 383.3 Q 488.3 381.4, 487.7 380.5 Q 487.1 379.7, 485.9 379.7 Q 485.3 379.7, 484.8 380.0 Q 484.3 380.3, 484.0 380.9 Q 483.7 381.5, 483.7 382.1 \" fill=\"#000000\"/>\n",
       "<path class=\"legend\" d=\"M 497.2 383.9 Q 498.3 384.2, 498.9 384.9 Q 499.4 385.6, 499.4 386.7 Q 499.4 387.7, 498.9 388.4 Q 498.4 389.2, 497.6 389.6 Q 496.7 390.0, 495.5 390.0 Q 494.3 390.0, 493.4 389.6 Q 492.5 389.2, 491.8 388.3 L 492.7 387.4 Q 493.4 388.1, 494.0 388.4 Q 494.6 388.7, 495.5 388.7 Q 496.6 388.7, 497.2 388.2 Q 497.8 387.6, 497.8 386.7 Q 497.8 385.6, 497.2 385.1 Q 496.5 384.5, 495.1 384.5 L 494.3 384.5 L 494.3 383.4 L 495.0 383.4 Q 496.3 383.4, 496.9 382.8 Q 497.6 382.3, 497.6 381.3 Q 497.6 380.5, 497.0 380.1 Q 496.5 379.7, 495.6 379.7 Q 494.6 379.7, 494.0 380.0 Q 493.4 380.3, 493.0 381.2 L 491.9 380.6 Q 492.3 379.6, 493.2 379.0 Q 494.2 378.4, 495.6 378.4 Q 497.2 378.4, 498.2 379.2 Q 499.2 380.0, 499.2 381.3 Q 499.2 382.2, 498.7 382.8 Q 498.2 383.5, 497.2 383.9 \" fill=\"#000000\"/>\n",
       "<path class=\"legend\" d=\"M 506.9 383.8 Q 507.9 384.3, 508.5 385.0 Q 509.1 385.6, 509.1 386.7 Q 509.1 387.7, 508.6 388.4 Q 508.1 389.2, 507.2 389.6 Q 506.4 390.0, 505.2 390.0 Q 503.3 390.0, 502.2 389.1 Q 501.1 388.3, 501.1 386.7 Q 501.1 385.8, 501.6 385.1 Q 502.1 384.4, 503.1 383.9 Q 502.3 383.5, 501.9 382.9 Q 501.5 382.2, 501.5 381.3 Q 501.5 380.0, 502.5 379.2 Q 503.5 378.4, 505.1 378.4 Q 506.8 378.4, 507.7 379.2 Q 508.7 380.0, 508.7 381.3 Q 508.7 382.1, 508.2 382.7 Q 507.8 383.3, 506.9 383.8 M 505.1 379.6 Q 504.2 379.6, 503.6 380.0 Q 503.1 380.5, 503.1 381.3 Q 503.1 381.9, 503.5 382.3 Q 503.8 382.7, 504.3 382.9 Q 504.8 383.1, 505.8 383.4 Q 506.5 383.0, 506.8 382.4 Q 507.1 381.9, 507.1 381.3 Q 507.1 380.5, 506.6 380.0 Q 506.1 379.6, 505.1 379.6 M 505.2 388.8 Q 506.2 388.8, 506.9 388.2 Q 507.5 387.7, 507.5 386.7 Q 507.5 386.1, 507.2 385.7 Q 506.8 385.3, 506.3 385.1 Q 505.8 384.9, 504.9 384.6 L 504.2 384.4 Q 503.4 384.8, 503.1 385.4 Q 502.7 386.0, 502.7 386.7 Q 502.7 387.7, 503.4 388.2 Q 504.1 388.8, 505.2 388.8 \" fill=\"#000000\"/>\n",
       "<path class=\"legend\" d=\"M 511.5 388.6 L 514.0 388.6 L 514.0 380.1 L 511.3 380.9 L 510.9 380.0 L 514.4 378.4 L 515.5 378.6 L 515.5 388.6 L 517.7 388.6 L 517.7 389.8 L 511.5 389.8 L 511.5 388.6 \" fill=\"#000000\"/>\n",
       "<path class=\"legend\" d=\"M 519.2 380.7 Q 519.6 379.6, 520.6 379.0 Q 521.6 378.4, 523.0 378.4 Q 524.7 378.4, 525.6 379.3 Q 526.6 380.2, 526.6 381.9 Q 526.6 383.6, 525.4 385.1 Q 524.1 386.7, 521.6 388.6 L 526.8 388.6 L 526.8 389.8 L 519.2 389.8 L 519.2 388.8 Q 521.3 387.3, 522.5 386.1 Q 523.8 385.0, 524.4 384.0 Q 525.0 383.0, 525.0 382.0 Q 525.0 380.9, 524.5 380.3 Q 523.9 379.7, 523.0 379.7 Q 522.1 379.7, 521.4 380.0 Q 520.8 380.4, 520.4 381.2 L 519.2 380.7 \" fill=\"#000000\"/>\n",
       "<path class=\"legend\" d=\"M 532.9 382.8 Q 533.9 382.8, 534.7 383.2 Q 535.5 383.6, 535.9 384.4 Q 536.4 385.2, 536.4 386.2 Q 536.4 387.3, 535.9 388.2 Q 535.4 389.0, 534.5 389.5 Q 533.7 390.0, 532.6 390.0 Q 530.5 390.0, 529.5 388.6 Q 528.5 387.2, 528.5 384.5 Q 528.5 381.5, 529.8 380.0 Q 531.0 378.4, 533.4 378.4 Q 534.1 378.4, 534.7 378.5 Q 535.3 378.7, 535.9 379.0 L 535.3 380.1 Q 534.5 379.7, 533.5 379.7 Q 531.9 379.7, 531.0 380.7 Q 530.2 381.7, 530.1 383.9 Q 530.7 383.3, 531.4 383.1 Q 532.2 382.8, 532.9 382.8 M 532.6 388.7 Q 533.2 388.7, 533.7 388.3 Q 534.2 388.0, 534.5 387.5 Q 534.8 386.9, 534.8 386.2 Q 534.8 385.2, 534.2 384.6 Q 533.7 384.0, 532.7 384.0 Q 532.0 384.0, 531.3 384.3 Q 530.6 384.6, 530.1 385.1 Q 530.2 387.0, 530.8 387.8 Q 531.4 388.7, 532.6 388.7 \" fill=\"#000000\"/>\n",
       "</svg>"
      ],
      "text/plain": [
       "<IPython.core.display.SVG object>"
      ]
     },
     "execution_count": 25,
     "metadata": {},
     "output_type": "execute_result"
    }
   ],
   "source": [
    "from rdkit import Chem\n",
    "from rdkit.Chem import Draw\n",
    "\n",
    "mols = [ Chem.MolFromSmiles(x) for x in smiles ]\n",
    "Chem.Draw.MolsToGridImage(mols, molsPerRow=4, subImgSize=(200,200), legends=[str(x) for x in cids] )"
   ]
  },
  {
   "cell_type": "markdown",
   "metadata": {},
   "source": [
    "Now generate MACCS keys for each compound."
   ]
  },
  {
   "cell_type": "code",
   "execution_count": 26,
   "metadata": {},
   "outputs": [
    {
     "name": "stdout",
     "output_type": "stream",
     "text": [
      "[<rdkit.DataStructs.cDataStructs.ExplicitBitVect object at 0x1123d21f0>, <rdkit.DataStructs.cDataStructs.ExplicitBitVect object at 0x1123d13f0>, <rdkit.DataStructs.cDataStructs.ExplicitBitVect object at 0x1123d0120>, <rdkit.DataStructs.cDataStructs.ExplicitBitVect object at 0x1123d1700>, <rdkit.DataStructs.cDataStructs.ExplicitBitVect object at 0x1123d0270>, <rdkit.DataStructs.cDataStructs.ExplicitBitVect object at 0x1123d33e0>, <rdkit.DataStructs.cDataStructs.ExplicitBitVect object at 0x1123d3450>]\n"
     ]
    }
   ],
   "source": [
    "from rdkit import DataStructs\n",
    "from rdkit.Chem import MACCSkeys\n",
    "\n",
    "fingerprints = [ MACCSkeys.GenMACCSKeys(x) for x in mols ]\n",
    "print(fingerprints)"
   ]
  },
  {
   "cell_type": "markdown",
   "metadata": {},
   "source": [
    "Now let's compute the pair-wise similarity scores among them.  To make higher scores easier to find, they are indicated with the \"\\*\" character(s)."
   ]
  },
  {
   "cell_type": "code",
   "execution_count": 27,
   "metadata": {},
   "outputs": [
    {
     "name": "stdout",
     "output_type": "stream",
     "text": [
      "54454 vs. 54687 : 0.812 ***\n",
      "54454 vs. 60823 : 0.354 \n",
      "54454 vs. 446155 : 0.379 \n",
      "54454 vs. 446157 : 0.307 \n",
      "54454 vs. 5282452 : 0.4 \n",
      "54454 vs. 97938126 : 0.867 ****\n",
      "54687 vs. 60823 : 0.387 \n",
      "54687 vs. 446155 : 0.397 \n",
      "54687 vs. 446157 : 0.287 \n",
      "54687 vs. 5282452 : 0.421 \n",
      "54687 vs. 97938126 : 0.8 ***\n",
      "60823 vs. 446155 : 0.662 **\n",
      "60823 vs. 446157 : 0.535 \n",
      "60823 vs. 5282452 : 0.507 \n",
      "60823 vs. 97938126 : 0.365 \n",
      "446155 vs. 446157 : 0.526 \n",
      "446155 vs. 5282452 : 0.735 **\n",
      "446155 vs. 97938126 : 0.393 \n",
      "446157 vs. 5282452 : 0.473 \n",
      "446157 vs. 97938126 : 0.298 \n",
      "5282452 vs. 97938126 : 0.444 \n"
     ]
    }
   ],
   "source": [
    "for i in range(0, len(fingerprints)) :\n",
    "    for j in range(i+1, len(fingerprints)) :\n",
    "        score = DataStructs.FingerprintSimilarity(fingerprints[i], fingerprints[j])\n",
    "        print(cids[i], \"vs.\", cids[j], \":\", round(score, 3), end='')\n",
    "        \n",
    "        if ( score >= 0.85 ):\n",
    "            print(\" ****\")\n",
    "        elif ( score >= 0.75 ):\n",
    "            print(\" ***\")\n",
    "        elif ( score >= 0.65 ):\n",
    "            print(\" **\")\n",
    "        elif ( score >= 0.55 ):\n",
    "            print(\" *\")\n",
    "        else:\n",
    "            print(\" \")\n"
   ]
  },
  {
   "cell_type": "markdown",
   "metadata": {},
   "source": [
    "By default, the similarity score is generated using the **Tanimoto** equation.  RDKit also supports other similarity metrics, including Dice, Cosine, Sokal, Russel, Kulczynski, McConnaughey, and Tversky.  The definition of these metrics is available at the LibreTexts page (https://bit.ly/2kx9NCd)."
   ]
  },
  {
   "cell_type": "code",
   "execution_count": 28,
   "metadata": {},
   "outputs": [
    {
     "name": "stdout",
     "output_type": "stream",
     "text": [
      "Tanimoto    : 0.8125\n",
      "Dice        : 0.8966\n",
      "Cosine      : 0.8971\n",
      "Sokal       : 0.6842\n",
      "McConnaughey: 0.7952\n"
     ]
    }
   ],
   "source": [
    "print(\"Tanimoto    :\", round(DataStructs.TanimotoSimilarity(fingerprints[0], fingerprints[1]), 4))\n",
    "print(\"Dice        :\", round(DataStructs.DiceSimilarity(fingerprints[0], fingerprints[1]), 4))\n",
    "print(\"Cosine      :\", round(DataStructs.CosineSimilarity(fingerprints[0], fingerprints[1]), 4))\n",
    "print(\"Sokal       :\", round(DataStructs.SokalSimilarity(fingerprints[0], fingerprints[1]), 4))\n",
    "print(\"McConnaughey:\", round(DataStructs.McConnaugheySimilarity(fingerprints[0], fingerprints[1]), 4))"
   ]
  },
  {
   "cell_type": "markdown",
   "metadata": {},
   "source": [
    "**Exercise 2a:**  Compute the Tanimoto similarity scores between the seven compounds used in this section, using the PubChem fingerprints\n",
    "\n",
    "- Download the PubChem Fingerprint for the seven CIDs.\n",
    "- Convert the downloaded fingerprints into bit vectors.\n",
    "- Compute the pair-wise Tanimoto scores using the bit vectors."
   ]
  },
  {
   "cell_type": "code",
   "execution_count": 37,
   "metadata": {},
   "outputs": [
    {
     "name": "stdout",
     "output_type": "stream",
     "text": [
      "Tanimoto Similarity Scores for cids list\n",
      "54454 vs. 54687 : 0.8125\n",
      "54454 vs. 60823 : 0.3544\n",
      "54454 vs. 446155 : 0.3788\n",
      "54454 vs. 446157 : 0.3068\n",
      "54454 vs. 5282452 : 0.4\n",
      "54454 vs. 97938126 : 0.8667\n",
      "54687 vs. 60823 : 0.3867\n",
      "54687 vs. 446155 : 0.3968\n",
      "54687 vs. 446157 : 0.2874\n",
      "54687 vs. 5282452 : 0.4211\n",
      "54687 vs. 97938126 : 0.8\n",
      "60823 vs. 446155 : 0.6615\n",
      "60823 vs. 446157 : 0.5349\n",
      "60823 vs. 5282452 : 0.5075\n",
      "60823 vs. 97938126 : 0.3649\n",
      "446155 vs. 446157 : 0.5263\n",
      "446155 vs. 5282452 : 0.7347\n",
      "446155 vs. 97938126 : 0.3934\n",
      "446157 vs. 5282452 : 0.473\n",
      "446157 vs. 97938126 : 0.2976\n",
      "5282452 vs. 97938126 : 0.4444\n"
     ]
    }
   ],
   "source": [
    "# Week 5 Molecular Similarity \n",
    "# Exercise 2a \n",
    "\n",
    "# Imports \n",
    "import requests\n",
    "from rdkit import Chem \n",
    "from rdkit import DataStructs\n",
    "from rdkit.Chem import MACCSkeys\n",
    "\n",
    "def main (): \n",
    "\n",
    "    # sets the list of CIDs to plug into PUGREST for generating Tanimoto scores \n",
    "\n",
    "    cids = [    54454,  # Simvastatin (Zocor)\n",
    "                54687,  # Pravastatin (Pravachol)\n",
    "                60823,  # Atorvastatin (Lipitor)\n",
    "                446155,  # Fluvastatin (Lescol)   \n",
    "                446157,  # Rosuvastatin (Crestor)\n",
    "                5282452,  # Pitavastatin (Livalo)\n",
    "                97938126 ] # Lovastatin (Altoprev)\n",
    "    \n",
    "    # Get the SMILES code for the given list of CIDs and creates Mol objects \n",
    "    mols = []\n",
    "    \n",
    "    for cid in cids: \n",
    "        smiles = get_SMILES(str(cid)).text\n",
    "        mols.append(Chem.MolFromSmiles(smiles))\n",
    "    \n",
    "    print(\"Tanimoto Similarity Scores for cids list\")\n",
    "    \n",
    "    # Prints Tanimoto similarity score for all compounds in the cids list \n",
    "    get_Tanimoto(mols, cids)\n",
    "\n",
    "def get_SMILES(id): \n",
    "    \n",
    "    pugrest = \"https://pubchem.ncbi.nlm.nih.gov/rest/pug/compound/cid/\"\n",
    "    operation = \"/property/isomericsmiles/txt\"    \n",
    "    url = pugrest+id+operation\n",
    "\n",
    "    smile = requests.get(url)\n",
    "    \n",
    "    return smile\n",
    "\n",
    "def get_Tanimoto(mols,\n",
    "                 cids): \n",
    "\n",
    "    fingerprints = [ MACCSkeys.GenMACCSKeys(mol) for mol in mols ]\n",
    "    \n",
    "    for i in range(0, len(fingerprints)) :\n",
    "        for j in range(i+1, len(fingerprints)) :\n",
    "            score = round(DataStructs.TanimotoSimilarity(fingerprints[i], fingerprints[j]), 4)\n",
    "            print(cids[i], \"vs.\" ,cids[j], \":\", score)\n",
    "    \n",
    "\n",
    "if __name__ == \"__main__\":\n",
    "    main()"
   ]
  },
  {
   "cell_type": "markdown",
   "metadata": {},
   "source": [
    "## 3. Interpretation of similarity scores"
   ]
  },
  {
   "cell_type": "markdown",
   "metadata": {},
   "source": [
    "Using molecular fingeprints. we can compute the similarity scores between molecules.  However, how should these scores be interpreted?  For example, the Tanimoto score between CID 60823 and CID 446155 is computed to be 0.662, but does it mean that the two compounds are similar?  How similar is similar?  The following analysis would help answer these questions."
   ]
  },
  {
   "cell_type": "markdown",
   "metadata": {},
   "source": [
    "**Step 1.** Randomly select 1,000 compounds from PubChem and download their SMILES strings."
   ]
  },
  {
   "cell_type": "code",
   "execution_count": 30,
   "metadata": {},
   "outputs": [
    {
     "name": "stdout",
     "output_type": "stream",
     "text": [
      "Processing chunk 0 1 2 3 4 5 "
     ]
    },
    {
     "ename": "KeyboardInterrupt",
     "evalue": "",
     "output_type": "error",
     "traceback": [
      "\u001B[0;31m---------------------------------------------------------------------------\u001B[0m",
      "\u001B[0;31mKeyboardInterrupt\u001B[0m                         Traceback (most recent call last)",
      "Cell \u001B[0;32mIn[30], line 33\u001B[0m\n\u001B[1;32m     30\u001B[0m str_cids \u001B[38;5;241m=\u001B[39m \u001B[38;5;124m\"\u001B[39m\u001B[38;5;124m,\u001B[39m\u001B[38;5;124m\"\u001B[39m\u001B[38;5;241m.\u001B[39mjoin([ \u001B[38;5;28mstr\u001B[39m(x) \u001B[38;5;28;01mfor\u001B[39;00m x \u001B[38;5;129;01min\u001B[39;00m cids[idx1:idx2]])\n\u001B[1;32m     32\u001B[0m url \u001B[38;5;241m=\u001B[39m prolog \u001B[38;5;241m+\u001B[39m \u001B[38;5;124m\"\u001B[39m\u001B[38;5;124m/compound/cid/\u001B[39m\u001B[38;5;124m\"\u001B[39m \u001B[38;5;241m+\u001B[39m str_cids \u001B[38;5;241m+\u001B[39m \u001B[38;5;124m\"\u001B[39m\u001B[38;5;124m/property/isomericsmiles/txt\u001B[39m\u001B[38;5;124m\"\u001B[39m\n\u001B[0;32m---> 33\u001B[0m res \u001B[38;5;241m=\u001B[39m \u001B[43mrequests\u001B[49m\u001B[38;5;241;43m.\u001B[39;49m\u001B[43mget\u001B[49m\u001B[43m(\u001B[49m\u001B[43murl\u001B[49m\u001B[43m)\u001B[49m\n\u001B[1;32m     35\u001B[0m \u001B[38;5;28;01mif\u001B[39;00m ( res\u001B[38;5;241m.\u001B[39mstatus_code \u001B[38;5;241m==\u001B[39m \u001B[38;5;241m200\u001B[39m) :\n\u001B[1;32m     36\u001B[0m     smiles\u001B[38;5;241m.\u001B[39mextend( res\u001B[38;5;241m.\u001B[39mtext\u001B[38;5;241m.\u001B[39msplit() )\n",
      "File \u001B[0;32m/opt/anaconda3/envs/molecular_informatics/lib/python3.11/site-packages/requests/api.py:73\u001B[0m, in \u001B[0;36mget\u001B[0;34m(url, params, **kwargs)\u001B[0m\n\u001B[1;32m     62\u001B[0m \u001B[38;5;28;01mdef\u001B[39;00m \u001B[38;5;21mget\u001B[39m(url, params\u001B[38;5;241m=\u001B[39m\u001B[38;5;28;01mNone\u001B[39;00m, \u001B[38;5;241m*\u001B[39m\u001B[38;5;241m*\u001B[39mkwargs):\n\u001B[1;32m     63\u001B[0m \u001B[38;5;250m    \u001B[39m\u001B[38;5;124mr\u001B[39m\u001B[38;5;124;03m\"\"\"Sends a GET request.\u001B[39;00m\n\u001B[1;32m     64\u001B[0m \n\u001B[1;32m     65\u001B[0m \u001B[38;5;124;03m    :param url: URL for the new :class:`Request` object.\u001B[39;00m\n\u001B[0;32m   (...)\u001B[0m\n\u001B[1;32m     70\u001B[0m \u001B[38;5;124;03m    :rtype: requests.Response\u001B[39;00m\n\u001B[1;32m     71\u001B[0m \u001B[38;5;124;03m    \"\"\"\u001B[39;00m\n\u001B[0;32m---> 73\u001B[0m     \u001B[38;5;28;01mreturn\u001B[39;00m \u001B[43mrequest\u001B[49m\u001B[43m(\u001B[49m\u001B[38;5;124;43m\"\u001B[39;49m\u001B[38;5;124;43mget\u001B[39;49m\u001B[38;5;124;43m\"\u001B[39;49m\u001B[43m,\u001B[49m\u001B[43m \u001B[49m\u001B[43murl\u001B[49m\u001B[43m,\u001B[49m\u001B[43m \u001B[49m\u001B[43mparams\u001B[49m\u001B[38;5;241;43m=\u001B[39;49m\u001B[43mparams\u001B[49m\u001B[43m,\u001B[49m\u001B[43m \u001B[49m\u001B[38;5;241;43m*\u001B[39;49m\u001B[38;5;241;43m*\u001B[39;49m\u001B[43mkwargs\u001B[49m\u001B[43m)\u001B[49m\n",
      "File \u001B[0;32m/opt/anaconda3/envs/molecular_informatics/lib/python3.11/site-packages/requests/api.py:59\u001B[0m, in \u001B[0;36mrequest\u001B[0;34m(method, url, **kwargs)\u001B[0m\n\u001B[1;32m     55\u001B[0m \u001B[38;5;66;03m# By using the 'with' statement we are sure the session is closed, thus we\u001B[39;00m\n\u001B[1;32m     56\u001B[0m \u001B[38;5;66;03m# avoid leaving sockets open which can trigger a ResourceWarning in some\u001B[39;00m\n\u001B[1;32m     57\u001B[0m \u001B[38;5;66;03m# cases, and look like a memory leak in others.\u001B[39;00m\n\u001B[1;32m     58\u001B[0m \u001B[38;5;28;01mwith\u001B[39;00m sessions\u001B[38;5;241m.\u001B[39mSession() \u001B[38;5;28;01mas\u001B[39;00m session:\n\u001B[0;32m---> 59\u001B[0m     \u001B[38;5;28;01mreturn\u001B[39;00m \u001B[43msession\u001B[49m\u001B[38;5;241;43m.\u001B[39;49m\u001B[43mrequest\u001B[49m\u001B[43m(\u001B[49m\u001B[43mmethod\u001B[49m\u001B[38;5;241;43m=\u001B[39;49m\u001B[43mmethod\u001B[49m\u001B[43m,\u001B[49m\u001B[43m \u001B[49m\u001B[43murl\u001B[49m\u001B[38;5;241;43m=\u001B[39;49m\u001B[43murl\u001B[49m\u001B[43m,\u001B[49m\u001B[43m \u001B[49m\u001B[38;5;241;43m*\u001B[39;49m\u001B[38;5;241;43m*\u001B[39;49m\u001B[43mkwargs\u001B[49m\u001B[43m)\u001B[49m\n",
      "File \u001B[0;32m/opt/anaconda3/envs/molecular_informatics/lib/python3.11/site-packages/requests/sessions.py:589\u001B[0m, in \u001B[0;36mSession.request\u001B[0;34m(self, method, url, params, data, headers, cookies, files, auth, timeout, allow_redirects, proxies, hooks, stream, verify, cert, json)\u001B[0m\n\u001B[1;32m    584\u001B[0m send_kwargs \u001B[38;5;241m=\u001B[39m {\n\u001B[1;32m    585\u001B[0m     \u001B[38;5;124m\"\u001B[39m\u001B[38;5;124mtimeout\u001B[39m\u001B[38;5;124m\"\u001B[39m: timeout,\n\u001B[1;32m    586\u001B[0m     \u001B[38;5;124m\"\u001B[39m\u001B[38;5;124mallow_redirects\u001B[39m\u001B[38;5;124m\"\u001B[39m: allow_redirects,\n\u001B[1;32m    587\u001B[0m }\n\u001B[1;32m    588\u001B[0m send_kwargs\u001B[38;5;241m.\u001B[39mupdate(settings)\n\u001B[0;32m--> 589\u001B[0m resp \u001B[38;5;241m=\u001B[39m \u001B[38;5;28;43mself\u001B[39;49m\u001B[38;5;241;43m.\u001B[39;49m\u001B[43msend\u001B[49m\u001B[43m(\u001B[49m\u001B[43mprep\u001B[49m\u001B[43m,\u001B[49m\u001B[43m \u001B[49m\u001B[38;5;241;43m*\u001B[39;49m\u001B[38;5;241;43m*\u001B[39;49m\u001B[43msend_kwargs\u001B[49m\u001B[43m)\u001B[49m\n\u001B[1;32m    591\u001B[0m \u001B[38;5;28;01mreturn\u001B[39;00m resp\n",
      "File \u001B[0;32m/opt/anaconda3/envs/molecular_informatics/lib/python3.11/site-packages/requests/sessions.py:703\u001B[0m, in \u001B[0;36mSession.send\u001B[0;34m(self, request, **kwargs)\u001B[0m\n\u001B[1;32m    700\u001B[0m start \u001B[38;5;241m=\u001B[39m preferred_clock()\n\u001B[1;32m    702\u001B[0m \u001B[38;5;66;03m# Send the request\u001B[39;00m\n\u001B[0;32m--> 703\u001B[0m r \u001B[38;5;241m=\u001B[39m \u001B[43madapter\u001B[49m\u001B[38;5;241;43m.\u001B[39;49m\u001B[43msend\u001B[49m\u001B[43m(\u001B[49m\u001B[43mrequest\u001B[49m\u001B[43m,\u001B[49m\u001B[43m \u001B[49m\u001B[38;5;241;43m*\u001B[39;49m\u001B[38;5;241;43m*\u001B[39;49m\u001B[43mkwargs\u001B[49m\u001B[43m)\u001B[49m\n\u001B[1;32m    705\u001B[0m \u001B[38;5;66;03m# Total elapsed time of the request (approximately)\u001B[39;00m\n\u001B[1;32m    706\u001B[0m elapsed \u001B[38;5;241m=\u001B[39m preferred_clock() \u001B[38;5;241m-\u001B[39m start\n",
      "File \u001B[0;32m/opt/anaconda3/envs/molecular_informatics/lib/python3.11/site-packages/requests/adapters.py:667\u001B[0m, in \u001B[0;36mHTTPAdapter.send\u001B[0;34m(self, request, stream, timeout, verify, cert, proxies)\u001B[0m\n\u001B[1;32m    664\u001B[0m     timeout \u001B[38;5;241m=\u001B[39m TimeoutSauce(connect\u001B[38;5;241m=\u001B[39mtimeout, read\u001B[38;5;241m=\u001B[39mtimeout)\n\u001B[1;32m    666\u001B[0m \u001B[38;5;28;01mtry\u001B[39;00m:\n\u001B[0;32m--> 667\u001B[0m     resp \u001B[38;5;241m=\u001B[39m \u001B[43mconn\u001B[49m\u001B[38;5;241;43m.\u001B[39;49m\u001B[43murlopen\u001B[49m\u001B[43m(\u001B[49m\n\u001B[1;32m    668\u001B[0m \u001B[43m        \u001B[49m\u001B[43mmethod\u001B[49m\u001B[38;5;241;43m=\u001B[39;49m\u001B[43mrequest\u001B[49m\u001B[38;5;241;43m.\u001B[39;49m\u001B[43mmethod\u001B[49m\u001B[43m,\u001B[49m\n\u001B[1;32m    669\u001B[0m \u001B[43m        \u001B[49m\u001B[43murl\u001B[49m\u001B[38;5;241;43m=\u001B[39;49m\u001B[43murl\u001B[49m\u001B[43m,\u001B[49m\n\u001B[1;32m    670\u001B[0m \u001B[43m        \u001B[49m\u001B[43mbody\u001B[49m\u001B[38;5;241;43m=\u001B[39;49m\u001B[43mrequest\u001B[49m\u001B[38;5;241;43m.\u001B[39;49m\u001B[43mbody\u001B[49m\u001B[43m,\u001B[49m\n\u001B[1;32m    671\u001B[0m \u001B[43m        \u001B[49m\u001B[43mheaders\u001B[49m\u001B[38;5;241;43m=\u001B[39;49m\u001B[43mrequest\u001B[49m\u001B[38;5;241;43m.\u001B[39;49m\u001B[43mheaders\u001B[49m\u001B[43m,\u001B[49m\n\u001B[1;32m    672\u001B[0m \u001B[43m        \u001B[49m\u001B[43mredirect\u001B[49m\u001B[38;5;241;43m=\u001B[39;49m\u001B[38;5;28;43;01mFalse\u001B[39;49;00m\u001B[43m,\u001B[49m\n\u001B[1;32m    673\u001B[0m \u001B[43m        \u001B[49m\u001B[43massert_same_host\u001B[49m\u001B[38;5;241;43m=\u001B[39;49m\u001B[38;5;28;43;01mFalse\u001B[39;49;00m\u001B[43m,\u001B[49m\n\u001B[1;32m    674\u001B[0m \u001B[43m        \u001B[49m\u001B[43mpreload_content\u001B[49m\u001B[38;5;241;43m=\u001B[39;49m\u001B[38;5;28;43;01mFalse\u001B[39;49;00m\u001B[43m,\u001B[49m\n\u001B[1;32m    675\u001B[0m \u001B[43m        \u001B[49m\u001B[43mdecode_content\u001B[49m\u001B[38;5;241;43m=\u001B[39;49m\u001B[38;5;28;43;01mFalse\u001B[39;49;00m\u001B[43m,\u001B[49m\n\u001B[1;32m    676\u001B[0m \u001B[43m        \u001B[49m\u001B[43mretries\u001B[49m\u001B[38;5;241;43m=\u001B[39;49m\u001B[38;5;28;43mself\u001B[39;49m\u001B[38;5;241;43m.\u001B[39;49m\u001B[43mmax_retries\u001B[49m\u001B[43m,\u001B[49m\n\u001B[1;32m    677\u001B[0m \u001B[43m        \u001B[49m\u001B[43mtimeout\u001B[49m\u001B[38;5;241;43m=\u001B[39;49m\u001B[43mtimeout\u001B[49m\u001B[43m,\u001B[49m\n\u001B[1;32m    678\u001B[0m \u001B[43m        \u001B[49m\u001B[43mchunked\u001B[49m\u001B[38;5;241;43m=\u001B[39;49m\u001B[43mchunked\u001B[49m\u001B[43m,\u001B[49m\n\u001B[1;32m    679\u001B[0m \u001B[43m    \u001B[49m\u001B[43m)\u001B[49m\n\u001B[1;32m    681\u001B[0m \u001B[38;5;28;01mexcept\u001B[39;00m (ProtocolError, \u001B[38;5;167;01mOSError\u001B[39;00m) \u001B[38;5;28;01mas\u001B[39;00m err:\n\u001B[1;32m    682\u001B[0m     \u001B[38;5;28;01mraise\u001B[39;00m \u001B[38;5;167;01mConnectionError\u001B[39;00m(err, request\u001B[38;5;241m=\u001B[39mrequest)\n",
      "File \u001B[0;32m/opt/anaconda3/envs/molecular_informatics/lib/python3.11/site-packages/urllib3/connectionpool.py:789\u001B[0m, in \u001B[0;36mHTTPConnectionPool.urlopen\u001B[0;34m(self, method, url, body, headers, retries, redirect, assert_same_host, timeout, pool_timeout, release_conn, chunked, body_pos, preload_content, decode_content, **response_kw)\u001B[0m\n\u001B[1;32m    786\u001B[0m response_conn \u001B[38;5;241m=\u001B[39m conn \u001B[38;5;28;01mif\u001B[39;00m \u001B[38;5;129;01mnot\u001B[39;00m release_conn \u001B[38;5;28;01melse\u001B[39;00m \u001B[38;5;28;01mNone\u001B[39;00m\n\u001B[1;32m    788\u001B[0m \u001B[38;5;66;03m# Make the request on the HTTPConnection object\u001B[39;00m\n\u001B[0;32m--> 789\u001B[0m response \u001B[38;5;241m=\u001B[39m \u001B[38;5;28;43mself\u001B[39;49m\u001B[38;5;241;43m.\u001B[39;49m\u001B[43m_make_request\u001B[49m\u001B[43m(\u001B[49m\n\u001B[1;32m    790\u001B[0m \u001B[43m    \u001B[49m\u001B[43mconn\u001B[49m\u001B[43m,\u001B[49m\n\u001B[1;32m    791\u001B[0m \u001B[43m    \u001B[49m\u001B[43mmethod\u001B[49m\u001B[43m,\u001B[49m\n\u001B[1;32m    792\u001B[0m \u001B[43m    \u001B[49m\u001B[43murl\u001B[49m\u001B[43m,\u001B[49m\n\u001B[1;32m    793\u001B[0m \u001B[43m    \u001B[49m\u001B[43mtimeout\u001B[49m\u001B[38;5;241;43m=\u001B[39;49m\u001B[43mtimeout_obj\u001B[49m\u001B[43m,\u001B[49m\n\u001B[1;32m    794\u001B[0m \u001B[43m    \u001B[49m\u001B[43mbody\u001B[49m\u001B[38;5;241;43m=\u001B[39;49m\u001B[43mbody\u001B[49m\u001B[43m,\u001B[49m\n\u001B[1;32m    795\u001B[0m \u001B[43m    \u001B[49m\u001B[43mheaders\u001B[49m\u001B[38;5;241;43m=\u001B[39;49m\u001B[43mheaders\u001B[49m\u001B[43m,\u001B[49m\n\u001B[1;32m    796\u001B[0m \u001B[43m    \u001B[49m\u001B[43mchunked\u001B[49m\u001B[38;5;241;43m=\u001B[39;49m\u001B[43mchunked\u001B[49m\u001B[43m,\u001B[49m\n\u001B[1;32m    797\u001B[0m \u001B[43m    \u001B[49m\u001B[43mretries\u001B[49m\u001B[38;5;241;43m=\u001B[39;49m\u001B[43mretries\u001B[49m\u001B[43m,\u001B[49m\n\u001B[1;32m    798\u001B[0m \u001B[43m    \u001B[49m\u001B[43mresponse_conn\u001B[49m\u001B[38;5;241;43m=\u001B[39;49m\u001B[43mresponse_conn\u001B[49m\u001B[43m,\u001B[49m\n\u001B[1;32m    799\u001B[0m \u001B[43m    \u001B[49m\u001B[43mpreload_content\u001B[49m\u001B[38;5;241;43m=\u001B[39;49m\u001B[43mpreload_content\u001B[49m\u001B[43m,\u001B[49m\n\u001B[1;32m    800\u001B[0m \u001B[43m    \u001B[49m\u001B[43mdecode_content\u001B[49m\u001B[38;5;241;43m=\u001B[39;49m\u001B[43mdecode_content\u001B[49m\u001B[43m,\u001B[49m\n\u001B[1;32m    801\u001B[0m \u001B[43m    \u001B[49m\u001B[38;5;241;43m*\u001B[39;49m\u001B[38;5;241;43m*\u001B[39;49m\u001B[43mresponse_kw\u001B[49m\u001B[43m,\u001B[49m\n\u001B[1;32m    802\u001B[0m \u001B[43m\u001B[49m\u001B[43m)\u001B[49m\n\u001B[1;32m    804\u001B[0m \u001B[38;5;66;03m# Everything went great!\u001B[39;00m\n\u001B[1;32m    805\u001B[0m clean_exit \u001B[38;5;241m=\u001B[39m \u001B[38;5;28;01mTrue\u001B[39;00m\n",
      "File \u001B[0;32m/opt/anaconda3/envs/molecular_informatics/lib/python3.11/site-packages/urllib3/connectionpool.py:536\u001B[0m, in \u001B[0;36mHTTPConnectionPool._make_request\u001B[0;34m(self, conn, method, url, body, headers, retries, timeout, chunked, response_conn, preload_content, decode_content, enforce_content_length)\u001B[0m\n\u001B[1;32m    534\u001B[0m \u001B[38;5;66;03m# Receive the response from the server\u001B[39;00m\n\u001B[1;32m    535\u001B[0m \u001B[38;5;28;01mtry\u001B[39;00m:\n\u001B[0;32m--> 536\u001B[0m     response \u001B[38;5;241m=\u001B[39m \u001B[43mconn\u001B[49m\u001B[38;5;241;43m.\u001B[39;49m\u001B[43mgetresponse\u001B[49m\u001B[43m(\u001B[49m\u001B[43m)\u001B[49m\n\u001B[1;32m    537\u001B[0m \u001B[38;5;28;01mexcept\u001B[39;00m (BaseSSLError, \u001B[38;5;167;01mOSError\u001B[39;00m) \u001B[38;5;28;01mas\u001B[39;00m e:\n\u001B[1;32m    538\u001B[0m     \u001B[38;5;28mself\u001B[39m\u001B[38;5;241m.\u001B[39m_raise_timeout(err\u001B[38;5;241m=\u001B[39me, url\u001B[38;5;241m=\u001B[39murl, timeout_value\u001B[38;5;241m=\u001B[39mread_timeout)\n",
      "File \u001B[0;32m/opt/anaconda3/envs/molecular_informatics/lib/python3.11/site-packages/urllib3/connection.py:464\u001B[0m, in \u001B[0;36mHTTPConnection.getresponse\u001B[0;34m(self)\u001B[0m\n\u001B[1;32m    461\u001B[0m \u001B[38;5;28;01mfrom\u001B[39;00m \u001B[38;5;21;01m.\u001B[39;00m\u001B[38;5;21;01mresponse\u001B[39;00m \u001B[38;5;28;01mimport\u001B[39;00m HTTPResponse\n\u001B[1;32m    463\u001B[0m \u001B[38;5;66;03m# Get the response from http.client.HTTPConnection\u001B[39;00m\n\u001B[0;32m--> 464\u001B[0m httplib_response \u001B[38;5;241m=\u001B[39m \u001B[38;5;28;43msuper\u001B[39;49m\u001B[43m(\u001B[49m\u001B[43m)\u001B[49m\u001B[38;5;241;43m.\u001B[39;49m\u001B[43mgetresponse\u001B[49m\u001B[43m(\u001B[49m\u001B[43m)\u001B[49m\n\u001B[1;32m    466\u001B[0m \u001B[38;5;28;01mtry\u001B[39;00m:\n\u001B[1;32m    467\u001B[0m     assert_header_parsing(httplib_response\u001B[38;5;241m.\u001B[39mmsg)\n",
      "File \u001B[0;32m/opt/anaconda3/envs/molecular_informatics/lib/python3.11/http/client.py:1395\u001B[0m, in \u001B[0;36mHTTPConnection.getresponse\u001B[0;34m(self)\u001B[0m\n\u001B[1;32m   1393\u001B[0m \u001B[38;5;28;01mtry\u001B[39;00m:\n\u001B[1;32m   1394\u001B[0m     \u001B[38;5;28;01mtry\u001B[39;00m:\n\u001B[0;32m-> 1395\u001B[0m         \u001B[43mresponse\u001B[49m\u001B[38;5;241;43m.\u001B[39;49m\u001B[43mbegin\u001B[49m\u001B[43m(\u001B[49m\u001B[43m)\u001B[49m\n\u001B[1;32m   1396\u001B[0m     \u001B[38;5;28;01mexcept\u001B[39;00m \u001B[38;5;167;01mConnectionError\u001B[39;00m:\n\u001B[1;32m   1397\u001B[0m         \u001B[38;5;28mself\u001B[39m\u001B[38;5;241m.\u001B[39mclose()\n",
      "File \u001B[0;32m/opt/anaconda3/envs/molecular_informatics/lib/python3.11/http/client.py:325\u001B[0m, in \u001B[0;36mHTTPResponse.begin\u001B[0;34m(self)\u001B[0m\n\u001B[1;32m    323\u001B[0m \u001B[38;5;66;03m# read until we get a non-100 response\u001B[39;00m\n\u001B[1;32m    324\u001B[0m \u001B[38;5;28;01mwhile\u001B[39;00m \u001B[38;5;28;01mTrue\u001B[39;00m:\n\u001B[0;32m--> 325\u001B[0m     version, status, reason \u001B[38;5;241m=\u001B[39m \u001B[38;5;28;43mself\u001B[39;49m\u001B[38;5;241;43m.\u001B[39;49m\u001B[43m_read_status\u001B[49m\u001B[43m(\u001B[49m\u001B[43m)\u001B[49m\n\u001B[1;32m    326\u001B[0m     \u001B[38;5;28;01mif\u001B[39;00m status \u001B[38;5;241m!=\u001B[39m CONTINUE:\n\u001B[1;32m    327\u001B[0m         \u001B[38;5;28;01mbreak\u001B[39;00m\n",
      "File \u001B[0;32m/opt/anaconda3/envs/molecular_informatics/lib/python3.11/http/client.py:286\u001B[0m, in \u001B[0;36mHTTPResponse._read_status\u001B[0;34m(self)\u001B[0m\n\u001B[1;32m    285\u001B[0m \u001B[38;5;28;01mdef\u001B[39;00m \u001B[38;5;21m_read_status\u001B[39m(\u001B[38;5;28mself\u001B[39m):\n\u001B[0;32m--> 286\u001B[0m     line \u001B[38;5;241m=\u001B[39m \u001B[38;5;28mstr\u001B[39m(\u001B[38;5;28mself\u001B[39m\u001B[38;5;241m.\u001B[39mfp\u001B[38;5;241m.\u001B[39mreadline(_MAXLINE \u001B[38;5;241m+\u001B[39m \u001B[38;5;241m1\u001B[39m), \u001B[38;5;124m\"\u001B[39m\u001B[38;5;124miso-8859-1\u001B[39m\u001B[38;5;124m\"\u001B[39m)\n\u001B[1;32m    287\u001B[0m     \u001B[38;5;28;01mif\u001B[39;00m \u001B[38;5;28mlen\u001B[39m(line) \u001B[38;5;241m>\u001B[39m _MAXLINE:\n\u001B[1;32m    288\u001B[0m         \u001B[38;5;28;01mraise\u001B[39;00m LineTooLong(\u001B[38;5;124m\"\u001B[39m\u001B[38;5;124mstatus line\u001B[39m\u001B[38;5;124m\"\u001B[39m)\n",
      "File \u001B[0;32m/opt/anaconda3/envs/molecular_informatics/lib/python3.11/socket.py:706\u001B[0m, in \u001B[0;36mSocketIO.readinto\u001B[0;34m(self, b)\u001B[0m\n\u001B[1;32m    704\u001B[0m \u001B[38;5;28;01mwhile\u001B[39;00m \u001B[38;5;28;01mTrue\u001B[39;00m:\n\u001B[1;32m    705\u001B[0m     \u001B[38;5;28;01mtry\u001B[39;00m:\n\u001B[0;32m--> 706\u001B[0m         \u001B[38;5;28;01mreturn\u001B[39;00m \u001B[38;5;28;43mself\u001B[39;49m\u001B[38;5;241;43m.\u001B[39;49m\u001B[43m_sock\u001B[49m\u001B[38;5;241;43m.\u001B[39;49m\u001B[43mrecv_into\u001B[49m\u001B[43m(\u001B[49m\u001B[43mb\u001B[49m\u001B[43m)\u001B[49m\n\u001B[1;32m    707\u001B[0m     \u001B[38;5;28;01mexcept\u001B[39;00m timeout:\n\u001B[1;32m    708\u001B[0m         \u001B[38;5;28mself\u001B[39m\u001B[38;5;241m.\u001B[39m_timeout_occurred \u001B[38;5;241m=\u001B[39m \u001B[38;5;28;01mTrue\u001B[39;00m\n",
      "File \u001B[0;32m/opt/anaconda3/envs/molecular_informatics/lib/python3.11/ssl.py:1314\u001B[0m, in \u001B[0;36mSSLSocket.recv_into\u001B[0;34m(self, buffer, nbytes, flags)\u001B[0m\n\u001B[1;32m   1310\u001B[0m     \u001B[38;5;28;01mif\u001B[39;00m flags \u001B[38;5;241m!=\u001B[39m \u001B[38;5;241m0\u001B[39m:\n\u001B[1;32m   1311\u001B[0m         \u001B[38;5;28;01mraise\u001B[39;00m \u001B[38;5;167;01mValueError\u001B[39;00m(\n\u001B[1;32m   1312\u001B[0m           \u001B[38;5;124m\"\u001B[39m\u001B[38;5;124mnon-zero flags not allowed in calls to recv_into() on \u001B[39m\u001B[38;5;132;01m%s\u001B[39;00m\u001B[38;5;124m\"\u001B[39m \u001B[38;5;241m%\u001B[39m\n\u001B[1;32m   1313\u001B[0m           \u001B[38;5;28mself\u001B[39m\u001B[38;5;241m.\u001B[39m\u001B[38;5;18m__class__\u001B[39m)\n\u001B[0;32m-> 1314\u001B[0m     \u001B[38;5;28;01mreturn\u001B[39;00m \u001B[38;5;28;43mself\u001B[39;49m\u001B[38;5;241;43m.\u001B[39;49m\u001B[43mread\u001B[49m\u001B[43m(\u001B[49m\u001B[43mnbytes\u001B[49m\u001B[43m,\u001B[49m\u001B[43m \u001B[49m\u001B[43mbuffer\u001B[49m\u001B[43m)\u001B[49m\n\u001B[1;32m   1315\u001B[0m \u001B[38;5;28;01melse\u001B[39;00m:\n\u001B[1;32m   1316\u001B[0m     \u001B[38;5;28;01mreturn\u001B[39;00m \u001B[38;5;28msuper\u001B[39m()\u001B[38;5;241m.\u001B[39mrecv_into(buffer, nbytes, flags)\n",
      "File \u001B[0;32m/opt/anaconda3/envs/molecular_informatics/lib/python3.11/ssl.py:1166\u001B[0m, in \u001B[0;36mSSLSocket.read\u001B[0;34m(self, len, buffer)\u001B[0m\n\u001B[1;32m   1164\u001B[0m \u001B[38;5;28;01mtry\u001B[39;00m:\n\u001B[1;32m   1165\u001B[0m     \u001B[38;5;28;01mif\u001B[39;00m buffer \u001B[38;5;129;01mis\u001B[39;00m \u001B[38;5;129;01mnot\u001B[39;00m \u001B[38;5;28;01mNone\u001B[39;00m:\n\u001B[0;32m-> 1166\u001B[0m         \u001B[38;5;28;01mreturn\u001B[39;00m \u001B[38;5;28;43mself\u001B[39;49m\u001B[38;5;241;43m.\u001B[39;49m\u001B[43m_sslobj\u001B[49m\u001B[38;5;241;43m.\u001B[39;49m\u001B[43mread\u001B[49m\u001B[43m(\u001B[49m\u001B[38;5;28;43mlen\u001B[39;49m\u001B[43m,\u001B[49m\u001B[43m \u001B[49m\u001B[43mbuffer\u001B[49m\u001B[43m)\u001B[49m\n\u001B[1;32m   1167\u001B[0m     \u001B[38;5;28;01melse\u001B[39;00m:\n\u001B[1;32m   1168\u001B[0m         \u001B[38;5;28;01mreturn\u001B[39;00m \u001B[38;5;28mself\u001B[39m\u001B[38;5;241m.\u001B[39m_sslobj\u001B[38;5;241m.\u001B[39mread(\u001B[38;5;28mlen\u001B[39m)\n",
      "\u001B[0;31mKeyboardInterrupt\u001B[0m: "
     ]
    }
   ],
   "source": [
    "import random\n",
    "import time\n",
    "# random.seed(0)\n",
    "\n",
    "cid_max = 138962044    # The maximum CID in PubChem as of September 2019\n",
    "\n",
    "cids = []\n",
    "\n",
    "for x in range(1000):\n",
    "    cids.append(random.randint(1, cid_max + 1))\n",
    "\n",
    "chunk_size = 100\n",
    "\n",
    "if len(cids) % chunk_size == 0 :\n",
    "    num_chunks = int( len(cids) / chunk_size )\n",
    "else :\n",
    "    num_chunks = int( len(cids) / chunk_size ) + 1\n",
    "\n",
    "smiles = []\n",
    "    \n",
    "for i in range(num_chunks):\n",
    "\n",
    "    if (i == 0):\n",
    "        print(\"Processing chunk \", end='')\n",
    "    \n",
    "    print(i, end=' ')\n",
    "    \n",
    "    idx1 = chunk_size * i\n",
    "    idx2 = chunk_size * (i + 1)\n",
    "    str_cids = \",\".join([ str(x) for x in cids[idx1:idx2]])\n",
    "\n",
    "    url = prolog + \"/compound/cid/\" + str_cids + \"/property/isomericsmiles/txt\"\n",
    "    res = requests.get(url)\n",
    "\n",
    "    if ( res.status_code == 200) :\n",
    "        smiles.extend( res.text.split() )\n",
    "    else :\n",
    "        print(\"Chunk\", i, \"Failed to get SMILES.\")\n",
    "        \n",
    "    time.sleep(0.2)\n",
    "\n",
    "print(\"Done!\")\n",
    "print(\"# Number of SMILES : \", len(smiles))\n"
   ]
  },
  {
   "cell_type": "code",
   "execution_count": null,
   "metadata": {},
   "outputs": [],
   "source": [
    "print(smiles[0])"
   ]
  },
  {
   "cell_type": "markdown",
   "metadata": {},
   "source": [
    "**Step 2.** Generate the MACCSKeys for each compound."
   ]
  },
  {
   "cell_type": "code",
   "execution_count": null,
   "metadata": {},
   "outputs": [],
   "source": [
    "mols = [ Chem.MolFromSmiles(x) for x in smiles if x != None ]\n",
    "fingerprints  = [ MACCSkeys.GenMACCSKeys(x) for x in mols if x != None ]\n",
    "print(\"# Number of compounds:\", len(mols))\n",
    "print(\"# Number of fingerprints:\", len(fingerprints))"
   ]
  },
  {
   "cell_type": "markdown",
   "metadata": {},
   "source": [
    "**Step 3.** Compute the Tanimoto scores between compounds."
   ]
  },
  {
   "cell_type": "code",
   "execution_count": null,
   "metadata": {},
   "outputs": [],
   "source": [
    "print(\"# The number of compound pairs:\", (len(fingerprints) * (len(fingerprints) - 1))/2 )"
   ]
  },
  {
   "cell_type": "code",
   "execution_count": null,
   "metadata": {},
   "outputs": [],
   "source": [
    "scores = []\n",
    "\n",
    "for i in range(0, len(fingerprints)) :\n",
    "\n",
    "    if (i == 0) :\n",
    "        print(\"Processing compound \", end='')\n",
    "    \n",
    "    if (i % 100 == 0) :\n",
    "        print(i, end=' ')\n",
    "    \n",
    "    for j in range(i+1, len(fingerprints)) :\n",
    "        scores.append(DataStructs.FingerprintSimilarity(fingerprints[i], fingerprints[j]))\n",
    "\n",
    "print(\"Done!\")\n",
    "print(\"# Number of scores : \", len(scores))"
   ]
  },
  {
   "cell_type": "markdown",
   "metadata": {},
   "source": [
    "**Step 4.** Generate a histogram that shows the distribution of the pair-wise scores."
   ]
  },
  {
   "cell_type": "code",
   "execution_count": 45,
   "metadata": {},
   "outputs": [],
   "source": [
    "import matplotlib.pyplot as plt\n",
    "%matplotlib inline"
   ]
  },
  {
   "cell_type": "code",
   "execution_count": null,
   "metadata": {},
   "outputs": [],
   "source": [
    "mybins = [ x * 0.01 for x in range(101)]\n",
    "\n",
    "fig = plt.figure(figsize=(8,4), dpi=300)\n",
    "\n",
    "plt.subplot(1, 2, 1)\n",
    "plt.title(\"Distribution\")\n",
    "plt.hist(scores, bins=mybins)\n",
    "\n",
    "plt.subplot(1, 2, 2)\n",
    "plt.title(\"Cumulative Distribution\")\n",
    "plt.hist(scores, bins=mybins, density=True, cumulative=1)\n",
    "plt.plot([0,1],[0.95,0.95])\n"
   ]
  },
  {
   "cell_type": "code",
   "execution_count": 67,
   "metadata": {},
   "outputs": [],
   "source": [
    "for i in range(21) :\n",
    "    thresh = i / 20\n",
    "    num_similar_pairs = len([x for x in scores if x >= thresh]) \n",
    "    prob = num_similar_pairs / len(scores) * 100\n",
    "    print(\"%.3f %8d (%8.4f %%)\" % (thresh, num_similar_pairs, round(prob,4)))\n",
    "    "
   ]
  },
  {
   "cell_type": "code",
   "execution_count": 68,
   "metadata": {},
   "outputs": [],
   "source": [
    "print(\"Average:\", sum(scores)/len(scores))"
   ]
  },
  {
   "cell_type": "markdown",
   "metadata": {},
   "source": [
    "From the distribution of the similarity scores among 1,000 compounds, we observe the following:<br>\n",
    "- If you randomly select two compounds from PubChem, the similarity score between them (computed using the Tanimoto equation and MACCS keys) is ~0.35 on average.\n",
    "- About %5 of randomly selected compound pairs have a similarity score greater than 0.55.\n",
    "- About %1 of randomly selected compound pairs have a similarity score greater than 0.65."
   ]
  },
  {
   "cell_type": "markdown",
   "metadata": {},
   "source": [
    "If two compounds have a Tanimoto score of 0.35, it is close to the avaerage Tanimoto score between randomly selected compounds and there is a 50% chance that you will get a score of 0.35 or greater just by selecting two compounds from PubChem.  Therefore, it is reasonable to consider the two compounds are not similar.<br>\n",
    "\n",
    "The Tanimoto index may have a value ranging from 0 (for no similarity) to 1 (for identical molecules) and the midpoint of this value range is 0.5.  Because of this, a Tanimoto score of **0.55** may not sound great enough to consider two compounds to be similar.  However, according to the score distribution curve generated here, only **~5%** of randomly selected compound pairs will have a score greater than this.<br>\n",
    "\n",
    "In the previous section, we computed the similarity scores between some cholesterol-lowering drugs, and CID 60823 and CID 446155 had a Tanimoto score of **0.662**.  Based on the score distribution curve generated in the second section, we can say that the probablilty of two randomly selected compounds from PubChem having a Tanimoto score greater than 0.662 is **less than 1%**."
   ]
  },
  {
   "cell_type": "markdown",
   "metadata": {},
   "source": [
    "The following code cell demonstrates how to find an appropriate similarity score threshold above which a given percentage of the compound pairs will be considered to be similar to each other."
   ]
  },
  {
   "cell_type": "code",
   "execution_count": 47,
   "metadata": {},
   "outputs": [],
   "source": [
    "scores.sort()    # Sort the scores in an increasing order."
   ]
  },
  {
   "cell_type": "code",
   "execution_count": null,
   "metadata": {},
   "outputs": [],
   "source": [
    "# to find a threshold for top 3% compound pairs (i.e., 97% percentile)\n",
    "print(\"# total compound pairs:   \", len(scores))\n",
    "print(\"# 95% of compound pairs:  \", len(scores) * 0.97)\n",
    "print(\"# score at 95% percentile:\", scores[ round(len(scores) * 0.97) ] )\n"
   ]
  },
  {
   "cell_type": "markdown",
   "metadata": {},
   "source": [
    "**Exercise 3a:** In this exercise, we want to generate the distribution of the similarity scores among 1,000 compounds randomly selected from PubChem, using different molecular fingeprints and similarity metrics.<br>\n",
    "For molecular fingerprints, use the following:\n",
    "- PubChem Fingerprint\n",
    "- MACCS keys\n",
    "- Morgan Fingerprint (ECFP4 analogue, 1024-bit-long)\n",
    "\n",
    "For similarity metrics, use the following:\n",
    "- Tanimoto similarity\n",
    "\n",
    "Here are additional instructions to follow:\n",
    "- When generating the histograms, bin the scores from 0 to 1 with an increment of 0.01.\n",
    "- For each distribution curve, determine the similarity score threshold so that **1%** of the compound pairs have a similarity score greater than or equal to this threshold.\n",
    "- Use RDKit to generate the MACCS keys and Morgan fingerprint and download the PubChem fingerprints from PubChem.\n",
    "- For reproducibility, use **random.seed(2019)** before you generate random CIDs."
   ]
  },
  {
   "cell_type": "markdown",
   "metadata": {},
   "source": [
    "**Step 1:** Generate 1,000 random CIDs, download the isomeric SMILES for them, and create the RDKit mol objects from the downloaded SMILES strings."
   ]
  },
  {
   "cell_type": "code",
   "execution_count": 38,
   "metadata": {},
   "outputs": [],
   "source": [
    "# Write your code in this cell\n",
    "\n",
    "\n",
    "\n"
   ]
  },
  {
   "cell_type": "markdown",
   "metadata": {},
   "source": [
    "**Step 2:**  Generate the fingerprints, compute the similarity scores, determine similarity thresholds, and make histograms."
   ]
  },
  {
   "cell_type": "code",
   "execution_count": 39,
   "metadata": {},
   "outputs": [],
   "source": [
    "# Write your code in this cell\n",
    "\n",
    "\n",
    "\n"
   ]
  },
  {
   "cell_type": "code",
   "execution_count": null,
   "metadata": {},
   "outputs": [],
   "source": []
  }
 ],
 "metadata": {
  "kernelspec": {
   "display_name": "molecular_informatics",
   "language": "python",
   "name": "python3"
  },
  "language_info": {
   "codemirror_mode": {
    "name": "ipython",
    "version": 3
   },
   "file_extension": ".py",
   "mimetype": "text/x-python",
   "name": "python",
   "nbconvert_exporter": "python",
   "pygments_lexer": "ipython3",
   "version": "3.11.9"
  }
 },
 "nbformat": 4,
 "nbformat_minor": 4
}
