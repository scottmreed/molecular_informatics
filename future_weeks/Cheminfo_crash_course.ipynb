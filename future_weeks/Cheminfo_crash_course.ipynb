{
 "cells": [
  {
   "cell_type": "markdown",
   "id": "7d06a1a8-a729-47c1-973a-3b6afa520f18",
   "metadata": {
    "id": "7d06a1a8-a729-47c1-973a-3b6afa520f18"
   },
   "source": [
    "<div style=\"text-align:center;\">\n",
    "  <img src=\"https://github.com/MolSSI-Education/iqb-2025/blob/main/images/molssi_main_outline.png?raw=true\" style=\"display: block; margin: 0 auto; max-height:325px;\">\n",
    "</div>\n",
    "\n",
    "# Digital Representation of Molecules\n",
    "\n",
    "This tutorial was written by Paul Craig (RIT Professor) and Jessica Nash (Software Scientist) for the [Cheminformatic-Driven Molecular Docking Workshop](https://pdb101.rcsb.org/news/67d9853eaddf75595bd158f7) held as a Crash Course with the Institute for Quantitative Biomedicine (IQB) and the Protein Data Bank (PDB).\n",
    "\n",
    "*This notebook is Part 1 of 4 in the notebook series.*\n",
    "\n",
    "Other notebooks in this series:\n",
    "1. ***Digital Representation of Molecules*** (This notebook)\n",
    "2. [Exploring Chemical and Biological Data with BindingDB and the RDKit](https://colab.research.google.com/github/MolSSI-Education/iqb-2025/blob/main/02_Cheminfo_crash_course.ipynb)\n",
    "3. [Preparing Structures for Docking](https://colab.research.google.com/github/MolSSI-Education/iqb-2025/blob/main/03_Cheminfo_crash_course.ipynb)\n",
    "4. [Molecular Docking using gnina](https://colab.research.google.com/github/MolSSI-Education/iqb-2025/blob/main/04_Cheminfo_crash_course.ipynb)\n",
    "\n",
    "In this notebook, we will learn how to represent chemical structures as SMILES, how to use SMILES to create RDKit mol objects, and how to explore and visualize chemical data using pandas dataframes. This notebook is based on notebooks 01-05 from the [MolSSI Cheminformatics course](https://github.com/MolSSI-Education/molssi-cheminformatics), which was created by Jessica Nash from The Molecular Sciences Software Institute.\n"
   ]
  },
  {
   "cell_type": "code",
   "execution_count": null,
   "id": "350c2869-274d-4bab-87c9-aa06fbfd9f89",
   "metadata": {
    "cellView": "form",
    "id": "350c2869-274d-4bab-87c9-aa06fbfd9f89"
   },
   "outputs": [],
   "source": [
    "# @title Overview\n",
    "%%html\n",
    "<style>\n",
    "div.alert {\n",
    "    color: #0056b3;\n",
    "    background-color: #d9edf7;\n",
    "    border-left: 5px solid #31708f;\n",
    "    padding: 0.5em;\n",
    "    font-size: 1.25em;\n",
    "    line-height: 1.5;\n",
    "}\n",
    "div.alert ul {\n",
    "    margin: 0.5em 0;\n",
    "}\n",
    "div.alert li {\n",
    "    margin-bottom: 0.5em;\n",
    "}\n",
    "</style>\n",
    "\n",
    "<div class=\"alert alert-block alert-info\">\n",
    "    <strong>Questions:</strong>\n",
    "    <ul>\n",
    "        <li>How are molecules represented on computers?</li>\n",
    "        <li>What is a SMILES?</li>\n",
    "        <li>What are common molecular file formats?</li>\n",
    "   </ul>\n",
    "\n",
    "    <strong>Objectives:</strong>\n",
    "    <ul>\n",
    "        <li>Learn the basics of SMILES.</li>\n",
    "        <li>Convert molecules from chemical formula and structures to SMILES.</li>\n",
    "    </ul>\n",
    "</div>"
   ]
  },
  {
   "cell_type": "markdown",
   "id": "b8eb3cf1-79d9-40f6-a739-92b0ba19539e",
   "metadata": {
    "id": "b8eb3cf1-79d9-40f6-a739-92b0ba19539e"
   },
   "source": [
    "## Molecular Representations of Biological Molecules for Computing\n",
    "\n",
    "In bioinformatics, if you work with genomics you are accustomed to working with DNA sequences. For example, this is a partial DNA sequence for human dihdydrofolate reductase, an important enzyme in nucelotide metabolism.\n",
    "\n",
    "```\n",
    "GAATTCATGAAAACGTAGCTCGTCCTCAAAAAAAACAGAAGAGGAGTAATCATTTTAAGGGAGAAATATA\n",
    "TACGAAAGGAACAAGATTTTGAAGCACCCAAGCTGCCACCTACATTAAAACACGGTAGGTGGCTAAACAC\n",
    "CAGTCTTCAATGCCCTTCCACAGCCTCAGTCTGAAAAATACTGTGCAGGTGACCCAAGTGAGGGGTCACC\n",
    "CTTGGGCTTTTCCTGTGGCAGTATCTCTGGTTTAAAAACAAACAAACGTACTTATTGCGTTGAAGGACGG\n",
    "CAACAGGAAGGACTCCATGATTAGTCACATCTATACCATCCTAAGAAACTTTATCCACCCAAACTGTATT\n",
    "TCAGACTTTATAATCTAAACTACAAAAAGTGTTCACTGGGGAACTGCACAATATGACTGCTTTTAACCGT\n",
    "```\n",
    "\n",
    "The DNA sequence shown here is a simplified representation of a very complex 3D structure that is part of a chromosome, an enormously complex structure. The sequence that represents this gene can be used as a string in coding - computation with strings is orders of magnitude faster than computation with 3D structures. And we can still learn a great deal about this gene simply by exploring the sequence. Likewise we can represent the RNA transcribed from this sequence as a list of characters where T is replaced by U.\n",
    "\n",
    "If you study proteins or proteomics, you know that protein function depends on protein structure. Protein structures involve 20 (or more) building blocks so the sequences are more complex, but the principle of representing the protein as a simple string for ease with computing still applies. Here is the sequence of the dihydrofolate reductase protein that is coded in this gene sequence above.\n",
    "\n",
    "```\n",
    "MVGSLNCIVAVSQNMGIGKNGDLPWPPLRNEFRYFQRMTTTSSVEGKQNLVIMGKKTWFSIPEKNRPLKG\n",
    "RINLVLSRELKEPPQGAHFLSRSLDDALKLTEQPELANKVDMVWIVGGSSVYKEAMNHPGHLKLFVTRIM\n",
    "QDFESDTFFPEIDLEKYKLLPEYPGVLSDVQEEKGIKYKFEVYEKND\n",
    "```\n",
    "\n",
    "As we move into cheminformatics, we often want to convert small molecule structures, like the aspirin shown here, into strings for computing ease.\n",
    "\n",
    "![Aspirin.png](https://drive.google.com/uc?export=view&id=1hcWaacd-pIb09Wi9dceVSQIfkXgWC-vD)\n",
    "\n",
    "There are three well-known string conversions for small molecules, SMILES, InChI, and InChI Key. Here are the SMILES, InChI, and InChI Key strings for aspirin.\n",
    "\n",
    "SMILES: CC(=O)OC1=CC=CC=C1C(=O)O\n",
    "\n",
    "InChI: 1S/C9H8O4/c1-6(10)13-8-5-3-2-4-7(8)9(11)12/h2-5H,1H3,(H,11,12)\n",
    "\n",
    "InChI Key: BSYNRYMUTXBXSQ-UHFFFAOYSA-N\n",
    "\n",
    "In this workshop we will use SMILES strings. SMILES syntax is explained below."
   ]
  },
  {
   "cell_type": "markdown",
   "id": "1a20ce5f-0392-40be-a64f-006929d49a5a",
   "metadata": {
    "id": "1a20ce5f-0392-40be-a64f-006929d49a5a"
   },
   "source": [
    "## Simplified Molecular-Input Line-entry System: SMILES\n",
    "\n",
    "SMILES stands for \"Simplified Molecular-Input Line-Entry System\" and is a way to represent molecules as a string of characters.\n",
    "\n",
    "Consider the molecule ethanol. The image below shows a representation that we are used to seeing in chemistry:\n",
    "\n",
    "![ethanol](https://drive.google.com/uc?export=view&id=1pBnnNujVdkw43xpDOM27nzICgnn7EqJj)\n",
    "\n",
    "However, the SMILES representation of this molecule would be \"CCO\".\n",
    "\n",
    "You can read more about SMILES at [this tutorial](https://archive.epa.gov/med/med_archive_03/web/html/smiles.html), but rules for atoms and bonds are also repeated below.\n",
    "\n",
    "### Atoms\n",
    "SMILES supports all elements in the periodic table. An atom is represented using its respective atomic symbol. Upper case letters refer to non-aromatic atoms; lower case letters refer to aromatic atoms. If the atomic symbol has more than one letter the second letter must be lower case.\n",
    "\n",
    "### Bonds\n",
    "```\n",
    "-\tSingle bond\n",
    "=\tDouble bond\n",
    "#\tTriple bond\n",
    "*\tAromatic bond\n",
    ".\tDisconnected structures\n",
    "```\n",
    "Single bonds are the default and therefore need not be entered. For example, 'CC' would mean that there is a non-aromatic carbon attached to another non-aromatic carbon by a single bond, and the computer would identify the structure as the chemical ethane. It is also assumed that the bond between two lower case atom symbols is aromatic. A blank terminates the SMILES string.\n",
    "\n",
    "### Branches\n",
    "\n",
    "A branch from a chain is specified by placing the SMILES symbol(s) for the branch between parenthesis. Some examples:\n",
    "\n",
    "```\n",
    "\n",
    "CC(O)C\t2-Propanol\n",
    "CC(=O)C\t2-Propanone\n",
    "```\n",
    "\n",
    "### Rings\n",
    "\n",
    "A ring is specified by placing a number directly after the SMILES symbol where the ring closure occurs. This number acts as a marker, indicating that the atoms with the same number are connected, thus forming a ring. For instance:\n",
    "\n",
    "```\n",
    "C1CCCC1   cyclopentane\n",
    "n1ccccc1  Pyridine\n",
    "```\n",
    "\n",
    "### SMILES Examples\n",
    "\n",
    "![SMILES Example 1](https://drive.google.com/uc?export=view&id=1-MFSoAGwqOPiqIUD06reOkBPx4BTMhGC)\n",
    "\n",
    "![SMILES Example 2](https://drive.google.com/uc?export=view&id=18Ub9L98y8cL_lDLF9wl6pLQxCkt8JFqu)\n",
    "\n",
    "### Using Online Resources\n",
    "Most of the time, you will not need to write a SMILES string by hand. You will be able to look up a molecule's SMILES string from a web database like [PubChem](https://pubchem.ncbi.nlm.nih.gov/).\n",
    "\n",
    "You can also use tools like this [molecule sketcher from the Protein Data Bank](https://www.rcsb.org/chemical-sketch)\n",
    "to draw molecules and get their SMILES strings."
   ]
  },
  {
   "cell_type": "code",
   "id": "928a5415-2bcb-4ef0-ac8a-1744714d8d3c",
   "metadata": {
    "cellView": "form",
    "id": "928a5415-2bcb-4ef0-ac8a-1744714d8d3c"
   },
   "source": [
    "# @title Exercise\n",
    "%%html\n",
    "<style>\n",
    "div.orange-alert {\n",
    "    color: #854f00; /* Darker shade of orange for text */\n",
    "    background-color: #ffe6cc; /* Light orange background */\n",
    "    border-left: 5px solid #ff9933; /* Bright orange border */\n",
    "    padding: 0.5em;\n",
    "    font-size: 1.25em; /* Matches the surrounding text size */\n",
    "    line-height: 1.5; /* Ensures readability */\n",
    "}\n",
    "div.orange-alert ul {\n",
    "    margin: 0.5em 0; /* Space around the list */\n",
    "}\n",
    "div.orange-alert li {\n",
    "    margin-bottom: 0.5em; /* Space between list items */\n",
    "}\n",
    "</style>\n",
    "\n",
    "<div class=\"orange-alert\">\n",
    "\n",
    "<strong>Exercise</strong>\n",
    "<p>\n",
    "Based on what you've learned about SMILES strings, answer the following questions:\n",
    "</p>\n",
    "    <ol>\n",
    "        <li> What is the SMILES for ethanol?</li>\n",
    "        <li> What is the SMILES for water?</li>\n",
    "        <li> What is the SMILES for benzene?</li>\n",
    "        <li> What molecule is represented by the SMILES O=C=O?</li>\n",
    "        <li> What is the SMILES for an amide group?<//li>\n",
    "        <li> What is the SMILES for a 4 membered carbon chain with an amide group on the second carbon?</li>\n",
    "    </ol>\n",
    "</p>\n",
    "<p>Check your answers from this previous exercise using the PDB molecule sketcher. Notice that you can type in a SMILES string and have the sketcher draw the molecule for you.</p>\n",
    "</div>"
   ],
   "outputs": [],
   "execution_count": null
  },
  {
   "cell_type": "code",
   "execution_count": null,
   "id": "6dcdb914-bf20-425d-859c-44c250ca991a",
   "metadata": {
    "id": "6dcdb914-bf20-425d-859c-44c250ca991a"
   },
   "outputs": [],
   "source": [
    "# TO DO: Fill in your answers here:\n",
    "# 1.\n",
    "# 2.\n",
    "# 3.\n",
    "# 4.\n",
    "# 5.\n",
    "# 6. CC(C(=O)N)CC\n"
   ]
  },
  {
   "cell_type": "markdown",
   "id": "4842145a-676e-4f1f-9b55-8b8296a81301",
   "metadata": {
    "id": "4842145a-676e-4f1f-9b55-8b8296a81301"
   },
   "source": [
    "## Molecular File Formats\n",
    "\n",
    "Molecules can also be represented using a number of different file formats. As you work more in chemistry, you may see a number of these. Sometimes you will have to pick a file format based on the software you are using or the molecular information you want to save.\n",
    "\n",
    "| File Format | Description                                                                 | Features                                                              | Common Uses                              |\n",
    "|-------------|-----------------------------------------------------------------------------|-----------------------------------------------------------------------|------------------------------------------|\n",
    "| SMILES      | Simplified Molecular Input Line Entry System                                | Line notation for representing molecular structures                   | Database               |\n",
    "| InChI       | International Chemical Identifier                                           | Textual identifier for chemical substances                            | Databases             |\n",
    "| MOL/SDF     | MDL MOLfile and Structure-Data File                                         | Contains 2D/3D coordinates, atoms, bonds                              | Structure visualization, cheminformatics |\n",
    "| PDB         | Protein Data Bank format                                                    | Often used for 3D structures of proteins and nucleic acids,but can also be used for small molecules. Often does not contain molecule information, and cannot store partial charges.                           | Structural biology, bioinformatics       |\n",
    "| XYZ         | Cartesian coordinates                                                       | Simple text format with atom types and 3D coordinates                 | Computational chemistry, molecular dynamics |     |\n",
    "| CIF         | Crystallographic Information File                                           | Text file format for representing crystal structure data              | Crystallography                          |\n",
    "| PQR         | Extended PDB format with partial charges and radii                          | Includes atomic coordinates, partial charges, and radii               | Electrostatics calculations              |\n",
    "| PDBQT       | PDB format with torsion angles and charges used in AutoDock                 | Includes atomic coordinates, partial charges, torsion angles          | Molecular docking                        |\n",
    "|MOL2   |Tripos Mol2 format|\tContains atomic coordinates, bonds, molecule types, substructures, and partial charges|\tMolecular modeling, cheminformatics, computational chemistry\n"
   ]
  },
  {
   "cell_type": "code",
   "execution_count": null,
   "id": "3db21944-72a0-4523-a87d-f702baa98a4b",
   "metadata": {
    "cellView": "form",
    "id": "3db21944-72a0-4523-a87d-f702baa98a4b"
   },
   "outputs": [],
   "source": [
    "# @title Introduction to RDKit Molecules\n",
    "%%html\n",
    "<style>\n",
    "div.alert {\n",
    "    color: #0056b3;\n",
    "    background-color: #d9edf7;\n",
    "    border-left: 5px solid #31708f;\n",
    "    padding: 0.5em;\n",
    "    font-size: 1.25em;\n",
    "    line-height: 1.5;\n",
    "}\n",
    "div.alert ul {\n",
    "    margin: 0.5em 0;\n",
    "}\n",
    "div.alert li {\n",
    "    margin-bottom: 0.5em;\n",
    "}\n",
    "</style>\n",
    "\n",
    "<div class=\"alert alert-block alert-info\">\n",
    "    <strong>Questions:</strong>\n",
    "    <ul>\n",
    "        <li>What is RDKit?</li>\n",
    "        <li>What is an RDKit mol object?</li>\n",
    "        <li>What can I do with RDKit mol objects?</li>\n",
    "   </ul>\n",
    "\n",
    "    <strong>Objectives:</strong>\n",
    "    <ul>\n",
    "        <li>Use RDKit to create mol objects in Python.</li>\n",
    "    </ul>\n",
    "\n",
    "    <p>There are Python libraries that are made for working just with chemical data. One commonly\n",
    "used library in Python for data science (or cheminformatics) is called\n",
    "[RDKit](https://en.wikipedia.org/wiki/RDKit). RDKit is an open-source cheminformatics\n",
    "library, primarily developed in C++ and has been under development since the year 2000.\n",
    "We will be using the Python interface to RDKit, though there are interfaces in other languages.\n",
    "</p>\n",
    "\n",
    "<p>\n",
    "RDKit provides a molecule object that allows you to manipulate chemical structures. It has\n",
    "capabilities for reading and writing molecular file formats, calculating molecular properties,\n",
    "and performing substructure searches. In addition, it offers a wide range of cheminformatics\n",
    "algorithms such as molecular fingerprint generation, similarity metrics calculation, and\n",
    "molecular descriptor computation. This notebook introduces RDKit basics, but we will see more\n",
    "of all of these topics in later notebooks.\n",
    "</p>\n",
    "\n",
    "</div>"
   ]
  },
  {
   "cell_type": "code",
   "execution_count": null,
   "id": "3949cd4d-3f71-4622-a774-bcf3542a74d8",
   "metadata": {
    "cellView": "form",
    "id": "3949cd4d-3f71-4622-a774-bcf3542a74d8"
   },
   "outputs": [],
   "source": [
    "# @title Python Skills - Python Objects\n",
    "%%html\n",
    "<style>\n",
    "div.purple-box {\n",
    "    color: #4b0082; /* Indigo for text */\n",
    "    background-color: #f3e5f5; /* Light lavender background */\n",
    "    border-left: 5px solid #7b1fa2; /* Medium purple border */\n",
    "    padding: 0.5em;\n",
    "    font-size: 1.25em; /* Matches the surrounding text size */\n",
    "    line-height: 1.5; /* Ensures readability */\n",
    "    font-family: Arial, sans-serif; /* Clean, modern font */\n",
    "}\n",
    "div.purple-box ul {\n",
    "    margin: 0.5em 0; /* Space around the list */\n",
    "}\n",
    "div.purple-box li {\n",
    "    margin-bottom: 0.5em; /* Space between list items */\n",
    "}\n",
    "</style>\n",
    "\n",
    "<div class=\"purple-box\">\n",
    "    <p>\n",
    "       Most of this functionality is achieved through the RDKit `mol` object. In Python,\n",
    "we use the word \"object\" to refer to a variable type with associated data and methods.\n",
    "One example of an object we have seen in notebooks is a list - we could also call it\n",
    "a \"list object\". An object has `attributes` (data) and `methods`.\n",
    "You access information about objects with the syntax\n",
    "    </p>\n",
    "<pre>\n",
    "\n",
    "object.data\n",
    "\n",
    "</pre>\n",
    "\n",
    "where data is the attribute name.\n",
    "\n",
    "You access object methods with the syntax\n",
    "\n",
    "<pre>\n",
    "\n",
    "object.method(arguments)\n",
    "\n",
    "</pre>\n",
    "        For example, for a list \"`append` is a method that was covered in the introductory lesson.\n",
    "<pre>\n",
    "\n",
    "my_list = []\n",
    "my_list.append(1) # \"append\" is a method\n",
    "\n",
    "<pre>\n",
    "</div>"
   ]
  },
  {
   "cell_type": "markdown",
   "source": [
    "In this lesson, we will create and manipulate RDKit `mol` objects. RDKit `mol` objects represent molecules and have\n",
    "attributes (data) and methods (actions) associated with molecules.\n",
    "\n",
    "We are going to use a part of RDKit called `Chem`. To use `Chem`, we first have to install it in our environment, then import it into our notebook."
   ],
   "metadata": {
    "id": "hwnTxVly5PSN"
   },
   "id": "hwnTxVly5PSN"
  },
  {
   "cell_type": "code",
   "execution_count": null,
   "id": "Xovgh3LcqJA2",
   "metadata": {
    "id": "Xovgh3LcqJA2"
   },
   "outputs": [],
   "source": [
    "from google.colab import output\n",
    "output.clear()"
   ]
  },
  {
   "cell_type": "code",
   "execution_count": null,
   "id": "3c5c13a5-b369-4188-8b13-356445deeb5a",
   "metadata": {
    "id": "3c5c13a5-b369-4188-8b13-356445deeb5a"
   },
   "outputs": [],
   "source": [
    "!pip install rdkit\n",
    "from rdkit import Chem"
   ]
  },
  {
   "cell_type": "markdown",
   "id": "d84d6c70-fd6e-41bf-81c6-7145d6f87b0e",
   "metadata": {
    "id": "d84d6c70-fd6e-41bf-81c6-7145d6f87b0e"
   },
   "source": [
    "## Creating Molecules with RDKit\n",
    "\n",
    "Throughout this tutorial, it will be helpful to have access to the [RDKit documentation](https://www.rdkit.org/docs/index.html).\n",
    "\n",
    "To get information about molecules in RDKit, we have to first create objects representing molecules. RDKit has a molecule object that can be used to retrieve information or calculate properties. To create a molecule object, we have to communicate the molecule identity in a way that computers understand.\n",
    "\n",
    "We will use SMILES strings to create our objects, though RDKit also has methods for creating molecules from the file formats listed in the previous notebook.\n",
    "\n",
    "### Creating molecules using SMILES\n",
    "\n",
    "In the last lesson, we learned about molecular representations using SMILES strings. Now we will use SMILES strings to create molecule objects in RDKIT.\n",
    "\n",
    "We can create a representation of methane using RDKit by using the `MolFromSmiles` function in `rdkit.Chem`."
   ]
  },
  {
   "cell_type": "code",
   "execution_count": null,
   "id": "b9415ede-7ab5-4a35-89e8-a32d25dfe1b9",
   "metadata": {
    "id": "b9415ede-7ab5-4a35-89e8-a32d25dfe1b9"
   },
   "outputs": [],
   "source": [
    "# TO DO: Enter the SMILES string for methane between the quote signs\n",
    "\n",
    "methane = Chem.MolFromSmiles('')"
   ]
  },
  {
   "cell_type": "code",
   "execution_count": null,
   "id": "851ae0d6-b0a2-4474-9402-5db4abf49b1c",
   "metadata": {
    "id": "851ae0d6-b0a2-4474-9402-5db4abf49b1c"
   },
   "outputs": [],
   "source": [
    "methane"
   ]
  },
  {
   "cell_type": "code",
   "execution_count": null,
   "id": "6c305149-481a-4e52-83bc-a24ab48f45bf",
   "metadata": {
    "cellView": "form",
    "id": "6c305149-481a-4e52-83bc-a24ab48f45bf"
   },
   "outputs": [],
   "source": [
    "# @title Check Your Understanding\n",
    "%%html\n",
    "<style>\n",
    "div.orange-alert {\n",
    "    color: #854f00; /* Darker shade of orange for text */\n",
    "    background-color: #ffe6cc; /* Light orange background */\n",
    "    border-left: 5px solid #ff9933; /* Bright orange border */\n",
    "    padding: 0.5em;\n",
    "    font-size: 1.25em; /* Matches the surrounding text size */\n",
    "    line-height: 1.5; /* Ensures readability */\n",
    "}\n",
    "div.orange-alert ul {\n",
    "    margin: 0.5em 0; /* Space around the list */\n",
    "}\n",
    "div.orange-alert li {\n",
    "    margin-bottom: 0.5em; /* Space between list items */\n",
    "}\n",
    "</style>\n",
    "\n",
    "<div class=\"orange-alert\">\n",
    "\n",
    "<p> Create RDKit molecules for the following molecules. You can look up the SMILES strings on <a href=\"https://pubchem.ncbi.nlm.nih.gov/\">PubChem</a>:\n",
    "<p>\n",
    "    <ul>\n",
    "        <li> Propane\n",
    "        <li> Ethene\n",
    "        <li> Cyclohexane\n",
    "        <li> Benzene </li>\n",
    "        <li> Acetic Acid\n",
    "    </ul>\n",
    "</p>\n",
    "<p>Create variables for each molecule. The variable names should be the molecule name (all lowercase)</p>\n",
    "</div>"
   ]
  },
  {
   "cell_type": "code",
   "execution_count": null,
   "id": "497025f0-e60a-42d1-a26e-77db46e5c495",
   "metadata": {
    "id": "497025f0-e60a-42d1-a26e-77db46e5c495"
   },
   "outputs": [],
   "source": [
    "# TO DO: Insert the SMILES string for propane: CCC\n",
    "\n",
    "propane = Chem.MolFromSmiles(\"\")\n",
    "\n",
    "# TO DO: Insert the SMILES string for ethene\n",
    "\n",
    "ethene = Chem.MolFromSmiles(\"\")\n",
    "\n",
    " # TO DO: Call the method and insert the SMILES string for cyclohexane\n",
    "\n",
    "cyclohexane = Chem.MolFromSmiles(\"\")\n",
    "\n",
    "# TO DO: Call the method and insert the SMILES string for benzene\n",
    "\n",
    "benzene = Chem.MolFromSmiles(\"\")\n",
    "\n",
    "# The SMILES string for acetic acid is provided\n",
    "\n",
    "acetic_acid = Chem.MolFromSmiles(\"CC(=O)O\")"
   ]
  },
  {
   "cell_type": "code",
   "execution_count": null,
   "id": "f87d25a4-61b2-437a-a5a6-176a2a45a813",
   "metadata": {
    "id": "f87d25a4-61b2-437a-a5a6-176a2a45a813"
   },
   "outputs": [],
   "source": [
    "# Try visualizing your molecules here just by typing the name of the variable that refers to the RDKit mol object\n",
    "acetic_acid"
   ]
  },
  {
   "cell_type": "code",
   "execution_count": null,
   "id": "4CzZhBBEGpGV",
   "metadata": {
    "id": "4CzZhBBEGpGV"
   },
   "outputs": [],
   "source": [
    "from rdkit.Chem.Draw import IPythonConsole as ipc\n",
    "from rdkit.Chem import Draw\n",
    "\n",
    "# Configuration for displaying in Jupyter notebooks\n",
    "ipc.ipython_useSVG = True  # Use SVG for higher quality images\n",
    "ipc.drawOptions.addAtomIndices = True  # Show atom indices\n",
    "ipc.molSize = 250,250 # Set size of image"
   ]
  },
  {
   "cell_type": "code",
   "execution_count": null,
   "id": "474fcdab-a904-4c66-8243-5a59de5ebf90",
   "metadata": {
    "cellView": "form",
    "id": "474fcdab-a904-4c66-8243-5a59de5ebf90"
   },
   "outputs": [],
   "source": [
    "# @title Working with RDKit Molecules\n",
    "%%html\n",
    "<style>\n",
    "div.purple-box {\n",
    "    color: #4b0082; /* Indigo for text */\n",
    "    background-color: #f3e5f5; /* Light lavender background */\n",
    "    border-left: 5px solid #7b1fa2; /* Medium purple border */\n",
    "    padding: 0.5em;\n",
    "    font-size: 1.25em; /* Matches the surrounding text size */\n",
    "    line-height: 1.5; /* Ensures readability */\n",
    "    font-family: Arial, sans-serif; /* Clean, modern font */\n",
    "}\n",
    "div.purple-box ul {\n",
    "    margin: 0.5em 0; /* Space around the list */\n",
    "}\n",
    "div.purple-box li {\n",
    "    margin-bottom: 0.5em; /* Space between list items */\n",
    "}\n",
    "</style>\n",
    "\n",
    "<div class=\"purple-box\">\n",
    "    <p>\n",
    "RDKit molecule objects have a number of methods we can use to get more information about the molecule. In the next few cells, we'll look at some methods that can tell us some things about the molecules we've created. The next cell has settings for modifying drawing molecules. It adds labels of atom indices and sets the image size\n",
    "When working with Python objects in the Jupyter notebook, you can\n",
    "type a variable or object name to see the methods available on that object.\n",
    "    </p>\n",
    "    <p>\n",
    "In the cell below, type\n",
    "<pre>\n",
    "  acetic_acid.\n",
    "\n",
    "</pre>\n",
    "\n",
    "Notice how there is a dot at the end\n",
    "\n",
    "    <pre>\n",
    "      .\n",
    "    </pre>\n",
    "\n",
    "Then press the `tab` key. A list of possible methods and attributes will come up.\n",
    "\n",
    "Look through the methods until you find one that gives you the number of atoms in the molecule.\n",
    "\n",
    "</div>"
   ]
  },
  {
   "cell_type": "code",
   "execution_count": null,
   "id": "e1a331ad-3b4d-44e1-ad51-dc093008dacb",
   "metadata": {
    "id": "e1a331ad-3b4d-44e1-ad51-dc093008dacb"
   },
   "outputs": [],
   "source": [
    "# TO DO: Pick a method that will tell you the number of atoms acetic acid has.\n",
    "# Enter a . after acetic acid and then scroll down the list to find a method to give you the number of atoms\n",
    "\n",
    "x = acetic_acid\n",
    "\n",
    "print('Acetic acid has', x, 'heavy atoms.')"
   ]
  },
  {
   "cell_type": "markdown",
   "id": "56379e5a-44f0-4272-959d-91f652ba4128",
   "metadata": {
    "id": "56379e5a-44f0-4272-959d-91f652ba4128"
   },
   "source": [
    "### Finding help\n",
    "When you start working with RDKit mol objects, it will be an adjustment. This is a new type of variable and it will take time to adjust. One way to find help is to use a simple help command where the object of the help function is the name of the RDKit mol object. In the next cell, we will use help to learn more about the RDKit mol object, acetic_acid, that we just created."
   ]
  },
  {
   "cell_type": "code",
   "execution_count": null,
   "id": "1b7d32b7-f531-4a4f-b05e-4c6c51664d50",
   "metadata": {
    "id": "1b7d32b7-f531-4a4f-b05e-4c6c51664d50"
   },
   "outputs": [],
   "source": [
    "help(acetic_acid)"
   ]
  },
  {
   "cell_type": "code",
   "execution_count": null,
   "id": "cc30f661-dc41-4c06-82cc-a4ae762d65e7",
   "metadata": {
    "id": "cc30f661-dc41-4c06-82cc-a4ae762d65e7"
   },
   "outputs": [],
   "source": [
    "# Add an argument to your function to get the total number of atoms in acetic_acid including hydrogens\n",
    "# This is the method we used in an earlier cell. Note that the parentheses are empty.\n",
    "\n",
    "x = acetic_acid.GetNumAtoms()\n",
    "\n",
    "# TO DO: To include the hydrogens in the atom count, insert the phrase onlyExplicit = False in the parentheses.\n",
    "\n",
    "y = acetic_acid.GetNumAtoms()\n",
    "\n",
    "print(f\"There are {x} heavy atoms in acetic acid and {y} total atoms in acetic acid.\")"
   ]
  },
  {
   "cell_type": "code",
   "execution_count": null,
   "id": "a47eba18-f0a2-4d59-88c0-b58b1605d9d4",
   "metadata": {
    "cellView": "form",
    "id": "a47eba18-f0a2-4d59-88c0-b58b1605d9d4"
   },
   "outputs": [],
   "source": [
    "# @title Examining and Visualizing Data\n",
    "%%html\n",
    "<style>\n",
    "div.alert {\n",
    "    color: #0056b3;\n",
    "    background-color: #d9edf7;\n",
    "    border-left: 5px solid #31708f;\n",
    "    padding: 0.5em;\n",
    "    font-size: 1.25em;\n",
    "    line-height: 1.5;\n",
    "}\n",
    "div.alert ul {\n",
    "    margin: 0.5em 0;\n",
    "}\n",
    "div.alert li {\n",
    "    margin-bottom: 0.5em;\n",
    "}\n",
    "</style>\n",
    "\n",
    "<div class=\"alert alert-block alert-info\">\n",
    "    <strong>Questions:</strong>\n",
    "    <ul>\n",
    "        <li>How can I use pandas to work with molecules from rdkit?</li>\n",
    "        <li>How can I visualize relationships between different parts of my data?</li>\n",
    "   </ul>\n",
    "\n",
    "    <strong>Objectives:</strong>\n",
    "    <ul>\n",
    "        <li>Review the pandas dataframe</li>\n",
    "        <li>Learn to visualize structures in a pandas dataframe</li>\n",
    "        <li>Learn the <i>apply</i> tool for expanding a pandas dataframe</li>\n",
    "    </ul>\n",
    "</div>"
   ]
  },
  {
   "cell_type": "markdown",
   "id": "a4cc10b7-5d18-4853-bfac-a2448f722414",
   "metadata": {
    "id": "a4cc10b7-5d18-4853-bfac-a2448f722414"
   },
   "source": [
    "[Pandas](https://pandas.pydata.org/docs/) is a Python library used for data analysis and manipulation. Within the world of data science, it is a ubiquitous and widely used library. If you are learning how to analyze data in Python, it will be almost impossible to avoid pandas.\n",
    "\n",
    "The central data structure of pandas is called a DataFrame. Pandas DataFrames work very closely with NumPy arrays and Pandas dataframes are specifically for data which is two dimensional (rows and columns). NumPy arrays, while similar in some ways, can work with higher dimensional data.\n",
    "\n",
    "Pandas is very powerful. In this session, we'll be learning how to access information in pandas dataframes and how to do some basic manipulation and analysis. We are going to be looking at a dataset which gives information about the elements in the periodic table."
   ]
  },
  {
   "cell_type": "code",
   "execution_count": null,
   "id": "f2e82ae2-4050-4955-a205-5ed86e42cc2b",
   "metadata": {
    "id": "f2e82ae2-4050-4955-a205-5ed86e42cc2b"
   },
   "outputs": [],
   "source": [
    "import pandas as pd                                     # importing the pandas library\n",
    "\n",
    "from rdkit.Chem import PandasTools                      # importing rdkit functions to work with pandas\n",
    "\n",
    "PandasTools.RenderImagesInAllDataFrames(images=True)    # to display chemical structures in dataframes"
   ]
  },
  {
   "cell_type": "code",
   "execution_count": null,
   "id": "LzrEG54AKY-W",
   "metadata": {
    "id": "LzrEG54AKY-W"
   },
   "outputs": [],
   "source": [
    "from urllib.request import urlretrieve                  # importing a method that enables retrieval of a text file from a URL\n",
    "\n",
    "url = (\"https://raw.githubusercontent.com/MolSSI-Education/iqb-2025/refs/heads/paul/data/nsaids.csv\")\n",
    "\n",
    "filename = \"nsaids.csv\"\n",
    "\n",
    "urlretrieve(url, filename)"
   ]
  },
  {
   "cell_type": "markdown",
   "id": "6ed0f50a-7b42-49dc-acc4-f68c4cedc1a6",
   "metadata": {
    "id": "6ed0f50a-7b42-49dc-acc4-f68c4cedc1a6"
   },
   "source": [
    "## Loading a collection of small molecules\n",
    "\n",
    "In the next few cells, we'll read a text file that lists the SMILES strings for some nonsteroidal antiinflammatory drugs (NSAIDS) and then use them to start building a pandas dataframe. The SMILES strings for the NSAIDS can be found in [nsaids.txt](https://docs.google.com/document/d/1RQeVIFBMeq4SWTrRNfgZXRvaaRNXVknLxgVZfTbJUDs/edit?usp=drive_link).\n"
   ]
  },
  {
   "cell_type": "code",
   "execution_count": null,
   "id": "6e09ef49-ad83-4f81-a0da-c90c83f02d3b",
   "metadata": {
    "id": "6e09ef49-ad83-4f81-a0da-c90c83f02d3b"
   },
   "outputs": [],
   "source": [
    "nsaids_file = \"nsaids.csv\"\n",
    "\n",
    "nsaids_df = pd.read_csv(nsaids_file)\n",
    "\n",
    "nsaids_df"
   ]
  },
  {
   "cell_type": "markdown",
   "id": "26a9b6b3-10ff-4594-b660-5b605ac30e2e",
   "metadata": {
    "id": "26a9b6b3-10ff-4594-b660-5b605ac30e2e"
   },
   "source": [
    "### The `.apply` method\n",
    "\n",
    "The `.apply` method in pandas is used to apply a function along a row or column of a dataframe.\n",
    "This is useful when you have a custom function that you need to use on every value in a column, but there is not a NumPy or Pandas function for it.\n",
    "\n",
    "For example, we could apply the `len` function to our `Name` column to get the number of letters in the name for each element.\n",
    "\n",
    "```python\n",
    "# Number of letters in name -\n",
    "df[\"Name\"].apply(len)\n",
    "```\n",
    "\n",
    "We are going to use ```apply``` to add a new column to nsaid_df that contains the rdkit molecule for each of the NSAIDs."
   ]
  },
  {
   "cell_type": "code",
   "execution_count": null,
   "id": "fb693a02-58a2-467d-80fa-723d61f62219",
   "metadata": {
    "id": "fb693a02-58a2-467d-80fa-723d61f62219"
   },
   "outputs": [],
   "source": [
    "nsaids_df[\"Molecule\"] = nsaids_df[\"SMILES\"].apply(Chem.MolFromSmiles)\n",
    "\n",
    "nsaids_df.head()"
   ]
  },
  {
   "cell_type": "markdown",
   "id": "WqeeyIxPiF-7",
   "metadata": {
    "id": "WqeeyIxPiF-7"
   },
   "source": [
    "At this point, nsaid_df contains two columns: the SMILES string and the molecule. We will go one step further and use ```apply``` to add a few more columns to the dataframe that contains a descriptor based on the rdkit molecule. Before we can do that we need to import a new sublibrary from rdkit.Chem called Descriptors. Notice that the new columns will be based on the Molecule column, which contains RDKit mol objects."
   ]
  },
  {
   "cell_type": "code",
   "execution_count": null,
   "id": "v7lK6asEid7Q",
   "metadata": {
    "id": "v7lK6asEid7Q"
   },
   "outputs": [],
   "source": [
    "from rdkit.Chem import Descriptors\n",
    "from rdkit.Chem import Lipinski\n",
    "nsaids_df[\"Mol Wt\"] = nsaids_df[\"Molecule\"].apply(Descriptors.MolWt)\n",
    "nsaids_df[\"logP\"] = nsaids_df[\"Molecule\"].apply(Descriptors.MolLogP)\n",
    "nsaids_df[\"HBD\"] = nsaids_df[\"Molecule\"].apply(Lipinski.NHOHCount)            # Number of hydrogen bond donors\n",
    "nsaids_df[\"HBA\"] = nsaids_df[\"Molecule\"].apply(Lipinski.NOCount)              # Number of hydrogen bond acceptors\n",
    "nsaids_df.head()"
   ]
  },
  {
   "cell_type": "code",
   "execution_count": null,
   "id": "WLO4ia4B4lXG",
   "metadata": {
    "id": "WLO4ia4B4lXG"
   },
   "outputs": [],
   "source": [
    "nsaids_df.hist(figsize=(8,8), edgecolor='black', grid=False)"
   ]
  },
  {
   "cell_type": "code",
   "execution_count": null,
   "id": "dWKNKdDVkJxn",
   "metadata": {
    "id": "dWKNKdDVkJxn"
   },
   "outputs": [],
   "source": [
    "nsaids_df.plot.bar(x='Name', y='Mol Wt', figsize=(10,5))"
   ]
  },
  {
   "cell_type": "code",
   "execution_count": null,
   "id": "LEfWBGaI5-EJ",
   "metadata": {
    "id": "LEfWBGaI5-EJ"
   },
   "outputs": [],
   "source": []
  }
 ],
 "metadata": {
  "colab": {
   "provenance": []
  },
  "kernelspec": {
   "display_name": "Python 3 (ipykernel)",
   "language": "python",
   "name": "python3"
  },
  "language_info": {
   "codemirror_mode": {
    "name": "ipython",
    "version": 3
   },
   "file_extension": ".py",
   "mimetype": "text/x-python",
   "name": "python",
   "nbconvert_exporter": "python",
   "pygments_lexer": "ipython3",
   "version": "3.11.11"
  }
 },
 "nbformat": 4,
 "nbformat_minor": 5
}
