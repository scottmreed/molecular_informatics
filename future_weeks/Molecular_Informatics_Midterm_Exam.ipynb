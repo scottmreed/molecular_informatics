{
 "cells": [
  {
   "cell_type": "markdown",
   "id": "cb818269",
   "metadata": {},
   "source": [
    "# Molecular Informatics Advanced Practice Exam\n",
    "\n",
    "This practice exam challenges your knowledge in molecular informatics, including advanced molecular properties, PubChem API usage, and RDKit functionality.\n",
    "\n",
    "**Instructions**:\n",
    "1. Write your solutions in the cells provided.\n",
    "2. Run each code cell to verify your answers.\n",
    "3. Use comments to explain your approach where needed.\n",
    "\n",
    "No use of AI is allowed. No GPT or other chatbots are allowed. GPT powered autocomplete through VS code extensions are not allowed.\n",
    "\n",
    "Upon completion (by 10:40 am), change the extension from .ipynb to .txt and email the file to me.\n",
    "\n",
    "---"
   ]
  },
  {
   "cell_type": "markdown",
   "id": "4e0c30d6",
   "metadata": {},
   "source": [
    "### Question 1: PubChem API - Compound Properties\n",
    "Using the PubChem API, retrieve information about `Quinine`. Obtain the CID, Molecular Formula, Molecular Weight, and Canonical SMILES, and print these properties.\n",
    "\n",
    "**Hints**:\n",
    "- Endpoint: `https://pubchem.ncbi.nlm.nih.gov/rest/pug/compound/name/quinine/property/MolecularFormula,MolecularWeight,CanonicalSMILES/JSON`"
   ]
  },
  {
   "cell_type": "code",
   "execution_count": null,
   "id": "b5b21d84",
   "metadata": {},
   "outputs": [],
   "source": [
    "# Your code here"
   ]
  },
  {
   "cell_type": "markdown",
   "id": "0db59493",
   "metadata": {},
   "source": [
    "### Question 2: RDKit Molecule Creation and Structure\n",
    "Create an RDKit molecule object for `C1=CC=C(C=C1)C(=O)O` (benzoic acid). Visualize its 2D structure, calculate the molecular weight, and determine its exact mass and topological polar surface area (TPSA).\n",
    "\n",
    "**Hints**:\n",
    "- Use `rdkit.Chem.Descriptors` to compute molecular weight and exact mass.\n",
    "- Use `rdkit.Chem.QED.properties` to compute the TPSA."
   ]
  },
  {
   "cell_type": "code",
   "execution_count": null,
   "id": "380ce682",
   "metadata": {},
   "outputs": [],
   "source": [
    "# Your code here"
   ]
  },
  {
   "cell_type": "markdown",
   "id": "6af6fba6",
   "metadata": {},
   "source": [
    "### Question 3: Functional Group Detection\n",
    "Write a function to check if a molecule contains an amide group (`C(=O)N`). Test it using `CC(=O)NC` (acetamide).\n",
    "\n",
    "**Example**:\n",
    "- Input: `CC(=O)NC`\n",
    "- Output: `True`"
   ]
  },
  {
   "cell_type": "code",
   "execution_count": null,
   "id": "b1872445",
   "metadata": {},
   "outputs": [],
   "source": [
    "# Your code here"
   ]
  },
  {
   "cell_type": "markdown",
   "id": "a728a6c1",
   "metadata": {},
   "source": [
    "### Question 4: RDKit - Chemical Descriptors\n",
    "For the molecule with SMILES string `c1ccccc1C(=O)O`, compute and print:\n",
    "- Topological polar surface area (TPSA)\n",
    "- Fraction of sp3 hybridized carbons\n",
    "- Number of rotatable bonds\n",
    "\n",
    "**Hints**:\n",
    "- Use `rdkit.Chem.QED` for TPSA.\n",
    "- Use `rdkit.Chem.rdMolDescriptors` for rotatable bonds."
   ]
  },
  {
   "cell_type": "code",
   "execution_count": null,
   "id": "edff503f",
   "metadata": {},
   "outputs": [],
   "source": [
    "# Your code here"
   ]
  },
  {
   "cell_type": "markdown",
   "id": "e7dbde56",
   "metadata": {},
   "source": [
    "### Question 5: Molecular Fingerprints\n",
    "Generate the Morgan fingerprint for the molecule `CC(C)CC1=CC=C(C=C1)O` (isopropylphenol) with a radius of 3. Print the fingerprint as a list of integers."
   ]
  },
  {
   "cell_type": "code",
   "execution_count": null,
   "id": "7c73b07c",
   "metadata": {},
   "outputs": [],
   "source": [
    "# Your code here"
   ]
  },
  {
   "cell_type": "markdown",
   "id": "802a9ac6",
   "metadata": {},
   "source": [
    "### Question 6: Molecular Similarity\n",
    "Calculate the Tanimoto similarity between the following molecules using ECFP fingerprints with 1024 buts and a radius of 2:\n",
    "- Molecule 1: `C1=CC=CC=C1C(=O)N` (benzamide)\n",
    "- Molecule 2: `C1=CC=CC=C1C(=O)O` (benzoic acid)\n",
    "\n",
    "**Hints**:\n",
    "- Use `rdkit.DataStructs` for similarity calculations."
   ]
  },
  {
   "cell_type": "code",
   "execution_count": null,
   "id": "65a5cf47",
   "metadata": {},
   "outputs": [],
   "source": [
    "# Your code here"
   ]
  },
  {
   "cell_type": "markdown",
   "id": "269cab77",
   "metadata": {},
   "source": [
    "### Question 7: PubChem Properties - Heavy Atom Count\n",
    "Write a function to retrieve the heavy atom count for `Ketamine` using the PubChem API.\n",
    "\n",
    "**Hints**:\n",
    "- Endpoint: `https://pubchem.ncbi.nlm.nih.gov/rest/pug/compound/name/ketamine/property/HeavyAtomCount/JSON`"
   ]
  },
  {
   "cell_type": "code",
   "execution_count": null,
   "id": "ce90ba51",
   "metadata": {},
   "outputs": [],
   "source": [
    "# Your code here"
   ]
  },
  {
   "cell_type": "markdown",
   "id": "cad14364",
   "metadata": {},
   "source": [
    "### Question 8: SMILES to InChI Conversion\n",
    "Write a function that takes a SMILES string and converts it to InChI, along with the InChI Key, using RDKit. Test it with `CC(=O)OC1=CC=CC=C1C(=O)O` (aspirin).\n",
    "\n",
    "**Example**:\n",
    "- Input: `CC(=O)OC1=CC=CC=C1C(=O)O`\n",
    "- Output: Corresponding InChI string and InChI Key"
   ]
  },
  {
   "cell_type": "code",
   "execution_count": null,
   "id": "ebf0b4fd",
   "metadata": {},
   "outputs": [],
   "source": [
    "# Your code here"
   ]
  },
  {
   "cell_type": "markdown",
   "id": "5f9ef228",
   "metadata": {},
   "source": [
    "### Question 9: PubChem API - Compound Synonyms\n",
    "Retrieve and print a list of synonyms for `Warfarin` using the PubChem API.\n",
    "\n",
    "**Hints**:\n",
    "- Endpoint: `https://pubchem.ncbi.nlm.nih.gov/rest/pug/compound/name/warfarin/synonyms/JSON`"
   ]
  },
  {
   "cell_type": "code",
   "execution_count": null,
   "id": "8ca70b7b",
   "metadata": {},
   "outputs": [],
   "source": [
    "# Your code here"
   ]
  },
  {
   "cell_type": "markdown",
   "id": "abe4f722",
   "metadata": {},
   "source": [
    "### Question 10: Functional Group Identification\n",
    "Write a function to identify the presence of these functional groups:\n",
    "- Ketone (`C=O` bonded to two carbons)\n",
    "- Ester (`C(=O)O` bonded to carbon on both sides)\n",
    "\n",
    "Test your function using the SMILES `CC(=O)OCC(C)C`.\n",
    "\n",
    "**Example**:\n",
    "- Input: `CC(=O)OCC(C)C`\n",
    "- Output: `{ 'Ketone': False, 'Ester': True }`"
   ]
  },
  {
   "cell_type": "code",
   "execution_count": null,
   "id": "491332f0",
   "metadata": {},
   "outputs": [],
   "source": [
    "# Your code here"
   ]
  },
  {
   "cell_type": "markdown",
   "id": "3d9c65bf",
   "metadata": {},
   "source": [
    "### Question 11: Molecule Visualization\n",
    "Create a grid visualization for the following molecules:\n",
    "- `CC(=O)O` (acetic acid)\n",
    "- `C1=CC=CC=C1O` (phenol)\n",
    "- `CC(C)C(=O)OC(C)C` (isopropyl acetate)\n",
    "- `CC(=O)NC1=CC=CC=C1` (acetanilide)\n",
    "\n",
    "Show each structure with its name displayed below."
   ]
  },
  {
   "cell_type": "code",
   "execution_count": null,
   "id": "cf3e8eef",
   "metadata": {},
   "outputs": [],
   "source": [
    "# Your code here"
   ]
  },
  {
   "cell_type": "markdown",
   "id": "a6cdc6d8",
   "metadata": {},
   "source": [
    "### Question 12: Converting Between Formats and Analyzing Properties\n",
    "Write a function that takes a SMILES string and returns the following:\n",
    "- Molecular formula\n",
    "- InChI\n",
    "- Canonical SMILES\n",
    "- Heavy atom count\n",
    "\n",
    "Test with the SMILES `C1=CC=C(C=C1)N`.\n",
    "\n",
    "**Example**:\n",
    "- Input: `C1=CC=C(C=C1)N`\n",
    "- Output: `{ 'Molecular Formula': 'C6H5N', 'InChI': 'InChI=1S/C6H5N/c7-6-4-2-1-3-5-6/h1-5H,7H2', 'Canonical SMILES': 'C1=CC=C(C=C1)N', 'Heavy Atom Count': 7 }`"
   ]
  },
  {
   "cell_type": "code",
   "execution_count": null,
   "id": "5ecc6834",
   "metadata": {},
   "outputs": [],
   "source": [
    "# Your code here"
   ]
  }
 ],
 "metadata": {
  "language_info": {
   "name": "python"
  }
 },
 "nbformat": 4,
 "nbformat_minor": 5
}
