{
 "cells": [
  {
   "cell_type": "markdown",
   "id": "c1d7d937",
   "metadata": {},
   "source": [
    "# PubChem Bioactivity Primer\n",
    "\n",
    "<div class=\"alert alert-block alert-info\">\n",
    "<Strong>Objectives</strong>\n",
    "\n",
    "- Explore PubChem Protein and Bioassay data\n",
    "- Distinguish between types of bioactivity data"
   ]
  },
  {
   "cell_type": "markdown",
   "id": "1a7a4c13",
   "metadata": {},
   "source": [
    "In the first bioactivity notebook, you will be exploring potential drug candidates for the thyroid hormone receptor in both human and rat models. Before we get into the code and activity, we are going to take a closer look at the PubChem protein summary and bioassay record pages. This will allow you to make sense of the data we are looking at and gain a deeper appreciation of the cheminformatics workflows we will be completing over the next few activities."
   ]
  },
  {
   "cell_type": "markdown",
   "id": "586b60f3",
   "metadata": {},
   "source": [
    "## Protein Summary Page\n",
    "\n",
    "Our first protein of interest is [thyroid hormone receptor beta (THRβ)](https://www.frontiersin.org/journals/medicine/articles/10.3389/fmed.2020.00331/full). As a hormone receptor, it is found deep inside cells and binds to hormones like T3 and T4. When T3 or T4 bind to THRβ, a conformational change in the receptor results and either activates or supresses gene involved in regulation of metabolism, growth and development. This receptor is found is many organs, with high activity in the liver, kidney, and brain. There is great interest in this receptor becuase targeting it may result in novel drugs that can treat conditions like hypercholesterolemia (high cholesterol) or fatty liver disease by altering metabolism. One important aspect of drug development is selectivity toward the β receptor, because the α receptor is found in the heart and can have serious side effects.\n",
    "\n",
    "We are going to focus on two PubChem protein summary pages for accessions `NP_001257783` and `P10828`.\n",
    "\n",
    "- `NP_001257783` https://pubchem.ncbi.nlm.nih.gov/protein/NP_001257783 \n",
    "- `P10828` https://pubchem.ncbi.nlm.nih.gov/protein/P10828 "
   ]
  },
  {
   "cell_type": "markdown",
   "id": "d20b897f",
   "metadata": {},
   "source": [
    "<div class=\"alert alert-block alert-warning\">\n",
    "<strong>Exploration of the PubChem Protein Summaries</strong>\n",
    "    \n",
    "Click the links above to open the PubChem Summary pages in a new browser tab.\n",
    "\n",
    "- Determine the species each protein record is associated with.\n",
    "- Identify the gene responsible for encoding each protein.\n",
    "- In the Sequence-Similar Proteins section (2.2) of `NP_001257783`\n",
    "    - Find out how many different types of thyroid hormone receptor (THR) proteins have data available in PubChem.\n",
    "    - Identify other species that also have proteins similar to this one.\n",
    "- How many bioassays are associated with this protein (Section 4) of `NP_001257783`?\n"
   ]
  },
  {
   "cell_type": "markdown",
   "id": "2b3756bf",
   "metadata": {},
   "source": [
    "A ligand is any molecule that binds to a specific site on a protein. When a ligand binds, it can change the protein's activity by enhancing (activating) or diminishing (deactivating) its function. Ligands can be endogenous (from within) or exogenous (from outside). The naturally occuring molecules that bind to the target are \"endogenous ligands\" and molecules that come from other sources (natural or synthetic) are \"exogenous ligands.\" \n",
    "\n",
    "Let's explore the THRβ record in Norway rat in more detail. The protein summary also contains a list of chemicals (potential ligands) [section 3.1 (tested compounds)](https://pubchem.ncbi.nlm.nih.gov/protein/NP_001257783#section=Sequence-Similar-Proteins:~:text=3.1%20Tested%20Compounds) that have been tested in bioassays for activity at each protein. Section 3.1 is a table that contains the structure, activity, activity type, activity value and PubChem CID for each tested molecule. \n",
    "\n",
    "The bioactivity data is obtained from large-scale high-throughput screening (HTS) initiatives where millions of molecules are tested against a target and the results are compiled and uploaded to the database. \n",
    "<div class=\"alert alert-block alert-info\">\n",
    "<strong>Definitions</strong>\n",
    "\n",
    "- **Activity**: This is the outcome of a test. \n",
    "\n",
    "|Category|Definition|\n",
    "|--------|----------|\n",
    "|*Probe*| \tA molecule with a known mechanism of action that is selective for the specific biological target being studied. Often used as a reference compound.|\n",
    "|*Active*| \tA molecule that produced a positive result in the bioassay, suggesting it may interact with or affect the target.|\n",
    "|*Inactive*| \tA molecule that did not produce a positive result in the assay, suggesting little or no interaction with the target.|\n",
    "|*Inconclusive*| The assay results did not clearly indicate whether the molecule is active or inactive. More testing may be needed.|\n",
    "|*Unspecified*| The submitter did not label the activity of the molecule, so no activity classification is available.|\n",
    "\n",
    "- **Activity Type**: Describes the type of biological assay performed and the way compound activity is measured.\n",
    "\n",
    "|Category|Definition|\n",
    "|--------|----------|\n",
    "|*IC<sub>50</sub>*| The concentration of a compound at which it inhibits 50% of the biological activity being measured. Often used to assess how strongly a compound blocks a specific process. (See https://en.wikipedia.org/wiki/IC50)|\n",
    "|*EC<sub>50</sub>*| The concentration of a compound at which it produces 50% of its maximum possible effect. This is commonly used to describe activation or stimulation of a biological process. (See https://en.wikipedia.org/wiki/EC50)|\n",
    "|*K<sub>d</sub>*| The equilibrium dissociation constant, which reflects how tightly a ligand binds to its target. This value is typically measured directly in binding assays using a labeled ligand.  (See http://www.guidetopharmacology.org/helpPage.jsp andhttps://en.wikipedia.org/wiki/Dissociation_constant)|\n",
    "|*K<sub>i</sub>*| The equilibrium inhibition constant, used to describe how well a compound inhibits the binding of a ligand. It is often calculated from competitive inhibition studies (See http://www.guidetopharmacology.org/helpPage.jsp and https://en.wikipedia.org/wiki/Competitive_inhibition)\n",
    "|*Potency/AC<sub>50</sub>*|The concentration at which a compound shows 50% of its measured activity in a given assay. In PubChem, AC<sub>50</sub> and potency are often used interchangeably, and may refer to IC<sub>50</sub>, EC<sub>50</sub>,or other similar metrics. Check the individual BioAssay record for exact definitions.|\n",
    "\n",
    "- **Activity Value, µM**: This is the numerical value reported from a bioassay that describes how potent the tested compound is against the biological target. This is typically expressed as µM units, which reflects the concentration of the compound required to produce a specific level of activity. This is often linked with the IC<sub>50</sub>, EC<sub>50</sub>, or potency/AC<sub>50</sub> values. The lower the number the better. Molecules that have high affinity for the target will have activity values in the subnanomolar range (0.0001 µM or lower).\n",
    "\n",
    "- **Compound CID**: PubChem's compound identifier for a unique chemical structure."
   ]
  },
  {
   "cell_type": "markdown",
   "id": "f79c7028",
   "metadata": {},
   "source": [
    "In the top right hand corner of the [tested compounds table](https://pubchem.ncbi.nlm.nih.gov/protein/NP_001257783#section=Sequence-Similar-Proteins:~:text=3.1%20Tested%20Compounds) you can sort by activity or by Activity Value. "
   ]
  },
  {
   "cell_type": "markdown",
   "id": "c4704743",
   "metadata": {},
   "source": [
    "<div class=\"alert alert-block alert-warning\">\n",
    "\n",
    "<strong>Exploration of the [tested compounds table](https://pubchem.ncbi.nlm.nih.gov/protein/NP_001257783#section=Sequence-Similar-Proteins:~:text=3.1%20Tested%20Compounds)</strong>\n",
    "    \n",
    "- How many compounds have been tested against this protein?\n",
    "- Sort the table by Increasing Activity value. How may of the first 5 molecules reported have subnanomolar potency?\n",
    "- Using the search function in the table, find Compound ID 104741.\n",
    "    - How many times is this compound in the table?\n",
    "    - Does this molecule have strong affinity for the receptor?\n",
    "    - Does having strong affinity necessarily mean that the molecule will be active?"
   ]
  },
  {
   "cell_type": "markdown",
   "id": "416de3ef",
   "metadata": {},
   "source": [
    "## BioAssays\n",
    "\n",
    "Depositors can provide descriptions and test results which is found in the bioassay section. In the previous exploration section, you found that there were 3 bioassay IDs (AID) associated with the protein. To understand how to interpret the data we need some more definitions.\n",
    "\n",
    "Click on the following link to go to [Section 4 BioAssays](https://pubchem.ncbi.nlm.nih.gov/protein/NP_001257783#section=BioAssays:~:text=4-,BioAssays,-3%20items) for this protein.\n",
    "\n"
   ]
  },
  {
   "cell_type": "markdown",
   "id": "d06ae708",
   "metadata": {},
   "source": [
    "There are 4 ways that assay outcome data are defined.\n",
    "\n",
    "|Category|Description|\n",
    "|--------|----------|\n",
    "|*Primary Screening*| \tA screening assay performed at a single concentration to determine whether a molecule shows activity or not. Potency values are not calculated. This type of assay is especially useful for identifying potential new lead compounds. These are often referred to as qualitative screenings.|\n",
    "|*Confirmatory*| An assay designed to confirm activity by measuring a concentration–response relationship (e.g., EC<sub>50</sub>, IC<sub>50</sub>) of a molecule and reporting potency values. These are often referred to as quantitative screenings.|\n",
    "|*Summary*| A summary assay that provides an overview of results from multiple related assays, often with links to the individual experiments.|\n",
    "|*Other*| Any assay type that does not fit into the categories above.|"
   ]
  },
  {
   "cell_type": "markdown",
   "id": "e897b0a8",
   "metadata": {},
   "source": [
    "Looking at [Section 4 BioAssays](https://pubchem.ncbi.nlm.nih.gov/protein/NP_001257783#section=BioAssays:~:text=4-,BioAssays,-3%20items), you can now see that two of these assays are classified as confirmatory, and one as a summary. Our focus will be on the two confirmatory assays [Bioassay AID 743065](https://pubchem.ncbi.nlm.nih.gov/bioassay/743065) and [Bioassasy AID 743066](https://pubchem.ncbi.nlm.nih.gov/bioassay/743066). Both are designed to measure activity at the thyroid receptor signalling pathway, but they test for two very different types of interactions. One screens for antagonist activity and the other for agonist activity, respectively. \n",
    "\n",
    "Definitions\n",
    "|Category|Description|\n",
    "|--------|----------|\n",
    "|*Agonist*| A molecule that binds to a receptor and activates it, producing a biological response similar to the endogenous ligand. May be referred to as a \"full agonist\" because it can match the effect of the endogenous ligand.|\n",
    "|*Antagonist*| A molecule that binds to a receptor and does not activate it. It blocks the active site of the target preventing the endogenous ligand (or an agonist) from binding and producing a response.|\n",
    "|*Partial Agonist*| A molecule that binds to and activates the target but to a lesser extent than the natural ligand or \"full\" agonists.|\n",
    "|*Inverse Agonist*| A molecule that binds to the receptor, but decreases its constituative (baseline) activity. Instead of blocking the effect like an antagonist, it actively causes the opposite effect.|"
   ]
  },
  {
   "cell_type": "markdown",
   "id": "9b5f0b99",
   "metadata": {},
   "source": [
    "This next code block simulates dose response curves to indicate how each of these types of interactions would like like in an experiment that measures EC<sub>50</sub>."
   ]
  },
  {
   "cell_type": "code",
   "execution_count": null,
   "id": "488df69b",
   "metadata": {},
   "outputs": [],
   "source": [
    "# Generated with ChatGPT Model 5 on 8/15/2025\n",
    "import numpy as np\n",
    "import matplotlib.pyplot as plt\n",
    "\n",
    "# Concentration range (µM) on a log scale\n",
    "concentration = np.logspace(-2, 2, 200)  # 0.01 to 100 µM\n",
    "\n",
    "# Define response functions\n",
    "def full_agonist(x):\n",
    "    return 100 * (x / (x + 1))   # Emax = 100%\n",
    "\n",
    "def partial_agonist(x):\n",
    "    return 50 * (x / (x + 1))    # Emax = 50%\n",
    "\n",
    "def inverse_agonist(x):\n",
    "    return -30 * (x / (x + 1))   # Negative effect (reduces baseline activity)\n",
    "\n",
    "def antagonist(x):\n",
    "    return np.zeros_like(x)      # No effect\n",
    "\n",
    "# Plot\n",
    "plt.figure(figsize=(7, 5))\n",
    "\n",
    "plt.semilogx(concentration, full_agonist(concentration), \n",
    "             label=\"Full Agonist\", linewidth=2)\n",
    "plt.semilogx(concentration, partial_agonist(concentration), \n",
    "             label=\"Partial Agonist\", linewidth=2)\n",
    "plt.semilogx(concentration, antagonist(concentration), \n",
    "             label=\"Antagonist\", linewidth=2, linestyle=\"--\", color=\"red\")\n",
    "plt.semilogx(concentration, inverse_agonist(concentration), \n",
    "             label=\"Inverse Agonist\", linewidth=2)\n",
    "\n",
    "\n",
    "# Formatting\n",
    "plt.axhline(0, color='black', linewidth=0.8)\n",
    "plt.xlabel(\"Ligand Concentration (µM, log scale)\", fontsize=12)\n",
    "plt.ylabel(\"Response (% of Max Effect)\", fontsize=12)\n",
    "plt.title(\"Dose–Response Curves for Different Ligand Types\", fontsize=14)\n",
    "plt.legend()\n",
    "plt.grid(True, which=\"both\", ls=\"--\", lw=0.5)\n",
    "\n",
    "plt.show()\n"
   ]
  },
  {
   "cell_type": "markdown",
   "id": "a1ec4f12",
   "metadata": {},
   "source": [
    "The dose response curve above shows that the full agonist results in a 100% of maximum effect, the partial agonist has a 50% maximal effect, the antagonist has no effect (remains at baseline), and the inverse agonist dereases baseline effect by 30%.\n"
   ]
  },
  {
   "cell_type": "markdown",
   "id": "988004b3",
   "metadata": {},
   "source": [
    "### Illustration of EC<sub>50</sub> and Full Agonism\n",
    "\n",
    "The following code block generates a plot of a hypothetical dose response curve analogous to what may be seen in a qHTS screen. "
   ]
  },
  {
   "cell_type": "code",
   "execution_count": null,
   "id": "8e2bca85",
   "metadata": {},
   "outputs": [],
   "source": [
    "# Generated with ChatGPT Model 5 on 8/15/2025\n",
    "import numpy as np\n",
    "import matplotlib.pyplot as plt\n",
    "\n",
    "# ---- Model & parameters ----\n",
    "def agonist(conc, EC50):\n",
    "    \"\"\"Simple Hill-like response with Hill coefficient = 1 and Emax = 100%.\"\"\"\n",
    "    return 100 * (conc / (conc + EC50))\n",
    "\n",
    "\n",
    "EC50_high = 0.01   # high potency agonist\n",
    "EC50_low  = 0.1    # low potency agonist\n",
    "\n",
    "# Concentration range (µM): 0.0001 to 10 on a log scale\n",
    "conc = np.logspace(-4, 1, 300)\n",
    "\n",
    "# Responses\n",
    "resp_high = agonist(conc, EC50_high)\n",
    "resp_low  = agonist(conc, EC50_low)\n",
    "\n",
    "# EC50 response level (50% of max)\n",
    "ec50_level = 50.0\n",
    "\n",
    "# ---- Plot ----\n",
    "plt.figure(figsize=(7, 5))\n",
    "\n",
    "# Dose–response curves\n",
    "plt.semilogx(conc, resp_high, label=\"High Potency (EC50 = 0.01 µM)\",\n",
    "             linewidth=2, color=\"blue\")\n",
    "plt.semilogx(conc, resp_low,  label=\"Low Potency (EC50 = 0.1 µM)\",\n",
    "             linewidth=2, linestyle=\"--\", color=\"blue\")\n",
    "\n",
    "# EC50 indicators:\n",
    "# Horizontal 50% line across the plot\n",
    "plt.axhline(ec50_level, color=\"black\", linewidth=1)\n",
    "\n",
    "# Vertical lines up to the 50% response level for each EC50\n",
    "plt.vlines(EC50_high, ymin=0, ymax=ec50_level, color=\"black\", linewidth=1)\n",
    "plt.vlines(EC50_low,  ymin=0, ymax=ec50_level, color=\"black\", linewidth=1)\n",
    "\n",
    "# Axes, labels, aesthetics\n",
    "plt.xlim(1e-4, 10)\n",
    "plt.ylim(0, 102)\n",
    "plt.xlabel(\"Ligand Concentration (µM, log scale)\", fontsize=12)\n",
    "plt.ylabel(\"Response (% of Max Effect)\", fontsize=12)\n",
    "plt.title(\"Dose–Response Curves with EC50 Indicators\", fontsize=14)\n",
    "plt.legend()\n",
    "plt.grid(True, which=\"both\", ls=\"--\", lw=0.5)\n",
    "\n",
    "plt.show()\n"
   ]
  },
  {
   "cell_type": "markdown",
   "id": "ddae56cf",
   "metadata": {},
   "source": [
    "Notice that these are both agonists resulting in 100% maximal biological response. The solid blue curve has a lower EC<sub>50</sub> than the dashed blue curve, meaning it is more potent as it takes a 0.01 µM concentration to elicit a 50% maximal response. There is a 10-fold difference in potency between the two molecules, but both are full agonists resulting in 100% biological response. "
   ]
  },
  {
   "cell_type": "markdown",
   "id": "6082ca3e",
   "metadata": {},
   "source": [
    "### Illustration of EC<sub>50</sub> and Partial Agonism"
   ]
  },
  {
   "cell_type": "code",
   "execution_count": null,
   "id": "8c800191",
   "metadata": {},
   "outputs": [],
   "source": [
    "# Generated with ChatGPT Model 5 on 8/15/2025\n",
    "import numpy as np\n",
    "import matplotlib.pyplot as plt\n",
    "\n",
    "# Hill-like response (n = 1) with configurable Emax and EC50\n",
    "def response(conc, EC50, Emax=100):\n",
    "    return Emax * (conc / (conc + EC50))\n",
    "\n",
    "# Parameters (µM)\n",
    "EC50_full = 0.01\n",
    "EC50_partial_orange = 0.003 # 80% Emax (orange curve)\n",
    "EC50_partial2 = 0.1          # 60% Emax\n",
    "\n",
    "# Concentration range (µM): 0.0001 to 10 on a log scale\n",
    "conc = np.logspace(-4, 1, 300)\n",
    "\n",
    "# Compute responses\n",
    "resp_full = response(conc, EC50_full, Emax=100)\n",
    "resp_partial_orange = response(conc, EC50_partial_orange, Emax=80)\n",
    "resp_partial2 = response(conc, EC50_partial2, Emax=60)\n",
    "\n",
    "# Plot\n",
    "plt.figure(figsize=(7,5))\n",
    "plt.semilogx(conc, resp_full, linewidth=2,\n",
    "             label=\"Full Agonist (EC50 = 0.01 µM)\", color=\"blue\")\n",
    "plt.semilogx(conc, resp_partial_orange, linewidth=2,\n",
    "             label=\"Partial Agonist\", color=\"darkorange\")\n",
    "plt.semilogx(conc, resp_partial2, linewidth=2,\n",
    "             label=\"Partial Agonist\", color=\"darkorange\", linestyle=\"--\")\n",
    "\n",
    "\n",
    "\n",
    "# Axis labels and formatting\n",
    "plt.xlabel(\"Ligand Concentration (µM, log scale)\", fontsize=12)\n",
    "plt.ylabel(\"Response (% of Max Effect)\", fontsize=12)\n",
    "plt.title(\"Dose–Response Curves: Full and Partial Agonists\", fontsize=14)\n",
    "plt.legend()\n",
    "plt.grid(True, which=\"both\", ls=\"--\", lw=0.5)\n",
    "plt.xlim(1e-4, 10)\n",
    "plt.ylim(0, 105)\n",
    "\n",
    "plt.show()\n"
   ]
  },
  {
   "cell_type": "markdown",
   "id": "aa8dff77",
   "metadata": {},
   "source": [
    "<div class=\"alert alert-block alert-warning\">\n",
    "\n",
    "<strong>Check your Understanding</strong>\n",
    "\n",
    "By only looking at the above graph:\n",
    "\n",
    "- Identify which partial agonist is more potent than the full agonist (solid orange or dashed)?\n",
    "- Determine the EC<sub>50</sub> values for each partial agonist."
   ]
  },
  {
   "cell_type": "markdown",
   "id": "66db81b5",
   "metadata": {},
   "source": [
    "Go back to [Section 4 BioAssays](https://pubchem.ncbi.nlm.nih.gov/protein/NP_001257783#section=BioAssays:~:text=4-,BioAssays,-3%20items) and let's click on the links for each bioassay. First we will look at [Bioassay AID 743066](https://pubchem.ncbi.nlm.nih.gov/bioassay/743066). \n",
    "\n",
    "On this page is a description of the assay and its protocol. In this bioassay, cells will turn on a luciferase pathway and light up when the thyroid pathway is activated. The positive control is T3, the endogenous ligand, and the negative control is DMSO, a common solvent used for dissolving compounds in these tests. After incubation, a luciferase reagent is added and the light output is measured.\n",
    "\n",
    "If a compound is an **agonist**, it should increase lumininescence. A full agonist will give the same light intensity, and a partial agonist will give lower intensity. The amount of compound needed is the measure of potency. If it is inactive, the signal will look like DMSO. The key aspect of this test is that T3 defines what activation looks like and agonists mimic T3 in the test, while non-agonists do not."
   ]
  },
  {
   "cell_type": "markdown",
   "id": "edda6e62",
   "metadata": {},
   "source": [
    "<div class=\"alert alert-block alert-warning\">\n",
    "\n",
    "<strong>Check your Understanding: Agonist-mode interpretation (T3 as positive control)</strong>\n",
    "\n",
    "In this assay, DMSO gives baseline light and T3 gives high light. You test four compounds at a single high concentration and record luminescence (relative to DMSO = 1.0, T3 = 1.0 means “same as T3,” etc.):\n",
    "\n",
    "|Compound| Luninescence vs. control|\n",
    "|-------|----------------------|\n",
    "|A| ~1.0 × T3 (same as T3)|\n",
    "|B| ~0.6 × T3 (above DMSO, below T3)|\n",
    "|C| ~1.0 × DMSO (same as DMSO)|\n",
    "|D|\t~1.0 × T3 (same as T3), but only after using much more compound than needed for T3|\n",
    "\n",
    " Classify A–D as a partial agonist, full agonist, or inactive, and comment on potency where relevant. Briefly justify each choice."
   ]
  },
  {
   "cell_type": "markdown",
   "id": "5dea0dd7",
   "metadata": {},
   "source": [
    "\n",
    "Now, let's look at [Bioassay AID 743065](https://pubchem.ncbi.nlm.nih.gov/bioassay/743065). In this bioassay, cells carrying the same luciferase gets the test compound or DMSO first. Then a fixed dose of 1 nM T3 is added to the cells and incubated for 24 hours. Then two different tests are administered. The first is to determine if the cells are still viable. If the cells are dead, they will not activate when the luciferase reagent is added and look the same as if antagonized. After cells are shown to be viable, antagonist activity can be determined. If the T3-induced light is decreased, the compound is an antagonist. If the light is the same as the T3 in vehicle, it is inactive. If the cells are dead, the molecule is determined to be cytotoxic."
   ]
  },
  {
   "cell_type": "markdown",
   "id": "14c45ba3",
   "metadata": {},
   "source": [
    "<div class=\"alert alert-block alert-warning\">\n",
    "\n",
    "<strong>Check your Understanding: Antagonist-mode with viability control (T3 added at 1 nM)</strong>\n",
    "\n",
    "In this assay, T3 + vehicle gives high light (activation). You test three compounds (each co-applied with 1 nM T3) and measure luminescence and cell viability:\n",
    "\n",
    "\n",
    "|CID| Luminescence vs. control(T3 alone)|Viabilility|\n",
    "|-------|----------------------|--------|\n",
    "|X| about the same as T3 control|95%|\n",
    "|Y| decreased 30% compared to T3|20%|\n",
    "|Z| decreased 40% compared to T3|98%|\n",
    "\n",
    " Classify X, Y, and Z as antagonist, inactive, or cytotoxic, and explain your reasoning using both luminescence and viability data."
   ]
  },
  {
   "cell_type": "markdown",
   "id": "b0ef697b",
   "metadata": {},
   "source": [
    "Go back to [Section 4 BioAssays](https://pubchem.ncbi.nlm.nih.gov/protein/NP_001257783#section=BioAssays:~:text=4-,BioAssays,-3%20items) and search for PubChem CID 5803. Click on any of the activity values or structure images that result from the search. This will take you to a new page that is the bioactivity dyad page indicating that these two pages are linked in some way.  \n",
    "\n",
    "Look at [Section 2: Bioactivities](https://pubchem.ncbi.nlm.nih.gov/protein/NP_001257783#cid=5803&section=Bioactivities:~:text=PubChem-,2%20Bioactivities,-6%20items) \n",
    "\n",
    "Identify the rows in the column that are associated with BioAssay AID 743066 and BioAssay AID 743065. "
   ]
  },
  {
   "cell_type": "markdown",
   "id": "4c86146a",
   "metadata": {},
   "source": [
    "<div class=\"alert alert-block alert-warning\">\n",
    "\n",
    "<strong>Check your Understanding</strong>\n",
    "\n",
    "- Is CID 5803 active or inactive in BioAssay AID 743066?\n",
    "- Is CID 5803 active or inactive in BioAssay AID 743065?\n",
    "- Is CID 5803 and agonist or an antagonist of the thyroid receptor signalling pathway?\n"
   ]
  },
  {
   "cell_type": "markdown",
   "id": "966e25f4",
   "metadata": {},
   "source": [
    " <div class=\"alert alert-block alert-success\">\n",
    "      <H1><center>Homework</center></H1>\n",
    "\n",
    "At the beginning of this notebook, it was suggested that molecules that are active for thyroid hormone receptor α can have serious side effects. \n",
    "\n",
    "Explore the [Related Bioactivities](https://pubchem.ncbi.nlm.nih.gov/protein/NP_001257783#cid=5803&section=Related-Bioactivities:~:text=PubChem-,3%20Related%20Bioactivities,-3.1%20Similar%20Proteins) section and similar proteins that CID 5803 was tested in. Is CID 5803 selective for THRβ protein, or should there be concern moving forward if this molecule was further developed?\n",
    "\n"
   ]
  },
  {
   "cell_type": "markdown",
   "id": "02adf588",
   "metadata": {},
   "source": [
    "# Acknowledgment\n",
    "\n",
    "This module was developed by Ehren Bucholtz and has a CC BY-NC-SA 4.0 license."
   ]
  }
 ],
 "metadata": {
  "kernelspec": {
   "display_name": "CHEM3351",
   "language": "python",
   "name": "python3"
  },
  "language_info": {
   "codemirror_mode": {
    "name": "ipython",
    "version": 3
   },
   "file_extension": ".py",
   "mimetype": "text/x-python",
   "name": "python",
   "nbconvert_exporter": "python",
   "pygments_lexer": "ipython3",
   "version": "3.13.5"
  }
 },
 "nbformat": 4,
 "nbformat_minor": 5
}
