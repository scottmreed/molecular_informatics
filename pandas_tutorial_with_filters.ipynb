{
 "cells": [
  {
   "cell_type": "markdown",
   "id": "313dd923",
   "metadata": {},
   "source": [
    "# Movie Ratings Analysis using Pandas\n",
    "This notebook demonstrates basic data manipulation with Pandas."
   ]
  },
  {
   "cell_type": "code",
   "execution_count": 6,
   "id": "3903bbd9",
   "metadata": {},
   "outputs": [],
   "source": [
    "import pandas as pd\n",
    "import os\n",
    "import matplotlib.pyplot as plt\n",
    "\n",
    "# Load dataset\n",
    "movie_ratings = pd.read_csv(os.path.join('data','movie_ratings.csv'))"
   ]
  },
  {
   "cell_type": "markdown",
   "id": "6f6f6119",
   "metadata": {},
   "source": [
    "### Summary of the Data"
   ]
  },
  {
   "cell_type": "code",
   "execution_count": null,
   "id": "728fe7a7",
   "metadata": {},
   "outputs": [],
   "source": [
    "movie_ratings.info()\n"
   ]
  },
  {
   "cell_type": "code",
   "execution_count": null,
   "id": "32c85543",
   "metadata": {},
   "outputs": [],
   "source": [
    "movie_ratings.head()"
   ]
  },
  {
   "cell_type": "markdown",
   "id": "5ace1b1f",
   "metadata": {},
   "source": [
    "### Selecting Specific Columns and Rows"
   ]
  },
  {
   "cell_type": "code",
   "execution_count": null,
   "id": "9d377e9a",
   "metadata": {},
   "outputs": [],
   "source": [
    "movie_ratings[['Movie Title', 'Rating']]"
   ]
  },
  {
   "cell_type": "markdown",
   "id": "d42341b8",
   "metadata": {},
   "source": [
    "### Finding the Most Common Ratings"
   ]
  },
  {
   "cell_type": "code",
   "execution_count": null,
   "id": "212ca2cc",
   "metadata": {},
   "outputs": [],
   "source": [
    "rating_counts = movie_ratings['Rating'].value_counts()\n",
    "rating_counts"
   ]
  },
  {
   "cell_type": "markdown",
   "id": "c757dcf5",
   "metadata": {},
   "source": [
    "### Plotting the Most Common Ratings"
   ]
  },
  {
   "cell_type": "code",
   "execution_count": null,
   "id": "988294d7",
   "metadata": {},
   "outputs": [],
   "source": [
    "rating_counts.plot(kind='bar')\n",
    "plt.title('Top 5 Most Common Movie Ratings')\n",
    "plt.xlabel('Rating')\n",
    "plt.ylabel('Frequency')\n",
    "plt.show()"
   ]
  },
  {
   "cell_type": "markdown",
   "id": "f05ff480",
   "metadata": {},
   "source": [
    "### Filtering Data Based on Conditions"
   ]
  },
  {
   "cell_type": "code",
   "execution_count": null,
   "id": "47057a17",
   "metadata": {},
   "outputs": [],
   "source": [
    "filtered_data = movie_ratings[movie_ratings['Rating'] == 5]\n",
    "filtered_data"
   ]
  },
  {
   "cell_type": "markdown",
   "id": "b5f257e1",
   "metadata": {},
   "source": [
    "### Filtering Data Based on Multiple Conditions"
   ]
  },
  {
   "cell_type": "code",
   "execution_count": null,
   "id": "dc81c709",
   "metadata": {},
   "outputs": [],
   "source": [
    "filtered_multiple_conditions = movie_ratings[(movie_ratings['Rating'] == 5) & (movie_ratings['Year'] > 2010)]\n",
    "filtered_multiple_conditions"
   ]
  },
  {
   "cell_type": "code",
   "execution_count": null,
   "id": "a4c6c53f",
   "metadata": {},
   "outputs": [],
   "source": []
  }
 ],
 "metadata": {
  "kernelspec": {
   "display_name": "molecular_informatics",
   "language": "python",
   "name": "python3"
  },
  "language_info": {
   "codemirror_mode": {
    "name": "ipython",
    "version": 3
   },
   "file_extension": ".py",
   "mimetype": "text/x-python",
   "name": "python",
   "nbconvert_exporter": "python",
   "pygments_lexer": "ipython3",
   "version": "3.11.9"
  }
 },
 "nbformat": 4,
 "nbformat_minor": 5
}
